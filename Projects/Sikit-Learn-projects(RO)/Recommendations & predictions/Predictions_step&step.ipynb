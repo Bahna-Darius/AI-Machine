{
 "cells": [
  {
   "cell_type": "markdown",
   "source": [
    "# Preziceri pentru Clienti Pas cu Pas:\n",
    "\n",
    "\n",
    "# 1. Import Data"
   ],
   "metadata": {
    "collapsed": false
   },
   "id": "a20fe09b55bd25eb"
  },
  {
   "cell_type": "code",
   "execution_count": 3,
   "id": "initial_id",
   "metadata": {
    "collapsed": true,
    "ExecuteTime": {
     "end_time": "2024-04-04T14:38:33.279064500Z",
     "start_time": "2024-04-04T14:38:32.566364300Z"
    }
   },
   "outputs": [
    {
     "data": {
      "text/plain": "        customer_name  pickup_city dropoff_city  total_income\n0       Timi Customer     New York  San Antonio           500\n1  Larisa Customer Co  Los Angeles    San Diego          1000\n2       Gabi Customer      Chicago        Texas          1500\n3       Raul Customer       Dallas     San Jose          2000\n4      Elias Customer  Mexico City       Austin          2500",
      "text/html": "<div>\n<style scoped>\n    .dataframe tbody tr th:only-of-type {\n        vertical-align: middle;\n    }\n\n    .dataframe tbody tr th {\n        vertical-align: top;\n    }\n\n    .dataframe thead th {\n        text-align: right;\n    }\n</style>\n<table border=\"1\" class=\"dataframe\">\n  <thead>\n    <tr style=\"text-align: right;\">\n      <th></th>\n      <th>customer_name</th>\n      <th>pickup_city</th>\n      <th>dropoff_city</th>\n      <th>total_income</th>\n    </tr>\n  </thead>\n  <tbody>\n    <tr>\n      <th>0</th>\n      <td>Timi Customer</td>\n      <td>New York</td>\n      <td>San Antonio</td>\n      <td>500</td>\n    </tr>\n    <tr>\n      <th>1</th>\n      <td>Larisa Customer Co</td>\n      <td>Los Angeles</td>\n      <td>San Diego</td>\n      <td>1000</td>\n    </tr>\n    <tr>\n      <th>2</th>\n      <td>Gabi Customer</td>\n      <td>Chicago</td>\n      <td>Texas</td>\n      <td>1500</td>\n    </tr>\n    <tr>\n      <th>3</th>\n      <td>Raul Customer</td>\n      <td>Dallas</td>\n      <td>San Jose</td>\n      <td>2000</td>\n    </tr>\n    <tr>\n      <th>4</th>\n      <td>Elias Customer</td>\n      <td>Mexico City</td>\n      <td>Austin</td>\n      <td>2500</td>\n    </tr>\n  </tbody>\n</table>\n</div>"
     },
     "execution_count": 3,
     "metadata": {},
     "output_type": "execute_result"
    }
   ],
   "source": [
    "import pandas as pd\n",
    "customers_data = pd.read_csv('customers.csv')\n",
    "customers_data"
   ]
  },
  {
   "cell_type": "markdown",
   "source": [],
   "metadata": {
    "collapsed": false
   },
   "id": "2f9a5002e22827e6"
  },
  {
   "cell_type": "markdown",
   "source": [
    "# 2. Clean the Data \n",
    "- Pentru acest tip de data nu este necaser sa Curatam Datele.\n",
    "- Dar trebuie sa impartim datele in 2 seturi de date separate !\n",
    "## Datele de intrare vor fi toate coloanele mai putin ultima coloana. \n",
    "## Datele de iesire (predictiile) va fi ultima coloana.\n",
    "\n"
   ],
   "metadata": {
    "collapsed": false
   },
   "id": "8c0ebdeee79e4c0f"
  },
  {
   "cell_type": "code",
   "outputs": [
    {
     "data": {
      "text/plain": "array([['Timi Customer', 'New York', 'San Antonio'],\n       ['Larisa Customer Co', 'Los Angeles', 'San Diego'],\n       ['Gabi Customer', 'Chicago', 'Texas'],\n       ['Raul Customer', 'Dallas', 'San Jose'],\n       ['Elias Customer', 'Mexico City', 'Austin']], dtype=object)"
     },
     "execution_count": 4,
     "metadata": {},
     "output_type": "execute_result"
    }
   ],
   "source": [
    "X = customers_data.iloc[:, :-1].values   # Datele de intrare\n",
    "X"
   ],
   "metadata": {
    "collapsed": false,
    "ExecuteTime": {
     "end_time": "2024-04-04T14:38:33.282066500Z",
     "start_time": "2024-04-04T14:38:33.250347200Z"
    }
   },
   "id": "c68dbd82cfe7f6cb",
   "execution_count": 4
  },
  {
   "cell_type": "code",
   "outputs": [
    {
     "data": {
      "text/plain": "array([ 500, 1000, 1500, 2000, 2500], dtype=int64)"
     },
     "execution_count": 5,
     "metadata": {},
     "output_type": "execute_result"
    }
   ],
   "source": [
    "y = customers_data.iloc[:, -1].values    # Datele de iesire\n",
    "y"
   ],
   "metadata": {
    "collapsed": false,
    "ExecuteTime": {
     "end_time": "2024-04-04T14:38:33.293064800Z",
     "start_time": "2024-04-04T14:38:33.261883100Z"
    }
   },
   "id": "1ba0d407ab676d58",
   "execution_count": 5
  },
  {
   "cell_type": "markdown",
   "source": [
    "## 2.1 Encoding categorical Data\n",
    "## Putem aplica 2 metode populare:\n",
    "<hr>\n",
    "(Label Encoding): Dacă datele de ieșire reprezintă clase sau categorii ordonate, poți folosi codificarea etichetelor. Acest lucru presupune transformarea fiecărei etichete într-un număr întreg, astfel încât să poată fi utilizată de algoritmi. De exemplu, dacă ai clasele \"Cățel\", \"Pisică\" și \"Șoarece\", le-ai putea transforma în 0, 1 și 2.\n",
    "\n",
    "(Acesta metoda este utila atunci cand avem date ordonate cum ar fi chiar si datele de intrare de tip ['S', 'M', 'L'] care reprezinta dimensiunile unor haine, sau 'YES', 'NO' care reprezinta raspunsuri la intrebari)\n",
    "\n",
    "<hr>\n",
    "(One-Hot Encoding): Dacă datele de ieșire reprezintă clase sau categorii care nu sunt ordonate, poți folosi codificarea one-hot. Această metodă transformă fiecare clasă într-un vector binar, în care doar una dintre componentele este 1, corespunzătoare clasei respective. De exemplu, dacă ai clasele \"Roșu\", \"Verde\" și \"Albastru\", transformarea ar fi [1, 0, 0], [0, 1, 0] și [0, 0, 1], respectiv.\n",
    "<hr>\n",
    "\n",
    "\n",
    "## > Encoding the Independent Variable (datele de intrare vor fi converite) <\n",
    "## Acest pas este un pas importat in pregatirea datelor deoarece asigura ca modelul invata corect!\n",
    "### Modelele de ML lucreaza intotdeaua cu DATE NUMERICE avand date de tip categoric (customer_name, pickup_city, dropoff_city). Pentru a face predicti cat mai bune si precise avem nevoie sa codificam datele categorice (str) in date numerice (int).\n",
    "### Una din cele mai comune metode este ONE-HOT ENCODING (acesta metoda converteste valoriile categorice intr-o coloana noua binara care contine un set de numere binare cu 0 si 1.\n",
    "Pentru datele noastre din ['customer_name'] vom transforma acesta coloana in 5 coloane categorice deoarece avem 5 nume diferite.\n",
    "\n",
    "Exemplu:\n",
    "Avem o coloana ['Culoare'] in care avem valoriile ['Rosu', 'Verde', 'Albastru']. După codificarea one-hot, această coloană va fi divizată în trei coloane separate: \"Culoare_Rosu\" [1 0 0], \"Culoare_Verde\" [0 1 0] și \"Culoare_Albastru\" [0 0 1].\n",
    "\n",
    "Importarea modulelor:\n",
    "- OneHotEncoder o folosim pentru a aplica metoda ONE-HOT ENCODING\n",
    "- ColumnTransformer este o clasa pe care o folosim pentru aplicarea transformari specifice ale coloanelor.\n",
    "\n",
    "Parametrii ColumnTransformer:\n",
    "- transformers= parametru cheie care reprezinta o lista de tupluri care definesc transf. aplicate.\n",
    "- - 'encoder' nume pentru transformare\n",
    "- - OneHotEncoder() este obiectul transformatorului\n",
    "- -  [0, 1, 2] lista de index ale coloanelor pe care se aplica transformarea\n",
    "- remainder= acest parametru specifica ce se intampla cu coloanele care nu sunt afectate de transformers, 'passthrough' pastrarea lor nemodificate\n",
    "\n",
    "## > Encoding the Dependent Variable (datele de iesire vor fi convertite) <\n",
    "## Daca aveam si datele de iesire de tip str trebuiau convertite\n"
   ],
   "metadata": {
    "collapsed": false
   },
   "id": "7951f0bccf8d41fd"
  },
  {
   "cell_type": "code",
   "outputs": [
    {
     "data": {
      "text/plain": "array([[0., 0., 0., 0., 1., 0., 0., 0., 0., 1., 0., 1., 0., 0., 0.],\n       [0., 0., 1., 0., 0., 0., 0., 1., 0., 0., 0., 0., 1., 0., 0.],\n       [0., 1., 0., 0., 0., 1., 0., 0., 0., 0., 0., 0., 0., 0., 1.],\n       [0., 0., 0., 1., 0., 0., 1., 0., 0., 0., 0., 0., 0., 1., 0.],\n       [1., 0., 0., 0., 0., 0., 0., 0., 1., 0., 1., 0., 0., 0., 0.]])"
     },
     "execution_count": 6,
     "metadata": {},
     "output_type": "execute_result"
    }
   ],
   "source": [
    "from sklearn.compose import ColumnTransformer\n",
    "from sklearn.preprocessing import OneHotEncoder\n",
    "import numpy as np\n",
    "\n",
    "ct = ColumnTransformer(transformers=[('encoder', OneHotEncoder(), [0, 1, 2])\n",
    "                                     ],\n",
    "                       remainder='passthrough'\n",
    "                       )\n",
    "# X = np.array(   # convertim OBJ intr-un array Numpy deoarece avem nevoie de o matrice Numpy pt a instrui modelele\n",
    "#     ct.fit_transform(X)     # aplica transformările specificate în transformator la setul de date X\n",
    "# )\n",
    "\n",
    "X = ct.fit_transform(X)     # aplica transformările specificate în transformator la setul de date X\n",
    "X = X.toarray()   # convertim matricea rară într-un array numpy dens\n",
    "X"
   ],
   "metadata": {
    "collapsed": false,
    "ExecuteTime": {
     "end_time": "2024-04-04T14:38:33.404403900Z",
     "start_time": "2024-04-04T14:38:33.271068600Z"
    }
   },
   "id": "996cd89f5406927b",
   "execution_count": 6
  },
  {
   "cell_type": "markdown",
   "source": [],
   "metadata": {
    "collapsed": false
   },
   "id": "128a8520c77bdf44"
  },
  {
   "cell_type": "markdown",
   "source": [
    "# 3. Split the Data into Training/Test Sets\n",
    "## Vom desparti datele in 2 seturi de date: un set de date de antrenament si un set de date de testare.\n",
    "### Setul de date de antrenament va fi folosit pentru a antrena modelul.\n",
    "### Setul de date de testare va fi folosit pentru a testa cât de bine funcționează modelul pe date noi, pe care nu le-a văzut în timpul antrenamentului (new observation). Aceste new observation sunt datele pe care modelul nu le-a vazut in timpul antrenamentului si pe care le va folosi pentru a face predictii.\n",
    "\n",
    "- Impartim datele de intrare X in 2 seturi de date: X_train si X_test (80% din date vor fi pentru antrenament si 20% pentru testare), acelasi lucru il facem si pentru datele de iesire y."
   ],
   "metadata": {
    "collapsed": false
   },
   "id": "ef37c36adef58aea"
  },
  {
   "cell_type": "code",
   "outputs": [],
   "source": [
    "from sklearn.model_selection import train_test_split\n",
    "\n",
    "# functia va returna o lista de tuple, fiecare tuplu contine 2 elemente: X_train, X_test, y_train, y_test\n",
    "X_train, X_test, y_train, y_test= train_test_split(X, y, test_size=0.2, random_state=1)   # test_size=0.2 reprezinta 20% din date pentru testare"
   ],
   "metadata": {
    "collapsed": false,
    "ExecuteTime": {
     "end_time": "2024-04-04T14:38:33.551804800Z",
     "start_time": "2024-04-04T14:38:33.317344Z"
    }
   },
   "id": "781f6dac60c4f156",
   "execution_count": 7
  },
  {
   "cell_type": "markdown",
   "source": [
    "Deciziile luate pentru cei 4 Customers din y_train ii corespund pentru cei 4 Customers din X_train. 80%\n",
    "\n",
    "Deciziile luate pentru 1 Customers din y_test ii corespund pentru cel 1 Customers din X_test. 20%  Aceste date le vom obtine mai tarziu din productie."
   ],
   "metadata": {
    "collapsed": false
   },
   "id": "2976c87c9bdb302b"
  },
  {
   "cell_type": "code",
   "outputs": [
    {
     "data": {
      "text/plain": "array([[0., 0., 1., 0., 0., 0., 0., 1., 0., 0., 0., 0., 1., 0., 0.],\n       [1., 0., 0., 0., 0., 0., 0., 0., 1., 0., 1., 0., 0., 0., 0.],\n       [0., 0., 0., 0., 1., 0., 0., 0., 0., 1., 0., 1., 0., 0., 0.],\n       [0., 0., 0., 1., 0., 0., 1., 0., 0., 0., 0., 0., 0., 1., 0.]])"
     },
     "execution_count": 8,
     "metadata": {},
     "output_type": "execute_result"
    }
   ],
   "source": [
    "X_train"
   ],
   "metadata": {
    "collapsed": false,
    "ExecuteTime": {
     "end_time": "2024-04-04T14:38:33.609667Z",
     "start_time": "2024-04-04T14:38:33.384094700Z"
    }
   },
   "id": "cf591559b6bfe9dc",
   "execution_count": 8
  },
  {
   "cell_type": "code",
   "outputs": [
    {
     "data": {
      "text/plain": "array([1000, 2500,  500, 2000], dtype=int64)"
     },
     "execution_count": 9,
     "metadata": {},
     "output_type": "execute_result"
    }
   ],
   "source": [
    "y_train"
   ],
   "metadata": {
    "collapsed": false,
    "ExecuteTime": {
     "end_time": "2024-04-04T14:38:33.620692Z",
     "start_time": "2024-04-04T14:38:33.390477700Z"
    }
   },
   "id": "4684302804bc5f2f",
   "execution_count": 9
  },
  {
   "cell_type": "code",
   "outputs": [],
   "source": [],
   "metadata": {
    "collapsed": false,
    "ExecuteTime": {
     "end_time": "2024-04-04T14:38:33.695186300Z",
     "start_time": "2024-04-04T14:38:33.401407600Z"
    }
   },
   "id": "667bd6d038251f45",
   "execution_count": 9
  },
  {
   "cell_type": "code",
   "outputs": [
    {
     "data": {
      "text/plain": "array([[0., 1., 0., 0., 0., 1., 0., 0., 0., 0., 0., 0., 0., 0., 1.]])"
     },
     "execution_count": 10,
     "metadata": {},
     "output_type": "execute_result"
    }
   ],
   "source": [
    "X_test"
   ],
   "metadata": {
    "collapsed": false,
    "ExecuteTime": {
     "end_time": "2024-04-04T14:38:33.715186700Z",
     "start_time": "2024-04-04T14:38:33.408404600Z"
    }
   },
   "id": "5f228365595e4320",
   "execution_count": 10
  },
  {
   "cell_type": "code",
   "outputs": [
    {
     "data": {
      "text/plain": "array([1500], dtype=int64)"
     },
     "execution_count": 11,
     "metadata": {},
     "output_type": "execute_result"
    }
   ],
   "source": [
    "y_test"
   ],
   "metadata": {
    "collapsed": false,
    "ExecuteTime": {
     "end_time": "2024-04-04T14:38:33.716186900Z",
     "start_time": "2024-04-04T14:38:33.422682Z"
    }
   },
   "id": "b2a893c6e3ff96d0",
   "execution_count": 11
  },
  {
   "cell_type": "markdown",
   "source": [
    "# 3.1 Feature Scaling\n",
    "## Feature Scaling este un pas important în pregătirea datelor, deoarece modelele de ML se bazează pe distanțe între puncte pentru a face predicții. Dacă datele nu sunt scalate, caracteristicile cu valori mai mari vor avea un impact mai mare asupra modelului decât caracteristicile cu valori mai mici. Acest lucru poate duce la rezultate incorecte.\n",
    "## Anumite modele de ML, cum ar fi regresia liniară, regresia logistică și k-NN, necesită scalarea caracteristicilor pentru a funcționa corect. Dar pentru DecizionTreeClassifier nu este necesar. "
   ],
   "metadata": {
    "collapsed": false
   },
   "id": "b27a713aab53de62"
  },
  {
   "cell_type": "markdown",
   "source": [],
   "metadata": {
    "collapsed": false
   },
   "id": "33541ebda224c3c0"
  },
  {
   "cell_type": "markdown",
   "source": [],
   "metadata": {
    "collapsed": false
   },
   "id": "ccb9175b08496185"
  },
  {
   "cell_type": "markdown",
   "source": [
    "# 4. Create a Model (DecizionTreeClassifier algoritm supervizat pentru clasificari)\n",
    "## Acest algoritm ia decizii bazat pe datele de intrare si le clasifica intr-una sau mai multe clase.\n",
    "### Explicatie din viata reala: E ca un detectiv care incerca sa rezolva un caz. Are un set de indicii (datele de intrare) despre cazul pe care il investigheaza si incearca sa decida cine este vinovatul.\n",
    "### Acest algoritm construieste ca un arbore plin cu indicii care reprezinta o intrebare despre caracteristicile datelor. In functie de raspuns el se deplaseaza prin arbore  si incearca sa ia o decizie.\n",
    "\n",
    "Un alt exemplu ar fi:\n",
    "- De exemplu, să spunem că aveți un set de date cu caracteristici despre fructe (cum ar fi culoarea, forma, dimensiunea etc.) și doriți să clasificați fiecare fruct într-una din trei clase: măr, portocaliu sau banană. DecizionTreeClassifier ar putea începe prin a pune întrebarea: \"Este fructul roșu?\" Dacă răspunsul este \"da\", ar putea decide că este un măr. Dacă răspunsul este \"nu\", ar putea pune o altă întrebare, cum ar fi \"Este fructul rotund?\" și așa mai departe, până când ajunge la o clasificare finală pentru fiecare fruct.\n",
    "\n",
    "### În esență, DecizionTreeClassifier este un instrument puternic pentru clasificare, deoarece poate învăța din datele de antrenament și poate face preziceri precise pe baza acestora. \n",
    "\n",
    "Pasi:\n",
    "- Creem o instanta a modelului"
   ],
   "metadata": {
    "collapsed": false
   },
   "id": "b1a87583427db8f0"
  },
  {
   "cell_type": "code",
   "outputs": [],
   "source": [
    "from sklearn.tree import DecisionTreeClassifier\n",
    "\n",
    "model = DecisionTreeClassifier()"
   ],
   "metadata": {
    "collapsed": false,
    "ExecuteTime": {
     "end_time": "2024-04-04T14:38:33.718193600Z",
     "start_time": "2024-04-04T14:38:33.433343900Z"
    }
   },
   "id": "5a5d3e8477e20510",
   "execution_count": 12
  },
  {
   "cell_type": "markdown",
   "source": [
    "# 5. Train the Model\n",
    "##  Antrenarea modelului înseamnă să îi oferi datele de antrenament și să îi permiți să învețe de la aceste date. În esență, modelul va încerca să înțeleagă relațiile dintre datele de intrare și datele de ieșire, astfel încât să poată face predicții precise pe date noi."
   ],
   "metadata": {
    "collapsed": false
   },
   "id": "644241d054ddbf4c"
  },
  {
   "cell_type": "code",
   "outputs": [
    {
     "data": {
      "text/plain": "DecisionTreeClassifier()",
      "text/html": "<style>#sk-container-id-1 {\n  /* Definition of color scheme common for light and dark mode */\n  --sklearn-color-text: black;\n  --sklearn-color-line: gray;\n  /* Definition of color scheme for unfitted estimators */\n  --sklearn-color-unfitted-level-0: #fff5e6;\n  --sklearn-color-unfitted-level-1: #f6e4d2;\n  --sklearn-color-unfitted-level-2: #ffe0b3;\n  --sklearn-color-unfitted-level-3: chocolate;\n  /* Definition of color scheme for fitted estimators */\n  --sklearn-color-fitted-level-0: #f0f8ff;\n  --sklearn-color-fitted-level-1: #d4ebff;\n  --sklearn-color-fitted-level-2: #b3dbfd;\n  --sklearn-color-fitted-level-3: cornflowerblue;\n\n  /* Specific color for light theme */\n  --sklearn-color-text-on-default-background: var(--sg-text-color, var(--theme-code-foreground, var(--jp-content-font-color1, black)));\n  --sklearn-color-background: var(--sg-background-color, var(--theme-background, var(--jp-layout-color0, white)));\n  --sklearn-color-border-box: var(--sg-text-color, var(--theme-code-foreground, var(--jp-content-font-color1, black)));\n  --sklearn-color-icon: #696969;\n\n  @media (prefers-color-scheme: dark) {\n    /* Redefinition of color scheme for dark theme */\n    --sklearn-color-text-on-default-background: var(--sg-text-color, var(--theme-code-foreground, var(--jp-content-font-color1, white)));\n    --sklearn-color-background: var(--sg-background-color, var(--theme-background, var(--jp-layout-color0, #111)));\n    --sklearn-color-border-box: var(--sg-text-color, var(--theme-code-foreground, var(--jp-content-font-color1, white)));\n    --sklearn-color-icon: #878787;\n  }\n}\n\n#sk-container-id-1 {\n  color: var(--sklearn-color-text);\n}\n\n#sk-container-id-1 pre {\n  padding: 0;\n}\n\n#sk-container-id-1 input.sk-hidden--visually {\n  border: 0;\n  clip: rect(1px 1px 1px 1px);\n  clip: rect(1px, 1px, 1px, 1px);\n  height: 1px;\n  margin: -1px;\n  overflow: hidden;\n  padding: 0;\n  position: absolute;\n  width: 1px;\n}\n\n#sk-container-id-1 div.sk-dashed-wrapped {\n  border: 1px dashed var(--sklearn-color-line);\n  margin: 0 0.4em 0.5em 0.4em;\n  box-sizing: border-box;\n  padding-bottom: 0.4em;\n  background-color: var(--sklearn-color-background);\n}\n\n#sk-container-id-1 div.sk-container {\n  /* jupyter's `normalize.less` sets `[hidden] { display: none; }`\n     but bootstrap.min.css set `[hidden] { display: none !important; }`\n     so we also need the `!important` here to be able to override the\n     default hidden behavior on the sphinx rendered scikit-learn.org.\n     See: https://github.com/scikit-learn/scikit-learn/issues/21755 */\n  display: inline-block !important;\n  position: relative;\n}\n\n#sk-container-id-1 div.sk-text-repr-fallback {\n  display: none;\n}\n\ndiv.sk-parallel-item,\ndiv.sk-serial,\ndiv.sk-item {\n  /* draw centered vertical line to link estimators */\n  background-image: linear-gradient(var(--sklearn-color-text-on-default-background), var(--sklearn-color-text-on-default-background));\n  background-size: 2px 100%;\n  background-repeat: no-repeat;\n  background-position: center center;\n}\n\n/* Parallel-specific style estimator block */\n\n#sk-container-id-1 div.sk-parallel-item::after {\n  content: \"\";\n  width: 100%;\n  border-bottom: 2px solid var(--sklearn-color-text-on-default-background);\n  flex-grow: 1;\n}\n\n#sk-container-id-1 div.sk-parallel {\n  display: flex;\n  align-items: stretch;\n  justify-content: center;\n  background-color: var(--sklearn-color-background);\n  position: relative;\n}\n\n#sk-container-id-1 div.sk-parallel-item {\n  display: flex;\n  flex-direction: column;\n}\n\n#sk-container-id-1 div.sk-parallel-item:first-child::after {\n  align-self: flex-end;\n  width: 50%;\n}\n\n#sk-container-id-1 div.sk-parallel-item:last-child::after {\n  align-self: flex-start;\n  width: 50%;\n}\n\n#sk-container-id-1 div.sk-parallel-item:only-child::after {\n  width: 0;\n}\n\n/* Serial-specific style estimator block */\n\n#sk-container-id-1 div.sk-serial {\n  display: flex;\n  flex-direction: column;\n  align-items: center;\n  background-color: var(--sklearn-color-background);\n  padding-right: 1em;\n  padding-left: 1em;\n}\n\n\n/* Toggleable style: style used for estimator/Pipeline/ColumnTransformer box that is\nclickable and can be expanded/collapsed.\n- Pipeline and ColumnTransformer use this feature and define the default style\n- Estimators will overwrite some part of the style using the `sk-estimator` class\n*/\n\n/* Pipeline and ColumnTransformer style (default) */\n\n#sk-container-id-1 div.sk-toggleable {\n  /* Default theme specific background. It is overwritten whether we have a\n  specific estimator or a Pipeline/ColumnTransformer */\n  background-color: var(--sklearn-color-background);\n}\n\n/* Toggleable label */\n#sk-container-id-1 label.sk-toggleable__label {\n  cursor: pointer;\n  display: block;\n  width: 100%;\n  margin-bottom: 0;\n  padding: 0.5em;\n  box-sizing: border-box;\n  text-align: center;\n}\n\n#sk-container-id-1 label.sk-toggleable__label-arrow:before {\n  /* Arrow on the left of the label */\n  content: \"▸\";\n  float: left;\n  margin-right: 0.25em;\n  color: var(--sklearn-color-icon);\n}\n\n#sk-container-id-1 label.sk-toggleable__label-arrow:hover:before {\n  color: var(--sklearn-color-text);\n}\n\n/* Toggleable content - dropdown */\n\n#sk-container-id-1 div.sk-toggleable__content {\n  max-height: 0;\n  max-width: 0;\n  overflow: hidden;\n  text-align: left;\n  /* unfitted */\n  background-color: var(--sklearn-color-unfitted-level-0);\n}\n\n#sk-container-id-1 div.sk-toggleable__content.fitted {\n  /* fitted */\n  background-color: var(--sklearn-color-fitted-level-0);\n}\n\n#sk-container-id-1 div.sk-toggleable__content pre {\n  margin: 0.2em;\n  border-radius: 0.25em;\n  color: var(--sklearn-color-text);\n  /* unfitted */\n  background-color: var(--sklearn-color-unfitted-level-0);\n}\n\n#sk-container-id-1 div.sk-toggleable__content.fitted pre {\n  /* unfitted */\n  background-color: var(--sklearn-color-fitted-level-0);\n}\n\n#sk-container-id-1 input.sk-toggleable__control:checked~div.sk-toggleable__content {\n  /* Expand drop-down */\n  max-height: 200px;\n  max-width: 100%;\n  overflow: auto;\n}\n\n#sk-container-id-1 input.sk-toggleable__control:checked~label.sk-toggleable__label-arrow:before {\n  content: \"▾\";\n}\n\n/* Pipeline/ColumnTransformer-specific style */\n\n#sk-container-id-1 div.sk-label input.sk-toggleable__control:checked~label.sk-toggleable__label {\n  color: var(--sklearn-color-text);\n  background-color: var(--sklearn-color-unfitted-level-2);\n}\n\n#sk-container-id-1 div.sk-label.fitted input.sk-toggleable__control:checked~label.sk-toggleable__label {\n  background-color: var(--sklearn-color-fitted-level-2);\n}\n\n/* Estimator-specific style */\n\n/* Colorize estimator box */\n#sk-container-id-1 div.sk-estimator input.sk-toggleable__control:checked~label.sk-toggleable__label {\n  /* unfitted */\n  background-color: var(--sklearn-color-unfitted-level-2);\n}\n\n#sk-container-id-1 div.sk-estimator.fitted input.sk-toggleable__control:checked~label.sk-toggleable__label {\n  /* fitted */\n  background-color: var(--sklearn-color-fitted-level-2);\n}\n\n#sk-container-id-1 div.sk-label label.sk-toggleable__label,\n#sk-container-id-1 div.sk-label label {\n  /* The background is the default theme color */\n  color: var(--sklearn-color-text-on-default-background);\n}\n\n/* On hover, darken the color of the background */\n#sk-container-id-1 div.sk-label:hover label.sk-toggleable__label {\n  color: var(--sklearn-color-text);\n  background-color: var(--sklearn-color-unfitted-level-2);\n}\n\n/* Label box, darken color on hover, fitted */\n#sk-container-id-1 div.sk-label.fitted:hover label.sk-toggleable__label.fitted {\n  color: var(--sklearn-color-text);\n  background-color: var(--sklearn-color-fitted-level-2);\n}\n\n/* Estimator label */\n\n#sk-container-id-1 div.sk-label label {\n  font-family: monospace;\n  font-weight: bold;\n  display: inline-block;\n  line-height: 1.2em;\n}\n\n#sk-container-id-1 div.sk-label-container {\n  text-align: center;\n}\n\n/* Estimator-specific */\n#sk-container-id-1 div.sk-estimator {\n  font-family: monospace;\n  border: 1px dotted var(--sklearn-color-border-box);\n  border-radius: 0.25em;\n  box-sizing: border-box;\n  margin-bottom: 0.5em;\n  /* unfitted */\n  background-color: var(--sklearn-color-unfitted-level-0);\n}\n\n#sk-container-id-1 div.sk-estimator.fitted {\n  /* fitted */\n  background-color: var(--sklearn-color-fitted-level-0);\n}\n\n/* on hover */\n#sk-container-id-1 div.sk-estimator:hover {\n  /* unfitted */\n  background-color: var(--sklearn-color-unfitted-level-2);\n}\n\n#sk-container-id-1 div.sk-estimator.fitted:hover {\n  /* fitted */\n  background-color: var(--sklearn-color-fitted-level-2);\n}\n\n/* Specification for estimator info (e.g. \"i\" and \"?\") */\n\n/* Common style for \"i\" and \"?\" */\n\n.sk-estimator-doc-link,\na:link.sk-estimator-doc-link,\na:visited.sk-estimator-doc-link {\n  float: right;\n  font-size: smaller;\n  line-height: 1em;\n  font-family: monospace;\n  background-color: var(--sklearn-color-background);\n  border-radius: 1em;\n  height: 1em;\n  width: 1em;\n  text-decoration: none !important;\n  margin-left: 1ex;\n  /* unfitted */\n  border: var(--sklearn-color-unfitted-level-1) 1pt solid;\n  color: var(--sklearn-color-unfitted-level-1);\n}\n\n.sk-estimator-doc-link.fitted,\na:link.sk-estimator-doc-link.fitted,\na:visited.sk-estimator-doc-link.fitted {\n  /* fitted */\n  border: var(--sklearn-color-fitted-level-1) 1pt solid;\n  color: var(--sklearn-color-fitted-level-1);\n}\n\n/* On hover */\ndiv.sk-estimator:hover .sk-estimator-doc-link:hover,\n.sk-estimator-doc-link:hover,\ndiv.sk-label-container:hover .sk-estimator-doc-link:hover,\n.sk-estimator-doc-link:hover {\n  /* unfitted */\n  background-color: var(--sklearn-color-unfitted-level-3);\n  color: var(--sklearn-color-background);\n  text-decoration: none;\n}\n\ndiv.sk-estimator.fitted:hover .sk-estimator-doc-link.fitted:hover,\n.sk-estimator-doc-link.fitted:hover,\ndiv.sk-label-container:hover .sk-estimator-doc-link.fitted:hover,\n.sk-estimator-doc-link.fitted:hover {\n  /* fitted */\n  background-color: var(--sklearn-color-fitted-level-3);\n  color: var(--sklearn-color-background);\n  text-decoration: none;\n}\n\n/* Span, style for the box shown on hovering the info icon */\n.sk-estimator-doc-link span {\n  display: none;\n  z-index: 9999;\n  position: relative;\n  font-weight: normal;\n  right: .2ex;\n  padding: .5ex;\n  margin: .5ex;\n  width: min-content;\n  min-width: 20ex;\n  max-width: 50ex;\n  color: var(--sklearn-color-text);\n  box-shadow: 2pt 2pt 4pt #999;\n  /* unfitted */\n  background: var(--sklearn-color-unfitted-level-0);\n  border: .5pt solid var(--sklearn-color-unfitted-level-3);\n}\n\n.sk-estimator-doc-link.fitted span {\n  /* fitted */\n  background: var(--sklearn-color-fitted-level-0);\n  border: var(--sklearn-color-fitted-level-3);\n}\n\n.sk-estimator-doc-link:hover span {\n  display: block;\n}\n\n/* \"?\"-specific style due to the `<a>` HTML tag */\n\n#sk-container-id-1 a.estimator_doc_link {\n  float: right;\n  font-size: 1rem;\n  line-height: 1em;\n  font-family: monospace;\n  background-color: var(--sklearn-color-background);\n  border-radius: 1rem;\n  height: 1rem;\n  width: 1rem;\n  text-decoration: none;\n  /* unfitted */\n  color: var(--sklearn-color-unfitted-level-1);\n  border: var(--sklearn-color-unfitted-level-1) 1pt solid;\n}\n\n#sk-container-id-1 a.estimator_doc_link.fitted {\n  /* fitted */\n  border: var(--sklearn-color-fitted-level-1) 1pt solid;\n  color: var(--sklearn-color-fitted-level-1);\n}\n\n/* On hover */\n#sk-container-id-1 a.estimator_doc_link:hover {\n  /* unfitted */\n  background-color: var(--sklearn-color-unfitted-level-3);\n  color: var(--sklearn-color-background);\n  text-decoration: none;\n}\n\n#sk-container-id-1 a.estimator_doc_link.fitted:hover {\n  /* fitted */\n  background-color: var(--sklearn-color-fitted-level-3);\n}\n</style><div id=\"sk-container-id-1\" class=\"sk-top-container\"><div class=\"sk-text-repr-fallback\"><pre>DecisionTreeClassifier()</pre><b>In a Jupyter environment, please rerun this cell to show the HTML representation or trust the notebook. <br />On GitHub, the HTML representation is unable to render, please try loading this page with nbviewer.org.</b></div><div class=\"sk-container\" hidden><div class=\"sk-item\"><div class=\"sk-estimator fitted sk-toggleable\"><input class=\"sk-toggleable__control sk-hidden--visually\" id=\"sk-estimator-id-1\" type=\"checkbox\" checked><label for=\"sk-estimator-id-1\" class=\"sk-toggleable__label fitted sk-toggleable__label-arrow fitted\">&nbsp;&nbsp;DecisionTreeClassifier<a class=\"sk-estimator-doc-link fitted\" rel=\"noreferrer\" target=\"_blank\" href=\"https://scikit-learn.org/1.4/modules/generated/sklearn.tree.DecisionTreeClassifier.html\">?<span>Documentation for DecisionTreeClassifier</span></a><span class=\"sk-estimator-doc-link fitted\">i<span>Fitted</span></span></label><div class=\"sk-toggleable__content fitted\"><pre>DecisionTreeClassifier()</pre></div> </div></div></div></div>"
     },
     "execution_count": 13,
     "metadata": {},
     "output_type": "execute_result"
    }
   ],
   "source": [
    "model.fit(X_train, y_train)"
   ],
   "metadata": {
    "collapsed": false,
    "ExecuteTime": {
     "end_time": "2024-04-04T14:38:33.746701700Z",
     "start_time": "2024-04-04T14:38:33.545802300Z"
    }
   },
   "id": "2684eccc49977fed",
   "execution_count": 13
  },
  {
   "cell_type": "markdown",
   "source": [
    "# 6. Make Predictions\n",
    "## După ce modelul a fost antrenat, putem folosi metoda predict() pentru a face predicții pe date noi. Aceste date noi pot fi date pe care modelul nu le-a văzut în timpul antrenamentului. Ii oferim X_test (datele de intrare) și modelul va returna predicțiile pentru aceste date.\n",
    "\n",
    "Nu ii furnizam y_test (datele de ieșire) deoarece acestea sunt valorile pe care modelul ar trebui să le prezică daca i le-am oferi i-am oferi direct raspunsul, aste ne-ar afecta calcularea acuratetii modelului."
   ],
   "metadata": {
    "collapsed": false
   },
   "id": "59867fbd424f27b6"
  },
  {
   "cell_type": "code",
   "outputs": [
    {
     "data": {
      "text/plain": "array([2500], dtype=int64)"
     },
     "execution_count": 14,
     "metadata": {},
     "output_type": "execute_result"
    }
   ],
   "source": [
    "predictions = model.predict(X_test)\n",
    "predictions  "
   ],
   "metadata": {
    "collapsed": false,
    "ExecuteTime": {
     "end_time": "2024-04-04T14:38:33.747701400Z",
     "start_time": "2024-04-04T14:38:33.562371Z"
    }
   },
   "id": "a1cd5792035006cc",
   "execution_count": 14
  },
  {
   "cell_type": "markdown",
   "source": [
    "# 6.1 Accuracy\n",
    "## Pentru a evalua cât de bine funcționează modelul, putem calcula acuratețea acestuia. Acuratețea este o măsură a cât de bine modelul face predicții corecte pe datele de testare.\n",
    "\n",
    "## Ii oferim y_test (valorile reale) si predictions (valorile prezise de model) si metoda accuracy_score() va returna acuratețea modelului.\n",
    "\n",
    "- y_test: reprezinta raspunsul corect pentru datele din preziceri \n",
    "- predictions: reprezinta valoriile prezise de model"
   ],
   "metadata": {
    "collapsed": false
   },
   "id": "ac44477b83c4f90b"
  },
  {
   "cell_type": "code",
   "outputs": [
    {
     "data": {
      "text/plain": "0.0"
     },
     "execution_count": 15,
     "metadata": {},
     "output_type": "execute_result"
    }
   ],
   "source": [
    "from sklearn.metrics import accuracy_score\n",
    "\n",
    "accuracy = accuracy_score(y_test, predictions)\n",
    "accuracy"
   ],
   "metadata": {
    "collapsed": false,
    "ExecuteTime": {
     "end_time": "2024-04-04T14:38:33.878224200Z",
     "start_time": "2024-04-04T14:38:33.568518900Z"
    }
   },
   "id": "47c32503efb4b449",
   "execution_count": 15
  },
  {
   "cell_type": "markdown",
   "source": [],
   "metadata": {
    "collapsed": false
   },
   "id": "7c19af2fadada47"
  },
  {
   "cell_type": "markdown",
   "source": [],
   "metadata": {
    "collapsed": false
   },
   "id": "b9313d24183a2916"
  },
  {
   "cell_type": "markdown",
   "source": [
    "# 7. Evaluate the Model\n",
    "## Pentru a evalua cât de bine funcționează modelul, putem compara predicțiile modelului cu valorile reale din setul de date de testare. Acest lucru ne va oferi o idee despre cât de precis este modelul în predicția datelor noi."
   ],
   "metadata": {
    "collapsed": false
   },
   "id": "2b5393f1dde7027f"
  },
  {
   "cell_type": "code",
   "outputs": [
    {
     "data": {
      "text/plain": "   Raspuns Corect  Raspuns Model\n0            1500           2500",
      "text/html": "<div>\n<style scoped>\n    .dataframe tbody tr th:only-of-type {\n        vertical-align: middle;\n    }\n\n    .dataframe tbody tr th {\n        vertical-align: top;\n    }\n\n    .dataframe thead th {\n        text-align: right;\n    }\n</style>\n<table border=\"1\" class=\"dataframe\">\n  <thead>\n    <tr style=\"text-align: right;\">\n      <th></th>\n      <th>Raspuns Corect</th>\n      <th>Raspuns Model</th>\n    </tr>\n  </thead>\n  <tbody>\n    <tr>\n      <th>0</th>\n      <td>1500</td>\n      <td>2500</td>\n    </tr>\n  </tbody>\n</table>\n</div>"
     },
     "execution_count": 16,
     "metadata": {},
     "output_type": "execute_result"
    }
   ],
   "source": [
    "raspuns_model = predictions\n",
    "raspuns_corect = y_test\n",
    "\n",
    "raspuns = pd.DataFrame({'Raspuns Corect': raspuns_corect, 'Raspuns Model': raspuns_model})\n",
    "raspuns"
   ],
   "metadata": {
    "collapsed": false,
    "ExecuteTime": {
     "end_time": "2024-04-04T14:38:33.881222300Z",
     "start_time": "2024-04-04T14:38:33.580677500Z"
    }
   },
   "id": "f01b81c7784199a",
   "execution_count": 16
  },
  {
   "cell_type": "markdown",
   "source": [],
   "metadata": {
    "collapsed": false
   },
   "id": "31834bf4c71d9381"
  },
  {
   "cell_type": "markdown",
   "source": [],
   "metadata": {
    "collapsed": false
   },
   "id": "79d0cbad0ca3b022"
  },
  {
   "cell_type": "markdown",
   "source": [],
   "metadata": {
    "collapsed": false
   },
   "id": "ff39f6c5732ce18"
  },
  {
   "cell_type": "markdown",
   "source": [],
   "metadata": {
    "collapsed": false
   },
   "id": "14dc6a04520999a8"
  },
  {
   "cell_type": "markdown",
   "source": [
    "# !!! Persisting Models !!!\n",
    "\n",
    "## O data ce am antrenat modelul nostru, il vom salva intr-un file astfel incat data viitoare cand dormi sa facem predictii pur si simplu incarcam modelul si facem prezicerii.\n",
    "## Modelul fiind deja antrenat nu mai trebuie sa il reantrenam inca o data.\n",
    "\n",
    "Indicat e sa salvam modelul fara preziceri, deoarece prezicerile sunt doar pentru datele de testare si nu pentru datele noi.\n",
    "\n",
    "Functia _joblib este o functie din sklearn care ne ajuta sa salvam modelul intr-un fisier."
   ],
   "metadata": {
    "collapsed": false
   },
   "id": "75757f2548cf5f40"
  },
  {
   "cell_type": "code",
   "outputs": [
    {
     "data": {
      "text/plain": "['model.joblib']"
     },
     "execution_count": 19,
     "metadata": {},
     "output_type": "execute_result"
    }
   ],
   "source": [
    "from sklearn.utils import _joblib\n",
    "from sklearn.compose import ColumnTransformer\n",
    "from sklearn.preprocessing import OneHotEncoder\n",
    "from sklearn.model_selection import train_test_split\n",
    "from sklearn.tree import DecisionTreeClassifier\n",
    "import pandas as pd\n",
    "\n",
    "\n",
    "customers_data = pd.read_csv('customers.csv')\n",
    "\n",
    "X = customers_data.iloc[:, :-1].values\n",
    "y = customers_data.iloc[:, -1].values\n",
    "\n",
    "ct = ColumnTransformer(transformers=[('encoder', OneHotEncoder(), [0, 1, 2])],\n",
    "                       remainder='passthrough'\n",
    "                       )\n",
    "\n",
    "X = ct.fit_transform(X) \n",
    "X = X.toarray() \n",
    "\n",
    "X_train, X_test, y_train, y_test= train_test_split(X, y, test_size=0.2, random_state=1)   \n",
    "\n",
    "model = DecisionTreeClassifier()\n",
    "model.fit(X_train, y_train)\n",
    "\n",
    "\n",
    "\n",
    "_joblib.dump(model, 'model.joblib')\n"
   ],
   "metadata": {
    "collapsed": false,
    "ExecuteTime": {
     "end_time": "2024-04-04T14:41:05.084659100Z",
     "start_time": "2024-04-04T14:41:05.051779900Z"
    }
   },
   "id": "f790ba7586e63879",
   "execution_count": 19
  },
  {
   "cell_type": "markdown",
   "source": [
    "## Incarcam modelul salvat si facem predictii pentru datele de testare.\n",
    "## Astfel acum putem face predictii cu un model deja antrenat fara a mai antrena modelul inca o data."
   ],
   "metadata": {
    "collapsed": false
   },
   "id": "b7a52b01907a40c3"
  },
  {
   "cell_type": "code",
   "outputs": [
    {
     "data": {
      "text/plain": "array([1000], dtype=int64)"
     },
     "execution_count": 26,
     "metadata": {},
     "output_type": "execute_result"
    }
   ],
   "source": [
    "model = _joblib.load('model.joblib')\n",
    "prediction_model = model.predict(X_test)\n",
    "prediction_model"
   ],
   "metadata": {
    "collapsed": false,
    "ExecuteTime": {
     "end_time": "2024-04-04T14:49:00.622902300Z",
     "start_time": "2024-04-04T14:49:00.600503100Z"
    }
   },
   "id": "fb78b43e2cdaa019",
   "execution_count": 26
  },
  {
   "cell_type": "markdown",
   "source": [],
   "metadata": {
    "collapsed": false
   },
   "id": "a84fc0e13a18beb"
  },
  {
   "cell_type": "markdown",
   "source": [],
   "metadata": {
    "collapsed": false
   },
   "id": "3dae836daa774348"
  },
  {
   "cell_type": "markdown",
   "source": [],
   "metadata": {
    "collapsed": false
   },
   "id": "88df0db5661b32c1"
  },
  {
   "cell_type": "markdown",
   "source": [],
   "metadata": {
    "collapsed": false
   },
   "id": "6c3604325858b9b2"
  },
  {
   "cell_type": "markdown",
   "source": [],
   "metadata": {
    "collapsed": false
   },
   "id": "ed1bb6dcf9b7fd41"
  }
 ],
 "metadata": {
  "kernelspec": {
   "display_name": "Python 3",
   "language": "python",
   "name": "python3"
  },
  "language_info": {
   "codemirror_mode": {
    "name": "ipython",
    "version": 2
   },
   "file_extension": ".py",
   "mimetype": "text/x-python",
   "name": "python",
   "nbconvert_exporter": "python",
   "pygments_lexer": "ipython2",
   "version": "2.7.6"
  }
 },
 "nbformat": 4,
 "nbformat_minor": 5
}
