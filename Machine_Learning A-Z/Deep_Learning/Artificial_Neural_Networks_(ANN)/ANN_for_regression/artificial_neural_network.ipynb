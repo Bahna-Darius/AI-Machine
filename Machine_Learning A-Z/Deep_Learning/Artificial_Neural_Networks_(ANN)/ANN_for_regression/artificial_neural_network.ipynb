{
 "nbformat": 4,
 "nbformat_minor": 0,
 "metadata": {
  "colab": {
   "name": "Artificial Neural Network",
   "provenance": [],
   "collapsed_sections": [],
   "toc_visible": true
  },
  "kernelspec": {
   "name": "python3",
   "language": "python",
   "display_name": "Python 3 (ipykernel)"
  }
 },
 "cells": [
  {
   "cell_type": "markdown",
   "metadata": {
    "id": "3cbb7fRy-eyr",
    "colab_type": "text"
   },
   "source": [
    "# Artificial Neural Network"
   ]
  },
  {
   "cell_type": "markdown",
   "metadata": {
    "id": "8sNDnxE2-pwE",
    "colab_type": "text"
   },
   "source": [
    "### Importing the libraries"
   ]
  },
  {
   "cell_type": "code",
   "metadata": {
    "id": "lxChR1Rk-umf",
    "colab_type": "code",
    "colab": {},
    "ExecuteTime": {
     "end_time": "2024-05-30T12:24:58.486165500Z",
     "start_time": "2024-05-30T12:24:45.080289600Z"
    }
   },
   "source": [
    "import numpy as np\n",
    "import pandas as pd\n",
    "import tensorflow as tf"
   ],
   "execution_count": 1,
   "outputs": [
    {
     "name": "stdout",
     "output_type": "stream",
     "text": [
      "WARNING:tensorflow:From C:\\Users\\Darius\\PycharmProjects\\Machine learning AI\\.venv\\Lib\\site-packages\\keras\\src\\losses.py:2976: The name tf.losses.sparse_softmax_cross_entropy is deprecated. Please use tf.compat.v1.losses.sparse_softmax_cross_entropy instead.\n"
     ]
    }
   ]
  },
  {
   "cell_type": "code",
   "metadata": {
    "id": "uBTqR3nacj0e",
    "colab_type": "code",
    "colab": {
     "base_uri": "https://localhost:8080/",
     "height": 34
    },
    "outputId": "4c0bd183-e424-429a-9fba-ceb841c06888",
    "ExecuteTime": {
     "end_time": "2024-05-30T12:24:58.501164300Z",
     "start_time": "2024-05-30T12:24:58.479224400Z"
    }
   },
   "source": [
    "tf.__version__"
   ],
   "execution_count": 2,
   "outputs": [
    {
     "data": {
      "text/plain": "'2.15.0'"
     },
     "execution_count": 2,
     "metadata": {},
     "output_type": "execute_result"
    }
   ]
  },
  {
   "cell_type": "markdown",
   "metadata": {
    "id": "AG3FQEch-yuA",
    "colab_type": "text"
   },
   "source": [
    "## Part 1 - Data Preprocessing"
   ]
  },
  {
   "cell_type": "markdown",
   "metadata": {
    "id": "-4zq8Mza_D9O",
    "colab_type": "text"
   },
   "source": [
    "### Importing the dataset"
   ]
  },
  {
   "cell_type": "code",
   "metadata": {
    "id": "B9CV13Co_HHM",
    "colab_type": "code",
    "colab": {},
    "ExecuteTime": {
     "end_time": "2024-05-30T12:24:59.414681900Z",
     "start_time": "2024-05-30T12:24:58.490166300Z"
    }
   },
   "source": [
    "dataset = pd.read_excel('Folds5x2_pp.xlsx')\n",
    "X = dataset.iloc[:, :-1].values\n",
    "y = dataset.iloc[:, -1].values"
   ],
   "execution_count": 3,
   "outputs": []
  },
  {
   "cell_type": "markdown",
   "metadata": {
    "id": "VC6omXel_Up0",
    "colab_type": "text"
   },
   "source": [
    "### Splitting the dataset into the Training set and Test set"
   ]
  },
  {
   "cell_type": "code",
   "metadata": {
    "id": "L5edeb2r_agx",
    "colab_type": "code",
    "colab": {},
    "ExecuteTime": {
     "end_time": "2024-05-30T12:25:01.794784500Z",
     "start_time": "2024-05-30T12:24:59.409681700Z"
    }
   },
   "source": [
    "from sklearn.model_selection import train_test_split\n",
    "X_train, X_test, y_train, y_test = train_test_split(X, y, test_size = 0.2, random_state = 0)"
   ],
   "execution_count": 4,
   "outputs": []
  },
  {
   "cell_type": "markdown",
   "metadata": {
    "id": "_mSLlAT9_eyI",
    "colab_type": "text"
   },
   "source": [
    "## Part 2 - Building the ANN"
   ]
  },
  {
   "cell_type": "markdown",
   "metadata": {
    "id": "CsBULd_f_wLY",
    "colab_type": "text"
   },
   "source": [
    "### Initializing the ANN"
   ]
  },
  {
   "cell_type": "code",
   "metadata": {
    "id": "J6Hd97Ls__Nz",
    "colab_type": "code",
    "colab": {},
    "ExecuteTime": {
     "end_time": "2024-05-30T12:25:02.313441800Z",
     "start_time": "2024-05-30T12:25:01.798786400Z"
    }
   },
   "source": [
    "ann = tf.keras.models.Sequential()"
   ],
   "execution_count": 5,
   "outputs": [
    {
     "name": "stdout",
     "output_type": "stream",
     "text": [
      "WARNING:tensorflow:From C:\\Users\\Darius\\PycharmProjects\\Machine learning AI\\.venv\\Lib\\site-packages\\keras\\src\\backend.py:873: The name tf.get_default_graph is deprecated. Please use tf.compat.v1.get_default_graph instead.\n"
     ]
    }
   ]
  },
  {
   "cell_type": "markdown",
   "metadata": {
    "id": "iitAFJS_ABUn",
    "colab_type": "text"
   },
   "source": [
    "### Adding the input layer and the first hidden layer"
   ]
  },
  {
   "cell_type": "code",
   "metadata": {
    "id": "ksO_Vv40AHix",
    "colab_type": "code",
    "colab": {},
    "ExecuteTime": {
     "end_time": "2024-05-30T12:25:02.329460Z",
     "start_time": "2024-05-30T12:25:02.312432300Z"
    }
   },
   "source": [
    "ann.add(tf.keras.layers.Dense(units=6, activation='relu'))"
   ],
   "execution_count": 6,
   "outputs": []
  },
  {
   "cell_type": "markdown",
   "metadata": {
    "id": "-lb4kK_wAKbs",
    "colab_type": "text"
   },
   "source": [
    "### Adding the second hidden layer"
   ]
  },
  {
   "cell_type": "code",
   "metadata": {
    "id": "c2357OqEAQOQ",
    "colab_type": "code",
    "colab": {},
    "ExecuteTime": {
     "end_time": "2024-05-30T12:25:02.345884Z",
     "start_time": "2024-05-30T12:25:02.330983500Z"
    }
   },
   "source": [
    "ann.add(tf.keras.layers.Dense(units=6, activation='relu'))"
   ],
   "execution_count": 7,
   "outputs": []
  },
  {
   "cell_type": "markdown",
   "metadata": {
    "id": "jwMOmKb3AdBY",
    "colab_type": "text"
   },
   "source": [
    "### Adding the output layer"
   ]
  },
  {
   "cell_type": "code",
   "metadata": {
    "id": "YFATpzsUAkLL",
    "colab_type": "code",
    "colab": {},
    "ExecuteTime": {
     "end_time": "2024-05-30T12:25:02.385387400Z",
     "start_time": "2024-05-30T12:25:02.337984500Z"
    }
   },
   "source": [
    "ann.add(tf.keras.layers.Dense(units=1))     # No need activation function for regression, for classification use 'sigmoid' or 'softmax'"
   ],
   "execution_count": 8,
   "outputs": []
  },
  {
   "cell_type": "markdown",
   "metadata": {
    "id": "fq7e4fF6A1yy",
    "colab_type": "text"
   },
   "source": [
    "## Part 3 - Training the ANN"
   ]
  },
  {
   "cell_type": "markdown",
   "metadata": {
    "id": "qDeylAs2An25",
    "colab_type": "text"
   },
   "source": [
    "### Compiling the ANN"
   ]
  },
  {
   "cell_type": "code",
   "metadata": {
    "id": "pesgbWlCAtB4",
    "colab_type": "code",
    "colab": {},
    "ExecuteTime": {
     "end_time": "2024-05-30T12:25:02.501232900Z",
     "start_time": "2024-05-30T12:25:02.347862600Z"
    }
   },
   "source": [
    "ann.compile(optimizer = 'adam', loss = 'mean_squared_error')"
   ],
   "execution_count": 9,
   "outputs": [
    {
     "name": "stdout",
     "output_type": "stream",
     "text": [
      "WARNING:tensorflow:From C:\\Users\\Darius\\PycharmProjects\\Machine learning AI\\.venv\\Lib\\site-packages\\keras\\src\\optimizers\\__init__.py:309: The name tf.train.Optimizer is deprecated. Please use tf.compat.v1.train.Optimizer instead.\n"
     ]
    }
   ]
  },
  {
   "cell_type": "markdown",
   "metadata": {
    "id": "YjVuiybYOo7r",
    "colab_type": "text"
   },
   "source": [
    "### Training the ANN model on the Training set"
   ]
  },
  {
   "cell_type": "code",
   "metadata": {
    "id": "c_vV-tiiA5zn",
    "colab_type": "code",
    "colab": {
     "base_uri": "https://localhost:8080/",
     "height": 1000
    },
    "outputId": "4a2b6ee6-ed75-4698-9069-b250e613803f",
    "ExecuteTime": {
     "end_time": "2024-05-30T12:25:37.304462400Z",
     "start_time": "2024-05-30T12:25:02.501232900Z"
    }
   },
   "source": [
    "ann.fit(X_train, y_train, batch_size = 32, epochs = 100)"
   ],
   "execution_count": 10,
   "outputs": [
    {
     "name": "stdout",
     "output_type": "stream",
     "text": [
      "Epoch 1/100\n",
      "WARNING:tensorflow:From C:\\Users\\Darius\\PycharmProjects\\Machine learning AI\\.venv\\Lib\\site-packages\\keras\\src\\utils\\tf_utils.py:492: The name tf.ragged.RaggedTensorValue is deprecated. Please use tf.compat.v1.ragged.RaggedTensorValue instead.\n",
      "240/240 [==============================] - 2s 2ms/step - loss: 24841.2031\n",
      "Epoch 2/100\n",
      "240/240 [==============================] - 0s 2ms/step - loss: 190.7899\n",
      "Epoch 3/100\n",
      "240/240 [==============================] - 0s 2ms/step - loss: 182.4549\n",
      "Epoch 4/100\n",
      "240/240 [==============================] - 0s 2ms/step - loss: 172.1852\n",
      "Epoch 5/100\n",
      "240/240 [==============================] - 0s 2ms/step - loss: 160.2223\n",
      "Epoch 6/100\n",
      "240/240 [==============================] - 0s 2ms/step - loss: 147.4719\n",
      "Epoch 7/100\n",
      "240/240 [==============================] - 0s 1ms/step - loss: 133.9352\n",
      "Epoch 8/100\n",
      "240/240 [==============================] - 0s 2ms/step - loss: 120.3124\n",
      "Epoch 9/100\n",
      "240/240 [==============================] - 0s 2ms/step - loss: 107.3568\n",
      "Epoch 10/100\n",
      "240/240 [==============================] - 0s 1ms/step - loss: 94.2748\n",
      "Epoch 11/100\n",
      "240/240 [==============================] - 0s 1ms/step - loss: 82.2169\n",
      "Epoch 12/100\n",
      "240/240 [==============================] - 0s 2ms/step - loss: 71.5776\n",
      "Epoch 13/100\n",
      "240/240 [==============================] - 0s 1ms/step - loss: 62.1779\n",
      "Epoch 14/100\n",
      "240/240 [==============================] - 0s 1ms/step - loss: 54.0018\n",
      "Epoch 15/100\n",
      "240/240 [==============================] - 0s 1ms/step - loss: 47.3748\n",
      "Epoch 16/100\n",
      "240/240 [==============================] - 0s 2ms/step - loss: 42.1830\n",
      "Epoch 17/100\n",
      "240/240 [==============================] - 0s 1ms/step - loss: 38.1336\n",
      "Epoch 18/100\n",
      "240/240 [==============================] - 0s 1ms/step - loss: 35.0005\n",
      "Epoch 19/100\n",
      "240/240 [==============================] - 0s 2ms/step - loss: 32.6543\n",
      "Epoch 20/100\n",
      "240/240 [==============================] - 0s 1ms/step - loss: 30.7937\n",
      "Epoch 21/100\n",
      "240/240 [==============================] - 0s 1ms/step - loss: 29.8677\n",
      "Epoch 22/100\n",
      "240/240 [==============================] - 0s 2ms/step - loss: 28.9994\n",
      "Epoch 23/100\n",
      "240/240 [==============================] - 0s 1ms/step - loss: 28.8928\n",
      "Epoch 24/100\n",
      "240/240 [==============================] - 0s 1ms/step - loss: 28.3481\n",
      "Epoch 25/100\n",
      "240/240 [==============================] - 0s 1ms/step - loss: 28.4288\n",
      "Epoch 26/100\n",
      "240/240 [==============================] - 0s 1ms/step - loss: 27.7302\n",
      "Epoch 27/100\n",
      "240/240 [==============================] - 0s 1ms/step - loss: 27.9933\n",
      "Epoch 28/100\n",
      "240/240 [==============================] - 0s 1ms/step - loss: 27.6865\n",
      "Epoch 29/100\n",
      "240/240 [==============================] - 0s 1ms/step - loss: 28.0550\n",
      "Epoch 30/100\n",
      "240/240 [==============================] - 0s 1ms/step - loss: 27.4347\n",
      "Epoch 31/100\n",
      "240/240 [==============================] - 0s 1ms/step - loss: 27.4750\n",
      "Epoch 32/100\n",
      "240/240 [==============================] - 0s 1ms/step - loss: 27.2479\n",
      "Epoch 33/100\n",
      "240/240 [==============================] - 0s 1ms/step - loss: 26.9798\n",
      "Epoch 34/100\n",
      "240/240 [==============================] - 0s 2ms/step - loss: 27.4592\n",
      "Epoch 35/100\n",
      "240/240 [==============================] - 0s 1ms/step - loss: 27.3624\n",
      "Epoch 36/100\n",
      "240/240 [==============================] - 0s 2ms/step - loss: 26.9521\n",
      "Epoch 37/100\n",
      "240/240 [==============================] - 0s 1ms/step - loss: 27.0991\n",
      "Epoch 38/100\n",
      "240/240 [==============================] - 0s 2ms/step - loss: 27.6785\n",
      "Epoch 39/100\n",
      "240/240 [==============================] - 0s 2ms/step - loss: 27.0662\n",
      "Epoch 40/100\n",
      "240/240 [==============================] - 0s 1ms/step - loss: 27.0303\n",
      "Epoch 41/100\n",
      "240/240 [==============================] - 0s 1ms/step - loss: 26.9365\n",
      "Epoch 42/100\n",
      "240/240 [==============================] - 0s 1ms/step - loss: 27.4548\n",
      "Epoch 43/100\n",
      "240/240 [==============================] - 0s 2ms/step - loss: 26.7652\n",
      "Epoch 44/100\n",
      "240/240 [==============================] - 0s 1ms/step - loss: 27.7840\n",
      "Epoch 45/100\n",
      "240/240 [==============================] - 0s 1ms/step - loss: 26.5269\n",
      "Epoch 46/100\n",
      "240/240 [==============================] - 0s 1ms/step - loss: 26.7178\n",
      "Epoch 47/100\n",
      "240/240 [==============================] - 0s 1ms/step - loss: 27.6988\n",
      "Epoch 48/100\n",
      "240/240 [==============================] - 0s 1ms/step - loss: 27.2913\n",
      "Epoch 49/100\n",
      "240/240 [==============================] - 0s 1ms/step - loss: 26.8503\n",
      "Epoch 50/100\n",
      "240/240 [==============================] - 0s 1ms/step - loss: 27.1736\n",
      "Epoch 51/100\n",
      "240/240 [==============================] - 0s 1ms/step - loss: 26.9046\n",
      "Epoch 52/100\n",
      "240/240 [==============================] - 0s 1ms/step - loss: 26.4670\n",
      "Epoch 53/100\n",
      "240/240 [==============================] - 0s 1ms/step - loss: 27.0017\n",
      "Epoch 54/100\n",
      "240/240 [==============================] - 0s 1ms/step - loss: 26.7703\n",
      "Epoch 55/100\n",
      "240/240 [==============================] - 0s 1ms/step - loss: 26.9598\n",
      "Epoch 56/100\n",
      "240/240 [==============================] - 0s 1ms/step - loss: 27.1517\n",
      "Epoch 57/100\n",
      "240/240 [==============================] - 0s 1ms/step - loss: 27.5317\n",
      "Epoch 58/100\n",
      "240/240 [==============================] - 0s 1ms/step - loss: 27.9112\n",
      "Epoch 59/100\n",
      "240/240 [==============================] - 0s 1ms/step - loss: 27.2694\n",
      "Epoch 60/100\n",
      "240/240 [==============================] - 0s 1ms/step - loss: 27.2155\n",
      "Epoch 61/100\n",
      "240/240 [==============================] - 0s 1ms/step - loss: 27.1816\n",
      "Epoch 62/100\n",
      "240/240 [==============================] - 0s 1ms/step - loss: 26.9314\n",
      "Epoch 63/100\n",
      "240/240 [==============================] - 0s 1ms/step - loss: 26.3928\n",
      "Epoch 64/100\n",
      "240/240 [==============================] - 0s 1ms/step - loss: 26.5059\n",
      "Epoch 65/100\n",
      "240/240 [==============================] - 0s 1ms/step - loss: 27.3025\n",
      "Epoch 66/100\n",
      "240/240 [==============================] - 0s 1ms/step - loss: 26.4552\n",
      "Epoch 67/100\n",
      "240/240 [==============================] - 0s 1ms/step - loss: 27.8099\n",
      "Epoch 68/100\n",
      "240/240 [==============================] - 0s 1ms/step - loss: 27.5541\n",
      "Epoch 69/100\n",
      "240/240 [==============================] - 0s 1ms/step - loss: 27.6551\n",
      "Epoch 70/100\n",
      "240/240 [==============================] - 0s 1ms/step - loss: 27.6216\n",
      "Epoch 71/100\n",
      "240/240 [==============================] - 0s 1ms/step - loss: 26.4542\n",
      "Epoch 72/100\n",
      "240/240 [==============================] - 0s 1ms/step - loss: 27.0041\n",
      "Epoch 73/100\n",
      "240/240 [==============================] - 0s 1ms/step - loss: 26.9003\n",
      "Epoch 74/100\n",
      "240/240 [==============================] - 0s 1ms/step - loss: 26.6127\n",
      "Epoch 75/100\n",
      "240/240 [==============================] - 0s 1ms/step - loss: 26.6163\n",
      "Epoch 76/100\n",
      "240/240 [==============================] - 0s 1ms/step - loss: 26.9118\n",
      "Epoch 77/100\n",
      "240/240 [==============================] - 0s 1ms/step - loss: 26.8864\n",
      "Epoch 78/100\n",
      "240/240 [==============================] - 0s 1ms/step - loss: 27.5098\n",
      "Epoch 79/100\n",
      "240/240 [==============================] - 0s 1ms/step - loss: 27.0597\n",
      "Epoch 80/100\n",
      "240/240 [==============================] - 0s 1ms/step - loss: 27.2671\n",
      "Epoch 81/100\n",
      "240/240 [==============================] - 0s 2ms/step - loss: 26.8869\n",
      "Epoch 82/100\n",
      "240/240 [==============================] - 0s 1ms/step - loss: 26.6897\n",
      "Epoch 83/100\n",
      "240/240 [==============================] - 0s 1ms/step - loss: 27.1601\n",
      "Epoch 84/100\n",
      "240/240 [==============================] - 0s 1ms/step - loss: 27.4582\n",
      "Epoch 85/100\n",
      "240/240 [==============================] - 0s 1ms/step - loss: 26.9039\n",
      "Epoch 86/100\n",
      "240/240 [==============================] - 0s 1ms/step - loss: 27.0042\n",
      "Epoch 87/100\n",
      "240/240 [==============================] - 0s 2ms/step - loss: 26.6391\n",
      "Epoch 88/100\n",
      "240/240 [==============================] - 0s 1ms/step - loss: 26.9808\n",
      "Epoch 89/100\n",
      "240/240 [==============================] - 0s 1ms/step - loss: 26.4323\n",
      "Epoch 90/100\n",
      "240/240 [==============================] - 0s 1ms/step - loss: 26.9052\n",
      "Epoch 91/100\n",
      "240/240 [==============================] - 0s 1ms/step - loss: 27.1341\n",
      "Epoch 92/100\n",
      "240/240 [==============================] - 0s 1ms/step - loss: 27.0649\n",
      "Epoch 93/100\n",
      "240/240 [==============================] - 0s 1ms/step - loss: 26.9205\n",
      "Epoch 94/100\n",
      "240/240 [==============================] - 0s 1ms/step - loss: 27.4245\n",
      "Epoch 95/100\n",
      "240/240 [==============================] - 0s 1ms/step - loss: 27.4631\n",
      "Epoch 96/100\n",
      "240/240 [==============================] - 0s 1ms/step - loss: 26.8292\n",
      "Epoch 97/100\n",
      "240/240 [==============================] - 0s 1ms/step - loss: 26.8682\n",
      "Epoch 98/100\n",
      "240/240 [==============================] - 0s 2ms/step - loss: 26.8289\n",
      "Epoch 99/100\n",
      "240/240 [==============================] - 0s 1ms/step - loss: 27.2459\n",
      "Epoch 100/100\n",
      "240/240 [==============================] - 0s 1ms/step - loss: 27.3116\n"
     ]
    },
    {
     "data": {
      "text/plain": "<keras.src.callbacks.History at 0x2442827ab50>"
     },
     "execution_count": 10,
     "metadata": {},
     "output_type": "execute_result"
    }
   ]
  },
  {
   "cell_type": "markdown",
   "metadata": {
    "id": "0H0zKKNEBLD5",
    "colab_type": "text"
   },
   "source": [
    "### Predicting the results of the Test set"
   ]
  },
  {
   "cell_type": "code",
   "metadata": {
    "id": "IA0yApEmBG1X",
    "colab_type": "code",
    "colab": {
     "base_uri": "https://localhost:8080/",
     "height": 134
    },
    "outputId": "cb981e1f-9204-4a2a-fece-9d66a6919189",
    "ExecuteTime": {
     "end_time": "2024-05-30T12:25:37.572828Z",
     "start_time": "2024-05-30T12:25:37.302459900Z"
    }
   },
   "source": [
    "y_pred = ann.predict(X_test)\n",
    "np.set_printoptions(precision=2)    # Set the decimal point to 2\n",
    "print(np.concatenate((y_pred.reshape(len(y_pred),1), y_test.reshape(len(y_test),1)),1))  # Reshape to vertical"
   ],
   "execution_count": 11,
   "outputs": [
    {
     "name": "stdout",
     "output_type": "stream",
     "text": [
      "60/60 [==============================] - 0s 1ms/step\n",
      "[[430.04 431.23]\n",
      " [461.06 460.01]\n",
      " [464.52 461.14]\n",
      " ...\n",
      " [471.8  473.26]\n",
      " [438.65 438.  ]\n",
      " [457.84 463.28]]\n"
     ]
    }
   ]
  }
 ]
}
