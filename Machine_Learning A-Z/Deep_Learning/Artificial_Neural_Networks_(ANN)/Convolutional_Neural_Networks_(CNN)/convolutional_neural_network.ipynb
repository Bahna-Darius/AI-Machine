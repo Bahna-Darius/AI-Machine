{
 "nbformat": 4,
 "nbformat_minor": 0,
 "metadata": {
  "colab": {
   "name": "convolutional_neural_network.ipynb",
   "provenance": [],
   "collapsed_sections": [],
   "toc_visible": true
  },
  "kernelspec": {
   "name": "python3",
   "language": "python",
   "display_name": "Python 3 (ipykernel)"
  }
 },
 "cells": [
  {
   "cell_type": "markdown",
   "metadata": {
    "id": "3DR-eO17geWu",
    "colab_type": "text"
   },
   "source": [
    "# Convolutional Neural Network"
   ]
  },
  {
   "cell_type": "markdown",
   "metadata": {
    "id": "EMefrVPCg-60",
    "colab_type": "text"
   },
   "source": [
    "### Importing the libraries"
   ]
  },
  {
   "cell_type": "code",
   "metadata": {
    "id": "sCV30xyVhFbE",
    "colab_type": "code",
    "colab": {},
    "ExecuteTime": {
     "end_time": "2024-05-23T13:35:14.402525700Z",
     "start_time": "2024-05-23T13:35:14.293854100Z"
    }
   },
   "source": [
    "import tensorflow as tf\n",
    "from keras.preprocessing.image import ImageDataGenerator    # ImageDataGenerator is a class that allows us to augment our images"
   ],
   "execution_count": 2,
   "outputs": []
  },
  {
   "cell_type": "code",
   "metadata": {
    "id": "FIleuCAjoFD8",
    "colab_type": "code",
    "colab": {},
    "ExecuteTime": {
     "end_time": "2024-05-23T13:35:14.445340700Z",
     "start_time": "2024-05-23T13:35:14.405588100Z"
    }
   },
   "source": [
    "tf.__version__"
   ],
   "execution_count": 3,
   "outputs": [
    {
     "data": {
      "text/plain": "'2.15.0'"
     },
     "execution_count": 3,
     "metadata": {},
     "output_type": "execute_result"
    }
   ]
  },
  {
   "cell_type": "markdown",
   "metadata": {
    "id": "oxQxCBWyoGPE",
    "colab_type": "text"
   },
   "source": [
    "## Part 1 - Data Preprocessing\n",
    "## For this part, we will be using the ImageDataGenerator class to augment our images. This will help us to prevent overfitting.\n",
    "## Augmentation is a technique that allows us to enrich our dataset without adding more images. It applies some random transformations on the images so that the model learns more features and the performance is improved."
   ]
  },
  {
   "cell_type": "markdown",
   "metadata": {
    "id": "MvE-heJNo3GG",
    "colab_type": "text"
   },
   "source": [
    "### Preprocessing the Training set"
   ]
  },
  {
   "cell_type": "code",
   "metadata": {
    "id": "0koUcJMJpEBD",
    "colab_type": "code",
    "colab": {},
    "ExecuteTime": {
     "end_time": "2024-05-23T13:35:14.888166200Z",
     "start_time": "2024-05-23T13:35:14.426277300Z"
    }
   },
   "source": [
    "train_datagen = ImageDataGenerator(rescale = 1./255,\n",
    "                                   shear_range = 0.2,\n",
    "                                   zoom_range = 0.2,\n",
    "                                   horizontal_flip = True)\n",
    "training_set = train_datagen.flow_from_directory('dataset/training_set',\n",
    "                                                 target_size = (64, 64),\n",
    "                                                 batch_size = 32,\n",
    "                                                 class_mode = 'binary')"
   ],
   "execution_count": 4,
   "outputs": [
    {
     "name": "stdout",
     "output_type": "stream",
     "text": [
      "Found 8000 images belonging to 2 classes.\n"
     ]
    }
   ]
  },
  {
   "cell_type": "markdown",
   "metadata": {
    "id": "mrCMmGw9pHys",
    "colab_type": "text"
   },
   "source": [
    "### Preprocessing the Test set"
   ]
  },
  {
   "cell_type": "code",
   "metadata": {
    "id": "SH4WzfOhpKc3",
    "colab_type": "code",
    "colab": {},
    "ExecuteTime": {
     "end_time": "2024-05-23T13:35:14.993319900Z",
     "start_time": "2024-05-23T13:35:14.835014100Z"
    }
   },
   "source": [
    "test_datagen = ImageDataGenerator(rescale = 1./255)\n",
    "test_set = test_datagen.flow_from_directory('dataset/test_set',\n",
    "                                            target_size = (64, 64),\n",
    "                                            batch_size = 32,\n",
    "                                            class_mode = 'binary')"
   ],
   "execution_count": 5,
   "outputs": [
    {
     "name": "stdout",
     "output_type": "stream",
     "text": [
      "Found 2000 images belonging to 2 classes.\n"
     ]
    }
   ]
  },
  {
   "cell_type": "markdown",
   "metadata": {
    "id": "af8O4l90gk7B",
    "colab_type": "text"
   },
   "source": [
    "## Part 2 - Building the CNN"
   ]
  },
  {
   "cell_type": "markdown",
   "metadata": {
    "id": "ces1gXY2lmoX",
    "colab_type": "text"
   },
   "source": [
    "### Initialising the CNN"
   ]
  },
  {
   "cell_type": "code",
   "metadata": {
    "id": "SAUt4UMPlhLS",
    "colab_type": "code",
    "colab": {},
    "ExecuteTime": {
     "end_time": "2024-05-23T13:35:16.173805900Z",
     "start_time": "2024-05-23T13:35:14.940330900Z"
    }
   },
   "source": [
    "cnn = tf.keras.models.Sequential()"
   ],
   "execution_count": 6,
   "outputs": [
    {
     "name": "stdout",
     "output_type": "stream",
     "text": [
      "WARNING:tensorflow:From C:\\Users\\Darius\\PycharmProjects\\Machine learning AI\\.venv\\Lib\\site-packages\\keras\\src\\backend.py:873: The name tf.get_default_graph is deprecated. Please use tf.compat.v1.get_default_graph instead.\n"
     ]
    }
   ]
  },
  {
   "cell_type": "markdown",
   "metadata": {
    "id": "u5YJj_XMl5LF",
    "colab_type": "text"
   },
   "source": [
    "### Step 1 - Convolution"
   ]
  },
  {
   "cell_type": "code",
   "metadata": {
    "id": "XPzPrMckl-hV",
    "colab_type": "code",
    "colab": {},
    "ExecuteTime": {
     "end_time": "2024-05-23T13:35:16.294778700Z",
     "start_time": "2024-05-23T13:35:16.191355600Z"
    }
   },
   "source": [
    "cnn.add(tf.keras.layers.Conv2D(filters=32, kernel_size=3, activation='relu', input_shape=[64, 64, 3]))"
   ],
   "execution_count": 7,
   "outputs": []
  },
  {
   "cell_type": "markdown",
   "metadata": {
    "id": "tf87FpvxmNOJ",
    "colab_type": "text"
   },
   "source": [
    "### Step 2 - Pooling"
   ]
  },
  {
   "cell_type": "code",
   "metadata": {
    "id": "ncpqPl69mOac",
    "colab_type": "code",
    "colab": {},
    "ExecuteTime": {
     "end_time": "2024-05-23T13:35:16.488614Z",
     "start_time": "2024-05-23T13:35:16.295787900Z"
    }
   },
   "source": [
    "cnn.add(tf.keras.layers.MaxPool2D(pool_size=2, strides=2))"
   ],
   "execution_count": 8,
   "outputs": [
    {
     "name": "stdout",
     "output_type": "stream",
     "text": [
      "WARNING:tensorflow:From C:\\Users\\Darius\\PycharmProjects\\Machine learning AI\\.venv\\Lib\\site-packages\\keras\\src\\layers\\pooling\\max_pooling2d.py:161: The name tf.nn.max_pool is deprecated. Please use tf.nn.max_pool2d instead.\n"
     ]
    }
   ]
  },
  {
   "cell_type": "markdown",
   "metadata": {
    "id": "xaTOgD8rm4mU",
    "colab_type": "text"
   },
   "source": [
    "### Adding a second convolutional layer"
   ]
  },
  {
   "cell_type": "code",
   "metadata": {
    "id": "i_-FZjn_m8gk",
    "colab_type": "code",
    "colab": {},
    "ExecuteTime": {
     "end_time": "2024-05-23T13:35:16.557332900Z",
     "start_time": "2024-05-23T13:35:16.489615500Z"
    }
   },
   "source": [
    "cnn.add(tf.keras.layers.Conv2D(filters=32, kernel_size=3, activation='relu'))\n",
    "cnn.add(tf.keras.layers.MaxPool2D(pool_size=2, strides=2))"
   ],
   "execution_count": 9,
   "outputs": []
  },
  {
   "cell_type": "markdown",
   "metadata": {
    "id": "tmiEuvTunKfk",
    "colab_type": "text"
   },
   "source": [
    "### Step 3 - Flattening"
   ]
  },
  {
   "cell_type": "code",
   "metadata": {
    "id": "6AZeOGCvnNZn",
    "colab_type": "code",
    "colab": {},
    "ExecuteTime": {
     "end_time": "2024-05-23T13:35:16.560335500Z",
     "start_time": "2024-05-23T13:35:16.533483800Z"
    }
   },
   "source": [
    "cnn.add(tf.keras.layers.Flatten())"
   ],
   "execution_count": 10,
   "outputs": []
  },
  {
   "cell_type": "markdown",
   "metadata": {
    "id": "dAoSECOm203v",
    "colab_type": "text"
   },
   "source": [
    "### Step 4 - Full Connection"
   ]
  },
  {
   "cell_type": "code",
   "metadata": {
    "id": "8GtmUlLd26Nq",
    "colab_type": "code",
    "colab": {},
    "ExecuteTime": {
     "end_time": "2024-05-23T13:35:16.665617300Z",
     "start_time": "2024-05-23T13:35:16.553313800Z"
    }
   },
   "source": [
    "cnn.add(tf.keras.layers.Dense(units=128, activation='relu'))"
   ],
   "execution_count": 11,
   "outputs": []
  },
  {
   "cell_type": "markdown",
   "metadata": {
    "id": "yTldFvbX28Na",
    "colab_type": "text"
   },
   "source": [
    "### Step 5 - Output Layer"
   ]
  },
  {
   "cell_type": "code",
   "metadata": {
    "id": "1p_Zj1Mc3Ko_",
    "colab_type": "code",
    "colab": {},
    "ExecuteTime": {
     "end_time": "2024-05-23T13:35:16.732354300Z",
     "start_time": "2024-05-23T13:35:16.631502500Z"
    }
   },
   "source": [
    "cnn.add(tf.keras.layers.Dense(units=1, activation='sigmoid'))"
   ],
   "execution_count": 12,
   "outputs": []
  },
  {
   "cell_type": "markdown",
   "metadata": {
    "id": "D6XkI90snSDl",
    "colab_type": "text"
   },
   "source": [
    "## Part 3 - Training the CNN"
   ]
  },
  {
   "cell_type": "markdown",
   "metadata": {
    "id": "vfrFQACEnc6i",
    "colab_type": "text"
   },
   "source": [
    "### Compiling the CNN"
   ]
  },
  {
   "cell_type": "code",
   "metadata": {
    "id": "NALksrNQpUlJ",
    "colab_type": "code",
    "colab": {},
    "ExecuteTime": {
     "end_time": "2024-05-23T13:35:16.898855Z",
     "start_time": "2024-05-23T13:35:16.697242900Z"
    }
   },
   "source": [
    "cnn.compile(optimizer = 'adam', loss = 'binary_crossentropy', metrics = ['accuracy'])"
   ],
   "execution_count": 13,
   "outputs": [
    {
     "name": "stdout",
     "output_type": "stream",
     "text": [
      "WARNING:tensorflow:From C:\\Users\\Darius\\PycharmProjects\\Machine learning AI\\.venv\\Lib\\site-packages\\keras\\src\\optimizers\\__init__.py:309: The name tf.train.Optimizer is deprecated. Please use tf.compat.v1.train.Optimizer instead.\n"
     ]
    }
   ]
  },
  {
   "cell_type": "markdown",
   "metadata": {
    "id": "ehS-v3MIpX2h",
    "colab_type": "text"
   },
   "source": [
    "### Training the CNN on the Training set and evaluating it on the Test set"
   ]
  },
  {
   "cell_type": "markdown",
   "source": [],
   "metadata": {
    "collapsed": false
   }
  },
  {
   "cell_type": "code",
   "metadata": {
    "id": "XUj1W4PJptta",
    "colab_type": "code",
    "colab": {},
    "ExecuteTime": {
     "end_time": "2024-05-23T13:48:19.737415500Z",
     "start_time": "2024-05-23T13:35:16.894847900Z"
    }
   },
   "source": [
    "cnn.fit(x = training_set, validation_data = test_set, epochs = 25)"
   ],
   "execution_count": 14,
   "outputs": [
    {
     "name": "stdout",
     "output_type": "stream",
     "text": [
      "Epoch 1/25\n",
      "WARNING:tensorflow:From C:\\Users\\Darius\\PycharmProjects\\Machine learning AI\\.venv\\Lib\\site-packages\\keras\\src\\utils\\tf_utils.py:492: The name tf.ragged.RaggedTensorValue is deprecated. Please use tf.compat.v1.ragged.RaggedTensorValue instead.\n",
      "WARNING:tensorflow:From C:\\Users\\Darius\\PycharmProjects\\Machine learning AI\\.venv\\Lib\\site-packages\\keras\\src\\engine\\base_layer_utils.py:384: The name tf.executing_eagerly_outside_functions is deprecated. Please use tf.compat.v1.executing_eagerly_outside_functions instead.\n",
      "250/250 [==============================] - 89s 347ms/step - loss: 0.6684 - accuracy: 0.5929 - val_loss: 0.6038 - val_accuracy: 0.6890\n",
      "Epoch 2/25\n",
      "250/250 [==============================] - 28s 112ms/step - loss: 0.6050 - accuracy: 0.6729 - val_loss: 0.5638 - val_accuracy: 0.7200\n",
      "Epoch 3/25\n",
      "250/250 [==============================] - 31s 124ms/step - loss: 0.5628 - accuracy: 0.7111 - val_loss: 0.5437 - val_accuracy: 0.7280\n",
      "Epoch 4/25\n",
      "250/250 [==============================] - 28s 112ms/step - loss: 0.5284 - accuracy: 0.7360 - val_loss: 0.5368 - val_accuracy: 0.7365\n",
      "Epoch 5/25\n",
      "250/250 [==============================] - 28s 112ms/step - loss: 0.5070 - accuracy: 0.7529 - val_loss: 0.5331 - val_accuracy: 0.7485\n",
      "Epoch 6/25\n",
      "250/250 [==============================] - 28s 114ms/step - loss: 0.4848 - accuracy: 0.7588 - val_loss: 0.4775 - val_accuracy: 0.7825\n",
      "Epoch 7/25\n",
      "250/250 [==============================] - 28s 114ms/step - loss: 0.4746 - accuracy: 0.7741 - val_loss: 0.4771 - val_accuracy: 0.7840\n",
      "Epoch 8/25\n",
      "250/250 [==============================] - 28s 112ms/step - loss: 0.4522 - accuracy: 0.7850 - val_loss: 0.4600 - val_accuracy: 0.7950\n",
      "Epoch 9/25\n",
      "250/250 [==============================] - 28s 111ms/step - loss: 0.4539 - accuracy: 0.7846 - val_loss: 0.4597 - val_accuracy: 0.7840\n",
      "Epoch 10/25\n",
      "250/250 [==============================] - 29s 118ms/step - loss: 0.4328 - accuracy: 0.7928 - val_loss: 0.4605 - val_accuracy: 0.7875\n",
      "Epoch 11/25\n",
      "250/250 [==============================] - 34s 136ms/step - loss: 0.4216 - accuracy: 0.8004 - val_loss: 0.4587 - val_accuracy: 0.7910\n",
      "Epoch 12/25\n",
      "250/250 [==============================] - 30s 119ms/step - loss: 0.4075 - accuracy: 0.8180 - val_loss: 0.4635 - val_accuracy: 0.7890\n",
      "Epoch 13/25\n",
      "250/250 [==============================] - 30s 120ms/step - loss: 0.3986 - accuracy: 0.8160 - val_loss: 0.4446 - val_accuracy: 0.7960\n",
      "Epoch 14/25\n",
      "250/250 [==============================] - 28s 112ms/step - loss: 0.3918 - accuracy: 0.8201 - val_loss: 0.4320 - val_accuracy: 0.8050\n",
      "Epoch 15/25\n",
      "250/250 [==============================] - 29s 117ms/step - loss: 0.3644 - accuracy: 0.8357 - val_loss: 0.4869 - val_accuracy: 0.7965\n",
      "Epoch 16/25\n",
      "250/250 [==============================] - 28s 112ms/step - loss: 0.3624 - accuracy: 0.8380 - val_loss: 0.4671 - val_accuracy: 0.7905\n",
      "Epoch 17/25\n",
      "250/250 [==============================] - 28s 112ms/step - loss: 0.3382 - accuracy: 0.8503 - val_loss: 0.4587 - val_accuracy: 0.8040\n",
      "Epoch 18/25\n",
      "250/250 [==============================] - 29s 116ms/step - loss: 0.3291 - accuracy: 0.8581 - val_loss: 0.5088 - val_accuracy: 0.8010\n",
      "Epoch 19/25\n",
      "250/250 [==============================] - 30s 118ms/step - loss: 0.3137 - accuracy: 0.8616 - val_loss: 0.5207 - val_accuracy: 0.7795\n",
      "Epoch 20/25\n",
      "250/250 [==============================] - 28s 114ms/step - loss: 0.3144 - accuracy: 0.8624 - val_loss: 0.4455 - val_accuracy: 0.8160\n",
      "Epoch 21/25\n",
      "250/250 [==============================] - 28s 114ms/step - loss: 0.2928 - accuracy: 0.8756 - val_loss: 0.4860 - val_accuracy: 0.8060\n",
      "Epoch 22/25\n",
      "250/250 [==============================] - 28s 114ms/step - loss: 0.2875 - accuracy: 0.8763 - val_loss: 0.5227 - val_accuracy: 0.7945\n",
      "Epoch 23/25\n",
      "250/250 [==============================] - 28s 112ms/step - loss: 0.2723 - accuracy: 0.8790 - val_loss: 0.4985 - val_accuracy: 0.8000\n",
      "Epoch 24/25\n",
      "250/250 [==============================] - 28s 114ms/step - loss: 0.2580 - accuracy: 0.8891 - val_loss: 0.5224 - val_accuracy: 0.8020\n",
      "Epoch 25/25\n",
      "250/250 [==============================] - 28s 113ms/step - loss: 0.2473 - accuracy: 0.8994 - val_loss: 0.5603 - val_accuracy: 0.7875\n"
     ]
    },
    {
     "data": {
      "text/plain": "<keras.src.callbacks.History at 0x1d7aced9050>"
     },
     "execution_count": 14,
     "metadata": {},
     "output_type": "execute_result"
    }
   ]
  },
  {
   "cell_type": "markdown",
   "metadata": {
    "id": "U3PZasO0006Z",
    "colab_type": "text"
   },
   "source": [
    "## Part 4 - Making a single prediction"
   ]
  },
  {
   "cell_type": "code",
   "metadata": {
    "id": "gsSiWEJY1BPB",
    "colab_type": "code",
    "colab": {},
    "ExecuteTime": {
     "end_time": "2024-05-23T13:58:09.654107Z",
     "start_time": "2024-05-23T13:58:09.461752500Z"
    }
   },
   "source": [
    "import numpy as np\n",
    "from keras.preprocessing import image\n",
    "test_image = image.load_img('dataset/single_prediction/cat_or_dog_2.jpg', target_size = (64, 64))   \n",
    "# 64 because that is the size we used for training the model\n",
    "test_image = image.img_to_array(test_image)\n",
    "test_image = np.expand_dims(test_image, axis = 0)   # we use this to add an extra dimension to the image because the predict method expects a batch\n",
    "result = cnn.predict(test_image)\n",
    "training_set.class_indices  # this will give us the indices of the classes (0 for cats and 1 for dogs)\n",
    "if result[0][0] == 1:\n",
    "  prediction = 'dog'\n",
    "else:\n",
    "  prediction = 'cat'"
   ],
   "execution_count": 43,
   "outputs": [
    {
     "name": "stdout",
     "output_type": "stream",
     "text": [
      "1/1 [==============================] - 0s 35ms/step\n"
     ]
    }
   ]
  },
  {
   "cell_type": "code",
   "metadata": {
    "id": "ED9KB3I54c1i",
    "colab_type": "code",
    "colab": {},
    "ExecuteTime": {
     "end_time": "2024-05-23T13:58:11.557692Z",
     "start_time": "2024-05-23T13:58:11.526412100Z"
    }
   },
   "source": [
    "print(prediction)"
   ],
   "execution_count": 44,
   "outputs": [
    {
     "name": "stdout",
     "output_type": "stream",
     "text": [
      "dog\n"
     ]
    }
   ]
  }
 ]
}
