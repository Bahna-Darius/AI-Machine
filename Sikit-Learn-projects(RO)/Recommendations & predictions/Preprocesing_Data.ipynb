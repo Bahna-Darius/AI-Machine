{
 "cells": [
  {
   "cell_type": "code",
   "execution_count": 16,
   "id": "initial_id",
   "metadata": {
    "collapsed": true,
    "ExecuteTime": {
     "end_time": "2024-04-02T11:37:01.324073200Z",
     "start_time": "2024-04-02T11:37:01.310754200Z"
    }
   },
   "outputs": [],
   "source": [
    "import pandas as pd"
   ]
  },
  {
   "cell_type": "code",
   "outputs": [],
   "source": [
    "data = {\n",
    "    'customer_name': ['Timi Customer', 'Larisa Customer Co', 'Gabi Customer', 'Raul Customer', 'Elias Customer'],\n",
    "    'pickup_city': ['New York', 'Los Angeles', 'Chicago', 'Dallas', 'Mexico City'],\n",
    "    'dropoff_city': ['San Antonio', 'San Diego', 'Texas', 'San Jose', 'Austin'],\n",
    "    'total_income': [500, 1000, 1500, 2000, 2500],\n",
    "}"
   ],
   "metadata": {
    "collapsed": false,
    "ExecuteTime": {
     "end_time": "2024-04-02T11:37:01.728241200Z",
     "start_time": "2024-04-02T11:37:01.710979100Z"
    }
   },
   "id": "b71bfcf3489b2892",
   "execution_count": 17
  },
  {
   "cell_type": "code",
   "outputs": [],
   "source": [
    "df = pd.DataFrame(data)"
   ],
   "metadata": {
    "collapsed": false,
    "ExecuteTime": {
     "end_time": "2024-04-02T11:37:02.021393200Z",
     "start_time": "2024-04-02T11:37:02.008675300Z"
    }
   },
   "id": "21d37eabf5b650ad",
   "execution_count": 18
  },
  {
   "cell_type": "code",
   "outputs": [
    {
     "data": {
      "text/plain": "        customer_name  pickup_city dropoff_city  total_income\n0       Timi Customer     New York  San Antonio           500\n1  Larisa Customer Co  Los Angeles    San Diego          1000\n2       Gabi Customer      Chicago        Texas          1500\n3       Raul Customer       Dallas     San Jose          2000\n4      Elias Customer  Mexico City       Austin          2500",
      "text/html": "<div>\n<style scoped>\n    .dataframe tbody tr th:only-of-type {\n        vertical-align: middle;\n    }\n\n    .dataframe tbody tr th {\n        vertical-align: top;\n    }\n\n    .dataframe thead th {\n        text-align: right;\n    }\n</style>\n<table border=\"1\" class=\"dataframe\">\n  <thead>\n    <tr style=\"text-align: right;\">\n      <th></th>\n      <th>customer_name</th>\n      <th>pickup_city</th>\n      <th>dropoff_city</th>\n      <th>total_income</th>\n    </tr>\n  </thead>\n  <tbody>\n    <tr>\n      <th>0</th>\n      <td>Timi Customer</td>\n      <td>New York</td>\n      <td>San Antonio</td>\n      <td>500</td>\n    </tr>\n    <tr>\n      <th>1</th>\n      <td>Larisa Customer Co</td>\n      <td>Los Angeles</td>\n      <td>San Diego</td>\n      <td>1000</td>\n    </tr>\n    <tr>\n      <th>2</th>\n      <td>Gabi Customer</td>\n      <td>Chicago</td>\n      <td>Texas</td>\n      <td>1500</td>\n    </tr>\n    <tr>\n      <th>3</th>\n      <td>Raul Customer</td>\n      <td>Dallas</td>\n      <td>San Jose</td>\n      <td>2000</td>\n    </tr>\n    <tr>\n      <th>4</th>\n      <td>Elias Customer</td>\n      <td>Mexico City</td>\n      <td>Austin</td>\n      <td>2500</td>\n    </tr>\n  </tbody>\n</table>\n</div>"
     },
     "execution_count": 19,
     "metadata": {},
     "output_type": "execute_result"
    }
   ],
   "source": [
    "df"
   ],
   "metadata": {
    "collapsed": false,
    "ExecuteTime": {
     "end_time": "2024-04-02T11:37:02.424547800Z",
     "start_time": "2024-04-02T11:37:02.387961200Z"
    }
   },
   "id": "103ed34fa441e241",
   "execution_count": 19
  },
  {
   "cell_type": "code",
   "outputs": [],
   "source": [
    "df.to_csv('customers.csv', index=False)"
   ],
   "metadata": {
    "collapsed": false,
    "ExecuteTime": {
     "end_time": "2024-04-02T11:37:03.094113900Z",
     "start_time": "2024-04-02T11:37:03.084645300Z"
    }
   },
   "id": "28e2b5961ed30ab0",
   "execution_count": 20
  },
  {
   "cell_type": "code",
   "outputs": [],
   "source": [],
   "metadata": {
    "collapsed": false,
    "ExecuteTime": {
     "end_time": "2024-04-02T11:32:40.372306700Z",
     "start_time": "2024-04-02T11:32:40.357786100Z"
    }
   },
   "id": "33911b8bdf34a5b1",
   "execution_count": 14
  }
 ],
 "metadata": {
  "kernelspec": {
   "display_name": "Python 3",
   "language": "python",
   "name": "python3"
  },
  "language_info": {
   "codemirror_mode": {
    "name": "ipython",
    "version": 2
   },
   "file_extension": ".py",
   "mimetype": "text/x-python",
   "name": "python",
   "nbconvert_exporter": "python",
   "pygments_lexer": "ipython2",
   "version": "2.7.6"
  }
 },
 "nbformat": 4,
 "nbformat_minor": 5
}
