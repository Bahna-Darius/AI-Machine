{
 "cells": [
  {
   "cell_type": "code",
   "execution_count": 1,
   "id": "initial_id",
   "metadata": {
    "collapsed": true,
    "ExecuteTime": {
     "end_time": "2024-03-23T20:21:49.119740200Z",
     "start_time": "2024-03-23T20:21:48.574395900Z"
    }
   },
   "outputs": [],
   "source": [
    "import pandas as pd "
   ]
  },
  {
   "cell_type": "code",
   "outputs": [],
   "source": [
    "summer = pd.read_csv(\"summer.csv\")"
   ],
   "metadata": {
    "collapsed": false,
    "ExecuteTime": {
     "end_time": "2024-03-23T20:22:15.713274700Z",
     "start_time": "2024-03-23T20:22:15.588951800Z"
    }
   },
   "id": "b2359bf5141bb0d8",
   "execution_count": 2
  },
  {
   "cell_type": "code",
   "outputs": [
    {
     "data": {
      "text/plain": "       Year    City      Sport           Discipline  \\\n0      1896  Athens   Aquatics             Swimming   \n1      1896  Athens   Aquatics             Swimming   \n2      1896  Athens   Aquatics             Swimming   \n3      1896  Athens   Aquatics             Swimming   \n4      1896  Athens   Aquatics             Swimming   \n...     ...     ...        ...                  ...   \n31160  2012  London  Wrestling  Wrestling Freestyle   \n31161  2012  London  Wrestling  Wrestling Freestyle   \n31162  2012  London  Wrestling  Wrestling Freestyle   \n31163  2012  London  Wrestling  Wrestling Freestyle   \n31164  2012  London  Wrestling  Wrestling Freestyle   \n\n                         Athlete Country Gender                       Event  \\\n0                  HAJOS, Alfred     HUN    Men              100M Freestyle   \n1               HERSCHMANN, Otto     AUT    Men              100M Freestyle   \n2              DRIVAS, Dimitrios     GRE    Men  100M Freestyle For Sailors   \n3             MALOKINIS, Ioannis     GRE    Men  100M Freestyle For Sailors   \n4             CHASAPIS, Spiridon     GRE    Men  100M Freestyle For Sailors   \n...                          ...     ...    ...                         ...   \n31160         JANIKOWSKI, Damian     POL    Men                    Wg 84 KG   \n31161  REZAEI, Ghasem Gholamreza     IRI    Men                    Wg 96 KG   \n31162             TOTROV, Rustam     RUS    Men                    Wg 96 KG   \n31163          ALEKSANYAN, Artur     ARM    Men                    Wg 96 KG   \n31164             LIDBERG, Jimmy     SWE    Men                    Wg 96 KG   \n\n        Medal  \n0        Gold  \n1      Silver  \n2      Bronze  \n3        Gold  \n4      Silver  \n...       ...  \n31160  Bronze  \n31161    Gold  \n31162  Silver  \n31163  Bronze  \n31164  Bronze  \n\n[31165 rows x 9 columns]",
      "text/html": "<div>\n<style scoped>\n    .dataframe tbody tr th:only-of-type {\n        vertical-align: middle;\n    }\n\n    .dataframe tbody tr th {\n        vertical-align: top;\n    }\n\n    .dataframe thead th {\n        text-align: right;\n    }\n</style>\n<table border=\"1\" class=\"dataframe\">\n  <thead>\n    <tr style=\"text-align: right;\">\n      <th></th>\n      <th>Year</th>\n      <th>City</th>\n      <th>Sport</th>\n      <th>Discipline</th>\n      <th>Athlete</th>\n      <th>Country</th>\n      <th>Gender</th>\n      <th>Event</th>\n      <th>Medal</th>\n    </tr>\n  </thead>\n  <tbody>\n    <tr>\n      <th>0</th>\n      <td>1896</td>\n      <td>Athens</td>\n      <td>Aquatics</td>\n      <td>Swimming</td>\n      <td>HAJOS, Alfred</td>\n      <td>HUN</td>\n      <td>Men</td>\n      <td>100M Freestyle</td>\n      <td>Gold</td>\n    </tr>\n    <tr>\n      <th>1</th>\n      <td>1896</td>\n      <td>Athens</td>\n      <td>Aquatics</td>\n      <td>Swimming</td>\n      <td>HERSCHMANN, Otto</td>\n      <td>AUT</td>\n      <td>Men</td>\n      <td>100M Freestyle</td>\n      <td>Silver</td>\n    </tr>\n    <tr>\n      <th>2</th>\n      <td>1896</td>\n      <td>Athens</td>\n      <td>Aquatics</td>\n      <td>Swimming</td>\n      <td>DRIVAS, Dimitrios</td>\n      <td>GRE</td>\n      <td>Men</td>\n      <td>100M Freestyle For Sailors</td>\n      <td>Bronze</td>\n    </tr>\n    <tr>\n      <th>3</th>\n      <td>1896</td>\n      <td>Athens</td>\n      <td>Aquatics</td>\n      <td>Swimming</td>\n      <td>MALOKINIS, Ioannis</td>\n      <td>GRE</td>\n      <td>Men</td>\n      <td>100M Freestyle For Sailors</td>\n      <td>Gold</td>\n    </tr>\n    <tr>\n      <th>4</th>\n      <td>1896</td>\n      <td>Athens</td>\n      <td>Aquatics</td>\n      <td>Swimming</td>\n      <td>CHASAPIS, Spiridon</td>\n      <td>GRE</td>\n      <td>Men</td>\n      <td>100M Freestyle For Sailors</td>\n      <td>Silver</td>\n    </tr>\n    <tr>\n      <th>...</th>\n      <td>...</td>\n      <td>...</td>\n      <td>...</td>\n      <td>...</td>\n      <td>...</td>\n      <td>...</td>\n      <td>...</td>\n      <td>...</td>\n      <td>...</td>\n    </tr>\n    <tr>\n      <th>31160</th>\n      <td>2012</td>\n      <td>London</td>\n      <td>Wrestling</td>\n      <td>Wrestling Freestyle</td>\n      <td>JANIKOWSKI, Damian</td>\n      <td>POL</td>\n      <td>Men</td>\n      <td>Wg 84 KG</td>\n      <td>Bronze</td>\n    </tr>\n    <tr>\n      <th>31161</th>\n      <td>2012</td>\n      <td>London</td>\n      <td>Wrestling</td>\n      <td>Wrestling Freestyle</td>\n      <td>REZAEI, Ghasem Gholamreza</td>\n      <td>IRI</td>\n      <td>Men</td>\n      <td>Wg 96 KG</td>\n      <td>Gold</td>\n    </tr>\n    <tr>\n      <th>31162</th>\n      <td>2012</td>\n      <td>London</td>\n      <td>Wrestling</td>\n      <td>Wrestling Freestyle</td>\n      <td>TOTROV, Rustam</td>\n      <td>RUS</td>\n      <td>Men</td>\n      <td>Wg 96 KG</td>\n      <td>Silver</td>\n    </tr>\n    <tr>\n      <th>31163</th>\n      <td>2012</td>\n      <td>London</td>\n      <td>Wrestling</td>\n      <td>Wrestling Freestyle</td>\n      <td>ALEKSANYAN, Artur</td>\n      <td>ARM</td>\n      <td>Men</td>\n      <td>Wg 96 KG</td>\n      <td>Bronze</td>\n    </tr>\n    <tr>\n      <th>31164</th>\n      <td>2012</td>\n      <td>London</td>\n      <td>Wrestling</td>\n      <td>Wrestling Freestyle</td>\n      <td>LIDBERG, Jimmy</td>\n      <td>SWE</td>\n      <td>Men</td>\n      <td>Wg 96 KG</td>\n      <td>Bronze</td>\n    </tr>\n  </tbody>\n</table>\n<p>31165 rows × 9 columns</p>\n</div>"
     },
     "execution_count": 3,
     "metadata": {},
     "output_type": "execute_result"
    }
   ],
   "source": [
    "summer"
   ],
   "metadata": {
    "collapsed": false,
    "ExecuteTime": {
     "end_time": "2024-03-23T20:22:17.816399Z",
     "start_time": "2024-03-23T20:22:17.794198100Z"
    }
   },
   "id": "c4b7b7eb6f75fca9",
   "execution_count": 3
  },
  {
   "cell_type": "markdown",
   "source": [
    "## First we group by country and medal and then we count the number of medals.\n",
    "## We have multiindex outer index is country and inner index is medal."
   ],
   "metadata": {
    "collapsed": false
   },
   "id": "36a1fb3884e0a543"
  },
  {
   "cell_type": "code",
   "outputs": [],
   "source": [
    "medal_by_country = summer.groupby(by=[\"Country\", \"Medal\"]).Medal.count()"
   ],
   "metadata": {
    "collapsed": false,
    "ExecuteTime": {
     "end_time": "2024-03-23T20:25:59.900715400Z",
     "start_time": "2024-03-23T20:25:59.875950800Z"
    }
   },
   "id": "e091192b15bf5a79",
   "execution_count": 4
  },
  {
   "cell_type": "code",
   "outputs": [
    {
     "data": {
      "text/plain": "Country  Medal \nAFG      Bronze     2\nAHO      Silver     1\nALG      Bronze     8\n         Gold       5\n         Silver     2\n                   ..\nZIM      Gold      18\n         Silver     4\nZZX      Bronze    10\n         Gold      23\n         Silver    15\nName: Medal, Length: 347, dtype: int64"
     },
     "execution_count": 5,
     "metadata": {},
     "output_type": "execute_result"
    }
   ],
   "source": [
    "medal_by_country"
   ],
   "metadata": {
    "collapsed": false,
    "ExecuteTime": {
     "end_time": "2024-03-23T20:26:03.208811700Z",
     "start_time": "2024-03-23T20:26:03.196022700Z"
    }
   },
   "id": "797674b99375ee11",
   "execution_count": 5
  },
  {
   "cell_type": "markdown",
   "source": [
    "We can use loc operator because we have multiindex."
   ],
   "metadata": {
    "collapsed": false
   },
   "id": "97736556e1962570"
  },
  {
   "cell_type": "code",
   "outputs": [
    {
     "data": {
      "text/plain": "Medal\nBronze    1098\nGold      2235\nSilver    1252\nName: Medal, dtype: int64"
     },
     "execution_count": 8,
     "metadata": {},
     "output_type": "execute_result"
    }
   ],
   "source": [
    "medal_by_country.loc[\"USA\"]"
   ],
   "metadata": {
    "collapsed": false,
    "ExecuteTime": {
     "end_time": "2024-03-23T20:29:59.856384400Z",
     "start_time": "2024-03-23T20:29:59.829023900Z"
    }
   },
   "id": "feafd5f937063b1f",
   "execution_count": 8
  },
  {
   "cell_type": "markdown",
   "source": [
    "We can not use loc with \"USA\" key because it is not in the index."
   ],
   "metadata": {
    "collapsed": false
   },
   "id": "782e1508f81f5aa0"
  },
  {
   "cell_type": "code",
   "outputs": [
    {
     "ename": "KeyError",
     "evalue": "'USA'",
     "output_type": "error",
     "traceback": [
      "\u001B[1;31m---------------------------------------------------------------------------\u001B[0m",
      "\u001B[1;31mKeyError\u001B[0m                                  Traceback (most recent call last)",
      "Cell \u001B[1;32mIn[9], line 1\u001B[0m\n\u001B[1;32m----> 1\u001B[0m \u001B[43msummer\u001B[49m\u001B[38;5;241;43m.\u001B[39;49m\u001B[43mloc\u001B[49m\u001B[43m[\u001B[49m\u001B[38;5;124;43m\"\u001B[39;49m\u001B[38;5;124;43mUSA\u001B[39;49m\u001B[38;5;124;43m\"\u001B[39;49m\u001B[43m]\u001B[49m\n",
      "File \u001B[1;32m~\\PycharmProjects\\Machine learning AI\\.venv\\Lib\\site-packages\\pandas\\core\\indexing.py:1192\u001B[0m, in \u001B[0;36m_LocationIndexer.__getitem__\u001B[1;34m(self, key)\u001B[0m\n\u001B[0;32m   1190\u001B[0m maybe_callable \u001B[38;5;241m=\u001B[39m com\u001B[38;5;241m.\u001B[39mapply_if_callable(key, \u001B[38;5;28mself\u001B[39m\u001B[38;5;241m.\u001B[39mobj)\n\u001B[0;32m   1191\u001B[0m maybe_callable \u001B[38;5;241m=\u001B[39m \u001B[38;5;28mself\u001B[39m\u001B[38;5;241m.\u001B[39m_check_deprecated_callable_usage(key, maybe_callable)\n\u001B[1;32m-> 1192\u001B[0m \u001B[38;5;28;01mreturn\u001B[39;00m \u001B[38;5;28;43mself\u001B[39;49m\u001B[38;5;241;43m.\u001B[39;49m\u001B[43m_getitem_axis\u001B[49m\u001B[43m(\u001B[49m\u001B[43mmaybe_callable\u001B[49m\u001B[43m,\u001B[49m\u001B[43m \u001B[49m\u001B[43maxis\u001B[49m\u001B[38;5;241;43m=\u001B[39;49m\u001B[43maxis\u001B[49m\u001B[43m)\u001B[49m\n",
      "File \u001B[1;32m~\\PycharmProjects\\Machine learning AI\\.venv\\Lib\\site-packages\\pandas\\core\\indexing.py:1432\u001B[0m, in \u001B[0;36m_LocIndexer._getitem_axis\u001B[1;34m(self, key, axis)\u001B[0m\n\u001B[0;32m   1430\u001B[0m \u001B[38;5;66;03m# fall thru to straight lookup\u001B[39;00m\n\u001B[0;32m   1431\u001B[0m \u001B[38;5;28mself\u001B[39m\u001B[38;5;241m.\u001B[39m_validate_key(key, axis)\n\u001B[1;32m-> 1432\u001B[0m \u001B[38;5;28;01mreturn\u001B[39;00m \u001B[38;5;28;43mself\u001B[39;49m\u001B[38;5;241;43m.\u001B[39;49m\u001B[43m_get_label\u001B[49m\u001B[43m(\u001B[49m\u001B[43mkey\u001B[49m\u001B[43m,\u001B[49m\u001B[43m \u001B[49m\u001B[43maxis\u001B[49m\u001B[38;5;241;43m=\u001B[39;49m\u001B[43maxis\u001B[49m\u001B[43m)\u001B[49m\n",
      "File \u001B[1;32m~\\PycharmProjects\\Machine learning AI\\.venv\\Lib\\site-packages\\pandas\\core\\indexing.py:1382\u001B[0m, in \u001B[0;36m_LocIndexer._get_label\u001B[1;34m(self, label, axis)\u001B[0m\n\u001B[0;32m   1380\u001B[0m \u001B[38;5;28;01mdef\u001B[39;00m \u001B[38;5;21m_get_label\u001B[39m(\u001B[38;5;28mself\u001B[39m, label, axis: AxisInt):\n\u001B[0;32m   1381\u001B[0m     \u001B[38;5;66;03m# GH#5567 this will fail if the label is not present in the axis.\u001B[39;00m\n\u001B[1;32m-> 1382\u001B[0m     \u001B[38;5;28;01mreturn\u001B[39;00m \u001B[38;5;28;43mself\u001B[39;49m\u001B[38;5;241;43m.\u001B[39;49m\u001B[43mobj\u001B[49m\u001B[38;5;241;43m.\u001B[39;49m\u001B[43mxs\u001B[49m\u001B[43m(\u001B[49m\u001B[43mlabel\u001B[49m\u001B[43m,\u001B[49m\u001B[43m \u001B[49m\u001B[43maxis\u001B[49m\u001B[38;5;241;43m=\u001B[39;49m\u001B[43maxis\u001B[49m\u001B[43m)\u001B[49m\n",
      "File \u001B[1;32m~\\PycharmProjects\\Machine learning AI\\.venv\\Lib\\site-packages\\pandas\\core\\generic.py:4295\u001B[0m, in \u001B[0;36mNDFrame.xs\u001B[1;34m(self, key, axis, level, drop_level)\u001B[0m\n\u001B[0;32m   4293\u001B[0m             new_index \u001B[38;5;241m=\u001B[39m index[loc]\n\u001B[0;32m   4294\u001B[0m \u001B[38;5;28;01melse\u001B[39;00m:\n\u001B[1;32m-> 4295\u001B[0m     loc \u001B[38;5;241m=\u001B[39m \u001B[43mindex\u001B[49m\u001B[38;5;241;43m.\u001B[39;49m\u001B[43mget_loc\u001B[49m\u001B[43m(\u001B[49m\u001B[43mkey\u001B[49m\u001B[43m)\u001B[49m\n\u001B[0;32m   4297\u001B[0m     \u001B[38;5;28;01mif\u001B[39;00m \u001B[38;5;28misinstance\u001B[39m(loc, np\u001B[38;5;241m.\u001B[39mndarray):\n\u001B[0;32m   4298\u001B[0m         \u001B[38;5;28;01mif\u001B[39;00m loc\u001B[38;5;241m.\u001B[39mdtype \u001B[38;5;241m==\u001B[39m np\u001B[38;5;241m.\u001B[39mbool_:\n",
      "File \u001B[1;32m~\\PycharmProjects\\Machine learning AI\\.venv\\Lib\\site-packages\\pandas\\core\\indexes\\range.py:417\u001B[0m, in \u001B[0;36mRangeIndex.get_loc\u001B[1;34m(self, key)\u001B[0m\n\u001B[0;32m    415\u001B[0m         \u001B[38;5;28;01mraise\u001B[39;00m \u001B[38;5;167;01mKeyError\u001B[39;00m(key) \u001B[38;5;28;01mfrom\u001B[39;00m \u001B[38;5;21;01merr\u001B[39;00m\n\u001B[0;32m    416\u001B[0m \u001B[38;5;28;01mif\u001B[39;00m \u001B[38;5;28misinstance\u001B[39m(key, Hashable):\n\u001B[1;32m--> 417\u001B[0m     \u001B[38;5;28;01mraise\u001B[39;00m \u001B[38;5;167;01mKeyError\u001B[39;00m(key)\n\u001B[0;32m    418\u001B[0m \u001B[38;5;28mself\u001B[39m\u001B[38;5;241m.\u001B[39m_check_indexing_error(key)\n\u001B[0;32m    419\u001B[0m \u001B[38;5;28;01mraise\u001B[39;00m \u001B[38;5;167;01mKeyError\u001B[39;00m(key)\n",
      "\u001B[1;31mKeyError\u001B[0m: 'USA'"
     ]
    }
   ],
   "source": [
    "summer.loc[\"USA\"]"
   ],
   "metadata": {
    "collapsed": false,
    "ExecuteTime": {
     "end_time": "2024-03-23T20:30:18.873918500Z",
     "start_time": "2024-03-23T20:30:18.812251900Z"
    }
   },
   "id": "60ec4d919c67241a",
   "execution_count": 9
  },
  {
   "cell_type": "markdown",
   "source": [
    "# Method unstack() is used to convert the multiindex to a dataframe.\n",
    "# We can use level parameter to specify which index to unstack.\n",
    "# -1 is the last index(Medal) and -2 is first index(Country).\n",
    "## We have NaN values because some countries do not have some medals."
   ],
   "metadata": {
    "collapsed": false
   },
   "id": "4ddfdfb410cef176"
  },
  {
   "cell_type": "code",
   "outputs": [
    {
     "data": {
      "text/plain": "Medal    Bronze   Gold  Silver\nCountry                       \nAFG         2.0    NaN     NaN\nAHO         NaN    NaN     1.0\nALG         8.0    5.0     2.0\nANZ         5.0   20.0     4.0\nARG        91.0   69.0    99.0\n...         ...    ...     ...\nVIE         NaN    NaN     2.0\nYUG       118.0  143.0   174.0\nZAM         1.0    NaN     1.0\nZIM         1.0   18.0     4.0\nZZX        10.0   23.0    15.0\n\n[147 rows x 3 columns]",
      "text/html": "<div>\n<style scoped>\n    .dataframe tbody tr th:only-of-type {\n        vertical-align: middle;\n    }\n\n    .dataframe tbody tr th {\n        vertical-align: top;\n    }\n\n    .dataframe thead th {\n        text-align: right;\n    }\n</style>\n<table border=\"1\" class=\"dataframe\">\n  <thead>\n    <tr style=\"text-align: right;\">\n      <th>Medal</th>\n      <th>Bronze</th>\n      <th>Gold</th>\n      <th>Silver</th>\n    </tr>\n    <tr>\n      <th>Country</th>\n      <th></th>\n      <th></th>\n      <th></th>\n    </tr>\n  </thead>\n  <tbody>\n    <tr>\n      <th>AFG</th>\n      <td>2.0</td>\n      <td>NaN</td>\n      <td>NaN</td>\n    </tr>\n    <tr>\n      <th>AHO</th>\n      <td>NaN</td>\n      <td>NaN</td>\n      <td>1.0</td>\n    </tr>\n    <tr>\n      <th>ALG</th>\n      <td>8.0</td>\n      <td>5.0</td>\n      <td>2.0</td>\n    </tr>\n    <tr>\n      <th>ANZ</th>\n      <td>5.0</td>\n      <td>20.0</td>\n      <td>4.0</td>\n    </tr>\n    <tr>\n      <th>ARG</th>\n      <td>91.0</td>\n      <td>69.0</td>\n      <td>99.0</td>\n    </tr>\n    <tr>\n      <th>...</th>\n      <td>...</td>\n      <td>...</td>\n      <td>...</td>\n    </tr>\n    <tr>\n      <th>VIE</th>\n      <td>NaN</td>\n      <td>NaN</td>\n      <td>2.0</td>\n    </tr>\n    <tr>\n      <th>YUG</th>\n      <td>118.0</td>\n      <td>143.0</td>\n      <td>174.0</td>\n    </tr>\n    <tr>\n      <th>ZAM</th>\n      <td>1.0</td>\n      <td>NaN</td>\n      <td>1.0</td>\n    </tr>\n    <tr>\n      <th>ZIM</th>\n      <td>1.0</td>\n      <td>18.0</td>\n      <td>4.0</td>\n    </tr>\n    <tr>\n      <th>ZZX</th>\n      <td>10.0</td>\n      <td>23.0</td>\n      <td>15.0</td>\n    </tr>\n  </tbody>\n</table>\n<p>147 rows × 3 columns</p>\n</div>"
     },
     "execution_count": 11,
     "metadata": {},
     "output_type": "execute_result"
    }
   ],
   "source": [
    "medal_by_country.unstack(level=-1)"
   ],
   "metadata": {
    "collapsed": false,
    "ExecuteTime": {
     "end_time": "2024-03-23T20:39:34.743093200Z",
     "start_time": "2024-03-23T20:39:34.700327600Z"
    }
   },
   "id": "d5859e5004aa0a6",
   "execution_count": 11
  },
  {
   "cell_type": "code",
   "outputs": [
    {
     "data": {
      "text/plain": "Country  AFG  AHO  ALG   ANZ   ARG  ARM    AUS   AUT   AZE   BAH  ...    URS  \\\nMedal                                                             ...          \nBronze   2.0  NaN  8.0   5.0  91.0  8.0  472.0  44.0  15.0   5.0  ...  584.0   \nGold     NaN  NaN  5.0  20.0  69.0  1.0  312.0  21.0   6.0  13.0  ...  838.0   \nSilver   NaN  1.0  2.0   4.0  99.0  2.0  405.0  81.0   5.0   9.0  ...  627.0   \n\nCountry   URU     USA   UZB  VEN  VIE    YUG  ZAM   ZIM   ZZX  \nMedal                                                          \nBronze   30.0  1098.0  10.0  8.0  NaN  118.0  1.0   1.0  10.0  \nGold     44.0  2235.0   5.0  2.0  NaN  143.0  NaN  18.0  23.0  \nSilver    2.0  1252.0   5.0  2.0  2.0  174.0  1.0   4.0  15.0  \n\n[3 rows x 147 columns]",
      "text/html": "<div>\n<style scoped>\n    .dataframe tbody tr th:only-of-type {\n        vertical-align: middle;\n    }\n\n    .dataframe tbody tr th {\n        vertical-align: top;\n    }\n\n    .dataframe thead th {\n        text-align: right;\n    }\n</style>\n<table border=\"1\" class=\"dataframe\">\n  <thead>\n    <tr style=\"text-align: right;\">\n      <th>Country</th>\n      <th>AFG</th>\n      <th>AHO</th>\n      <th>ALG</th>\n      <th>ANZ</th>\n      <th>ARG</th>\n      <th>ARM</th>\n      <th>AUS</th>\n      <th>AUT</th>\n      <th>AZE</th>\n      <th>BAH</th>\n      <th>...</th>\n      <th>URS</th>\n      <th>URU</th>\n      <th>USA</th>\n      <th>UZB</th>\n      <th>VEN</th>\n      <th>VIE</th>\n      <th>YUG</th>\n      <th>ZAM</th>\n      <th>ZIM</th>\n      <th>ZZX</th>\n    </tr>\n    <tr>\n      <th>Medal</th>\n      <th></th>\n      <th></th>\n      <th></th>\n      <th></th>\n      <th></th>\n      <th></th>\n      <th></th>\n      <th></th>\n      <th></th>\n      <th></th>\n      <th></th>\n      <th></th>\n      <th></th>\n      <th></th>\n      <th></th>\n      <th></th>\n      <th></th>\n      <th></th>\n      <th></th>\n      <th></th>\n      <th></th>\n    </tr>\n  </thead>\n  <tbody>\n    <tr>\n      <th>Bronze</th>\n      <td>2.0</td>\n      <td>NaN</td>\n      <td>8.0</td>\n      <td>5.0</td>\n      <td>91.0</td>\n      <td>8.0</td>\n      <td>472.0</td>\n      <td>44.0</td>\n      <td>15.0</td>\n      <td>5.0</td>\n      <td>...</td>\n      <td>584.0</td>\n      <td>30.0</td>\n      <td>1098.0</td>\n      <td>10.0</td>\n      <td>8.0</td>\n      <td>NaN</td>\n      <td>118.0</td>\n      <td>1.0</td>\n      <td>1.0</td>\n      <td>10.0</td>\n    </tr>\n    <tr>\n      <th>Gold</th>\n      <td>NaN</td>\n      <td>NaN</td>\n      <td>5.0</td>\n      <td>20.0</td>\n      <td>69.0</td>\n      <td>1.0</td>\n      <td>312.0</td>\n      <td>21.0</td>\n      <td>6.0</td>\n      <td>13.0</td>\n      <td>...</td>\n      <td>838.0</td>\n      <td>44.0</td>\n      <td>2235.0</td>\n      <td>5.0</td>\n      <td>2.0</td>\n      <td>NaN</td>\n      <td>143.0</td>\n      <td>NaN</td>\n      <td>18.0</td>\n      <td>23.0</td>\n    </tr>\n    <tr>\n      <th>Silver</th>\n      <td>NaN</td>\n      <td>1.0</td>\n      <td>2.0</td>\n      <td>4.0</td>\n      <td>99.0</td>\n      <td>2.0</td>\n      <td>405.0</td>\n      <td>81.0</td>\n      <td>5.0</td>\n      <td>9.0</td>\n      <td>...</td>\n      <td>627.0</td>\n      <td>2.0</td>\n      <td>1252.0</td>\n      <td>5.0</td>\n      <td>2.0</td>\n      <td>2.0</td>\n      <td>174.0</td>\n      <td>1.0</td>\n      <td>4.0</td>\n      <td>15.0</td>\n    </tr>\n  </tbody>\n</table>\n<p>3 rows × 147 columns</p>\n</div>"
     },
     "execution_count": 12,
     "metadata": {},
     "output_type": "execute_result"
    }
   ],
   "source": [
    "medal_by_country.unstack(level=-2)"
   ],
   "metadata": {
    "collapsed": false,
    "ExecuteTime": {
     "end_time": "2024-03-23T20:39:42.433659300Z",
     "start_time": "2024-03-23T20:39:42.401669400Z"
    }
   },
   "id": "be9a004dab8d7d35",
   "execution_count": 12
  },
  {
   "cell_type": "code",
   "outputs": [],
   "source": [
    "medal_by_country = medal_by_country.unstack(level=-1, fill_value=0)"
   ],
   "metadata": {
    "collapsed": false,
    "ExecuteTime": {
     "end_time": "2024-03-23T20:42:16.979559600Z",
     "start_time": "2024-03-23T20:42:16.956720800Z"
    }
   },
   "id": "22e33b56fd113c28",
   "execution_count": 13
  },
  {
   "cell_type": "code",
   "outputs": [
    {
     "data": {
      "text/plain": "Medal    Bronze  Gold  Silver\nCountry                      \nAFG           2     0       0\nAHO           0     0       1\nALG           8     5       2\nANZ           5    20       4\nARG          91    69      99\n...         ...   ...     ...\nVIE           0     0       2\nYUG         118   143     174\nZAM           1     0       1\nZIM           1    18       4\nZZX          10    23      15\n\n[147 rows x 3 columns]",
      "text/html": "<div>\n<style scoped>\n    .dataframe tbody tr th:only-of-type {\n        vertical-align: middle;\n    }\n\n    .dataframe tbody tr th {\n        vertical-align: top;\n    }\n\n    .dataframe thead th {\n        text-align: right;\n    }\n</style>\n<table border=\"1\" class=\"dataframe\">\n  <thead>\n    <tr style=\"text-align: right;\">\n      <th>Medal</th>\n      <th>Bronze</th>\n      <th>Gold</th>\n      <th>Silver</th>\n    </tr>\n    <tr>\n      <th>Country</th>\n      <th></th>\n      <th></th>\n      <th></th>\n    </tr>\n  </thead>\n  <tbody>\n    <tr>\n      <th>AFG</th>\n      <td>2</td>\n      <td>0</td>\n      <td>0</td>\n    </tr>\n    <tr>\n      <th>AHO</th>\n      <td>0</td>\n      <td>0</td>\n      <td>1</td>\n    </tr>\n    <tr>\n      <th>ALG</th>\n      <td>8</td>\n      <td>5</td>\n      <td>2</td>\n    </tr>\n    <tr>\n      <th>ANZ</th>\n      <td>5</td>\n      <td>20</td>\n      <td>4</td>\n    </tr>\n    <tr>\n      <th>ARG</th>\n      <td>91</td>\n      <td>69</td>\n      <td>99</td>\n    </tr>\n    <tr>\n      <th>...</th>\n      <td>...</td>\n      <td>...</td>\n      <td>...</td>\n    </tr>\n    <tr>\n      <th>VIE</th>\n      <td>0</td>\n      <td>0</td>\n      <td>2</td>\n    </tr>\n    <tr>\n      <th>YUG</th>\n      <td>118</td>\n      <td>143</td>\n      <td>174</td>\n    </tr>\n    <tr>\n      <th>ZAM</th>\n      <td>1</td>\n      <td>0</td>\n      <td>1</td>\n    </tr>\n    <tr>\n      <th>ZIM</th>\n      <td>1</td>\n      <td>18</td>\n      <td>4</td>\n    </tr>\n    <tr>\n      <th>ZZX</th>\n      <td>10</td>\n      <td>23</td>\n      <td>15</td>\n    </tr>\n  </tbody>\n</table>\n<p>147 rows × 3 columns</p>\n</div>"
     },
     "execution_count": 14,
     "metadata": {},
     "output_type": "execute_result"
    }
   ],
   "source": [
    "medal_by_country"
   ],
   "metadata": {
    "collapsed": false,
    "ExecuteTime": {
     "end_time": "2024-03-23T20:42:21.131592700Z",
     "start_time": "2024-03-23T20:42:21.074434100Z"
    }
   },
   "id": "bc530e4713bd3d99",
   "execution_count": 14
  },
  {
   "cell_type": "markdown",
   "source": [
    "Now we have 147 rows and 3 columns!"
   ],
   "metadata": {
    "collapsed": false
   },
   "id": "c45ff9cc5f7481d2"
  },
  {
   "cell_type": "code",
   "outputs": [
    {
     "data": {
      "text/plain": "(147, 3)"
     },
     "execution_count": 15,
     "metadata": {},
     "output_type": "execute_result"
    }
   ],
   "source": [
    "medal_by_country.shape"
   ],
   "metadata": {
    "collapsed": false,
    "ExecuteTime": {
     "end_time": "2024-03-23T20:42:52.999898700Z",
     "start_time": "2024-03-23T20:42:52.985136100Z"
    }
   },
   "id": "fc7ec33151aeae1d",
   "execution_count": 15
  },
  {
   "cell_type": "markdown",
   "source": [
    "Now we overwrite the column names."
   ],
   "metadata": {
    "collapsed": false
   },
   "id": "12561f87abb2afd3"
  },
  {
   "cell_type": "code",
   "outputs": [],
   "source": [
    "medal_by_country = medal_by_country[[\"Gold\", \"Silver\", \"Bronze\"]]"
   ],
   "metadata": {
    "collapsed": false,
    "ExecuteTime": {
     "end_time": "2024-03-23T20:47:18.230395Z",
     "start_time": "2024-03-23T20:47:18.217961600Z"
    }
   },
   "id": "28dec726d98b431e",
   "execution_count": 17
  },
  {
   "cell_type": "code",
   "outputs": [],
   "source": [
    "medal_by_country.sort_values(\n",
    "    by=[\"Gold\", \"Silver\", \"Bronze\"],\n",
    "    ascending=[False, False, False],\n",
    "    inplace=True\n",
    ")"
   ],
   "metadata": {
    "collapsed": false,
    "ExecuteTime": {
     "end_time": "2024-03-23T20:48:22.177743300Z",
     "start_time": "2024-03-23T20:48:22.148055800Z"
    }
   },
   "id": "efc7a0cd172e72b0",
   "execution_count": 20
  },
  {
   "cell_type": "code",
   "outputs": [
    {
     "data": {
      "text/plain": "Medal    Gold  Silver  Bronze\nCountry                      \nUSA      2235    1252    1098\nURS       838     627     584\nGBR       546     621     553\nITA       476     416     404\nGER       452     378     475\n...       ...     ...     ...\nIRQ         0       0       1\nMKD         0       0       1\nMRI         0       0       1\nNIG         0       0       1\nTOG         0       0       1\n\n[147 rows x 3 columns]",
      "text/html": "<div>\n<style scoped>\n    .dataframe tbody tr th:only-of-type {\n        vertical-align: middle;\n    }\n\n    .dataframe tbody tr th {\n        vertical-align: top;\n    }\n\n    .dataframe thead th {\n        text-align: right;\n    }\n</style>\n<table border=\"1\" class=\"dataframe\">\n  <thead>\n    <tr style=\"text-align: right;\">\n      <th>Medal</th>\n      <th>Gold</th>\n      <th>Silver</th>\n      <th>Bronze</th>\n    </tr>\n    <tr>\n      <th>Country</th>\n      <th></th>\n      <th></th>\n      <th></th>\n    </tr>\n  </thead>\n  <tbody>\n    <tr>\n      <th>USA</th>\n      <td>2235</td>\n      <td>1252</td>\n      <td>1098</td>\n    </tr>\n    <tr>\n      <th>URS</th>\n      <td>838</td>\n      <td>627</td>\n      <td>584</td>\n    </tr>\n    <tr>\n      <th>GBR</th>\n      <td>546</td>\n      <td>621</td>\n      <td>553</td>\n    </tr>\n    <tr>\n      <th>ITA</th>\n      <td>476</td>\n      <td>416</td>\n      <td>404</td>\n    </tr>\n    <tr>\n      <th>GER</th>\n      <td>452</td>\n      <td>378</td>\n      <td>475</td>\n    </tr>\n    <tr>\n      <th>...</th>\n      <td>...</td>\n      <td>...</td>\n      <td>...</td>\n    </tr>\n    <tr>\n      <th>IRQ</th>\n      <td>0</td>\n      <td>0</td>\n      <td>1</td>\n    </tr>\n    <tr>\n      <th>MKD</th>\n      <td>0</td>\n      <td>0</td>\n      <td>1</td>\n    </tr>\n    <tr>\n      <th>MRI</th>\n      <td>0</td>\n      <td>0</td>\n      <td>1</td>\n    </tr>\n    <tr>\n      <th>NIG</th>\n      <td>0</td>\n      <td>0</td>\n      <td>1</td>\n    </tr>\n    <tr>\n      <th>TOG</th>\n      <td>0</td>\n      <td>0</td>\n      <td>1</td>\n    </tr>\n  </tbody>\n</table>\n<p>147 rows × 3 columns</p>\n</div>"
     },
     "execution_count": 21,
     "metadata": {},
     "output_type": "execute_result"
    }
   ],
   "source": [
    "medal_by_country"
   ],
   "metadata": {
    "collapsed": false,
    "ExecuteTime": {
     "end_time": "2024-03-23T20:48:27.420613400Z",
     "start_time": "2024-03-23T20:48:27.405217400Z"
    }
   },
   "id": "28b637399a78d485",
   "execution_count": 21
  },
  {
   "cell_type": "code",
   "outputs": [],
   "source": [
    "import matplotlib.pyplot as plt"
   ],
   "metadata": {
    "collapsed": false,
    "ExecuteTime": {
     "end_time": "2024-03-23T20:55:56.846417900Z",
     "start_time": "2024-03-23T20:55:56.794674Z"
    }
   },
   "id": "7f2c5a3d05f783b",
   "execution_count": 30
  },
  {
   "cell_type": "code",
   "outputs": [
    {
     "data": {
      "text/plain": "<Figure size 1200x800 with 1 Axes>",
      "image/png": "[encoded data removed]"
     },
     "metadata": {},
     "output_type": "display_data"
    }
   ],
   "source": [
    "medal_by_country.head(10).plot(kind=\"bar\", figsize=(12, 8), fontsize=13)\n",
    "plt.xlabel(\"Country\", fontsize=13)\n",
    "plt.ylabel(\"Number of Medals\", fontsize=13)\n",
    "plt.title(\"Medals per Country\", fontsize=16)\n",
    "plt.show()"
   ],
   "metadata": {
    "collapsed": false,
    "ExecuteTime": {
     "end_time": "2024-03-23T20:55:57.799337400Z",
     "start_time": "2024-03-23T20:55:57.573487Z"
    }
   },
   "id": "7cc1acf1eca3bbe8",
   "execution_count": 31
  },
  {
   "cell_type": "code",
   "outputs": [],
   "source": [],
   "metadata": {
    "collapsed": false
   },
   "id": "a0318c7ada140811"
  },
  {
   "cell_type": "markdown",
   "source": [
    "## With stack() method is reverse of unstack() method.\n",
    "## It is used to convert a dataframe to a multiindex and Pandas Series."
   ],
   "metadata": {
    "collapsed": false
   },
   "id": "4893b77a6d74fec4"
  },
  {
   "cell_type": "code",
   "outputs": [
    {
     "data": {
      "text/plain": "Country  Medal \nUSA      Gold      2235\n         Silver    1252\n         Bronze    1098\nURS      Gold       838\n         Silver     627\n                   ... \nNIG      Silver       0\n         Bronze       1\nTOG      Gold         0\n         Silver       0\n         Bronze       1\nLength: 441, dtype: int64"
     },
     "execution_count": 27,
     "metadata": {},
     "output_type": "execute_result"
    }
   ],
   "source": [
    "medal_by_country.stack()"
   ],
   "metadata": {
    "collapsed": false,
    "ExecuteTime": {
     "end_time": "2024-03-23T20:54:06.893777700Z",
     "start_time": "2024-03-23T20:54:06.838473500Z"
    }
   },
   "id": "22feb718c764994c",
   "execution_count": 27
  },
  {
   "cell_type": "code",
   "outputs": [],
   "source": [],
   "metadata": {
    "collapsed": false
   },
   "id": "614deefbd03a256e"
  }
 ],
 "metadata": {
  "kernelspec": {
   "display_name": "Python 3",
   "language": "python",
   "name": "python3"
  },
  "language_info": {
   "codemirror_mode": {
    "name": "ipython",
    "version": 2
   },
   "file_extension": ".py",
   "mimetype": "text/x-python",
   "name": "python",
   "nbconvert_exporter": "python",
   "pygments_lexer": "ipython2",
   "version": "2.7.6"
  }
 },
 "nbformat": 4,
 "nbformat_minor": 5
}
