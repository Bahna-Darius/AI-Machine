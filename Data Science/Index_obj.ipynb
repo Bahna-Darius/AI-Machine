{
 "cells": [
  {
   "cell_type": "code",
   "execution_count": 1,
   "id": "initial_id",
   "metadata": {
    "collapsed": true,
    "ExecuteTime": {
     "end_time": "2024-02-16T12:48:47.966953Z",
     "start_time": "2024-02-16T12:48:46.029298Z"
    }
   },
   "outputs": [],
   "source": [
    "import pandas as pd"
   ]
  },
  {
   "cell_type": "code",
   "outputs": [],
   "source": [
    "summer = pd.read_csv(\"summer.csv\", index_col=\"Athlete\")"
   ],
   "metadata": {
    "collapsed": false,
    "ExecuteTime": {
     "end_time": "2024-02-16T13:21:10.967664100Z",
     "start_time": "2024-02-16T13:21:10.896813600Z"
    }
   },
   "id": "72f4ccad3e2f81d1",
   "execution_count": 27
  },
  {
   "cell_type": "code",
   "outputs": [
    {
     "data": {
      "text/plain": "               Year\ncount  31165.000000\nmean    1970.482785\nstd       33.158416\nmin     1896.000000\n25%     1948.000000\n50%     1980.000000\n75%     2000.000000\nmax     2012.000000",
      "text/html": "<div>\n<style scoped>\n    .dataframe tbody tr th:only-of-type {\n        vertical-align: middle;\n    }\n\n    .dataframe tbody tr th {\n        vertical-align: top;\n    }\n\n    .dataframe thead th {\n        text-align: right;\n    }\n</style>\n<table border=\"1\" class=\"dataframe\">\n  <thead>\n    <tr style=\"text-align: right;\">\n      <th></th>\n      <th>Year</th>\n    </tr>\n  </thead>\n  <tbody>\n    <tr>\n      <th>count</th>\n      <td>31165.000000</td>\n    </tr>\n    <tr>\n      <th>mean</th>\n      <td>1970.482785</td>\n    </tr>\n    <tr>\n      <th>std</th>\n      <td>33.158416</td>\n    </tr>\n    <tr>\n      <th>min</th>\n      <td>1896.000000</td>\n    </tr>\n    <tr>\n      <th>25%</th>\n      <td>1948.000000</td>\n    </tr>\n    <tr>\n      <th>50%</th>\n      <td>1980.000000</td>\n    </tr>\n    <tr>\n      <th>75%</th>\n      <td>2000.000000</td>\n    </tr>\n    <tr>\n      <th>max</th>\n      <td>2012.000000</td>\n    </tr>\n  </tbody>\n</table>\n</div>"
     },
     "execution_count": 3,
     "metadata": {},
     "output_type": "execute_result"
    }
   ],
   "source": [
    "summer.describe()"
   ],
   "metadata": {
    "collapsed": false,
    "ExecuteTime": {
     "end_time": "2024-02-16T12:48:48.086718400Z",
     "start_time": "2024-02-16T12:48:48.031950100Z"
    }
   },
   "id": "28c5118ccbd49d78",
   "execution_count": 3
  },
  {
   "cell_type": "code",
   "outputs": [
    {
     "data": {
      "text/plain": "RangeIndex(start=0, stop=31165, step=1)"
     },
     "execution_count": 4,
     "metadata": {},
     "output_type": "execute_result"
    }
   ],
   "source": [
    "summer.index"
   ],
   "metadata": {
    "collapsed": false,
    "ExecuteTime": {
     "end_time": "2024-02-16T12:48:48.088717400Z",
     "start_time": "2024-02-16T12:48:48.057015300Z"
    }
   },
   "id": "e0c72ceb14335d50",
   "execution_count": 4
  },
  {
   "cell_type": "code",
   "outputs": [
    {
     "data": {
      "text/plain": "Index(['Year', 'City', 'Sport', 'Discipline', 'Athlete', 'Country', 'Gender',\n       'Event', 'Medal'],\n      dtype='object')"
     },
     "execution_count": 5,
     "metadata": {},
     "output_type": "execute_result"
    }
   ],
   "source": [
    "summer.columns"
   ],
   "metadata": {
    "collapsed": false,
    "ExecuteTime": {
     "end_time": "2024-02-16T12:48:48.090717700Z",
     "start_time": "2024-02-16T12:48:48.067017800Z"
    }
   },
   "id": "112b4546db8c8535",
   "execution_count": 5
  },
  {
   "cell_type": "code",
   "outputs": [
    {
     "data": {
      "text/plain": "        Year      Sport           Discipline Country Gender  \\\nCity                                                          \nAthens  1896   Aquatics             Swimming     HUN    Men   \nAthens  1896   Aquatics             Swimming     AUT    Men   \nAthens  1896   Aquatics             Swimming     GRE    Men   \nAthens  1896   Aquatics             Swimming     GRE    Men   \nAthens  1896   Aquatics             Swimming     GRE    Men   \n...      ...        ...                  ...     ...    ...   \nLondon  2012  Wrestling  Wrestling Freestyle     POL    Men   \nLondon  2012  Wrestling  Wrestling Freestyle     IRI    Men   \nLondon  2012  Wrestling  Wrestling Freestyle     RUS    Men   \nLondon  2012  Wrestling  Wrestling Freestyle     ARM    Men   \nLondon  2012  Wrestling  Wrestling Freestyle     SWE    Men   \n\n                             Event   Medal  \nCity                                        \nAthens              100M Freestyle    Gold  \nAthens              100M Freestyle  Silver  \nAthens  100M Freestyle For Sailors  Bronze  \nAthens  100M Freestyle For Sailors    Gold  \nAthens  100M Freestyle For Sailors  Silver  \n...                            ...     ...  \nLondon                    Wg 84 KG  Bronze  \nLondon                    Wg 96 KG    Gold  \nLondon                    Wg 96 KG  Silver  \nLondon                    Wg 96 KG  Bronze  \nLondon                    Wg 96 KG  Bronze  \n\n[31165 rows x 7 columns]",
      "text/html": "<div>\n<style scoped>\n    .dataframe tbody tr th:only-of-type {\n        vertical-align: middle;\n    }\n\n    .dataframe tbody tr th {\n        vertical-align: top;\n    }\n\n    .dataframe thead th {\n        text-align: right;\n    }\n</style>\n<table border=\"1\" class=\"dataframe\">\n  <thead>\n    <tr style=\"text-align: right;\">\n      <th></th>\n      <th>Year</th>\n      <th>Sport</th>\n      <th>Discipline</th>\n      <th>Country</th>\n      <th>Gender</th>\n      <th>Event</th>\n      <th>Medal</th>\n    </tr>\n    <tr>\n      <th>City</th>\n      <th></th>\n      <th></th>\n      <th></th>\n      <th></th>\n      <th></th>\n      <th></th>\n      <th></th>\n    </tr>\n  </thead>\n  <tbody>\n    <tr>\n      <th>Athens</th>\n      <td>1896</td>\n      <td>Aquatics</td>\n      <td>Swimming</td>\n      <td>HUN</td>\n      <td>Men</td>\n      <td>100M Freestyle</td>\n      <td>Gold</td>\n    </tr>\n    <tr>\n      <th>Athens</th>\n      <td>1896</td>\n      <td>Aquatics</td>\n      <td>Swimming</td>\n      <td>AUT</td>\n      <td>Men</td>\n      <td>100M Freestyle</td>\n      <td>Silver</td>\n    </tr>\n    <tr>\n      <th>Athens</th>\n      <td>1896</td>\n      <td>Aquatics</td>\n      <td>Swimming</td>\n      <td>GRE</td>\n      <td>Men</td>\n      <td>100M Freestyle For Sailors</td>\n      <td>Bronze</td>\n    </tr>\n    <tr>\n      <th>Athens</th>\n      <td>1896</td>\n      <td>Aquatics</td>\n      <td>Swimming</td>\n      <td>GRE</td>\n      <td>Men</td>\n      <td>100M Freestyle For Sailors</td>\n      <td>Gold</td>\n    </tr>\n    <tr>\n      <th>Athens</th>\n      <td>1896</td>\n      <td>Aquatics</td>\n      <td>Swimming</td>\n      <td>GRE</td>\n      <td>Men</td>\n      <td>100M Freestyle For Sailors</td>\n      <td>Silver</td>\n    </tr>\n    <tr>\n      <th>...</th>\n      <td>...</td>\n      <td>...</td>\n      <td>...</td>\n      <td>...</td>\n      <td>...</td>\n      <td>...</td>\n      <td>...</td>\n    </tr>\n    <tr>\n      <th>London</th>\n      <td>2012</td>\n      <td>Wrestling</td>\n      <td>Wrestling Freestyle</td>\n      <td>POL</td>\n      <td>Men</td>\n      <td>Wg 84 KG</td>\n      <td>Bronze</td>\n    </tr>\n    <tr>\n      <th>London</th>\n      <td>2012</td>\n      <td>Wrestling</td>\n      <td>Wrestling Freestyle</td>\n      <td>IRI</td>\n      <td>Men</td>\n      <td>Wg 96 KG</td>\n      <td>Gold</td>\n    </tr>\n    <tr>\n      <th>London</th>\n      <td>2012</td>\n      <td>Wrestling</td>\n      <td>Wrestling Freestyle</td>\n      <td>RUS</td>\n      <td>Men</td>\n      <td>Wg 96 KG</td>\n      <td>Silver</td>\n    </tr>\n    <tr>\n      <th>London</th>\n      <td>2012</td>\n      <td>Wrestling</td>\n      <td>Wrestling Freestyle</td>\n      <td>ARM</td>\n      <td>Men</td>\n      <td>Wg 96 KG</td>\n      <td>Bronze</td>\n    </tr>\n    <tr>\n      <th>London</th>\n      <td>2012</td>\n      <td>Wrestling</td>\n      <td>Wrestling Freestyle</td>\n      <td>SWE</td>\n      <td>Men</td>\n      <td>Wg 96 KG</td>\n      <td>Bronze</td>\n    </tr>\n  </tbody>\n</table>\n<p>31165 rows × 7 columns</p>\n</div>"
     },
     "execution_count": 28,
     "metadata": {},
     "output_type": "execute_result"
    }
   ],
   "source": [
    "summer.set_index(\"City\")"
   ],
   "metadata": {
    "collapsed": false,
    "ExecuteTime": {
     "end_time": "2024-02-16T13:21:18.548564800Z",
     "start_time": "2024-02-16T13:21:18.527954600Z"
    }
   },
   "id": "428b8dc0c82096",
   "execution_count": 28
  },
  {
   "cell_type": "code",
   "outputs": [
    {
     "data": {
      "text/plain": "   Year    City     Sport Discipline            Athlete Country Gender  \\\n0  1896  Athens  Aquatics   Swimming      HAJOS, Alfred     HUN    Men   \n1  1896  Athens  Aquatics   Swimming   HERSCHMANN, Otto     AUT    Men   \n2  1896  Athens  Aquatics   Swimming  DRIVAS, Dimitrios     GRE    Men   \n\n                        Event   Medal  \n0              100M Freestyle    Gold  \n1              100M Freestyle  Silver  \n2  100M Freestyle For Sailors  Bronze  ",
      "text/html": "<div>\n<style scoped>\n    .dataframe tbody tr th:only-of-type {\n        vertical-align: middle;\n    }\n\n    .dataframe tbody tr th {\n        vertical-align: top;\n    }\n\n    .dataframe thead th {\n        text-align: right;\n    }\n</style>\n<table border=\"1\" class=\"dataframe\">\n  <thead>\n    <tr style=\"text-align: right;\">\n      <th></th>\n      <th>Year</th>\n      <th>City</th>\n      <th>Sport</th>\n      <th>Discipline</th>\n      <th>Athlete</th>\n      <th>Country</th>\n      <th>Gender</th>\n      <th>Event</th>\n      <th>Medal</th>\n    </tr>\n  </thead>\n  <tbody>\n    <tr>\n      <th>0</th>\n      <td>1896</td>\n      <td>Athens</td>\n      <td>Aquatics</td>\n      <td>Swimming</td>\n      <td>HAJOS, Alfred</td>\n      <td>HUN</td>\n      <td>Men</td>\n      <td>100M Freestyle</td>\n      <td>Gold</td>\n    </tr>\n    <tr>\n      <th>1</th>\n      <td>1896</td>\n      <td>Athens</td>\n      <td>Aquatics</td>\n      <td>Swimming</td>\n      <td>HERSCHMANN, Otto</td>\n      <td>AUT</td>\n      <td>Men</td>\n      <td>100M Freestyle</td>\n      <td>Silver</td>\n    </tr>\n    <tr>\n      <th>2</th>\n      <td>1896</td>\n      <td>Athens</td>\n      <td>Aquatics</td>\n      <td>Swimming</td>\n      <td>DRIVAS, Dimitrios</td>\n      <td>GRE</td>\n      <td>Men</td>\n      <td>100M Freestyle For Sailors</td>\n      <td>Bronze</td>\n    </tr>\n  </tbody>\n</table>\n</div>"
     },
     "execution_count": 7,
     "metadata": {},
     "output_type": "execute_result"
    }
   ],
   "source": [
    "summer.head(3)"
   ],
   "metadata": {
    "collapsed": false
   },
   "id": "3eaca8f742c3fc7",
   "execution_count": 7
  },
  {
   "cell_type": "code",
   "outputs": [
    {
     "data": {
      "text/plain": "City              Athens\nAthlete    HAJOS, Alfred\nName: 0, dtype: object"
     },
     "execution_count": 8,
     "metadata": {},
     "output_type": "execute_result"
    }
   ],
   "source": [
    "summer.iloc[0, [1,4]]"
   ],
   "metadata": {
    "collapsed": false
   },
   "id": "6be0829b6a04da28",
   "execution_count": 8
  },
  {
   "cell_type": "code",
   "outputs": [],
   "source": [
    "my_dictionary = {\n",
    "    \"Str\": \"s-s-s\",\n",
    "    \"Int\": 24\n",
    "}"
   ],
   "metadata": {
    "collapsed": false
   },
   "id": "2dcb56ac8a19c1c9",
   "execution_count": 9
  },
  {
   "cell_type": "code",
   "outputs": [],
   "source": [
    "my_date = pd.Series(my_dictionary)"
   ],
   "metadata": {
    "collapsed": false
   },
   "id": "2046751c02de97a9",
   "execution_count": 10
  },
  {
   "cell_type": "code",
   "outputs": [
    {
     "data": {
      "text/plain": "24"
     },
     "execution_count": 11,
     "metadata": {},
     "output_type": "execute_result"
    }
   ],
   "source": [
    "my_date.values[1]"
   ],
   "metadata": {
    "collapsed": false
   },
   "id": "cead0007dd142f67",
   "execution_count": 11
  },
  {
   "cell_type": "code",
   "outputs": [
    {
     "data": {
      "text/plain": "                    Year    City     Sport Discipline Country Gender  \\\nAthlete                                                                \nHAJOS, Alfred       1896  Athens  Aquatics   Swimming     HUN    Men   \nHERSCHMANN, Otto    1896  Athens  Aquatics   Swimming     AUT    Men   \nDRIVAS, Dimitrios   1896  Athens  Aquatics   Swimming     GRE    Men   \nMALOKINIS, Ioannis  1896  Athens  Aquatics   Swimming     GRE    Men   \nCHASAPIS, Spiridon  1896  Athens  Aquatics   Swimming     GRE    Men   \n\n                                         Event   Medal  \nAthlete                                                 \nHAJOS, Alfred                   100M Freestyle    Gold  \nHERSCHMANN, Otto                100M Freestyle  Silver  \nDRIVAS, Dimitrios   100M Freestyle For Sailors  Bronze  \nMALOKINIS, Ioannis  100M Freestyle For Sailors    Gold  \nCHASAPIS, Spiridon  100M Freestyle For Sailors  Silver  ",
      "text/html": "<div>\n<style scoped>\n    .dataframe tbody tr th:only-of-type {\n        vertical-align: middle;\n    }\n\n    .dataframe tbody tr th {\n        vertical-align: top;\n    }\n\n    .dataframe thead th {\n        text-align: right;\n    }\n</style>\n<table border=\"1\" class=\"dataframe\">\n  <thead>\n    <tr style=\"text-align: right;\">\n      <th></th>\n      <th>Year</th>\n      <th>City</th>\n      <th>Sport</th>\n      <th>Discipline</th>\n      <th>Country</th>\n      <th>Gender</th>\n      <th>Event</th>\n      <th>Medal</th>\n    </tr>\n    <tr>\n      <th>Athlete</th>\n      <th></th>\n      <th></th>\n      <th></th>\n      <th></th>\n      <th></th>\n      <th></th>\n      <th></th>\n      <th></th>\n    </tr>\n  </thead>\n  <tbody>\n    <tr>\n      <th>HAJOS, Alfred</th>\n      <td>1896</td>\n      <td>Athens</td>\n      <td>Aquatics</td>\n      <td>Swimming</td>\n      <td>HUN</td>\n      <td>Men</td>\n      <td>100M Freestyle</td>\n      <td>Gold</td>\n    </tr>\n    <tr>\n      <th>HERSCHMANN, Otto</th>\n      <td>1896</td>\n      <td>Athens</td>\n      <td>Aquatics</td>\n      <td>Swimming</td>\n      <td>AUT</td>\n      <td>Men</td>\n      <td>100M Freestyle</td>\n      <td>Silver</td>\n    </tr>\n    <tr>\n      <th>DRIVAS, Dimitrios</th>\n      <td>1896</td>\n      <td>Athens</td>\n      <td>Aquatics</td>\n      <td>Swimming</td>\n      <td>GRE</td>\n      <td>Men</td>\n      <td>100M Freestyle For Sailors</td>\n      <td>Bronze</td>\n    </tr>\n    <tr>\n      <th>MALOKINIS, Ioannis</th>\n      <td>1896</td>\n      <td>Athens</td>\n      <td>Aquatics</td>\n      <td>Swimming</td>\n      <td>GRE</td>\n      <td>Men</td>\n      <td>100M Freestyle For Sailors</td>\n      <td>Gold</td>\n    </tr>\n    <tr>\n      <th>CHASAPIS, Spiridon</th>\n      <td>1896</td>\n      <td>Athens</td>\n      <td>Aquatics</td>\n      <td>Swimming</td>\n      <td>GRE</td>\n      <td>Men</td>\n      <td>100M Freestyle For Sailors</td>\n      <td>Silver</td>\n    </tr>\n  </tbody>\n</table>\n</div>"
     },
     "execution_count": 29,
     "metadata": {},
     "output_type": "execute_result"
    }
   ],
   "source": [
    "summer.head()"
   ],
   "metadata": {
    "collapsed": false,
    "ExecuteTime": {
     "end_time": "2024-02-16T13:21:34.999438900Z",
     "start_time": "2024-02-16T13:21:34.978914700Z"
    }
   },
   "id": "88d52d621b02ecd2",
   "execution_count": 29
  },
  {
   "cell_type": "markdown",
   "source": [
    "# Add Columns Index\n",
    "## Index Columns are immutable\n"
   ],
   "metadata": {
    "collapsed": false
   },
   "id": "1bc0412d0d256b7c"
  },
  {
   "cell_type": "code",
   "outputs": [
    {
     "data": {
      "text/plain": "                    Year    City     Sport Discipline Country Gender  \\\nAthlete                                                                \nHAJOS, Alfred       1896  Athens  Aquatics   Swimming     HUN    Men   \nHERSCHMANN, Otto    1896  Athens  Aquatics   Swimming     AUT    Men   \nDRIVAS, Dimitrios   1896  Athens  Aquatics   Swimming     GRE    Men   \nMALOKINIS, Ioannis  1896  Athens  Aquatics   Swimming     GRE    Men   \nCHASAPIS, Spiridon  1896  Athens  Aquatics   Swimming     GRE    Men   \n\n                                         Event   Medal  \nAthlete                                                 \nHAJOS, Alfred                   100M Freestyle    Gold  \nHERSCHMANN, Otto                100M Freestyle  Silver  \nDRIVAS, Dimitrios   100M Freestyle For Sailors  Bronze  \nMALOKINIS, Ioannis  100M Freestyle For Sailors    Gold  \nCHASAPIS, Spiridon  100M Freestyle For Sailors  Silver  ",
      "text/html": "<div>\n<style scoped>\n    .dataframe tbody tr th:only-of-type {\n        vertical-align: middle;\n    }\n\n    .dataframe tbody tr th {\n        vertical-align: top;\n    }\n\n    .dataframe thead th {\n        text-align: right;\n    }\n</style>\n<table border=\"1\" class=\"dataframe\">\n  <thead>\n    <tr style=\"text-align: right;\">\n      <th></th>\n      <th>Year</th>\n      <th>City</th>\n      <th>Sport</th>\n      <th>Discipline</th>\n      <th>Country</th>\n      <th>Gender</th>\n      <th>Event</th>\n      <th>Medal</th>\n    </tr>\n    <tr>\n      <th>Athlete</th>\n      <th></th>\n      <th></th>\n      <th></th>\n      <th></th>\n      <th></th>\n      <th></th>\n      <th></th>\n      <th></th>\n    </tr>\n  </thead>\n  <tbody>\n    <tr>\n      <th>HAJOS, Alfred</th>\n      <td>1896</td>\n      <td>Athens</td>\n      <td>Aquatics</td>\n      <td>Swimming</td>\n      <td>HUN</td>\n      <td>Men</td>\n      <td>100M Freestyle</td>\n      <td>Gold</td>\n    </tr>\n    <tr>\n      <th>HERSCHMANN, Otto</th>\n      <td>1896</td>\n      <td>Athens</td>\n      <td>Aquatics</td>\n      <td>Swimming</td>\n      <td>AUT</td>\n      <td>Men</td>\n      <td>100M Freestyle</td>\n      <td>Silver</td>\n    </tr>\n    <tr>\n      <th>DRIVAS, Dimitrios</th>\n      <td>1896</td>\n      <td>Athens</td>\n      <td>Aquatics</td>\n      <td>Swimming</td>\n      <td>GRE</td>\n      <td>Men</td>\n      <td>100M Freestyle For Sailors</td>\n      <td>Bronze</td>\n    </tr>\n    <tr>\n      <th>MALOKINIS, Ioannis</th>\n      <td>1896</td>\n      <td>Athens</td>\n      <td>Aquatics</td>\n      <td>Swimming</td>\n      <td>GRE</td>\n      <td>Men</td>\n      <td>100M Freestyle For Sailors</td>\n      <td>Gold</td>\n    </tr>\n    <tr>\n      <th>CHASAPIS, Spiridon</th>\n      <td>1896</td>\n      <td>Athens</td>\n      <td>Aquatics</td>\n      <td>Swimming</td>\n      <td>GRE</td>\n      <td>Men</td>\n      <td>100M Freestyle For Sailors</td>\n      <td>Silver</td>\n    </tr>\n  </tbody>\n</table>\n</div>"
     },
     "execution_count": 26,
     "metadata": {},
     "output_type": "execute_result"
    }
   ],
   "source": [
    "summer.set_index(keys=\"Athlete\").iloc[0:5]"
   ],
   "metadata": {
    "collapsed": false,
    "ExecuteTime": {
     "end_time": "2024-02-16T13:18:12.702853900Z",
     "start_time": "2024-02-16T13:18:12.669976300Z"
    }
   },
   "id": "7e8c10b2cc4fabcd",
   "execution_count": 26
  },
  {
   "cell_type": "code",
   "outputs": [],
   "source": [
    "x = summer.iloc[0:3]"
   ],
   "metadata": {
    "collapsed": false,
    "ExecuteTime": {
     "end_time": "2024-02-19T10:49:11.360522600Z",
     "start_time": "2024-02-19T10:49:11.335877700Z"
    }
   },
   "id": "efea580a9cd43cb",
   "execution_count": 80
  },
  {
   "cell_type": "code",
   "outputs": [],
   "source": [
    "x.index = ['test','test','test']"
   ],
   "metadata": {
    "collapsed": false,
    "ExecuteTime": {
     "end_time": "2024-02-16T13:24:23.684974500Z",
     "start_time": "2024-02-16T13:24:23.662018Z"
    }
   },
   "id": "2dc41e5538276278",
   "execution_count": 43
  },
  {
   "cell_type": "code",
   "outputs": [],
   "source": [
    "x.index.name = 'wow'"
   ],
   "metadata": {
    "collapsed": false,
    "ExecuteTime": {
     "end_time": "2024-02-16T13:24:49.821258900Z",
     "start_time": "2024-02-16T13:24:49.814253200Z"
    }
   },
   "id": "df9d809eccff943d",
   "execution_count": 45
  },
  {
   "cell_type": "code",
   "outputs": [
    {
     "data": {
      "text/plain": "      Year    City     Sport Discipline Country Gender  \\\nwow                                                      \ntest  1896  Athens  Aquatics   Swimming     HUN    Men   \ntest  1896  Athens  Aquatics   Swimming     AUT    Men   \ntest  1896  Athens  Aquatics   Swimming     GRE    Men   \n\n                           Event   Medal  \nwow                                       \ntest              100M Freestyle    Gold  \ntest              100M Freestyle  Silver  \ntest  100M Freestyle For Sailors  Bronze  ",
      "text/html": "<div>\n<style scoped>\n    .dataframe tbody tr th:only-of-type {\n        vertical-align: middle;\n    }\n\n    .dataframe tbody tr th {\n        vertical-align: top;\n    }\n\n    .dataframe thead th {\n        text-align: right;\n    }\n</style>\n<table border=\"1\" class=\"dataframe\">\n  <thead>\n    <tr style=\"text-align: right;\">\n      <th></th>\n      <th>Year</th>\n      <th>City</th>\n      <th>Sport</th>\n      <th>Discipline</th>\n      <th>Country</th>\n      <th>Gender</th>\n      <th>Event</th>\n      <th>Medal</th>\n    </tr>\n    <tr>\n      <th>wow</th>\n      <th></th>\n      <th></th>\n      <th></th>\n      <th></th>\n      <th></th>\n      <th></th>\n      <th></th>\n      <th></th>\n    </tr>\n  </thead>\n  <tbody>\n    <tr>\n      <th>test</th>\n      <td>1896</td>\n      <td>Athens</td>\n      <td>Aquatics</td>\n      <td>Swimming</td>\n      <td>HUN</td>\n      <td>Men</td>\n      <td>100M Freestyle</td>\n      <td>Gold</td>\n    </tr>\n    <tr>\n      <th>test</th>\n      <td>1896</td>\n      <td>Athens</td>\n      <td>Aquatics</td>\n      <td>Swimming</td>\n      <td>AUT</td>\n      <td>Men</td>\n      <td>100M Freestyle</td>\n      <td>Silver</td>\n    </tr>\n    <tr>\n      <th>test</th>\n      <td>1896</td>\n      <td>Athens</td>\n      <td>Aquatics</td>\n      <td>Swimming</td>\n      <td>GRE</td>\n      <td>Men</td>\n      <td>100M Freestyle For Sailors</td>\n      <td>Bronze</td>\n    </tr>\n  </tbody>\n</table>\n</div>"
     },
     "execution_count": 46,
     "metadata": {},
     "output_type": "execute_result"
    }
   ],
   "source": [
    "x"
   ],
   "metadata": {
    "collapsed": false,
    "ExecuteTime": {
     "end_time": "2024-02-16T13:24:51.734181100Z",
     "start_time": "2024-02-16T13:24:51.697174600Z"
    }
   },
   "id": "dc29043d3f25c61b",
   "execution_count": 46
  },
  {
   "cell_type": "code",
   "outputs": [
    {
     "data": {
      "text/plain": "                           Year    City      Sport           Discipline  \\\nAthlete                                                                   \nHAJOS, Alfred              1896  Athens   Aquatics             Swimming   \nHERSCHMANN, Otto           1896  Athens   Aquatics             Swimming   \nDRIVAS, Dimitrios          1896  Athens   Aquatics             Swimming   \nMALOKINIS, Ioannis         1896  Athens   Aquatics             Swimming   \nCHASAPIS, Spiridon         1896  Athens   Aquatics             Swimming   \n...                         ...     ...        ...                  ...   \nJANIKOWSKI, Damian         2012  London  Wrestling  Wrestling Freestyle   \nREZAEI, Ghasem Gholamreza  2012  London  Wrestling  Wrestling Freestyle   \nTOTROV, Rustam             2012  London  Wrestling  Wrestling Freestyle   \nALEKSANYAN, Artur          2012  London  Wrestling  Wrestling Freestyle   \nLIDBERG, Jimmy             2012  London  Wrestling  Wrestling Freestyle   \n\n                          Country Gender                       Event   Medal  \nAthlete                                                                       \nHAJOS, Alfred                 HUN    Men              100M Freestyle    Gold  \nHERSCHMANN, Otto              AUT    Men              100M Freestyle  Silver  \nDRIVAS, Dimitrios             GRE    Men  100M Freestyle For Sailors  Bronze  \nMALOKINIS, Ioannis            GRE    Men  100M Freestyle For Sailors    Gold  \nCHASAPIS, Spiridon            GRE    Men  100M Freestyle For Sailors  Silver  \n...                           ...    ...                         ...     ...  \nJANIKOWSKI, Damian            POL    Men                    Wg 84 KG  Bronze  \nREZAEI, Ghasem Gholamreza     IRI    Men                    Wg 96 KG    Gold  \nTOTROV, Rustam                RUS    Men                    Wg 96 KG  Silver  \nALEKSANYAN, Artur             ARM    Men                    Wg 96 KG  Bronze  \nLIDBERG, Jimmy                SWE    Men                    Wg 96 KG  Bronze  \n\n[31165 rows x 8 columns]",
      "text/html": "<div>\n<style scoped>\n    .dataframe tbody tr th:only-of-type {\n        vertical-align: middle;\n    }\n\n    .dataframe tbody tr th {\n        vertical-align: top;\n    }\n\n    .dataframe thead th {\n        text-align: right;\n    }\n</style>\n<table border=\"1\" class=\"dataframe\">\n  <thead>\n    <tr style=\"text-align: right;\">\n      <th></th>\n      <th>Year</th>\n      <th>City</th>\n      <th>Sport</th>\n      <th>Discipline</th>\n      <th>Country</th>\n      <th>Gender</th>\n      <th>Event</th>\n      <th>Medal</th>\n    </tr>\n    <tr>\n      <th>Athlete</th>\n      <th></th>\n      <th></th>\n      <th></th>\n      <th></th>\n      <th></th>\n      <th></th>\n      <th></th>\n      <th></th>\n    </tr>\n  </thead>\n  <tbody>\n    <tr>\n      <th>HAJOS, Alfred</th>\n      <td>1896</td>\n      <td>Athens</td>\n      <td>Aquatics</td>\n      <td>Swimming</td>\n      <td>HUN</td>\n      <td>Men</td>\n      <td>100M Freestyle</td>\n      <td>Gold</td>\n    </tr>\n    <tr>\n      <th>HERSCHMANN, Otto</th>\n      <td>1896</td>\n      <td>Athens</td>\n      <td>Aquatics</td>\n      <td>Swimming</td>\n      <td>AUT</td>\n      <td>Men</td>\n      <td>100M Freestyle</td>\n      <td>Silver</td>\n    </tr>\n    <tr>\n      <th>DRIVAS, Dimitrios</th>\n      <td>1896</td>\n      <td>Athens</td>\n      <td>Aquatics</td>\n      <td>Swimming</td>\n      <td>GRE</td>\n      <td>Men</td>\n      <td>100M Freestyle For Sailors</td>\n      <td>Bronze</td>\n    </tr>\n    <tr>\n      <th>MALOKINIS, Ioannis</th>\n      <td>1896</td>\n      <td>Athens</td>\n      <td>Aquatics</td>\n      <td>Swimming</td>\n      <td>GRE</td>\n      <td>Men</td>\n      <td>100M Freestyle For Sailors</td>\n      <td>Gold</td>\n    </tr>\n    <tr>\n      <th>CHASAPIS, Spiridon</th>\n      <td>1896</td>\n      <td>Athens</td>\n      <td>Aquatics</td>\n      <td>Swimming</td>\n      <td>GRE</td>\n      <td>Men</td>\n      <td>100M Freestyle For Sailors</td>\n      <td>Silver</td>\n    </tr>\n    <tr>\n      <th>...</th>\n      <td>...</td>\n      <td>...</td>\n      <td>...</td>\n      <td>...</td>\n      <td>...</td>\n      <td>...</td>\n      <td>...</td>\n      <td>...</td>\n    </tr>\n    <tr>\n      <th>JANIKOWSKI, Damian</th>\n      <td>2012</td>\n      <td>London</td>\n      <td>Wrestling</td>\n      <td>Wrestling Freestyle</td>\n      <td>POL</td>\n      <td>Men</td>\n      <td>Wg 84 KG</td>\n      <td>Bronze</td>\n    </tr>\n    <tr>\n      <th>REZAEI, Ghasem Gholamreza</th>\n      <td>2012</td>\n      <td>London</td>\n      <td>Wrestling</td>\n      <td>Wrestling Freestyle</td>\n      <td>IRI</td>\n      <td>Men</td>\n      <td>Wg 96 KG</td>\n      <td>Gold</td>\n    </tr>\n    <tr>\n      <th>TOTROV, Rustam</th>\n      <td>2012</td>\n      <td>London</td>\n      <td>Wrestling</td>\n      <td>Wrestling Freestyle</td>\n      <td>RUS</td>\n      <td>Men</td>\n      <td>Wg 96 KG</td>\n      <td>Silver</td>\n    </tr>\n    <tr>\n      <th>ALEKSANYAN, Artur</th>\n      <td>2012</td>\n      <td>London</td>\n      <td>Wrestling</td>\n      <td>Wrestling Freestyle</td>\n      <td>ARM</td>\n      <td>Men</td>\n      <td>Wg 96 KG</td>\n      <td>Bronze</td>\n    </tr>\n    <tr>\n      <th>LIDBERG, Jimmy</th>\n      <td>2012</td>\n      <td>London</td>\n      <td>Wrestling</td>\n      <td>Wrestling Freestyle</td>\n      <td>SWE</td>\n      <td>Men</td>\n      <td>Wg 96 KG</td>\n      <td>Bronze</td>\n    </tr>\n  </tbody>\n</table>\n<p>31165 rows × 8 columns</p>\n</div>"
     },
     "execution_count": 52,
     "metadata": {},
     "output_type": "execute_result"
    }
   ],
   "source": [
    "summer"
   ],
   "metadata": {
    "collapsed": false,
    "ExecuteTime": {
     "end_time": "2024-02-16T13:28:54.912339600Z",
     "start_time": "2024-02-16T13:28:54.868546700Z"
    }
   },
   "id": "3400c44f493ef492",
   "execution_count": 52
  },
  {
   "cell_type": "code",
   "outputs": [
    {
     "data": {
      "text/plain": "                         Athlete  Year    City      Sport  \\\n0                  HAJOS, Alfred  1896  Athens   Aquatics   \n1               HERSCHMANN, Otto  1896  Athens   Aquatics   \n2              DRIVAS, Dimitrios  1896  Athens   Aquatics   \n3             MALOKINIS, Ioannis  1896  Athens   Aquatics   \n4             CHASAPIS, Spiridon  1896  Athens   Aquatics   \n...                          ...   ...     ...        ...   \n31160         JANIKOWSKI, Damian  2012  London  Wrestling   \n31161  REZAEI, Ghasem Gholamreza  2012  London  Wrestling   \n31162             TOTROV, Rustam  2012  London  Wrestling   \n31163          ALEKSANYAN, Artur  2012  London  Wrestling   \n31164             LIDBERG, Jimmy  2012  London  Wrestling   \n\n                Discipline Country Gender                       Event   Medal  \n0                 Swimming     HUN    Men              100M Freestyle    Gold  \n1                 Swimming     AUT    Men              100M Freestyle  Silver  \n2                 Swimming     GRE    Men  100M Freestyle For Sailors  Bronze  \n3                 Swimming     GRE    Men  100M Freestyle For Sailors    Gold  \n4                 Swimming     GRE    Men  100M Freestyle For Sailors  Silver  \n...                    ...     ...    ...                         ...     ...  \n31160  Wrestling Freestyle     POL    Men                    Wg 84 KG  Bronze  \n31161  Wrestling Freestyle     IRI    Men                    Wg 96 KG    Gold  \n31162  Wrestling Freestyle     RUS    Men                    Wg 96 KG  Silver  \n31163  Wrestling Freestyle     ARM    Men                    Wg 96 KG  Bronze  \n31164  Wrestling Freestyle     SWE    Men                    Wg 96 KG  Bronze  \n\n[31165 rows x 9 columns]",
      "text/html": "<div>\n<style scoped>\n    .dataframe tbody tr th:only-of-type {\n        vertical-align: middle;\n    }\n\n    .dataframe tbody tr th {\n        vertical-align: top;\n    }\n\n    .dataframe thead th {\n        text-align: right;\n    }\n</style>\n<table border=\"1\" class=\"dataframe\">\n  <thead>\n    <tr style=\"text-align: right;\">\n      <th></th>\n      <th>Athlete</th>\n      <th>Year</th>\n      <th>City</th>\n      <th>Sport</th>\n      <th>Discipline</th>\n      <th>Country</th>\n      <th>Gender</th>\n      <th>Event</th>\n      <th>Medal</th>\n    </tr>\n  </thead>\n  <tbody>\n    <tr>\n      <th>0</th>\n      <td>HAJOS, Alfred</td>\n      <td>1896</td>\n      <td>Athens</td>\n      <td>Aquatics</td>\n      <td>Swimming</td>\n      <td>HUN</td>\n      <td>Men</td>\n      <td>100M Freestyle</td>\n      <td>Gold</td>\n    </tr>\n    <tr>\n      <th>1</th>\n      <td>HERSCHMANN, Otto</td>\n      <td>1896</td>\n      <td>Athens</td>\n      <td>Aquatics</td>\n      <td>Swimming</td>\n      <td>AUT</td>\n      <td>Men</td>\n      <td>100M Freestyle</td>\n      <td>Silver</td>\n    </tr>\n    <tr>\n      <th>2</th>\n      <td>DRIVAS, Dimitrios</td>\n      <td>1896</td>\n      <td>Athens</td>\n      <td>Aquatics</td>\n      <td>Swimming</td>\n      <td>GRE</td>\n      <td>Men</td>\n      <td>100M Freestyle For Sailors</td>\n      <td>Bronze</td>\n    </tr>\n    <tr>\n      <th>3</th>\n      <td>MALOKINIS, Ioannis</td>\n      <td>1896</td>\n      <td>Athens</td>\n      <td>Aquatics</td>\n      <td>Swimming</td>\n      <td>GRE</td>\n      <td>Men</td>\n      <td>100M Freestyle For Sailors</td>\n      <td>Gold</td>\n    </tr>\n    <tr>\n      <th>4</th>\n      <td>CHASAPIS, Spiridon</td>\n      <td>1896</td>\n      <td>Athens</td>\n      <td>Aquatics</td>\n      <td>Swimming</td>\n      <td>GRE</td>\n      <td>Men</td>\n      <td>100M Freestyle For Sailors</td>\n      <td>Silver</td>\n    </tr>\n    <tr>\n      <th>...</th>\n      <td>...</td>\n      <td>...</td>\n      <td>...</td>\n      <td>...</td>\n      <td>...</td>\n      <td>...</td>\n      <td>...</td>\n      <td>...</td>\n      <td>...</td>\n    </tr>\n    <tr>\n      <th>31160</th>\n      <td>JANIKOWSKI, Damian</td>\n      <td>2012</td>\n      <td>London</td>\n      <td>Wrestling</td>\n      <td>Wrestling Freestyle</td>\n      <td>POL</td>\n      <td>Men</td>\n      <td>Wg 84 KG</td>\n      <td>Bronze</td>\n    </tr>\n    <tr>\n      <th>31161</th>\n      <td>REZAEI, Ghasem Gholamreza</td>\n      <td>2012</td>\n      <td>London</td>\n      <td>Wrestling</td>\n      <td>Wrestling Freestyle</td>\n      <td>IRI</td>\n      <td>Men</td>\n      <td>Wg 96 KG</td>\n      <td>Gold</td>\n    </tr>\n    <tr>\n      <th>31162</th>\n      <td>TOTROV, Rustam</td>\n      <td>2012</td>\n      <td>London</td>\n      <td>Wrestling</td>\n      <td>Wrestling Freestyle</td>\n      <td>RUS</td>\n      <td>Men</td>\n      <td>Wg 96 KG</td>\n      <td>Silver</td>\n    </tr>\n    <tr>\n      <th>31163</th>\n      <td>ALEKSANYAN, Artur</td>\n      <td>2012</td>\n      <td>London</td>\n      <td>Wrestling</td>\n      <td>Wrestling Freestyle</td>\n      <td>ARM</td>\n      <td>Men</td>\n      <td>Wg 96 KG</td>\n      <td>Bronze</td>\n    </tr>\n    <tr>\n      <th>31164</th>\n      <td>LIDBERG, Jimmy</td>\n      <td>2012</td>\n      <td>London</td>\n      <td>Wrestling</td>\n      <td>Wrestling Freestyle</td>\n      <td>SWE</td>\n      <td>Men</td>\n      <td>Wg 96 KG</td>\n      <td>Bronze</td>\n    </tr>\n  </tbody>\n</table>\n<p>31165 rows × 9 columns</p>\n</div>"
     },
     "execution_count": 50,
     "metadata": {},
     "output_type": "execute_result"
    }
   ],
   "source": [
    "summer.reset_index(drop=False)"
   ],
   "metadata": {
    "collapsed": false,
    "ExecuteTime": {
     "end_time": "2024-02-16T13:27:17.328051800Z",
     "start_time": "2024-02-16T13:27:17.284643300Z"
    }
   },
   "id": "b486399b07edfffa",
   "execution_count": 50
  },
  {
   "cell_type": "code",
   "outputs": [
    {
     "data": {
      "text/plain": "       Year    City      Sport           Discipline Country Gender  \\\n0      1896  Athens   Aquatics             Swimming     HUN    Men   \n1      1896  Athens   Aquatics             Swimming     AUT    Men   \n2      1896  Athens   Aquatics             Swimming     GRE    Men   \n3      1896  Athens   Aquatics             Swimming     GRE    Men   \n4      1896  Athens   Aquatics             Swimming     GRE    Men   \n...     ...     ...        ...                  ...     ...    ...   \n31160  2012  London  Wrestling  Wrestling Freestyle     POL    Men   \n31161  2012  London  Wrestling  Wrestling Freestyle     IRI    Men   \n31162  2012  London  Wrestling  Wrestling Freestyle     RUS    Men   \n31163  2012  London  Wrestling  Wrestling Freestyle     ARM    Men   \n31164  2012  London  Wrestling  Wrestling Freestyle     SWE    Men   \n\n                            Event   Medal  \n0                  100M Freestyle    Gold  \n1                  100M Freestyle  Silver  \n2      100M Freestyle For Sailors  Bronze  \n3      100M Freestyle For Sailors    Gold  \n4      100M Freestyle For Sailors  Silver  \n...                           ...     ...  \n31160                    Wg 84 KG  Bronze  \n31161                    Wg 96 KG    Gold  \n31162                    Wg 96 KG  Silver  \n31163                    Wg 96 KG  Bronze  \n31164                    Wg 96 KG  Bronze  \n\n[31165 rows x 8 columns]",
      "text/html": "<div>\n<style scoped>\n    .dataframe tbody tr th:only-of-type {\n        vertical-align: middle;\n    }\n\n    .dataframe tbody tr th {\n        vertical-align: top;\n    }\n\n    .dataframe thead th {\n        text-align: right;\n    }\n</style>\n<table border=\"1\" class=\"dataframe\">\n  <thead>\n    <tr style=\"text-align: right;\">\n      <th></th>\n      <th>Year</th>\n      <th>City</th>\n      <th>Sport</th>\n      <th>Discipline</th>\n      <th>Country</th>\n      <th>Gender</th>\n      <th>Event</th>\n      <th>Medal</th>\n    </tr>\n  </thead>\n  <tbody>\n    <tr>\n      <th>0</th>\n      <td>1896</td>\n      <td>Athens</td>\n      <td>Aquatics</td>\n      <td>Swimming</td>\n      <td>HUN</td>\n      <td>Men</td>\n      <td>100M Freestyle</td>\n      <td>Gold</td>\n    </tr>\n    <tr>\n      <th>1</th>\n      <td>1896</td>\n      <td>Athens</td>\n      <td>Aquatics</td>\n      <td>Swimming</td>\n      <td>AUT</td>\n      <td>Men</td>\n      <td>100M Freestyle</td>\n      <td>Silver</td>\n    </tr>\n    <tr>\n      <th>2</th>\n      <td>1896</td>\n      <td>Athens</td>\n      <td>Aquatics</td>\n      <td>Swimming</td>\n      <td>GRE</td>\n      <td>Men</td>\n      <td>100M Freestyle For Sailors</td>\n      <td>Bronze</td>\n    </tr>\n    <tr>\n      <th>3</th>\n      <td>1896</td>\n      <td>Athens</td>\n      <td>Aquatics</td>\n      <td>Swimming</td>\n      <td>GRE</td>\n      <td>Men</td>\n      <td>100M Freestyle For Sailors</td>\n      <td>Gold</td>\n    </tr>\n    <tr>\n      <th>4</th>\n      <td>1896</td>\n      <td>Athens</td>\n      <td>Aquatics</td>\n      <td>Swimming</td>\n      <td>GRE</td>\n      <td>Men</td>\n      <td>100M Freestyle For Sailors</td>\n      <td>Silver</td>\n    </tr>\n    <tr>\n      <th>...</th>\n      <td>...</td>\n      <td>...</td>\n      <td>...</td>\n      <td>...</td>\n      <td>...</td>\n      <td>...</td>\n      <td>...</td>\n      <td>...</td>\n    </tr>\n    <tr>\n      <th>31160</th>\n      <td>2012</td>\n      <td>London</td>\n      <td>Wrestling</td>\n      <td>Wrestling Freestyle</td>\n      <td>POL</td>\n      <td>Men</td>\n      <td>Wg 84 KG</td>\n      <td>Bronze</td>\n    </tr>\n    <tr>\n      <th>31161</th>\n      <td>2012</td>\n      <td>London</td>\n      <td>Wrestling</td>\n      <td>Wrestling Freestyle</td>\n      <td>IRI</td>\n      <td>Men</td>\n      <td>Wg 96 KG</td>\n      <td>Gold</td>\n    </tr>\n    <tr>\n      <th>31162</th>\n      <td>2012</td>\n      <td>London</td>\n      <td>Wrestling</td>\n      <td>Wrestling Freestyle</td>\n      <td>RUS</td>\n      <td>Men</td>\n      <td>Wg 96 KG</td>\n      <td>Silver</td>\n    </tr>\n    <tr>\n      <th>31163</th>\n      <td>2012</td>\n      <td>London</td>\n      <td>Wrestling</td>\n      <td>Wrestling Freestyle</td>\n      <td>ARM</td>\n      <td>Men</td>\n      <td>Wg 96 KG</td>\n      <td>Bronze</td>\n    </tr>\n    <tr>\n      <th>31164</th>\n      <td>2012</td>\n      <td>London</td>\n      <td>Wrestling</td>\n      <td>Wrestling Freestyle</td>\n      <td>SWE</td>\n      <td>Men</td>\n      <td>Wg 96 KG</td>\n      <td>Bronze</td>\n    </tr>\n  </tbody>\n</table>\n<p>31165 rows × 8 columns</p>\n</div>"
     },
     "execution_count": 51,
     "metadata": {},
     "output_type": "execute_result"
    }
   ],
   "source": [
    "summer.reset_index(drop=True)"
   ],
   "metadata": {
    "collapsed": false,
    "ExecuteTime": {
     "end_time": "2024-02-16T13:27:28.015108900Z",
     "start_time": "2024-02-16T13:27:27.991896400Z"
    }
   },
   "id": "d24a0ca48b592b39",
   "execution_count": 51
  },
  {
   "cell_type": "code",
   "outputs": [],
   "source": [
    "summer_v2 = summer.copy()"
   ],
   "metadata": {
    "collapsed": false,
    "ExecuteTime": {
     "end_time": "2024-02-16T14:13:13.184660Z",
     "start_time": "2024-02-16T14:13:13.164194Z"
    }
   },
   "id": "d8ca1338ca990a74",
   "execution_count": 62
  },
  {
   "cell_type": "code",
   "outputs": [],
   "source": [
    "summer_v2.reset_index(drop=False, inplace=True)"
   ],
   "metadata": {
    "collapsed": false,
    "ExecuteTime": {
     "end_time": "2024-02-16T14:14:03.387662300Z",
     "start_time": "2024-02-16T14:14:03.359132900Z"
    }
   },
   "id": "ab066073d805b2ac",
   "execution_count": 65
  },
  {
   "cell_type": "code",
   "outputs": [
    {
     "data": {
      "text/plain": "Index(['Year', 'City', 'Sport', 'Discipline', 'Country', 'Gender', 'Event',\n       'Medal'],\n      dtype='object', name='OK')"
     },
     "execution_count": 59,
     "metadata": {},
     "output_type": "execute_result"
    }
   ],
   "source": [
    "summer.columns"
   ],
   "metadata": {
    "collapsed": false,
    "ExecuteTime": {
     "end_time": "2024-02-16T14:12:58.251782900Z",
     "start_time": "2024-02-16T14:12:58.240271800Z"
    }
   },
   "id": "58d390ebacb7dbb6",
   "execution_count": 59
  },
  {
   "cell_type": "code",
   "outputs": [],
   "source": [
    "summer_v2.columns.name = 'OK'"
   ],
   "metadata": {
    "collapsed": false,
    "ExecuteTime": {
     "end_time": "2024-02-16T14:15:35.994165100Z",
     "start_time": "2024-02-16T14:15:35.971652900Z"
    }
   },
   "id": "9c824152df3dd984",
   "execution_count": 70
  },
  {
   "cell_type": "code",
   "outputs": [
    {
     "data": {
      "text/plain": "OK  index             Athlete  Year    City     Sport Discipline Country  \\\n0       0       HAJOS, Alfred  1896  Athens  Aquatics   Swimming     HUN   \n1       1    HERSCHMANN, Otto  1896  Athens  Aquatics   Swimming     AUT   \n2       2   DRIVAS, Dimitrios  1896  Athens  Aquatics   Swimming     GRE   \n3       3  MALOKINIS, Ioannis  1896  Athens  Aquatics   Swimming     GRE   \n4       4  CHASAPIS, Spiridon  1896  Athens  Aquatics   Swimming     GRE   \n\nOK Gender                       Event   Medal  \n0     Men              100M Freestyle    Gold  \n1     Men              100M Freestyle  Silver  \n2     Men  100M Freestyle For Sailors  Bronze  \n3     Men  100M Freestyle For Sailors    Gold  \n4     Men  100M Freestyle For Sailors  Silver  ",
      "text/html": "<div>\n<style scoped>\n    .dataframe tbody tr th:only-of-type {\n        vertical-align: middle;\n    }\n\n    .dataframe tbody tr th {\n        vertical-align: top;\n    }\n\n    .dataframe thead th {\n        text-align: right;\n    }\n</style>\n<table border=\"1\" class=\"dataframe\">\n  <thead>\n    <tr style=\"text-align: right;\">\n      <th>OK</th>\n      <th>index</th>\n      <th>Athlete</th>\n      <th>Year</th>\n      <th>City</th>\n      <th>Sport</th>\n      <th>Discipline</th>\n      <th>Country</th>\n      <th>Gender</th>\n      <th>Event</th>\n      <th>Medal</th>\n    </tr>\n  </thead>\n  <tbody>\n    <tr>\n      <th>0</th>\n      <td>0</td>\n      <td>HAJOS, Alfred</td>\n      <td>1896</td>\n      <td>Athens</td>\n      <td>Aquatics</td>\n      <td>Swimming</td>\n      <td>HUN</td>\n      <td>Men</td>\n      <td>100M Freestyle</td>\n      <td>Gold</td>\n    </tr>\n    <tr>\n      <th>1</th>\n      <td>1</td>\n      <td>HERSCHMANN, Otto</td>\n      <td>1896</td>\n      <td>Athens</td>\n      <td>Aquatics</td>\n      <td>Swimming</td>\n      <td>AUT</td>\n      <td>Men</td>\n      <td>100M Freestyle</td>\n      <td>Silver</td>\n    </tr>\n    <tr>\n      <th>2</th>\n      <td>2</td>\n      <td>DRIVAS, Dimitrios</td>\n      <td>1896</td>\n      <td>Athens</td>\n      <td>Aquatics</td>\n      <td>Swimming</td>\n      <td>GRE</td>\n      <td>Men</td>\n      <td>100M Freestyle For Sailors</td>\n      <td>Bronze</td>\n    </tr>\n    <tr>\n      <th>3</th>\n      <td>3</td>\n      <td>MALOKINIS, Ioannis</td>\n      <td>1896</td>\n      <td>Athens</td>\n      <td>Aquatics</td>\n      <td>Swimming</td>\n      <td>GRE</td>\n      <td>Men</td>\n      <td>100M Freestyle For Sailors</td>\n      <td>Gold</td>\n    </tr>\n    <tr>\n      <th>4</th>\n      <td>4</td>\n      <td>CHASAPIS, Spiridon</td>\n      <td>1896</td>\n      <td>Athens</td>\n      <td>Aquatics</td>\n      <td>Swimming</td>\n      <td>GRE</td>\n      <td>Men</td>\n      <td>100M Freestyle For Sailors</td>\n      <td>Silver</td>\n    </tr>\n  </tbody>\n</table>\n</div>"
     },
     "execution_count": 72,
     "metadata": {},
     "output_type": "execute_result"
    }
   ],
   "source": [
    "summer_v2.head()"
   ],
   "metadata": {
    "collapsed": false,
    "ExecuteTime": {
     "end_time": "2024-02-16T14:15:54.900932400Z",
     "start_time": "2024-02-16T14:15:54.863738600Z"
    }
   },
   "id": "8d73b59cc6dc5f2c",
   "execution_count": 72
  },
  {
   "cell_type": "markdown",
   "source": [
    "# Rename Index Columns"
   ],
   "metadata": {
    "collapsed": false
   },
   "id": "f731bb611c77da91"
  },
  {
   "cell_type": "code",
   "outputs": [],
   "source": [
    "ren_col = pd.read_csv(\"titanic.csv\")"
   ],
   "metadata": {
    "collapsed": false,
    "ExecuteTime": {
     "end_time": "2024-02-18T21:32:13.306433200Z",
     "start_time": "2024-02-18T21:32:13.257518500Z"
    }
   },
   "id": "e3af76f7fe096b36",
   "execution_count": 77
  },
  {
   "cell_type": "code",
   "outputs": [
    {
     "data": {
      "text/plain": "   survived  pclass     sex   age  sibsp  parch     fare embarked deck\n0         0       3    male  22.0      1      0   7.2500        S  NaN\n1         1       1  female  38.0      1      0  71.2833        C    C\n2         1       3  female  26.0      0      0   7.9250        S  NaN\n3         1       1  female  35.0      1      0  53.1000        S    C\n4         0       3    male  35.0      0      0   8.0500        S  NaN",
      "text/html": "<div>\n<style scoped>\n    .dataframe tbody tr th:only-of-type {\n        vertical-align: middle;\n    }\n\n    .dataframe tbody tr th {\n        vertical-align: top;\n    }\n\n    .dataframe thead th {\n        text-align: right;\n    }\n</style>\n<table border=\"1\" class=\"dataframe\">\n  <thead>\n    <tr style=\"text-align: right;\">\n      <th></th>\n      <th>survived</th>\n      <th>pclass</th>\n      <th>sex</th>\n      <th>age</th>\n      <th>sibsp</th>\n      <th>parch</th>\n      <th>fare</th>\n      <th>embarked</th>\n      <th>deck</th>\n    </tr>\n  </thead>\n  <tbody>\n    <tr>\n      <th>0</th>\n      <td>0</td>\n      <td>3</td>\n      <td>male</td>\n      <td>22.0</td>\n      <td>1</td>\n      <td>0</td>\n      <td>7.2500</td>\n      <td>S</td>\n      <td>NaN</td>\n    </tr>\n    <tr>\n      <th>1</th>\n      <td>1</td>\n      <td>1</td>\n      <td>female</td>\n      <td>38.0</td>\n      <td>1</td>\n      <td>0</td>\n      <td>71.2833</td>\n      <td>C</td>\n      <td>C</td>\n    </tr>\n    <tr>\n      <th>2</th>\n      <td>1</td>\n      <td>3</td>\n      <td>female</td>\n      <td>26.0</td>\n      <td>0</td>\n      <td>0</td>\n      <td>7.9250</td>\n      <td>S</td>\n      <td>NaN</td>\n    </tr>\n    <tr>\n      <th>3</th>\n      <td>1</td>\n      <td>1</td>\n      <td>female</td>\n      <td>35.0</td>\n      <td>1</td>\n      <td>0</td>\n      <td>53.1000</td>\n      <td>S</td>\n      <td>C</td>\n    </tr>\n    <tr>\n      <th>4</th>\n      <td>0</td>\n      <td>3</td>\n      <td>male</td>\n      <td>35.0</td>\n      <td>0</td>\n      <td>0</td>\n      <td>8.0500</td>\n      <td>S</td>\n      <td>NaN</td>\n    </tr>\n  </tbody>\n</table>\n</div>"
     },
     "execution_count": 78,
     "metadata": {},
     "output_type": "execute_result"
    }
   ],
   "source": [
    "ren_col.head()"
   ],
   "metadata": {
    "collapsed": false,
    "ExecuteTime": {
     "end_time": "2024-02-18T21:32:14.001303800Z",
     "start_time": "2024-02-18T21:32:13.921031300Z"
    }
   },
   "id": "4989275768a1ea9",
   "execution_count": 78
  },
  {
   "cell_type": "code",
   "outputs": [
    {
     "data": {
      "text/plain": "OK                         Year    Stad      Sport           Discipline  \\\nAthlete                                                                   \nHAJOS, Alfred              1896  Athens   Aquatics             Swimming   \nHERSCHMANN, Otto           1896  Athens   Aquatics             Swimming   \nDRIVAS, Dimitrios          1896  Athens   Aquatics             Swimming   \nMALOKINIS, Ioannis         1896  Athens   Aquatics             Swimming   \nCHASAPIS, Spiridon         1896  Athens   Aquatics             Swimming   \n...                         ...     ...        ...                  ...   \nJANIKOWSKI, Damian         2012  London  Wrestling  Wrestling Freestyle   \nREZAEI, Ghasem Gholamreza  2012  London  Wrestling  Wrestling Freestyle   \nTOTROV, Rustam             2012  London  Wrestling  Wrestling Freestyle   \nALEKSANYAN, Artur          2012  London  Wrestling  Wrestling Freestyle   \nLIDBERG, Jimmy             2012  London  Wrestling  Wrestling Freestyle   \n\nOK                        Country Gender                       Event   Medal  \nAthlete                                                                       \nHAJOS, Alfred                 HUN    Men              100M Freestyle    Gold  \nHERSCHMANN, Otto              AUT    Men              100M Freestyle  Silver  \nDRIVAS, Dimitrios             GRE    Men  100M Freestyle For Sailors  Bronze  \nMALOKINIS, Ioannis            GRE    Men  100M Freestyle For Sailors    Gold  \nCHASAPIS, Spiridon            GRE    Men  100M Freestyle For Sailors  Silver  \n...                           ...    ...                         ...     ...  \nJANIKOWSKI, Damian            POL    Men                    Wg 84 KG  Bronze  \nREZAEI, Ghasem Gholamreza     IRI    Men                    Wg 96 KG    Gold  \nTOTROV, Rustam                RUS    Men                    Wg 96 KG  Silver  \nALEKSANYAN, Artur             ARM    Men                    Wg 96 KG  Bronze  \nLIDBERG, Jimmy                SWE    Men                    Wg 96 KG  Bronze  \n\n[31165 rows x 8 columns]",
      "text/html": "<div>\n<style scoped>\n    .dataframe tbody tr th:only-of-type {\n        vertical-align: middle;\n    }\n\n    .dataframe tbody tr th {\n        vertical-align: top;\n    }\n\n    .dataframe thead th {\n        text-align: right;\n    }\n</style>\n<table border=\"1\" class=\"dataframe\">\n  <thead>\n    <tr style=\"text-align: right;\">\n      <th>OK</th>\n      <th>Year</th>\n      <th>Stad</th>\n      <th>Sport</th>\n      <th>Discipline</th>\n      <th>Country</th>\n      <th>Gender</th>\n      <th>Event</th>\n      <th>Medal</th>\n    </tr>\n    <tr>\n      <th>Athlete</th>\n      <th></th>\n      <th></th>\n      <th></th>\n      <th></th>\n      <th></th>\n      <th></th>\n      <th></th>\n      <th></th>\n    </tr>\n  </thead>\n  <tbody>\n    <tr>\n      <th>HAJOS, Alfred</th>\n      <td>1896</td>\n      <td>Athens</td>\n      <td>Aquatics</td>\n      <td>Swimming</td>\n      <td>HUN</td>\n      <td>Men</td>\n      <td>100M Freestyle</td>\n      <td>Gold</td>\n    </tr>\n    <tr>\n      <th>HERSCHMANN, Otto</th>\n      <td>1896</td>\n      <td>Athens</td>\n      <td>Aquatics</td>\n      <td>Swimming</td>\n      <td>AUT</td>\n      <td>Men</td>\n      <td>100M Freestyle</td>\n      <td>Silver</td>\n    </tr>\n    <tr>\n      <th>DRIVAS, Dimitrios</th>\n      <td>1896</td>\n      <td>Athens</td>\n      <td>Aquatics</td>\n      <td>Swimming</td>\n      <td>GRE</td>\n      <td>Men</td>\n      <td>100M Freestyle For Sailors</td>\n      <td>Bronze</td>\n    </tr>\n    <tr>\n      <th>MALOKINIS, Ioannis</th>\n      <td>1896</td>\n      <td>Athens</td>\n      <td>Aquatics</td>\n      <td>Swimming</td>\n      <td>GRE</td>\n      <td>Men</td>\n      <td>100M Freestyle For Sailors</td>\n      <td>Gold</td>\n    </tr>\n    <tr>\n      <th>CHASAPIS, Spiridon</th>\n      <td>1896</td>\n      <td>Athens</td>\n      <td>Aquatics</td>\n      <td>Swimming</td>\n      <td>GRE</td>\n      <td>Men</td>\n      <td>100M Freestyle For Sailors</td>\n      <td>Silver</td>\n    </tr>\n    <tr>\n      <th>...</th>\n      <td>...</td>\n      <td>...</td>\n      <td>...</td>\n      <td>...</td>\n      <td>...</td>\n      <td>...</td>\n      <td>...</td>\n      <td>...</td>\n    </tr>\n    <tr>\n      <th>JANIKOWSKI, Damian</th>\n      <td>2012</td>\n      <td>London</td>\n      <td>Wrestling</td>\n      <td>Wrestling Freestyle</td>\n      <td>POL</td>\n      <td>Men</td>\n      <td>Wg 84 KG</td>\n      <td>Bronze</td>\n    </tr>\n    <tr>\n      <th>REZAEI, Ghasem Gholamreza</th>\n      <td>2012</td>\n      <td>London</td>\n      <td>Wrestling</td>\n      <td>Wrestling Freestyle</td>\n      <td>IRI</td>\n      <td>Men</td>\n      <td>Wg 96 KG</td>\n      <td>Gold</td>\n    </tr>\n    <tr>\n      <th>TOTROV, Rustam</th>\n      <td>2012</td>\n      <td>London</td>\n      <td>Wrestling</td>\n      <td>Wrestling Freestyle</td>\n      <td>RUS</td>\n      <td>Men</td>\n      <td>Wg 96 KG</td>\n      <td>Silver</td>\n    </tr>\n    <tr>\n      <th>ALEKSANYAN, Artur</th>\n      <td>2012</td>\n      <td>London</td>\n      <td>Wrestling</td>\n      <td>Wrestling Freestyle</td>\n      <td>ARM</td>\n      <td>Men</td>\n      <td>Wg 96 KG</td>\n      <td>Bronze</td>\n    </tr>\n    <tr>\n      <th>LIDBERG, Jimmy</th>\n      <td>2012</td>\n      <td>London</td>\n      <td>Wrestling</td>\n      <td>Wrestling Freestyle</td>\n      <td>SWE</td>\n      <td>Men</td>\n      <td>Wg 96 KG</td>\n      <td>Bronze</td>\n    </tr>\n  </tbody>\n</table>\n<p>31165 rows × 8 columns</p>\n</div>"
     },
     "execution_count": 79,
     "metadata": {},
     "output_type": "execute_result"
    }
   ],
   "source": [
    "summer.rename(columns={\"City\":\"Stad\"})"
   ],
   "metadata": {
    "collapsed": false,
    "ExecuteTime": {
     "end_time": "2024-02-18T21:34:44.811754800Z",
     "start_time": "2024-02-18T21:34:44.710138400Z"
    }
   },
   "id": "6c0395307e6d6b5e",
   "execution_count": 79
  },
  {
   "cell_type": "code",
   "outputs": [],
   "source": [],
   "metadata": {
    "collapsed": false
   },
   "id": "ec5abc0fe71e804"
  }
 ],
 "metadata": {
  "kernelspec": {
   "display_name": "Python 3",
   "language": "python",
   "name": "python3"
  },
  "language_info": {
   "codemirror_mode": {
    "name": "ipython",
    "version": 2
   },
   "file_extension": ".py",
   "mimetype": "text/x-python",
   "name": "python",
   "nbconvert_exporter": "python",
   "pygments_lexer": "ipython2",
   "version": "2.7.6"
  }
 },
 "nbformat": 4,
 "nbformat_minor": 5
}
