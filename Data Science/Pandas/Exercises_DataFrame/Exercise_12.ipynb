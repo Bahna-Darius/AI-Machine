{
 "cells": [
  {
   "cell_type": "markdown",
   "metadata": {},
   "source": [
    "# Coding Exercises (Part 1)"
   ]
  },
  {
   "cell_type": "markdown",
   "metadata": {},
   "source": [
    "## Full Data Workflow A-Z: Merging, Joining, Concatenating"
   ]
  },
  {
   "cell_type": "markdown",
   "metadata": {},
   "source": [
    "### Exercise 12: Merging, joining, aligning and concatenating Data "
   ]
  },
  {
   "cell_type": "markdown",
   "metadata": {},
   "source": [
    "Now, you will have the opportunity to analyze your own dataset. <br>\n",
    "__Follow the instructions__ and insert your code! You are either requested to \n",
    "- Complete the Code and __Fill in the gaps__. Gaps are marked with \"__---__\" and are __placeholders__ for your code fragment. \n",
    "- Write Code completely __on your own__ "
   ]
  },
  {
   "cell_type": "markdown",
   "metadata": {},
   "source": [
    "In some exercises, you will find questions that can only be answered, if your code is correct and returns the right output! The correct answer is provided below your coding cell. There you can check whether your code is correct."
   ]
  },
  {
   "cell_type": "markdown",
   "metadata": {},
   "source": [
    "If you need a hint, check the __Hints Section__ at the end of this Notebook. Exercises and Hints are numerated accordingly."
   ]
  },
  {
   "cell_type": "markdown",
   "metadata": {},
   "source": [
    "If you need some further help or if you want to check your code, you can also check the __solutions notebook__."
   ]
  },
  {
   "cell_type": "markdown",
   "metadata": {},
   "source": [
    "### Have Fun!"
   ]
  },
  {
   "cell_type": "markdown",
   "metadata": {},
   "source": [
    "--------------------------------------------------------------------------------------------------------------"
   ]
  },
  {
   "cell_type": "markdown",
   "metadata": {},
   "source": [
    "## Option 1: Self_guided"
   ]
  },
  {
   "cell_type": "markdown",
   "metadata": {},
   "source": [
    "### Concatenating DataFrames vertically"
   ]
  },
  {
   "cell_type": "markdown",
   "metadata": {},
   "source": [
    "__Import__ the cars dataset (with cars from usa and europe) from the csv-file __cars_clean.csv__. <br>\n",
    "Also __import__ the csv-file __cars_jap.csv__ (with cars from japan) and __concatenate__ both DataFrames __vertically__! <br>\n",
    "__Save__ the __concatenated DataFrame__ in the variable __cars_all__! <br>\n",
    "Finally, __sort__ cars_all by the model_year from __low to high__!"
   ]
  },
  {
   "cell_type": "markdown",
   "metadata": {},
   "source": [
    "### Left Join"
   ]
  },
  {
   "cell_type": "markdown",
   "metadata": {},
   "source": [
    "__Import__ the csv-files __summer.csv__ (as summer) and __dictionary.csv__ (as dic) which contains the __full country name__ for the olympic country codes as well as __population__ and __gdp__ statistics for some countries.<br>\n",
    "\n",
    "__\"Copy and paste\"__ the __full country name__, __population__ and __gdp__ from the dic DataFrame __into the summer DataFrame__ with a __Left Join__!<br>\n",
    "__Save__ the new merged DataFrame in the variable __summer_new__!<br>\n",
    "\n",
    "__Inspect__ summer_new and determine the __olympic country codes__ for which the dic DataFrame does __not provide__ any information!"
   ]
  },
  {
   "cell_type": "markdown",
   "metadata": {},
   "source": [
    "### Arithmetic operations between DataFrames / Alignment"
   ]
  },
  {
   "cell_type": "markdown",
   "metadata": {},
   "source": [
    "__Import__ the csv-files __ath_2008.csv__ and __ath_2012.csv__ with all medals winners in the Sport __Athletics__ in the Editions __2008__ and __2012__."
   ]
  },
  {
   "cell_type": "markdown",
   "metadata": {},
   "source": [
    "For __all Athletes__ in the two DataFrames, __aggregate/add__ the total number of __Gold__, __Silver__ and __Bronze__ Medals over both editions! __Save__ the aggregated DataFrame in the variable __add__. (Hint: add should contain an index with the Athlete names and three columns, Gold, Silver, Bronze)"
   ]
  },
  {
   "cell_type": "markdown",
   "metadata": {},
   "source": [
    "__Sort__ add by Gold, Silver, Bronze from __high to low__! Change datatype to __integer__, if necessary! The first Athlete in your DataFrame should be ... no surprise ... Usain Bolt with 6 Gold and 0 Silver and Bronze Medals."
   ]
  },
  {
   "cell_type": "markdown",
   "metadata": {},
   "source": [
    "-------------------------------------"
   ]
  },
  {
   "cell_type": "markdown",
   "metadata": {},
   "source": [
    "## Option 2: Guided and Instructed"
   ]
  },
  {
   "cell_type": "markdown",
   "metadata": {},
   "source": [
    "# STOP HERE, IF YOU WANT TO DO THE EXERCISE ON YOUR OWN!"
   ]
  },
  {
   "cell_type": "markdown",
   "metadata": {},
   "source": [
    "+++++++++++++++++++++++++++++++++++++++++++++++++++++++++++++++++++++++++++++++++++++++++++++++++++++++++++++++++++++++++"
   ]
  },
  {
   "cell_type": "code",
   "execution_count": 1,
   "metadata": {
    "ExecuteTime": {
     "end_time": "2024-05-08T17:24:47.496543500Z",
     "start_time": "2024-05-08T17:24:46.945046200Z"
    }
   },
   "outputs": [],
   "source": [
    "#run the cell\n",
    "import pandas as pd"
   ]
  },
  {
   "cell_type": "markdown",
   "metadata": {},
   "source": [
    "### Concatenating DataFrames vertically"
   ]
  },
  {
   "cell_type": "code",
   "execution_count": 2,
   "metadata": {
    "scrolled": true,
    "ExecuteTime": {
     "end_time": "2024-05-08T17:24:49.393873100Z",
     "start_time": "2024-05-08T17:24:49.343152800Z"
    }
   },
   "outputs": [],
   "source": [
    "#run the cell\n",
    "cars = pd.read_csv(\"../../Data/cars_clean.csv\")"
   ]
  },
  {
   "cell_type": "markdown",
   "metadata": {},
   "source": [
    "__Inspect__ the __cars__ DataFrame!"
   ]
  },
  {
   "cell_type": "code",
   "execution_count": 4,
   "metadata": {
    "ExecuteTime": {
     "end_time": "2024-03-20T18:53:39.235580200Z",
     "start_time": "2024-03-20T18:53:39.196237700Z"
    }
   },
   "outputs": [
    {
     "data": {
      "text/plain": "    mpg  cylinders  displacement  horsepower  weight  acceleration  \\\n0  18.0          8         307.0       130.0    3504          12.0   \n1  15.0          8         350.0       165.0    3693          11.5   \n2  18.0          8         318.0       150.0    3436          11.0   \n3  16.0          8         304.0       150.0    3433          12.0   \n4  17.0          8         302.0       140.0    3449          10.5   \n\n   model_year origin                       name  \n0          70    usa  Chevrolet Chevelle Malibu  \n1          70    usa          Buick Skylark 320  \n2          70    usa         Plymouth Satellite  \n3          70    usa              Amc Rebel Sst  \n4          70    usa                Ford Torino  ",
      "text/html": "<div>\n<style scoped>\n    .dataframe tbody tr th:only-of-type {\n        vertical-align: middle;\n    }\n\n    .dataframe tbody tr th {\n        vertical-align: top;\n    }\n\n    .dataframe thead th {\n        text-align: right;\n    }\n</style>\n<table border=\"1\" class=\"dataframe\">\n  <thead>\n    <tr style=\"text-align: right;\">\n      <th></th>\n      <th>mpg</th>\n      <th>cylinders</th>\n      <th>displacement</th>\n      <th>horsepower</th>\n      <th>weight</th>\n      <th>acceleration</th>\n      <th>model_year</th>\n      <th>origin</th>\n      <th>name</th>\n    </tr>\n  </thead>\n  <tbody>\n    <tr>\n      <th>0</th>\n      <td>18.0</td>\n      <td>8</td>\n      <td>307.0</td>\n      <td>130.0</td>\n      <td>3504</td>\n      <td>12.0</td>\n      <td>70</td>\n      <td>usa</td>\n      <td>Chevrolet Chevelle Malibu</td>\n    </tr>\n    <tr>\n      <th>1</th>\n      <td>15.0</td>\n      <td>8</td>\n      <td>350.0</td>\n      <td>165.0</td>\n      <td>3693</td>\n      <td>11.5</td>\n      <td>70</td>\n      <td>usa</td>\n      <td>Buick Skylark 320</td>\n    </tr>\n    <tr>\n      <th>2</th>\n      <td>18.0</td>\n      <td>8</td>\n      <td>318.0</td>\n      <td>150.0</td>\n      <td>3436</td>\n      <td>11.0</td>\n      <td>70</td>\n      <td>usa</td>\n      <td>Plymouth Satellite</td>\n    </tr>\n    <tr>\n      <th>3</th>\n      <td>16.0</td>\n      <td>8</td>\n      <td>304.0</td>\n      <td>150.0</td>\n      <td>3433</td>\n      <td>12.0</td>\n      <td>70</td>\n      <td>usa</td>\n      <td>Amc Rebel Sst</td>\n    </tr>\n    <tr>\n      <th>4</th>\n      <td>17.0</td>\n      <td>8</td>\n      <td>302.0</td>\n      <td>140.0</td>\n      <td>3449</td>\n      <td>10.5</td>\n      <td>70</td>\n      <td>usa</td>\n      <td>Ford Torino</td>\n    </tr>\n  </tbody>\n</table>\n</div>"
     },
     "execution_count": 4,
     "metadata": {},
     "output_type": "execute_result"
    }
   ],
   "source": [
    "#run the cell\n",
    "cars.head()"
   ]
  },
  {
   "cell_type": "code",
   "execution_count": 5,
   "metadata": {
    "ExecuteTime": {
     "end_time": "2024-03-20T18:53:44.432064400Z",
     "start_time": "2024-03-20T18:53:44.399302300Z"
    }
   },
   "outputs": [
    {
     "data": {
      "text/plain": "      mpg  cylinders  displacement  horsepower  weight  acceleration  \\\n308  27.0          4         140.0        86.0    2790          15.6   \n309  44.0          4          97.0        52.0    2130          24.6   \n310  32.0          4         135.0        84.0    2295          11.6   \n311  28.0          4         120.0        79.0    2625          18.6   \n312  31.0          4         119.0        82.0    2720          19.4   \n\n     model_year  origin             name  \n308          82     usa  Ford Mustang Gl  \n309          82  europe        Vw Pickup  \n310          82     usa    Dodge Rampage  \n311          82     usa      Ford Ranger  \n312          82     usa   Chevrolet S-10  ",
      "text/html": "<div>\n<style scoped>\n    .dataframe tbody tr th:only-of-type {\n        vertical-align: middle;\n    }\n\n    .dataframe tbody tr th {\n        vertical-align: top;\n    }\n\n    .dataframe thead th {\n        text-align: right;\n    }\n</style>\n<table border=\"1\" class=\"dataframe\">\n  <thead>\n    <tr style=\"text-align: right;\">\n      <th></th>\n      <th>mpg</th>\n      <th>cylinders</th>\n      <th>displacement</th>\n      <th>horsepower</th>\n      <th>weight</th>\n      <th>acceleration</th>\n      <th>model_year</th>\n      <th>origin</th>\n      <th>name</th>\n    </tr>\n  </thead>\n  <tbody>\n    <tr>\n      <th>308</th>\n      <td>27.0</td>\n      <td>4</td>\n      <td>140.0</td>\n      <td>86.0</td>\n      <td>2790</td>\n      <td>15.6</td>\n      <td>82</td>\n      <td>usa</td>\n      <td>Ford Mustang Gl</td>\n    </tr>\n    <tr>\n      <th>309</th>\n      <td>44.0</td>\n      <td>4</td>\n      <td>97.0</td>\n      <td>52.0</td>\n      <td>2130</td>\n      <td>24.6</td>\n      <td>82</td>\n      <td>europe</td>\n      <td>Vw Pickup</td>\n    </tr>\n    <tr>\n      <th>310</th>\n      <td>32.0</td>\n      <td>4</td>\n      <td>135.0</td>\n      <td>84.0</td>\n      <td>2295</td>\n      <td>11.6</td>\n      <td>82</td>\n      <td>usa</td>\n      <td>Dodge Rampage</td>\n    </tr>\n    <tr>\n      <th>311</th>\n      <td>28.0</td>\n      <td>4</td>\n      <td>120.0</td>\n      <td>79.0</td>\n      <td>2625</td>\n      <td>18.6</td>\n      <td>82</td>\n      <td>usa</td>\n      <td>Ford Ranger</td>\n    </tr>\n    <tr>\n      <th>312</th>\n      <td>31.0</td>\n      <td>4</td>\n      <td>119.0</td>\n      <td>82.0</td>\n      <td>2720</td>\n      <td>19.4</td>\n      <td>82</td>\n      <td>usa</td>\n      <td>Chevrolet S-10</td>\n    </tr>\n  </tbody>\n</table>\n</div>"
     },
     "execution_count": 5,
     "metadata": {},
     "output_type": "execute_result"
    }
   ],
   "source": [
    "#run the cell\n",
    "cars.tail()"
   ]
  },
  {
   "cell_type": "code",
   "execution_count": 6,
   "metadata": {
    "ExecuteTime": {
     "end_time": "2024-03-20T18:53:48.834123100Z",
     "start_time": "2024-03-20T18:53:48.789154400Z"
    }
   },
   "outputs": [
    {
     "name": "stdout",
     "output_type": "stream",
     "text": [
      "<class 'pandas.core.frame.DataFrame'>\n",
      "RangeIndex: 313 entries, 0 to 312\n",
      "Data columns (total 9 columns):\n",
      " #   Column        Non-Null Count  Dtype  \n",
      "---  ------        --------------  -----  \n",
      " 0   mpg           313 non-null    float64\n",
      " 1   cylinders     313 non-null    int64  \n",
      " 2   displacement  313 non-null    float64\n",
      " 3   horsepower    313 non-null    float64\n",
      " 4   weight        313 non-null    int64  \n",
      " 5   acceleration  313 non-null    float64\n",
      " 6   model_year    313 non-null    int64  \n",
      " 7   origin        313 non-null    object \n",
      " 8   name          313 non-null    object \n",
      "dtypes: float64(4), int64(3), object(2)\n",
      "memory usage: 22.1+ KB\n"
     ]
    }
   ],
   "source": [
    "#run the cell\n",
    "cars.info()"
   ]
  },
  {
   "cell_type": "markdown",
   "metadata": {},
   "source": [
    "__Inspect__ the cars_jap DataFrame!"
   ]
  },
  {
   "cell_type": "code",
   "execution_count": 13,
   "metadata": {
    "ExecuteTime": {
     "end_time": "2024-03-20T19:01:27.993609100Z",
     "start_time": "2024-03-20T19:01:27.947300900Z"
    }
   },
   "outputs": [],
   "source": [
    "#run the cell\n",
    "cars_jap = pd.read_csv(\"cars_jap.csv\")"
   ]
  },
  {
   "cell_type": "code",
   "execution_count": 14,
   "metadata": {
    "ExecuteTime": {
     "end_time": "2024-03-20T19:01:29.654020200Z",
     "start_time": "2024-03-20T19:01:29.608613400Z"
    }
   },
   "outputs": [
    {
     "data": {
      "text/plain": "    mpg  cyl   disp    hp  weight   acc  year                   name\n0  24.0    4  113.0  95.0    2372  15.0    70  toyota corona mark ii\n1  27.0    4   97.0  88.0    2130  14.5    70           datsun pl510\n2  27.0    4   97.0  88.0    2130  14.5    71           datsun pl510\n3  25.0    4  113.0  95.0    2228  14.0    71          toyota corona\n4  31.0    4   71.0  65.0    1773  19.0    71    toyota corolla 1200",
      "text/html": "<div>\n<style scoped>\n    .dataframe tbody tr th:only-of-type {\n        vertical-align: middle;\n    }\n\n    .dataframe tbody tr th {\n        vertical-align: top;\n    }\n\n    .dataframe thead th {\n        text-align: right;\n    }\n</style>\n<table border=\"1\" class=\"dataframe\">\n  <thead>\n    <tr style=\"text-align: right;\">\n      <th></th>\n      <th>mpg</th>\n      <th>cyl</th>\n      <th>disp</th>\n      <th>hp</th>\n      <th>weight</th>\n      <th>acc</th>\n      <th>year</th>\n      <th>name</th>\n    </tr>\n  </thead>\n  <tbody>\n    <tr>\n      <th>0</th>\n      <td>24.0</td>\n      <td>4</td>\n      <td>113.0</td>\n      <td>95.0</td>\n      <td>2372</td>\n      <td>15.0</td>\n      <td>70</td>\n      <td>toyota corona mark ii</td>\n    </tr>\n    <tr>\n      <th>1</th>\n      <td>27.0</td>\n      <td>4</td>\n      <td>97.0</td>\n      <td>88.0</td>\n      <td>2130</td>\n      <td>14.5</td>\n      <td>70</td>\n      <td>datsun pl510</td>\n    </tr>\n    <tr>\n      <th>2</th>\n      <td>27.0</td>\n      <td>4</td>\n      <td>97.0</td>\n      <td>88.0</td>\n      <td>2130</td>\n      <td>14.5</td>\n      <td>71</td>\n      <td>datsun pl510</td>\n    </tr>\n    <tr>\n      <th>3</th>\n      <td>25.0</td>\n      <td>4</td>\n      <td>113.0</td>\n      <td>95.0</td>\n      <td>2228</td>\n      <td>14.0</td>\n      <td>71</td>\n      <td>toyota corona</td>\n    </tr>\n    <tr>\n      <th>4</th>\n      <td>31.0</td>\n      <td>4</td>\n      <td>71.0</td>\n      <td>65.0</td>\n      <td>1773</td>\n      <td>19.0</td>\n      <td>71</td>\n      <td>toyota corolla 1200</td>\n    </tr>\n  </tbody>\n</table>\n</div>"
     },
     "execution_count": 14,
     "metadata": {},
     "output_type": "execute_result"
    }
   ],
   "source": [
    "#run the cell\n",
    "cars_jap.head()"
   ]
  },
  {
   "cell_type": "markdown",
   "metadata": {},
   "source": [
    "Before we can concatenate both DataFrames, we need to __align__ them!<br>\n",
    "108. __Insert__ the column __origin__ to __cars_jap__ at the most appropriate position! __Fill in the gaps!__"
   ]
  },
  {
   "cell_type": "code",
   "execution_count": 15,
   "metadata": {
    "ExecuteTime": {
     "end_time": "2024-03-20T19:01:32.401882500Z",
     "start_time": "2024-03-20T19:01:32.398367700Z"
    }
   },
   "outputs": [],
   "source": [
    "cars_jap.insert(column='origin', value='Japan', loc=7)"
   ]
  },
  {
   "cell_type": "markdown",
   "metadata": {},
   "source": [
    "Also the column labels should match. <br>\n",
    "109. __Overwrite__ the column labels in __cars_jap__ and use the same column labels that we have in cars!"
   ]
  },
  {
   "cell_type": "code",
   "execution_count": 17,
   "metadata": {
    "ExecuteTime": {
     "end_time": "2024-03-20T19:05:30.072197300Z",
     "start_time": "2024-03-20T19:05:30.021734600Z"
    }
   },
   "outputs": [],
   "source": [
    "cars_jap.columns = ['mpg', 'cylinders', 'displacement', 'horsepower', 'weight', 'acceleration', 'model_year', 'origin', 'name']"
   ]
  },
  {
   "cell_type": "markdown",
   "metadata": {},
   "source": [
    "__Inspect__!"
   ]
  },
  {
   "cell_type": "code",
   "execution_count": 18,
   "metadata": {
    "scrolled": true,
    "ExecuteTime": {
     "end_time": "2024-03-20T19:05:33.613559600Z",
     "start_time": "2024-03-20T19:05:33.597722200Z"
    }
   },
   "outputs": [
    {
     "data": {
      "text/plain": "    mpg  cylinders  displacement  horsepower  weight  acceleration  \\\n0  24.0          4         113.0        95.0    2372          15.0   \n1  27.0          4          97.0        88.0    2130          14.5   \n2  27.0          4          97.0        88.0    2130          14.5   \n3  25.0          4         113.0        95.0    2228          14.0   \n4  31.0          4          71.0        65.0    1773          19.0   \n\n   model_year origin                   name  \n0          70  Japan  toyota corona mark ii  \n1          70  Japan           datsun pl510  \n2          71  Japan           datsun pl510  \n3          71  Japan          toyota corona  \n4          71  Japan    toyota corolla 1200  ",
      "text/html": "<div>\n<style scoped>\n    .dataframe tbody tr th:only-of-type {\n        vertical-align: middle;\n    }\n\n    .dataframe tbody tr th {\n        vertical-align: top;\n    }\n\n    .dataframe thead th {\n        text-align: right;\n    }\n</style>\n<table border=\"1\" class=\"dataframe\">\n  <thead>\n    <tr style=\"text-align: right;\">\n      <th></th>\n      <th>mpg</th>\n      <th>cylinders</th>\n      <th>displacement</th>\n      <th>horsepower</th>\n      <th>weight</th>\n      <th>acceleration</th>\n      <th>model_year</th>\n      <th>origin</th>\n      <th>name</th>\n    </tr>\n  </thead>\n  <tbody>\n    <tr>\n      <th>0</th>\n      <td>24.0</td>\n      <td>4</td>\n      <td>113.0</td>\n      <td>95.0</td>\n      <td>2372</td>\n      <td>15.0</td>\n      <td>70</td>\n      <td>Japan</td>\n      <td>toyota corona mark ii</td>\n    </tr>\n    <tr>\n      <th>1</th>\n      <td>27.0</td>\n      <td>4</td>\n      <td>97.0</td>\n      <td>88.0</td>\n      <td>2130</td>\n      <td>14.5</td>\n      <td>70</td>\n      <td>Japan</td>\n      <td>datsun pl510</td>\n    </tr>\n    <tr>\n      <th>2</th>\n      <td>27.0</td>\n      <td>4</td>\n      <td>97.0</td>\n      <td>88.0</td>\n      <td>2130</td>\n      <td>14.5</td>\n      <td>71</td>\n      <td>Japan</td>\n      <td>datsun pl510</td>\n    </tr>\n    <tr>\n      <th>3</th>\n      <td>25.0</td>\n      <td>4</td>\n      <td>113.0</td>\n      <td>95.0</td>\n      <td>2228</td>\n      <td>14.0</td>\n      <td>71</td>\n      <td>Japan</td>\n      <td>toyota corona</td>\n    </tr>\n    <tr>\n      <th>4</th>\n      <td>31.0</td>\n      <td>4</td>\n      <td>71.0</td>\n      <td>65.0</td>\n      <td>1773</td>\n      <td>19.0</td>\n      <td>71</td>\n      <td>Japan</td>\n      <td>toyota corolla 1200</td>\n    </tr>\n  </tbody>\n</table>\n</div>"
     },
     "execution_count": 18,
     "metadata": {},
     "output_type": "execute_result"
    }
   ],
   "source": [
    "#run the cell\n",
    "cars_jap.head()"
   ]
  },
  {
   "cell_type": "markdown",
   "metadata": {},
   "source": [
    "110. __Concatenate__ both DataFrames __vertically__ and create a __new RangeIndex__! __Save__ the new DataFrame in the variable __cars_all__!"
   ]
  },
  {
   "cell_type": "code",
   "execution_count": 29,
   "metadata": {
    "scrolled": true,
    "ExecuteTime": {
     "end_time": "2024-03-20T19:19:08.221626300Z",
     "start_time": "2024-03-20T19:19:08.185045900Z"
    }
   },
   "outputs": [],
   "source": [
    "cars_all = pd.concat([cars, cars_jap], ignore_index=True)"
   ]
  },
  {
   "cell_type": "markdown",
   "metadata": {},
   "source": [
    "__Inspect__!"
   ]
  },
  {
   "cell_type": "code",
   "execution_count": 30,
   "metadata": {
    "ExecuteTime": {
     "end_time": "2024-03-20T19:19:10.259124600Z",
     "start_time": "2024-03-20T19:19:10.211556600Z"
    }
   },
   "outputs": [
    {
     "data": {
      "text/plain": "    mpg  cylinders  displacement  horsepower  weight  acceleration  \\\n0  18.0          8         307.0       130.0    3504          12.0   \n1  15.0          8         350.0       165.0    3693          11.5   \n2  18.0          8         318.0       150.0    3436          11.0   \n3  16.0          8         304.0       150.0    3433          12.0   \n4  17.0          8         302.0       140.0    3449          10.5   \n\n   model_year origin                       name  \n0          70    usa  Chevrolet Chevelle Malibu  \n1          70    usa          Buick Skylark 320  \n2          70    usa         Plymouth Satellite  \n3          70    usa              Amc Rebel Sst  \n4          70    usa                Ford Torino  ",
      "text/html": "<div>\n<style scoped>\n    .dataframe tbody tr th:only-of-type {\n        vertical-align: middle;\n    }\n\n    .dataframe tbody tr th {\n        vertical-align: top;\n    }\n\n    .dataframe thead th {\n        text-align: right;\n    }\n</style>\n<table border=\"1\" class=\"dataframe\">\n  <thead>\n    <tr style=\"text-align: right;\">\n      <th></th>\n      <th>mpg</th>\n      <th>cylinders</th>\n      <th>displacement</th>\n      <th>horsepower</th>\n      <th>weight</th>\n      <th>acceleration</th>\n      <th>model_year</th>\n      <th>origin</th>\n      <th>name</th>\n    </tr>\n  </thead>\n  <tbody>\n    <tr>\n      <th>0</th>\n      <td>18.0</td>\n      <td>8</td>\n      <td>307.0</td>\n      <td>130.0</td>\n      <td>3504</td>\n      <td>12.0</td>\n      <td>70</td>\n      <td>usa</td>\n      <td>Chevrolet Chevelle Malibu</td>\n    </tr>\n    <tr>\n      <th>1</th>\n      <td>15.0</td>\n      <td>8</td>\n      <td>350.0</td>\n      <td>165.0</td>\n      <td>3693</td>\n      <td>11.5</td>\n      <td>70</td>\n      <td>usa</td>\n      <td>Buick Skylark 320</td>\n    </tr>\n    <tr>\n      <th>2</th>\n      <td>18.0</td>\n      <td>8</td>\n      <td>318.0</td>\n      <td>150.0</td>\n      <td>3436</td>\n      <td>11.0</td>\n      <td>70</td>\n      <td>usa</td>\n      <td>Plymouth Satellite</td>\n    </tr>\n    <tr>\n      <th>3</th>\n      <td>16.0</td>\n      <td>8</td>\n      <td>304.0</td>\n      <td>150.0</td>\n      <td>3433</td>\n      <td>12.0</td>\n      <td>70</td>\n      <td>usa</td>\n      <td>Amc Rebel Sst</td>\n    </tr>\n    <tr>\n      <th>4</th>\n      <td>17.0</td>\n      <td>8</td>\n      <td>302.0</td>\n      <td>140.0</td>\n      <td>3449</td>\n      <td>10.5</td>\n      <td>70</td>\n      <td>usa</td>\n      <td>Ford Torino</td>\n    </tr>\n  </tbody>\n</table>\n</div>"
     },
     "execution_count": 30,
     "metadata": {},
     "output_type": "execute_result"
    }
   ],
   "source": [
    "#run the cell\n",
    "cars_all.head()"
   ]
  },
  {
   "cell_type": "code",
   "execution_count": 31,
   "metadata": {
    "ExecuteTime": {
     "end_time": "2024-03-20T19:19:16.142867400Z",
     "start_time": "2024-03-20T19:19:16.120461300Z"
    }
   },
   "outputs": [
    {
     "data": {
      "text/plain": "      mpg  cylinders  displacement  horsepower  weight  acceleration  \\\n387  34.0          4         108.0        70.0    2245          16.9   \n388  38.0          4          91.0        67.0    1965          15.0   \n389  32.0          4          91.0        67.0    1965          15.7   \n390  38.0          4          91.0        67.0    1995          16.2   \n391  32.0          4         144.0        96.0    2665          13.9   \n\n     model_year origin                name  \n387          82  Japan      toyota corolla  \n388          82  Japan         honda civic  \n389          82  Japan  honda civic (auto)  \n390          82  Japan       datsun 310 gx  \n391          82  Japan    toyota celica gt  ",
      "text/html": "<div>\n<style scoped>\n    .dataframe tbody tr th:only-of-type {\n        vertical-align: middle;\n    }\n\n    .dataframe tbody tr th {\n        vertical-align: top;\n    }\n\n    .dataframe thead th {\n        text-align: right;\n    }\n</style>\n<table border=\"1\" class=\"dataframe\">\n  <thead>\n    <tr style=\"text-align: right;\">\n      <th></th>\n      <th>mpg</th>\n      <th>cylinders</th>\n      <th>displacement</th>\n      <th>horsepower</th>\n      <th>weight</th>\n      <th>acceleration</th>\n      <th>model_year</th>\n      <th>origin</th>\n      <th>name</th>\n    </tr>\n  </thead>\n  <tbody>\n    <tr>\n      <th>387</th>\n      <td>34.0</td>\n      <td>4</td>\n      <td>108.0</td>\n      <td>70.0</td>\n      <td>2245</td>\n      <td>16.9</td>\n      <td>82</td>\n      <td>Japan</td>\n      <td>toyota corolla</td>\n    </tr>\n    <tr>\n      <th>388</th>\n      <td>38.0</td>\n      <td>4</td>\n      <td>91.0</td>\n      <td>67.0</td>\n      <td>1965</td>\n      <td>15.0</td>\n      <td>82</td>\n      <td>Japan</td>\n      <td>honda civic</td>\n    </tr>\n    <tr>\n      <th>389</th>\n      <td>32.0</td>\n      <td>4</td>\n      <td>91.0</td>\n      <td>67.0</td>\n      <td>1965</td>\n      <td>15.7</td>\n      <td>82</td>\n      <td>Japan</td>\n      <td>honda civic (auto)</td>\n    </tr>\n    <tr>\n      <th>390</th>\n      <td>38.0</td>\n      <td>4</td>\n      <td>91.0</td>\n      <td>67.0</td>\n      <td>1995</td>\n      <td>16.2</td>\n      <td>82</td>\n      <td>Japan</td>\n      <td>datsun 310 gx</td>\n    </tr>\n    <tr>\n      <th>391</th>\n      <td>32.0</td>\n      <td>4</td>\n      <td>144.0</td>\n      <td>96.0</td>\n      <td>2665</td>\n      <td>13.9</td>\n      <td>82</td>\n      <td>Japan</td>\n      <td>toyota celica gt</td>\n    </tr>\n  </tbody>\n</table>\n</div>"
     },
     "execution_count": 31,
     "metadata": {},
     "output_type": "execute_result"
    }
   ],
   "source": [
    "#run the cell!\n",
    "cars_all.tail()"
   ]
  },
  {
   "cell_type": "markdown",
   "metadata": {},
   "source": [
    "111. __Sort cars_call__ by the __model_year__ from __low to high__! Create a __new RangeIndex__ (drop the old)! __Fill in the gaps__!"
   ]
  },
  {
   "cell_type": "code",
   "execution_count": 39,
   "metadata": {
    "scrolled": true,
    "ExecuteTime": {
     "end_time": "2024-03-20T19:22:55.896869100Z",
     "start_time": "2024-03-20T19:22:55.840526700Z"
    }
   },
   "outputs": [],
   "source": [
    "cars_all = cars_all.sort_values('model_year', ascending=True).reset_index(drop=True)"
   ]
  },
  {
   "cell_type": "markdown",
   "metadata": {},
   "source": [
    "__Inspect__!"
   ]
  },
  {
   "cell_type": "code",
   "execution_count": 40,
   "metadata": {
    "ExecuteTime": {
     "end_time": "2024-03-20T19:22:58.242629200Z",
     "start_time": "2024-03-20T19:22:58.221610600Z"
    }
   },
   "outputs": [
    {
     "data": {
      "text/plain": "    mpg  cylinders  displacement  horsepower  weight  acceleration  \\\n0  18.0          8         307.0       130.0    3504          12.0   \n1  27.0          4          97.0        88.0    2130          14.5   \n2   9.0          8         304.0       193.0    4732          18.5   \n3  11.0          8         318.0       210.0    4382          13.5   \n4  10.0          8         307.0       200.0    4376          15.0   \n\n   model_year origin                       name  \n0          70    usa  Chevrolet Chevelle Malibu  \n1          70  Japan               datsun pl510  \n2          70    usa                   Ih 1200D  \n3          70    usa                 Dodge D200  \n4          70    usa              Chevrolet C20  ",
      "text/html": "<div>\n<style scoped>\n    .dataframe tbody tr th:only-of-type {\n        vertical-align: middle;\n    }\n\n    .dataframe tbody tr th {\n        vertical-align: top;\n    }\n\n    .dataframe thead th {\n        text-align: right;\n    }\n</style>\n<table border=\"1\" class=\"dataframe\">\n  <thead>\n    <tr style=\"text-align: right;\">\n      <th></th>\n      <th>mpg</th>\n      <th>cylinders</th>\n      <th>displacement</th>\n      <th>horsepower</th>\n      <th>weight</th>\n      <th>acceleration</th>\n      <th>model_year</th>\n      <th>origin</th>\n      <th>name</th>\n    </tr>\n  </thead>\n  <tbody>\n    <tr>\n      <th>0</th>\n      <td>18.0</td>\n      <td>8</td>\n      <td>307.0</td>\n      <td>130.0</td>\n      <td>3504</td>\n      <td>12.0</td>\n      <td>70</td>\n      <td>usa</td>\n      <td>Chevrolet Chevelle Malibu</td>\n    </tr>\n    <tr>\n      <th>1</th>\n      <td>27.0</td>\n      <td>4</td>\n      <td>97.0</td>\n      <td>88.0</td>\n      <td>2130</td>\n      <td>14.5</td>\n      <td>70</td>\n      <td>Japan</td>\n      <td>datsun pl510</td>\n    </tr>\n    <tr>\n      <th>2</th>\n      <td>9.0</td>\n      <td>8</td>\n      <td>304.0</td>\n      <td>193.0</td>\n      <td>4732</td>\n      <td>18.5</td>\n      <td>70</td>\n      <td>usa</td>\n      <td>Ih 1200D</td>\n    </tr>\n    <tr>\n      <th>3</th>\n      <td>11.0</td>\n      <td>8</td>\n      <td>318.0</td>\n      <td>210.0</td>\n      <td>4382</td>\n      <td>13.5</td>\n      <td>70</td>\n      <td>usa</td>\n      <td>Dodge D200</td>\n    </tr>\n    <tr>\n      <th>4</th>\n      <td>10.0</td>\n      <td>8</td>\n      <td>307.0</td>\n      <td>200.0</td>\n      <td>4376</td>\n      <td>15.0</td>\n      <td>70</td>\n      <td>usa</td>\n      <td>Chevrolet C20</td>\n    </tr>\n  </tbody>\n</table>\n</div>"
     },
     "execution_count": 40,
     "metadata": {},
     "output_type": "execute_result"
    }
   ],
   "source": [
    "#run the cell\n",
    "cars_all.head()"
   ]
  },
  {
   "cell_type": "code",
   "execution_count": 41,
   "metadata": {
    "ExecuteTime": {
     "end_time": "2024-03-20T19:23:11.512559800Z",
     "start_time": "2024-03-20T19:23:11.491081100Z"
    }
   },
   "outputs": [
    {
     "data": {
      "text/plain": "      mpg  cylinders  displacement  horsepower  weight  acceleration  \\\n387  44.0          4          97.0        52.0    2130          24.6   \n388  32.0          4         135.0        84.0    2295          11.6   \n389  28.0          4         120.0        79.0    2625          18.6   \n390  38.0          4          91.0        67.0    1995          16.2   \n391  32.0          4         144.0        96.0    2665          13.9   \n\n     model_year  origin              name  \n387          82  europe         Vw Pickup  \n388          82     usa     Dodge Rampage  \n389          82     usa       Ford Ranger  \n390          82   Japan     datsun 310 gx  \n391          82   Japan  toyota celica gt  ",
      "text/html": "<div>\n<style scoped>\n    .dataframe tbody tr th:only-of-type {\n        vertical-align: middle;\n    }\n\n    .dataframe tbody tr th {\n        vertical-align: top;\n    }\n\n    .dataframe thead th {\n        text-align: right;\n    }\n</style>\n<table border=\"1\" class=\"dataframe\">\n  <thead>\n    <tr style=\"text-align: right;\">\n      <th></th>\n      <th>mpg</th>\n      <th>cylinders</th>\n      <th>displacement</th>\n      <th>horsepower</th>\n      <th>weight</th>\n      <th>acceleration</th>\n      <th>model_year</th>\n      <th>origin</th>\n      <th>name</th>\n    </tr>\n  </thead>\n  <tbody>\n    <tr>\n      <th>387</th>\n      <td>44.0</td>\n      <td>4</td>\n      <td>97.0</td>\n      <td>52.0</td>\n      <td>2130</td>\n      <td>24.6</td>\n      <td>82</td>\n      <td>europe</td>\n      <td>Vw Pickup</td>\n    </tr>\n    <tr>\n      <th>388</th>\n      <td>32.0</td>\n      <td>4</td>\n      <td>135.0</td>\n      <td>84.0</td>\n      <td>2295</td>\n      <td>11.6</td>\n      <td>82</td>\n      <td>usa</td>\n      <td>Dodge Rampage</td>\n    </tr>\n    <tr>\n      <th>389</th>\n      <td>28.0</td>\n      <td>4</td>\n      <td>120.0</td>\n      <td>79.0</td>\n      <td>2625</td>\n      <td>18.6</td>\n      <td>82</td>\n      <td>usa</td>\n      <td>Ford Ranger</td>\n    </tr>\n    <tr>\n      <th>390</th>\n      <td>38.0</td>\n      <td>4</td>\n      <td>91.0</td>\n      <td>67.0</td>\n      <td>1995</td>\n      <td>16.2</td>\n      <td>82</td>\n      <td>Japan</td>\n      <td>datsun 310 gx</td>\n    </tr>\n    <tr>\n      <th>391</th>\n      <td>32.0</td>\n      <td>4</td>\n      <td>144.0</td>\n      <td>96.0</td>\n      <td>2665</td>\n      <td>13.9</td>\n      <td>82</td>\n      <td>Japan</td>\n      <td>toyota celica gt</td>\n    </tr>\n  </tbody>\n</table>\n</div>"
     },
     "execution_count": 41,
     "metadata": {},
     "output_type": "execute_result"
    }
   ],
   "source": [
    "#run the cell\n",
    "cars_all.tail()"
   ]
  },
  {
   "cell_type": "code",
   "execution_count": 42,
   "metadata": {
    "ExecuteTime": {
     "end_time": "2024-03-20T19:23:13.766992700Z",
     "start_time": "2024-03-20T19:23:13.718106500Z"
    }
   },
   "outputs": [
    {
     "name": "stdout",
     "output_type": "stream",
     "text": [
      "<class 'pandas.core.frame.DataFrame'>\n",
      "RangeIndex: 392 entries, 0 to 391\n",
      "Data columns (total 9 columns):\n",
      " #   Column        Non-Null Count  Dtype  \n",
      "---  ------        --------------  -----  \n",
      " 0   mpg           392 non-null    float64\n",
      " 1   cylinders     392 non-null    int64  \n",
      " 2   displacement  392 non-null    float64\n",
      " 3   horsepower    392 non-null    float64\n",
      " 4   weight        392 non-null    int64  \n",
      " 5   acceleration  392 non-null    float64\n",
      " 6   model_year    392 non-null    int64  \n",
      " 7   origin        392 non-null    object \n",
      " 8   name          392 non-null    object \n",
      "dtypes: float64(4), int64(3), object(2)\n",
      "memory usage: 27.7+ KB\n"
     ]
    }
   ],
   "source": [
    "#run the cell\n",
    "cars_all.info()"
   ]
  },
  {
   "cell_type": "markdown",
   "metadata": {},
   "source": [
    "----------------------------------------------------------------------"
   ]
  },
  {
   "cell_type": "markdown",
   "metadata": {},
   "source": [
    "### Left Join"
   ]
  },
  {
   "cell_type": "code",
   "execution_count": 44,
   "metadata": {
    "ExecuteTime": {
     "end_time": "2024-03-20T19:23:56.555635400Z",
     "start_time": "2024-03-20T19:23:56.477198400Z"
    }
   },
   "outputs": [],
   "source": [
    "# run the cell!\n",
    "summer = pd.read_csv(\"summer.csv\")"
   ]
  },
  {
   "cell_type": "markdown",
   "metadata": {},
   "source": [
    "__Inspect__ the __summer__ DataFrame!"
   ]
  },
  {
   "cell_type": "code",
   "execution_count": 46,
   "metadata": {
    "ExecuteTime": {
     "end_time": "2024-03-20T19:24:31.946972100Z",
     "start_time": "2024-03-20T19:24:31.926175400Z"
    }
   },
   "outputs": [
    {
     "data": {
      "text/plain": "   Year    City     Sport Discipline             Athlete Country Gender  \\\n0  1896  Athens  Aquatics   Swimming       HAJOS, Alfred     HUN    Men   \n1  1896  Athens  Aquatics   Swimming    HERSCHMANN, Otto     AUT    Men   \n2  1896  Athens  Aquatics   Swimming   DRIVAS, Dimitrios     GRE    Men   \n3  1896  Athens  Aquatics   Swimming  MALOKINIS, Ioannis     GRE    Men   \n4  1896  Athens  Aquatics   Swimming  CHASAPIS, Spiridon     GRE    Men   \n\n                        Event   Medal  \n0              100M Freestyle    Gold  \n1              100M Freestyle  Silver  \n2  100M Freestyle For Sailors  Bronze  \n3  100M Freestyle For Sailors    Gold  \n4  100M Freestyle For Sailors  Silver  ",
      "text/html": "<div>\n<style scoped>\n    .dataframe tbody tr th:only-of-type {\n        vertical-align: middle;\n    }\n\n    .dataframe tbody tr th {\n        vertical-align: top;\n    }\n\n    .dataframe thead th {\n        text-align: right;\n    }\n</style>\n<table border=\"1\" class=\"dataframe\">\n  <thead>\n    <tr style=\"text-align: right;\">\n      <th></th>\n      <th>Year</th>\n      <th>City</th>\n      <th>Sport</th>\n      <th>Discipline</th>\n      <th>Athlete</th>\n      <th>Country</th>\n      <th>Gender</th>\n      <th>Event</th>\n      <th>Medal</th>\n    </tr>\n  </thead>\n  <tbody>\n    <tr>\n      <th>0</th>\n      <td>1896</td>\n      <td>Athens</td>\n      <td>Aquatics</td>\n      <td>Swimming</td>\n      <td>HAJOS, Alfred</td>\n      <td>HUN</td>\n      <td>Men</td>\n      <td>100M Freestyle</td>\n      <td>Gold</td>\n    </tr>\n    <tr>\n      <th>1</th>\n      <td>1896</td>\n      <td>Athens</td>\n      <td>Aquatics</td>\n      <td>Swimming</td>\n      <td>HERSCHMANN, Otto</td>\n      <td>AUT</td>\n      <td>Men</td>\n      <td>100M Freestyle</td>\n      <td>Silver</td>\n    </tr>\n    <tr>\n      <th>2</th>\n      <td>1896</td>\n      <td>Athens</td>\n      <td>Aquatics</td>\n      <td>Swimming</td>\n      <td>DRIVAS, Dimitrios</td>\n      <td>GRE</td>\n      <td>Men</td>\n      <td>100M Freestyle For Sailors</td>\n      <td>Bronze</td>\n    </tr>\n    <tr>\n      <th>3</th>\n      <td>1896</td>\n      <td>Athens</td>\n      <td>Aquatics</td>\n      <td>Swimming</td>\n      <td>MALOKINIS, Ioannis</td>\n      <td>GRE</td>\n      <td>Men</td>\n      <td>100M Freestyle For Sailors</td>\n      <td>Gold</td>\n    </tr>\n    <tr>\n      <th>4</th>\n      <td>1896</td>\n      <td>Athens</td>\n      <td>Aquatics</td>\n      <td>Swimming</td>\n      <td>CHASAPIS, Spiridon</td>\n      <td>GRE</td>\n      <td>Men</td>\n      <td>100M Freestyle For Sailors</td>\n      <td>Silver</td>\n    </tr>\n  </tbody>\n</table>\n</div>"
     },
     "execution_count": 46,
     "metadata": {},
     "output_type": "execute_result"
    }
   ],
   "source": [
    "# run the cell!\n",
    "summer.head()"
   ]
  },
  {
   "cell_type": "code",
   "execution_count": 47,
   "metadata": {
    "ExecuteTime": {
     "end_time": "2024-03-20T19:24:34.254848800Z",
     "start_time": "2024-03-20T19:24:34.235922200Z"
    }
   },
   "outputs": [],
   "source": [
    "# run the cell!\n",
    "dic = pd.read_csv(\"dictionary.csv\")"
   ]
  },
  {
   "cell_type": "markdown",
   "metadata": {},
   "source": [
    "__Inspect__ dict!"
   ]
  },
  {
   "cell_type": "code",
   "execution_count": 48,
   "metadata": {
    "ExecuteTime": {
     "end_time": "2024-03-20T19:24:38.749921600Z",
     "start_time": "2024-03-20T19:24:38.675770700Z"
    }
   },
   "outputs": [
    {
     "data": {
      "text/plain": "           Country Code  Population  GDP per Capita\n0      Afghanistan  AFG  32526562.0      594.323081\n1          Albania  ALB   2889167.0     3945.217582\n2          Algeria  ALG  39666519.0     4206.031232\n3  American Samoa*  ASA     55538.0             NaN\n4          Andorra  AND     70473.0             NaN",
      "text/html": "<div>\n<style scoped>\n    .dataframe tbody tr th:only-of-type {\n        vertical-align: middle;\n    }\n\n    .dataframe tbody tr th {\n        vertical-align: top;\n    }\n\n    .dataframe thead th {\n        text-align: right;\n    }\n</style>\n<table border=\"1\" class=\"dataframe\">\n  <thead>\n    <tr style=\"text-align: right;\">\n      <th></th>\n      <th>Country</th>\n      <th>Code</th>\n      <th>Population</th>\n      <th>GDP per Capita</th>\n    </tr>\n  </thead>\n  <tbody>\n    <tr>\n      <th>0</th>\n      <td>Afghanistan</td>\n      <td>AFG</td>\n      <td>32526562.0</td>\n      <td>594.323081</td>\n    </tr>\n    <tr>\n      <th>1</th>\n      <td>Albania</td>\n      <td>ALB</td>\n      <td>2889167.0</td>\n      <td>3945.217582</td>\n    </tr>\n    <tr>\n      <th>2</th>\n      <td>Algeria</td>\n      <td>ALG</td>\n      <td>39666519.0</td>\n      <td>4206.031232</td>\n    </tr>\n    <tr>\n      <th>3</th>\n      <td>American Samoa*</td>\n      <td>ASA</td>\n      <td>55538.0</td>\n      <td>NaN</td>\n    </tr>\n    <tr>\n      <th>4</th>\n      <td>Andorra</td>\n      <td>AND</td>\n      <td>70473.0</td>\n      <td>NaN</td>\n    </tr>\n  </tbody>\n</table>\n</div>"
     },
     "execution_count": 48,
     "metadata": {},
     "output_type": "execute_result"
    }
   ],
   "source": [
    "# run the cell!\n",
    "dic.head()"
   ]
  },
  {
   "cell_type": "markdown",
   "metadata": {},
   "source": [
    "__dic__ contains the Olympic Games __Country Codes__ (\"Code\") with the corresponding __full country names__ (\"Country\") as well as recent __Population__ and __GDP__ statistics.<br>"
   ]
  },
  {
   "cell_type": "markdown",
   "metadata": {},
   "source": [
    "112. __Create__ the columns __Country__, __Population__ and __GDP per Capita__ in the __summer__ DataFrame by using a __Left Join__ with __pd.merge()__. <br>\n",
    "__Save__ the merged Dataframe in the variable __summer_new__! __Fill in the gaps__!"
   ]
  },
  {
   "cell_type": "code",
   "execution_count": 53,
   "metadata": {
    "ExecuteTime": {
     "end_time": "2024-03-20T19:32:46.852222800Z",
     "start_time": "2024-03-20T19:32:46.810033400Z"
    }
   },
   "outputs": [],
   "source": [
    "summer_new = pd.merge(\n",
    "    summer, dic, how='left', right_on='Code', left_on='Country' \n",
    ")"
   ]
  },
  {
   "cell_type": "markdown",
   "metadata": {},
   "source": [
    "__Inspect__ summer_new!"
   ]
  },
  {
   "cell_type": "code",
   "execution_count": 54,
   "metadata": {
    "ExecuteTime": {
     "end_time": "2024-03-20T19:32:53.351965800Z",
     "start_time": "2024-03-20T19:32:53.312998900Z"
    }
   },
   "outputs": [
    {
     "data": {
      "text/plain": "   Year    City     Sport Discipline             Athlete Country_x Gender  \\\n0  1896  Athens  Aquatics   Swimming       HAJOS, Alfred       HUN    Men   \n1  1896  Athens  Aquatics   Swimming    HERSCHMANN, Otto       AUT    Men   \n2  1896  Athens  Aquatics   Swimming   DRIVAS, Dimitrios       GRE    Men   \n3  1896  Athens  Aquatics   Swimming  MALOKINIS, Ioannis       GRE    Men   \n4  1896  Athens  Aquatics   Swimming  CHASAPIS, Spiridon       GRE    Men   \n\n                        Event   Medal Country_y Code  Population  \\\n0              100M Freestyle    Gold   Hungary  HUN   9844686.0   \n1              100M Freestyle  Silver   Austria  AUT   8611088.0   \n2  100M Freestyle For Sailors  Bronze    Greece  GRE  10823732.0   \n3  100M Freestyle For Sailors    Gold    Greece  GRE  10823732.0   \n4  100M Freestyle For Sailors  Silver    Greece  GRE  10823732.0   \n\n   GDP per Capita  \n0    12363.543460  \n1    43774.985174  \n2    18002.230578  \n3    18002.230578  \n4    18002.230578  ",
      "text/html": "<div>\n<style scoped>\n    .dataframe tbody tr th:only-of-type {\n        vertical-align: middle;\n    }\n\n    .dataframe tbody tr th {\n        vertical-align: top;\n    }\n\n    .dataframe thead th {\n        text-align: right;\n    }\n</style>\n<table border=\"1\" class=\"dataframe\">\n  <thead>\n    <tr style=\"text-align: right;\">\n      <th></th>\n      <th>Year</th>\n      <th>City</th>\n      <th>Sport</th>\n      <th>Discipline</th>\n      <th>Athlete</th>\n      <th>Country_x</th>\n      <th>Gender</th>\n      <th>Event</th>\n      <th>Medal</th>\n      <th>Country_y</th>\n      <th>Code</th>\n      <th>Population</th>\n      <th>GDP per Capita</th>\n    </tr>\n  </thead>\n  <tbody>\n    <tr>\n      <th>0</th>\n      <td>1896</td>\n      <td>Athens</td>\n      <td>Aquatics</td>\n      <td>Swimming</td>\n      <td>HAJOS, Alfred</td>\n      <td>HUN</td>\n      <td>Men</td>\n      <td>100M Freestyle</td>\n      <td>Gold</td>\n      <td>Hungary</td>\n      <td>HUN</td>\n      <td>9844686.0</td>\n      <td>12363.543460</td>\n    </tr>\n    <tr>\n      <th>1</th>\n      <td>1896</td>\n      <td>Athens</td>\n      <td>Aquatics</td>\n      <td>Swimming</td>\n      <td>HERSCHMANN, Otto</td>\n      <td>AUT</td>\n      <td>Men</td>\n      <td>100M Freestyle</td>\n      <td>Silver</td>\n      <td>Austria</td>\n      <td>AUT</td>\n      <td>8611088.0</td>\n      <td>43774.985174</td>\n    </tr>\n    <tr>\n      <th>2</th>\n      <td>1896</td>\n      <td>Athens</td>\n      <td>Aquatics</td>\n      <td>Swimming</td>\n      <td>DRIVAS, Dimitrios</td>\n      <td>GRE</td>\n      <td>Men</td>\n      <td>100M Freestyle For Sailors</td>\n      <td>Bronze</td>\n      <td>Greece</td>\n      <td>GRE</td>\n      <td>10823732.0</td>\n      <td>18002.230578</td>\n    </tr>\n    <tr>\n      <th>3</th>\n      <td>1896</td>\n      <td>Athens</td>\n      <td>Aquatics</td>\n      <td>Swimming</td>\n      <td>MALOKINIS, Ioannis</td>\n      <td>GRE</td>\n      <td>Men</td>\n      <td>100M Freestyle For Sailors</td>\n      <td>Gold</td>\n      <td>Greece</td>\n      <td>GRE</td>\n      <td>10823732.0</td>\n      <td>18002.230578</td>\n    </tr>\n    <tr>\n      <th>4</th>\n      <td>1896</td>\n      <td>Athens</td>\n      <td>Aquatics</td>\n      <td>Swimming</td>\n      <td>CHASAPIS, Spiridon</td>\n      <td>GRE</td>\n      <td>Men</td>\n      <td>100M Freestyle For Sailors</td>\n      <td>Silver</td>\n      <td>Greece</td>\n      <td>GRE</td>\n      <td>10823732.0</td>\n      <td>18002.230578</td>\n    </tr>\n  </tbody>\n</table>\n</div>"
     },
     "execution_count": 54,
     "metadata": {},
     "output_type": "execute_result"
    }
   ],
   "source": [
    "# run the cell!\n",
    "summer_new.head()"
   ]
  },
  {
   "cell_type": "code",
   "execution_count": 55,
   "metadata": {
    "ExecuteTime": {
     "end_time": "2024-03-20T19:32:55.783262900Z",
     "start_time": "2024-03-20T19:32:55.749401600Z"
    }
   },
   "outputs": [
    {
     "name": "stdout",
     "output_type": "stream",
     "text": [
      "<class 'pandas.core.frame.DataFrame'>\n",
      "RangeIndex: 31165 entries, 0 to 31164\n",
      "Data columns (total 13 columns):\n",
      " #   Column          Non-Null Count  Dtype  \n",
      "---  ------          --------------  -----  \n",
      " 0   Year            31165 non-null  int64  \n",
      " 1   City            31165 non-null  object \n",
      " 2   Sport           31165 non-null  object \n",
      " 3   Discipline      31165 non-null  object \n",
      " 4   Athlete         31165 non-null  object \n",
      " 5   Country_x       31161 non-null  object \n",
      " 6   Gender          31165 non-null  object \n",
      " 7   Event           31165 non-null  object \n",
      " 8   Medal           31165 non-null  object \n",
      " 9   Country_y       25742 non-null  object \n",
      " 10  Code            25742 non-null  object \n",
      " 11  Population      25696 non-null  float64\n",
      " 12  GDP per Capita  25142 non-null  float64\n",
      "dtypes: float64(2), int64(1), object(10)\n",
      "memory usage: 3.1+ MB\n"
     ]
    }
   ],
   "source": [
    "# run the cell!\n",
    "summer_new.info()"
   ]
  },
  {
   "cell_type": "markdown",
   "metadata": {},
   "source": [
    "Apparently, __dic__ does __not contain__ additional information for __all olympic country codes__ that are in the __summer__ Dataframe."
   ]
  },
  {
   "cell_type": "markdown",
   "metadata": {},
   "source": [
    "113. __Filter__ summer_new for the elements in the column __Country_x__, where the __corresponding value__ in the column __Code__ is __missing__! <br>\n",
    "__Count__ the frequency! __Fill in the gaps__!"
   ]
  },
  {
   "cell_type": "code",
   "execution_count": 58,
   "metadata": {
    "ExecuteTime": {
     "end_time": "2024-03-20T19:37:08.667897300Z",
     "start_time": "2024-03-20T19:37:08.616478200Z"
    }
   },
   "outputs": [
    {
     "data": {
      "text/plain": "Country_x\nURS    2049\nGDR     825\nROU     640\nFRG     490\nYUG     435\nTCH     329\nEUA     260\nEUN     223\nZZX      48\nSRB      31\nANZ      29\nRU1      17\nMNE      14\nTTO      10\nBOH       7\nBWI       5\nSGP       4\nIOP       3\nName: count, dtype: int64"
     },
     "execution_count": 58,
     "metadata": {},
     "output_type": "execute_result"
    }
   ],
   "source": [
    "summer_new.loc[summer_new.Code.isnull(), \"Country_x\"].value_counts()"
   ]
  },
  {
   "cell_type": "markdown",
   "metadata": {},
   "source": [
    "For these country codes, we need to find __other sources__ for additional information on the __full country name__, __population__ and __gdp__ (most of these countries do not exist any more.) -> BONUS EXERCISE ;-)"
   ]
  },
  {
   "cell_type": "markdown",
   "metadata": {},
   "source": [
    "--------------------------"
   ]
  },
  {
   "cell_type": "markdown",
   "metadata": {},
   "source": [
    "### Arithmetic operations between DataFrames / Alignment"
   ]
  },
  {
   "cell_type": "code",
   "execution_count": 95,
   "metadata": {
    "ExecuteTime": {
     "end_time": "2024-03-20T19:57:24.546504600Z",
     "start_time": "2024-03-20T19:57:24.529809Z"
    }
   },
   "outputs": [],
   "source": [
    "#run the cell\n",
    "ath_2008 = pd.read_csv(\"ath_2008.csv\")\n",
    "ath_2012 = pd.read_csv(\"ath_2012.csv\")"
   ]
  },
  {
   "cell_type": "markdown",
   "metadata": {},
   "source": [
    "__Inspect__ the __ath_2008__ DataFrame. It contains all athletes who won medals in __Athletics__ in the Edition __2008__."
   ]
  },
  {
   "cell_type": "code",
   "execution_count": 96,
   "metadata": {
    "ExecuteTime": {
     "end_time": "2024-03-20T19:57:26.752056900Z",
     "start_time": "2024-03-20T19:57:26.713645400Z"
    }
   },
   "outputs": [
    {
     "data": {
      "text/plain": "              Athlete  Gold  Silver  Bronze\n0    ABAKUMOVA, Maria     0       1       0\n1  ABEYLEGESSE, Elvan     0       2       0\n2  ALEKNA, Virgilijus     0       0       1\n3      ALEXEEV, Denis     0       0       1\n4     ANTONOVA, Olena     0       0       1",
      "text/html": "<div>\n<style scoped>\n    .dataframe tbody tr th:only-of-type {\n        vertical-align: middle;\n    }\n\n    .dataframe tbody tr th {\n        vertical-align: top;\n    }\n\n    .dataframe thead th {\n        text-align: right;\n    }\n</style>\n<table border=\"1\" class=\"dataframe\">\n  <thead>\n    <tr style=\"text-align: right;\">\n      <th></th>\n      <th>Athlete</th>\n      <th>Gold</th>\n      <th>Silver</th>\n      <th>Bronze</th>\n    </tr>\n  </thead>\n  <tbody>\n    <tr>\n      <th>0</th>\n      <td>ABAKUMOVA, Maria</td>\n      <td>0</td>\n      <td>1</td>\n      <td>0</td>\n    </tr>\n    <tr>\n      <th>1</th>\n      <td>ABEYLEGESSE, Elvan</td>\n      <td>0</td>\n      <td>2</td>\n      <td>0</td>\n    </tr>\n    <tr>\n      <th>2</th>\n      <td>ALEKNA, Virgilijus</td>\n      <td>0</td>\n      <td>0</td>\n      <td>1</td>\n    </tr>\n    <tr>\n      <th>3</th>\n      <td>ALEXEEV, Denis</td>\n      <td>0</td>\n      <td>0</td>\n      <td>1</td>\n    </tr>\n    <tr>\n      <th>4</th>\n      <td>ANTONOVA, Olena</td>\n      <td>0</td>\n      <td>0</td>\n      <td>1</td>\n    </tr>\n  </tbody>\n</table>\n</div>"
     },
     "execution_count": 96,
     "metadata": {},
     "output_type": "execute_result"
    }
   ],
   "source": [
    "#run the cell\n",
    "ath_2008.head()"
   ]
  },
  {
   "cell_type": "code",
   "execution_count": 97,
   "metadata": {
    "ExecuteTime": {
     "end_time": "2024-03-20T19:57:30.786050400Z",
     "start_time": "2024-03-20T19:57:30.766251400Z"
    }
   },
   "outputs": [
    {
     "name": "stdout",
     "output_type": "stream",
     "text": [
      "<class 'pandas.core.frame.DataFrame'>\n",
      "RangeIndex: 159 entries, 0 to 158\n",
      "Data columns (total 4 columns):\n",
      " #   Column   Non-Null Count  Dtype \n",
      "---  ------   --------------  ----- \n",
      " 0   Athlete  159 non-null    object\n",
      " 1   Gold     159 non-null    int64 \n",
      " 2   Silver   159 non-null    int64 \n",
      " 3   Bronze   159 non-null    int64 \n",
      "dtypes: int64(3), object(1)\n",
      "memory usage: 5.1+ KB\n"
     ]
    }
   ],
   "source": [
    "#run the cell\n",
    "ath_2008.info()"
   ]
  },
  {
   "cell_type": "markdown",
   "metadata": {},
   "source": [
    "__Inspect__ the __ath_2012__ DataFrame. It contains all athletes who won medals in __Athletics__ in the Edition __2012__."
   ]
  },
  {
   "cell_type": "code",
   "execution_count": 98,
   "metadata": {
    "ExecuteTime": {
     "end_time": "2024-03-20T19:57:33.016654600Z",
     "start_time": "2024-03-20T19:57:32.992923900Z"
    }
   },
   "outputs": [
    {
     "data": {
      "text/plain": "              Athlete  Gold  Silver  Bronze\n0      ADAMS, Valerie     1       0       0\n1  ALLEYNE-FORTE, Ade     0       0       1\n2         AMOS, Nijel     0       1       0\n3    ANTYUKH, Natalya     1       1       0\n4       ASSEFA, Sofia     0       1       0",
      "text/html": "<div>\n<style scoped>\n    .dataframe tbody tr th:only-of-type {\n        vertical-align: middle;\n    }\n\n    .dataframe tbody tr th {\n        vertical-align: top;\n    }\n\n    .dataframe thead th {\n        text-align: right;\n    }\n</style>\n<table border=\"1\" class=\"dataframe\">\n  <thead>\n    <tr style=\"text-align: right;\">\n      <th></th>\n      <th>Athlete</th>\n      <th>Gold</th>\n      <th>Silver</th>\n      <th>Bronze</th>\n    </tr>\n  </thead>\n  <tbody>\n    <tr>\n      <th>0</th>\n      <td>ADAMS, Valerie</td>\n      <td>1</td>\n      <td>0</td>\n      <td>0</td>\n    </tr>\n    <tr>\n      <th>1</th>\n      <td>ALLEYNE-FORTE, Ade</td>\n      <td>0</td>\n      <td>0</td>\n      <td>1</td>\n    </tr>\n    <tr>\n      <th>2</th>\n      <td>AMOS, Nijel</td>\n      <td>0</td>\n      <td>1</td>\n      <td>0</td>\n    </tr>\n    <tr>\n      <th>3</th>\n      <td>ANTYUKH, Natalya</td>\n      <td>1</td>\n      <td>1</td>\n      <td>0</td>\n    </tr>\n    <tr>\n      <th>4</th>\n      <td>ASSEFA, Sofia</td>\n      <td>0</td>\n      <td>1</td>\n      <td>0</td>\n    </tr>\n  </tbody>\n</table>\n</div>"
     },
     "execution_count": 98,
     "metadata": {},
     "output_type": "execute_result"
    }
   ],
   "source": [
    "#run the cell\n",
    "ath_2012.head()"
   ]
  },
  {
   "cell_type": "code",
   "execution_count": 99,
   "metadata": {
    "ExecuteTime": {
     "end_time": "2024-03-20T19:57:36.266104200Z",
     "start_time": "2024-03-20T19:57:36.245015200Z"
    }
   },
   "outputs": [
    {
     "name": "stdout",
     "output_type": "stream",
     "text": [
      "<class 'pandas.core.frame.DataFrame'>\n",
      "RangeIndex: 171 entries, 0 to 170\n",
      "Data columns (total 4 columns):\n",
      " #   Column   Non-Null Count  Dtype \n",
      "---  ------   --------------  ----- \n",
      " 0   Athlete  171 non-null    object\n",
      " 1   Gold     171 non-null    int64 \n",
      " 2   Silver   171 non-null    int64 \n",
      " 3   Bronze   171 non-null    int64 \n",
      "dtypes: int64(3), object(1)\n",
      "memory usage: 5.5+ KB\n"
     ]
    }
   ],
   "source": [
    "#run the cell\n",
    "ath_2012.info()"
   ]
  },
  {
   "cell_type": "markdown",
   "metadata": {},
   "source": [
    "For __all Athletes__ in the two DataFrames, __aggregate/add__ the total number of __Gold__, __Silver__ and __Bronze__ Medals over both editions! __Save__ the aggregated DataFrame in the variable __add__!"
   ]
  },
  {
   "cell_type": "markdown",
   "metadata": {},
   "source": [
    "114. First, __set__ the __Athlete__ column as the __index__ in both DataFrames! __Save__ the changes!"
   ]
  },
  {
   "cell_type": "code",
   "execution_count": 100,
   "metadata": {
    "ExecuteTime": {
     "end_time": "2024-03-20T19:57:41.835919100Z",
     "start_time": "2024-03-20T19:57:41.777172500Z"
    }
   },
   "outputs": [],
   "source": [
    "ath_2008.set_index('Athlete', inplace=True)"
   ]
  },
  {
   "cell_type": "code",
   "execution_count": 101,
   "metadata": {
    "ExecuteTime": {
     "end_time": "2024-03-20T19:57:43.957630900Z",
     "start_time": "2024-03-20T19:57:43.914670Z"
    }
   },
   "outputs": [],
   "source": [
    "ath_2012.set_index('Athlete', inplace=True)"
   ]
  },
  {
   "cell_type": "markdown",
   "metadata": {},
   "source": [
    "115. __Add__ both DataFrames with the __most appropriate method__! __Save__ the resulting DataFrame in the variable __add__!"
   ]
  },
  {
   "cell_type": "code",
   "execution_count": 107,
   "metadata": {
    "scrolled": true,
    "ExecuteTime": {
     "end_time": "2024-03-20T19:58:50.276238500Z",
     "start_time": "2024-03-20T19:58:50.268234Z"
    }
   },
   "outputs": [],
   "source": [
    "add = ath_2008.add(ath_2012,fill_value=0)"
   ]
  },
  {
   "cell_type": "markdown",
   "metadata": {},
   "source": [
    "__Inspect__!"
   ]
  },
  {
   "cell_type": "code",
   "execution_count": 108,
   "metadata": {
    "ExecuteTime": {
     "end_time": "2024-03-20T19:58:52.909034500Z",
     "start_time": "2024-03-20T19:58:52.852806700Z"
    }
   },
   "outputs": [
    {
     "data": {
      "text/plain": "                    Gold  Silver  Bronze\nAthlete                                 \nABAKUMOVA, Maria     0.0     1.0     0.0\nABEYLEGESSE, Elvan   0.0     2.0     0.0\nADAMS, Valerie       1.0     0.0     0.0\nALEKNA, Virgilijus   0.0     0.0     1.0\nALEXEEV, Denis       0.0     0.0     1.0\nALLEYNE-FORTE, Ade   0.0     0.0     1.0\nAMOS, Nijel          0.0     1.0     0.0\nANTONOVA, Olena      0.0     0.0     1.0\nANTYUKH, Natalya     1.0     1.0     0.0\nASAHARA, Nobuharu    0.0     0.0     1.0",
      "text/html": "<div>\n<style scoped>\n    .dataframe tbody tr th:only-of-type {\n        vertical-align: middle;\n    }\n\n    .dataframe tbody tr th {\n        vertical-align: top;\n    }\n\n    .dataframe thead th {\n        text-align: right;\n    }\n</style>\n<table border=\"1\" class=\"dataframe\">\n  <thead>\n    <tr style=\"text-align: right;\">\n      <th></th>\n      <th>Gold</th>\n      <th>Silver</th>\n      <th>Bronze</th>\n    </tr>\n    <tr>\n      <th>Athlete</th>\n      <th></th>\n      <th></th>\n      <th></th>\n    </tr>\n  </thead>\n  <tbody>\n    <tr>\n      <th>ABAKUMOVA, Maria</th>\n      <td>0.0</td>\n      <td>1.0</td>\n      <td>0.0</td>\n    </tr>\n    <tr>\n      <th>ABEYLEGESSE, Elvan</th>\n      <td>0.0</td>\n      <td>2.0</td>\n      <td>0.0</td>\n    </tr>\n    <tr>\n      <th>ADAMS, Valerie</th>\n      <td>1.0</td>\n      <td>0.0</td>\n      <td>0.0</td>\n    </tr>\n    <tr>\n      <th>ALEKNA, Virgilijus</th>\n      <td>0.0</td>\n      <td>0.0</td>\n      <td>1.0</td>\n    </tr>\n    <tr>\n      <th>ALEXEEV, Denis</th>\n      <td>0.0</td>\n      <td>0.0</td>\n      <td>1.0</td>\n    </tr>\n    <tr>\n      <th>ALLEYNE-FORTE, Ade</th>\n      <td>0.0</td>\n      <td>0.0</td>\n      <td>1.0</td>\n    </tr>\n    <tr>\n      <th>AMOS, Nijel</th>\n      <td>0.0</td>\n      <td>1.0</td>\n      <td>0.0</td>\n    </tr>\n    <tr>\n      <th>ANTONOVA, Olena</th>\n      <td>0.0</td>\n      <td>0.0</td>\n      <td>1.0</td>\n    </tr>\n    <tr>\n      <th>ANTYUKH, Natalya</th>\n      <td>1.0</td>\n      <td>1.0</td>\n      <td>0.0</td>\n    </tr>\n    <tr>\n      <th>ASAHARA, Nobuharu</th>\n      <td>0.0</td>\n      <td>0.0</td>\n      <td>1.0</td>\n    </tr>\n  </tbody>\n</table>\n</div>"
     },
     "execution_count": 108,
     "metadata": {},
     "output_type": "execute_result"
    }
   ],
   "source": [
    "#run the cell\n",
    "add.head(10)"
   ]
  },
  {
   "cell_type": "markdown",
   "metadata": {},
   "source": [
    "116. __Sort__ the athletes by the number of __Gold__, __Silver__ and __Bronze__ medals from __high to low__!<br>\n",
    "__Fill in the gaps!__ Who is the top athlete?"
   ]
  },
  {
   "cell_type": "code",
   "execution_count": 109,
   "metadata": {
    "scrolled": true,
    "ExecuteTime": {
     "end_time": "2024-03-20T19:58:55.282069800Z",
     "start_time": "2024-03-20T19:58:55.267065Z"
    }
   },
   "outputs": [],
   "source": [
    "add = add.sort_values([\"Gold\", \"Silver\", \"Bronze\"], ascending = False)"
   ]
  },
  {
   "cell_type": "code",
   "execution_count": 110,
   "metadata": {
    "ExecuteTime": {
     "end_time": "2024-03-20T19:58:57.180586100Z",
     "start_time": "2024-03-20T19:58:57.134054Z"
    }
   },
   "outputs": [
    {
     "data": {
      "text/plain": "                  Gold  Silver  Bronze\nAthlete                               \nBOLT, Usain        6.0     0.0     0.0\nFELIX, Allyson     4.0     1.0     0.0\nDIBABA, Tirunesh   3.0     0.0     1.0\nTAYLOR, Angelo     2.0     1.0     0.0\nBEKELE, Kenenisa   2.0     0.0     0.0",
      "text/html": "<div>\n<style scoped>\n    .dataframe tbody tr th:only-of-type {\n        vertical-align: middle;\n    }\n\n    .dataframe tbody tr th {\n        vertical-align: top;\n    }\n\n    .dataframe thead th {\n        text-align: right;\n    }\n</style>\n<table border=\"1\" class=\"dataframe\">\n  <thead>\n    <tr style=\"text-align: right;\">\n      <th></th>\n      <th>Gold</th>\n      <th>Silver</th>\n      <th>Bronze</th>\n    </tr>\n    <tr>\n      <th>Athlete</th>\n      <th></th>\n      <th></th>\n      <th></th>\n    </tr>\n  </thead>\n  <tbody>\n    <tr>\n      <th>BOLT, Usain</th>\n      <td>6.0</td>\n      <td>0.0</td>\n      <td>0.0</td>\n    </tr>\n    <tr>\n      <th>FELIX, Allyson</th>\n      <td>4.0</td>\n      <td>1.0</td>\n      <td>0.0</td>\n    </tr>\n    <tr>\n      <th>DIBABA, Tirunesh</th>\n      <td>3.0</td>\n      <td>0.0</td>\n      <td>1.0</td>\n    </tr>\n    <tr>\n      <th>TAYLOR, Angelo</th>\n      <td>2.0</td>\n      <td>1.0</td>\n      <td>0.0</td>\n    </tr>\n    <tr>\n      <th>BEKELE, Kenenisa</th>\n      <td>2.0</td>\n      <td>0.0</td>\n      <td>0.0</td>\n    </tr>\n  </tbody>\n</table>\n</div>"
     },
     "execution_count": 110,
     "metadata": {},
     "output_type": "execute_result"
    }
   ],
   "source": [
    "# run the cell!\n",
    "add.head()"
   ]
  },
  {
   "cell_type": "code",
   "execution_count": 111,
   "metadata": {
    "scrolled": true,
    "ExecuteTime": {
     "end_time": "2024-03-20T19:58:59.248947800Z",
     "start_time": "2024-03-20T19:58:59.206959500Z"
    }
   },
   "outputs": [
    {
     "data": {
      "text/plain": "                         Gold  Silver  Bronze\nAthlete                                      \nWILLIAMS, Novelene        0.0     0.0     1.0\nWILLIAMS-MILLS, Novlene   0.0     0.0     1.0\nYEGO, Alfred Kirwa        0.0     0.0     1.0\nYURCHENKO, Denys          0.0     0.0     1.0\nZHOU, Chunxiu             0.0     0.0     1.0",
      "text/html": "<div>\n<style scoped>\n    .dataframe tbody tr th:only-of-type {\n        vertical-align: middle;\n    }\n\n    .dataframe tbody tr th {\n        vertical-align: top;\n    }\n\n    .dataframe thead th {\n        text-align: right;\n    }\n</style>\n<table border=\"1\" class=\"dataframe\">\n  <thead>\n    <tr style=\"text-align: right;\">\n      <th></th>\n      <th>Gold</th>\n      <th>Silver</th>\n      <th>Bronze</th>\n    </tr>\n    <tr>\n      <th>Athlete</th>\n      <th></th>\n      <th></th>\n      <th></th>\n    </tr>\n  </thead>\n  <tbody>\n    <tr>\n      <th>WILLIAMS, Novelene</th>\n      <td>0.0</td>\n      <td>0.0</td>\n      <td>1.0</td>\n    </tr>\n    <tr>\n      <th>WILLIAMS-MILLS, Novlene</th>\n      <td>0.0</td>\n      <td>0.0</td>\n      <td>1.0</td>\n    </tr>\n    <tr>\n      <th>YEGO, Alfred Kirwa</th>\n      <td>0.0</td>\n      <td>0.0</td>\n      <td>1.0</td>\n    </tr>\n    <tr>\n      <th>YURCHENKO, Denys</th>\n      <td>0.0</td>\n      <td>0.0</td>\n      <td>1.0</td>\n    </tr>\n    <tr>\n      <th>ZHOU, Chunxiu</th>\n      <td>0.0</td>\n      <td>0.0</td>\n      <td>1.0</td>\n    </tr>\n  </tbody>\n</table>\n</div>"
     },
     "execution_count": 111,
     "metadata": {},
     "output_type": "execute_result"
    }
   ],
   "source": [
    "# run the cell!\n",
    "add.tail()"
   ]
  },
  {
   "cell_type": "markdown",
   "metadata": {},
   "source": [
    "No surprise, it´s Usain Bolt!"
   ]
  },
  {
   "cell_type": "markdown",
   "metadata": {},
   "source": [
    "# Well Done!"
   ]
  },
  {
   "cell_type": "markdown",
   "metadata": {},
   "source": [
    "------------------------------------------------"
   ]
  },
  {
   "cell_type": "markdown",
   "metadata": {},
   "source": [
    "# Hints (Spoiler!)"
   ]
  },
  {
   "cell_type": "markdown",
   "metadata": {},
   "source": [
    "108. insert() method, index pos. 7"
   ]
  },
  {
   "cell_type": "markdown",
   "metadata": {},
   "source": [
    "109. columns attribute"
   ]
  },
  {
   "cell_type": "markdown",
   "metadata": {},
   "source": [
    "110. pd.concat() method, ignore index"
   ]
  },
  {
   "cell_type": "markdown",
   "metadata": {},
   "source": [
    "111. methods sort_values() and reset_index()"
   ]
  },
  {
   "cell_type": "markdown",
   "metadata": {},
   "source": [
    "112. left DataFrame: summer, on \"Country\" and \"Code\""
   ]
  },
  {
   "cell_type": "markdown",
   "metadata": {},
   "source": [
    "113. methods isnull() and value_counts()"
   ]
  },
  {
   "cell_type": "markdown",
   "metadata": {},
   "source": [
    "114. set_index() method"
   ]
  },
  {
   "cell_type": "markdown",
   "metadata": {},
   "source": [
    "115. add() method, fill_value = 0"
   ]
  },
  {
   "cell_type": "markdown",
   "metadata": {},
   "source": [
    "116. pass a list of columns to sort_values() method (sequence matters!)"
   ]
  }
 ],
 "metadata": {
  "kernelspec": {
   "display_name": "Python 3",
   "language": "python",
   "name": "python3"
  },
  "language_info": {
   "codemirror_mode": {
    "name": "ipython",
    "version": 3
   },
   "file_extension": ".py",
   "mimetype": "text/x-python",
   "name": "python",
   "nbconvert_exporter": "python",
   "pygments_lexer": "ipython3",
   "version": "3.7.6"
  }
 },
 "nbformat": 4,
 "nbformat_minor": 2
}
