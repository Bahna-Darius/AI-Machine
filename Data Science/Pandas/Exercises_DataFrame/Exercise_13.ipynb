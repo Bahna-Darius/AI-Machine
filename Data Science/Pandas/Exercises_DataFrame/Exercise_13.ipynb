{
 "cells": [
  {
   "cell_type": "markdown",
   "metadata": {},
   "source": [
    "# Coding Exercises (Part 2)"
   ]
  },
  {
   "cell_type": "markdown",
   "metadata": {},
   "source": [
    "## Full Data Workflow A-Z: Group Operations"
   ]
  },
  {
   "cell_type": "markdown",
   "metadata": {},
   "source": [
    "### Exercise 13: GroupBy"
   ]
  },
  {
   "cell_type": "markdown",
   "metadata": {},
   "source": [
    "Now, you will have the opportunity to analyze your own dataset. <br>\n",
    "__Follow the instructions__ and insert your code! You are either requested to \n",
    "- Complete the Code and __Fill in the gaps__. Gaps are marked with \"__---__\" and are __placeholders__ for your code fragment. \n",
    "- Write Code completely __on your own__ "
   ]
  },
  {
   "cell_type": "markdown",
   "metadata": {},
   "source": [
    "In some exercises, you will find questions that can only be answered, if your code is correct and returns the right output! The correct answer is provided below your coding cell. There you can check whether your code is correct."
   ]
  },
  {
   "cell_type": "markdown",
   "metadata": {},
   "source": [
    "If you need a hint, check the __Hints Section__ at the end of this Notebook. Exercises and Hints are numerated accordingly."
   ]
  },
  {
   "cell_type": "markdown",
   "metadata": {},
   "source": [
    "If you need some further help or if you want to check your code, you can also check the __solutions notebook__."
   ]
  },
  {
   "cell_type": "markdown",
   "metadata": {},
   "source": [
    "### Have Fun!"
   ]
  },
  {
   "cell_type": "markdown",
   "metadata": {},
   "source": [
    "--------------------------------------------------------------------------------------------------------------"
   ]
  },
  {
   "cell_type": "markdown",
   "metadata": {},
   "source": [
    "## Option 1: Self_guided"
   ]
  },
  {
   "cell_type": "markdown",
   "metadata": {},
   "source": [
    "Import the cars dataset (cars.csv)."
   ]
  },
  {
   "cell_type": "markdown",
   "metadata": {},
   "source": [
    "__Calculate__ the mean/average mpg __by origin__ (mean mpg for usa, for europe and for japan)! Who built the __least__ fuel efficient cars?"
   ]
  },
  {
   "cell_type": "markdown",
   "metadata": {},
   "source": [
    "__Calculate__ the mean/average mpg __by model_year__ (mean mpg for the years 70, 71, ...). Can you see a __trend__? __Visualize__!"
   ]
  },
  {
   "cell_type": "markdown",
   "metadata": {},
   "source": [
    "__Calculate__ the mean/average mpg for each __combination of model_year & origin__ and __visualize__ how the mean mpg evolved over time for usa, europe and japan. <br>\n",
    "Can you see the __same trend__ for all three orgins?"
   ]
  },
  {
   "cell_type": "markdown",
   "metadata": {},
   "source": [
    "Calculate the __mean__, __min__ and __max__ mpg for each combination of model_year & origin!"
   ]
  },
  {
   "cell_type": "markdown",
   "metadata": {},
   "source": [
    "Return the columns __name__ and __mpg__ for the __two most fuel efficient cars__ for __each combination of model_year & origin__! <br>(hint: a __user defined function__ might help!)"
   ]
  },
  {
   "cell_type": "markdown",
   "metadata": {},
   "source": [
    "Calculate the __mean mpg__ for each combination of __model_year & origin__ and __assign__ the corresponding __group-specific value__ to all cars (__new column__!).<br>\n",
    "Then, __filter__ all cars, where the __absolute difference__ between __mpg__ and __group-specific mpg__ is __greater than 10__. These cars are outliers/special cases in their respective group."
   ]
  },
  {
   "cell_type": "markdown",
   "metadata": {},
   "source": [
    "------------------------"
   ]
  },
  {
   "cell_type": "markdown",
   "metadata": {},
   "source": [
    "## Option 2: Guided and Instructed"
   ]
  },
  {
   "cell_type": "markdown",
   "metadata": {},
   "source": [
    "# STOP HERE, IF YOU WANT TO DO THE EXERCISE ON YOUR OWN!"
   ]
  },
  {
   "cell_type": "markdown",
   "metadata": {},
   "source": [
    "+++++++++++++++++++++++++++++++++++++++++++++++++++++++++++++++++++++++++++++++++++++++++++++++++++++++++++++++++++++++++"
   ]
  },
  {
   "cell_type": "code",
   "execution_count": 1,
   "metadata": {
    "ExecuteTime": {
     "end_time": "2024-05-08T17:25:08.492970400Z",
     "start_time": "2024-05-08T17:25:07.643868700Z"
    }
   },
   "outputs": [],
   "source": [
    "#run the cell\n",
    "import pandas as pd\n",
    "import matplotlib.pyplot as plt\n",
    "plt.style.use(\"_mpl-gallery\")"
   ]
  },
  {
   "cell_type": "code",
   "execution_count": 2,
   "metadata": {
    "scrolled": true,
    "ExecuteTime": {
     "end_time": "2024-05-08T17:25:11.091880900Z",
     "start_time": "2024-05-08T17:25:11.027424600Z"
    }
   },
   "outputs": [],
   "source": [
    "#run the cell\n",
    "cars = pd.read_csv(\"../../Data/cars.csv\")"
   ]
  },
  {
   "cell_type": "code",
   "execution_count": 4,
   "metadata": {
    "ExecuteTime": {
     "end_time": "2024-03-27T16:12:12.485961600Z",
     "start_time": "2024-03-27T16:12:12.447619600Z"
    }
   },
   "outputs": [
    {
     "data": {
      "text/plain": "    mpg  cylinders  displacement  horsepower  weight  acceleration  \\\n0  18.0          8         307.0       130.0    3504          12.0   \n1  15.0          8         350.0       165.0    3693          11.5   \n2  18.0          8         318.0       150.0    3436          11.0   \n3  16.0          8         304.0       150.0    3433          12.0   \n4  17.0          8         302.0       140.0    3449          10.5   \n\n   model_year origin                       name  \n0          70    usa  chevrolet chevelle malibu  \n1          70    usa          buick skylark 320  \n2          70    usa         plymouth satellite  \n3          70    usa              amc rebel sst  \n4          70    usa                ford torino  ",
      "text/html": "<div>\n<style scoped>\n    .dataframe tbody tr th:only-of-type {\n        vertical-align: middle;\n    }\n\n    .dataframe tbody tr th {\n        vertical-align: top;\n    }\n\n    .dataframe thead th {\n        text-align: right;\n    }\n</style>\n<table border=\"1\" class=\"dataframe\">\n  <thead>\n    <tr style=\"text-align: right;\">\n      <th></th>\n      <th>mpg</th>\n      <th>cylinders</th>\n      <th>displacement</th>\n      <th>horsepower</th>\n      <th>weight</th>\n      <th>acceleration</th>\n      <th>model_year</th>\n      <th>origin</th>\n      <th>name</th>\n    </tr>\n  </thead>\n  <tbody>\n    <tr>\n      <th>0</th>\n      <td>18.0</td>\n      <td>8</td>\n      <td>307.0</td>\n      <td>130.0</td>\n      <td>3504</td>\n      <td>12.0</td>\n      <td>70</td>\n      <td>usa</td>\n      <td>chevrolet chevelle malibu</td>\n    </tr>\n    <tr>\n      <th>1</th>\n      <td>15.0</td>\n      <td>8</td>\n      <td>350.0</td>\n      <td>165.0</td>\n      <td>3693</td>\n      <td>11.5</td>\n      <td>70</td>\n      <td>usa</td>\n      <td>buick skylark 320</td>\n    </tr>\n    <tr>\n      <th>2</th>\n      <td>18.0</td>\n      <td>8</td>\n      <td>318.0</td>\n      <td>150.0</td>\n      <td>3436</td>\n      <td>11.0</td>\n      <td>70</td>\n      <td>usa</td>\n      <td>plymouth satellite</td>\n    </tr>\n    <tr>\n      <th>3</th>\n      <td>16.0</td>\n      <td>8</td>\n      <td>304.0</td>\n      <td>150.0</td>\n      <td>3433</td>\n      <td>12.0</td>\n      <td>70</td>\n      <td>usa</td>\n      <td>amc rebel sst</td>\n    </tr>\n    <tr>\n      <th>4</th>\n      <td>17.0</td>\n      <td>8</td>\n      <td>302.0</td>\n      <td>140.0</td>\n      <td>3449</td>\n      <td>10.5</td>\n      <td>70</td>\n      <td>usa</td>\n      <td>ford torino</td>\n    </tr>\n  </tbody>\n</table>\n</div>"
     },
     "execution_count": 4,
     "metadata": {},
     "output_type": "execute_result"
    }
   ],
   "source": [
    "#run the cell\n",
    "cars.head()"
   ]
  },
  {
   "cell_type": "code",
   "execution_count": 5,
   "metadata": {
    "ExecuteTime": {
     "end_time": "2024-03-27T16:12:12.487843200Z",
     "start_time": "2024-03-27T16:12:12.465804900Z"
    }
   },
   "outputs": [
    {
     "data": {
      "text/plain": "      mpg  cylinders  displacement  horsepower  weight  acceleration  \\\n393  27.0          4         140.0        86.0    2790          15.6   \n394  44.0          4          97.0        52.0    2130          24.6   \n395  32.0          4         135.0        84.0    2295          11.6   \n396  28.0          4         120.0        79.0    2625          18.6   \n397  31.0          4         119.0        82.0    2720          19.4   \n\n     model_year  origin             name  \n393          82     usa  ford mustang gl  \n394          82  europe        vw pickup  \n395          82     usa    dodge rampage  \n396          82     usa      ford ranger  \n397          82     usa   chevrolet s-10  ",
      "text/html": "<div>\n<style scoped>\n    .dataframe tbody tr th:only-of-type {\n        vertical-align: middle;\n    }\n\n    .dataframe tbody tr th {\n        vertical-align: top;\n    }\n\n    .dataframe thead th {\n        text-align: right;\n    }\n</style>\n<table border=\"1\" class=\"dataframe\">\n  <thead>\n    <tr style=\"text-align: right;\">\n      <th></th>\n      <th>mpg</th>\n      <th>cylinders</th>\n      <th>displacement</th>\n      <th>horsepower</th>\n      <th>weight</th>\n      <th>acceleration</th>\n      <th>model_year</th>\n      <th>origin</th>\n      <th>name</th>\n    </tr>\n  </thead>\n  <tbody>\n    <tr>\n      <th>393</th>\n      <td>27.0</td>\n      <td>4</td>\n      <td>140.0</td>\n      <td>86.0</td>\n      <td>2790</td>\n      <td>15.6</td>\n      <td>82</td>\n      <td>usa</td>\n      <td>ford mustang gl</td>\n    </tr>\n    <tr>\n      <th>394</th>\n      <td>44.0</td>\n      <td>4</td>\n      <td>97.0</td>\n      <td>52.0</td>\n      <td>2130</td>\n      <td>24.6</td>\n      <td>82</td>\n      <td>europe</td>\n      <td>vw pickup</td>\n    </tr>\n    <tr>\n      <th>395</th>\n      <td>32.0</td>\n      <td>4</td>\n      <td>135.0</td>\n      <td>84.0</td>\n      <td>2295</td>\n      <td>11.6</td>\n      <td>82</td>\n      <td>usa</td>\n      <td>dodge rampage</td>\n    </tr>\n    <tr>\n      <th>396</th>\n      <td>28.0</td>\n      <td>4</td>\n      <td>120.0</td>\n      <td>79.0</td>\n      <td>2625</td>\n      <td>18.6</td>\n      <td>82</td>\n      <td>usa</td>\n      <td>ford ranger</td>\n    </tr>\n    <tr>\n      <th>397</th>\n      <td>31.0</td>\n      <td>4</td>\n      <td>119.0</td>\n      <td>82.0</td>\n      <td>2720</td>\n      <td>19.4</td>\n      <td>82</td>\n      <td>usa</td>\n      <td>chevrolet s-10</td>\n    </tr>\n  </tbody>\n</table>\n</div>"
     },
     "execution_count": 5,
     "metadata": {},
     "output_type": "execute_result"
    }
   ],
   "source": [
    "#run the cell\n",
    "cars.tail()"
   ]
  },
  {
   "cell_type": "code",
   "execution_count": 6,
   "metadata": {
    "ExecuteTime": {
     "end_time": "2024-03-27T16:12:12.506052900Z",
     "start_time": "2024-03-27T16:12:12.477964400Z"
    }
   },
   "outputs": [
    {
     "name": "stdout",
     "output_type": "stream",
     "text": [
      "<class 'pandas.core.frame.DataFrame'>\n",
      "RangeIndex: 398 entries, 0 to 397\n",
      "Data columns (total 9 columns):\n",
      " #   Column        Non-Null Count  Dtype  \n",
      "---  ------        --------------  -----  \n",
      " 0   mpg           398 non-null    float64\n",
      " 1   cylinders     398 non-null    int64  \n",
      " 2   displacement  398 non-null    float64\n",
      " 3   horsepower    392 non-null    float64\n",
      " 4   weight        398 non-null    int64  \n",
      " 5   acceleration  398 non-null    float64\n",
      " 6   model_year    398 non-null    int64  \n",
      " 7   origin        398 non-null    object \n",
      " 8   name          398 non-null    object \n",
      "dtypes: float64(4), int64(3), object(2)\n",
      "memory usage: 28.1+ KB\n"
     ]
    }
   ],
   "source": [
    "#run the cell\n",
    "cars.info()"
   ]
  },
  {
   "cell_type": "markdown",
   "metadata": {},
   "source": [
    "117. __Group__ cars by the column __origin__ and __calculate__ the __mean__/average __mpg__ for each origin (mean mpg for usa, for europe and for japan)! <br>\n",
    "Who built the __least__ fuel efficient cars?"
   ]
  },
  {
   "cell_type": "code",
   "execution_count": 7,
   "metadata": {
    "ExecuteTime": {
     "end_time": "2024-03-27T16:12:12.569421400Z",
     "start_time": "2024-03-27T16:12:12.493354900Z"
    }
   },
   "outputs": [
    {
     "data": {
      "text/plain": "              mpg\norigin           \neurope  27.891429\njapan   30.450633\nusa     20.083534",
      "text/html": "<div>\n<style scoped>\n    .dataframe tbody tr th:only-of-type {\n        vertical-align: middle;\n    }\n\n    .dataframe tbody tr th {\n        vertical-align: top;\n    }\n\n    .dataframe thead th {\n        text-align: right;\n    }\n</style>\n<table border=\"1\" class=\"dataframe\">\n  <thead>\n    <tr style=\"text-align: right;\">\n      <th></th>\n      <th>mpg</th>\n    </tr>\n    <tr>\n      <th>origin</th>\n      <th></th>\n    </tr>\n  </thead>\n  <tbody>\n    <tr>\n      <th>europe</th>\n      <td>27.891429</td>\n    </tr>\n    <tr>\n      <th>japan</th>\n      <td>30.450633</td>\n    </tr>\n    <tr>\n      <th>usa</th>\n      <td>20.083534</td>\n    </tr>\n  </tbody>\n</table>\n</div>"
     },
     "execution_count": 7,
     "metadata": {},
     "output_type": "execute_result"
    }
   ],
   "source": [
    "cars.groupby(by=\"origin\").agg(\n",
    "    {\n",
    "        \"mpg\":\"mean\"\n",
    "    }\n",
    ")"
   ]
  },
  {
   "cell_type": "markdown",
   "metadata": {},
   "source": [
    "The least fuel efficient cars are from ... usa."
   ]
  },
  {
   "cell_type": "markdown",
   "metadata": {},
   "source": [
    "118. __Group__ cars by the column __model_year__ and __calculate__ the __mean__/average __mpg__ for each model_year (mean mpg for 70, 71, 72,...)! <br>__Save__ the result in the variable __mpg_by_year__ and __round__ to two decimals!"
   ]
  },
  {
   "cell_type": "code",
   "execution_count": 8,
   "metadata": {
    "ExecuteTime": {
     "end_time": "2024-03-27T16:12:12.573430100Z",
     "start_time": "2024-03-27T16:12:12.504054800Z"
    }
   },
   "outputs": [],
   "source": [
    "mpg_by_year = cars.groupby(by=\"model_year\").agg(\n",
    "    {\n",
    "        \"mpg\": \"mean\"\n",
    "    }\n",
    ").round(2)"
   ]
  },
  {
   "cell_type": "code",
   "execution_count": 9,
   "metadata": {
    "ExecuteTime": {
     "end_time": "2024-03-27T16:12:12.623423500Z",
     "start_time": "2024-03-27T16:12:12.511387400Z"
    }
   },
   "outputs": [
    {
     "data": {
      "text/plain": "              mpg\nmodel_year       \n70          17.69\n71          21.25\n72          18.71\n73          17.10\n74          22.70\n75          20.27\n76          21.57\n77          23.38\n78          24.06\n79          25.09\n80          33.70\n81          30.33\n82          31.71",
      "text/html": "<div>\n<style scoped>\n    .dataframe tbody tr th:only-of-type {\n        vertical-align: middle;\n    }\n\n    .dataframe tbody tr th {\n        vertical-align: top;\n    }\n\n    .dataframe thead th {\n        text-align: right;\n    }\n</style>\n<table border=\"1\" class=\"dataframe\">\n  <thead>\n    <tr style=\"text-align: right;\">\n      <th></th>\n      <th>mpg</th>\n    </tr>\n    <tr>\n      <th>model_year</th>\n      <th></th>\n    </tr>\n  </thead>\n  <tbody>\n    <tr>\n      <th>70</th>\n      <td>17.69</td>\n    </tr>\n    <tr>\n      <th>71</th>\n      <td>21.25</td>\n    </tr>\n    <tr>\n      <th>72</th>\n      <td>18.71</td>\n    </tr>\n    <tr>\n      <th>73</th>\n      <td>17.10</td>\n    </tr>\n    <tr>\n      <th>74</th>\n      <td>22.70</td>\n    </tr>\n    <tr>\n      <th>75</th>\n      <td>20.27</td>\n    </tr>\n    <tr>\n      <th>76</th>\n      <td>21.57</td>\n    </tr>\n    <tr>\n      <th>77</th>\n      <td>23.38</td>\n    </tr>\n    <tr>\n      <th>78</th>\n      <td>24.06</td>\n    </tr>\n    <tr>\n      <th>79</th>\n      <td>25.09</td>\n    </tr>\n    <tr>\n      <th>80</th>\n      <td>33.70</td>\n    </tr>\n    <tr>\n      <th>81</th>\n      <td>30.33</td>\n    </tr>\n    <tr>\n      <th>82</th>\n      <td>31.71</td>\n    </tr>\n  </tbody>\n</table>\n</div>"
     },
     "execution_count": 9,
     "metadata": {},
     "output_type": "execute_result"
    }
   ],
   "source": [
    "# run the cell\n",
    "mpg_by_year"
   ]
  },
  {
   "cell_type": "markdown",
   "metadata": {},
   "source": [
    "__Inspect__! Can you see a __trend__?"
   ]
  },
  {
   "cell_type": "code",
   "execution_count": 10,
   "metadata": {
    "scrolled": true,
    "ExecuteTime": {
     "end_time": "2024-03-27T16:12:13.013007500Z",
     "start_time": "2024-03-27T16:12:12.520423600Z"
    }
   },
   "outputs": [
    {
     "data": {
      "text/plain": "<Figure size 800x600 with 1 Axes>",
      "image/png": "[encoded data removed]"
     },
     "metadata": {},
     "output_type": "display_data"
    }
   ],
   "source": [
    "# run the cell!\n",
    "mpg_by_year.plot(\n",
    "    kind='bar', figsize=(8,6), fontsize=10, colormap='Spectral'\n",
    ")\n",
    "plt.title('Mpg_by_year', fontsize=12)\n",
    "plt.grid()\n",
    "plt.show()"
   ]
  },
  {
   "cell_type": "markdown",
   "metadata": {},
   "source": [
    "The cars are getting ... more fuel efficient over time."
   ]
  },
  {
   "cell_type": "markdown",
   "metadata": {},
   "source": [
    "119. __Group__ cars by the columns __model_year and origin__ and return the __mean mpg__ for each group! <br> __Save__ the resulting DataFrame in the variable __mpg_year_origin__!\n",
    "__Column labels__ of mpg_year_origin shall be __europe__, __japan__ & __usa__. __Fill in the gaps__! "
   ]
  },
  {
   "cell_type": "code",
   "execution_count": 27,
   "metadata": {
    "ExecuteTime": {
     "end_time": "2024-03-27T16:12:33.145981900Z",
     "start_time": "2024-03-27T16:12:33.115973700Z"
    }
   },
   "outputs": [],
   "source": [
    "mpg_year_origin = cars.groupby(by=['model_year', 'origin']).agg({\n",
    "    'mpg': 'mean'\n",
    "}\n",
    ").unstack().round(2)"
   ]
  },
  {
   "cell_type": "code",
   "execution_count": 28,
   "metadata": {
    "ExecuteTime": {
     "end_time": "2024-03-27T16:12:33.561681300Z",
     "start_time": "2024-03-27T16:12:33.521698600Z"
    }
   },
   "outputs": [
    {
     "data": {
      "text/plain": "              mpg              \norigin     europe  japan    usa\nmodel_year                     \n70          25.20  25.50  15.27\n71          28.75  29.50  18.10\n72          22.00  24.20  16.28\n73          24.00  20.00  15.03\n74          27.00  29.33  18.33\n75          24.50  27.50  17.55\n76          24.25  28.00  19.43\n77          29.25  27.42  20.72\n78          24.95  29.69  21.77\n79          30.45  32.95  23.48\n80          37.29  35.40  25.91\n81          31.58  32.96  27.53\n82          40.00  34.89  29.45",
      "text/html": "<div>\n<style scoped>\n    .dataframe tbody tr th:only-of-type {\n        vertical-align: middle;\n    }\n\n    .dataframe tbody tr th {\n        vertical-align: top;\n    }\n\n    .dataframe thead tr th {\n        text-align: left;\n    }\n\n    .dataframe thead tr:last-of-type th {\n        text-align: right;\n    }\n</style>\n<table border=\"1\" class=\"dataframe\">\n  <thead>\n    <tr>\n      <th></th>\n      <th colspan=\"3\" halign=\"left\">mpg</th>\n    </tr>\n    <tr>\n      <th>origin</th>\n      <th>europe</th>\n      <th>japan</th>\n      <th>usa</th>\n    </tr>\n    <tr>\n      <th>model_year</th>\n      <th></th>\n      <th></th>\n      <th></th>\n    </tr>\n  </thead>\n  <tbody>\n    <tr>\n      <th>70</th>\n      <td>25.20</td>\n      <td>25.50</td>\n      <td>15.27</td>\n    </tr>\n    <tr>\n      <th>71</th>\n      <td>28.75</td>\n      <td>29.50</td>\n      <td>18.10</td>\n    </tr>\n    <tr>\n      <th>72</th>\n      <td>22.00</td>\n      <td>24.20</td>\n      <td>16.28</td>\n    </tr>\n    <tr>\n      <th>73</th>\n      <td>24.00</td>\n      <td>20.00</td>\n      <td>15.03</td>\n    </tr>\n    <tr>\n      <th>74</th>\n      <td>27.00</td>\n      <td>29.33</td>\n      <td>18.33</td>\n    </tr>\n    <tr>\n      <th>75</th>\n      <td>24.50</td>\n      <td>27.50</td>\n      <td>17.55</td>\n    </tr>\n    <tr>\n      <th>76</th>\n      <td>24.25</td>\n      <td>28.00</td>\n      <td>19.43</td>\n    </tr>\n    <tr>\n      <th>77</th>\n      <td>29.25</td>\n      <td>27.42</td>\n      <td>20.72</td>\n    </tr>\n    <tr>\n      <th>78</th>\n      <td>24.95</td>\n      <td>29.69</td>\n      <td>21.77</td>\n    </tr>\n    <tr>\n      <th>79</th>\n      <td>30.45</td>\n      <td>32.95</td>\n      <td>23.48</td>\n    </tr>\n    <tr>\n      <th>80</th>\n      <td>37.29</td>\n      <td>35.40</td>\n      <td>25.91</td>\n    </tr>\n    <tr>\n      <th>81</th>\n      <td>31.58</td>\n      <td>32.96</td>\n      <td>27.53</td>\n    </tr>\n    <tr>\n      <th>82</th>\n      <td>40.00</td>\n      <td>34.89</td>\n      <td>29.45</td>\n    </tr>\n  </tbody>\n</table>\n</div>"
     },
     "execution_count": 28,
     "metadata": {},
     "output_type": "execute_result"
    }
   ],
   "source": [
    "# run the cell\n",
    "mpg_year_origin"
   ]
  },
  {
   "cell_type": "markdown",
   "metadata": {},
   "source": [
    "__Inspect__! Do we have the __same trend__ for europe, japan and usa?"
   ]
  },
  {
   "cell_type": "code",
   "execution_count": 32,
   "metadata": {
    "ExecuteTime": {
     "end_time": "2024-03-27T16:13:59.100867500Z",
     "start_time": "2024-03-27T16:13:58.890715600Z"
    }
   },
   "outputs": [
    {
     "data": {
      "text/plain": "<Figure size 1400x1000 with 1 Axes>",
      "image/png": "[encoded data removed]"
     },
     "metadata": {},
     "output_type": "display_data"
    }
   ],
   "source": [
    "# run the cell\n",
    "mpg_year_origin.head(10).plot(\n",
    "    figsize=(14, 10), fontsize=20, kind='barh', color=['aqua', 'red', 'yellow']\n",
    ")\n",
    "plt.grid()\n",
    "plt.show()"
   ]
  },
  {
   "cell_type": "markdown",
   "metadata": {},
   "source": [
    "It seems that manufacturer from europe, japan and usa were able to improve efficiency!"
   ]
  },
  {
   "cell_type": "markdown",
   "metadata": {},
   "source": [
    "120. __Group__ cars by __model_year and origin__ and return __mean__, __max__ and __min mpg__ for all groups! __Fill in the gaps!__"
   ]
  },
  {
   "cell_type": "code",
   "execution_count": 33,
   "metadata": {
    "ExecuteTime": {
     "end_time": "2024-03-27T16:15:33.806673Z",
     "start_time": "2024-03-27T16:15:33.756710300Z"
    }
   },
   "outputs": [
    {
     "data": {
      "text/plain": "              mpg                                                    \n             mean                  max                min            \norigin     europe  japan    usa europe japan   usa europe japan   usa\nmodel_year                                                           \n70          25.20  25.50  15.27   26.0  27.0  22.0   24.0  24.0   9.0\n71          28.75  29.50  18.10   30.0  35.0  28.0   27.0  25.0  12.0\n72          22.00  24.20  16.28   26.0  28.0  28.0   18.0  19.0  11.0\n73          24.00  20.00  15.03   29.0  22.0  23.0   19.0  18.0  11.0\n74          27.00  29.33  18.33   31.0  32.0  28.0   24.0  24.0  13.0\n75          24.50  27.50  17.55   29.0  33.0  23.0   22.0  24.0  13.0\n76          24.25  28.00  19.43   29.5  33.0  29.0   16.5  19.0  13.0\n77          29.25  27.42  20.72   36.0  33.5  33.5   21.5  21.5  15.0\n78          24.95  29.69  21.77   43.1  39.4  36.1   16.2  21.1  17.5\n79          30.45  32.95  23.48   37.3  34.1  35.7   25.4  31.8  15.5\n80          37.29  35.40  25.91   44.3  46.6  32.1   29.8  23.7  19.1\n81          31.58  32.96  27.53   34.5  39.1  39.0   28.1  24.2  17.6\n82          40.00  34.89  29.45   44.0  38.0  38.0   36.0  31.0  22.0",
      "text/html": "<div>\n<style scoped>\n    .dataframe tbody tr th:only-of-type {\n        vertical-align: middle;\n    }\n\n    .dataframe tbody tr th {\n        vertical-align: top;\n    }\n\n    .dataframe thead tr th {\n        text-align: left;\n    }\n\n    .dataframe thead tr:last-of-type th {\n        text-align: right;\n    }\n</style>\n<table border=\"1\" class=\"dataframe\">\n  <thead>\n    <tr>\n      <th></th>\n      <th colspan=\"9\" halign=\"left\">mpg</th>\n    </tr>\n    <tr>\n      <th></th>\n      <th colspan=\"3\" halign=\"left\">mean</th>\n      <th colspan=\"3\" halign=\"left\">max</th>\n      <th colspan=\"3\" halign=\"left\">min</th>\n    </tr>\n    <tr>\n      <th>origin</th>\n      <th>europe</th>\n      <th>japan</th>\n      <th>usa</th>\n      <th>europe</th>\n      <th>japan</th>\n      <th>usa</th>\n      <th>europe</th>\n      <th>japan</th>\n      <th>usa</th>\n    </tr>\n    <tr>\n      <th>model_year</th>\n      <th></th>\n      <th></th>\n      <th></th>\n      <th></th>\n      <th></th>\n      <th></th>\n      <th></th>\n      <th></th>\n      <th></th>\n    </tr>\n  </thead>\n  <tbody>\n    <tr>\n      <th>70</th>\n      <td>25.20</td>\n      <td>25.50</td>\n      <td>15.27</td>\n      <td>26.0</td>\n      <td>27.0</td>\n      <td>22.0</td>\n      <td>24.0</td>\n      <td>24.0</td>\n      <td>9.0</td>\n    </tr>\n    <tr>\n      <th>71</th>\n      <td>28.75</td>\n      <td>29.50</td>\n      <td>18.10</td>\n      <td>30.0</td>\n      <td>35.0</td>\n      <td>28.0</td>\n      <td>27.0</td>\n      <td>25.0</td>\n      <td>12.0</td>\n    </tr>\n    <tr>\n      <th>72</th>\n      <td>22.00</td>\n      <td>24.20</td>\n      <td>16.28</td>\n      <td>26.0</td>\n      <td>28.0</td>\n      <td>28.0</td>\n      <td>18.0</td>\n      <td>19.0</td>\n      <td>11.0</td>\n    </tr>\n    <tr>\n      <th>73</th>\n      <td>24.00</td>\n      <td>20.00</td>\n      <td>15.03</td>\n      <td>29.0</td>\n      <td>22.0</td>\n      <td>23.0</td>\n      <td>19.0</td>\n      <td>18.0</td>\n      <td>11.0</td>\n    </tr>\n    <tr>\n      <th>74</th>\n      <td>27.00</td>\n      <td>29.33</td>\n      <td>18.33</td>\n      <td>31.0</td>\n      <td>32.0</td>\n      <td>28.0</td>\n      <td>24.0</td>\n      <td>24.0</td>\n      <td>13.0</td>\n    </tr>\n    <tr>\n      <th>75</th>\n      <td>24.50</td>\n      <td>27.50</td>\n      <td>17.55</td>\n      <td>29.0</td>\n      <td>33.0</td>\n      <td>23.0</td>\n      <td>22.0</td>\n      <td>24.0</td>\n      <td>13.0</td>\n    </tr>\n    <tr>\n      <th>76</th>\n      <td>24.25</td>\n      <td>28.00</td>\n      <td>19.43</td>\n      <td>29.5</td>\n      <td>33.0</td>\n      <td>29.0</td>\n      <td>16.5</td>\n      <td>19.0</td>\n      <td>13.0</td>\n    </tr>\n    <tr>\n      <th>77</th>\n      <td>29.25</td>\n      <td>27.42</td>\n      <td>20.72</td>\n      <td>36.0</td>\n      <td>33.5</td>\n      <td>33.5</td>\n      <td>21.5</td>\n      <td>21.5</td>\n      <td>15.0</td>\n    </tr>\n    <tr>\n      <th>78</th>\n      <td>24.95</td>\n      <td>29.69</td>\n      <td>21.77</td>\n      <td>43.1</td>\n      <td>39.4</td>\n      <td>36.1</td>\n      <td>16.2</td>\n      <td>21.1</td>\n      <td>17.5</td>\n    </tr>\n    <tr>\n      <th>79</th>\n      <td>30.45</td>\n      <td>32.95</td>\n      <td>23.48</td>\n      <td>37.3</td>\n      <td>34.1</td>\n      <td>35.7</td>\n      <td>25.4</td>\n      <td>31.8</td>\n      <td>15.5</td>\n    </tr>\n    <tr>\n      <th>80</th>\n      <td>37.29</td>\n      <td>35.40</td>\n      <td>25.91</td>\n      <td>44.3</td>\n      <td>46.6</td>\n      <td>32.1</td>\n      <td>29.8</td>\n      <td>23.7</td>\n      <td>19.1</td>\n    </tr>\n    <tr>\n      <th>81</th>\n      <td>31.58</td>\n      <td>32.96</td>\n      <td>27.53</td>\n      <td>34.5</td>\n      <td>39.1</td>\n      <td>39.0</td>\n      <td>28.1</td>\n      <td>24.2</td>\n      <td>17.6</td>\n    </tr>\n    <tr>\n      <th>82</th>\n      <td>40.00</td>\n      <td>34.89</td>\n      <td>29.45</td>\n      <td>44.0</td>\n      <td>38.0</td>\n      <td>38.0</td>\n      <td>36.0</td>\n      <td>31.0</td>\n      <td>22.0</td>\n    </tr>\n  </tbody>\n</table>\n</div>"
     },
     "execution_count": 33,
     "metadata": {},
     "output_type": "execute_result"
    }
   ],
   "source": [
    "cars.groupby(by=['model_year', 'origin']).agg(\n",
    "    {\n",
    "        'mpg': ['mean', 'max', 'min']\n",
    "    }\n",
    ").unstack().round(2)"
   ]
  },
  {
   "cell_type": "markdown",
   "metadata": {},
   "source": [
    "Next, return the columns __name__ and __mpg__ for the __two most fuel efficient cars__ for __each combination of model_year & origin__!"
   ]
  },
  {
   "cell_type": "markdown",
   "metadata": {},
   "source": [
    "121. First, __create__ the __user defined function__ get_most_efficient! __Fill in the gaps!__ "
   ]
  },
  {
   "cell_type": "code",
   "execution_count": 15,
   "metadata": {
    "ExecuteTime": {
     "end_time": "2024-03-27T16:12:13.380533600Z",
     "start_time": "2024-03-27T16:12:13.102825500Z"
    }
   },
   "outputs": [],
   "source": [
    "def get_most_effcient(row):\n",
    "    return row.nlargest(n=2, columns='mpg')"
   ]
  },
  {
   "cell_type": "markdown",
   "metadata": {},
   "source": [
    "122. __Apply__ get_most_efficient on the appropriate __groupby object__! __Save__ the resulting DataFrame in the variable __most_eff__. __Fill in the gaps!__"
   ]
  },
  {
   "cell_type": "code",
   "execution_count": 16,
   "metadata": {
    "scrolled": true,
    "ExecuteTime": {
     "end_time": "2024-03-27T16:12:13.635536700Z",
     "start_time": "2024-03-27T16:12:13.108342200Z"
    }
   },
   "outputs": [
    {
     "name": "stderr",
     "output_type": "stream",
     "text": [
      "C:\\Users\\Darius\\AppData\\Local\\Temp\\ipykernel_27432\\3799080765.py:1: DeprecationWarning: DataFrameGroupBy.apply operated on the grouping columns. This behavior is deprecated, and in a future version of pandas the grouping columns will be excluded from the operation. Either pass `include_groups=False` to exclude the groupings or explicitly select the grouping columns after groupby to silence this warning.\n",
      "  most_eff = cars.groupby(by=['model_year', 'origin']).apply(lambda row: get_most_effcient(row)).iloc[:, [0,8]]\n"
     ]
    }
   ],
   "source": [
    "most_eff = cars.groupby(by=['model_year', 'origin']).apply(lambda row: get_most_effcient(row)).iloc[:, [0,8]]"
   ]
  },
  {
   "cell_type": "markdown",
   "metadata": {},
   "source": [
    "Tidy up and __Inspect__!"
   ]
  },
  {
   "cell_type": "code",
   "execution_count": 17,
   "metadata": {
    "ExecuteTime": {
     "end_time": "2024-03-27T16:12:13.637539800Z",
     "start_time": "2024-03-27T16:12:13.204571900Z"
    }
   },
   "outputs": [],
   "source": [
    "# run the cell\n",
    "most_eff = most_eff.droplevel(-1)"
   ]
  },
  {
   "cell_type": "code",
   "execution_count": 34,
   "metadata": {
    "ExecuteTime": {
     "end_time": "2024-03-27T16:19:41.033093100Z",
     "start_time": "2024-03-27T16:19:41.008771800Z"
    }
   },
   "outputs": [
    {
     "data": {
      "text/plain": "                    mpg                   name\nmodel_year origin                             \n70         europe  26.0   vw 1131 deluxe sedan\n           europe  26.0               bmw 2002\n           japan   27.0           datsun pl510\n           japan   24.0  toyota corona mark ii\n           usa     22.0        plymouth duster\n           usa     21.0          ford maverick\n71         europe  30.0            peugeot 304\n           europe  30.0              fiat 124b\n           japan   35.0            datsun 1200\n           japan   31.0    toyota corolla 1200",
      "text/html": "<div>\n<style scoped>\n    .dataframe tbody tr th:only-of-type {\n        vertical-align: middle;\n    }\n\n    .dataframe tbody tr th {\n        vertical-align: top;\n    }\n\n    .dataframe thead th {\n        text-align: right;\n    }\n</style>\n<table border=\"1\" class=\"dataframe\">\n  <thead>\n    <tr style=\"text-align: right;\">\n      <th></th>\n      <th></th>\n      <th>mpg</th>\n      <th>name</th>\n    </tr>\n    <tr>\n      <th>model_year</th>\n      <th>origin</th>\n      <th></th>\n      <th></th>\n    </tr>\n  </thead>\n  <tbody>\n    <tr>\n      <th rowspan=\"6\" valign=\"top\">70</th>\n      <th>europe</th>\n      <td>26.0</td>\n      <td>vw 1131 deluxe sedan</td>\n    </tr>\n    <tr>\n      <th>europe</th>\n      <td>26.0</td>\n      <td>bmw 2002</td>\n    </tr>\n    <tr>\n      <th>japan</th>\n      <td>27.0</td>\n      <td>datsun pl510</td>\n    </tr>\n    <tr>\n      <th>japan</th>\n      <td>24.0</td>\n      <td>toyota corona mark ii</td>\n    </tr>\n    <tr>\n      <th>usa</th>\n      <td>22.0</td>\n      <td>plymouth duster</td>\n    </tr>\n    <tr>\n      <th>usa</th>\n      <td>21.0</td>\n      <td>ford maverick</td>\n    </tr>\n    <tr>\n      <th rowspan=\"4\" valign=\"top\">71</th>\n      <th>europe</th>\n      <td>30.0</td>\n      <td>peugeot 304</td>\n    </tr>\n    <tr>\n      <th>europe</th>\n      <td>30.0</td>\n      <td>fiat 124b</td>\n    </tr>\n    <tr>\n      <th>japan</th>\n      <td>35.0</td>\n      <td>datsun 1200</td>\n    </tr>\n    <tr>\n      <th>japan</th>\n      <td>31.0</td>\n      <td>toyota corolla 1200</td>\n    </tr>\n  </tbody>\n</table>\n</div>"
     },
     "execution_count": 34,
     "metadata": {},
     "output_type": "execute_result"
    }
   ],
   "source": [
    "# run the cell\n",
    "most_eff.head(10)"
   ]
  },
  {
   "cell_type": "markdown",
   "metadata": {},
   "source": [
    "123. __Select__ the 2 most efficient cars from __japan__ in __1980__! __Fill in the gaps!__ The __most efficient__ car is...?"
   ]
  },
  {
   "cell_type": "code",
   "outputs": [
    {
     "data": {
      "text/plain": "                    mpg                 name\nmodel_year origin                           \n80         japan   46.6            mazda glc\n           japan   44.6  honda civic 1500 gl",
      "text/html": "<div>\n<style scoped>\n    .dataframe tbody tr th:only-of-type {\n        vertical-align: middle;\n    }\n\n    .dataframe tbody tr th {\n        vertical-align: top;\n    }\n\n    .dataframe thead th {\n        text-align: right;\n    }\n</style>\n<table border=\"1\" class=\"dataframe\">\n  <thead>\n    <tr style=\"text-align: right;\">\n      <th></th>\n      <th></th>\n      <th>mpg</th>\n      <th>name</th>\n    </tr>\n    <tr>\n      <th>model_year</th>\n      <th>origin</th>\n      <th></th>\n      <th></th>\n    </tr>\n  </thead>\n  <tbody>\n    <tr>\n      <th rowspan=\"2\" valign=\"top\">80</th>\n      <th>japan</th>\n      <td>46.6</td>\n      <td>mazda glc</td>\n    </tr>\n    <tr>\n      <th>japan</th>\n      <td>44.6</td>\n      <td>honda civic 1500 gl</td>\n    </tr>\n  </tbody>\n</table>\n</div>"
     },
     "execution_count": 35,
     "metadata": {},
     "output_type": "execute_result"
    }
   ],
   "source": [
    "most_eff.loc[(80, 'japan')]"
   ],
   "metadata": {
    "collapsed": false,
    "ExecuteTime": {
     "end_time": "2024-03-27T16:20:07.067791900Z",
     "start_time": "2024-03-27T16:20:06.951633800Z"
    }
   },
   "execution_count": 35
  },
  {
   "cell_type": "markdown",
   "source": [
    "OR"
   ],
   "metadata": {
    "collapsed": false
   }
  },
  {
   "cell_type": "code",
   "execution_count": 19,
   "metadata": {
    "ExecuteTime": {
     "end_time": "2024-03-27T16:12:13.675533400Z",
     "start_time": "2024-03-27T16:12:13.229291500Z"
    }
   },
   "outputs": [
    {
     "data": {
      "text/plain": "                    mpg                 name\nmodel_year origin                           \n80         japan   46.6            mazda glc\n           japan   44.6  honda civic 1500 gl",
      "text/html": "<div>\n<style scoped>\n    .dataframe tbody tr th:only-of-type {\n        vertical-align: middle;\n    }\n\n    .dataframe tbody tr th {\n        vertical-align: top;\n    }\n\n    .dataframe thead th {\n        text-align: right;\n    }\n</style>\n<table border=\"1\" class=\"dataframe\">\n  <thead>\n    <tr style=\"text-align: right;\">\n      <th></th>\n      <th></th>\n      <th>mpg</th>\n      <th>name</th>\n    </tr>\n    <tr>\n      <th>model_year</th>\n      <th>origin</th>\n      <th></th>\n      <th></th>\n    </tr>\n  </thead>\n  <tbody>\n    <tr>\n      <th rowspan=\"2\" valign=\"top\">80</th>\n      <th>japan</th>\n      <td>46.6</td>\n      <td>mazda glc</td>\n    </tr>\n    <tr>\n      <th>japan</th>\n      <td>44.6</td>\n      <td>honda civic 1500 gl</td>\n    </tr>\n  </tbody>\n</table>\n</div>"
     },
     "execution_count": 19,
     "metadata": {},
     "output_type": "execute_result"
    }
   ],
   "source": [
    "most_eff.loc[most_eff.index[63]]"
   ]
  },
  {
   "cell_type": "markdown",
   "metadata": {},
   "source": [
    "The most efficient car is... the mazda glc."
   ]
  },
  {
   "cell_type": "markdown",
   "metadata": {},
   "source": [
    "Calculate the __mean mpg__ for each combination of __model_year & origin__ and __assign__ the corresponding __group-specific value__ to all cars (__new column__!). Then, __filter__ all cars where the __absolute difference__ between __mpg__ and __group-specific mpg__ is __greater than 10__. These cars all outliers/special cases in their respective group."
   ]
  },
  {
   "cell_type": "markdown",
   "metadata": {},
   "source": [
    "124. First, __group__ cars by __model_year & origin__ and calculate the __mean mpg__ for each group via the --- method to create the new column __\"group_mpg\"__. <br>\n",
    "__Fill in the gaps!__"
   ]
  },
  {
   "cell_type": "code",
   "execution_count": 20,
   "metadata": {
    "ExecuteTime": {
     "end_time": "2024-03-27T16:12:13.676534500Z",
     "start_time": "2024-03-27T16:12:13.244270200Z"
    }
   },
   "outputs": [],
   "source": [
    "cars['group_mpg'] = cars.groupby(by=['model_year', 'origin']).mpg.transform('mean')"
   ]
  },
  {
   "cell_type": "markdown",
   "metadata": {},
   "source": [
    "__Inspect!__ The group-specific mpg for the vw pickup is ... ?"
   ]
  },
  {
   "cell_type": "code",
   "execution_count": 21,
   "metadata": {
    "scrolled": true,
    "ExecuteTime": {
     "end_time": "2024-03-27T16:12:13.680534Z",
     "start_time": "2024-03-27T16:12:13.254051600Z"
    }
   },
   "outputs": [
    {
     "data": {
      "text/plain": "    mpg  cylinders  displacement  horsepower  weight  acceleration  \\\n0  18.0          8         307.0       130.0    3504          12.0   \n1  15.0          8         350.0       165.0    3693          11.5   \n2  18.0          8         318.0       150.0    3436          11.0   \n3  16.0          8         304.0       150.0    3433          12.0   \n4  17.0          8         302.0       140.0    3449          10.5   \n\n   model_year origin                       name  group_mpg  \n0          70    usa  chevrolet chevelle malibu  15.272727  \n1          70    usa          buick skylark 320  15.272727  \n2          70    usa         plymouth satellite  15.272727  \n3          70    usa              amc rebel sst  15.272727  \n4          70    usa                ford torino  15.272727  ",
      "text/html": "<div>\n<style scoped>\n    .dataframe tbody tr th:only-of-type {\n        vertical-align: middle;\n    }\n\n    .dataframe tbody tr th {\n        vertical-align: top;\n    }\n\n    .dataframe thead th {\n        text-align: right;\n    }\n</style>\n<table border=\"1\" class=\"dataframe\">\n  <thead>\n    <tr style=\"text-align: right;\">\n      <th></th>\n      <th>mpg</th>\n      <th>cylinders</th>\n      <th>displacement</th>\n      <th>horsepower</th>\n      <th>weight</th>\n      <th>acceleration</th>\n      <th>model_year</th>\n      <th>origin</th>\n      <th>name</th>\n      <th>group_mpg</th>\n    </tr>\n  </thead>\n  <tbody>\n    <tr>\n      <th>0</th>\n      <td>18.0</td>\n      <td>8</td>\n      <td>307.0</td>\n      <td>130.0</td>\n      <td>3504</td>\n      <td>12.0</td>\n      <td>70</td>\n      <td>usa</td>\n      <td>chevrolet chevelle malibu</td>\n      <td>15.272727</td>\n    </tr>\n    <tr>\n      <th>1</th>\n      <td>15.0</td>\n      <td>8</td>\n      <td>350.0</td>\n      <td>165.0</td>\n      <td>3693</td>\n      <td>11.5</td>\n      <td>70</td>\n      <td>usa</td>\n      <td>buick skylark 320</td>\n      <td>15.272727</td>\n    </tr>\n    <tr>\n      <th>2</th>\n      <td>18.0</td>\n      <td>8</td>\n      <td>318.0</td>\n      <td>150.0</td>\n      <td>3436</td>\n      <td>11.0</td>\n      <td>70</td>\n      <td>usa</td>\n      <td>plymouth satellite</td>\n      <td>15.272727</td>\n    </tr>\n    <tr>\n      <th>3</th>\n      <td>16.0</td>\n      <td>8</td>\n      <td>304.0</td>\n      <td>150.0</td>\n      <td>3433</td>\n      <td>12.0</td>\n      <td>70</td>\n      <td>usa</td>\n      <td>amc rebel sst</td>\n      <td>15.272727</td>\n    </tr>\n    <tr>\n      <th>4</th>\n      <td>17.0</td>\n      <td>8</td>\n      <td>302.0</td>\n      <td>140.0</td>\n      <td>3449</td>\n      <td>10.5</td>\n      <td>70</td>\n      <td>usa</td>\n      <td>ford torino</td>\n      <td>15.272727</td>\n    </tr>\n  </tbody>\n</table>\n</div>"
     },
     "execution_count": 21,
     "metadata": {},
     "output_type": "execute_result"
    }
   ],
   "source": [
    "# run the cell\n",
    "cars.head()"
   ]
  },
  {
   "cell_type": "code",
   "execution_count": 22,
   "metadata": {
    "scrolled": true,
    "ExecuteTime": {
     "end_time": "2024-03-27T16:12:13.698535300Z",
     "start_time": "2024-03-27T16:12:13.271121300Z"
    }
   },
   "outputs": [
    {
     "data": {
      "text/plain": "      mpg  cylinders  displacement  horsepower  weight  acceleration  \\\n393  27.0          4         140.0        86.0    2790          15.6   \n394  44.0          4          97.0        52.0    2130          24.6   \n395  32.0          4         135.0        84.0    2295          11.6   \n396  28.0          4         120.0        79.0    2625          18.6   \n397  31.0          4         119.0        82.0    2720          19.4   \n\n     model_year  origin             name  group_mpg  \n393          82     usa  ford mustang gl      29.45  \n394          82  europe        vw pickup      40.00  \n395          82     usa    dodge rampage      29.45  \n396          82     usa      ford ranger      29.45  \n397          82     usa   chevrolet s-10      29.45  ",
      "text/html": "<div>\n<style scoped>\n    .dataframe tbody tr th:only-of-type {\n        vertical-align: middle;\n    }\n\n    .dataframe tbody tr th {\n        vertical-align: top;\n    }\n\n    .dataframe thead th {\n        text-align: right;\n    }\n</style>\n<table border=\"1\" class=\"dataframe\">\n  <thead>\n    <tr style=\"text-align: right;\">\n      <th></th>\n      <th>mpg</th>\n      <th>cylinders</th>\n      <th>displacement</th>\n      <th>horsepower</th>\n      <th>weight</th>\n      <th>acceleration</th>\n      <th>model_year</th>\n      <th>origin</th>\n      <th>name</th>\n      <th>group_mpg</th>\n    </tr>\n  </thead>\n  <tbody>\n    <tr>\n      <th>393</th>\n      <td>27.0</td>\n      <td>4</td>\n      <td>140.0</td>\n      <td>86.0</td>\n      <td>2790</td>\n      <td>15.6</td>\n      <td>82</td>\n      <td>usa</td>\n      <td>ford mustang gl</td>\n      <td>29.45</td>\n    </tr>\n    <tr>\n      <th>394</th>\n      <td>44.0</td>\n      <td>4</td>\n      <td>97.0</td>\n      <td>52.0</td>\n      <td>2130</td>\n      <td>24.6</td>\n      <td>82</td>\n      <td>europe</td>\n      <td>vw pickup</td>\n      <td>40.00</td>\n    </tr>\n    <tr>\n      <th>395</th>\n      <td>32.0</td>\n      <td>4</td>\n      <td>135.0</td>\n      <td>84.0</td>\n      <td>2295</td>\n      <td>11.6</td>\n      <td>82</td>\n      <td>usa</td>\n      <td>dodge rampage</td>\n      <td>29.45</td>\n    </tr>\n    <tr>\n      <th>396</th>\n      <td>28.0</td>\n      <td>4</td>\n      <td>120.0</td>\n      <td>79.0</td>\n      <td>2625</td>\n      <td>18.6</td>\n      <td>82</td>\n      <td>usa</td>\n      <td>ford ranger</td>\n      <td>29.45</td>\n    </tr>\n    <tr>\n      <th>397</th>\n      <td>31.0</td>\n      <td>4</td>\n      <td>119.0</td>\n      <td>82.0</td>\n      <td>2720</td>\n      <td>19.4</td>\n      <td>82</td>\n      <td>usa</td>\n      <td>chevrolet s-10</td>\n      <td>29.45</td>\n    </tr>\n  </tbody>\n</table>\n</div>"
     },
     "execution_count": 22,
     "metadata": {},
     "output_type": "execute_result"
    }
   ],
   "source": [
    "# run the cell\n",
    "cars.tail()"
   ]
  },
  {
   "cell_type": "markdown",
   "metadata": {},
   "source": [
    "The group-specific mpg for the vw pickup is... 40.0!"
   ]
  },
  {
   "cell_type": "markdown",
   "metadata": {},
   "source": [
    "125. __Create__ the column __\"mpg_outlier\"__ by __substracting__ the __group_mpg__ column from the __mpg__ column. __Round__ to 2 decimals! "
   ]
  },
  {
   "cell_type": "code",
   "execution_count": 23,
   "metadata": {
    "ExecuteTime": {
     "end_time": "2024-03-27T16:12:13.699535400Z",
     "start_time": "2024-03-27T16:12:13.286494900Z"
    }
   },
   "outputs": [],
   "source": [
    "cars['mpg_outlier'] = round(cars.group_mpg - cars.mpg, 2)"
   ]
  },
  {
   "cell_type": "code",
   "outputs": [
    {
     "data": {
      "text/plain": "      mpg  cylinders  displacement  horsepower  weight  acceleration  \\\n0    18.0          8         307.0       130.0    3504          12.0   \n1    15.0          8         350.0       165.0    3693          11.5   \n2    18.0          8         318.0       150.0    3436          11.0   \n3    16.0          8         304.0       150.0    3433          12.0   \n4    17.0          8         302.0       140.0    3449          10.5   \n..    ...        ...           ...         ...     ...           ...   \n393  27.0          4         140.0        86.0    2790          15.6   \n394  44.0          4          97.0        52.0    2130          24.6   \n395  32.0          4         135.0        84.0    2295          11.6   \n396  28.0          4         120.0        79.0    2625          18.6   \n397  31.0          4         119.0        82.0    2720          19.4   \n\n     model_year  origin                       name  group_mpg  mpg_outlier  \n0            70     usa  chevrolet chevelle malibu  15.272727        -2.73  \n1            70     usa          buick skylark 320  15.272727         0.27  \n2            70     usa         plymouth satellite  15.272727        -2.73  \n3            70     usa              amc rebel sst  15.272727        -0.73  \n4            70     usa                ford torino  15.272727        -1.73  \n..          ...     ...                        ...        ...          ...  \n393          82     usa            ford mustang gl  29.450000         2.45  \n394          82  europe                  vw pickup  40.000000        -4.00  \n395          82     usa              dodge rampage  29.450000        -2.55  \n396          82     usa                ford ranger  29.450000         1.45  \n397          82     usa             chevrolet s-10  29.450000        -1.55  \n\n[398 rows x 11 columns]",
      "text/html": "<div>\n<style scoped>\n    .dataframe tbody tr th:only-of-type {\n        vertical-align: middle;\n    }\n\n    .dataframe tbody tr th {\n        vertical-align: top;\n    }\n\n    .dataframe thead th {\n        text-align: right;\n    }\n</style>\n<table border=\"1\" class=\"dataframe\">\n  <thead>\n    <tr style=\"text-align: right;\">\n      <th></th>\n      <th>mpg</th>\n      <th>cylinders</th>\n      <th>displacement</th>\n      <th>horsepower</th>\n      <th>weight</th>\n      <th>acceleration</th>\n      <th>model_year</th>\n      <th>origin</th>\n      <th>name</th>\n      <th>group_mpg</th>\n      <th>mpg_outlier</th>\n    </tr>\n  </thead>\n  <tbody>\n    <tr>\n      <th>0</th>\n      <td>18.0</td>\n      <td>8</td>\n      <td>307.0</td>\n      <td>130.0</td>\n      <td>3504</td>\n      <td>12.0</td>\n      <td>70</td>\n      <td>usa</td>\n      <td>chevrolet chevelle malibu</td>\n      <td>15.272727</td>\n      <td>-2.73</td>\n    </tr>\n    <tr>\n      <th>1</th>\n      <td>15.0</td>\n      <td>8</td>\n      <td>350.0</td>\n      <td>165.0</td>\n      <td>3693</td>\n      <td>11.5</td>\n      <td>70</td>\n      <td>usa</td>\n      <td>buick skylark 320</td>\n      <td>15.272727</td>\n      <td>0.27</td>\n    </tr>\n    <tr>\n      <th>2</th>\n      <td>18.0</td>\n      <td>8</td>\n      <td>318.0</td>\n      <td>150.0</td>\n      <td>3436</td>\n      <td>11.0</td>\n      <td>70</td>\n      <td>usa</td>\n      <td>plymouth satellite</td>\n      <td>15.272727</td>\n      <td>-2.73</td>\n    </tr>\n    <tr>\n      <th>3</th>\n      <td>16.0</td>\n      <td>8</td>\n      <td>304.0</td>\n      <td>150.0</td>\n      <td>3433</td>\n      <td>12.0</td>\n      <td>70</td>\n      <td>usa</td>\n      <td>amc rebel sst</td>\n      <td>15.272727</td>\n      <td>-0.73</td>\n    </tr>\n    <tr>\n      <th>4</th>\n      <td>17.0</td>\n      <td>8</td>\n      <td>302.0</td>\n      <td>140.0</td>\n      <td>3449</td>\n      <td>10.5</td>\n      <td>70</td>\n      <td>usa</td>\n      <td>ford torino</td>\n      <td>15.272727</td>\n      <td>-1.73</td>\n    </tr>\n    <tr>\n      <th>...</th>\n      <td>...</td>\n      <td>...</td>\n      <td>...</td>\n      <td>...</td>\n      <td>...</td>\n      <td>...</td>\n      <td>...</td>\n      <td>...</td>\n      <td>...</td>\n      <td>...</td>\n      <td>...</td>\n    </tr>\n    <tr>\n      <th>393</th>\n      <td>27.0</td>\n      <td>4</td>\n      <td>140.0</td>\n      <td>86.0</td>\n      <td>2790</td>\n      <td>15.6</td>\n      <td>82</td>\n      <td>usa</td>\n      <td>ford mustang gl</td>\n      <td>29.450000</td>\n      <td>2.45</td>\n    </tr>\n    <tr>\n      <th>394</th>\n      <td>44.0</td>\n      <td>4</td>\n      <td>97.0</td>\n      <td>52.0</td>\n      <td>2130</td>\n      <td>24.6</td>\n      <td>82</td>\n      <td>europe</td>\n      <td>vw pickup</td>\n      <td>40.000000</td>\n      <td>-4.00</td>\n    </tr>\n    <tr>\n      <th>395</th>\n      <td>32.0</td>\n      <td>4</td>\n      <td>135.0</td>\n      <td>84.0</td>\n      <td>2295</td>\n      <td>11.6</td>\n      <td>82</td>\n      <td>usa</td>\n      <td>dodge rampage</td>\n      <td>29.450000</td>\n      <td>-2.55</td>\n    </tr>\n    <tr>\n      <th>396</th>\n      <td>28.0</td>\n      <td>4</td>\n      <td>120.0</td>\n      <td>79.0</td>\n      <td>2625</td>\n      <td>18.6</td>\n      <td>82</td>\n      <td>usa</td>\n      <td>ford ranger</td>\n      <td>29.450000</td>\n      <td>1.45</td>\n    </tr>\n    <tr>\n      <th>397</th>\n      <td>31.0</td>\n      <td>4</td>\n      <td>119.0</td>\n      <td>82.0</td>\n      <td>2720</td>\n      <td>19.4</td>\n      <td>82</td>\n      <td>usa</td>\n      <td>chevrolet s-10</td>\n      <td>29.450000</td>\n      <td>-1.55</td>\n    </tr>\n  </tbody>\n</table>\n<p>398 rows × 11 columns</p>\n</div>"
     },
     "execution_count": 24,
     "metadata": {},
     "output_type": "execute_result"
    }
   ],
   "source": [
    "cars"
   ],
   "metadata": {
    "collapsed": false,
    "ExecuteTime": {
     "end_time": "2024-03-27T16:12:13.720533600Z",
     "start_time": "2024-03-27T16:12:13.292998200Z"
    }
   },
   "execution_count": 24
  },
  {
   "cell_type": "code",
   "execution_count": 25,
   "metadata": {
    "ExecuteTime": {
     "end_time": "2024-03-27T16:12:13.722539400Z",
     "start_time": "2024-03-27T16:12:13.310300400Z"
    }
   },
   "outputs": [
    {
     "data": {
      "text/plain": "count    398.000000\nmean      -0.000729\nstd        4.555381\nmin      -18.150000\n25%       -2.730000\n50%        0.885000\n75%        3.220000\nmax       11.700000\nName: mpg_outlier, dtype: float64"
     },
     "execution_count": 25,
     "metadata": {},
     "output_type": "execute_result"
    }
   ],
   "source": [
    "# run the cell\n",
    "cars.mpg_outlier.describe()"
   ]
  },
  {
   "cell_type": "markdown",
   "metadata": {},
   "source": [
    "126. __Filter__ cars for all cars/rows, where the __absolute value__ in the __mpg_outlier__ column is __greater than 10__! __Fill in the gaps!__<br>\n",
    "There is only one car, that is __significantly less fuel efficient__ than it´s peer group. Which one?"
   ]
  },
  {
   "cell_type": "code",
   "execution_count": 36,
   "metadata": {
    "scrolled": false,
    "ExecuteTime": {
     "end_time": "2024-03-27T16:25:33.186905400Z",
     "start_time": "2024-03-27T16:25:33.144912900Z"
    }
   },
   "outputs": [
    {
     "data": {
      "text/plain": "      mpg  cylinders  displacement  horsepower  weight  acceleration  \\\n83   28.0          4          98.0        80.0    2164          15.0   \n238  33.5          4          98.0        83.0    2075          15.9   \n244  43.1          4          90.0        48.0    1985          21.5   \n245  36.1          4          98.0        66.0    1800          14.4   \n295  35.7          4          98.0        80.0    1915          14.4   \n301  34.2          4         105.0        70.0    2200          13.2   \n302  34.5          4         105.0        70.0    2150          14.9   \n308  33.5          4         151.0        90.0    2556          13.2   \n322  46.6          4          86.0        65.0    2110          17.9   \n334  23.7          3          70.0       100.0    2420          12.5   \n344  39.0          4          86.0        64.0    1875          16.4   \n\n     model_year  origin                         name  group_mpg  mpg_outlier  \n83           72     usa              dodge colt (sw)  16.277778       -11.72  \n238          77     usa               dodge colt m/m  20.722222       -12.78  \n244          78  europe      vw rabbit custom diesel  24.950000       -18.15  \n245          78     usa                  ford fiesta  21.772727       -14.33  \n295          79     usa  dodge colt hatchback custom  23.478261       -12.22  \n301          79     usa             plymouth horizon  23.478261       -10.72  \n302          79     usa         plymouth horizon tc3  23.478261       -11.02  \n308          79     usa              pontiac phoenix  23.478261       -10.02  \n322          80   japan                    mazda glc  35.400000       -11.20  \n334          80   japan                mazda rx-7 gs  35.400000        11.70  \n344          81     usa               plymouth champ  27.530769       -11.47  ",
      "text/html": "<div>\n<style scoped>\n    .dataframe tbody tr th:only-of-type {\n        vertical-align: middle;\n    }\n\n    .dataframe tbody tr th {\n        vertical-align: top;\n    }\n\n    .dataframe thead th {\n        text-align: right;\n    }\n</style>\n<table border=\"1\" class=\"dataframe\">\n  <thead>\n    <tr style=\"text-align: right;\">\n      <th></th>\n      <th>mpg</th>\n      <th>cylinders</th>\n      <th>displacement</th>\n      <th>horsepower</th>\n      <th>weight</th>\n      <th>acceleration</th>\n      <th>model_year</th>\n      <th>origin</th>\n      <th>name</th>\n      <th>group_mpg</th>\n      <th>mpg_outlier</th>\n    </tr>\n  </thead>\n  <tbody>\n    <tr>\n      <th>83</th>\n      <td>28.0</td>\n      <td>4</td>\n      <td>98.0</td>\n      <td>80.0</td>\n      <td>2164</td>\n      <td>15.0</td>\n      <td>72</td>\n      <td>usa</td>\n      <td>dodge colt (sw)</td>\n      <td>16.277778</td>\n      <td>-11.72</td>\n    </tr>\n    <tr>\n      <th>238</th>\n      <td>33.5</td>\n      <td>4</td>\n      <td>98.0</td>\n      <td>83.0</td>\n      <td>2075</td>\n      <td>15.9</td>\n      <td>77</td>\n      <td>usa</td>\n      <td>dodge colt m/m</td>\n      <td>20.722222</td>\n      <td>-12.78</td>\n    </tr>\n    <tr>\n      <th>244</th>\n      <td>43.1</td>\n      <td>4</td>\n      <td>90.0</td>\n      <td>48.0</td>\n      <td>1985</td>\n      <td>21.5</td>\n      <td>78</td>\n      <td>europe</td>\n      <td>vw rabbit custom diesel</td>\n      <td>24.950000</td>\n      <td>-18.15</td>\n    </tr>\n    <tr>\n      <th>245</th>\n      <td>36.1</td>\n      <td>4</td>\n      <td>98.0</td>\n      <td>66.0</td>\n      <td>1800</td>\n      <td>14.4</td>\n      <td>78</td>\n      <td>usa</td>\n      <td>ford fiesta</td>\n      <td>21.772727</td>\n      <td>-14.33</td>\n    </tr>\n    <tr>\n      <th>295</th>\n      <td>35.7</td>\n      <td>4</td>\n      <td>98.0</td>\n      <td>80.0</td>\n      <td>1915</td>\n      <td>14.4</td>\n      <td>79</td>\n      <td>usa</td>\n      <td>dodge colt hatchback custom</td>\n      <td>23.478261</td>\n      <td>-12.22</td>\n    </tr>\n    <tr>\n      <th>301</th>\n      <td>34.2</td>\n      <td>4</td>\n      <td>105.0</td>\n      <td>70.0</td>\n      <td>2200</td>\n      <td>13.2</td>\n      <td>79</td>\n      <td>usa</td>\n      <td>plymouth horizon</td>\n      <td>23.478261</td>\n      <td>-10.72</td>\n    </tr>\n    <tr>\n      <th>302</th>\n      <td>34.5</td>\n      <td>4</td>\n      <td>105.0</td>\n      <td>70.0</td>\n      <td>2150</td>\n      <td>14.9</td>\n      <td>79</td>\n      <td>usa</td>\n      <td>plymouth horizon tc3</td>\n      <td>23.478261</td>\n      <td>-11.02</td>\n    </tr>\n    <tr>\n      <th>308</th>\n      <td>33.5</td>\n      <td>4</td>\n      <td>151.0</td>\n      <td>90.0</td>\n      <td>2556</td>\n      <td>13.2</td>\n      <td>79</td>\n      <td>usa</td>\n      <td>pontiac phoenix</td>\n      <td>23.478261</td>\n      <td>-10.02</td>\n    </tr>\n    <tr>\n      <th>322</th>\n      <td>46.6</td>\n      <td>4</td>\n      <td>86.0</td>\n      <td>65.0</td>\n      <td>2110</td>\n      <td>17.9</td>\n      <td>80</td>\n      <td>japan</td>\n      <td>mazda glc</td>\n      <td>35.400000</td>\n      <td>-11.20</td>\n    </tr>\n    <tr>\n      <th>334</th>\n      <td>23.7</td>\n      <td>3</td>\n      <td>70.0</td>\n      <td>100.0</td>\n      <td>2420</td>\n      <td>12.5</td>\n      <td>80</td>\n      <td>japan</td>\n      <td>mazda rx-7 gs</td>\n      <td>35.400000</td>\n      <td>11.70</td>\n    </tr>\n    <tr>\n      <th>344</th>\n      <td>39.0</td>\n      <td>4</td>\n      <td>86.0</td>\n      <td>64.0</td>\n      <td>1875</td>\n      <td>16.4</td>\n      <td>81</td>\n      <td>usa</td>\n      <td>plymouth champ</td>\n      <td>27.530769</td>\n      <td>-11.47</td>\n    </tr>\n  </tbody>\n</table>\n</div>"
     },
     "execution_count": 36,
     "metadata": {},
     "output_type": "execute_result"
    }
   ],
   "source": [
    "cars.loc[cars.mpg_outlier.abs() > 10]"
   ]
  },
  {
   "cell_type": "markdown",
   "metadata": {},
   "source": [
    "The... mazda rx-7 gs is significantly less fuel efficient than it´s peer group (negative value in mpg_outlier column)."
   ]
  },
  {
   "cell_type": "markdown",
   "metadata": {},
   "source": [
    "# Well Done!"
   ]
  },
  {
   "cell_type": "markdown",
   "metadata": {},
   "source": [
    "-------------------"
   ]
  },
  {
   "cell_type": "markdown",
   "metadata": {},
   "source": [
    "# Hints (Spolier!)"
   ]
  },
  {
   "cell_type": "markdown",
   "metadata": {},
   "source": [
    "117. cars.groupby(\"---\").---.mean()"
   ]
  },
  {
   "cell_type": "markdown",
   "metadata": {},
   "source": [
    "118. mpg_by_year = cars.groupby(\"---\").---.---.round(2)"
   ]
  },
  {
   "cell_type": "markdown",
   "metadata": {},
   "source": [
    "119. Don´t forget unstack() method!\n"
   ]
  },
  {
   "cell_type": "markdown",
   "metadata": {},
   "source": [
    "120. agg() method, unstack() method"
   ]
  },
  {
   "cell_type": "markdown",
   "metadata": {},
   "source": [
    "121. nlargest() method; "
   ]
  },
  {
   "cell_type": "markdown",
   "metadata": {},
   "source": [
    "122. group cars by model_year & origin; pass get_most_efficient to the apply() method"
   ]
  },
  {
   "cell_type": "markdown",
   "metadata": {},
   "source": [
    "123. outer index level: 80; inner index level: \"japan\""
   ]
  },
  {
   "cell_type": "markdown",
   "metadata": {},
   "source": [
    "124. transform() method"
   ]
  },
  {
   "cell_type": "markdown",
   "metadata": {},
   "source": [
    "125. (_pandas series_ - _pandas series_).round()"
   ]
  },
  {
   "cell_type": "markdown",
   "metadata": {},
   "source": [
    "126. abs() method"
   ]
  }
 ],
 "metadata": {
  "kernelspec": {
   "display_name": "Python 3",
   "language": "python",
   "name": "python3"
  },
  "language_info": {
   "codemirror_mode": {
    "name": "ipython",
    "version": 3
   },
   "file_extension": ".py",
   "mimetype": "text/x-python",
   "name": "python",
   "nbconvert_exporter": "python",
   "pygments_lexer": "ipython3",
   "version": "3.7.6"
  }
 },
 "nbformat": 4,
 "nbformat_minor": 2
}
