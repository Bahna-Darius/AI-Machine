{
 "cells": [
  {
   "cell_type": "markdown",
   "metadata": {},
   "source": [
    "# Coding Exercises (Part 1)"
   ]
  },
  {
   "cell_type": "markdown",
   "metadata": {},
   "source": [
    "Now, you will have the opportunity to analyze your own dataset. <br>\n",
    "__Follow the instructions__ and insert your code! You are either requested to \n",
    "- Complete the Code and __Fill in the gaps__. Gaps are marked with \"__---__\" and are __placeholders__ for your code fragment. \n",
    "- Write Code completely __on your own__ "
   ]
  },
  {
   "cell_type": "markdown",
   "metadata": {},
   "source": [
    "In some exercises, you will find questions that can only be answered, if your code is correct and returns the right output! The correct answer is provided below your coding cell. There you can check whether your code is correct."
   ]
  },
  {
   "cell_type": "markdown",
   "metadata": {},
   "source": [
    "If you need a hint, check the __Hints Section__ at the end of this Notebook. Exercises and Hints are numerated accordingly."
   ]
  },
  {
   "cell_type": "markdown",
   "metadata": {},
   "source": [
    "If you need some further help or if you want to check your code, you can also watch the __solutions videos__ or check the __solutions notebook__."
   ]
  },
  {
   "cell_type": "markdown",
   "metadata": {},
   "source": [
    "### Have Fun!"
   ]
  },
  {
   "cell_type": "markdown",
   "metadata": {},
   "source": [
    "--------------------------------------------------------------------------------------------------------------"
   ]
  },
  {
   "cell_type": "markdown",
   "metadata": {},
   "source": [
    "## DataFrame Basics II"
   ]
  },
  {
   "cell_type": "markdown",
   "metadata": {},
   "source": [
    "### Exercise 5: Filtering DataFrames & Adding/Removing Rows and Columns"
   ]
  },
  {
   "cell_type": "code",
   "execution_count": 1,
   "metadata": {
    "ExecuteTime": {
     "end_time": "2024-05-08T17:23:28.869117200Z",
     "start_time": "2024-05-08T17:23:28.347661700Z"
    }
   },
   "outputs": [],
   "source": [
    "#run the cell!\n",
    "import pandas as pd"
   ]
  },
  {
   "cell_type": "code",
   "execution_count": 2,
   "metadata": {
    "ExecuteTime": {
     "end_time": "2024-05-08T17:23:31.249333Z",
     "start_time": "2024-05-08T17:23:31.208760300Z"
    }
   },
   "outputs": [],
   "source": [
    "#run the cell!\n",
    "cars = pd.read_csv(\"../../Data/cars.csv\")"
   ]
  },
  {
   "cell_type": "code",
   "execution_count": 3,
   "metadata": {
    "ExecuteTime": {
     "end_time": "2024-02-25T10:57:02.630574500Z",
     "start_time": "2024-02-25T10:57:02.569248500Z"
    }
   },
   "outputs": [
    {
     "data": {
      "text/plain": "      mpg  cylinders  displacement  horsepower  weight  acceleration  \\\n0    18.0          8         307.0       130.0    3504          12.0   \n1    15.0          8         350.0       165.0    3693          11.5   \n2    18.0          8         318.0       150.0    3436          11.0   \n3    16.0          8         304.0       150.0    3433          12.0   \n4    17.0          8         302.0       140.0    3449          10.5   \n..    ...        ...           ...         ...     ...           ...   \n393  27.0          4         140.0        86.0    2790          15.6   \n394  44.0          4          97.0        52.0    2130          24.6   \n395  32.0          4         135.0        84.0    2295          11.6   \n396  28.0          4         120.0        79.0    2625          18.6   \n397  31.0          4         119.0        82.0    2720          19.4   \n\n     model_year  origin                       name  \n0            70     usa  chevrolet chevelle malibu  \n1            70     usa          buick skylark 320  \n2            70     usa         plymouth satellite  \n3            70     usa              amc rebel sst  \n4            70     usa                ford torino  \n..          ...     ...                        ...  \n393          82     usa            ford mustang gl  \n394          82  europe                  vw pickup  \n395          82     usa              dodge rampage  \n396          82     usa                ford ranger  \n397          82     usa             chevrolet s-10  \n\n[398 rows x 9 columns]",
      "text/html": "<div>\n<style scoped>\n    .dataframe tbody tr th:only-of-type {\n        vertical-align: middle;\n    }\n\n    .dataframe tbody tr th {\n        vertical-align: top;\n    }\n\n    .dataframe thead th {\n        text-align: right;\n    }\n</style>\n<table border=\"1\" class=\"dataframe\">\n  <thead>\n    <tr style=\"text-align: right;\">\n      <th></th>\n      <th>mpg</th>\n      <th>cylinders</th>\n      <th>displacement</th>\n      <th>horsepower</th>\n      <th>weight</th>\n      <th>acceleration</th>\n      <th>model_year</th>\n      <th>origin</th>\n      <th>name</th>\n    </tr>\n  </thead>\n  <tbody>\n    <tr>\n      <th>0</th>\n      <td>18.0</td>\n      <td>8</td>\n      <td>307.0</td>\n      <td>130.0</td>\n      <td>3504</td>\n      <td>12.0</td>\n      <td>70</td>\n      <td>usa</td>\n      <td>chevrolet chevelle malibu</td>\n    </tr>\n    <tr>\n      <th>1</th>\n      <td>15.0</td>\n      <td>8</td>\n      <td>350.0</td>\n      <td>165.0</td>\n      <td>3693</td>\n      <td>11.5</td>\n      <td>70</td>\n      <td>usa</td>\n      <td>buick skylark 320</td>\n    </tr>\n    <tr>\n      <th>2</th>\n      <td>18.0</td>\n      <td>8</td>\n      <td>318.0</td>\n      <td>150.0</td>\n      <td>3436</td>\n      <td>11.0</td>\n      <td>70</td>\n      <td>usa</td>\n      <td>plymouth satellite</td>\n    </tr>\n    <tr>\n      <th>3</th>\n      <td>16.0</td>\n      <td>8</td>\n      <td>304.0</td>\n      <td>150.0</td>\n      <td>3433</td>\n      <td>12.0</td>\n      <td>70</td>\n      <td>usa</td>\n      <td>amc rebel sst</td>\n    </tr>\n    <tr>\n      <th>4</th>\n      <td>17.0</td>\n      <td>8</td>\n      <td>302.0</td>\n      <td>140.0</td>\n      <td>3449</td>\n      <td>10.5</td>\n      <td>70</td>\n      <td>usa</td>\n      <td>ford torino</td>\n    </tr>\n    <tr>\n      <th>...</th>\n      <td>...</td>\n      <td>...</td>\n      <td>...</td>\n      <td>...</td>\n      <td>...</td>\n      <td>...</td>\n      <td>...</td>\n      <td>...</td>\n      <td>...</td>\n    </tr>\n    <tr>\n      <th>393</th>\n      <td>27.0</td>\n      <td>4</td>\n      <td>140.0</td>\n      <td>86.0</td>\n      <td>2790</td>\n      <td>15.6</td>\n      <td>82</td>\n      <td>usa</td>\n      <td>ford mustang gl</td>\n    </tr>\n    <tr>\n      <th>394</th>\n      <td>44.0</td>\n      <td>4</td>\n      <td>97.0</td>\n      <td>52.0</td>\n      <td>2130</td>\n      <td>24.6</td>\n      <td>82</td>\n      <td>europe</td>\n      <td>vw pickup</td>\n    </tr>\n    <tr>\n      <th>395</th>\n      <td>32.0</td>\n      <td>4</td>\n      <td>135.0</td>\n      <td>84.0</td>\n      <td>2295</td>\n      <td>11.6</td>\n      <td>82</td>\n      <td>usa</td>\n      <td>dodge rampage</td>\n    </tr>\n    <tr>\n      <th>396</th>\n      <td>28.0</td>\n      <td>4</td>\n      <td>120.0</td>\n      <td>79.0</td>\n      <td>2625</td>\n      <td>18.6</td>\n      <td>82</td>\n      <td>usa</td>\n      <td>ford ranger</td>\n    </tr>\n    <tr>\n      <th>397</th>\n      <td>31.0</td>\n      <td>4</td>\n      <td>119.0</td>\n      <td>82.0</td>\n      <td>2720</td>\n      <td>19.4</td>\n      <td>82</td>\n      <td>usa</td>\n      <td>chevrolet s-10</td>\n    </tr>\n  </tbody>\n</table>\n<p>398 rows × 9 columns</p>\n</div>"
     },
     "execution_count": 3,
     "metadata": {},
     "output_type": "execute_result"
    }
   ],
   "source": [
    "#run the cell!\n",
    "cars"
   ]
  },
  {
   "cell_type": "markdown",
   "metadata": {},
   "source": [
    "40. __Check__ for all elements in the column __\"origin\"__ whether they are __equal to \"europe\"__. __Save__ the boolean Series in the variable __mask1__! __Fill in the gaps__!"
   ]
  },
  {
   "cell_type": "code",
   "execution_count": 4,
   "metadata": {
    "scrolled": true,
    "ExecuteTime": {
     "end_time": "2024-02-25T10:58:36.392878300Z",
     "start_time": "2024-02-25T10:58:36.326091300Z"
    }
   },
   "outputs": [
    {
     "data": {
      "text/plain": "0      False\n1      False\n2      False\n3      False\n4      False\n       ...  \n393    False\n394     True\n395    False\n396    False\n397    False\nName: origin, Length: 398, dtype: bool"
     },
     "execution_count": 4,
     "metadata": {},
     "output_type": "execute_result"
    }
   ],
   "source": [
    "mask1 = cars.origin == \"europe\"\n",
    "mask1"
   ]
  },
  {
   "cell_type": "markdown",
   "metadata": {},
   "source": [
    "41. __Check__ for all elements in the column __\"mpg\"__ whether they are __smaller than 20__. __Save__ the boolean Series in the variable __mask2__!"
   ]
  },
  {
   "cell_type": "code",
   "execution_count": 6,
   "metadata": {
    "ExecuteTime": {
     "end_time": "2024-02-25T11:06:09.456424700Z",
     "start_time": "2024-02-25T11:06:09.433538100Z"
    }
   },
   "outputs": [
    {
     "data": {
      "text/plain": "0       True\n1       True\n2       True\n3       True\n4       True\n       ...  \n393    False\n394    False\n395    False\n396    False\n397    False\nName: mpg, Length: 398, dtype: bool"
     },
     "execution_count": 6,
     "metadata": {},
     "output_type": "execute_result"
    }
   ],
   "source": [
    "mask2 = cars.mpg < 20\n",
    "mask2"
   ]
  },
  {
   "cell_type": "markdown",
   "metadata": {},
   "source": [
    "42. __Filter__ the cars DataFrame for __all cars from europe__ (use mask1) and __save__ the subset in the variable __europe__! __Fill in the gaps!__"
   ]
  },
  {
   "cell_type": "code",
   "execution_count": 11,
   "metadata": {
    "ExecuteTime": {
     "end_time": "2024-02-25T21:08:54.131776200Z",
     "start_time": "2024-02-25T21:08:54.102764100Z"
    }
   },
   "outputs": [],
   "source": [
    "europe  = cars.loc[mask1]"
   ]
  },
  {
   "cell_type": "markdown",
   "metadata": {},
   "source": [
    "__Inspect__! What is the name of the __second__ car?"
   ]
  },
  {
   "cell_type": "code",
   "execution_count": 14,
   "metadata": {
    "scrolled": true,
    "ExecuteTime": {
     "end_time": "2024-02-25T21:09:31.102046300Z",
     "start_time": "2024-02-25T21:09:31.080395400Z"
    }
   },
   "outputs": [
    {
     "data": {
      "text/plain": "     mpg  cylinders  displacement  horsepower  weight  acceleration  \\\n19  26.0          4          97.0        46.0    1835          20.5   \n20  25.0          4         110.0        87.0    2672          17.5   \n21  24.0          4         107.0        90.0    2430          14.5   \n22  25.0          4         104.0        95.0    2375          17.5   \n23  26.0          4         121.0       113.0    2234          12.5   \n\n    model_year  origin                  name  \n19          70  europe  vw 1131 deluxe sedan  \n20          70  europe           peugeot 504  \n21          70  europe           audi 100 ls  \n22          70  europe              saab 99e  \n23          70  europe              bmw 2002  ",
      "text/html": "<div>\n<style scoped>\n    .dataframe tbody tr th:only-of-type {\n        vertical-align: middle;\n    }\n\n    .dataframe tbody tr th {\n        vertical-align: top;\n    }\n\n    .dataframe thead th {\n        text-align: right;\n    }\n</style>\n<table border=\"1\" class=\"dataframe\">\n  <thead>\n    <tr style=\"text-align: right;\">\n      <th></th>\n      <th>mpg</th>\n      <th>cylinders</th>\n      <th>displacement</th>\n      <th>horsepower</th>\n      <th>weight</th>\n      <th>acceleration</th>\n      <th>model_year</th>\n      <th>origin</th>\n      <th>name</th>\n    </tr>\n  </thead>\n  <tbody>\n    <tr>\n      <th>19</th>\n      <td>26.0</td>\n      <td>4</td>\n      <td>97.0</td>\n      <td>46.0</td>\n      <td>1835</td>\n      <td>20.5</td>\n      <td>70</td>\n      <td>europe</td>\n      <td>vw 1131 deluxe sedan</td>\n    </tr>\n    <tr>\n      <th>20</th>\n      <td>25.0</td>\n      <td>4</td>\n      <td>110.0</td>\n      <td>87.0</td>\n      <td>2672</td>\n      <td>17.5</td>\n      <td>70</td>\n      <td>europe</td>\n      <td>peugeot 504</td>\n    </tr>\n    <tr>\n      <th>21</th>\n      <td>24.0</td>\n      <td>4</td>\n      <td>107.0</td>\n      <td>90.0</td>\n      <td>2430</td>\n      <td>14.5</td>\n      <td>70</td>\n      <td>europe</td>\n      <td>audi 100 ls</td>\n    </tr>\n    <tr>\n      <th>22</th>\n      <td>25.0</td>\n      <td>4</td>\n      <td>104.0</td>\n      <td>95.0</td>\n      <td>2375</td>\n      <td>17.5</td>\n      <td>70</td>\n      <td>europe</td>\n      <td>saab 99e</td>\n    </tr>\n    <tr>\n      <th>23</th>\n      <td>26.0</td>\n      <td>4</td>\n      <td>121.0</td>\n      <td>113.0</td>\n      <td>2234</td>\n      <td>12.5</td>\n      <td>70</td>\n      <td>europe</td>\n      <td>bmw 2002</td>\n    </tr>\n  </tbody>\n</table>\n</div>"
     },
     "execution_count": 14,
     "metadata": {},
     "output_type": "execute_result"
    }
   ],
   "source": [
    "# run the cell!\n",
    "europe.head()"
   ]
  },
  {
   "cell_type": "markdown",
   "metadata": {},
   "source": [
    "The second car is a ... peugeot 504!"
   ]
  },
  {
   "cell_type": "markdown",
   "metadata": {},
   "source": [
    "43. Get some __meta information__ on the DataFrame europe. __How many__ cars are from europe? "
   ]
  },
  {
   "cell_type": "code",
   "execution_count": 21,
   "metadata": {
    "ExecuteTime": {
     "end_time": "2024-02-25T21:12:40.355058100Z",
     "start_time": "2024-02-25T21:12:40.336197200Z"
    }
   },
   "outputs": [
    {
     "name": "stdout",
     "output_type": "stream",
     "text": [
      "<class 'pandas.core.frame.DataFrame'>\n",
      "Index: 70 entries, 19 to 394\n",
      "Data columns (total 9 columns):\n",
      " #   Column        Non-Null Count  Dtype  \n",
      "---  ------        --------------  -----  \n",
      " 0   mpg           70 non-null     float64\n",
      " 1   cylinders     70 non-null     int64  \n",
      " 2   displacement  70 non-null     float64\n",
      " 3   horsepower    68 non-null     float64\n",
      " 4   weight        70 non-null     int64  \n",
      " 5   acceleration  70 non-null     float64\n",
      " 6   model_year    70 non-null     int64  \n",
      " 7   origin        70 non-null     object \n",
      " 8   name          70 non-null     object \n",
      "dtypes: float64(4), int64(3), object(2)\n",
      "memory usage: 5.5+ KB\n"
     ]
    }
   ],
   "source": [
    "europe.info()"
   ]
  },
  {
   "cell_type": "markdown",
   "metadata": {},
   "source": [
    "... 70 cars are from europe!"
   ]
  },
  {
   "cell_type": "markdown",
   "metadata": {},
   "source": [
    "44. __Filter__ the DataFrame __cars__ for all cars __from europe with low fuel efficiency__ (mpg lower than 20). Use __mask1__ and __mask2__!<br> __Save__ the subset in the variable __europe_le__! __Fill in the gaps__!"
   ]
  },
  {
   "cell_type": "code",
   "execution_count": 22,
   "metadata": {
    "ExecuteTime": {
     "end_time": "2024-02-25T21:15:09.174123500Z",
     "start_time": "2024-02-25T21:15:09.146318600Z"
    }
   },
   "outputs": [],
   "source": [
    "europe_le = europe.loc[mask1 & mask2].copy()"
   ]
  },
  {
   "cell_type": "markdown",
   "metadata": {},
   "source": [
    "__Inspect__! What is the __name__ of the __least efficient__ car from europe? "
   ]
  },
  {
   "cell_type": "code",
   "execution_count": 25,
   "metadata": {
    "ExecuteTime": {
     "end_time": "2024-02-25T21:16:10.564206800Z",
     "start_time": "2024-02-25T21:16:10.509830100Z"
    }
   },
   "outputs": [
    {
     "data": {
      "text/plain": "      mpg  cylinders  displacement  horsepower  weight  acceleration  \\\n76   18.0          4         121.0       112.0    2933          14.5   \n120  19.0          4         121.0       112.0    2868          15.5   \n209  19.0          4         120.0        88.0    3270          21.9   \n211  16.5          6         168.0       120.0    3820          16.7   \n275  17.0          6         163.0       125.0    3140          13.6   \n277  16.2          6         163.0       133.0    3410          15.8   \n\n     model_year  origin                name  \n76           72  europe     volvo 145e (sw)  \n120          73  europe         volvo 144ea  \n209          76  europe         peugeot 504  \n211          76  europe  mercedes-benz 280s  \n275          78  europe         volvo 264gl  \n277          78  europe       peugeot 604sl  ",
      "text/html": "<div>\n<style scoped>\n    .dataframe tbody tr th:only-of-type {\n        vertical-align: middle;\n    }\n\n    .dataframe tbody tr th {\n        vertical-align: top;\n    }\n\n    .dataframe thead th {\n        text-align: right;\n    }\n</style>\n<table border=\"1\" class=\"dataframe\">\n  <thead>\n    <tr style=\"text-align: right;\">\n      <th></th>\n      <th>mpg</th>\n      <th>cylinders</th>\n      <th>displacement</th>\n      <th>horsepower</th>\n      <th>weight</th>\n      <th>acceleration</th>\n      <th>model_year</th>\n      <th>origin</th>\n      <th>name</th>\n    </tr>\n  </thead>\n  <tbody>\n    <tr>\n      <th>76</th>\n      <td>18.0</td>\n      <td>4</td>\n      <td>121.0</td>\n      <td>112.0</td>\n      <td>2933</td>\n      <td>14.5</td>\n      <td>72</td>\n      <td>europe</td>\n      <td>volvo 145e (sw)</td>\n    </tr>\n    <tr>\n      <th>120</th>\n      <td>19.0</td>\n      <td>4</td>\n      <td>121.0</td>\n      <td>112.0</td>\n      <td>2868</td>\n      <td>15.5</td>\n      <td>73</td>\n      <td>europe</td>\n      <td>volvo 144ea</td>\n    </tr>\n    <tr>\n      <th>209</th>\n      <td>19.0</td>\n      <td>4</td>\n      <td>120.0</td>\n      <td>88.0</td>\n      <td>3270</td>\n      <td>21.9</td>\n      <td>76</td>\n      <td>europe</td>\n      <td>peugeot 504</td>\n    </tr>\n    <tr>\n      <th>211</th>\n      <td>16.5</td>\n      <td>6</td>\n      <td>168.0</td>\n      <td>120.0</td>\n      <td>3820</td>\n      <td>16.7</td>\n      <td>76</td>\n      <td>europe</td>\n      <td>mercedes-benz 280s</td>\n    </tr>\n    <tr>\n      <th>275</th>\n      <td>17.0</td>\n      <td>6</td>\n      <td>163.0</td>\n      <td>125.0</td>\n      <td>3140</td>\n      <td>13.6</td>\n      <td>78</td>\n      <td>europe</td>\n      <td>volvo 264gl</td>\n    </tr>\n    <tr>\n      <th>277</th>\n      <td>16.2</td>\n      <td>6</td>\n      <td>163.0</td>\n      <td>133.0</td>\n      <td>3410</td>\n      <td>15.8</td>\n      <td>78</td>\n      <td>europe</td>\n      <td>peugeot 604sl</td>\n    </tr>\n  </tbody>\n</table>\n</div>"
     },
     "execution_count": 25,
     "metadata": {},
     "output_type": "execute_result"
    }
   ],
   "source": [
    "#run the cell!\n",
    "europe_le"
   ]
  },
  {
   "cell_type": "markdown",
   "metadata": {},
   "source": [
    "The least efficient european car is ... peugeot 604sl"
   ]
  },
  {
   "cell_type": "markdown",
   "metadata": {},
   "source": [
    "45. __Filter__ the DataFrame cars for all cars with an __mpg between 10 and 15__ (both ends inclusive!). <br>\n",
    " __Save__ the subset in the variable __mpg_10_15__! __Fill in the gaps__!"
   ]
  },
  {
   "cell_type": "code",
   "execution_count": 27,
   "metadata": {
    "scrolled": true,
    "ExecuteTime": {
     "end_time": "2024-02-25T21:21:13.164807300Z",
     "start_time": "2024-02-25T21:21:13.131182800Z"
    }
   },
   "outputs": [],
   "source": [
    "mpg_10_15 = cars.loc[cars.mpg.between(10,15)]"
   ]
  },
  {
   "cell_type": "markdown",
   "metadata": {},
   "source": [
    "__Inspect__! The __first__ car is...?"
   ]
  },
  {
   "cell_type": "code",
   "execution_count": 28,
   "metadata": {
    "scrolled": true,
    "ExecuteTime": {
     "end_time": "2024-02-25T21:21:17.485660Z",
     "start_time": "2024-02-25T21:21:17.458088600Z"
    }
   },
   "outputs": [
    {
     "data": {
      "text/plain": "      mpg  cylinders  displacement  horsepower  weight  acceleration  \\\n1    15.0          8         350.0       165.0    3693          11.5   \n5    15.0          8         429.0       198.0    4341          10.0   \n6    14.0          8         454.0       220.0    4354           9.0   \n7    14.0          8         440.0       215.0    4312           8.5   \n8    14.0          8         455.0       225.0    4425          10.0   \n..    ...        ...           ...         ...     ...           ...   \n208  13.0          8         318.0       150.0    3940          13.2   \n213  13.0          8         350.0       145.0    4055          12.0   \n214  13.0          8         302.0       130.0    3870          15.0   \n215  13.0          8         318.0       150.0    3755          14.0   \n224  15.0          8         302.0       130.0    4295          14.9   \n\n     model_year origin                        name  \n1            70    usa           buick skylark 320  \n5            70    usa            ford galaxie 500  \n6            70    usa            chevrolet impala  \n7            70    usa           plymouth fury iii  \n8            70    usa            pontiac catalina  \n..          ...    ...                         ...  \n208          76    usa  plymouth volare premier v8  \n213          76    usa               chevrolet c10  \n214          76    usa                   ford f108  \n215          76    usa                  dodge d100  \n224          77    usa     mercury cougar brougham  \n\n[68 rows x 9 columns]",
      "text/html": "<div>\n<style scoped>\n    .dataframe tbody tr th:only-of-type {\n        vertical-align: middle;\n    }\n\n    .dataframe tbody tr th {\n        vertical-align: top;\n    }\n\n    .dataframe thead th {\n        text-align: right;\n    }\n</style>\n<table border=\"1\" class=\"dataframe\">\n  <thead>\n    <tr style=\"text-align: right;\">\n      <th></th>\n      <th>mpg</th>\n      <th>cylinders</th>\n      <th>displacement</th>\n      <th>horsepower</th>\n      <th>weight</th>\n      <th>acceleration</th>\n      <th>model_year</th>\n      <th>origin</th>\n      <th>name</th>\n    </tr>\n  </thead>\n  <tbody>\n    <tr>\n      <th>1</th>\n      <td>15.0</td>\n      <td>8</td>\n      <td>350.0</td>\n      <td>165.0</td>\n      <td>3693</td>\n      <td>11.5</td>\n      <td>70</td>\n      <td>usa</td>\n      <td>buick skylark 320</td>\n    </tr>\n    <tr>\n      <th>5</th>\n      <td>15.0</td>\n      <td>8</td>\n      <td>429.0</td>\n      <td>198.0</td>\n      <td>4341</td>\n      <td>10.0</td>\n      <td>70</td>\n      <td>usa</td>\n      <td>ford galaxie 500</td>\n    </tr>\n    <tr>\n      <th>6</th>\n      <td>14.0</td>\n      <td>8</td>\n      <td>454.0</td>\n      <td>220.0</td>\n      <td>4354</td>\n      <td>9.0</td>\n      <td>70</td>\n      <td>usa</td>\n      <td>chevrolet impala</td>\n    </tr>\n    <tr>\n      <th>7</th>\n      <td>14.0</td>\n      <td>8</td>\n      <td>440.0</td>\n      <td>215.0</td>\n      <td>4312</td>\n      <td>8.5</td>\n      <td>70</td>\n      <td>usa</td>\n      <td>plymouth fury iii</td>\n    </tr>\n    <tr>\n      <th>8</th>\n      <td>14.0</td>\n      <td>8</td>\n      <td>455.0</td>\n      <td>225.0</td>\n      <td>4425</td>\n      <td>10.0</td>\n      <td>70</td>\n      <td>usa</td>\n      <td>pontiac catalina</td>\n    </tr>\n    <tr>\n      <th>...</th>\n      <td>...</td>\n      <td>...</td>\n      <td>...</td>\n      <td>...</td>\n      <td>...</td>\n      <td>...</td>\n      <td>...</td>\n      <td>...</td>\n      <td>...</td>\n    </tr>\n    <tr>\n      <th>208</th>\n      <td>13.0</td>\n      <td>8</td>\n      <td>318.0</td>\n      <td>150.0</td>\n      <td>3940</td>\n      <td>13.2</td>\n      <td>76</td>\n      <td>usa</td>\n      <td>plymouth volare premier v8</td>\n    </tr>\n    <tr>\n      <th>213</th>\n      <td>13.0</td>\n      <td>8</td>\n      <td>350.0</td>\n      <td>145.0</td>\n      <td>4055</td>\n      <td>12.0</td>\n      <td>76</td>\n      <td>usa</td>\n      <td>chevrolet c10</td>\n    </tr>\n    <tr>\n      <th>214</th>\n      <td>13.0</td>\n      <td>8</td>\n      <td>302.0</td>\n      <td>130.0</td>\n      <td>3870</td>\n      <td>15.0</td>\n      <td>76</td>\n      <td>usa</td>\n      <td>ford f108</td>\n    </tr>\n    <tr>\n      <th>215</th>\n      <td>13.0</td>\n      <td>8</td>\n      <td>318.0</td>\n      <td>150.0</td>\n      <td>3755</td>\n      <td>14.0</td>\n      <td>76</td>\n      <td>usa</td>\n      <td>dodge d100</td>\n    </tr>\n    <tr>\n      <th>224</th>\n      <td>15.0</td>\n      <td>8</td>\n      <td>302.0</td>\n      <td>130.0</td>\n      <td>4295</td>\n      <td>14.9</td>\n      <td>77</td>\n      <td>usa</td>\n      <td>mercury cougar brougham</td>\n    </tr>\n  </tbody>\n</table>\n<p>68 rows × 9 columns</p>\n</div>"
     },
     "execution_count": 28,
     "metadata": {},
     "output_type": "execute_result"
    }
   ],
   "source": [
    "# run the cell!\n",
    "mpg_10_15"
   ]
  },
  {
   "cell_type": "markdown",
   "metadata": {},
   "source": [
    "The __first__ car is... buick skylark 320!"
   ]
  },
  {
   "cell_type": "markdown",
   "metadata": {},
   "source": [
    "__Inspect__! __How many__ cars are in the subset?"
   ]
  },
  {
   "cell_type": "code",
   "execution_count": 29,
   "metadata": {
    "ExecuteTime": {
     "end_time": "2024-02-25T21:21:37.174447800Z",
     "start_time": "2024-02-25T21:21:37.150910900Z"
    }
   },
   "outputs": [
    {
     "name": "stdout",
     "output_type": "stream",
     "text": [
      "<class 'pandas.core.frame.DataFrame'>\n",
      "Index: 68 entries, 1 to 224\n",
      "Data columns (total 9 columns):\n",
      " #   Column        Non-Null Count  Dtype  \n",
      "---  ------        --------------  -----  \n",
      " 0   mpg           68 non-null     float64\n",
      " 1   cylinders     68 non-null     int64  \n",
      " 2   displacement  68 non-null     float64\n",
      " 3   horsepower    68 non-null     float64\n",
      " 4   weight        68 non-null     int64  \n",
      " 5   acceleration  68 non-null     float64\n",
      " 6   model_year    68 non-null     int64  \n",
      " 7   origin        68 non-null     object \n",
      " 8   name          68 non-null     object \n",
      "dtypes: float64(4), int64(3), object(2)\n",
      "memory usage: 5.3+ KB\n"
     ]
    }
   ],
   "source": [
    "#run the cell!\n",
    "mpg_10_15.info()"
   ]
  },
  {
   "cell_type": "markdown",
   "metadata": {},
   "source": [
    "There are ... 68 cars!"
   ]
  },
  {
   "cell_type": "markdown",
   "metadata": {},
   "source": [
    "46. __Filter__ the Dataframe __cars__ for all cars that are __not built in the years 73 and 74__, and only the columns __\"mpg\"__ and __\"name\"__!<br> __Save__ the subset in the variable __not_73_74__. __Fill in the gaps!__ "
   ]
  },
  {
   "cell_type": "code",
   "execution_count": 39,
   "metadata": {
    "scrolled": true,
    "ExecuteTime": {
     "end_time": "2024-02-25T21:29:02.335648800Z",
     "start_time": "2024-02-25T21:29:02.313642700Z"
    }
   },
   "outputs": [],
   "source": [
    "not_73_74 = cars.loc[~cars.model_year.isin([73,74]), [\"mpg\", \"name\"]]"
   ]
  },
  {
   "cell_type": "code",
   "execution_count": 40,
   "metadata": {
    "ExecuteTime": {
     "end_time": "2024-02-25T21:29:04.243159600Z",
     "start_time": "2024-02-25T21:29:04.218646700Z"
    }
   },
   "outputs": [
    {
     "data": {
      "text/plain": "      mpg                       name\n0    18.0  chevrolet chevelle malibu\n1    15.0          buick skylark 320\n2    18.0         plymouth satellite\n3    16.0              amc rebel sst\n4    17.0                ford torino\n..    ...                        ...\n393  27.0            ford mustang gl\n394  44.0                  vw pickup\n395  32.0              dodge rampage\n396  28.0                ford ranger\n397  31.0             chevrolet s-10\n\n[331 rows x 2 columns]",
      "text/html": "<div>\n<style scoped>\n    .dataframe tbody tr th:only-of-type {\n        vertical-align: middle;\n    }\n\n    .dataframe tbody tr th {\n        vertical-align: top;\n    }\n\n    .dataframe thead th {\n        text-align: right;\n    }\n</style>\n<table border=\"1\" class=\"dataframe\">\n  <thead>\n    <tr style=\"text-align: right;\">\n      <th></th>\n      <th>mpg</th>\n      <th>name</th>\n    </tr>\n  </thead>\n  <tbody>\n    <tr>\n      <th>0</th>\n      <td>18.0</td>\n      <td>chevrolet chevelle malibu</td>\n    </tr>\n    <tr>\n      <th>1</th>\n      <td>15.0</td>\n      <td>buick skylark 320</td>\n    </tr>\n    <tr>\n      <th>2</th>\n      <td>18.0</td>\n      <td>plymouth satellite</td>\n    </tr>\n    <tr>\n      <th>3</th>\n      <td>16.0</td>\n      <td>amc rebel sst</td>\n    </tr>\n    <tr>\n      <th>4</th>\n      <td>17.0</td>\n      <td>ford torino</td>\n    </tr>\n    <tr>\n      <th>...</th>\n      <td>...</td>\n      <td>...</td>\n    </tr>\n    <tr>\n      <th>393</th>\n      <td>27.0</td>\n      <td>ford mustang gl</td>\n    </tr>\n    <tr>\n      <th>394</th>\n      <td>44.0</td>\n      <td>vw pickup</td>\n    </tr>\n    <tr>\n      <th>395</th>\n      <td>32.0</td>\n      <td>dodge rampage</td>\n    </tr>\n    <tr>\n      <th>396</th>\n      <td>28.0</td>\n      <td>ford ranger</td>\n    </tr>\n    <tr>\n      <th>397</th>\n      <td>31.0</td>\n      <td>chevrolet s-10</td>\n    </tr>\n  </tbody>\n</table>\n<p>331 rows × 2 columns</p>\n</div>"
     },
     "execution_count": 40,
     "metadata": {},
     "output_type": "execute_result"
    }
   ],
   "source": [
    "#run the cell!\n",
    "not_73_74"
   ]
  },
  {
   "cell_type": "markdown",
   "metadata": {},
   "source": [
    "__Inspect__! __How many__ cars are in this subset?"
   ]
  },
  {
   "cell_type": "code",
   "execution_count": 41,
   "metadata": {
    "scrolled": true,
    "ExecuteTime": {
     "end_time": "2024-02-25T21:29:18.585070800Z",
     "start_time": "2024-02-25T21:29:18.572736400Z"
    }
   },
   "outputs": [
    {
     "name": "stdout",
     "output_type": "stream",
     "text": [
      "<class 'pandas.core.frame.DataFrame'>\n",
      "Index: 331 entries, 0 to 397\n",
      "Data columns (total 2 columns):\n",
      " #   Column  Non-Null Count  Dtype  \n",
      "---  ------  --------------  -----  \n",
      " 0   mpg     331 non-null    float64\n",
      " 1   name    331 non-null    object \n",
      "dtypes: float64(1), object(1)\n",
      "memory usage: 7.8+ KB\n"
     ]
    }
   ],
   "source": [
    "# run the cell!\n",
    "not_73_74.info()"
   ]
  },
  {
   "cell_type": "markdown",
   "metadata": {},
   "source": [
    "There are ... 331 cars in the subset! "
   ]
  },
  {
   "cell_type": "code",
   "execution_count": 56,
   "metadata": {
    "ExecuteTime": {
     "end_time": "2024-02-25T21:44:02.500485100Z",
     "start_time": "2024-02-25T21:44:02.452056400Z"
    }
   },
   "outputs": [
    {
     "data": {
      "text/plain": "    mpg  horsepower  weight  acceleration  model_year origin  \\\n0  18.0       130.0    3504          12.0          70    usa   \n1  15.0       165.0    3693          11.5          70    usa   \n2  18.0       150.0    3436          11.0          70    usa   \n3  16.0       150.0    3433          12.0          70    usa   \n4  17.0       140.0    3449          10.5          70    usa   \n\n                        name  l_per_100km  \n0  chevrolet chevelle malibu     0.076527  \n1          buick skylark 320     0.063773  \n2         plymouth satellite     0.076527  \n3              amc rebel sst     0.068024  \n4                ford torino     0.072276  ",
      "text/html": "<div>\n<style scoped>\n    .dataframe tbody tr th:only-of-type {\n        vertical-align: middle;\n    }\n\n    .dataframe tbody tr th {\n        vertical-align: top;\n    }\n\n    .dataframe thead th {\n        text-align: right;\n    }\n</style>\n<table border=\"1\" class=\"dataframe\">\n  <thead>\n    <tr style=\"text-align: right;\">\n      <th></th>\n      <th>mpg</th>\n      <th>horsepower</th>\n      <th>weight</th>\n      <th>acceleration</th>\n      <th>model_year</th>\n      <th>origin</th>\n      <th>name</th>\n      <th>l_per_100km</th>\n    </tr>\n  </thead>\n  <tbody>\n    <tr>\n      <th>0</th>\n      <td>18.0</td>\n      <td>130.0</td>\n      <td>3504</td>\n      <td>12.0</td>\n      <td>70</td>\n      <td>usa</td>\n      <td>chevrolet chevelle malibu</td>\n      <td>0.076527</td>\n    </tr>\n    <tr>\n      <th>1</th>\n      <td>15.0</td>\n      <td>165.0</td>\n      <td>3693</td>\n      <td>11.5</td>\n      <td>70</td>\n      <td>usa</td>\n      <td>buick skylark 320</td>\n      <td>0.063773</td>\n    </tr>\n    <tr>\n      <th>2</th>\n      <td>18.0</td>\n      <td>150.0</td>\n      <td>3436</td>\n      <td>11.0</td>\n      <td>70</td>\n      <td>usa</td>\n      <td>plymouth satellite</td>\n      <td>0.076527</td>\n    </tr>\n    <tr>\n      <th>3</th>\n      <td>16.0</td>\n      <td>150.0</td>\n      <td>3433</td>\n      <td>12.0</td>\n      <td>70</td>\n      <td>usa</td>\n      <td>amc rebel sst</td>\n      <td>0.068024</td>\n    </tr>\n    <tr>\n      <th>4</th>\n      <td>17.0</td>\n      <td>140.0</td>\n      <td>3449</td>\n      <td>10.5</td>\n      <td>70</td>\n      <td>usa</td>\n      <td>ford torino</td>\n      <td>0.072276</td>\n    </tr>\n  </tbody>\n</table>\n</div>"
     },
     "execution_count": 56,
     "metadata": {},
     "output_type": "execute_result"
    }
   ],
   "source": [
    "# run the cell!\n",
    "cars.head()"
   ]
  },
  {
   "cell_type": "markdown",
   "metadata": {},
   "source": [
    "47. __Drop__ the columns __\"displacement\"__ and __\"cylinders\"__ from the DataFrame cars! __Save__ the change!"
   ]
  },
  {
   "cell_type": "code",
   "execution_count": 45,
   "metadata": {
    "scrolled": true,
    "ExecuteTime": {
     "end_time": "2024-02-25T21:30:46.241235500Z",
     "start_time": "2024-02-25T21:30:46.203224700Z"
    }
   },
   "outputs": [],
   "source": [
    "cars.drop(columns=[\"displacement\", \"cylinders\"], inplace=True)"
   ]
  },
  {
   "cell_type": "code",
   "execution_count": 55,
   "metadata": {
    "ExecuteTime": {
     "end_time": "2024-02-25T21:43:54.030718500Z",
     "start_time": "2024-02-25T21:43:53.967744800Z"
    }
   },
   "outputs": [
    {
     "data": {
      "text/plain": "    mpg  horsepower  weight  acceleration  model_year origin  \\\n0  18.0       130.0    3504          12.0          70    usa   \n1  15.0       165.0    3693          11.5          70    usa   \n2  18.0       150.0    3436          11.0          70    usa   \n3  16.0       150.0    3433          12.0          70    usa   \n4  17.0       140.0    3449          10.5          70    usa   \n\n                        name  l_per_100km  \n0  chevrolet chevelle malibu     0.076527  \n1          buick skylark 320     0.063773  \n2         plymouth satellite     0.076527  \n3              amc rebel sst     0.068024  \n4                ford torino     0.072276  ",
      "text/html": "<div>\n<style scoped>\n    .dataframe tbody tr th:only-of-type {\n        vertical-align: middle;\n    }\n\n    .dataframe tbody tr th {\n        vertical-align: top;\n    }\n\n    .dataframe thead th {\n        text-align: right;\n    }\n</style>\n<table border=\"1\" class=\"dataframe\">\n  <thead>\n    <tr style=\"text-align: right;\">\n      <th></th>\n      <th>mpg</th>\n      <th>horsepower</th>\n      <th>weight</th>\n      <th>acceleration</th>\n      <th>model_year</th>\n      <th>origin</th>\n      <th>name</th>\n      <th>l_per_100km</th>\n    </tr>\n  </thead>\n  <tbody>\n    <tr>\n      <th>0</th>\n      <td>18.0</td>\n      <td>130.0</td>\n      <td>3504</td>\n      <td>12.0</td>\n      <td>70</td>\n      <td>usa</td>\n      <td>chevrolet chevelle malibu</td>\n      <td>0.076527</td>\n    </tr>\n    <tr>\n      <th>1</th>\n      <td>15.0</td>\n      <td>165.0</td>\n      <td>3693</td>\n      <td>11.5</td>\n      <td>70</td>\n      <td>usa</td>\n      <td>buick skylark 320</td>\n      <td>0.063773</td>\n    </tr>\n    <tr>\n      <th>2</th>\n      <td>18.0</td>\n      <td>150.0</td>\n      <td>3436</td>\n      <td>11.0</td>\n      <td>70</td>\n      <td>usa</td>\n      <td>plymouth satellite</td>\n      <td>0.076527</td>\n    </tr>\n    <tr>\n      <th>3</th>\n      <td>16.0</td>\n      <td>150.0</td>\n      <td>3433</td>\n      <td>12.0</td>\n      <td>70</td>\n      <td>usa</td>\n      <td>amc rebel sst</td>\n      <td>0.068024</td>\n    </tr>\n    <tr>\n      <th>4</th>\n      <td>17.0</td>\n      <td>140.0</td>\n      <td>3449</td>\n      <td>10.5</td>\n      <td>70</td>\n      <td>usa</td>\n      <td>ford torino</td>\n      <td>0.072276</td>\n    </tr>\n  </tbody>\n</table>\n</div>"
     },
     "execution_count": 55,
     "metadata": {},
     "output_type": "execute_result"
    }
   ],
   "source": [
    "# run the cell!\n",
    "cars.head()"
   ]
  },
  {
   "cell_type": "markdown",
   "metadata": {},
   "source": [
    "48. __Drop__ all rows/cars from __\"usa\"__ from the DataFrame cars! Use the __loc__ operator and __overwrite cars__!"
   ]
  },
  {
   "cell_type": "code",
   "execution_count": 57,
   "metadata": {
    "scrolled": true,
    "ExecuteTime": {
     "end_time": "2024-02-25T21:45:40.094183700Z",
     "start_time": "2024-02-25T21:45:40.086670Z"
    }
   },
   "outputs": [],
   "source": [
    "cars = cars.loc[cars.origin != 'usa']"
   ]
  },
  {
   "cell_type": "code",
   "execution_count": 58,
   "metadata": {
    "ExecuteTime": {
     "end_time": "2024-02-25T21:45:49.456448100Z",
     "start_time": "2024-02-25T21:45:49.419993Z"
    }
   },
   "outputs": [
    {
     "data": {
      "text/plain": "     mpg  horsepower  weight  acceleration  model_year  origin  \\\n14  24.0        95.0    2372          15.0          70   japan   \n18  27.0        88.0    2130          14.5          70   japan   \n19  26.0        46.0    1835          20.5          70  europe   \n20  25.0        87.0    2672          17.5          70  europe   \n21  24.0        90.0    2430          14.5          70  europe   \n\n                     name  l_per_100km  \n14  toyota corona mark ii     0.102036  \n18           datsun pl510     0.114791  \n19   vw 1131 deluxe sedan     0.110540  \n20            peugeot 504     0.106288  \n21            audi 100 ls     0.102036  ",
      "text/html": "<div>\n<style scoped>\n    .dataframe tbody tr th:only-of-type {\n        vertical-align: middle;\n    }\n\n    .dataframe tbody tr th {\n        vertical-align: top;\n    }\n\n    .dataframe thead th {\n        text-align: right;\n    }\n</style>\n<table border=\"1\" class=\"dataframe\">\n  <thead>\n    <tr style=\"text-align: right;\">\n      <th></th>\n      <th>mpg</th>\n      <th>horsepower</th>\n      <th>weight</th>\n      <th>acceleration</th>\n      <th>model_year</th>\n      <th>origin</th>\n      <th>name</th>\n      <th>l_per_100km</th>\n    </tr>\n  </thead>\n  <tbody>\n    <tr>\n      <th>14</th>\n      <td>24.0</td>\n      <td>95.0</td>\n      <td>2372</td>\n      <td>15.0</td>\n      <td>70</td>\n      <td>japan</td>\n      <td>toyota corona mark ii</td>\n      <td>0.102036</td>\n    </tr>\n    <tr>\n      <th>18</th>\n      <td>27.0</td>\n      <td>88.0</td>\n      <td>2130</td>\n      <td>14.5</td>\n      <td>70</td>\n      <td>japan</td>\n      <td>datsun pl510</td>\n      <td>0.114791</td>\n    </tr>\n    <tr>\n      <th>19</th>\n      <td>26.0</td>\n      <td>46.0</td>\n      <td>1835</td>\n      <td>20.5</td>\n      <td>70</td>\n      <td>europe</td>\n      <td>vw 1131 deluxe sedan</td>\n      <td>0.110540</td>\n    </tr>\n    <tr>\n      <th>20</th>\n      <td>25.0</td>\n      <td>87.0</td>\n      <td>2672</td>\n      <td>17.5</td>\n      <td>70</td>\n      <td>europe</td>\n      <td>peugeot 504</td>\n      <td>0.106288</td>\n    </tr>\n    <tr>\n      <th>21</th>\n      <td>24.0</td>\n      <td>90.0</td>\n      <td>2430</td>\n      <td>14.5</td>\n      <td>70</td>\n      <td>europe</td>\n      <td>audi 100 ls</td>\n      <td>0.102036</td>\n    </tr>\n  </tbody>\n</table>\n</div>"
     },
     "execution_count": 58,
     "metadata": {},
     "output_type": "execute_result"
    }
   ],
   "source": [
    "# run the cell!\n",
    "cars.head()"
   ]
  },
  {
   "cell_type": "markdown",
   "metadata": {},
   "source": [
    "49. __Add__ the new column __\"l_per_100km\"__ to the DataFrame cars by calculating __235.21/mpg__. __Round__ to 2 decimals. __Fill in the gaps__!"
   ]
  },
  {
   "cell_type": "code",
   "execution_count": 60,
   "metadata": {
    "ExecuteTime": {
     "end_time": "2024-02-25T21:48:29.707366500Z",
     "start_time": "2024-02-25T21:48:29.656673400Z"
    }
   },
   "outputs": [
    {
     "name": "stderr",
     "output_type": "stream",
     "text": [
      "C:\\Users\\Darius\\AppData\\Local\\Temp\\ipykernel_2444\\2978131488.py:1: SettingWithCopyWarning: \n",
      "A value is trying to be set on a copy of a slice from a DataFrame.\n",
      "Try using .loc[row_indexer,col_indexer] = value instead\n",
      "\n",
      "See the caveats in the documentation: https://pandas.pydata.org/pandas-docs/stable/user_guide/indexing.html#returning-a-view-versus-a-copy\n",
      "  cars[\"l_per_100km\"] = (235.21 / cars.mpg).round(2)\n"
     ]
    }
   ],
   "source": [
    "cars[\"l_per_100km\"] = (235.21 / cars.mpg).round(2)"
   ]
  },
  {
   "cell_type": "markdown",
   "metadata": {},
   "source": [
    "__Inspect__ cars! What is the __\"l_per_100km\"__ value for the __audi 100 ls__?"
   ]
  },
  {
   "cell_type": "code",
   "execution_count": 61,
   "metadata": {
    "ExecuteTime": {
     "end_time": "2024-02-25T21:49:46.181980Z",
     "start_time": "2024-02-25T21:49:46.103349700Z"
    }
   },
   "outputs": [
    {
     "data": {
      "text/plain": "     mpg  horsepower  weight  acceleration  model_year  origin  \\\n14  24.0        95.0    2372          15.0          70   japan   \n18  27.0        88.0    2130          14.5          70   japan   \n19  26.0        46.0    1835          20.5          70  europe   \n20  25.0        87.0    2672          17.5          70  europe   \n21  24.0        90.0    2430          14.5          70  europe   \n\n                     name  l_per_100km  \n14  toyota corona mark ii         9.80  \n18           datsun pl510         8.71  \n19   vw 1131 deluxe sedan         9.05  \n20            peugeot 504         9.41  \n21            audi 100 ls         9.80  ",
      "text/html": "<div>\n<style scoped>\n    .dataframe tbody tr th:only-of-type {\n        vertical-align: middle;\n    }\n\n    .dataframe tbody tr th {\n        vertical-align: top;\n    }\n\n    .dataframe thead th {\n        text-align: right;\n    }\n</style>\n<table border=\"1\" class=\"dataframe\">\n  <thead>\n    <tr style=\"text-align: right;\">\n      <th></th>\n      <th>mpg</th>\n      <th>horsepower</th>\n      <th>weight</th>\n      <th>acceleration</th>\n      <th>model_year</th>\n      <th>origin</th>\n      <th>name</th>\n      <th>l_per_100km</th>\n    </tr>\n  </thead>\n  <tbody>\n    <tr>\n      <th>14</th>\n      <td>24.0</td>\n      <td>95.0</td>\n      <td>2372</td>\n      <td>15.0</td>\n      <td>70</td>\n      <td>japan</td>\n      <td>toyota corona mark ii</td>\n      <td>9.80</td>\n    </tr>\n    <tr>\n      <th>18</th>\n      <td>27.0</td>\n      <td>88.0</td>\n      <td>2130</td>\n      <td>14.5</td>\n      <td>70</td>\n      <td>japan</td>\n      <td>datsun pl510</td>\n      <td>8.71</td>\n    </tr>\n    <tr>\n      <th>19</th>\n      <td>26.0</td>\n      <td>46.0</td>\n      <td>1835</td>\n      <td>20.5</td>\n      <td>70</td>\n      <td>europe</td>\n      <td>vw 1131 deluxe sedan</td>\n      <td>9.05</td>\n    </tr>\n    <tr>\n      <th>20</th>\n      <td>25.0</td>\n      <td>87.0</td>\n      <td>2672</td>\n      <td>17.5</td>\n      <td>70</td>\n      <td>europe</td>\n      <td>peugeot 504</td>\n      <td>9.41</td>\n    </tr>\n    <tr>\n      <th>21</th>\n      <td>24.0</td>\n      <td>90.0</td>\n      <td>2430</td>\n      <td>14.5</td>\n      <td>70</td>\n      <td>europe</td>\n      <td>audi 100 ls</td>\n      <td>9.80</td>\n    </tr>\n  </tbody>\n</table>\n</div>"
     },
     "execution_count": 61,
     "metadata": {},
     "output_type": "execute_result"
    }
   ],
   "source": [
    "# run the cell!\n",
    "cars.head()"
   ]
  },
  {
   "cell_type": "markdown",
   "metadata": {},
   "source": [
    "The \"l_per_100km\" value for the audi 100 ls is ... 9.80!"
   ]
  },
  {
   "cell_type": "markdown",
   "metadata": {},
   "source": [
    "# Well Done!"
   ]
  },
  {
   "cell_type": "markdown",
   "metadata": {},
   "source": [
    "---------------------------------"
   ]
  },
  {
   "cell_type": "markdown",
   "metadata": {},
   "source": [
    "# Hints (Spoiler!)"
   ]
  },
  {
   "cell_type": "markdown",
   "metadata": {},
   "source": [
    "40. origin attribute; \"europe\""
   ]
  },
  {
   "cell_type": "markdown",
   "metadata": {},
   "source": [
    "41. mask2  =  cars.---  <  --- "
   ]
  },
  {
   "cell_type": "markdown",
   "metadata": {},
   "source": [
    "42. loc operator, mask1"
   ]
  },
  {
   "cell_type": "markdown",
   "metadata": {},
   "source": [
    "43. info() method"
   ]
  },
  {
   "cell_type": "markdown",
   "metadata": {},
   "source": [
    "44. Condition1 & Condition2"
   ]
  },
  {
   "cell_type": "markdown",
   "metadata": {},
   "source": [
    "45. between() method"
   ]
  },
  {
   "cell_type": "markdown",
   "metadata": {},
   "source": [
    "46. isin() method and ~ (tilde symbol)"
   ]
  },
  {
   "cell_type": "markdown",
   "metadata": {},
   "source": [
    "47. drop() method"
   ]
  },
  {
   "cell_type": "markdown",
   "metadata": {},
   "source": [
    "48. use != (not equal)"
   ]
  },
  {
   "cell_type": "markdown",
   "metadata": {},
   "source": [
    "49. cars[\"new_column_label\"]"
   ]
  },
  {
   "cell_type": "code",
   "execution_count": null,
   "metadata": {},
   "outputs": [],
   "source": []
  }
 ],
 "metadata": {
  "kernelspec": {
   "display_name": "Python 3",
   "language": "python",
   "name": "python3"
  },
  "language_info": {
   "codemirror_mode": {
    "name": "ipython",
    "version": 3
   },
   "file_extension": ".py",
   "mimetype": "text/x-python",
   "name": "python",
   "nbconvert_exporter": "python",
   "pygments_lexer": "ipython3",
   "version": "3.7.6"
  }
 },
 "nbformat": 4,
 "nbformat_minor": 2
}
