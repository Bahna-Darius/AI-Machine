{
 "cells": [
  {
   "cell_type": "markdown",
   "metadata": {},
   "source": [
    "# Coding Exercises (Part 1)"
   ]
  },
  {
   "cell_type": "markdown",
   "metadata": {},
   "source": [
    "Now, you will have the opportunity to analyze your own dataset. <br>\n",
    "__Follow the instructions__ and insert your code! You are either requested to \n",
    "- Complete the Code and __Fill in the gaps__. Gaps are marked with \"__---__\" and are __placeholders__ for your code fragment. \n",
    "- Write Code completely __on your own__ "
   ]
  },
  {
   "cell_type": "markdown",
   "metadata": {},
   "source": [
    "In some exercises, you will find questions that can only be answered, if your code is correct and returns the right output! The correct answer is provided below your coding cell. There you can check whether your code is correct."
   ]
  },
  {
   "cell_type": "markdown",
   "metadata": {},
   "source": [
    "If you need a hint, check the __Hints Section__ at the end of this Notebook. Exercises and Hints are numerated accordingly."
   ]
  },
  {
   "cell_type": "markdown",
   "metadata": {},
   "source": [
    "If you need some further help or if you want to check your code, you can also watch the __solutions videos__ or check the __solutions notebook__."
   ]
  },
  {
   "cell_type": "markdown",
   "metadata": {},
   "source": [
    "### Have Fun!"
   ]
  },
  {
   "cell_type": "markdown",
   "metadata": {},
   "source": [
    "--------------------------------------------------------------------------------------------------------------"
   ]
  },
  {
   "cell_type": "markdown",
   "metadata": {},
   "source": [
    "## DataFrame Basics III"
   ]
  },
  {
   "cell_type": "markdown",
   "metadata": {},
   "source": [
    "### Exercise 8: apply(), MultiIndex and Strings"
   ]
  },
  {
   "cell_type": "code",
   "execution_count": 1,
   "metadata": {
    "ExecuteTime": {
     "end_time": "2024-05-08T17:23:57.719733100Z",
     "start_time": "2024-05-08T17:23:57.183276400Z"
    }
   },
   "outputs": [],
   "source": [
    "# run the cell!\n",
    "import pandas as pd"
   ]
  },
  {
   "cell_type": "code",
   "execution_count": 2,
   "metadata": {
    "ExecuteTime": {
     "end_time": "2024-05-08T17:23:59.327411400Z",
     "start_time": "2024-05-08T17:23:59.287567900Z"
    }
   },
   "outputs": [],
   "source": [
    "# run the cell!\n",
    "cars = pd.read_csv(\"../../Data/cars.csv\")"
   ]
  },
  {
   "cell_type": "code",
   "execution_count": 32,
   "metadata": {
    "ExecuteTime": {
     "end_time": "2024-03-05T16:36:55.481546Z",
     "start_time": "2024-03-05T16:36:55.375345100Z"
    }
   },
   "outputs": [
    {
     "data": {
      "text/plain": "    mpg  cylinders  displacement  horsepower  weight  acceleration  \\\n0  18.0          8         307.0       130.0    3504          12.0   \n1  15.0          8         350.0       165.0    3693          11.5   \n2  18.0          8         318.0       150.0    3436          11.0   \n3  16.0          8         304.0       150.0    3433          12.0   \n4  17.0          8         302.0       140.0    3449          10.5   \n\n   model_year origin                       name  \n0          70    usa  chevrolet chevelle malibu  \n1          70    usa          buick skylark 320  \n2          70    usa         plymouth satellite  \n3          70    usa              amc rebel sst  \n4          70    usa                ford torino  ",
      "text/html": "<div>\n<style scoped>\n    .dataframe tbody tr th:only-of-type {\n        vertical-align: middle;\n    }\n\n    .dataframe tbody tr th {\n        vertical-align: top;\n    }\n\n    .dataframe thead th {\n        text-align: right;\n    }\n</style>\n<table border=\"1\" class=\"dataframe\">\n  <thead>\n    <tr style=\"text-align: right;\">\n      <th></th>\n      <th>mpg</th>\n      <th>cylinders</th>\n      <th>displacement</th>\n      <th>horsepower</th>\n      <th>weight</th>\n      <th>acceleration</th>\n      <th>model_year</th>\n      <th>origin</th>\n      <th>name</th>\n    </tr>\n  </thead>\n  <tbody>\n    <tr>\n      <th>0</th>\n      <td>18.0</td>\n      <td>8</td>\n      <td>307.0</td>\n      <td>130.0</td>\n      <td>3504</td>\n      <td>12.0</td>\n      <td>70</td>\n      <td>usa</td>\n      <td>chevrolet chevelle malibu</td>\n    </tr>\n    <tr>\n      <th>1</th>\n      <td>15.0</td>\n      <td>8</td>\n      <td>350.0</td>\n      <td>165.0</td>\n      <td>3693</td>\n      <td>11.5</td>\n      <td>70</td>\n      <td>usa</td>\n      <td>buick skylark 320</td>\n    </tr>\n    <tr>\n      <th>2</th>\n      <td>18.0</td>\n      <td>8</td>\n      <td>318.0</td>\n      <td>150.0</td>\n      <td>3436</td>\n      <td>11.0</td>\n      <td>70</td>\n      <td>usa</td>\n      <td>plymouth satellite</td>\n    </tr>\n    <tr>\n      <th>3</th>\n      <td>16.0</td>\n      <td>8</td>\n      <td>304.0</td>\n      <td>150.0</td>\n      <td>3433</td>\n      <td>12.0</td>\n      <td>70</td>\n      <td>usa</td>\n      <td>amc rebel sst</td>\n    </tr>\n    <tr>\n      <th>4</th>\n      <td>17.0</td>\n      <td>8</td>\n      <td>302.0</td>\n      <td>140.0</td>\n      <td>3449</td>\n      <td>10.5</td>\n      <td>70</td>\n      <td>usa</td>\n      <td>ford torino</td>\n    </tr>\n  </tbody>\n</table>\n</div>"
     },
     "execution_count": 32,
     "metadata": {},
     "output_type": "execute_result"
    }
   ],
   "source": [
    "# run the cell!\n",
    "cars.head()"
   ]
  },
  {
   "cell_type": "markdown",
   "metadata": {},
   "source": [
    "61. __Calculate__ for all __numerical columns__ the __range between highest and lowest__ value! __Fill in the gaps!__ The range for __mpg__ is...?"
   ]
  },
  {
   "cell_type": "code",
   "execution_count": 74,
   "metadata": {
    "scrolled": true,
    "ExecuteTime": {
     "end_time": "2024-03-05T16:58:17.020981100Z",
     "start_time": "2024-03-05T16:58:16.966885300Z"
    }
   },
   "outputs": [
    {
     "ename": "TypeError",
     "evalue": "unsupported operand type(s) for -: 'str' and 'str'",
     "output_type": "error",
     "traceback": [
      "\u001B[1;31m---------------------------------------------------------------------------\u001B[0m",
      "\u001B[1;31mTypeError\u001B[0m                                 Traceback (most recent call last)",
      "Cell \u001B[1;32mIn[74], line 1\u001B[0m\n\u001B[1;32m----> 1\u001B[0m \u001B[43mcars\u001B[49m\u001B[38;5;241;43m.\u001B[39;49m\u001B[43miloc\u001B[49m\u001B[43m[\u001B[49m\u001B[43m:\u001B[49m\u001B[43m,\u001B[49m\u001B[43m \u001B[49m\u001B[43m:\u001B[49m\u001B[38;5;241;43m-\u001B[39;49m\u001B[38;5;241;43m2\u001B[39;49m\u001B[43m]\u001B[49m\u001B[38;5;241;43m.\u001B[39;49m\u001B[43mapply\u001B[49m\u001B[43m(\u001B[49m\u001B[38;5;28;43;01mlambda\u001B[39;49;00m\u001B[43m \u001B[49m\u001B[43mx\u001B[49m\u001B[43m \u001B[49m\u001B[43m:\u001B[49m\u001B[43m \u001B[49m\u001B[43mx\u001B[49m\u001B[38;5;241;43m.\u001B[39;49m\u001B[43mmax\u001B[49m\u001B[43m(\u001B[49m\u001B[43m)\u001B[49m\u001B[43m \u001B[49m\u001B[38;5;241;43m-\u001B[39;49m\u001B[43m \u001B[49m\u001B[43mx\u001B[49m\u001B[38;5;241;43m.\u001B[39;49m\u001B[43mmin\u001B[49m\u001B[43m(\u001B[49m\u001B[43m)\u001B[49m\u001B[43m,\u001B[49m\u001B[43m \u001B[49m\u001B[43maxis\u001B[49m\u001B[38;5;241;43m=\u001B[39;49m\u001B[38;5;241;43m0\u001B[39;49m\u001B[43m)\u001B[49m\n",
      "File \u001B[1;32m~\\PycharmProjects\\Machine learning AI\\.venv\\Lib\\site-packages\\pandas\\core\\frame.py:10347\u001B[0m, in \u001B[0;36mDataFrame.apply\u001B[1;34m(self, func, axis, raw, result_type, args, by_row, engine, engine_kwargs, **kwargs)\u001B[0m\n\u001B[0;32m  10333\u001B[0m \u001B[38;5;28;01mfrom\u001B[39;00m \u001B[38;5;21;01mpandas\u001B[39;00m\u001B[38;5;21;01m.\u001B[39;00m\u001B[38;5;21;01mcore\u001B[39;00m\u001B[38;5;21;01m.\u001B[39;00m\u001B[38;5;21;01mapply\u001B[39;00m \u001B[38;5;28;01mimport\u001B[39;00m frame_apply\n\u001B[0;32m  10335\u001B[0m op \u001B[38;5;241m=\u001B[39m frame_apply(\n\u001B[0;32m  10336\u001B[0m     \u001B[38;5;28mself\u001B[39m,\n\u001B[0;32m  10337\u001B[0m     func\u001B[38;5;241m=\u001B[39mfunc,\n\u001B[1;32m   (...)\u001B[0m\n\u001B[0;32m  10345\u001B[0m     kwargs\u001B[38;5;241m=\u001B[39mkwargs,\n\u001B[0;32m  10346\u001B[0m )\n\u001B[1;32m> 10347\u001B[0m \u001B[38;5;28;01mreturn\u001B[39;00m \u001B[43mop\u001B[49m\u001B[38;5;241;43m.\u001B[39;49m\u001B[43mapply\u001B[49m\u001B[43m(\u001B[49m\u001B[43m)\u001B[49m\u001B[38;5;241m.\u001B[39m__finalize__(\u001B[38;5;28mself\u001B[39m, method\u001B[38;5;241m=\u001B[39m\u001B[38;5;124m\"\u001B[39m\u001B[38;5;124mapply\u001B[39m\u001B[38;5;124m\"\u001B[39m)\n",
      "File \u001B[1;32m~\\PycharmProjects\\Machine learning AI\\.venv\\Lib\\site-packages\\pandas\\core\\apply.py:916\u001B[0m, in \u001B[0;36mFrameApply.apply\u001B[1;34m(self)\u001B[0m\n\u001B[0;32m    913\u001B[0m \u001B[38;5;28;01melif\u001B[39;00m \u001B[38;5;28mself\u001B[39m\u001B[38;5;241m.\u001B[39mraw:\n\u001B[0;32m    914\u001B[0m     \u001B[38;5;28;01mreturn\u001B[39;00m \u001B[38;5;28mself\u001B[39m\u001B[38;5;241m.\u001B[39mapply_raw(engine\u001B[38;5;241m=\u001B[39m\u001B[38;5;28mself\u001B[39m\u001B[38;5;241m.\u001B[39mengine, engine_kwargs\u001B[38;5;241m=\u001B[39m\u001B[38;5;28mself\u001B[39m\u001B[38;5;241m.\u001B[39mengine_kwargs)\n\u001B[1;32m--> 916\u001B[0m \u001B[38;5;28;01mreturn\u001B[39;00m \u001B[38;5;28;43mself\u001B[39;49m\u001B[38;5;241;43m.\u001B[39;49m\u001B[43mapply_standard\u001B[49m\u001B[43m(\u001B[49m\u001B[43m)\u001B[49m\n",
      "File \u001B[1;32m~\\PycharmProjects\\Machine learning AI\\.venv\\Lib\\site-packages\\pandas\\core\\apply.py:1063\u001B[0m, in \u001B[0;36mFrameApply.apply_standard\u001B[1;34m(self)\u001B[0m\n\u001B[0;32m   1061\u001B[0m \u001B[38;5;28;01mdef\u001B[39;00m \u001B[38;5;21mapply_standard\u001B[39m(\u001B[38;5;28mself\u001B[39m):\n\u001B[0;32m   1062\u001B[0m     \u001B[38;5;28;01mif\u001B[39;00m \u001B[38;5;28mself\u001B[39m\u001B[38;5;241m.\u001B[39mengine \u001B[38;5;241m==\u001B[39m \u001B[38;5;124m\"\u001B[39m\u001B[38;5;124mpython\u001B[39m\u001B[38;5;124m\"\u001B[39m:\n\u001B[1;32m-> 1063\u001B[0m         results, res_index \u001B[38;5;241m=\u001B[39m \u001B[38;5;28;43mself\u001B[39;49m\u001B[38;5;241;43m.\u001B[39;49m\u001B[43mapply_series_generator\u001B[49m\u001B[43m(\u001B[49m\u001B[43m)\u001B[49m\n\u001B[0;32m   1064\u001B[0m     \u001B[38;5;28;01melse\u001B[39;00m:\n\u001B[0;32m   1065\u001B[0m         results, res_index \u001B[38;5;241m=\u001B[39m \u001B[38;5;28mself\u001B[39m\u001B[38;5;241m.\u001B[39mapply_series_numba()\n",
      "File \u001B[1;32m~\\PycharmProjects\\Machine learning AI\\.venv\\Lib\\site-packages\\pandas\\core\\apply.py:1081\u001B[0m, in \u001B[0;36mFrameApply.apply_series_generator\u001B[1;34m(self)\u001B[0m\n\u001B[0;32m   1078\u001B[0m \u001B[38;5;28;01mwith\u001B[39;00m option_context(\u001B[38;5;124m\"\u001B[39m\u001B[38;5;124mmode.chained_assignment\u001B[39m\u001B[38;5;124m\"\u001B[39m, \u001B[38;5;28;01mNone\u001B[39;00m):\n\u001B[0;32m   1079\u001B[0m     \u001B[38;5;28;01mfor\u001B[39;00m i, v \u001B[38;5;129;01min\u001B[39;00m \u001B[38;5;28menumerate\u001B[39m(series_gen):\n\u001B[0;32m   1080\u001B[0m         \u001B[38;5;66;03m# ignore SettingWithCopy here in case the user mutates\u001B[39;00m\n\u001B[1;32m-> 1081\u001B[0m         results[i] \u001B[38;5;241m=\u001B[39m \u001B[38;5;28;43mself\u001B[39;49m\u001B[38;5;241;43m.\u001B[39;49m\u001B[43mfunc\u001B[49m\u001B[43m(\u001B[49m\u001B[43mv\u001B[49m\u001B[43m,\u001B[49m\u001B[43m \u001B[49m\u001B[38;5;241;43m*\u001B[39;49m\u001B[38;5;28;43mself\u001B[39;49m\u001B[38;5;241;43m.\u001B[39;49m\u001B[43margs\u001B[49m\u001B[43m,\u001B[49m\u001B[43m \u001B[49m\u001B[38;5;241;43m*\u001B[39;49m\u001B[38;5;241;43m*\u001B[39;49m\u001B[38;5;28;43mself\u001B[39;49m\u001B[38;5;241;43m.\u001B[39;49m\u001B[43mkwargs\u001B[49m\u001B[43m)\u001B[49m\n\u001B[0;32m   1082\u001B[0m         \u001B[38;5;28;01mif\u001B[39;00m \u001B[38;5;28misinstance\u001B[39m(results[i], ABCSeries):\n\u001B[0;32m   1083\u001B[0m             \u001B[38;5;66;03m# If we have a view on v, we need to make a copy because\u001B[39;00m\n\u001B[0;32m   1084\u001B[0m             \u001B[38;5;66;03m#  series_generator will swap out the underlying data\u001B[39;00m\n\u001B[0;32m   1085\u001B[0m             results[i] \u001B[38;5;241m=\u001B[39m results[i]\u001B[38;5;241m.\u001B[39mcopy(deep\u001B[38;5;241m=\u001B[39m\u001B[38;5;28;01mFalse\u001B[39;00m)\n",
      "Cell \u001B[1;32mIn[74], line 1\u001B[0m, in \u001B[0;36m<lambda>\u001B[1;34m(x)\u001B[0m\n\u001B[1;32m----> 1\u001B[0m cars\u001B[38;5;241m.\u001B[39miloc[:, :\u001B[38;5;241m-\u001B[39m\u001B[38;5;241m2\u001B[39m]\u001B[38;5;241m.\u001B[39mapply(\u001B[38;5;28;01mlambda\u001B[39;00m x : \u001B[43mx\u001B[49m\u001B[38;5;241;43m.\u001B[39;49m\u001B[43mmax\u001B[49m\u001B[43m(\u001B[49m\u001B[43m)\u001B[49m\u001B[43m \u001B[49m\u001B[38;5;241;43m-\u001B[39;49m\u001B[43m \u001B[49m\u001B[43mx\u001B[49m\u001B[38;5;241;43m.\u001B[39;49m\u001B[43mmin\u001B[49m\u001B[43m(\u001B[49m\u001B[43m)\u001B[49m, axis\u001B[38;5;241m=\u001B[39m\u001B[38;5;241m0\u001B[39m)\n",
      "\u001B[1;31mTypeError\u001B[0m: unsupported operand type(s) for -: 'str' and 'str'"
     ]
    }
   ],
   "source": [
    "cars.iloc[:, :-2].apply(lambda x : x.max() - x.min(), axis=0)"
   ]
  },
  {
   "cell_type": "markdown",
   "metadata": {},
   "source": [
    "The range for mpg is ... 37.6!"
   ]
  },
  {
   "cell_type": "markdown",
   "metadata": {},
   "source": [
    "62. Create a __MultiIndex__ for the __cars__ DataFrame with the columns __\"model_year\"__ (outer level) and __\"origin\"__ (inner level). __Save__ the change!"
   ]
  },
  {
   "cell_type": "code",
   "execution_count": 34,
   "metadata": {
    "ExecuteTime": {
     "end_time": "2024-03-05T16:36:57.560863700Z",
     "start_time": "2024-03-05T16:36:57.520005Z"
    }
   },
   "outputs": [],
   "source": [
    "cars.set_index(['model_year', 'origin'], inplace=True)"
   ]
  },
  {
   "cell_type": "markdown",
   "metadata": {},
   "source": [
    "63. __Sort__ both index levels in __ascending__ order!. __Save__ the change!"
   ]
  },
  {
   "cell_type": "code",
   "execution_count": 35,
   "metadata": {
    "ExecuteTime": {
     "end_time": "2024-03-05T16:36:58.299273900Z",
     "start_time": "2024-03-05T16:36:58.253707400Z"
    }
   },
   "outputs": [],
   "source": [
    "cars.sort_index(ascending=True, inplace=True)"
   ]
  },
  {
   "cell_type": "markdown",
   "metadata": {},
   "source": [
    "__Inspect__ Cars! What is the __name__ of the __second__ car?"
   ]
  },
  {
   "cell_type": "code",
   "execution_count": 36,
   "metadata": {
    "ExecuteTime": {
     "end_time": "2024-03-05T16:36:58.986408200Z",
     "start_time": "2024-03-05T16:36:58.919481200Z"
    }
   },
   "outputs": [
    {
     "data": {
      "text/plain": "                    mpg  cylinders  displacement  horsepower  weight  \\\nmodel_year origin                                                      \n70         europe  26.0          4          97.0        46.0    1835   \n           europe  25.0          4         110.0        87.0    2672   \n           europe  24.0          4         107.0        90.0    2430   \n           europe  25.0          4         104.0        95.0    2375   \n           europe  26.0          4         121.0       113.0    2234   \n\n                   acceleration                  name  \nmodel_year origin                                      \n70         europe          20.5  vw 1131 deluxe sedan  \n           europe          17.5           peugeot 504  \n           europe          14.5           audi 100 ls  \n           europe          17.5              saab 99e  \n           europe          12.5              bmw 2002  ",
      "text/html": "<div>\n<style scoped>\n    .dataframe tbody tr th:only-of-type {\n        vertical-align: middle;\n    }\n\n    .dataframe tbody tr th {\n        vertical-align: top;\n    }\n\n    .dataframe thead th {\n        text-align: right;\n    }\n</style>\n<table border=\"1\" class=\"dataframe\">\n  <thead>\n    <tr style=\"text-align: right;\">\n      <th></th>\n      <th></th>\n      <th>mpg</th>\n      <th>cylinders</th>\n      <th>displacement</th>\n      <th>horsepower</th>\n      <th>weight</th>\n      <th>acceleration</th>\n      <th>name</th>\n    </tr>\n    <tr>\n      <th>model_year</th>\n      <th>origin</th>\n      <th></th>\n      <th></th>\n      <th></th>\n      <th></th>\n      <th></th>\n      <th></th>\n      <th></th>\n    </tr>\n  </thead>\n  <tbody>\n    <tr>\n      <th rowspan=\"5\" valign=\"top\">70</th>\n      <th>europe</th>\n      <td>26.0</td>\n      <td>4</td>\n      <td>97.0</td>\n      <td>46.0</td>\n      <td>1835</td>\n      <td>20.5</td>\n      <td>vw 1131 deluxe sedan</td>\n    </tr>\n    <tr>\n      <th>europe</th>\n      <td>25.0</td>\n      <td>4</td>\n      <td>110.0</td>\n      <td>87.0</td>\n      <td>2672</td>\n      <td>17.5</td>\n      <td>peugeot 504</td>\n    </tr>\n    <tr>\n      <th>europe</th>\n      <td>24.0</td>\n      <td>4</td>\n      <td>107.0</td>\n      <td>90.0</td>\n      <td>2430</td>\n      <td>14.5</td>\n      <td>audi 100 ls</td>\n    </tr>\n    <tr>\n      <th>europe</th>\n      <td>25.0</td>\n      <td>4</td>\n      <td>104.0</td>\n      <td>95.0</td>\n      <td>2375</td>\n      <td>17.5</td>\n      <td>saab 99e</td>\n    </tr>\n    <tr>\n      <th>europe</th>\n      <td>26.0</td>\n      <td>4</td>\n      <td>121.0</td>\n      <td>113.0</td>\n      <td>2234</td>\n      <td>12.5</td>\n      <td>bmw 2002</td>\n    </tr>\n  </tbody>\n</table>\n</div>"
     },
     "execution_count": 36,
     "metadata": {},
     "output_type": "execute_result"
    }
   ],
   "source": [
    "# run the cell!\n",
    "cars.head()"
   ]
  },
  {
   "cell_type": "markdown",
   "metadata": {},
   "source": [
    "The name of the second car is ... peugeot 504!"
   ]
  },
  {
   "cell_type": "markdown",
   "metadata": {},
   "source": [
    "64. __Select__ all cars with the \"model_year\" __75__!"
   ]
  },
  {
   "cell_type": "code",
   "execution_count": 37,
   "metadata": {
    "scrolled": true,
    "ExecuteTime": {
     "end_time": "2024-03-05T16:37:00.340518800Z",
     "start_time": "2024-03-05T16:37:00.219986100Z"
    }
   },
   "outputs": [
    {
     "data": {
      "text/plain": "         mpg  cylinders  displacement  horsepower  weight  acceleration  \\\norigin                                                                    \neurope  25.0          4          90.0        71.0    2223          16.5   \neurope  29.0          4          90.0        70.0    1937          14.0   \neurope  23.0          4         115.0        95.0    2694          15.0   \neurope  23.0          4         120.0        88.0    2957          17.0   \neurope  22.0          4         121.0        98.0    2945          14.5   \neurope  25.0          4         121.0       115.0    2671          13.5   \njapan   29.0          4          97.0        75.0    2171          16.0   \njapan   24.0          4         134.0        96.0    2702          13.5   \njapan   24.0          4         119.0        97.0    2545          17.0   \njapan   33.0          4          91.0        53.0    1795          17.5   \nusa     19.0          6         225.0        95.0    3264          16.0   \nusa     18.0          6         250.0       105.0    3459          16.0   \nusa     15.0          6         250.0        72.0    3432          21.0   \nusa     15.0          6         250.0        72.0    3158          19.5   \nusa     16.0          8         400.0       170.0    4668          11.5   \nusa     15.0          8         350.0       145.0    4440          14.0   \nusa     16.0          8         318.0       150.0    4498          14.5   \nusa     14.0          8         351.0       148.0    4657          13.5   \nusa     17.0          6         231.0       110.0    3907          21.0   \nusa     16.0          6         250.0       105.0    3897          18.5   \nusa     15.0          6         258.0       110.0    3730          19.0   \nusa     18.0          6         225.0        95.0    3785          19.0   \nusa     21.0          6         231.0       110.0    3039          15.0   \nusa     20.0          8         262.0       110.0    3221          13.5   \nusa     13.0          8         302.0       129.0    3169          12.0   \nusa     23.0          4         140.0        83.0    2639          17.0   \nusa     20.0          6         232.0       100.0    2914          16.0   \nusa     23.0          4         140.0        78.0    2592          18.5   \nusa     18.0          6         171.0        97.0    2984          14.5   \nusa     19.0          6         232.0        90.0    3211          17.0   \n\n                             name  \norigin                             \neurope                  vw dasher  \neurope                  vw rabbit  \neurope                 audi 100ls  \neurope                peugeot 504  \neurope                volvo 244dl  \neurope                  saab 99le  \njapan              toyota corolla  \njapan               toyota corona  \njapan                  datsun 710  \njapan            honda civic cvcc  \nusa       plymouth valiant custom  \nusa                chevrolet nova  \nusa               mercury monarch  \nusa                 ford maverick  \nusa              pontiac catalina  \nusa             chevrolet bel air  \nusa           plymouth grand fury  \nusa                      ford ltd  \nusa                 buick century  \nusa     chevrolet chevelle malibu  \nusa                   amc matador  \nusa                 plymouth fury  \nusa                 buick skyhawk  \nusa           chevrolet monza 2+2  \nusa               ford mustang ii  \nusa                    ford pinto  \nusa                   amc gremlin  \nusa                 pontiac astro  \nusa                    ford pinto  \nusa                     amc pacer  ",
      "text/html": "<div>\n<style scoped>\n    .dataframe tbody tr th:only-of-type {\n        vertical-align: middle;\n    }\n\n    .dataframe tbody tr th {\n        vertical-align: top;\n    }\n\n    .dataframe thead th {\n        text-align: right;\n    }\n</style>\n<table border=\"1\" class=\"dataframe\">\n  <thead>\n    <tr style=\"text-align: right;\">\n      <th></th>\n      <th>mpg</th>\n      <th>cylinders</th>\n      <th>displacement</th>\n      <th>horsepower</th>\n      <th>weight</th>\n      <th>acceleration</th>\n      <th>name</th>\n    </tr>\n    <tr>\n      <th>origin</th>\n      <th></th>\n      <th></th>\n      <th></th>\n      <th></th>\n      <th></th>\n      <th></th>\n      <th></th>\n    </tr>\n  </thead>\n  <tbody>\n    <tr>\n      <th>europe</th>\n      <td>25.0</td>\n      <td>4</td>\n      <td>90.0</td>\n      <td>71.0</td>\n      <td>2223</td>\n      <td>16.5</td>\n      <td>vw dasher</td>\n    </tr>\n    <tr>\n      <th>europe</th>\n      <td>29.0</td>\n      <td>4</td>\n      <td>90.0</td>\n      <td>70.0</td>\n      <td>1937</td>\n      <td>14.0</td>\n      <td>vw rabbit</td>\n    </tr>\n    <tr>\n      <th>europe</th>\n      <td>23.0</td>\n      <td>4</td>\n      <td>115.0</td>\n      <td>95.0</td>\n      <td>2694</td>\n      <td>15.0</td>\n      <td>audi 100ls</td>\n    </tr>\n    <tr>\n      <th>europe</th>\n      <td>23.0</td>\n      <td>4</td>\n      <td>120.0</td>\n      <td>88.0</td>\n      <td>2957</td>\n      <td>17.0</td>\n      <td>peugeot 504</td>\n    </tr>\n    <tr>\n      <th>europe</th>\n      <td>22.0</td>\n      <td>4</td>\n      <td>121.0</td>\n      <td>98.0</td>\n      <td>2945</td>\n      <td>14.5</td>\n      <td>volvo 244dl</td>\n    </tr>\n    <tr>\n      <th>europe</th>\n      <td>25.0</td>\n      <td>4</td>\n      <td>121.0</td>\n      <td>115.0</td>\n      <td>2671</td>\n      <td>13.5</td>\n      <td>saab 99le</td>\n    </tr>\n    <tr>\n      <th>japan</th>\n      <td>29.0</td>\n      <td>4</td>\n      <td>97.0</td>\n      <td>75.0</td>\n      <td>2171</td>\n      <td>16.0</td>\n      <td>toyota corolla</td>\n    </tr>\n    <tr>\n      <th>japan</th>\n      <td>24.0</td>\n      <td>4</td>\n      <td>134.0</td>\n      <td>96.0</td>\n      <td>2702</td>\n      <td>13.5</td>\n      <td>toyota corona</td>\n    </tr>\n    <tr>\n      <th>japan</th>\n      <td>24.0</td>\n      <td>4</td>\n      <td>119.0</td>\n      <td>97.0</td>\n      <td>2545</td>\n      <td>17.0</td>\n      <td>datsun 710</td>\n    </tr>\n    <tr>\n      <th>japan</th>\n      <td>33.0</td>\n      <td>4</td>\n      <td>91.0</td>\n      <td>53.0</td>\n      <td>1795</td>\n      <td>17.5</td>\n      <td>honda civic cvcc</td>\n    </tr>\n    <tr>\n      <th>usa</th>\n      <td>19.0</td>\n      <td>6</td>\n      <td>225.0</td>\n      <td>95.0</td>\n      <td>3264</td>\n      <td>16.0</td>\n      <td>plymouth valiant custom</td>\n    </tr>\n    <tr>\n      <th>usa</th>\n      <td>18.0</td>\n      <td>6</td>\n      <td>250.0</td>\n      <td>105.0</td>\n      <td>3459</td>\n      <td>16.0</td>\n      <td>chevrolet nova</td>\n    </tr>\n    <tr>\n      <th>usa</th>\n      <td>15.0</td>\n      <td>6</td>\n      <td>250.0</td>\n      <td>72.0</td>\n      <td>3432</td>\n      <td>21.0</td>\n      <td>mercury monarch</td>\n    </tr>\n    <tr>\n      <th>usa</th>\n      <td>15.0</td>\n      <td>6</td>\n      <td>250.0</td>\n      <td>72.0</td>\n      <td>3158</td>\n      <td>19.5</td>\n      <td>ford maverick</td>\n    </tr>\n    <tr>\n      <th>usa</th>\n      <td>16.0</td>\n      <td>8</td>\n      <td>400.0</td>\n      <td>170.0</td>\n      <td>4668</td>\n      <td>11.5</td>\n      <td>pontiac catalina</td>\n    </tr>\n    <tr>\n      <th>usa</th>\n      <td>15.0</td>\n      <td>8</td>\n      <td>350.0</td>\n      <td>145.0</td>\n      <td>4440</td>\n      <td>14.0</td>\n      <td>chevrolet bel air</td>\n    </tr>\n    <tr>\n      <th>usa</th>\n      <td>16.0</td>\n      <td>8</td>\n      <td>318.0</td>\n      <td>150.0</td>\n      <td>4498</td>\n      <td>14.5</td>\n      <td>plymouth grand fury</td>\n    </tr>\n    <tr>\n      <th>usa</th>\n      <td>14.0</td>\n      <td>8</td>\n      <td>351.0</td>\n      <td>148.0</td>\n      <td>4657</td>\n      <td>13.5</td>\n      <td>ford ltd</td>\n    </tr>\n    <tr>\n      <th>usa</th>\n      <td>17.0</td>\n      <td>6</td>\n      <td>231.0</td>\n      <td>110.0</td>\n      <td>3907</td>\n      <td>21.0</td>\n      <td>buick century</td>\n    </tr>\n    <tr>\n      <th>usa</th>\n      <td>16.0</td>\n      <td>6</td>\n      <td>250.0</td>\n      <td>105.0</td>\n      <td>3897</td>\n      <td>18.5</td>\n      <td>chevrolet chevelle malibu</td>\n    </tr>\n    <tr>\n      <th>usa</th>\n      <td>15.0</td>\n      <td>6</td>\n      <td>258.0</td>\n      <td>110.0</td>\n      <td>3730</td>\n      <td>19.0</td>\n      <td>amc matador</td>\n    </tr>\n    <tr>\n      <th>usa</th>\n      <td>18.0</td>\n      <td>6</td>\n      <td>225.0</td>\n      <td>95.0</td>\n      <td>3785</td>\n      <td>19.0</td>\n      <td>plymouth fury</td>\n    </tr>\n    <tr>\n      <th>usa</th>\n      <td>21.0</td>\n      <td>6</td>\n      <td>231.0</td>\n      <td>110.0</td>\n      <td>3039</td>\n      <td>15.0</td>\n      <td>buick skyhawk</td>\n    </tr>\n    <tr>\n      <th>usa</th>\n      <td>20.0</td>\n      <td>8</td>\n      <td>262.0</td>\n      <td>110.0</td>\n      <td>3221</td>\n      <td>13.5</td>\n      <td>chevrolet monza 2+2</td>\n    </tr>\n    <tr>\n      <th>usa</th>\n      <td>13.0</td>\n      <td>8</td>\n      <td>302.0</td>\n      <td>129.0</td>\n      <td>3169</td>\n      <td>12.0</td>\n      <td>ford mustang ii</td>\n    </tr>\n    <tr>\n      <th>usa</th>\n      <td>23.0</td>\n      <td>4</td>\n      <td>140.0</td>\n      <td>83.0</td>\n      <td>2639</td>\n      <td>17.0</td>\n      <td>ford pinto</td>\n    </tr>\n    <tr>\n      <th>usa</th>\n      <td>20.0</td>\n      <td>6</td>\n      <td>232.0</td>\n      <td>100.0</td>\n      <td>2914</td>\n      <td>16.0</td>\n      <td>amc gremlin</td>\n    </tr>\n    <tr>\n      <th>usa</th>\n      <td>23.0</td>\n      <td>4</td>\n      <td>140.0</td>\n      <td>78.0</td>\n      <td>2592</td>\n      <td>18.5</td>\n      <td>pontiac astro</td>\n    </tr>\n    <tr>\n      <th>usa</th>\n      <td>18.0</td>\n      <td>6</td>\n      <td>171.0</td>\n      <td>97.0</td>\n      <td>2984</td>\n      <td>14.5</td>\n      <td>ford pinto</td>\n    </tr>\n    <tr>\n      <th>usa</th>\n      <td>19.0</td>\n      <td>6</td>\n      <td>232.0</td>\n      <td>90.0</td>\n      <td>3211</td>\n      <td>17.0</td>\n      <td>amc pacer</td>\n    </tr>\n  </tbody>\n</table>\n</div>"
     },
     "execution_count": 37,
     "metadata": {},
     "output_type": "execute_result"
    }
   ],
   "source": [
    "cars.loc[75]"
   ]
  },
  {
   "cell_type": "markdown",
   "metadata": {},
   "source": [
    "65. __Select__ all cars with the \"model_year\" __76__ from __japan__! __How many__ cars do we get?"
   ]
  },
  {
   "cell_type": "code",
   "execution_count": 38,
   "metadata": {
    "ExecuteTime": {
     "end_time": "2024-03-05T16:37:01.163682300Z",
     "start_time": "2024-03-05T16:37:01.110068900Z"
    }
   },
   "outputs": [
    {
     "data": {
      "text/plain": "                    mpg  cylinders  displacement  horsepower  weight  \\\nmodel_year origin                                                      \n76         japan   33.0          4          91.0        53.0    1795   \n           japan   32.0          4          85.0        70.0    1990   \n           japan   28.0          4          97.0        75.0    2155   \n           japan   19.0          6         156.0       108.0    2930   \n\n                   acceleration            name  \nmodel_year origin                                \n76         japan           17.4     honda civic  \n           japan           17.0    datsun b-210  \n           japan           16.4  toyota corolla  \n           japan           15.5  toyota mark ii  ",
      "text/html": "<div>\n<style scoped>\n    .dataframe tbody tr th:only-of-type {\n        vertical-align: middle;\n    }\n\n    .dataframe tbody tr th {\n        vertical-align: top;\n    }\n\n    .dataframe thead th {\n        text-align: right;\n    }\n</style>\n<table border=\"1\" class=\"dataframe\">\n  <thead>\n    <tr style=\"text-align: right;\">\n      <th></th>\n      <th></th>\n      <th>mpg</th>\n      <th>cylinders</th>\n      <th>displacement</th>\n      <th>horsepower</th>\n      <th>weight</th>\n      <th>acceleration</th>\n      <th>name</th>\n    </tr>\n    <tr>\n      <th>model_year</th>\n      <th>origin</th>\n      <th></th>\n      <th></th>\n      <th></th>\n      <th></th>\n      <th></th>\n      <th></th>\n      <th></th>\n    </tr>\n  </thead>\n  <tbody>\n    <tr>\n      <th rowspan=\"4\" valign=\"top\">76</th>\n      <th>japan</th>\n      <td>33.0</td>\n      <td>4</td>\n      <td>91.0</td>\n      <td>53.0</td>\n      <td>1795</td>\n      <td>17.4</td>\n      <td>honda civic</td>\n    </tr>\n    <tr>\n      <th>japan</th>\n      <td>32.0</td>\n      <td>4</td>\n      <td>85.0</td>\n      <td>70.0</td>\n      <td>1990</td>\n      <td>17.0</td>\n      <td>datsun b-210</td>\n    </tr>\n    <tr>\n      <th>japan</th>\n      <td>28.0</td>\n      <td>4</td>\n      <td>97.0</td>\n      <td>75.0</td>\n      <td>2155</td>\n      <td>16.4</td>\n      <td>toyota corolla</td>\n    </tr>\n    <tr>\n      <th>japan</th>\n      <td>19.0</td>\n      <td>6</td>\n      <td>156.0</td>\n      <td>108.0</td>\n      <td>2930</td>\n      <td>15.5</td>\n      <td>toyota mark ii</td>\n    </tr>\n  </tbody>\n</table>\n</div>"
     },
     "execution_count": 38,
     "metadata": {},
     "output_type": "execute_result"
    }
   ],
   "source": [
    "cars.loc[(76, 'japan')]"
   ]
  },
  {
   "cell_type": "markdown",
   "metadata": {},
   "source": [
    "There are ... 4 cars!"
   ]
  },
  {
   "cell_type": "markdown",
   "metadata": {},
   "source": [
    "66. __Select__ all cars with the \"model_year\" __77__ and __79__  from __japan__! And only the columns __\"mpg\"__ and __\"name\"__! What is the __mpg__ of __datsun 210__?"
   ]
  },
  {
   "cell_type": "code",
   "execution_count": 39,
   "metadata": {
    "ExecuteTime": {
     "end_time": "2024-03-05T16:37:03.189842400Z",
     "start_time": "2024-03-05T16:37:03.135967700Z"
    }
   },
   "outputs": [
    {
     "data": {
      "text/plain": "                    mpg                                  name\nmodel_year origin                                            \n77         europe  36.0                         renault 5 gtl\n           europe  29.0                      vw rabbit custom\n           europe  30.5                             vw dasher\n           europe  21.5                              bmw 320i\n           japan   31.5                     honda accord cvcc\n           japan   33.5                 datsun f-10 hatchback\n           japan   26.0               toyota corolla liftback\n           japan   30.0                             subaru dl\n           japan   22.0                            datsun 810\n           japan   21.5                            mazda rx-4\n           usa     30.0               buick opel isuzu deluxe\n           usa     25.5                     plymouth arrow gs\n           usa     17.5             chevrolet caprice classic\n           usa     17.0            oldsmobile cutlass supreme\n           usa     15.5                 dodge monaco brougham\n           usa     15.0               mercury cougar brougham\n           usa     17.5                    chevrolet concours\n           usa     20.5                         buick skylark\n           usa     19.0                plymouth volare custom\n           usa     18.5                          ford granada\n           usa     16.0                 pontiac grand prix lj\n           usa     15.5          chevrolet monte carlo landau\n           usa     15.5                      chrysler cordoba\n           usa     16.0                      ford thunderbird\n           usa     24.5                 pontiac sunbird coupe\n           usa     25.5                   ford mustang ii 2+2\n           usa     30.5                    chevrolet chevette\n           usa     33.5                        dodge colt m/m\n79         europe  31.9                      vw rabbit custom\n           europe  25.4                    mercedes-benz 300d\n           europe  27.2                           peugeot 504\n           europe  37.3                    fiat strada custom\n           japan   34.1                      mazda glc deluxe\n           japan   31.8                            datsun 210\n           usa     21.5                     pontiac lemans v6\n           usa     19.8                      mercury zephyr 6\n           usa     22.3                       ford fairmont 4\n           usa     20.2                      amc concord dl 6\n           usa     20.6                         dodge aspen 6\n           usa     17.0             chevrolet caprice classic\n           usa     17.6                       ford ltd landau\n           usa     16.5                 mercury grand marquis\n           usa     18.2                       dodge st. regis\n           usa     16.9               buick estate wagon (sw)\n           usa     15.5              ford country squire (sw)\n           usa     19.2         chevrolet malibu classic (sw)\n           usa     18.5  chrysler lebaron town @ country (sw)\n           usa     35.7           dodge colt hatchback custom\n           usa     27.4                         amc spirit dl\n           usa     23.0                     cadillac eldorado\n           usa     23.9     oldsmobile cutlass salon brougham\n           usa     34.2                      plymouth horizon\n           usa     34.5                  plymouth horizon tc3\n           usa     28.4                 buick skylark limited\n           usa     28.8                    chevrolet citation\n           usa     26.8             oldsmobile omega brougham\n           usa     33.5                       pontiac phoenix",
      "text/html": "<div>\n<style scoped>\n    .dataframe tbody tr th:only-of-type {\n        vertical-align: middle;\n    }\n\n    .dataframe tbody tr th {\n        vertical-align: top;\n    }\n\n    .dataframe thead th {\n        text-align: right;\n    }\n</style>\n<table border=\"1\" class=\"dataframe\">\n  <thead>\n    <tr style=\"text-align: right;\">\n      <th></th>\n      <th></th>\n      <th>mpg</th>\n      <th>name</th>\n    </tr>\n    <tr>\n      <th>model_year</th>\n      <th>origin</th>\n      <th></th>\n      <th></th>\n    </tr>\n  </thead>\n  <tbody>\n    <tr>\n      <th rowspan=\"28\" valign=\"top\">77</th>\n      <th>europe</th>\n      <td>36.0</td>\n      <td>renault 5 gtl</td>\n    </tr>\n    <tr>\n      <th>europe</th>\n      <td>29.0</td>\n      <td>vw rabbit custom</td>\n    </tr>\n    <tr>\n      <th>europe</th>\n      <td>30.5</td>\n      <td>vw dasher</td>\n    </tr>\n    <tr>\n      <th>europe</th>\n      <td>21.5</td>\n      <td>bmw 320i</td>\n    </tr>\n    <tr>\n      <th>japan</th>\n      <td>31.5</td>\n      <td>honda accord cvcc</td>\n    </tr>\n    <tr>\n      <th>japan</th>\n      <td>33.5</td>\n      <td>datsun f-10 hatchback</td>\n    </tr>\n    <tr>\n      <th>japan</th>\n      <td>26.0</td>\n      <td>toyota corolla liftback</td>\n    </tr>\n    <tr>\n      <th>japan</th>\n      <td>30.0</td>\n      <td>subaru dl</td>\n    </tr>\n    <tr>\n      <th>japan</th>\n      <td>22.0</td>\n      <td>datsun 810</td>\n    </tr>\n    <tr>\n      <th>japan</th>\n      <td>21.5</td>\n      <td>mazda rx-4</td>\n    </tr>\n    <tr>\n      <th>usa</th>\n      <td>30.0</td>\n      <td>buick opel isuzu deluxe</td>\n    </tr>\n    <tr>\n      <th>usa</th>\n      <td>25.5</td>\n      <td>plymouth arrow gs</td>\n    </tr>\n    <tr>\n      <th>usa</th>\n      <td>17.5</td>\n      <td>chevrolet caprice classic</td>\n    </tr>\n    <tr>\n      <th>usa</th>\n      <td>17.0</td>\n      <td>oldsmobile cutlass supreme</td>\n    </tr>\n    <tr>\n      <th>usa</th>\n      <td>15.5</td>\n      <td>dodge monaco brougham</td>\n    </tr>\n    <tr>\n      <th>usa</th>\n      <td>15.0</td>\n      <td>mercury cougar brougham</td>\n    </tr>\n    <tr>\n      <th>usa</th>\n      <td>17.5</td>\n      <td>chevrolet concours</td>\n    </tr>\n    <tr>\n      <th>usa</th>\n      <td>20.5</td>\n      <td>buick skylark</td>\n    </tr>\n    <tr>\n      <th>usa</th>\n      <td>19.0</td>\n      <td>plymouth volare custom</td>\n    </tr>\n    <tr>\n      <th>usa</th>\n      <td>18.5</td>\n      <td>ford granada</td>\n    </tr>\n    <tr>\n      <th>usa</th>\n      <td>16.0</td>\n      <td>pontiac grand prix lj</td>\n    </tr>\n    <tr>\n      <th>usa</th>\n      <td>15.5</td>\n      <td>chevrolet monte carlo landau</td>\n    </tr>\n    <tr>\n      <th>usa</th>\n      <td>15.5</td>\n      <td>chrysler cordoba</td>\n    </tr>\n    <tr>\n      <th>usa</th>\n      <td>16.0</td>\n      <td>ford thunderbird</td>\n    </tr>\n    <tr>\n      <th>usa</th>\n      <td>24.5</td>\n      <td>pontiac sunbird coupe</td>\n    </tr>\n    <tr>\n      <th>usa</th>\n      <td>25.5</td>\n      <td>ford mustang ii 2+2</td>\n    </tr>\n    <tr>\n      <th>usa</th>\n      <td>30.5</td>\n      <td>chevrolet chevette</td>\n    </tr>\n    <tr>\n      <th>usa</th>\n      <td>33.5</td>\n      <td>dodge colt m/m</td>\n    </tr>\n    <tr>\n      <th rowspan=\"29\" valign=\"top\">79</th>\n      <th>europe</th>\n      <td>31.9</td>\n      <td>vw rabbit custom</td>\n    </tr>\n    <tr>\n      <th>europe</th>\n      <td>25.4</td>\n      <td>mercedes-benz 300d</td>\n    </tr>\n    <tr>\n      <th>europe</th>\n      <td>27.2</td>\n      <td>peugeot 504</td>\n    </tr>\n    <tr>\n      <th>europe</th>\n      <td>37.3</td>\n      <td>fiat strada custom</td>\n    </tr>\n    <tr>\n      <th>japan</th>\n      <td>34.1</td>\n      <td>mazda glc deluxe</td>\n    </tr>\n    <tr>\n      <th>japan</th>\n      <td>31.8</td>\n      <td>datsun 210</td>\n    </tr>\n    <tr>\n      <th>usa</th>\n      <td>21.5</td>\n      <td>pontiac lemans v6</td>\n    </tr>\n    <tr>\n      <th>usa</th>\n      <td>19.8</td>\n      <td>mercury zephyr 6</td>\n    </tr>\n    <tr>\n      <th>usa</th>\n      <td>22.3</td>\n      <td>ford fairmont 4</td>\n    </tr>\n    <tr>\n      <th>usa</th>\n      <td>20.2</td>\n      <td>amc concord dl 6</td>\n    </tr>\n    <tr>\n      <th>usa</th>\n      <td>20.6</td>\n      <td>dodge aspen 6</td>\n    </tr>\n    <tr>\n      <th>usa</th>\n      <td>17.0</td>\n      <td>chevrolet caprice classic</td>\n    </tr>\n    <tr>\n      <th>usa</th>\n      <td>17.6</td>\n      <td>ford ltd landau</td>\n    </tr>\n    <tr>\n      <th>usa</th>\n      <td>16.5</td>\n      <td>mercury grand marquis</td>\n    </tr>\n    <tr>\n      <th>usa</th>\n      <td>18.2</td>\n      <td>dodge st. regis</td>\n    </tr>\n    <tr>\n      <th>usa</th>\n      <td>16.9</td>\n      <td>buick estate wagon (sw)</td>\n    </tr>\n    <tr>\n      <th>usa</th>\n      <td>15.5</td>\n      <td>ford country squire (sw)</td>\n    </tr>\n    <tr>\n      <th>usa</th>\n      <td>19.2</td>\n      <td>chevrolet malibu classic (sw)</td>\n    </tr>\n    <tr>\n      <th>usa</th>\n      <td>18.5</td>\n      <td>chrysler lebaron town @ country (sw)</td>\n    </tr>\n    <tr>\n      <th>usa</th>\n      <td>35.7</td>\n      <td>dodge colt hatchback custom</td>\n    </tr>\n    <tr>\n      <th>usa</th>\n      <td>27.4</td>\n      <td>amc spirit dl</td>\n    </tr>\n    <tr>\n      <th>usa</th>\n      <td>23.0</td>\n      <td>cadillac eldorado</td>\n    </tr>\n    <tr>\n      <th>usa</th>\n      <td>23.9</td>\n      <td>oldsmobile cutlass salon brougham</td>\n    </tr>\n    <tr>\n      <th>usa</th>\n      <td>34.2</td>\n      <td>plymouth horizon</td>\n    </tr>\n    <tr>\n      <th>usa</th>\n      <td>34.5</td>\n      <td>plymouth horizon tc3</td>\n    </tr>\n    <tr>\n      <th>usa</th>\n      <td>28.4</td>\n      <td>buick skylark limited</td>\n    </tr>\n    <tr>\n      <th>usa</th>\n      <td>28.8</td>\n      <td>chevrolet citation</td>\n    </tr>\n    <tr>\n      <th>usa</th>\n      <td>26.8</td>\n      <td>oldsmobile omega brougham</td>\n    </tr>\n    <tr>\n      <th>usa</th>\n      <td>33.5</td>\n      <td>pontiac phoenix</td>\n    </tr>\n  </tbody>\n</table>\n</div>"
     },
     "execution_count": 39,
     "metadata": {},
     "output_type": "execute_result"
    }
   ],
   "source": [
    "cars.loc[[77,79], ['mpg', 'name']]"
   ]
  },
  {
   "cell_type": "markdown",
   "metadata": {},
   "source": [
    "The mpg of datsun 210 is ... 31.8!"
   ]
  },
  {
   "cell_type": "markdown",
   "metadata": {},
   "source": [
    "67. __Swap the levels__ of the MultiIndex and then __sort__ the new MultiIndex in __ascending__ order! __Reassign cars__! __Fill in the gaps__!"
   ]
  },
  {
   "cell_type": "code",
   "execution_count": 76,
   "metadata": {
    "ExecuteTime": {
     "end_time": "2024-03-05T17:03:29.977736500Z",
     "start_time": "2024-03-05T17:03:29.934508500Z"
    }
   },
   "outputs": [
    {
     "ename": "TypeError",
     "evalue": "Can only swap levels on a hierarchical axis.",
     "output_type": "error",
     "traceback": [
      "\u001B[1;31m---------------------------------------------------------------------------\u001B[0m",
      "\u001B[1;31mTypeError\u001B[0m                                 Traceback (most recent call last)",
      "\u001B[1;32m~\\AppData\\Local\\Temp\\ipykernel_32120\\3620781872.py\u001B[0m in \u001B[0;36m?\u001B[1;34m()\u001B[0m\n\u001B[1;32m----> 1\u001B[1;33m \u001B[0mcars\u001B[0m \u001B[1;33m=\u001B[0m \u001B[0mcars\u001B[0m\u001B[1;33m.\u001B[0m\u001B[0mswaplevel\u001B[0m\u001B[1;33m(\u001B[0m\u001B[1;33m)\u001B[0m\u001B[1;33m.\u001B[0m\u001B[0msort_index\u001B[0m\u001B[1;33m(\u001B[0m\u001B[0mascending\u001B[0m\u001B[1;33m=\u001B[0m\u001B[1;32mTrue\u001B[0m\u001B[1;33m)\u001B[0m\u001B[1;33m\u001B[0m\u001B[1;33m\u001B[0m\u001B[0m\n\u001B[0m",
      "\u001B[1;32m~\\PycharmProjects\\Machine learning AI\\.venv\\Lib\\site-packages\\pandas\\core\\frame.py\u001B[0m in \u001B[0;36m?\u001B[1;34m(self, i, j, axis)\u001B[0m\n\u001B[0;32m   7806\u001B[0m \u001B[1;33m\u001B[0m\u001B[0m\n\u001B[0;32m   7807\u001B[0m         \u001B[0maxis\u001B[0m \u001B[1;33m=\u001B[0m \u001B[0mself\u001B[0m\u001B[1;33m.\u001B[0m\u001B[0m_get_axis_number\u001B[0m\u001B[1;33m(\u001B[0m\u001B[0maxis\u001B[0m\u001B[1;33m)\u001B[0m\u001B[1;33m\u001B[0m\u001B[1;33m\u001B[0m\u001B[0m\n\u001B[0;32m   7808\u001B[0m \u001B[1;33m\u001B[0m\u001B[0m\n\u001B[0;32m   7809\u001B[0m         \u001B[1;32mif\u001B[0m \u001B[1;32mnot\u001B[0m \u001B[0misinstance\u001B[0m\u001B[1;33m(\u001B[0m\u001B[0mresult\u001B[0m\u001B[1;33m.\u001B[0m\u001B[0m_get_axis\u001B[0m\u001B[1;33m(\u001B[0m\u001B[0maxis\u001B[0m\u001B[1;33m)\u001B[0m\u001B[1;33m,\u001B[0m \u001B[0mMultiIndex\u001B[0m\u001B[1;33m)\u001B[0m\u001B[1;33m:\u001B[0m  \u001B[1;31m# pragma: no cover\u001B[0m\u001B[1;33m\u001B[0m\u001B[1;33m\u001B[0m\u001B[0m\n\u001B[1;32m-> 7810\u001B[1;33m             \u001B[1;32mraise\u001B[0m \u001B[0mTypeError\u001B[0m\u001B[1;33m(\u001B[0m\u001B[1;34m\"Can only swap levels on a hierarchical axis.\"\u001B[0m\u001B[1;33m)\u001B[0m\u001B[1;33m\u001B[0m\u001B[1;33m\u001B[0m\u001B[0m\n\u001B[0m\u001B[0;32m   7811\u001B[0m \u001B[1;33m\u001B[0m\u001B[0m\n\u001B[0;32m   7812\u001B[0m         \u001B[1;32mif\u001B[0m \u001B[0maxis\u001B[0m \u001B[1;33m==\u001B[0m \u001B[1;36m0\u001B[0m\u001B[1;33m:\u001B[0m\u001B[1;33m\u001B[0m\u001B[1;33m\u001B[0m\u001B[0m\n\u001B[0;32m   7813\u001B[0m             \u001B[1;32massert\u001B[0m \u001B[0misinstance\u001B[0m\u001B[1;33m(\u001B[0m\u001B[0mresult\u001B[0m\u001B[1;33m.\u001B[0m\u001B[0mindex\u001B[0m\u001B[1;33m,\u001B[0m \u001B[0mMultiIndex\u001B[0m\u001B[1;33m)\u001B[0m\u001B[1;33m\u001B[0m\u001B[1;33m\u001B[0m\u001B[0m\n",
      "\u001B[1;31mTypeError\u001B[0m: Can only swap levels on a hierarchical axis."
     ]
    }
   ],
   "source": [
    "cars = cars.swaplevel().sort_index(ascending=True)"
   ]
  },
  {
   "cell_type": "code",
   "execution_count": 77,
   "metadata": {
    "ExecuteTime": {
     "end_time": "2024-03-05T17:03:35.426440300Z",
     "start_time": "2024-03-05T17:03:35.393603300Z"
    }
   },
   "outputs": [
    {
     "data": {
      "text/plain": "     model_year  origin   mpg  cylinders  displacement  horsepower  weight  \\\n0            70  europe  26.0          4          97.0        46.0    1835   \n1            70  europe  25.0          4         110.0        87.0    2672   \n2            70  europe  24.0          4         107.0        90.0    2430   \n3            70  europe  25.0          4         104.0        95.0    2375   \n4            70  europe  26.0          4         121.0       113.0    2234   \n..          ...     ...   ...        ...           ...         ...     ...   \n393          82     usa  27.0          4         151.0        90.0    2950   \n394          82     usa  27.0          4         140.0        86.0    2790   \n395          82     usa  32.0          4         135.0        84.0    2295   \n396          82     usa  28.0          4         120.0        79.0    2625   \n397          82     usa  31.0          4         119.0        82.0    2720   \n\n     acceleration                  name  \n0            20.5  vw 1131 deluxe sedan  \n1            17.5           peugeot 504  \n2            14.5           audi 100 ls  \n3            17.5              saab 99e  \n4            12.5              bmw 2002  \n..            ...                   ...  \n393          17.3      chevrolet camaro  \n394          15.6       ford mustang gl  \n395          11.6         dodge rampage  \n396          18.6           ford ranger  \n397          19.4        chevrolet s-10  \n\n[398 rows x 9 columns]",
      "text/html": "<div>\n<style scoped>\n    .dataframe tbody tr th:only-of-type {\n        vertical-align: middle;\n    }\n\n    .dataframe tbody tr th {\n        vertical-align: top;\n    }\n\n    .dataframe thead th {\n        text-align: right;\n    }\n</style>\n<table border=\"1\" class=\"dataframe\">\n  <thead>\n    <tr style=\"text-align: right;\">\n      <th></th>\n      <th>model_year</th>\n      <th>origin</th>\n      <th>mpg</th>\n      <th>cylinders</th>\n      <th>displacement</th>\n      <th>horsepower</th>\n      <th>weight</th>\n      <th>acceleration</th>\n      <th>name</th>\n    </tr>\n  </thead>\n  <tbody>\n    <tr>\n      <th>0</th>\n      <td>70</td>\n      <td>europe</td>\n      <td>26.0</td>\n      <td>4</td>\n      <td>97.0</td>\n      <td>46.0</td>\n      <td>1835</td>\n      <td>20.5</td>\n      <td>vw 1131 deluxe sedan</td>\n    </tr>\n    <tr>\n      <th>1</th>\n      <td>70</td>\n      <td>europe</td>\n      <td>25.0</td>\n      <td>4</td>\n      <td>110.0</td>\n      <td>87.0</td>\n      <td>2672</td>\n      <td>17.5</td>\n      <td>peugeot 504</td>\n    </tr>\n    <tr>\n      <th>2</th>\n      <td>70</td>\n      <td>europe</td>\n      <td>24.0</td>\n      <td>4</td>\n      <td>107.0</td>\n      <td>90.0</td>\n      <td>2430</td>\n      <td>14.5</td>\n      <td>audi 100 ls</td>\n    </tr>\n    <tr>\n      <th>3</th>\n      <td>70</td>\n      <td>europe</td>\n      <td>25.0</td>\n      <td>4</td>\n      <td>104.0</td>\n      <td>95.0</td>\n      <td>2375</td>\n      <td>17.5</td>\n      <td>saab 99e</td>\n    </tr>\n    <tr>\n      <th>4</th>\n      <td>70</td>\n      <td>europe</td>\n      <td>26.0</td>\n      <td>4</td>\n      <td>121.0</td>\n      <td>113.0</td>\n      <td>2234</td>\n      <td>12.5</td>\n      <td>bmw 2002</td>\n    </tr>\n    <tr>\n      <th>...</th>\n      <td>...</td>\n      <td>...</td>\n      <td>...</td>\n      <td>...</td>\n      <td>...</td>\n      <td>...</td>\n      <td>...</td>\n      <td>...</td>\n      <td>...</td>\n    </tr>\n    <tr>\n      <th>393</th>\n      <td>82</td>\n      <td>usa</td>\n      <td>27.0</td>\n      <td>4</td>\n      <td>151.0</td>\n      <td>90.0</td>\n      <td>2950</td>\n      <td>17.3</td>\n      <td>chevrolet camaro</td>\n    </tr>\n    <tr>\n      <th>394</th>\n      <td>82</td>\n      <td>usa</td>\n      <td>27.0</td>\n      <td>4</td>\n      <td>140.0</td>\n      <td>86.0</td>\n      <td>2790</td>\n      <td>15.6</td>\n      <td>ford mustang gl</td>\n    </tr>\n    <tr>\n      <th>395</th>\n      <td>82</td>\n      <td>usa</td>\n      <td>32.0</td>\n      <td>4</td>\n      <td>135.0</td>\n      <td>84.0</td>\n      <td>2295</td>\n      <td>11.6</td>\n      <td>dodge rampage</td>\n    </tr>\n    <tr>\n      <th>396</th>\n      <td>82</td>\n      <td>usa</td>\n      <td>28.0</td>\n      <td>4</td>\n      <td>120.0</td>\n      <td>79.0</td>\n      <td>2625</td>\n      <td>18.6</td>\n      <td>ford ranger</td>\n    </tr>\n    <tr>\n      <th>397</th>\n      <td>82</td>\n      <td>usa</td>\n      <td>31.0</td>\n      <td>4</td>\n      <td>119.0</td>\n      <td>82.0</td>\n      <td>2720</td>\n      <td>19.4</td>\n      <td>chevrolet s-10</td>\n    </tr>\n  </tbody>\n</table>\n<p>398 rows × 9 columns</p>\n</div>"
     },
     "execution_count": 77,
     "metadata": {},
     "output_type": "execute_result"
    }
   ],
   "source": [
    "# run the cell!\n",
    "cars"
   ]
  },
  {
   "cell_type": "markdown",
   "metadata": {},
   "source": [
    "68. __Reset__ the __index__ of __cars__ and create a RangeIndex! __Save__ the change!"
   ]
  },
  {
   "cell_type": "code",
   "execution_count": 42,
   "metadata": {
    "ExecuteTime": {
     "end_time": "2024-03-05T16:37:09.492374500Z",
     "start_time": "2024-03-05T16:37:09.468980900Z"
    }
   },
   "outputs": [],
   "source": [
    "cars.reset_index(inplace=True)"
   ]
  },
  {
   "cell_type": "code",
   "execution_count": 78,
   "metadata": {
    "ExecuteTime": {
     "end_time": "2024-03-05T17:04:07.480215600Z",
     "start_time": "2024-03-05T17:04:07.434121Z"
    }
   },
   "outputs": [
    {
     "data": {
      "text/plain": "   model_year  origin   mpg  cylinders  displacement  horsepower  weight  \\\n0          70  europe  26.0          4          97.0        46.0    1835   \n1          70  europe  25.0          4         110.0        87.0    2672   \n2          70  europe  24.0          4         107.0        90.0    2430   \n3          70  europe  25.0          4         104.0        95.0    2375   \n4          70  europe  26.0          4         121.0       113.0    2234   \n\n   acceleration                  name  \n0          20.5  vw 1131 deluxe sedan  \n1          17.5           peugeot 504  \n2          14.5           audi 100 ls  \n3          17.5              saab 99e  \n4          12.5              bmw 2002  ",
      "text/html": "<div>\n<style scoped>\n    .dataframe tbody tr th:only-of-type {\n        vertical-align: middle;\n    }\n\n    .dataframe tbody tr th {\n        vertical-align: top;\n    }\n\n    .dataframe thead th {\n        text-align: right;\n    }\n</style>\n<table border=\"1\" class=\"dataframe\">\n  <thead>\n    <tr style=\"text-align: right;\">\n      <th></th>\n      <th>model_year</th>\n      <th>origin</th>\n      <th>mpg</th>\n      <th>cylinders</th>\n      <th>displacement</th>\n      <th>horsepower</th>\n      <th>weight</th>\n      <th>acceleration</th>\n      <th>name</th>\n    </tr>\n  </thead>\n  <tbody>\n    <tr>\n      <th>0</th>\n      <td>70</td>\n      <td>europe</td>\n      <td>26.0</td>\n      <td>4</td>\n      <td>97.0</td>\n      <td>46.0</td>\n      <td>1835</td>\n      <td>20.5</td>\n      <td>vw 1131 deluxe sedan</td>\n    </tr>\n    <tr>\n      <th>1</th>\n      <td>70</td>\n      <td>europe</td>\n      <td>25.0</td>\n      <td>4</td>\n      <td>110.0</td>\n      <td>87.0</td>\n      <td>2672</td>\n      <td>17.5</td>\n      <td>peugeot 504</td>\n    </tr>\n    <tr>\n      <th>2</th>\n      <td>70</td>\n      <td>europe</td>\n      <td>24.0</td>\n      <td>4</td>\n      <td>107.0</td>\n      <td>90.0</td>\n      <td>2430</td>\n      <td>14.5</td>\n      <td>audi 100 ls</td>\n    </tr>\n    <tr>\n      <th>3</th>\n      <td>70</td>\n      <td>europe</td>\n      <td>25.0</td>\n      <td>4</td>\n      <td>104.0</td>\n      <td>95.0</td>\n      <td>2375</td>\n      <td>17.5</td>\n      <td>saab 99e</td>\n    </tr>\n    <tr>\n      <th>4</th>\n      <td>70</td>\n      <td>europe</td>\n      <td>26.0</td>\n      <td>4</td>\n      <td>121.0</td>\n      <td>113.0</td>\n      <td>2234</td>\n      <td>12.5</td>\n      <td>bmw 2002</td>\n    </tr>\n  </tbody>\n</table>\n</div>"
     },
     "execution_count": 78,
     "metadata": {},
     "output_type": "execute_result"
    }
   ],
   "source": [
    "# run the cell!\n",
    "cars.head()"
   ]
  },
  {
   "cell_type": "markdown",
   "metadata": {},
   "source": [
    "69. __Convert__ all elements in the __origin__ column to __titlecase__! __Overwrite__ the __origin__ column!"
   ]
  },
  {
   "cell_type": "markdown",
   "source": [
    "# am  rescris coloana origin "
   ],
   "metadata": {
    "collapsed": false
   }
  },
  {
   "cell_type": "code",
   "execution_count": 82,
   "metadata": {
    "scrolled": true,
    "ExecuteTime": {
     "end_time": "2024-03-05T17:06:01.786166700Z",
     "start_time": "2024-03-05T17:06:01.767864400Z"
    }
   },
   "outputs": [],
   "source": [
    "cars.origin = cars.origin.str.title()"
   ]
  },
  {
   "cell_type": "code",
   "execution_count": 83,
   "metadata": {
    "ExecuteTime": {
     "end_time": "2024-03-05T17:06:03.489705100Z",
     "start_time": "2024-03-05T17:06:03.448120600Z"
    }
   },
   "outputs": [
    {
     "data": {
      "text/plain": "     model_year  origin   mpg  cylinders  displacement  horsepower  weight  \\\n0            70  Europe  26.0          4          97.0        46.0    1835   \n1            70  Europe  25.0          4         110.0        87.0    2672   \n2            70  Europe  24.0          4         107.0        90.0    2430   \n3            70  Europe  25.0          4         104.0        95.0    2375   \n4            70  Europe  26.0          4         121.0       113.0    2234   \n..          ...     ...   ...        ...           ...         ...     ...   \n393          82     Usa  27.0          4         151.0        90.0    2950   \n394          82     Usa  27.0          4         140.0        86.0    2790   \n395          82     Usa  32.0          4         135.0        84.0    2295   \n396          82     Usa  28.0          4         120.0        79.0    2625   \n397          82     Usa  31.0          4         119.0        82.0    2720   \n\n     acceleration                  name  \n0            20.5  vw 1131 deluxe sedan  \n1            17.5           peugeot 504  \n2            14.5           audi 100 ls  \n3            17.5              saab 99e  \n4            12.5              bmw 2002  \n..            ...                   ...  \n393          17.3      chevrolet camaro  \n394          15.6       ford mustang gl  \n395          11.6         dodge rampage  \n396          18.6           ford ranger  \n397          19.4        chevrolet s-10  \n\n[398 rows x 9 columns]",
      "text/html": "<div>\n<style scoped>\n    .dataframe tbody tr th:only-of-type {\n        vertical-align: middle;\n    }\n\n    .dataframe tbody tr th {\n        vertical-align: top;\n    }\n\n    .dataframe thead th {\n        text-align: right;\n    }\n</style>\n<table border=\"1\" class=\"dataframe\">\n  <thead>\n    <tr style=\"text-align: right;\">\n      <th></th>\n      <th>model_year</th>\n      <th>origin</th>\n      <th>mpg</th>\n      <th>cylinders</th>\n      <th>displacement</th>\n      <th>horsepower</th>\n      <th>weight</th>\n      <th>acceleration</th>\n      <th>name</th>\n    </tr>\n  </thead>\n  <tbody>\n    <tr>\n      <th>0</th>\n      <td>70</td>\n      <td>Europe</td>\n      <td>26.0</td>\n      <td>4</td>\n      <td>97.0</td>\n      <td>46.0</td>\n      <td>1835</td>\n      <td>20.5</td>\n      <td>vw 1131 deluxe sedan</td>\n    </tr>\n    <tr>\n      <th>1</th>\n      <td>70</td>\n      <td>Europe</td>\n      <td>25.0</td>\n      <td>4</td>\n      <td>110.0</td>\n      <td>87.0</td>\n      <td>2672</td>\n      <td>17.5</td>\n      <td>peugeot 504</td>\n    </tr>\n    <tr>\n      <th>2</th>\n      <td>70</td>\n      <td>Europe</td>\n      <td>24.0</td>\n      <td>4</td>\n      <td>107.0</td>\n      <td>90.0</td>\n      <td>2430</td>\n      <td>14.5</td>\n      <td>audi 100 ls</td>\n    </tr>\n    <tr>\n      <th>3</th>\n      <td>70</td>\n      <td>Europe</td>\n      <td>25.0</td>\n      <td>4</td>\n      <td>104.0</td>\n      <td>95.0</td>\n      <td>2375</td>\n      <td>17.5</td>\n      <td>saab 99e</td>\n    </tr>\n    <tr>\n      <th>4</th>\n      <td>70</td>\n      <td>Europe</td>\n      <td>26.0</td>\n      <td>4</td>\n      <td>121.0</td>\n      <td>113.0</td>\n      <td>2234</td>\n      <td>12.5</td>\n      <td>bmw 2002</td>\n    </tr>\n    <tr>\n      <th>...</th>\n      <td>...</td>\n      <td>...</td>\n      <td>...</td>\n      <td>...</td>\n      <td>...</td>\n      <td>...</td>\n      <td>...</td>\n      <td>...</td>\n      <td>...</td>\n    </tr>\n    <tr>\n      <th>393</th>\n      <td>82</td>\n      <td>Usa</td>\n      <td>27.0</td>\n      <td>4</td>\n      <td>151.0</td>\n      <td>90.0</td>\n      <td>2950</td>\n      <td>17.3</td>\n      <td>chevrolet camaro</td>\n    </tr>\n    <tr>\n      <th>394</th>\n      <td>82</td>\n      <td>Usa</td>\n      <td>27.0</td>\n      <td>4</td>\n      <td>140.0</td>\n      <td>86.0</td>\n      <td>2790</td>\n      <td>15.6</td>\n      <td>ford mustang gl</td>\n    </tr>\n    <tr>\n      <th>395</th>\n      <td>82</td>\n      <td>Usa</td>\n      <td>32.0</td>\n      <td>4</td>\n      <td>135.0</td>\n      <td>84.0</td>\n      <td>2295</td>\n      <td>11.6</td>\n      <td>dodge rampage</td>\n    </tr>\n    <tr>\n      <th>396</th>\n      <td>82</td>\n      <td>Usa</td>\n      <td>28.0</td>\n      <td>4</td>\n      <td>120.0</td>\n      <td>79.0</td>\n      <td>2625</td>\n      <td>18.6</td>\n      <td>ford ranger</td>\n    </tr>\n    <tr>\n      <th>397</th>\n      <td>82</td>\n      <td>Usa</td>\n      <td>31.0</td>\n      <td>4</td>\n      <td>119.0</td>\n      <td>82.0</td>\n      <td>2720</td>\n      <td>19.4</td>\n      <td>chevrolet s-10</td>\n    </tr>\n  </tbody>\n</table>\n<p>398 rows × 9 columns</p>\n</div>"
     },
     "execution_count": 83,
     "metadata": {},
     "output_type": "execute_result"
    }
   ],
   "source": [
    "# run the cell!\n",
    "cars"
   ]
  },
  {
   "cell_type": "markdown",
   "metadata": {},
   "source": [
    "Now, we want to __extract the manufacturer names__ from the column __\"name\"__. <br>\n",
    "70. __Split__ the strings in the column __\"name\"__ on the very __first whitespace__ and __expand__ the splitted strings into __separate columns__! __Save__ new DataFrame in the variable __split__! __Fill in the gaps!__"
   ]
  },
  {
   "cell_type": "code",
   "execution_count": 62,
   "metadata": {
    "scrolled": true,
    "ExecuteTime": {
     "end_time": "2024-03-05T16:52:38.066334Z",
     "start_time": "2024-03-05T16:52:38.041678600Z"
    }
   },
   "outputs": [],
   "source": [
    "split =  cars.name.str.split(\" \", n=3, expand=True)"
   ]
  },
  {
   "cell_type": "markdown",
   "metadata": {},
   "source": [
    "__Inspect__!"
   ]
  },
  {
   "cell_type": "code",
   "execution_count": 63,
   "metadata": {
    "ExecuteTime": {
     "end_time": "2024-03-05T16:52:38.915504500Z",
     "start_time": "2024-03-05T16:52:38.886989100Z"
    }
   },
   "outputs": [
    {
     "data": {
      "text/plain": "             0        1       2      3\n0           vw     1131  deluxe  sedan\n1      peugeot      504    None   None\n2         audi      100      ls   None\n3         saab      99e    None   None\n4          bmw     2002    None   None\n..         ...      ...     ...    ...\n393  chevrolet   camaro    None   None\n394       ford  mustang      gl   None\n395      dodge  rampage    None   None\n396       ford   ranger    None   None\n397  chevrolet     s-10    None   None\n\n[398 rows x 4 columns]",
      "text/html": "<div>\n<style scoped>\n    .dataframe tbody tr th:only-of-type {\n        vertical-align: middle;\n    }\n\n    .dataframe tbody tr th {\n        vertical-align: top;\n    }\n\n    .dataframe thead th {\n        text-align: right;\n    }\n</style>\n<table border=\"1\" class=\"dataframe\">\n  <thead>\n    <tr style=\"text-align: right;\">\n      <th></th>\n      <th>0</th>\n      <th>1</th>\n      <th>2</th>\n      <th>3</th>\n    </tr>\n  </thead>\n  <tbody>\n    <tr>\n      <th>0</th>\n      <td>vw</td>\n      <td>1131</td>\n      <td>deluxe</td>\n      <td>sedan</td>\n    </tr>\n    <tr>\n      <th>1</th>\n      <td>peugeot</td>\n      <td>504</td>\n      <td>None</td>\n      <td>None</td>\n    </tr>\n    <tr>\n      <th>2</th>\n      <td>audi</td>\n      <td>100</td>\n      <td>ls</td>\n      <td>None</td>\n    </tr>\n    <tr>\n      <th>3</th>\n      <td>saab</td>\n      <td>99e</td>\n      <td>None</td>\n      <td>None</td>\n    </tr>\n    <tr>\n      <th>4</th>\n      <td>bmw</td>\n      <td>2002</td>\n      <td>None</td>\n      <td>None</td>\n    </tr>\n    <tr>\n      <th>...</th>\n      <td>...</td>\n      <td>...</td>\n      <td>...</td>\n      <td>...</td>\n    </tr>\n    <tr>\n      <th>393</th>\n      <td>chevrolet</td>\n      <td>camaro</td>\n      <td>None</td>\n      <td>None</td>\n    </tr>\n    <tr>\n      <th>394</th>\n      <td>ford</td>\n      <td>mustang</td>\n      <td>gl</td>\n      <td>None</td>\n    </tr>\n    <tr>\n      <th>395</th>\n      <td>dodge</td>\n      <td>rampage</td>\n      <td>None</td>\n      <td>None</td>\n    </tr>\n    <tr>\n      <th>396</th>\n      <td>ford</td>\n      <td>ranger</td>\n      <td>None</td>\n      <td>None</td>\n    </tr>\n    <tr>\n      <th>397</th>\n      <td>chevrolet</td>\n      <td>s-10</td>\n      <td>None</td>\n      <td>None</td>\n    </tr>\n  </tbody>\n</table>\n<p>398 rows × 4 columns</p>\n</div>"
     },
     "execution_count": 63,
     "metadata": {},
     "output_type": "execute_result"
    }
   ],
   "source": [
    "# run the cell!\n",
    "split"
   ]
  },
  {
   "cell_type": "markdown",
   "metadata": {},
   "source": [
    "71. __Select__ the __first column__ and determine the __frequency of unique values__. __Fill in the gaps__! Which manufacturer is __most frequent__?"
   ]
  },
  {
   "cell_type": "code",
   "execution_count": 86,
   "metadata": {
    "ExecuteTime": {
     "end_time": "2024-03-05T17:08:10.427620300Z",
     "start_time": "2024-03-05T17:08:10.370050200Z"
    }
   },
   "outputs": [
    {
     "data": {
      "text/plain": "0\nford             51\nchevrolet        47\nplymouth         31\ndodge            28\namc              28\ntoyota           26\ndatsun           23\nvw               22\nbuick            17\npontiac          16\nhonda            13\nmazda            12\nmercury          12\noldsmobile       10\npeugeot           8\nfiat              8\naudi              7\nvolvo             6\nchrysler          6\nrenault           5\nopel              4\nsaab              4\nsubaru            4\nmercedes-benz     3\nbmw               2\ncadillac          2\ntriumph           1\nih                1\nnissan            1\nName: count, dtype: int64"
     },
     "execution_count": 86,
     "metadata": {},
     "output_type": "execute_result"
    }
   ],
   "source": [
    "split[0].value_counts()"
   ]
  },
  {
   "cell_type": "markdown",
   "metadata": {},
   "source": [
    "There are 51 cars from the manufacturer ... Ford!"
   ]
  },
  {
   "cell_type": "markdown",
   "metadata": {},
   "source": [
    "72. Let´s __doublecheck__ the result from above. Check __how many__ car names in the column \"names\" __contain \"ford\"__!"
   ]
  },
  {
   "cell_type": "code",
   "execution_count": 87,
   "metadata": {
    "ExecuteTime": {
     "end_time": "2024-03-05T17:10:04.819248100Z",
     "start_time": "2024-03-05T17:10:04.754422900Z"
    }
   },
   "outputs": [
    {
     "data": {
      "text/plain": "51"
     },
     "execution_count": 87,
     "metadata": {},
     "output_type": "execute_result"
    }
   ],
   "source": [
    "cars.name.str.contains(\"ford\").sum()"
   ]
  },
  {
   "cell_type": "markdown",
   "metadata": {},
   "source": [
    "It´s ... again 51! It seems that the very first word in the column \"name\" is always the manufacturer name."
   ]
  },
  {
   "cell_type": "markdown",
   "metadata": {},
   "source": [
    "# Well Done!"
   ]
  },
  {
   "cell_type": "markdown",
   "metadata": {},
   "source": [
    "------------------------------"
   ]
  },
  {
   "cell_type": "markdown",
   "metadata": {},
   "source": [
    "# Hints (Spoiler!)"
   ]
  },
  {
   "cell_type": "markdown",
   "metadata": {},
   "source": [
    "61. apply() method, maximum - minimum"
   ]
  },
  {
   "cell_type": "markdown",
   "metadata": {},
   "source": [
    "62. set_index() method, pass list with column labels"
   ]
  },
  {
   "cell_type": "markdown",
   "metadata": {},
   "source": [
    "63. sort_index() method"
   ]
  },
  {
   "cell_type": "markdown",
   "metadata": {},
   "source": [
    "64. pass outer index labels to loc operator"
   ]
  },
  {
   "cell_type": "markdown",
   "metadata": {},
   "source": [
    "65. cars.loc[(outer index labels, inner index labels)]"
   ]
  },
  {
   "cell_type": "markdown",
   "metadata": {},
   "source": [
    "66. cars.loc[(outer index labels, inner index labels), column labels]"
   ]
  },
  {
   "cell_type": "markdown",
   "metadata": {},
   "source": [
    "67. methods swaplevel() and sort_index()"
   ]
  },
  {
   "cell_type": "markdown",
   "metadata": {},
   "source": [
    "68. reset_index() method"
   ]
  },
  {
   "cell_type": "markdown",
   "metadata": {},
   "source": [
    "69. string(str)-method title()"
   ]
  },
  {
   "cell_type": "markdown",
   "metadata": {},
   "source": [
    "70. string(str)-method split(), n = 1, "
   ]
  },
  {
   "cell_type": "markdown",
   "metadata": {},
   "source": [
    "71. value_counts() method "
   ]
  },
  {
   "cell_type": "markdown",
   "metadata": {},
   "source": [
    "72. string(str)-method contains()"
   ]
  },
  {
   "cell_type": "code",
   "execution_count": 23,
   "metadata": {
    "ExecuteTime": {
     "end_time": "2024-03-05T16:33:48.919876800Z",
     "start_time": "2024-03-05T16:33:48.787188900Z"
    }
   },
   "outputs": [],
   "source": []
  }
 ],
 "metadata": {
  "kernelspec": {
   "display_name": "Python 3",
   "language": "python",
   "name": "python3"
  },
  "language_info": {
   "codemirror_mode": {
    "name": "ipython",
    "version": 3
   },
   "file_extension": ".py",
   "mimetype": "text/x-python",
   "name": "python",
   "nbconvert_exporter": "python",
   "pygments_lexer": "ipython3",
   "version": "3.7.6"
  }
 },
 "nbformat": 4,
 "nbformat_minor": 2
}
