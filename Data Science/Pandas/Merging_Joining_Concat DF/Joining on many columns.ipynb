{
 "cells": [
  {
   "cell_type": "code",
   "execution_count": 1,
   "id": "initial_id",
   "metadata": {
    "collapsed": true,
    "ExecuteTime": {
     "end_time": "2024-05-08T17:29:03.357412500Z",
     "start_time": "2024-05-08T17:29:02.810714500Z"
    }
   },
   "outputs": [],
   "source": [
    "import pandas as pd"
   ]
  },
  {
   "cell_type": "code",
   "outputs": [],
   "source": [
    "men2004_det = pd.read_csv('../../Data/men2004_det.csv')\n",
    "men2008_det = pd.read_csv('../../Data/men2008_det.csv')"
   ],
   "metadata": {
    "collapsed": false,
    "ExecuteTime": {
     "end_time": "2024-05-08T17:29:05.437399900Z",
     "start_time": "2024-05-08T17:29:05.404594900Z"
    }
   },
   "id": "c01b5d0e3b629cd7",
   "execution_count": 2
  },
  {
   "cell_type": "code",
   "outputs": [
    {
     "data": {
      "text/plain": "                  Athlete   Medal  Count\n0          BOVELL, George  Bronze      1\n1     BREMBILLA, Emiliano  Bronze      1\n2   CAPPELLAZZO, Federico  Bronze      1\n3         CERCATO, Simone  Bronze      1\n4            CONRAD, Lars  Silver      1\n..                    ...     ...    ...\n72         WOODWARD, Gabe  Bronze      1\n73      YAMAMOTO, Takashi  Bronze      1\n74      YAMAMOTO, Takashi  Silver      1\n75         ZASTROW, Mitja  Silver      1\n76    ZWERING, Klaas-Erik  Silver      1\n\n[77 rows x 3 columns]",
      "text/html": "<div>\n<style scoped>\n    .dataframe tbody tr th:only-of-type {\n        vertical-align: middle;\n    }\n\n    .dataframe tbody tr th {\n        vertical-align: top;\n    }\n\n    .dataframe thead th {\n        text-align: right;\n    }\n</style>\n<table border=\"1\" class=\"dataframe\">\n  <thead>\n    <tr style=\"text-align: right;\">\n      <th></th>\n      <th>Athlete</th>\n      <th>Medal</th>\n      <th>Count</th>\n    </tr>\n  </thead>\n  <tbody>\n    <tr>\n      <th>0</th>\n      <td>BOVELL, George</td>\n      <td>Bronze</td>\n      <td>1</td>\n    </tr>\n    <tr>\n      <th>1</th>\n      <td>BREMBILLA, Emiliano</td>\n      <td>Bronze</td>\n      <td>1</td>\n    </tr>\n    <tr>\n      <th>2</th>\n      <td>CAPPELLAZZO, Federico</td>\n      <td>Bronze</td>\n      <td>1</td>\n    </tr>\n    <tr>\n      <th>3</th>\n      <td>CERCATO, Simone</td>\n      <td>Bronze</td>\n      <td>1</td>\n    </tr>\n    <tr>\n      <th>4</th>\n      <td>CONRAD, Lars</td>\n      <td>Silver</td>\n      <td>1</td>\n    </tr>\n    <tr>\n      <th>...</th>\n      <td>...</td>\n      <td>...</td>\n      <td>...</td>\n    </tr>\n    <tr>\n      <th>72</th>\n      <td>WOODWARD, Gabe</td>\n      <td>Bronze</td>\n      <td>1</td>\n    </tr>\n    <tr>\n      <th>73</th>\n      <td>YAMAMOTO, Takashi</td>\n      <td>Bronze</td>\n      <td>1</td>\n    </tr>\n    <tr>\n      <th>74</th>\n      <td>YAMAMOTO, Takashi</td>\n      <td>Silver</td>\n      <td>1</td>\n    </tr>\n    <tr>\n      <th>75</th>\n      <td>ZASTROW, Mitja</td>\n      <td>Silver</td>\n      <td>1</td>\n    </tr>\n    <tr>\n      <th>76</th>\n      <td>ZWERING, Klaas-Erik</td>\n      <td>Silver</td>\n      <td>1</td>\n    </tr>\n  </tbody>\n</table>\n<p>77 rows × 3 columns</p>\n</div>"
     },
     "execution_count": 4,
     "metadata": {},
     "output_type": "execute_result"
    }
   ],
   "source": [
    "men2004_det"
   ],
   "metadata": {
    "collapsed": false,
    "ExecuteTime": {
     "end_time": "2024-03-20T18:45:07.229536800Z",
     "start_time": "2024-03-20T18:45:07.210109700Z"
    }
   },
   "id": "8e05b225aadc226b",
   "execution_count": 4
  },
  {
   "cell_type": "code",
   "outputs": [
    {
     "data": {
      "text/plain": "                  Athlete   Medal  Count\n0          ADRIAN, Nathan    Gold      1\n1           BERENS, Ricky    Gold      1\n2          BERNARD, Alain  Bronze      1\n3          BERNARD, Alain    Gold      1\n4          BERNARD, Alain  Silver      1\n..                    ...     ...    ...\n72     VYATCHANIN, Arkady  Bronze      2\n73         WALTERS, David    Gold      1\n74    WEBER-GALE, Garrett    Gold      2\n75  WILDMAN-TOBRINER, Ben    Gold      1\n76             ZHANG, Lin  Silver      1\n\n[77 rows x 3 columns]",
      "text/html": "<div>\n<style scoped>\n    .dataframe tbody tr th:only-of-type {\n        vertical-align: middle;\n    }\n\n    .dataframe tbody tr th {\n        vertical-align: top;\n    }\n\n    .dataframe thead th {\n        text-align: right;\n    }\n</style>\n<table border=\"1\" class=\"dataframe\">\n  <thead>\n    <tr style=\"text-align: right;\">\n      <th></th>\n      <th>Athlete</th>\n      <th>Medal</th>\n      <th>Count</th>\n    </tr>\n  </thead>\n  <tbody>\n    <tr>\n      <th>0</th>\n      <td>ADRIAN, Nathan</td>\n      <td>Gold</td>\n      <td>1</td>\n    </tr>\n    <tr>\n      <th>1</th>\n      <td>BERENS, Ricky</td>\n      <td>Gold</td>\n      <td>1</td>\n    </tr>\n    <tr>\n      <th>2</th>\n      <td>BERNARD, Alain</td>\n      <td>Bronze</td>\n      <td>1</td>\n    </tr>\n    <tr>\n      <th>3</th>\n      <td>BERNARD, Alain</td>\n      <td>Gold</td>\n      <td>1</td>\n    </tr>\n    <tr>\n      <th>4</th>\n      <td>BERNARD, Alain</td>\n      <td>Silver</td>\n      <td>1</td>\n    </tr>\n    <tr>\n      <th>...</th>\n      <td>...</td>\n      <td>...</td>\n      <td>...</td>\n    </tr>\n    <tr>\n      <th>72</th>\n      <td>VYATCHANIN, Arkady</td>\n      <td>Bronze</td>\n      <td>2</td>\n    </tr>\n    <tr>\n      <th>73</th>\n      <td>WALTERS, David</td>\n      <td>Gold</td>\n      <td>1</td>\n    </tr>\n    <tr>\n      <th>74</th>\n      <td>WEBER-GALE, Garrett</td>\n      <td>Gold</td>\n      <td>2</td>\n    </tr>\n    <tr>\n      <th>75</th>\n      <td>WILDMAN-TOBRINER, Ben</td>\n      <td>Gold</td>\n      <td>1</td>\n    </tr>\n    <tr>\n      <th>76</th>\n      <td>ZHANG, Lin</td>\n      <td>Silver</td>\n      <td>1</td>\n    </tr>\n  </tbody>\n</table>\n<p>77 rows × 3 columns</p>\n</div>"
     },
     "execution_count": 5,
     "metadata": {},
     "output_type": "execute_result"
    }
   ],
   "source": [
    "men2008_det"
   ],
   "metadata": {
    "collapsed": false,
    "ExecuteTime": {
     "end_time": "2024-03-20T18:45:07.753424800Z",
     "start_time": "2024-03-20T18:45:07.712719600Z"
    }
   },
   "id": "c9c3137033988cb9",
   "execution_count": 5
  },
  {
   "cell_type": "code",
   "outputs": [
    {
     "data": {
      "text/plain": "            Athlete   Medal  Count\n50  PHELPS, Michael  Bronze      2\n51  PHELPS, Michael    Gold      6",
      "text/html": "<div>\n<style scoped>\n    .dataframe tbody tr th:only-of-type {\n        vertical-align: middle;\n    }\n\n    .dataframe tbody tr th {\n        vertical-align: top;\n    }\n\n    .dataframe thead th {\n        text-align: right;\n    }\n</style>\n<table border=\"1\" class=\"dataframe\">\n  <thead>\n    <tr style=\"text-align: right;\">\n      <th></th>\n      <th>Athlete</th>\n      <th>Medal</th>\n      <th>Count</th>\n    </tr>\n  </thead>\n  <tbody>\n    <tr>\n      <th>50</th>\n      <td>PHELPS, Michael</td>\n      <td>Bronze</td>\n      <td>2</td>\n    </tr>\n    <tr>\n      <th>51</th>\n      <td>PHELPS, Michael</td>\n      <td>Gold</td>\n      <td>6</td>\n    </tr>\n  </tbody>\n</table>\n</div>"
     },
     "execution_count": 6,
     "metadata": {},
     "output_type": "execute_result"
    }
   ],
   "source": [
    "men2004_det.loc[men2004_det.Athlete == 'PHELPS, Michael']"
   ],
   "metadata": {
    "collapsed": false,
    "ExecuteTime": {
     "end_time": "2024-03-20T18:45:08.740693200Z",
     "start_time": "2024-03-20T18:45:08.628162600Z"
    }
   },
   "id": "3923754039e15ab8",
   "execution_count": 6
  },
  {
   "cell_type": "code",
   "outputs": [
    {
     "data": {
      "text/plain": "            Athlete Medal  Count\n54  PHELPS, Michael  Gold      8",
      "text/html": "<div>\n<style scoped>\n    .dataframe tbody tr th:only-of-type {\n        vertical-align: middle;\n    }\n\n    .dataframe tbody tr th {\n        vertical-align: top;\n    }\n\n    .dataframe thead th {\n        text-align: right;\n    }\n</style>\n<table border=\"1\" class=\"dataframe\">\n  <thead>\n    <tr style=\"text-align: right;\">\n      <th></th>\n      <th>Athlete</th>\n      <th>Medal</th>\n      <th>Count</th>\n    </tr>\n  </thead>\n  <tbody>\n    <tr>\n      <th>54</th>\n      <td>PHELPS, Michael</td>\n      <td>Gold</td>\n      <td>8</td>\n    </tr>\n  </tbody>\n</table>\n</div>"
     },
     "execution_count": 7,
     "metadata": {},
     "output_type": "execute_result"
    }
   ],
   "source": [
    "men2008_det.loc[men2008_det.Athlete == 'PHELPS, Michael']"
   ],
   "metadata": {
    "collapsed": false,
    "ExecuteTime": {
     "end_time": "2024-03-20T18:45:09.089127400Z",
     "start_time": "2024-03-20T18:45:09.069953500Z"
    }
   },
   "id": "ca827653d15fac20",
   "execution_count": 7
  },
  {
   "cell_type": "code",
   "outputs": [],
   "source": [
    "men0408 = men2004_det.merge(men2008_det, how='outer', on='Athlete', suffixes=['_2004', '_2008'])"
   ],
   "metadata": {
    "collapsed": false,
    "ExecuteTime": {
     "end_time": "2024-03-20T18:45:09.757131500Z",
     "start_time": "2024-03-20T18:45:09.670163100Z"
    }
   },
   "id": "e9b2c7b646007cb4",
   "execution_count": 8
  },
  {
   "cell_type": "markdown",
   "source": [
    "## We have a problem here, because we have two columns with the same"
   ],
   "metadata": {
    "collapsed": false
   },
   "id": "a629f8ccd5a07ac8"
  },
  {
   "cell_type": "code",
   "outputs": [
    {
     "data": {
      "text/plain": "            Athlete Medal_2004  Count_2004 Medal_2008  Count_2008\n95  PHELPS, Michael     Bronze         2.0       Gold         8.0\n96  PHELPS, Michael       Gold         6.0       Gold         8.0",
      "text/html": "<div>\n<style scoped>\n    .dataframe tbody tr th:only-of-type {\n        vertical-align: middle;\n    }\n\n    .dataframe tbody tr th {\n        vertical-align: top;\n    }\n\n    .dataframe thead th {\n        text-align: right;\n    }\n</style>\n<table border=\"1\" class=\"dataframe\">\n  <thead>\n    <tr style=\"text-align: right;\">\n      <th></th>\n      <th>Athlete</th>\n      <th>Medal_2004</th>\n      <th>Count_2004</th>\n      <th>Medal_2008</th>\n      <th>Count_2008</th>\n    </tr>\n  </thead>\n  <tbody>\n    <tr>\n      <th>95</th>\n      <td>PHELPS, Michael</td>\n      <td>Bronze</td>\n      <td>2.0</td>\n      <td>Gold</td>\n      <td>8.0</td>\n    </tr>\n    <tr>\n      <th>96</th>\n      <td>PHELPS, Michael</td>\n      <td>Gold</td>\n      <td>6.0</td>\n      <td>Gold</td>\n      <td>8.0</td>\n    </tr>\n  </tbody>\n</table>\n</div>"
     },
     "execution_count": 9,
     "metadata": {},
     "output_type": "execute_result"
    }
   ],
   "source": [
    "men0408.loc[men0408.Athlete == 'PHELPS, Michael']"
   ],
   "metadata": {
    "collapsed": false,
    "ExecuteTime": {
     "end_time": "2024-03-20T18:45:10.724942300Z",
     "start_time": "2024-03-20T18:45:10.694527400Z"
    }
   },
   "id": "76d1b441f8ecf982",
   "execution_count": 9
  },
  {
   "cell_type": "code",
   "outputs": [],
   "source": [],
   "metadata": {
    "collapsed": false,
    "ExecuteTime": {
     "end_time": "2024-03-20T18:45:11.124714700Z",
     "start_time": "2024-03-20T18:45:11.106708Z"
    }
   },
   "id": "b4a947fb11604947",
   "execution_count": 9
  },
  {
   "cell_type": "markdown",
   "source": [
    "## We have to merge the dataframes using the Athlete and Medal columns. We what to 2 rows, one for bronze and one for gold. "
   ],
   "metadata": {
    "collapsed": false
   },
   "id": "aa150cc0a284e80a"
  },
  {
   "cell_type": "code",
   "outputs": [],
   "source": [
    "men0408 = men2004_det.merge(men2008_det, how='outer', on=['Athlete', 'Medal'], suffixes=['_2004', '_2008'])"
   ],
   "metadata": {
    "collapsed": false,
    "ExecuteTime": {
     "end_time": "2024-03-20T18:45:12.023766700Z",
     "start_time": "2024-03-20T18:45:11.962401600Z"
    }
   },
   "id": "92af83b072c90eee",
   "execution_count": 10
  },
  {
   "cell_type": "code",
   "outputs": [
    {
     "data": {
      "text/plain": "            Athlete   Medal  Count_2004  Count_2008\n92  PHELPS, Michael  Bronze         2.0         NaN\n93  PHELPS, Michael    Gold         6.0         8.0",
      "text/html": "<div>\n<style scoped>\n    .dataframe tbody tr th:only-of-type {\n        vertical-align: middle;\n    }\n\n    .dataframe tbody tr th {\n        vertical-align: top;\n    }\n\n    .dataframe thead th {\n        text-align: right;\n    }\n</style>\n<table border=\"1\" class=\"dataframe\">\n  <thead>\n    <tr style=\"text-align: right;\">\n      <th></th>\n      <th>Athlete</th>\n      <th>Medal</th>\n      <th>Count_2004</th>\n      <th>Count_2008</th>\n    </tr>\n  </thead>\n  <tbody>\n    <tr>\n      <th>92</th>\n      <td>PHELPS, Michael</td>\n      <td>Bronze</td>\n      <td>2.0</td>\n      <td>NaN</td>\n    </tr>\n    <tr>\n      <th>93</th>\n      <td>PHELPS, Michael</td>\n      <td>Gold</td>\n      <td>6.0</td>\n      <td>8.0</td>\n    </tr>\n  </tbody>\n</table>\n</div>"
     },
     "execution_count": 11,
     "metadata": {},
     "output_type": "execute_result"
    }
   ],
   "source": [
    "men0408.loc[men0408.Athlete == 'PHELPS, Michael']"
   ],
   "metadata": {
    "collapsed": false,
    "ExecuteTime": {
     "end_time": "2024-03-20T18:45:12.430155700Z",
     "start_time": "2024-03-20T18:45:12.356652800Z"
    }
   },
   "id": "7fee9eb3735b408",
   "execution_count": 11
  },
  {
   "cell_type": "markdown",
   "source": [
    "# OR we can use pd.merge()"
   ],
   "metadata": {
    "collapsed": false
   },
   "id": "1900c6583d54bb3c"
  },
  {
   "cell_type": "code",
   "outputs": [
    {
     "data": {
      "text/plain": "                 Athlete   Medal  Count_2004  Count_2008\n0         ADRIAN, Nathan    Gold         NaN         1.0\n1          BERENS, Ricky    Gold         NaN         1.0\n2         BERNARD, Alain  Bronze         NaN         1.0\n3         BERNARD, Alain    Gold         NaN         1.0\n4         BERNARD, Alain  Silver         NaN         1.0\n..                   ...     ...         ...         ...\n135    YAMAMOTO, Takashi  Bronze         1.0         NaN\n136    YAMAMOTO, Takashi  Silver         1.0         NaN\n137       ZASTROW, Mitja  Silver         1.0         NaN\n138           ZHANG, Lin  Silver         NaN         1.0\n139  ZWERING, Klaas-Erik  Silver         1.0         NaN\n\n[140 rows x 4 columns]",
      "text/html": "<div>\n<style scoped>\n    .dataframe tbody tr th:only-of-type {\n        vertical-align: middle;\n    }\n\n    .dataframe tbody tr th {\n        vertical-align: top;\n    }\n\n    .dataframe thead th {\n        text-align: right;\n    }\n</style>\n<table border=\"1\" class=\"dataframe\">\n  <thead>\n    <tr style=\"text-align: right;\">\n      <th></th>\n      <th>Athlete</th>\n      <th>Medal</th>\n      <th>Count_2004</th>\n      <th>Count_2008</th>\n    </tr>\n  </thead>\n  <tbody>\n    <tr>\n      <th>0</th>\n      <td>ADRIAN, Nathan</td>\n      <td>Gold</td>\n      <td>NaN</td>\n      <td>1.0</td>\n    </tr>\n    <tr>\n      <th>1</th>\n      <td>BERENS, Ricky</td>\n      <td>Gold</td>\n      <td>NaN</td>\n      <td>1.0</td>\n    </tr>\n    <tr>\n      <th>2</th>\n      <td>BERNARD, Alain</td>\n      <td>Bronze</td>\n      <td>NaN</td>\n      <td>1.0</td>\n    </tr>\n    <tr>\n      <th>3</th>\n      <td>BERNARD, Alain</td>\n      <td>Gold</td>\n      <td>NaN</td>\n      <td>1.0</td>\n    </tr>\n    <tr>\n      <th>4</th>\n      <td>BERNARD, Alain</td>\n      <td>Silver</td>\n      <td>NaN</td>\n      <td>1.0</td>\n    </tr>\n    <tr>\n      <th>...</th>\n      <td>...</td>\n      <td>...</td>\n      <td>...</td>\n      <td>...</td>\n    </tr>\n    <tr>\n      <th>135</th>\n      <td>YAMAMOTO, Takashi</td>\n      <td>Bronze</td>\n      <td>1.0</td>\n      <td>NaN</td>\n    </tr>\n    <tr>\n      <th>136</th>\n      <td>YAMAMOTO, Takashi</td>\n      <td>Silver</td>\n      <td>1.0</td>\n      <td>NaN</td>\n    </tr>\n    <tr>\n      <th>137</th>\n      <td>ZASTROW, Mitja</td>\n      <td>Silver</td>\n      <td>1.0</td>\n      <td>NaN</td>\n    </tr>\n    <tr>\n      <th>138</th>\n      <td>ZHANG, Lin</td>\n      <td>Silver</td>\n      <td>NaN</td>\n      <td>1.0</td>\n    </tr>\n    <tr>\n      <th>139</th>\n      <td>ZWERING, Klaas-Erik</td>\n      <td>Silver</td>\n      <td>1.0</td>\n      <td>NaN</td>\n    </tr>\n  </tbody>\n</table>\n<p>140 rows × 4 columns</p>\n</div>"
     },
     "execution_count": 12,
     "metadata": {},
     "output_type": "execute_result"
    }
   ],
   "source": [
    "pd.merge(men2004_det, men2008_det, how='outer', on=['Athlete', 'Medal'], suffixes=['_2004', '_2008'])"
   ],
   "metadata": {
    "collapsed": false,
    "ExecuteTime": {
     "end_time": "2024-03-20T18:45:54.825429Z",
     "start_time": "2024-03-20T18:45:54.797661600Z"
    }
   },
   "id": "c002f886363df083",
   "execution_count": 12
  }
 ],
 "metadata": {
  "kernelspec": {
   "display_name": "Python 3",
   "language": "python",
   "name": "python3"
  },
  "language_info": {
   "codemirror_mode": {
    "name": "ipython",
    "version": 2
   },
   "file_extension": ".py",
   "mimetype": "text/x-python",
   "name": "python",
   "nbconvert_exporter": "python",
   "pygments_lexer": "ipython2",
   "version": "2.7.6"
  }
 },
 "nbformat": 4,
 "nbformat_minor": 5
}
