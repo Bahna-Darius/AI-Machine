{
 "cells": [
  {
   "cell_type": "code",
   "execution_count": 1,
   "id": "initial_id",
   "metadata": {
    "collapsed": true,
    "ExecuteTime": {
     "end_time": "2024-05-08T17:28:46.471205100Z",
     "start_time": "2024-05-08T17:28:45.967726Z"
    }
   },
   "outputs": [],
   "source": [
    "import pandas as pd"
   ]
  },
  {
   "cell_type": "code",
   "outputs": [],
   "source": [
    "men_2004 = pd.read_csv('../../Data/men2004.csv')"
   ],
   "metadata": {
    "collapsed": false,
    "ExecuteTime": {
     "end_time": "2024-05-08T17:28:47.829301600Z",
     "start_time": "2024-05-08T17:28:47.800560Z"
    }
   },
   "id": "d0a74b1e0690918c",
   "execution_count": 2
  },
  {
   "cell_type": "code",
   "outputs": [
    {
     "data": {
      "text/plain": "                       Athlete  Medals\n0              PHELPS, Michael       8\n1                  THORPE, Ian       4\n2             SCHOEMAN, Roland       3\n3               PEIRSOL, Aaron       3\n4                 CROCKER, Ian       3\n5             KITAJIMA, Kosuke       3\n6              HANSEN, Brendan       3\n7   VAN DEN HOOGENBAND, Pieter       3\n8               HACKETT, Grant       3\n9               MORITA, Tomomi       2\n10                LEZAK, Jason       2\n11               ROGAN, Markus       2\n12               KELLER, Klete       2\n13              HALL, Gary Jr.       2\n14                LOCHTE, Ryan       2\n15                WALKER, Neil       2\n16           YAMAMOTO, Takashi       2\n17          SPRENGER, Nicholas       1\n18          OKUMURA, Yoshihiro       1\n19              PARRY, Stephen       1\n20               PEARSON, Todd       1\n21              ZASTROW, Mitja       1\n22          PELLICIARI, Matteo       1\n23              WOODWARD, Gabe       1\n24            SERDINOV, Andriy       1\n25                 VENDT, Erik       1\n26      ROSOLINO, Massimiliano       1\n27        VEENS, Mark Hermanus       1\n28            RUPPRATH, Thomas       1\n29           VANDERKAAY, Peter       1\n30            TOWNSEND, Darian       1\n31              STEVENS, Craig       1\n32              NEETHLING, Ryk       1\n33              BOVELL, George       1\n34                MEEUW, Helge       1\n35        FLOREA, Razvan Ionut       1\n36       CAPPELLAZZO, Federico       1\n37             CERCATO, Simone       1\n38                CONRAD, Lars       1\n39                CSEH, Laszlo       1\n40               DAVIES, David       1\n41              DRAGANJA, Duje       1\n42            DRIESEN, Steffen       1\n43             DUBOSCQ, Hugues       1\n44                DUSING, Nate       1\n45               FERNS, Lyndon       1\n46              GANGLOFF, Mark       1\n47           MATKOVICH, Antony       1\n48            GOLDBLATT, Scott       1\n49              GYURTA, Daniel       1\n50              JENSEN, Larsen       1\n51             KENKHUIS, Johan       1\n52                KETCHUM, Dan       1\n53               KLIM, Michael       1\n54          KRAYZELBURG, Lenny       1\n55                KRUPPA, Jens       1\n56         BREMBILLA, Emiliano       1\n57            MAGNINI, Filippo       1\n58         ZWERING, Klaas-Erik       1",
      "text/html": "<div>\n<style scoped>\n    .dataframe tbody tr th:only-of-type {\n        vertical-align: middle;\n    }\n\n    .dataframe tbody tr th {\n        vertical-align: top;\n    }\n\n    .dataframe thead th {\n        text-align: right;\n    }\n</style>\n<table border=\"1\" class=\"dataframe\">\n  <thead>\n    <tr style=\"text-align: right;\">\n      <th></th>\n      <th>Athlete</th>\n      <th>Medals</th>\n    </tr>\n  </thead>\n  <tbody>\n    <tr>\n      <th>0</th>\n      <td>PHELPS, Michael</td>\n      <td>8</td>\n    </tr>\n    <tr>\n      <th>1</th>\n      <td>THORPE, Ian</td>\n      <td>4</td>\n    </tr>\n    <tr>\n      <th>2</th>\n      <td>SCHOEMAN, Roland</td>\n      <td>3</td>\n    </tr>\n    <tr>\n      <th>3</th>\n      <td>PEIRSOL, Aaron</td>\n      <td>3</td>\n    </tr>\n    <tr>\n      <th>4</th>\n      <td>CROCKER, Ian</td>\n      <td>3</td>\n    </tr>\n    <tr>\n      <th>5</th>\n      <td>KITAJIMA, Kosuke</td>\n      <td>3</td>\n    </tr>\n    <tr>\n      <th>6</th>\n      <td>HANSEN, Brendan</td>\n      <td>3</td>\n    </tr>\n    <tr>\n      <th>7</th>\n      <td>VAN DEN HOOGENBAND, Pieter</td>\n      <td>3</td>\n    </tr>\n    <tr>\n      <th>8</th>\n      <td>HACKETT, Grant</td>\n      <td>3</td>\n    </tr>\n    <tr>\n      <th>9</th>\n      <td>MORITA, Tomomi</td>\n      <td>2</td>\n    </tr>\n    <tr>\n      <th>10</th>\n      <td>LEZAK, Jason</td>\n      <td>2</td>\n    </tr>\n    <tr>\n      <th>11</th>\n      <td>ROGAN, Markus</td>\n      <td>2</td>\n    </tr>\n    <tr>\n      <th>12</th>\n      <td>KELLER, Klete</td>\n      <td>2</td>\n    </tr>\n    <tr>\n      <th>13</th>\n      <td>HALL, Gary Jr.</td>\n      <td>2</td>\n    </tr>\n    <tr>\n      <th>14</th>\n      <td>LOCHTE, Ryan</td>\n      <td>2</td>\n    </tr>\n    <tr>\n      <th>15</th>\n      <td>WALKER, Neil</td>\n      <td>2</td>\n    </tr>\n    <tr>\n      <th>16</th>\n      <td>YAMAMOTO, Takashi</td>\n      <td>2</td>\n    </tr>\n    <tr>\n      <th>17</th>\n      <td>SPRENGER, Nicholas</td>\n      <td>1</td>\n    </tr>\n    <tr>\n      <th>18</th>\n      <td>OKUMURA, Yoshihiro</td>\n      <td>1</td>\n    </tr>\n    <tr>\n      <th>19</th>\n      <td>PARRY, Stephen</td>\n      <td>1</td>\n    </tr>\n    <tr>\n      <th>20</th>\n      <td>PEARSON, Todd</td>\n      <td>1</td>\n    </tr>\n    <tr>\n      <th>21</th>\n      <td>ZASTROW, Mitja</td>\n      <td>1</td>\n    </tr>\n    <tr>\n      <th>22</th>\n      <td>PELLICIARI, Matteo</td>\n      <td>1</td>\n    </tr>\n    <tr>\n      <th>23</th>\n      <td>WOODWARD, Gabe</td>\n      <td>1</td>\n    </tr>\n    <tr>\n      <th>24</th>\n      <td>SERDINOV, Andriy</td>\n      <td>1</td>\n    </tr>\n    <tr>\n      <th>25</th>\n      <td>VENDT, Erik</td>\n      <td>1</td>\n    </tr>\n    <tr>\n      <th>26</th>\n      <td>ROSOLINO, Massimiliano</td>\n      <td>1</td>\n    </tr>\n    <tr>\n      <th>27</th>\n      <td>VEENS, Mark Hermanus</td>\n      <td>1</td>\n    </tr>\n    <tr>\n      <th>28</th>\n      <td>RUPPRATH, Thomas</td>\n      <td>1</td>\n    </tr>\n    <tr>\n      <th>29</th>\n      <td>VANDERKAAY, Peter</td>\n      <td>1</td>\n    </tr>\n    <tr>\n      <th>30</th>\n      <td>TOWNSEND, Darian</td>\n      <td>1</td>\n    </tr>\n    <tr>\n      <th>31</th>\n      <td>STEVENS, Craig</td>\n      <td>1</td>\n    </tr>\n    <tr>\n      <th>32</th>\n      <td>NEETHLING, Ryk</td>\n      <td>1</td>\n    </tr>\n    <tr>\n      <th>33</th>\n      <td>BOVELL, George</td>\n      <td>1</td>\n    </tr>\n    <tr>\n      <th>34</th>\n      <td>MEEUW, Helge</td>\n      <td>1</td>\n    </tr>\n    <tr>\n      <th>35</th>\n      <td>FLOREA, Razvan Ionut</td>\n      <td>1</td>\n    </tr>\n    <tr>\n      <th>36</th>\n      <td>CAPPELLAZZO, Federico</td>\n      <td>1</td>\n    </tr>\n    <tr>\n      <th>37</th>\n      <td>CERCATO, Simone</td>\n      <td>1</td>\n    </tr>\n    <tr>\n      <th>38</th>\n      <td>CONRAD, Lars</td>\n      <td>1</td>\n    </tr>\n    <tr>\n      <th>39</th>\n      <td>CSEH, Laszlo</td>\n      <td>1</td>\n    </tr>\n    <tr>\n      <th>40</th>\n      <td>DAVIES, David</td>\n      <td>1</td>\n    </tr>\n    <tr>\n      <th>41</th>\n      <td>DRAGANJA, Duje</td>\n      <td>1</td>\n    </tr>\n    <tr>\n      <th>42</th>\n      <td>DRIESEN, Steffen</td>\n      <td>1</td>\n    </tr>\n    <tr>\n      <th>43</th>\n      <td>DUBOSCQ, Hugues</td>\n      <td>1</td>\n    </tr>\n    <tr>\n      <th>44</th>\n      <td>DUSING, Nate</td>\n      <td>1</td>\n    </tr>\n    <tr>\n      <th>45</th>\n      <td>FERNS, Lyndon</td>\n      <td>1</td>\n    </tr>\n    <tr>\n      <th>46</th>\n      <td>GANGLOFF, Mark</td>\n      <td>1</td>\n    </tr>\n    <tr>\n      <th>47</th>\n      <td>MATKOVICH, Antony</td>\n      <td>1</td>\n    </tr>\n    <tr>\n      <th>48</th>\n      <td>GOLDBLATT, Scott</td>\n      <td>1</td>\n    </tr>\n    <tr>\n      <th>49</th>\n      <td>GYURTA, Daniel</td>\n      <td>1</td>\n    </tr>\n    <tr>\n      <th>50</th>\n      <td>JENSEN, Larsen</td>\n      <td>1</td>\n    </tr>\n    <tr>\n      <th>51</th>\n      <td>KENKHUIS, Johan</td>\n      <td>1</td>\n    </tr>\n    <tr>\n      <th>52</th>\n      <td>KETCHUM, Dan</td>\n      <td>1</td>\n    </tr>\n    <tr>\n      <th>53</th>\n      <td>KLIM, Michael</td>\n      <td>1</td>\n    </tr>\n    <tr>\n      <th>54</th>\n      <td>KRAYZELBURG, Lenny</td>\n      <td>1</td>\n    </tr>\n    <tr>\n      <th>55</th>\n      <td>KRUPPA, Jens</td>\n      <td>1</td>\n    </tr>\n    <tr>\n      <th>56</th>\n      <td>BREMBILLA, Emiliano</td>\n      <td>1</td>\n    </tr>\n    <tr>\n      <th>57</th>\n      <td>MAGNINI, Filippo</td>\n      <td>1</td>\n    </tr>\n    <tr>\n      <th>58</th>\n      <td>ZWERING, Klaas-Erik</td>\n      <td>1</td>\n    </tr>\n  </tbody>\n</table>\n</div>"
     },
     "execution_count": 3,
     "metadata": {},
     "output_type": "execute_result"
    }
   ],
   "source": [
    "men_2004"
   ],
   "metadata": {
    "collapsed": false,
    "ExecuteTime": {
     "end_time": "2024-03-17T20:16:02.653147800Z",
     "start_time": "2024-03-17T20:16:02.561508Z"
    }
   },
   "id": "82c5375d24c5b2e2",
   "execution_count": 3
  },
  {
   "cell_type": "code",
   "outputs": [],
   "source": [
    "men_2008 = pd.read_csv('men2008.csv')"
   ],
   "metadata": {
    "collapsed": false,
    "ExecuteTime": {
     "end_time": "2024-03-18T19:25:20.758980500Z",
     "start_time": "2024-03-18T19:25:20.735008700Z"
    }
   },
   "id": "bbbab7b6bf5a4c2b",
   "execution_count": 3
  },
  {
   "cell_type": "code",
   "outputs": [
    {
     "data": {
      "text/plain": "                Athlete  Medals\n0       PHELPS, Michael       8\n1          LOCHTE, Ryan       4\n2        BERNARD, Alain       3\n3       SULLIVAN, Eamon       3\n4   LAUTERSTEIN, Andrew       3\n..                  ...     ...\n57     LAGUNOV, Evgeniy       1\n58        BERENS, Ricky       1\n59         LURZ, Thomas       1\n60      MALLET, Gregory       1\n61           ZHANG, Lin       1\n\n[62 rows x 2 columns]",
      "text/html": "<div>\n<style scoped>\n    .dataframe tbody tr th:only-of-type {\n        vertical-align: middle;\n    }\n\n    .dataframe tbody tr th {\n        vertical-align: top;\n    }\n\n    .dataframe thead th {\n        text-align: right;\n    }\n</style>\n<table border=\"1\" class=\"dataframe\">\n  <thead>\n    <tr style=\"text-align: right;\">\n      <th></th>\n      <th>Athlete</th>\n      <th>Medals</th>\n    </tr>\n  </thead>\n  <tbody>\n    <tr>\n      <th>0</th>\n      <td>PHELPS, Michael</td>\n      <td>8</td>\n    </tr>\n    <tr>\n      <th>1</th>\n      <td>LOCHTE, Ryan</td>\n      <td>4</td>\n    </tr>\n    <tr>\n      <th>2</th>\n      <td>BERNARD, Alain</td>\n      <td>3</td>\n    </tr>\n    <tr>\n      <th>3</th>\n      <td>SULLIVAN, Eamon</td>\n      <td>3</td>\n    </tr>\n    <tr>\n      <th>4</th>\n      <td>LAUTERSTEIN, Andrew</td>\n      <td>3</td>\n    </tr>\n    <tr>\n      <th>...</th>\n      <td>...</td>\n      <td>...</td>\n    </tr>\n    <tr>\n      <th>57</th>\n      <td>LAGUNOV, Evgeniy</td>\n      <td>1</td>\n    </tr>\n    <tr>\n      <th>58</th>\n      <td>BERENS, Ricky</td>\n      <td>1</td>\n    </tr>\n    <tr>\n      <th>59</th>\n      <td>LURZ, Thomas</td>\n      <td>1</td>\n    </tr>\n    <tr>\n      <th>60</th>\n      <td>MALLET, Gregory</td>\n      <td>1</td>\n    </tr>\n    <tr>\n      <th>61</th>\n      <td>ZHANG, Lin</td>\n      <td>1</td>\n    </tr>\n  </tbody>\n</table>\n<p>62 rows × 2 columns</p>\n</div>"
     },
     "execution_count": 5,
     "metadata": {},
     "output_type": "execute_result"
    }
   ],
   "source": [
    "men_2008"
   ],
   "metadata": {
    "collapsed": false,
    "ExecuteTime": {
     "end_time": "2024-03-17T20:16:03.388608800Z",
     "start_time": "2024-03-17T20:16:03.301523900Z"
    }
   },
   "id": "376ab2f2ff816926",
   "execution_count": 5
  },
  {
   "cell_type": "markdown",
   "source": [
    "# We can use append method\n",
    "Parameters: other = means the other dataframe to append\n",
    "ignore_index = means to ignore the index of the other dataframe"
   ],
   "metadata": {
    "collapsed": false
   },
   "id": "1844b9d998343b16"
  },
  {
   "cell_type": "code",
   "outputs": [
    {
     "data": {
      "text/plain": "              Athlete  Medals\n0     PHELPS, Michael       8\n1         THORPE, Ian       4\n2    SCHOEMAN, Roland       3\n3      PEIRSOL, Aaron       3\n4        CROCKER, Ian       3\n..                ...     ...\n116  LAGUNOV, Evgeniy       1\n117     BERENS, Ricky       1\n118      LURZ, Thomas       1\n119   MALLET, Gregory       1\n120        ZHANG, Lin       1\n\n[121 rows x 2 columns]",
      "text/html": "<div>\n<style scoped>\n    .dataframe tbody tr th:only-of-type {\n        vertical-align: middle;\n    }\n\n    .dataframe tbody tr th {\n        vertical-align: top;\n    }\n\n    .dataframe thead th {\n        text-align: right;\n    }\n</style>\n<table border=\"1\" class=\"dataframe\">\n  <thead>\n    <tr style=\"text-align: right;\">\n      <th></th>\n      <th>Athlete</th>\n      <th>Medals</th>\n    </tr>\n  </thead>\n  <tbody>\n    <tr>\n      <th>0</th>\n      <td>PHELPS, Michael</td>\n      <td>8</td>\n    </tr>\n    <tr>\n      <th>1</th>\n      <td>THORPE, Ian</td>\n      <td>4</td>\n    </tr>\n    <tr>\n      <th>2</th>\n      <td>SCHOEMAN, Roland</td>\n      <td>3</td>\n    </tr>\n    <tr>\n      <th>3</th>\n      <td>PEIRSOL, Aaron</td>\n      <td>3</td>\n    </tr>\n    <tr>\n      <th>4</th>\n      <td>CROCKER, Ian</td>\n      <td>3</td>\n    </tr>\n    <tr>\n      <th>...</th>\n      <td>...</td>\n      <td>...</td>\n    </tr>\n    <tr>\n      <th>116</th>\n      <td>LAGUNOV, Evgeniy</td>\n      <td>1</td>\n    </tr>\n    <tr>\n      <th>117</th>\n      <td>BERENS, Ricky</td>\n      <td>1</td>\n    </tr>\n    <tr>\n      <th>118</th>\n      <td>LURZ, Thomas</td>\n      <td>1</td>\n    </tr>\n    <tr>\n      <th>119</th>\n      <td>MALLET, Gregory</td>\n      <td>1</td>\n    </tr>\n    <tr>\n      <th>120</th>\n      <td>ZHANG, Lin</td>\n      <td>1</td>\n    </tr>\n  </tbody>\n</table>\n<p>121 rows × 2 columns</p>\n</div>"
     },
     "execution_count": 6,
     "metadata": {},
     "output_type": "execute_result"
    }
   ],
   "source": [
    "men_2004._append(other=men_2008, ignore_index=True)"
   ],
   "metadata": {
    "collapsed": false,
    "ExecuteTime": {
     "end_time": "2024-03-17T20:16:03.971040700Z",
     "start_time": "2024-03-17T20:16:03.882352800Z"
    }
   },
   "id": "478550d7824029c8",
   "execution_count": 6
  },
  {
   "cell_type": "markdown",
   "source": [
    "# Or we can use concat method, this method is more flexible and can concat multiple data"
   ],
   "metadata": {
    "collapsed": false
   },
   "id": "52a16e966dcaddf1"
  },
  {
   "cell_type": "code",
   "outputs": [
    {
     "data": {
      "text/plain": "              Athlete  Medals\n0     PHELPS, Michael       8\n1         THORPE, Ian       4\n2    SCHOEMAN, Roland       3\n3      PEIRSOL, Aaron       3\n4        CROCKER, Ian       3\n..                ...     ...\n116  LAGUNOV, Evgeniy       1\n117     BERENS, Ricky       1\n118      LURZ, Thomas       1\n119   MALLET, Gregory       1\n120        ZHANG, Lin       1\n\n[121 rows x 2 columns]",
      "text/html": "<div>\n<style scoped>\n    .dataframe tbody tr th:only-of-type {\n        vertical-align: middle;\n    }\n\n    .dataframe tbody tr th {\n        vertical-align: top;\n    }\n\n    .dataframe thead th {\n        text-align: right;\n    }\n</style>\n<table border=\"1\" class=\"dataframe\">\n  <thead>\n    <tr style=\"text-align: right;\">\n      <th></th>\n      <th>Athlete</th>\n      <th>Medals</th>\n    </tr>\n  </thead>\n  <tbody>\n    <tr>\n      <th>0</th>\n      <td>PHELPS, Michael</td>\n      <td>8</td>\n    </tr>\n    <tr>\n      <th>1</th>\n      <td>THORPE, Ian</td>\n      <td>4</td>\n    </tr>\n    <tr>\n      <th>2</th>\n      <td>SCHOEMAN, Roland</td>\n      <td>3</td>\n    </tr>\n    <tr>\n      <th>3</th>\n      <td>PEIRSOL, Aaron</td>\n      <td>3</td>\n    </tr>\n    <tr>\n      <th>4</th>\n      <td>CROCKER, Ian</td>\n      <td>3</td>\n    </tr>\n    <tr>\n      <th>...</th>\n      <td>...</td>\n      <td>...</td>\n    </tr>\n    <tr>\n      <th>116</th>\n      <td>LAGUNOV, Evgeniy</td>\n      <td>1</td>\n    </tr>\n    <tr>\n      <th>117</th>\n      <td>BERENS, Ricky</td>\n      <td>1</td>\n    </tr>\n    <tr>\n      <th>118</th>\n      <td>LURZ, Thomas</td>\n      <td>1</td>\n    </tr>\n    <tr>\n      <th>119</th>\n      <td>MALLET, Gregory</td>\n      <td>1</td>\n    </tr>\n    <tr>\n      <th>120</th>\n      <td>ZHANG, Lin</td>\n      <td>1</td>\n    </tr>\n  </tbody>\n</table>\n<p>121 rows × 2 columns</p>\n</div>"
     },
     "execution_count": 7,
     "metadata": {},
     "output_type": "execute_result"
    }
   ],
   "source": [
    "pd.concat([men_2004, men_2008], ignore_index=True)"
   ],
   "metadata": {
    "collapsed": false,
    "ExecuteTime": {
     "end_time": "2024-03-17T20:16:04.999423Z",
     "start_time": "2024-03-17T20:16:04.926473Z"
    }
   },
   "id": "6109ff7b1c5258fe",
   "execution_count": 7
  },
  {
   "cell_type": "markdown",
   "source": [
    "Parameters: \n",
    "keys = means to add a 2 keys index to the dataframe, this is useful to identify the dataframes\n",
    "names = means to add a name to the keys index"
   ],
   "metadata": {
    "collapsed": false
   },
   "id": "d664a9b3d310ed80"
  },
  {
   "cell_type": "code",
   "outputs": [],
   "source": [
    "men = pd.concat([men_2004, men_2008], ignore_index=False, keys=[2004, 2008], names=['Year'])"
   ],
   "metadata": {
    "collapsed": false,
    "ExecuteTime": {
     "end_time": "2024-03-17T20:24:24.688972600Z",
     "start_time": "2024-03-17T20:24:24.661174400Z"
    }
   },
   "id": "923ddeab4a0f2e07",
   "execution_count": 9
  },
  {
   "cell_type": "code",
   "outputs": [
    {
     "data": {
      "text/plain": "                  Athlete  Medals\nYear                             \n2004 0    PHELPS, Michael       8\n     1        THORPE, Ian       4\n     2   SCHOEMAN, Roland       3\n     3     PEIRSOL, Aaron       3\n     4       CROCKER, Ian       3\n...                   ...     ...\n2008 57  LAGUNOV, Evgeniy       1\n     58     BERENS, Ricky       1\n     59      LURZ, Thomas       1\n     60   MALLET, Gregory       1\n     61        ZHANG, Lin       1\n\n[121 rows x 2 columns]",
      "text/html": "<div>\n<style scoped>\n    .dataframe tbody tr th:only-of-type {\n        vertical-align: middle;\n    }\n\n    .dataframe tbody tr th {\n        vertical-align: top;\n    }\n\n    .dataframe thead th {\n        text-align: right;\n    }\n</style>\n<table border=\"1\" class=\"dataframe\">\n  <thead>\n    <tr style=\"text-align: right;\">\n      <th></th>\n      <th></th>\n      <th>Athlete</th>\n      <th>Medals</th>\n    </tr>\n    <tr>\n      <th>Year</th>\n      <th></th>\n      <th></th>\n      <th></th>\n    </tr>\n  </thead>\n  <tbody>\n    <tr>\n      <th rowspan=\"5\" valign=\"top\">2004</th>\n      <th>0</th>\n      <td>PHELPS, Michael</td>\n      <td>8</td>\n    </tr>\n    <tr>\n      <th>1</th>\n      <td>THORPE, Ian</td>\n      <td>4</td>\n    </tr>\n    <tr>\n      <th>2</th>\n      <td>SCHOEMAN, Roland</td>\n      <td>3</td>\n    </tr>\n    <tr>\n      <th>3</th>\n      <td>PEIRSOL, Aaron</td>\n      <td>3</td>\n    </tr>\n    <tr>\n      <th>4</th>\n      <td>CROCKER, Ian</td>\n      <td>3</td>\n    </tr>\n    <tr>\n      <th>...</th>\n      <th>...</th>\n      <td>...</td>\n      <td>...</td>\n    </tr>\n    <tr>\n      <th rowspan=\"5\" valign=\"top\">2008</th>\n      <th>57</th>\n      <td>LAGUNOV, Evgeniy</td>\n      <td>1</td>\n    </tr>\n    <tr>\n      <th>58</th>\n      <td>BERENS, Ricky</td>\n      <td>1</td>\n    </tr>\n    <tr>\n      <th>59</th>\n      <td>LURZ, Thomas</td>\n      <td>1</td>\n    </tr>\n    <tr>\n      <th>60</th>\n      <td>MALLET, Gregory</td>\n      <td>1</td>\n    </tr>\n    <tr>\n      <th>61</th>\n      <td>ZHANG, Lin</td>\n      <td>1</td>\n    </tr>\n  </tbody>\n</table>\n<p>121 rows × 2 columns</p>\n</div>"
     },
     "execution_count": 11,
     "metadata": {},
     "output_type": "execute_result"
    }
   ],
   "source": [
    "men"
   ],
   "metadata": {
    "collapsed": false,
    "ExecuteTime": {
     "end_time": "2024-03-17T20:24:37.678747300Z",
     "start_time": "2024-03-17T20:24:37.657686500Z"
    }
   },
   "id": "f3469f8079a6e78d",
   "execution_count": 11
  },
  {
   "cell_type": "markdown",
   "source": [
    "We reset index because we don't need the keys index and drop the level because we don't need the level_1 column"
   ],
   "metadata": {
    "collapsed": false
   },
   "id": "cb0224ae61df1bdf"
  },
  {
   "cell_type": "code",
   "outputs": [
    {
     "data": {
      "text/plain": "     Year           Athlete  Medals\n0    2004   PHELPS, Michael       8\n1    2004       THORPE, Ian       4\n2    2004  SCHOEMAN, Roland       3\n3    2004    PEIRSOL, Aaron       3\n4    2004      CROCKER, Ian       3\n..    ...               ...     ...\n116  2008  LAGUNOV, Evgeniy       1\n117  2008     BERENS, Ricky       1\n118  2008      LURZ, Thomas       1\n119  2008   MALLET, Gregory       1\n120  2008        ZHANG, Lin       1\n\n[121 rows x 3 columns]",
      "text/html": "<div>\n<style scoped>\n    .dataframe tbody tr th:only-of-type {\n        vertical-align: middle;\n    }\n\n    .dataframe tbody tr th {\n        vertical-align: top;\n    }\n\n    .dataframe thead th {\n        text-align: right;\n    }\n</style>\n<table border=\"1\" class=\"dataframe\">\n  <thead>\n    <tr style=\"text-align: right;\">\n      <th></th>\n      <th>Year</th>\n      <th>Athlete</th>\n      <th>Medals</th>\n    </tr>\n  </thead>\n  <tbody>\n    <tr>\n      <th>0</th>\n      <td>2004</td>\n      <td>PHELPS, Michael</td>\n      <td>8</td>\n    </tr>\n    <tr>\n      <th>1</th>\n      <td>2004</td>\n      <td>THORPE, Ian</td>\n      <td>4</td>\n    </tr>\n    <tr>\n      <th>2</th>\n      <td>2004</td>\n      <td>SCHOEMAN, Roland</td>\n      <td>3</td>\n    </tr>\n    <tr>\n      <th>3</th>\n      <td>2004</td>\n      <td>PEIRSOL, Aaron</td>\n      <td>3</td>\n    </tr>\n    <tr>\n      <th>4</th>\n      <td>2004</td>\n      <td>CROCKER, Ian</td>\n      <td>3</td>\n    </tr>\n    <tr>\n      <th>...</th>\n      <td>...</td>\n      <td>...</td>\n      <td>...</td>\n    </tr>\n    <tr>\n      <th>116</th>\n      <td>2008</td>\n      <td>LAGUNOV, Evgeniy</td>\n      <td>1</td>\n    </tr>\n    <tr>\n      <th>117</th>\n      <td>2008</td>\n      <td>BERENS, Ricky</td>\n      <td>1</td>\n    </tr>\n    <tr>\n      <th>118</th>\n      <td>2008</td>\n      <td>LURZ, Thomas</td>\n      <td>1</td>\n    </tr>\n    <tr>\n      <th>119</th>\n      <td>2008</td>\n      <td>MALLET, Gregory</td>\n      <td>1</td>\n    </tr>\n    <tr>\n      <th>120</th>\n      <td>2008</td>\n      <td>ZHANG, Lin</td>\n      <td>1</td>\n    </tr>\n  </tbody>\n</table>\n<p>121 rows × 3 columns</p>\n</div>"
     },
     "execution_count": 13,
     "metadata": {},
     "output_type": "execute_result"
    }
   ],
   "source": [
    "men.reset_index().drop(columns='level_1')"
   ],
   "metadata": {
    "collapsed": false,
    "ExecuteTime": {
     "end_time": "2024-03-17T20:26:43.663498Z",
     "start_time": "2024-03-17T20:26:43.634099300Z"
    }
   },
   "id": "2cc29e3b99feef03",
   "execution_count": 13
  },
  {
   "cell_type": "code",
   "outputs": [
    {
     "data": {
      "text/plain": "            Athlete  Medals\n0   PHELPS, Michael       8\n1       THORPE, Ian       4\n2  SCHOEMAN, Roland       3\n3    PEIRSOL, Aaron       3\n4      CROCKER, Ian       3",
      "text/html": "<div>\n<style scoped>\n    .dataframe tbody tr th:only-of-type {\n        vertical-align: middle;\n    }\n\n    .dataframe tbody tr th {\n        vertical-align: top;\n    }\n\n    .dataframe thead th {\n        text-align: right;\n    }\n</style>\n<table border=\"1\" class=\"dataframe\">\n  <thead>\n    <tr style=\"text-align: right;\">\n      <th></th>\n      <th>Athlete</th>\n      <th>Medals</th>\n    </tr>\n  </thead>\n  <tbody>\n    <tr>\n      <th>0</th>\n      <td>PHELPS, Michael</td>\n      <td>8</td>\n    </tr>\n    <tr>\n      <th>1</th>\n      <td>THORPE, Ian</td>\n      <td>4</td>\n    </tr>\n    <tr>\n      <th>2</th>\n      <td>SCHOEMAN, Roland</td>\n      <td>3</td>\n    </tr>\n    <tr>\n      <th>3</th>\n      <td>PEIRSOL, Aaron</td>\n      <td>3</td>\n    </tr>\n    <tr>\n      <th>4</th>\n      <td>CROCKER, Ian</td>\n      <td>3</td>\n    </tr>\n  </tbody>\n</table>\n</div>"
     },
     "execution_count": 4,
     "metadata": {},
     "output_type": "execute_result"
    }
   ],
   "source": [
    "men_2004.head()"
   ],
   "metadata": {
    "collapsed": false,
    "ExecuteTime": {
     "end_time": "2024-03-18T19:26:39.617342200Z",
     "start_time": "2024-03-18T19:26:39.565162600Z"
    }
   },
   "id": "c1338fde2bd1f7e3",
   "execution_count": 4
  },
  {
   "cell_type": "code",
   "outputs": [
    {
     "data": {
      "text/plain": "               Athlete  Medals\n0      PHELPS, Michael       8\n1         LOCHTE, Ryan       4\n2       BERNARD, Alain       3\n3      SULLIVAN, Eamon       3\n4  LAUTERSTEIN, Andrew       3",
      "text/html": "<div>\n<style scoped>\n    .dataframe tbody tr th:only-of-type {\n        vertical-align: middle;\n    }\n\n    .dataframe tbody tr th {\n        vertical-align: top;\n    }\n\n    .dataframe thead th {\n        text-align: right;\n    }\n</style>\n<table border=\"1\" class=\"dataframe\">\n  <thead>\n    <tr style=\"text-align: right;\">\n      <th></th>\n      <th>Athlete</th>\n      <th>Medals</th>\n    </tr>\n  </thead>\n  <tbody>\n    <tr>\n      <th>0</th>\n      <td>PHELPS, Michael</td>\n      <td>8</td>\n    </tr>\n    <tr>\n      <th>1</th>\n      <td>LOCHTE, Ryan</td>\n      <td>4</td>\n    </tr>\n    <tr>\n      <th>2</th>\n      <td>BERNARD, Alain</td>\n      <td>3</td>\n    </tr>\n    <tr>\n      <th>3</th>\n      <td>SULLIVAN, Eamon</td>\n      <td>3</td>\n    </tr>\n    <tr>\n      <th>4</th>\n      <td>LAUTERSTEIN, Andrew</td>\n      <td>3</td>\n    </tr>\n  </tbody>\n</table>\n</div>"
     },
     "execution_count": 5,
     "metadata": {},
     "output_type": "execute_result"
    }
   ],
   "source": [
    "men_2008.head()"
   ],
   "metadata": {
    "collapsed": false,
    "ExecuteTime": {
     "end_time": "2024-03-18T19:26:51.111882200Z",
     "start_time": "2024-03-18T19:26:51.053457900Z"
    }
   },
   "id": "35a9658d575fb143",
   "execution_count": 5
  },
  {
   "cell_type": "markdown",
   "source": [
    "- We rename the columns and add a new column"
   ],
   "metadata": {
    "collapsed": false
   },
   "id": "bcd57a717ba1e284"
  },
  {
   "cell_type": "code",
   "outputs": [],
   "source": [
    "men_2004.columns = [\"Name\", \"Medal\"]"
   ],
   "metadata": {
    "collapsed": false,
    "ExecuteTime": {
     "end_time": "2024-03-18T19:29:04.163071Z",
     "start_time": "2024-03-18T19:29:04.137062400Z"
    }
   },
   "id": "1ffb4875efd521ec",
   "execution_count": 8
  },
  {
   "cell_type": "code",
   "outputs": [],
   "source": [
    "men_2004[\"Success\"] = \"yes\""
   ],
   "metadata": {
    "collapsed": false,
    "ExecuteTime": {
     "end_time": "2024-03-18T19:29:21.600969700Z",
     "start_time": "2024-03-18T19:29:21.577451900Z"
    }
   },
   "id": "868212c6b9bd7e75",
   "execution_count": 10
  },
  {
   "cell_type": "code",
   "outputs": [
    {
     "data": {
      "text/plain": "               Name  Medal Success\n0   PHELPS, Michael      8     yes\n1       THORPE, Ian      4     yes\n2  SCHOEMAN, Roland      3     yes\n3    PEIRSOL, Aaron      3     yes\n4      CROCKER, Ian      3     yes",
      "text/html": "<div>\n<style scoped>\n    .dataframe tbody tr th:only-of-type {\n        vertical-align: middle;\n    }\n\n    .dataframe tbody tr th {\n        vertical-align: top;\n    }\n\n    .dataframe thead th {\n        text-align: right;\n    }\n</style>\n<table border=\"1\" class=\"dataframe\">\n  <thead>\n    <tr style=\"text-align: right;\">\n      <th></th>\n      <th>Name</th>\n      <th>Medal</th>\n      <th>Success</th>\n    </tr>\n  </thead>\n  <tbody>\n    <tr>\n      <th>0</th>\n      <td>PHELPS, Michael</td>\n      <td>8</td>\n      <td>yes</td>\n    </tr>\n    <tr>\n      <th>1</th>\n      <td>THORPE, Ian</td>\n      <td>4</td>\n      <td>yes</td>\n    </tr>\n    <tr>\n      <th>2</th>\n      <td>SCHOEMAN, Roland</td>\n      <td>3</td>\n      <td>yes</td>\n    </tr>\n    <tr>\n      <th>3</th>\n      <td>PEIRSOL, Aaron</td>\n      <td>3</td>\n      <td>yes</td>\n    </tr>\n    <tr>\n      <th>4</th>\n      <td>CROCKER, Ian</td>\n      <td>3</td>\n      <td>yes</td>\n    </tr>\n  </tbody>\n</table>\n</div>"
     },
     "execution_count": 11,
     "metadata": {},
     "output_type": "execute_result"
    }
   ],
   "source": [
    "men_2004.head()"
   ],
   "metadata": {
    "collapsed": false,
    "ExecuteTime": {
     "end_time": "2024-03-18T19:29:26.333665600Z",
     "start_time": "2024-03-18T19:29:26.298910800Z"
    }
   },
   "id": "ab1a9a221a1ca0c5",
   "execution_count": 11
  },
  {
   "cell_type": "markdown",
   "source": [
    "## When  we concat the dataframes, the columns are aligned by the column names. If a column is not present in one of the dataframes, the value is NaN"
   ],
   "metadata": {
    "collapsed": false
   },
   "id": "41beaf63246d4ca3"
  },
  {
   "cell_type": "code",
   "outputs": [],
   "source": [
    "data_concat = pd.concat(\n",
    "    [men_2004, men_2008], ignore_index=False, keys=[2004, 2008], names=['Year']\n",
    ")"
   ],
   "metadata": {
    "collapsed": false,
    "ExecuteTime": {
     "end_time": "2024-03-18T19:32:44.585041100Z",
     "start_time": "2024-03-18T19:32:44.570914400Z"
    }
   },
   "id": "e679ace7e3e121e2",
   "execution_count": 16
  },
  {
   "cell_type": "code",
   "outputs": [
    {
     "data": {
      "text/plain": "                     Name  Medal Success           Athlete  Medals\nYear                                                              \n2004 0    PHELPS, Michael    8.0     yes               NaN     NaN\n     1        THORPE, Ian    4.0     yes               NaN     NaN\n     2   SCHOEMAN, Roland    3.0     yes               NaN     NaN\n     3     PEIRSOL, Aaron    3.0     yes               NaN     NaN\n     4       CROCKER, Ian    3.0     yes               NaN     NaN\n...                   ...    ...     ...               ...     ...\n2008 57               NaN    NaN     NaN  LAGUNOV, Evgeniy     1.0\n     58               NaN    NaN     NaN     BERENS, Ricky     1.0\n     59               NaN    NaN     NaN      LURZ, Thomas     1.0\n     60               NaN    NaN     NaN   MALLET, Gregory     1.0\n     61               NaN    NaN     NaN        ZHANG, Lin     1.0\n\n[121 rows x 5 columns]",
      "text/html": "<div>\n<style scoped>\n    .dataframe tbody tr th:only-of-type {\n        vertical-align: middle;\n    }\n\n    .dataframe tbody tr th {\n        vertical-align: top;\n    }\n\n    .dataframe thead th {\n        text-align: right;\n    }\n</style>\n<table border=\"1\" class=\"dataframe\">\n  <thead>\n    <tr style=\"text-align: right;\">\n      <th></th>\n      <th></th>\n      <th>Name</th>\n      <th>Medal</th>\n      <th>Success</th>\n      <th>Athlete</th>\n      <th>Medals</th>\n    </tr>\n    <tr>\n      <th>Year</th>\n      <th></th>\n      <th></th>\n      <th></th>\n      <th></th>\n      <th></th>\n      <th></th>\n    </tr>\n  </thead>\n  <tbody>\n    <tr>\n      <th rowspan=\"5\" valign=\"top\">2004</th>\n      <th>0</th>\n      <td>PHELPS, Michael</td>\n      <td>8.0</td>\n      <td>yes</td>\n      <td>NaN</td>\n      <td>NaN</td>\n    </tr>\n    <tr>\n      <th>1</th>\n      <td>THORPE, Ian</td>\n      <td>4.0</td>\n      <td>yes</td>\n      <td>NaN</td>\n      <td>NaN</td>\n    </tr>\n    <tr>\n      <th>2</th>\n      <td>SCHOEMAN, Roland</td>\n      <td>3.0</td>\n      <td>yes</td>\n      <td>NaN</td>\n      <td>NaN</td>\n    </tr>\n    <tr>\n      <th>3</th>\n      <td>PEIRSOL, Aaron</td>\n      <td>3.0</td>\n      <td>yes</td>\n      <td>NaN</td>\n      <td>NaN</td>\n    </tr>\n    <tr>\n      <th>4</th>\n      <td>CROCKER, Ian</td>\n      <td>3.0</td>\n      <td>yes</td>\n      <td>NaN</td>\n      <td>NaN</td>\n    </tr>\n    <tr>\n      <th>...</th>\n      <th>...</th>\n      <td>...</td>\n      <td>...</td>\n      <td>...</td>\n      <td>...</td>\n      <td>...</td>\n    </tr>\n    <tr>\n      <th rowspan=\"5\" valign=\"top\">2008</th>\n      <th>57</th>\n      <td>NaN</td>\n      <td>NaN</td>\n      <td>NaN</td>\n      <td>LAGUNOV, Evgeniy</td>\n      <td>1.0</td>\n    </tr>\n    <tr>\n      <th>58</th>\n      <td>NaN</td>\n      <td>NaN</td>\n      <td>NaN</td>\n      <td>BERENS, Ricky</td>\n      <td>1.0</td>\n    </tr>\n    <tr>\n      <th>59</th>\n      <td>NaN</td>\n      <td>NaN</td>\n      <td>NaN</td>\n      <td>LURZ, Thomas</td>\n      <td>1.0</td>\n    </tr>\n    <tr>\n      <th>60</th>\n      <td>NaN</td>\n      <td>NaN</td>\n      <td>NaN</td>\n      <td>MALLET, Gregory</td>\n      <td>1.0</td>\n    </tr>\n    <tr>\n      <th>61</th>\n      <td>NaN</td>\n      <td>NaN</td>\n      <td>NaN</td>\n      <td>ZHANG, Lin</td>\n      <td>1.0</td>\n    </tr>\n  </tbody>\n</table>\n<p>121 rows × 5 columns</p>\n</div>"
     },
     "execution_count": 18,
     "metadata": {},
     "output_type": "execute_result"
    }
   ],
   "source": [
    "data_concat"
   ],
   "metadata": {
    "collapsed": false,
    "ExecuteTime": {
     "end_time": "2024-03-18T19:32:56.006915Z",
     "start_time": "2024-03-18T19:32:55.945407400Z"
    }
   },
   "id": "db8e71055ed6ed3f",
   "execution_count": 18
  },
  {
   "cell_type": "code",
   "outputs": [
    {
     "data": {
      "text/plain": "        Name  Medal Success           Athlete  Medals\nYear                                                 \n2008 57  NaN    NaN     NaN  LAGUNOV, Evgeniy     1.0\n     58  NaN    NaN     NaN     BERENS, Ricky     1.0\n     59  NaN    NaN     NaN      LURZ, Thomas     1.0\n     60  NaN    NaN     NaN   MALLET, Gregory     1.0\n     61  NaN    NaN     NaN        ZHANG, Lin     1.0",
      "text/html": "<div>\n<style scoped>\n    .dataframe tbody tr th:only-of-type {\n        vertical-align: middle;\n    }\n\n    .dataframe tbody tr th {\n        vertical-align: top;\n    }\n\n    .dataframe thead th {\n        text-align: right;\n    }\n</style>\n<table border=\"1\" class=\"dataframe\">\n  <thead>\n    <tr style=\"text-align: right;\">\n      <th></th>\n      <th></th>\n      <th>Name</th>\n      <th>Medal</th>\n      <th>Success</th>\n      <th>Athlete</th>\n      <th>Medals</th>\n    </tr>\n    <tr>\n      <th>Year</th>\n      <th></th>\n      <th></th>\n      <th></th>\n      <th></th>\n      <th></th>\n      <th></th>\n    </tr>\n  </thead>\n  <tbody>\n    <tr>\n      <th rowspan=\"5\" valign=\"top\">2008</th>\n      <th>57</th>\n      <td>NaN</td>\n      <td>NaN</td>\n      <td>NaN</td>\n      <td>LAGUNOV, Evgeniy</td>\n      <td>1.0</td>\n    </tr>\n    <tr>\n      <th>58</th>\n      <td>NaN</td>\n      <td>NaN</td>\n      <td>NaN</td>\n      <td>BERENS, Ricky</td>\n      <td>1.0</td>\n    </tr>\n    <tr>\n      <th>59</th>\n      <td>NaN</td>\n      <td>NaN</td>\n      <td>NaN</td>\n      <td>LURZ, Thomas</td>\n      <td>1.0</td>\n    </tr>\n    <tr>\n      <th>60</th>\n      <td>NaN</td>\n      <td>NaN</td>\n      <td>NaN</td>\n      <td>MALLET, Gregory</td>\n      <td>1.0</td>\n    </tr>\n    <tr>\n      <th>61</th>\n      <td>NaN</td>\n      <td>NaN</td>\n      <td>NaN</td>\n      <td>ZHANG, Lin</td>\n      <td>1.0</td>\n    </tr>\n  </tbody>\n</table>\n</div>"
     },
     "execution_count": 17,
     "metadata": {},
     "output_type": "execute_result"
    }
   ],
   "source": [
    "data_concat.tail()"
   ],
   "metadata": {
    "collapsed": false,
    "ExecuteTime": {
     "end_time": "2024-03-18T19:32:46.921493600Z",
     "start_time": "2024-03-18T19:32:46.876900900Z"
    }
   },
   "id": "bbb2b6b3cfa4b18a",
   "execution_count": 17
  },
  {
   "cell_type": "code",
   "outputs": [],
   "source": [],
   "metadata": {
    "collapsed": false
   },
   "id": "ba558ce1e7231396"
  }
 ],
 "metadata": {
  "kernelspec": {
   "display_name": "Python 3",
   "language": "python",
   "name": "python3"
  },
  "language_info": {
   "codemirror_mode": {
    "name": "ipython",
    "version": 2
   },
   "file_extension": ".py",
   "mimetype": "text/x-python",
   "name": "python",
   "nbconvert_exporter": "python",
   "pygments_lexer": "ipython2",
   "version": "2.7.6"
  }
 },
 "nbformat": 4,
 "nbformat_minor": 5
}
