{
 "cells": [
  {
   "cell_type": "code",
   "execution_count": 1,
   "id": "initial_id",
   "metadata": {
    "collapsed": true,
    "ExecuteTime": {
     "end_time": "2024-05-08T17:28:54.153604400Z",
     "start_time": "2024-05-08T17:28:53.645912600Z"
    }
   },
   "outputs": [],
   "source": [
    "import pandas as pd"
   ]
  },
  {
   "cell_type": "markdown",
   "source": [
    "# Joining on different Column Labels & Indexes"
   ],
   "metadata": {
    "collapsed": false
   },
   "id": "c39df9dd14be7ea1"
  },
  {
   "cell_type": "code",
   "outputs": [],
   "source": [
    "men2004= pd.read_csv('../../Data/men2004.csv')\n",
    "men2008= pd.read_csv('../../Data/men2008.csv')"
   ],
   "metadata": {
    "collapsed": false,
    "ExecuteTime": {
     "end_time": "2024-05-08T17:28:57.018715400Z",
     "start_time": "2024-05-08T17:28:56.987395Z"
    }
   },
   "id": "c0a73289036363a7",
   "execution_count": 2
  },
  {
   "cell_type": "code",
   "outputs": [
    {
     "data": {
      "text/plain": "            Athlete  Medals\n0   PHELPS, Michael       8\n1       THORPE, Ian       4\n2  SCHOEMAN, Roland       3\n3    PEIRSOL, Aaron       3\n4      CROCKER, Ian       3",
      "text/html": "<div>\n<style scoped>\n    .dataframe tbody tr th:only-of-type {\n        vertical-align: middle;\n    }\n\n    .dataframe tbody tr th {\n        vertical-align: top;\n    }\n\n    .dataframe thead th {\n        text-align: right;\n    }\n</style>\n<table border=\"1\" class=\"dataframe\">\n  <thead>\n    <tr style=\"text-align: right;\">\n      <th></th>\n      <th>Athlete</th>\n      <th>Medals</th>\n    </tr>\n  </thead>\n  <tbody>\n    <tr>\n      <th>0</th>\n      <td>PHELPS, Michael</td>\n      <td>8</td>\n    </tr>\n    <tr>\n      <th>1</th>\n      <td>THORPE, Ian</td>\n      <td>4</td>\n    </tr>\n    <tr>\n      <th>2</th>\n      <td>SCHOEMAN, Roland</td>\n      <td>3</td>\n    </tr>\n    <tr>\n      <th>3</th>\n      <td>PEIRSOL, Aaron</td>\n      <td>3</td>\n    </tr>\n    <tr>\n      <th>4</th>\n      <td>CROCKER, Ian</td>\n      <td>3</td>\n    </tr>\n  </tbody>\n</table>\n</div>"
     },
     "execution_count": 58,
     "metadata": {},
     "output_type": "execute_result"
    }
   ],
   "source": [
    "men2004.head()"
   ],
   "metadata": {
    "collapsed": false,
    "ExecuteTime": {
     "end_time": "2024-03-20T12:32:47.538003400Z",
     "start_time": "2024-03-20T12:32:47.527804900Z"
    }
   },
   "id": "b4762c6cf0303346",
   "execution_count": 58
  },
  {
   "cell_type": "code",
   "outputs": [
    {
     "data": {
      "text/plain": "               Athlete  Medals\n0      PHELPS, Michael       8\n1         LOCHTE, Ryan       4\n2       BERNARD, Alain       3\n3      SULLIVAN, Eamon       3\n4  LAUTERSTEIN, Andrew       3",
      "text/html": "<div>\n<style scoped>\n    .dataframe tbody tr th:only-of-type {\n        vertical-align: middle;\n    }\n\n    .dataframe tbody tr th {\n        vertical-align: top;\n    }\n\n    .dataframe thead th {\n        text-align: right;\n    }\n</style>\n<table border=\"1\" class=\"dataframe\">\n  <thead>\n    <tr style=\"text-align: right;\">\n      <th></th>\n      <th>Athlete</th>\n      <th>Medals</th>\n    </tr>\n  </thead>\n  <tbody>\n    <tr>\n      <th>0</th>\n      <td>PHELPS, Michael</td>\n      <td>8</td>\n    </tr>\n    <tr>\n      <th>1</th>\n      <td>LOCHTE, Ryan</td>\n      <td>4</td>\n    </tr>\n    <tr>\n      <th>2</th>\n      <td>BERNARD, Alain</td>\n      <td>3</td>\n    </tr>\n    <tr>\n      <th>3</th>\n      <td>SULLIVAN, Eamon</td>\n      <td>3</td>\n    </tr>\n    <tr>\n      <th>4</th>\n      <td>LAUTERSTEIN, Andrew</td>\n      <td>3</td>\n    </tr>\n  </tbody>\n</table>\n</div>"
     },
     "execution_count": 59,
     "metadata": {},
     "output_type": "execute_result"
    }
   ],
   "source": [
    "men2008.head()"
   ],
   "metadata": {
    "collapsed": false,
    "ExecuteTime": {
     "end_time": "2024-03-20T12:32:49.726347800Z",
     "start_time": "2024-03-20T12:32:49.703842Z"
    }
   },
   "id": "787b342226c7ff7",
   "execution_count": 59
  },
  {
   "cell_type": "code",
   "outputs": [
    {
     "data": {
      "text/plain": "                          Name  Medals\n0              PHELPS, Michael       8\n1                  THORPE, Ian       4\n2             SCHOEMAN, Roland       3\n3               PEIRSOL, Aaron       3\n4                 CROCKER, Ian       3\n5             KITAJIMA, Kosuke       3\n6              HANSEN, Brendan       3\n7   VAN DEN HOOGENBAND, Pieter       3\n8               HACKETT, Grant       3\n9               MORITA, Tomomi       2\n10                LEZAK, Jason       2\n11               ROGAN, Markus       2\n12               KELLER, Klete       2\n13              HALL, Gary Jr.       2\n14                LOCHTE, Ryan       2\n15                WALKER, Neil       2\n16           YAMAMOTO, Takashi       2\n17          SPRENGER, Nicholas       1\n18          OKUMURA, Yoshihiro       1\n19              PARRY, Stephen       1\n20               PEARSON, Todd       1\n21              ZASTROW, Mitja       1\n22          PELLICIARI, Matteo       1\n23              WOODWARD, Gabe       1\n24            SERDINOV, Andriy       1\n25                 VENDT, Erik       1\n26      ROSOLINO, Massimiliano       1\n27        VEENS, Mark Hermanus       1\n28            RUPPRATH, Thomas       1\n29           VANDERKAAY, Peter       1\n30            TOWNSEND, Darian       1\n31              STEVENS, Craig       1\n32              NEETHLING, Ryk       1\n33              BOVELL, George       1\n34                MEEUW, Helge       1\n35        FLOREA, Razvan Ionut       1\n36       CAPPELLAZZO, Federico       1\n37             CERCATO, Simone       1\n38                CONRAD, Lars       1\n39                CSEH, Laszlo       1\n40               DAVIES, David       1\n41              DRAGANJA, Duje       1\n42            DRIESEN, Steffen       1\n43             DUBOSCQ, Hugues       1\n44                DUSING, Nate       1\n45               FERNS, Lyndon       1\n46              GANGLOFF, Mark       1\n47           MATKOVICH, Antony       1\n48            GOLDBLATT, Scott       1\n49              GYURTA, Daniel       1\n50              JENSEN, Larsen       1\n51             KENKHUIS, Johan       1\n52                KETCHUM, Dan       1\n53               KLIM, Michael       1\n54          KRAYZELBURG, Lenny       1\n55                KRUPPA, Jens       1\n56         BREMBILLA, Emiliano       1\n57            MAGNINI, Filippo       1\n58         ZWERING, Klaas-Erik       1",
      "text/html": "<div>\n<style scoped>\n    .dataframe tbody tr th:only-of-type {\n        vertical-align: middle;\n    }\n\n    .dataframe tbody tr th {\n        vertical-align: top;\n    }\n\n    .dataframe thead th {\n        text-align: right;\n    }\n</style>\n<table border=\"1\" class=\"dataframe\">\n  <thead>\n    <tr style=\"text-align: right;\">\n      <th></th>\n      <th>Name</th>\n      <th>Medals</th>\n    </tr>\n  </thead>\n  <tbody>\n    <tr>\n      <th>0</th>\n      <td>PHELPS, Michael</td>\n      <td>8</td>\n    </tr>\n    <tr>\n      <th>1</th>\n      <td>THORPE, Ian</td>\n      <td>4</td>\n    </tr>\n    <tr>\n      <th>2</th>\n      <td>SCHOEMAN, Roland</td>\n      <td>3</td>\n    </tr>\n    <tr>\n      <th>3</th>\n      <td>PEIRSOL, Aaron</td>\n      <td>3</td>\n    </tr>\n    <tr>\n      <th>4</th>\n      <td>CROCKER, Ian</td>\n      <td>3</td>\n    </tr>\n    <tr>\n      <th>5</th>\n      <td>KITAJIMA, Kosuke</td>\n      <td>3</td>\n    </tr>\n    <tr>\n      <th>6</th>\n      <td>HANSEN, Brendan</td>\n      <td>3</td>\n    </tr>\n    <tr>\n      <th>7</th>\n      <td>VAN DEN HOOGENBAND, Pieter</td>\n      <td>3</td>\n    </tr>\n    <tr>\n      <th>8</th>\n      <td>HACKETT, Grant</td>\n      <td>3</td>\n    </tr>\n    <tr>\n      <th>9</th>\n      <td>MORITA, Tomomi</td>\n      <td>2</td>\n    </tr>\n    <tr>\n      <th>10</th>\n      <td>LEZAK, Jason</td>\n      <td>2</td>\n    </tr>\n    <tr>\n      <th>11</th>\n      <td>ROGAN, Markus</td>\n      <td>2</td>\n    </tr>\n    <tr>\n      <th>12</th>\n      <td>KELLER, Klete</td>\n      <td>2</td>\n    </tr>\n    <tr>\n      <th>13</th>\n      <td>HALL, Gary Jr.</td>\n      <td>2</td>\n    </tr>\n    <tr>\n      <th>14</th>\n      <td>LOCHTE, Ryan</td>\n      <td>2</td>\n    </tr>\n    <tr>\n      <th>15</th>\n      <td>WALKER, Neil</td>\n      <td>2</td>\n    </tr>\n    <tr>\n      <th>16</th>\n      <td>YAMAMOTO, Takashi</td>\n      <td>2</td>\n    </tr>\n    <tr>\n      <th>17</th>\n      <td>SPRENGER, Nicholas</td>\n      <td>1</td>\n    </tr>\n    <tr>\n      <th>18</th>\n      <td>OKUMURA, Yoshihiro</td>\n      <td>1</td>\n    </tr>\n    <tr>\n      <th>19</th>\n      <td>PARRY, Stephen</td>\n      <td>1</td>\n    </tr>\n    <tr>\n      <th>20</th>\n      <td>PEARSON, Todd</td>\n      <td>1</td>\n    </tr>\n    <tr>\n      <th>21</th>\n      <td>ZASTROW, Mitja</td>\n      <td>1</td>\n    </tr>\n    <tr>\n      <th>22</th>\n      <td>PELLICIARI, Matteo</td>\n      <td>1</td>\n    </tr>\n    <tr>\n      <th>23</th>\n      <td>WOODWARD, Gabe</td>\n      <td>1</td>\n    </tr>\n    <tr>\n      <th>24</th>\n      <td>SERDINOV, Andriy</td>\n      <td>1</td>\n    </tr>\n    <tr>\n      <th>25</th>\n      <td>VENDT, Erik</td>\n      <td>1</td>\n    </tr>\n    <tr>\n      <th>26</th>\n      <td>ROSOLINO, Massimiliano</td>\n      <td>1</td>\n    </tr>\n    <tr>\n      <th>27</th>\n      <td>VEENS, Mark Hermanus</td>\n      <td>1</td>\n    </tr>\n    <tr>\n      <th>28</th>\n      <td>RUPPRATH, Thomas</td>\n      <td>1</td>\n    </tr>\n    <tr>\n      <th>29</th>\n      <td>VANDERKAAY, Peter</td>\n      <td>1</td>\n    </tr>\n    <tr>\n      <th>30</th>\n      <td>TOWNSEND, Darian</td>\n      <td>1</td>\n    </tr>\n    <tr>\n      <th>31</th>\n      <td>STEVENS, Craig</td>\n      <td>1</td>\n    </tr>\n    <tr>\n      <th>32</th>\n      <td>NEETHLING, Ryk</td>\n      <td>1</td>\n    </tr>\n    <tr>\n      <th>33</th>\n      <td>BOVELL, George</td>\n      <td>1</td>\n    </tr>\n    <tr>\n      <th>34</th>\n      <td>MEEUW, Helge</td>\n      <td>1</td>\n    </tr>\n    <tr>\n      <th>35</th>\n      <td>FLOREA, Razvan Ionut</td>\n      <td>1</td>\n    </tr>\n    <tr>\n      <th>36</th>\n      <td>CAPPELLAZZO, Federico</td>\n      <td>1</td>\n    </tr>\n    <tr>\n      <th>37</th>\n      <td>CERCATO, Simone</td>\n      <td>1</td>\n    </tr>\n    <tr>\n      <th>38</th>\n      <td>CONRAD, Lars</td>\n      <td>1</td>\n    </tr>\n    <tr>\n      <th>39</th>\n      <td>CSEH, Laszlo</td>\n      <td>1</td>\n    </tr>\n    <tr>\n      <th>40</th>\n      <td>DAVIES, David</td>\n      <td>1</td>\n    </tr>\n    <tr>\n      <th>41</th>\n      <td>DRAGANJA, Duje</td>\n      <td>1</td>\n    </tr>\n    <tr>\n      <th>42</th>\n      <td>DRIESEN, Steffen</td>\n      <td>1</td>\n    </tr>\n    <tr>\n      <th>43</th>\n      <td>DUBOSCQ, Hugues</td>\n      <td>1</td>\n    </tr>\n    <tr>\n      <th>44</th>\n      <td>DUSING, Nate</td>\n      <td>1</td>\n    </tr>\n    <tr>\n      <th>45</th>\n      <td>FERNS, Lyndon</td>\n      <td>1</td>\n    </tr>\n    <tr>\n      <th>46</th>\n      <td>GANGLOFF, Mark</td>\n      <td>1</td>\n    </tr>\n    <tr>\n      <th>47</th>\n      <td>MATKOVICH, Antony</td>\n      <td>1</td>\n    </tr>\n    <tr>\n      <th>48</th>\n      <td>GOLDBLATT, Scott</td>\n      <td>1</td>\n    </tr>\n    <tr>\n      <th>49</th>\n      <td>GYURTA, Daniel</td>\n      <td>1</td>\n    </tr>\n    <tr>\n      <th>50</th>\n      <td>JENSEN, Larsen</td>\n      <td>1</td>\n    </tr>\n    <tr>\n      <th>51</th>\n      <td>KENKHUIS, Johan</td>\n      <td>1</td>\n    </tr>\n    <tr>\n      <th>52</th>\n      <td>KETCHUM, Dan</td>\n      <td>1</td>\n    </tr>\n    <tr>\n      <th>53</th>\n      <td>KLIM, Michael</td>\n      <td>1</td>\n    </tr>\n    <tr>\n      <th>54</th>\n      <td>KRAYZELBURG, Lenny</td>\n      <td>1</td>\n    </tr>\n    <tr>\n      <th>55</th>\n      <td>KRUPPA, Jens</td>\n      <td>1</td>\n    </tr>\n    <tr>\n      <th>56</th>\n      <td>BREMBILLA, Emiliano</td>\n      <td>1</td>\n    </tr>\n    <tr>\n      <th>57</th>\n      <td>MAGNINI, Filippo</td>\n      <td>1</td>\n    </tr>\n    <tr>\n      <th>58</th>\n      <td>ZWERING, Klaas-Erik</td>\n      <td>1</td>\n    </tr>\n  </tbody>\n</table>\n</div>"
     },
     "execution_count": 64,
     "metadata": {},
     "output_type": "execute_result"
    }
   ],
   "source": [
    "men2004.columns = [\"Name\", \"Medals\"]\n",
    "men2004"
   ],
   "metadata": {
    "collapsed": false,
    "ExecuteTime": {
     "end_time": "2024-03-20T12:34:55.678431500Z",
     "start_time": "2024-03-20T12:34:55.668565300Z"
    }
   },
   "id": "f72c44dee0db6043",
   "execution_count": 64
  },
  {
   "cell_type": "markdown",
   "source": [],
   "metadata": {
    "collapsed": false
   },
   "id": "a778e55b829c6bb8"
  },
  {
   "cell_type": "markdown",
   "source": [
    "## We change  tha column 'Athlete' to ' Name' don't use on='Athlete' in the merge because the column is not exist in both dataframes. \n",
    "## We use left_on and right_on to specify the columns to join on.\n",
    "## First Df is men2004 means this df is left df and second df is men2008 means this df is right df.\n",
    "## In left side we have 'Name' column and in right side we have 'Athlete' column.\n"
   ],
   "metadata": {
    "collapsed": false
   },
   "id": "395e2e6ea6e7d0fe"
  },
  {
   "cell_type": "code",
   "outputs": [
    {
     "data": {
      "text/plain": "                    Name  Medals-2004              Athlete  Medals_2008  \\\n0                    NaN          NaN       ADRIAN, Nathan          1.0   \n1                    NaN          NaN        BERENS, Ricky          1.0   \n2                    NaN          NaN       BERNARD, Alain          3.0   \n3                    NaN          NaN  BOUSQUET, Frederick          1.0   \n4         BOVELL, George          1.0                  NaN          NaN   \n..                   ...          ...                  ...          ...   \n100       WOODWARD, Gabe          1.0                  NaN          NaN   \n101    YAMAMOTO, Takashi          2.0                  NaN          NaN   \n102       ZASTROW, Mitja          1.0                  NaN          NaN   \n103                  NaN          NaN           ZHANG, Lin          1.0   \n104  ZWERING, Klaas-Erik          1.0                  NaN          NaN   \n\n         _merge  \n0    right_only  \n1    right_only  \n2    right_only  \n3    right_only  \n4     left_only  \n..          ...  \n100   left_only  \n101   left_only  \n102   left_only  \n103  right_only  \n104   left_only  \n\n[105 rows x 5 columns]",
      "text/html": "<div>\n<style scoped>\n    .dataframe tbody tr th:only-of-type {\n        vertical-align: middle;\n    }\n\n    .dataframe tbody tr th {\n        vertical-align: top;\n    }\n\n    .dataframe thead th {\n        text-align: right;\n    }\n</style>\n<table border=\"1\" class=\"dataframe\">\n  <thead>\n    <tr style=\"text-align: right;\">\n      <th></th>\n      <th>Name</th>\n      <th>Medals-2004</th>\n      <th>Athlete</th>\n      <th>Medals_2008</th>\n      <th>_merge</th>\n    </tr>\n  </thead>\n  <tbody>\n    <tr>\n      <th>0</th>\n      <td>NaN</td>\n      <td>NaN</td>\n      <td>ADRIAN, Nathan</td>\n      <td>1.0</td>\n      <td>right_only</td>\n    </tr>\n    <tr>\n      <th>1</th>\n      <td>NaN</td>\n      <td>NaN</td>\n      <td>BERENS, Ricky</td>\n      <td>1.0</td>\n      <td>right_only</td>\n    </tr>\n    <tr>\n      <th>2</th>\n      <td>NaN</td>\n      <td>NaN</td>\n      <td>BERNARD, Alain</td>\n      <td>3.0</td>\n      <td>right_only</td>\n    </tr>\n    <tr>\n      <th>3</th>\n      <td>NaN</td>\n      <td>NaN</td>\n      <td>BOUSQUET, Frederick</td>\n      <td>1.0</td>\n      <td>right_only</td>\n    </tr>\n    <tr>\n      <th>4</th>\n      <td>BOVELL, George</td>\n      <td>1.0</td>\n      <td>NaN</td>\n      <td>NaN</td>\n      <td>left_only</td>\n    </tr>\n    <tr>\n      <th>...</th>\n      <td>...</td>\n      <td>...</td>\n      <td>...</td>\n      <td>...</td>\n      <td>...</td>\n    </tr>\n    <tr>\n      <th>100</th>\n      <td>WOODWARD, Gabe</td>\n      <td>1.0</td>\n      <td>NaN</td>\n      <td>NaN</td>\n      <td>left_only</td>\n    </tr>\n    <tr>\n      <th>101</th>\n      <td>YAMAMOTO, Takashi</td>\n      <td>2.0</td>\n      <td>NaN</td>\n      <td>NaN</td>\n      <td>left_only</td>\n    </tr>\n    <tr>\n      <th>102</th>\n      <td>ZASTROW, Mitja</td>\n      <td>1.0</td>\n      <td>NaN</td>\n      <td>NaN</td>\n      <td>left_only</td>\n    </tr>\n    <tr>\n      <th>103</th>\n      <td>NaN</td>\n      <td>NaN</td>\n      <td>ZHANG, Lin</td>\n      <td>1.0</td>\n      <td>right_only</td>\n    </tr>\n    <tr>\n      <th>104</th>\n      <td>ZWERING, Klaas-Erik</td>\n      <td>1.0</td>\n      <td>NaN</td>\n      <td>NaN</td>\n      <td>left_only</td>\n    </tr>\n  </tbody>\n</table>\n<p>105 rows × 5 columns</p>\n</div>"
     },
     "execution_count": 46,
     "metadata": {},
     "output_type": "execute_result"
    }
   ],
   "source": [
    "men0408 = men2004.merge(men2008, how='outer', left_on='Name', right_on='Athlete', suffixes=['-2004', '_2008'], indicator=True)\n",
    "men0408"
   ],
   "metadata": {
    "collapsed": false,
    "ExecuteTime": {
     "end_time": "2024-03-20T12:26:21.313137900Z",
     "start_time": "2024-03-20T12:26:21.279313200Z"
    }
   },
   "id": "faec83deda780af7",
   "execution_count": 46
  },
  {
   "cell_type": "markdown",
   "source": [
    "And now fill the missing values in the 'Name' column with the values in the 'Athlete' column ( we want a column with all names, not a mix of names and NaNs)."
   ],
   "metadata": {
    "collapsed": false
   },
   "id": "d3e2f7c40deb8b9f"
  },
  {
   "cell_type": "code",
   "outputs": [],
   "source": [
    "men0408.Name.fillna(men0408.Athlete, inplace=True)"
   ],
   "metadata": {
    "collapsed": false,
    "ExecuteTime": {
     "end_time": "2024-03-20T12:16:12.213506800Z",
     "start_time": "2024-03-20T12:16:12.208787600Z"
    }
   },
   "id": "3537c9d1e59b64e0",
   "execution_count": 42
  },
  {
   "cell_type": "code",
   "outputs": [
    {
     "data": {
      "text/plain": "                    Name  Medals-2004              Athlete  Medals_2008  \\\n0         ADRIAN, Nathan          NaN       ADRIAN, Nathan          1.0   \n1          BERENS, Ricky          NaN        BERENS, Ricky          1.0   \n2         BERNARD, Alain          NaN       BERNARD, Alain          3.0   \n3    BOUSQUET, Frederick          NaN  BOUSQUET, Frederick          1.0   \n4         BOVELL, George          1.0                  NaN          NaN   \n..                   ...          ...                  ...          ...   \n100       WOODWARD, Gabe          1.0                  NaN          NaN   \n101    YAMAMOTO, Takashi          2.0                  NaN          NaN   \n102       ZASTROW, Mitja          1.0                  NaN          NaN   \n103           ZHANG, Lin          NaN           ZHANG, Lin          1.0   \n104  ZWERING, Klaas-Erik          1.0                  NaN          NaN   \n\n         _merge  \n0    right_only  \n1    right_only  \n2    right_only  \n3    right_only  \n4     left_only  \n..          ...  \n100   left_only  \n101   left_only  \n102   left_only  \n103  right_only  \n104   left_only  \n\n[105 rows x 5 columns]",
      "text/html": "<div>\n<style scoped>\n    .dataframe tbody tr th:only-of-type {\n        vertical-align: middle;\n    }\n\n    .dataframe tbody tr th {\n        vertical-align: top;\n    }\n\n    .dataframe thead th {\n        text-align: right;\n    }\n</style>\n<table border=\"1\" class=\"dataframe\">\n  <thead>\n    <tr style=\"text-align: right;\">\n      <th></th>\n      <th>Name</th>\n      <th>Medals-2004</th>\n      <th>Athlete</th>\n      <th>Medals_2008</th>\n      <th>_merge</th>\n    </tr>\n  </thead>\n  <tbody>\n    <tr>\n      <th>0</th>\n      <td>ADRIAN, Nathan</td>\n      <td>NaN</td>\n      <td>ADRIAN, Nathan</td>\n      <td>1.0</td>\n      <td>right_only</td>\n    </tr>\n    <tr>\n      <th>1</th>\n      <td>BERENS, Ricky</td>\n      <td>NaN</td>\n      <td>BERENS, Ricky</td>\n      <td>1.0</td>\n      <td>right_only</td>\n    </tr>\n    <tr>\n      <th>2</th>\n      <td>BERNARD, Alain</td>\n      <td>NaN</td>\n      <td>BERNARD, Alain</td>\n      <td>3.0</td>\n      <td>right_only</td>\n    </tr>\n    <tr>\n      <th>3</th>\n      <td>BOUSQUET, Frederick</td>\n      <td>NaN</td>\n      <td>BOUSQUET, Frederick</td>\n      <td>1.0</td>\n      <td>right_only</td>\n    </tr>\n    <tr>\n      <th>4</th>\n      <td>BOVELL, George</td>\n      <td>1.0</td>\n      <td>NaN</td>\n      <td>NaN</td>\n      <td>left_only</td>\n    </tr>\n    <tr>\n      <th>...</th>\n      <td>...</td>\n      <td>...</td>\n      <td>...</td>\n      <td>...</td>\n      <td>...</td>\n    </tr>\n    <tr>\n      <th>100</th>\n      <td>WOODWARD, Gabe</td>\n      <td>1.0</td>\n      <td>NaN</td>\n      <td>NaN</td>\n      <td>left_only</td>\n    </tr>\n    <tr>\n      <th>101</th>\n      <td>YAMAMOTO, Takashi</td>\n      <td>2.0</td>\n      <td>NaN</td>\n      <td>NaN</td>\n      <td>left_only</td>\n    </tr>\n    <tr>\n      <th>102</th>\n      <td>ZASTROW, Mitja</td>\n      <td>1.0</td>\n      <td>NaN</td>\n      <td>NaN</td>\n      <td>left_only</td>\n    </tr>\n    <tr>\n      <th>103</th>\n      <td>ZHANG, Lin</td>\n      <td>NaN</td>\n      <td>ZHANG, Lin</td>\n      <td>1.0</td>\n      <td>right_only</td>\n    </tr>\n    <tr>\n      <th>104</th>\n      <td>ZWERING, Klaas-Erik</td>\n      <td>1.0</td>\n      <td>NaN</td>\n      <td>NaN</td>\n      <td>left_only</td>\n    </tr>\n  </tbody>\n</table>\n<p>105 rows × 5 columns</p>\n</div>"
     },
     "execution_count": 43,
     "metadata": {},
     "output_type": "execute_result"
    }
   ],
   "source": [
    "men0408"
   ],
   "metadata": {
    "collapsed": false,
    "ExecuteTime": {
     "end_time": "2024-03-20T12:16:15.435621400Z",
     "start_time": "2024-03-20T12:16:15.409593600Z"
    }
   },
   "id": "852d88bf5f1ab8bc",
   "execution_count": 43
  },
  {
   "cell_type": "markdown",
   "source": [
    "Now we can drop the 'Athlete' column and the '_merge' column.\n",
    "Axis=1 means we are dropping columns, not rows."
   ],
   "metadata": {
    "collapsed": false
   },
   "id": "bcf05490573bd7c0"
  },
  {
   "cell_type": "code",
   "outputs": [],
   "source": [
    "men0408.drop(columns=['Athlete', '_merge'], axis=1, inplace=True)"
   ],
   "metadata": {
    "collapsed": false,
    "ExecuteTime": {
     "end_time": "2024-03-20T12:16:24.050277500Z",
     "start_time": "2024-03-20T12:16:24.019804700Z"
    }
   },
   "id": "3a77ed03e0412362",
   "execution_count": 44
  },
  {
   "cell_type": "code",
   "outputs": [
    {
     "data": {
      "text/plain": "                    Name  Medals-2004  Medals_2008\n0         ADRIAN, Nathan          NaN          1.0\n1          BERENS, Ricky          NaN          1.0\n2         BERNARD, Alain          NaN          3.0\n3    BOUSQUET, Frederick          NaN          1.0\n4         BOVELL, George          1.0          NaN\n..                   ...          ...          ...\n100       WOODWARD, Gabe          1.0          NaN\n101    YAMAMOTO, Takashi          2.0          NaN\n102       ZASTROW, Mitja          1.0          NaN\n103           ZHANG, Lin          NaN          1.0\n104  ZWERING, Klaas-Erik          1.0          NaN\n\n[105 rows x 3 columns]",
      "text/html": "<div>\n<style scoped>\n    .dataframe tbody tr th:only-of-type {\n        vertical-align: middle;\n    }\n\n    .dataframe tbody tr th {\n        vertical-align: top;\n    }\n\n    .dataframe thead th {\n        text-align: right;\n    }\n</style>\n<table border=\"1\" class=\"dataframe\">\n  <thead>\n    <tr style=\"text-align: right;\">\n      <th></th>\n      <th>Name</th>\n      <th>Medals-2004</th>\n      <th>Medals_2008</th>\n    </tr>\n  </thead>\n  <tbody>\n    <tr>\n      <th>0</th>\n      <td>ADRIAN, Nathan</td>\n      <td>NaN</td>\n      <td>1.0</td>\n    </tr>\n    <tr>\n      <th>1</th>\n      <td>BERENS, Ricky</td>\n      <td>NaN</td>\n      <td>1.0</td>\n    </tr>\n    <tr>\n      <th>2</th>\n      <td>BERNARD, Alain</td>\n      <td>NaN</td>\n      <td>3.0</td>\n    </tr>\n    <tr>\n      <th>3</th>\n      <td>BOUSQUET, Frederick</td>\n      <td>NaN</td>\n      <td>1.0</td>\n    </tr>\n    <tr>\n      <th>4</th>\n      <td>BOVELL, George</td>\n      <td>1.0</td>\n      <td>NaN</td>\n    </tr>\n    <tr>\n      <th>...</th>\n      <td>...</td>\n      <td>...</td>\n      <td>...</td>\n    </tr>\n    <tr>\n      <th>100</th>\n      <td>WOODWARD, Gabe</td>\n      <td>1.0</td>\n      <td>NaN</td>\n    </tr>\n    <tr>\n      <th>101</th>\n      <td>YAMAMOTO, Takashi</td>\n      <td>2.0</td>\n      <td>NaN</td>\n    </tr>\n    <tr>\n      <th>102</th>\n      <td>ZASTROW, Mitja</td>\n      <td>1.0</td>\n      <td>NaN</td>\n    </tr>\n    <tr>\n      <th>103</th>\n      <td>ZHANG, Lin</td>\n      <td>NaN</td>\n      <td>1.0</td>\n    </tr>\n    <tr>\n      <th>104</th>\n      <td>ZWERING, Klaas-Erik</td>\n      <td>1.0</td>\n      <td>NaN</td>\n    </tr>\n  </tbody>\n</table>\n<p>105 rows × 3 columns</p>\n</div>"
     },
     "execution_count": 45,
     "metadata": {},
     "output_type": "execute_result"
    }
   ],
   "source": [
    "men0408"
   ],
   "metadata": {
    "collapsed": false,
    "ExecuteTime": {
     "end_time": "2024-03-20T12:16:25.835254300Z",
     "start_time": "2024-03-20T12:16:25.771661700Z"
    }
   },
   "id": "70e03a4216ab63e9",
   "execution_count": 45
  },
  {
   "cell_type": "markdown",
   "source": [],
   "metadata": {
    "collapsed": false
   },
   "id": "f9947a52ddf62ab9"
  },
  {
   "cell_type": "markdown",
   "source": [],
   "metadata": {
    "collapsed": false
   },
   "id": "b05ce08fe0539be8"
  },
  {
   "cell_type": "markdown",
   "source": [],
   "metadata": {
    "collapsed": false
   },
   "id": "673d0b3d1fc3b46b"
  },
  {
   "cell_type": "markdown",
   "source": [],
   "metadata": {
    "collapsed": false
   },
   "id": "26b60fb4fe3b3882"
  }
 ],
 "metadata": {
  "kernelspec": {
   "display_name": "Python 3",
   "language": "python",
   "name": "python3"
  },
  "language_info": {
   "codemirror_mode": {
    "name": "ipython",
    "version": 2
   },
   "file_extension": ".py",
   "mimetype": "text/x-python",
   "name": "python",
   "nbconvert_exporter": "python",
   "pygments_lexer": "ipython2",
   "version": "2.7.6"
  }
 },
 "nbformat": 4,
 "nbformat_minor": 5
}
