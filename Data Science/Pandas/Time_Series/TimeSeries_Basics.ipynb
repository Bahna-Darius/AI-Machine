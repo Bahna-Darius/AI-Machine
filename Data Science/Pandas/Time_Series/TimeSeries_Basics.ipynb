{
 "cells": [
  {
   "cell_type": "code",
   "execution_count": 1,
   "id": "initial_id",
   "metadata": {
    "collapsed": true,
    "ExecuteTime": {
     "end_time": "2024-05-08T17:30:57.990470600Z",
     "start_time": "2024-05-08T17:30:57.465984900Z"
    }
   },
   "outputs": [],
   "source": [
    "import pandas as pd"
   ]
  },
  {
   "cell_type": "markdown",
   "source": [
    "Parameter parse_dates is used to parse the datetime column as datetime object. After for column datetime have OBJ and now it is datetime64[ns]."
   ],
   "metadata": {
    "collapsed": false
   },
   "id": "59da7926bdcf2a10"
  },
  {
   "cell_type": "code",
   "outputs": [],
   "source": [
    "temp = pd.read_csv('../../Data/temp.csv', parse_dates=['datetime'], index_col='datetime')"
   ],
   "metadata": {
    "collapsed": false,
    "ExecuteTime": {
     "end_time": "2024-05-08T17:31:00.036692500Z",
     "start_time": "2024-05-08T17:30:59.935962400Z"
    }
   },
   "id": "f0eb41cf25cc986e",
   "execution_count": 2
  },
  {
   "cell_type": "code",
   "outputs": [
    {
     "name": "stdout",
     "output_type": "stream",
     "text": [
      "<class 'pandas.core.frame.DataFrame'>\n",
      "RangeIndex: 35064 entries, 0 to 35063\n",
      "Data columns (total 3 columns):\n",
      " #   Column    Non-Null Count  Dtype         \n",
      "---  ------    --------------  -----         \n",
      " 0   datetime  35064 non-null  datetime64[ns]\n",
      " 1   LA        35062 non-null  float64       \n",
      " 2   NY        35064 non-null  float64       \n",
      "dtypes: datetime64[ns](1), float64(2)\n",
      "memory usage: 821.9 KB\n"
     ]
    }
   ],
   "source": [
    "temp.info()"
   ],
   "metadata": {
    "collapsed": false,
    "ExecuteTime": {
     "end_time": "2024-04-24T15:00:14.165237600Z",
     "start_time": "2024-04-24T15:00:14.101062500Z"
    }
   },
   "id": "65378f80a8b638e6",
   "execution_count": 3
  },
  {
   "cell_type": "code",
   "outputs": [
    {
     "data": {
      "text/plain": "DatetimeIndex(['2013-01-01 00:00:00', '2013-01-01 01:00:00',\n               '2013-01-01 02:00:00', '2013-01-01 03:00:00',\n               '2013-01-01 04:00:00', '2013-01-01 05:00:00',\n               '2013-01-01 06:00:00', '2013-01-01 07:00:00',\n               '2013-01-01 08:00:00', '2013-01-01 09:00:00',\n               ...\n               '2016-12-31 14:00:00', '2016-12-31 15:00:00',\n               '2016-12-31 16:00:00', '2016-12-31 17:00:00',\n               '2016-12-31 18:00:00', '2016-12-31 19:00:00',\n               '2016-12-31 20:00:00', '2016-12-31 21:00:00',\n               '2016-12-31 22:00:00', '2016-12-31 23:00:00'],\n              dtype='datetime64[ns]', name='datetime', length=35064, freq=None)"
     },
     "execution_count": 6,
     "metadata": {},
     "output_type": "execute_result"
    }
   ],
   "source": [
    "temp.index"
   ],
   "metadata": {
    "collapsed": false,
    "ExecuteTime": {
     "end_time": "2024-04-24T15:06:09.924635800Z",
     "start_time": "2024-04-24T15:06:09.909536600Z"
    }
   },
   "id": "e227f45b42a77637",
   "execution_count": 6
  },
  {
   "cell_type": "code",
   "outputs": [
    {
     "data": {
      "text/plain": "Timestamp('2013-01-01 00:00:00')"
     },
     "execution_count": 7,
     "metadata": {},
     "output_type": "execute_result"
    }
   ],
   "source": [
    "temp.index[0]"
   ],
   "metadata": {
    "collapsed": false,
    "ExecuteTime": {
     "end_time": "2024-04-24T15:06:15.604873Z",
     "start_time": "2024-04-24T15:06:15.572066700Z"
    }
   },
   "id": "eb87d454e55f72f5",
   "execution_count": 7
  },
  {
   "cell_type": "markdown",
   "source": [],
   "metadata": {
    "collapsed": false
   },
   "id": "f88b3624fa713eab"
  },
  {
   "cell_type": "code",
   "outputs": [],
   "source": [],
   "metadata": {
    "collapsed": false
   },
   "id": "19eaddcd9a93548a"
  }
 ],
 "metadata": {
  "kernelspec": {
   "display_name": "Python 3",
   "language": "python",
   "name": "python3"
  },
  "language_info": {
   "codemirror_mode": {
    "name": "ipython",
    "version": 2
   },
   "file_extension": ".py",
   "mimetype": "text/x-python",
   "name": "python",
   "nbconvert_exporter": "python",
   "pygments_lexer": "ipython2",
   "version": "2.7.6"
  }
 },
 "nbformat": 4,
 "nbformat_minor": 5
}
