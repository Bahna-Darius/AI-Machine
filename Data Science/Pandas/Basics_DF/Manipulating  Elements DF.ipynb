{
 "cells": [
  {
   "cell_type": "markdown",
   "source": [
    "# Manipulating Values in a DataFrame"
   ],
   "metadata": {
    "collapsed": false
   },
   "id": "af4ddc2f5f5d8bf0"
  },
  {
   "cell_type": "markdown",
   "source": [
    "# Changing a single value in a DataFrame"
   ],
   "metadata": {
    "collapsed": false
   },
   "id": "6eed5b21118f6b9b"
  },
  {
   "cell_type": "code",
   "execution_count": 1,
   "id": "initial_id",
   "metadata": {
    "collapsed": true,
    "ExecuteTime": {
     "end_time": "2024-05-08T16:56:58.385320200Z",
     "start_time": "2024-05-08T16:56:57.843248300Z"
    }
   },
   "outputs": [],
   "source": [
    "import pandas as pd"
   ]
  },
  {
   "cell_type": "code",
   "outputs": [],
   "source": [
    "titanic = pd.read_csv(\"../../Data/titanic.csv\")"
   ],
   "metadata": {
    "collapsed": false,
    "ExecuteTime": {
     "end_time": "2024-05-08T16:57:00.782747Z",
     "start_time": "2024-05-08T16:57:00.747261Z"
    }
   },
   "id": "94b1e41ec4dcd11c",
   "execution_count": 2
  },
  {
   "cell_type": "code",
   "outputs": [
    {
     "data": {
      "text/plain": "   survived  pclass     sex   age  sibsp  parch     fare embarked deck\n0         0       3    male  22.0      1      0   7.2500        S  NaN\n1         1       1  female  38.0      1      0  71.2833        C    C\n2         1       3  female  26.0      0      0   7.9250        S  NaN\n3         1       1  female  35.0      1      0  53.1000        S    C\n4         0       3    male  35.0      0      0   8.0500        S  NaN",
      "text/html": "<div>\n<style scoped>\n    .dataframe tbody tr th:only-of-type {\n        vertical-align: middle;\n    }\n\n    .dataframe tbody tr th {\n        vertical-align: top;\n    }\n\n    .dataframe thead th {\n        text-align: right;\n    }\n</style>\n<table border=\"1\" class=\"dataframe\">\n  <thead>\n    <tr style=\"text-align: right;\">\n      <th></th>\n      <th>survived</th>\n      <th>pclass</th>\n      <th>sex</th>\n      <th>age</th>\n      <th>sibsp</th>\n      <th>parch</th>\n      <th>fare</th>\n      <th>embarked</th>\n      <th>deck</th>\n    </tr>\n  </thead>\n  <tbody>\n    <tr>\n      <th>0</th>\n      <td>0</td>\n      <td>3</td>\n      <td>male</td>\n      <td>22.0</td>\n      <td>1</td>\n      <td>0</td>\n      <td>7.2500</td>\n      <td>S</td>\n      <td>NaN</td>\n    </tr>\n    <tr>\n      <th>1</th>\n      <td>1</td>\n      <td>1</td>\n      <td>female</td>\n      <td>38.0</td>\n      <td>1</td>\n      <td>0</td>\n      <td>71.2833</td>\n      <td>C</td>\n      <td>C</td>\n    </tr>\n    <tr>\n      <th>2</th>\n      <td>1</td>\n      <td>3</td>\n      <td>female</td>\n      <td>26.0</td>\n      <td>0</td>\n      <td>0</td>\n      <td>7.9250</td>\n      <td>S</td>\n      <td>NaN</td>\n    </tr>\n    <tr>\n      <th>3</th>\n      <td>1</td>\n      <td>1</td>\n      <td>female</td>\n      <td>35.0</td>\n      <td>1</td>\n      <td>0</td>\n      <td>53.1000</td>\n      <td>S</td>\n      <td>C</td>\n    </tr>\n    <tr>\n      <th>4</th>\n      <td>0</td>\n      <td>3</td>\n      <td>male</td>\n      <td>35.0</td>\n      <td>0</td>\n      <td>0</td>\n      <td>8.0500</td>\n      <td>S</td>\n      <td>NaN</td>\n    </tr>\n  </tbody>\n</table>\n</div>"
     },
     "execution_count": 4,
     "metadata": {},
     "output_type": "execute_result"
    }
   ],
   "source": [
    "titanic.head()"
   ],
   "metadata": {
    "collapsed": false,
    "ExecuteTime": {
     "end_time": "2024-02-28T20:21:38.943064800Z",
     "start_time": "2024-02-28T20:21:38.885930900Z"
    }
   },
   "id": "db7bdbc3fd2f4965",
   "execution_count": 4
  },
  {
   "cell_type": "markdown",
   "source": [
    "## loc[ 1 is the row, \"age\" is the column]"
   ],
   "metadata": {
    "collapsed": false
   },
   "id": "f0911098978b07da"
  },
  {
   "cell_type": "code",
   "outputs": [
    {
     "data": {
      "text/plain": "   survived  pclass     sex   age  sibsp  parch     fare embarked deck\n0         0       3    male  22.0      1      0   7.2500        S  NaN\n1         1       1  female  66.0      1      0  71.2833        C    C\n2         1       3  female  26.0      0      0   7.9250        S  NaN\n3         1       1  female  35.0      1      0  53.1000        S    C\n4         0       3    male  35.0      0      0   8.0500        S  NaN",
      "text/html": "<div>\n<style scoped>\n    .dataframe tbody tr th:only-of-type {\n        vertical-align: middle;\n    }\n\n    .dataframe tbody tr th {\n        vertical-align: top;\n    }\n\n    .dataframe thead th {\n        text-align: right;\n    }\n</style>\n<table border=\"1\" class=\"dataframe\">\n  <thead>\n    <tr style=\"text-align: right;\">\n      <th></th>\n      <th>survived</th>\n      <th>pclass</th>\n      <th>sex</th>\n      <th>age</th>\n      <th>sibsp</th>\n      <th>parch</th>\n      <th>fare</th>\n      <th>embarked</th>\n      <th>deck</th>\n    </tr>\n  </thead>\n  <tbody>\n    <tr>\n      <th>0</th>\n      <td>0</td>\n      <td>3</td>\n      <td>male</td>\n      <td>22.0</td>\n      <td>1</td>\n      <td>0</td>\n      <td>7.2500</td>\n      <td>S</td>\n      <td>NaN</td>\n    </tr>\n    <tr>\n      <th>1</th>\n      <td>1</td>\n      <td>1</td>\n      <td>female</td>\n      <td>66.0</td>\n      <td>1</td>\n      <td>0</td>\n      <td>71.2833</td>\n      <td>C</td>\n      <td>C</td>\n    </tr>\n    <tr>\n      <th>2</th>\n      <td>1</td>\n      <td>3</td>\n      <td>female</td>\n      <td>26.0</td>\n      <td>0</td>\n      <td>0</td>\n      <td>7.9250</td>\n      <td>S</td>\n      <td>NaN</td>\n    </tr>\n    <tr>\n      <th>3</th>\n      <td>1</td>\n      <td>1</td>\n      <td>female</td>\n      <td>35.0</td>\n      <td>1</td>\n      <td>0</td>\n      <td>53.1000</td>\n      <td>S</td>\n      <td>C</td>\n    </tr>\n    <tr>\n      <th>4</th>\n      <td>0</td>\n      <td>3</td>\n      <td>male</td>\n      <td>35.0</td>\n      <td>0</td>\n      <td>0</td>\n      <td>8.0500</td>\n      <td>S</td>\n      <td>NaN</td>\n    </tr>\n  </tbody>\n</table>\n</div>"
     },
     "execution_count": 5,
     "metadata": {},
     "output_type": "execute_result"
    }
   ],
   "source": [
    "titanic.loc[1, \"age\"] = 66\n",
    "titanic.head()"
   ],
   "metadata": {
    "collapsed": false,
    "ExecuteTime": {
     "end_time": "2024-02-28T20:21:38.946065300Z",
     "start_time": "2024-02-28T20:21:38.919618500Z"
    }
   },
   "id": "101a64a46a85d99a",
   "execution_count": 5
  },
  {
   "cell_type": "markdown",
   "source": [
    "## Changing multiple values in a DataFrame"
   ],
   "metadata": {
    "collapsed": false
   },
   "id": "2e2894a6fe7e695e"
  },
  {
   "cell_type": "code",
   "outputs": [
    {
     "data": {
      "text/plain": "   survived  pclass     sex   age  sibsp  parch     fare embarked deck\n0         0       3    male  22.0      1      0   7.2500        S  NaN\n1         1       1  female  66.0      1      0  71.2833        C    C\n2         1       3  female  66.0      0      0   7.9250        S  NaN\n3         1       1  female  66.0      1      0  53.1000        S    C\n4         0       3    male  66.0      0      0   8.0500        S  NaN",
      "text/html": "<div>\n<style scoped>\n    .dataframe tbody tr th:only-of-type {\n        vertical-align: middle;\n    }\n\n    .dataframe tbody tr th {\n        vertical-align: top;\n    }\n\n    .dataframe thead th {\n        text-align: right;\n    }\n</style>\n<table border=\"1\" class=\"dataframe\">\n  <thead>\n    <tr style=\"text-align: right;\">\n      <th></th>\n      <th>survived</th>\n      <th>pclass</th>\n      <th>sex</th>\n      <th>age</th>\n      <th>sibsp</th>\n      <th>parch</th>\n      <th>fare</th>\n      <th>embarked</th>\n      <th>deck</th>\n    </tr>\n  </thead>\n  <tbody>\n    <tr>\n      <th>0</th>\n      <td>0</td>\n      <td>3</td>\n      <td>male</td>\n      <td>22.0</td>\n      <td>1</td>\n      <td>0</td>\n      <td>7.2500</td>\n      <td>S</td>\n      <td>NaN</td>\n    </tr>\n    <tr>\n      <th>1</th>\n      <td>1</td>\n      <td>1</td>\n      <td>female</td>\n      <td>66.0</td>\n      <td>1</td>\n      <td>0</td>\n      <td>71.2833</td>\n      <td>C</td>\n      <td>C</td>\n    </tr>\n    <tr>\n      <th>2</th>\n      <td>1</td>\n      <td>3</td>\n      <td>female</td>\n      <td>66.0</td>\n      <td>0</td>\n      <td>0</td>\n      <td>7.9250</td>\n      <td>S</td>\n      <td>NaN</td>\n    </tr>\n    <tr>\n      <th>3</th>\n      <td>1</td>\n      <td>1</td>\n      <td>female</td>\n      <td>66.0</td>\n      <td>1</td>\n      <td>0</td>\n      <td>53.1000</td>\n      <td>S</td>\n      <td>C</td>\n    </tr>\n    <tr>\n      <th>4</th>\n      <td>0</td>\n      <td>3</td>\n      <td>male</td>\n      <td>66.0</td>\n      <td>0</td>\n      <td>0</td>\n      <td>8.0500</td>\n      <td>S</td>\n      <td>NaN</td>\n    </tr>\n  </tbody>\n</table>\n</div>"
     },
     "execution_count": 6,
     "metadata": {},
     "output_type": "execute_result"
    }
   ],
   "source": [
    "titanic.loc[2:5, \"age\"] = 66\n",
    "titanic.head()"
   ],
   "metadata": {
    "collapsed": false,
    "ExecuteTime": {
     "end_time": "2024-02-28T20:21:38.982820500Z",
     "start_time": "2024-02-28T20:21:38.927133700Z"
    }
   },
   "id": "614fe9ee138fd6f6",
   "execution_count": 6
  },
  {
   "cell_type": "markdown",
   "source": [
    "## or"
   ],
   "metadata": {
    "collapsed": false
   },
   "id": "dbf00b9c6ce1c2b1"
  },
  {
   "cell_type": "code",
   "outputs": [
    {
     "data": {
      "text/plain": "   survived  pclass     sex   age  sibsp  parch     fare embarked deck\n0         0       3    male  22.0      1      0   7.2500        S  NaN\n1         1       1  female  66.0      1      0  71.2833        C    C\n2         1       3  female  55.0      0      0   7.9250        S  NaN\n3         1       1  female  77.0      1      0  53.1000        S    C\n4         0       3    male  88.0      0      0   8.0500        S  NaN",
      "text/html": "<div>\n<style scoped>\n    .dataframe tbody tr th:only-of-type {\n        vertical-align: middle;\n    }\n\n    .dataframe tbody tr th {\n        vertical-align: top;\n    }\n\n    .dataframe thead th {\n        text-align: right;\n    }\n</style>\n<table border=\"1\" class=\"dataframe\">\n  <thead>\n    <tr style=\"text-align: right;\">\n      <th></th>\n      <th>survived</th>\n      <th>pclass</th>\n      <th>sex</th>\n      <th>age</th>\n      <th>sibsp</th>\n      <th>parch</th>\n      <th>fare</th>\n      <th>embarked</th>\n      <th>deck</th>\n    </tr>\n  </thead>\n  <tbody>\n    <tr>\n      <th>0</th>\n      <td>0</td>\n      <td>3</td>\n      <td>male</td>\n      <td>22.0</td>\n      <td>1</td>\n      <td>0</td>\n      <td>7.2500</td>\n      <td>S</td>\n      <td>NaN</td>\n    </tr>\n    <tr>\n      <th>1</th>\n      <td>1</td>\n      <td>1</td>\n      <td>female</td>\n      <td>66.0</td>\n      <td>1</td>\n      <td>0</td>\n      <td>71.2833</td>\n      <td>C</td>\n      <td>C</td>\n    </tr>\n    <tr>\n      <th>2</th>\n      <td>1</td>\n      <td>3</td>\n      <td>female</td>\n      <td>55.0</td>\n      <td>0</td>\n      <td>0</td>\n      <td>7.9250</td>\n      <td>S</td>\n      <td>NaN</td>\n    </tr>\n    <tr>\n      <th>3</th>\n      <td>1</td>\n      <td>1</td>\n      <td>female</td>\n      <td>77.0</td>\n      <td>1</td>\n      <td>0</td>\n      <td>53.1000</td>\n      <td>S</td>\n      <td>C</td>\n    </tr>\n    <tr>\n      <th>4</th>\n      <td>0</td>\n      <td>3</td>\n      <td>male</td>\n      <td>88.0</td>\n      <td>0</td>\n      <td>0</td>\n      <td>8.0500</td>\n      <td>S</td>\n      <td>NaN</td>\n    </tr>\n  </tbody>\n</table>\n</div>"
     },
     "execution_count": 7,
     "metadata": {},
     "output_type": "execute_result"
    }
   ],
   "source": [
    "titanic.loc[2:4, \"age\"] = [55,77,88]\n",
    "titanic.head()"
   ],
   "metadata": {
    "collapsed": false,
    "ExecuteTime": {
     "end_time": "2024-02-28T20:21:39.056133700Z",
     "start_time": "2024-02-28T20:21:38.940066Z"
    }
   },
   "id": "cb9e33a093204470",
   "execution_count": 7
  },
  {
   "cell_type": "markdown",
   "source": [
    "## Changing multiple values in a row"
   ],
   "metadata": {
    "collapsed": false
   },
   "id": "b898d0e1769184d4"
  },
  {
   "cell_type": "code",
   "outputs": [
    {
     "data": {
      "text/plain": "   survived  pclass     sex   age  sibsp  parch     fare embarked deck\n0         0       3    male  22.0      1      0   7.2500        S  NaN\n1         1       1  female  66.0      1      0  71.2833        C    C\n2         1       3  female  55.0      0      0   7.9250        S  NaN\n3         1       1  female  77.0      1      0  53.1000        S    C\n4         0       3    male  88.0      0      0   8.0500        S  NaN",
      "text/html": "<div>\n<style scoped>\n    .dataframe tbody tr th:only-of-type {\n        vertical-align: middle;\n    }\n\n    .dataframe tbody tr th {\n        vertical-align: top;\n    }\n\n    .dataframe thead th {\n        text-align: right;\n    }\n</style>\n<table border=\"1\" class=\"dataframe\">\n  <thead>\n    <tr style=\"text-align: right;\">\n      <th></th>\n      <th>survived</th>\n      <th>pclass</th>\n      <th>sex</th>\n      <th>age</th>\n      <th>sibsp</th>\n      <th>parch</th>\n      <th>fare</th>\n      <th>embarked</th>\n      <th>deck</th>\n    </tr>\n  </thead>\n  <tbody>\n    <tr>\n      <th>0</th>\n      <td>0</td>\n      <td>3</td>\n      <td>male</td>\n      <td>22.0</td>\n      <td>1</td>\n      <td>0</td>\n      <td>7.2500</td>\n      <td>S</td>\n      <td>NaN</td>\n    </tr>\n    <tr>\n      <th>1</th>\n      <td>1</td>\n      <td>1</td>\n      <td>female</td>\n      <td>66.0</td>\n      <td>1</td>\n      <td>0</td>\n      <td>71.2833</td>\n      <td>C</td>\n      <td>C</td>\n    </tr>\n    <tr>\n      <th>2</th>\n      <td>1</td>\n      <td>3</td>\n      <td>female</td>\n      <td>55.0</td>\n      <td>0</td>\n      <td>0</td>\n      <td>7.9250</td>\n      <td>S</td>\n      <td>NaN</td>\n    </tr>\n    <tr>\n      <th>3</th>\n      <td>1</td>\n      <td>1</td>\n      <td>female</td>\n      <td>77.0</td>\n      <td>1</td>\n      <td>0</td>\n      <td>53.1000</td>\n      <td>S</td>\n      <td>C</td>\n    </tr>\n    <tr>\n      <th>4</th>\n      <td>0</td>\n      <td>3</td>\n      <td>male</td>\n      <td>88.0</td>\n      <td>0</td>\n      <td>0</td>\n      <td>8.0500</td>\n      <td>S</td>\n      <td>NaN</td>\n    </tr>\n  </tbody>\n</table>\n</div>"
     },
     "execution_count": 8,
     "metadata": {},
     "output_type": "execute_result"
    }
   ],
   "source": [
    "titanic.head()"
   ],
   "metadata": {
    "collapsed": false,
    "ExecuteTime": {
     "end_time": "2024-02-28T20:21:39.084137900Z",
     "start_time": "2024-02-28T20:21:38.957660100Z"
    }
   },
   "id": "2d679b8a2e4668ff",
   "execution_count": 8
  },
  {
   "cell_type": "code",
   "outputs": [
    {
     "data": {
      "text/plain": "   survived  pclass       sex   age  sibsp  parch     fare embarked deck\n0         1       1  female_w  22.0      1      0   7.2500        S  NaN\n1         1       1    female  66.0      1      0  71.2833        C    C\n2         1       3    female  55.0      0      0   7.9250        S  NaN\n3         1       1    female  77.0      1      0  53.1000        S    C\n4         0       3      male  88.0      0      0   8.0500        S  NaN",
      "text/html": "<div>\n<style scoped>\n    .dataframe tbody tr th:only-of-type {\n        vertical-align: middle;\n    }\n\n    .dataframe tbody tr th {\n        vertical-align: top;\n    }\n\n    .dataframe thead th {\n        text-align: right;\n    }\n</style>\n<table border=\"1\" class=\"dataframe\">\n  <thead>\n    <tr style=\"text-align: right;\">\n      <th></th>\n      <th>survived</th>\n      <th>pclass</th>\n      <th>sex</th>\n      <th>age</th>\n      <th>sibsp</th>\n      <th>parch</th>\n      <th>fare</th>\n      <th>embarked</th>\n      <th>deck</th>\n    </tr>\n  </thead>\n  <tbody>\n    <tr>\n      <th>0</th>\n      <td>1</td>\n      <td>1</td>\n      <td>female_w</td>\n      <td>22.0</td>\n      <td>1</td>\n      <td>0</td>\n      <td>7.2500</td>\n      <td>S</td>\n      <td>NaN</td>\n    </tr>\n    <tr>\n      <th>1</th>\n      <td>1</td>\n      <td>1</td>\n      <td>female</td>\n      <td>66.0</td>\n      <td>1</td>\n      <td>0</td>\n      <td>71.2833</td>\n      <td>C</td>\n      <td>C</td>\n    </tr>\n    <tr>\n      <th>2</th>\n      <td>1</td>\n      <td>3</td>\n      <td>female</td>\n      <td>55.0</td>\n      <td>0</td>\n      <td>0</td>\n      <td>7.9250</td>\n      <td>S</td>\n      <td>NaN</td>\n    </tr>\n    <tr>\n      <th>3</th>\n      <td>1</td>\n      <td>1</td>\n      <td>female</td>\n      <td>77.0</td>\n      <td>1</td>\n      <td>0</td>\n      <td>53.1000</td>\n      <td>S</td>\n      <td>C</td>\n    </tr>\n    <tr>\n      <th>4</th>\n      <td>0</td>\n      <td>3</td>\n      <td>male</td>\n      <td>88.0</td>\n      <td>0</td>\n      <td>0</td>\n      <td>8.0500</td>\n      <td>S</td>\n      <td>NaN</td>\n    </tr>\n  </tbody>\n</table>\n</div>"
     },
     "execution_count": 9,
     "metadata": {},
     "output_type": "execute_result"
    }
   ],
   "source": [
    "titanic.loc[0, \"survived\":\"sex\"] = [1, 1 , \"female_w\"]\n",
    "titanic.head()"
   ],
   "metadata": {
    "collapsed": false,
    "ExecuteTime": {
     "end_time": "2024-02-28T20:21:39.109145600Z",
     "start_time": "2024-02-28T20:21:38.970890800Z"
    }
   },
   "id": "48f6c0fab445ad34",
   "execution_count": 9
  },
  {
   "cell_type": "markdown",
   "source": [
    "## Changing multiple values in multiple rows"
   ],
   "metadata": {
    "collapsed": false
   },
   "id": "fc900fabe728f701"
  },
  {
   "cell_type": "code",
   "outputs": [
    {
     "data": {
      "text/plain": "    survived  pclass       sex   age sibsp parch     fare embarked deck\n0          1       1  female_w  22.0     1  Zero     7.25        S  NaN\n1          1       1    female  66.0     1  Zero  71.2833        C    C\n2          1       3    female  55.0  Zero  Zero    7.925        S  NaN\n3          1       1    female  77.0     1  Zero     53.1        S    C\n4       Zero       3      male  88.0  Zero  Zero     8.05        S  NaN\n..       ...     ...       ...   ...   ...   ...      ...      ...  ...\n886     Zero       2      male  27.0  Zero  Zero     13.0        S  NaN\n887        1       1    female  19.0  Zero  Zero     30.0        S    B\n888     Zero       3    female   NaN     1     2    23.45        S  NaN\n889        1       1      male  26.0  Zero  Zero     30.0        C    C\n890     Zero       3      male  32.0  Zero  Zero     7.75        Q  NaN\n\n[891 rows x 9 columns]",
      "text/html": "<div>\n<style scoped>\n    .dataframe tbody tr th:only-of-type {\n        vertical-align: middle;\n    }\n\n    .dataframe tbody tr th {\n        vertical-align: top;\n    }\n\n    .dataframe thead th {\n        text-align: right;\n    }\n</style>\n<table border=\"1\" class=\"dataframe\">\n  <thead>\n    <tr style=\"text-align: right;\">\n      <th></th>\n      <th>survived</th>\n      <th>pclass</th>\n      <th>sex</th>\n      <th>age</th>\n      <th>sibsp</th>\n      <th>parch</th>\n      <th>fare</th>\n      <th>embarked</th>\n      <th>deck</th>\n    </tr>\n  </thead>\n  <tbody>\n    <tr>\n      <th>0</th>\n      <td>1</td>\n      <td>1</td>\n      <td>female_w</td>\n      <td>22.0</td>\n      <td>1</td>\n      <td>Zero</td>\n      <td>7.25</td>\n      <td>S</td>\n      <td>NaN</td>\n    </tr>\n    <tr>\n      <th>1</th>\n      <td>1</td>\n      <td>1</td>\n      <td>female</td>\n      <td>66.0</td>\n      <td>1</td>\n      <td>Zero</td>\n      <td>71.2833</td>\n      <td>C</td>\n      <td>C</td>\n    </tr>\n    <tr>\n      <th>2</th>\n      <td>1</td>\n      <td>3</td>\n      <td>female</td>\n      <td>55.0</td>\n      <td>Zero</td>\n      <td>Zero</td>\n      <td>7.925</td>\n      <td>S</td>\n      <td>NaN</td>\n    </tr>\n    <tr>\n      <th>3</th>\n      <td>1</td>\n      <td>1</td>\n      <td>female</td>\n      <td>77.0</td>\n      <td>1</td>\n      <td>Zero</td>\n      <td>53.1</td>\n      <td>S</td>\n      <td>C</td>\n    </tr>\n    <tr>\n      <th>4</th>\n      <td>Zero</td>\n      <td>3</td>\n      <td>male</td>\n      <td>88.0</td>\n      <td>Zero</td>\n      <td>Zero</td>\n      <td>8.05</td>\n      <td>S</td>\n      <td>NaN</td>\n    </tr>\n    <tr>\n      <th>...</th>\n      <td>...</td>\n      <td>...</td>\n      <td>...</td>\n      <td>...</td>\n      <td>...</td>\n      <td>...</td>\n      <td>...</td>\n      <td>...</td>\n      <td>...</td>\n    </tr>\n    <tr>\n      <th>886</th>\n      <td>Zero</td>\n      <td>2</td>\n      <td>male</td>\n      <td>27.0</td>\n      <td>Zero</td>\n      <td>Zero</td>\n      <td>13.0</td>\n      <td>S</td>\n      <td>NaN</td>\n    </tr>\n    <tr>\n      <th>887</th>\n      <td>1</td>\n      <td>1</td>\n      <td>female</td>\n      <td>19.0</td>\n      <td>Zero</td>\n      <td>Zero</td>\n      <td>30.0</td>\n      <td>S</td>\n      <td>B</td>\n    </tr>\n    <tr>\n      <th>888</th>\n      <td>Zero</td>\n      <td>3</td>\n      <td>female</td>\n      <td>NaN</td>\n      <td>1</td>\n      <td>2</td>\n      <td>23.45</td>\n      <td>S</td>\n      <td>NaN</td>\n    </tr>\n    <tr>\n      <th>889</th>\n      <td>1</td>\n      <td>1</td>\n      <td>male</td>\n      <td>26.0</td>\n      <td>Zero</td>\n      <td>Zero</td>\n      <td>30.0</td>\n      <td>C</td>\n      <td>C</td>\n    </tr>\n    <tr>\n      <th>890</th>\n      <td>Zero</td>\n      <td>3</td>\n      <td>male</td>\n      <td>32.0</td>\n      <td>Zero</td>\n      <td>Zero</td>\n      <td>7.75</td>\n      <td>Q</td>\n      <td>NaN</td>\n    </tr>\n  </tbody>\n</table>\n<p>891 rows × 9 columns</p>\n</div>"
     },
     "execution_count": 10,
     "metadata": {},
     "output_type": "execute_result"
    }
   ],
   "source": [
    "titanic.replace(0, \"Zero\")"
   ],
   "metadata": {
    "collapsed": false,
    "ExecuteTime": {
     "end_time": "2024-02-28T20:21:39.137144100Z",
     "start_time": "2024-02-28T20:21:38.983821700Z"
    }
   },
   "id": "5fe3aceb8f6a733a",
   "execution_count": 10
  },
  {
   "cell_type": "markdown",
   "source": [
    "# Verify DF is a copy ori a view"
   ],
   "metadata": {
    "collapsed": false
   },
   "id": "2a8386e71ec2247f"
  },
  {
   "cell_type": "code",
   "outputs": [
    {
     "data": {
      "text/plain": "0    22.0\n1    66.0\n2    55.0\n3    77.0\n4    88.0\nName: age, dtype: float64"
     },
     "execution_count": 12,
     "metadata": {},
     "output_type": "execute_result"
    }
   ],
   "source": [
    "view_df = titanic.age\n",
    "view_df.head()"
   ],
   "metadata": {
    "collapsed": false,
    "ExecuteTime": {
     "end_time": "2024-02-28T20:21:49.874042800Z",
     "start_time": "2024-02-28T20:21:49.852593200Z"
    }
   },
   "id": "1553c1211d26a8ff",
   "execution_count": 12
  },
  {
   "cell_type": "markdown",
   "source": [
    "## Is True because is a view DF of the original DF"
   ],
   "metadata": {
    "collapsed": false
   },
   "id": "88c2b6647879a523"
  },
  {
   "cell_type": "code",
   "outputs": [
    {
     "data": {
      "text/plain": "True"
     },
     "execution_count": 14,
     "metadata": {},
     "output_type": "execute_result"
    }
   ],
   "source": [
    "view_df._is_view"
   ],
   "metadata": {
    "collapsed": false,
    "ExecuteTime": {
     "end_time": "2024-02-28T20:22:11.047658100Z",
     "start_time": "2024-02-28T20:22:11.015119400Z"
    }
   },
   "id": "8cb1b56d41b27591",
   "execution_count": 14
  },
  {
   "cell_type": "code",
   "outputs": [
    {
     "data": {
      "text/plain": "True"
     },
     "execution_count": 17,
     "metadata": {},
     "output_type": "execute_result"
    }
   ],
   "source": [
    "view_df._is_copy is None"
   ],
   "metadata": {
    "collapsed": false,
    "ExecuteTime": {
     "end_time": "2024-02-28T20:22:38.852505200Z",
     "start_time": "2024-02-28T20:22:38.832518800Z"
    }
   },
   "id": "5f39521d01fa654f",
   "execution_count": 17
  },
  {
   "cell_type": "markdown",
   "source": [
    "# How  no affect the original DF\n",
    "## We use the copy method for not affect the original DF"
   ],
   "metadata": {
    "collapsed": false
   },
   "id": "f147343caaa7b3d3"
  },
  {
   "cell_type": "code",
   "outputs": [
    {
     "data": {
      "text/plain": "        sex   age\n78     male  0.83\n305    male  0.92\n469  female  0.75\n644  female  0.75\n755    male  0.67\n803    male  0.42\n831    male  0.83",
      "text/html": "<div>\n<style scoped>\n    .dataframe tbody tr th:only-of-type {\n        vertical-align: middle;\n    }\n\n    .dataframe tbody tr th {\n        vertical-align: top;\n    }\n\n    .dataframe thead th {\n        text-align: right;\n    }\n</style>\n<table border=\"1\" class=\"dataframe\">\n  <thead>\n    <tr style=\"text-align: right;\">\n      <th></th>\n      <th>sex</th>\n      <th>age</th>\n    </tr>\n  </thead>\n  <tbody>\n    <tr>\n      <th>78</th>\n      <td>male</td>\n      <td>0.83</td>\n    </tr>\n    <tr>\n      <th>305</th>\n      <td>male</td>\n      <td>0.92</td>\n    </tr>\n    <tr>\n      <th>469</th>\n      <td>female</td>\n      <td>0.75</td>\n    </tr>\n    <tr>\n      <th>644</th>\n      <td>female</td>\n      <td>0.75</td>\n    </tr>\n    <tr>\n      <th>755</th>\n      <td>male</td>\n      <td>0.67</td>\n    </tr>\n    <tr>\n      <th>803</th>\n      <td>male</td>\n      <td>0.42</td>\n    </tr>\n    <tr>\n      <th>831</th>\n      <td>male</td>\n      <td>0.83</td>\n    </tr>\n  </tbody>\n</table>\n</div>"
     },
     "execution_count": 19,
     "metadata": {},
     "output_type": "execute_result"
    }
   ],
   "source": [
    "titanic_baby = titanic.loc[titanic.age < 1 , [\"sex\", \"age\"]].copy()\n",
    "titanic_baby"
   ],
   "metadata": {
    "collapsed": false,
    "ExecuteTime": {
     "end_time": "2024-02-28T20:35:50.673702400Z",
     "start_time": "2024-02-28T20:35:50.660596900Z"
    }
   },
   "id": "a4a2d0b1a3f70788",
   "execution_count": 19
  },
  {
   "cell_type": "code",
   "outputs": [
    {
     "data": {
      "text/plain": "        sex  age\n78     male    1\n305    male    1\n469  female    1\n644  female    1\n755    male    1\n803    male    1\n831    male    1",
      "text/html": "<div>\n<style scoped>\n    .dataframe tbody tr th:only-of-type {\n        vertical-align: middle;\n    }\n\n    .dataframe tbody tr th {\n        vertical-align: top;\n    }\n\n    .dataframe thead th {\n        text-align: right;\n    }\n</style>\n<table border=\"1\" class=\"dataframe\">\n  <thead>\n    <tr style=\"text-align: right;\">\n      <th></th>\n      <th>sex</th>\n      <th>age</th>\n    </tr>\n  </thead>\n  <tbody>\n    <tr>\n      <th>78</th>\n      <td>male</td>\n      <td>1</td>\n    </tr>\n    <tr>\n      <th>305</th>\n      <td>male</td>\n      <td>1</td>\n    </tr>\n    <tr>\n      <th>469</th>\n      <td>female</td>\n      <td>1</td>\n    </tr>\n    <tr>\n      <th>644</th>\n      <td>female</td>\n      <td>1</td>\n    </tr>\n    <tr>\n      <th>755</th>\n      <td>male</td>\n      <td>1</td>\n    </tr>\n    <tr>\n      <th>803</th>\n      <td>male</td>\n      <td>1</td>\n    </tr>\n    <tr>\n      <th>831</th>\n      <td>male</td>\n      <td>1</td>\n    </tr>\n  </tbody>\n</table>\n</div>"
     },
     "execution_count": 21,
     "metadata": {},
     "output_type": "execute_result"
    }
   ],
   "source": [
    "titanic_baby.age = 1\n",
    "titanic_baby"
   ],
   "metadata": {
    "collapsed": false,
    "ExecuteTime": {
     "end_time": "2024-02-28T20:36:13.810200900Z",
     "start_time": "2024-02-28T20:36:13.794757800Z"
    }
   },
   "id": "bf83f7d20979a7d6",
   "execution_count": 21
  },
  {
   "cell_type": "code",
   "outputs": [],
   "source": [],
   "metadata": {
    "collapsed": false
   },
   "id": "ee9691470de6a2a4"
  }
 ],
 "metadata": {
  "kernelspec": {
   "display_name": "Python 3",
   "language": "python",
   "name": "python3"
  },
  "language_info": {
   "codemirror_mode": {
    "name": "ipython",
    "version": 2
   },
   "file_extension": ".py",
   "mimetype": "text/x-python",
   "name": "python",
   "nbconvert_exporter": "python",
   "pygments_lexer": "ipython2",
   "version": "2.7.6"
  }
 },
 "nbformat": 4,
 "nbformat_minor": 5
}
