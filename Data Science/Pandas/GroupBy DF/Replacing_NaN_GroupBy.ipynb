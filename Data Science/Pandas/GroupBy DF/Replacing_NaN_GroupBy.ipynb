{
 "cells": [
  {
   "cell_type": "code",
   "execution_count": 1,
   "id": "initial_id",
   "metadata": {
    "collapsed": true,
    "ExecuteTime": {
     "end_time": "2024-05-08T17:01:49.845591Z",
     "start_time": "2024-05-08T17:01:49.329910300Z"
    }
   },
   "outputs": [],
   "source": [
    "import pandas as pd"
   ]
  },
  {
   "cell_type": "code",
   "outputs": [],
   "source": [
    "titanic = pd.read_csv(\"../../Data/titanic.csv\")"
   ],
   "metadata": {
    "collapsed": false,
    "ExecuteTime": {
     "end_time": "2024-05-08T17:01:51.947000200Z",
     "start_time": "2024-05-08T17:01:51.913301700Z"
    }
   },
   "id": "7b1eba8523ec3898",
   "execution_count": 2
  },
  {
   "cell_type": "markdown",
   "source": [
    "# We can use the transform method to fill missing values with the mean of a group.\n",
    "## In specific cases, we can use the transform method to fill missing values with the mean of a group."
   ],
   "metadata": {
    "collapsed": false
   },
   "id": "4df9082f9c63a8a9"
  },
  {
   "cell_type": "code",
   "outputs": [],
   "source": [
    "titanic[\"group_mean_age\"] = titanic.groupby(by=['sex','pclass']).age.transform(\"mean\")"
   ],
   "metadata": {
    "collapsed": false,
    "ExecuteTime": {
     "end_time": "2024-03-22T20:09:59.929448200Z",
     "start_time": "2024-03-22T20:09:59.917261500Z"
    }
   },
   "id": "b29b15e62b516a9c",
   "execution_count": 4
  },
  {
   "cell_type": "code",
   "outputs": [
    {
     "data": {
      "text/plain": "     survived  pclass     sex    age  sibsp  parch     fare embarked deck  \\\n0           0       3    male  22.00      1      0   7.2500        S  NaN   \n1           1       1  female  38.00      1      0  71.2833        C    C   \n2           1       3  female  26.00      0      0   7.9250        S  NaN   \n3           1       1  female  35.00      1      0  53.1000        S    C   \n4           0       3    male  35.00      0      0   8.0500        S  NaN   \n..        ...     ...     ...    ...    ...    ...      ...      ...  ...   \n886         0       2    male  27.00      0      0  13.0000        S  NaN   \n887         1       1  female  19.00      0      0  30.0000        S    B   \n888         0       3  female  21.75      1      2  23.4500        S  NaN   \n889         1       1    male  26.00      0      0  30.0000        C    C   \n890         0       3    male  32.00      0      0   7.7500        Q  NaN   \n\n     group_mean_age  \n0         26.507589  \n1         34.611765  \n2         21.750000  \n3         34.611765  \n4         26.507589  \n..              ...  \n886       30.740707  \n887       34.611765  \n888       21.750000  \n889       41.281386  \n890       26.507589  \n\n[891 rows x 10 columns]",
      "text/html": "<div>\n<style scoped>\n    .dataframe tbody tr th:only-of-type {\n        vertical-align: middle;\n    }\n\n    .dataframe tbody tr th {\n        vertical-align: top;\n    }\n\n    .dataframe thead th {\n        text-align: right;\n    }\n</style>\n<table border=\"1\" class=\"dataframe\">\n  <thead>\n    <tr style=\"text-align: right;\">\n      <th></th>\n      <th>survived</th>\n      <th>pclass</th>\n      <th>sex</th>\n      <th>age</th>\n      <th>sibsp</th>\n      <th>parch</th>\n      <th>fare</th>\n      <th>embarked</th>\n      <th>deck</th>\n      <th>group_mean_age</th>\n    </tr>\n  </thead>\n  <tbody>\n    <tr>\n      <th>0</th>\n      <td>0</td>\n      <td>3</td>\n      <td>male</td>\n      <td>22.00</td>\n      <td>1</td>\n      <td>0</td>\n      <td>7.2500</td>\n      <td>S</td>\n      <td>NaN</td>\n      <td>26.507589</td>\n    </tr>\n    <tr>\n      <th>1</th>\n      <td>1</td>\n      <td>1</td>\n      <td>female</td>\n      <td>38.00</td>\n      <td>1</td>\n      <td>0</td>\n      <td>71.2833</td>\n      <td>C</td>\n      <td>C</td>\n      <td>34.611765</td>\n    </tr>\n    <tr>\n      <th>2</th>\n      <td>1</td>\n      <td>3</td>\n      <td>female</td>\n      <td>26.00</td>\n      <td>0</td>\n      <td>0</td>\n      <td>7.9250</td>\n      <td>S</td>\n      <td>NaN</td>\n      <td>21.750000</td>\n    </tr>\n    <tr>\n      <th>3</th>\n      <td>1</td>\n      <td>1</td>\n      <td>female</td>\n      <td>35.00</td>\n      <td>1</td>\n      <td>0</td>\n      <td>53.1000</td>\n      <td>S</td>\n      <td>C</td>\n      <td>34.611765</td>\n    </tr>\n    <tr>\n      <th>4</th>\n      <td>0</td>\n      <td>3</td>\n      <td>male</td>\n      <td>35.00</td>\n      <td>0</td>\n      <td>0</td>\n      <td>8.0500</td>\n      <td>S</td>\n      <td>NaN</td>\n      <td>26.507589</td>\n    </tr>\n    <tr>\n      <th>...</th>\n      <td>...</td>\n      <td>...</td>\n      <td>...</td>\n      <td>...</td>\n      <td>...</td>\n      <td>...</td>\n      <td>...</td>\n      <td>...</td>\n      <td>...</td>\n      <td>...</td>\n    </tr>\n    <tr>\n      <th>886</th>\n      <td>0</td>\n      <td>2</td>\n      <td>male</td>\n      <td>27.00</td>\n      <td>0</td>\n      <td>0</td>\n      <td>13.0000</td>\n      <td>S</td>\n      <td>NaN</td>\n      <td>30.740707</td>\n    </tr>\n    <tr>\n      <th>887</th>\n      <td>1</td>\n      <td>1</td>\n      <td>female</td>\n      <td>19.00</td>\n      <td>0</td>\n      <td>0</td>\n      <td>30.0000</td>\n      <td>S</td>\n      <td>B</td>\n      <td>34.611765</td>\n    </tr>\n    <tr>\n      <th>888</th>\n      <td>0</td>\n      <td>3</td>\n      <td>female</td>\n      <td>21.75</td>\n      <td>1</td>\n      <td>2</td>\n      <td>23.4500</td>\n      <td>S</td>\n      <td>NaN</td>\n      <td>21.750000</td>\n    </tr>\n    <tr>\n      <th>889</th>\n      <td>1</td>\n      <td>1</td>\n      <td>male</td>\n      <td>26.00</td>\n      <td>0</td>\n      <td>0</td>\n      <td>30.0000</td>\n      <td>C</td>\n      <td>C</td>\n      <td>41.281386</td>\n    </tr>\n    <tr>\n      <th>890</th>\n      <td>0</td>\n      <td>3</td>\n      <td>male</td>\n      <td>32.00</td>\n      <td>0</td>\n      <td>0</td>\n      <td>7.7500</td>\n      <td>Q</td>\n      <td>NaN</td>\n      <td>26.507589</td>\n    </tr>\n  </tbody>\n</table>\n<p>891 rows × 10 columns</p>\n</div>"
     },
     "execution_count": 9,
     "metadata": {},
     "output_type": "execute_result"
    }
   ],
   "source": [
    "titanic"
   ],
   "metadata": {
    "collapsed": false,
    "ExecuteTime": {
     "end_time": "2024-03-22T20:12:55.649134500Z",
     "start_time": "2024-03-22T20:12:55.636394600Z"
    }
   },
   "id": "ec31ce9f8845c43b",
   "execution_count": 9
  },
  {
   "cell_type": "code",
   "outputs": [
    {
     "data": {
      "text/plain": "0      22.00\n1      38.00\n2      26.00\n3      35.00\n4      35.00\n       ...  \n886    27.00\n887    19.00\n888    21.75\n889    26.00\n890    32.00\nName: age, Length: 891, dtype: float64"
     },
     "execution_count": 8,
     "metadata": {},
     "output_type": "execute_result"
    }
   ],
   "source": [
    "titanic.age.fillna(value=titanic.group_mean_age)"
   ],
   "metadata": {
    "collapsed": false,
    "ExecuteTime": {
     "end_time": "2024-03-22T20:12:17.374504800Z",
     "start_time": "2024-03-22T20:12:17.350518500Z"
    }
   },
   "id": "18bf08930572f645",
   "execution_count": 8
  },
  {
   "cell_type": "code",
   "outputs": [],
   "source": [],
   "metadata": {
    "collapsed": false
   },
   "id": "84600e95f5acde3c"
  }
 ],
 "metadata": {
  "kernelspec": {
   "display_name": "Python 3",
   "language": "python",
   "name": "python3"
  },
  "language_info": {
   "codemirror_mode": {
    "name": "ipython",
    "version": 2
   },
   "file_extension": ".py",
   "mimetype": "text/x-python",
   "name": "python",
   "nbconvert_exporter": "python",
   "pygments_lexer": "ipython2",
   "version": "2.7.6"
  }
 },
 "nbformat": 4,
 "nbformat_minor": 5
}
