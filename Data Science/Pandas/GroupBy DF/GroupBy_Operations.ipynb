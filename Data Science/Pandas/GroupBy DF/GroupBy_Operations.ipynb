{
 "cells": [
  {
   "cell_type": "code",
   "execution_count": 1,
   "id": "initial_id",
   "metadata": {
    "collapsed": true,
    "ExecuteTime": {
     "end_time": "2024-05-08T17:01:25.833340300Z",
     "start_time": "2024-05-08T17:01:25.232733600Z"
    }
   },
   "outputs": [],
   "source": [
    "import pandas as pd"
   ]
  },
  {
   "cell_type": "code",
   "outputs": [],
   "source": [
    "titanic = pd.read_csv('../../Data/titanic.csv')"
   ],
   "metadata": {
    "collapsed": false,
    "ExecuteTime": {
     "end_time": "2024-05-08T17:01:33.698912100Z",
     "start_time": "2024-05-08T17:01:33.667437700Z"
    }
   },
   "id": "391d4d8c1fb5b64e",
   "execution_count": 2
  },
  {
   "cell_type": "code",
   "outputs": [],
   "source": [
    "titanic_slice = titanic.iloc[:10, [2,3]]"
   ],
   "metadata": {
    "collapsed": false,
    "ExecuteTime": {
     "end_time": "2024-03-20T21:08:38.173539Z",
     "start_time": "2024-03-20T21:08:38.161000400Z"
    }
   },
   "id": "3561d26bdf95fbc",
   "execution_count": 4
  },
  {
   "cell_type": "code",
   "outputs": [
    {
     "data": {
      "text/plain": "      sex   age\n0    male  22.0\n1  female  38.0\n2  female  26.0\n3  female  35.0\n4    male  35.0\n5    male   NaN\n6    male  54.0\n7    male   2.0\n8  female  27.0\n9  female  14.0",
      "text/html": "<div>\n<style scoped>\n    .dataframe tbody tr th:only-of-type {\n        vertical-align: middle;\n    }\n\n    .dataframe tbody tr th {\n        vertical-align: top;\n    }\n\n    .dataframe thead th {\n        text-align: right;\n    }\n</style>\n<table border=\"1\" class=\"dataframe\">\n  <thead>\n    <tr style=\"text-align: right;\">\n      <th></th>\n      <th>sex</th>\n      <th>age</th>\n    </tr>\n  </thead>\n  <tbody>\n    <tr>\n      <th>0</th>\n      <td>male</td>\n      <td>22.0</td>\n    </tr>\n    <tr>\n      <th>1</th>\n      <td>female</td>\n      <td>38.0</td>\n    </tr>\n    <tr>\n      <th>2</th>\n      <td>female</td>\n      <td>26.0</td>\n    </tr>\n    <tr>\n      <th>3</th>\n      <td>female</td>\n      <td>35.0</td>\n    </tr>\n    <tr>\n      <th>4</th>\n      <td>male</td>\n      <td>35.0</td>\n    </tr>\n    <tr>\n      <th>5</th>\n      <td>male</td>\n      <td>NaN</td>\n    </tr>\n    <tr>\n      <th>6</th>\n      <td>male</td>\n      <td>54.0</td>\n    </tr>\n    <tr>\n      <th>7</th>\n      <td>male</td>\n      <td>2.0</td>\n    </tr>\n    <tr>\n      <th>8</th>\n      <td>female</td>\n      <td>27.0</td>\n    </tr>\n    <tr>\n      <th>9</th>\n      <td>female</td>\n      <td>14.0</td>\n    </tr>\n  </tbody>\n</table>\n</div>"
     },
     "execution_count": 6,
     "metadata": {},
     "output_type": "execute_result"
    }
   ],
   "source": [
    "titanic_slice"
   ],
   "metadata": {
    "collapsed": false,
    "ExecuteTime": {
     "end_time": "2024-03-20T21:08:45.035442300Z",
     "start_time": "2024-03-20T21:08:44.999070800Z"
    }
   },
   "id": "115d31d3788d2f67",
   "execution_count": 6
  },
  {
   "cell_type": "markdown",
   "source": [
    "Is a object of GroupBy"
   ],
   "metadata": {
    "collapsed": false
   },
   "id": "916a523b7a850159"
  },
  {
   "cell_type": "code",
   "outputs": [
    {
     "data": {
      "text/plain": "<pandas.core.groupby.generic.DataFrameGroupBy object at 0x00000227E0EC8B90>"
     },
     "execution_count": 8,
     "metadata": {},
     "output_type": "execute_result"
    }
   ],
   "source": [
    "titanic_slice.groupby('sex')"
   ],
   "metadata": {
    "collapsed": false,
    "ExecuteTime": {
     "end_time": "2024-03-20T21:09:31.629675900Z",
     "start_time": "2024-03-20T21:09:31.612727800Z"
    }
   },
   "id": "b8c47f288ec356",
   "execution_count": 8
  },
  {
   "cell_type": "code",
   "outputs": [],
   "source": [
    "gbo = titanic_slice.groupby('sex')"
   ],
   "metadata": {
    "collapsed": false,
    "ExecuteTime": {
     "end_time": "2024-03-20T21:10:26.854021100Z",
     "start_time": "2024-03-20T21:10:26.845026Z"
    }
   },
   "id": "ebb5981852e62610",
   "execution_count": 10
  },
  {
   "cell_type": "code",
   "outputs": [
    {
     "data": {
      "text/plain": "pandas.core.groupby.generic.DataFrameGroupBy"
     },
     "execution_count": 12,
     "metadata": {},
     "output_type": "execute_result"
    }
   ],
   "source": [
    "type(gbo)"
   ],
   "metadata": {
    "collapsed": false,
    "ExecuteTime": {
     "end_time": "2024-03-20T21:10:47.625036500Z",
     "start_time": "2024-03-20T21:10:47.608445200Z"
    }
   },
   "id": "a40ce56428662758",
   "execution_count": 12
  },
  {
   "cell_type": "code",
   "outputs": [
    {
     "data": {
      "text/plain": "{'female': [1, 2, 3, 8, 9], 'male': [0, 4, 5, 6, 7]}"
     },
     "execution_count": 13,
     "metadata": {},
     "output_type": "execute_result"
    }
   ],
   "source": [
    "gbo.groups"
   ],
   "metadata": {
    "collapsed": false,
    "ExecuteTime": {
     "end_time": "2024-03-20T21:10:49.631429200Z",
     "start_time": "2024-03-20T21:10:49.616228100Z"
    }
   },
   "id": "843bc40b895eb43c",
   "execution_count": 13
  },
  {
   "cell_type": "code",
   "outputs": [],
   "source": [
    "l = list(gbo)"
   ],
   "metadata": {
    "collapsed": false,
    "ExecuteTime": {
     "end_time": "2024-03-20T21:11:00.171550500Z",
     "start_time": "2024-03-20T21:11:00.041687700Z"
    }
   },
   "id": "3c8a8902c946b33",
   "execution_count": 14
  },
  {
   "cell_type": "markdown",
   "source": [
    "# GroupBy split 2 groups (split by the key 'sex')\n",
    "## The list is a list of tuples, each tuple has 2 elements (DF with female and DF with male)\n"
   ],
   "metadata": {
    "collapsed": false
   },
   "id": "d5fb6a93e17dbbda"
  },
  {
   "cell_type": "code",
   "outputs": [
    {
     "data": {
      "text/plain": "[('female',\n        sex   age\n  1  female  38.0\n  2  female  26.0\n  3  female  35.0\n  8  female  27.0\n  9  female  14.0),\n ('male',\n      sex   age\n  0  male  22.0\n  4  male  35.0\n  5  male   NaN\n  6  male  54.0\n  7  male   2.0)]"
     },
     "execution_count": 15,
     "metadata": {},
     "output_type": "execute_result"
    }
   ],
   "source": [
    "l"
   ],
   "metadata": {
    "collapsed": false,
    "ExecuteTime": {
     "end_time": "2024-03-20T21:11:03.437547900Z",
     "start_time": "2024-03-20T21:11:03.430509200Z"
    }
   },
   "id": "e66e0a7e64eb049c",
   "execution_count": 15
  },
  {
   "cell_type": "code",
   "outputs": [
    {
     "data": {
      "text/plain": "('female',\n       sex   age\n 1  female  38.0\n 2  female  26.0\n 3  female  35.0\n 8  female  27.0\n 9  female  14.0)"
     },
     "execution_count": 16,
     "metadata": {},
     "output_type": "execute_result"
    }
   ],
   "source": [
    "l[0]"
   ],
   "metadata": {
    "collapsed": false,
    "ExecuteTime": {
     "end_time": "2024-03-20T21:11:38.830428300Z",
     "start_time": "2024-03-20T21:11:38.815869600Z"
    }
   },
   "id": "d72d8a3aa48542d6",
   "execution_count": 16
  },
  {
   "cell_type": "code",
   "outputs": [
    {
     "data": {
      "text/plain": "tuple"
     },
     "execution_count": 21,
     "metadata": {},
     "output_type": "execute_result"
    }
   ],
   "source": [
    "type(l[0])"
   ],
   "metadata": {
    "collapsed": false,
    "ExecuteTime": {
     "end_time": "2024-03-20T21:13:19.075095300Z",
     "start_time": "2024-03-20T21:13:19.059928800Z"
    }
   },
   "id": "cb6c3cf02e625618",
   "execution_count": 21
  },
  {
   "cell_type": "markdown",
   "source": [
    "First element of the list is a tuple with the group name and the data frame.\n",
    "[0] = group name\n",
    "[1] = data frame\n"
   ],
   "metadata": {
    "collapsed": false
   },
   "id": "89538614350da19d"
  },
  {
   "cell_type": "code",
   "outputs": [
    {
     "data": {
      "text/plain": "      sex   age\n1  female  38.0\n2  female  26.0\n3  female  35.0\n8  female  27.0\n9  female  14.0",
      "text/html": "<div>\n<style scoped>\n    .dataframe tbody tr th:only-of-type {\n        vertical-align: middle;\n    }\n\n    .dataframe tbody tr th {\n        vertical-align: top;\n    }\n\n    .dataframe thead th {\n        text-align: right;\n    }\n</style>\n<table border=\"1\" class=\"dataframe\">\n  <thead>\n    <tr style=\"text-align: right;\">\n      <th></th>\n      <th>sex</th>\n      <th>age</th>\n    </tr>\n  </thead>\n  <tbody>\n    <tr>\n      <th>1</th>\n      <td>female</td>\n      <td>38.0</td>\n    </tr>\n    <tr>\n      <th>2</th>\n      <td>female</td>\n      <td>26.0</td>\n    </tr>\n    <tr>\n      <th>3</th>\n      <td>female</td>\n      <td>35.0</td>\n    </tr>\n    <tr>\n      <th>8</th>\n      <td>female</td>\n      <td>27.0</td>\n    </tr>\n    <tr>\n      <th>9</th>\n      <td>female</td>\n      <td>14.0</td>\n    </tr>\n  </tbody>\n</table>\n</div>"
     },
     "execution_count": 19,
     "metadata": {},
     "output_type": "execute_result"
    }
   ],
   "source": [
    "l[0][1]"
   ],
   "metadata": {
    "collapsed": false,
    "ExecuteTime": {
     "end_time": "2024-03-20T21:12:18.673734400Z",
     "start_time": "2024-03-20T21:12:18.665781900Z"
    }
   },
   "id": "fcc221bb9e921a0c",
   "execution_count": 19
  },
  {
   "cell_type": "code",
   "outputs": [
    {
     "data": {
      "text/plain": "pandas.core.frame.DataFrame"
     },
     "execution_count": 20,
     "metadata": {},
     "output_type": "execute_result"
    }
   ],
   "source": [
    "type(l[0][1])"
   ],
   "metadata": {
    "collapsed": false,
    "ExecuteTime": {
     "end_time": "2024-03-20T21:12:40.370042Z",
     "start_time": "2024-03-20T21:12:40.345214700Z"
    }
   },
   "id": "557a08209696d312",
   "execution_count": 20
  },
  {
   "cell_type": "code",
   "outputs": [],
   "source": [],
   "metadata": {
    "collapsed": false
   },
   "id": "f41c573eb59f25bb"
  }
 ],
 "metadata": {
  "kernelspec": {
   "display_name": "Python 3",
   "language": "python",
   "name": "python3"
  },
  "language_info": {
   "codemirror_mode": {
    "name": "ipython",
    "version": 2
   },
   "file_extension": ".py",
   "mimetype": "text/x-python",
   "name": "python",
   "nbconvert_exporter": "python",
   "pygments_lexer": "ipython2",
   "version": "2.7.6"
  }
 },
 "nbformat": 4,
 "nbformat_minor": 5
}
