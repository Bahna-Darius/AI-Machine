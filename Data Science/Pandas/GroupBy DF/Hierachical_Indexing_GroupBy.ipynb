{
 "cells": [
  {
   "cell_type": "code",
   "outputs": [],
   "source": [
    "import pandas as pd"
   ],
   "metadata": {
    "collapsed": false,
    "ExecuteTime": {
     "end_time": "2024-05-08T17:01:41.615266900Z",
     "start_time": "2024-05-08T17:01:40.832581400Z"
    }
   },
   "id": "ce9cb58031156518",
   "execution_count": 1
  },
  {
   "cell_type": "code",
   "outputs": [],
   "source": [
    "titanic = pd.read_csv(\"../../Data/titanic.csv\", usecols=[\"survived\", \"pclass\", \"sex\", \"age\"])"
   ],
   "metadata": {
    "collapsed": false,
    "ExecuteTime": {
     "end_time": "2024-05-08T17:01:43.304312200Z",
     "start_time": "2024-05-08T17:01:43.274558100Z"
    }
   },
   "id": "351b860464cb13d5",
   "execution_count": 2
  },
  {
   "cell_type": "code",
   "execution_count": 3,
   "id": "initial_id",
   "metadata": {
    "collapsed": true,
    "ExecuteTime": {
     "end_time": "2024-03-23T19:59:50.056147300Z",
     "start_time": "2024-03-23T19:59:50.016044400Z"
    }
   },
   "outputs": [
    {
     "data": {
      "text/plain": "     survived  pclass     sex   age\n0           0       3    male  22.0\n1           1       1  female  38.0\n2           1       3  female  26.0\n3           1       1  female  35.0\n4           0       3    male  35.0\n..        ...     ...     ...   ...\n886         0       2    male  27.0\n887         1       1  female  19.0\n888         0       3  female   NaN\n889         1       1    male  26.0\n890         0       3    male  32.0\n\n[891 rows x 4 columns]",
      "text/html": "<div>\n<style scoped>\n    .dataframe tbody tr th:only-of-type {\n        vertical-align: middle;\n    }\n\n    .dataframe tbody tr th {\n        vertical-align: top;\n    }\n\n    .dataframe thead th {\n        text-align: right;\n    }\n</style>\n<table border=\"1\" class=\"dataframe\">\n  <thead>\n    <tr style=\"text-align: right;\">\n      <th></th>\n      <th>survived</th>\n      <th>pclass</th>\n      <th>sex</th>\n      <th>age</th>\n    </tr>\n  </thead>\n  <tbody>\n    <tr>\n      <th>0</th>\n      <td>0</td>\n      <td>3</td>\n      <td>male</td>\n      <td>22.0</td>\n    </tr>\n    <tr>\n      <th>1</th>\n      <td>1</td>\n      <td>1</td>\n      <td>female</td>\n      <td>38.0</td>\n    </tr>\n    <tr>\n      <th>2</th>\n      <td>1</td>\n      <td>3</td>\n      <td>female</td>\n      <td>26.0</td>\n    </tr>\n    <tr>\n      <th>3</th>\n      <td>1</td>\n      <td>1</td>\n      <td>female</td>\n      <td>35.0</td>\n    </tr>\n    <tr>\n      <th>4</th>\n      <td>0</td>\n      <td>3</td>\n      <td>male</td>\n      <td>35.0</td>\n    </tr>\n    <tr>\n      <th>...</th>\n      <td>...</td>\n      <td>...</td>\n      <td>...</td>\n      <td>...</td>\n    </tr>\n    <tr>\n      <th>886</th>\n      <td>0</td>\n      <td>2</td>\n      <td>male</td>\n      <td>27.0</td>\n    </tr>\n    <tr>\n      <th>887</th>\n      <td>1</td>\n      <td>1</td>\n      <td>female</td>\n      <td>19.0</td>\n    </tr>\n    <tr>\n      <th>888</th>\n      <td>0</td>\n      <td>3</td>\n      <td>female</td>\n      <td>NaN</td>\n    </tr>\n    <tr>\n      <th>889</th>\n      <td>1</td>\n      <td>1</td>\n      <td>male</td>\n      <td>26.0</td>\n    </tr>\n    <tr>\n      <th>890</th>\n      <td>0</td>\n      <td>3</td>\n      <td>male</td>\n      <td>32.0</td>\n    </tr>\n  </tbody>\n</table>\n<p>891 rows × 4 columns</p>\n</div>"
     },
     "execution_count": 3,
     "metadata": {},
     "output_type": "execute_result"
    }
   ],
   "source": [
    "titanic"
   ]
  },
  {
   "cell_type": "code",
   "outputs": [],
   "source": [
    "summary = titanic.groupby(by=[\"sex\", \"pclass\"]).mean()"
   ],
   "metadata": {
    "collapsed": false,
    "ExecuteTime": {
     "end_time": "2024-03-23T20:00:46.162262Z",
     "start_time": "2024-03-23T20:00:46.136258900Z"
    }
   },
   "id": "650feb2cb5ba3790",
   "execution_count": 5
  },
  {
   "cell_type": "code",
   "outputs": [
    {
     "data": {
      "text/plain": "               survived        age\nsex    pclass                     \nfemale 1       0.968085  34.611765\n       2       0.921053  28.722973\n       3       0.500000  21.750000\nmale   1       0.368852  41.281386\n       2       0.157407  30.740707\n       3       0.135447  26.507589",
      "text/html": "<div>\n<style scoped>\n    .dataframe tbody tr th:only-of-type {\n        vertical-align: middle;\n    }\n\n    .dataframe tbody tr th {\n        vertical-align: top;\n    }\n\n    .dataframe thead th {\n        text-align: right;\n    }\n</style>\n<table border=\"1\" class=\"dataframe\">\n  <thead>\n    <tr style=\"text-align: right;\">\n      <th></th>\n      <th></th>\n      <th>survived</th>\n      <th>age</th>\n    </tr>\n    <tr>\n      <th>sex</th>\n      <th>pclass</th>\n      <th></th>\n      <th></th>\n    </tr>\n  </thead>\n  <tbody>\n    <tr>\n      <th rowspan=\"3\" valign=\"top\">female</th>\n      <th>1</th>\n      <td>0.968085</td>\n      <td>34.611765</td>\n    </tr>\n    <tr>\n      <th>2</th>\n      <td>0.921053</td>\n      <td>28.722973</td>\n    </tr>\n    <tr>\n      <th>3</th>\n      <td>0.500000</td>\n      <td>21.750000</td>\n    </tr>\n    <tr>\n      <th rowspan=\"3\" valign=\"top\">male</th>\n      <th>1</th>\n      <td>0.368852</td>\n      <td>41.281386</td>\n    </tr>\n    <tr>\n      <th>2</th>\n      <td>0.157407</td>\n      <td>30.740707</td>\n    </tr>\n    <tr>\n      <th>3</th>\n      <td>0.135447</td>\n      <td>26.507589</td>\n    </tr>\n  </tbody>\n</table>\n</div>"
     },
     "execution_count": 6,
     "metadata": {},
     "output_type": "execute_result"
    }
   ],
   "source": [
    "summary"
   ],
   "metadata": {
    "collapsed": false,
    "ExecuteTime": {
     "end_time": "2024-03-23T20:00:51.646443100Z",
     "start_time": "2024-03-23T20:00:51.626441900Z"
    }
   },
   "id": "7ee69208e45a3923",
   "execution_count": 6
  },
  {
   "cell_type": "code",
   "outputs": [
    {
     "data": {
      "text/plain": "MultiIndex([('female', 1),\n            ('female', 2),\n            ('female', 3),\n            (  'male', 1),\n            (  'male', 2),\n            (  'male', 3)],\n           names=['sex', 'pclass'])"
     },
     "execution_count": 7,
     "metadata": {},
     "output_type": "execute_result"
    }
   ],
   "source": [
    "summary.index"
   ],
   "metadata": {
    "collapsed": false,
    "ExecuteTime": {
     "end_time": "2024-03-23T20:01:01.971266800Z",
     "start_time": "2024-03-23T20:01:01.948486900Z"
    }
   },
   "id": "979d1579377e2e99",
   "execution_count": 7
  },
  {
   "cell_type": "markdown",
   "source": [
    "# When we have a multiindex, we can use the loc method to access the data. The first argument is a tuple with the values of the index. If we want to access the data of the first row, we can use the following code:"
   ],
   "metadata": {
    "collapsed": false
   },
   "id": "f8fd442a2806902d"
  },
  {
   "cell_type": "code",
   "outputs": [
    {
     "data": {
      "text/plain": "survived     0.921053\nage         28.722973\nName: (female, 2), dtype: float64"
     },
     "execution_count": 8,
     "metadata": {},
     "output_type": "execute_result"
    }
   ],
   "source": [
    "summary.loc[(\"female\", 2), :]"
   ],
   "metadata": {
    "collapsed": false,
    "ExecuteTime": {
     "end_time": "2024-03-23T20:01:34.598480300Z",
     "start_time": "2024-03-23T20:01:34.579623Z"
    }
   },
   "id": "96289b936d928d8b",
   "execution_count": 8
  },
  {
   "cell_type": "markdown",
   "source": [
    "## First element of the tuple is the value of the first index, and the second element is the value of the second index. If we want to access the age of the first row, we can use the following code:"
   ],
   "metadata": {
    "collapsed": false
   },
   "id": "4b69c7c3f0282f70"
  },
  {
   "cell_type": "code",
   "outputs": [
    {
     "data": {
      "text/plain": "28.722972972972972"
     },
     "execution_count": 9,
     "metadata": {},
     "output_type": "execute_result"
    }
   ],
   "source": [
    "summary.loc[(\"female\", 2), \"age\"]"
   ],
   "metadata": {
    "collapsed": false,
    "ExecuteTime": {
     "end_time": "2024-03-23T20:01:42.594699900Z",
     "start_time": "2024-03-23T20:01:42.581137400Z"
    }
   },
   "id": "ac458eda20bbc892",
   "execution_count": 9
  },
  {
   "cell_type": "markdown",
   "source": [
    "## Method swaplevel() changes the order of the levels of the index(now is pclass first). The following code changes the order of the levels of the index:"
   ],
   "metadata": {
    "collapsed": false
   },
   "id": "a84325319d84639"
  },
  {
   "cell_type": "code",
   "outputs": [
    {
     "data": {
      "text/plain": "               survived        age\npclass sex                        \n1      female  0.968085  34.611765\n       male    0.368852  41.281386\n2      female  0.921053  28.722973\n       male    0.157407  30.740707\n3      female  0.500000  21.750000\n       male    0.135447  26.507589",
      "text/html": "<div>\n<style scoped>\n    .dataframe tbody tr th:only-of-type {\n        vertical-align: middle;\n    }\n\n    .dataframe tbody tr th {\n        vertical-align: top;\n    }\n\n    .dataframe thead th {\n        text-align: right;\n    }\n</style>\n<table border=\"1\" class=\"dataframe\">\n  <thead>\n    <tr style=\"text-align: right;\">\n      <th></th>\n      <th></th>\n      <th>survived</th>\n      <th>age</th>\n    </tr>\n    <tr>\n      <th>pclass</th>\n      <th>sex</th>\n      <th></th>\n      <th></th>\n    </tr>\n  </thead>\n  <tbody>\n    <tr>\n      <th rowspan=\"2\" valign=\"top\">1</th>\n      <th>female</th>\n      <td>0.968085</td>\n      <td>34.611765</td>\n    </tr>\n    <tr>\n      <th>male</th>\n      <td>0.368852</td>\n      <td>41.281386</td>\n    </tr>\n    <tr>\n      <th rowspan=\"2\" valign=\"top\">2</th>\n      <th>female</th>\n      <td>0.921053</td>\n      <td>28.722973</td>\n    </tr>\n    <tr>\n      <th>male</th>\n      <td>0.157407</td>\n      <td>30.740707</td>\n    </tr>\n    <tr>\n      <th rowspan=\"2\" valign=\"top\">3</th>\n      <th>female</th>\n      <td>0.500000</td>\n      <td>21.750000</td>\n    </tr>\n    <tr>\n      <th>male</th>\n      <td>0.135447</td>\n      <td>26.507589</td>\n    </tr>\n  </tbody>\n</table>\n</div>"
     },
     "execution_count": 10,
     "metadata": {},
     "output_type": "execute_result"
    }
   ],
   "source": [
    "summary.swaplevel().sort_index()"
   ],
   "metadata": {
    "collapsed": false,
    "ExecuteTime": {
     "end_time": "2024-03-23T20:02:04.361016100Z",
     "start_time": "2024-03-23T20:02:04.343012300Z"
    }
   },
   "id": "2daea58d6476dedb",
   "execution_count": 10
  },
  {
   "cell_type": "markdown",
   "source": [
    "# We can use reset_index to convert the index into columns. The following code converts the index into columns:"
   ],
   "metadata": {
    "collapsed": false
   },
   "id": "658fb3ad3ba95fed"
  },
  {
   "cell_type": "code",
   "outputs": [
    {
     "data": {
      "text/plain": "      sex  pclass  survived        age\n0  female       1  0.968085  34.611765\n1  female       2  0.921053  28.722973\n2  female       3  0.500000  21.750000\n3    male       1  0.368852  41.281386\n4    male       2  0.157407  30.740707\n5    male       3  0.135447  26.507589",
      "text/html": "<div>\n<style scoped>\n    .dataframe tbody tr th:only-of-type {\n        vertical-align: middle;\n    }\n\n    .dataframe tbody tr th {\n        vertical-align: top;\n    }\n\n    .dataframe thead th {\n        text-align: right;\n    }\n</style>\n<table border=\"1\" class=\"dataframe\">\n  <thead>\n    <tr style=\"text-align: right;\">\n      <th></th>\n      <th>sex</th>\n      <th>pclass</th>\n      <th>survived</th>\n      <th>age</th>\n    </tr>\n  </thead>\n  <tbody>\n    <tr>\n      <th>0</th>\n      <td>female</td>\n      <td>1</td>\n      <td>0.968085</td>\n      <td>34.611765</td>\n    </tr>\n    <tr>\n      <th>1</th>\n      <td>female</td>\n      <td>2</td>\n      <td>0.921053</td>\n      <td>28.722973</td>\n    </tr>\n    <tr>\n      <th>2</th>\n      <td>female</td>\n      <td>3</td>\n      <td>0.500000</td>\n      <td>21.750000</td>\n    </tr>\n    <tr>\n      <th>3</th>\n      <td>male</td>\n      <td>1</td>\n      <td>0.368852</td>\n      <td>41.281386</td>\n    </tr>\n    <tr>\n      <th>4</th>\n      <td>male</td>\n      <td>2</td>\n      <td>0.157407</td>\n      <td>30.740707</td>\n    </tr>\n    <tr>\n      <th>5</th>\n      <td>male</td>\n      <td>3</td>\n      <td>0.135447</td>\n      <td>26.507589</td>\n    </tr>\n  </tbody>\n</table>\n</div>"
     },
     "execution_count": 11,
     "metadata": {},
     "output_type": "execute_result"
    }
   ],
   "source": [
    "summary.reset_index()"
   ],
   "metadata": {
    "collapsed": false,
    "ExecuteTime": {
     "end_time": "2024-03-23T20:02:20.599239700Z",
     "start_time": "2024-03-23T20:02:20.560008Z"
    }
   },
   "id": "205c8fe26ddb22f9",
   "execution_count": 11
  },
  {
   "cell_type": "code",
   "outputs": [],
   "source": [],
   "metadata": {
    "collapsed": false
   },
   "id": "b4a9e0e292d46436"
  }
 ],
 "metadata": {
  "kernelspec": {
   "display_name": "Python 3",
   "language": "python",
   "name": "python3"
  },
  "language_info": {
   "codemirror_mode": {
    "name": "ipython",
    "version": 2
   },
   "file_extension": ".py",
   "mimetype": "text/x-python",
   "name": "python",
   "nbconvert_exporter": "python",
   "pygments_lexer": "ipython2",
   "version": "2.7.6"
  }
 },
 "nbformat": 4,
 "nbformat_minor": 5
}
