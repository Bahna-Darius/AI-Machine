{
 "cells": [
  {
   "cell_type": "code",
   "execution_count": 1,
   "id": "initial_id",
   "metadata": {
    "collapsed": true,
    "ExecuteTime": {
     "end_time": "2024-05-08T17:02:26.410630Z",
     "start_time": "2024-05-08T17:02:25.837926900Z"
    }
   },
   "outputs": [],
   "source": [
    "import pandas as pd "
   ]
  },
  {
   "cell_type": "code",
   "outputs": [],
   "source": [
    "titanic = pd.read_csv(\"../../Data/titanic.csv\")"
   ],
   "metadata": {
    "collapsed": false,
    "ExecuteTime": {
     "end_time": "2024-05-08T17:02:28.083795600Z",
     "start_time": "2024-05-08T17:02:28.057648700Z"
    }
   },
   "id": "813c6d2b79a2ecc4",
   "execution_count": 2
  },
  {
   "cell_type": "code",
   "outputs": [
    {
     "data": {
      "text/plain": "sex\nfemale    0.742038\nmale      0.188908\nName: survived, dtype: float64"
     },
     "execution_count": 3,
     "metadata": {},
     "output_type": "execute_result"
    }
   ],
   "source": [
    "titanic.groupby(by='sex').survived.mean()"
   ],
   "metadata": {
    "collapsed": false,
    "ExecuteTime": {
     "end_time": "2024-03-22T19:43:10.742856800Z",
     "start_time": "2024-03-22T19:43:10.730763200Z"
    }
   },
   "id": "16999619c5d757ec",
   "execution_count": 3
  },
  {
   "cell_type": "markdown",
   "source": [
    "# With transform method we can mean for all the rows in the group\n",
    "## We need specify the column we want to apply the function and the function we want to apply"
   ],
   "metadata": {
    "collapsed": false
   },
   "id": "2c2690ca05f9b46b"
  },
  {
   "cell_type": "code",
   "outputs": [
    {
     "data": {
      "text/plain": "0      0.135447\n1      0.968085\n2      0.500000\n3      0.968085\n4      0.135447\n         ...   \n886    0.157407\n887    0.968085\n888    0.500000\n889    0.368852\n890    0.135447\nName: survived, Length: 891, dtype: float64"
     },
     "execution_count": 12,
     "metadata": {},
     "output_type": "execute_result"
    }
   ],
   "source": [
    "titanic.groupby(by=['sex', 'pclass']).survived.transform('mean')"
   ],
   "metadata": {
    "collapsed": false,
    "ExecuteTime": {
     "end_time": "2024-03-22T19:47:28.789374400Z",
     "start_time": "2024-03-22T19:47:28.769039400Z"
    }
   },
   "id": "b2554f2f5bcdb05b",
   "execution_count": 12
  },
  {
   "cell_type": "markdown",
   "source": [],
   "metadata": {
    "collapsed": false
   },
   "id": "4cd3ed8c60a6f2e7"
  },
  {
   "cell_type": "markdown",
   "source": [
    "# We can create a new column with the result of the transform method"
   ],
   "metadata": {
    "collapsed": false
   },
   "id": "fb559a9a054e6b79"
  },
  {
   "cell_type": "code",
   "outputs": [],
   "source": [
    "titanic[\"group_surv_rate\"] = titanic.groupby(by=['sex',  'pclass']).survived.transform('mean')"
   ],
   "metadata": {
    "collapsed": false,
    "ExecuteTime": {
     "end_time": "2024-03-22T19:47:14.847266200Z",
     "start_time": "2024-03-22T19:47:14.827532100Z"
    }
   },
   "id": "e7540f3f0bdd6faa",
   "execution_count": 10
  },
  {
   "cell_type": "markdown",
   "source": [
    "First pasanger has a 13 % of survival rate"
   ],
   "metadata": {
    "collapsed": false
   },
   "id": "2c534a1e3cffe001"
  },
  {
   "cell_type": "code",
   "outputs": [
    {
     "data": {
      "text/plain": "     survived  pclass     sex   age  sibsp  parch     fare embarked deck  \\\n0           0       3    male  22.0      1      0   7.2500        S  NaN   \n1           1       1  female  38.0      1      0  71.2833        C    C   \n2           1       3  female  26.0      0      0   7.9250        S  NaN   \n3           1       1  female  35.0      1      0  53.1000        S    C   \n4           0       3    male  35.0      0      0   8.0500        S  NaN   \n..        ...     ...     ...   ...    ...    ...      ...      ...  ...   \n886         0       2    male  27.0      0      0  13.0000        S  NaN   \n887         1       1  female  19.0      0      0  30.0000        S    B   \n888         0       3  female   NaN      1      2  23.4500        S  NaN   \n889         1       1    male  26.0      0      0  30.0000        C    C   \n890         0       3    male  32.0      0      0   7.7500        Q  NaN   \n\n     surv_rate  group_surv_rate  \n0     0.135447         0.135447  \n1     0.968085         0.968085  \n2     0.500000         0.500000  \n3     0.968085         0.968085  \n4     0.135447         0.135447  \n..         ...              ...  \n886   0.157407         0.157407  \n887   0.968085         0.968085  \n888   0.500000         0.500000  \n889   0.368852         0.368852  \n890   0.135447         0.135447  \n\n[891 rows x 11 columns]",
      "text/html": "<div>\n<style scoped>\n    .dataframe tbody tr th:only-of-type {\n        vertical-align: middle;\n    }\n\n    .dataframe tbody tr th {\n        vertical-align: top;\n    }\n\n    .dataframe thead th {\n        text-align: right;\n    }\n</style>\n<table border=\"1\" class=\"dataframe\">\n  <thead>\n    <tr style=\"text-align: right;\">\n      <th></th>\n      <th>survived</th>\n      <th>pclass</th>\n      <th>sex</th>\n      <th>age</th>\n      <th>sibsp</th>\n      <th>parch</th>\n      <th>fare</th>\n      <th>embarked</th>\n      <th>deck</th>\n      <th>surv_rate</th>\n      <th>group_surv_rate</th>\n    </tr>\n  </thead>\n  <tbody>\n    <tr>\n      <th>0</th>\n      <td>0</td>\n      <td>3</td>\n      <td>male</td>\n      <td>22.0</td>\n      <td>1</td>\n      <td>0</td>\n      <td>7.2500</td>\n      <td>S</td>\n      <td>NaN</td>\n      <td>0.135447</td>\n      <td>0.135447</td>\n    </tr>\n    <tr>\n      <th>1</th>\n      <td>1</td>\n      <td>1</td>\n      <td>female</td>\n      <td>38.0</td>\n      <td>1</td>\n      <td>0</td>\n      <td>71.2833</td>\n      <td>C</td>\n      <td>C</td>\n      <td>0.968085</td>\n      <td>0.968085</td>\n    </tr>\n    <tr>\n      <th>2</th>\n      <td>1</td>\n      <td>3</td>\n      <td>female</td>\n      <td>26.0</td>\n      <td>0</td>\n      <td>0</td>\n      <td>7.9250</td>\n      <td>S</td>\n      <td>NaN</td>\n      <td>0.500000</td>\n      <td>0.500000</td>\n    </tr>\n    <tr>\n      <th>3</th>\n      <td>1</td>\n      <td>1</td>\n      <td>female</td>\n      <td>35.0</td>\n      <td>1</td>\n      <td>0</td>\n      <td>53.1000</td>\n      <td>S</td>\n      <td>C</td>\n      <td>0.968085</td>\n      <td>0.968085</td>\n    </tr>\n    <tr>\n      <th>4</th>\n      <td>0</td>\n      <td>3</td>\n      <td>male</td>\n      <td>35.0</td>\n      <td>0</td>\n      <td>0</td>\n      <td>8.0500</td>\n      <td>S</td>\n      <td>NaN</td>\n      <td>0.135447</td>\n      <td>0.135447</td>\n    </tr>\n    <tr>\n      <th>...</th>\n      <td>...</td>\n      <td>...</td>\n      <td>...</td>\n      <td>...</td>\n      <td>...</td>\n      <td>...</td>\n      <td>...</td>\n      <td>...</td>\n      <td>...</td>\n      <td>...</td>\n      <td>...</td>\n    </tr>\n    <tr>\n      <th>886</th>\n      <td>0</td>\n      <td>2</td>\n      <td>male</td>\n      <td>27.0</td>\n      <td>0</td>\n      <td>0</td>\n      <td>13.0000</td>\n      <td>S</td>\n      <td>NaN</td>\n      <td>0.157407</td>\n      <td>0.157407</td>\n    </tr>\n    <tr>\n      <th>887</th>\n      <td>1</td>\n      <td>1</td>\n      <td>female</td>\n      <td>19.0</td>\n      <td>0</td>\n      <td>0</td>\n      <td>30.0000</td>\n      <td>S</td>\n      <td>B</td>\n      <td>0.968085</td>\n      <td>0.968085</td>\n    </tr>\n    <tr>\n      <th>888</th>\n      <td>0</td>\n      <td>3</td>\n      <td>female</td>\n      <td>NaN</td>\n      <td>1</td>\n      <td>2</td>\n      <td>23.4500</td>\n      <td>S</td>\n      <td>NaN</td>\n      <td>0.500000</td>\n      <td>0.500000</td>\n    </tr>\n    <tr>\n      <th>889</th>\n      <td>1</td>\n      <td>1</td>\n      <td>male</td>\n      <td>26.0</td>\n      <td>0</td>\n      <td>0</td>\n      <td>30.0000</td>\n      <td>C</td>\n      <td>C</td>\n      <td>0.368852</td>\n      <td>0.368852</td>\n    </tr>\n    <tr>\n      <th>890</th>\n      <td>0</td>\n      <td>3</td>\n      <td>male</td>\n      <td>32.0</td>\n      <td>0</td>\n      <td>0</td>\n      <td>7.7500</td>\n      <td>Q</td>\n      <td>NaN</td>\n      <td>0.135447</td>\n      <td>0.135447</td>\n    </tr>\n  </tbody>\n</table>\n<p>891 rows × 11 columns</p>\n</div>"
     },
     "execution_count": 11,
     "metadata": {},
     "output_type": "execute_result"
    }
   ],
   "source": [
    "titanic"
   ],
   "metadata": {
    "collapsed": false,
    "ExecuteTime": {
     "end_time": "2024-03-22T19:47:15.497654100Z",
     "start_time": "2024-03-22T19:47:15.450290300Z"
    }
   },
   "id": "f78afca1ee2a9708",
   "execution_count": 11
  },
  {
   "cell_type": "code",
   "outputs": [],
   "source": [],
   "metadata": {
    "collapsed": false
   },
   "id": "4d725a3df23d3456"
  }
 ],
 "metadata": {
  "kernelspec": {
   "display_name": "Python 3",
   "language": "python",
   "name": "python3"
  },
  "language_info": {
   "codemirror_mode": {
    "name": "ipython",
    "version": 2
   },
   "file_extension": ".py",
   "mimetype": "text/x-python",
   "name": "python",
   "nbconvert_exporter": "python",
   "pygments_lexer": "ipython2",
   "version": "2.7.6"
  }
 },
 "nbformat": 4,
 "nbformat_minor": 5
}
