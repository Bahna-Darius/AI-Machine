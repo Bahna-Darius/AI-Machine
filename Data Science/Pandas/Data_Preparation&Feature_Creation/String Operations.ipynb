{
 "cells": [
  {
   "cell_type": "code",
   "execution_count": 1,
   "id": "initial_id",
   "metadata": {
    "collapsed": true,
    "ExecuteTime": {
     "end_time": "2024-05-08T16:59:19.526868300Z",
     "start_time": "2024-05-08T16:59:18.545401200Z"
    }
   },
   "outputs": [],
   "source": [
    "import matplotlib.pyplot as plt\n",
    "import pandas as pd"
   ]
  },
  {
   "cell_type": "code",
   "outputs": [
    {
     "data": {
      "text/plain": "   Year    City     Sport Discipline             Athlete Country Gender  \\\n0  1896  Athens  Aquatics   Swimming       HAJOS, Alfred     HUN    Men   \n1  1896  Athens  Aquatics   Swimming    HERSCHMANN, Otto     AUT    Men   \n2  1896  Athens  Aquatics   Swimming   DRIVAS, Dimitrios     GRE    Men   \n3  1896  Athens  Aquatics   Swimming  MALOKINIS, Ioannis     GRE    Men   \n4  1896  Athens  Aquatics   Swimming  CHASAPIS, Spiridon     GRE    Men   \n\n                        Event   Medal  \n0              100M Freestyle    Gold  \n1              100M Freestyle  Silver  \n2  100M Freestyle For Sailors  Bronze  \n3  100M Freestyle For Sailors    Gold  \n4  100M Freestyle For Sailors  Silver  ",
      "text/html": "<div>\n<style scoped>\n    .dataframe tbody tr th:only-of-type {\n        vertical-align: middle;\n    }\n\n    .dataframe tbody tr th {\n        vertical-align: top;\n    }\n\n    .dataframe thead th {\n        text-align: right;\n    }\n</style>\n<table border=\"1\" class=\"dataframe\">\n  <thead>\n    <tr style=\"text-align: right;\">\n      <th></th>\n      <th>Year</th>\n      <th>City</th>\n      <th>Sport</th>\n      <th>Discipline</th>\n      <th>Athlete</th>\n      <th>Country</th>\n      <th>Gender</th>\n      <th>Event</th>\n      <th>Medal</th>\n    </tr>\n  </thead>\n  <tbody>\n    <tr>\n      <th>0</th>\n      <td>1896</td>\n      <td>Athens</td>\n      <td>Aquatics</td>\n      <td>Swimming</td>\n      <td>HAJOS, Alfred</td>\n      <td>HUN</td>\n      <td>Men</td>\n      <td>100M Freestyle</td>\n      <td>Gold</td>\n    </tr>\n    <tr>\n      <th>1</th>\n      <td>1896</td>\n      <td>Athens</td>\n      <td>Aquatics</td>\n      <td>Swimming</td>\n      <td>HERSCHMANN, Otto</td>\n      <td>AUT</td>\n      <td>Men</td>\n      <td>100M Freestyle</td>\n      <td>Silver</td>\n    </tr>\n    <tr>\n      <th>2</th>\n      <td>1896</td>\n      <td>Athens</td>\n      <td>Aquatics</td>\n      <td>Swimming</td>\n      <td>DRIVAS, Dimitrios</td>\n      <td>GRE</td>\n      <td>Men</td>\n      <td>100M Freestyle For Sailors</td>\n      <td>Bronze</td>\n    </tr>\n    <tr>\n      <th>3</th>\n      <td>1896</td>\n      <td>Athens</td>\n      <td>Aquatics</td>\n      <td>Swimming</td>\n      <td>MALOKINIS, Ioannis</td>\n      <td>GRE</td>\n      <td>Men</td>\n      <td>100M Freestyle For Sailors</td>\n      <td>Gold</td>\n    </tr>\n    <tr>\n      <th>4</th>\n      <td>1896</td>\n      <td>Athens</td>\n      <td>Aquatics</td>\n      <td>Swimming</td>\n      <td>CHASAPIS, Spiridon</td>\n      <td>GRE</td>\n      <td>Men</td>\n      <td>100M Freestyle For Sailors</td>\n      <td>Silver</td>\n    </tr>\n  </tbody>\n</table>\n</div>"
     },
     "execution_count": 2,
     "metadata": {},
     "output_type": "execute_result"
    }
   ],
   "source": [
    "summer = pd.read_csv('../../Data/summer.csv')\n",
    "summer.head()   # We want to separate the first name into 2 columns"
   ],
   "metadata": {
    "collapsed": false,
    "ExecuteTime": {
     "end_time": "2024-05-08T16:59:21.252945Z",
     "start_time": "2024-05-08T16:59:21.157889100Z"
    }
   },
   "id": "e06b03dfc605151b",
   "execution_count": 2
  },
  {
   "cell_type": "code",
   "outputs": [],
   "source": [
    "summer.Athlete = summer.Athlete.str.title()     # overwrite column"
   ],
   "metadata": {
    "collapsed": false,
    "ExecuteTime": {
     "end_time": "2024-04-16T10:49:04.455670600Z",
     "start_time": "2024-04-16T10:49:04.420232Z"
    }
   },
   "id": "e4fd2ce1d962e92d",
   "execution_count": 5
  },
  {
   "cell_type": "code",
   "outputs": [
    {
     "data": {
      "text/plain": "                0                  1\n0           Hajos             Alfred\n1      Herschmann               Otto\n2          Drivas          Dimitrios\n3       Malokinis            Ioannis\n4        Chasapis           Spiridon\n...           ...                ...\n31160  Janikowski             Damian\n31161      Rezaei  Ghasem Gholamreza\n31162      Totrov             Rustam\n31163  Aleksanyan              Artur\n31164     Lidberg              Jimmy\n\n[31165 rows x 2 columns]",
      "text/html": "<div>\n<style scoped>\n    .dataframe tbody tr th:only-of-type {\n        vertical-align: middle;\n    }\n\n    .dataframe tbody tr th {\n        vertical-align: top;\n    }\n\n    .dataframe thead th {\n        text-align: right;\n    }\n</style>\n<table border=\"1\" class=\"dataframe\">\n  <thead>\n    <tr style=\"text-align: right;\">\n      <th></th>\n      <th>0</th>\n      <th>1</th>\n    </tr>\n  </thead>\n  <tbody>\n    <tr>\n      <th>0</th>\n      <td>Hajos</td>\n      <td>Alfred</td>\n    </tr>\n    <tr>\n      <th>1</th>\n      <td>Herschmann</td>\n      <td>Otto</td>\n    </tr>\n    <tr>\n      <th>2</th>\n      <td>Drivas</td>\n      <td>Dimitrios</td>\n    </tr>\n    <tr>\n      <th>3</th>\n      <td>Malokinis</td>\n      <td>Ioannis</td>\n    </tr>\n    <tr>\n      <th>4</th>\n      <td>Chasapis</td>\n      <td>Spiridon</td>\n    </tr>\n    <tr>\n      <th>...</th>\n      <td>...</td>\n      <td>...</td>\n    </tr>\n    <tr>\n      <th>31160</th>\n      <td>Janikowski</td>\n      <td>Damian</td>\n    </tr>\n    <tr>\n      <th>31161</th>\n      <td>Rezaei</td>\n      <td>Ghasem Gholamreza</td>\n    </tr>\n    <tr>\n      <th>31162</th>\n      <td>Totrov</td>\n      <td>Rustam</td>\n    </tr>\n    <tr>\n      <th>31163</th>\n      <td>Aleksanyan</td>\n      <td>Artur</td>\n    </tr>\n    <tr>\n      <th>31164</th>\n      <td>Lidberg</td>\n      <td>Jimmy</td>\n    </tr>\n  </tbody>\n</table>\n<p>31165 rows × 2 columns</p>\n</div>"
     },
     "execution_count": 6,
     "metadata": {},
     "output_type": "execute_result"
    }
   ],
   "source": [
    "summer.Athlete.str.split(', ', n=1, expand=True)"
   ],
   "metadata": {
    "collapsed": false,
    "ExecuteTime": {
     "end_time": "2024-04-16T10:52:08.639172700Z",
     "start_time": "2024-04-16T10:52:08.575703300Z"
    }
   },
   "id": "4a9c86d98cbcecfb",
   "execution_count": 6
  },
  {
   "cell_type": "code",
   "outputs": [
    {
     "data": {
      "text/plain": "   Year    City     Sport Discipline             Athlete Country Gender  \\\n0  1896  Athens  Aquatics   Swimming       Hajos, Alfred     HUN    Men   \n1  1896  Athens  Aquatics   Swimming    Herschmann, Otto     AUT    Men   \n2  1896  Athens  Aquatics   Swimming   Drivas, Dimitrios     GRE    Men   \n3  1896  Athens  Aquatics   Swimming  Malokinis, Ioannis     GRE    Men   \n4  1896  Athens  Aquatics   Swimming  Chasapis, Spiridon     GRE    Men   \n\n                        Event   Medal     Surname First_Name  \n0              100M Freestyle    Gold       Hajos     Alfred  \n1              100M Freestyle  Silver  Herschmann       Otto  \n2  100M Freestyle For Sailors  Bronze      Drivas  Dimitrios  \n3  100M Freestyle For Sailors    Gold   Malokinis    Ioannis  \n4  100M Freestyle For Sailors  Silver    Chasapis   Spiridon  ",
      "text/html": "<div>\n<style scoped>\n    .dataframe tbody tr th:only-of-type {\n        vertical-align: middle;\n    }\n\n    .dataframe tbody tr th {\n        vertical-align: top;\n    }\n\n    .dataframe thead th {\n        text-align: right;\n    }\n</style>\n<table border=\"1\" class=\"dataframe\">\n  <thead>\n    <tr style=\"text-align: right;\">\n      <th></th>\n      <th>Year</th>\n      <th>City</th>\n      <th>Sport</th>\n      <th>Discipline</th>\n      <th>Athlete</th>\n      <th>Country</th>\n      <th>Gender</th>\n      <th>Event</th>\n      <th>Medal</th>\n      <th>Surname</th>\n      <th>First_Name</th>\n    </tr>\n  </thead>\n  <tbody>\n    <tr>\n      <th>0</th>\n      <td>1896</td>\n      <td>Athens</td>\n      <td>Aquatics</td>\n      <td>Swimming</td>\n      <td>Hajos, Alfred</td>\n      <td>HUN</td>\n      <td>Men</td>\n      <td>100M Freestyle</td>\n      <td>Gold</td>\n      <td>Hajos</td>\n      <td>Alfred</td>\n    </tr>\n    <tr>\n      <th>1</th>\n      <td>1896</td>\n      <td>Athens</td>\n      <td>Aquatics</td>\n      <td>Swimming</td>\n      <td>Herschmann, Otto</td>\n      <td>AUT</td>\n      <td>Men</td>\n      <td>100M Freestyle</td>\n      <td>Silver</td>\n      <td>Herschmann</td>\n      <td>Otto</td>\n    </tr>\n    <tr>\n      <th>2</th>\n      <td>1896</td>\n      <td>Athens</td>\n      <td>Aquatics</td>\n      <td>Swimming</td>\n      <td>Drivas, Dimitrios</td>\n      <td>GRE</td>\n      <td>Men</td>\n      <td>100M Freestyle For Sailors</td>\n      <td>Bronze</td>\n      <td>Drivas</td>\n      <td>Dimitrios</td>\n    </tr>\n    <tr>\n      <th>3</th>\n      <td>1896</td>\n      <td>Athens</td>\n      <td>Aquatics</td>\n      <td>Swimming</td>\n      <td>Malokinis, Ioannis</td>\n      <td>GRE</td>\n      <td>Men</td>\n      <td>100M Freestyle For Sailors</td>\n      <td>Gold</td>\n      <td>Malokinis</td>\n      <td>Ioannis</td>\n    </tr>\n    <tr>\n      <th>4</th>\n      <td>1896</td>\n      <td>Athens</td>\n      <td>Aquatics</td>\n      <td>Swimming</td>\n      <td>Chasapis, Spiridon</td>\n      <td>GRE</td>\n      <td>Men</td>\n      <td>100M Freestyle For Sailors</td>\n      <td>Silver</td>\n      <td>Chasapis</td>\n      <td>Spiridon</td>\n    </tr>\n  </tbody>\n</table>\n</div>"
     },
     "execution_count": 8,
     "metadata": {},
     "output_type": "execute_result"
    }
   ],
   "source": [
    "summer[['Surname', 'First_Name']] = summer.Athlete.str.split(', ', n=1, expand=True)\n",
    "summer.head()"
   ],
   "metadata": {
    "collapsed": false,
    "ExecuteTime": {
     "end_time": "2024-04-16T10:52:44.186391200Z",
     "start_time": "2024-04-16T10:52:44.105837500Z"
    }
   },
   "id": "2272ad93480cb411",
   "execution_count": 8
  },
  {
   "cell_type": "code",
   "outputs": [
    {
     "data": {
      "text/plain": "   Year    City     Sport Discipline             Athlete Country Gender  \\\n0  1896  Athens  Aquatics   Swimming       Hajos, Alfred     HUN    Men   \n1  1896  Athens  Aquatics   Swimming    Herschmann, Otto     AUT    Men   \n2  1896  Athens  Aquatics   Swimming   Drivas, Dimitrios     GRE    Men   \n3  1896  Athens  Aquatics   Swimming  Malokinis, Ioannis     GRE    Men   \n4  1896  Athens  Aquatics   Swimming  Chasapis, Spiridon     GRE    Men   \n\n                        Event   Medal     Surname First_Name  \n0              100M Freestyle    Gold       Hajos     Alfred  \n1              100M Freestyle  Silver  Herschmann       Otto  \n2  100M Freestyle For Sailors  Bronze      Drivas  Dimitrios  \n3  100M Freestyle For Sailors    Gold   Malokinis    Ioannis  \n4  100M Freestyle For Sailors  Silver    Chasapis   Spiridon  ",
      "text/html": "<div>\n<style scoped>\n    .dataframe tbody tr th:only-of-type {\n        vertical-align: middle;\n    }\n\n    .dataframe tbody tr th {\n        vertical-align: top;\n    }\n\n    .dataframe thead th {\n        text-align: right;\n    }\n</style>\n<table border=\"1\" class=\"dataframe\">\n  <thead>\n    <tr style=\"text-align: right;\">\n      <th></th>\n      <th>Year</th>\n      <th>City</th>\n      <th>Sport</th>\n      <th>Discipline</th>\n      <th>Athlete</th>\n      <th>Country</th>\n      <th>Gender</th>\n      <th>Event</th>\n      <th>Medal</th>\n      <th>Surname</th>\n      <th>First_Name</th>\n    </tr>\n  </thead>\n  <tbody>\n    <tr>\n      <th>0</th>\n      <td>1896</td>\n      <td>Athens</td>\n      <td>Aquatics</td>\n      <td>Swimming</td>\n      <td>Hajos, Alfred</td>\n      <td>HUN</td>\n      <td>Men</td>\n      <td>100M Freestyle</td>\n      <td>Gold</td>\n      <td>Hajos</td>\n      <td>Alfred</td>\n    </tr>\n    <tr>\n      <th>1</th>\n      <td>1896</td>\n      <td>Athens</td>\n      <td>Aquatics</td>\n      <td>Swimming</td>\n      <td>Herschmann, Otto</td>\n      <td>AUT</td>\n      <td>Men</td>\n      <td>100M Freestyle</td>\n      <td>Silver</td>\n      <td>Herschmann</td>\n      <td>Otto</td>\n    </tr>\n    <tr>\n      <th>2</th>\n      <td>1896</td>\n      <td>Athens</td>\n      <td>Aquatics</td>\n      <td>Swimming</td>\n      <td>Drivas, Dimitrios</td>\n      <td>GRE</td>\n      <td>Men</td>\n      <td>100M Freestyle For Sailors</td>\n      <td>Bronze</td>\n      <td>Drivas</td>\n      <td>Dimitrios</td>\n    </tr>\n    <tr>\n      <th>3</th>\n      <td>1896</td>\n      <td>Athens</td>\n      <td>Aquatics</td>\n      <td>Swimming</td>\n      <td>Malokinis, Ioannis</td>\n      <td>GRE</td>\n      <td>Men</td>\n      <td>100M Freestyle For Sailors</td>\n      <td>Gold</td>\n      <td>Malokinis</td>\n      <td>Ioannis</td>\n    </tr>\n    <tr>\n      <th>4</th>\n      <td>1896</td>\n      <td>Athens</td>\n      <td>Aquatics</td>\n      <td>Swimming</td>\n      <td>Chasapis, Spiridon</td>\n      <td>GRE</td>\n      <td>Men</td>\n      <td>100M Freestyle For Sailors</td>\n      <td>Silver</td>\n      <td>Chasapis</td>\n      <td>Spiridon</td>\n    </tr>\n  </tbody>\n</table>\n</div>"
     },
     "execution_count": 9,
     "metadata": {},
     "output_type": "execute_result"
    }
   ],
   "source": [
    "summer['Surname'] = summer.Surname.str.strip()    # remove empty space\n",
    "summer['First_Name'] = summer.First_Name.str.strip()\n",
    "\n",
    "summer.drop(columns='Athlete')\n",
    "\n",
    "summer.head()"
   ],
   "metadata": {
    "collapsed": false,
    "ExecuteTime": {
     "end_time": "2024-04-16T10:54:59.515125800Z",
     "start_time": "2024-04-16T10:54:59.483253200Z"
    }
   },
   "id": "f74b4ca7096f82a3",
   "execution_count": 9
  },
  {
   "cell_type": "code",
   "outputs": [],
   "source": [],
   "metadata": {
    "collapsed": false
   },
   "id": "1ef56b2ef8ecb87"
  }
 ],
 "metadata": {
  "kernelspec": {
   "display_name": "Python 3",
   "language": "python",
   "name": "python3"
  },
  "language_info": {
   "codemirror_mode": {
    "name": "ipython",
    "version": 2
   },
   "file_extension": ".py",
   "mimetype": "text/x-python",
   "name": "python",
   "nbconvert_exporter": "python",
   "pygments_lexer": "ipython2",
   "version": "2.7.6"
  }
 },
 "nbformat": 4,
 "nbformat_minor": 5
}
