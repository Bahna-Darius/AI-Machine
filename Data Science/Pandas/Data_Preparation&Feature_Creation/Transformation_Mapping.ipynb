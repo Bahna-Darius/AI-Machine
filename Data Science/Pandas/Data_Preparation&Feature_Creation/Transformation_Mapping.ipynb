{
 "cells": [
  {
   "cell_type": "code",
   "execution_count": 1,
   "id": "initial_id",
   "metadata": {
    "collapsed": true,
    "ExecuteTime": {
     "end_time": "2024-05-08T16:59:28.471448600Z",
     "start_time": "2024-05-08T16:59:27.974576600Z"
    }
   },
   "outputs": [],
   "source": [
    "import pandas as pd\n",
    "import numpy as np"
   ]
  },
  {
   "cell_type": "code",
   "outputs": [],
   "source": [
    "summer = pd.read_csv('../../Data/summer.csv')"
   ],
   "metadata": {
    "collapsed": false,
    "ExecuteTime": {
     "end_time": "2024-05-08T16:59:30.441269500Z",
     "start_time": "2024-05-08T16:59:30.370670300Z"
    }
   },
   "id": "2677167ccd0ef729",
   "execution_count": 2
  },
  {
   "cell_type": "code",
   "outputs": [
    {
     "data": {
      "text/plain": "   Year    City     Sport Discipline             Athlete Country Gender  \\\n0  1896  Athens  Aquatics   Swimming       HAJOS, Alfred     HUN    Men   \n1  1896  Athens  Aquatics   Swimming    HERSCHMANN, Otto     AUT    Men   \n2  1896  Athens  Aquatics   Swimming   DRIVAS, Dimitrios     GRE    Men   \n3  1896  Athens  Aquatics   Swimming  MALOKINIS, Ioannis     GRE    Men   \n4  1896  Athens  Aquatics   Swimming  CHASAPIS, Spiridon     GRE    Men   \n\n                        Event   Medal  \n0              100M Freestyle    Gold  \n1              100M Freestyle  Silver  \n2  100M Freestyle For Sailors  Bronze  \n3  100M Freestyle For Sailors    Gold  \n4  100M Freestyle For Sailors  Silver  ",
      "text/html": "<div>\n<style scoped>\n    .dataframe tbody tr th:only-of-type {\n        vertical-align: middle;\n    }\n\n    .dataframe tbody tr th {\n        vertical-align: top;\n    }\n\n    .dataframe thead th {\n        text-align: right;\n    }\n</style>\n<table border=\"1\" class=\"dataframe\">\n  <thead>\n    <tr style=\"text-align: right;\">\n      <th></th>\n      <th>Year</th>\n      <th>City</th>\n      <th>Sport</th>\n      <th>Discipline</th>\n      <th>Athlete</th>\n      <th>Country</th>\n      <th>Gender</th>\n      <th>Event</th>\n      <th>Medal</th>\n    </tr>\n  </thead>\n  <tbody>\n    <tr>\n      <th>0</th>\n      <td>1896</td>\n      <td>Athens</td>\n      <td>Aquatics</td>\n      <td>Swimming</td>\n      <td>HAJOS, Alfred</td>\n      <td>HUN</td>\n      <td>Men</td>\n      <td>100M Freestyle</td>\n      <td>Gold</td>\n    </tr>\n    <tr>\n      <th>1</th>\n      <td>1896</td>\n      <td>Athens</td>\n      <td>Aquatics</td>\n      <td>Swimming</td>\n      <td>HERSCHMANN, Otto</td>\n      <td>AUT</td>\n      <td>Men</td>\n      <td>100M Freestyle</td>\n      <td>Silver</td>\n    </tr>\n    <tr>\n      <th>2</th>\n      <td>1896</td>\n      <td>Athens</td>\n      <td>Aquatics</td>\n      <td>Swimming</td>\n      <td>DRIVAS, Dimitrios</td>\n      <td>GRE</td>\n      <td>Men</td>\n      <td>100M Freestyle For Sailors</td>\n      <td>Bronze</td>\n    </tr>\n    <tr>\n      <th>3</th>\n      <td>1896</td>\n      <td>Athens</td>\n      <td>Aquatics</td>\n      <td>Swimming</td>\n      <td>MALOKINIS, Ioannis</td>\n      <td>GRE</td>\n      <td>Men</td>\n      <td>100M Freestyle For Sailors</td>\n      <td>Gold</td>\n    </tr>\n    <tr>\n      <th>4</th>\n      <td>1896</td>\n      <td>Athens</td>\n      <td>Aquatics</td>\n      <td>Swimming</td>\n      <td>CHASAPIS, Spiridon</td>\n      <td>GRE</td>\n      <td>Men</td>\n      <td>100M Freestyle For Sailors</td>\n      <td>Silver</td>\n    </tr>\n  </tbody>\n</table>\n</div>"
     },
     "execution_count": 3,
     "metadata": {},
     "output_type": "execute_result"
    }
   ],
   "source": [
    "summer.head()"
   ],
   "metadata": {
    "collapsed": false,
    "ExecuteTime": {
     "end_time": "2024-03-29T13:27:39.280909300Z",
     "start_time": "2024-03-29T13:27:39.264813400Z"
    }
   },
   "id": "a41f8e60b5d202ad",
   "execution_count": 3
  },
  {
   "cell_type": "markdown",
   "source": [
    "# sample() method is used to get a random sample of a DataFrame.\n",
    "## Parameters: n=7 is the number of random samples to get, random_state=123 is the seed for the random number generator, so that the same random sample is obtained every time."
   ],
   "metadata": {
    "collapsed": false
   },
   "id": "4857432649604002"
  },
  {
   "cell_type": "code",
   "outputs": [],
   "source": [
    "random_sample = summer.sample(n=7, random_state=123).sort_values(by='Year')"
   ],
   "metadata": {
    "collapsed": false,
    "ExecuteTime": {
     "end_time": "2024-03-29T13:28:12.983396200Z",
     "start_time": "2024-03-29T13:28:12.963519300Z"
    }
   },
   "id": "95780abdd8398ec6",
   "execution_count": 4
  },
  {
   "cell_type": "code",
   "outputs": [
    {
     "data": {
      "text/plain": "       Year       City      Sport  Discipline                   Athlete  \\\n4196   1924      Paris   Aquatics  Water polo            AUSTIN, Arthur   \n11961  1968     Mexico  Athletics   Athletics  FOSBURY, Richard Douglas   \n11742  1968     Mexico   Aquatics    Swimming   WENDEN, Michael Vincent   \n13996  1976   Montreal   Aquatics    Swimming          MAC DONALD, Gary   \n16229  1980     Moscow     Rowing      Rowing       DMITRIENKO, Grigori   \n19728  1992  Barcelona   Aquatics    Swimming        KULIKOV, Vladislav   \n25901  2004     Athens     Boxing      Boxing            YELEUOV, Serik   \n\n      Country Gender                     Event   Medal  \n4196      USA    Men                Water Polo  Bronze  \n11961     USA    Men                 High Jump    Gold  \n11742     AUS    Men            200M Freestyle    Gold  \n13996     CAN    Men       4X100M Medley Relay  Silver  \n16229     URS    Men  Eight With Coxswain (8+)  Bronze  \n19728     EUN    Men       4X100M Medley Relay  Silver  \n25901     KAZ    Men   57 - 60KG (Lightweight)  Bronze  ",
      "text/html": "<div>\n<style scoped>\n    .dataframe tbody tr th:only-of-type {\n        vertical-align: middle;\n    }\n\n    .dataframe tbody tr th {\n        vertical-align: top;\n    }\n\n    .dataframe thead th {\n        text-align: right;\n    }\n</style>\n<table border=\"1\" class=\"dataframe\">\n  <thead>\n    <tr style=\"text-align: right;\">\n      <th></th>\n      <th>Year</th>\n      <th>City</th>\n      <th>Sport</th>\n      <th>Discipline</th>\n      <th>Athlete</th>\n      <th>Country</th>\n      <th>Gender</th>\n      <th>Event</th>\n      <th>Medal</th>\n    </tr>\n  </thead>\n  <tbody>\n    <tr>\n      <th>4196</th>\n      <td>1924</td>\n      <td>Paris</td>\n      <td>Aquatics</td>\n      <td>Water polo</td>\n      <td>AUSTIN, Arthur</td>\n      <td>USA</td>\n      <td>Men</td>\n      <td>Water Polo</td>\n      <td>Bronze</td>\n    </tr>\n    <tr>\n      <th>11961</th>\n      <td>1968</td>\n      <td>Mexico</td>\n      <td>Athletics</td>\n      <td>Athletics</td>\n      <td>FOSBURY, Richard Douglas</td>\n      <td>USA</td>\n      <td>Men</td>\n      <td>High Jump</td>\n      <td>Gold</td>\n    </tr>\n    <tr>\n      <th>11742</th>\n      <td>1968</td>\n      <td>Mexico</td>\n      <td>Aquatics</td>\n      <td>Swimming</td>\n      <td>WENDEN, Michael Vincent</td>\n      <td>AUS</td>\n      <td>Men</td>\n      <td>200M Freestyle</td>\n      <td>Gold</td>\n    </tr>\n    <tr>\n      <th>13996</th>\n      <td>1976</td>\n      <td>Montreal</td>\n      <td>Aquatics</td>\n      <td>Swimming</td>\n      <td>MAC DONALD, Gary</td>\n      <td>CAN</td>\n      <td>Men</td>\n      <td>4X100M Medley Relay</td>\n      <td>Silver</td>\n    </tr>\n    <tr>\n      <th>16229</th>\n      <td>1980</td>\n      <td>Moscow</td>\n      <td>Rowing</td>\n      <td>Rowing</td>\n      <td>DMITRIENKO, Grigori</td>\n      <td>URS</td>\n      <td>Men</td>\n      <td>Eight With Coxswain (8+)</td>\n      <td>Bronze</td>\n    </tr>\n    <tr>\n      <th>19728</th>\n      <td>1992</td>\n      <td>Barcelona</td>\n      <td>Aquatics</td>\n      <td>Swimming</td>\n      <td>KULIKOV, Vladislav</td>\n      <td>EUN</td>\n      <td>Men</td>\n      <td>4X100M Medley Relay</td>\n      <td>Silver</td>\n    </tr>\n    <tr>\n      <th>25901</th>\n      <td>2004</td>\n      <td>Athens</td>\n      <td>Boxing</td>\n      <td>Boxing</td>\n      <td>YELEUOV, Serik</td>\n      <td>KAZ</td>\n      <td>Men</td>\n      <td>57 - 60KG (Lightweight)</td>\n      <td>Bronze</td>\n    </tr>\n  </tbody>\n</table>\n</div>"
     },
     "execution_count": 5,
     "metadata": {},
     "output_type": "execute_result"
    }
   ],
   "source": [
    "random_sample"
   ],
   "metadata": {
    "collapsed": false,
    "ExecuteTime": {
     "end_time": "2024-03-29T13:28:15.294681700Z",
     "start_time": "2024-03-29T13:28:15.269975100Z"
    }
   },
   "id": "411dfb085d22d382",
   "execution_count": 5
  },
  {
   "cell_type": "code",
   "outputs": [],
   "source": [
    "city_country = {'Paris': 'France', 'Mexico': 'Mexico', 'Montreal': 'Canada', 'Moscow': 'Russia', 'Barcelona': 'Spain', 'Athens': 'Greece'}"
   ],
   "metadata": {
    "collapsed": false,
    "ExecuteTime": {
     "end_time": "2024-03-29T13:36:45.481845800Z",
     "start_time": "2024-03-29T13:36:45.478834200Z"
    }
   },
   "id": "e92131ba3097de4d",
   "execution_count": 11
  },
  {
   "cell_type": "markdown",
   "source": [
    "# The map() method is used to map values from a Series to another Series. In this case, we are mapping the values of the 'City' column to the values of the 'city_country' dictionary."
   ],
   "metadata": {
    "collapsed": false
   },
   "id": "20da9f7a2e9dbc39"
  },
  {
   "cell_type": "code",
   "outputs": [
    {
     "data": {
      "text/plain": "4196     France\n11961    Mexico\n11742    Mexico\n13996    Canada\n16229    Russia\n19728     Spain\n25901    Greece\nName: City, dtype: object"
     },
     "execution_count": 12,
     "metadata": {},
     "output_type": "execute_result"
    }
   ],
   "source": [
    "random_sample['City'].map(city_country)"
   ],
   "metadata": {
    "collapsed": false,
    "ExecuteTime": {
     "end_time": "2024-03-29T13:36:47.401812500Z",
     "start_time": "2024-03-29T13:36:47.390328700Z"
    }
   },
   "id": "4c3f86a25a4f4d60",
   "execution_count": 12
  },
  {
   "cell_type": "markdown",
   "source": [
    "# In this case, we are creating a new column 'Host_Country' in the 'random_sample' DataFrame, which contains the values of the 'City' column mapped to the values of the 'city_country' dictionary."
   ],
   "metadata": {
    "collapsed": false
   },
   "id": "6f00a0bc40b3d446"
  },
  {
   "cell_type": "code",
   "outputs": [
    {
     "data": {
      "text/plain": "4196     France\n11961    Mexico\n11742    Mexico\n13996    Canada\n16229    Russia\n19728     Spain\n25901    Greece\nName: Host_Country, dtype: object"
     },
     "execution_count": 13,
     "metadata": {},
     "output_type": "execute_result"
    }
   ],
   "source": [
    "random_sample['Host_Country'] = random_sample['City'].map(city_country)\n",
    "random_sample.Host_Country"
   ],
   "metadata": {
    "collapsed": false,
    "ExecuteTime": {
     "end_time": "2024-03-29T13:36:50.498767200Z",
     "start_time": "2024-03-29T13:36:50.435253700Z"
    }
   },
   "id": "c99d4e514a5aa54c",
   "execution_count": 13
  },
  {
   "cell_type": "markdown",
   "source": [],
   "metadata": {
    "collapsed": false
   },
   "id": "9ad452fae4afe29a"
  },
  {
   "cell_type": "markdown",
   "source": [],
   "metadata": {
    "collapsed": false
   },
   "id": "3672ea0c29fd1fe6"
  },
  {
   "cell_type": "code",
   "outputs": [],
   "source": [
    "titanic = pd.read_csv('../titanic.csv')"
   ],
   "metadata": {
    "collapsed": false,
    "ExecuteTime": {
     "end_time": "2024-03-29T13:38:12.856170300Z",
     "start_time": "2024-03-29T13:38:12.837933900Z"
    }
   },
   "id": "747d81b7af930cc2",
   "execution_count": 14
  },
  {
   "cell_type": "code",
   "outputs": [],
   "source": [
    "mapper = {\n",
    "    1: 'First', 2: 'Second', 3: 'Third'\n",
    "}"
   ],
   "metadata": {
    "collapsed": false,
    "ExecuteTime": {
     "end_time": "2024-03-29T13:38:55.616759100Z",
     "start_time": "2024-03-29T13:38:55.609758900Z"
    }
   },
   "id": "b33628646baf0538",
   "execution_count": 15
  },
  {
   "cell_type": "code",
   "outputs": [
    {
     "data": {
      "text/plain": "0       Third\n1       First\n2       Third\n3       First\n4       Third\n        ...  \n886    Second\n887     First\n888     Third\n889     First\n890     Third\nName: pclass, Length: 891, dtype: object"
     },
     "execution_count": 16,
     "metadata": {},
     "output_type": "execute_result"
    }
   ],
   "source": [
    "titanic.pclass.map(mapper)"
   ],
   "metadata": {
    "collapsed": false,
    "ExecuteTime": {
     "end_time": "2024-03-29T13:39:08.962287300Z",
     "start_time": "2024-03-29T13:39:08.931968400Z"
    }
   },
   "id": "9047a3263a99478e",
   "execution_count": 16
  },
  {
   "cell_type": "markdown",
   "source": [
    "### In this case we overwrite the 'pclass' column with the mapped values. map() method is used to map values from a Series to another Series. In this case, we are mapping the values of the 'pclass' column to the values of the 'mapper' dictionary."
   ],
   "metadata": {
    "collapsed": false
   },
   "id": "8aac04b1c2f5bd99"
  },
  {
   "cell_type": "code",
   "outputs": [],
   "source": [
    "titanic.pclass = titanic.pclass.map(mapper)"
   ],
   "metadata": {
    "collapsed": false,
    "ExecuteTime": {
     "end_time": "2024-03-29T13:39:36.128752600Z",
     "start_time": "2024-03-29T13:39:36.114745400Z"
    }
   },
   "id": "a77934e6670eb1a6",
   "execution_count": 17
  },
  {
   "cell_type": "code",
   "outputs": [
    {
     "data": {
      "text/plain": "     survived  pclass     sex   age  sibsp  parch     fare embarked deck\n0           0   Third    male  22.0      1      0   7.2500        S  NaN\n1           1   First  female  38.0      1      0  71.2833        C    C\n2           1   Third  female  26.0      0      0   7.9250        S  NaN\n3           1   First  female  35.0      1      0  53.1000        S    C\n4           0   Third    male  35.0      0      0   8.0500        S  NaN\n..        ...     ...     ...   ...    ...    ...      ...      ...  ...\n886         0  Second    male  27.0      0      0  13.0000        S  NaN\n887         1   First  female  19.0      0      0  30.0000        S    B\n888         0   Third  female   NaN      1      2  23.4500        S  NaN\n889         1   First    male  26.0      0      0  30.0000        C    C\n890         0   Third    male  32.0      0      0   7.7500        Q  NaN\n\n[891 rows x 9 columns]",
      "text/html": "<div>\n<style scoped>\n    .dataframe tbody tr th:only-of-type {\n        vertical-align: middle;\n    }\n\n    .dataframe tbody tr th {\n        vertical-align: top;\n    }\n\n    .dataframe thead th {\n        text-align: right;\n    }\n</style>\n<table border=\"1\" class=\"dataframe\">\n  <thead>\n    <tr style=\"text-align: right;\">\n      <th></th>\n      <th>survived</th>\n      <th>pclass</th>\n      <th>sex</th>\n      <th>age</th>\n      <th>sibsp</th>\n      <th>parch</th>\n      <th>fare</th>\n      <th>embarked</th>\n      <th>deck</th>\n    </tr>\n  </thead>\n  <tbody>\n    <tr>\n      <th>0</th>\n      <td>0</td>\n      <td>Third</td>\n      <td>male</td>\n      <td>22.0</td>\n      <td>1</td>\n      <td>0</td>\n      <td>7.2500</td>\n      <td>S</td>\n      <td>NaN</td>\n    </tr>\n    <tr>\n      <th>1</th>\n      <td>1</td>\n      <td>First</td>\n      <td>female</td>\n      <td>38.0</td>\n      <td>1</td>\n      <td>0</td>\n      <td>71.2833</td>\n      <td>C</td>\n      <td>C</td>\n    </tr>\n    <tr>\n      <th>2</th>\n      <td>1</td>\n      <td>Third</td>\n      <td>female</td>\n      <td>26.0</td>\n      <td>0</td>\n      <td>0</td>\n      <td>7.9250</td>\n      <td>S</td>\n      <td>NaN</td>\n    </tr>\n    <tr>\n      <th>3</th>\n      <td>1</td>\n      <td>First</td>\n      <td>female</td>\n      <td>35.0</td>\n      <td>1</td>\n      <td>0</td>\n      <td>53.1000</td>\n      <td>S</td>\n      <td>C</td>\n    </tr>\n    <tr>\n      <th>4</th>\n      <td>0</td>\n      <td>Third</td>\n      <td>male</td>\n      <td>35.0</td>\n      <td>0</td>\n      <td>0</td>\n      <td>8.0500</td>\n      <td>S</td>\n      <td>NaN</td>\n    </tr>\n    <tr>\n      <th>...</th>\n      <td>...</td>\n      <td>...</td>\n      <td>...</td>\n      <td>...</td>\n      <td>...</td>\n      <td>...</td>\n      <td>...</td>\n      <td>...</td>\n      <td>...</td>\n    </tr>\n    <tr>\n      <th>886</th>\n      <td>0</td>\n      <td>Second</td>\n      <td>male</td>\n      <td>27.0</td>\n      <td>0</td>\n      <td>0</td>\n      <td>13.0000</td>\n      <td>S</td>\n      <td>NaN</td>\n    </tr>\n    <tr>\n      <th>887</th>\n      <td>1</td>\n      <td>First</td>\n      <td>female</td>\n      <td>19.0</td>\n      <td>0</td>\n      <td>0</td>\n      <td>30.0000</td>\n      <td>S</td>\n      <td>B</td>\n    </tr>\n    <tr>\n      <th>888</th>\n      <td>0</td>\n      <td>Third</td>\n      <td>female</td>\n      <td>NaN</td>\n      <td>1</td>\n      <td>2</td>\n      <td>23.4500</td>\n      <td>S</td>\n      <td>NaN</td>\n    </tr>\n    <tr>\n      <th>889</th>\n      <td>1</td>\n      <td>First</td>\n      <td>male</td>\n      <td>26.0</td>\n      <td>0</td>\n      <td>0</td>\n      <td>30.0000</td>\n      <td>C</td>\n      <td>C</td>\n    </tr>\n    <tr>\n      <th>890</th>\n      <td>0</td>\n      <td>Third</td>\n      <td>male</td>\n      <td>32.0</td>\n      <td>0</td>\n      <td>0</td>\n      <td>7.7500</td>\n      <td>Q</td>\n      <td>NaN</td>\n    </tr>\n  </tbody>\n</table>\n<p>891 rows × 9 columns</p>\n</div>"
     },
     "execution_count": 18,
     "metadata": {},
     "output_type": "execute_result"
    }
   ],
   "source": [
    "titanic"
   ],
   "metadata": {
    "collapsed": false,
    "ExecuteTime": {
     "end_time": "2024-03-29T13:39:38.672824600Z",
     "start_time": "2024-03-29T13:39:38.644014500Z"
    }
   },
   "id": "24833f3d9978c648",
   "execution_count": 18
  },
  {
   "cell_type": "markdown",
   "source": [],
   "metadata": {
    "collapsed": false
   },
   "id": "3d76a36d5a5c9bf3"
  },
  {
   "cell_type": "code",
   "outputs": [],
   "source": [
    "gender = {\n",
    "    'female': 'F',\n",
    "    'male': 'M'\n",
    "}"
   ],
   "metadata": {
    "collapsed": false,
    "ExecuteTime": {
     "end_time": "2024-03-29T13:49:30.696463500Z",
     "start_time": "2024-03-29T13:49:30.684464800Z"
    }
   },
   "id": "b47877f07a9f01a5",
   "execution_count": 19
  },
  {
   "cell_type": "code",
   "outputs": [],
   "source": [
    "titanic['sex'] = titanic.sex.map(gender)"
   ],
   "metadata": {
    "collapsed": false,
    "ExecuteTime": {
     "end_time": "2024-03-29T13:50:12.268410Z",
     "start_time": "2024-03-29T13:50:12.257401900Z"
    }
   },
   "id": "3e9dc5dac29f27b3",
   "execution_count": 21
  },
  {
   "cell_type": "code",
   "outputs": [
    {
     "data": {
      "text/plain": "     survived  pclass sex   age  sibsp  parch     fare embarked deck\n0           0   Third   M  22.0      1      0   7.2500        S  NaN\n1           1   First   F  38.0      1      0  71.2833        C    C\n2           1   Third   F  26.0      0      0   7.9250        S  NaN\n3           1   First   F  35.0      1      0  53.1000        S    C\n4           0   Third   M  35.0      0      0   8.0500        S  NaN\n..        ...     ...  ..   ...    ...    ...      ...      ...  ...\n886         0  Second   M  27.0      0      0  13.0000        S  NaN\n887         1   First   F  19.0      0      0  30.0000        S    B\n888         0   Third   F   NaN      1      2  23.4500        S  NaN\n889         1   First   M  26.0      0      0  30.0000        C    C\n890         0   Third   M  32.0      0      0   7.7500        Q  NaN\n\n[891 rows x 9 columns]",
      "text/html": "<div>\n<style scoped>\n    .dataframe tbody tr th:only-of-type {\n        vertical-align: middle;\n    }\n\n    .dataframe tbody tr th {\n        vertical-align: top;\n    }\n\n    .dataframe thead th {\n        text-align: right;\n    }\n</style>\n<table border=\"1\" class=\"dataframe\">\n  <thead>\n    <tr style=\"text-align: right;\">\n      <th></th>\n      <th>survived</th>\n      <th>pclass</th>\n      <th>sex</th>\n      <th>age</th>\n      <th>sibsp</th>\n      <th>parch</th>\n      <th>fare</th>\n      <th>embarked</th>\n      <th>deck</th>\n    </tr>\n  </thead>\n  <tbody>\n    <tr>\n      <th>0</th>\n      <td>0</td>\n      <td>Third</td>\n      <td>M</td>\n      <td>22.0</td>\n      <td>1</td>\n      <td>0</td>\n      <td>7.2500</td>\n      <td>S</td>\n      <td>NaN</td>\n    </tr>\n    <tr>\n      <th>1</th>\n      <td>1</td>\n      <td>First</td>\n      <td>F</td>\n      <td>38.0</td>\n      <td>1</td>\n      <td>0</td>\n      <td>71.2833</td>\n      <td>C</td>\n      <td>C</td>\n    </tr>\n    <tr>\n      <th>2</th>\n      <td>1</td>\n      <td>Third</td>\n      <td>F</td>\n      <td>26.0</td>\n      <td>0</td>\n      <td>0</td>\n      <td>7.9250</td>\n      <td>S</td>\n      <td>NaN</td>\n    </tr>\n    <tr>\n      <th>3</th>\n      <td>1</td>\n      <td>First</td>\n      <td>F</td>\n      <td>35.0</td>\n      <td>1</td>\n      <td>0</td>\n      <td>53.1000</td>\n      <td>S</td>\n      <td>C</td>\n    </tr>\n    <tr>\n      <th>4</th>\n      <td>0</td>\n      <td>Third</td>\n      <td>M</td>\n      <td>35.0</td>\n      <td>0</td>\n      <td>0</td>\n      <td>8.0500</td>\n      <td>S</td>\n      <td>NaN</td>\n    </tr>\n    <tr>\n      <th>...</th>\n      <td>...</td>\n      <td>...</td>\n      <td>...</td>\n      <td>...</td>\n      <td>...</td>\n      <td>...</td>\n      <td>...</td>\n      <td>...</td>\n      <td>...</td>\n    </tr>\n    <tr>\n      <th>886</th>\n      <td>0</td>\n      <td>Second</td>\n      <td>M</td>\n      <td>27.0</td>\n      <td>0</td>\n      <td>0</td>\n      <td>13.0000</td>\n      <td>S</td>\n      <td>NaN</td>\n    </tr>\n    <tr>\n      <th>887</th>\n      <td>1</td>\n      <td>First</td>\n      <td>F</td>\n      <td>19.0</td>\n      <td>0</td>\n      <td>0</td>\n      <td>30.0000</td>\n      <td>S</td>\n      <td>B</td>\n    </tr>\n    <tr>\n      <th>888</th>\n      <td>0</td>\n      <td>Third</td>\n      <td>F</td>\n      <td>NaN</td>\n      <td>1</td>\n      <td>2</td>\n      <td>23.4500</td>\n      <td>S</td>\n      <td>NaN</td>\n    </tr>\n    <tr>\n      <th>889</th>\n      <td>1</td>\n      <td>First</td>\n      <td>M</td>\n      <td>26.0</td>\n      <td>0</td>\n      <td>0</td>\n      <td>30.0000</td>\n      <td>C</td>\n      <td>C</td>\n    </tr>\n    <tr>\n      <th>890</th>\n      <td>0</td>\n      <td>Third</td>\n      <td>M</td>\n      <td>32.0</td>\n      <td>0</td>\n      <td>0</td>\n      <td>7.7500</td>\n      <td>Q</td>\n      <td>NaN</td>\n    </tr>\n  </tbody>\n</table>\n<p>891 rows × 9 columns</p>\n</div>"
     },
     "execution_count": 22,
     "metadata": {},
     "output_type": "execute_result"
    }
   ],
   "source": [
    "titanic"
   ],
   "metadata": {
    "collapsed": false,
    "ExecuteTime": {
     "end_time": "2024-03-29T13:50:14.180972100Z",
     "start_time": "2024-03-29T13:50:14.163060900Z"
    }
   },
   "id": "de18357128d37b48",
   "execution_count": 22
  },
  {
   "cell_type": "markdown",
   "source": [],
   "metadata": {
    "collapsed": false
   },
   "id": "595618166723ae66"
  },
  {
   "cell_type": "code",
   "outputs": [],
   "source": [
    "deth_dict = {\n",
    "    0 : 'Dead',\n",
    "    1 : 'Survivor'\n",
    "}"
   ],
   "metadata": {
    "collapsed": false,
    "ExecuteTime": {
     "end_time": "2024-03-29T13:51:09.353673800Z",
     "start_time": "2024-03-29T13:51:09.329574Z"
    }
   },
   "id": "b8cc154ed318bacd",
   "execution_count": 23
  },
  {
   "cell_type": "code",
   "outputs": [],
   "source": [
    "titanic['survived'] = titanic.survived.map(deth_dict)"
   ],
   "metadata": {
    "collapsed": false,
    "ExecuteTime": {
     "end_time": "2024-03-29T13:51:32.598231800Z",
     "start_time": "2024-03-29T13:51:32.582710400Z"
    }
   },
   "id": "3b32cf3afa255d7f",
   "execution_count": 24
  },
  {
   "cell_type": "code",
   "outputs": [
    {
     "data": {
      "text/plain": "     survived  pclass sex   age  sibsp  parch     fare embarked deck\n0        Dead   Third   M  22.0      1      0   7.2500        S  NaN\n1    Survivor   First   F  38.0      1      0  71.2833        C    C\n2    Survivor   Third   F  26.0      0      0   7.9250        S  NaN\n3    Survivor   First   F  35.0      1      0  53.1000        S    C\n4        Dead   Third   M  35.0      0      0   8.0500        S  NaN\n..        ...     ...  ..   ...    ...    ...      ...      ...  ...\n886      Dead  Second   M  27.0      0      0  13.0000        S  NaN\n887  Survivor   First   F  19.0      0      0  30.0000        S    B\n888      Dead   Third   F   NaN      1      2  23.4500        S  NaN\n889  Survivor   First   M  26.0      0      0  30.0000        C    C\n890      Dead   Third   M  32.0      0      0   7.7500        Q  NaN\n\n[891 rows x 9 columns]",
      "text/html": "<div>\n<style scoped>\n    .dataframe tbody tr th:only-of-type {\n        vertical-align: middle;\n    }\n\n    .dataframe tbody tr th {\n        vertical-align: top;\n    }\n\n    .dataframe thead th {\n        text-align: right;\n    }\n</style>\n<table border=\"1\" class=\"dataframe\">\n  <thead>\n    <tr style=\"text-align: right;\">\n      <th></th>\n      <th>survived</th>\n      <th>pclass</th>\n      <th>sex</th>\n      <th>age</th>\n      <th>sibsp</th>\n      <th>parch</th>\n      <th>fare</th>\n      <th>embarked</th>\n      <th>deck</th>\n    </tr>\n  </thead>\n  <tbody>\n    <tr>\n      <th>0</th>\n      <td>Dead</td>\n      <td>Third</td>\n      <td>M</td>\n      <td>22.0</td>\n      <td>1</td>\n      <td>0</td>\n      <td>7.2500</td>\n      <td>S</td>\n      <td>NaN</td>\n    </tr>\n    <tr>\n      <th>1</th>\n      <td>Survivor</td>\n      <td>First</td>\n      <td>F</td>\n      <td>38.0</td>\n      <td>1</td>\n      <td>0</td>\n      <td>71.2833</td>\n      <td>C</td>\n      <td>C</td>\n    </tr>\n    <tr>\n      <th>2</th>\n      <td>Survivor</td>\n      <td>Third</td>\n      <td>F</td>\n      <td>26.0</td>\n      <td>0</td>\n      <td>0</td>\n      <td>7.9250</td>\n      <td>S</td>\n      <td>NaN</td>\n    </tr>\n    <tr>\n      <th>3</th>\n      <td>Survivor</td>\n      <td>First</td>\n      <td>F</td>\n      <td>35.0</td>\n      <td>1</td>\n      <td>0</td>\n      <td>53.1000</td>\n      <td>S</td>\n      <td>C</td>\n    </tr>\n    <tr>\n      <th>4</th>\n      <td>Dead</td>\n      <td>Third</td>\n      <td>M</td>\n      <td>35.0</td>\n      <td>0</td>\n      <td>0</td>\n      <td>8.0500</td>\n      <td>S</td>\n      <td>NaN</td>\n    </tr>\n    <tr>\n      <th>...</th>\n      <td>...</td>\n      <td>...</td>\n      <td>...</td>\n      <td>...</td>\n      <td>...</td>\n      <td>...</td>\n      <td>...</td>\n      <td>...</td>\n      <td>...</td>\n    </tr>\n    <tr>\n      <th>886</th>\n      <td>Dead</td>\n      <td>Second</td>\n      <td>M</td>\n      <td>27.0</td>\n      <td>0</td>\n      <td>0</td>\n      <td>13.0000</td>\n      <td>S</td>\n      <td>NaN</td>\n    </tr>\n    <tr>\n      <th>887</th>\n      <td>Survivor</td>\n      <td>First</td>\n      <td>F</td>\n      <td>19.0</td>\n      <td>0</td>\n      <td>0</td>\n      <td>30.0000</td>\n      <td>S</td>\n      <td>B</td>\n    </tr>\n    <tr>\n      <th>888</th>\n      <td>Dead</td>\n      <td>Third</td>\n      <td>F</td>\n      <td>NaN</td>\n      <td>1</td>\n      <td>2</td>\n      <td>23.4500</td>\n      <td>S</td>\n      <td>NaN</td>\n    </tr>\n    <tr>\n      <th>889</th>\n      <td>Survivor</td>\n      <td>First</td>\n      <td>M</td>\n      <td>26.0</td>\n      <td>0</td>\n      <td>0</td>\n      <td>30.0000</td>\n      <td>C</td>\n      <td>C</td>\n    </tr>\n    <tr>\n      <th>890</th>\n      <td>Dead</td>\n      <td>Third</td>\n      <td>M</td>\n      <td>32.0</td>\n      <td>0</td>\n      <td>0</td>\n      <td>7.7500</td>\n      <td>Q</td>\n      <td>NaN</td>\n    </tr>\n  </tbody>\n</table>\n<p>891 rows × 9 columns</p>\n</div>"
     },
     "execution_count": 25,
     "metadata": {},
     "output_type": "execute_result"
    }
   ],
   "source": [
    "titanic"
   ],
   "metadata": {
    "collapsed": false,
    "ExecuteTime": {
     "end_time": "2024-03-29T13:51:34.793119700Z",
     "start_time": "2024-03-29T13:51:34.772373600Z"
    }
   },
   "id": "a835e25b3e9e5e0c",
   "execution_count": 25
  },
  {
   "cell_type": "markdown",
   "source": [],
   "metadata": {
    "collapsed": false
   },
   "id": "a4104ecee5610918"
  },
  {
   "cell_type": "markdown",
   "source": [],
   "metadata": {
    "collapsed": false
   },
   "id": "26a3fbb8fb684c79"
  },
  {
   "cell_type": "markdown",
   "source": [
    "# Conditional Transformation"
   ],
   "metadata": {
    "collapsed": false
   },
   "id": "330772097347ed05"
  },
  {
   "cell_type": "markdown",
   "source": [
    "## We suppose that a passenger is alone if he/she has no siblings or spouse on board. We can create a new column 'Alone_Passenger' that indicates whether a passenger is alone or not. 0 == means the passenger is alone, 1 == means the passenger is not alone."
   ],
   "metadata": {
    "collapsed": false
   },
   "id": "d83d886238b4a661"
  },
  {
   "cell_type": "code",
   "outputs": [
    {
     "data": {
      "text/plain": "0      False\n1      False\n2       True\n3      False\n4       True\n       ...  \n886     True\n887     True\n888    False\n889     True\n890     True\nName: sibsp, Length: 891, dtype: bool"
     },
     "execution_count": 31,
     "metadata": {},
     "output_type": "execute_result"
    }
   ],
   "source": [
    "titanic.sibsp == 0"
   ],
   "metadata": {
    "collapsed": false,
    "ExecuteTime": {
     "end_time": "2024-03-29T13:57:32.438750Z",
     "start_time": "2024-03-29T13:57:32.430158500Z"
    }
   },
   "id": "c3d3be63f84ece48",
   "execution_count": 31
  },
  {
   "cell_type": "markdown",
   "source": [
    "# The np.where() method is used to return elements chosen from x or y depending on condition. In this case, we are checking if the 'sibsp' column is equal to 0. If it is, we return 'YES', otherwise we return 'NO'."
   ],
   "metadata": {
    "collapsed": false
   },
   "id": "503ba4a0743eb0d9"
  },
  {
   "cell_type": "code",
   "outputs": [
    {
     "data": {
      "text/plain": "array(['NO', 'NO', 'YES', 'NO', 'YES', 'YES', 'YES', 'NO', 'YES', 'NO',\n       'NO', 'YES', 'YES', 'NO', 'YES', 'YES', 'NO', 'YES', 'NO', 'YES',\n       'YES', 'YES', 'YES', 'YES', 'NO', 'NO', 'YES', 'NO', 'YES', 'YES',\n       'YES', 'NO', 'YES', 'YES', 'NO', 'NO', 'YES', 'YES', 'NO', 'NO',\n       'NO', 'NO', 'YES', 'NO', 'YES', 'YES', 'NO', 'YES', 'NO', 'NO',\n       'NO', 'YES', 'NO', 'NO', 'YES', 'YES', 'YES', 'YES', 'NO', 'NO',\n       'YES', 'YES', 'NO', 'NO', 'YES', 'NO', 'YES', 'YES', 'NO', 'NO',\n       'YES', 'NO', 'YES', 'NO', 'YES', 'YES', 'YES', 'YES', 'YES', 'YES',\n       'YES', 'YES', 'YES', 'YES', 'YES', 'NO', 'NO', 'YES', 'NO', 'YES',\n       'YES', 'YES', 'NO', 'NO', 'YES', 'YES', 'YES', 'YES', 'YES', 'NO',\n       'YES', 'YES', 'YES', 'YES', 'NO', 'YES', 'YES', 'YES', 'YES', 'NO',\n       'YES', 'NO', 'YES', 'NO', 'YES', 'YES', 'YES', 'NO', 'YES', 'NO',\n       'NO', 'YES', 'NO', 'YES', 'YES', 'NO', 'YES', 'YES', 'NO', 'YES',\n       'YES', 'YES', 'NO', 'NO', 'YES', 'YES', 'YES', 'NO', 'YES', 'YES',\n       'YES', 'YES', 'NO', 'YES', 'YES', 'NO', 'YES', 'NO', 'YES', 'YES',\n       'YES', 'NO', 'YES', 'YES', 'YES', 'YES', 'YES', 'YES', 'YES', 'NO',\n       'YES', 'YES', 'YES', 'YES', 'NO', 'YES', 'YES', 'NO', 'YES', 'YES',\n       'YES', 'NO', 'NO', 'YES', 'YES', 'NO', 'NO', 'YES', 'YES', 'YES',\n       'NO', 'YES', 'NO', 'NO', 'YES', 'YES', 'NO', 'YES', 'NO', 'YES',\n       'YES', 'YES', 'NO', 'NO', 'YES', 'YES', 'YES', 'YES', 'YES', 'YES',\n       'YES', 'NO', 'YES', 'YES', 'YES', 'YES', 'NO', 'YES', 'YES', 'YES',\n       'YES', 'YES', 'YES', 'YES', 'NO', 'NO', 'YES', 'NO', 'YES', 'YES',\n       'YES', 'YES', 'YES', 'YES', 'NO', 'YES', 'YES', 'YES', 'YES', 'NO',\n       'NO', 'YES', 'YES', 'NO', 'YES', 'YES', 'NO', 'YES', 'YES', 'YES',\n       'NO', 'NO', 'YES', 'YES', 'YES', 'NO', 'YES', 'YES', 'NO', 'NO',\n       'YES', 'NO', 'YES', 'NO', 'YES', 'YES', 'YES', 'YES', 'YES', 'YES',\n       'YES', 'NO', 'NO', 'YES', 'YES', 'YES', 'NO', 'NO', 'YES', 'YES',\n       'YES', 'YES', 'YES', 'YES', 'YES', 'NO', 'YES', 'YES', 'NO', 'NO',\n       'YES', 'YES', 'YES', 'YES', 'YES', 'YES', 'YES', 'YES', 'YES',\n       'YES', 'YES', 'NO', 'YES', 'YES', 'YES', 'YES', 'YES', 'NO', 'YES',\n       'YES', 'YES', 'NO', 'YES', 'YES', 'YES', 'NO', 'YES', 'NO', 'NO',\n       'YES', 'YES', 'NO', 'NO', 'YES', 'NO', 'YES', 'NO', 'YES', 'YES',\n       'NO', 'YES', 'YES', 'YES', 'NO', 'NO', 'YES', 'YES', 'YES', 'NO',\n       'YES', 'NO', 'YES', 'YES', 'NO', 'NO', 'YES', 'NO', 'YES', 'YES',\n       'YES', 'NO', 'NO', 'YES', 'YES', 'YES', 'YES', 'YES', 'NO', 'NO',\n       'YES', 'YES', 'YES', 'NO', 'NO', 'YES', 'YES', 'YES', 'YES', 'YES',\n       'YES', 'NO', 'NO', 'YES', 'YES', 'NO', 'YES', 'NO', 'YES', 'YES',\n       'YES', 'NO', 'NO', 'YES', 'YES', 'NO', 'NO', 'YES', 'YES', 'YES',\n       'YES', 'YES', 'YES', 'YES', 'NO', 'YES', 'YES', 'NO', 'YES', 'YES',\n       'YES', 'NO', 'YES', 'NO', 'NO', 'YES', 'YES', 'YES', 'YES', 'YES',\n       'YES', 'YES', 'YES', 'NO', 'NO', 'YES', 'NO', 'YES', 'NO', 'YES',\n       'NO', 'YES', 'YES', 'NO', 'YES', 'YES', 'YES', 'NO', 'YES', 'YES',\n       'YES', 'YES', 'YES', 'YES', 'NO', 'NO', 'YES', 'NO', 'YES', 'YES',\n       'YES', 'YES', 'NO', 'NO', 'YES', 'NO', 'NO', 'NO', 'NO', 'NO',\n       'YES', 'NO', 'YES', 'NO', 'YES', 'YES', 'YES', 'YES', 'YES', 'NO',\n       'YES', 'NO', 'NO', 'YES', 'NO', 'YES', 'YES', 'YES', 'NO', 'YES',\n       'YES', 'YES', 'YES', 'YES', 'YES', 'YES', 'YES', 'YES', 'YES',\n       'YES', 'NO', 'YES', 'YES', 'NO', 'YES', 'YES', 'YES', 'NO', 'NO',\n       'YES', 'YES', 'NO', 'YES', 'YES', 'YES', 'NO', 'NO', 'NO', 'YES',\n       'YES', 'NO', 'NO', 'YES', 'YES', 'YES', 'YES', 'YES', 'NO', 'YES',\n       'NO', 'YES', 'YES', 'YES', 'YES', 'YES', 'YES', 'NO', 'YES', 'YES',\n       'YES', 'YES', 'YES', 'YES', 'YES', 'NO', 'YES', 'YES', 'YES',\n       'YES', 'NO', 'YES', 'YES', 'YES', 'YES', 'YES', 'YES', 'YES',\n       'YES', 'YES', 'YES', 'NO', 'NO', 'YES', 'NO', 'YES', 'YES', 'YES',\n       'YES', 'YES', 'YES', 'YES', 'YES', 'NO', 'NO', 'NO', 'NO', 'YES',\n       'NO', 'YES', 'NO', 'NO', 'YES', 'YES', 'YES', 'YES', 'YES', 'YES',\n       'NO', 'YES', 'NO', 'NO', 'YES', 'YES', 'YES', 'YES', 'YES', 'NO',\n       'YES', 'YES', 'YES', 'YES', 'YES', 'NO', 'YES', 'YES', 'YES',\n       'YES', 'YES', 'NO', 'NO', 'YES', 'NO', 'NO', 'YES', 'YES', 'YES',\n       'YES', 'YES', 'NO', 'YES', 'YES', 'YES', 'NO', 'YES', 'YES', 'NO',\n       'NO', 'YES', 'YES', 'YES', 'NO', 'NO', 'YES', 'YES', 'YES', 'YES',\n       'NO', 'YES', 'YES', 'NO', 'YES', 'NO', 'YES', 'NO', 'YES', 'YES',\n       'NO', 'NO', 'NO', 'NO', 'YES', 'NO', 'NO', 'NO', 'YES', 'YES',\n       'YES', 'YES', 'YES', 'YES', 'YES', 'YES', 'YES', 'YES', 'YES',\n       'NO', 'YES', 'YES', 'NO', 'YES', 'NO', 'YES', 'YES', 'NO', 'YES',\n       'NO', 'NO', 'YES', 'YES', 'YES', 'YES', 'YES', 'YES', 'YES', 'YES',\n       'YES', 'NO', 'YES', 'NO', 'YES', 'YES', 'NO', 'YES', 'YES', 'YES',\n       'NO', 'NO', 'YES', 'YES', 'YES', 'NO', 'NO', 'NO', 'YES', 'YES',\n       'YES', 'YES', 'YES', 'YES', 'NO', 'YES', 'YES', 'YES', 'YES', 'NO',\n       'NO', 'NO', 'NO', 'YES', 'YES', 'YES', 'NO', 'YES', 'YES', 'YES',\n       'YES', 'YES', 'YES', 'YES', 'NO', 'YES', 'NO', 'YES', 'YES', 'YES',\n       'NO', 'YES', 'YES', 'YES', 'YES', 'NO', 'YES', 'YES', 'NO', 'YES',\n       'YES', 'YES', 'YES', 'YES', 'YES', 'YES', 'YES', 'NO', 'YES',\n       'YES', 'NO', 'YES', 'NO', 'YES', 'NO', 'NO', 'YES', 'YES', 'YES',\n       'YES', 'YES', 'YES', 'NO', 'YES', 'YES', 'YES', 'YES', 'NO', 'NO',\n       'NO', 'YES', 'NO', 'NO', 'YES', 'NO', 'YES', 'NO', 'YES', 'YES',\n       'YES', 'NO', 'NO', 'YES', 'YES', 'YES', 'YES', 'YES', 'YES', 'YES',\n       'NO', 'YES', 'NO', 'YES', 'YES', 'NO', 'YES', 'YES', 'YES', 'YES',\n       'YES', 'NO', 'YES', 'YES', 'YES', 'YES', 'YES', 'YES', 'NO', 'YES',\n       'NO', 'YES', 'YES', 'YES', 'NO', 'NO', 'YES', 'YES', 'YES', 'NO',\n       'YES', 'YES', 'YES', 'YES', 'YES', 'YES', 'NO', 'YES', 'NO', 'NO',\n       'YES', 'YES', 'YES', 'YES', 'YES', 'YES', 'NO', 'YES', 'YES',\n       'YES', 'NO', 'YES', 'YES', 'YES', 'NO', 'YES', 'NO', 'NO', 'YES',\n       'YES', 'YES', 'NO', 'YES', 'YES', 'YES', 'YES', 'YES', 'NO', 'NO',\n       'YES', 'YES', 'YES', 'NO', 'YES', 'YES', 'YES', 'YES', 'YES',\n       'YES', 'YES', 'YES', 'YES', 'YES', 'NO', 'YES', 'YES', 'NO', 'NO',\n       'YES', 'NO', 'YES', 'NO', 'YES', 'NO', 'YES', 'YES', 'YES', 'NO',\n       'NO', 'YES', 'NO', 'YES', 'YES', 'NO', 'YES', 'YES', 'NO', 'YES',\n       'NO', 'YES', 'YES', 'NO', 'YES', 'YES', 'YES', 'YES', 'YES', 'YES',\n       'YES', 'YES', 'YES', 'YES', 'YES', 'YES', 'YES', 'NO', 'YES',\n       'YES'], dtype='<U3')"
     },
     "execution_count": 33,
     "metadata": {},
     "output_type": "execute_result"
    }
   ],
   "source": [
    "np.where(titanic.sibsp == 0, 'YES', 'NO')"
   ],
   "metadata": {
    "collapsed": false,
    "ExecuteTime": {
     "end_time": "2024-03-29T14:00:57.387352800Z",
     "start_time": "2024-03-29T14:00:57.360382800Z"
    }
   },
   "id": "707b9ac6ecf3be9e",
   "execution_count": 33
  },
  {
   "cell_type": "markdown",
   "source": [
    "# The pd.Series() method is used to create a new Series. In this case, we are creating a new Series 'Alone_Passenger' that contains the values returned by the np.where() method."
   ],
   "metadata": {
    "collapsed": false
   },
   "id": "9111fe15120d4c4c"
  },
  {
   "cell_type": "code",
   "outputs": [],
   "source": [
    "titanic['Alone_Passenger'] = pd.Series(np.where(titanic.sibsp == 0, 'Yes', 'No'))"
   ],
   "metadata": {
    "collapsed": false,
    "ExecuteTime": {
     "end_time": "2024-03-29T14:03:07.315865300Z",
     "start_time": "2024-03-29T14:03:07.294526Z"
    }
   },
   "id": "69508d7f914aa13b",
   "execution_count": 46
  },
  {
   "cell_type": "code",
   "outputs": [
    {
     "data": {
      "text/plain": "     survived  pclass sex   age  sibsp  parch     fare embarked deck Alone   \\\n0        Dead   Third   M  22.0      1      0   7.2500        S  NaN     No   \n1    Survivor   First   F  38.0      1      0  71.2833        C    C     No   \n2    Survivor   Third   F  26.0      0      0   7.9250        S  NaN    Yes   \n3    Survivor   First   F  35.0      1      0  53.1000        S    C     No   \n4        Dead   Third   M  35.0      0      0   8.0500        S  NaN    Yes   \n..        ...     ...  ..   ...    ...    ...      ...      ...  ...    ...   \n886      Dead  Second   M  27.0      0      0  13.0000        S  NaN    Yes   \n887  Survivor   First   F  19.0      0      0  30.0000        S    B    Yes   \n888      Dead   Third   F   NaN      1      2  23.4500        S  NaN     No   \n889  Survivor   First   M  26.0      0      0  30.0000        C    C    Yes   \n890      Dead   Third   M  32.0      0      0   7.7500        Q  NaN    Yes   \n\n    Alone_Passenger  \n0                No  \n1                No  \n2               Yes  \n3                No  \n4               Yes  \n..              ...  \n886             Yes  \n887             Yes  \n888              No  \n889             Yes  \n890             Yes  \n\n[891 rows x 11 columns]",
      "text/html": "<div>\n<style scoped>\n    .dataframe tbody tr th:only-of-type {\n        vertical-align: middle;\n    }\n\n    .dataframe tbody tr th {\n        vertical-align: top;\n    }\n\n    .dataframe thead th {\n        text-align: right;\n    }\n</style>\n<table border=\"1\" class=\"dataframe\">\n  <thead>\n    <tr style=\"text-align: right;\">\n      <th></th>\n      <th>survived</th>\n      <th>pclass</th>\n      <th>sex</th>\n      <th>age</th>\n      <th>sibsp</th>\n      <th>parch</th>\n      <th>fare</th>\n      <th>embarked</th>\n      <th>deck</th>\n      <th>Alone</th>\n      <th>Alone_Passenger</th>\n    </tr>\n  </thead>\n  <tbody>\n    <tr>\n      <th>0</th>\n      <td>Dead</td>\n      <td>Third</td>\n      <td>M</td>\n      <td>22.0</td>\n      <td>1</td>\n      <td>0</td>\n      <td>7.2500</td>\n      <td>S</td>\n      <td>NaN</td>\n      <td>No</td>\n      <td>No</td>\n    </tr>\n    <tr>\n      <th>1</th>\n      <td>Survivor</td>\n      <td>First</td>\n      <td>F</td>\n      <td>38.0</td>\n      <td>1</td>\n      <td>0</td>\n      <td>71.2833</td>\n      <td>C</td>\n      <td>C</td>\n      <td>No</td>\n      <td>No</td>\n    </tr>\n    <tr>\n      <th>2</th>\n      <td>Survivor</td>\n      <td>Third</td>\n      <td>F</td>\n      <td>26.0</td>\n      <td>0</td>\n      <td>0</td>\n      <td>7.9250</td>\n      <td>S</td>\n      <td>NaN</td>\n      <td>Yes</td>\n      <td>Yes</td>\n    </tr>\n    <tr>\n      <th>3</th>\n      <td>Survivor</td>\n      <td>First</td>\n      <td>F</td>\n      <td>35.0</td>\n      <td>1</td>\n      <td>0</td>\n      <td>53.1000</td>\n      <td>S</td>\n      <td>C</td>\n      <td>No</td>\n      <td>No</td>\n    </tr>\n    <tr>\n      <th>4</th>\n      <td>Dead</td>\n      <td>Third</td>\n      <td>M</td>\n      <td>35.0</td>\n      <td>0</td>\n      <td>0</td>\n      <td>8.0500</td>\n      <td>S</td>\n      <td>NaN</td>\n      <td>Yes</td>\n      <td>Yes</td>\n    </tr>\n    <tr>\n      <th>...</th>\n      <td>...</td>\n      <td>...</td>\n      <td>...</td>\n      <td>...</td>\n      <td>...</td>\n      <td>...</td>\n      <td>...</td>\n      <td>...</td>\n      <td>...</td>\n      <td>...</td>\n      <td>...</td>\n    </tr>\n    <tr>\n      <th>886</th>\n      <td>Dead</td>\n      <td>Second</td>\n      <td>M</td>\n      <td>27.0</td>\n      <td>0</td>\n      <td>0</td>\n      <td>13.0000</td>\n      <td>S</td>\n      <td>NaN</td>\n      <td>Yes</td>\n      <td>Yes</td>\n    </tr>\n    <tr>\n      <th>887</th>\n      <td>Survivor</td>\n      <td>First</td>\n      <td>F</td>\n      <td>19.0</td>\n      <td>0</td>\n      <td>0</td>\n      <td>30.0000</td>\n      <td>S</td>\n      <td>B</td>\n      <td>Yes</td>\n      <td>Yes</td>\n    </tr>\n    <tr>\n      <th>888</th>\n      <td>Dead</td>\n      <td>Third</td>\n      <td>F</td>\n      <td>NaN</td>\n      <td>1</td>\n      <td>2</td>\n      <td>23.4500</td>\n      <td>S</td>\n      <td>NaN</td>\n      <td>No</td>\n      <td>No</td>\n    </tr>\n    <tr>\n      <th>889</th>\n      <td>Survivor</td>\n      <td>First</td>\n      <td>M</td>\n      <td>26.0</td>\n      <td>0</td>\n      <td>0</td>\n      <td>30.0000</td>\n      <td>C</td>\n      <td>C</td>\n      <td>Yes</td>\n      <td>Yes</td>\n    </tr>\n    <tr>\n      <th>890</th>\n      <td>Dead</td>\n      <td>Third</td>\n      <td>M</td>\n      <td>32.0</td>\n      <td>0</td>\n      <td>0</td>\n      <td>7.7500</td>\n      <td>Q</td>\n      <td>NaN</td>\n      <td>Yes</td>\n      <td>Yes</td>\n    </tr>\n  </tbody>\n</table>\n<p>891 rows × 11 columns</p>\n</div>"
     },
     "execution_count": 47,
     "metadata": {},
     "output_type": "execute_result"
    }
   ],
   "source": [
    "titanic"
   ],
   "metadata": {
    "collapsed": false,
    "ExecuteTime": {
     "end_time": "2024-03-29T14:03:08.231431200Z",
     "start_time": "2024-03-29T14:03:08.205074400Z"
    }
   },
   "id": "8de16aac87968e55",
   "execution_count": 47
  },
  {
   "cell_type": "code",
   "outputs": [
    {
     "name": "stdout",
     "output_type": "stream",
     "text": [
      "<class 'pandas.core.frame.DataFrame'>\n",
      "RangeIndex: 891 entries, 0 to 890\n",
      "Data columns (total 11 columns):\n",
      " #   Column           Non-Null Count  Dtype  \n",
      "---  ------           --------------  -----  \n",
      " 0   survived         891 non-null    object \n",
      " 1   pclass           891 non-null    object \n",
      " 2   sex              891 non-null    object \n",
      " 3   age              714 non-null    float64\n",
      " 4   sibsp            891 non-null    int64  \n",
      " 5   parch            891 non-null    int64  \n",
      " 6   fare             891 non-null    float64\n",
      " 7   embarked         889 non-null    object \n",
      " 8   deck             203 non-null    object \n",
      " 9   Alone            891 non-null    object \n",
      " 10  Alone_Passenger  891 non-null    object \n",
      "dtypes: float64(2), int64(2), object(7)\n",
      "memory usage: 76.7+ KB\n"
     ]
    }
   ],
   "source": [
    "titanic.info()"
   ],
   "metadata": {
    "collapsed": false,
    "ExecuteTime": {
     "end_time": "2024-03-29T14:03:09.128440300Z",
     "start_time": "2024-03-29T14:03:09.078980Z"
    }
   },
   "id": "985b59a6aba83dab",
   "execution_count": 48
  },
  {
   "cell_type": "markdown",
   "source": [
    "# The np.where() method is used to return elements chosen from x or y depending on condition. In this case, we are checking if the 'age' column is less than 18. If it is, we return 'YES', otherwise we return 'NO'."
   ],
   "metadata": {
    "collapsed": false
   },
   "id": "17f8149c9bad2523"
  },
  {
   "cell_type": "code",
   "outputs": [],
   "source": [
    "titanic['Child'] = np.where(titanic.age < 18, 'Yes', 'No')"
   ],
   "metadata": {
    "collapsed": false,
    "ExecuteTime": {
     "end_time": "2024-03-29T14:04:18.372428300Z",
     "start_time": "2024-03-29T14:04:18.346979800Z"
    }
   },
   "id": "7c4e307aca2ce2cf",
   "execution_count": 49
  },
  {
   "cell_type": "code",
   "outputs": [
    {
     "data": {
      "text/plain": "0      No\n1      No\n2      No\n3      No\n4      No\n       ..\n886    No\n887    No\n888    No\n889    No\n890    No\nName: Child, Length: 891, dtype: object"
     },
     "execution_count": 50,
     "metadata": {},
     "output_type": "execute_result"
    }
   ],
   "source": [
    "titanic.Child"
   ],
   "metadata": {
    "collapsed": false,
    "ExecuteTime": {
     "end_time": "2024-03-29T14:04:22.635449100Z",
     "start_time": "2024-03-29T14:04:22.611170600Z"
    }
   },
   "id": "208cea16f033132e",
   "execution_count": 50
  },
  {
   "cell_type": "code",
   "outputs": [],
   "source": [],
   "metadata": {
    "collapsed": false
   },
   "id": "82ffc1f5b9ea6bbf"
  }
 ],
 "metadata": {
  "kernelspec": {
   "display_name": "Python 3",
   "language": "python",
   "name": "python3"
  },
  "language_info": {
   "codemirror_mode": {
    "name": "ipython",
    "version": 2
   },
   "file_extension": ".py",
   "mimetype": "text/x-python",
   "name": "python",
   "nbconvert_exporter": "python",
   "pygments_lexer": "ipython2",
   "version": "2.7.6"
  }
 },
 "nbformat": 4,
 "nbformat_minor": 5
}
