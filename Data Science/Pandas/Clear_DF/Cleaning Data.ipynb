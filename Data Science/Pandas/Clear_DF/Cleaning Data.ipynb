{
 "cells": [
  {
   "cell_type": "code",
   "execution_count": 2,
   "id": "initial_id",
   "metadata": {
    "collapsed": true,
    "ExecuteTime": {
     "end_time": "2024-05-08T16:57:56.426489600Z",
     "start_time": "2024-05-08T16:57:56.380481500Z"
    }
   },
   "outputs": [],
   "source": [
    "import pandas as pd\n",
    "import matplotlib.pyplot as plt"
   ]
  },
  {
   "cell_type": "markdown",
   "source": [
    "# -> Summer cleaning <-"
   ],
   "metadata": {
    "collapsed": false
   },
   "id": "fed4be8e640d062"
  },
  {
   "cell_type": "code",
   "outputs": [
    {
     "data": {
      "text/plain": "       Year    City      Sport           Discipline  \\\n0      1896  Athens   Aquatics             Swimming   \n1      1896  Athens   Aquatics             Swimming   \n2      1896  Athens   Aquatics             Swimming   \n3      1896  Athens   Aquatics             Swimming   \n4      1896  Athens   Aquatics             Swimming   \n...     ...     ...        ...                  ...   \n31165  2012  London  Wrestling  Wrestling Freestyle   \n31166  2012  London  Wrestling  Wrestling Freestyle   \n31167  2012  London  Wrestling  Wrestling Freestyle   \n31168  2012  London  Wrestling  Wrestling Freestyle   \n31169  2012  London  Wrestling  Wrestling Freestyle   \n\n                      Athlete Name Country Gender                       Event  \\\n0                   HAJOS, Alfred      HUN    Men              100M Freestyle   \n1                HERSCHMANN, Otto      AUT    Men              100M Freestyle   \n2               DRIVAS, Dimitrios      GRE    Men  100M Freestyle For Sailors   \n3              Malokinis, Ioannis      GRE    Men  100M Freestyle For Sailors   \n4              Chasapis, Spiridon      GRE    Men  100M Freestyle For Sailors   \n...                            ...     ...    ...                         ...   \n31165          JANIKOWSKI, Damian      POL    Men                    Wg 84 KG   \n31166   REZAEI, Ghasem Gholamreza      IRI    Men                    Wg 96 KG   \n31167              TOTROV, Rustam      RUS    Men                    Wg 96 KG   \n31168           ALEKSANYAN, Artur      ARM    Men                    Wg 96 KG   \n31169              LIDBERG, Jimmy      SWE    Men                    Wg 96 KG   \n\n            Medal  \n0      Gold Medal  \n1          Silver  \n2          Bronze  \n3      Gold Medal  \n4          Silver  \n...           ...  \n31165      Bronze  \n31166        Gold  \n31167      Silver  \n31168      Bronze  \n31169      Bronze  \n\n[31170 rows x 9 columns]",
      "text/html": "<div>\n<style scoped>\n    .dataframe tbody tr th:only-of-type {\n        vertical-align: middle;\n    }\n\n    .dataframe tbody tr th {\n        vertical-align: top;\n    }\n\n    .dataframe thead th {\n        text-align: right;\n    }\n</style>\n<table border=\"1\" class=\"dataframe\">\n  <thead>\n    <tr style=\"text-align: right;\">\n      <th></th>\n      <th>Year</th>\n      <th>City</th>\n      <th>Sport</th>\n      <th>Discipline</th>\n      <th>Athlete Name</th>\n      <th>Country</th>\n      <th>Gender</th>\n      <th>Event</th>\n      <th>Medal</th>\n    </tr>\n  </thead>\n  <tbody>\n    <tr>\n      <th>0</th>\n      <td>1896</td>\n      <td>Athens</td>\n      <td>Aquatics</td>\n      <td>Swimming</td>\n      <td>HAJOS, Alfred</td>\n      <td>HUN</td>\n      <td>Men</td>\n      <td>100M Freestyle</td>\n      <td>Gold Medal</td>\n    </tr>\n    <tr>\n      <th>1</th>\n      <td>1896</td>\n      <td>Athens</td>\n      <td>Aquatics</td>\n      <td>Swimming</td>\n      <td>HERSCHMANN, Otto</td>\n      <td>AUT</td>\n      <td>Men</td>\n      <td>100M Freestyle</td>\n      <td>Silver</td>\n    </tr>\n    <tr>\n      <th>2</th>\n      <td>1896</td>\n      <td>Athens</td>\n      <td>Aquatics</td>\n      <td>Swimming</td>\n      <td>DRIVAS, Dimitrios</td>\n      <td>GRE</td>\n      <td>Men</td>\n      <td>100M Freestyle For Sailors</td>\n      <td>Bronze</td>\n    </tr>\n    <tr>\n      <th>3</th>\n      <td>1896</td>\n      <td>Athens</td>\n      <td>Aquatics</td>\n      <td>Swimming</td>\n      <td>Malokinis, Ioannis</td>\n      <td>GRE</td>\n      <td>Men</td>\n      <td>100M Freestyle For Sailors</td>\n      <td>Gold Medal</td>\n    </tr>\n    <tr>\n      <th>4</th>\n      <td>1896</td>\n      <td>Athens</td>\n      <td>Aquatics</td>\n      <td>Swimming</td>\n      <td>Chasapis, Spiridon</td>\n      <td>GRE</td>\n      <td>Men</td>\n      <td>100M Freestyle For Sailors</td>\n      <td>Silver</td>\n    </tr>\n    <tr>\n      <th>...</th>\n      <td>...</td>\n      <td>...</td>\n      <td>...</td>\n      <td>...</td>\n      <td>...</td>\n      <td>...</td>\n      <td>...</td>\n      <td>...</td>\n      <td>...</td>\n    </tr>\n    <tr>\n      <th>31165</th>\n      <td>2012</td>\n      <td>London</td>\n      <td>Wrestling</td>\n      <td>Wrestling Freestyle</td>\n      <td>JANIKOWSKI, Damian</td>\n      <td>POL</td>\n      <td>Men</td>\n      <td>Wg 84 KG</td>\n      <td>Bronze</td>\n    </tr>\n    <tr>\n      <th>31166</th>\n      <td>2012</td>\n      <td>London</td>\n      <td>Wrestling</td>\n      <td>Wrestling Freestyle</td>\n      <td>REZAEI, Ghasem Gholamreza</td>\n      <td>IRI</td>\n      <td>Men</td>\n      <td>Wg 96 KG</td>\n      <td>Gold</td>\n    </tr>\n    <tr>\n      <th>31167</th>\n      <td>2012</td>\n      <td>London</td>\n      <td>Wrestling</td>\n      <td>Wrestling Freestyle</td>\n      <td>TOTROV, Rustam</td>\n      <td>RUS</td>\n      <td>Men</td>\n      <td>Wg 96 KG</td>\n      <td>Silver</td>\n    </tr>\n    <tr>\n      <th>31168</th>\n      <td>2012</td>\n      <td>London</td>\n      <td>Wrestling</td>\n      <td>Wrestling Freestyle</td>\n      <td>ALEKSANYAN, Artur</td>\n      <td>ARM</td>\n      <td>Men</td>\n      <td>Wg 96 KG</td>\n      <td>Bronze</td>\n    </tr>\n    <tr>\n      <th>31169</th>\n      <td>2012</td>\n      <td>London</td>\n      <td>Wrestling</td>\n      <td>Wrestling Freestyle</td>\n      <td>LIDBERG, Jimmy</td>\n      <td>SWE</td>\n      <td>Men</td>\n      <td>Wg 96 KG</td>\n      <td>Bronze</td>\n    </tr>\n  </tbody>\n</table>\n<p>31170 rows × 9 columns</p>\n</div>"
     },
     "execution_count": 3,
     "metadata": {},
     "output_type": "execute_result"
    }
   ],
   "source": [
    "summer_raw = pd.read_csv(\"../../Data/summer_imp.csv\")\n",
    "summer_raw"
   ],
   "metadata": {
    "collapsed": false,
    "ExecuteTime": {
     "end_time": "2024-05-08T16:58:00.350150100Z",
     "start_time": "2024-05-08T16:58:00.198079200Z"
    }
   },
   "id": "afd45c130803e1e2",
   "execution_count": 3
  },
  {
   "cell_type": "markdown",
   "source": [
    "## 1. Analyze the data"
   ],
   "metadata": {
    "collapsed": false
   },
   "id": "3dda424be67d7fec"
  },
  {
   "cell_type": "code",
   "outputs": [
    {
     "data": {
      "text/plain": "               Year\ncount  31170.000000\nmean    1970.483157\nstd       33.158454\nmin     1896.000000\n25%     1948.000000\n50%     1980.000000\n75%     2000.000000\nmax     2012.000000",
      "text/html": "<div>\n<style scoped>\n    .dataframe tbody tr th:only-of-type {\n        vertical-align: middle;\n    }\n\n    .dataframe tbody tr th {\n        vertical-align: top;\n    }\n\n    .dataframe thead th {\n        text-align: right;\n    }\n</style>\n<table border=\"1\" class=\"dataframe\">\n  <thead>\n    <tr style=\"text-align: right;\">\n      <th></th>\n      <th>Year</th>\n    </tr>\n  </thead>\n  <tbody>\n    <tr>\n      <th>count</th>\n      <td>31170.000000</td>\n    </tr>\n    <tr>\n      <th>mean</th>\n      <td>1970.483157</td>\n    </tr>\n    <tr>\n      <th>std</th>\n      <td>33.158454</td>\n    </tr>\n    <tr>\n      <th>min</th>\n      <td>1896.000000</td>\n    </tr>\n    <tr>\n      <th>25%</th>\n      <td>1948.000000</td>\n    </tr>\n    <tr>\n      <th>50%</th>\n      <td>1980.000000</td>\n    </tr>\n    <tr>\n      <th>75%</th>\n      <td>2000.000000</td>\n    </tr>\n    <tr>\n      <th>max</th>\n      <td>2012.000000</td>\n    </tr>\n  </tbody>\n</table>\n</div>"
     },
     "execution_count": 32,
     "metadata": {},
     "output_type": "execute_result"
    }
   ],
   "source": [
    "summer_raw.describe()"
   ],
   "metadata": {
    "collapsed": false,
    "ExecuteTime": {
     "end_time": "2024-03-14T18:25:46.171458600Z",
     "start_time": "2024-03-14T18:25:46.112443300Z"
    }
   },
   "id": "17d0b780f87123e4",
   "execution_count": 32
  },
  {
   "cell_type": "code",
   "outputs": [
    {
     "name": "stdout",
     "output_type": "stream",
     "text": [
      "<class 'pandas.core.frame.DataFrame'>\n",
      "RangeIndex: 31170 entries, 0 to 31169\n",
      "Data columns (total 9 columns):\n",
      " #   Column        Non-Null Count  Dtype \n",
      "---  ------        --------------  ----- \n",
      " 0   Year          31170 non-null  int64 \n",
      " 1   City          31170 non-null  object\n",
      " 2   Sport         31170 non-null  object\n",
      " 3   Discipline    31170 non-null  object\n",
      " 4   Athlete Name  31170 non-null  object\n",
      " 5   Country       31166 non-null  object\n",
      " 6   Gender        31170 non-null  object\n",
      " 7   Event         31170 non-null  object\n",
      " 8   Medal         31170 non-null  object\n",
      "dtypes: int64(1), object(8)\n",
      "memory usage: 2.1+ MB\n"
     ]
    }
   ],
   "source": [
    "summer_raw.info()"
   ],
   "metadata": {
    "collapsed": false,
    "ExecuteTime": {
     "end_time": "2024-03-14T18:25:46.417800600Z",
     "start_time": "2024-03-14T18:25:46.295604100Z"
    }
   },
   "id": "b6b744865d8c9a2",
   "execution_count": 33
  },
  {
   "cell_type": "markdown",
   "source": [
    "Gold Medal is not ok we have Gold, Silver and Bronze. We need to change the column name"
   ],
   "metadata": {
    "collapsed": false
   },
   "id": "b319e4b247317acf"
  },
  {
   "cell_type": "code",
   "outputs": [
    {
     "data": {
      "text/plain": "array(['Gold Medal', 'Silver', 'Bronze', 'Gold'], dtype=object)"
     },
     "execution_count": 34,
     "metadata": {},
     "output_type": "execute_result"
    }
   ],
   "source": [
    "summer_raw.Medal.unique()"
   ],
   "metadata": {
    "collapsed": false,
    "ExecuteTime": {
     "end_time": "2024-03-14T18:25:47.188349500Z",
     "start_time": "2024-03-14T18:25:47.119597800Z"
    }
   },
   "id": "4cff318b0ba18510",
   "execution_count": 34
  },
  {
   "cell_type": "code",
   "outputs": [
    {
     "data": {
      "text/plain": "Medal\nGold          10483\nBronze        10372\nSilver        10311\nGold Medal        4\nName: count, dtype: int64"
     },
     "execution_count": 35,
     "metadata": {},
     "output_type": "execute_result"
    }
   ],
   "source": [
    "summer_raw.Medal.value_counts()"
   ],
   "metadata": {
    "collapsed": false,
    "ExecuteTime": {
     "end_time": "2024-03-14T18:25:47.540218800Z",
     "start_time": "2024-03-14T18:25:47.392337600Z"
    }
   },
   "id": "355a3fa6fec3066b",
   "execution_count": 35
  },
  {
   "cell_type": "markdown",
   "source": [
    "## Clean rows \n",
    "Change the value with replace method. (to_replace is a list of values to change, value is a list of new values)"
   ],
   "metadata": {
    "collapsed": false
   },
   "id": "1b2c60eea3c545fe"
  },
  {
   "cell_type": "code",
   "outputs": [
    {
     "name": "stderr",
     "output_type": "stream",
     "text": [
      "C:\\Users\\Darius\\AppData\\Local\\Temp\\ipykernel_15492\\2103726362.py:1: FutureWarning: A value is trying to be set on a copy of a DataFrame or Series through chained assignment using an inplace method.\n",
      "The behavior will change in pandas 3.0. This inplace method will never work because the intermediate object on which we are setting values always behaves as a copy.\n",
      "\n",
      "For example, when doing 'df[col].method(value, inplace=True)', try using 'df.method({col: value}, inplace=True)' or df[col] = df[col].method(value) instead, to perform the operation inplace on the original object.\n",
      "\n",
      "\n",
      "  summer_raw.Medal.replace(to_replace=\"Gold Medal\", value=\"Gold\", inplace=True)\n"
     ]
    }
   ],
   "source": [
    "summer_raw.Medal.replace(to_replace=\"Gold Medal\", value=\"Gold\", inplace=True)"
   ],
   "metadata": {
    "collapsed": false,
    "ExecuteTime": {
     "end_time": "2024-03-14T18:25:47.808306200Z",
     "start_time": "2024-03-14T18:25:47.706219900Z"
    }
   },
   "id": "acf85790f35f76e8",
   "execution_count": 36
  },
  {
   "cell_type": "code",
   "outputs": [
    {
     "data": {
      "text/plain": "Year  City       Sport       Discipline           Athlete Name                   Country  Gender  Event                     Medal \n1912  Stockholm  Athletics   Athletics            LELONG, Charles Louis          FRA      Men     4X400M Relay              Silver    2\n2008  Beijing    Rowing      Rowing               VOLPENHEIN, Bryan              USA      Men     Eight With Coxswain (8+)  Bronze    2\n1980  Moscow     Boxing      Boxing               MUSTAFOV, Ismail               BUL      Men     - 48KG (Light-Flyweight)  Bronze    2\n2012  London     Badminton   Badminton            ZHAO, Yunlei                   CHN      Women   Doubles                   Gold      2\n1968  Mexico     Fencing     Fencing              KALMAR, Janos                  HUN      Men     Sabre Team                Bronze    2\n                                                                                                                                     ..\n1960  Rome       Gymnastics  Artistic G.          MENICHELLI, Franco             ITA      Men     Floor Exercises           Bronze    1\n                                                  MARZOLLA, Gianfranco           ITA      Men     Team Competition          Bronze    1\n                                                  MARGARIT-NICULESCU, Elena      ROU      Women   Team Competition          Bronze    1\n                                                  LYUKHINA-ZAMOTAILOVA, Tamara   URS      Women   Uneven Bars               Bronze    1\n2012  London     Wrestling   Wrestling Freestyle  YUMOTO, Shinichi               JPN      Men     Wf 55 KG                  Bronze    1\nName: count, Length: 31159, dtype: int64"
     },
     "execution_count": 37,
     "metadata": {},
     "output_type": "execute_result"
    }
   ],
   "source": [
    "summer_raw.value_counts()"
   ],
   "metadata": {
    "collapsed": false,
    "ExecuteTime": {
     "end_time": "2024-03-14T18:25:48.104397800Z",
     "start_time": "2024-03-14T18:25:47.930310400Z"
    }
   },
   "id": "a602b1e8b1551f6f",
   "execution_count": 37
  },
  {
   "cell_type": "markdown",
   "source": [
    "## Clean columns 'Athlete Name' it is not ok because , we have emty spaces. Need change to 'Athlete_Name'\n",
    "columns =  a dict with the old name and the new name of the column"
   ],
   "metadata": {
    "collapsed": false
   },
   "id": "63505f858614df8"
  },
  {
   "cell_type": "code",
   "outputs": [],
   "source": [
    "summer_raw.rename(columns={\"Athlete Name\": \"Athlete_Name\"}, inplace=True )"
   ],
   "metadata": {
    "collapsed": false,
    "ExecuteTime": {
     "end_time": "2024-03-14T18:25:48.309591400Z",
     "start_time": "2024-03-14T18:25:48.156000100Z"
    }
   },
   "id": "bfa5623aa2a7f0cc",
   "execution_count": 38
  },
  {
   "cell_type": "code",
   "outputs": [
    {
     "data": {
      "text/plain": "       Year    City      Sport           Discipline  \\\n0      1896  Athens   Aquatics             Swimming   \n1      1896  Athens   Aquatics             Swimming   \n2      1896  Athens   Aquatics             Swimming   \n3      1896  Athens   Aquatics             Swimming   \n4      1896  Athens   Aquatics             Swimming   \n...     ...     ...        ...                  ...   \n31165  2012  London  Wrestling  Wrestling Freestyle   \n31166  2012  London  Wrestling  Wrestling Freestyle   \n31167  2012  London  Wrestling  Wrestling Freestyle   \n31168  2012  London  Wrestling  Wrestling Freestyle   \n31169  2012  London  Wrestling  Wrestling Freestyle   \n\n                      Athlete_Name Country Gender                       Event  \\\n0                   HAJOS, Alfred      HUN    Men              100M Freestyle   \n1                HERSCHMANN, Otto      AUT    Men              100M Freestyle   \n2               DRIVAS, Dimitrios      GRE    Men  100M Freestyle For Sailors   \n3              Malokinis, Ioannis      GRE    Men  100M Freestyle For Sailors   \n4              Chasapis, Spiridon      GRE    Men  100M Freestyle For Sailors   \n...                            ...     ...    ...                         ...   \n31165          JANIKOWSKI, Damian      POL    Men                    Wg 84 KG   \n31166   REZAEI, Ghasem Gholamreza      IRI    Men                    Wg 96 KG   \n31167              TOTROV, Rustam      RUS    Men                    Wg 96 KG   \n31168           ALEKSANYAN, Artur      ARM    Men                    Wg 96 KG   \n31169              LIDBERG, Jimmy      SWE    Men                    Wg 96 KG   \n\n        Medal  \n0        Gold  \n1      Silver  \n2      Bronze  \n3        Gold  \n4      Silver  \n...       ...  \n31165  Bronze  \n31166    Gold  \n31167  Silver  \n31168  Bronze  \n31169  Bronze  \n\n[31170 rows x 9 columns]",
      "text/html": "<div>\n<style scoped>\n    .dataframe tbody tr th:only-of-type {\n        vertical-align: middle;\n    }\n\n    .dataframe tbody tr th {\n        vertical-align: top;\n    }\n\n    .dataframe thead th {\n        text-align: right;\n    }\n</style>\n<table border=\"1\" class=\"dataframe\">\n  <thead>\n    <tr style=\"text-align: right;\">\n      <th></th>\n      <th>Year</th>\n      <th>City</th>\n      <th>Sport</th>\n      <th>Discipline</th>\n      <th>Athlete_Name</th>\n      <th>Country</th>\n      <th>Gender</th>\n      <th>Event</th>\n      <th>Medal</th>\n    </tr>\n  </thead>\n  <tbody>\n    <tr>\n      <th>0</th>\n      <td>1896</td>\n      <td>Athens</td>\n      <td>Aquatics</td>\n      <td>Swimming</td>\n      <td>HAJOS, Alfred</td>\n      <td>HUN</td>\n      <td>Men</td>\n      <td>100M Freestyle</td>\n      <td>Gold</td>\n    </tr>\n    <tr>\n      <th>1</th>\n      <td>1896</td>\n      <td>Athens</td>\n      <td>Aquatics</td>\n      <td>Swimming</td>\n      <td>HERSCHMANN, Otto</td>\n      <td>AUT</td>\n      <td>Men</td>\n      <td>100M Freestyle</td>\n      <td>Silver</td>\n    </tr>\n    <tr>\n      <th>2</th>\n      <td>1896</td>\n      <td>Athens</td>\n      <td>Aquatics</td>\n      <td>Swimming</td>\n      <td>DRIVAS, Dimitrios</td>\n      <td>GRE</td>\n      <td>Men</td>\n      <td>100M Freestyle For Sailors</td>\n      <td>Bronze</td>\n    </tr>\n    <tr>\n      <th>3</th>\n      <td>1896</td>\n      <td>Athens</td>\n      <td>Aquatics</td>\n      <td>Swimming</td>\n      <td>Malokinis, Ioannis</td>\n      <td>GRE</td>\n      <td>Men</td>\n      <td>100M Freestyle For Sailors</td>\n      <td>Gold</td>\n    </tr>\n    <tr>\n      <th>4</th>\n      <td>1896</td>\n      <td>Athens</td>\n      <td>Aquatics</td>\n      <td>Swimming</td>\n      <td>Chasapis, Spiridon</td>\n      <td>GRE</td>\n      <td>Men</td>\n      <td>100M Freestyle For Sailors</td>\n      <td>Silver</td>\n    </tr>\n    <tr>\n      <th>...</th>\n      <td>...</td>\n      <td>...</td>\n      <td>...</td>\n      <td>...</td>\n      <td>...</td>\n      <td>...</td>\n      <td>...</td>\n      <td>...</td>\n      <td>...</td>\n    </tr>\n    <tr>\n      <th>31165</th>\n      <td>2012</td>\n      <td>London</td>\n      <td>Wrestling</td>\n      <td>Wrestling Freestyle</td>\n      <td>JANIKOWSKI, Damian</td>\n      <td>POL</td>\n      <td>Men</td>\n      <td>Wg 84 KG</td>\n      <td>Bronze</td>\n    </tr>\n    <tr>\n      <th>31166</th>\n      <td>2012</td>\n      <td>London</td>\n      <td>Wrestling</td>\n      <td>Wrestling Freestyle</td>\n      <td>REZAEI, Ghasem Gholamreza</td>\n      <td>IRI</td>\n      <td>Men</td>\n      <td>Wg 96 KG</td>\n      <td>Gold</td>\n    </tr>\n    <tr>\n      <th>31167</th>\n      <td>2012</td>\n      <td>London</td>\n      <td>Wrestling</td>\n      <td>Wrestling Freestyle</td>\n      <td>TOTROV, Rustam</td>\n      <td>RUS</td>\n      <td>Men</td>\n      <td>Wg 96 KG</td>\n      <td>Silver</td>\n    </tr>\n    <tr>\n      <th>31168</th>\n      <td>2012</td>\n      <td>London</td>\n      <td>Wrestling</td>\n      <td>Wrestling Freestyle</td>\n      <td>ALEKSANYAN, Artur</td>\n      <td>ARM</td>\n      <td>Men</td>\n      <td>Wg 96 KG</td>\n      <td>Bronze</td>\n    </tr>\n    <tr>\n      <th>31169</th>\n      <td>2012</td>\n      <td>London</td>\n      <td>Wrestling</td>\n      <td>Wrestling Freestyle</td>\n      <td>LIDBERG, Jimmy</td>\n      <td>SWE</td>\n      <td>Men</td>\n      <td>Wg 96 KG</td>\n      <td>Bronze</td>\n    </tr>\n  </tbody>\n</table>\n<p>31170 rows × 9 columns</p>\n</div>"
     },
     "execution_count": 39,
     "metadata": {},
     "output_type": "execute_result"
    }
   ],
   "source": [
    "summer_raw"
   ],
   "metadata": {
    "collapsed": false,
    "ExecuteTime": {
     "end_time": "2024-03-14T18:25:48.481563800Z",
     "start_time": "2024-03-14T18:25:48.377583700Z"
    }
   },
   "id": "ba78ba0edfe4b300",
   "execution_count": 39
  },
  {
   "cell_type": "markdown",
   "source": [
    "## 3. When we work with str data we need to clean the data (remove spaces, etc)\n",
    "Values of Athlete_Name column have emty spaces. We need to remove them\n",
    "Not working because we have emty spaces in the name\n"
   ],
   "metadata": {
    "collapsed": false
   },
   "id": "ba7c1a894b859620"
  },
  {
   "cell_type": "code",
   "outputs": [
    {
     "data": {
      "text/plain": "Empty DataFrame\nColumns: [Year, City, Sport, Discipline, Athlete_Name, Country, Gender, Event, Medal]\nIndex: []",
      "text/html": "<div>\n<style scoped>\n    .dataframe tbody tr th:only-of-type {\n        vertical-align: middle;\n    }\n\n    .dataframe tbody tr th {\n        vertical-align: top;\n    }\n\n    .dataframe thead th {\n        text-align: right;\n    }\n</style>\n<table border=\"1\" class=\"dataframe\">\n  <thead>\n    <tr style=\"text-align: right;\">\n      <th></th>\n      <th>Year</th>\n      <th>City</th>\n      <th>Sport</th>\n      <th>Discipline</th>\n      <th>Athlete_Name</th>\n      <th>Country</th>\n      <th>Gender</th>\n      <th>Event</th>\n      <th>Medal</th>\n    </tr>\n  </thead>\n  <tbody>\n  </tbody>\n</table>\n</div>"
     },
     "execution_count": 40,
     "metadata": {},
     "output_type": "execute_result"
    }
   ],
   "source": [
    "summer_raw.loc[summer_raw.Athlete_Name == \"HAJOS, Alfred\"]"
   ],
   "metadata": {
    "collapsed": false,
    "ExecuteTime": {
     "end_time": "2024-03-14T18:25:48.682382700Z",
     "start_time": "2024-03-14T18:25:48.595053600Z"
    }
   },
   "id": "86fdfa28a8c16bf",
   "execution_count": 40
  },
  {
   "cell_type": "markdown",
   "source": [
    "SEE  we have emty spaces in the name. We need to remove them"
   ],
   "metadata": {
    "collapsed": false
   },
   "id": "ff3b38c543589c4d"
  },
  {
   "cell_type": "code",
   "outputs": [
    {
     "data": {
      "text/plain": "' HAJOS, Alfred '"
     },
     "execution_count": 41,
     "metadata": {},
     "output_type": "execute_result"
    }
   ],
   "source": [
    "summer_raw.iloc[0, 4]"
   ],
   "metadata": {
    "collapsed": false,
    "ExecuteTime": {
     "end_time": "2024-03-14T18:25:49.364108300Z",
     "start_time": "2024-03-14T18:25:49.164238400Z"
    }
   },
   "id": "9c1a3f3fe8b141c4",
   "execution_count": 41
  },
  {
   "cell_type": "markdown",
   "source": [
    "!!!! Is very important contains method is better than == because contains method is more flexible"
   ],
   "metadata": {
    "collapsed": false
   },
   "id": "2f8d1569a8588e83"
  },
  {
   "cell_type": "code",
   "outputs": [
    {
     "data": {
      "text/plain": "   Year    City     Sport Discipline     Athlete_Name Country Gender  \\\n6  1896  Athens  Aquatics   Swimming   Hajos, Alfred      HUN    Men   \n\n             Event Medal  \n6  1200M Freestyle  Gold  ",
      "text/html": "<div>\n<style scoped>\n    .dataframe tbody tr th:only-of-type {\n        vertical-align: middle;\n    }\n\n    .dataframe tbody tr th {\n        vertical-align: top;\n    }\n\n    .dataframe thead th {\n        text-align: right;\n    }\n</style>\n<table border=\"1\" class=\"dataframe\">\n  <thead>\n    <tr style=\"text-align: right;\">\n      <th></th>\n      <th>Year</th>\n      <th>City</th>\n      <th>Sport</th>\n      <th>Discipline</th>\n      <th>Athlete_Name</th>\n      <th>Country</th>\n      <th>Gender</th>\n      <th>Event</th>\n      <th>Medal</th>\n    </tr>\n  </thead>\n  <tbody>\n    <tr>\n      <th>6</th>\n      <td>1896</td>\n      <td>Athens</td>\n      <td>Aquatics</td>\n      <td>Swimming</td>\n      <td>Hajos, Alfred</td>\n      <td>HUN</td>\n      <td>Men</td>\n      <td>1200M Freestyle</td>\n      <td>Gold</td>\n    </tr>\n  </tbody>\n</table>\n</div>"
     },
     "execution_count": 42,
     "metadata": {},
     "output_type": "execute_result"
    }
   ],
   "source": [
    "summer_raw.loc[summer_raw.Athlete_Name.str.contains(\"Hajos, Alfred\")]"
   ],
   "metadata": {
    "collapsed": false,
    "ExecuteTime": {
     "end_time": "2024-03-14T18:25:49.597720900Z",
     "start_time": "2024-03-14T18:25:49.366113Z"
    }
   },
   "id": "a0ea14fd301fe91e",
   "execution_count": 42
  },
  {
   "cell_type": "markdown",
   "source": [
    "### We overwrite the column with the new values"
   ],
   "metadata": {
    "collapsed": false
   },
   "id": "b51200076403265d"
  },
  {
   "cell_type": "code",
   "outputs": [],
   "source": [
    "summer_raw.Athlete_Name = summer_raw.Athlete_Name.str.rstrip()"
   ],
   "metadata": {
    "collapsed": false,
    "ExecuteTime": {
     "end_time": "2024-03-14T18:25:49.876045300Z",
     "start_time": "2024-03-14T18:25:49.681720800Z"
    }
   },
   "id": "ab7fa82b8d428fa2",
   "execution_count": 43
  },
  {
   "cell_type": "markdown",
   "source": [
    "Now Name of the Athlete  change to title case"
   ],
   "metadata": {
    "collapsed": false
   },
   "id": "25af6ca2ab8f22e4"
  },
  {
   "cell_type": "code",
   "outputs": [],
   "source": [
    "summer_raw.Athlete_Name = summer_raw.Athlete_Name.str.title()"
   ],
   "metadata": {
    "collapsed": false,
    "ExecuteTime": {
     "end_time": "2024-03-14T18:25:50.220006800Z",
     "start_time": "2024-03-14T18:25:49.975364500Z"
    }
   },
   "id": "e29bbcd32905f839",
   "execution_count": 44
  },
  {
   "cell_type": "code",
   "outputs": [
    {
     "data": {
      "text/plain": "   Year    City     Sport Discipline         Athlete_Name Country Gender  \\\n0  1896  Athens  Aquatics   Swimming        Hajos, Alfred     HUN    Men   \n1  1896  Athens  Aquatics   Swimming     Herschmann, Otto     AUT    Men   \n2  1896  Athens  Aquatics   Swimming    Drivas, Dimitrios     GRE    Men   \n3  1896  Athens  Aquatics   Swimming   Malokinis, Ioannis     GRE    Men   \n4  1896  Athens  Aquatics   Swimming   Chasapis, Spiridon     GRE    Men   \n\n                        Event   Medal  \n0              100M Freestyle    Gold  \n1              100M Freestyle  Silver  \n2  100M Freestyle For Sailors  Bronze  \n3  100M Freestyle For Sailors    Gold  \n4  100M Freestyle For Sailors  Silver  ",
      "text/html": "<div>\n<style scoped>\n    .dataframe tbody tr th:only-of-type {\n        vertical-align: middle;\n    }\n\n    .dataframe tbody tr th {\n        vertical-align: top;\n    }\n\n    .dataframe thead th {\n        text-align: right;\n    }\n</style>\n<table border=\"1\" class=\"dataframe\">\n  <thead>\n    <tr style=\"text-align: right;\">\n      <th></th>\n      <th>Year</th>\n      <th>City</th>\n      <th>Sport</th>\n      <th>Discipline</th>\n      <th>Athlete_Name</th>\n      <th>Country</th>\n      <th>Gender</th>\n      <th>Event</th>\n      <th>Medal</th>\n    </tr>\n  </thead>\n  <tbody>\n    <tr>\n      <th>0</th>\n      <td>1896</td>\n      <td>Athens</td>\n      <td>Aquatics</td>\n      <td>Swimming</td>\n      <td>Hajos, Alfred</td>\n      <td>HUN</td>\n      <td>Men</td>\n      <td>100M Freestyle</td>\n      <td>Gold</td>\n    </tr>\n    <tr>\n      <th>1</th>\n      <td>1896</td>\n      <td>Athens</td>\n      <td>Aquatics</td>\n      <td>Swimming</td>\n      <td>Herschmann, Otto</td>\n      <td>AUT</td>\n      <td>Men</td>\n      <td>100M Freestyle</td>\n      <td>Silver</td>\n    </tr>\n    <tr>\n      <th>2</th>\n      <td>1896</td>\n      <td>Athens</td>\n      <td>Aquatics</td>\n      <td>Swimming</td>\n      <td>Drivas, Dimitrios</td>\n      <td>GRE</td>\n      <td>Men</td>\n      <td>100M Freestyle For Sailors</td>\n      <td>Bronze</td>\n    </tr>\n    <tr>\n      <th>3</th>\n      <td>1896</td>\n      <td>Athens</td>\n      <td>Aquatics</td>\n      <td>Swimming</td>\n      <td>Malokinis, Ioannis</td>\n      <td>GRE</td>\n      <td>Men</td>\n      <td>100M Freestyle For Sailors</td>\n      <td>Gold</td>\n    </tr>\n    <tr>\n      <th>4</th>\n      <td>1896</td>\n      <td>Athens</td>\n      <td>Aquatics</td>\n      <td>Swimming</td>\n      <td>Chasapis, Spiridon</td>\n      <td>GRE</td>\n      <td>Men</td>\n      <td>100M Freestyle For Sailors</td>\n      <td>Silver</td>\n    </tr>\n  </tbody>\n</table>\n</div>"
     },
     "execution_count": 45,
     "metadata": {},
     "output_type": "execute_result"
    }
   ],
   "source": [
    "summer_raw.head()"
   ],
   "metadata": {
    "collapsed": false,
    "ExecuteTime": {
     "end_time": "2024-03-14T18:25:50.369818900Z",
     "start_time": "2024-03-14T18:25:50.136272100Z"
    }
   },
   "id": "cb79db0641225116",
   "execution_count": 45
  },
  {
   "cell_type": "code",
   "outputs": [],
   "source": [],
   "metadata": {
    "collapsed": false,
    "ExecuteTime": {
     "end_time": "2024-03-14T18:25:50.498817700Z",
     "start_time": "2024-03-14T18:25:50.254811400Z"
    }
   },
   "id": "18caab0451995f11",
   "execution_count": 45
  },
  {
   "cell_type": "code",
   "outputs": [],
   "source": [],
   "metadata": {
    "collapsed": false,
    "ExecuteTime": {
     "end_time": "2024-03-14T18:25:50.598881200Z",
     "start_time": "2024-03-14T18:25:50.500606200Z"
    }
   },
   "id": "bc5091bf9df8fcef",
   "execution_count": 45
  },
  {
   "cell_type": "markdown",
   "source": [
    "# -> Titanic cleaning <-\n",
    "Inspect data"
   ],
   "metadata": {
    "collapsed": false
   },
   "id": "27ba306cd854f28a"
  },
  {
   "cell_type": "code",
   "outputs": [],
   "source": [
    "titanic_raw = pd.read_csv(\"titanic_imp.csv\")"
   ],
   "metadata": {
    "collapsed": false,
    "ExecuteTime": {
     "end_time": "2024-03-14T18:25:50.881821900Z",
     "start_time": "2024-03-14T18:25:50.594846600Z"
    }
   },
   "id": "d92bdde307830100",
   "execution_count": 46
  },
  {
   "cell_type": "code",
   "outputs": [
    {
     "data": {
      "text/plain": "  Survived  Class  Gender   Age  SipSp  ParCh      Fare Emb Deck\n0        0      3    male  22.0      1      0     $7.25   S  NaN\n1        1      1  female  38.0      1      0  $71.2833   C    C\n2        1      3  female  26.0      0      0    $7.925   S  NaN\n3        1      1  female  35.0      1      0     $53.1   S    C\n4        0      3    male  35.0      0      0     $8.05   S  NaN",
      "text/html": "<div>\n<style scoped>\n    .dataframe tbody tr th:only-of-type {\n        vertical-align: middle;\n    }\n\n    .dataframe tbody tr th {\n        vertical-align: top;\n    }\n\n    .dataframe thead th {\n        text-align: right;\n    }\n</style>\n<table border=\"1\" class=\"dataframe\">\n  <thead>\n    <tr style=\"text-align: right;\">\n      <th></th>\n      <th>Survived</th>\n      <th>Class</th>\n      <th>Gender</th>\n      <th>Age</th>\n      <th>SipSp</th>\n      <th>ParCh</th>\n      <th>Fare</th>\n      <th>Emb</th>\n      <th>Deck</th>\n    </tr>\n  </thead>\n  <tbody>\n    <tr>\n      <th>0</th>\n      <td>0</td>\n      <td>3</td>\n      <td>male</td>\n      <td>22.0</td>\n      <td>1</td>\n      <td>0</td>\n      <td>$7.25</td>\n      <td>S</td>\n      <td>NaN</td>\n    </tr>\n    <tr>\n      <th>1</th>\n      <td>1</td>\n      <td>1</td>\n      <td>female</td>\n      <td>38.0</td>\n      <td>1</td>\n      <td>0</td>\n      <td>$71.2833</td>\n      <td>C</td>\n      <td>C</td>\n    </tr>\n    <tr>\n      <th>2</th>\n      <td>1</td>\n      <td>3</td>\n      <td>female</td>\n      <td>26.0</td>\n      <td>0</td>\n      <td>0</td>\n      <td>$7.925</td>\n      <td>S</td>\n      <td>NaN</td>\n    </tr>\n    <tr>\n      <th>3</th>\n      <td>1</td>\n      <td>1</td>\n      <td>female</td>\n      <td>35.0</td>\n      <td>1</td>\n      <td>0</td>\n      <td>$53.1</td>\n      <td>S</td>\n      <td>C</td>\n    </tr>\n    <tr>\n      <th>4</th>\n      <td>0</td>\n      <td>3</td>\n      <td>male</td>\n      <td>35.0</td>\n      <td>0</td>\n      <td>0</td>\n      <td>$8.05</td>\n      <td>S</td>\n      <td>NaN</td>\n    </tr>\n  </tbody>\n</table>\n</div>"
     },
     "execution_count": 47,
     "metadata": {},
     "output_type": "execute_result"
    }
   ],
   "source": [
    "titanic_raw.head()"
   ],
   "metadata": {
    "collapsed": false,
    "ExecuteTime": {
     "end_time": "2024-03-14T18:25:51.057084100Z",
     "start_time": "2024-03-14T18:25:50.889823200Z"
    }
   },
   "id": "ccc6e3de6a02731e",
   "execution_count": 47
  },
  {
   "cell_type": "code",
   "outputs": [
    {
     "data": {
      "text/plain": "    Survived  Class Gender   Age  SipSp  ParCh     Fare Emb Deck\n889        1      1   male  26.0      0      0    $30.0   C    C\n890        0      3   male  32.0      0      0    $7.75   Q  NaN\n891        0      2   male  24.0      0      0    $10.5   S  NaN\n892        0      3   male  34.0      1      1    $14.4   S  NaN\n893        0      3   male  36.0      0      0  $7.8958   S  NaN",
      "text/html": "<div>\n<style scoped>\n    .dataframe tbody tr th:only-of-type {\n        vertical-align: middle;\n    }\n\n    .dataframe tbody tr th {\n        vertical-align: top;\n    }\n\n    .dataframe thead th {\n        text-align: right;\n    }\n</style>\n<table border=\"1\" class=\"dataframe\">\n  <thead>\n    <tr style=\"text-align: right;\">\n      <th></th>\n      <th>Survived</th>\n      <th>Class</th>\n      <th>Gender</th>\n      <th>Age</th>\n      <th>SipSp</th>\n      <th>ParCh</th>\n      <th>Fare</th>\n      <th>Emb</th>\n      <th>Deck</th>\n    </tr>\n  </thead>\n  <tbody>\n    <tr>\n      <th>889</th>\n      <td>1</td>\n      <td>1</td>\n      <td>male</td>\n      <td>26.0</td>\n      <td>0</td>\n      <td>0</td>\n      <td>$30.0</td>\n      <td>C</td>\n      <td>C</td>\n    </tr>\n    <tr>\n      <th>890</th>\n      <td>0</td>\n      <td>3</td>\n      <td>male</td>\n      <td>32.0</td>\n      <td>0</td>\n      <td>0</td>\n      <td>$7.75</td>\n      <td>Q</td>\n      <td>NaN</td>\n    </tr>\n    <tr>\n      <th>891</th>\n      <td>0</td>\n      <td>2</td>\n      <td>male</td>\n      <td>24.0</td>\n      <td>0</td>\n      <td>0</td>\n      <td>$10.5</td>\n      <td>S</td>\n      <td>NaN</td>\n    </tr>\n    <tr>\n      <th>892</th>\n      <td>0</td>\n      <td>3</td>\n      <td>male</td>\n      <td>34.0</td>\n      <td>1</td>\n      <td>1</td>\n      <td>$14.4</td>\n      <td>S</td>\n      <td>NaN</td>\n    </tr>\n    <tr>\n      <th>893</th>\n      <td>0</td>\n      <td>3</td>\n      <td>male</td>\n      <td>36.0</td>\n      <td>0</td>\n      <td>0</td>\n      <td>$7.8958</td>\n      <td>S</td>\n      <td>NaN</td>\n    </tr>\n  </tbody>\n</table>\n</div>"
     },
     "execution_count": 48,
     "metadata": {},
     "output_type": "execute_result"
    }
   ],
   "source": [
    "titanic_raw.tail()"
   ],
   "metadata": {
    "collapsed": false,
    "ExecuteTime": {
     "end_time": "2024-03-14T18:25:51.158087600Z",
     "start_time": "2024-03-14T18:25:50.991535500Z"
    }
   },
   "id": "640072144b71dda9",
   "execution_count": 48
  },
  {
   "cell_type": "markdown",
   "source": [
    "OBJECT is when we have a column with different types of data ori we have +1 str\n",
    "For a better performance we have 1 type of data in the column\n",
    "\n",
    "\n",
    "For Survived column is better int because we have 0 and 1"
   ],
   "metadata": {
    "collapsed": false
   },
   "id": "8af0ce160bfa7def"
  },
  {
   "cell_type": "code",
   "outputs": [
    {
     "name": "stdout",
     "output_type": "stream",
     "text": [
      "<class 'pandas.core.frame.DataFrame'>\n",
      "RangeIndex: 894 entries, 0 to 893\n",
      "Data columns (total 9 columns):\n",
      " #   Column    Non-Null Count  Dtype \n",
      "---  ------    --------------  ----- \n",
      " 0   Survived  894 non-null    object\n",
      " 1   Class     894 non-null    int64 \n",
      " 2   Gender    894 non-null    object\n",
      " 3   Age       758 non-null    object\n",
      " 4   SipSp     894 non-null    int64 \n",
      " 5   ParCh     894 non-null    int64 \n",
      " 6   Fare      894 non-null    object\n",
      " 7   Emb       892 non-null    object\n",
      " 8   Deck      203 non-null    object\n",
      "dtypes: int64(3), object(6)\n",
      "memory usage: 63.0+ KB\n"
     ]
    }
   ],
   "source": [
    "titanic_raw.info()"
   ],
   "metadata": {
    "collapsed": false,
    "ExecuteTime": {
     "end_time": "2024-03-14T18:25:51.408270100Z",
     "start_time": "2024-03-14T18:25:51.261086700Z"
    }
   },
   "id": "dd1269b07fd15ab0",
   "execution_count": 49
  },
  {
   "cell_type": "markdown",
   "source": [
    "Not correct 4 values in the column 'Survived' we need to change to 0 and 1\n",
    "We need change"
   ],
   "metadata": {
    "collapsed": false
   },
   "id": "9155f424e1cd1d62"
  },
  {
   "cell_type": "code",
   "outputs": [
    {
     "data": {
      "text/plain": "Survived\n0      551\n1      341\nyes      1\nno       1\nName: count, dtype: int64"
     },
     "execution_count": 50,
     "metadata": {},
     "output_type": "execute_result"
    }
   ],
   "source": [
    "titanic_raw.Survived.value_counts()"
   ],
   "metadata": {
    "collapsed": false,
    "ExecuteTime": {
     "end_time": "2024-03-14T18:25:53.166184200Z",
     "start_time": "2024-03-14T18:25:53.146856600Z"
    }
   },
   "id": "33b4355d2ec0c8c2",
   "execution_count": 50
  },
  {
   "cell_type": "code",
   "outputs": [],
   "source": [
    "titanic_raw.replace(to_replace=[\"yes\", \"no\"], value=[0, 1], inplace=True)"
   ],
   "metadata": {
    "collapsed": false,
    "ExecuteTime": {
     "end_time": "2024-03-14T18:25:53.458835700Z",
     "start_time": "2024-03-14T18:25:53.428864700Z"
    }
   },
   "id": "20ddd98060d969ce",
   "execution_count": 51
  },
  {
   "cell_type": "markdown",
   "source": [
    "Is 4 values bacaues we have for Survived column 0 and 1 to str and new values are int"
   ],
   "metadata": {
    "collapsed": false
   },
   "id": "dcd0154834be62cf"
  },
  {
   "cell_type": "code",
   "outputs": [
    {
     "data": {
      "text/plain": "Survived\n0    551\n1    341\n0      1\n1      1\nName: count, dtype: int64"
     },
     "execution_count": 52,
     "metadata": {},
     "output_type": "execute_result"
    }
   ],
   "source": [
    "titanic_raw.Survived.value_counts()"
   ],
   "metadata": {
    "collapsed": false,
    "ExecuteTime": {
     "end_time": "2024-03-14T18:25:53.849404300Z",
     "start_time": "2024-03-14T18:25:53.792034200Z"
    }
   },
   "id": "2945ce8adc3480e3",
   "execution_count": 52
  },
  {
   "cell_type": "markdown",
   "source": [
    "With astype method we can change the type of the column\n",
    "When we use astype method after we need to overwrite the column"
   ],
   "metadata": {
    "collapsed": false
   },
   "id": "8890ceb1e0dfaf6e"
  },
  {
   "cell_type": "code",
   "outputs": [
    {
     "data": {
      "text/plain": "0      0\n1      1\n2      1\n3      1\n4      0\n      ..\n889    1\n890    0\n891    0\n892    0\n893    0\nName: Survived, Length: 894, dtype: int32"
     },
     "execution_count": 53,
     "metadata": {},
     "output_type": "execute_result"
    }
   ],
   "source": [
    "titanic_raw.Survived.astype(\"int\")"
   ],
   "metadata": {
    "collapsed": false,
    "ExecuteTime": {
     "end_time": "2024-03-14T18:25:54.270908Z",
     "start_time": "2024-03-14T18:25:54.231339600Z"
    }
   },
   "id": "263980e038d1fd9",
   "execution_count": 53
  },
  {
   "cell_type": "code",
   "outputs": [],
   "source": [
    "titanic_raw.Survived = titanic_raw.Survived.astype(\"int\")"
   ],
   "metadata": {
    "collapsed": false,
    "ExecuteTime": {
     "end_time": "2024-03-14T18:25:54.454773400Z",
     "start_time": "2024-03-14T18:25:54.372763400Z"
    }
   },
   "id": "417be04cae548dd1",
   "execution_count": 54
  },
  {
   "cell_type": "code",
   "outputs": [
    {
     "name": "stdout",
     "output_type": "stream",
     "text": [
      "<class 'pandas.core.frame.DataFrame'>\n",
      "RangeIndex: 894 entries, 0 to 893\n",
      "Data columns (total 9 columns):\n",
      " #   Column    Non-Null Count  Dtype \n",
      "---  ------    --------------  ----- \n",
      " 0   Survived  894 non-null    int32 \n",
      " 1   Class     894 non-null    int64 \n",
      " 2   Gender    894 non-null    object\n",
      " 3   Age       758 non-null    object\n",
      " 4   SipSp     894 non-null    int64 \n",
      " 5   ParCh     894 non-null    int64 \n",
      " 6   Fare      894 non-null    object\n",
      " 7   Emb       892 non-null    object\n",
      " 8   Deck      203 non-null    object\n",
      "dtypes: int32(1), int64(3), object(5)\n",
      "memory usage: 59.5+ KB\n"
     ]
    }
   ],
   "source": [
    "titanic_raw.info()"
   ],
   "metadata": {
    "collapsed": false,
    "ExecuteTime": {
     "end_time": "2024-03-14T18:25:54.660915Z",
     "start_time": "2024-03-14T18:25:54.620395900Z"
    }
   },
   "id": "fa918d51828ae8dd",
   "execution_count": 55
  },
  {
   "cell_type": "markdown",
   "source": [
    "We can not change the type of the column Age because we have NA values"
   ],
   "metadata": {
    "collapsed": false
   },
   "id": "d0c13f31ece8b6ac"
  },
  {
   "cell_type": "code",
   "outputs": [
    {
     "ename": "ValueError",
     "evalue": "could not convert string to float: 'Missing Data'",
     "output_type": "error",
     "traceback": [
      "\u001B[1;31m---------------------------------------------------------------------------\u001B[0m",
      "\u001B[1;31mValueError\u001B[0m                                Traceback (most recent call last)",
      "Cell \u001B[1;32mIn[56], line 1\u001B[0m\n\u001B[1;32m----> 1\u001B[0m titanic_raw\u001B[38;5;241m.\u001B[39mAge \u001B[38;5;241m=\u001B[39m \u001B[43mtitanic_raw\u001B[49m\u001B[38;5;241;43m.\u001B[39;49m\u001B[43mAge\u001B[49m\u001B[38;5;241;43m.\u001B[39;49m\u001B[43mastype\u001B[49m\u001B[43m(\u001B[49m\u001B[38;5;124;43m\"\u001B[39;49m\u001B[38;5;124;43mfloat\u001B[39;49m\u001B[38;5;124;43m\"\u001B[39;49m\u001B[43m)\u001B[49m\n",
      "File \u001B[1;32m~\\PycharmProjects\\Machine learning AI\\.venv\\Lib\\site-packages\\pandas\\core\\generic.py:6637\u001B[0m, in \u001B[0;36mNDFrame.astype\u001B[1;34m(self, dtype, copy, errors)\u001B[0m\n\u001B[0;32m   6631\u001B[0m     results \u001B[38;5;241m=\u001B[39m [\n\u001B[0;32m   6632\u001B[0m         ser\u001B[38;5;241m.\u001B[39mastype(dtype, copy\u001B[38;5;241m=\u001B[39mcopy, errors\u001B[38;5;241m=\u001B[39merrors) \u001B[38;5;28;01mfor\u001B[39;00m _, ser \u001B[38;5;129;01min\u001B[39;00m \u001B[38;5;28mself\u001B[39m\u001B[38;5;241m.\u001B[39mitems()\n\u001B[0;32m   6633\u001B[0m     ]\n\u001B[0;32m   6635\u001B[0m \u001B[38;5;28;01melse\u001B[39;00m:\n\u001B[0;32m   6636\u001B[0m     \u001B[38;5;66;03m# else, only a single dtype is given\u001B[39;00m\n\u001B[1;32m-> 6637\u001B[0m     new_data \u001B[38;5;241m=\u001B[39m \u001B[38;5;28;43mself\u001B[39;49m\u001B[38;5;241;43m.\u001B[39;49m\u001B[43m_mgr\u001B[49m\u001B[38;5;241;43m.\u001B[39;49m\u001B[43mastype\u001B[49m\u001B[43m(\u001B[49m\u001B[43mdtype\u001B[49m\u001B[38;5;241;43m=\u001B[39;49m\u001B[43mdtype\u001B[49m\u001B[43m,\u001B[49m\u001B[43m \u001B[49m\u001B[43mcopy\u001B[49m\u001B[38;5;241;43m=\u001B[39;49m\u001B[43mcopy\u001B[49m\u001B[43m,\u001B[49m\u001B[43m \u001B[49m\u001B[43merrors\u001B[49m\u001B[38;5;241;43m=\u001B[39;49m\u001B[43merrors\u001B[49m\u001B[43m)\u001B[49m\n\u001B[0;32m   6638\u001B[0m     res \u001B[38;5;241m=\u001B[39m \u001B[38;5;28mself\u001B[39m\u001B[38;5;241m.\u001B[39m_constructor_from_mgr(new_data, axes\u001B[38;5;241m=\u001B[39mnew_data\u001B[38;5;241m.\u001B[39maxes)\n\u001B[0;32m   6639\u001B[0m     \u001B[38;5;28;01mreturn\u001B[39;00m res\u001B[38;5;241m.\u001B[39m__finalize__(\u001B[38;5;28mself\u001B[39m, method\u001B[38;5;241m=\u001B[39m\u001B[38;5;124m\"\u001B[39m\u001B[38;5;124mastype\u001B[39m\u001B[38;5;124m\"\u001B[39m)\n",
      "File \u001B[1;32m~\\PycharmProjects\\Machine learning AI\\.venv\\Lib\\site-packages\\pandas\\core\\internals\\managers.py:431\u001B[0m, in \u001B[0;36mBaseBlockManager.astype\u001B[1;34m(self, dtype, copy, errors)\u001B[0m\n\u001B[0;32m    428\u001B[0m \u001B[38;5;28;01melif\u001B[39;00m using_copy_on_write():\n\u001B[0;32m    429\u001B[0m     copy \u001B[38;5;241m=\u001B[39m \u001B[38;5;28;01mFalse\u001B[39;00m\n\u001B[1;32m--> 431\u001B[0m \u001B[38;5;28;01mreturn\u001B[39;00m \u001B[38;5;28;43mself\u001B[39;49m\u001B[38;5;241;43m.\u001B[39;49m\u001B[43mapply\u001B[49m\u001B[43m(\u001B[49m\n\u001B[0;32m    432\u001B[0m \u001B[43m    \u001B[49m\u001B[38;5;124;43m\"\u001B[39;49m\u001B[38;5;124;43mastype\u001B[39;49m\u001B[38;5;124;43m\"\u001B[39;49m\u001B[43m,\u001B[49m\n\u001B[0;32m    433\u001B[0m \u001B[43m    \u001B[49m\u001B[43mdtype\u001B[49m\u001B[38;5;241;43m=\u001B[39;49m\u001B[43mdtype\u001B[49m\u001B[43m,\u001B[49m\n\u001B[0;32m    434\u001B[0m \u001B[43m    \u001B[49m\u001B[43mcopy\u001B[49m\u001B[38;5;241;43m=\u001B[39;49m\u001B[43mcopy\u001B[49m\u001B[43m,\u001B[49m\n\u001B[0;32m    435\u001B[0m \u001B[43m    \u001B[49m\u001B[43merrors\u001B[49m\u001B[38;5;241;43m=\u001B[39;49m\u001B[43merrors\u001B[49m\u001B[43m,\u001B[49m\n\u001B[0;32m    436\u001B[0m \u001B[43m    \u001B[49m\u001B[43musing_cow\u001B[49m\u001B[38;5;241;43m=\u001B[39;49m\u001B[43musing_copy_on_write\u001B[49m\u001B[43m(\u001B[49m\u001B[43m)\u001B[49m\u001B[43m,\u001B[49m\n\u001B[0;32m    437\u001B[0m \u001B[43m\u001B[49m\u001B[43m)\u001B[49m\n",
      "File \u001B[1;32m~\\PycharmProjects\\Machine learning AI\\.venv\\Lib\\site-packages\\pandas\\core\\internals\\managers.py:364\u001B[0m, in \u001B[0;36mBaseBlockManager.apply\u001B[1;34m(self, f, align_keys, **kwargs)\u001B[0m\n\u001B[0;32m    362\u001B[0m         applied \u001B[38;5;241m=\u001B[39m b\u001B[38;5;241m.\u001B[39mapply(f, \u001B[38;5;241m*\u001B[39m\u001B[38;5;241m*\u001B[39mkwargs)\n\u001B[0;32m    363\u001B[0m     \u001B[38;5;28;01melse\u001B[39;00m:\n\u001B[1;32m--> 364\u001B[0m         applied \u001B[38;5;241m=\u001B[39m \u001B[38;5;28;43mgetattr\u001B[39;49m\u001B[43m(\u001B[49m\u001B[43mb\u001B[49m\u001B[43m,\u001B[49m\u001B[43m \u001B[49m\u001B[43mf\u001B[49m\u001B[43m)\u001B[49m\u001B[43m(\u001B[49m\u001B[38;5;241;43m*\u001B[39;49m\u001B[38;5;241;43m*\u001B[39;49m\u001B[43mkwargs\u001B[49m\u001B[43m)\u001B[49m\n\u001B[0;32m    365\u001B[0m     result_blocks \u001B[38;5;241m=\u001B[39m extend_blocks(applied, result_blocks)\n\u001B[0;32m    367\u001B[0m out \u001B[38;5;241m=\u001B[39m \u001B[38;5;28mtype\u001B[39m(\u001B[38;5;28mself\u001B[39m)\u001B[38;5;241m.\u001B[39mfrom_blocks(result_blocks, \u001B[38;5;28mself\u001B[39m\u001B[38;5;241m.\u001B[39maxes)\n",
      "File \u001B[1;32m~\\PycharmProjects\\Machine learning AI\\.venv\\Lib\\site-packages\\pandas\\core\\internals\\blocks.py:758\u001B[0m, in \u001B[0;36mBlock.astype\u001B[1;34m(self, dtype, copy, errors, using_cow, squeeze)\u001B[0m\n\u001B[0;32m    755\u001B[0m         \u001B[38;5;28;01mraise\u001B[39;00m \u001B[38;5;167;01mValueError\u001B[39;00m(\u001B[38;5;124m\"\u001B[39m\u001B[38;5;124mCan not squeeze with more than one column.\u001B[39m\u001B[38;5;124m\"\u001B[39m)\n\u001B[0;32m    756\u001B[0m     values \u001B[38;5;241m=\u001B[39m values[\u001B[38;5;241m0\u001B[39m, :]  \u001B[38;5;66;03m# type: ignore[call-overload]\u001B[39;00m\n\u001B[1;32m--> 758\u001B[0m new_values \u001B[38;5;241m=\u001B[39m \u001B[43mastype_array_safe\u001B[49m\u001B[43m(\u001B[49m\u001B[43mvalues\u001B[49m\u001B[43m,\u001B[49m\u001B[43m \u001B[49m\u001B[43mdtype\u001B[49m\u001B[43m,\u001B[49m\u001B[43m \u001B[49m\u001B[43mcopy\u001B[49m\u001B[38;5;241;43m=\u001B[39;49m\u001B[43mcopy\u001B[49m\u001B[43m,\u001B[49m\u001B[43m \u001B[49m\u001B[43merrors\u001B[49m\u001B[38;5;241;43m=\u001B[39;49m\u001B[43merrors\u001B[49m\u001B[43m)\u001B[49m\n\u001B[0;32m    760\u001B[0m new_values \u001B[38;5;241m=\u001B[39m maybe_coerce_values(new_values)\n\u001B[0;32m    762\u001B[0m refs \u001B[38;5;241m=\u001B[39m \u001B[38;5;28;01mNone\u001B[39;00m\n",
      "File \u001B[1;32m~\\PycharmProjects\\Machine learning AI\\.venv\\Lib\\site-packages\\pandas\\core\\dtypes\\astype.py:237\u001B[0m, in \u001B[0;36mastype_array_safe\u001B[1;34m(values, dtype, copy, errors)\u001B[0m\n\u001B[0;32m    234\u001B[0m     dtype \u001B[38;5;241m=\u001B[39m dtype\u001B[38;5;241m.\u001B[39mnumpy_dtype\n\u001B[0;32m    236\u001B[0m \u001B[38;5;28;01mtry\u001B[39;00m:\n\u001B[1;32m--> 237\u001B[0m     new_values \u001B[38;5;241m=\u001B[39m \u001B[43mastype_array\u001B[49m\u001B[43m(\u001B[49m\u001B[43mvalues\u001B[49m\u001B[43m,\u001B[49m\u001B[43m \u001B[49m\u001B[43mdtype\u001B[49m\u001B[43m,\u001B[49m\u001B[43m \u001B[49m\u001B[43mcopy\u001B[49m\u001B[38;5;241;43m=\u001B[39;49m\u001B[43mcopy\u001B[49m\u001B[43m)\u001B[49m\n\u001B[0;32m    238\u001B[0m \u001B[38;5;28;01mexcept\u001B[39;00m (\u001B[38;5;167;01mValueError\u001B[39;00m, \u001B[38;5;167;01mTypeError\u001B[39;00m):\n\u001B[0;32m    239\u001B[0m     \u001B[38;5;66;03m# e.g. _astype_nansafe can fail on object-dtype of strings\u001B[39;00m\n\u001B[0;32m    240\u001B[0m     \u001B[38;5;66;03m#  trying to convert to float\u001B[39;00m\n\u001B[0;32m    241\u001B[0m     \u001B[38;5;28;01mif\u001B[39;00m errors \u001B[38;5;241m==\u001B[39m \u001B[38;5;124m\"\u001B[39m\u001B[38;5;124mignore\u001B[39m\u001B[38;5;124m\"\u001B[39m:\n",
      "File \u001B[1;32m~\\PycharmProjects\\Machine learning AI\\.venv\\Lib\\site-packages\\pandas\\core\\dtypes\\astype.py:182\u001B[0m, in \u001B[0;36mastype_array\u001B[1;34m(values, dtype, copy)\u001B[0m\n\u001B[0;32m    179\u001B[0m     values \u001B[38;5;241m=\u001B[39m values\u001B[38;5;241m.\u001B[39mastype(dtype, copy\u001B[38;5;241m=\u001B[39mcopy)\n\u001B[0;32m    181\u001B[0m \u001B[38;5;28;01melse\u001B[39;00m:\n\u001B[1;32m--> 182\u001B[0m     values \u001B[38;5;241m=\u001B[39m \u001B[43m_astype_nansafe\u001B[49m\u001B[43m(\u001B[49m\u001B[43mvalues\u001B[49m\u001B[43m,\u001B[49m\u001B[43m \u001B[49m\u001B[43mdtype\u001B[49m\u001B[43m,\u001B[49m\u001B[43m \u001B[49m\u001B[43mcopy\u001B[49m\u001B[38;5;241;43m=\u001B[39;49m\u001B[43mcopy\u001B[49m\u001B[43m)\u001B[49m\n\u001B[0;32m    184\u001B[0m \u001B[38;5;66;03m# in pandas we don't store numpy str dtypes, so convert to object\u001B[39;00m\n\u001B[0;32m    185\u001B[0m \u001B[38;5;28;01mif\u001B[39;00m \u001B[38;5;28misinstance\u001B[39m(dtype, np\u001B[38;5;241m.\u001B[39mdtype) \u001B[38;5;129;01mand\u001B[39;00m \u001B[38;5;28missubclass\u001B[39m(values\u001B[38;5;241m.\u001B[39mdtype\u001B[38;5;241m.\u001B[39mtype, \u001B[38;5;28mstr\u001B[39m):\n",
      "File \u001B[1;32m~\\PycharmProjects\\Machine learning AI\\.venv\\Lib\\site-packages\\pandas\\core\\dtypes\\astype.py:133\u001B[0m, in \u001B[0;36m_astype_nansafe\u001B[1;34m(arr, dtype, copy, skipna)\u001B[0m\n\u001B[0;32m    129\u001B[0m     \u001B[38;5;28;01mraise\u001B[39;00m \u001B[38;5;167;01mValueError\u001B[39;00m(msg)\n\u001B[0;32m    131\u001B[0m \u001B[38;5;28;01mif\u001B[39;00m copy \u001B[38;5;129;01mor\u001B[39;00m arr\u001B[38;5;241m.\u001B[39mdtype \u001B[38;5;241m==\u001B[39m \u001B[38;5;28mobject\u001B[39m \u001B[38;5;129;01mor\u001B[39;00m dtype \u001B[38;5;241m==\u001B[39m \u001B[38;5;28mobject\u001B[39m:\n\u001B[0;32m    132\u001B[0m     \u001B[38;5;66;03m# Explicit copy, or required since NumPy can't view from / to object.\u001B[39;00m\n\u001B[1;32m--> 133\u001B[0m     \u001B[38;5;28;01mreturn\u001B[39;00m \u001B[43marr\u001B[49m\u001B[38;5;241;43m.\u001B[39;49m\u001B[43mastype\u001B[49m\u001B[43m(\u001B[49m\u001B[43mdtype\u001B[49m\u001B[43m,\u001B[49m\u001B[43m \u001B[49m\u001B[43mcopy\u001B[49m\u001B[38;5;241;43m=\u001B[39;49m\u001B[38;5;28;43;01mTrue\u001B[39;49;00m\u001B[43m)\u001B[49m\n\u001B[0;32m    135\u001B[0m \u001B[38;5;28;01mreturn\u001B[39;00m arr\u001B[38;5;241m.\u001B[39mastype(dtype, copy\u001B[38;5;241m=\u001B[39mcopy)\n",
      "\u001B[1;31mValueError\u001B[0m: could not convert string to float: 'Missing Data'"
     ]
    }
   ],
   "source": [
    "titanic_raw.Age = titanic_raw.Age.astype(\"float\")"
   ],
   "metadata": {
    "collapsed": false,
    "ExecuteTime": {
     "end_time": "2024-03-14T18:25:55.035043200Z",
     "start_time": "2024-03-14T18:25:54.921242400Z"
    }
   },
   "id": "bf90b5e5ad42539b",
   "execution_count": 56
  },
  {
   "cell_type": "markdown",
   "source": [],
   "metadata": {
    "collapsed": false
   },
   "id": "824245067075108c"
  },
  {
   "cell_type": "markdown",
   "source": [
    "# Detection of Duplicates\n",
    "## With duplicated method we can detect duplicates\n",
    "keep=False means that we want to see all the duplicates\n",
    "keep= first means first value is not duplicate\n",
    "For example: [1, 1, 2, 2, 3, 3] result is [False, True, False, True, False, True] first value is not duplicate\n",
    "\n",
    "keep= last means last value is not duplicate\n",
    "For example: [1, 1, 2, 2, 3, 3] result is [True, False, True, False, True, False] last value is not duplicate\n",
    "\n",
    "\n",
    "subset is a list of columns to check for duplicates"
   ],
   "metadata": {
    "collapsed": false
   },
   "id": "5685feaa981af031"
  },
  {
   "cell_type": "code",
   "outputs": [
    {
     "data": {
      "text/plain": "0      False\n1      False\n2      False\n3      False\n4      False\n       ...  \n889    False\n890     True\n891     True\n892     True\n893     True\nLength: 894, dtype: bool"
     },
     "execution_count": 57,
     "metadata": {},
     "output_type": "execute_result"
    }
   ],
   "source": [
    "titanic_raw.duplicated(keep=\"first\", subset=[\"Fare\", \"Emb\"])"
   ],
   "metadata": {
    "collapsed": false,
    "ExecuteTime": {
     "end_time": "2024-03-14T18:25:55.525942700Z",
     "start_time": "2024-03-14T18:25:55.486851900Z"
    }
   },
   "id": "ba1bd2fa6f93d79c",
   "execution_count": 57
  },
  {
   "cell_type": "markdown",
   "source": [
    "Duplicate method return a boolean series with True if the row is duplicated and False if the row is not duplicated.\n",
    "With sum() method we can see the number of duplicates"
   ],
   "metadata": {
    "collapsed": false
   },
   "id": "936e493b37320a37"
  },
  {
   "cell_type": "code",
   "outputs": [
    {
     "data": {
      "text/plain": "97"
     },
     "execution_count": 58,
     "metadata": {},
     "output_type": "execute_result"
    }
   ],
   "source": [
    "titanic_raw.duplicated().sum()"
   ],
   "metadata": {
    "collapsed": false,
    "ExecuteTime": {
     "end_time": "2024-03-14T18:25:55.938461200Z",
     "start_time": "2024-03-14T18:25:55.905608Z"
    }
   },
   "id": "ff169b463c184eab",
   "execution_count": 58
  },
  {
   "cell_type": "markdown",
   "source": [
    "We can add in [ ] method duplicated to see the duplicates\n",
    "[ ] == set a filter"
   ],
   "metadata": {
    "collapsed": false
   },
   "id": "40b354bed4baca61"
  },
  {
   "cell_type": "code",
   "outputs": [
    {
     "data": {
      "text/plain": "     Survived  Class  Gender           Age  SipSp  ParCh     Fare Emb Deck\n4           0      3    male          35.0      0      0    $8.05   S  NaN\n29          0      3    male  Missing Data      0      0  $7.8958   S  NaN\n32          1      3  female  Missing Data      0      0    $7.75   Q  NaN\n37          0      3    male          21.0      0      0    $8.05   S  NaN\n45          0      3    male  Missing Data      0      0    $8.05   S  NaN\n..        ...    ...     ...           ...    ...    ...      ...  ..  ...\n884         0      3    male          25.0      0      0    $7.05   S  NaN\n886         0      2    male          27.0      0      0    $13.0   S  NaN\n891         0      2    male          24.0      0      0    $10.5   S  NaN\n892         0      3    male          34.0      1      1    $14.4   S  NaN\n893         0      3    male          36.0      0      0  $7.8958   S  NaN\n\n[153 rows x 9 columns]",
      "text/html": "<div>\n<style scoped>\n    .dataframe tbody tr th:only-of-type {\n        vertical-align: middle;\n    }\n\n    .dataframe tbody tr th {\n        vertical-align: top;\n    }\n\n    .dataframe thead th {\n        text-align: right;\n    }\n</style>\n<table border=\"1\" class=\"dataframe\">\n  <thead>\n    <tr style=\"text-align: right;\">\n      <th></th>\n      <th>Survived</th>\n      <th>Class</th>\n      <th>Gender</th>\n      <th>Age</th>\n      <th>SipSp</th>\n      <th>ParCh</th>\n      <th>Fare</th>\n      <th>Emb</th>\n      <th>Deck</th>\n    </tr>\n  </thead>\n  <tbody>\n    <tr>\n      <th>4</th>\n      <td>0</td>\n      <td>3</td>\n      <td>male</td>\n      <td>35.0</td>\n      <td>0</td>\n      <td>0</td>\n      <td>$8.05</td>\n      <td>S</td>\n      <td>NaN</td>\n    </tr>\n    <tr>\n      <th>29</th>\n      <td>0</td>\n      <td>3</td>\n      <td>male</td>\n      <td>Missing Data</td>\n      <td>0</td>\n      <td>0</td>\n      <td>$7.8958</td>\n      <td>S</td>\n      <td>NaN</td>\n    </tr>\n    <tr>\n      <th>32</th>\n      <td>1</td>\n      <td>3</td>\n      <td>female</td>\n      <td>Missing Data</td>\n      <td>0</td>\n      <td>0</td>\n      <td>$7.75</td>\n      <td>Q</td>\n      <td>NaN</td>\n    </tr>\n    <tr>\n      <th>37</th>\n      <td>0</td>\n      <td>3</td>\n      <td>male</td>\n      <td>21.0</td>\n      <td>0</td>\n      <td>0</td>\n      <td>$8.05</td>\n      <td>S</td>\n      <td>NaN</td>\n    </tr>\n    <tr>\n      <th>45</th>\n      <td>0</td>\n      <td>3</td>\n      <td>male</td>\n      <td>Missing Data</td>\n      <td>0</td>\n      <td>0</td>\n      <td>$8.05</td>\n      <td>S</td>\n      <td>NaN</td>\n    </tr>\n    <tr>\n      <th>...</th>\n      <td>...</td>\n      <td>...</td>\n      <td>...</td>\n      <td>...</td>\n      <td>...</td>\n      <td>...</td>\n      <td>...</td>\n      <td>...</td>\n      <td>...</td>\n    </tr>\n    <tr>\n      <th>884</th>\n      <td>0</td>\n      <td>3</td>\n      <td>male</td>\n      <td>25.0</td>\n      <td>0</td>\n      <td>0</td>\n      <td>$7.05</td>\n      <td>S</td>\n      <td>NaN</td>\n    </tr>\n    <tr>\n      <th>886</th>\n      <td>0</td>\n      <td>2</td>\n      <td>male</td>\n      <td>27.0</td>\n      <td>0</td>\n      <td>0</td>\n      <td>$13.0</td>\n      <td>S</td>\n      <td>NaN</td>\n    </tr>\n    <tr>\n      <th>891</th>\n      <td>0</td>\n      <td>2</td>\n      <td>male</td>\n      <td>24.0</td>\n      <td>0</td>\n      <td>0</td>\n      <td>$10.5</td>\n      <td>S</td>\n      <td>NaN</td>\n    </tr>\n    <tr>\n      <th>892</th>\n      <td>0</td>\n      <td>3</td>\n      <td>male</td>\n      <td>34.0</td>\n      <td>1</td>\n      <td>1</td>\n      <td>$14.4</td>\n      <td>S</td>\n      <td>NaN</td>\n    </tr>\n    <tr>\n      <th>893</th>\n      <td>0</td>\n      <td>3</td>\n      <td>male</td>\n      <td>36.0</td>\n      <td>0</td>\n      <td>0</td>\n      <td>$7.8958</td>\n      <td>S</td>\n      <td>NaN</td>\n    </tr>\n  </tbody>\n</table>\n<p>153 rows × 9 columns</p>\n</div>"
     },
     "execution_count": 59,
     "metadata": {},
     "output_type": "execute_result"
    }
   ],
   "source": [
    "titanic_raw[titanic_raw.duplicated(keep=False)]"
   ],
   "metadata": {
    "collapsed": false,
    "ExecuteTime": {
     "end_time": "2024-03-14T18:25:57.043122400Z",
     "start_time": "2024-03-14T18:25:57.011154800Z"
    }
   },
   "id": "9c7777f92e540622",
   "execution_count": 59
  },
  {
   "cell_type": "markdown",
   "source": [
    "We can use drop_duplicates method to remove duplicates\n",
    "Parameter keep=\"first\" means that we want to keep the first duplicate\n",
    "Parameter inplace=True means that we want to overwrite the dataframe\n",
    "Parameter ignore_index=True means that we want to reset the index\n"
   ],
   "metadata": {
    "collapsed": false
   },
   "id": "80a9c356d882c698"
  },
  {
   "cell_type": "code",
   "outputs": [
    {
     "data": {
      "text/plain": "     Survived  Class  Gender   Age  SipSp  ParCh      Fare Emb Deck\n0           0      3    male  22.0      1      0     $7.25   S  NaN\n1           1      1  female  38.0      1      0  $71.2833   C    C\n2           1      3  female  26.0      0      0    $7.925   S  NaN\n3           1      1  female  35.0      1      0     $53.1   S    C\n4           0      3    male  35.0      0      0     $8.05   S  NaN\n..        ...    ...     ...   ...    ...    ...       ...  ..  ...\n792         0      3  female  39.0      0      5   $29.125   Q  NaN\n793         1      1  female  19.0      0      0     $30.0   S    B\n794         0      3  female   NaN      1      2    $23.45   S  NaN\n795         1      1    male  26.0      0      0     $30.0   C    C\n796         0      3    male  32.0      0      0     $7.75   Q  NaN\n\n[797 rows x 9 columns]",
      "text/html": "<div>\n<style scoped>\n    .dataframe tbody tr th:only-of-type {\n        vertical-align: middle;\n    }\n\n    .dataframe tbody tr th {\n        vertical-align: top;\n    }\n\n    .dataframe thead th {\n        text-align: right;\n    }\n</style>\n<table border=\"1\" class=\"dataframe\">\n  <thead>\n    <tr style=\"text-align: right;\">\n      <th></th>\n      <th>Survived</th>\n      <th>Class</th>\n      <th>Gender</th>\n      <th>Age</th>\n      <th>SipSp</th>\n      <th>ParCh</th>\n      <th>Fare</th>\n      <th>Emb</th>\n      <th>Deck</th>\n    </tr>\n  </thead>\n  <tbody>\n    <tr>\n      <th>0</th>\n      <td>0</td>\n      <td>3</td>\n      <td>male</td>\n      <td>22.0</td>\n      <td>1</td>\n      <td>0</td>\n      <td>$7.25</td>\n      <td>S</td>\n      <td>NaN</td>\n    </tr>\n    <tr>\n      <th>1</th>\n      <td>1</td>\n      <td>1</td>\n      <td>female</td>\n      <td>38.0</td>\n      <td>1</td>\n      <td>0</td>\n      <td>$71.2833</td>\n      <td>C</td>\n      <td>C</td>\n    </tr>\n    <tr>\n      <th>2</th>\n      <td>1</td>\n      <td>3</td>\n      <td>female</td>\n      <td>26.0</td>\n      <td>0</td>\n      <td>0</td>\n      <td>$7.925</td>\n      <td>S</td>\n      <td>NaN</td>\n    </tr>\n    <tr>\n      <th>3</th>\n      <td>1</td>\n      <td>1</td>\n      <td>female</td>\n      <td>35.0</td>\n      <td>1</td>\n      <td>0</td>\n      <td>$53.1</td>\n      <td>S</td>\n      <td>C</td>\n    </tr>\n    <tr>\n      <th>4</th>\n      <td>0</td>\n      <td>3</td>\n      <td>male</td>\n      <td>35.0</td>\n      <td>0</td>\n      <td>0</td>\n      <td>$8.05</td>\n      <td>S</td>\n      <td>NaN</td>\n    </tr>\n    <tr>\n      <th>...</th>\n      <td>...</td>\n      <td>...</td>\n      <td>...</td>\n      <td>...</td>\n      <td>...</td>\n      <td>...</td>\n      <td>...</td>\n      <td>...</td>\n      <td>...</td>\n    </tr>\n    <tr>\n      <th>792</th>\n      <td>0</td>\n      <td>3</td>\n      <td>female</td>\n      <td>39.0</td>\n      <td>0</td>\n      <td>5</td>\n      <td>$29.125</td>\n      <td>Q</td>\n      <td>NaN</td>\n    </tr>\n    <tr>\n      <th>793</th>\n      <td>1</td>\n      <td>1</td>\n      <td>female</td>\n      <td>19.0</td>\n      <td>0</td>\n      <td>0</td>\n      <td>$30.0</td>\n      <td>S</td>\n      <td>B</td>\n    </tr>\n    <tr>\n      <th>794</th>\n      <td>0</td>\n      <td>3</td>\n      <td>female</td>\n      <td>NaN</td>\n      <td>1</td>\n      <td>2</td>\n      <td>$23.45</td>\n      <td>S</td>\n      <td>NaN</td>\n    </tr>\n    <tr>\n      <th>795</th>\n      <td>1</td>\n      <td>1</td>\n      <td>male</td>\n      <td>26.0</td>\n      <td>0</td>\n      <td>0</td>\n      <td>$30.0</td>\n      <td>C</td>\n      <td>C</td>\n    </tr>\n    <tr>\n      <th>796</th>\n      <td>0</td>\n      <td>3</td>\n      <td>male</td>\n      <td>32.0</td>\n      <td>0</td>\n      <td>0</td>\n      <td>$7.75</td>\n      <td>Q</td>\n      <td>NaN</td>\n    </tr>\n  </tbody>\n</table>\n<p>797 rows × 9 columns</p>\n</div>"
     },
     "execution_count": 60,
     "metadata": {},
     "output_type": "execute_result"
    }
   ],
   "source": [
    "titanic_raw.drop_duplicates(keep=\"first\", inplace=True, ignore_index=True)\n",
    "titanic_raw"
   ],
   "metadata": {
    "collapsed": false,
    "ExecuteTime": {
     "end_time": "2024-03-14T18:25:57.589563100Z",
     "start_time": "2024-03-14T18:25:57.496182900Z"
    }
   },
   "id": "cbfdf84a7814d7dd",
   "execution_count": 60
  },
  {
   "cell_type": "markdown",
   "source": [
    "# Detection of Outliers ( means that we have a value that is very different from the other values) \n",
    "Example: We have a column with the age of the people and we have a value of 200 years old\n",
    "\n",
    "We can use describe method to see the statistics of the dataframe.Mean and  Max values are very important to detect outliers.\n",
    "For example if we have a mean of 30 and a max value of 1000 we have a outlier"
   ],
   "metadata": {
    "collapsed": false
   },
   "id": "b08c6cb084da1648"
  },
  {
   "cell_type": "code",
   "outputs": [],
   "source": [
    "titanic = pd.read_csv(\"titanic.csv\")"
   ],
   "metadata": {
    "collapsed": false,
    "ExecuteTime": {
     "end_time": "2024-03-14T18:25:58.593500100Z",
     "start_time": "2024-03-14T18:25:58.562132100Z"
    }
   },
   "id": "e0368654f9d02f3",
   "execution_count": 61
  },
  {
   "cell_type": "code",
   "outputs": [
    {
     "data": {
      "text/plain": "         survived      pclass         age       sibsp       parch        fare\ncount  891.000000  891.000000  714.000000  891.000000  891.000000  891.000000\nmean     0.383838    2.308642   29.699118    0.523008    0.381594   32.204208\nstd      0.486592    0.836071   14.526497    1.102743    0.806057   49.693429\nmin      0.000000    1.000000    0.420000    0.000000    0.000000    0.000000\n25%      0.000000    2.000000   20.125000    0.000000    0.000000    7.910400\n50%      0.000000    3.000000   28.000000    0.000000    0.000000   14.454200\n75%      1.000000    3.000000   38.000000    1.000000    0.000000   31.000000\nmax      1.000000    3.000000   80.000000    8.000000    6.000000  512.329200",
      "text/html": "<div>\n<style scoped>\n    .dataframe tbody tr th:only-of-type {\n        vertical-align: middle;\n    }\n\n    .dataframe tbody tr th {\n        vertical-align: top;\n    }\n\n    .dataframe thead th {\n        text-align: right;\n    }\n</style>\n<table border=\"1\" class=\"dataframe\">\n  <thead>\n    <tr style=\"text-align: right;\">\n      <th></th>\n      <th>survived</th>\n      <th>pclass</th>\n      <th>age</th>\n      <th>sibsp</th>\n      <th>parch</th>\n      <th>fare</th>\n    </tr>\n  </thead>\n  <tbody>\n    <tr>\n      <th>count</th>\n      <td>891.000000</td>\n      <td>891.000000</td>\n      <td>714.000000</td>\n      <td>891.000000</td>\n      <td>891.000000</td>\n      <td>891.000000</td>\n    </tr>\n    <tr>\n      <th>mean</th>\n      <td>0.383838</td>\n      <td>2.308642</td>\n      <td>29.699118</td>\n      <td>0.523008</td>\n      <td>0.381594</td>\n      <td>32.204208</td>\n    </tr>\n    <tr>\n      <th>std</th>\n      <td>0.486592</td>\n      <td>0.836071</td>\n      <td>14.526497</td>\n      <td>1.102743</td>\n      <td>0.806057</td>\n      <td>49.693429</td>\n    </tr>\n    <tr>\n      <th>min</th>\n      <td>0.000000</td>\n      <td>1.000000</td>\n      <td>0.420000</td>\n      <td>0.000000</td>\n      <td>0.000000</td>\n      <td>0.000000</td>\n    </tr>\n    <tr>\n      <th>25%</th>\n      <td>0.000000</td>\n      <td>2.000000</td>\n      <td>20.125000</td>\n      <td>0.000000</td>\n      <td>0.000000</td>\n      <td>7.910400</td>\n    </tr>\n    <tr>\n      <th>50%</th>\n      <td>0.000000</td>\n      <td>3.000000</td>\n      <td>28.000000</td>\n      <td>0.000000</td>\n      <td>0.000000</td>\n      <td>14.454200</td>\n    </tr>\n    <tr>\n      <th>75%</th>\n      <td>1.000000</td>\n      <td>3.000000</td>\n      <td>38.000000</td>\n      <td>1.000000</td>\n      <td>0.000000</td>\n      <td>31.000000</td>\n    </tr>\n    <tr>\n      <th>max</th>\n      <td>1.000000</td>\n      <td>3.000000</td>\n      <td>80.000000</td>\n      <td>8.000000</td>\n      <td>6.000000</td>\n      <td>512.329200</td>\n    </tr>\n  </tbody>\n</table>\n</div>"
     },
     "execution_count": 62,
     "metadata": {},
     "output_type": "execute_result"
    }
   ],
   "source": [
    "titanic.describe()"
   ],
   "metadata": {
    "collapsed": false,
    "ExecuteTime": {
     "end_time": "2024-03-14T18:25:58.874701200Z",
     "start_time": "2024-03-14T18:25:58.855668500Z"
    }
   },
   "id": "9705efab256bc199",
   "execution_count": 62
  },
  {
   "cell_type": "markdown",
   "source": [
    "We can use boxplot to see the outliers"
   ],
   "metadata": {
    "collapsed": false
   },
   "id": "3fca772d69ac7f5d"
  },
  {
   "cell_type": "code",
   "outputs": [
    {
     "data": {
      "text/plain": "<Figure size 800x600 with 1 Axes>",
      "image/png": "[encoded data removed]"
     },
     "metadata": {},
     "output_type": "display_data"
    }
   ],
   "source": [
    "plt.figure(figsize=(8, 6))\n",
    "titanic.age.plot()\n",
    "plt.show()"
   ],
   "metadata": {
    "collapsed": false,
    "ExecuteTime": {
     "end_time": "2024-03-14T18:26:00.261359300Z",
     "start_time": "2024-03-14T18:26:00.081160200Z"
    }
   },
   "id": "46e67b551c803adb",
   "execution_count": 63
  },
  {
   "cell_type": "markdown",
   "source": [
    "# Set category tip of data\n",
    "## Category help us for save memory and for better performance, but we need to have a column with a few unique values"
   ],
   "metadata": {
    "collapsed": false
   },
   "id": "b621ec98bae4bb65"
  },
  {
   "cell_type": "code",
   "outputs": [
    {
     "data": {
      "text/plain": "     Survived  Class  Gender   Age  SipSp  ParCh      Fare Emb Deck\n0           0      3    male  22.0      1      0     $7.25   S  NaN\n1           1      1  female  38.0      1      0  $71.2833   C    C\n2           1      3  female  26.0      0      0    $7.925   S  NaN\n3           1      1  female  35.0      1      0     $53.1   S    C\n4           0      3    male  35.0      0      0     $8.05   S  NaN\n..        ...    ...     ...   ...    ...    ...       ...  ..  ...\n792         0      3  female  39.0      0      5   $29.125   Q  NaN\n793         1      1  female  19.0      0      0     $30.0   S    B\n794         0      3  female   NaN      1      2    $23.45   S  NaN\n795         1      1    male  26.0      0      0     $30.0   C    C\n796         0      3    male  32.0      0      0     $7.75   Q  NaN\n\n[797 rows x 9 columns]",
      "text/html": "<div>\n<style scoped>\n    .dataframe tbody tr th:only-of-type {\n        vertical-align: middle;\n    }\n\n    .dataframe tbody tr th {\n        vertical-align: top;\n    }\n\n    .dataframe thead th {\n        text-align: right;\n    }\n</style>\n<table border=\"1\" class=\"dataframe\">\n  <thead>\n    <tr style=\"text-align: right;\">\n      <th></th>\n      <th>Survived</th>\n      <th>Class</th>\n      <th>Gender</th>\n      <th>Age</th>\n      <th>SipSp</th>\n      <th>ParCh</th>\n      <th>Fare</th>\n      <th>Emb</th>\n      <th>Deck</th>\n    </tr>\n  </thead>\n  <tbody>\n    <tr>\n      <th>0</th>\n      <td>0</td>\n      <td>3</td>\n      <td>male</td>\n      <td>22.0</td>\n      <td>1</td>\n      <td>0</td>\n      <td>$7.25</td>\n      <td>S</td>\n      <td>NaN</td>\n    </tr>\n    <tr>\n      <th>1</th>\n      <td>1</td>\n      <td>1</td>\n      <td>female</td>\n      <td>38.0</td>\n      <td>1</td>\n      <td>0</td>\n      <td>$71.2833</td>\n      <td>C</td>\n      <td>C</td>\n    </tr>\n    <tr>\n      <th>2</th>\n      <td>1</td>\n      <td>3</td>\n      <td>female</td>\n      <td>26.0</td>\n      <td>0</td>\n      <td>0</td>\n      <td>$7.925</td>\n      <td>S</td>\n      <td>NaN</td>\n    </tr>\n    <tr>\n      <th>3</th>\n      <td>1</td>\n      <td>1</td>\n      <td>female</td>\n      <td>35.0</td>\n      <td>1</td>\n      <td>0</td>\n      <td>$53.1</td>\n      <td>S</td>\n      <td>C</td>\n    </tr>\n    <tr>\n      <th>4</th>\n      <td>0</td>\n      <td>3</td>\n      <td>male</td>\n      <td>35.0</td>\n      <td>0</td>\n      <td>0</td>\n      <td>$8.05</td>\n      <td>S</td>\n      <td>NaN</td>\n    </tr>\n    <tr>\n      <th>...</th>\n      <td>...</td>\n      <td>...</td>\n      <td>...</td>\n      <td>...</td>\n      <td>...</td>\n      <td>...</td>\n      <td>...</td>\n      <td>...</td>\n      <td>...</td>\n    </tr>\n    <tr>\n      <th>792</th>\n      <td>0</td>\n      <td>3</td>\n      <td>female</td>\n      <td>39.0</td>\n      <td>0</td>\n      <td>5</td>\n      <td>$29.125</td>\n      <td>Q</td>\n      <td>NaN</td>\n    </tr>\n    <tr>\n      <th>793</th>\n      <td>1</td>\n      <td>1</td>\n      <td>female</td>\n      <td>19.0</td>\n      <td>0</td>\n      <td>0</td>\n      <td>$30.0</td>\n      <td>S</td>\n      <td>B</td>\n    </tr>\n    <tr>\n      <th>794</th>\n      <td>0</td>\n      <td>3</td>\n      <td>female</td>\n      <td>NaN</td>\n      <td>1</td>\n      <td>2</td>\n      <td>$23.45</td>\n      <td>S</td>\n      <td>NaN</td>\n    </tr>\n    <tr>\n      <th>795</th>\n      <td>1</td>\n      <td>1</td>\n      <td>male</td>\n      <td>26.0</td>\n      <td>0</td>\n      <td>0</td>\n      <td>$30.0</td>\n      <td>C</td>\n      <td>C</td>\n    </tr>\n    <tr>\n      <th>796</th>\n      <td>0</td>\n      <td>3</td>\n      <td>male</td>\n      <td>32.0</td>\n      <td>0</td>\n      <td>0</td>\n      <td>$7.75</td>\n      <td>Q</td>\n      <td>NaN</td>\n    </tr>\n  </tbody>\n</table>\n<p>797 rows × 9 columns</p>\n</div>"
     },
     "execution_count": 64,
     "metadata": {},
     "output_type": "execute_result"
    }
   ],
   "source": [
    "titanic_raw"
   ],
   "metadata": {
    "collapsed": false,
    "ExecuteTime": {
     "end_time": "2024-03-14T18:35:31.408811400Z",
     "start_time": "2024-03-14T18:35:31.363710600Z"
    }
   },
   "id": "e2d5976855953fae",
   "execution_count": 64
  },
  {
   "cell_type": "markdown",
   "source": [
    "immer when we whant to select multi-columns we need to use double square brackets [[  ]]"
   ],
   "metadata": {
    "collapsed": false
   },
   "id": "596f1d97798b88e3"
  },
  {
   "cell_type": "code",
   "outputs": [
    {
     "data": {
      "text/plain": "        Emb Deck\ncount   795  202\nunique    3    7\ntop       S    C\nfreq    572   59",
      "text/html": "<div>\n<style scoped>\n    .dataframe tbody tr th:only-of-type {\n        vertical-align: middle;\n    }\n\n    .dataframe tbody tr th {\n        vertical-align: top;\n    }\n\n    .dataframe thead th {\n        text-align: right;\n    }\n</style>\n<table border=\"1\" class=\"dataframe\">\n  <thead>\n    <tr style=\"text-align: right;\">\n      <th></th>\n      <th>Emb</th>\n      <th>Deck</th>\n    </tr>\n  </thead>\n  <tbody>\n    <tr>\n      <th>count</th>\n      <td>795</td>\n      <td>202</td>\n    </tr>\n    <tr>\n      <th>unique</th>\n      <td>3</td>\n      <td>7</td>\n    </tr>\n    <tr>\n      <th>top</th>\n      <td>S</td>\n      <td>C</td>\n    </tr>\n    <tr>\n      <th>freq</th>\n      <td>572</td>\n      <td>59</td>\n    </tr>\n  </tbody>\n</table>\n</div>"
     },
     "execution_count": 76,
     "metadata": {},
     "output_type": "execute_result"
    }
   ],
   "source": [
    "titanic_raw[[\"Emb\", \"Deck\"]].describe()"
   ],
   "metadata": {
    "collapsed": false,
    "ExecuteTime": {
     "end_time": "2024-03-14T18:40:21.391628500Z",
     "start_time": "2024-03-14T18:40:21.377830Z"
    }
   },
   "id": "10d6039cbb60b3db",
   "execution_count": 76
  },
  {
   "cell_type": "markdown",
   "source": [
    "Here we have 42,6 kb of memory"
   ],
   "metadata": {
    "collapsed": false
   },
   "id": "1aea6b9428af8ef"
  },
  {
   "cell_type": "code",
   "outputs": [
    {
     "name": "stdout",
     "output_type": "stream",
     "text": [
      "<class 'pandas.core.frame.DataFrame'>\n",
      "RangeIndex: 797 entries, 0 to 796\n",
      "Data columns (total 9 columns):\n",
      " #   Column    Non-Null Count  Dtype   \n",
      "---  ------    --------------  -----   \n",
      " 0   Survived  797 non-null    int32   \n",
      " 1   Class     797 non-null    int64   \n",
      " 2   Gender    797 non-null    object  \n",
      " 3   Age       710 non-null    object  \n",
      " 4   SipSp     797 non-null    int64   \n",
      " 5   ParCh     797 non-null    int64   \n",
      " 6   Fare      797 non-null    object  \n",
      " 7   Emb       795 non-null    category\n",
      " 8   Deck      202 non-null    category\n",
      "dtypes: category(2), int32(1), int64(3), object(3)\n",
      "memory usage: 42.6+ KB\n"
     ]
    }
   ],
   "source": [
    "titanic_raw.info()"
   ],
   "metadata": {
    "collapsed": false,
    "ExecuteTime": {
     "end_time": "2024-03-14T18:40:23.254146400Z",
     "start_time": "2024-03-14T18:40:23.216141100Z"
    }
   },
   "id": "c5d515190154f54a",
   "execution_count": 77
  },
  {
   "cell_type": "markdown",
   "source": [
    "And now we overwrite the column with the new type of data"
   ],
   "metadata": {
    "collapsed": false
   },
   "id": "853cf4abae2a48a"
  },
  {
   "cell_type": "code",
   "outputs": [],
   "source": [
    "titanic_raw[['Emb', 'Deck']] = titanic_raw[['Emb', 'Deck']].astype(\"category\")"
   ],
   "metadata": {
    "collapsed": false,
    "ExecuteTime": {
     "end_time": "2024-03-14T18:40:26.505542Z",
     "start_time": "2024-03-14T18:40:26.488976100Z"
    }
   },
   "id": "1a4abce3a52d724b",
   "execution_count": 78
  },
  {
   "cell_type": "markdown",
   "source": [
    "OR"
   ],
   "metadata": {
    "collapsed": false
   },
   "id": "5231c0db3484a401"
  },
  {
   "cell_type": "code",
   "outputs": [],
   "source": [
    "titanic_raw.Emb = titanic_raw.Emb.astype(\"category\")"
   ],
   "metadata": {
    "collapsed": false,
    "ExecuteTime": {
     "end_time": "2024-03-14T18:41:02.652067Z",
     "start_time": "2024-03-14T18:41:02.569702300Z"
    }
   },
   "id": "32f4fd639489a905",
   "execution_count": 81
  },
  {
   "cell_type": "code",
   "outputs": [],
   "source": [
    "titanic_raw.Deck = titanic_raw.Deck.astype(\"category\")"
   ],
   "metadata": {
    "collapsed": false
   },
   "id": "5569233c07f8e2b8"
  },
  {
   "cell_type": "code",
   "outputs": [],
   "source": [
    "titanic_raw.Gender = titanic_raw.Gender.astype(\"category\")"
   ],
   "metadata": {
    "collapsed": false,
    "ExecuteTime": {
     "end_time": "2024-03-14T18:42:25.780867500Z",
     "start_time": "2024-03-14T18:42:25.756337800Z"
    }
   },
   "id": "ce1cce911a327b23",
   "execution_count": 85
  },
  {
   "cell_type": "code",
   "outputs": [
    {
     "data": {
      "text/plain": "     Survived  Class  Gender   Age  SipSp  ParCh      Fare Emb Deck\n0           0      3    male  22.0      1      0     $7.25   S  NaN\n1           1      1  female  38.0      1      0  $71.2833   C    C\n2           1      3  female  26.0      0      0    $7.925   S  NaN\n3           1      1  female  35.0      1      0     $53.1   S    C\n4           0      3    male  35.0      0      0     $8.05   S  NaN\n..        ...    ...     ...   ...    ...    ...       ...  ..  ...\n792         0      3  female  39.0      0      5   $29.125   Q  NaN\n793         1      1  female  19.0      0      0     $30.0   S    B\n794         0      3  female   NaN      1      2    $23.45   S  NaN\n795         1      1    male  26.0      0      0     $30.0   C    C\n796         0      3    male  32.0      0      0     $7.75   Q  NaN\n\n[797 rows x 9 columns]",
      "text/html": "<div>\n<style scoped>\n    .dataframe tbody tr th:only-of-type {\n        vertical-align: middle;\n    }\n\n    .dataframe tbody tr th {\n        vertical-align: top;\n    }\n\n    .dataframe thead th {\n        text-align: right;\n    }\n</style>\n<table border=\"1\" class=\"dataframe\">\n  <thead>\n    <tr style=\"text-align: right;\">\n      <th></th>\n      <th>Survived</th>\n      <th>Class</th>\n      <th>Gender</th>\n      <th>Age</th>\n      <th>SipSp</th>\n      <th>ParCh</th>\n      <th>Fare</th>\n      <th>Emb</th>\n      <th>Deck</th>\n    </tr>\n  </thead>\n  <tbody>\n    <tr>\n      <th>0</th>\n      <td>0</td>\n      <td>3</td>\n      <td>male</td>\n      <td>22.0</td>\n      <td>1</td>\n      <td>0</td>\n      <td>$7.25</td>\n      <td>S</td>\n      <td>NaN</td>\n    </tr>\n    <tr>\n      <th>1</th>\n      <td>1</td>\n      <td>1</td>\n      <td>female</td>\n      <td>38.0</td>\n      <td>1</td>\n      <td>0</td>\n      <td>$71.2833</td>\n      <td>C</td>\n      <td>C</td>\n    </tr>\n    <tr>\n      <th>2</th>\n      <td>1</td>\n      <td>3</td>\n      <td>female</td>\n      <td>26.0</td>\n      <td>0</td>\n      <td>0</td>\n      <td>$7.925</td>\n      <td>S</td>\n      <td>NaN</td>\n    </tr>\n    <tr>\n      <th>3</th>\n      <td>1</td>\n      <td>1</td>\n      <td>female</td>\n      <td>35.0</td>\n      <td>1</td>\n      <td>0</td>\n      <td>$53.1</td>\n      <td>S</td>\n      <td>C</td>\n    </tr>\n    <tr>\n      <th>4</th>\n      <td>0</td>\n      <td>3</td>\n      <td>male</td>\n      <td>35.0</td>\n      <td>0</td>\n      <td>0</td>\n      <td>$8.05</td>\n      <td>S</td>\n      <td>NaN</td>\n    </tr>\n    <tr>\n      <th>...</th>\n      <td>...</td>\n      <td>...</td>\n      <td>...</td>\n      <td>...</td>\n      <td>...</td>\n      <td>...</td>\n      <td>...</td>\n      <td>...</td>\n      <td>...</td>\n    </tr>\n    <tr>\n      <th>792</th>\n      <td>0</td>\n      <td>3</td>\n      <td>female</td>\n      <td>39.0</td>\n      <td>0</td>\n      <td>5</td>\n      <td>$29.125</td>\n      <td>Q</td>\n      <td>NaN</td>\n    </tr>\n    <tr>\n      <th>793</th>\n      <td>1</td>\n      <td>1</td>\n      <td>female</td>\n      <td>19.0</td>\n      <td>0</td>\n      <td>0</td>\n      <td>$30.0</td>\n      <td>S</td>\n      <td>B</td>\n    </tr>\n    <tr>\n      <th>794</th>\n      <td>0</td>\n      <td>3</td>\n      <td>female</td>\n      <td>NaN</td>\n      <td>1</td>\n      <td>2</td>\n      <td>$23.45</td>\n      <td>S</td>\n      <td>NaN</td>\n    </tr>\n    <tr>\n      <th>795</th>\n      <td>1</td>\n      <td>1</td>\n      <td>male</td>\n      <td>26.0</td>\n      <td>0</td>\n      <td>0</td>\n      <td>$30.0</td>\n      <td>C</td>\n      <td>C</td>\n    </tr>\n    <tr>\n      <th>796</th>\n      <td>0</td>\n      <td>3</td>\n      <td>male</td>\n      <td>32.0</td>\n      <td>0</td>\n      <td>0</td>\n      <td>$7.75</td>\n      <td>Q</td>\n      <td>NaN</td>\n    </tr>\n  </tbody>\n</table>\n<p>797 rows × 9 columns</p>\n</div>"
     },
     "execution_count": 86,
     "metadata": {},
     "output_type": "execute_result"
    }
   ],
   "source": [
    "titanic_raw"
   ],
   "metadata": {
    "collapsed": false,
    "ExecuteTime": {
     "end_time": "2024-03-14T18:42:27.274743Z",
     "start_time": "2024-03-14T18:42:27.163373600Z"
    }
   },
   "id": "a37a091e445584d",
   "execution_count": 86
  },
  {
   "cell_type": "markdown",
   "source": [
    "See now Dtype is category and memory is 38.5 kb. We save 4 kb of memory"
   ],
   "metadata": {
    "collapsed": false
   },
   "id": "518f182703578f37"
  },
  {
   "cell_type": "code",
   "outputs": [
    {
     "name": "stdout",
     "output_type": "stream",
     "text": [
      "<class 'pandas.core.frame.DataFrame'>\n",
      "RangeIndex: 797 entries, 0 to 796\n",
      "Data columns (total 9 columns):\n",
      " #   Column    Non-Null Count  Dtype   \n",
      "---  ------    --------------  -----   \n",
      " 0   Survived  797 non-null    int32   \n",
      " 1   Class     797 non-null    int64   \n",
      " 2   Gender    797 non-null    category\n",
      " 3   Age       710 non-null    object  \n",
      " 4   SipSp     797 non-null    int64   \n",
      " 5   ParCh     797 non-null    int64   \n",
      " 6   Fare      797 non-null    object  \n",
      " 7   Emb       795 non-null    category\n",
      " 8   Deck      202 non-null    category\n",
      "dtypes: category(3), int32(1), int64(3), object(2)\n",
      "memory usage: 37.3+ KB\n"
     ]
    }
   ],
   "source": [
    "titanic_raw.info()"
   ],
   "metadata": {
    "collapsed": false,
    "ExecuteTime": {
     "end_time": "2024-03-14T18:42:30.323908500Z",
     "start_time": "2024-03-14T18:42:30.296456600Z"
    }
   },
   "id": "ff526b6a81f33420",
   "execution_count": 87
  },
  {
   "cell_type": "code",
   "outputs": [],
   "source": [],
   "metadata": {
    "collapsed": false
   },
   "id": "5398bf5fb34c75e3"
  }
 ],
 "metadata": {
  "kernelspec": {
   "display_name": "Python 3",
   "language": "python",
   "name": "python3"
  },
  "language_info": {
   "codemirror_mode": {
    "name": "ipython",
    "version": 2
   },
   "file_extension": ".py",
   "mimetype": "text/x-python",
   "name": "python",
   "nbconvert_exporter": "python",
   "pygments_lexer": "ipython2",
   "version": "2.7.6"
  }
 },
 "nbformat": 4,
 "nbformat_minor": 5
}
