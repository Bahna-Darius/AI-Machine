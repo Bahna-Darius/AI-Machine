{
 "cells": [
  {
   "cell_type": "code",
   "execution_count": 72,
   "id": "initial_id",
   "metadata": {
    "collapsed": true,
    "ExecuteTime": {
     "end_time": "2024-03-05T16:15:08.036735200Z",
     "start_time": "2024-03-05T16:15:07.427828600Z"
    }
   },
   "outputs": [],
   "source": [
    "import pandas as pd"
   ]
  },
  {
   "cell_type": "markdown",
   "source": [
    "# Sorting DataFrames"
   ],
   "metadata": {
    "collapsed": false
   },
   "id": "474e10e90071e387"
  },
  {
   "cell_type": "code",
   "outputs": [],
   "source": [
    "titanic = pd.read_csv(\"titanic.csv\")"
   ],
   "metadata": {
    "collapsed": false,
    "ExecuteTime": {
     "end_time": "2024-03-05T16:15:08.132485600Z",
     "start_time": "2024-03-05T16:15:08.011274800Z"
    }
   },
   "id": "e6776314db849a04",
   "execution_count": 73
  },
  {
   "cell_type": "markdown",
   "source": [
    "## Sex is first sorted column, age is second sorted column\n",
    "## ascending = False means that the values are sorted in descending order \n",
    "## sex is sorted in descending order, age is sorted in ascending order"
   ],
   "metadata": {
    "collapsed": false
   },
   "id": "be4d5134ba767bf0"
  },
  {
   "cell_type": "code",
   "outputs": [
    {
     "data": {
      "text/plain": "     survived  pclass     sex   age  sibsp  parch      fare embarked deck\n803         1       3    male  0.42      0      1    8.5167        C  NaN\n755         1       2    male  0.67      1      1   14.5000        S  NaN\n78          1       2    male  0.83      0      2   29.0000        S  NaN\n831         1       2    male  0.83      1      1   18.7500        S  NaN\n305         1       1    male  0.92      1      2  151.5500        S    C\n..        ...     ...     ...   ...    ...    ...       ...      ...  ...\n727         1       3  female   NaN      0      0    7.7375        Q  NaN\n792         0       3  female   NaN      8      2   69.5500        S  NaN\n849         1       1  female   NaN      1      0   89.1042        C    C\n863         0       3  female   NaN      8      2   69.5500        S  NaN\n888         0       3  female   NaN      1      2   23.4500        S  NaN\n\n[891 rows x 9 columns]",
      "text/html": "<div>\n<style scoped>\n    .dataframe tbody tr th:only-of-type {\n        vertical-align: middle;\n    }\n\n    .dataframe tbody tr th {\n        vertical-align: top;\n    }\n\n    .dataframe thead th {\n        text-align: right;\n    }\n</style>\n<table border=\"1\" class=\"dataframe\">\n  <thead>\n    <tr style=\"text-align: right;\">\n      <th></th>\n      <th>survived</th>\n      <th>pclass</th>\n      <th>sex</th>\n      <th>age</th>\n      <th>sibsp</th>\n      <th>parch</th>\n      <th>fare</th>\n      <th>embarked</th>\n      <th>deck</th>\n    </tr>\n  </thead>\n  <tbody>\n    <tr>\n      <th>803</th>\n      <td>1</td>\n      <td>3</td>\n      <td>male</td>\n      <td>0.42</td>\n      <td>0</td>\n      <td>1</td>\n      <td>8.5167</td>\n      <td>C</td>\n      <td>NaN</td>\n    </tr>\n    <tr>\n      <th>755</th>\n      <td>1</td>\n      <td>2</td>\n      <td>male</td>\n      <td>0.67</td>\n      <td>1</td>\n      <td>1</td>\n      <td>14.5000</td>\n      <td>S</td>\n      <td>NaN</td>\n    </tr>\n    <tr>\n      <th>78</th>\n      <td>1</td>\n      <td>2</td>\n      <td>male</td>\n      <td>0.83</td>\n      <td>0</td>\n      <td>2</td>\n      <td>29.0000</td>\n      <td>S</td>\n      <td>NaN</td>\n    </tr>\n    <tr>\n      <th>831</th>\n      <td>1</td>\n      <td>2</td>\n      <td>male</td>\n      <td>0.83</td>\n      <td>1</td>\n      <td>1</td>\n      <td>18.7500</td>\n      <td>S</td>\n      <td>NaN</td>\n    </tr>\n    <tr>\n      <th>305</th>\n      <td>1</td>\n      <td>1</td>\n      <td>male</td>\n      <td>0.92</td>\n      <td>1</td>\n      <td>2</td>\n      <td>151.5500</td>\n      <td>S</td>\n      <td>C</td>\n    </tr>\n    <tr>\n      <th>...</th>\n      <td>...</td>\n      <td>...</td>\n      <td>...</td>\n      <td>...</td>\n      <td>...</td>\n      <td>...</td>\n      <td>...</td>\n      <td>...</td>\n      <td>...</td>\n    </tr>\n    <tr>\n      <th>727</th>\n      <td>1</td>\n      <td>3</td>\n      <td>female</td>\n      <td>NaN</td>\n      <td>0</td>\n      <td>0</td>\n      <td>7.7375</td>\n      <td>Q</td>\n      <td>NaN</td>\n    </tr>\n    <tr>\n      <th>792</th>\n      <td>0</td>\n      <td>3</td>\n      <td>female</td>\n      <td>NaN</td>\n      <td>8</td>\n      <td>2</td>\n      <td>69.5500</td>\n      <td>S</td>\n      <td>NaN</td>\n    </tr>\n    <tr>\n      <th>849</th>\n      <td>1</td>\n      <td>1</td>\n      <td>female</td>\n      <td>NaN</td>\n      <td>1</td>\n      <td>0</td>\n      <td>89.1042</td>\n      <td>C</td>\n      <td>C</td>\n    </tr>\n    <tr>\n      <th>863</th>\n      <td>0</td>\n      <td>3</td>\n      <td>female</td>\n      <td>NaN</td>\n      <td>8</td>\n      <td>2</td>\n      <td>69.5500</td>\n      <td>S</td>\n      <td>NaN</td>\n    </tr>\n    <tr>\n      <th>888</th>\n      <td>0</td>\n      <td>3</td>\n      <td>female</td>\n      <td>NaN</td>\n      <td>1</td>\n      <td>2</td>\n      <td>23.4500</td>\n      <td>S</td>\n      <td>NaN</td>\n    </tr>\n  </tbody>\n</table>\n<p>891 rows × 9 columns</p>\n</div>"
     },
     "execution_count": 74,
     "metadata": {},
     "output_type": "execute_result"
    }
   ],
   "source": [
    "titanic.sort_values(by=[\"sex\",\"age\"], ascending=[False,True])"
   ],
   "metadata": {
    "collapsed": false,
    "ExecuteTime": {
     "end_time": "2024-03-05T16:15:08.257449Z",
     "start_time": "2024-03-05T16:15:08.091739400Z"
    }
   },
   "id": "886983eb62dcda84",
   "execution_count": 74
  },
  {
   "cell_type": "markdown",
   "source": [
    "### Reset index (drop=True) to avoid old index being added as a new column\n",
    "### No use this parameter if you want to keep the old index as a new column"
   ],
   "metadata": {
    "collapsed": false
   },
   "id": "e1cc2099e597cfd9"
  },
  {
   "cell_type": "code",
   "outputs": [
    {
     "data": {
      "text/plain": "     index  survived  pclass     sex   age  sibsp  parch      fare embarked  \\\n0      803         1       3    male  0.42      0      1    8.5167        C   \n1      755         1       2    male  0.67      1      1   14.5000        S   \n2       78         1       2    male  0.83      0      2   29.0000        S   \n3      831         1       2    male  0.83      1      1   18.7500        S   \n4      305         1       1    male  0.92      1      2  151.5500        S   \n..     ...       ...     ...     ...   ...    ...    ...       ...      ...   \n886    727         1       3  female   NaN      0      0    7.7375        Q   \n887    792         0       3  female   NaN      8      2   69.5500        S   \n888    849         1       1  female   NaN      1      0   89.1042        C   \n889    863         0       3  female   NaN      8      2   69.5500        S   \n890    888         0       3  female   NaN      1      2   23.4500        S   \n\n    deck  \n0    NaN  \n1    NaN  \n2    NaN  \n3    NaN  \n4      C  \n..   ...  \n886  NaN  \n887  NaN  \n888    C  \n889  NaN  \n890  NaN  \n\n[891 rows x 10 columns]",
      "text/html": "<div>\n<style scoped>\n    .dataframe tbody tr th:only-of-type {\n        vertical-align: middle;\n    }\n\n    .dataframe tbody tr th {\n        vertical-align: top;\n    }\n\n    .dataframe thead th {\n        text-align: right;\n    }\n</style>\n<table border=\"1\" class=\"dataframe\">\n  <thead>\n    <tr style=\"text-align: right;\">\n      <th></th>\n      <th>index</th>\n      <th>survived</th>\n      <th>pclass</th>\n      <th>sex</th>\n      <th>age</th>\n      <th>sibsp</th>\n      <th>parch</th>\n      <th>fare</th>\n      <th>embarked</th>\n      <th>deck</th>\n    </tr>\n  </thead>\n  <tbody>\n    <tr>\n      <th>0</th>\n      <td>803</td>\n      <td>1</td>\n      <td>3</td>\n      <td>male</td>\n      <td>0.42</td>\n      <td>0</td>\n      <td>1</td>\n      <td>8.5167</td>\n      <td>C</td>\n      <td>NaN</td>\n    </tr>\n    <tr>\n      <th>1</th>\n      <td>755</td>\n      <td>1</td>\n      <td>2</td>\n      <td>male</td>\n      <td>0.67</td>\n      <td>1</td>\n      <td>1</td>\n      <td>14.5000</td>\n      <td>S</td>\n      <td>NaN</td>\n    </tr>\n    <tr>\n      <th>2</th>\n      <td>78</td>\n      <td>1</td>\n      <td>2</td>\n      <td>male</td>\n      <td>0.83</td>\n      <td>0</td>\n      <td>2</td>\n      <td>29.0000</td>\n      <td>S</td>\n      <td>NaN</td>\n    </tr>\n    <tr>\n      <th>3</th>\n      <td>831</td>\n      <td>1</td>\n      <td>2</td>\n      <td>male</td>\n      <td>0.83</td>\n      <td>1</td>\n      <td>1</td>\n      <td>18.7500</td>\n      <td>S</td>\n      <td>NaN</td>\n    </tr>\n    <tr>\n      <th>4</th>\n      <td>305</td>\n      <td>1</td>\n      <td>1</td>\n      <td>male</td>\n      <td>0.92</td>\n      <td>1</td>\n      <td>2</td>\n      <td>151.5500</td>\n      <td>S</td>\n      <td>C</td>\n    </tr>\n    <tr>\n      <th>...</th>\n      <td>...</td>\n      <td>...</td>\n      <td>...</td>\n      <td>...</td>\n      <td>...</td>\n      <td>...</td>\n      <td>...</td>\n      <td>...</td>\n      <td>...</td>\n      <td>...</td>\n    </tr>\n    <tr>\n      <th>886</th>\n      <td>727</td>\n      <td>1</td>\n      <td>3</td>\n      <td>female</td>\n      <td>NaN</td>\n      <td>0</td>\n      <td>0</td>\n      <td>7.7375</td>\n      <td>Q</td>\n      <td>NaN</td>\n    </tr>\n    <tr>\n      <th>887</th>\n      <td>792</td>\n      <td>0</td>\n      <td>3</td>\n      <td>female</td>\n      <td>NaN</td>\n      <td>8</td>\n      <td>2</td>\n      <td>69.5500</td>\n      <td>S</td>\n      <td>NaN</td>\n    </tr>\n    <tr>\n      <th>888</th>\n      <td>849</td>\n      <td>1</td>\n      <td>1</td>\n      <td>female</td>\n      <td>NaN</td>\n      <td>1</td>\n      <td>0</td>\n      <td>89.1042</td>\n      <td>C</td>\n      <td>C</td>\n    </tr>\n    <tr>\n      <th>889</th>\n      <td>863</td>\n      <td>0</td>\n      <td>3</td>\n      <td>female</td>\n      <td>NaN</td>\n      <td>8</td>\n      <td>2</td>\n      <td>69.5500</td>\n      <td>S</td>\n      <td>NaN</td>\n    </tr>\n    <tr>\n      <th>890</th>\n      <td>888</td>\n      <td>0</td>\n      <td>3</td>\n      <td>female</td>\n      <td>NaN</td>\n      <td>1</td>\n      <td>2</td>\n      <td>23.4500</td>\n      <td>S</td>\n      <td>NaN</td>\n    </tr>\n  </tbody>\n</table>\n<p>891 rows × 10 columns</p>\n</div>"
     },
     "execution_count": 75,
     "metadata": {},
     "output_type": "execute_result"
    }
   ],
   "source": [
    "titanic.sort_values(by=[\"sex\",\"age\"], ascending=[False,True]).reset_index()"
   ],
   "metadata": {
    "collapsed": false,
    "ExecuteTime": {
     "end_time": "2024-03-05T16:15:08.381405900Z",
     "start_time": "2024-03-05T16:15:08.241042500Z"
    }
   },
   "id": "8a18baba040cba1a",
   "execution_count": 75
  },
  {
   "cell_type": "code",
   "outputs": [
    {
     "data": {
      "text/plain": "     survived  pclass     sex   age  sibsp  parch      fare embarked deck\n0           1       3    male  0.42      0      1    8.5167        C  NaN\n1           1       2    male  0.67      1      1   14.5000        S  NaN\n2           1       2    male  0.83      0      2   29.0000        S  NaN\n3           1       2    male  0.83      1      1   18.7500        S  NaN\n4           1       1    male  0.92      1      2  151.5500        S    C\n..        ...     ...     ...   ...    ...    ...       ...      ...  ...\n886         1       3  female   NaN      0      0    7.7375        Q  NaN\n887         0       3  female   NaN      8      2   69.5500        S  NaN\n888         1       1  female   NaN      1      0   89.1042        C    C\n889         0       3  female   NaN      8      2   69.5500        S  NaN\n890         0       3  female   NaN      1      2   23.4500        S  NaN\n\n[891 rows x 9 columns]",
      "text/html": "<div>\n<style scoped>\n    .dataframe tbody tr th:only-of-type {\n        vertical-align: middle;\n    }\n\n    .dataframe tbody tr th {\n        vertical-align: top;\n    }\n\n    .dataframe thead th {\n        text-align: right;\n    }\n</style>\n<table border=\"1\" class=\"dataframe\">\n  <thead>\n    <tr style=\"text-align: right;\">\n      <th></th>\n      <th>survived</th>\n      <th>pclass</th>\n      <th>sex</th>\n      <th>age</th>\n      <th>sibsp</th>\n      <th>parch</th>\n      <th>fare</th>\n      <th>embarked</th>\n      <th>deck</th>\n    </tr>\n  </thead>\n  <tbody>\n    <tr>\n      <th>0</th>\n      <td>1</td>\n      <td>3</td>\n      <td>male</td>\n      <td>0.42</td>\n      <td>0</td>\n      <td>1</td>\n      <td>8.5167</td>\n      <td>C</td>\n      <td>NaN</td>\n    </tr>\n    <tr>\n      <th>1</th>\n      <td>1</td>\n      <td>2</td>\n      <td>male</td>\n      <td>0.67</td>\n      <td>1</td>\n      <td>1</td>\n      <td>14.5000</td>\n      <td>S</td>\n      <td>NaN</td>\n    </tr>\n    <tr>\n      <th>2</th>\n      <td>1</td>\n      <td>2</td>\n      <td>male</td>\n      <td>0.83</td>\n      <td>0</td>\n      <td>2</td>\n      <td>29.0000</td>\n      <td>S</td>\n      <td>NaN</td>\n    </tr>\n    <tr>\n      <th>3</th>\n      <td>1</td>\n      <td>2</td>\n      <td>male</td>\n      <td>0.83</td>\n      <td>1</td>\n      <td>1</td>\n      <td>18.7500</td>\n      <td>S</td>\n      <td>NaN</td>\n    </tr>\n    <tr>\n      <th>4</th>\n      <td>1</td>\n      <td>1</td>\n      <td>male</td>\n      <td>0.92</td>\n      <td>1</td>\n      <td>2</td>\n      <td>151.5500</td>\n      <td>S</td>\n      <td>C</td>\n    </tr>\n    <tr>\n      <th>...</th>\n      <td>...</td>\n      <td>...</td>\n      <td>...</td>\n      <td>...</td>\n      <td>...</td>\n      <td>...</td>\n      <td>...</td>\n      <td>...</td>\n      <td>...</td>\n    </tr>\n    <tr>\n      <th>886</th>\n      <td>1</td>\n      <td>3</td>\n      <td>female</td>\n      <td>NaN</td>\n      <td>0</td>\n      <td>0</td>\n      <td>7.7375</td>\n      <td>Q</td>\n      <td>NaN</td>\n    </tr>\n    <tr>\n      <th>887</th>\n      <td>0</td>\n      <td>3</td>\n      <td>female</td>\n      <td>NaN</td>\n      <td>8</td>\n      <td>2</td>\n      <td>69.5500</td>\n      <td>S</td>\n      <td>NaN</td>\n    </tr>\n    <tr>\n      <th>888</th>\n      <td>1</td>\n      <td>1</td>\n      <td>female</td>\n      <td>NaN</td>\n      <td>1</td>\n      <td>0</td>\n      <td>89.1042</td>\n      <td>C</td>\n      <td>C</td>\n    </tr>\n    <tr>\n      <th>889</th>\n      <td>0</td>\n      <td>3</td>\n      <td>female</td>\n      <td>NaN</td>\n      <td>8</td>\n      <td>2</td>\n      <td>69.5500</td>\n      <td>S</td>\n      <td>NaN</td>\n    </tr>\n    <tr>\n      <th>890</th>\n      <td>0</td>\n      <td>3</td>\n      <td>female</td>\n      <td>NaN</td>\n      <td>1</td>\n      <td>2</td>\n      <td>23.4500</td>\n      <td>S</td>\n      <td>NaN</td>\n    </tr>\n  </tbody>\n</table>\n<p>891 rows × 9 columns</p>\n</div>"
     },
     "execution_count": 76,
     "metadata": {},
     "output_type": "execute_result"
    }
   ],
   "source": [
    "titanic.sort_values(by=[\"sex\",\"age\"], ascending=[False,True]).reset_index(drop=True)"
   ],
   "metadata": {
    "collapsed": false,
    "ExecuteTime": {
     "end_time": "2024-03-05T16:15:08.456822800Z",
     "start_time": "2024-03-05T16:15:08.301450600Z"
    }
   },
   "id": "f0077c9265610502",
   "execution_count": 76
  },
  {
   "cell_type": "markdown",
   "source": [
    "# Ranking DataFrames\n",
    "## ascending = True means that the values are ranked in low to high order"
   ],
   "metadata": {
    "collapsed": false
   },
   "id": "1895315c1b80b6b1"
  },
  {
   "cell_type": "code",
   "outputs": [],
   "source": [
    "titanic[\"rank_age\"] = titanic.age.rank(ascending=True, method='min')"
   ],
   "metadata": {
    "collapsed": false,
    "ExecuteTime": {
     "end_time": "2024-03-05T16:15:08.669277300Z",
     "start_time": "2024-03-05T16:15:08.420404600Z"
    }
   },
   "id": "36f2cffd1c6e422a",
   "execution_count": 77
  },
  {
   "cell_type": "code",
   "outputs": [
    {
     "data": {
      "text/plain": "   survived  pclass     sex   age  sibsp  parch     fare embarked deck  \\\n0         0       3    male  22.0      1      0   7.2500        S  NaN   \n1         1       1  female  38.0      1      0  71.2833        C    C   \n2         1       3  female  26.0      0      0   7.9250        S  NaN   \n3         1       1  female  35.0      1      0  53.1000        S    C   \n4         0       3    male  35.0      0      0   8.0500        S  NaN   \n\n   rank_age  \n0     205.0  \n1     527.0  \n2     302.0  \n3     480.0  \n4     480.0  ",
      "text/html": "<div>\n<style scoped>\n    .dataframe tbody tr th:only-of-type {\n        vertical-align: middle;\n    }\n\n    .dataframe tbody tr th {\n        vertical-align: top;\n    }\n\n    .dataframe thead th {\n        text-align: right;\n    }\n</style>\n<table border=\"1\" class=\"dataframe\">\n  <thead>\n    <tr style=\"text-align: right;\">\n      <th></th>\n      <th>survived</th>\n      <th>pclass</th>\n      <th>sex</th>\n      <th>age</th>\n      <th>sibsp</th>\n      <th>parch</th>\n      <th>fare</th>\n      <th>embarked</th>\n      <th>deck</th>\n      <th>rank_age</th>\n    </tr>\n  </thead>\n  <tbody>\n    <tr>\n      <th>0</th>\n      <td>0</td>\n      <td>3</td>\n      <td>male</td>\n      <td>22.0</td>\n      <td>1</td>\n      <td>0</td>\n      <td>7.2500</td>\n      <td>S</td>\n      <td>NaN</td>\n      <td>205.0</td>\n    </tr>\n    <tr>\n      <th>1</th>\n      <td>1</td>\n      <td>1</td>\n      <td>female</td>\n      <td>38.0</td>\n      <td>1</td>\n      <td>0</td>\n      <td>71.2833</td>\n      <td>C</td>\n      <td>C</td>\n      <td>527.0</td>\n    </tr>\n    <tr>\n      <th>2</th>\n      <td>1</td>\n      <td>3</td>\n      <td>female</td>\n      <td>26.0</td>\n      <td>0</td>\n      <td>0</td>\n      <td>7.9250</td>\n      <td>S</td>\n      <td>NaN</td>\n      <td>302.0</td>\n    </tr>\n    <tr>\n      <th>3</th>\n      <td>1</td>\n      <td>1</td>\n      <td>female</td>\n      <td>35.0</td>\n      <td>1</td>\n      <td>0</td>\n      <td>53.1000</td>\n      <td>S</td>\n      <td>C</td>\n      <td>480.0</td>\n    </tr>\n    <tr>\n      <th>4</th>\n      <td>0</td>\n      <td>3</td>\n      <td>male</td>\n      <td>35.0</td>\n      <td>0</td>\n      <td>0</td>\n      <td>8.0500</td>\n      <td>S</td>\n      <td>NaN</td>\n      <td>480.0</td>\n    </tr>\n  </tbody>\n</table>\n</div>"
     },
     "execution_count": 78,
     "metadata": {},
     "output_type": "execute_result"
    }
   ],
   "source": [
    "titanic.head()"
   ],
   "metadata": {
    "collapsed": false,
    "ExecuteTime": {
     "end_time": "2024-03-05T16:15:08.986510600Z",
     "start_time": "2024-03-05T16:15:08.635821900Z"
    }
   },
   "id": "1207b5fe6b1a53bb",
   "execution_count": 78
  },
  {
   "cell_type": "code",
   "outputs": [
    {
     "data": {
      "text/plain": "     survived  pclass     sex   age  sibsp  parch     fare embarked deck  \\\n803         1       3    male  0.42      0      1   8.5167        C  NaN   \n755         1       2    male  0.67      1      1  14.5000        S  NaN   \n644         1       3  female  0.75      2      1  19.2583        C  NaN   \n469         1       3  female  0.75      2      1  19.2583        C  NaN   \n78          1       2    male  0.83      0      2  29.0000        S  NaN   \n..        ...     ...     ...   ...    ...    ...      ...      ...  ...   \n859         0       3    male   NaN      0      0   7.2292        C  NaN   \n863         0       3  female   NaN      8      2  69.5500        S  NaN   \n868         0       3    male   NaN      0      0   9.5000        S  NaN   \n878         0       3    male   NaN      0      0   7.8958        S  NaN   \n888         0       3  female   NaN      1      2  23.4500        S  NaN   \n\n     rank_age  \n803       1.0  \n755       2.0  \n644       3.0  \n469       3.0  \n78        5.0  \n..        ...  \n859       NaN  \n863       NaN  \n868       NaN  \n878       NaN  \n888       NaN  \n\n[891 rows x 10 columns]",
      "text/html": "<div>\n<style scoped>\n    .dataframe tbody tr th:only-of-type {\n        vertical-align: middle;\n    }\n\n    .dataframe tbody tr th {\n        vertical-align: top;\n    }\n\n    .dataframe thead th {\n        text-align: right;\n    }\n</style>\n<table border=\"1\" class=\"dataframe\">\n  <thead>\n    <tr style=\"text-align: right;\">\n      <th></th>\n      <th>survived</th>\n      <th>pclass</th>\n      <th>sex</th>\n      <th>age</th>\n      <th>sibsp</th>\n      <th>parch</th>\n      <th>fare</th>\n      <th>embarked</th>\n      <th>deck</th>\n      <th>rank_age</th>\n    </tr>\n  </thead>\n  <tbody>\n    <tr>\n      <th>803</th>\n      <td>1</td>\n      <td>3</td>\n      <td>male</td>\n      <td>0.42</td>\n      <td>0</td>\n      <td>1</td>\n      <td>8.5167</td>\n      <td>C</td>\n      <td>NaN</td>\n      <td>1.0</td>\n    </tr>\n    <tr>\n      <th>755</th>\n      <td>1</td>\n      <td>2</td>\n      <td>male</td>\n      <td>0.67</td>\n      <td>1</td>\n      <td>1</td>\n      <td>14.5000</td>\n      <td>S</td>\n      <td>NaN</td>\n      <td>2.0</td>\n    </tr>\n    <tr>\n      <th>644</th>\n      <td>1</td>\n      <td>3</td>\n      <td>female</td>\n      <td>0.75</td>\n      <td>2</td>\n      <td>1</td>\n      <td>19.2583</td>\n      <td>C</td>\n      <td>NaN</td>\n      <td>3.0</td>\n    </tr>\n    <tr>\n      <th>469</th>\n      <td>1</td>\n      <td>3</td>\n      <td>female</td>\n      <td>0.75</td>\n      <td>2</td>\n      <td>1</td>\n      <td>19.2583</td>\n      <td>C</td>\n      <td>NaN</td>\n      <td>3.0</td>\n    </tr>\n    <tr>\n      <th>78</th>\n      <td>1</td>\n      <td>2</td>\n      <td>male</td>\n      <td>0.83</td>\n      <td>0</td>\n      <td>2</td>\n      <td>29.0000</td>\n      <td>S</td>\n      <td>NaN</td>\n      <td>5.0</td>\n    </tr>\n    <tr>\n      <th>...</th>\n      <td>...</td>\n      <td>...</td>\n      <td>...</td>\n      <td>...</td>\n      <td>...</td>\n      <td>...</td>\n      <td>...</td>\n      <td>...</td>\n      <td>...</td>\n      <td>...</td>\n    </tr>\n    <tr>\n      <th>859</th>\n      <td>0</td>\n      <td>3</td>\n      <td>male</td>\n      <td>NaN</td>\n      <td>0</td>\n      <td>0</td>\n      <td>7.2292</td>\n      <td>C</td>\n      <td>NaN</td>\n      <td>NaN</td>\n    </tr>\n    <tr>\n      <th>863</th>\n      <td>0</td>\n      <td>3</td>\n      <td>female</td>\n      <td>NaN</td>\n      <td>8</td>\n      <td>2</td>\n      <td>69.5500</td>\n      <td>S</td>\n      <td>NaN</td>\n      <td>NaN</td>\n    </tr>\n    <tr>\n      <th>868</th>\n      <td>0</td>\n      <td>3</td>\n      <td>male</td>\n      <td>NaN</td>\n      <td>0</td>\n      <td>0</td>\n      <td>9.5000</td>\n      <td>S</td>\n      <td>NaN</td>\n      <td>NaN</td>\n    </tr>\n    <tr>\n      <th>878</th>\n      <td>0</td>\n      <td>3</td>\n      <td>male</td>\n      <td>NaN</td>\n      <td>0</td>\n      <td>0</td>\n      <td>7.8958</td>\n      <td>S</td>\n      <td>NaN</td>\n      <td>NaN</td>\n    </tr>\n    <tr>\n      <th>888</th>\n      <td>0</td>\n      <td>3</td>\n      <td>female</td>\n      <td>NaN</td>\n      <td>1</td>\n      <td>2</td>\n      <td>23.4500</td>\n      <td>S</td>\n      <td>NaN</td>\n      <td>NaN</td>\n    </tr>\n  </tbody>\n</table>\n<p>891 rows × 10 columns</p>\n</div>"
     },
     "execution_count": 79,
     "metadata": {},
     "output_type": "execute_result"
    }
   ],
   "source": [
    "titanic.sort_values('age', ascending=True)"
   ],
   "metadata": {
    "collapsed": false,
    "ExecuteTime": {
     "end_time": "2024-03-05T16:15:09.254815800Z",
     "start_time": "2024-03-05T16:15:08.872279400Z"
    }
   },
   "id": "98916687726e2409",
   "execution_count": 79
  },
  {
   "cell_type": "markdown",
   "source": [
    "# Small and large values in DF\n",
    "## (n=5) means that the 5 smallest values are returned"
   ],
   "metadata": {
    "collapsed": false
   },
   "id": "5968d083ac266dc0"
  },
  {
   "cell_type": "code",
   "outputs": [
    {
     "data": {
      "text/plain": "     survived  pclass   sex   age  sibsp  parch     fare embarked deck  \\\n630         1       1  male  80.0      0      0  30.0000        S    A   \n851         0       3  male  74.0      0      0   7.7750        S  NaN   \n96          0       1  male  71.0      0      0  34.6542        C    A   \n493         0       1  male  71.0      0      0  49.5042        C  NaN   \n116         0       3  male  70.5      0      0   7.7500        Q  NaN   \n\n     rank_age  \n630     714.0  \n851     713.0  \n96      711.0  \n493     711.0  \n116     710.0  ",
      "text/html": "<div>\n<style scoped>\n    .dataframe tbody tr th:only-of-type {\n        vertical-align: middle;\n    }\n\n    .dataframe tbody tr th {\n        vertical-align: top;\n    }\n\n    .dataframe thead th {\n        text-align: right;\n    }\n</style>\n<table border=\"1\" class=\"dataframe\">\n  <thead>\n    <tr style=\"text-align: right;\">\n      <th></th>\n      <th>survived</th>\n      <th>pclass</th>\n      <th>sex</th>\n      <th>age</th>\n      <th>sibsp</th>\n      <th>parch</th>\n      <th>fare</th>\n      <th>embarked</th>\n      <th>deck</th>\n      <th>rank_age</th>\n    </tr>\n  </thead>\n  <tbody>\n    <tr>\n      <th>630</th>\n      <td>1</td>\n      <td>1</td>\n      <td>male</td>\n      <td>80.0</td>\n      <td>0</td>\n      <td>0</td>\n      <td>30.0000</td>\n      <td>S</td>\n      <td>A</td>\n      <td>714.0</td>\n    </tr>\n    <tr>\n      <th>851</th>\n      <td>0</td>\n      <td>3</td>\n      <td>male</td>\n      <td>74.0</td>\n      <td>0</td>\n      <td>0</td>\n      <td>7.7750</td>\n      <td>S</td>\n      <td>NaN</td>\n      <td>713.0</td>\n    </tr>\n    <tr>\n      <th>96</th>\n      <td>0</td>\n      <td>1</td>\n      <td>male</td>\n      <td>71.0</td>\n      <td>0</td>\n      <td>0</td>\n      <td>34.6542</td>\n      <td>C</td>\n      <td>A</td>\n      <td>711.0</td>\n    </tr>\n    <tr>\n      <th>493</th>\n      <td>0</td>\n      <td>1</td>\n      <td>male</td>\n      <td>71.0</td>\n      <td>0</td>\n      <td>0</td>\n      <td>49.5042</td>\n      <td>C</td>\n      <td>NaN</td>\n      <td>711.0</td>\n    </tr>\n    <tr>\n      <th>116</th>\n      <td>0</td>\n      <td>3</td>\n      <td>male</td>\n      <td>70.5</td>\n      <td>0</td>\n      <td>0</td>\n      <td>7.7500</td>\n      <td>Q</td>\n      <td>NaN</td>\n      <td>710.0</td>\n    </tr>\n  </tbody>\n</table>\n</div>"
     },
     "execution_count": 80,
     "metadata": {},
     "output_type": "execute_result"
    }
   ],
   "source": [
    "titanic.nlargest(n=5, columns=\"age\")"
   ],
   "metadata": {
    "collapsed": false,
    "ExecuteTime": {
     "end_time": "2024-03-05T16:15:09.484685200Z",
     "start_time": "2024-03-05T16:15:09.055508800Z"
    }
   },
   "id": "566c26fa1f7eaaa7",
   "execution_count": 80
  },
  {
   "cell_type": "markdown",
   "source": [
    "## (n=5) means that the 5 largest values are returned"
   ],
   "metadata": {
    "collapsed": false
   },
   "id": "2873a04019adf213"
  },
  {
   "cell_type": "code",
   "outputs": [
    {
     "data": {
      "text/plain": "     survived  pclass     sex   age  sibsp  parch     fare embarked deck  \\\n803         1       3    male  0.42      0      1   8.5167        C  NaN   \n755         1       2    male  0.67      1      1  14.5000        S  NaN   \n469         1       3  female  0.75      2      1  19.2583        C  NaN   \n644         1       3  female  0.75      2      1  19.2583        C  NaN   \n78          1       2    male  0.83      0      2  29.0000        S  NaN   \n\n     rank_age  \n803       1.0  \n755       2.0  \n469       3.0  \n644       3.0  \n78        5.0  ",
      "text/html": "<div>\n<style scoped>\n    .dataframe tbody tr th:only-of-type {\n        vertical-align: middle;\n    }\n\n    .dataframe tbody tr th {\n        vertical-align: top;\n    }\n\n    .dataframe thead th {\n        text-align: right;\n    }\n</style>\n<table border=\"1\" class=\"dataframe\">\n  <thead>\n    <tr style=\"text-align: right;\">\n      <th></th>\n      <th>survived</th>\n      <th>pclass</th>\n      <th>sex</th>\n      <th>age</th>\n      <th>sibsp</th>\n      <th>parch</th>\n      <th>fare</th>\n      <th>embarked</th>\n      <th>deck</th>\n      <th>rank_age</th>\n    </tr>\n  </thead>\n  <tbody>\n    <tr>\n      <th>803</th>\n      <td>1</td>\n      <td>3</td>\n      <td>male</td>\n      <td>0.42</td>\n      <td>0</td>\n      <td>1</td>\n      <td>8.5167</td>\n      <td>C</td>\n      <td>NaN</td>\n      <td>1.0</td>\n    </tr>\n    <tr>\n      <th>755</th>\n      <td>1</td>\n      <td>2</td>\n      <td>male</td>\n      <td>0.67</td>\n      <td>1</td>\n      <td>1</td>\n      <td>14.5000</td>\n      <td>S</td>\n      <td>NaN</td>\n      <td>2.0</td>\n    </tr>\n    <tr>\n      <th>469</th>\n      <td>1</td>\n      <td>3</td>\n      <td>female</td>\n      <td>0.75</td>\n      <td>2</td>\n      <td>1</td>\n      <td>19.2583</td>\n      <td>C</td>\n      <td>NaN</td>\n      <td>3.0</td>\n    </tr>\n    <tr>\n      <th>644</th>\n      <td>1</td>\n      <td>3</td>\n      <td>female</td>\n      <td>0.75</td>\n      <td>2</td>\n      <td>1</td>\n      <td>19.2583</td>\n      <td>C</td>\n      <td>NaN</td>\n      <td>3.0</td>\n    </tr>\n    <tr>\n      <th>78</th>\n      <td>1</td>\n      <td>2</td>\n      <td>male</td>\n      <td>0.83</td>\n      <td>0</td>\n      <td>2</td>\n      <td>29.0000</td>\n      <td>S</td>\n      <td>NaN</td>\n      <td>5.0</td>\n    </tr>\n  </tbody>\n</table>\n</div>"
     },
     "execution_count": 81,
     "metadata": {},
     "output_type": "execute_result"
    }
   ],
   "source": [
    "titanic.nsmallest(n=5, columns=\"age\")"
   ],
   "metadata": {
    "collapsed": false,
    "ExecuteTime": {
     "end_time": "2024-03-05T16:15:09.786630800Z",
     "start_time": "2024-03-05T16:15:09.450817500Z"
    }
   },
   "id": "c23766049c9f8d23",
   "execution_count": 81
  },
  {
   "cell_type": "markdown",
   "source": [
    "## agg() method to apply different functions to different columns\n",
    "## we can use a dictionary to specify which function to apply to which column"
   ],
   "metadata": {
    "collapsed": false
   },
   "id": "b0a555a55342e046"
  },
  {
   "cell_type": "code",
   "outputs": [
    {
     "data": {
      "text/plain": "      survived    age\nmean  0.383838    NaN\nmin        NaN   0.42\nmax        NaN  80.00",
      "text/html": "<div>\n<style scoped>\n    .dataframe tbody tr th:only-of-type {\n        vertical-align: middle;\n    }\n\n    .dataframe tbody tr th {\n        vertical-align: top;\n    }\n\n    .dataframe thead th {\n        text-align: right;\n    }\n</style>\n<table border=\"1\" class=\"dataframe\">\n  <thead>\n    <tr style=\"text-align: right;\">\n      <th></th>\n      <th>survived</th>\n      <th>age</th>\n    </tr>\n  </thead>\n  <tbody>\n    <tr>\n      <th>mean</th>\n      <td>0.383838</td>\n      <td>NaN</td>\n    </tr>\n    <tr>\n      <th>min</th>\n      <td>NaN</td>\n      <td>0.42</td>\n    </tr>\n    <tr>\n      <th>max</th>\n      <td>NaN</td>\n      <td>80.00</td>\n    </tr>\n  </tbody>\n</table>\n</div>"
     },
     "execution_count": 82,
     "metadata": {},
     "output_type": "execute_result"
    }
   ],
   "source": [
    "titanic.agg({\"survived\": \"mean\", \"age\": [\"min\", \"max\"]})"
   ],
   "metadata": {
    "collapsed": false,
    "ExecuteTime": {
     "end_time": "2024-03-05T16:15:10.129807Z",
     "start_time": "2024-03-05T16:15:09.758683200Z"
    }
   },
   "id": "14bfb8e29058c29d",
   "execution_count": 82
  },
  {
   "cell_type": "markdown",
   "source": [
    "# apply(), map(), and applymap()"
   ],
   "metadata": {
    "collapsed": false
   },
   "id": "6ca0a8d54f664787"
  },
  {
   "cell_type": "code",
   "outputs": [],
   "source": [
    "sales = pd.read_csv('sales.csv')"
   ],
   "metadata": {
    "collapsed": false,
    "ExecuteTime": {
     "end_time": "2024-03-05T16:15:10.477381600Z",
     "start_time": "2024-03-05T16:15:10.052631800Z"
    }
   },
   "id": "4fd9dfbed4eecf2e",
   "execution_count": 83
  },
  {
   "cell_type": "code",
   "outputs": [
    {
     "data": {
      "text/plain": "  Unnamed: 0  Mon  Tue  Wed   Thu  Fri\n0     Steven   34   27   15   NaN   33\n1       Mike   45    9   74  87.0   12\n2       Andi   17   33   54   8.0   29\n3       Paul   87   67   27  45.0    7",
      "text/html": "<div>\n<style scoped>\n    .dataframe tbody tr th:only-of-type {\n        vertical-align: middle;\n    }\n\n    .dataframe tbody tr th {\n        vertical-align: top;\n    }\n\n    .dataframe thead th {\n        text-align: right;\n    }\n</style>\n<table border=\"1\" class=\"dataframe\">\n  <thead>\n    <tr style=\"text-align: right;\">\n      <th></th>\n      <th>Unnamed: 0</th>\n      <th>Mon</th>\n      <th>Tue</th>\n      <th>Wed</th>\n      <th>Thu</th>\n      <th>Fri</th>\n    </tr>\n  </thead>\n  <tbody>\n    <tr>\n      <th>0</th>\n      <td>Steven</td>\n      <td>34</td>\n      <td>27</td>\n      <td>15</td>\n      <td>NaN</td>\n      <td>33</td>\n    </tr>\n    <tr>\n      <th>1</th>\n      <td>Mike</td>\n      <td>45</td>\n      <td>9</td>\n      <td>74</td>\n      <td>87.0</td>\n      <td>12</td>\n    </tr>\n    <tr>\n      <th>2</th>\n      <td>Andi</td>\n      <td>17</td>\n      <td>33</td>\n      <td>54</td>\n      <td>8.0</td>\n      <td>29</td>\n    </tr>\n    <tr>\n      <th>3</th>\n      <td>Paul</td>\n      <td>87</td>\n      <td>67</td>\n      <td>27</td>\n      <td>45.0</td>\n      <td>7</td>\n    </tr>\n  </tbody>\n</table>\n</div>"
     },
     "execution_count": 84,
     "metadata": {},
     "output_type": "execute_result"
    }
   ],
   "source": [
    "sales"
   ],
   "metadata": {
    "collapsed": false,
    "ExecuteTime": {
     "end_time": "2024-03-05T16:15:10.852128900Z",
     "start_time": "2024-03-05T16:15:10.481378100Z"
    }
   },
   "id": "1d98b96c4d75fbe7",
   "execution_count": 84
  },
  {
   "cell_type": "code",
   "outputs": [
    {
     "data": {
      "text/plain": "<bound method DataFrame.info of   Unnamed: 0  Mon  Tue  Wed   Thu  Fri\n0     Steven   34   27   15   NaN   33\n1       Mike   45    9   74  87.0   12\n2       Andi   17   33   54   8.0   29\n3       Paul   87   67   27  45.0    7>"
     },
     "execution_count": 85,
     "metadata": {},
     "output_type": "execute_result"
    }
   ],
   "source": [
    "sales.info"
   ],
   "metadata": {
    "collapsed": false,
    "ExecuteTime": {
     "end_time": "2024-03-05T16:15:11.122416800Z",
     "start_time": "2024-03-05T16:15:10.835741Z"
    }
   },
   "id": "279f085f793b9ae6",
   "execution_count": 85
  },
  {
   "cell_type": "code",
   "outputs": [],
   "source": [
    "def sum_function(x):\n",
    "    return x.max() - x.min() "
   ],
   "metadata": {
    "collapsed": false,
    "ExecuteTime": {
     "end_time": "2024-03-05T16:15:11.387425100Z",
     "start_time": "2024-03-05T16:15:11.032905200Z"
    }
   },
   "id": "ebcf1ed18738a05e",
   "execution_count": 86
  },
  {
   "cell_type": "markdown",
   "source": [
    "## axis=0 means that the function is applied to each column (de sus in jos se aplica in cazul notru pentru\n",
    "prima coloana 'Mon' se calcula 87-17=70)\n",
    "## axis=1 means that the function is applied to each row    (de la stanga la dreapta se aplica in cazul nostru\n",
    "pentru prima coloaana 'Mon' se calculeaza 34-15 = 19)"
   ],
   "metadata": {
    "collapsed": false
   },
   "id": "2b3074a546406ce3"
  },
  {
   "cell_type": "code",
   "outputs": [
    {
     "ename": "TypeError",
     "evalue": "'>=' not supported between instances of 'str' and 'int'",
     "output_type": "error",
     "traceback": [
      "\u001B[1;31m---------------------------------------------------------------------------\u001B[0m",
      "\u001B[1;31mTypeError\u001B[0m                                 Traceback (most recent call last)",
      "Cell \u001B[1;32mIn[87], line 1\u001B[0m\n\u001B[1;32m----> 1\u001B[0m \u001B[43msales\u001B[49m\u001B[38;5;241;43m.\u001B[39;49m\u001B[43mapply\u001B[49m\u001B[43m(\u001B[49m\u001B[43mfunc\u001B[49m\u001B[38;5;241;43m=\u001B[39;49m\u001B[43msum_function\u001B[49m\u001B[43m,\u001B[49m\u001B[43m \u001B[49m\u001B[43maxis\u001B[49m\u001B[38;5;241;43m=\u001B[39;49m\u001B[38;5;241;43m1\u001B[39;49m\u001B[43m)\u001B[49m\n",
      "File \u001B[1;32m~\\PycharmProjects\\Machine learning AI\\.venv\\Lib\\site-packages\\pandas\\core\\frame.py:10347\u001B[0m, in \u001B[0;36mDataFrame.apply\u001B[1;34m(self, func, axis, raw, result_type, args, by_row, engine, engine_kwargs, **kwargs)\u001B[0m\n\u001B[0;32m  10333\u001B[0m \u001B[38;5;28;01mfrom\u001B[39;00m \u001B[38;5;21;01mpandas\u001B[39;00m\u001B[38;5;21;01m.\u001B[39;00m\u001B[38;5;21;01mcore\u001B[39;00m\u001B[38;5;21;01m.\u001B[39;00m\u001B[38;5;21;01mapply\u001B[39;00m \u001B[38;5;28;01mimport\u001B[39;00m frame_apply\n\u001B[0;32m  10335\u001B[0m op \u001B[38;5;241m=\u001B[39m frame_apply(\n\u001B[0;32m  10336\u001B[0m     \u001B[38;5;28mself\u001B[39m,\n\u001B[0;32m  10337\u001B[0m     func\u001B[38;5;241m=\u001B[39mfunc,\n\u001B[1;32m   (...)\u001B[0m\n\u001B[0;32m  10345\u001B[0m     kwargs\u001B[38;5;241m=\u001B[39mkwargs,\n\u001B[0;32m  10346\u001B[0m )\n\u001B[1;32m> 10347\u001B[0m \u001B[38;5;28;01mreturn\u001B[39;00m \u001B[43mop\u001B[49m\u001B[38;5;241;43m.\u001B[39;49m\u001B[43mapply\u001B[49m\u001B[43m(\u001B[49m\u001B[43m)\u001B[49m\u001B[38;5;241m.\u001B[39m__finalize__(\u001B[38;5;28mself\u001B[39m, method\u001B[38;5;241m=\u001B[39m\u001B[38;5;124m\"\u001B[39m\u001B[38;5;124mapply\u001B[39m\u001B[38;5;124m\"\u001B[39m)\n",
      "File \u001B[1;32m~\\PycharmProjects\\Machine learning AI\\.venv\\Lib\\site-packages\\pandas\\core\\apply.py:916\u001B[0m, in \u001B[0;36mFrameApply.apply\u001B[1;34m(self)\u001B[0m\n\u001B[0;32m    913\u001B[0m \u001B[38;5;28;01melif\u001B[39;00m \u001B[38;5;28mself\u001B[39m\u001B[38;5;241m.\u001B[39mraw:\n\u001B[0;32m    914\u001B[0m     \u001B[38;5;28;01mreturn\u001B[39;00m \u001B[38;5;28mself\u001B[39m\u001B[38;5;241m.\u001B[39mapply_raw(engine\u001B[38;5;241m=\u001B[39m\u001B[38;5;28mself\u001B[39m\u001B[38;5;241m.\u001B[39mengine, engine_kwargs\u001B[38;5;241m=\u001B[39m\u001B[38;5;28mself\u001B[39m\u001B[38;5;241m.\u001B[39mengine_kwargs)\n\u001B[1;32m--> 916\u001B[0m \u001B[38;5;28;01mreturn\u001B[39;00m \u001B[38;5;28;43mself\u001B[39;49m\u001B[38;5;241;43m.\u001B[39;49m\u001B[43mapply_standard\u001B[49m\u001B[43m(\u001B[49m\u001B[43m)\u001B[49m\n",
      "File \u001B[1;32m~\\PycharmProjects\\Machine learning AI\\.venv\\Lib\\site-packages\\pandas\\core\\apply.py:1063\u001B[0m, in \u001B[0;36mFrameApply.apply_standard\u001B[1;34m(self)\u001B[0m\n\u001B[0;32m   1061\u001B[0m \u001B[38;5;28;01mdef\u001B[39;00m \u001B[38;5;21mapply_standard\u001B[39m(\u001B[38;5;28mself\u001B[39m):\n\u001B[0;32m   1062\u001B[0m     \u001B[38;5;28;01mif\u001B[39;00m \u001B[38;5;28mself\u001B[39m\u001B[38;5;241m.\u001B[39mengine \u001B[38;5;241m==\u001B[39m \u001B[38;5;124m\"\u001B[39m\u001B[38;5;124mpython\u001B[39m\u001B[38;5;124m\"\u001B[39m:\n\u001B[1;32m-> 1063\u001B[0m         results, res_index \u001B[38;5;241m=\u001B[39m \u001B[38;5;28;43mself\u001B[39;49m\u001B[38;5;241;43m.\u001B[39;49m\u001B[43mapply_series_generator\u001B[49m\u001B[43m(\u001B[49m\u001B[43m)\u001B[49m\n\u001B[0;32m   1064\u001B[0m     \u001B[38;5;28;01melse\u001B[39;00m:\n\u001B[0;32m   1065\u001B[0m         results, res_index \u001B[38;5;241m=\u001B[39m \u001B[38;5;28mself\u001B[39m\u001B[38;5;241m.\u001B[39mapply_series_numba()\n",
      "File \u001B[1;32m~\\PycharmProjects\\Machine learning AI\\.venv\\Lib\\site-packages\\pandas\\core\\apply.py:1081\u001B[0m, in \u001B[0;36mFrameApply.apply_series_generator\u001B[1;34m(self)\u001B[0m\n\u001B[0;32m   1078\u001B[0m \u001B[38;5;28;01mwith\u001B[39;00m option_context(\u001B[38;5;124m\"\u001B[39m\u001B[38;5;124mmode.chained_assignment\u001B[39m\u001B[38;5;124m\"\u001B[39m, \u001B[38;5;28;01mNone\u001B[39;00m):\n\u001B[0;32m   1079\u001B[0m     \u001B[38;5;28;01mfor\u001B[39;00m i, v \u001B[38;5;129;01min\u001B[39;00m \u001B[38;5;28menumerate\u001B[39m(series_gen):\n\u001B[0;32m   1080\u001B[0m         \u001B[38;5;66;03m# ignore SettingWithCopy here in case the user mutates\u001B[39;00m\n\u001B[1;32m-> 1081\u001B[0m         results[i] \u001B[38;5;241m=\u001B[39m \u001B[38;5;28;43mself\u001B[39;49m\u001B[38;5;241;43m.\u001B[39;49m\u001B[43mfunc\u001B[49m\u001B[43m(\u001B[49m\u001B[43mv\u001B[49m\u001B[43m,\u001B[49m\u001B[43m \u001B[49m\u001B[38;5;241;43m*\u001B[39;49m\u001B[38;5;28;43mself\u001B[39;49m\u001B[38;5;241;43m.\u001B[39;49m\u001B[43margs\u001B[49m\u001B[43m,\u001B[49m\u001B[43m \u001B[49m\u001B[38;5;241;43m*\u001B[39;49m\u001B[38;5;241;43m*\u001B[39;49m\u001B[38;5;28;43mself\u001B[39;49m\u001B[38;5;241;43m.\u001B[39;49m\u001B[43mkwargs\u001B[49m\u001B[43m)\u001B[49m\n\u001B[0;32m   1082\u001B[0m         \u001B[38;5;28;01mif\u001B[39;00m \u001B[38;5;28misinstance\u001B[39m(results[i], ABCSeries):\n\u001B[0;32m   1083\u001B[0m             \u001B[38;5;66;03m# If we have a view on v, we need to make a copy because\u001B[39;00m\n\u001B[0;32m   1084\u001B[0m             \u001B[38;5;66;03m#  series_generator will swap out the underlying data\u001B[39;00m\n\u001B[0;32m   1085\u001B[0m             results[i] \u001B[38;5;241m=\u001B[39m results[i]\u001B[38;5;241m.\u001B[39mcopy(deep\u001B[38;5;241m=\u001B[39m\u001B[38;5;28;01mFalse\u001B[39;00m)\n",
      "Cell \u001B[1;32mIn[86], line 2\u001B[0m, in \u001B[0;36msum_function\u001B[1;34m(x)\u001B[0m\n\u001B[0;32m      1\u001B[0m \u001B[38;5;28;01mdef\u001B[39;00m \u001B[38;5;21msum_function\u001B[39m(x):\n\u001B[1;32m----> 2\u001B[0m     \u001B[38;5;28;01mreturn\u001B[39;00m \u001B[43mx\u001B[49m\u001B[38;5;241;43m.\u001B[39;49m\u001B[43mmax\u001B[49m\u001B[43m(\u001B[49m\u001B[43m)\u001B[49m \u001B[38;5;241m-\u001B[39m x\u001B[38;5;241m.\u001B[39mmin()\n",
      "File \u001B[1;32m~\\PycharmProjects\\Machine learning AI\\.venv\\Lib\\site-packages\\pandas\\core\\series.py:6497\u001B[0m, in \u001B[0;36mSeries.max\u001B[1;34m(self, axis, skipna, numeric_only, **kwargs)\u001B[0m\n\u001B[0;32m   6489\u001B[0m \u001B[38;5;129m@doc\u001B[39m(make_doc(\u001B[38;5;124m\"\u001B[39m\u001B[38;5;124mmax\u001B[39m\u001B[38;5;124m\"\u001B[39m, ndim\u001B[38;5;241m=\u001B[39m\u001B[38;5;241m1\u001B[39m))\n\u001B[0;32m   6490\u001B[0m \u001B[38;5;28;01mdef\u001B[39;00m \u001B[38;5;21mmax\u001B[39m(\n\u001B[0;32m   6491\u001B[0m     \u001B[38;5;28mself\u001B[39m,\n\u001B[1;32m   (...)\u001B[0m\n\u001B[0;32m   6495\u001B[0m     \u001B[38;5;241m*\u001B[39m\u001B[38;5;241m*\u001B[39mkwargs,\n\u001B[0;32m   6496\u001B[0m ):\n\u001B[1;32m-> 6497\u001B[0m     \u001B[38;5;28;01mreturn\u001B[39;00m \u001B[43mNDFrame\u001B[49m\u001B[38;5;241;43m.\u001B[39;49m\u001B[43mmax\u001B[49m\u001B[43m(\u001B[49m\u001B[38;5;28;43mself\u001B[39;49m\u001B[43m,\u001B[49m\u001B[43m \u001B[49m\u001B[43maxis\u001B[49m\u001B[43m,\u001B[49m\u001B[43m \u001B[49m\u001B[43mskipna\u001B[49m\u001B[43m,\u001B[49m\u001B[43m \u001B[49m\u001B[43mnumeric_only\u001B[49m\u001B[43m,\u001B[49m\u001B[43m \u001B[49m\u001B[38;5;241;43m*\u001B[39;49m\u001B[38;5;241;43m*\u001B[39;49m\u001B[43mkwargs\u001B[49m\u001B[43m)\u001B[49m\n",
      "File \u001B[1;32m~\\PycharmProjects\\Machine learning AI\\.venv\\Lib\\site-packages\\pandas\\core\\generic.py:12397\u001B[0m, in \u001B[0;36mNDFrame.max\u001B[1;34m(self, axis, skipna, numeric_only, **kwargs)\u001B[0m\n\u001B[0;32m  12390\u001B[0m \u001B[38;5;28;01mdef\u001B[39;00m \u001B[38;5;21mmax\u001B[39m(\n\u001B[0;32m  12391\u001B[0m     \u001B[38;5;28mself\u001B[39m,\n\u001B[0;32m  12392\u001B[0m     axis: Axis \u001B[38;5;241m|\u001B[39m \u001B[38;5;28;01mNone\u001B[39;00m \u001B[38;5;241m=\u001B[39m \u001B[38;5;241m0\u001B[39m,\n\u001B[1;32m   (...)\u001B[0m\n\u001B[0;32m  12395\u001B[0m     \u001B[38;5;241m*\u001B[39m\u001B[38;5;241m*\u001B[39mkwargs,\n\u001B[0;32m  12396\u001B[0m ):\n\u001B[1;32m> 12397\u001B[0m     \u001B[38;5;28;01mreturn\u001B[39;00m \u001B[38;5;28;43mself\u001B[39;49m\u001B[38;5;241;43m.\u001B[39;49m\u001B[43m_stat_function\u001B[49m\u001B[43m(\u001B[49m\n\u001B[0;32m  12398\u001B[0m \u001B[43m        \u001B[49m\u001B[38;5;124;43m\"\u001B[39;49m\u001B[38;5;124;43mmax\u001B[39;49m\u001B[38;5;124;43m\"\u001B[39;49m\u001B[43m,\u001B[49m\n\u001B[0;32m  12399\u001B[0m \u001B[43m        \u001B[49m\u001B[43mnanops\u001B[49m\u001B[38;5;241;43m.\u001B[39;49m\u001B[43mnanmax\u001B[49m\u001B[43m,\u001B[49m\n\u001B[0;32m  12400\u001B[0m \u001B[43m        \u001B[49m\u001B[43maxis\u001B[49m\u001B[43m,\u001B[49m\n\u001B[0;32m  12401\u001B[0m \u001B[43m        \u001B[49m\u001B[43mskipna\u001B[49m\u001B[43m,\u001B[49m\n\u001B[0;32m  12402\u001B[0m \u001B[43m        \u001B[49m\u001B[43mnumeric_only\u001B[49m\u001B[43m,\u001B[49m\n\u001B[0;32m  12403\u001B[0m \u001B[43m        \u001B[49m\u001B[38;5;241;43m*\u001B[39;49m\u001B[38;5;241;43m*\u001B[39;49m\u001B[43mkwargs\u001B[49m\u001B[43m,\u001B[49m\n\u001B[0;32m  12404\u001B[0m \u001B[43m    \u001B[49m\u001B[43m)\u001B[49m\n",
      "File \u001B[1;32m~\\PycharmProjects\\Machine learning AI\\.venv\\Lib\\site-packages\\pandas\\core\\generic.py:12370\u001B[0m, in \u001B[0;36mNDFrame._stat_function\u001B[1;34m(self, name, func, axis, skipna, numeric_only, **kwargs)\u001B[0m\n\u001B[0;32m  12366\u001B[0m nv\u001B[38;5;241m.\u001B[39mvalidate_func(name, (), kwargs)\n\u001B[0;32m  12368\u001B[0m validate_bool_kwarg(skipna, \u001B[38;5;124m\"\u001B[39m\u001B[38;5;124mskipna\u001B[39m\u001B[38;5;124m\"\u001B[39m, none_allowed\u001B[38;5;241m=\u001B[39m\u001B[38;5;28;01mFalse\u001B[39;00m)\n\u001B[1;32m> 12370\u001B[0m \u001B[38;5;28;01mreturn\u001B[39;00m \u001B[38;5;28;43mself\u001B[39;49m\u001B[38;5;241;43m.\u001B[39;49m\u001B[43m_reduce\u001B[49m\u001B[43m(\u001B[49m\n\u001B[0;32m  12371\u001B[0m \u001B[43m    \u001B[49m\u001B[43mfunc\u001B[49m\u001B[43m,\u001B[49m\u001B[43m \u001B[49m\u001B[43mname\u001B[49m\u001B[38;5;241;43m=\u001B[39;49m\u001B[43mname\u001B[49m\u001B[43m,\u001B[49m\u001B[43m \u001B[49m\u001B[43maxis\u001B[49m\u001B[38;5;241;43m=\u001B[39;49m\u001B[43maxis\u001B[49m\u001B[43m,\u001B[49m\u001B[43m \u001B[49m\u001B[43mskipna\u001B[49m\u001B[38;5;241;43m=\u001B[39;49m\u001B[43mskipna\u001B[49m\u001B[43m,\u001B[49m\u001B[43m \u001B[49m\u001B[43mnumeric_only\u001B[49m\u001B[38;5;241;43m=\u001B[39;49m\u001B[43mnumeric_only\u001B[49m\n\u001B[0;32m  12372\u001B[0m \u001B[43m\u001B[49m\u001B[43m)\u001B[49m\n",
      "File \u001B[1;32m~\\PycharmProjects\\Machine learning AI\\.venv\\Lib\\site-packages\\pandas\\core\\series.py:6437\u001B[0m, in \u001B[0;36mSeries._reduce\u001B[1;34m(self, op, name, axis, skipna, numeric_only, filter_type, **kwds)\u001B[0m\n\u001B[0;32m   6432\u001B[0m     \u001B[38;5;66;03m# GH#47500 - change to TypeError to match other methods\u001B[39;00m\n\u001B[0;32m   6433\u001B[0m     \u001B[38;5;28;01mraise\u001B[39;00m \u001B[38;5;167;01mTypeError\u001B[39;00m(\n\u001B[0;32m   6434\u001B[0m         \u001B[38;5;124mf\u001B[39m\u001B[38;5;124m\"\u001B[39m\u001B[38;5;124mSeries.\u001B[39m\u001B[38;5;132;01m{\u001B[39;00mname\u001B[38;5;132;01m}\u001B[39;00m\u001B[38;5;124m does not allow \u001B[39m\u001B[38;5;132;01m{\u001B[39;00mkwd_name\u001B[38;5;132;01m}\u001B[39;00m\u001B[38;5;124m=\u001B[39m\u001B[38;5;132;01m{\u001B[39;00mnumeric_only\u001B[38;5;132;01m}\u001B[39;00m\u001B[38;5;124m \u001B[39m\u001B[38;5;124m\"\u001B[39m\n\u001B[0;32m   6435\u001B[0m         \u001B[38;5;124m\"\u001B[39m\u001B[38;5;124mwith non-numeric dtypes.\u001B[39m\u001B[38;5;124m\"\u001B[39m\n\u001B[0;32m   6436\u001B[0m     )\n\u001B[1;32m-> 6437\u001B[0m \u001B[38;5;28;01mreturn\u001B[39;00m \u001B[43mop\u001B[49m\u001B[43m(\u001B[49m\u001B[43mdelegate\u001B[49m\u001B[43m,\u001B[49m\u001B[43m \u001B[49m\u001B[43mskipna\u001B[49m\u001B[38;5;241;43m=\u001B[39;49m\u001B[43mskipna\u001B[49m\u001B[43m,\u001B[49m\u001B[43m \u001B[49m\u001B[38;5;241;43m*\u001B[39;49m\u001B[38;5;241;43m*\u001B[39;49m\u001B[43mkwds\u001B[49m\u001B[43m)\u001B[49m\n",
      "File \u001B[1;32m~\\PycharmProjects\\Machine learning AI\\.venv\\Lib\\site-packages\\pandas\\core\\nanops.py:147\u001B[0m, in \u001B[0;36mbottleneck_switch.__call__.<locals>.f\u001B[1;34m(values, axis, skipna, **kwds)\u001B[0m\n\u001B[0;32m    145\u001B[0m         result \u001B[38;5;241m=\u001B[39m alt(values, axis\u001B[38;5;241m=\u001B[39maxis, skipna\u001B[38;5;241m=\u001B[39mskipna, \u001B[38;5;241m*\u001B[39m\u001B[38;5;241m*\u001B[39mkwds)\n\u001B[0;32m    146\u001B[0m \u001B[38;5;28;01melse\u001B[39;00m:\n\u001B[1;32m--> 147\u001B[0m     result \u001B[38;5;241m=\u001B[39m \u001B[43malt\u001B[49m\u001B[43m(\u001B[49m\u001B[43mvalues\u001B[49m\u001B[43m,\u001B[49m\u001B[43m \u001B[49m\u001B[43maxis\u001B[49m\u001B[38;5;241;43m=\u001B[39;49m\u001B[43maxis\u001B[49m\u001B[43m,\u001B[49m\u001B[43m \u001B[49m\u001B[43mskipna\u001B[49m\u001B[38;5;241;43m=\u001B[39;49m\u001B[43mskipna\u001B[49m\u001B[43m,\u001B[49m\u001B[43m \u001B[49m\u001B[38;5;241;43m*\u001B[39;49m\u001B[38;5;241;43m*\u001B[39;49m\u001B[43mkwds\u001B[49m\u001B[43m)\u001B[49m\n\u001B[0;32m    149\u001B[0m \u001B[38;5;28;01mreturn\u001B[39;00m result\n",
      "File \u001B[1;32m~\\PycharmProjects\\Machine learning AI\\.venv\\Lib\\site-packages\\pandas\\core\\nanops.py:404\u001B[0m, in \u001B[0;36m_datetimelike_compat.<locals>.new_func\u001B[1;34m(values, axis, skipna, mask, **kwargs)\u001B[0m\n\u001B[0;32m    401\u001B[0m \u001B[38;5;28;01mif\u001B[39;00m datetimelike \u001B[38;5;129;01mand\u001B[39;00m mask \u001B[38;5;129;01mis\u001B[39;00m \u001B[38;5;28;01mNone\u001B[39;00m:\n\u001B[0;32m    402\u001B[0m     mask \u001B[38;5;241m=\u001B[39m isna(values)\n\u001B[1;32m--> 404\u001B[0m result \u001B[38;5;241m=\u001B[39m \u001B[43mfunc\u001B[49m\u001B[43m(\u001B[49m\u001B[43mvalues\u001B[49m\u001B[43m,\u001B[49m\u001B[43m \u001B[49m\u001B[43maxis\u001B[49m\u001B[38;5;241;43m=\u001B[39;49m\u001B[43maxis\u001B[49m\u001B[43m,\u001B[49m\u001B[43m \u001B[49m\u001B[43mskipna\u001B[49m\u001B[38;5;241;43m=\u001B[39;49m\u001B[43mskipna\u001B[49m\u001B[43m,\u001B[49m\u001B[43m \u001B[49m\u001B[43mmask\u001B[49m\u001B[38;5;241;43m=\u001B[39;49m\u001B[43mmask\u001B[49m\u001B[43m,\u001B[49m\u001B[43m \u001B[49m\u001B[38;5;241;43m*\u001B[39;49m\u001B[38;5;241;43m*\u001B[39;49m\u001B[43mkwargs\u001B[49m\u001B[43m)\u001B[49m\n\u001B[0;32m    406\u001B[0m \u001B[38;5;28;01mif\u001B[39;00m datetimelike:\n\u001B[0;32m    407\u001B[0m     result \u001B[38;5;241m=\u001B[39m _wrap_results(result, orig_values\u001B[38;5;241m.\u001B[39mdtype, fill_value\u001B[38;5;241m=\u001B[39miNaT)\n",
      "File \u001B[1;32m~\\PycharmProjects\\Machine learning AI\\.venv\\Lib\\site-packages\\pandas\\core\\nanops.py:1098\u001B[0m, in \u001B[0;36m_nanminmax.<locals>.reduction\u001B[1;34m(values, axis, skipna, mask)\u001B[0m\n\u001B[0;32m   1093\u001B[0m     \u001B[38;5;28;01mreturn\u001B[39;00m _na_for_min_count(values, axis)\n\u001B[0;32m   1095\u001B[0m values, mask \u001B[38;5;241m=\u001B[39m _get_values(\n\u001B[0;32m   1096\u001B[0m     values, skipna, fill_value_typ\u001B[38;5;241m=\u001B[39mfill_value_typ, mask\u001B[38;5;241m=\u001B[39mmask\n\u001B[0;32m   1097\u001B[0m )\n\u001B[1;32m-> 1098\u001B[0m result \u001B[38;5;241m=\u001B[39m \u001B[38;5;28;43mgetattr\u001B[39;49m\u001B[43m(\u001B[49m\u001B[43mvalues\u001B[49m\u001B[43m,\u001B[49m\u001B[43m \u001B[49m\u001B[43mmeth\u001B[49m\u001B[43m)\u001B[49m\u001B[43m(\u001B[49m\u001B[43maxis\u001B[49m\u001B[43m)\u001B[49m\n\u001B[0;32m   1099\u001B[0m result \u001B[38;5;241m=\u001B[39m _maybe_null_out(result, axis, mask, values\u001B[38;5;241m.\u001B[39mshape)\n\u001B[0;32m   1100\u001B[0m \u001B[38;5;28;01mreturn\u001B[39;00m result\n",
      "File \u001B[1;32m~\\PycharmProjects\\Machine learning AI\\.venv\\Lib\\site-packages\\numpy\\core\\_methods.py:41\u001B[0m, in \u001B[0;36m_amax\u001B[1;34m(a, axis, out, keepdims, initial, where)\u001B[0m\n\u001B[0;32m     39\u001B[0m \u001B[38;5;28;01mdef\u001B[39;00m \u001B[38;5;21m_amax\u001B[39m(a, axis\u001B[38;5;241m=\u001B[39m\u001B[38;5;28;01mNone\u001B[39;00m, out\u001B[38;5;241m=\u001B[39m\u001B[38;5;28;01mNone\u001B[39;00m, keepdims\u001B[38;5;241m=\u001B[39m\u001B[38;5;28;01mFalse\u001B[39;00m,\n\u001B[0;32m     40\u001B[0m           initial\u001B[38;5;241m=\u001B[39m_NoValue, where\u001B[38;5;241m=\u001B[39m\u001B[38;5;28;01mTrue\u001B[39;00m):\n\u001B[1;32m---> 41\u001B[0m     \u001B[38;5;28;01mreturn\u001B[39;00m umr_maximum(a, axis, \u001B[38;5;28;01mNone\u001B[39;00m, out, keepdims, initial, where)\n",
      "\u001B[1;31mTypeError\u001B[0m: '>=' not supported between instances of 'str' and 'int'"
     ]
    }
   ],
   "source": [
    "sales.apply(func=sum_function, axis=1)"
   ],
   "metadata": {
    "collapsed": false,
    "ExecuteTime": {
     "end_time": "2024-03-05T16:15:11.642348400Z",
     "start_time": "2024-03-05T16:15:11.369418100Z"
    }
   },
   "id": "466fad748160e5f2",
   "execution_count": 87
  },
  {
   "cell_type": "markdown",
   "source": [
    "## or apply with lambda funct."
   ],
   "metadata": {
    "collapsed": false
   },
   "id": "8cbc48012fd40f8c"
  },
  {
   "cell_type": "code",
   "outputs": [
    {
     "ename": "NameError",
     "evalue": "name 'sales' is not defined",
     "output_type": "error",
     "traceback": [
      "\u001B[1;31m---------------------------------------------------------------------------\u001B[0m",
      "\u001B[1;31mNameError\u001B[0m                                 Traceback (most recent call last)",
      "Cell \u001B[1;32mIn[1], line 1\u001B[0m\n\u001B[1;32m----> 1\u001B[0m \u001B[43msales\u001B[49m\u001B[38;5;241m.\u001B[39mapply(\u001B[38;5;28;01mlambda\u001B[39;00m x: x\u001B[38;5;241m.\u001B[39mmax() \u001B[38;5;241m-\u001B[39m x\u001B[38;5;241m.\u001B[39mmin(), axis\u001B[38;5;241m=\u001B[39m\u001B[38;5;241m0\u001B[39m)\n",
      "\u001B[1;31mNameError\u001B[0m: name 'sales' is not defined"
     ]
    }
   ],
   "source": [
    "sales.apply(lambda x: x.max() - x.min(), axis=0)"
   ],
   "metadata": {
    "collapsed": false,
    "ExecuteTime": {
     "end_time": "2024-03-05T16:59:02.546827100Z",
     "start_time": "2024-03-05T16:59:02.265675Z"
    }
   },
   "id": "994958987d4242a",
   "execution_count": 1
  },
  {
   "cell_type": "markdown",
   "source": [
    "## map() method to substitute each value in a series with another value\n",
    "## map() method is used for Pandas series"
   ],
   "metadata": {
    "collapsed": false
   },
   "id": "50f5de35a201f754"
  },
  {
   "cell_type": "code",
   "outputs": [
    {
     "data": {
      "text/plain": "0    33\n1    44\n2    16\n3    86\nName: Mon, dtype: int64"
     },
     "execution_count": 88,
     "metadata": {},
     "output_type": "execute_result"
    }
   ],
   "source": [
    "sales.Mon.map(lambda x: x - 1)"
   ],
   "metadata": {
    "collapsed": false,
    "ExecuteTime": {
     "end_time": "2024-03-05T16:15:11.856730Z",
     "start_time": "2024-03-05T16:15:11.646349Z"
    }
   },
   "id": "7980a741c7e2d111",
   "execution_count": 88
  },
  {
   "cell_type": "markdown",
   "source": [
    "# MultiIndex "
   ],
   "metadata": {
    "collapsed": false
   },
   "id": "4974ff38f933fd6f"
  },
  {
   "cell_type": "code",
   "outputs": [
    {
     "data": {
      "text/plain": "    survived  pclass     sex   age  sibsp  parch      fare embarked deck  \\\n0          0       3    male  22.0      1      0    7.2500        S  NaN   \n1          1       1  female  38.0      1      0   71.2833        C    C   \n2          1       3  female  26.0      0      0    7.9250        S  NaN   \n3          1       1  female  35.0      1      0   53.1000        S    C   \n4          0       3    male  35.0      0      0    8.0500        S  NaN   \n5          0       3    male   NaN      0      0    8.4583        Q  NaN   \n6          0       1    male  54.0      0      0   51.8625        S    E   \n7          0       3    male   2.0      3      1   21.0750        S  NaN   \n8          1       3  female  27.0      0      2   11.1333        S  NaN   \n9          1       2  female  14.0      1      0   30.0708        C  NaN   \n10         1       3  female   4.0      1      1   16.7000        S    G   \n11         1       1  female  58.0      0      0   26.5500        S    C   \n12         0       3    male  20.0      0      0    8.0500        S  NaN   \n13         0       3    male  39.0      1      5   31.2750        S  NaN   \n14         0       3  female  14.0      0      0    7.8542        S  NaN   \n15         1       2  female  55.0      0      0   16.0000        S  NaN   \n16         0       3    male   2.0      4      1   29.1250        Q  NaN   \n17         1       2    male   NaN      0      0   13.0000        S  NaN   \n18         0       3  female  31.0      1      0   18.0000        S  NaN   \n19         1       3  female   NaN      0      0    7.2250        C  NaN   \n20         0       2    male  35.0      0      0   26.0000        S  NaN   \n21         1       2    male  34.0      0      0   13.0000        S    D   \n22         1       3  female  15.0      0      0    8.0292        Q  NaN   \n23         1       1    male  28.0      0      0   35.5000        S    A   \n24         0       3  female   8.0      3      1   21.0750        S  NaN   \n25         1       3  female  38.0      1      5   31.3875        S  NaN   \n26         0       3    male   NaN      0      0    7.2250        C  NaN   \n27         0       1    male  19.0      3      2  263.0000        S    C   \n28         1       3  female   NaN      0      0    7.8792        Q  NaN   \n29         0       3    male   NaN      0      0    7.8958        S  NaN   \n30         0       1    male  40.0      0      0   27.7208        C  NaN   \n31         1       1  female   NaN      1      0  146.5208        C    B   \n32         1       3  female   NaN      0      0    7.7500        Q  NaN   \n33         0       2    male  66.0      0      0   10.5000        S  NaN   \n34         0       1    male  28.0      1      0   82.1708        C  NaN   \n35         0       1    male  42.0      1      0   52.0000        S  NaN   \n36         1       3    male   NaN      0      0    7.2292        C  NaN   \n37         0       3    male  21.0      0      0    8.0500        S  NaN   \n38         0       3  female  18.0      2      0   18.0000        S  NaN   \n39         1       3  female  14.0      1      0   11.2417        C  NaN   \n40         0       3  female  40.0      1      0    9.4750        S  NaN   \n41         0       2  female  27.0      1      0   21.0000        S  NaN   \n42         0       3    male   NaN      0      0    7.8958        C  NaN   \n43         1       2  female   3.0      1      2   41.5792        C  NaN   \n44         1       3  female  19.0      0      0    7.8792        Q  NaN   \n45         0       3    male   NaN      0      0    8.0500        S  NaN   \n46         0       3    male   NaN      1      0   15.5000        Q  NaN   \n47         1       3  female   NaN      0      0    7.7500        Q  NaN   \n48         0       3    male   NaN      2      0   21.6792        C  NaN   \n49         0       3  female  18.0      1      0   17.8000        S  NaN   \n\n    rank_age  \n0      205.0  \n1      527.0  \n2      302.0  \n3      480.0  \n4      480.0  \n5        NaN  \n6      665.0  \n7       15.0  \n8      320.0  \n9       72.0  \n10      31.0  \n11     682.0  \n12     165.0  \n13     538.0  \n14      72.0  \n15     673.0  \n16      15.0  \n17       NaN  \n18     412.0  \n19       NaN  \n20     480.0  \n21     464.0  \n22      79.0  \n23     338.0  \n24      51.0  \n25     527.0  \n26       NaN  \n27     140.0  \n28       NaN  \n29       NaN  \n30     552.0  \n31       NaN  \n32       NaN  \n33     707.0  \n34     338.0  \n35     573.0  \n36       NaN  \n37     181.0  \n38     114.0  \n39      72.0  \n40     552.0  \n41     320.0  \n42       NaN  \n43      25.0  \n44     140.0  \n45       NaN  \n46       NaN  \n47       NaN  \n48       NaN  \n49     114.0  ",
      "text/html": "<div>\n<style scoped>\n    .dataframe tbody tr th:only-of-type {\n        vertical-align: middle;\n    }\n\n    .dataframe tbody tr th {\n        vertical-align: top;\n    }\n\n    .dataframe thead th {\n        text-align: right;\n    }\n</style>\n<table border=\"1\" class=\"dataframe\">\n  <thead>\n    <tr style=\"text-align: right;\">\n      <th></th>\n      <th>survived</th>\n      <th>pclass</th>\n      <th>sex</th>\n      <th>age</th>\n      <th>sibsp</th>\n      <th>parch</th>\n      <th>fare</th>\n      <th>embarked</th>\n      <th>deck</th>\n      <th>rank_age</th>\n    </tr>\n  </thead>\n  <tbody>\n    <tr>\n      <th>0</th>\n      <td>0</td>\n      <td>3</td>\n      <td>male</td>\n      <td>22.0</td>\n      <td>1</td>\n      <td>0</td>\n      <td>7.2500</td>\n      <td>S</td>\n      <td>NaN</td>\n      <td>205.0</td>\n    </tr>\n    <tr>\n      <th>1</th>\n      <td>1</td>\n      <td>1</td>\n      <td>female</td>\n      <td>38.0</td>\n      <td>1</td>\n      <td>0</td>\n      <td>71.2833</td>\n      <td>C</td>\n      <td>C</td>\n      <td>527.0</td>\n    </tr>\n    <tr>\n      <th>2</th>\n      <td>1</td>\n      <td>3</td>\n      <td>female</td>\n      <td>26.0</td>\n      <td>0</td>\n      <td>0</td>\n      <td>7.9250</td>\n      <td>S</td>\n      <td>NaN</td>\n      <td>302.0</td>\n    </tr>\n    <tr>\n      <th>3</th>\n      <td>1</td>\n      <td>1</td>\n      <td>female</td>\n      <td>35.0</td>\n      <td>1</td>\n      <td>0</td>\n      <td>53.1000</td>\n      <td>S</td>\n      <td>C</td>\n      <td>480.0</td>\n    </tr>\n    <tr>\n      <th>4</th>\n      <td>0</td>\n      <td>3</td>\n      <td>male</td>\n      <td>35.0</td>\n      <td>0</td>\n      <td>0</td>\n      <td>8.0500</td>\n      <td>S</td>\n      <td>NaN</td>\n      <td>480.0</td>\n    </tr>\n    <tr>\n      <th>5</th>\n      <td>0</td>\n      <td>3</td>\n      <td>male</td>\n      <td>NaN</td>\n      <td>0</td>\n      <td>0</td>\n      <td>8.4583</td>\n      <td>Q</td>\n      <td>NaN</td>\n      <td>NaN</td>\n    </tr>\n    <tr>\n      <th>6</th>\n      <td>0</td>\n      <td>1</td>\n      <td>male</td>\n      <td>54.0</td>\n      <td>0</td>\n      <td>0</td>\n      <td>51.8625</td>\n      <td>S</td>\n      <td>E</td>\n      <td>665.0</td>\n    </tr>\n    <tr>\n      <th>7</th>\n      <td>0</td>\n      <td>3</td>\n      <td>male</td>\n      <td>2.0</td>\n      <td>3</td>\n      <td>1</td>\n      <td>21.0750</td>\n      <td>S</td>\n      <td>NaN</td>\n      <td>15.0</td>\n    </tr>\n    <tr>\n      <th>8</th>\n      <td>1</td>\n      <td>3</td>\n      <td>female</td>\n      <td>27.0</td>\n      <td>0</td>\n      <td>2</td>\n      <td>11.1333</td>\n      <td>S</td>\n      <td>NaN</td>\n      <td>320.0</td>\n    </tr>\n    <tr>\n      <th>9</th>\n      <td>1</td>\n      <td>2</td>\n      <td>female</td>\n      <td>14.0</td>\n      <td>1</td>\n      <td>0</td>\n      <td>30.0708</td>\n      <td>C</td>\n      <td>NaN</td>\n      <td>72.0</td>\n    </tr>\n    <tr>\n      <th>10</th>\n      <td>1</td>\n      <td>3</td>\n      <td>female</td>\n      <td>4.0</td>\n      <td>1</td>\n      <td>1</td>\n      <td>16.7000</td>\n      <td>S</td>\n      <td>G</td>\n      <td>31.0</td>\n    </tr>\n    <tr>\n      <th>11</th>\n      <td>1</td>\n      <td>1</td>\n      <td>female</td>\n      <td>58.0</td>\n      <td>0</td>\n      <td>0</td>\n      <td>26.5500</td>\n      <td>S</td>\n      <td>C</td>\n      <td>682.0</td>\n    </tr>\n    <tr>\n      <th>12</th>\n      <td>0</td>\n      <td>3</td>\n      <td>male</td>\n      <td>20.0</td>\n      <td>0</td>\n      <td>0</td>\n      <td>8.0500</td>\n      <td>S</td>\n      <td>NaN</td>\n      <td>165.0</td>\n    </tr>\n    <tr>\n      <th>13</th>\n      <td>0</td>\n      <td>3</td>\n      <td>male</td>\n      <td>39.0</td>\n      <td>1</td>\n      <td>5</td>\n      <td>31.2750</td>\n      <td>S</td>\n      <td>NaN</td>\n      <td>538.0</td>\n    </tr>\n    <tr>\n      <th>14</th>\n      <td>0</td>\n      <td>3</td>\n      <td>female</td>\n      <td>14.0</td>\n      <td>0</td>\n      <td>0</td>\n      <td>7.8542</td>\n      <td>S</td>\n      <td>NaN</td>\n      <td>72.0</td>\n    </tr>\n    <tr>\n      <th>15</th>\n      <td>1</td>\n      <td>2</td>\n      <td>female</td>\n      <td>55.0</td>\n      <td>0</td>\n      <td>0</td>\n      <td>16.0000</td>\n      <td>S</td>\n      <td>NaN</td>\n      <td>673.0</td>\n    </tr>\n    <tr>\n      <th>16</th>\n      <td>0</td>\n      <td>3</td>\n      <td>male</td>\n      <td>2.0</td>\n      <td>4</td>\n      <td>1</td>\n      <td>29.1250</td>\n      <td>Q</td>\n      <td>NaN</td>\n      <td>15.0</td>\n    </tr>\n    <tr>\n      <th>17</th>\n      <td>1</td>\n      <td>2</td>\n      <td>male</td>\n      <td>NaN</td>\n      <td>0</td>\n      <td>0</td>\n      <td>13.0000</td>\n      <td>S</td>\n      <td>NaN</td>\n      <td>NaN</td>\n    </tr>\n    <tr>\n      <th>18</th>\n      <td>0</td>\n      <td>3</td>\n      <td>female</td>\n      <td>31.0</td>\n      <td>1</td>\n      <td>0</td>\n      <td>18.0000</td>\n      <td>S</td>\n      <td>NaN</td>\n      <td>412.0</td>\n    </tr>\n    <tr>\n      <th>19</th>\n      <td>1</td>\n      <td>3</td>\n      <td>female</td>\n      <td>NaN</td>\n      <td>0</td>\n      <td>0</td>\n      <td>7.2250</td>\n      <td>C</td>\n      <td>NaN</td>\n      <td>NaN</td>\n    </tr>\n    <tr>\n      <th>20</th>\n      <td>0</td>\n      <td>2</td>\n      <td>male</td>\n      <td>35.0</td>\n      <td>0</td>\n      <td>0</td>\n      <td>26.0000</td>\n      <td>S</td>\n      <td>NaN</td>\n      <td>480.0</td>\n    </tr>\n    <tr>\n      <th>21</th>\n      <td>1</td>\n      <td>2</td>\n      <td>male</td>\n      <td>34.0</td>\n      <td>0</td>\n      <td>0</td>\n      <td>13.0000</td>\n      <td>S</td>\n      <td>D</td>\n      <td>464.0</td>\n    </tr>\n    <tr>\n      <th>22</th>\n      <td>1</td>\n      <td>3</td>\n      <td>female</td>\n      <td>15.0</td>\n      <td>0</td>\n      <td>0</td>\n      <td>8.0292</td>\n      <td>Q</td>\n      <td>NaN</td>\n      <td>79.0</td>\n    </tr>\n    <tr>\n      <th>23</th>\n      <td>1</td>\n      <td>1</td>\n      <td>male</td>\n      <td>28.0</td>\n      <td>0</td>\n      <td>0</td>\n      <td>35.5000</td>\n      <td>S</td>\n      <td>A</td>\n      <td>338.0</td>\n    </tr>\n    <tr>\n      <th>24</th>\n      <td>0</td>\n      <td>3</td>\n      <td>female</td>\n      <td>8.0</td>\n      <td>3</td>\n      <td>1</td>\n      <td>21.0750</td>\n      <td>S</td>\n      <td>NaN</td>\n      <td>51.0</td>\n    </tr>\n    <tr>\n      <th>25</th>\n      <td>1</td>\n      <td>3</td>\n      <td>female</td>\n      <td>38.0</td>\n      <td>1</td>\n      <td>5</td>\n      <td>31.3875</td>\n      <td>S</td>\n      <td>NaN</td>\n      <td>527.0</td>\n    </tr>\n    <tr>\n      <th>26</th>\n      <td>0</td>\n      <td>3</td>\n      <td>male</td>\n      <td>NaN</td>\n      <td>0</td>\n      <td>0</td>\n      <td>7.2250</td>\n      <td>C</td>\n      <td>NaN</td>\n      <td>NaN</td>\n    </tr>\n    <tr>\n      <th>27</th>\n      <td>0</td>\n      <td>1</td>\n      <td>male</td>\n      <td>19.0</td>\n      <td>3</td>\n      <td>2</td>\n      <td>263.0000</td>\n      <td>S</td>\n      <td>C</td>\n      <td>140.0</td>\n    </tr>\n    <tr>\n      <th>28</th>\n      <td>1</td>\n      <td>3</td>\n      <td>female</td>\n      <td>NaN</td>\n      <td>0</td>\n      <td>0</td>\n      <td>7.8792</td>\n      <td>Q</td>\n      <td>NaN</td>\n      <td>NaN</td>\n    </tr>\n    <tr>\n      <th>29</th>\n      <td>0</td>\n      <td>3</td>\n      <td>male</td>\n      <td>NaN</td>\n      <td>0</td>\n      <td>0</td>\n      <td>7.8958</td>\n      <td>S</td>\n      <td>NaN</td>\n      <td>NaN</td>\n    </tr>\n    <tr>\n      <th>30</th>\n      <td>0</td>\n      <td>1</td>\n      <td>male</td>\n      <td>40.0</td>\n      <td>0</td>\n      <td>0</td>\n      <td>27.7208</td>\n      <td>C</td>\n      <td>NaN</td>\n      <td>552.0</td>\n    </tr>\n    <tr>\n      <th>31</th>\n      <td>1</td>\n      <td>1</td>\n      <td>female</td>\n      <td>NaN</td>\n      <td>1</td>\n      <td>0</td>\n      <td>146.5208</td>\n      <td>C</td>\n      <td>B</td>\n      <td>NaN</td>\n    </tr>\n    <tr>\n      <th>32</th>\n      <td>1</td>\n      <td>3</td>\n      <td>female</td>\n      <td>NaN</td>\n      <td>0</td>\n      <td>0</td>\n      <td>7.7500</td>\n      <td>Q</td>\n      <td>NaN</td>\n      <td>NaN</td>\n    </tr>\n    <tr>\n      <th>33</th>\n      <td>0</td>\n      <td>2</td>\n      <td>male</td>\n      <td>66.0</td>\n      <td>0</td>\n      <td>0</td>\n      <td>10.5000</td>\n      <td>S</td>\n      <td>NaN</td>\n      <td>707.0</td>\n    </tr>\n    <tr>\n      <th>34</th>\n      <td>0</td>\n      <td>1</td>\n      <td>male</td>\n      <td>28.0</td>\n      <td>1</td>\n      <td>0</td>\n      <td>82.1708</td>\n      <td>C</td>\n      <td>NaN</td>\n      <td>338.0</td>\n    </tr>\n    <tr>\n      <th>35</th>\n      <td>0</td>\n      <td>1</td>\n      <td>male</td>\n      <td>42.0</td>\n      <td>1</td>\n      <td>0</td>\n      <td>52.0000</td>\n      <td>S</td>\n      <td>NaN</td>\n      <td>573.0</td>\n    </tr>\n    <tr>\n      <th>36</th>\n      <td>1</td>\n      <td>3</td>\n      <td>male</td>\n      <td>NaN</td>\n      <td>0</td>\n      <td>0</td>\n      <td>7.2292</td>\n      <td>C</td>\n      <td>NaN</td>\n      <td>NaN</td>\n    </tr>\n    <tr>\n      <th>37</th>\n      <td>0</td>\n      <td>3</td>\n      <td>male</td>\n      <td>21.0</td>\n      <td>0</td>\n      <td>0</td>\n      <td>8.0500</td>\n      <td>S</td>\n      <td>NaN</td>\n      <td>181.0</td>\n    </tr>\n    <tr>\n      <th>38</th>\n      <td>0</td>\n      <td>3</td>\n      <td>female</td>\n      <td>18.0</td>\n      <td>2</td>\n      <td>0</td>\n      <td>18.0000</td>\n      <td>S</td>\n      <td>NaN</td>\n      <td>114.0</td>\n    </tr>\n    <tr>\n      <th>39</th>\n      <td>1</td>\n      <td>3</td>\n      <td>female</td>\n      <td>14.0</td>\n      <td>1</td>\n      <td>0</td>\n      <td>11.2417</td>\n      <td>C</td>\n      <td>NaN</td>\n      <td>72.0</td>\n    </tr>\n    <tr>\n      <th>40</th>\n      <td>0</td>\n      <td>3</td>\n      <td>female</td>\n      <td>40.0</td>\n      <td>1</td>\n      <td>0</td>\n      <td>9.4750</td>\n      <td>S</td>\n      <td>NaN</td>\n      <td>552.0</td>\n    </tr>\n    <tr>\n      <th>41</th>\n      <td>0</td>\n      <td>2</td>\n      <td>female</td>\n      <td>27.0</td>\n      <td>1</td>\n      <td>0</td>\n      <td>21.0000</td>\n      <td>S</td>\n      <td>NaN</td>\n      <td>320.0</td>\n    </tr>\n    <tr>\n      <th>42</th>\n      <td>0</td>\n      <td>3</td>\n      <td>male</td>\n      <td>NaN</td>\n      <td>0</td>\n      <td>0</td>\n      <td>7.8958</td>\n      <td>C</td>\n      <td>NaN</td>\n      <td>NaN</td>\n    </tr>\n    <tr>\n      <th>43</th>\n      <td>1</td>\n      <td>2</td>\n      <td>female</td>\n      <td>3.0</td>\n      <td>1</td>\n      <td>2</td>\n      <td>41.5792</td>\n      <td>C</td>\n      <td>NaN</td>\n      <td>25.0</td>\n    </tr>\n    <tr>\n      <th>44</th>\n      <td>1</td>\n      <td>3</td>\n      <td>female</td>\n      <td>19.0</td>\n      <td>0</td>\n      <td>0</td>\n      <td>7.8792</td>\n      <td>Q</td>\n      <td>NaN</td>\n      <td>140.0</td>\n    </tr>\n    <tr>\n      <th>45</th>\n      <td>0</td>\n      <td>3</td>\n      <td>male</td>\n      <td>NaN</td>\n      <td>0</td>\n      <td>0</td>\n      <td>8.0500</td>\n      <td>S</td>\n      <td>NaN</td>\n      <td>NaN</td>\n    </tr>\n    <tr>\n      <th>46</th>\n      <td>0</td>\n      <td>3</td>\n      <td>male</td>\n      <td>NaN</td>\n      <td>1</td>\n      <td>0</td>\n      <td>15.5000</td>\n      <td>Q</td>\n      <td>NaN</td>\n      <td>NaN</td>\n    </tr>\n    <tr>\n      <th>47</th>\n      <td>1</td>\n      <td>3</td>\n      <td>female</td>\n      <td>NaN</td>\n      <td>0</td>\n      <td>0</td>\n      <td>7.7500</td>\n      <td>Q</td>\n      <td>NaN</td>\n      <td>NaN</td>\n    </tr>\n    <tr>\n      <th>48</th>\n      <td>0</td>\n      <td>3</td>\n      <td>male</td>\n      <td>NaN</td>\n      <td>2</td>\n      <td>0</td>\n      <td>21.6792</td>\n      <td>C</td>\n      <td>NaN</td>\n      <td>NaN</td>\n    </tr>\n    <tr>\n      <th>49</th>\n      <td>0</td>\n      <td>3</td>\n      <td>female</td>\n      <td>18.0</td>\n      <td>1</td>\n      <td>0</td>\n      <td>17.8000</td>\n      <td>S</td>\n      <td>NaN</td>\n      <td>114.0</td>\n    </tr>\n  </tbody>\n</table>\n</div>"
     },
     "execution_count": 89,
     "metadata": {},
     "output_type": "execute_result"
    }
   ],
   "source": [
    "titanic.head(50)"
   ],
   "metadata": {
    "collapsed": false,
    "ExecuteTime": {
     "end_time": "2024-03-05T16:15:12.112506100Z",
     "start_time": "2024-03-05T16:15:11.777059700Z"
    }
   },
   "id": "1f89c247b7b04ee0",
   "execution_count": 89
  },
  {
   "cell_type": "code",
   "outputs": [
    {
     "data": {
      "text/plain": "               survived   age  sibsp  parch     fare embarked deck  rank_age\npclass sex                                                                  \n3      male           0  22.0      1      0   7.2500        S  NaN     205.0\n1      female         1  38.0      1      0  71.2833        C    C     527.0\n3      female         1  26.0      0      0   7.9250        S  NaN     302.0\n1      female         1  35.0      1      0  53.1000        S    C     480.0\n3      male           0  35.0      0      0   8.0500        S  NaN     480.0\n...                 ...   ...    ...    ...      ...      ...  ...       ...\n2      male           0  27.0      0      0  13.0000        S  NaN     320.0\n1      female         1  19.0      0      0  30.0000        S    B     140.0\n3      female         0   NaN      1      2  23.4500        S  NaN       NaN\n1      male           1  26.0      0      0  30.0000        C    C     302.0\n3      male           0  32.0      0      0   7.7500        Q  NaN     429.0\n\n[891 rows x 8 columns]",
      "text/html": "<div>\n<style scoped>\n    .dataframe tbody tr th:only-of-type {\n        vertical-align: middle;\n    }\n\n    .dataframe tbody tr th {\n        vertical-align: top;\n    }\n\n    .dataframe thead th {\n        text-align: right;\n    }\n</style>\n<table border=\"1\" class=\"dataframe\">\n  <thead>\n    <tr style=\"text-align: right;\">\n      <th></th>\n      <th></th>\n      <th>survived</th>\n      <th>age</th>\n      <th>sibsp</th>\n      <th>parch</th>\n      <th>fare</th>\n      <th>embarked</th>\n      <th>deck</th>\n      <th>rank_age</th>\n    </tr>\n    <tr>\n      <th>pclass</th>\n      <th>sex</th>\n      <th></th>\n      <th></th>\n      <th></th>\n      <th></th>\n      <th></th>\n      <th></th>\n      <th></th>\n      <th></th>\n    </tr>\n  </thead>\n  <tbody>\n    <tr>\n      <th>3</th>\n      <th>male</th>\n      <td>0</td>\n      <td>22.0</td>\n      <td>1</td>\n      <td>0</td>\n      <td>7.2500</td>\n      <td>S</td>\n      <td>NaN</td>\n      <td>205.0</td>\n    </tr>\n    <tr>\n      <th>1</th>\n      <th>female</th>\n      <td>1</td>\n      <td>38.0</td>\n      <td>1</td>\n      <td>0</td>\n      <td>71.2833</td>\n      <td>C</td>\n      <td>C</td>\n      <td>527.0</td>\n    </tr>\n    <tr>\n      <th>3</th>\n      <th>female</th>\n      <td>1</td>\n      <td>26.0</td>\n      <td>0</td>\n      <td>0</td>\n      <td>7.9250</td>\n      <td>S</td>\n      <td>NaN</td>\n      <td>302.0</td>\n    </tr>\n    <tr>\n      <th>1</th>\n      <th>female</th>\n      <td>1</td>\n      <td>35.0</td>\n      <td>1</td>\n      <td>0</td>\n      <td>53.1000</td>\n      <td>S</td>\n      <td>C</td>\n      <td>480.0</td>\n    </tr>\n    <tr>\n      <th>3</th>\n      <th>male</th>\n      <td>0</td>\n      <td>35.0</td>\n      <td>0</td>\n      <td>0</td>\n      <td>8.0500</td>\n      <td>S</td>\n      <td>NaN</td>\n      <td>480.0</td>\n    </tr>\n    <tr>\n      <th>...</th>\n      <th>...</th>\n      <td>...</td>\n      <td>...</td>\n      <td>...</td>\n      <td>...</td>\n      <td>...</td>\n      <td>...</td>\n      <td>...</td>\n      <td>...</td>\n    </tr>\n    <tr>\n      <th>2</th>\n      <th>male</th>\n      <td>0</td>\n      <td>27.0</td>\n      <td>0</td>\n      <td>0</td>\n      <td>13.0000</td>\n      <td>S</td>\n      <td>NaN</td>\n      <td>320.0</td>\n    </tr>\n    <tr>\n      <th>1</th>\n      <th>female</th>\n      <td>1</td>\n      <td>19.0</td>\n      <td>0</td>\n      <td>0</td>\n      <td>30.0000</td>\n      <td>S</td>\n      <td>B</td>\n      <td>140.0</td>\n    </tr>\n    <tr>\n      <th>3</th>\n      <th>female</th>\n      <td>0</td>\n      <td>NaN</td>\n      <td>1</td>\n      <td>2</td>\n      <td>23.4500</td>\n      <td>S</td>\n      <td>NaN</td>\n      <td>NaN</td>\n    </tr>\n    <tr>\n      <th>1</th>\n      <th>male</th>\n      <td>1</td>\n      <td>26.0</td>\n      <td>0</td>\n      <td>0</td>\n      <td>30.0000</td>\n      <td>C</td>\n      <td>C</td>\n      <td>302.0</td>\n    </tr>\n    <tr>\n      <th>3</th>\n      <th>male</th>\n      <td>0</td>\n      <td>32.0</td>\n      <td>0</td>\n      <td>0</td>\n      <td>7.7500</td>\n      <td>Q</td>\n      <td>NaN</td>\n      <td>429.0</td>\n    </tr>\n  </tbody>\n</table>\n<p>891 rows × 8 columns</p>\n</div>"
     },
     "execution_count": 90,
     "metadata": {},
     "output_type": "execute_result"
    }
   ],
   "source": [
    "titanic_v1 = titanic.set_index(['pclass', 'sex'])\n",
    "titanic_v1"
   ],
   "metadata": {
    "collapsed": false,
    "ExecuteTime": {
     "end_time": "2024-03-05T16:15:12.234132400Z",
     "start_time": "2024-03-05T16:15:12.017729500Z"
    }
   },
   "id": "f714f83c64105f3c",
   "execution_count": 90
  },
  {
   "cell_type": "code",
   "outputs": [
    {
     "data": {
      "text/plain": "               survived   age  sibsp  parch      fare embarked deck  rank_age\npclass sex                                                                   \n1      male           0  54.0      0      0   51.8625        S    E     665.0\n       male           1  28.0      0      0   35.5000        S    A     338.0\n       male           0  19.0      3      2  263.0000        S    C     140.0\n       male           0  40.0      0      0   27.7208        C  NaN     552.0\n       male           0  28.0      1      0   82.1708        C  NaN     338.0\n...                 ...   ...    ...    ...       ...      ...  ...       ...\n3      female         0   NaN      8      2   69.5500        S  NaN       NaN\n       female         1  15.0      0      0    7.2250        C  NaN      79.0\n       female         0  22.0      0      0   10.5167        S  NaN     205.0\n       female         0  39.0      0      5   29.1250        Q  NaN     538.0\n       female         0   NaN      1      2   23.4500        S  NaN       NaN\n\n[891 rows x 8 columns]",
      "text/html": "<div>\n<style scoped>\n    .dataframe tbody tr th:only-of-type {\n        vertical-align: middle;\n    }\n\n    .dataframe tbody tr th {\n        vertical-align: top;\n    }\n\n    .dataframe thead th {\n        text-align: right;\n    }\n</style>\n<table border=\"1\" class=\"dataframe\">\n  <thead>\n    <tr style=\"text-align: right;\">\n      <th></th>\n      <th></th>\n      <th>survived</th>\n      <th>age</th>\n      <th>sibsp</th>\n      <th>parch</th>\n      <th>fare</th>\n      <th>embarked</th>\n      <th>deck</th>\n      <th>rank_age</th>\n    </tr>\n    <tr>\n      <th>pclass</th>\n      <th>sex</th>\n      <th></th>\n      <th></th>\n      <th></th>\n      <th></th>\n      <th></th>\n      <th></th>\n      <th></th>\n      <th></th>\n    </tr>\n  </thead>\n  <tbody>\n    <tr>\n      <th rowspan=\"5\" valign=\"top\">1</th>\n      <th>male</th>\n      <td>0</td>\n      <td>54.0</td>\n      <td>0</td>\n      <td>0</td>\n      <td>51.8625</td>\n      <td>S</td>\n      <td>E</td>\n      <td>665.0</td>\n    </tr>\n    <tr>\n      <th>male</th>\n      <td>1</td>\n      <td>28.0</td>\n      <td>0</td>\n      <td>0</td>\n      <td>35.5000</td>\n      <td>S</td>\n      <td>A</td>\n      <td>338.0</td>\n    </tr>\n    <tr>\n      <th>male</th>\n      <td>0</td>\n      <td>19.0</td>\n      <td>3</td>\n      <td>2</td>\n      <td>263.0000</td>\n      <td>S</td>\n      <td>C</td>\n      <td>140.0</td>\n    </tr>\n    <tr>\n      <th>male</th>\n      <td>0</td>\n      <td>40.0</td>\n      <td>0</td>\n      <td>0</td>\n      <td>27.7208</td>\n      <td>C</td>\n      <td>NaN</td>\n      <td>552.0</td>\n    </tr>\n    <tr>\n      <th>male</th>\n      <td>0</td>\n      <td>28.0</td>\n      <td>1</td>\n      <td>0</td>\n      <td>82.1708</td>\n      <td>C</td>\n      <td>NaN</td>\n      <td>338.0</td>\n    </tr>\n    <tr>\n      <th>...</th>\n      <th>...</th>\n      <td>...</td>\n      <td>...</td>\n      <td>...</td>\n      <td>...</td>\n      <td>...</td>\n      <td>...</td>\n      <td>...</td>\n      <td>...</td>\n    </tr>\n    <tr>\n      <th rowspan=\"5\" valign=\"top\">3</th>\n      <th>female</th>\n      <td>0</td>\n      <td>NaN</td>\n      <td>8</td>\n      <td>2</td>\n      <td>69.5500</td>\n      <td>S</td>\n      <td>NaN</td>\n      <td>NaN</td>\n    </tr>\n    <tr>\n      <th>female</th>\n      <td>1</td>\n      <td>15.0</td>\n      <td>0</td>\n      <td>0</td>\n      <td>7.2250</td>\n      <td>C</td>\n      <td>NaN</td>\n      <td>79.0</td>\n    </tr>\n    <tr>\n      <th>female</th>\n      <td>0</td>\n      <td>22.0</td>\n      <td>0</td>\n      <td>0</td>\n      <td>10.5167</td>\n      <td>S</td>\n      <td>NaN</td>\n      <td>205.0</td>\n    </tr>\n    <tr>\n      <th>female</th>\n      <td>0</td>\n      <td>39.0</td>\n      <td>0</td>\n      <td>5</td>\n      <td>29.1250</td>\n      <td>Q</td>\n      <td>NaN</td>\n      <td>538.0</td>\n    </tr>\n    <tr>\n      <th>female</th>\n      <td>0</td>\n      <td>NaN</td>\n      <td>1</td>\n      <td>2</td>\n      <td>23.4500</td>\n      <td>S</td>\n      <td>NaN</td>\n      <td>NaN</td>\n    </tr>\n  </tbody>\n</table>\n<p>891 rows × 8 columns</p>\n</div>"
     },
     "execution_count": 91,
     "metadata": {},
     "output_type": "execute_result"
    }
   ],
   "source": [
    "titanic_v1.sort_index(ascending=[True,False])"
   ],
   "metadata": {
    "collapsed": false,
    "ExecuteTime": {
     "end_time": "2024-03-05T16:15:12.318432800Z",
     "start_time": "2024-03-05T16:15:12.142506600Z"
    }
   },
   "id": "8553b655cc754104",
   "execution_count": 91
  },
  {
   "cell_type": "markdown",
   "source": [
    "## All rows for pclass 1\n"
   ],
   "metadata": {
    "collapsed": false
   },
   "id": "4c40b6e80b62d29f"
  },
  {
   "cell_type": "code",
   "outputs": [
    {
     "data": {
      "text/plain": "        survived   age  sibsp  parch     fare embarked deck  rank_age\nsex                                                                  \nfemale         1  38.0      1      0  71.2833        C    C     527.0\nfemale         1  35.0      1      0  53.1000        S    C     480.0\nmale           0  54.0      0      0  51.8625        S    E     665.0\nfemale         1  58.0      0      0  26.5500        S    C     682.0\nmale           1  28.0      0      0  35.5000        S    A     338.0\n...          ...   ...    ...    ...      ...      ...  ...       ...\nfemale         1  47.0      1      1  52.5542        S    D     617.0\nmale           0  33.0      0      0   5.0000        S    B     449.0\nfemale         1  56.0      0      1  83.1583        C    C     676.0\nfemale         1  19.0      0      0  30.0000        S    B     140.0\nmale           1  26.0      0      0  30.0000        C    C     302.0\n\n[216 rows x 8 columns]",
      "text/html": "<div>\n<style scoped>\n    .dataframe tbody tr th:only-of-type {\n        vertical-align: middle;\n    }\n\n    .dataframe tbody tr th {\n        vertical-align: top;\n    }\n\n    .dataframe thead th {\n        text-align: right;\n    }\n</style>\n<table border=\"1\" class=\"dataframe\">\n  <thead>\n    <tr style=\"text-align: right;\">\n      <th></th>\n      <th>survived</th>\n      <th>age</th>\n      <th>sibsp</th>\n      <th>parch</th>\n      <th>fare</th>\n      <th>embarked</th>\n      <th>deck</th>\n      <th>rank_age</th>\n    </tr>\n    <tr>\n      <th>sex</th>\n      <th></th>\n      <th></th>\n      <th></th>\n      <th></th>\n      <th></th>\n      <th></th>\n      <th></th>\n      <th></th>\n    </tr>\n  </thead>\n  <tbody>\n    <tr>\n      <th>female</th>\n      <td>1</td>\n      <td>38.0</td>\n      <td>1</td>\n      <td>0</td>\n      <td>71.2833</td>\n      <td>C</td>\n      <td>C</td>\n      <td>527.0</td>\n    </tr>\n    <tr>\n      <th>female</th>\n      <td>1</td>\n      <td>35.0</td>\n      <td>1</td>\n      <td>0</td>\n      <td>53.1000</td>\n      <td>S</td>\n      <td>C</td>\n      <td>480.0</td>\n    </tr>\n    <tr>\n      <th>male</th>\n      <td>0</td>\n      <td>54.0</td>\n      <td>0</td>\n      <td>0</td>\n      <td>51.8625</td>\n      <td>S</td>\n      <td>E</td>\n      <td>665.0</td>\n    </tr>\n    <tr>\n      <th>female</th>\n      <td>1</td>\n      <td>58.0</td>\n      <td>0</td>\n      <td>0</td>\n      <td>26.5500</td>\n      <td>S</td>\n      <td>C</td>\n      <td>682.0</td>\n    </tr>\n    <tr>\n      <th>male</th>\n      <td>1</td>\n      <td>28.0</td>\n      <td>0</td>\n      <td>0</td>\n      <td>35.5000</td>\n      <td>S</td>\n      <td>A</td>\n      <td>338.0</td>\n    </tr>\n    <tr>\n      <th>...</th>\n      <td>...</td>\n      <td>...</td>\n      <td>...</td>\n      <td>...</td>\n      <td>...</td>\n      <td>...</td>\n      <td>...</td>\n      <td>...</td>\n    </tr>\n    <tr>\n      <th>female</th>\n      <td>1</td>\n      <td>47.0</td>\n      <td>1</td>\n      <td>1</td>\n      <td>52.5542</td>\n      <td>S</td>\n      <td>D</td>\n      <td>617.0</td>\n    </tr>\n    <tr>\n      <th>male</th>\n      <td>0</td>\n      <td>33.0</td>\n      <td>0</td>\n      <td>0</td>\n      <td>5.0000</td>\n      <td>S</td>\n      <td>B</td>\n      <td>449.0</td>\n    </tr>\n    <tr>\n      <th>female</th>\n      <td>1</td>\n      <td>56.0</td>\n      <td>0</td>\n      <td>1</td>\n      <td>83.1583</td>\n      <td>C</td>\n      <td>C</td>\n      <td>676.0</td>\n    </tr>\n    <tr>\n      <th>female</th>\n      <td>1</td>\n      <td>19.0</td>\n      <td>0</td>\n      <td>0</td>\n      <td>30.0000</td>\n      <td>S</td>\n      <td>B</td>\n      <td>140.0</td>\n    </tr>\n    <tr>\n      <th>male</th>\n      <td>1</td>\n      <td>26.0</td>\n      <td>0</td>\n      <td>0</td>\n      <td>30.0000</td>\n      <td>C</td>\n      <td>C</td>\n      <td>302.0</td>\n    </tr>\n  </tbody>\n</table>\n<p>216 rows × 8 columns</p>\n</div>"
     },
     "execution_count": 92,
     "metadata": {},
     "output_type": "execute_result"
    }
   ],
   "source": [
    "titanic_v1.loc[1]"
   ],
   "metadata": {
    "collapsed": false,
    "ExecuteTime": {
     "end_time": "2024-03-05T16:15:12.585424100Z",
     "start_time": "2024-03-05T16:15:12.270135200Z"
    }
   },
   "id": "611025f94cb83a32",
   "execution_count": 92
  },
  {
   "cell_type": "markdown",
   "source": [
    "## for multipla index we can use tuple ( we need pclass 1 and femal)"
   ],
   "metadata": {
    "collapsed": false
   },
   "id": "f873b04123349ee9"
  },
  {
   "cell_type": "code",
   "outputs": [
    {
     "name": "stderr",
     "output_type": "stream",
     "text": [
      "C:\\Users\\Darius\\AppData\\Local\\Temp\\ipykernel_19288\\861147930.py:1: PerformanceWarning: indexing past lexsort depth may impact performance.\n",
      "  titanic_v1.loc[(1, 'female')]\n"
     ]
    },
    {
     "data": {
      "text/plain": "               survived   age  sibsp  parch      fare embarked deck  rank_age\npclass sex                                                                   \n1      female         1  38.0      1      0   71.2833        C    C     527.0\n       female         1  35.0      1      0   53.1000        S    C     480.0\n       female         1  58.0      0      0   26.5500        S    C     682.0\n       female         1   NaN      1      0  146.5208        C    B       NaN\n       female         1  49.0      1      0   76.7292        C    D     635.0\n...                 ...   ...    ...    ...       ...      ...  ...       ...\n       female         1  45.0      1      1  164.8667        S  NaN     600.0\n       female         1  48.0      0      0   25.9292        S    D     626.0\n       female         1  47.0      1      1   52.5542        S    D     617.0\n       female         1  56.0      0      1   83.1583        C    C     676.0\n       female         1  19.0      0      0   30.0000        S    B     140.0\n\n[94 rows x 8 columns]",
      "text/html": "<div>\n<style scoped>\n    .dataframe tbody tr th:only-of-type {\n        vertical-align: middle;\n    }\n\n    .dataframe tbody tr th {\n        vertical-align: top;\n    }\n\n    .dataframe thead th {\n        text-align: right;\n    }\n</style>\n<table border=\"1\" class=\"dataframe\">\n  <thead>\n    <tr style=\"text-align: right;\">\n      <th></th>\n      <th></th>\n      <th>survived</th>\n      <th>age</th>\n      <th>sibsp</th>\n      <th>parch</th>\n      <th>fare</th>\n      <th>embarked</th>\n      <th>deck</th>\n      <th>rank_age</th>\n    </tr>\n    <tr>\n      <th>pclass</th>\n      <th>sex</th>\n      <th></th>\n      <th></th>\n      <th></th>\n      <th></th>\n      <th></th>\n      <th></th>\n      <th></th>\n      <th></th>\n    </tr>\n  </thead>\n  <tbody>\n    <tr>\n      <th rowspan=\"11\" valign=\"top\">1</th>\n      <th>female</th>\n      <td>1</td>\n      <td>38.0</td>\n      <td>1</td>\n      <td>0</td>\n      <td>71.2833</td>\n      <td>C</td>\n      <td>C</td>\n      <td>527.0</td>\n    </tr>\n    <tr>\n      <th>female</th>\n      <td>1</td>\n      <td>35.0</td>\n      <td>1</td>\n      <td>0</td>\n      <td>53.1000</td>\n      <td>S</td>\n      <td>C</td>\n      <td>480.0</td>\n    </tr>\n    <tr>\n      <th>female</th>\n      <td>1</td>\n      <td>58.0</td>\n      <td>0</td>\n      <td>0</td>\n      <td>26.5500</td>\n      <td>S</td>\n      <td>C</td>\n      <td>682.0</td>\n    </tr>\n    <tr>\n      <th>female</th>\n      <td>1</td>\n      <td>NaN</td>\n      <td>1</td>\n      <td>0</td>\n      <td>146.5208</td>\n      <td>C</td>\n      <td>B</td>\n      <td>NaN</td>\n    </tr>\n    <tr>\n      <th>female</th>\n      <td>1</td>\n      <td>49.0</td>\n      <td>1</td>\n      <td>0</td>\n      <td>76.7292</td>\n      <td>C</td>\n      <td>D</td>\n      <td>635.0</td>\n    </tr>\n    <tr>\n      <th>...</th>\n      <td>...</td>\n      <td>...</td>\n      <td>...</td>\n      <td>...</td>\n      <td>...</td>\n      <td>...</td>\n      <td>...</td>\n      <td>...</td>\n    </tr>\n    <tr>\n      <th>female</th>\n      <td>1</td>\n      <td>45.0</td>\n      <td>1</td>\n      <td>1</td>\n      <td>164.8667</td>\n      <td>S</td>\n      <td>NaN</td>\n      <td>600.0</td>\n    </tr>\n    <tr>\n      <th>female</th>\n      <td>1</td>\n      <td>48.0</td>\n      <td>0</td>\n      <td>0</td>\n      <td>25.9292</td>\n      <td>S</td>\n      <td>D</td>\n      <td>626.0</td>\n    </tr>\n    <tr>\n      <th>female</th>\n      <td>1</td>\n      <td>47.0</td>\n      <td>1</td>\n      <td>1</td>\n      <td>52.5542</td>\n      <td>S</td>\n      <td>D</td>\n      <td>617.0</td>\n    </tr>\n    <tr>\n      <th>female</th>\n      <td>1</td>\n      <td>56.0</td>\n      <td>0</td>\n      <td>1</td>\n      <td>83.1583</td>\n      <td>C</td>\n      <td>C</td>\n      <td>676.0</td>\n    </tr>\n    <tr>\n      <th>female</th>\n      <td>1</td>\n      <td>19.0</td>\n      <td>0</td>\n      <td>0</td>\n      <td>30.0000</td>\n      <td>S</td>\n      <td>B</td>\n      <td>140.0</td>\n    </tr>\n  </tbody>\n</table>\n<p>94 rows × 8 columns</p>\n</div>"
     },
     "execution_count": 93,
     "metadata": {},
     "output_type": "execute_result"
    }
   ],
   "source": [
    "titanic_v1.loc[(1, 'female')]"
   ],
   "metadata": {
    "collapsed": false,
    "ExecuteTime": {
     "end_time": "2024-03-05T16:15:12.990425400Z",
     "start_time": "2024-03-05T16:15:12.554422500Z"
    }
   },
   "id": "d4d2eb0b8defd447",
   "execution_count": 93
  },
  {
   "cell_type": "markdown",
   "source": [
    "### slice(None) is used to select all the rows for the second index level"
   ],
   "metadata": {
    "collapsed": false
   },
   "id": "c3a1f971474b772a"
  },
  {
   "cell_type": "code",
   "outputs": [
    {
     "ename": "KeyError",
     "evalue": "'female'",
     "output_type": "error",
     "traceback": [
      "\u001B[1;31m---------------------------------------------------------------------------\u001B[0m",
      "\u001B[1;31mKeyError\u001B[0m                                  Traceback (most recent call last)",
      "File \u001B[1;32m~\\PycharmProjects\\Machine learning AI\\.venv\\Lib\\site-packages\\pandas\\core\\indexes\\base.py:3802\u001B[0m, in \u001B[0;36mIndex.get_loc\u001B[1;34m(self, key)\u001B[0m\n\u001B[0;32m   3801\u001B[0m \u001B[38;5;28;01mtry\u001B[39;00m:\n\u001B[1;32m-> 3802\u001B[0m     \u001B[38;5;28;01mreturn\u001B[39;00m \u001B[38;5;28;43mself\u001B[39;49m\u001B[38;5;241;43m.\u001B[39;49m\u001B[43m_engine\u001B[49m\u001B[38;5;241;43m.\u001B[39;49m\u001B[43mget_loc\u001B[49m\u001B[43m(\u001B[49m\u001B[43mcasted_key\u001B[49m\u001B[43m)\u001B[49m\n\u001B[0;32m   3803\u001B[0m \u001B[38;5;28;01mexcept\u001B[39;00m \u001B[38;5;167;01mKeyError\u001B[39;00m \u001B[38;5;28;01mas\u001B[39;00m err:\n",
      "File \u001B[1;32mindex.pyx:153\u001B[0m, in \u001B[0;36mpandas._libs.index.IndexEngine.get_loc\u001B[1;34m()\u001B[0m\n",
      "File \u001B[1;32mindex.pyx:182\u001B[0m, in \u001B[0;36mpandas._libs.index.IndexEngine.get_loc\u001B[1;34m()\u001B[0m\n",
      "File \u001B[1;32mpandas\\\\_libs\\\\hashtable_class_helper.pxi:7081\u001B[0m, in \u001B[0;36mpandas._libs.hashtable.PyObjectHashTable.get_item\u001B[1;34m()\u001B[0m\n",
      "File \u001B[1;32mpandas\\\\_libs\\\\hashtable_class_helper.pxi:7089\u001B[0m, in \u001B[0;36mpandas._libs.hashtable.PyObjectHashTable.get_item\u001B[1;34m()\u001B[0m\n",
      "\u001B[1;31mKeyError\u001B[0m: 'female'",
      "\nThe above exception was the direct cause of the following exception:\n",
      "\u001B[1;31mKeyError\u001B[0m                                  Traceback (most recent call last)",
      "Cell \u001B[1;32mIn[94], line 1\u001B[0m\n\u001B[1;32m----> 1\u001B[0m \u001B[43mtitanic_v1\u001B[49m\u001B[38;5;241;43m.\u001B[39;49m\u001B[43mloc\u001B[49m\u001B[43m[\u001B[49m\u001B[43m(\u001B[49m\u001B[38;5;28;43mslice\u001B[39;49m\u001B[43m(\u001B[49m\u001B[38;5;28;43;01mNone\u001B[39;49;00m\u001B[43m)\u001B[49m\u001B[43m,\u001B[49m\u001B[43m \u001B[49m\u001B[38;5;28;43mslice\u001B[39;49m\u001B[43m(\u001B[49m\u001B[38;5;124;43m\"\u001B[39;49m\u001B[38;5;124;43mfemale\u001B[39;49m\u001B[38;5;124;43m\"\u001B[39;49m\u001B[43m)\u001B[49m\u001B[43m)\u001B[49m\u001B[43m]\u001B[49m\n",
      "File \u001B[1;32m~\\PycharmProjects\\Machine learning AI\\.venv\\Lib\\site-packages\\pandas\\core\\indexing.py:1185\u001B[0m, in \u001B[0;36m_LocationIndexer.__getitem__\u001B[1;34m(self, key)\u001B[0m\n\u001B[0;32m   1183\u001B[0m     \u001B[38;5;28;01mif\u001B[39;00m \u001B[38;5;28mself\u001B[39m\u001B[38;5;241m.\u001B[39m_is_scalar_access(key):\n\u001B[0;32m   1184\u001B[0m         \u001B[38;5;28;01mreturn\u001B[39;00m \u001B[38;5;28mself\u001B[39m\u001B[38;5;241m.\u001B[39mobj\u001B[38;5;241m.\u001B[39m_get_value(\u001B[38;5;241m*\u001B[39mkey, takeable\u001B[38;5;241m=\u001B[39m\u001B[38;5;28mself\u001B[39m\u001B[38;5;241m.\u001B[39m_takeable)\n\u001B[1;32m-> 1185\u001B[0m     \u001B[38;5;28;01mreturn\u001B[39;00m \u001B[38;5;28;43mself\u001B[39;49m\u001B[38;5;241;43m.\u001B[39;49m\u001B[43m_getitem_tuple\u001B[49m\u001B[43m(\u001B[49m\u001B[43mkey\u001B[49m\u001B[43m)\u001B[49m\n\u001B[0;32m   1186\u001B[0m \u001B[38;5;28;01melse\u001B[39;00m:\n\u001B[0;32m   1187\u001B[0m     \u001B[38;5;66;03m# we by definition only have the 0th axis\u001B[39;00m\n\u001B[0;32m   1188\u001B[0m     axis \u001B[38;5;241m=\u001B[39m \u001B[38;5;28mself\u001B[39m\u001B[38;5;241m.\u001B[39maxis \u001B[38;5;129;01mor\u001B[39;00m \u001B[38;5;241m0\u001B[39m\n",
      "File \u001B[1;32m~\\PycharmProjects\\Machine learning AI\\.venv\\Lib\\site-packages\\pandas\\core\\indexing.py:1369\u001B[0m, in \u001B[0;36m_LocIndexer._getitem_tuple\u001B[1;34m(self, tup)\u001B[0m\n\u001B[0;32m   1367\u001B[0m \u001B[38;5;28;01mwith\u001B[39;00m suppress(IndexingError):\n\u001B[0;32m   1368\u001B[0m     tup \u001B[38;5;241m=\u001B[39m \u001B[38;5;28mself\u001B[39m\u001B[38;5;241m.\u001B[39m_expand_ellipsis(tup)\n\u001B[1;32m-> 1369\u001B[0m     \u001B[38;5;28;01mreturn\u001B[39;00m \u001B[38;5;28;43mself\u001B[39;49m\u001B[38;5;241;43m.\u001B[39;49m\u001B[43m_getitem_lowerdim\u001B[49m\u001B[43m(\u001B[49m\u001B[43mtup\u001B[49m\u001B[43m)\u001B[49m\n\u001B[0;32m   1371\u001B[0m \u001B[38;5;66;03m# no multi-index, so validate all of the indexers\u001B[39;00m\n\u001B[0;32m   1372\u001B[0m tup \u001B[38;5;241m=\u001B[39m \u001B[38;5;28mself\u001B[39m\u001B[38;5;241m.\u001B[39m_validate_tuple_indexer(tup)\n",
      "File \u001B[1;32m~\\PycharmProjects\\Machine learning AI\\.venv\\Lib\\site-packages\\pandas\\core\\indexing.py:1042\u001B[0m, in \u001B[0;36m_LocationIndexer._getitem_lowerdim\u001B[1;34m(self, tup)\u001B[0m\n\u001B[0;32m   1040\u001B[0m \u001B[38;5;66;03m# we may have a nested tuples indexer here\u001B[39;00m\n\u001B[0;32m   1041\u001B[0m \u001B[38;5;28;01mif\u001B[39;00m \u001B[38;5;28mself\u001B[39m\u001B[38;5;241m.\u001B[39m_is_nested_tuple_indexer(tup):\n\u001B[1;32m-> 1042\u001B[0m     \u001B[38;5;28;01mreturn\u001B[39;00m \u001B[38;5;28;43mself\u001B[39;49m\u001B[38;5;241;43m.\u001B[39;49m\u001B[43m_getitem_nested_tuple\u001B[49m\u001B[43m(\u001B[49m\u001B[43mtup\u001B[49m\u001B[43m)\u001B[49m\n\u001B[0;32m   1044\u001B[0m \u001B[38;5;66;03m# we maybe be using a tuple to represent multiple dimensions here\u001B[39;00m\n\u001B[0;32m   1045\u001B[0m ax0 \u001B[38;5;241m=\u001B[39m \u001B[38;5;28mself\u001B[39m\u001B[38;5;241m.\u001B[39mobj\u001B[38;5;241m.\u001B[39m_get_axis(\u001B[38;5;241m0\u001B[39m)\n",
      "File \u001B[1;32m~\\PycharmProjects\\Machine learning AI\\.venv\\Lib\\site-packages\\pandas\\core\\indexing.py:1154\u001B[0m, in \u001B[0;36m_LocationIndexer._getitem_nested_tuple\u001B[1;34m(self, tup)\u001B[0m\n\u001B[0;32m   1151\u001B[0m     axis \u001B[38;5;241m-\u001B[39m\u001B[38;5;241m=\u001B[39m \u001B[38;5;241m1\u001B[39m\n\u001B[0;32m   1152\u001B[0m     \u001B[38;5;28;01mcontinue\u001B[39;00m\n\u001B[1;32m-> 1154\u001B[0m obj \u001B[38;5;241m=\u001B[39m \u001B[38;5;28;43mgetattr\u001B[39;49m\u001B[43m(\u001B[49m\u001B[43mobj\u001B[49m\u001B[43m,\u001B[49m\u001B[43m \u001B[49m\u001B[38;5;28;43mself\u001B[39;49m\u001B[38;5;241;43m.\u001B[39;49m\u001B[43mname\u001B[49m\u001B[43m)\u001B[49m\u001B[38;5;241;43m.\u001B[39;49m\u001B[43m_getitem_axis\u001B[49m\u001B[43m(\u001B[49m\u001B[43mkey\u001B[49m\u001B[43m,\u001B[49m\u001B[43m \u001B[49m\u001B[43maxis\u001B[49m\u001B[38;5;241;43m=\u001B[39;49m\u001B[43maxis\u001B[49m\u001B[43m)\u001B[49m\n\u001B[0;32m   1155\u001B[0m axis \u001B[38;5;241m-\u001B[39m\u001B[38;5;241m=\u001B[39m \u001B[38;5;241m1\u001B[39m\n\u001B[0;32m   1157\u001B[0m \u001B[38;5;66;03m# if we have a scalar, we are done\u001B[39;00m\n",
      "File \u001B[1;32m~\\PycharmProjects\\Machine learning AI\\.venv\\Lib\\site-packages\\pandas\\core\\indexing.py:1412\u001B[0m, in \u001B[0;36m_LocIndexer._getitem_axis\u001B[1;34m(self, key, axis)\u001B[0m\n\u001B[0;32m   1410\u001B[0m \u001B[38;5;28;01mif\u001B[39;00m \u001B[38;5;28misinstance\u001B[39m(key, \u001B[38;5;28mslice\u001B[39m):\n\u001B[0;32m   1411\u001B[0m     \u001B[38;5;28mself\u001B[39m\u001B[38;5;241m.\u001B[39m_validate_key(key, axis)\n\u001B[1;32m-> 1412\u001B[0m     \u001B[38;5;28;01mreturn\u001B[39;00m \u001B[38;5;28;43mself\u001B[39;49m\u001B[38;5;241;43m.\u001B[39;49m\u001B[43m_get_slice_axis\u001B[49m\u001B[43m(\u001B[49m\u001B[43mkey\u001B[49m\u001B[43m,\u001B[49m\u001B[43m \u001B[49m\u001B[43maxis\u001B[49m\u001B[38;5;241;43m=\u001B[39;49m\u001B[43maxis\u001B[49m\u001B[43m)\u001B[49m\n\u001B[0;32m   1413\u001B[0m \u001B[38;5;28;01melif\u001B[39;00m com\u001B[38;5;241m.\u001B[39mis_bool_indexer(key):\n\u001B[0;32m   1414\u001B[0m     \u001B[38;5;28;01mreturn\u001B[39;00m \u001B[38;5;28mself\u001B[39m\u001B[38;5;241m.\u001B[39m_getbool_axis(key, axis\u001B[38;5;241m=\u001B[39maxis)\n",
      "File \u001B[1;32m~\\PycharmProjects\\Machine learning AI\\.venv\\Lib\\site-packages\\pandas\\core\\indexing.py:1444\u001B[0m, in \u001B[0;36m_LocIndexer._get_slice_axis\u001B[1;34m(self, slice_obj, axis)\u001B[0m\n\u001B[0;32m   1441\u001B[0m     \u001B[38;5;28;01mreturn\u001B[39;00m obj\u001B[38;5;241m.\u001B[39mcopy(deep\u001B[38;5;241m=\u001B[39m\u001B[38;5;28;01mFalse\u001B[39;00m)\n\u001B[0;32m   1443\u001B[0m labels \u001B[38;5;241m=\u001B[39m obj\u001B[38;5;241m.\u001B[39m_get_axis(axis)\n\u001B[1;32m-> 1444\u001B[0m indexer \u001B[38;5;241m=\u001B[39m \u001B[43mlabels\u001B[49m\u001B[38;5;241;43m.\u001B[39;49m\u001B[43mslice_indexer\u001B[49m\u001B[43m(\u001B[49m\u001B[43mslice_obj\u001B[49m\u001B[38;5;241;43m.\u001B[39;49m\u001B[43mstart\u001B[49m\u001B[43m,\u001B[49m\u001B[43m \u001B[49m\u001B[43mslice_obj\u001B[49m\u001B[38;5;241;43m.\u001B[39;49m\u001B[43mstop\u001B[49m\u001B[43m,\u001B[49m\u001B[43m \u001B[49m\u001B[43mslice_obj\u001B[49m\u001B[38;5;241;43m.\u001B[39;49m\u001B[43mstep\u001B[49m\u001B[43m)\u001B[49m\n\u001B[0;32m   1446\u001B[0m \u001B[38;5;28;01mif\u001B[39;00m \u001B[38;5;28misinstance\u001B[39m(indexer, \u001B[38;5;28mslice\u001B[39m):\n\u001B[0;32m   1447\u001B[0m     \u001B[38;5;28;01mreturn\u001B[39;00m \u001B[38;5;28mself\u001B[39m\u001B[38;5;241m.\u001B[39mobj\u001B[38;5;241m.\u001B[39m_slice(indexer, axis\u001B[38;5;241m=\u001B[39maxis)\n",
      "File \u001B[1;32m~\\PycharmProjects\\Machine learning AI\\.venv\\Lib\\site-packages\\pandas\\core\\indexes\\base.py:6661\u001B[0m, in \u001B[0;36mIndex.slice_indexer\u001B[1;34m(self, start, end, step)\u001B[0m\n\u001B[0;32m   6617\u001B[0m \u001B[38;5;28;01mdef\u001B[39;00m \u001B[38;5;21mslice_indexer\u001B[39m(\n\u001B[0;32m   6618\u001B[0m     \u001B[38;5;28mself\u001B[39m,\n\u001B[0;32m   6619\u001B[0m     start: Hashable \u001B[38;5;241m|\u001B[39m \u001B[38;5;28;01mNone\u001B[39;00m \u001B[38;5;241m=\u001B[39m \u001B[38;5;28;01mNone\u001B[39;00m,\n\u001B[0;32m   6620\u001B[0m     end: Hashable \u001B[38;5;241m|\u001B[39m \u001B[38;5;28;01mNone\u001B[39;00m \u001B[38;5;241m=\u001B[39m \u001B[38;5;28;01mNone\u001B[39;00m,\n\u001B[0;32m   6621\u001B[0m     step: \u001B[38;5;28mint\u001B[39m \u001B[38;5;241m|\u001B[39m \u001B[38;5;28;01mNone\u001B[39;00m \u001B[38;5;241m=\u001B[39m \u001B[38;5;28;01mNone\u001B[39;00m,\n\u001B[0;32m   6622\u001B[0m ) \u001B[38;5;241m-\u001B[39m\u001B[38;5;241m>\u001B[39m \u001B[38;5;28mslice\u001B[39m:\n\u001B[0;32m   6623\u001B[0m \u001B[38;5;250m    \u001B[39m\u001B[38;5;124;03m\"\"\"\u001B[39;00m\n\u001B[0;32m   6624\u001B[0m \u001B[38;5;124;03m    Compute the slice indexer for input labels and step.\u001B[39;00m\n\u001B[0;32m   6625\u001B[0m \n\u001B[1;32m   (...)\u001B[0m\n\u001B[0;32m   6659\u001B[0m \u001B[38;5;124;03m    slice(1, 3, None)\u001B[39;00m\n\u001B[0;32m   6660\u001B[0m \u001B[38;5;124;03m    \"\"\"\u001B[39;00m\n\u001B[1;32m-> 6661\u001B[0m     start_slice, end_slice \u001B[38;5;241m=\u001B[39m \u001B[38;5;28;43mself\u001B[39;49m\u001B[38;5;241;43m.\u001B[39;49m\u001B[43mslice_locs\u001B[49m\u001B[43m(\u001B[49m\u001B[43mstart\u001B[49m\u001B[43m,\u001B[49m\u001B[43m \u001B[49m\u001B[43mend\u001B[49m\u001B[43m,\u001B[49m\u001B[43m \u001B[49m\u001B[43mstep\u001B[49m\u001B[38;5;241;43m=\u001B[39;49m\u001B[43mstep\u001B[49m\u001B[43m)\u001B[49m\n\u001B[0;32m   6663\u001B[0m     \u001B[38;5;66;03m# return a slice\u001B[39;00m\n\u001B[0;32m   6664\u001B[0m     \u001B[38;5;28;01mif\u001B[39;00m \u001B[38;5;129;01mnot\u001B[39;00m is_scalar(start_slice):\n",
      "File \u001B[1;32m~\\PycharmProjects\\Machine learning AI\\.venv\\Lib\\site-packages\\pandas\\core\\indexes\\base.py:6884\u001B[0m, in \u001B[0;36mIndex.slice_locs\u001B[1;34m(self, start, end, step)\u001B[0m\n\u001B[0;32m   6882\u001B[0m end_slice \u001B[38;5;241m=\u001B[39m \u001B[38;5;28;01mNone\u001B[39;00m\n\u001B[0;32m   6883\u001B[0m \u001B[38;5;28;01mif\u001B[39;00m end \u001B[38;5;129;01mis\u001B[39;00m \u001B[38;5;129;01mnot\u001B[39;00m \u001B[38;5;28;01mNone\u001B[39;00m:\n\u001B[1;32m-> 6884\u001B[0m     end_slice \u001B[38;5;241m=\u001B[39m \u001B[38;5;28;43mself\u001B[39;49m\u001B[38;5;241;43m.\u001B[39;49m\u001B[43mget_slice_bound\u001B[49m\u001B[43m(\u001B[49m\u001B[43mend\u001B[49m\u001B[43m,\u001B[49m\u001B[43m \u001B[49m\u001B[38;5;124;43m\"\u001B[39;49m\u001B[38;5;124;43mright\u001B[39;49m\u001B[38;5;124;43m\"\u001B[39;49m\u001B[43m)\u001B[49m\n\u001B[0;32m   6885\u001B[0m \u001B[38;5;28;01mif\u001B[39;00m end_slice \u001B[38;5;129;01mis\u001B[39;00m \u001B[38;5;28;01mNone\u001B[39;00m:\n\u001B[0;32m   6886\u001B[0m     end_slice \u001B[38;5;241m=\u001B[39m \u001B[38;5;28mlen\u001B[39m(\u001B[38;5;28mself\u001B[39m)\n",
      "File \u001B[1;32m~\\PycharmProjects\\Machine learning AI\\.venv\\Lib\\site-packages\\pandas\\core\\indexes\\base.py:6803\u001B[0m, in \u001B[0;36mIndex.get_slice_bound\u001B[1;34m(self, label, side)\u001B[0m\n\u001B[0;32m   6800\u001B[0m         \u001B[38;5;28;01mreturn\u001B[39;00m \u001B[38;5;28mself\u001B[39m\u001B[38;5;241m.\u001B[39m_searchsorted_monotonic(label, side)\n\u001B[0;32m   6801\u001B[0m     \u001B[38;5;28;01mexcept\u001B[39;00m \u001B[38;5;167;01mValueError\u001B[39;00m:\n\u001B[0;32m   6802\u001B[0m         \u001B[38;5;66;03m# raise the original KeyError\u001B[39;00m\n\u001B[1;32m-> 6803\u001B[0m         \u001B[38;5;28;01mraise\u001B[39;00m err\n\u001B[0;32m   6805\u001B[0m \u001B[38;5;28;01mif\u001B[39;00m \u001B[38;5;28misinstance\u001B[39m(slc, np\u001B[38;5;241m.\u001B[39mndarray):\n\u001B[0;32m   6806\u001B[0m     \u001B[38;5;66;03m# get_loc may return a boolean array, which\u001B[39;00m\n\u001B[0;32m   6807\u001B[0m     \u001B[38;5;66;03m# is OK as long as they are representable by a slice.\u001B[39;00m\n\u001B[0;32m   6808\u001B[0m     \u001B[38;5;28;01massert\u001B[39;00m is_bool_dtype(slc\u001B[38;5;241m.\u001B[39mdtype)\n",
      "File \u001B[1;32m~\\PycharmProjects\\Machine learning AI\\.venv\\Lib\\site-packages\\pandas\\core\\indexes\\base.py:6797\u001B[0m, in \u001B[0;36mIndex.get_slice_bound\u001B[1;34m(self, label, side)\u001B[0m\n\u001B[0;32m   6795\u001B[0m \u001B[38;5;66;03m# we need to look up the label\u001B[39;00m\n\u001B[0;32m   6796\u001B[0m \u001B[38;5;28;01mtry\u001B[39;00m:\n\u001B[1;32m-> 6797\u001B[0m     slc \u001B[38;5;241m=\u001B[39m \u001B[38;5;28;43mself\u001B[39;49m\u001B[38;5;241;43m.\u001B[39;49m\u001B[43mget_loc\u001B[49m\u001B[43m(\u001B[49m\u001B[43mlabel\u001B[49m\u001B[43m)\u001B[49m\n\u001B[0;32m   6798\u001B[0m \u001B[38;5;28;01mexcept\u001B[39;00m \u001B[38;5;167;01mKeyError\u001B[39;00m \u001B[38;5;28;01mas\u001B[39;00m err:\n\u001B[0;32m   6799\u001B[0m     \u001B[38;5;28;01mtry\u001B[39;00m:\n",
      "File \u001B[1;32m~\\PycharmProjects\\Machine learning AI\\.venv\\Lib\\site-packages\\pandas\\core\\indexes\\base.py:3809\u001B[0m, in \u001B[0;36mIndex.get_loc\u001B[1;34m(self, key)\u001B[0m\n\u001B[0;32m   3804\u001B[0m     \u001B[38;5;28;01mif\u001B[39;00m \u001B[38;5;28misinstance\u001B[39m(casted_key, \u001B[38;5;28mslice\u001B[39m) \u001B[38;5;129;01mor\u001B[39;00m (\n\u001B[0;32m   3805\u001B[0m         \u001B[38;5;28misinstance\u001B[39m(casted_key, abc\u001B[38;5;241m.\u001B[39mIterable)\n\u001B[0;32m   3806\u001B[0m         \u001B[38;5;129;01mand\u001B[39;00m \u001B[38;5;28many\u001B[39m(\u001B[38;5;28misinstance\u001B[39m(x, \u001B[38;5;28mslice\u001B[39m) \u001B[38;5;28;01mfor\u001B[39;00m x \u001B[38;5;129;01min\u001B[39;00m casted_key)\n\u001B[0;32m   3807\u001B[0m     ):\n\u001B[0;32m   3808\u001B[0m         \u001B[38;5;28;01mraise\u001B[39;00m InvalidIndexError(key)\n\u001B[1;32m-> 3809\u001B[0m     \u001B[38;5;28;01mraise\u001B[39;00m \u001B[38;5;167;01mKeyError\u001B[39;00m(key) \u001B[38;5;28;01mfrom\u001B[39;00m \u001B[38;5;21;01merr\u001B[39;00m\n\u001B[0;32m   3810\u001B[0m \u001B[38;5;28;01mexcept\u001B[39;00m \u001B[38;5;167;01mTypeError\u001B[39;00m:\n\u001B[0;32m   3811\u001B[0m     \u001B[38;5;66;03m# If we have a listlike key, _check_indexing_error will raise\u001B[39;00m\n\u001B[0;32m   3812\u001B[0m     \u001B[38;5;66;03m#  InvalidIndexError. Otherwise we fall through and re-raise\u001B[39;00m\n\u001B[0;32m   3813\u001B[0m     \u001B[38;5;66;03m#  the TypeError.\u001B[39;00m\n\u001B[0;32m   3814\u001B[0m     \u001B[38;5;28mself\u001B[39m\u001B[38;5;241m.\u001B[39m_check_indexing_error(key)\n",
      "\u001B[1;31mKeyError\u001B[0m: 'female'"
     ]
    }
   ],
   "source": [
    "titanic_v1.loc[(slice(None), slice(\"female\"))]"
   ],
   "metadata": {
    "collapsed": false,
    "ExecuteTime": {
     "end_time": "2024-03-05T16:15:13.549709Z",
     "start_time": "2024-03-05T16:15:12.900424200Z"
    }
   },
   "id": "8be9e66448c4985a",
   "execution_count": 94
  },
  {
   "cell_type": "markdown",
   "source": [],
   "metadata": {
    "collapsed": false
   },
   "id": "d67ec08418e87e74"
  },
  {
   "cell_type": "markdown",
   "source": [
    "## we can use loc to select specific rows and columns\n",
    "## first list is for rows , index set\n",
    "## second list is for columns, columns selected"
   ],
   "metadata": {
    "collapsed": false
   },
   "id": "a847a3f0b3cc4f73"
  },
  {
   "cell_type": "code",
   "outputs": [
    {
     "data": {
      "text/plain": "                age     fare\npclass sex                  \n1      female  38.0  71.2833\n       female  35.0  53.1000\n       male    54.0  51.8625\n       female  58.0  26.5500\n       male    28.0  35.5000\n...             ...      ...\n2      female  27.0  13.8583\n       female  28.0  24.0000\n       female  25.0  26.0000\n       male    28.0  10.5000\n       male    27.0  13.0000\n\n[400 rows x 2 columns]",
      "text/html": "<div>\n<style scoped>\n    .dataframe tbody tr th:only-of-type {\n        vertical-align: middle;\n    }\n\n    .dataframe tbody tr th {\n        vertical-align: top;\n    }\n\n    .dataframe thead th {\n        text-align: right;\n    }\n</style>\n<table border=\"1\" class=\"dataframe\">\n  <thead>\n    <tr style=\"text-align: right;\">\n      <th></th>\n      <th></th>\n      <th>age</th>\n      <th>fare</th>\n    </tr>\n    <tr>\n      <th>pclass</th>\n      <th>sex</th>\n      <th></th>\n      <th></th>\n    </tr>\n  </thead>\n  <tbody>\n    <tr>\n      <th rowspan=\"5\" valign=\"top\">1</th>\n      <th>female</th>\n      <td>38.0</td>\n      <td>71.2833</td>\n    </tr>\n    <tr>\n      <th>female</th>\n      <td>35.0</td>\n      <td>53.1000</td>\n    </tr>\n    <tr>\n      <th>male</th>\n      <td>54.0</td>\n      <td>51.8625</td>\n    </tr>\n    <tr>\n      <th>female</th>\n      <td>58.0</td>\n      <td>26.5500</td>\n    </tr>\n    <tr>\n      <th>male</th>\n      <td>28.0</td>\n      <td>35.5000</td>\n    </tr>\n    <tr>\n      <th>...</th>\n      <th>...</th>\n      <td>...</td>\n      <td>...</td>\n    </tr>\n    <tr>\n      <th rowspan=\"5\" valign=\"top\">2</th>\n      <th>female</th>\n      <td>27.0</td>\n      <td>13.8583</td>\n    </tr>\n    <tr>\n      <th>female</th>\n      <td>28.0</td>\n      <td>24.0000</td>\n    </tr>\n    <tr>\n      <th>female</th>\n      <td>25.0</td>\n      <td>26.0000</td>\n    </tr>\n    <tr>\n      <th>male</th>\n      <td>28.0</td>\n      <td>10.5000</td>\n    </tr>\n    <tr>\n      <th>male</th>\n      <td>27.0</td>\n      <td>13.0000</td>\n    </tr>\n  </tbody>\n</table>\n<p>400 rows × 2 columns</p>\n</div>"
     },
     "execution_count": 95,
     "metadata": {},
     "output_type": "execute_result"
    }
   ],
   "source": [
    "titanic_v1.loc[[1,2], ['age', 'fare']]"
   ],
   "metadata": {
    "collapsed": false,
    "ExecuteTime": {
     "end_time": "2024-03-05T16:15:13.757307200Z",
     "start_time": "2024-03-05T16:15:13.218028500Z"
    }
   },
   "id": "430192522a92fe38",
   "execution_count": 95
  },
  {
   "cell_type": "markdown",
   "source": [
    "# String Operations Intro/ Refresher\n"
   ],
   "metadata": {
    "collapsed": false
   },
   "id": "1e0c0133c544d1b6"
  },
  {
   "cell_type": "code",
   "outputs": [],
   "source": [
    "summer = pd.read_csv('summer.csv')"
   ],
   "metadata": {
    "collapsed": false,
    "ExecuteTime": {
     "end_time": "2024-03-05T16:15:14.075777Z",
     "start_time": "2024-03-05T16:15:13.635709700Z"
    }
   },
   "id": "34d7de13d20ac814",
   "execution_count": 96
  },
  {
   "cell_type": "code",
   "outputs": [
    {
     "data": {
      "text/plain": "   Year    City     Sport Discipline             Athlete Country Gender  \\\n0  1896  Athens  Aquatics   Swimming       HAJOS, Alfred     HUN    Men   \n1  1896  Athens  Aquatics   Swimming    HERSCHMANN, Otto     AUT    Men   \n2  1896  Athens  Aquatics   Swimming   DRIVAS, Dimitrios     GRE    Men   \n3  1896  Athens  Aquatics   Swimming  MALOKINIS, Ioannis     GRE    Men   \n4  1896  Athens  Aquatics   Swimming  CHASAPIS, Spiridon     GRE    Men   \n\n                        Event   Medal  \n0              100M Freestyle    Gold  \n1              100M Freestyle  Silver  \n2  100M Freestyle For Sailors  Bronze  \n3  100M Freestyle For Sailors    Gold  \n4  100M Freestyle For Sailors  Silver  ",
      "text/html": "<div>\n<style scoped>\n    .dataframe tbody tr th:only-of-type {\n        vertical-align: middle;\n    }\n\n    .dataframe tbody tr th {\n        vertical-align: top;\n    }\n\n    .dataframe thead th {\n        text-align: right;\n    }\n</style>\n<table border=\"1\" class=\"dataframe\">\n  <thead>\n    <tr style=\"text-align: right;\">\n      <th></th>\n      <th>Year</th>\n      <th>City</th>\n      <th>Sport</th>\n      <th>Discipline</th>\n      <th>Athlete</th>\n      <th>Country</th>\n      <th>Gender</th>\n      <th>Event</th>\n      <th>Medal</th>\n    </tr>\n  </thead>\n  <tbody>\n    <tr>\n      <th>0</th>\n      <td>1896</td>\n      <td>Athens</td>\n      <td>Aquatics</td>\n      <td>Swimming</td>\n      <td>HAJOS, Alfred</td>\n      <td>HUN</td>\n      <td>Men</td>\n      <td>100M Freestyle</td>\n      <td>Gold</td>\n    </tr>\n    <tr>\n      <th>1</th>\n      <td>1896</td>\n      <td>Athens</td>\n      <td>Aquatics</td>\n      <td>Swimming</td>\n      <td>HERSCHMANN, Otto</td>\n      <td>AUT</td>\n      <td>Men</td>\n      <td>100M Freestyle</td>\n      <td>Silver</td>\n    </tr>\n    <tr>\n      <th>2</th>\n      <td>1896</td>\n      <td>Athens</td>\n      <td>Aquatics</td>\n      <td>Swimming</td>\n      <td>DRIVAS, Dimitrios</td>\n      <td>GRE</td>\n      <td>Men</td>\n      <td>100M Freestyle For Sailors</td>\n      <td>Bronze</td>\n    </tr>\n    <tr>\n      <th>3</th>\n      <td>1896</td>\n      <td>Athens</td>\n      <td>Aquatics</td>\n      <td>Swimming</td>\n      <td>MALOKINIS, Ioannis</td>\n      <td>GRE</td>\n      <td>Men</td>\n      <td>100M Freestyle For Sailors</td>\n      <td>Gold</td>\n    </tr>\n    <tr>\n      <th>4</th>\n      <td>1896</td>\n      <td>Athens</td>\n      <td>Aquatics</td>\n      <td>Swimming</td>\n      <td>CHASAPIS, Spiridon</td>\n      <td>GRE</td>\n      <td>Men</td>\n      <td>100M Freestyle For Sailors</td>\n      <td>Silver</td>\n    </tr>\n  </tbody>\n</table>\n</div>"
     },
     "execution_count": 97,
     "metadata": {},
     "output_type": "execute_result"
    }
   ],
   "source": [
    "summer.head()"
   ],
   "metadata": {
    "collapsed": false,
    "ExecuteTime": {
     "end_time": "2024-03-05T16:15:14.490145700Z",
     "start_time": "2024-03-05T16:15:14.050308700Z"
    }
   },
   "id": "950d24613f49e554",
   "execution_count": 97
  },
  {
   "cell_type": "code",
   "outputs": [
    {
     "data": {
      "text/plain": "0            HAJOS, Alfred\n1         HERSCHMANN, Otto\n2        DRIVAS, Dimitrios\n3       MALOKINIS, Ioannis\n4       CHASAPIS, Spiridon\n5    CHOROPHAS, Efstathios\n6            HAJOS, Alfred\n7         ANDREOU, Joannis\n8    CHOROPHAS, Efstathios\n9            NEUMANN, Paul\nName: Athlete, dtype: object"
     },
     "execution_count": 98,
     "metadata": {},
     "output_type": "execute_result"
    }
   ],
   "source": [
    "name = summer.loc[:9, 'Athlete'].copy()\n",
    "name"
   ],
   "metadata": {
    "collapsed": false,
    "ExecuteTime": {
     "end_time": "2024-03-05T16:15:14.835146Z",
     "start_time": "2024-03-05T16:15:14.358779900Z"
    }
   },
   "id": "e20dfa71e5e28e3f",
   "execution_count": 98
  },
  {
   "cell_type": "markdown",
   "source": [
    "## Add str before the method name, because we need use method from string"
   ],
   "metadata": {
    "collapsed": false
   },
   "id": "c70120f66093ff19"
  },
  {
   "cell_type": "code",
   "outputs": [
    {
     "data": {
      "text/plain": "0            hajos, alfred\n1         herschmann, otto\n2        drivas, dimitrios\n3       malokinis, ioannis\n4       chasapis, spiridon\n5    chorophas, efstathios\n6            hajos, alfred\n7         andreou, joannis\n8    chorophas, efstathios\n9            neumann, paul\nName: Athlete, dtype: object"
     },
     "execution_count": 99,
     "metadata": {},
     "output_type": "execute_result"
    }
   ],
   "source": [
    "name.str.lower()"
   ],
   "metadata": {
    "collapsed": false,
    "ExecuteTime": {
     "end_time": "2024-03-05T16:15:15.106227500Z",
     "start_time": "2024-03-05T16:15:14.836147900Z"
    }
   },
   "id": "7c5ec37ae5d1a1ed",
   "execution_count": 99
  },
  {
   "cell_type": "markdown",
   "source": [
    "## we can use method from string to replace some values\n"
   ],
   "metadata": {
    "collapsed": false
   },
   "id": "23ba96e7e4fbe8a"
  },
  {
   "cell_type": "code",
   "outputs": [
    {
     "data": {
      "text/plain": "0               GIgel TEST\n1         HERSCHMANN, Otto\n2        DRIVAS, Dimitrios\n3       MALOKINIS, Ioannis\n4       CHASAPIS, Spiridon\n5    CHOROPHAS, Efstathios\n6               GIgel TEST\n7         ANDREOU, Joannis\n8    CHOROPHAS, Efstathios\n9            NEUMANN, Paul\nName: Athlete, dtype: object"
     },
     "execution_count": 100,
     "metadata": {},
     "output_type": "execute_result"
    }
   ],
   "source": [
    "name.str.replace('HAJOS, Alfred', 'GIgel TEST')"
   ],
   "metadata": {
    "collapsed": false,
    "ExecuteTime": {
     "end_time": "2024-03-05T16:15:15.304234900Z",
     "start_time": "2024-03-05T16:15:15.030403300Z"
    }
   },
   "id": "f7c3d8f0aaef045e",
   "execution_count": 100
  },
  {
   "cell_type": "markdown",
   "source": [
    "## we can use method from string to split some values\n",
    "## n=2 means that the string is split into 2 parts\n",
    "## expand=True means that the split elements are expanded into separate columns"
   ],
   "metadata": {
    "collapsed": false
   },
   "id": "c5e8d5a48ae8871e"
  },
  {
   "cell_type": "code",
   "outputs": [
    {
     "data": {
      "text/plain": "             0           1\n0       HAJOS,      Alfred\n1  HERSCHMANN,        Otto\n2      DRIVAS,   Dimitrios\n3   MALOKINIS,     Ioannis\n4    CHASAPIS,    Spiridon\n5   CHOROPHAS,  Efstathios\n6       HAJOS,      Alfred\n7     ANDREOU,     Joannis\n8   CHOROPHAS,  Efstathios\n9     NEUMANN,        Paul",
      "text/html": "<div>\n<style scoped>\n    .dataframe tbody tr th:only-of-type {\n        vertical-align: middle;\n    }\n\n    .dataframe tbody tr th {\n        vertical-align: top;\n    }\n\n    .dataframe thead th {\n        text-align: right;\n    }\n</style>\n<table border=\"1\" class=\"dataframe\">\n  <thead>\n    <tr style=\"text-align: right;\">\n      <th></th>\n      <th>0</th>\n      <th>1</th>\n    </tr>\n  </thead>\n  <tbody>\n    <tr>\n      <th>0</th>\n      <td>HAJOS,</td>\n      <td>Alfred</td>\n    </tr>\n    <tr>\n      <th>1</th>\n      <td>HERSCHMANN,</td>\n      <td>Otto</td>\n    </tr>\n    <tr>\n      <th>2</th>\n      <td>DRIVAS,</td>\n      <td>Dimitrios</td>\n    </tr>\n    <tr>\n      <th>3</th>\n      <td>MALOKINIS,</td>\n      <td>Ioannis</td>\n    </tr>\n    <tr>\n      <th>4</th>\n      <td>CHASAPIS,</td>\n      <td>Spiridon</td>\n    </tr>\n    <tr>\n      <th>5</th>\n      <td>CHOROPHAS,</td>\n      <td>Efstathios</td>\n    </tr>\n    <tr>\n      <th>6</th>\n      <td>HAJOS,</td>\n      <td>Alfred</td>\n    </tr>\n    <tr>\n      <th>7</th>\n      <td>ANDREOU,</td>\n      <td>Joannis</td>\n    </tr>\n    <tr>\n      <th>8</th>\n      <td>CHOROPHAS,</td>\n      <td>Efstathios</td>\n    </tr>\n    <tr>\n      <th>9</th>\n      <td>NEUMANN,</td>\n      <td>Paul</td>\n    </tr>\n  </tbody>\n</table>\n</div>"
     },
     "execution_count": 101,
     "metadata": {},
     "output_type": "execute_result"
    }
   ],
   "source": [
    "name.str.split(\" \", n=2, expand=True)"
   ],
   "metadata": {
    "collapsed": false,
    "ExecuteTime": {
     "end_time": "2024-03-05T16:15:15.441329500Z",
     "start_time": "2024-03-05T16:15:15.304234900Z"
    }
   },
   "id": "534be176f2f88487",
   "execution_count": 101
  },
  {
   "cell_type": "code",
   "outputs": [],
   "source": [],
   "metadata": {
    "collapsed": false,
    "ExecuteTime": {
     "end_time": "2024-03-05T16:15:15.520337500Z",
     "start_time": "2024-03-05T16:15:15.440825800Z"
    }
   },
   "id": "362ad940b8944811",
   "execution_count": 101
  }
 ],
 "metadata": {
  "kernelspec": {
   "display_name": "Python 3",
   "language": "python",
   "name": "python3"
  },
  "language_info": {
   "codemirror_mode": {
    "name": "ipython",
    "version": 2
   },
   "file_extension": ".py",
   "mimetype": "text/x-python",
   "name": "python",
   "nbconvert_exporter": "python",
   "pygments_lexer": "ipython2",
   "version": "2.7.6"
  }
 },
 "nbformat": 4,
 "nbformat_minor": 5
}
