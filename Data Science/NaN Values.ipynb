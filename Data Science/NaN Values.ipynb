{
 "cells": [
  {
   "cell_type": "markdown",
   "source": [
    "#  Intro to NAN values\n",
    "Nan is a special value in python that is used to represent missing values."
   ],
   "metadata": {
    "collapsed": false
   },
   "id": "9a054a7187839641"
  },
  {
   "cell_type": "code",
   "outputs": [],
   "source": [
    "import numpy as np\n",
    "import pandas as pd"
   ],
   "metadata": {
    "collapsed": false,
    "ExecuteTime": {
     "end_time": "2024-03-14T18:50:41.514683600Z",
     "start_time": "2024-03-14T18:50:41.017873600Z"
    }
   },
   "id": "1644f3ecc2017813",
   "execution_count": 1
  },
  {
   "cell_type": "code",
   "outputs": [],
   "source": [
    "sales = pd.read_csv(\"sales.csv\", index_col=0)"
   ],
   "metadata": {
    "collapsed": false,
    "ExecuteTime": {
     "end_time": "2024-03-14T18:50:41.529583600Z",
     "start_time": "2024-03-14T18:50:41.515681700Z"
    }
   },
   "id": "bf219c5a9f98ae18",
   "execution_count": 2
  },
  {
   "cell_type": "code",
   "outputs": [
    {
     "data": {
      "text/plain": "        Mon Tue      Wed   Thu  Fri\nSteven   34  27       15   NaN   33\nMike     45   9       74  87.0   12\nAndi     17           54   8.0   29\nPaul     87  67  no data  45.0    7",
      "text/html": "<div>\n<style scoped>\n    .dataframe tbody tr th:only-of-type {\n        vertical-align: middle;\n    }\n\n    .dataframe tbody tr th {\n        vertical-align: top;\n    }\n\n    .dataframe thead th {\n        text-align: right;\n    }\n</style>\n<table border=\"1\" class=\"dataframe\">\n  <thead>\n    <tr style=\"text-align: right;\">\n      <th></th>\n      <th>Mon</th>\n      <th>Tue</th>\n      <th>Wed</th>\n      <th>Thu</th>\n      <th>Fri</th>\n    </tr>\n  </thead>\n  <tbody>\n    <tr>\n      <th>Steven</th>\n      <td>34</td>\n      <td>27</td>\n      <td>15</td>\n      <td>NaN</td>\n      <td>33</td>\n    </tr>\n    <tr>\n      <th>Mike</th>\n      <td>45</td>\n      <td>9</td>\n      <td>74</td>\n      <td>87.0</td>\n      <td>12</td>\n    </tr>\n    <tr>\n      <th>Andi</th>\n      <td>17</td>\n      <td></td>\n      <td>54</td>\n      <td>8.0</td>\n      <td>29</td>\n    </tr>\n    <tr>\n      <th>Paul</th>\n      <td>87</td>\n      <td>67</td>\n      <td>no data</td>\n      <td>45.0</td>\n      <td>7</td>\n    </tr>\n  </tbody>\n</table>\n</div>"
     },
     "execution_count": 3,
     "metadata": {},
     "output_type": "execute_result"
    }
   ],
   "source": [
    "sales"
   ],
   "metadata": {
    "collapsed": false,
    "ExecuteTime": {
     "end_time": "2024-03-14T18:50:41.875174300Z",
     "start_time": "2024-03-14T18:50:41.861814Z"
    }
   },
   "id": "8e7b77d471fd5b96",
   "execution_count": 3
  },
  {
   "cell_type": "markdown",
   "source": [
    " For Thu we have 3 value because NaN is not recognized\n",
    " Emty space is recognized in data for Tue we have 4 values ."
   ],
   "metadata": {
    "collapsed": false
   },
   "id": "401701288324ed50"
  },
  {
   "cell_type": "markdown",
   "source": [
    "## With info() method we can see the missing values"
   ],
   "metadata": {
    "collapsed": false
   },
   "id": "f394dcfa4319ada7"
  },
  {
   "cell_type": "code",
   "outputs": [
    {
     "name": "stdout",
     "output_type": "stream",
     "text": [
      "<class 'pandas.core.frame.DataFrame'>\n",
      "Index: 4 entries, Steven to Paul\n",
      "Data columns (total 5 columns):\n",
      " #   Column  Non-Null Count  Dtype  \n",
      "---  ------  --------------  -----  \n",
      " 0   Mon     4 non-null      int64  \n",
      " 1   Tue     4 non-null      object \n",
      " 2   Wed     4 non-null      object \n",
      " 3   Thu     3 non-null      float64\n",
      " 4   Fri     4 non-null      int64  \n",
      "dtypes: float64(1), int64(2), object(2)\n",
      "memory usage: 192.0+ bytes\n"
     ]
    }
   ],
   "source": [
    "sales.info()"
   ],
   "metadata": {
    "collapsed": false,
    "ExecuteTime": {
     "end_time": "2024-03-12T19:35:27.271053300Z",
     "start_time": "2024-03-12T19:35:27.249221Z"
    }
   },
   "id": "178cf2b7b54a3757",
   "execution_count": 4
  },
  {
   "cell_type": "markdown",
   "source": [
    "We can produc manually the NaN values"
   ],
   "metadata": {
    "collapsed": false
   },
   "id": "8495ad7330a77db0"
  },
  {
   "cell_type": "code",
   "outputs": [],
   "source": [
    "sales.iloc[1,1] = np.nan"
   ],
   "metadata": {
    "collapsed": false,
    "ExecuteTime": {
     "end_time": "2024-03-12T19:35:27.280056500Z",
     "start_time": "2024-03-12T19:35:27.268537600Z"
    }
   },
   "id": "e1746ec768521417",
   "execution_count": 5
  },
  {
   "cell_type": "code",
   "outputs": [
    {
     "data": {
      "text/plain": "        Mon  Tue      Wed   Thu  Fri\nSteven   34   27       15   NaN   33\nMike     45  NaN       74  87.0   12\nAndi     17            54   8.0   29\nPaul     87   67  no data  45.0    7",
      "text/html": "<div>\n<style scoped>\n    .dataframe tbody tr th:only-of-type {\n        vertical-align: middle;\n    }\n\n    .dataframe tbody tr th {\n        vertical-align: top;\n    }\n\n    .dataframe thead th {\n        text-align: right;\n    }\n</style>\n<table border=\"1\" class=\"dataframe\">\n  <thead>\n    <tr style=\"text-align: right;\">\n      <th></th>\n      <th>Mon</th>\n      <th>Tue</th>\n      <th>Wed</th>\n      <th>Thu</th>\n      <th>Fri</th>\n    </tr>\n  </thead>\n  <tbody>\n    <tr>\n      <th>Steven</th>\n      <td>34</td>\n      <td>27</td>\n      <td>15</td>\n      <td>NaN</td>\n      <td>33</td>\n    </tr>\n    <tr>\n      <th>Mike</th>\n      <td>45</td>\n      <td>NaN</td>\n      <td>74</td>\n      <td>87.0</td>\n      <td>12</td>\n    </tr>\n    <tr>\n      <th>Andi</th>\n      <td>17</td>\n      <td></td>\n      <td>54</td>\n      <td>8.0</td>\n      <td>29</td>\n    </tr>\n    <tr>\n      <th>Paul</th>\n      <td>87</td>\n      <td>67</td>\n      <td>no data</td>\n      <td>45.0</td>\n      <td>7</td>\n    </tr>\n  </tbody>\n</table>\n</div>"
     },
     "execution_count": 6,
     "metadata": {},
     "output_type": "execute_result"
    }
   ],
   "source": [
    "sales"
   ],
   "metadata": {
    "collapsed": false,
    "ExecuteTime": {
     "end_time": "2024-03-12T19:35:27.318872200Z",
     "start_time": "2024-03-12T19:35:27.274054100Z"
    }
   },
   "id": "e5550521e96dec66",
   "execution_count": 6
  },
  {
   "cell_type": "markdown",
   "source": [
    "OR"
   ],
   "metadata": {
    "collapsed": false
   },
   "id": "45464ec8535eb56b"
  },
  {
   "cell_type": "code",
   "outputs": [],
   "source": [
    "sales.iloc[1,1] = None"
   ],
   "metadata": {
    "collapsed": false,
    "ExecuteTime": {
     "end_time": "2024-03-12T19:35:27.319908200Z",
     "start_time": "2024-03-12T19:35:27.286229300Z"
    }
   },
   "id": "9184e2f500560861",
   "execution_count": 7
  },
  {
   "cell_type": "code",
   "outputs": [
    {
     "data": {
      "text/plain": "        Mon   Tue      Wed   Thu  Fri\nSteven   34    27       15   NaN   33\nMike     45  None       74  87.0   12\nAndi     17             54   8.0   29\nPaul     87    67  no data  45.0    7",
      "text/html": "<div>\n<style scoped>\n    .dataframe tbody tr th:only-of-type {\n        vertical-align: middle;\n    }\n\n    .dataframe tbody tr th {\n        vertical-align: top;\n    }\n\n    .dataframe thead th {\n        text-align: right;\n    }\n</style>\n<table border=\"1\" class=\"dataframe\">\n  <thead>\n    <tr style=\"text-align: right;\">\n      <th></th>\n      <th>Mon</th>\n      <th>Tue</th>\n      <th>Wed</th>\n      <th>Thu</th>\n      <th>Fri</th>\n    </tr>\n  </thead>\n  <tbody>\n    <tr>\n      <th>Steven</th>\n      <td>34</td>\n      <td>27</td>\n      <td>15</td>\n      <td>NaN</td>\n      <td>33</td>\n    </tr>\n    <tr>\n      <th>Mike</th>\n      <td>45</td>\n      <td>None</td>\n      <td>74</td>\n      <td>87.0</td>\n      <td>12</td>\n    </tr>\n    <tr>\n      <th>Andi</th>\n      <td>17</td>\n      <td></td>\n      <td>54</td>\n      <td>8.0</td>\n      <td>29</td>\n    </tr>\n    <tr>\n      <th>Paul</th>\n      <td>87</td>\n      <td>67</td>\n      <td>no data</td>\n      <td>45.0</td>\n      <td>7</td>\n    </tr>\n  </tbody>\n</table>\n</div>"
     },
     "execution_count": 8,
     "metadata": {},
     "output_type": "execute_result"
    }
   ],
   "source": [
    "sales"
   ],
   "metadata": {
    "collapsed": false,
    "ExecuteTime": {
     "end_time": "2024-03-12T19:35:27.347877Z",
     "start_time": "2024-03-12T19:35:27.294686700Z"
    }
   },
   "id": "3f893833508ef3f7",
   "execution_count": 8
  },
  {
   "cell_type": "markdown",
   "source": [
    "#  We can use the isna() + sum() method to check for missing values"
   ],
   "metadata": {
    "collapsed": false
   },
   "id": "3e71fb0c0b80e841"
  },
  {
   "cell_type": "code",
   "outputs": [
    {
     "data": {
      "text/plain": "Mon    0\nTue    1\nWed    0\nThu    1\nFri    0\ndtype: int64"
     },
     "execution_count": 9,
     "metadata": {},
     "output_type": "execute_result"
    }
   ],
   "source": [
    "sales.isna().sum(axis=0)"
   ],
   "metadata": {
    "collapsed": false,
    "ExecuteTime": {
     "end_time": "2024-03-12T19:35:57.974700100Z",
     "start_time": "2024-03-12T19:35:57.940279300Z"
    }
   },
   "id": "11b8c91a3badfd2d",
   "execution_count": 9
  },
  {
   "cell_type": "markdown",
   "source": [
    "# When we select rows with missing values, can use loc method"
   ],
   "metadata": {
    "collapsed": false
   },
   "id": "d473bbd7c6b48c65"
  },
  {
   "cell_type": "code",
   "outputs": [],
   "source": [
    "sales.loc[sales.isna().any(axis=1)]"
   ],
   "metadata": {
    "collapsed": false
   },
   "id": "24d64e12e1e8a320"
  },
  {
   "cell_type": "code",
   "outputs": [],
   "source": [],
   "metadata": {
    "collapsed": false
   },
   "id": "8b2f70c96dddeb89"
  },
  {
   "cell_type": "code",
   "outputs": [
    {
     "data": {
      "text/plain": "Steven      27\nMike      None\nAndi          \nPaul        67\nName: Tue, dtype: object"
     },
     "execution_count": 11,
     "metadata": {},
     "output_type": "execute_result"
    }
   ],
   "source": [
    "sales.Tue.replace(to_replace=\"Missing Data\", value=np.nan)"
   ],
   "metadata": {
    "collapsed": false,
    "ExecuteTime": {
     "end_time": "2024-03-12T19:55:38.857228100Z",
     "start_time": "2024-03-12T19:55:38.796551200Z"
    }
   },
   "id": "590dc9ceacc7cb96",
   "execution_count": 11
  },
  {
   "cell_type": "markdown",
   "source": [
    "Shape method is used to check the number of rows and columns. First is rows and second is columns"
   ],
   "metadata": {
    "collapsed": false
   },
   "id": "d1744f4fcccc54df"
  },
  {
   "cell_type": "code",
   "outputs": [
    {
     "data": {
      "text/plain": "(4, 5)"
     },
     "execution_count": 13,
     "metadata": {},
     "output_type": "execute_result"
    }
   ],
   "source": [
    "sales.shape"
   ],
   "metadata": {
    "collapsed": false,
    "ExecuteTime": {
     "end_time": "2024-03-12T20:14:21.990027100Z",
     "start_time": "2024-03-12T20:14:21.974722700Z"
    }
   },
   "id": "f9b885dc7ee4ab8e",
   "execution_count": 13
  },
  {
   "cell_type": "markdown",
   "source": [
    "## Dropna() method is used to drop the missing values, this method deletes the rows with missing values"
   ],
   "metadata": {
    "collapsed": false
   },
   "id": "614563a1fe86eeb"
  },
  {
   "cell_type": "code",
   "outputs": [
    {
     "data": {
      "text/plain": "(3,)"
     },
     "execution_count": 16,
     "metadata": {},
     "output_type": "execute_result"
    }
   ],
   "source": [
    "sales.Tue.dropna().shape"
   ],
   "metadata": {
    "collapsed": false,
    "ExecuteTime": {
     "end_time": "2024-03-12T20:22:42.402440100Z",
     "start_time": "2024-03-12T20:22:42.384909Z"
    }
   },
   "id": "7cdc00d21c26424a",
   "execution_count": 16
  },
  {
   "cell_type": "markdown",
   "source": [
    "# Method for finding the missing values !!!!"
   ],
   "metadata": {
    "collapsed": false
   },
   "id": "e58317b68553d668"
  },
  {
   "cell_type": "code",
   "outputs": [
    {
     "data": {
      "text/plain": "        Mon   Tue Wed   Thu  Fri\nSteven   34    27  15   NaN   33\nMike     45  None  74  87.0   12",
      "text/html": "<div>\n<style scoped>\n    .dataframe tbody tr th:only-of-type {\n        vertical-align: middle;\n    }\n\n    .dataframe tbody tr th {\n        vertical-align: top;\n    }\n\n    .dataframe thead th {\n        text-align: right;\n    }\n</style>\n<table border=\"1\" class=\"dataframe\">\n  <thead>\n    <tr style=\"text-align: right;\">\n      <th></th>\n      <th>Mon</th>\n      <th>Tue</th>\n      <th>Wed</th>\n      <th>Thu</th>\n      <th>Fri</th>\n    </tr>\n  </thead>\n  <tbody>\n    <tr>\n      <th>Steven</th>\n      <td>34</td>\n      <td>27</td>\n      <td>15</td>\n      <td>NaN</td>\n      <td>33</td>\n    </tr>\n    <tr>\n      <th>Mike</th>\n      <td>45</td>\n      <td>None</td>\n      <td>74</td>\n      <td>87.0</td>\n      <td>12</td>\n    </tr>\n  </tbody>\n</table>\n</div>"
     },
     "execution_count": 19,
     "metadata": {},
     "output_type": "execute_result"
    }
   ],
   "source": [
    "sales[sales.isna().any(axis=1)]"
   ],
   "metadata": {
    "collapsed": false,
    "ExecuteTime": {
     "end_time": "2024-03-12T20:28:59.348313Z",
     "start_time": "2024-03-12T20:28:59.333739500Z"
    }
   },
   "id": "411f34eeb6d7847a",
   "execution_count": 19
  },
  {
   "cell_type": "markdown",
   "source": [
    "# Fillna() method is used to fill the missing values"
   ],
   "metadata": {
    "collapsed": false
   },
   "id": "fca17ebafb40a278"
  },
  {
   "cell_type": "code",
   "outputs": [
    {
     "data": {
      "text/plain": "        Mon Tue      Wed   Thu  Fri\nSteven   34  27       15   0.0   33\nMike     45   0       74  87.0   12\nAndi     17           54   8.0   29\nPaul     87  67  no data  45.0    7",
      "text/html": "<div>\n<style scoped>\n    .dataframe tbody tr th:only-of-type {\n        vertical-align: middle;\n    }\n\n    .dataframe tbody tr th {\n        vertical-align: top;\n    }\n\n    .dataframe thead th {\n        text-align: right;\n    }\n</style>\n<table border=\"1\" class=\"dataframe\">\n  <thead>\n    <tr style=\"text-align: right;\">\n      <th></th>\n      <th>Mon</th>\n      <th>Tue</th>\n      <th>Wed</th>\n      <th>Thu</th>\n      <th>Fri</th>\n    </tr>\n  </thead>\n  <tbody>\n    <tr>\n      <th>Steven</th>\n      <td>34</td>\n      <td>27</td>\n      <td>15</td>\n      <td>0.0</td>\n      <td>33</td>\n    </tr>\n    <tr>\n      <th>Mike</th>\n      <td>45</td>\n      <td>0</td>\n      <td>74</td>\n      <td>87.0</td>\n      <td>12</td>\n    </tr>\n    <tr>\n      <th>Andi</th>\n      <td>17</td>\n      <td></td>\n      <td>54</td>\n      <td>8.0</td>\n      <td>29</td>\n    </tr>\n    <tr>\n      <th>Paul</th>\n      <td>87</td>\n      <td>67</td>\n      <td>no data</td>\n      <td>45.0</td>\n      <td>7</td>\n    </tr>\n  </tbody>\n</table>\n</div>"
     },
     "execution_count": 20,
     "metadata": {},
     "output_type": "execute_result"
    }
   ],
   "source": [
    "sales.fillna(0)"
   ],
   "metadata": {
    "collapsed": false,
    "ExecuteTime": {
     "end_time": "2024-03-12T20:37:35.410929900Z",
     "start_time": "2024-03-12T20:37:35.374160100Z"
    }
   },
   "id": "fe8c1b98865363eb",
   "execution_count": 20
  },
  {
   "cell_type": "markdown",
   "source": [
    "# We can change Dtype in a Pythonic type\n",
    "Some time Object type is not recognized by python. "
   ],
   "metadata": {
    "collapsed": false
   },
   "id": "c20a29d42e8d0477"
  },
  {
   "cell_type": "code",
   "outputs": [
    {
     "name": "stdout",
     "output_type": "stream",
     "text": [
      "<class 'pandas.core.frame.DataFrame'>\n",
      "Index: 4 entries, Steven to Paul\n",
      "Data columns (total 5 columns):\n",
      " #   Column  Non-Null Count  Dtype  \n",
      "---  ------  --------------  -----  \n",
      " 0   Mon     4 non-null      int64  \n",
      " 1   Tue     4 non-null      object \n",
      " 2   Wed     4 non-null      object \n",
      " 3   Thu     3 non-null      float64\n",
      " 4   Fri     4 non-null      int64  \n",
      "dtypes: float64(1), int64(2), object(2)\n",
      "memory usage: 192.0+ bytes\n"
     ]
    }
   ],
   "source": [
    "sales.info()"
   ],
   "metadata": {
    "collapsed": false,
    "ExecuteTime": {
     "end_time": "2024-03-14T18:51:03.954251Z",
     "start_time": "2024-03-14T18:51:03.922861Z"
    }
   },
   "id": "dc260c20e4bdf960",
   "execution_count": 6
  },
  {
   "cell_type": "markdown",
   "source": [
    "We can use the convert_dtypes() method to convert the Dtype to pythonic type"
   ],
   "metadata": {
    "collapsed": false
   },
   "id": "fbb8ddbd2d8f0e5f"
  },
  {
   "cell_type": "code",
   "outputs": [],
   "source": [
    "sales= sales.convert_dtypes()"
   ],
   "metadata": {
    "collapsed": false,
    "ExecuteTime": {
     "end_time": "2024-03-14T18:52:01.838198100Z",
     "start_time": "2024-03-14T18:52:01.800677Z"
    }
   },
   "id": "21d498722486b044",
   "execution_count": 7
  },
  {
   "cell_type": "code",
   "outputs": [
    {
     "name": "stdout",
     "output_type": "stream",
     "text": [
      "<class 'pandas.core.frame.DataFrame'>\n",
      "Index: 4 entries, Steven to Paul\n",
      "Data columns (total 5 columns):\n",
      " #   Column  Non-Null Count  Dtype \n",
      "---  ------  --------------  ----- \n",
      " 0   Mon     4 non-null      Int64 \n",
      " 1   Tue     4 non-null      string\n",
      " 2   Wed     4 non-null      string\n",
      " 3   Thu     3 non-null      Int64 \n",
      " 4   Fri     4 non-null      Int64 \n",
      "dtypes: Int64(3), string(2)\n",
      "memory usage: 204.0+ bytes\n"
     ]
    }
   ],
   "source": [
    "sales.info()"
   ],
   "metadata": {
    "collapsed": false,
    "ExecuteTime": {
     "end_time": "2024-03-14T18:52:04.500553200Z",
     "start_time": "2024-03-14T18:52:04.480590500Z"
    }
   },
   "id": "ca420bf861657db3",
   "execution_count": 8
  }
 ],
 "metadata": {
  "kernelspec": {
   "display_name": "Python 3",
   "language": "python",
   "name": "python3"
  },
  "language_info": {
   "codemirror_mode": {
    "name": "ipython",
    "version": 2
   },
   "file_extension": ".py",
   "mimetype": "text/x-python",
   "name": "python",
   "nbconvert_exporter": "python",
   "pygments_lexer": "ipython2",
   "version": "2.7.6"
  }
 },
 "nbformat": 4,
 "nbformat_minor": 5
}
