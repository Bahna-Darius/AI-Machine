{
 "cells": [
  {
   "cell_type": "markdown",
   "metadata": {},
   "source": [
    "# Appendix: Statistics (Part 1)"
   ]
  },
  {
   "cell_type": "markdown",
   "metadata": {},
   "source": [
    "## Descriptive Statistics"
   ]
  },
  {
   "cell_type": "markdown",
   "metadata": {},
   "source": [
    "### Population vs. Sample (Price Returns for S&P 500 Companies in 2017)"
   ]
  },
  {
   "cell_type": "markdown",
   "metadata": {},
   "source": [
    "The __S&P 500__, or just the S&P, is a __stock market index__ that measures the stock performance of __500 large companies__ listed on stock exchanges in the United States. It is one of the most commonly followed equity indices, and many consider it to be one of the best representations of the U.S. stock market. <br>\n",
    "The S&P 500 is a __capitalization-weighted index__ and the performance of the __10 largest companies__ in the index account for __21.8% of the performance__ of the index. "
   ]
  },
  {
   "cell_type": "markdown",
   "metadata": {},
   "source": [
    "__What is the equally weighted return in 2017?__"
   ]
  },
  {
   "cell_type": "code",
   "execution_count": 1,
   "metadata": {
    "ExecuteTime": {
     "end_time": "2024-05-08T17:37:10.429356400Z",
     "start_time": "2024-05-08T17:37:10.300421500Z"
    }
   },
   "outputs": [],
   "source": [
    "import numpy as np\n",
    "np.set_printoptions(precision=2, suppress= True)"
   ]
  },
  {
   "cell_type": "markdown",
   "metadata": {},
   "source": [
    "__Population: 2017 Price Return for all 500 Companies__ "
   ]
  },
  {
   "cell_type": "code",
   "execution_count": 2,
   "metadata": {
    "ExecuteTime": {
     "end_time": "2024-05-08T17:37:12.951893Z",
     "start_time": "2024-05-08T17:37:12.860105500Z"
    }
   },
   "outputs": [],
   "source": [
    "pop = np.loadtxt(\"../Data/SP500_pop.csv\", delimiter = \",\", usecols = 1)"
   ]
  },
  {
   "cell_type": "code",
   "execution_count": 227,
   "metadata": {
    "scrolled": true,
    "ExecuteTime": {
     "end_time": "2024-04-30T09:25:58.193527100Z",
     "start_time": "2024-04-30T09:25:58.038522800Z"
    }
   },
   "outputs": [
    {
     "data": {
      "text/plain": "array([ 0.47,  0.11, -0.41,  0.46,  0.54,  0.17,  0.66,  0.49,  0.31,\n        0.7 ,  0.23, -0.12,  0.14,  0.11,  0.42,  0.12,  0.17, -0.07,\n        0.26, -0.22, -0.09, -0.04,  0.09,  0.22, -0.02,  0.49,  1.31,\n       -0.17,  0.41,  0.24, -0.02,  0.58,  0.11, -0.09,  0.49,  0.41,\n        0.19,  0.53,  0.35,  0.56,  1.43,  0.6 ,  0.57,  0.2 ,  0.29,\n       -0.33,  0.14,  0.31,  0.5 ,  0.18,  0.47,  0.16,  0.75,  0.01,\n        0.45,  0.64,  0.26,  0.34, -0.1 ,  0.89,  0.34,  0.46,  0.06,\n        0.6 ,  0.29,  0.09,  0.53, -0.51,  0.12,  0.14,  0.19,  0.35,\n        0.01,  0.05,  0.37,  0.22,  0.15,  0.3 ,  0.03,  0.25, -0.05,\n       -0.15,  0.7 ,  0.11,  0.69,  0.38, -0.07,  0.28,  0.27,  0.66,\n        0.33,  0.36, -0.1 ,  0.42,  0.35,  0.18,  0.14,  0.22,  0.17,\n        0.52, -0.01,  0.15,  0.24,  0.27,  0.16,  0.27, -0.23,  0.29,\n        0.14,  0.79,  0.15,  0.14,  0.22,  0.25,  0.09,  0.16,  0.09,\n       -0.2 ,  0.46,  0.56,  0.49,  0.27,  0.53,  0.35, -0.3 ,  0.27,\n        0.24, -0.08,  0.06,  0.13,  0.06,  0.14,  0.24,  0.52,  0.07,\n        0.26,  0.07,  0.87,  0.19,  0.03, -0.18, -0.21, -0.18,  0.16,\n        0.39,  0.35,  0.02,  0.32,  0.11,  0.08,  0.13, -0.09,  0.6 ,\n        0.33,  0.27,  0.14,  0.15, -0.  , -0.12,  0.66,  0.23,  0.25,\n        0.07,  0.27, -0.01,  0.14,  0.04,  0.43,  0.18,  0.11, -0.06,\n        0.2 ,  0.11,  0.22,  0.06,  0.13,  0.03,  0.25,  0.16,  0.53,\n        0.28,  0.44,  0.34, -0.01, -0.09,  0.24,  0.23,  0.12,  0.29,\n       -0.12,  0.36,  0.67, -0.06, -0.07, -0.12,  0.45,  0.35,  0.18,\n       -0.45,  0.  , -0.04,  0.23,  0.32,  0.18,  0.36,  0.33, -0.01,\n        0.44,  0.52,  0.23,  0.06,  0.02, -0.1 ,  0.17,  0.1 , -0.03,\n        0.19, -0.12,  0.41, -0.24,  0.56,  0.18,  0.28,  0.43, -0.13,\n        0.07,  0.32, -0.16,  0.07,  0.42,  0.14,  0.05, -0.08,  0.05,\n        0.1 ,  0.22, -0.08,  0.25,  0.33,  0.47,  0.3 ,  0.71, -0.06,\n        0.28,  0.27,  0.38,  0.09, -0.14,  1.17,  0.29,  0.19,  0.16,\n        0.73,  0.22,  0.36,  0.2 ,  0.18, -0.07,  0.16,  0.14,  0.32,\n        0.21,  0.01,  0.24, -0.01, -0.08,  0.1 ,  0.14, -0.11, -0.28,\n        0.34,  0.06, -0.13, -0.  ,  0.11, -0.2 ,  0.1 ,  0.24,  0.07,\n       -0.09,  0.26, -0.02,  0.5 ,  0.24,  0.38,  0.32,  0.33,  0.15,\n        0.28,  0.16,  0.12,  0.31,  0.74,  0.31,  0.49,  0.29, -0.3 ,\n        0.47,  0.03, -0.07,  0.64,  0.39,  0.41,  0.37,  0.11,  0.57,\n       -0.03,  0.13,  0.05,  0.16,  0.38,  0.09,  0.37, -0.  ,  0.2 ,\n        0.32,  0.43,  0.06, -0.13,  0.31, -0.04, -0.02,  0.24,  0.61,\n        0.38,  0.09,  0.09,  0.48,  0.88,  0.36,  0.11, -0.23,  0.25,\n        0.14,  0.31,  0.1 ,  0.55,  0.16,  0.23,  3.87, -0.13,  0.32,\n       -0.04,  1.32,  0.34,  0.57,  0.12,  0.07,  0.81, -0.31,  0.41,\n        0.41, -0.01, -0.07, -0.14,  0.23, -0.14,  0.03,  0.12, -0.03,\n        0.11,  0.17,  0.15,  0.12,  0.22,  0.09,  0.59,  0.43,  0.81,\n        0.42,  0.4 ,  0.22,  0.15,  0.23,  0.26,  0.09,  0.23, -0.09,\n        0.05,  0.1 , -0.06,  0.17,  0.52,  0.12, -0.04,  0.87, -0.02,\n        0.26,  0.45,  0.02,  0.  ,  0.02,  0.2 ,  0.14,  0.29,  0.15,\n        0.36,  0.46,  0.38,  0.41,  0.22,  0.19,  0.32,  0.58,  0.03,\n        0.3 ,  0.09,  0.53,  0.36, -0.03, -0.2 , -0.06,  0.02,  0.45,\n       -0.02, -0.03,  0.58,  0.06,  0.18,  0.26,  0.1 ,  0.49,  0.48,\n        0.27,  0.06,  0.29,  0.17,  0.1 , -0.09, -0.16,  0.1 ,  0.37,\n        0.54, -0.1 ,  0.34,  0.02,  0.35,  0.1 ,  0.26, -0.26,  0.39,\n        0.11, -0.01,  0.31,  1.23,  0.47,  0.43,  0.17, -0.47, -0.5 ,\n       -0.08,  0.06,  0.07, -0.12,  0.38,  0.25,  0.29,  0.04,  0.63,\n        0.04,  0.16,  0.46,  0.41,  0.39, -0.12,  0.35,  0.03, -0.07,\n        0.18,  0.5 ,  1.03, -0.04, -0.01, -0.02,  0.44, -0.12,  0.47,\n        0.17,  0.13, -0.05,  0.1 , -0.07,  0.23,  0.22, -0.02,  0.43,\n        0.25, -0.12,  0.17,  0.95, -0.1 ,  0.18,  0.12, -0.07,  0.14,\n        0.27,  0.38,  0.29,  0.18,  0.35])"
     },
     "execution_count": 227,
     "metadata": {},
     "output_type": "execute_result"
    }
   ],
   "source": [
    "pop"
   ]
  },
  {
   "cell_type": "code",
   "execution_count": 228,
   "metadata": {
    "scrolled": true,
    "ExecuteTime": {
     "end_time": "2024-04-30T09:25:58.195527100Z",
     "start_time": "2024-04-30T09:25:58.051653100Z"
    }
   },
   "outputs": [],
   "source": [
    "pop = pop * 100"
   ]
  },
  {
   "cell_type": "code",
   "execution_count": 229,
   "metadata": {
    "ExecuteTime": {
     "end_time": "2024-04-30T09:25:58.197493700Z",
     "start_time": "2024-04-30T09:25:58.056660800Z"
    }
   },
   "outputs": [
    {
     "data": {
      "text/plain": "500"
     },
     "execution_count": 229,
     "metadata": {},
     "output_type": "execute_result"
    }
   ],
   "source": [
    "pop.size"
   ]
  },
  {
   "cell_type": "markdown",
   "metadata": {},
   "source": [
    "__Sample: 2017 Price Return for 50 Companies (randomly selected)__ "
   ]
  },
  {
   "cell_type": "code",
   "execution_count": 3,
   "metadata": {
    "ExecuteTime": {
     "end_time": "2024-05-08T17:37:17.903269800Z",
     "start_time": "2024-05-08T17:37:17.802525700Z"
    }
   },
   "outputs": [],
   "source": [
    "sample = np.loadtxt(\"../Data/sample.csv\", delimiter = \",\", usecols = 1)"
   ]
  },
  {
   "cell_type": "code",
   "execution_count": 231,
   "metadata": {
    "ExecuteTime": {
     "end_time": "2024-04-30T09:25:58.200494Z",
     "start_time": "2024-04-30T09:25:58.067047100Z"
    }
   },
   "outputs": [],
   "source": [
    "sample = sample * 100"
   ]
  },
  {
   "cell_type": "code",
   "execution_count": 232,
   "metadata": {
    "ExecuteTime": {
     "end_time": "2024-04-30T09:25:58.215493700Z",
     "start_time": "2024-04-30T09:25:58.072115900Z"
    }
   },
   "outputs": [
    {
     "data": {
      "text/plain": "array([ 41.58,  15.94,  48.01,  57.52,  -3.45,  13.84,  17.43,  37.18,\n        34.25,   6.7 ,   9.82,  -1.15,  49.12,  10.66,  94.88, -12.2 ,\n         4.72,  -7.34,  29.24,  70.64,  42.26,  38.17, -12.32,  24.01,\n        19.24,  25.21,  -0.22,  89.43,  -9.65,  20.29,   9.16,  37.54,\n        10.4 ,  18.94, -12.75,  14.83,  24.39,  23.06,  -9.35, 132.3 ,\n        11.51,  70.22,  35.58,  -0.84,  50.27,  26.26,  12.45,  -9.33,\n        -2.46,  69.92])"
     },
     "execution_count": 232,
     "metadata": {},
     "output_type": "execute_result"
    }
   ],
   "source": [
    "sample"
   ]
  },
  {
   "cell_type": "code",
   "execution_count": 233,
   "metadata": {
    "ExecuteTime": {
     "end_time": "2024-04-30T09:25:58.271493300Z",
     "start_time": "2024-04-30T09:25:58.080104500Z"
    }
   },
   "outputs": [
    {
     "data": {
      "text/plain": "50"
     },
     "execution_count": 233,
     "metadata": {},
     "output_type": "execute_result"
    }
   ],
   "source": [
    "sample.size"
   ]
  },
  {
   "cell_type": "code",
   "execution_count": 234,
   "metadata": {
    "scrolled": true,
    "ExecuteTime": {
     "end_time": "2024-04-30T09:25:58.274494200Z",
     "start_time": "2024-04-30T09:25:58.086399300Z"
    }
   },
   "outputs": [
    {
     "name": "stdout",
     "output_type": "stream",
     "text": [
      "True\n",
      "True\n",
      "True\n",
      "True\n",
      "True\n",
      "True\n",
      "True\n",
      "True\n",
      "True\n",
      "True\n",
      "True\n",
      "True\n",
      "True\n",
      "True\n",
      "True\n",
      "True\n",
      "True\n",
      "True\n",
      "True\n",
      "True\n",
      "True\n",
      "True\n",
      "True\n",
      "True\n",
      "True\n",
      "True\n",
      "True\n",
      "True\n",
      "True\n",
      "True\n",
      "True\n",
      "True\n",
      "True\n",
      "True\n",
      "True\n",
      "True\n",
      "True\n",
      "True\n",
      "True\n",
      "True\n",
      "True\n",
      "True\n",
      "True\n",
      "True\n",
      "True\n",
      "True\n",
      "True\n",
      "True\n",
      "True\n",
      "True\n"
     ]
    }
   ],
   "source": [
    "for i in sample:\n",
    "    print(i in pop)"
   ]
  },
  {
   "cell_type": "code",
   "execution_count": 235,
   "metadata": {
    "ExecuteTime": {
     "end_time": "2024-04-30T09:25:58.282492800Z",
     "start_time": "2024-04-30T09:25:58.092312900Z"
    }
   },
   "outputs": [
    {
     "data": {
      "text/plain": "array([ True,  True,  True,  True,  True,  True,  True,  True,  True,\n        True,  True,  True,  True,  True,  True,  True,  True,  True,\n        True,  True,  True,  True,  True,  True,  True,  True,  True,\n        True,  True,  True,  True,  True,  True,  True,  True,  True,\n        True,  True,  True,  True,  True,  True,  True,  True,  True,\n        True,  True,  True,  True,  True])"
     },
     "execution_count": 235,
     "metadata": {},
     "output_type": "execute_result"
    }
   ],
   "source": [
    "np.isin(sample, pop)"
   ]
  },
  {
   "cell_type": "code",
   "execution_count": 235,
   "metadata": {
    "ExecuteTime": {
     "end_time": "2024-04-30T09:25:58.284492900Z",
     "start_time": "2024-04-30T09:25:58.098183600Z"
    }
   },
   "outputs": [],
   "source": []
  },
  {
   "cell_type": "markdown",
   "metadata": {},
   "source": [
    "### Visualizing Frequency Distributions with plt.hist()"
   ]
  },
  {
   "cell_type": "code",
   "execution_count": 236,
   "metadata": {
    "ExecuteTime": {
     "end_time": "2024-04-30T09:25:58.286493100Z",
     "start_time": "2024-04-30T09:25:58.102767500Z"
    }
   },
   "outputs": [],
   "source": [
    "import numpy as np\n",
    "import matplotlib.pyplot as plt\n",
    "np.set_printoptions(precision=2, suppress= True)"
   ]
  },
  {
   "cell_type": "code",
   "execution_count": 237,
   "metadata": {
    "scrolled": true,
    "ExecuteTime": {
     "end_time": "2024-04-30T09:25:58.288495700Z",
     "start_time": "2024-04-30T09:25:58.106775100Z"
    }
   },
   "outputs": [
    {
     "data": {
      "text/plain": "array([ 46.99,  11.44, -41.05,  46.11,  54.44,  17.43,  66.32,  48.58,\n        30.7 ,  70.22,  22.6 , -12.2 ,  14.02,  10.93,  41.64,  12.45,\n        16.85,  -6.8 ,  26.12, -22.11,  -8.77,  -3.83,   8.59,  21.79,\n        -2.46,  48.57, 131.13, -17.15,  41.27,  24.31,  -2.26,  58.41,\n        11.01,  -9.35,  49.12,  41.26,  18.94,  52.76,  35.  ,  55.96,\n       143.44,  59.57,  56.51,  20.15,  29.42, -33.48,  14.09,  30.65,\n        50.27,  17.51,  46.98,  15.83,  75.35,   0.71,  45.33,  63.57,\n        26.44,  34.06,  -9.93,  89.43,  33.57,  45.78,   5.74,  60.46,\n        29.3 ,   9.47,  52.87, -51.3 ,  12.34,  13.68,  18.53,  35.  ,\n         0.85,   4.86,  36.62,  21.62,  14.61,  29.54,   3.38,  25.21,\n        -4.75, -14.87,  69.92,  10.6 ,  68.62,  37.54,  -7.26,  27.94,\n        27.49,  65.82,  33.4 ,  35.99,  -9.84,  42.26,  35.13,  17.82,\n        13.53,  21.61,  16.69,  52.25,  -1.03,  15.3 ,  23.93,  27.46,\n        15.99,  26.61, -23.4 ,  29.25,  13.65,  78.55,  15.1 ,  14.14,\n        22.43,  24.55,   9.47,  16.25,   8.63, -20.44,  46.46,  55.92,\n        49.33,  26.74,  53.1 ,  34.85, -29.86,  26.75,  23.73,  -8.12,\n         6.36,  13.29,   5.84,  13.84,  24.47,  51.89,   6.7 ,  25.57,\n         7.17,  86.86,  19.24,   3.16, -18.35, -20.95, -17.57,  15.92,\n        39.04,  34.78,   2.45,  32.04,  11.12,   8.36,  12.54,  -9.35,\n        59.71,  33.39,  27.11,  14.47,  15.3 ,  -0.26, -12.15,  66.35,\n        23.18,  25.  ,   6.74,  26.81,  -0.92,  14.39,   3.82,  43.06,\n        17.77,  10.78,  -6.3 ,  20.29,  11.05,  22.15,   5.73,  13.22,\n         2.97,  24.93,  16.39,  53.38,  28.02,  43.75,  34.02,  -1.13,\n        -9.33,  24.39,  23.39,  12.5 ,  28.82, -12.32,  35.97,  67.38,\n        -5.97,  -6.54, -11.88,  45.05,  34.91,  17.83, -44.77,   0.04,\n        -4.01,  22.98,  31.81,  17.65,  35.58,  32.93,  -0.55,  44.42,\n        51.78,  22.85,   6.39,   1.72,  -9.65,  16.84,  10.14,  -3.06,\n        18.67, -12.25,  41.36, -23.79,  56.35,  18.11,  27.97,  43.09,\n       -12.79,   6.56,  32.38, -16.49,   6.77,  41.58,  14.05,   4.54,\n        -7.87,   5.36,   9.75,  21.59,  -7.57,  25.06,  33.35,  46.54,\n        29.52,  70.64,  -5.55,  27.51,  27.27,  37.67,   9.2 , -13.88,\n       116.93,  28.73,  18.86,  16.16,  72.64,  21.85,  36.25,  20.44,\n        18.45,  -7.48,  15.72,  13.92,  31.74,  21.27,   0.85,  23.93,\n        -1.15,  -7.77,  10.4 ,  13.75, -10.95, -27.86,  33.54,   5.73,\n       -12.75,  -0.4 ,  10.66, -20.46,   9.82,  24.01,   6.83,  -8.54,\n        26.26,  -2.35,  49.82,  24.25,  38.24,  31.99,  32.69,  14.83,\n        28.45,  16.  ,  12.46,  30.68,  74.09,  31.32,  49.14,  28.61,\n       -29.66,  46.6 ,   2.7 ,  -7.28,  64.16,  38.96,  41.41,  36.99,\n        11.04,  56.58,  -3.45,  13.37,   5.27,  15.82,  38.17,   9.19,\n        37.32,  -0.22,  20.42,  31.81,  42.74,   5.6 , -12.51,  31.04,\n        -4.42,  -2.2 ,  24.19,  60.62,  37.66,   8.99,   9.31,  48.01,\n        87.59,  35.55,  10.9 , -23.44,  25.21,  14.47,  30.75,  10.13,\n        55.06,  15.94,  23.06, 386.72, -13.23,  31.96,  -3.79, 132.3 ,\n        34.08,  56.85,  12.17,   6.82,  81.28, -30.8 ,  40.68,  41.45,\n        -0.8 ,  -6.9 , -14.43,  22.96, -13.6 ,   3.41,  11.83,  -3.41,\n        11.24,  17.37,  14.61,  11.51,  21.95,   9.28,  58.65,  42.56,\n        80.9 ,  42.12,  40.21,  22.2 ,  15.48,  23.37,  25.94,   9.16,\n        23.28,  -9.1 ,   4.72,  10.49,  -6.49,  17.06,  52.05,  12.22,\n        -4.01,  86.52,  -1.81,  26.3 ,  45.39,   2.25,   0.33,   2.42,\n        20.33,  13.86,  28.92,  14.8 ,  36.49,  46.09,  37.74,  41.47,\n        22.33,  18.51,  32.29,  58.2 ,   3.44,  30.15,   8.73,  52.58,\n        36.18,  -2.98, -19.73,  -6.16,   1.77,  44.82,  -2.24,  -3.34,\n        57.52,   6.24,  17.76,  25.59,   9.61,  49.09,  47.96,  27.18,\n         6.45,  29.24,  17.46,   9.68,  -8.58, -15.66,  10.31,  37.18,\n        54.4 ,  -9.66,  34.25,   1.78,  34.57,  10.43,  26.3 , -25.68,\n        39.42,  10.8 ,  -1.4 ,  31.44, 122.72,  47.3 ,  43.13,  16.54,\n       -47.08, -50.33,  -7.52,   5.59,   6.55, -12.27,  37.75,  24.95,\n        29.34,   3.93,  62.82,   4.3 ,  16.37,  46.14,  41.18,  38.69,\n       -12.22,  34.53,   2.57,  -7.34,  18.27,  50.44, 103.42,  -4.01,\n        -0.84,  -1.92,  43.75, -12.25,  46.71,  17.04,  13.27,  -4.72,\n        10.09,  -7.22,  23.23,  21.7 ,  -2.09,  42.87,  24.5 , -12.48,\n        17.18,  94.88, -10.22,  18.21,  11.68,  -7.33,  14.03,  26.74,\n        37.72,  28.86,  18.1 ,  34.58])"
     },
     "execution_count": 237,
     "metadata": {},
     "output_type": "execute_result"
    }
   ],
   "source": [
    "pop"
   ]
  },
  {
   "cell_type": "code",
   "execution_count": 238,
   "metadata": {
    "ExecuteTime": {
     "end_time": "2024-04-30T09:25:58.289492400Z",
     "start_time": "2024-04-30T09:25:58.115233800Z"
    }
   },
   "outputs": [
    {
     "data": {
      "text/plain": "array([ 41.58,  15.94,  48.01,  57.52,  -3.45,  13.84,  17.43,  37.18,\n        34.25,   6.7 ,   9.82,  -1.15,  49.12,  10.66,  94.88, -12.2 ,\n         4.72,  -7.34,  29.24,  70.64,  42.26,  38.17, -12.32,  24.01,\n        19.24,  25.21,  -0.22,  89.43,  -9.65,  20.29,   9.16,  37.54,\n        10.4 ,  18.94, -12.75,  14.83,  24.39,  23.06,  -9.35, 132.3 ,\n        11.51,  70.22,  35.58,  -0.84,  50.27,  26.26,  12.45,  -9.33,\n        -2.46,  69.92])"
     },
     "execution_count": 238,
     "metadata": {},
     "output_type": "execute_result"
    }
   ],
   "source": [
    "sample"
   ]
  },
  {
   "cell_type": "code",
   "execution_count": 239,
   "metadata": {
    "ExecuteTime": {
     "end_time": "2024-04-30T09:25:58.439539900Z",
     "start_time": "2024-04-30T09:25:58.123495100Z"
    }
   },
   "outputs": [
    {
     "data": {
      "text/plain": "<Figure size 1200x800 with 1 Axes>",
      "image/png": "[encoded data removed]"
     },
     "metadata": {},
     "output_type": "display_data"
    }
   ],
   "source": [
    "plt.figure(figsize = (12, 8))\n",
    "plt.hist(pop, bins = 75)\n",
    "plt.title(\"Absolute Frequencies - Population\", fontsize = 20)\n",
    "plt.xlabel(\"Stock Returns 2017 (in %)\", fontsize = 15)\n",
    "plt.ylabel(\"Absolute Frequency\", fontsize = 15)\n",
    "plt.xticks(np.arange(-100, 401, 25))\n",
    "plt.show()"
   ]
  },
  {
   "cell_type": "code",
   "execution_count": 240,
   "metadata": {
    "ExecuteTime": {
     "end_time": "2024-04-30T09:25:58.612256800Z",
     "start_time": "2024-04-30T09:25:58.366537300Z"
    }
   },
   "outputs": [
    {
     "data": {
      "text/plain": "<Figure size 1200x800 with 1 Axes>",
      "image/png": "[encoded data removed]"
     },
     "metadata": {},
     "output_type": "display_data"
    }
   ],
   "source": [
    "plt.figure(figsize = (12, 8))\n",
    "plt.hist(sample, bins = 15)\n",
    "plt.title(\"Absolute Frequencies - Sample\", fontsize = 20)\n",
    "plt.xlabel(\"Stock Returns 2017 (in %)\", fontsize = 15)\n",
    "plt.ylabel(\"Absolute Frequency\", fontsize = 15)\n",
    "plt.show()"
   ]
  },
  {
   "cell_type": "code",
   "execution_count": 240,
   "metadata": {
    "ExecuteTime": {
     "end_time": "2024-04-30T09:25:58.613257800Z",
     "start_time": "2024-04-30T09:25:58.542030400Z"
    }
   },
   "outputs": [],
   "source": []
  },
  {
   "cell_type": "markdown",
   "metadata": {},
   "source": [
    "### Relative and Cumulative Frequencies with plt.hist()"
   ]
  },
  {
   "cell_type": "code",
   "execution_count": 241,
   "metadata": {
    "ExecuteTime": {
     "end_time": "2024-04-30T09:25:58.615256Z",
     "start_time": "2024-04-30T09:25:58.545550300Z"
    }
   },
   "outputs": [],
   "source": [
    "import numpy as np\n",
    "import matplotlib.pyplot as plt\n",
    "np.set_printoptions(precision=4, suppress= True)"
   ]
  },
  {
   "cell_type": "code",
   "execution_count": 242,
   "metadata": {
    "ExecuteTime": {
     "end_time": "2024-04-30T09:25:58.617254700Z",
     "start_time": "2024-04-30T09:25:58.548065700Z"
    }
   },
   "outputs": [
    {
     "data": {
      "text/plain": "500"
     },
     "execution_count": 242,
     "metadata": {},
     "output_type": "execute_result"
    }
   ],
   "source": [
    "pop.size"
   ]
  },
  {
   "cell_type": "code",
   "execution_count": 243,
   "metadata": {
    "ExecuteTime": {
     "end_time": "2024-04-30T09:25:58.618257400Z",
     "start_time": "2024-04-30T09:25:58.556704Z"
    }
   },
   "outputs": [
    {
     "data": {
      "text/plain": "50"
     },
     "execution_count": 243,
     "metadata": {},
     "output_type": "execute_result"
    }
   ],
   "source": [
    "sample.size"
   ]
  },
  {
   "cell_type": "code",
   "execution_count": 244,
   "metadata": {
    "scrolled": true,
    "ExecuteTime": {
     "end_time": "2024-04-30T09:25:58.739254400Z",
     "start_time": "2024-04-30T09:25:58.561436300Z"
    }
   },
   "outputs": [
    {
     "data": {
      "text/plain": "array([0.002, 0.002, 0.002, 0.002, 0.002, 0.002, 0.002, 0.002, 0.002,\n       0.002, 0.002, 0.002, 0.002, 0.002, 0.002, 0.002, 0.002, 0.002,\n       0.002, 0.002, 0.002, 0.002, 0.002, 0.002, 0.002, 0.002, 0.002,\n       0.002, 0.002, 0.002, 0.002, 0.002, 0.002, 0.002, 0.002, 0.002,\n       0.002, 0.002, 0.002, 0.002, 0.002, 0.002, 0.002, 0.002, 0.002,\n       0.002, 0.002, 0.002, 0.002, 0.002, 0.002, 0.002, 0.002, 0.002,\n       0.002, 0.002, 0.002, 0.002, 0.002, 0.002, 0.002, 0.002, 0.002,\n       0.002, 0.002, 0.002, 0.002, 0.002, 0.002, 0.002, 0.002, 0.002,\n       0.002, 0.002, 0.002, 0.002, 0.002, 0.002, 0.002, 0.002, 0.002,\n       0.002, 0.002, 0.002, 0.002, 0.002, 0.002, 0.002, 0.002, 0.002,\n       0.002, 0.002, 0.002, 0.002, 0.002, 0.002, 0.002, 0.002, 0.002,\n       0.002, 0.002, 0.002, 0.002, 0.002, 0.002, 0.002, 0.002, 0.002,\n       0.002, 0.002, 0.002, 0.002, 0.002, 0.002, 0.002, 0.002, 0.002,\n       0.002, 0.002, 0.002, 0.002, 0.002, 0.002, 0.002, 0.002, 0.002,\n       0.002, 0.002, 0.002, 0.002, 0.002, 0.002, 0.002, 0.002, 0.002,\n       0.002, 0.002, 0.002, 0.002, 0.002, 0.002, 0.002, 0.002, 0.002,\n       0.002, 0.002, 0.002, 0.002, 0.002, 0.002, 0.002, 0.002, 0.002,\n       0.002, 0.002, 0.002, 0.002, 0.002, 0.002, 0.002, 0.002, 0.002,\n       0.002, 0.002, 0.002, 0.002, 0.002, 0.002, 0.002, 0.002, 0.002,\n       0.002, 0.002, 0.002, 0.002, 0.002, 0.002, 0.002, 0.002, 0.002,\n       0.002, 0.002, 0.002, 0.002, 0.002, 0.002, 0.002, 0.002, 0.002,\n       0.002, 0.002, 0.002, 0.002, 0.002, 0.002, 0.002, 0.002, 0.002,\n       0.002, 0.002, 0.002, 0.002, 0.002, 0.002, 0.002, 0.002, 0.002,\n       0.002, 0.002, 0.002, 0.002, 0.002, 0.002, 0.002, 0.002, 0.002,\n       0.002, 0.002, 0.002, 0.002, 0.002, 0.002, 0.002, 0.002, 0.002,\n       0.002, 0.002, 0.002, 0.002, 0.002, 0.002, 0.002, 0.002, 0.002,\n       0.002, 0.002, 0.002, 0.002, 0.002, 0.002, 0.002, 0.002, 0.002,\n       0.002, 0.002, 0.002, 0.002, 0.002, 0.002, 0.002, 0.002, 0.002,\n       0.002, 0.002, 0.002, 0.002, 0.002, 0.002, 0.002, 0.002, 0.002,\n       0.002, 0.002, 0.002, 0.002, 0.002, 0.002, 0.002, 0.002, 0.002,\n       0.002, 0.002, 0.002, 0.002, 0.002, 0.002, 0.002, 0.002, 0.002,\n       0.002, 0.002, 0.002, 0.002, 0.002, 0.002, 0.002, 0.002, 0.002,\n       0.002, 0.002, 0.002, 0.002, 0.002, 0.002, 0.002, 0.002, 0.002,\n       0.002, 0.002, 0.002, 0.002, 0.002, 0.002, 0.002, 0.002, 0.002,\n       0.002, 0.002, 0.002, 0.002, 0.002, 0.002, 0.002, 0.002, 0.002,\n       0.002, 0.002, 0.002, 0.002, 0.002, 0.002, 0.002, 0.002, 0.002,\n       0.002, 0.002, 0.002, 0.002, 0.002, 0.002, 0.002, 0.002, 0.002,\n       0.002, 0.002, 0.002, 0.002, 0.002, 0.002, 0.002, 0.002, 0.002,\n       0.002, 0.002, 0.002, 0.002, 0.002, 0.002, 0.002, 0.002, 0.002,\n       0.002, 0.002, 0.002, 0.002, 0.002, 0.002, 0.002, 0.002, 0.002,\n       0.002, 0.002, 0.002, 0.002, 0.002, 0.002, 0.002, 0.002, 0.002,\n       0.002, 0.002, 0.002, 0.002, 0.002, 0.002, 0.002, 0.002, 0.002,\n       0.002, 0.002, 0.002, 0.002, 0.002, 0.002, 0.002, 0.002, 0.002,\n       0.002, 0.002, 0.002, 0.002, 0.002, 0.002, 0.002, 0.002, 0.002,\n       0.002, 0.002, 0.002, 0.002, 0.002, 0.002, 0.002, 0.002, 0.002,\n       0.002, 0.002, 0.002, 0.002, 0.002, 0.002, 0.002, 0.002, 0.002,\n       0.002, 0.002, 0.002, 0.002, 0.002, 0.002, 0.002, 0.002, 0.002,\n       0.002, 0.002, 0.002, 0.002, 0.002, 0.002, 0.002, 0.002, 0.002,\n       0.002, 0.002, 0.002, 0.002, 0.002, 0.002, 0.002, 0.002, 0.002,\n       0.002, 0.002, 0.002, 0.002, 0.002, 0.002, 0.002, 0.002, 0.002,\n       0.002, 0.002, 0.002, 0.002, 0.002, 0.002, 0.002, 0.002, 0.002,\n       0.002, 0.002, 0.002, 0.002, 0.002, 0.002, 0.002, 0.002, 0.002,\n       0.002, 0.002, 0.002, 0.002, 0.002, 0.002, 0.002, 0.002, 0.002,\n       0.002, 0.002, 0.002, 0.002, 0.002, 0.002, 0.002, 0.002, 0.002,\n       0.002, 0.002, 0.002, 0.002, 0.002, 0.002, 0.002, 0.002, 0.002,\n       0.002, 0.002, 0.002, 0.002, 0.002])"
     },
     "execution_count": 244,
     "metadata": {},
     "output_type": "execute_result"
    }
   ],
   "source": [
    "(np.ones(len(pop)) / len(pop))"
   ]
  },
  {
   "cell_type": "code",
   "execution_count": 245,
   "metadata": {
    "ExecuteTime": {
     "end_time": "2024-04-30T09:25:58.870390700Z",
     "start_time": "2024-04-30T09:25:58.570253200Z"
    }
   },
   "outputs": [
    {
     "data": {
      "text/plain": "<Figure size 1200x800 with 1 Axes>",
      "image/png": "[encoded data removed]"
     },
     "metadata": {},
     "output_type": "display_data"
    }
   ],
   "source": [
    "plt.figure(figsize = (12, 8))\n",
    "plt.hist(pop, bins = 75, weights = np.ones(len(pop)) / len(pop))\n",
    "plt.title(\"Relative Frequencies - Population\", fontsize = 20)\n",
    "plt.xlabel(\"Stock Returns 2017 (in %)\", fontsize = 15)\n",
    "plt.ylabel(\"Relative Frequency\", fontsize = 15)\n",
    "plt.show()"
   ]
  },
  {
   "cell_type": "code",
   "execution_count": 246,
   "metadata": {
    "ExecuteTime": {
     "end_time": "2024-04-30T09:25:59.180798900Z",
     "start_time": "2024-04-30T09:25:58.811392300Z"
    }
   },
   "outputs": [
    {
     "data": {
      "text/plain": "<Figure size 1200x800 with 1 Axes>",
      "image/png": "[encoded data removed]"
     },
     "metadata": {},
     "output_type": "display_data"
    }
   ],
   "source": [
    "plt.figure(figsize = (12, 8))\n",
    "plt.hist(pop, bins = 50, density = True)\n",
    "plt.title(\"Relative Frequencies - Population\", fontsize = 20)\n",
    "plt.xlabel(\"Stock Returns 2017 (in %)\", fontsize = 15)\n",
    "plt.ylabel(\"Relative Frequency\", fontsize = 15)\n",
    "plt.show()"
   ]
  },
  {
   "cell_type": "code",
   "execution_count": 247,
   "metadata": {
    "ExecuteTime": {
     "end_time": "2024-04-30T09:25:59.454555200Z",
     "start_time": "2024-04-30T09:25:59.181799800Z"
    }
   },
   "outputs": [
    {
     "data": {
      "text/plain": "<Figure size 1200x800 with 1 Axes>",
      "image/png": "[encoded data removed]"
     },
     "metadata": {},
     "output_type": "display_data"
    }
   ],
   "source": [
    "plt.figure(figsize = (12, 8))\n",
    "plt.hist(pop, bins = 50, density = False, cumulative = True)\n",
    "plt.title(\"Cumulative Absolute Frequencies - Population\", fontsize = 20)\n",
    "plt.xlabel(\"Stock Returns 2017 (in %)\", fontsize = 15)\n",
    "plt.ylabel(\"Cumulative Absolute Frequency\", fontsize = 15)\n",
    "plt.show()"
   ]
  },
  {
   "cell_type": "code",
   "execution_count": 248,
   "metadata": {
    "ExecuteTime": {
     "end_time": "2024-04-30T09:25:59.648668800Z",
     "start_time": "2024-04-30T09:25:59.419559600Z"
    }
   },
   "outputs": [
    {
     "data": {
      "text/plain": "<Figure size 1200x800 with 1 Axes>",
      "image/png": "[encoded data removed]"
     },
     "metadata": {},
     "output_type": "display_data"
    }
   ],
   "source": [
    "plt.figure(figsize = (12, 8))\n",
    "plt.hist(pop, bins = 50, density = True, cumulative = True)\n",
    "plt.title(\"Cumulative Relative Frequencies - Population\", fontsize = 20)\n",
    "plt.xlabel(\"Stock Returns 2017 (in %)\", fontsize = 15)\n",
    "plt.ylabel(\"Cumulative Relative Frequency\", fontsize = 15)\n",
    "plt.show()"
   ]
  },
  {
   "cell_type": "code",
   "execution_count": 248,
   "metadata": {
    "ExecuteTime": {
     "end_time": "2024-04-30T09:25:59.651669200Z",
     "start_time": "2024-04-30T09:25:59.631774Z"
    }
   },
   "outputs": [],
   "source": []
  },
  {
   "cell_type": "markdown",
   "metadata": {},
   "source": [
    "### Measures of Central Tendency - Mean and Median"
   ]
  },
  {
   "cell_type": "code",
   "execution_count": 249,
   "metadata": {
    "ExecuteTime": {
     "end_time": "2024-04-30T09:25:59.656458500Z",
     "start_time": "2024-04-30T09:25:59.635780900Z"
    }
   },
   "outputs": [],
   "source": [
    "import numpy as np\n",
    "np.set_printoptions(precision=4, suppress= True)"
   ]
  },
  {
   "cell_type": "markdown",
   "metadata": {},
   "source": [
    "__Population Mean__"
   ]
  },
  {
   "cell_type": "code",
   "execution_count": 250,
   "metadata": {
    "scrolled": true,
    "ExecuteTime": {
     "end_time": "2024-04-30T09:25:59.794089800Z",
     "start_time": "2024-04-30T09:25:59.640017100Z"
    }
   },
   "outputs": [
    {
     "data": {
      "text/plain": "array([ 46.993 ,  11.4371, -41.0537,  46.1147,  54.4395,  17.4319,\n        66.3206,  48.5811,  30.7009,  70.2186,  22.5971, -12.2015,\n        14.0202,  10.9322,  41.643 ,  12.4476,  16.852 ,  -6.7986,\n        26.1207, -22.1085,  -8.7735,  -3.8284,   8.5936,  21.786 ,\n        -2.4595,  48.5711, 131.1349, -17.1532,  41.2709,  24.3125,\n        -2.2558,  58.4134,  11.0066,  -9.3474,  49.1152,  41.2595,\n        18.9385,  52.7582,  35.0019,  55.9564, 143.4432,  59.574 ,\n        56.5069,  20.147 ,  29.4192, -33.4804,  14.0871,  30.6548,\n        50.2746,  17.511 ,  46.9795,  15.8328,  75.3531,   0.7113,\n        45.3301,  63.5716,  26.4373,  34.0578,  -9.9292,  89.4335,\n        33.5747,  45.7826,   5.7422,  60.464 ,  29.3023,   9.4745,\n        52.8659, -51.3006,  12.3387,  13.6767,  18.5313,  34.995 ,\n         0.8527,   4.8597,  36.6214,  21.6223,  14.6093,  29.5385,\n         3.3789,  25.2061,  -4.7535, -14.8673,  69.9159,  10.604 ,\n        68.6155,  37.5357,  -7.2619,  27.9359,  27.4875,  65.8208,\n        33.4037,  35.9919,  -9.8402,  42.263 ,  35.1334,  17.8221,\n        13.5325,  21.608 ,  16.6852,  52.2528,  -1.0297,  15.2965,\n        23.9293,  27.4556,  15.9861,  26.6147, -23.3992,  29.2456,\n        13.6473,  78.5487,  15.0974,  14.1449,  22.4315,  24.5527,\n         9.4735,  16.2451,   8.6292, -20.4399,  46.4635,  55.9206,\n        49.3281,  26.7373,  53.1033,  34.8477, -29.857 ,  26.7535,\n        23.7345,  -8.1232,   6.3636,  13.2881,   5.8363,  13.8443,\n        24.472 ,  51.8925,   6.7   ,  25.5704,   7.1708,  86.8643,\n        19.2446,   3.1568, -18.351 , -20.9485, -17.5729,  15.917 ,\n        39.0386,  34.7761,   2.4473,  32.0407,  11.1156,   8.3612,\n        12.5389,  -9.3497,  59.7082,  33.3926,  27.1135,  14.4685,\n        15.2959,  -0.2622, -12.1545,  66.3485,  23.1751,  25.0045,\n         6.7359,  26.8067,  -0.9167,  14.3944,   3.8151,  43.0592,\n        17.7672,  10.7799,  -6.2999,  20.2882,  11.0454,  22.1488,\n         5.7292,  13.2185,   2.9678,  24.9258,  16.39  ,  53.3768,\n        28.021 ,  43.7453,  34.0172,  -1.1301,  -9.3284,  24.3919,\n        23.391 ,  12.4954,  28.8201, -12.3205,  35.9737,  67.3802,\n        -5.9692,  -6.5442, -11.8773,  45.0531,  34.9058,  17.8327,\n       -44.7663,   0.0419,  -4.0149,  22.9799,  31.8088,  17.6521,\n        35.5757,  32.9295,  -0.5547,  44.4172,  51.7825,  22.8501,\n         6.3938,   1.7223,  -9.6506,  16.8402,  10.1362,  -3.0598,\n        18.6706, -12.2476,  41.3559, -23.7919,  56.3492,  18.1112,\n        27.9657,  43.0926, -12.7871,   6.5553,  32.3757, -16.4858,\n         6.7658,  41.5768,  14.0496,   4.5389,  -7.8669,   5.3609,\n         9.7457,  21.5851,  -7.5727,  25.062 ,  33.3504,  46.5356,\n        29.5171,  70.642 ,  -5.545 ,  27.5064,  27.2677,  37.6669,\n         9.1971, -13.883 , 116.9284,  28.7311,  18.8566,  16.1638,\n        72.6383,  21.8462,  36.2486,  20.4351,  18.4506,  -7.4775,\n        15.7193,  13.9182,  31.7414,  21.2742,   0.8493,  23.9309,\n        -1.1475,  -7.7737,  10.3996,  13.7544, -10.9482, -27.8617,\n        33.5409,   5.7308, -12.7475,  -0.4038,  10.6609, -20.4578,\n         9.8218,  24.0071,   6.8332,  -8.5358,  26.2612,  -2.3527,\n        49.8223,  24.2483,  38.2356,  31.9908,  32.6917,  14.8334,\n        28.4508,  15.9952,  12.4571,  30.6805,  74.0944,  31.3202,\n        49.1413,  28.6081, -29.6565,  46.5956,   2.6961,  -7.284 ,\n        64.163 ,  38.9627,  41.4065,  36.9914,  11.036 ,  56.5822,\n        -3.4514,  13.3652,   5.2675,  15.8169,  38.1711,   9.1932,\n        37.3196,  -0.2212,  20.4172,  31.8083,  42.7379,   5.6049,\n       -12.5128,  31.0427,  -4.4165,  -2.1953,  24.1893,  60.6245,\n        37.6569,   8.9878,   9.3077,  48.0122,  87.5912,  35.5458,\n        10.9043, -23.4367,  25.2057,  14.4666,  30.7467,  10.1262,\n        55.0565,  15.944 ,  23.0572, 386.7156, -13.23  ,  31.9589,\n        -3.7927, 132.3002,  34.0798,  56.8472,  12.1729,   6.8212,\n        81.2816, -30.7951,  40.678 ,  41.4485,  -0.8003,  -6.8978,\n       -14.4284,  22.9649, -13.6022,   3.4115,  11.8265,  -3.4091,\n        11.2363,  17.3655,  14.6134,  11.5148,  21.9495,   9.2769,\n        58.6479,  42.5571,  80.9032,  42.1245,  40.2109,  22.2012,\n        15.4771,  23.367 ,  25.9426,   9.1631,  23.2799,  -9.1043,\n         4.7219,  10.4939,  -6.4877,  17.0582,  52.0501,  12.2238,\n        -4.0096,  86.5214,  -1.8098,  26.3038,  45.3925,   2.2458,\n         0.3336,   2.4163,  20.3343,  13.8581,  28.9158,  14.8029,\n        36.4867,  46.0938,  37.7442,  41.4682,  22.3323,  18.5101,\n        32.2887,  58.2026,   3.4402,  30.1495,   8.734 ,  52.5787,\n        36.182 ,  -2.983 , -19.726 ,  -6.1553,   1.7691,  44.8182,\n        -2.2362,  -3.3376,  57.5228,   6.2401,  17.7575,  25.5919,\n         9.6149,  49.0901,  47.9554,  27.1765,   6.4516,  29.238 ,\n        17.455 ,   9.6803,  -8.5822, -15.6613,  10.3069,  37.1824,\n        54.4027,  -9.6636,  34.2503,   1.7838,  34.5712,  10.433 ,\n        26.2993, -25.6847,  39.4233,  10.7989,  -1.3982,  31.4364,\n       122.7227,  47.3006,  43.1273,  16.5362, -47.0799, -50.327 ,\n        -7.5192,   5.5921,   6.552 , -12.2696,  37.7531,  24.9488,\n        29.3403,   3.9341,  62.8244,   4.3021,  16.3747,  46.142 ,\n        41.1787,  38.6943, -12.2222,  34.5287,   2.5729,  -7.3367,\n        18.2703,  50.4404, 103.4207,  -4.0147,  -0.843 ,  -1.9152,\n        43.7533, -12.2523,  46.71  ,  17.0419,  13.2651,  -4.7214,\n        10.0889,  -7.2234,  23.2336,  21.7036,  -2.0873,  42.8675,\n        24.5027, -12.477 ,  17.1818,  94.8792, -10.2208,  18.2064,\n        11.678 ,  -7.3344,  14.0308,  26.7391,  37.7221,  28.8647,\n        18.0994,  34.5787])"
     },
     "execution_count": 250,
     "metadata": {},
     "output_type": "execute_result"
    }
   ],
   "source": [
    "pop"
   ]
  },
  {
   "cell_type": "code",
   "execution_count": 251,
   "metadata": {
    "ExecuteTime": {
     "end_time": "2024-04-30T09:25:59.797492Z",
     "start_time": "2024-04-30T09:25:59.650664400Z"
    }
   },
   "outputs": [
    {
     "data": {
      "text/plain": "21.780347999003943"
     },
     "execution_count": 251,
     "metadata": {},
     "output_type": "execute_result"
    }
   ],
   "source": [
    "pop.mean()"
   ]
  },
  {
   "cell_type": "code",
   "execution_count": 252,
   "metadata": {
    "ExecuteTime": {
     "end_time": "2024-04-30T09:25:59.801493100Z",
     "start_time": "2024-04-30T09:25:59.657456600Z"
    }
   },
   "outputs": [
    {
     "data": {
      "text/plain": "21.780347999003943"
     },
     "execution_count": 252,
     "metadata": {},
     "output_type": "execute_result"
    }
   ],
   "source": [
    "np.mean(pop)"
   ]
  },
  {
   "cell_type": "markdown",
   "metadata": {},
   "source": [
    "__Sample Mean__"
   ]
  },
  {
   "cell_type": "code",
   "execution_count": 253,
   "metadata": {
    "ExecuteTime": {
     "end_time": "2024-04-30T09:25:59.804613100Z",
     "start_time": "2024-04-30T09:25:59.663892Z"
    }
   },
   "outputs": [
    {
     "data": {
      "text/plain": "array([ 41.5768,  15.944 ,  48.0122,  57.5228,  -3.4514,  13.8443,\n        17.4319,  37.1824,  34.2503,   6.7   ,   9.8218,  -1.1475,\n        49.1152,  10.6609,  94.8792, -12.2015,   4.7219,  -7.3367,\n        29.238 ,  70.642 ,  42.263 ,  38.1711, -12.3205,  24.0071,\n        19.2446,  25.2057,  -0.2212,  89.4335,  -9.6506,  20.2882,\n         9.1631,  37.5357,  10.3996,  18.9385, -12.7475,  14.8334,\n        24.3919,  23.0572,  -9.3474, 132.3002,  11.5148,  70.2186,\n        35.5757,  -0.843 ,  50.2746,  26.2612,  12.4476,  -9.3284,\n        -2.4595,  69.9159])"
     },
     "execution_count": 253,
     "metadata": {},
     "output_type": "execute_result"
    }
   ],
   "source": [
    "sample"
   ]
  },
  {
   "cell_type": "code",
   "execution_count": 254,
   "metadata": {
    "ExecuteTime": {
     "end_time": "2024-04-30T09:25:59.807619100Z",
     "start_time": "2024-04-30T09:25:59.669896800Z"
    }
   },
   "outputs": [
    {
     "data": {
      "text/plain": "25.318589009450747"
     },
     "execution_count": 254,
     "metadata": {},
     "output_type": "execute_result"
    }
   ],
   "source": [
    "sample.mean()"
   ]
  },
  {
   "cell_type": "markdown",
   "metadata": {},
   "source": [
    "__Median__"
   ]
  },
  {
   "cell_type": "code",
   "execution_count": 255,
   "metadata": {
    "ExecuteTime": {
     "end_time": "2024-04-30T09:25:59.809622300Z",
     "start_time": "2024-04-30T09:25:59.679798800Z"
    }
   },
   "outputs": [
    {
     "data": {
      "text/plain": "18.158807954190955"
     },
     "execution_count": 255,
     "metadata": {},
     "output_type": "execute_result"
    }
   ],
   "source": [
    "np.median(pop)"
   ]
  },
  {
   "cell_type": "code",
   "execution_count": 256,
   "metadata": {
    "ExecuteTime": {
     "end_time": "2024-04-30T09:25:59.865648600Z",
     "start_time": "2024-04-30T09:25:59.686109400Z"
    }
   },
   "outputs": [
    {
     "data": {
      "text/plain": "19.09155870707304"
     },
     "execution_count": 256,
     "metadata": {},
     "output_type": "execute_result"
    }
   ],
   "source": [
    "np.median(sample)"
   ]
  },
  {
   "cell_type": "code",
   "execution_count": 257,
   "metadata": {
    "ExecuteTime": {
     "end_time": "2024-04-30T09:25:59.867648200Z",
     "start_time": "2024-04-30T09:25:59.693078500Z"
    }
   },
   "outputs": [],
   "source": [
    "sample.sort()"
   ]
  },
  {
   "cell_type": "code",
   "execution_count": 258,
   "metadata": {
    "ExecuteTime": {
     "end_time": "2024-04-30T09:25:59.868648400Z",
     "start_time": "2024-04-30T09:25:59.697086800Z"
    }
   },
   "outputs": [
    {
     "data": {
      "text/plain": "19.09155870707304"
     },
     "execution_count": 258,
     "metadata": {},
     "output_type": "execute_result"
    }
   ],
   "source": [
    "(sample[24] + sample[25]) / 2"
   ]
  },
  {
   "cell_type": "code",
   "execution_count": 258,
   "metadata": {
    "ExecuteTime": {
     "end_time": "2024-04-30T09:25:59.876622100Z",
     "start_time": "2024-04-30T09:25:59.702599500Z"
    }
   },
   "outputs": [],
   "source": []
  },
  {
   "cell_type": "markdown",
   "metadata": {},
   "source": [
    "### Measures of Central Tendency - Geometric Mean"
   ]
  },
  {
   "cell_type": "code",
   "execution_count": 259,
   "metadata": {
    "ExecuteTime": {
     "end_time": "2024-04-30T09:25:59.877622700Z",
     "start_time": "2024-04-30T09:25:59.707521500Z"
    }
   },
   "outputs": [],
   "source": [
    "import numpy as np\n",
    "np.set_printoptions(precision=4, suppress= True)"
   ]
  },
  {
   "cell_type": "code",
   "execution_count": 260,
   "metadata": {
    "ExecuteTime": {
     "end_time": "2024-04-30T09:25:59.878622600Z",
     "start_time": "2024-04-30T09:25:59.711550800Z"
    }
   },
   "outputs": [],
   "source": [
    "Price_2015_2018 = np.array([100, 107, 102, 110])"
   ]
  },
  {
   "cell_type": "code",
   "execution_count": 261,
   "metadata": {
    "ExecuteTime": {
     "end_time": "2024-04-30T09:25:59.882620400Z",
     "start_time": "2024-04-30T09:25:59.718844900Z"
    }
   },
   "outputs": [
    {
     "data": {
      "text/plain": "array([ 0.07  , -0.0467,  0.0784])"
     },
     "execution_count": 261,
     "metadata": {},
     "output_type": "execute_result"
    }
   ],
   "source": [
    "ret = Price_2015_2018[1:] / Price_2015_2018[:-1] - 1\n",
    "ret"
   ]
  },
  {
   "cell_type": "code",
   "execution_count": 262,
   "metadata": {
    "ExecuteTime": {
     "end_time": "2024-04-30T09:25:59.884623500Z",
     "start_time": "2024-04-30T09:25:59.725889300Z"
    }
   },
   "outputs": [
    {
     "data": {
      "text/plain": "0.033900800195467595"
     },
     "execution_count": 262,
     "metadata": {},
     "output_type": "execute_result"
    }
   ],
   "source": [
    "mean = ret.mean()\n",
    "mean"
   ]
  },
  {
   "cell_type": "code",
   "execution_count": 263,
   "metadata": {
    "ExecuteTime": {
     "end_time": "2024-04-30T09:25:59.886623700Z",
     "start_time": "2024-04-30T09:25:59.730816600Z"
    }
   },
   "outputs": [
    {
     "data": {
      "text/plain": "110.51891543259251"
     },
     "execution_count": 263,
     "metadata": {},
     "output_type": "execute_result"
    }
   ],
   "source": [
    "100 * (1 + mean)**3"
   ]
  },
  {
   "cell_type": "code",
   "execution_count": 264,
   "metadata": {
    "ExecuteTime": {
     "end_time": "2024-04-30T09:25:59.887623400Z",
     "start_time": "2024-04-30T09:25:59.737263800Z"
    }
   },
   "outputs": [
    {
     "data": {
      "text/plain": "0.03228011545636722"
     },
     "execution_count": 264,
     "metadata": {},
     "output_type": "execute_result"
    }
   ],
   "source": [
    "geo_mean = (1 + ret).prod()**(1/ret.size) - 1\n",
    "geo_mean"
   ]
  },
  {
   "cell_type": "code",
   "execution_count": 265,
   "metadata": {
    "ExecuteTime": {
     "end_time": "2024-04-30T09:25:59.902643200Z",
     "start_time": "2024-04-30T09:25:59.741573400Z"
    }
   },
   "outputs": [
    {
     "data": {
      "text/plain": "110.00000000000001"
     },
     "execution_count": 265,
     "metadata": {},
     "output_type": "execute_result"
    }
   ],
   "source": [
    "100 * (1 + geo_mean)**3"
   ]
  },
  {
   "cell_type": "code",
   "execution_count": 266,
   "metadata": {
    "ExecuteTime": {
     "end_time": "2024-04-30T09:25:59.904623200Z",
     "start_time": "2024-04-30T09:25:59.748406800Z"
    }
   },
   "outputs": [
    {
     "data": {
      "text/plain": "0.03228011545636722"
     },
     "execution_count": 266,
     "metadata": {},
     "output_type": "execute_result"
    }
   ],
   "source": [
    "(110 / 100)**(1/ret.size) - 1 "
   ]
  },
  {
   "cell_type": "code",
   "execution_count": 266,
   "metadata": {
    "ExecuteTime": {
     "end_time": "2024-04-30T09:25:59.906635700Z",
     "start_time": "2024-04-30T09:25:59.754327100Z"
    }
   },
   "outputs": [],
   "source": []
  },
  {
   "cell_type": "markdown",
   "metadata": {},
   "source": [
    "### Range, Minimum and Maximum"
   ]
  },
  {
   "cell_type": "code",
   "execution_count": 267,
   "metadata": {
    "ExecuteTime": {
     "end_time": "2024-04-30T09:25:59.908621800Z",
     "start_time": "2024-04-30T09:25:59.758793400Z"
    }
   },
   "outputs": [],
   "source": [
    "import numpy as np\n",
    "np.set_printoptions(precision=4, suppress= True)"
   ]
  },
  {
   "cell_type": "code",
   "execution_count": 4,
   "metadata": {
    "ExecuteTime": {
     "end_time": "2024-05-08T17:38:09.413104800Z",
     "start_time": "2024-05-08T17:38:09.362957400Z"
    }
   },
   "outputs": [],
   "source": [
    "pop = np.loadtxt(\"../Data/SP500_pop.csv\", delimiter = \",\", usecols = 1)"
   ]
  },
  {
   "cell_type": "code",
   "execution_count": 269,
   "metadata": {
    "scrolled": true,
    "ExecuteTime": {
     "end_time": "2024-04-30T09:25:59.911624700Z",
     "start_time": "2024-04-30T09:25:59.768657700Z"
    }
   },
   "outputs": [],
   "source": [
    "pop = pop * 100"
   ]
  },
  {
   "cell_type": "code",
   "execution_count": 270,
   "metadata": {
    "scrolled": true,
    "ExecuteTime": {
     "end_time": "2024-04-30T09:25:59.913622500Z",
     "start_time": "2024-04-30T09:25:59.771173300Z"
    }
   },
   "outputs": [
    {
     "data": {
      "text/plain": "array([ 46.993 ,  11.4371, -41.0537,  46.1147,  54.4395,  17.4319,\n        66.3206,  48.5811,  30.7009,  70.2186,  22.5971, -12.2015,\n        14.0202,  10.9322,  41.643 ,  12.4476,  16.852 ,  -6.7986,\n        26.1207, -22.1085,  -8.7735,  -3.8284,   8.5936,  21.786 ,\n        -2.4595,  48.5711, 131.1349, -17.1532,  41.2709,  24.3125,\n        -2.2558,  58.4134,  11.0066,  -9.3474,  49.1152,  41.2595,\n        18.9385,  52.7582,  35.0019,  55.9564, 143.4432,  59.574 ,\n        56.5069,  20.147 ,  29.4192, -33.4804,  14.0871,  30.6548,\n        50.2746,  17.511 ,  46.9795,  15.8328,  75.3531,   0.7113,\n        45.3301,  63.5716,  26.4373,  34.0578,  -9.9292,  89.4335,\n        33.5747,  45.7826,   5.7422,  60.464 ,  29.3023,   9.4745,\n        52.8659, -51.3006,  12.3387,  13.6767,  18.5313,  34.995 ,\n         0.8527,   4.8597,  36.6214,  21.6223,  14.6093,  29.5385,\n         3.3789,  25.2061,  -4.7535, -14.8673,  69.9159,  10.604 ,\n        68.6155,  37.5357,  -7.2619,  27.9359,  27.4875,  65.8208,\n        33.4037,  35.9919,  -9.8402,  42.263 ,  35.1334,  17.8221,\n        13.5325,  21.608 ,  16.6852,  52.2528,  -1.0297,  15.2965,\n        23.9293,  27.4556,  15.9861,  26.6147, -23.3992,  29.2456,\n        13.6473,  78.5487,  15.0974,  14.1449,  22.4315,  24.5527,\n         9.4735,  16.2451,   8.6292, -20.4399,  46.4635,  55.9206,\n        49.3281,  26.7373,  53.1033,  34.8477, -29.857 ,  26.7535,\n        23.7345,  -8.1232,   6.3636,  13.2881,   5.8363,  13.8443,\n        24.472 ,  51.8925,   6.7   ,  25.5704,   7.1708,  86.8643,\n        19.2446,   3.1568, -18.351 , -20.9485, -17.5729,  15.917 ,\n        39.0386,  34.7761,   2.4473,  32.0407,  11.1156,   8.3612,\n        12.5389,  -9.3497,  59.7082,  33.3926,  27.1135,  14.4685,\n        15.2959,  -0.2622, -12.1545,  66.3485,  23.1751,  25.0045,\n         6.7359,  26.8067,  -0.9167,  14.3944,   3.8151,  43.0592,\n        17.7672,  10.7799,  -6.2999,  20.2882,  11.0454,  22.1488,\n         5.7292,  13.2185,   2.9678,  24.9258,  16.39  ,  53.3768,\n        28.021 ,  43.7453,  34.0172,  -1.1301,  -9.3284,  24.3919,\n        23.391 ,  12.4954,  28.8201, -12.3205,  35.9737,  67.3802,\n        -5.9692,  -6.5442, -11.8773,  45.0531,  34.9058,  17.8327,\n       -44.7663,   0.0419,  -4.0149,  22.9799,  31.8088,  17.6521,\n        35.5757,  32.9295,  -0.5547,  44.4172,  51.7825,  22.8501,\n         6.3938,   1.7223,  -9.6506,  16.8402,  10.1362,  -3.0598,\n        18.6706, -12.2476,  41.3559, -23.7919,  56.3492,  18.1112,\n        27.9657,  43.0926, -12.7871,   6.5553,  32.3757, -16.4858,\n         6.7658,  41.5768,  14.0496,   4.5389,  -7.8669,   5.3609,\n         9.7457,  21.5851,  -7.5727,  25.062 ,  33.3504,  46.5356,\n        29.5171,  70.642 ,  -5.545 ,  27.5064,  27.2677,  37.6669,\n         9.1971, -13.883 , 116.9284,  28.7311,  18.8566,  16.1638,\n        72.6383,  21.8462,  36.2486,  20.4351,  18.4506,  -7.4775,\n        15.7193,  13.9182,  31.7414,  21.2742,   0.8493,  23.9309,\n        -1.1475,  -7.7737,  10.3996,  13.7544, -10.9482, -27.8617,\n        33.5409,   5.7308, -12.7475,  -0.4038,  10.6609, -20.4578,\n         9.8218,  24.0071,   6.8332,  -8.5358,  26.2612,  -2.3527,\n        49.8223,  24.2483,  38.2356,  31.9908,  32.6917,  14.8334,\n        28.4508,  15.9952,  12.4571,  30.6805,  74.0944,  31.3202,\n        49.1413,  28.6081, -29.6565,  46.5956,   2.6961,  -7.284 ,\n        64.163 ,  38.9627,  41.4065,  36.9914,  11.036 ,  56.5822,\n        -3.4514,  13.3652,   5.2675,  15.8169,  38.1711,   9.1932,\n        37.3196,  -0.2212,  20.4172,  31.8083,  42.7379,   5.6049,\n       -12.5128,  31.0427,  -4.4165,  -2.1953,  24.1893,  60.6245,\n        37.6569,   8.9878,   9.3077,  48.0122,  87.5912,  35.5458,\n        10.9043, -23.4367,  25.2057,  14.4666,  30.7467,  10.1262,\n        55.0565,  15.944 ,  23.0572, 386.7156, -13.23  ,  31.9589,\n        -3.7927, 132.3002,  34.0798,  56.8472,  12.1729,   6.8212,\n        81.2816, -30.7951,  40.678 ,  41.4485,  -0.8003,  -6.8978,\n       -14.4284,  22.9649, -13.6022,   3.4115,  11.8265,  -3.4091,\n        11.2363,  17.3655,  14.6134,  11.5148,  21.9495,   9.2769,\n        58.6479,  42.5571,  80.9032,  42.1245,  40.2109,  22.2012,\n        15.4771,  23.367 ,  25.9426,   9.1631,  23.2799,  -9.1043,\n         4.7219,  10.4939,  -6.4877,  17.0582,  52.0501,  12.2238,\n        -4.0096,  86.5214,  -1.8098,  26.3038,  45.3925,   2.2458,\n         0.3336,   2.4163,  20.3343,  13.8581,  28.9158,  14.8029,\n        36.4867,  46.0938,  37.7442,  41.4682,  22.3323,  18.5101,\n        32.2887,  58.2026,   3.4402,  30.1495,   8.734 ,  52.5787,\n        36.182 ,  -2.983 , -19.726 ,  -6.1553,   1.7691,  44.8182,\n        -2.2362,  -3.3376,  57.5228,   6.2401,  17.7575,  25.5919,\n         9.6149,  49.0901,  47.9554,  27.1765,   6.4516,  29.238 ,\n        17.455 ,   9.6803,  -8.5822, -15.6613,  10.3069,  37.1824,\n        54.4027,  -9.6636,  34.2503,   1.7838,  34.5712,  10.433 ,\n        26.2993, -25.6847,  39.4233,  10.7989,  -1.3982,  31.4364,\n       122.7227,  47.3006,  43.1273,  16.5362, -47.0799, -50.327 ,\n        -7.5192,   5.5921,   6.552 , -12.2696,  37.7531,  24.9488,\n        29.3403,   3.9341,  62.8244,   4.3021,  16.3747,  46.142 ,\n        41.1787,  38.6943, -12.2222,  34.5287,   2.5729,  -7.3367,\n        18.2703,  50.4404, 103.4207,  -4.0147,  -0.843 ,  -1.9152,\n        43.7533, -12.2523,  46.71  ,  17.0419,  13.2651,  -4.7214,\n        10.0889,  -7.2234,  23.2336,  21.7036,  -2.0873,  42.8675,\n        24.5027, -12.477 ,  17.1818,  94.8792, -10.2208,  18.2064,\n        11.678 ,  -7.3344,  14.0308,  26.7391,  37.7221,  28.8647,\n        18.0994,  34.5787])"
     },
     "execution_count": 270,
     "metadata": {},
     "output_type": "execute_result"
    }
   ],
   "source": [
    "pop"
   ]
  },
  {
   "cell_type": "code",
   "execution_count": 271,
   "metadata": {
    "ExecuteTime": {
     "end_time": "2024-04-30T09:25:59.921619800Z",
     "start_time": "2024-04-30T09:25:59.780973800Z"
    }
   },
   "outputs": [
    {
     "data": {
      "text/plain": "500"
     },
     "execution_count": 271,
     "metadata": {},
     "output_type": "execute_result"
    }
   ],
   "source": [
    "pop.size"
   ]
  },
  {
   "cell_type": "code",
   "execution_count": 272,
   "metadata": {
    "ExecuteTime": {
     "end_time": "2024-04-30T09:25:59.928618500Z",
     "start_time": "2024-04-30T09:25:59.787204200Z"
    }
   },
   "outputs": [
    {
     "data": {
      "text/plain": "386.7155664221679"
     },
     "execution_count": 272,
     "metadata": {},
     "output_type": "execute_result"
    }
   ],
   "source": [
    "pop.max()"
   ]
  },
  {
   "cell_type": "code",
   "execution_count": 273,
   "metadata": {
    "ExecuteTime": {
     "end_time": "2024-04-30T09:25:59.933549800Z",
     "start_time": "2024-04-30T09:25:59.793089700Z"
    }
   },
   "outputs": [
    {
     "data": {
      "text/plain": "-51.30060027705095"
     },
     "execution_count": 273,
     "metadata": {},
     "output_type": "execute_result"
    }
   ],
   "source": [
    "pop.min()"
   ]
  },
  {
   "cell_type": "code",
   "execution_count": 274,
   "metadata": {
    "ExecuteTime": {
     "end_time": "2024-04-30T09:25:59.943547600Z",
     "start_time": "2024-04-30T09:25:59.801493100Z"
    }
   },
   "outputs": [
    {
     "data": {
      "text/plain": "438.01616669921884"
     },
     "execution_count": 274,
     "metadata": {},
     "output_type": "execute_result"
    }
   ],
   "source": [
    "range = pop.ptp()\n",
    "range"
   ]
  },
  {
   "cell_type": "code",
   "execution_count": 275,
   "metadata": {
    "ExecuteTime": {
     "end_time": "2024-04-30T09:26:00.127438Z",
     "start_time": "2024-04-30T09:25:59.930620600Z"
    }
   },
   "outputs": [
    {
     "data": {
      "text/plain": "438.01616669921884"
     },
     "execution_count": 275,
     "metadata": {},
     "output_type": "execute_result"
    }
   ],
   "source": [
    "pop.max() - pop.min()"
   ]
  },
  {
   "cell_type": "code",
   "execution_count": 5,
   "metadata": {
    "ExecuteTime": {
     "end_time": "2024-05-08T17:38:15.944783700Z",
     "start_time": "2024-05-08T17:38:15.891542900Z"
    }
   },
   "outputs": [],
   "source": [
    "sample = np.loadtxt(\"../Data/sample.csv\", delimiter = \",\", usecols = 1)"
   ]
  },
  {
   "cell_type": "code",
   "execution_count": 277,
   "metadata": {
    "ExecuteTime": {
     "end_time": "2024-04-30T09:26:00.177791900Z",
     "start_time": "2024-04-30T09:26:00.144785300Z"
    }
   },
   "outputs": [],
   "source": [
    "sample = sample * 100"
   ]
  },
  {
   "cell_type": "code",
   "execution_count": 278,
   "metadata": {
    "ExecuteTime": {
     "end_time": "2024-04-30T09:26:00.192760500Z",
     "start_time": "2024-04-30T09:26:00.180793300Z"
    }
   },
   "outputs": [
    {
     "data": {
      "text/plain": "array([ 41.5768,  15.944 ,  48.0122,  57.5228,  -3.4514,  13.8443,\n        17.4319,  37.1824,  34.2503,   6.7   ,   9.8218,  -1.1475,\n        49.1152,  10.6609,  94.8792, -12.2015,   4.7219,  -7.3367,\n        29.238 ,  70.642 ,  42.263 ,  38.1711, -12.3205,  24.0071,\n        19.2446,  25.2057,  -0.2212,  89.4335,  -9.6506,  20.2882,\n         9.1631,  37.5357,  10.3996,  18.9385, -12.7475,  14.8334,\n        24.3919,  23.0572,  -9.3474, 132.3002,  11.5148,  70.2186,\n        35.5757,  -0.843 ,  50.2746,  26.2612,  12.4476,  -9.3284,\n        -2.4595,  69.9159])"
     },
     "execution_count": 278,
     "metadata": {},
     "output_type": "execute_result"
    }
   ],
   "source": [
    "sample"
   ]
  },
  {
   "cell_type": "code",
   "execution_count": 279,
   "metadata": {
    "ExecuteTime": {
     "end_time": "2024-04-30T09:26:00.216074400Z",
     "start_time": "2024-04-30T09:26:00.192760500Z"
    }
   },
   "outputs": [
    {
     "data": {
      "text/plain": "50"
     },
     "execution_count": 279,
     "metadata": {},
     "output_type": "execute_result"
    }
   ],
   "source": [
    "sample.size"
   ]
  },
  {
   "cell_type": "code",
   "execution_count": 280,
   "metadata": {
    "ExecuteTime": {
     "end_time": "2024-04-30T09:26:00.242170700Z",
     "start_time": "2024-04-30T09:26:00.210337100Z"
    }
   },
   "outputs": [
    {
     "data": {
      "text/plain": "132.30016313213704"
     },
     "execution_count": 280,
     "metadata": {},
     "output_type": "execute_result"
    }
   ],
   "source": [
    "np.max(sample)"
   ]
  },
  {
   "cell_type": "code",
   "execution_count": 281,
   "metadata": {
    "ExecuteTime": {
     "end_time": "2024-04-30T09:26:00.252829700Z",
     "start_time": "2024-04-30T09:26:00.239076300Z"
    }
   },
   "outputs": [
    {
     "data": {
      "text/plain": "-12.747464992757129"
     },
     "execution_count": 281,
     "metadata": {},
     "output_type": "execute_result"
    }
   ],
   "source": [
    "np.min(sample)"
   ]
  },
  {
   "cell_type": "code",
   "execution_count": 282,
   "metadata": {
    "ExecuteTime": {
     "end_time": "2024-04-30T09:26:00.262192800Z",
     "start_time": "2024-04-30T09:26:00.251171500Z"
    }
   },
   "outputs": [
    {
     "data": {
      "text/plain": "145.04762812489417"
     },
     "execution_count": 282,
     "metadata": {},
     "output_type": "execute_result"
    }
   ],
   "source": [
    "sample.ptp()"
   ]
  },
  {
   "cell_type": "code",
   "execution_count": 282,
   "metadata": {
    "ExecuteTime": {
     "end_time": "2024-04-30T09:26:00.271064400Z",
     "start_time": "2024-04-30T09:26:00.260186500Z"
    }
   },
   "outputs": [],
   "source": []
  },
  {
   "cell_type": "markdown",
   "metadata": {},
   "source": [
    "### Variance and Standard Deviation"
   ]
  },
  {
   "cell_type": "code",
   "execution_count": 283,
   "metadata": {
    "ExecuteTime": {
     "end_time": "2024-04-30T09:26:00.315575800Z",
     "start_time": "2024-04-30T09:26:00.270056100Z"
    }
   },
   "outputs": [],
   "source": [
    "import numpy as np\n",
    "np.set_printoptions(precision=4, suppress= True)"
   ]
  },
  {
   "cell_type": "code",
   "execution_count": 284,
   "metadata": {
    "scrolled": true,
    "ExecuteTime": {
     "end_time": "2024-04-30T09:26:00.329541300Z",
     "start_time": "2024-04-30T09:26:00.294027100Z"
    }
   },
   "outputs": [
    {
     "data": {
      "text/plain": "array([ 46.993 ,  11.4371, -41.0537,  46.1147,  54.4395,  17.4319,\n        66.3206,  48.5811,  30.7009,  70.2186,  22.5971, -12.2015,\n        14.0202,  10.9322,  41.643 ,  12.4476,  16.852 ,  -6.7986,\n        26.1207, -22.1085,  -8.7735,  -3.8284,   8.5936,  21.786 ,\n        -2.4595,  48.5711, 131.1349, -17.1532,  41.2709,  24.3125,\n        -2.2558,  58.4134,  11.0066,  -9.3474,  49.1152,  41.2595,\n        18.9385,  52.7582,  35.0019,  55.9564, 143.4432,  59.574 ,\n        56.5069,  20.147 ,  29.4192, -33.4804,  14.0871,  30.6548,\n        50.2746,  17.511 ,  46.9795,  15.8328,  75.3531,   0.7113,\n        45.3301,  63.5716,  26.4373,  34.0578,  -9.9292,  89.4335,\n        33.5747,  45.7826,   5.7422,  60.464 ,  29.3023,   9.4745,\n        52.8659, -51.3006,  12.3387,  13.6767,  18.5313,  34.995 ,\n         0.8527,   4.8597,  36.6214,  21.6223,  14.6093,  29.5385,\n         3.3789,  25.2061,  -4.7535, -14.8673,  69.9159,  10.604 ,\n        68.6155,  37.5357,  -7.2619,  27.9359,  27.4875,  65.8208,\n        33.4037,  35.9919,  -9.8402,  42.263 ,  35.1334,  17.8221,\n        13.5325,  21.608 ,  16.6852,  52.2528,  -1.0297,  15.2965,\n        23.9293,  27.4556,  15.9861,  26.6147, -23.3992,  29.2456,\n        13.6473,  78.5487,  15.0974,  14.1449,  22.4315,  24.5527,\n         9.4735,  16.2451,   8.6292, -20.4399,  46.4635,  55.9206,\n        49.3281,  26.7373,  53.1033,  34.8477, -29.857 ,  26.7535,\n        23.7345,  -8.1232,   6.3636,  13.2881,   5.8363,  13.8443,\n        24.472 ,  51.8925,   6.7   ,  25.5704,   7.1708,  86.8643,\n        19.2446,   3.1568, -18.351 , -20.9485, -17.5729,  15.917 ,\n        39.0386,  34.7761,   2.4473,  32.0407,  11.1156,   8.3612,\n        12.5389,  -9.3497,  59.7082,  33.3926,  27.1135,  14.4685,\n        15.2959,  -0.2622, -12.1545,  66.3485,  23.1751,  25.0045,\n         6.7359,  26.8067,  -0.9167,  14.3944,   3.8151,  43.0592,\n        17.7672,  10.7799,  -6.2999,  20.2882,  11.0454,  22.1488,\n         5.7292,  13.2185,   2.9678,  24.9258,  16.39  ,  53.3768,\n        28.021 ,  43.7453,  34.0172,  -1.1301,  -9.3284,  24.3919,\n        23.391 ,  12.4954,  28.8201, -12.3205,  35.9737,  67.3802,\n        -5.9692,  -6.5442, -11.8773,  45.0531,  34.9058,  17.8327,\n       -44.7663,   0.0419,  -4.0149,  22.9799,  31.8088,  17.6521,\n        35.5757,  32.9295,  -0.5547,  44.4172,  51.7825,  22.8501,\n         6.3938,   1.7223,  -9.6506,  16.8402,  10.1362,  -3.0598,\n        18.6706, -12.2476,  41.3559, -23.7919,  56.3492,  18.1112,\n        27.9657,  43.0926, -12.7871,   6.5553,  32.3757, -16.4858,\n         6.7658,  41.5768,  14.0496,   4.5389,  -7.8669,   5.3609,\n         9.7457,  21.5851,  -7.5727,  25.062 ,  33.3504,  46.5356,\n        29.5171,  70.642 ,  -5.545 ,  27.5064,  27.2677,  37.6669,\n         9.1971, -13.883 , 116.9284,  28.7311,  18.8566,  16.1638,\n        72.6383,  21.8462,  36.2486,  20.4351,  18.4506,  -7.4775,\n        15.7193,  13.9182,  31.7414,  21.2742,   0.8493,  23.9309,\n        -1.1475,  -7.7737,  10.3996,  13.7544, -10.9482, -27.8617,\n        33.5409,   5.7308, -12.7475,  -0.4038,  10.6609, -20.4578,\n         9.8218,  24.0071,   6.8332,  -8.5358,  26.2612,  -2.3527,\n        49.8223,  24.2483,  38.2356,  31.9908,  32.6917,  14.8334,\n        28.4508,  15.9952,  12.4571,  30.6805,  74.0944,  31.3202,\n        49.1413,  28.6081, -29.6565,  46.5956,   2.6961,  -7.284 ,\n        64.163 ,  38.9627,  41.4065,  36.9914,  11.036 ,  56.5822,\n        -3.4514,  13.3652,   5.2675,  15.8169,  38.1711,   9.1932,\n        37.3196,  -0.2212,  20.4172,  31.8083,  42.7379,   5.6049,\n       -12.5128,  31.0427,  -4.4165,  -2.1953,  24.1893,  60.6245,\n        37.6569,   8.9878,   9.3077,  48.0122,  87.5912,  35.5458,\n        10.9043, -23.4367,  25.2057,  14.4666,  30.7467,  10.1262,\n        55.0565,  15.944 ,  23.0572, 386.7156, -13.23  ,  31.9589,\n        -3.7927, 132.3002,  34.0798,  56.8472,  12.1729,   6.8212,\n        81.2816, -30.7951,  40.678 ,  41.4485,  -0.8003,  -6.8978,\n       -14.4284,  22.9649, -13.6022,   3.4115,  11.8265,  -3.4091,\n        11.2363,  17.3655,  14.6134,  11.5148,  21.9495,   9.2769,\n        58.6479,  42.5571,  80.9032,  42.1245,  40.2109,  22.2012,\n        15.4771,  23.367 ,  25.9426,   9.1631,  23.2799,  -9.1043,\n         4.7219,  10.4939,  -6.4877,  17.0582,  52.0501,  12.2238,\n        -4.0096,  86.5214,  -1.8098,  26.3038,  45.3925,   2.2458,\n         0.3336,   2.4163,  20.3343,  13.8581,  28.9158,  14.8029,\n        36.4867,  46.0938,  37.7442,  41.4682,  22.3323,  18.5101,\n        32.2887,  58.2026,   3.4402,  30.1495,   8.734 ,  52.5787,\n        36.182 ,  -2.983 , -19.726 ,  -6.1553,   1.7691,  44.8182,\n        -2.2362,  -3.3376,  57.5228,   6.2401,  17.7575,  25.5919,\n         9.6149,  49.0901,  47.9554,  27.1765,   6.4516,  29.238 ,\n        17.455 ,   9.6803,  -8.5822, -15.6613,  10.3069,  37.1824,\n        54.4027,  -9.6636,  34.2503,   1.7838,  34.5712,  10.433 ,\n        26.2993, -25.6847,  39.4233,  10.7989,  -1.3982,  31.4364,\n       122.7227,  47.3006,  43.1273,  16.5362, -47.0799, -50.327 ,\n        -7.5192,   5.5921,   6.552 , -12.2696,  37.7531,  24.9488,\n        29.3403,   3.9341,  62.8244,   4.3021,  16.3747,  46.142 ,\n        41.1787,  38.6943, -12.2222,  34.5287,   2.5729,  -7.3367,\n        18.2703,  50.4404, 103.4207,  -4.0147,  -0.843 ,  -1.9152,\n        43.7533, -12.2523,  46.71  ,  17.0419,  13.2651,  -4.7214,\n        10.0889,  -7.2234,  23.2336,  21.7036,  -2.0873,  42.8675,\n        24.5027, -12.477 ,  17.1818,  94.8792, -10.2208,  18.2064,\n        11.678 ,  -7.3344,  14.0308,  26.7391,  37.7221,  28.8647,\n        18.0994,  34.5787])"
     },
     "execution_count": 284,
     "metadata": {},
     "output_type": "execute_result"
    }
   ],
   "source": [
    "pop"
   ]
  },
  {
   "cell_type": "code",
   "execution_count": 285,
   "metadata": {
    "ExecuteTime": {
     "end_time": "2024-04-30T09:26:00.364054800Z",
     "start_time": "2024-04-30T09:26:00.330543800Z"
    }
   },
   "outputs": [
    {
     "data": {
      "text/plain": "array([ 41.5768,  15.944 ,  48.0122,  57.5228,  -3.4514,  13.8443,\n        17.4319,  37.1824,  34.2503,   6.7   ,   9.8218,  -1.1475,\n        49.1152,  10.6609,  94.8792, -12.2015,   4.7219,  -7.3367,\n        29.238 ,  70.642 ,  42.263 ,  38.1711, -12.3205,  24.0071,\n        19.2446,  25.2057,  -0.2212,  89.4335,  -9.6506,  20.2882,\n         9.1631,  37.5357,  10.3996,  18.9385, -12.7475,  14.8334,\n        24.3919,  23.0572,  -9.3474, 132.3002,  11.5148,  70.2186,\n        35.5757,  -0.843 ,  50.2746,  26.2612,  12.4476,  -9.3284,\n        -2.4595,  69.9159])"
     },
     "execution_count": 285,
     "metadata": {},
     "output_type": "execute_result"
    }
   ],
   "source": [
    "sample"
   ]
  },
  {
   "cell_type": "markdown",
   "metadata": {},
   "source": [
    "__Population Variance__"
   ]
  },
  {
   "cell_type": "code",
   "execution_count": 286,
   "metadata": {
    "ExecuteTime": {
     "end_time": "2024-04-30T09:26:00.395039100Z",
     "start_time": "2024-04-30T09:26:00.350684800Z"
    }
   },
   "outputs": [
    {
     "data": {
      "text/plain": "962.631408916871"
     },
     "execution_count": 286,
     "metadata": {},
     "output_type": "execute_result"
    }
   ],
   "source": [
    "pop.var()"
   ]
  },
  {
   "cell_type": "code",
   "execution_count": 287,
   "metadata": {
    "ExecuteTime": {
     "end_time": "2024-04-30T09:26:00.443701100Z",
     "start_time": "2024-04-30T09:26:00.398039500Z"
    }
   },
   "outputs": [
    {
     "data": {
      "text/plain": "962.631408916871"
     },
     "execution_count": 287,
     "metadata": {},
     "output_type": "execute_result"
    }
   ],
   "source": [
    "np.var(pop)"
   ]
  },
  {
   "cell_type": "markdown",
   "metadata": {},
   "source": [
    "__Sample Variance__"
   ]
  },
  {
   "cell_type": "code",
   "execution_count": 288,
   "metadata": {
    "ExecuteTime": {
     "end_time": "2024-04-30T09:26:00.499699Z",
     "start_time": "2024-04-30T09:26:00.429400100Z"
    }
   },
   "outputs": [
    {
     "data": {
      "text/plain": "911.4389576826238"
     },
     "execution_count": 288,
     "metadata": {},
     "output_type": "execute_result"
    }
   ],
   "source": [
    "np.var(sample)"
   ]
  },
  {
   "cell_type": "code",
   "execution_count": 289,
   "metadata": {
    "ExecuteTime": {
     "end_time": "2024-04-30T09:26:00.534610600Z",
     "start_time": "2024-04-30T09:26:00.501697500Z"
    }
   },
   "outputs": [
    {
     "data": {
      "text/plain": "930.0397527373713"
     },
     "execution_count": 289,
     "metadata": {},
     "output_type": "execute_result"
    }
   ],
   "source": [
    "np.var(sample, ddof = 1)"
   ]
  },
  {
   "cell_type": "markdown",
   "metadata": {},
   "source": [
    "__Standard Deviation__"
   ]
  },
  {
   "cell_type": "code",
   "execution_count": 290,
   "metadata": {
    "ExecuteTime": {
     "end_time": "2024-04-30T09:26:00.554276300Z",
     "start_time": "2024-04-30T09:26:00.520667900Z"
    }
   },
   "outputs": [
    {
     "data": {
      "text/plain": "31.026301889153192"
     },
     "execution_count": 290,
     "metadata": {},
     "output_type": "execute_result"
    }
   ],
   "source": [
    "np.sqrt(pop.var())"
   ]
  },
  {
   "cell_type": "code",
   "execution_count": 291,
   "metadata": {
    "ExecuteTime": {
     "end_time": "2024-04-30T09:26:00.597278900Z",
     "start_time": "2024-04-30T09:26:00.542613300Z"
    }
   },
   "outputs": [
    {
     "data": {
      "text/plain": "31.026301889153192"
     },
     "execution_count": 291,
     "metadata": {},
     "output_type": "execute_result"
    }
   ],
   "source": [
    "pop.std()"
   ]
  },
  {
   "cell_type": "code",
   "execution_count": 292,
   "metadata": {
    "ExecuteTime": {
     "end_time": "2024-04-30T09:26:00.625887400Z",
     "start_time": "2024-04-30T09:26:00.599280100Z"
    }
   },
   "outputs": [
    {
     "data": {
      "text/plain": "30.496553128794265"
     },
     "execution_count": 292,
     "metadata": {},
     "output_type": "execute_result"
    }
   ],
   "source": [
    "np.sqrt(np.var(sample, ddof = 1))"
   ]
  },
  {
   "cell_type": "code",
   "execution_count": 293,
   "metadata": {
    "ExecuteTime": {
     "end_time": "2024-04-30T09:26:00.638884900Z",
     "start_time": "2024-04-30T09:26:00.610807800Z"
    }
   },
   "outputs": [
    {
     "data": {
      "text/plain": "30.496553128794265"
     },
     "execution_count": 293,
     "metadata": {},
     "output_type": "execute_result"
    }
   ],
   "source": [
    "sample.std(ddof = 1)"
   ]
  },
  {
   "cell_type": "code",
   "execution_count": 293,
   "metadata": {
    "ExecuteTime": {
     "end_time": "2024-04-30T09:26:00.681729100Z",
     "start_time": "2024-04-30T09:26:00.638884900Z"
    }
   },
   "outputs": [],
   "source": []
  },
  {
   "cell_type": "markdown",
   "metadata": {},
   "source": [
    "### Percentiles"
   ]
  },
  {
   "cell_type": "code",
   "execution_count": 294,
   "metadata": {
    "ExecuteTime": {
     "end_time": "2024-04-30T09:26:00.705561Z",
     "start_time": "2024-04-30T09:26:00.680092700Z"
    }
   },
   "outputs": [],
   "source": [
    "import numpy as np\n",
    "np.set_printoptions(precision=4, suppress= True)"
   ]
  },
  {
   "cell_type": "code",
   "execution_count": 295,
   "metadata": {
    "scrolled": true,
    "ExecuteTime": {
     "end_time": "2024-04-30T09:26:00.737558300Z",
     "start_time": "2024-04-30T09:26:00.698735100Z"
    }
   },
   "outputs": [
    {
     "data": {
      "text/plain": "array([ 46.993 ,  11.4371, -41.0537,  46.1147,  54.4395,  17.4319,\n        66.3206,  48.5811,  30.7009,  70.2186,  22.5971, -12.2015,\n        14.0202,  10.9322,  41.643 ,  12.4476,  16.852 ,  -6.7986,\n        26.1207, -22.1085,  -8.7735,  -3.8284,   8.5936,  21.786 ,\n        -2.4595,  48.5711, 131.1349, -17.1532,  41.2709,  24.3125,\n        -2.2558,  58.4134,  11.0066,  -9.3474,  49.1152,  41.2595,\n        18.9385,  52.7582,  35.0019,  55.9564, 143.4432,  59.574 ,\n        56.5069,  20.147 ,  29.4192, -33.4804,  14.0871,  30.6548,\n        50.2746,  17.511 ,  46.9795,  15.8328,  75.3531,   0.7113,\n        45.3301,  63.5716,  26.4373,  34.0578,  -9.9292,  89.4335,\n        33.5747,  45.7826,   5.7422,  60.464 ,  29.3023,   9.4745,\n        52.8659, -51.3006,  12.3387,  13.6767,  18.5313,  34.995 ,\n         0.8527,   4.8597,  36.6214,  21.6223,  14.6093,  29.5385,\n         3.3789,  25.2061,  -4.7535, -14.8673,  69.9159,  10.604 ,\n        68.6155,  37.5357,  -7.2619,  27.9359,  27.4875,  65.8208,\n        33.4037,  35.9919,  -9.8402,  42.263 ,  35.1334,  17.8221,\n        13.5325,  21.608 ,  16.6852,  52.2528,  -1.0297,  15.2965,\n        23.9293,  27.4556,  15.9861,  26.6147, -23.3992,  29.2456,\n        13.6473,  78.5487,  15.0974,  14.1449,  22.4315,  24.5527,\n         9.4735,  16.2451,   8.6292, -20.4399,  46.4635,  55.9206,\n        49.3281,  26.7373,  53.1033,  34.8477, -29.857 ,  26.7535,\n        23.7345,  -8.1232,   6.3636,  13.2881,   5.8363,  13.8443,\n        24.472 ,  51.8925,   6.7   ,  25.5704,   7.1708,  86.8643,\n        19.2446,   3.1568, -18.351 , -20.9485, -17.5729,  15.917 ,\n        39.0386,  34.7761,   2.4473,  32.0407,  11.1156,   8.3612,\n        12.5389,  -9.3497,  59.7082,  33.3926,  27.1135,  14.4685,\n        15.2959,  -0.2622, -12.1545,  66.3485,  23.1751,  25.0045,\n         6.7359,  26.8067,  -0.9167,  14.3944,   3.8151,  43.0592,\n        17.7672,  10.7799,  -6.2999,  20.2882,  11.0454,  22.1488,\n         5.7292,  13.2185,   2.9678,  24.9258,  16.39  ,  53.3768,\n        28.021 ,  43.7453,  34.0172,  -1.1301,  -9.3284,  24.3919,\n        23.391 ,  12.4954,  28.8201, -12.3205,  35.9737,  67.3802,\n        -5.9692,  -6.5442, -11.8773,  45.0531,  34.9058,  17.8327,\n       -44.7663,   0.0419,  -4.0149,  22.9799,  31.8088,  17.6521,\n        35.5757,  32.9295,  -0.5547,  44.4172,  51.7825,  22.8501,\n         6.3938,   1.7223,  -9.6506,  16.8402,  10.1362,  -3.0598,\n        18.6706, -12.2476,  41.3559, -23.7919,  56.3492,  18.1112,\n        27.9657,  43.0926, -12.7871,   6.5553,  32.3757, -16.4858,\n         6.7658,  41.5768,  14.0496,   4.5389,  -7.8669,   5.3609,\n         9.7457,  21.5851,  -7.5727,  25.062 ,  33.3504,  46.5356,\n        29.5171,  70.642 ,  -5.545 ,  27.5064,  27.2677,  37.6669,\n         9.1971, -13.883 , 116.9284,  28.7311,  18.8566,  16.1638,\n        72.6383,  21.8462,  36.2486,  20.4351,  18.4506,  -7.4775,\n        15.7193,  13.9182,  31.7414,  21.2742,   0.8493,  23.9309,\n        -1.1475,  -7.7737,  10.3996,  13.7544, -10.9482, -27.8617,\n        33.5409,   5.7308, -12.7475,  -0.4038,  10.6609, -20.4578,\n         9.8218,  24.0071,   6.8332,  -8.5358,  26.2612,  -2.3527,\n        49.8223,  24.2483,  38.2356,  31.9908,  32.6917,  14.8334,\n        28.4508,  15.9952,  12.4571,  30.6805,  74.0944,  31.3202,\n        49.1413,  28.6081, -29.6565,  46.5956,   2.6961,  -7.284 ,\n        64.163 ,  38.9627,  41.4065,  36.9914,  11.036 ,  56.5822,\n        -3.4514,  13.3652,   5.2675,  15.8169,  38.1711,   9.1932,\n        37.3196,  -0.2212,  20.4172,  31.8083,  42.7379,   5.6049,\n       -12.5128,  31.0427,  -4.4165,  -2.1953,  24.1893,  60.6245,\n        37.6569,   8.9878,   9.3077,  48.0122,  87.5912,  35.5458,\n        10.9043, -23.4367,  25.2057,  14.4666,  30.7467,  10.1262,\n        55.0565,  15.944 ,  23.0572, 386.7156, -13.23  ,  31.9589,\n        -3.7927, 132.3002,  34.0798,  56.8472,  12.1729,   6.8212,\n        81.2816, -30.7951,  40.678 ,  41.4485,  -0.8003,  -6.8978,\n       -14.4284,  22.9649, -13.6022,   3.4115,  11.8265,  -3.4091,\n        11.2363,  17.3655,  14.6134,  11.5148,  21.9495,   9.2769,\n        58.6479,  42.5571,  80.9032,  42.1245,  40.2109,  22.2012,\n        15.4771,  23.367 ,  25.9426,   9.1631,  23.2799,  -9.1043,\n         4.7219,  10.4939,  -6.4877,  17.0582,  52.0501,  12.2238,\n        -4.0096,  86.5214,  -1.8098,  26.3038,  45.3925,   2.2458,\n         0.3336,   2.4163,  20.3343,  13.8581,  28.9158,  14.8029,\n        36.4867,  46.0938,  37.7442,  41.4682,  22.3323,  18.5101,\n        32.2887,  58.2026,   3.4402,  30.1495,   8.734 ,  52.5787,\n        36.182 ,  -2.983 , -19.726 ,  -6.1553,   1.7691,  44.8182,\n        -2.2362,  -3.3376,  57.5228,   6.2401,  17.7575,  25.5919,\n         9.6149,  49.0901,  47.9554,  27.1765,   6.4516,  29.238 ,\n        17.455 ,   9.6803,  -8.5822, -15.6613,  10.3069,  37.1824,\n        54.4027,  -9.6636,  34.2503,   1.7838,  34.5712,  10.433 ,\n        26.2993, -25.6847,  39.4233,  10.7989,  -1.3982,  31.4364,\n       122.7227,  47.3006,  43.1273,  16.5362, -47.0799, -50.327 ,\n        -7.5192,   5.5921,   6.552 , -12.2696,  37.7531,  24.9488,\n        29.3403,   3.9341,  62.8244,   4.3021,  16.3747,  46.142 ,\n        41.1787,  38.6943, -12.2222,  34.5287,   2.5729,  -7.3367,\n        18.2703,  50.4404, 103.4207,  -4.0147,  -0.843 ,  -1.9152,\n        43.7533, -12.2523,  46.71  ,  17.0419,  13.2651,  -4.7214,\n        10.0889,  -7.2234,  23.2336,  21.7036,  -2.0873,  42.8675,\n        24.5027, -12.477 ,  17.1818,  94.8792, -10.2208,  18.2064,\n        11.678 ,  -7.3344,  14.0308,  26.7391,  37.7221,  28.8647,\n        18.0994,  34.5787])"
     },
     "execution_count": 295,
     "metadata": {},
     "output_type": "execute_result"
    }
   ],
   "source": [
    "pop"
   ]
  },
  {
   "cell_type": "code",
   "execution_count": 296,
   "metadata": {
    "ExecuteTime": {
     "end_time": "2024-04-30T09:26:00.783874Z",
     "start_time": "2024-04-30T09:26:00.740558400Z"
    }
   },
   "outputs": [
    {
     "data": {
      "text/plain": "18.158807954190955"
     },
     "execution_count": 296,
     "metadata": {},
     "output_type": "execute_result"
    }
   ],
   "source": [
    "np.percentile(pop, 50)"
   ]
  },
  {
   "cell_type": "code",
   "execution_count": 297,
   "metadata": {
    "ExecuteTime": {
     "end_time": "2024-04-30T09:26:00.818281700Z",
     "start_time": "2024-04-30T09:26:00.769978100Z"
    }
   },
   "outputs": [
    {
     "data": {
      "text/plain": "18.158807954190955"
     },
     "execution_count": 297,
     "metadata": {},
     "output_type": "execute_result"
    }
   ],
   "source": [
    "np.median(pop)"
   ]
  },
  {
   "cell_type": "code",
   "execution_count": 298,
   "metadata": {
    "ExecuteTime": {
     "end_time": "2024-04-30T09:26:00.847285600Z",
     "start_time": "2024-04-30T09:26:00.803875400Z"
    }
   },
   "outputs": [
    {
     "data": {
      "text/plain": "-14.45033274497672"
     },
     "execution_count": 298,
     "metadata": {},
     "output_type": "execute_result"
    }
   ],
   "source": [
    "np.percentile(pop, 5)"
   ]
  },
  {
   "cell_type": "code",
   "execution_count": 299,
   "metadata": {
    "ExecuteTime": {
     "end_time": "2024-04-30T09:26:00.891732800Z",
     "start_time": "2024-04-30T09:26:00.845281300Z"
    }
   },
   "outputs": [
    {
     "data": {
      "text/plain": "65.84576599196505"
     },
     "execution_count": 299,
     "metadata": {},
     "output_type": "execute_result"
    }
   ],
   "source": [
    "np.percentile(pop, 95)"
   ]
  },
  {
   "cell_type": "code",
   "execution_count": 300,
   "metadata": {
    "ExecuteTime": {
     "end_time": "2024-04-30T09:26:00.923067200Z",
     "start_time": "2024-04-30T09:26:00.889507700Z"
    }
   },
   "outputs": [
    {
     "data": {
      "text/plain": "array([ 4.2101, 35.5532])"
     },
     "execution_count": 300,
     "metadata": {},
     "output_type": "execute_result"
    }
   ],
   "source": [
    "np.percentile(pop, [25, 75])"
   ]
  },
  {
   "cell_type": "code",
   "execution_count": 301,
   "metadata": {
    "ExecuteTime": {
     "end_time": "2024-04-30T09:26:00.963750400Z",
     "start_time": "2024-04-30T09:26:00.910738400Z"
    }
   },
   "outputs": [
    {
     "data": {
      "text/plain": "array([-14.4503,  65.8458])"
     },
     "execution_count": 301,
     "metadata": {},
     "output_type": "execute_result"
    }
   ],
   "source": [
    "np.percentile(pop, [5, 95])"
   ]
  },
  {
   "cell_type": "code",
   "execution_count": 302,
   "metadata": {
    "ExecuteTime": {
     "end_time": "2024-04-30T09:26:00.975748300Z",
     "start_time": "2024-04-30T09:26:00.948067500Z"
    }
   },
   "outputs": [
    {
     "data": {
      "text/plain": "array([-23.4189,  81.1018])"
     },
     "execution_count": 302,
     "metadata": {},
     "output_type": "execute_result"
    }
   ],
   "source": [
    "np.percentile(pop, [2.5, 97.5])"
   ]
  },
  {
   "cell_type": "code",
   "execution_count": 302,
   "metadata": {
    "ExecuteTime": {
     "end_time": "2024-04-30T09:26:01.019523900Z",
     "start_time": "2024-04-30T09:26:00.978575100Z"
    }
   },
   "outputs": [],
   "source": []
  },
  {
   "cell_type": "markdown",
   "metadata": {},
   "source": [
    "### How to calculate Skew & Kurtosis with scipy"
   ]
  },
  {
   "cell_type": "code",
   "execution_count": 303,
   "metadata": {
    "ExecuteTime": {
     "end_time": "2024-04-30T09:26:01.035533700Z",
     "start_time": "2024-04-30T09:26:01.019014700Z"
    }
   },
   "outputs": [],
   "source": [
    "import numpy as np\n",
    "import matplotlib.pyplot as plt\n",
    "np.set_printoptions(precision=4, suppress= True)"
   ]
  },
  {
   "cell_type": "code",
   "execution_count": 6,
   "metadata": {
    "ExecuteTime": {
     "end_time": "2024-05-08T17:38:40.193089600Z",
     "start_time": "2024-05-08T17:38:40.097133400Z"
    }
   },
   "outputs": [],
   "source": [
    "pop = np.loadtxt(\"../Data/SP500_pop.csv\", delimiter = \",\", usecols = 1)"
   ]
  },
  {
   "cell_type": "code",
   "execution_count": 305,
   "metadata": {
    "scrolled": true,
    "ExecuteTime": {
     "end_time": "2024-04-30T09:26:01.066091100Z",
     "start_time": "2024-04-30T09:26:01.046085600Z"
    }
   },
   "outputs": [],
   "source": [
    "pop = pop * 100"
   ]
  },
  {
   "cell_type": "code",
   "execution_count": 306,
   "metadata": {
    "scrolled": true,
    "ExecuteTime": {
     "end_time": "2024-04-30T09:26:01.105770400Z",
     "start_time": "2024-04-30T09:26:01.073091Z"
    }
   },
   "outputs": [
    {
     "data": {
      "text/plain": "array([ 46.993 ,  11.4371, -41.0537,  46.1147,  54.4395,  17.4319,\n        66.3206,  48.5811,  30.7009,  70.2186,  22.5971, -12.2015,\n        14.0202,  10.9322,  41.643 ,  12.4476,  16.852 ,  -6.7986,\n        26.1207, -22.1085,  -8.7735,  -3.8284,   8.5936,  21.786 ,\n        -2.4595,  48.5711, 131.1349, -17.1532,  41.2709,  24.3125,\n        -2.2558,  58.4134,  11.0066,  -9.3474,  49.1152,  41.2595,\n        18.9385,  52.7582,  35.0019,  55.9564, 143.4432,  59.574 ,\n        56.5069,  20.147 ,  29.4192, -33.4804,  14.0871,  30.6548,\n        50.2746,  17.511 ,  46.9795,  15.8328,  75.3531,   0.7113,\n        45.3301,  63.5716,  26.4373,  34.0578,  -9.9292,  89.4335,\n        33.5747,  45.7826,   5.7422,  60.464 ,  29.3023,   9.4745,\n        52.8659, -51.3006,  12.3387,  13.6767,  18.5313,  34.995 ,\n         0.8527,   4.8597,  36.6214,  21.6223,  14.6093,  29.5385,\n         3.3789,  25.2061,  -4.7535, -14.8673,  69.9159,  10.604 ,\n        68.6155,  37.5357,  -7.2619,  27.9359,  27.4875,  65.8208,\n        33.4037,  35.9919,  -9.8402,  42.263 ,  35.1334,  17.8221,\n        13.5325,  21.608 ,  16.6852,  52.2528,  -1.0297,  15.2965,\n        23.9293,  27.4556,  15.9861,  26.6147, -23.3992,  29.2456,\n        13.6473,  78.5487,  15.0974,  14.1449,  22.4315,  24.5527,\n         9.4735,  16.2451,   8.6292, -20.4399,  46.4635,  55.9206,\n        49.3281,  26.7373,  53.1033,  34.8477, -29.857 ,  26.7535,\n        23.7345,  -8.1232,   6.3636,  13.2881,   5.8363,  13.8443,\n        24.472 ,  51.8925,   6.7   ,  25.5704,   7.1708,  86.8643,\n        19.2446,   3.1568, -18.351 , -20.9485, -17.5729,  15.917 ,\n        39.0386,  34.7761,   2.4473,  32.0407,  11.1156,   8.3612,\n        12.5389,  -9.3497,  59.7082,  33.3926,  27.1135,  14.4685,\n        15.2959,  -0.2622, -12.1545,  66.3485,  23.1751,  25.0045,\n         6.7359,  26.8067,  -0.9167,  14.3944,   3.8151,  43.0592,\n        17.7672,  10.7799,  -6.2999,  20.2882,  11.0454,  22.1488,\n         5.7292,  13.2185,   2.9678,  24.9258,  16.39  ,  53.3768,\n        28.021 ,  43.7453,  34.0172,  -1.1301,  -9.3284,  24.3919,\n        23.391 ,  12.4954,  28.8201, -12.3205,  35.9737,  67.3802,\n        -5.9692,  -6.5442, -11.8773,  45.0531,  34.9058,  17.8327,\n       -44.7663,   0.0419,  -4.0149,  22.9799,  31.8088,  17.6521,\n        35.5757,  32.9295,  -0.5547,  44.4172,  51.7825,  22.8501,\n         6.3938,   1.7223,  -9.6506,  16.8402,  10.1362,  -3.0598,\n        18.6706, -12.2476,  41.3559, -23.7919,  56.3492,  18.1112,\n        27.9657,  43.0926, -12.7871,   6.5553,  32.3757, -16.4858,\n         6.7658,  41.5768,  14.0496,   4.5389,  -7.8669,   5.3609,\n         9.7457,  21.5851,  -7.5727,  25.062 ,  33.3504,  46.5356,\n        29.5171,  70.642 ,  -5.545 ,  27.5064,  27.2677,  37.6669,\n         9.1971, -13.883 , 116.9284,  28.7311,  18.8566,  16.1638,\n        72.6383,  21.8462,  36.2486,  20.4351,  18.4506,  -7.4775,\n        15.7193,  13.9182,  31.7414,  21.2742,   0.8493,  23.9309,\n        -1.1475,  -7.7737,  10.3996,  13.7544, -10.9482, -27.8617,\n        33.5409,   5.7308, -12.7475,  -0.4038,  10.6609, -20.4578,\n         9.8218,  24.0071,   6.8332,  -8.5358,  26.2612,  -2.3527,\n        49.8223,  24.2483,  38.2356,  31.9908,  32.6917,  14.8334,\n        28.4508,  15.9952,  12.4571,  30.6805,  74.0944,  31.3202,\n        49.1413,  28.6081, -29.6565,  46.5956,   2.6961,  -7.284 ,\n        64.163 ,  38.9627,  41.4065,  36.9914,  11.036 ,  56.5822,\n        -3.4514,  13.3652,   5.2675,  15.8169,  38.1711,   9.1932,\n        37.3196,  -0.2212,  20.4172,  31.8083,  42.7379,   5.6049,\n       -12.5128,  31.0427,  -4.4165,  -2.1953,  24.1893,  60.6245,\n        37.6569,   8.9878,   9.3077,  48.0122,  87.5912,  35.5458,\n        10.9043, -23.4367,  25.2057,  14.4666,  30.7467,  10.1262,\n        55.0565,  15.944 ,  23.0572, 386.7156, -13.23  ,  31.9589,\n        -3.7927, 132.3002,  34.0798,  56.8472,  12.1729,   6.8212,\n        81.2816, -30.7951,  40.678 ,  41.4485,  -0.8003,  -6.8978,\n       -14.4284,  22.9649, -13.6022,   3.4115,  11.8265,  -3.4091,\n        11.2363,  17.3655,  14.6134,  11.5148,  21.9495,   9.2769,\n        58.6479,  42.5571,  80.9032,  42.1245,  40.2109,  22.2012,\n        15.4771,  23.367 ,  25.9426,   9.1631,  23.2799,  -9.1043,\n         4.7219,  10.4939,  -6.4877,  17.0582,  52.0501,  12.2238,\n        -4.0096,  86.5214,  -1.8098,  26.3038,  45.3925,   2.2458,\n         0.3336,   2.4163,  20.3343,  13.8581,  28.9158,  14.8029,\n        36.4867,  46.0938,  37.7442,  41.4682,  22.3323,  18.5101,\n        32.2887,  58.2026,   3.4402,  30.1495,   8.734 ,  52.5787,\n        36.182 ,  -2.983 , -19.726 ,  -6.1553,   1.7691,  44.8182,\n        -2.2362,  -3.3376,  57.5228,   6.2401,  17.7575,  25.5919,\n         9.6149,  49.0901,  47.9554,  27.1765,   6.4516,  29.238 ,\n        17.455 ,   9.6803,  -8.5822, -15.6613,  10.3069,  37.1824,\n        54.4027,  -9.6636,  34.2503,   1.7838,  34.5712,  10.433 ,\n        26.2993, -25.6847,  39.4233,  10.7989,  -1.3982,  31.4364,\n       122.7227,  47.3006,  43.1273,  16.5362, -47.0799, -50.327 ,\n        -7.5192,   5.5921,   6.552 , -12.2696,  37.7531,  24.9488,\n        29.3403,   3.9341,  62.8244,   4.3021,  16.3747,  46.142 ,\n        41.1787,  38.6943, -12.2222,  34.5287,   2.5729,  -7.3367,\n        18.2703,  50.4404, 103.4207,  -4.0147,  -0.843 ,  -1.9152,\n        43.7533, -12.2523,  46.71  ,  17.0419,  13.2651,  -4.7214,\n        10.0889,  -7.2234,  23.2336,  21.7036,  -2.0873,  42.8675,\n        24.5027, -12.477 ,  17.1818,  94.8792, -10.2208,  18.2064,\n        11.678 ,  -7.3344,  14.0308,  26.7391,  37.7221,  28.8647,\n        18.0994,  34.5787])"
     },
     "execution_count": 306,
     "metadata": {},
     "output_type": "execute_result"
    }
   ],
   "source": [
    "pop"
   ]
  },
  {
   "cell_type": "code",
   "execution_count": 307,
   "metadata": {
    "ExecuteTime": {
     "end_time": "2024-04-30T09:26:01.356174300Z",
     "start_time": "2024-04-30T09:26:01.082768500Z"
    }
   },
   "outputs": [
    {
     "data": {
      "text/plain": "<Figure size 1200x800 with 1 Axes>",
      "image/png": "[encoded data removed]"
     },
     "metadata": {},
     "output_type": "display_data"
    }
   ],
   "source": [
    "plt.figure(figsize = (12, 8))\n",
    "plt.hist(pop, bins = 75)\n",
    "plt.title(\"Absolute Frequencies - Population\", fontsize = 20)\n",
    "plt.xlabel(\"Stock Returns 2017 (in %)\", fontsize = 15)\n",
    "plt.ylabel(\"Absolute Frequency\", fontsize = 15)\n",
    "plt.xticks(np.arange(-100, 401, 25))\n",
    "plt.show()"
   ]
  },
  {
   "cell_type": "code",
   "execution_count": 308,
   "metadata": {
    "ExecuteTime": {
     "end_time": "2024-04-30T09:26:01.365463100Z",
     "start_time": "2024-04-30T09:26:01.357830100Z"
    }
   },
   "outputs": [],
   "source": [
    "import scipy.stats as stats"
   ]
  },
  {
   "cell_type": "markdown",
   "metadata": {},
   "source": [
    "__Skew__"
   ]
  },
  {
   "cell_type": "code",
   "execution_count": 309,
   "metadata": {
    "ExecuteTime": {
     "end_time": "2024-04-30T09:26:01.371469300Z",
     "start_time": "2024-04-30T09:26:01.360837300Z"
    }
   },
   "outputs": [
    {
     "data": {
      "text/plain": "3.69215566312915"
     },
     "execution_count": 309,
     "metadata": {},
     "output_type": "execute_result"
    }
   ],
   "source": [
    "stats.skew(pop)"
   ]
  },
  {
   "cell_type": "markdown",
   "metadata": {},
   "source": [
    "__Kurtosis__"
   ]
  },
  {
   "cell_type": "code",
   "execution_count": 310,
   "metadata": {
    "ExecuteTime": {
     "end_time": "2024-04-30T09:26:01.383835500Z",
     "start_time": "2024-04-30T09:26:01.370471Z"
    }
   },
   "outputs": [
    {
     "data": {
      "text/plain": "38.01022437524736"
     },
     "execution_count": 310,
     "metadata": {},
     "output_type": "execute_result"
    }
   ],
   "source": [
    "stats.kurtosis(pop, fisher = True)"
   ]
  },
  {
   "cell_type": "code",
   "execution_count": 311,
   "metadata": {
    "ExecuteTime": {
     "end_time": "2024-04-30T09:26:01.497347600Z",
     "start_time": "2024-04-30T09:26:01.377519400Z"
    }
   },
   "outputs": [
    {
     "data": {
      "text/plain": "41.01022437524736"
     },
     "execution_count": 311,
     "metadata": {},
     "output_type": "execute_result"
    }
   ],
   "source": [
    "stats.kurtosis(pop, fisher = False)"
   ]
  },
  {
   "cell_type": "code",
   "execution_count": 311,
   "metadata": {
    "ExecuteTime": {
     "end_time": "2024-04-30T09:26:01.506348900Z",
     "start_time": "2024-04-30T09:26:01.384341600Z"
    }
   },
   "outputs": [],
   "source": []
  }
 ],
 "metadata": {
  "kernelspec": {
   "display_name": "Python 3 (ipykernel)",
   "language": "python",
   "name": "python3"
  },
  "language_info": {
   "codemirror_mode": {
    "name": "ipython",
    "version": 3
   },
   "file_extension": ".py",
   "mimetype": "text/x-python",
   "name": "python",
   "nbconvert_exporter": "python",
   "pygments_lexer": "ipython3",
   "version": "3.9.16"
  }
 },
 "nbformat": 4,
 "nbformat_minor": 2
}
