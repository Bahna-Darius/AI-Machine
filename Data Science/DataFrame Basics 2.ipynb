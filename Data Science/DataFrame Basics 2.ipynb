{
 "cells": [
  {
   "cell_type": "code",
   "outputs": [],
   "source": [
    "import pandas as pd"
   ],
   "metadata": {
    "collapsed": true,
    "ExecuteTime": {
     "end_time": "2024-02-24T20:42:59.526270500Z",
     "start_time": "2024-02-24T20:42:57.124765900Z"
    }
   },
   "id": "initial_id",
   "execution_count": 2
  },
  {
   "cell_type": "code",
   "outputs": [],
   "source": [
    "titanic = pd.read_csv(\"titanic.csv\")"
   ],
   "metadata": {
    "collapsed": false,
    "ExecuteTime": {
     "end_time": "2024-02-24T20:42:59.587362Z",
     "start_time": "2024-02-24T20:42:59.524252100Z"
    }
   },
   "id": "b4c840746b292a8",
   "execution_count": 3
  },
  {
   "cell_type": "markdown",
   "source": [
    "#  Filter Columns"
   ],
   "metadata": {
    "collapsed": false
   },
   "id": "e224d59b4b5e91ef"
  },
  {
   "cell_type": "code",
   "outputs": [
    {
     "data": {
      "text/plain": "   survived  pclass     sex   age  sibsp  parch     fare embarked deck\n0         0       3    male  22.0      1      0   7.2500        S  NaN\n1         1       1  female  38.0      1      0  71.2833        C    C\n2         1       3  female  26.0      0      0   7.9250        S  NaN\n3         1       1  female  35.0      1      0  53.1000        S    C\n4         0       3    male  35.0      0      0   8.0500        S  NaN",
      "text/html": "<div>\n<style scoped>\n    .dataframe tbody tr th:only-of-type {\n        vertical-align: middle;\n    }\n\n    .dataframe tbody tr th {\n        vertical-align: top;\n    }\n\n    .dataframe thead th {\n        text-align: right;\n    }\n</style>\n<table border=\"1\" class=\"dataframe\">\n  <thead>\n    <tr style=\"text-align: right;\">\n      <th></th>\n      <th>survived</th>\n      <th>pclass</th>\n      <th>sex</th>\n      <th>age</th>\n      <th>sibsp</th>\n      <th>parch</th>\n      <th>fare</th>\n      <th>embarked</th>\n      <th>deck</th>\n    </tr>\n  </thead>\n  <tbody>\n    <tr>\n      <th>0</th>\n      <td>0</td>\n      <td>3</td>\n      <td>male</td>\n      <td>22.0</td>\n      <td>1</td>\n      <td>0</td>\n      <td>7.2500</td>\n      <td>S</td>\n      <td>NaN</td>\n    </tr>\n    <tr>\n      <th>1</th>\n      <td>1</td>\n      <td>1</td>\n      <td>female</td>\n      <td>38.0</td>\n      <td>1</td>\n      <td>0</td>\n      <td>71.2833</td>\n      <td>C</td>\n      <td>C</td>\n    </tr>\n    <tr>\n      <th>2</th>\n      <td>1</td>\n      <td>3</td>\n      <td>female</td>\n      <td>26.0</td>\n      <td>0</td>\n      <td>0</td>\n      <td>7.9250</td>\n      <td>S</td>\n      <td>NaN</td>\n    </tr>\n    <tr>\n      <th>3</th>\n      <td>1</td>\n      <td>1</td>\n      <td>female</td>\n      <td>35.0</td>\n      <td>1</td>\n      <td>0</td>\n      <td>53.1000</td>\n      <td>S</td>\n      <td>C</td>\n    </tr>\n    <tr>\n      <th>4</th>\n      <td>0</td>\n      <td>3</td>\n      <td>male</td>\n      <td>35.0</td>\n      <td>0</td>\n      <td>0</td>\n      <td>8.0500</td>\n      <td>S</td>\n      <td>NaN</td>\n    </tr>\n  </tbody>\n</table>\n</div>"
     },
     "execution_count": 4,
     "metadata": {},
     "output_type": "execute_result"
    }
   ],
   "source": [
    "titanic.head()"
   ],
   "metadata": {
    "collapsed": false,
    "ExecuteTime": {
     "end_time": "2024-02-24T20:42:59.622977800Z",
     "start_time": "2024-02-24T20:42:59.550322800Z"
    }
   },
   "id": "20830a8c881baee4",
   "execution_count": 4
  },
  {
   "cell_type": "code",
   "outputs": [],
   "source": [
    "male_column = titanic.loc[titanic.sex == \"male\"]"
   ],
   "metadata": {
    "collapsed": false,
    "ExecuteTime": {
     "end_time": "2024-02-24T20:42:59.683246900Z",
     "start_time": "2024-02-24T20:42:59.566028Z"
    }
   },
   "id": "6019827cb9b11dd7",
   "execution_count": 5
  },
  {
   "cell_type": "code",
   "outputs": [
    {
     "data": {
      "text/plain": "   survived  pclass   sex   age  sibsp  parch     fare embarked deck\n0         0       3  male  22.0      1      0   7.2500        S  NaN\n4         0       3  male  35.0      0      0   8.0500        S  NaN\n5         0       3  male   NaN      0      0   8.4583        Q  NaN\n6         0       1  male  54.0      0      0  51.8625        S    E\n7         0       3  male   2.0      3      1  21.0750        S  NaN",
      "text/html": "<div>\n<style scoped>\n    .dataframe tbody tr th:only-of-type {\n        vertical-align: middle;\n    }\n\n    .dataframe tbody tr th {\n        vertical-align: top;\n    }\n\n    .dataframe thead th {\n        text-align: right;\n    }\n</style>\n<table border=\"1\" class=\"dataframe\">\n  <thead>\n    <tr style=\"text-align: right;\">\n      <th></th>\n      <th>survived</th>\n      <th>pclass</th>\n      <th>sex</th>\n      <th>age</th>\n      <th>sibsp</th>\n      <th>parch</th>\n      <th>fare</th>\n      <th>embarked</th>\n      <th>deck</th>\n    </tr>\n  </thead>\n  <tbody>\n    <tr>\n      <th>0</th>\n      <td>0</td>\n      <td>3</td>\n      <td>male</td>\n      <td>22.0</td>\n      <td>1</td>\n      <td>0</td>\n      <td>7.2500</td>\n      <td>S</td>\n      <td>NaN</td>\n    </tr>\n    <tr>\n      <th>4</th>\n      <td>0</td>\n      <td>3</td>\n      <td>male</td>\n      <td>35.0</td>\n      <td>0</td>\n      <td>0</td>\n      <td>8.0500</td>\n      <td>S</td>\n      <td>NaN</td>\n    </tr>\n    <tr>\n      <th>5</th>\n      <td>0</td>\n      <td>3</td>\n      <td>male</td>\n      <td>NaN</td>\n      <td>0</td>\n      <td>0</td>\n      <td>8.4583</td>\n      <td>Q</td>\n      <td>NaN</td>\n    </tr>\n    <tr>\n      <th>6</th>\n      <td>0</td>\n      <td>1</td>\n      <td>male</td>\n      <td>54.0</td>\n      <td>0</td>\n      <td>0</td>\n      <td>51.8625</td>\n      <td>S</td>\n      <td>E</td>\n    </tr>\n    <tr>\n      <th>7</th>\n      <td>0</td>\n      <td>3</td>\n      <td>male</td>\n      <td>2.0</td>\n      <td>3</td>\n      <td>1</td>\n      <td>21.0750</td>\n      <td>S</td>\n      <td>NaN</td>\n    </tr>\n  </tbody>\n</table>\n</div>"
     },
     "execution_count": 6,
     "metadata": {},
     "output_type": "execute_result"
    }
   ],
   "source": [
    "male_column.head()"
   ],
   "metadata": {
    "collapsed": false,
    "ExecuteTime": {
     "end_time": "2024-02-24T20:42:59.713234200Z",
     "start_time": "2024-02-24T20:42:59.575200700Z"
    }
   },
   "id": "4be424f6f99d0943",
   "execution_count": 6
  },
  {
   "cell_type": "code",
   "outputs": [],
   "source": [
    "filter_columns = male_column.columns[2:4]"
   ],
   "metadata": {
    "collapsed": false,
    "ExecuteTime": {
     "end_time": "2024-02-24T20:42:59.736237500Z",
     "start_time": "2024-02-24T20:42:59.585975800Z"
    }
   },
   "id": "feea61b17422044c",
   "execution_count": 7
  },
  {
   "cell_type": "code",
   "outputs": [
    {
     "data": {
      "text/plain": "      sex   age\n0    male  22.0\n4    male  35.0\n5    male   NaN\n6    male  54.0\n7    male   2.0\n..    ...   ...\n883  male  28.0\n884  male  25.0\n886  male  27.0\n889  male  26.0\n890  male  32.0\n\n[577 rows x 2 columns]",
      "text/html": "<div>\n<style scoped>\n    .dataframe tbody tr th:only-of-type {\n        vertical-align: middle;\n    }\n\n    .dataframe tbody tr th {\n        vertical-align: top;\n    }\n\n    .dataframe thead th {\n        text-align: right;\n    }\n</style>\n<table border=\"1\" class=\"dataframe\">\n  <thead>\n    <tr style=\"text-align: right;\">\n      <th></th>\n      <th>sex</th>\n      <th>age</th>\n    </tr>\n  </thead>\n  <tbody>\n    <tr>\n      <th>0</th>\n      <td>male</td>\n      <td>22.0</td>\n    </tr>\n    <tr>\n      <th>4</th>\n      <td>male</td>\n      <td>35.0</td>\n    </tr>\n    <tr>\n      <th>5</th>\n      <td>male</td>\n      <td>NaN</td>\n    </tr>\n    <tr>\n      <th>6</th>\n      <td>male</td>\n      <td>54.0</td>\n    </tr>\n    <tr>\n      <th>7</th>\n      <td>male</td>\n      <td>2.0</td>\n    </tr>\n    <tr>\n      <th>...</th>\n      <td>...</td>\n      <td>...</td>\n    </tr>\n    <tr>\n      <th>883</th>\n      <td>male</td>\n      <td>28.0</td>\n    </tr>\n    <tr>\n      <th>884</th>\n      <td>male</td>\n      <td>25.0</td>\n    </tr>\n    <tr>\n      <th>886</th>\n      <td>male</td>\n      <td>27.0</td>\n    </tr>\n    <tr>\n      <th>889</th>\n      <td>male</td>\n      <td>26.0</td>\n    </tr>\n    <tr>\n      <th>890</th>\n      <td>male</td>\n      <td>32.0</td>\n    </tr>\n  </tbody>\n</table>\n<p>577 rows × 2 columns</p>\n</div>"
     },
     "execution_count": 8,
     "metadata": {},
     "output_type": "execute_result"
    }
   ],
   "source": [
    "male_column.loc[:, filter_columns]"
   ],
   "metadata": {
    "collapsed": false,
    "ExecuteTime": {
     "end_time": "2024-02-24T20:42:59.739235500Z",
     "start_time": "2024-02-24T20:42:59.591370Z"
    }
   },
   "id": "9a64597d8db540b5",
   "execution_count": 8
  },
  {
   "cell_type": "markdown",
   "source": [
    "# Filtering DataFrames with many Conditions (AND | &)"
   ],
   "metadata": {
    "collapsed": false
   },
   "id": "3f0403b7e33c79ce"
  },
  {
   "cell_type": "code",
   "outputs": [
    {
     "data": {
      "text/plain": "0     True\n1    False\n2    False\n3    False\n4     True\nName: sex, dtype: bool"
     },
     "execution_count": 9,
     "metadata": {},
     "output_type": "execute_result"
    }
   ],
   "source": [
    "means_1 = titanic.sex == 'male'\n",
    "means_1.head()"
   ],
   "metadata": {
    "collapsed": false,
    "ExecuteTime": {
     "end_time": "2024-02-24T20:42:59.756236700Z",
     "start_time": "2024-02-24T20:42:59.604719900Z"
    }
   },
   "id": "5c06afd02c5077dc",
   "execution_count": 9
  },
  {
   "cell_type": "code",
   "outputs": [
    {
     "data": {
      "text/plain": "0    True\n1    True\n2    True\n3    True\n4    True\nName: age, dtype: bool"
     },
     "execution_count": 10,
     "metadata": {},
     "output_type": "execute_result"
    }
   ],
   "source": [
    "means_2 = titanic.age > 14\n",
    "means_2.head()"
   ],
   "metadata": {
    "collapsed": false,
    "ExecuteTime": {
     "end_time": "2024-02-24T20:42:59.764803300Z",
     "start_time": "2024-02-24T20:42:59.615721Z"
    }
   },
   "id": "834fa598765dbffa",
   "execution_count": 10
  },
  {
   "cell_type": "code",
   "outputs": [
    {
     "data": {
      "text/plain": "    survived  pclass   sex   age\n0          0       3  male  22.0\n4          0       3  male  35.0\n6          0       1  male  54.0\n12         0       3  male  20.0\n13         0       3  male  39.0\n20         0       2  male  35.0\n21         1       2  male  34.0\n23         1       1  male  28.0\n27         0       1  male  19.0\n30         0       1  male  40.0",
      "text/html": "<div>\n<style scoped>\n    .dataframe tbody tr th:only-of-type {\n        vertical-align: middle;\n    }\n\n    .dataframe tbody tr th {\n        vertical-align: top;\n    }\n\n    .dataframe thead th {\n        text-align: right;\n    }\n</style>\n<table border=\"1\" class=\"dataframe\">\n  <thead>\n    <tr style=\"text-align: right;\">\n      <th></th>\n      <th>survived</th>\n      <th>pclass</th>\n      <th>sex</th>\n      <th>age</th>\n    </tr>\n  </thead>\n  <tbody>\n    <tr>\n      <th>0</th>\n      <td>0</td>\n      <td>3</td>\n      <td>male</td>\n      <td>22.0</td>\n    </tr>\n    <tr>\n      <th>4</th>\n      <td>0</td>\n      <td>3</td>\n      <td>male</td>\n      <td>35.0</td>\n    </tr>\n    <tr>\n      <th>6</th>\n      <td>0</td>\n      <td>1</td>\n      <td>male</td>\n      <td>54.0</td>\n    </tr>\n    <tr>\n      <th>12</th>\n      <td>0</td>\n      <td>3</td>\n      <td>male</td>\n      <td>20.0</td>\n    </tr>\n    <tr>\n      <th>13</th>\n      <td>0</td>\n      <td>3</td>\n      <td>male</td>\n      <td>39.0</td>\n    </tr>\n    <tr>\n      <th>20</th>\n      <td>0</td>\n      <td>2</td>\n      <td>male</td>\n      <td>35.0</td>\n    </tr>\n    <tr>\n      <th>21</th>\n      <td>1</td>\n      <td>2</td>\n      <td>male</td>\n      <td>34.0</td>\n    </tr>\n    <tr>\n      <th>23</th>\n      <td>1</td>\n      <td>1</td>\n      <td>male</td>\n      <td>28.0</td>\n    </tr>\n    <tr>\n      <th>27</th>\n      <td>0</td>\n      <td>1</td>\n      <td>male</td>\n      <td>19.0</td>\n    </tr>\n    <tr>\n      <th>30</th>\n      <td>0</td>\n      <td>1</td>\n      <td>male</td>\n      <td>40.0</td>\n    </tr>\n  </tbody>\n</table>\n</div>"
     },
     "execution_count": 11,
     "metadata": {},
     "output_type": "execute_result"
    }
   ],
   "source": [
    "result_survival_man = titanic.loc[means_1 & means_2, ['survived', 'pclass', 'sex', 'age']]\n",
    "result_survival_man.head(10)"
   ],
   "metadata": {
    "collapsed": false,
    "ExecuteTime": {
     "end_time": "2024-02-24T20:42:59.780968500Z",
     "start_time": "2024-02-24T20:42:59.628979600Z"
    }
   },
   "id": "96085ea526c03c9e",
   "execution_count": 11
  },
  {
   "cell_type": "markdown",
   "source": [
    "# Filtering DF with many Conditions (OR  | )\n",
    "\n",
    "## One Condition need True"
   ],
   "metadata": {
    "collapsed": false
   },
   "id": "f6d453e8eac7b8d9"
  },
  {
   "cell_type": "code",
   "outputs": [
    {
     "data": {
      "text/plain": "0    False\n1     True\n2     True\n3     True\n4    False\nName: sex, dtype: bool"
     },
     "execution_count": 12,
     "metadata": {},
     "output_type": "execute_result"
    }
   ],
   "source": [
    "woman = titanic.sex == \"female\"\n",
    "woman.head()"
   ],
   "metadata": {
    "collapsed": false,
    "ExecuteTime": {
     "end_time": "2024-02-24T20:42:59.996966700Z",
     "start_time": "2024-02-24T20:42:59.643074400Z"
    }
   },
   "id": "180468706f2f9d5b",
   "execution_count": 12
  },
  {
   "cell_type": "code",
   "outputs": [
    {
     "data": {
      "text/plain": "0    False\n1    False\n2    False\n3    False\n4    False\nName: age, dtype: bool"
     },
     "execution_count": 13,
     "metadata": {},
     "output_type": "execute_result"
    }
   ],
   "source": [
    "child = titanic.age < 14\n",
    "child.head()"
   ],
   "metadata": {
    "collapsed": false,
    "ExecuteTime": {
     "end_time": "2024-02-24T20:42:59.997966700Z",
     "start_time": "2024-02-24T20:42:59.649572800Z"
    }
   },
   "id": "fdd3979aa207268f",
   "execution_count": 13
  },
  {
   "cell_type": "code",
   "outputs": [
    {
     "data": {
      "text/plain": "        sex  age  survived\n10   female  4.0         1\n24   female  8.0         0\n43   female  3.0         1\n58   female  5.0         1\n119  female  2.0         0\n147  female  9.0         0\n172  female  1.0         1\n184  female  4.0         1\n205  female  2.0         0\n233  female  5.0         1",
      "text/html": "<div>\n<style scoped>\n    .dataframe tbody tr th:only-of-type {\n        vertical-align: middle;\n    }\n\n    .dataframe tbody tr th {\n        vertical-align: top;\n    }\n\n    .dataframe thead th {\n        text-align: right;\n    }\n</style>\n<table border=\"1\" class=\"dataframe\">\n  <thead>\n    <tr style=\"text-align: right;\">\n      <th></th>\n      <th>sex</th>\n      <th>age</th>\n      <th>survived</th>\n    </tr>\n  </thead>\n  <tbody>\n    <tr>\n      <th>10</th>\n      <td>female</td>\n      <td>4.0</td>\n      <td>1</td>\n    </tr>\n    <tr>\n      <th>24</th>\n      <td>female</td>\n      <td>8.0</td>\n      <td>0</td>\n    </tr>\n    <tr>\n      <th>43</th>\n      <td>female</td>\n      <td>3.0</td>\n      <td>1</td>\n    </tr>\n    <tr>\n      <th>58</th>\n      <td>female</td>\n      <td>5.0</td>\n      <td>1</td>\n    </tr>\n    <tr>\n      <th>119</th>\n      <td>female</td>\n      <td>2.0</td>\n      <td>0</td>\n    </tr>\n    <tr>\n      <th>147</th>\n      <td>female</td>\n      <td>9.0</td>\n      <td>0</td>\n    </tr>\n    <tr>\n      <th>172</th>\n      <td>female</td>\n      <td>1.0</td>\n      <td>1</td>\n    </tr>\n    <tr>\n      <th>184</th>\n      <td>female</td>\n      <td>4.0</td>\n      <td>1</td>\n    </tr>\n    <tr>\n      <th>205</th>\n      <td>female</td>\n      <td>2.0</td>\n      <td>0</td>\n    </tr>\n    <tr>\n      <th>233</th>\n      <td>female</td>\n      <td>5.0</td>\n      <td>1</td>\n    </tr>\n  </tbody>\n</table>\n</div>"
     },
     "execution_count": 14,
     "metadata": {},
     "output_type": "execute_result"
    }
   ],
   "source": [
    "woman_and_child_survival = titanic.loc[woman & child, ['sex', 'age', 'survived']]\n",
    "woman_and_child_survival.head(10)"
   ],
   "metadata": {
    "collapsed": false,
    "ExecuteTime": {
     "end_time": "2024-02-24T20:43:00.000972200Z",
     "start_time": "2024-02-24T20:42:59.659900800Z"
    }
   },
   "id": "39f4139fbc13396b",
   "execution_count": 14
  },
  {
   "cell_type": "code",
   "outputs": [
    {
     "data": {
      "text/plain": "             age   survived\ncount  34.000000  34.000000\nmean    5.279412   0.617647\nstd     3.522527   0.493270\nmin     0.750000   0.000000\n25%     2.000000   0.000000\n50%     4.500000   1.000000\n75%     8.000000   1.000000\nmax    13.000000   1.000000",
      "text/html": "<div>\n<style scoped>\n    .dataframe tbody tr th:only-of-type {\n        vertical-align: middle;\n    }\n\n    .dataframe tbody tr th {\n        vertical-align: top;\n    }\n\n    .dataframe thead th {\n        text-align: right;\n    }\n</style>\n<table border=\"1\" class=\"dataframe\">\n  <thead>\n    <tr style=\"text-align: right;\">\n      <th></th>\n      <th>age</th>\n      <th>survived</th>\n    </tr>\n  </thead>\n  <tbody>\n    <tr>\n      <th>count</th>\n      <td>34.000000</td>\n      <td>34.000000</td>\n    </tr>\n    <tr>\n      <th>mean</th>\n      <td>5.279412</td>\n      <td>0.617647</td>\n    </tr>\n    <tr>\n      <th>std</th>\n      <td>3.522527</td>\n      <td>0.493270</td>\n    </tr>\n    <tr>\n      <th>min</th>\n      <td>0.750000</td>\n      <td>0.000000</td>\n    </tr>\n    <tr>\n      <th>25%</th>\n      <td>2.000000</td>\n      <td>0.000000</td>\n    </tr>\n    <tr>\n      <th>50%</th>\n      <td>4.500000</td>\n      <td>1.000000</td>\n    </tr>\n    <tr>\n      <th>75%</th>\n      <td>8.000000</td>\n      <td>1.000000</td>\n    </tr>\n    <tr>\n      <th>max</th>\n      <td>13.000000</td>\n      <td>1.000000</td>\n    </tr>\n  </tbody>\n</table>\n</div>"
     },
     "execution_count": 15,
     "metadata": {},
     "output_type": "execute_result"
    }
   ],
   "source": [
    "woman_and_child_survival.describe()"
   ],
   "metadata": {
    "collapsed": false,
    "ExecuteTime": {
     "end_time": "2024-02-24T20:43:00.059452200Z",
     "start_time": "2024-02-24T20:42:59.670935600Z"
    }
   },
   "id": "1023af050a3474d6",
   "execution_count": 15
  },
  {
   "cell_type": "code",
   "outputs": [
    {
     "name": "stdout",
     "output_type": "stream",
     "text": [
      "<class 'pandas.core.frame.DataFrame'>\n",
      "Index: 34 entries, 10 to 852\n",
      "Data columns (total 3 columns):\n",
      " #   Column    Non-Null Count  Dtype  \n",
      "---  ------    --------------  -----  \n",
      " 0   sex       34 non-null     object \n",
      " 1   age       34 non-null     float64\n",
      " 2   survived  34 non-null     int64  \n",
      "dtypes: float64(1), int64(1), object(1)\n",
      "memory usage: 1.1+ KB\n"
     ]
    }
   ],
   "source": [
    "woman_and_child_survival.info()"
   ],
   "metadata": {
    "collapsed": false,
    "ExecuteTime": {
     "end_time": "2024-02-24T20:43:00.062453200Z",
     "start_time": "2024-02-24T20:42:59.687257Z"
    }
   },
   "id": "2ee3c31e0b2d473f",
   "execution_count": 16
  },
  {
   "cell_type": "markdown",
   "source": [
    "# Advanced Filtering with between(), isin() and ~"
   ],
   "metadata": {
    "collapsed": false
   },
   "id": "cdaf0f0022327dfb"
  },
  {
   "cell_type": "markdown",
   "source": [
    "## ~ use for NOT condition"
   ],
   "metadata": {
    "collapsed": false
   },
   "id": "d8536de6c7b6b695"
  },
  {
   "cell_type": "code",
   "outputs": [],
   "source": [
    "summer = pd.read_csv(\"summer.csv\")"
   ],
   "metadata": {
    "collapsed": false,
    "ExecuteTime": {
     "end_time": "2024-02-24T20:43:00.102308900Z",
     "start_time": "2024-02-24T20:42:59.702235300Z"
    }
   },
   "id": "5a37694236c73139",
   "execution_count": 17
  },
  {
   "cell_type": "markdown",
   "source": [
    "### use normal between() return bool data\n",
    "### between() use for filter 2 value"
   ],
   "metadata": {
    "collapsed": false
   },
   "id": "6816d0e9ccb65730"
  },
  {
   "cell_type": "code",
   "outputs": [
    {
     "data": {
      "text/plain": "0        False\n1        False\n2        False\n3        False\n4        False\n         ...  \n31160    False\n31161    False\n31162    False\n31163    False\n31164    False\nName: Year, Length: 31165, dtype: bool"
     },
     "execution_count": 18,
     "metadata": {},
     "output_type": "execute_result"
    }
   ],
   "source": [
    "summer.Year.between(2004, 2008)"
   ],
   "metadata": {
    "collapsed": false,
    "ExecuteTime": {
     "end_time": "2024-02-24T20:43:00.107310100Z",
     "start_time": "2024-02-24T20:42:59.764803300Z"
    }
   },
   "id": "45bd7cb046daa7a2",
   "execution_count": 18
  },
  {
   "cell_type": "code",
   "outputs": [
    {
     "data": {
      "text/plain": "       Year    City     Sport Discipline             Athlete Country Gender  \\\n25176  2004  Athens  Aquatics     Diving         TIAN, Liang     CHN    Men   \n25177  2004  Athens  Aquatics     Diving             HU, Jia     CHN    Men   \n25178  2004  Athens  Aquatics     Diving        HELM, Mathew     AUS    Men   \n25179  2004  Athens  Aquatics     Diving       TOURKY, Loudy     AUS  Women   \n25180  2004  Athens  Aquatics     Diving  NEWBERY, Chantelle     AUS  Women   \n\n              Event   Medal  \n25176  10M Platform  Bronze  \n25177  10M Platform    Gold  \n25178  10M Platform  Silver  \n25179  10M Platform  Bronze  \n25180  10M Platform    Gold  ",
      "text/html": "<div>\n<style scoped>\n    .dataframe tbody tr th:only-of-type {\n        vertical-align: middle;\n    }\n\n    .dataframe tbody tr th {\n        vertical-align: top;\n    }\n\n    .dataframe thead th {\n        text-align: right;\n    }\n</style>\n<table border=\"1\" class=\"dataframe\">\n  <thead>\n    <tr style=\"text-align: right;\">\n      <th></th>\n      <th>Year</th>\n      <th>City</th>\n      <th>Sport</th>\n      <th>Discipline</th>\n      <th>Athlete</th>\n      <th>Country</th>\n      <th>Gender</th>\n      <th>Event</th>\n      <th>Medal</th>\n    </tr>\n  </thead>\n  <tbody>\n    <tr>\n      <th>25176</th>\n      <td>2004</td>\n      <td>Athens</td>\n      <td>Aquatics</td>\n      <td>Diving</td>\n      <td>TIAN, Liang</td>\n      <td>CHN</td>\n      <td>Men</td>\n      <td>10M Platform</td>\n      <td>Bronze</td>\n    </tr>\n    <tr>\n      <th>25177</th>\n      <td>2004</td>\n      <td>Athens</td>\n      <td>Aquatics</td>\n      <td>Diving</td>\n      <td>HU, Jia</td>\n      <td>CHN</td>\n      <td>Men</td>\n      <td>10M Platform</td>\n      <td>Gold</td>\n    </tr>\n    <tr>\n      <th>25178</th>\n      <td>2004</td>\n      <td>Athens</td>\n      <td>Aquatics</td>\n      <td>Diving</td>\n      <td>HELM, Mathew</td>\n      <td>AUS</td>\n      <td>Men</td>\n      <td>10M Platform</td>\n      <td>Silver</td>\n    </tr>\n    <tr>\n      <th>25179</th>\n      <td>2004</td>\n      <td>Athens</td>\n      <td>Aquatics</td>\n      <td>Diving</td>\n      <td>TOURKY, Loudy</td>\n      <td>AUS</td>\n      <td>Women</td>\n      <td>10M Platform</td>\n      <td>Bronze</td>\n    </tr>\n    <tr>\n      <th>25180</th>\n      <td>2004</td>\n      <td>Athens</td>\n      <td>Aquatics</td>\n      <td>Diving</td>\n      <td>NEWBERY, Chantelle</td>\n      <td>AUS</td>\n      <td>Women</td>\n      <td>10M Platform</td>\n      <td>Gold</td>\n    </tr>\n  </tbody>\n</table>\n</div>"
     },
     "execution_count": 19,
     "metadata": {},
     "output_type": "execute_result"
    }
   ],
   "source": [
    "years2008 = summer.loc[summer.Year.between(2004,2008)]\n",
    "years2008.head()"
   ],
   "metadata": {
    "collapsed": false,
    "ExecuteTime": {
     "end_time": "2024-02-24T20:43:00.111310400Z",
     "start_time": "2024-02-24T20:42:59.773971100Z"
    }
   },
   "id": "40f38a3712494575",
   "execution_count": 19
  },
  {
   "cell_type": "markdown",
   "source": [
    "### use isin() use for filter many value"
   ],
   "metadata": {
    "collapsed": false
   },
   "id": "4f29f194ee19871"
  },
  {
   "cell_type": "code",
   "outputs": [
    {
     "data": {
      "text/plain": "    Year    City      Sport Discipline         Athlete Country Gender  \\\n11  1896  Athens  Athletics  Athletics   LANE, Francis     USA    Men   \n13  1896  Athens  Athletics  Athletics   BURKE, Thomas     USA    Men   \n15  1896  Athens  Athletics  Athletics  CURTIS, Thomas     USA    Men   \n19  1896  Athens  Athletics  Athletics   BLAKE, Arthur     USA    Men   \n21  1896  Athens  Athletics  Athletics   BURKE, Thomas     USA    Men   \n\n           Event   Medal  \n11          100M  Bronze  \n13          100M    Gold  \n15  110M Hurdles    Gold  \n19         1500M  Silver  \n21          400M    Gold  ",
      "text/html": "<div>\n<style scoped>\n    .dataframe tbody tr th:only-of-type {\n        vertical-align: middle;\n    }\n\n    .dataframe tbody tr th {\n        vertical-align: top;\n    }\n\n    .dataframe thead th {\n        text-align: right;\n    }\n</style>\n<table border=\"1\" class=\"dataframe\">\n  <thead>\n    <tr style=\"text-align: right;\">\n      <th></th>\n      <th>Year</th>\n      <th>City</th>\n      <th>Sport</th>\n      <th>Discipline</th>\n      <th>Athlete</th>\n      <th>Country</th>\n      <th>Gender</th>\n      <th>Event</th>\n      <th>Medal</th>\n    </tr>\n  </thead>\n  <tbody>\n    <tr>\n      <th>11</th>\n      <td>1896</td>\n      <td>Athens</td>\n      <td>Athletics</td>\n      <td>Athletics</td>\n      <td>LANE, Francis</td>\n      <td>USA</td>\n      <td>Men</td>\n      <td>100M</td>\n      <td>Bronze</td>\n    </tr>\n    <tr>\n      <th>13</th>\n      <td>1896</td>\n      <td>Athens</td>\n      <td>Athletics</td>\n      <td>Athletics</td>\n      <td>BURKE, Thomas</td>\n      <td>USA</td>\n      <td>Men</td>\n      <td>100M</td>\n      <td>Gold</td>\n    </tr>\n    <tr>\n      <th>15</th>\n      <td>1896</td>\n      <td>Athens</td>\n      <td>Athletics</td>\n      <td>Athletics</td>\n      <td>CURTIS, Thomas</td>\n      <td>USA</td>\n      <td>Men</td>\n      <td>110M Hurdles</td>\n      <td>Gold</td>\n    </tr>\n    <tr>\n      <th>19</th>\n      <td>1896</td>\n      <td>Athens</td>\n      <td>Athletics</td>\n      <td>Athletics</td>\n      <td>BLAKE, Arthur</td>\n      <td>USA</td>\n      <td>Men</td>\n      <td>1500M</td>\n      <td>Silver</td>\n    </tr>\n    <tr>\n      <th>21</th>\n      <td>1896</td>\n      <td>Athens</td>\n      <td>Athletics</td>\n      <td>Athletics</td>\n      <td>BURKE, Thomas</td>\n      <td>USA</td>\n      <td>Men</td>\n      <td>400M</td>\n      <td>Gold</td>\n    </tr>\n  </tbody>\n</table>\n</div>"
     },
     "execution_count": 20,
     "metadata": {},
     "output_type": "execute_result"
    }
   ],
   "source": [
    "favorite_country = [\"USA\",\"ROM\"]\n",
    "summer.loc[summer.Country.isin(favorite_country)].head()"
   ],
   "metadata": {
    "collapsed": false,
    "ExecuteTime": {
     "end_time": "2024-02-24T20:43:00.126310300Z",
     "start_time": "2024-02-24T20:42:59.788232200Z"
    }
   },
   "id": "20aea9dc52da0f0e",
   "execution_count": 20
  },
  {
   "cell_type": "code",
   "outputs": [
    {
     "data": {
      "text/plain": "array(['HUN', 'AUT', 'GRE', 'USA', 'GER', 'GBR', 'FRA', 'AUS', 'DEN',\n       'SUI', 'ZZX', 'NED', 'BEL', 'IND', 'CAN', 'BOH', 'SWE', 'NOR',\n       'ESP', 'ITA', 'CUB', 'ANZ', 'RSA', 'FIN', 'RU1', 'EST', 'TCH',\n       'NZL', 'BRA', 'JPN', 'LUX', 'ARG', 'POL', 'POR', 'URU', 'YUG',\n       'ROU', 'HAI', 'EGY', 'PHI', 'IRL', 'CHI', 'LAT', 'MEX', 'TUR',\n       'PAN', 'JAM', 'SRI', 'KOR', 'PUR', 'PER', 'IRI', 'TRI', 'URS',\n       'VEN', 'BUL', 'LIB', 'EUA', 'ISL', 'PAK', 'BAH', 'BWI', 'TPE',\n       'ETH', 'MAR', 'GHA', 'IRQ', 'SIN', 'TUN', 'KEN', 'NGR', 'GDR',\n       'FRG', 'UGA', 'CMR', 'MGL', 'PRK', 'COL', 'NIG', 'THA', 'BER',\n       'TAN', 'GUY', 'ZIM', 'CHN', 'CIV', 'ZAM', 'DOM', 'ALG', 'SYR',\n       'SUR', 'CRC', 'INA', 'SEN', 'DJI', 'AHO', 'ISV', 'EUN', 'NAM',\n       'QAT', 'LTU', 'MAS', 'CRO', 'ISR', 'SLO', 'IOP', 'RUS', 'UKR',\n       'ECU', 'BDI', 'MOZ', 'CZE', 'BLR', 'TGA', 'KAZ', 'UZB', 'SVK',\n       'MDA', 'GEO', 'HKG', 'ARM', 'AZE', 'BAR', 'KSA', 'KGZ', 'KUW',\n       'VIE', 'MKD', 'SCG', 'ERI', 'PAR', 'UAE', 'SRB', 'SUD', 'MRI',\n       'TOG', 'TJK', 'AFG', nan, 'BRN', 'GUA', 'GRN', 'TTO', 'BOT', 'MNE',\n       'CYP', 'SGP', 'GAB'], dtype=object)"
     },
     "execution_count": 21,
     "metadata": {},
     "output_type": "execute_result"
    }
   ],
   "source": [
    "summer.Country.unique()"
   ],
   "metadata": {
    "collapsed": false,
    "ExecuteTime": {
     "end_time": "2024-02-24T20:43:00.149311100Z",
     "start_time": "2024-02-24T20:42:59.804891900Z"
    }
   },
   "id": "95a3cedddb192536",
   "execution_count": 21
  },
  {
   "cell_type": "markdown",
   "source": [
    "### use ~ for NOT condition"
   ],
   "metadata": {
    "collapsed": false
   },
   "id": "7c13cb2923f257f8"
  },
  {
   "cell_type": "code",
   "outputs": [
    {
     "data": {
      "text/plain": "   Year    City     Sport Discipline             Athlete Country Gender  \\\n0  1896  Athens  Aquatics   Swimming       HAJOS, Alfred     HUN    Men   \n1  1896  Athens  Aquatics   Swimming    HERSCHMANN, Otto     AUT    Men   \n2  1896  Athens  Aquatics   Swimming   DRIVAS, Dimitrios     GRE    Men   \n3  1896  Athens  Aquatics   Swimming  MALOKINIS, Ioannis     GRE    Men   \n4  1896  Athens  Aquatics   Swimming  CHASAPIS, Spiridon     GRE    Men   \n\n                        Event   Medal  \n0              100M Freestyle    Gold  \n1              100M Freestyle  Silver  \n2  100M Freestyle For Sailors  Bronze  \n3  100M Freestyle For Sailors    Gold  \n4  100M Freestyle For Sailors  Silver  ",
      "text/html": "<div>\n<style scoped>\n    .dataframe tbody tr th:only-of-type {\n        vertical-align: middle;\n    }\n\n    .dataframe tbody tr th {\n        vertical-align: top;\n    }\n\n    .dataframe thead th {\n        text-align: right;\n    }\n</style>\n<table border=\"1\" class=\"dataframe\">\n  <thead>\n    <tr style=\"text-align: right;\">\n      <th></th>\n      <th>Year</th>\n      <th>City</th>\n      <th>Sport</th>\n      <th>Discipline</th>\n      <th>Athlete</th>\n      <th>Country</th>\n      <th>Gender</th>\n      <th>Event</th>\n      <th>Medal</th>\n    </tr>\n  </thead>\n  <tbody>\n    <tr>\n      <th>0</th>\n      <td>1896</td>\n      <td>Athens</td>\n      <td>Aquatics</td>\n      <td>Swimming</td>\n      <td>HAJOS, Alfred</td>\n      <td>HUN</td>\n      <td>Men</td>\n      <td>100M Freestyle</td>\n      <td>Gold</td>\n    </tr>\n    <tr>\n      <th>1</th>\n      <td>1896</td>\n      <td>Athens</td>\n      <td>Aquatics</td>\n      <td>Swimming</td>\n      <td>HERSCHMANN, Otto</td>\n      <td>AUT</td>\n      <td>Men</td>\n      <td>100M Freestyle</td>\n      <td>Silver</td>\n    </tr>\n    <tr>\n      <th>2</th>\n      <td>1896</td>\n      <td>Athens</td>\n      <td>Aquatics</td>\n      <td>Swimming</td>\n      <td>DRIVAS, Dimitrios</td>\n      <td>GRE</td>\n      <td>Men</td>\n      <td>100M Freestyle For Sailors</td>\n      <td>Bronze</td>\n    </tr>\n    <tr>\n      <th>3</th>\n      <td>1896</td>\n      <td>Athens</td>\n      <td>Aquatics</td>\n      <td>Swimming</td>\n      <td>MALOKINIS, Ioannis</td>\n      <td>GRE</td>\n      <td>Men</td>\n      <td>100M Freestyle For Sailors</td>\n      <td>Gold</td>\n    </tr>\n    <tr>\n      <th>4</th>\n      <td>1896</td>\n      <td>Athens</td>\n      <td>Aquatics</td>\n      <td>Swimming</td>\n      <td>CHASAPIS, Spiridon</td>\n      <td>GRE</td>\n      <td>Men</td>\n      <td>100M Freestyle For Sailors</td>\n      <td>Silver</td>\n    </tr>\n  </tbody>\n</table>\n</div>"
     },
     "execution_count": 22,
     "metadata": {},
     "output_type": "execute_result"
    }
   ],
   "source": [
    "not_country_2008 = summer.loc[~summer.Year.between(2004,2008)]\n",
    "not_country_2008.head()"
   ],
   "metadata": {
    "collapsed": false,
    "ExecuteTime": {
     "end_time": "2024-02-24T20:43:00.179311900Z",
     "start_time": "2024-02-24T20:42:59.811249Z"
    }
   },
   "id": "8a3b621e69401fe8",
   "execution_count": 22
  },
  {
   "cell_type": "markdown",
   "source": [
    "# Any() and All()\n",
    "## any() return True if one value is True\n",
    "## all() return True if all value is True"
   ],
   "metadata": {
    "collapsed": false
   },
   "id": "b30210fb0c5ce426"
  },
  {
   "cell_type": "code",
   "outputs": [
    {
     "data": {
      "text/plain": "True"
     },
     "execution_count": 23,
     "metadata": {},
     "output_type": "execute_result"
    }
   ],
   "source": [
    "(titanic.sex == \"male\").any()"
   ],
   "metadata": {
    "collapsed": false,
    "ExecuteTime": {
     "end_time": "2024-02-24T20:43:00.182312700Z",
     "start_time": "2024-02-24T20:42:59.825749600Z"
    }
   },
   "id": "b53991105c3b8d69",
   "execution_count": 23
  },
  {
   "cell_type": "code",
   "outputs": [
    {
     "data": {
      "text/plain": "False"
     },
     "execution_count": 24,
     "metadata": {},
     "output_type": "execute_result"
    }
   ],
   "source": [
    "(titanic.sex == \"male\").all()"
   ],
   "metadata": {
    "collapsed": false,
    "ExecuteTime": {
     "end_time": "2024-02-24T20:43:00.193310300Z",
     "start_time": "2024-02-24T20:42:59.833634900Z"
    }
   },
   "id": "1135e0fa85c0befa",
   "execution_count": 24
  },
  {
   "cell_type": "markdown",
   "source": [
    "#### Need () for condition"
   ],
   "metadata": {
    "collapsed": false
   },
   "id": "9f4eaa6e80990674"
  },
  {
   "cell_type": "code",
   "outputs": [
    {
     "data": {
      "text/plain": "False"
     },
     "execution_count": 25,
     "metadata": {},
     "output_type": "execute_result"
    }
   ],
   "source": [
    "(titanic.age == 100).any()"
   ],
   "metadata": {
    "collapsed": false,
    "ExecuteTime": {
     "end_time": "2024-02-24T20:43:00.237310800Z",
     "start_time": "2024-02-24T20:42:59.840013Z"
    }
   },
   "id": "b9663a1091e786de",
   "execution_count": 25
  },
  {
   "cell_type": "markdown",
   "source": [
    "# Removing Columns"
   ],
   "metadata": {
    "collapsed": false
   },
   "id": "29b302c07857a7f3"
  },
  {
   "cell_type": "code",
   "outputs": [
    {
     "data": {
      "text/plain": "   survived  pclass     sex   age  sibsp  parch     fare embarked deck\n0         0       3    male  22.0      1      0   7.2500        S  NaN\n1         1       1  female  38.0      1      0  71.2833        C    C\n2         1       3  female  26.0      0      0   7.9250        S  NaN\n3         1       1  female  35.0      1      0  53.1000        S    C\n4         0       3    male  35.0      0      0   8.0500        S  NaN",
      "text/html": "<div>\n<style scoped>\n    .dataframe tbody tr th:only-of-type {\n        vertical-align: middle;\n    }\n\n    .dataframe tbody tr th {\n        vertical-align: top;\n    }\n\n    .dataframe thead th {\n        text-align: right;\n    }\n</style>\n<table border=\"1\" class=\"dataframe\">\n  <thead>\n    <tr style=\"text-align: right;\">\n      <th></th>\n      <th>survived</th>\n      <th>pclass</th>\n      <th>sex</th>\n      <th>age</th>\n      <th>sibsp</th>\n      <th>parch</th>\n      <th>fare</th>\n      <th>embarked</th>\n      <th>deck</th>\n    </tr>\n  </thead>\n  <tbody>\n    <tr>\n      <th>0</th>\n      <td>0</td>\n      <td>3</td>\n      <td>male</td>\n      <td>22.0</td>\n      <td>1</td>\n      <td>0</td>\n      <td>7.2500</td>\n      <td>S</td>\n      <td>NaN</td>\n    </tr>\n    <tr>\n      <th>1</th>\n      <td>1</td>\n      <td>1</td>\n      <td>female</td>\n      <td>38.0</td>\n      <td>1</td>\n      <td>0</td>\n      <td>71.2833</td>\n      <td>C</td>\n      <td>C</td>\n    </tr>\n    <tr>\n      <th>2</th>\n      <td>1</td>\n      <td>3</td>\n      <td>female</td>\n      <td>26.0</td>\n      <td>0</td>\n      <td>0</td>\n      <td>7.9250</td>\n      <td>S</td>\n      <td>NaN</td>\n    </tr>\n    <tr>\n      <th>3</th>\n      <td>1</td>\n      <td>1</td>\n      <td>female</td>\n      <td>35.0</td>\n      <td>1</td>\n      <td>0</td>\n      <td>53.1000</td>\n      <td>S</td>\n      <td>C</td>\n    </tr>\n    <tr>\n      <th>4</th>\n      <td>0</td>\n      <td>3</td>\n      <td>male</td>\n      <td>35.0</td>\n      <td>0</td>\n      <td>0</td>\n      <td>8.0500</td>\n      <td>S</td>\n      <td>NaN</td>\n    </tr>\n  </tbody>\n</table>\n</div>"
     },
     "execution_count": 26,
     "metadata": {},
     "output_type": "execute_result"
    }
   ],
   "source": [
    "titanic_v1 = titanic.copy()\n",
    "titanic_v1.head()"
   ],
   "metadata": {
    "collapsed": false,
    "ExecuteTime": {
     "end_time": "2024-02-24T20:43:00.269317400Z",
     "start_time": "2024-02-24T20:42:59.845674100Z"
    }
   },
   "id": "5a4a516351c4567e",
   "execution_count": 26
  },
  {
   "cell_type": "code",
   "outputs": [
    {
     "data": {
      "text/plain": "   survived     sex   age     fare\n0         0    male  22.0   7.2500\n1         1  female  38.0  71.2833\n2         1  female  26.0   7.9250\n3         1  female  35.0  53.1000\n4         0    male  35.0   8.0500",
      "text/html": "<div>\n<style scoped>\n    .dataframe tbody tr th:only-of-type {\n        vertical-align: middle;\n    }\n\n    .dataframe tbody tr th {\n        vertical-align: top;\n    }\n\n    .dataframe thead th {\n        text-align: right;\n    }\n</style>\n<table border=\"1\" class=\"dataframe\">\n  <thead>\n    <tr style=\"text-align: right;\">\n      <th></th>\n      <th>survived</th>\n      <th>sex</th>\n      <th>age</th>\n      <th>fare</th>\n    </tr>\n  </thead>\n  <tbody>\n    <tr>\n      <th>0</th>\n      <td>0</td>\n      <td>male</td>\n      <td>22.0</td>\n      <td>7.2500</td>\n    </tr>\n    <tr>\n      <th>1</th>\n      <td>1</td>\n      <td>female</td>\n      <td>38.0</td>\n      <td>71.2833</td>\n    </tr>\n    <tr>\n      <th>2</th>\n      <td>1</td>\n      <td>female</td>\n      <td>26.0</td>\n      <td>7.9250</td>\n    </tr>\n    <tr>\n      <th>3</th>\n      <td>1</td>\n      <td>female</td>\n      <td>35.0</td>\n      <td>53.1000</td>\n    </tr>\n    <tr>\n      <th>4</th>\n      <td>0</td>\n      <td>male</td>\n      <td>35.0</td>\n      <td>8.0500</td>\n    </tr>\n  </tbody>\n</table>\n</div>"
     },
     "execution_count": 27,
     "metadata": {},
     "output_type": "execute_result"
    }
   ],
   "source": [
    "titanic_v1.drop(columns=[\"pclass\", \"sibsp\", \"parch\",\"embarked\", \"deck\"], inplace=True)\n",
    "titanic_v1.head()"
   ],
   "metadata": {
    "collapsed": false,
    "ExecuteTime": {
     "end_time": "2024-02-24T20:43:00.331310Z",
     "start_time": "2024-02-24T20:42:59.858329100Z"
    }
   },
   "id": "4a8c33fa3f5b253a",
   "execution_count": 27
  },
  {
   "cell_type": "code",
   "outputs": [
    {
     "data": {
      "text/plain": "   survived  pclass     sex   age  sibsp  parch     fare embarked deck\n0         0       3    male  22.0      1      0   7.2500        S  NaN\n1         1       1  female  38.0      1      0  71.2833        C    C\n2         1       3  female  26.0      0      0   7.9250        S  NaN\n3         1       1  female  35.0      1      0  53.1000        S    C\n4         0       3    male  35.0      0      0   8.0500        S  NaN",
      "text/html": "<div>\n<style scoped>\n    .dataframe tbody tr th:only-of-type {\n        vertical-align: middle;\n    }\n\n    .dataframe tbody tr th {\n        vertical-align: top;\n    }\n\n    .dataframe thead th {\n        text-align: right;\n    }\n</style>\n<table border=\"1\" class=\"dataframe\">\n  <thead>\n    <tr style=\"text-align: right;\">\n      <th></th>\n      <th>survived</th>\n      <th>pclass</th>\n      <th>sex</th>\n      <th>age</th>\n      <th>sibsp</th>\n      <th>parch</th>\n      <th>fare</th>\n      <th>embarked</th>\n      <th>deck</th>\n    </tr>\n  </thead>\n  <tbody>\n    <tr>\n      <th>0</th>\n      <td>0</td>\n      <td>3</td>\n      <td>male</td>\n      <td>22.0</td>\n      <td>1</td>\n      <td>0</td>\n      <td>7.2500</td>\n      <td>S</td>\n      <td>NaN</td>\n    </tr>\n    <tr>\n      <th>1</th>\n      <td>1</td>\n      <td>1</td>\n      <td>female</td>\n      <td>38.0</td>\n      <td>1</td>\n      <td>0</td>\n      <td>71.2833</td>\n      <td>C</td>\n      <td>C</td>\n    </tr>\n    <tr>\n      <th>2</th>\n      <td>1</td>\n      <td>3</td>\n      <td>female</td>\n      <td>26.0</td>\n      <td>0</td>\n      <td>0</td>\n      <td>7.9250</td>\n      <td>S</td>\n      <td>NaN</td>\n    </tr>\n    <tr>\n      <th>3</th>\n      <td>1</td>\n      <td>1</td>\n      <td>female</td>\n      <td>35.0</td>\n      <td>1</td>\n      <td>0</td>\n      <td>53.1000</td>\n      <td>S</td>\n      <td>C</td>\n    </tr>\n    <tr>\n      <th>4</th>\n      <td>0</td>\n      <td>3</td>\n      <td>male</td>\n      <td>35.0</td>\n      <td>0</td>\n      <td>0</td>\n      <td>8.0500</td>\n      <td>S</td>\n      <td>NaN</td>\n    </tr>\n  </tbody>\n</table>\n</div>"
     },
     "execution_count": 28,
     "metadata": {},
     "output_type": "execute_result"
    }
   ],
   "source": [
    "titanic_v2 = titanic.copy()\n",
    "titanic_v2.head()"
   ],
   "metadata": {
    "collapsed": false,
    "ExecuteTime": {
     "end_time": "2024-02-24T20:43:00.656309500Z",
     "start_time": "2024-02-24T20:42:59.868798200Z"
    }
   },
   "id": "e4c55d63c7a2a411",
   "execution_count": 28
  },
  {
   "cell_type": "code",
   "outputs": [
    {
     "data": {
      "text/plain": "Index(['pclass', 'sex', 'age', 'sibsp'], dtype='object')"
     },
     "execution_count": 29,
     "metadata": {},
     "output_type": "execute_result"
    }
   ],
   "source": [
    "select_col = titanic_v2.columns[1:5]\n",
    "select_col"
   ],
   "metadata": {
    "collapsed": false,
    "ExecuteTime": {
     "end_time": "2024-02-24T20:43:00.704310300Z",
     "start_time": "2024-02-24T20:42:59.885228200Z"
    }
   },
   "id": "7f166f447da3cc6",
   "execution_count": 29
  },
  {
   "cell_type": "code",
   "outputs": [
    {
     "data": {
      "text/plain": "   survived  parch     fare embarked deck\n0         0      0   7.2500        S  NaN\n1         1      0  71.2833        C    C\n2         1      0   7.9250        S  NaN\n3         1      0  53.1000        S    C\n4         0      0   8.0500        S  NaN",
      "text/html": "<div>\n<style scoped>\n    .dataframe tbody tr th:only-of-type {\n        vertical-align: middle;\n    }\n\n    .dataframe tbody tr th {\n        vertical-align: top;\n    }\n\n    .dataframe thead th {\n        text-align: right;\n    }\n</style>\n<table border=\"1\" class=\"dataframe\">\n  <thead>\n    <tr style=\"text-align: right;\">\n      <th></th>\n      <th>survived</th>\n      <th>parch</th>\n      <th>fare</th>\n      <th>embarked</th>\n      <th>deck</th>\n    </tr>\n  </thead>\n  <tbody>\n    <tr>\n      <th>0</th>\n      <td>0</td>\n      <td>0</td>\n      <td>7.2500</td>\n      <td>S</td>\n      <td>NaN</td>\n    </tr>\n    <tr>\n      <th>1</th>\n      <td>1</td>\n      <td>0</td>\n      <td>71.2833</td>\n      <td>C</td>\n      <td>C</td>\n    </tr>\n    <tr>\n      <th>2</th>\n      <td>1</td>\n      <td>0</td>\n      <td>7.9250</td>\n      <td>S</td>\n      <td>NaN</td>\n    </tr>\n    <tr>\n      <th>3</th>\n      <td>1</td>\n      <td>0</td>\n      <td>53.1000</td>\n      <td>S</td>\n      <td>C</td>\n    </tr>\n    <tr>\n      <th>4</th>\n      <td>0</td>\n      <td>0</td>\n      <td>8.0500</td>\n      <td>S</td>\n      <td>NaN</td>\n    </tr>\n  </tbody>\n</table>\n</div>"
     },
     "execution_count": 30,
     "metadata": {},
     "output_type": "execute_result"
    }
   ],
   "source": [
    "titanic_v2.drop(columns=select_col, inplace=True)\n",
    "titanic_v2.head()"
   ],
   "metadata": {
    "collapsed": false,
    "ExecuteTime": {
     "end_time": "2024-02-24T20:43:00.706311500Z",
     "start_time": "2024-02-24T20:42:59.893581600Z"
    }
   },
   "id": "b11675d19fbc86ba",
   "execution_count": 30
  },
  {
   "cell_type": "markdown",
   "source": [
    "# Removing Rows"
   ],
   "metadata": {
    "collapsed": false
   },
   "id": "31acfb188b430321"
  },
  {
   "cell_type": "code",
   "outputs": [],
   "source": [
    "cars = pd.read_csv(\"cars.csv\")"
   ],
   "metadata": {
    "collapsed": false,
    "ExecuteTime": {
     "end_time": "2024-02-24T20:43:00.708310Z",
     "start_time": "2024-02-24T20:42:59.903974500Z"
    }
   },
   "id": "febf11d77bbcacd3",
   "execution_count": 31
  },
  {
   "cell_type": "code",
   "outputs": [],
   "source": [
    "cars.drop(columns=[\"mpg\",\"cylinders\",\"displacement\",\"horsepower\",\"weight\",\"acceleration\",\"model_year\"], inplace=True)"
   ],
   "metadata": {
    "collapsed": false,
    "ExecuteTime": {
     "end_time": "2024-02-24T20:43:00.756312800Z",
     "start_time": "2024-02-24T20:42:59.916693100Z"
    }
   },
   "id": "28b57983bf98ad52",
   "execution_count": 32
  },
  {
   "cell_type": "code",
   "outputs": [
    {
     "data": {
      "text/plain": "  origin                       name\n0    usa  chevrolet chevelle malibu\n1    usa          buick skylark 320\n2    usa         plymouth satellite\n3    usa              amc rebel sst\n4    usa                ford torino",
      "text/html": "<div>\n<style scoped>\n    .dataframe tbody tr th:only-of-type {\n        vertical-align: middle;\n    }\n\n    .dataframe tbody tr th {\n        vertical-align: top;\n    }\n\n    .dataframe thead th {\n        text-align: right;\n    }\n</style>\n<table border=\"1\" class=\"dataframe\">\n  <thead>\n    <tr style=\"text-align: right;\">\n      <th></th>\n      <th>origin</th>\n      <th>name</th>\n    </tr>\n  </thead>\n  <tbody>\n    <tr>\n      <th>0</th>\n      <td>usa</td>\n      <td>chevrolet chevelle malibu</td>\n    </tr>\n    <tr>\n      <th>1</th>\n      <td>usa</td>\n      <td>buick skylark 320</td>\n    </tr>\n    <tr>\n      <th>2</th>\n      <td>usa</td>\n      <td>plymouth satellite</td>\n    </tr>\n    <tr>\n      <th>3</th>\n      <td>usa</td>\n      <td>amc rebel sst</td>\n    </tr>\n    <tr>\n      <th>4</th>\n      <td>usa</td>\n      <td>ford torino</td>\n    </tr>\n  </tbody>\n</table>\n</div>"
     },
     "execution_count": 33,
     "metadata": {},
     "output_type": "execute_result"
    }
   ],
   "source": [
    "cars.head()"
   ],
   "metadata": {
    "collapsed": false,
    "ExecuteTime": {
     "end_time": "2024-02-24T20:43:00.759311Z",
     "start_time": "2024-02-24T20:42:59.922902Z"
    }
   },
   "id": "9d1d6116e48297df",
   "execution_count": 33
  },
  {
   "cell_type": "code",
   "outputs": [],
   "source": [
    "cars_filter = cars.loc[cars.name == \"chevrolet chevelle malibu\"]"
   ],
   "metadata": {
    "collapsed": false,
    "ExecuteTime": {
     "end_time": "2024-02-24T20:43:00.760309500Z",
     "start_time": "2024-02-24T20:42:59.931254900Z"
    }
   },
   "id": "dc3c71bdefe4c9cc",
   "execution_count": 34
  },
  {
   "cell_type": "code",
   "outputs": [
    {
     "data": {
      "text/plain": "    origin                       name\n35     usa  chevrolet chevelle malibu\n161    usa  chevrolet chevelle malibu",
      "text/html": "<div>\n<style scoped>\n    .dataframe tbody tr th:only-of-type {\n        vertical-align: middle;\n    }\n\n    .dataframe tbody tr th {\n        vertical-align: top;\n    }\n\n    .dataframe thead th {\n        text-align: right;\n    }\n</style>\n<table border=\"1\" class=\"dataframe\">\n  <thead>\n    <tr style=\"text-align: right;\">\n      <th></th>\n      <th>origin</th>\n      <th>name</th>\n    </tr>\n  </thead>\n  <tbody>\n    <tr>\n      <th>35</th>\n      <td>usa</td>\n      <td>chevrolet chevelle malibu</td>\n    </tr>\n    <tr>\n      <th>161</th>\n      <td>usa</td>\n      <td>chevrolet chevelle malibu</td>\n    </tr>\n  </tbody>\n</table>\n</div>"
     },
     "execution_count": 35,
     "metadata": {},
     "output_type": "execute_result"
    }
   ],
   "source": [
    "cars_filter.drop(index=0)"
   ],
   "metadata": {
    "collapsed": false,
    "ExecuteTime": {
     "end_time": "2024-02-24T20:43:00.781310100Z",
     "start_time": "2024-02-24T20:42:59.937847Z"
    }
   },
   "id": "bb8a9d1d89a05b58",
   "execution_count": 35
  },
  {
   "cell_type": "markdown",
   "source": [
    "### labels + axis=1 inseamna ca vom specifica coloanele care vrem sa le stergem"
   ],
   "metadata": {
    "collapsed": false
   },
   "id": "381f4f150a4662e"
  },
  {
   "cell_type": "code",
   "outputs": [
    {
     "data": {
      "text/plain": "    origin\n0      usa\n35     usa\n161    usa",
      "text/html": "<div>\n<style scoped>\n    .dataframe tbody tr th:only-of-type {\n        vertical-align: middle;\n    }\n\n    .dataframe tbody tr th {\n        vertical-align: top;\n    }\n\n    .dataframe thead th {\n        text-align: right;\n    }\n</style>\n<table border=\"1\" class=\"dataframe\">\n  <thead>\n    <tr style=\"text-align: right;\">\n      <th></th>\n      <th>origin</th>\n    </tr>\n  </thead>\n  <tbody>\n    <tr>\n      <th>0</th>\n      <td>usa</td>\n    </tr>\n    <tr>\n      <th>35</th>\n      <td>usa</td>\n    </tr>\n    <tr>\n      <th>161</th>\n      <td>usa</td>\n    </tr>\n  </tbody>\n</table>\n</div>"
     },
     "execution_count": 36,
     "metadata": {},
     "output_type": "execute_result"
    }
   ],
   "source": [
    "cars_filter.drop(labels=\"name\", axis=1)"
   ],
   "metadata": {
    "collapsed": false,
    "ExecuteTime": {
     "end_time": "2024-02-24T20:43:00.783311200Z",
     "start_time": "2024-02-24T20:42:59.948206200Z"
    }
   },
   "id": "35d46157921bd80f",
   "execution_count": 36
  },
  {
   "cell_type": "markdown",
   "source": [
    "### labels + axis=0 inseamna ca vom specifica randurile care vrem sa le stergem - in cazul nostru randul 1"
   ],
   "metadata": {
    "collapsed": false
   },
   "id": "8b57f33b75d9cc7b"
  },
  {
   "cell_type": "code",
   "outputs": [
    {
     "data": {
      "text/plain": "     origin                       name\n0       usa  chevrolet chevelle malibu\n2       usa         plymouth satellite\n3       usa              amc rebel sst\n4       usa                ford torino\n5       usa           ford galaxie 500\n..      ...                        ...\n393     usa            ford mustang gl\n394  europe                  vw pickup\n395     usa              dodge rampage\n396     usa                ford ranger\n397     usa             chevrolet s-10\n\n[397 rows x 2 columns]",
      "text/html": "<div>\n<style scoped>\n    .dataframe tbody tr th:only-of-type {\n        vertical-align: middle;\n    }\n\n    .dataframe tbody tr th {\n        vertical-align: top;\n    }\n\n    .dataframe thead th {\n        text-align: right;\n    }\n</style>\n<table border=\"1\" class=\"dataframe\">\n  <thead>\n    <tr style=\"text-align: right;\">\n      <th></th>\n      <th>origin</th>\n      <th>name</th>\n    </tr>\n  </thead>\n  <tbody>\n    <tr>\n      <th>0</th>\n      <td>usa</td>\n      <td>chevrolet chevelle malibu</td>\n    </tr>\n    <tr>\n      <th>2</th>\n      <td>usa</td>\n      <td>plymouth satellite</td>\n    </tr>\n    <tr>\n      <th>3</th>\n      <td>usa</td>\n      <td>amc rebel sst</td>\n    </tr>\n    <tr>\n      <th>4</th>\n      <td>usa</td>\n      <td>ford torino</td>\n    </tr>\n    <tr>\n      <th>5</th>\n      <td>usa</td>\n      <td>ford galaxie 500</td>\n    </tr>\n    <tr>\n      <th>...</th>\n      <td>...</td>\n      <td>...</td>\n    </tr>\n    <tr>\n      <th>393</th>\n      <td>usa</td>\n      <td>ford mustang gl</td>\n    </tr>\n    <tr>\n      <th>394</th>\n      <td>europe</td>\n      <td>vw pickup</td>\n    </tr>\n    <tr>\n      <th>395</th>\n      <td>usa</td>\n      <td>dodge rampage</td>\n    </tr>\n    <tr>\n      <th>396</th>\n      <td>usa</td>\n      <td>ford ranger</td>\n    </tr>\n    <tr>\n      <th>397</th>\n      <td>usa</td>\n      <td>chevrolet s-10</td>\n    </tr>\n  </tbody>\n</table>\n<p>397 rows × 2 columns</p>\n</div>"
     },
     "execution_count": 37,
     "metadata": {},
     "output_type": "execute_result"
    }
   ],
   "source": [
    "cars.drop(labels=1, axis=0)"
   ],
   "metadata": {
    "collapsed": false,
    "ExecuteTime": {
     "end_time": "2024-02-24T20:43:00.801310400Z",
     "start_time": "2024-02-24T20:42:59.957403200Z"
    }
   },
   "id": "31d7e72275c8cfa5",
   "execution_count": 37
  },
  {
   "cell_type": "markdown",
   "source": [
    "# Adding new Columns\n",
    "## Cu [] adaugam o coloana noua sau acesam o coloana existenta"
   ],
   "metadata": {
    "collapsed": false
   },
   "id": "97c832a2c461eba0"
  },
  {
   "cell_type": "code",
   "outputs": [
    {
     "data": {
      "text/plain": "   survived  pclass     sex   age  sibsp  parch     fare embarked deck  T_T_t\n0         0       3    male  22.0      1      0   7.2500        S  NaN      0\n1         1       1  female  38.0      1      0  71.2833        C    C      0\n2         1       3  female  26.0      0      0   7.9250        S  NaN      0\n3         1       1  female  35.0      1      0  53.1000        S    C      0\n4         0       3    male  35.0      0      0   8.0500        S  NaN      0",
      "text/html": "<div>\n<style scoped>\n    .dataframe tbody tr th:only-of-type {\n        vertical-align: middle;\n    }\n\n    .dataframe tbody tr th {\n        vertical-align: top;\n    }\n\n    .dataframe thead th {\n        text-align: right;\n    }\n</style>\n<table border=\"1\" class=\"dataframe\">\n  <thead>\n    <tr style=\"text-align: right;\">\n      <th></th>\n      <th>survived</th>\n      <th>pclass</th>\n      <th>sex</th>\n      <th>age</th>\n      <th>sibsp</th>\n      <th>parch</th>\n      <th>fare</th>\n      <th>embarked</th>\n      <th>deck</th>\n      <th>T_T_t</th>\n    </tr>\n  </thead>\n  <tbody>\n    <tr>\n      <th>0</th>\n      <td>0</td>\n      <td>3</td>\n      <td>male</td>\n      <td>22.0</td>\n      <td>1</td>\n      <td>0</td>\n      <td>7.2500</td>\n      <td>S</td>\n      <td>NaN</td>\n      <td>0</td>\n    </tr>\n    <tr>\n      <th>1</th>\n      <td>1</td>\n      <td>1</td>\n      <td>female</td>\n      <td>38.0</td>\n      <td>1</td>\n      <td>0</td>\n      <td>71.2833</td>\n      <td>C</td>\n      <td>C</td>\n      <td>0</td>\n    </tr>\n    <tr>\n      <th>2</th>\n      <td>1</td>\n      <td>3</td>\n      <td>female</td>\n      <td>26.0</td>\n      <td>0</td>\n      <td>0</td>\n      <td>7.9250</td>\n      <td>S</td>\n      <td>NaN</td>\n      <td>0</td>\n    </tr>\n    <tr>\n      <th>3</th>\n      <td>1</td>\n      <td>1</td>\n      <td>female</td>\n      <td>35.0</td>\n      <td>1</td>\n      <td>0</td>\n      <td>53.1000</td>\n      <td>S</td>\n      <td>C</td>\n      <td>0</td>\n    </tr>\n    <tr>\n      <th>4</th>\n      <td>0</td>\n      <td>3</td>\n      <td>male</td>\n      <td>35.0</td>\n      <td>0</td>\n      <td>0</td>\n      <td>8.0500</td>\n      <td>S</td>\n      <td>NaN</td>\n      <td>0</td>\n    </tr>\n  </tbody>\n</table>\n</div>"
     },
     "execution_count": 38,
     "metadata": {},
     "output_type": "execute_result"
    }
   ],
   "source": [
    "titanic[\"T_T_t\"] = 0\n",
    "titanic.head()"
   ],
   "metadata": {
    "collapsed": false,
    "ExecuteTime": {
     "end_time": "2024-02-24T20:43:00.803309500Z",
     "start_time": "2024-02-24T20:42:59.968820900Z"
    }
   },
   "id": "fcbcbad707173add",
   "execution_count": 38
  },
  {
   "cell_type": "markdown",
   "source": [
    "# Creating new Columns based on other Columns"
   ],
   "metadata": {
    "collapsed": false
   },
   "id": "1b015a59b3744441"
  },
  {
   "cell_type": "code",
   "outputs": [
    {
     "data": {
      "text/plain": "     survived     sex   age  sibsp  parch     fare  inflation\n0           0    male  22.0      1      0   7.2500     72.500\n1           1  female  38.0      1      0  71.2833    712.833\n2           1  female  26.0      0      0   7.9250     79.250\n3           1  female  35.0      1      0  53.1000    531.000\n4           0    male  35.0      0      0   8.0500     80.500\n..        ...     ...   ...    ...    ...      ...        ...\n886         0    male  27.0      0      0  13.0000    130.000\n887         1  female  19.0      0      0  30.0000    300.000\n888         0  female   NaN      1      2  23.4500    234.500\n889         1    male  26.0      0      0  30.0000    300.000\n890         0    male  32.0      0      0   7.7500     77.500\n\n[891 rows x 7 columns]",
      "text/html": "<div>\n<style scoped>\n    .dataframe tbody tr th:only-of-type {\n        vertical-align: middle;\n    }\n\n    .dataframe tbody tr th {\n        vertical-align: top;\n    }\n\n    .dataframe thead th {\n        text-align: right;\n    }\n</style>\n<table border=\"1\" class=\"dataframe\">\n  <thead>\n    <tr style=\"text-align: right;\">\n      <th></th>\n      <th>survived</th>\n      <th>sex</th>\n      <th>age</th>\n      <th>sibsp</th>\n      <th>parch</th>\n      <th>fare</th>\n      <th>inflation</th>\n    </tr>\n  </thead>\n  <tbody>\n    <tr>\n      <th>0</th>\n      <td>0</td>\n      <td>male</td>\n      <td>22.0</td>\n      <td>1</td>\n      <td>0</td>\n      <td>7.2500</td>\n      <td>72.500</td>\n    </tr>\n    <tr>\n      <th>1</th>\n      <td>1</td>\n      <td>female</td>\n      <td>38.0</td>\n      <td>1</td>\n      <td>0</td>\n      <td>71.2833</td>\n      <td>712.833</td>\n    </tr>\n    <tr>\n      <th>2</th>\n      <td>1</td>\n      <td>female</td>\n      <td>26.0</td>\n      <td>0</td>\n      <td>0</td>\n      <td>7.9250</td>\n      <td>79.250</td>\n    </tr>\n    <tr>\n      <th>3</th>\n      <td>1</td>\n      <td>female</td>\n      <td>35.0</td>\n      <td>1</td>\n      <td>0</td>\n      <td>53.1000</td>\n      <td>531.000</td>\n    </tr>\n    <tr>\n      <th>4</th>\n      <td>0</td>\n      <td>male</td>\n      <td>35.0</td>\n      <td>0</td>\n      <td>0</td>\n      <td>8.0500</td>\n      <td>80.500</td>\n    </tr>\n    <tr>\n      <th>...</th>\n      <td>...</td>\n      <td>...</td>\n      <td>...</td>\n      <td>...</td>\n      <td>...</td>\n      <td>...</td>\n      <td>...</td>\n    </tr>\n    <tr>\n      <th>886</th>\n      <td>0</td>\n      <td>male</td>\n      <td>27.0</td>\n      <td>0</td>\n      <td>0</td>\n      <td>13.0000</td>\n      <td>130.000</td>\n    </tr>\n    <tr>\n      <th>887</th>\n      <td>1</td>\n      <td>female</td>\n      <td>19.0</td>\n      <td>0</td>\n      <td>0</td>\n      <td>30.0000</td>\n      <td>300.000</td>\n    </tr>\n    <tr>\n      <th>888</th>\n      <td>0</td>\n      <td>female</td>\n      <td>NaN</td>\n      <td>1</td>\n      <td>2</td>\n      <td>23.4500</td>\n      <td>234.500</td>\n    </tr>\n    <tr>\n      <th>889</th>\n      <td>1</td>\n      <td>male</td>\n      <td>26.0</td>\n      <td>0</td>\n      <td>0</td>\n      <td>30.0000</td>\n      <td>300.000</td>\n    </tr>\n    <tr>\n      <th>890</th>\n      <td>0</td>\n      <td>male</td>\n      <td>32.0</td>\n      <td>0</td>\n      <td>0</td>\n      <td>7.7500</td>\n      <td>77.500</td>\n    </tr>\n  </tbody>\n</table>\n<p>891 rows × 7 columns</p>\n</div>"
     },
     "execution_count": 39,
     "metadata": {},
     "output_type": "execute_result"
    }
   ],
   "source": [
    "titanic['inflation'] = titanic.fare * 10\n",
    "titanic.drop(columns=[\"deck\",\"pclass\",\"T_T_t\", \"embarked\"])"
   ],
   "metadata": {
    "collapsed": false,
    "ExecuteTime": {
     "end_time": "2024-02-24T20:43:00.822311200Z",
     "start_time": "2024-02-24T20:42:59.982227800Z"
    }
   },
   "id": "70598adcf3ec037f",
   "execution_count": 39
  },
  {
   "cell_type": "code",
   "outputs": [
    {
     "data": {
      "text/plain": "   survived  pclass     sex   age  sibsp  parch     fare embarked deck  T_T_t  \\\n0         0       3    male  22.0      1      0   7.2500        S  NaN      0   \n1         1       1  female  38.0      1      0  71.2833        C    C      0   \n2         1       3  female  26.0      0      0   7.9250        S  NaN      0   \n3         1       1  female  35.0      1      0  53.1000        S    C      0   \n4         0       3    male  35.0      0      0   8.0500        S  NaN      0   \n\n   inflation   fare_EUR  \n0     72.500   6.590909  \n1    712.833  64.803000  \n2     79.250   7.204545  \n3    531.000  48.272727  \n4     80.500   7.318182  ",
      "text/html": "<div>\n<style scoped>\n    .dataframe tbody tr th:only-of-type {\n        vertical-align: middle;\n    }\n\n    .dataframe tbody tr th {\n        vertical-align: top;\n    }\n\n    .dataframe thead th {\n        text-align: right;\n    }\n</style>\n<table border=\"1\" class=\"dataframe\">\n  <thead>\n    <tr style=\"text-align: right;\">\n      <th></th>\n      <th>survived</th>\n      <th>pclass</th>\n      <th>sex</th>\n      <th>age</th>\n      <th>sibsp</th>\n      <th>parch</th>\n      <th>fare</th>\n      <th>embarked</th>\n      <th>deck</th>\n      <th>T_T_t</th>\n      <th>inflation</th>\n      <th>fare_EUR</th>\n    </tr>\n  </thead>\n  <tbody>\n    <tr>\n      <th>0</th>\n      <td>0</td>\n      <td>3</td>\n      <td>male</td>\n      <td>22.0</td>\n      <td>1</td>\n      <td>0</td>\n      <td>7.2500</td>\n      <td>S</td>\n      <td>NaN</td>\n      <td>0</td>\n      <td>72.500</td>\n      <td>6.590909</td>\n    </tr>\n    <tr>\n      <th>1</th>\n      <td>1</td>\n      <td>1</td>\n      <td>female</td>\n      <td>38.0</td>\n      <td>1</td>\n      <td>0</td>\n      <td>71.2833</td>\n      <td>C</td>\n      <td>C</td>\n      <td>0</td>\n      <td>712.833</td>\n      <td>64.803000</td>\n    </tr>\n    <tr>\n      <th>2</th>\n      <td>1</td>\n      <td>3</td>\n      <td>female</td>\n      <td>26.0</td>\n      <td>0</td>\n      <td>0</td>\n      <td>7.9250</td>\n      <td>S</td>\n      <td>NaN</td>\n      <td>0</td>\n      <td>79.250</td>\n      <td>7.204545</td>\n    </tr>\n    <tr>\n      <th>3</th>\n      <td>1</td>\n      <td>1</td>\n      <td>female</td>\n      <td>35.0</td>\n      <td>1</td>\n      <td>0</td>\n      <td>53.1000</td>\n      <td>S</td>\n      <td>C</td>\n      <td>0</td>\n      <td>531.000</td>\n      <td>48.272727</td>\n    </tr>\n    <tr>\n      <th>4</th>\n      <td>0</td>\n      <td>3</td>\n      <td>male</td>\n      <td>35.0</td>\n      <td>0</td>\n      <td>0</td>\n      <td>8.0500</td>\n      <td>S</td>\n      <td>NaN</td>\n      <td>0</td>\n      <td>80.500</td>\n      <td>7.318182</td>\n    </tr>\n  </tbody>\n</table>\n</div>"
     },
     "execution_count": 40,
     "metadata": {},
     "output_type": "execute_result"
    }
   ],
   "source": [
    "titanic['fare_EUR'] = titanic.fare / 1.1\n",
    "titanic.head()"
   ],
   "metadata": {
    "collapsed": false,
    "ExecuteTime": {
     "end_time": "2024-02-24T20:43:00.832310400Z",
     "start_time": "2024-02-24T20:42:59.995970100Z"
    }
   },
   "id": "4da6d1cecdfb1c4b",
   "execution_count": 40
  },
  {
   "cell_type": "markdown",
   "source": [
    "### insert() - adauga o coloana pe o anumita pozitie\n",
    "### loc - pozitia\n",
    "### column - numele coloanei\n",
    "### value - valoarea coloanei"
   ],
   "metadata": {
    "collapsed": false
   },
   "id": "a7276dfb1fe449ad"
  },
  {
   "cell_type": "code",
   "outputs": [
    {
     "data": {
      "text/plain": "   survived  pclass     sex        gen   age  sibsp  parch     fare embarked  \\\n0         0       3    male    malesex  22.0      1      0   7.2500        S   \n1         1       1  female  femalesex  38.0      1      0  71.2833        C   \n2         1       3  female  femalesex  26.0      0      0   7.9250        S   \n3         1       1  female  femalesex  35.0      1      0  53.1000        S   \n4         0       3    male    malesex  35.0      0      0   8.0500        S   \n\n  deck  T_T_t  inflation   fare_EUR  \n0  NaN      0     72.500   6.590909  \n1    C      0    712.833  64.803000  \n2  NaN      0     79.250   7.204545  \n3    C      0    531.000  48.272727  \n4  NaN      0     80.500   7.318182  ",
      "text/html": "<div>\n<style scoped>\n    .dataframe tbody tr th:only-of-type {\n        vertical-align: middle;\n    }\n\n    .dataframe tbody tr th {\n        vertical-align: top;\n    }\n\n    .dataframe thead th {\n        text-align: right;\n    }\n</style>\n<table border=\"1\" class=\"dataframe\">\n  <thead>\n    <tr style=\"text-align: right;\">\n      <th></th>\n      <th>survived</th>\n      <th>pclass</th>\n      <th>sex</th>\n      <th>gen</th>\n      <th>age</th>\n      <th>sibsp</th>\n      <th>parch</th>\n      <th>fare</th>\n      <th>embarked</th>\n      <th>deck</th>\n      <th>T_T_t</th>\n      <th>inflation</th>\n      <th>fare_EUR</th>\n    </tr>\n  </thead>\n  <tbody>\n    <tr>\n      <th>0</th>\n      <td>0</td>\n      <td>3</td>\n      <td>male</td>\n      <td>malesex</td>\n      <td>22.0</td>\n      <td>1</td>\n      <td>0</td>\n      <td>7.2500</td>\n      <td>S</td>\n      <td>NaN</td>\n      <td>0</td>\n      <td>72.500</td>\n      <td>6.590909</td>\n    </tr>\n    <tr>\n      <th>1</th>\n      <td>1</td>\n      <td>1</td>\n      <td>female</td>\n      <td>femalesex</td>\n      <td>38.0</td>\n      <td>1</td>\n      <td>0</td>\n      <td>71.2833</td>\n      <td>C</td>\n      <td>C</td>\n      <td>0</td>\n      <td>712.833</td>\n      <td>64.803000</td>\n    </tr>\n    <tr>\n      <th>2</th>\n      <td>1</td>\n      <td>3</td>\n      <td>female</td>\n      <td>femalesex</td>\n      <td>26.0</td>\n      <td>0</td>\n      <td>0</td>\n      <td>7.9250</td>\n      <td>S</td>\n      <td>NaN</td>\n      <td>0</td>\n      <td>79.250</td>\n      <td>7.204545</td>\n    </tr>\n    <tr>\n      <th>3</th>\n      <td>1</td>\n      <td>1</td>\n      <td>female</td>\n      <td>femalesex</td>\n      <td>35.0</td>\n      <td>1</td>\n      <td>0</td>\n      <td>53.1000</td>\n      <td>S</td>\n      <td>C</td>\n      <td>0</td>\n      <td>531.000</td>\n      <td>48.272727</td>\n    </tr>\n    <tr>\n      <th>4</th>\n      <td>0</td>\n      <td>3</td>\n      <td>male</td>\n      <td>malesex</td>\n      <td>35.0</td>\n      <td>0</td>\n      <td>0</td>\n      <td>8.0500</td>\n      <td>S</td>\n      <td>NaN</td>\n      <td>0</td>\n      <td>80.500</td>\n      <td>7.318182</td>\n    </tr>\n  </tbody>\n</table>\n</div>"
     },
     "execution_count": 41,
     "metadata": {},
     "output_type": "execute_result"
    }
   ],
   "source": [
    "new_value = titanic.sex + \"sex\"\n",
    "titanic.insert(loc=3, column=\"gen\", value=new_value)\n",
    "titanic.head()"
   ],
   "metadata": {
    "collapsed": false,
    "ExecuteTime": {
     "end_time": "2024-02-24T20:43:00.846311700Z",
     "start_time": "2024-02-24T20:43:00.013749500Z"
    }
   },
   "id": "be0482cb88f347d7",
   "execution_count": 41
  },
  {
   "cell_type": "markdown",
   "source": [
    "# Create DF with zip()\n",
    "## Python code creerea unui df cu zip()\n"
   ],
   "metadata": {
    "collapsed": false
   },
   "id": "621a8be8d8d614c7"
  },
  {
   "cell_type": "code",
   "outputs": [],
   "source": [
    "nationality = [\"Argentina\", \"Portugal\", \"Brasil\", \"France\", \"Germany\"]\n",
    "club = [\"FC Barcelona\", \" Juventus FC\", \" Paris SG\", \"FC Bayern\"]\n",
    "world_champion = [False,False,False,True,True]\n",
    "height = [1.70, 1.87, 1.75, 1.78, 1.93 ]\n",
    "goals = [45, 44, 28, 21, 0]"
   ],
   "metadata": {
    "collapsed": false,
    "ExecuteTime": {
     "end_time": "2024-02-24T20:43:00.849309600Z",
     "start_time": "2024-02-24T20:43:00.032958Z"
    }
   },
   "id": "477961d5ab4e1122",
   "execution_count": 42
  },
  {
   "cell_type": "code",
   "outputs": [],
   "source": [
    "df_zipp = list(zip(nationality, club, world_champion,  height, goals))"
   ],
   "metadata": {
    "collapsed": false,
    "ExecuteTime": {
     "end_time": "2024-02-24T20:43:00.852312100Z",
     "start_time": "2024-02-24T20:43:00.038623600Z"
    }
   },
   "id": "7a6e5350c56f82d2",
   "execution_count": 43
  },
  {
   "cell_type": "code",
   "outputs": [],
   "source": [
    "messi, eu, tu, neuer = df_zipp"
   ],
   "metadata": {
    "collapsed": false,
    "ExecuteTime": {
     "end_time": "2024-02-24T20:43:00.854324200Z",
     "start_time": "2024-02-24T20:43:00.045251400Z"
    }
   },
   "id": "b37836be7e85d081",
   "execution_count": 44
  },
  {
   "cell_type": "code",
   "outputs": [
    {
     "data": {
      "text/plain": "('Argentina', 'FC Barcelona', False, 1.7, 45)"
     },
     "execution_count": 45,
     "metadata": {},
     "output_type": "execute_result"
    }
   ],
   "source": [
    "messi"
   ],
   "metadata": {
    "collapsed": false,
    "ExecuteTime": {
     "end_time": "2024-02-24T20:43:00.877310600Z",
     "start_time": "2024-02-24T20:43:00.084455200Z"
    }
   },
   "id": "7290bfe1ef3d8402",
   "execution_count": 45
  },
  {
   "cell_type": "code",
   "outputs": [
    {
     "data": {
      "text/plain": "('Portugal', ' Juventus FC', False, 1.87, 44)"
     },
     "execution_count": 46,
     "metadata": {},
     "output_type": "execute_result"
    }
   ],
   "source": [
    "eu"
   ],
   "metadata": {
    "collapsed": false,
    "ExecuteTime": {
     "end_time": "2024-02-24T20:43:01.759505300Z",
     "start_time": "2024-02-24T20:43:00.878314300Z"
    }
   },
   "id": "9c6751423e7307ab",
   "execution_count": 46
  },
  {
   "cell_type": "code",
   "outputs": [],
   "source": [
    "df_manual = pd.DataFrame(data=[messi, eu, tu, neuer],\n",
    "                         index=[\"Lion Messi\", \"Christiano Ronaldo\", \"Neymar Junior\", \"Pisici\"],\n",
    "                         columns=[\"Nationality\", \"Club\", \"World_Chamipon\", \" Height\", \"Goals_2018\"])"
   ],
   "metadata": {
    "collapsed": false,
    "ExecuteTime": {
     "end_time": "2024-02-24T20:43:02.529261300Z",
     "start_time": "2024-02-24T20:43:01.743388Z"
    }
   },
   "id": "d086f95d7bc59e83",
   "execution_count": 47
  },
  {
   "cell_type": "code",
   "outputs": [
    {
     "data": {
      "text/plain": "                   Nationality          Club  World_Chamipon   Height  \\\nLion Messi           Argentina  FC Barcelona           False     1.70   \nChristiano Ronaldo    Portugal   Juventus FC           False     1.87   \nNeymar Junior           Brasil      Paris SG           False     1.75   \nPisici                  France     FC Bayern            True     1.78   \n\n                    Goals_2018  \nLion Messi                  45  \nChristiano Ronaldo          44  \nNeymar Junior               28  \nPisici                      21  ",
      "text/html": "<div>\n<style scoped>\n    .dataframe tbody tr th:only-of-type {\n        vertical-align: middle;\n    }\n\n    .dataframe tbody tr th {\n        vertical-align: top;\n    }\n\n    .dataframe thead th {\n        text-align: right;\n    }\n</style>\n<table border=\"1\" class=\"dataframe\">\n  <thead>\n    <tr style=\"text-align: right;\">\n      <th></th>\n      <th>Nationality</th>\n      <th>Club</th>\n      <th>World_Chamipon</th>\n      <th>Height</th>\n      <th>Goals_2018</th>\n    </tr>\n  </thead>\n  <tbody>\n    <tr>\n      <th>Lion Messi</th>\n      <td>Argentina</td>\n      <td>FC Barcelona</td>\n      <td>False</td>\n      <td>1.70</td>\n      <td>45</td>\n    </tr>\n    <tr>\n      <th>Christiano Ronaldo</th>\n      <td>Portugal</td>\n      <td>Juventus FC</td>\n      <td>False</td>\n      <td>1.87</td>\n      <td>44</td>\n    </tr>\n    <tr>\n      <th>Neymar Junior</th>\n      <td>Brasil</td>\n      <td>Paris SG</td>\n      <td>False</td>\n      <td>1.75</td>\n      <td>28</td>\n    </tr>\n    <tr>\n      <th>Pisici</th>\n      <td>France</td>\n      <td>FC Bayern</td>\n      <td>True</td>\n      <td>1.78</td>\n      <td>21</td>\n    </tr>\n  </tbody>\n</table>\n</div>"
     },
     "execution_count": 48,
     "metadata": {},
     "output_type": "execute_result"
    }
   ],
   "source": [
    "df_manual"
   ],
   "metadata": {
    "collapsed": false,
    "ExecuteTime": {
     "end_time": "2024-02-24T20:43:02.865265300Z",
     "start_time": "2024-02-24T20:43:02.512504700Z"
    }
   },
   "id": "427838ba6f18208b",
   "execution_count": 48
  },
  {
   "cell_type": "markdown",
   "source": [
    "# V2 creerea df dict()"
   ],
   "metadata": {
    "collapsed": false
   },
   "id": "75798ea7109f7744"
  },
  {
   "cell_type": "code",
   "outputs": [],
   "source": [
    "players = [\"Lion Messi\", \"Christiano Ronaldo\", \"Neymar Junior\", \"Manuel Neuer\", \"Robert Lew\"]\n",
    "nationality = [\"Argentina\", \"Portugal\", \"Brasil\", \"France\", \"Germany\"]\n",
    "club = [\"FC Barcelona\", \" Juventus FC\", \" Paris SG\", \"FC Bayern\", \"FC Bayern\"]\n",
    "world_champion = [False,False,False,True,True]\n",
    "height = [1.70, 1.87, 1.75, 1.78, 1.93]\n",
    "goals = [45, 44, 28, 21, 0]"
   ],
   "metadata": {
    "collapsed": false,
    "ExecuteTime": {
     "end_time": "2024-02-24T20:48:49.369284800Z",
     "start_time": "2024-02-24T20:48:49.327789300Z"
    }
   },
   "id": "6766d59f5890a41b",
   "execution_count": 53
  },
  {
   "cell_type": "code",
   "outputs": [],
   "source": [
    "dic = {\"Players\":players, \"National:\": nationality, \"Club\":club, \"World Champion\":world_champion, \"Height\":height, \"Goals\":goals}"
   ],
   "metadata": {
    "collapsed": false,
    "ExecuteTime": {
     "end_time": "2024-02-24T20:48:50.124386400Z",
     "start_time": "2024-02-24T20:48:50.076812Z"
    }
   },
   "id": "df5072357e063e37",
   "execution_count": 54
  },
  {
   "cell_type": "code",
   "outputs": [
    {
     "data": {
      "text/plain": "              Players  National:          Club  World Champion  Height  Goals\n0          Lion Messi  Argentina  FC Barcelona           False    1.70     45\n1  Christiano Ronaldo   Portugal   Juventus FC           False    1.87     44\n2       Neymar Junior     Brasil      Paris SG           False    1.75     28\n3        Manuel Neuer     France     FC Bayern            True    1.78     21\n4          Robert Lew    Germany     FC Bayern            True    1.93      0",
      "text/html": "<div>\n<style scoped>\n    .dataframe tbody tr th:only-of-type {\n        vertical-align: middle;\n    }\n\n    .dataframe tbody tr th {\n        vertical-align: top;\n    }\n\n    .dataframe thead th {\n        text-align: right;\n    }\n</style>\n<table border=\"1\" class=\"dataframe\">\n  <thead>\n    <tr style=\"text-align: right;\">\n      <th></th>\n      <th>Players</th>\n      <th>National:</th>\n      <th>Club</th>\n      <th>World Champion</th>\n      <th>Height</th>\n      <th>Goals</th>\n    </tr>\n  </thead>\n  <tbody>\n    <tr>\n      <th>0</th>\n      <td>Lion Messi</td>\n      <td>Argentina</td>\n      <td>FC Barcelona</td>\n      <td>False</td>\n      <td>1.70</td>\n      <td>45</td>\n    </tr>\n    <tr>\n      <th>1</th>\n      <td>Christiano Ronaldo</td>\n      <td>Portugal</td>\n      <td>Juventus FC</td>\n      <td>False</td>\n      <td>1.87</td>\n      <td>44</td>\n    </tr>\n    <tr>\n      <th>2</th>\n      <td>Neymar Junior</td>\n      <td>Brasil</td>\n      <td>Paris SG</td>\n      <td>False</td>\n      <td>1.75</td>\n      <td>28</td>\n    </tr>\n    <tr>\n      <th>3</th>\n      <td>Manuel Neuer</td>\n      <td>France</td>\n      <td>FC Bayern</td>\n      <td>True</td>\n      <td>1.78</td>\n      <td>21</td>\n    </tr>\n    <tr>\n      <th>4</th>\n      <td>Robert Lew</td>\n      <td>Germany</td>\n      <td>FC Bayern</td>\n      <td>True</td>\n      <td>1.93</td>\n      <td>0</td>\n    </tr>\n  </tbody>\n</table>\n</div>"
     },
     "execution_count": 61,
     "metadata": {},
     "output_type": "execute_result"
    }
   ],
   "source": [
    "data_new = pd.DataFrame(data=dic)\n",
    "data_new.head()"
   ],
   "metadata": {
    "collapsed": false,
    "ExecuteTime": {
     "end_time": "2024-02-24T21:07:36.464155300Z",
     "start_time": "2024-02-24T21:07:36.397077200Z"
    }
   },
   "id": "462dea69a2149277",
   "execution_count": 61
  },
  {
   "cell_type": "markdown",
   "source": [
    "# Add Rows in existing DataFrame"
   ],
   "metadata": {
    "collapsed": false
   },
   "id": "aae62aecc4527ec6"
  },
  {
   "cell_type": "code",
   "outputs": [
    {
     "data": {
      "text/plain": "  Players National:          Club  World Champion  Height  Goals\n0  Darius   Romania  FC Barcelona           False     1.8    100",
      "text/html": "<div>\n<style scoped>\n    .dataframe tbody tr th:only-of-type {\n        vertical-align: middle;\n    }\n\n    .dataframe tbody tr th {\n        vertical-align: top;\n    }\n\n    .dataframe thead th {\n        text-align: right;\n    }\n</style>\n<table border=\"1\" class=\"dataframe\">\n  <thead>\n    <tr style=\"text-align: right;\">\n      <th></th>\n      <th>Players</th>\n      <th>National:</th>\n      <th>Club</th>\n      <th>World Champion</th>\n      <th>Height</th>\n      <th>Goals</th>\n    </tr>\n  </thead>\n  <tbody>\n    <tr>\n      <th>0</th>\n      <td>Darius</td>\n      <td>Romania</td>\n      <td>FC Barcelona</td>\n      <td>False</td>\n      <td>1.8</td>\n      <td>100</td>\n    </tr>\n  </tbody>\n</table>\n</div>"
     },
     "execution_count": 64,
     "metadata": {},
     "output_type": "execute_result"
    }
   ],
   "source": [
    "new = pd.DataFrame(data=[[\"Darius\", \"Romania\", \"FC Barcelona\", False, 1.80, 100]], columns=data_new.columns)\n",
    "new"
   ],
   "metadata": {
    "collapsed": false,
    "ExecuteTime": {
     "end_time": "2024-02-24T21:09:37.013945400Z",
     "start_time": "2024-02-24T21:09:36.978154700Z"
    }
   },
   "id": "5c849d785e7d37de",
   "execution_count": 64
  },
  {
   "cell_type": "code",
   "outputs": [
    {
     "data": {
      "text/plain": "              Players  National:          Club  World Champion  Height  Goals\n0          Lion Messi  Argentina  FC Barcelona           False    1.70     45\n1  Christiano Ronaldo   Portugal   Juventus FC           False    1.87     44\n2       Neymar Junior     Brasil      Paris SG           False    1.75     28\n3        Manuel Neuer     France     FC Bayern            True    1.78     21\n4          Robert Lew    Germany     FC Bayern            True    1.93      0\n5              Darius    Romania  FC Barcelona           False    1.80    100",
      "text/html": "<div>\n<style scoped>\n    .dataframe tbody tr th:only-of-type {\n        vertical-align: middle;\n    }\n\n    .dataframe tbody tr th {\n        vertical-align: top;\n    }\n\n    .dataframe thead th {\n        text-align: right;\n    }\n</style>\n<table border=\"1\" class=\"dataframe\">\n  <thead>\n    <tr style=\"text-align: right;\">\n      <th></th>\n      <th>Players</th>\n      <th>National:</th>\n      <th>Club</th>\n      <th>World Champion</th>\n      <th>Height</th>\n      <th>Goals</th>\n    </tr>\n  </thead>\n  <tbody>\n    <tr>\n      <th>0</th>\n      <td>Lion Messi</td>\n      <td>Argentina</td>\n      <td>FC Barcelona</td>\n      <td>False</td>\n      <td>1.70</td>\n      <td>45</td>\n    </tr>\n    <tr>\n      <th>1</th>\n      <td>Christiano Ronaldo</td>\n      <td>Portugal</td>\n      <td>Juventus FC</td>\n      <td>False</td>\n      <td>1.87</td>\n      <td>44</td>\n    </tr>\n    <tr>\n      <th>2</th>\n      <td>Neymar Junior</td>\n      <td>Brasil</td>\n      <td>Paris SG</td>\n      <td>False</td>\n      <td>1.75</td>\n      <td>28</td>\n    </tr>\n    <tr>\n      <th>3</th>\n      <td>Manuel Neuer</td>\n      <td>France</td>\n      <td>FC Bayern</td>\n      <td>True</td>\n      <td>1.78</td>\n      <td>21</td>\n    </tr>\n    <tr>\n      <th>4</th>\n      <td>Robert Lew</td>\n      <td>Germany</td>\n      <td>FC Bayern</td>\n      <td>True</td>\n      <td>1.93</td>\n      <td>0</td>\n    </tr>\n    <tr>\n      <th>5</th>\n      <td>Darius</td>\n      <td>Romania</td>\n      <td>FC Barcelona</td>\n      <td>False</td>\n      <td>1.80</td>\n      <td>100</td>\n    </tr>\n  </tbody>\n</table>\n</div>"
     },
     "execution_count": 66,
     "metadata": {},
     "output_type": "execute_result"
    }
   ],
   "source": [
    "data_concat = pd.concat([data_new, new] , ignore_index=True)\n",
    "data_concat"
   ],
   "metadata": {
    "collapsed": false,
    "ExecuteTime": {
     "end_time": "2024-02-24T21:10:47.908104500Z",
     "start_time": "2024-02-24T21:10:47.804588200Z"
    }
   },
   "id": "d6a33a7db10e988b",
   "execution_count": 66
  }
 ],
 "metadata": {
  "kernelspec": {
   "display_name": "Python 3",
   "language": "python",
   "name": "python3"
  },
  "language_info": {
   "codemirror_mode": {
    "name": "ipython",
    "version": 2
   },
   "file_extension": ".py",
   "mimetype": "text/x-python",
   "name": "python",
   "nbconvert_exporter": "python",
   "pygments_lexer": "ipython2",
   "version": "2.7.6"
  }
 },
 "nbformat": 4,
 "nbformat_minor": 5
}
