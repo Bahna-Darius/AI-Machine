{
 "cells": [
  {
   "cell_type": "code",
   "execution_count": 1,
   "id": "initial_id",
   "metadata": {
    "collapsed": true,
    "ExecuteTime": {
     "end_time": "2024-04-05T19:27:39.260688900Z",
     "start_time": "2024-04-05T19:27:38.682329200Z"
    }
   },
   "outputs": [],
   "source": [
    "import numpy as np"
   ]
  },
  {
   "cell_type": "markdown",
   "source": [
    "# Numpy Arrays\n",
    "## Numpy Arrays are similar to Python Lists but with some differences:\n",
    "- Numpy arrays are homogeneous (all elements are of the same type)\n",
    "- Numpy arrays are faster and more memory efficient\n",
    "- Numpy arrays are optimized for numerical operations\n",
    "- Numpy arrays can be multi-dimensional"
   ],
   "metadata": {
    "collapsed": false
   },
   "id": "7a7444f87c213dde"
  },
  {
   "cell_type": "code",
   "outputs": [
    {
     "data": {
      "text/plain": "[0, 1, 2, 3, 4, 5, 6, 7, 8, 9]"
     },
     "execution_count": 2,
     "metadata": {},
     "output_type": "execute_result"
    }
   ],
   "source": [
    "l = list(range(10))\n",
    "l"
   ],
   "metadata": {
    "collapsed": false,
    "ExecuteTime": {
     "end_time": "2024-04-05T19:28:01.890380300Z",
     "start_time": "2024-04-05T19:28:01.872539800Z"
    }
   },
   "id": "a268eb830765dccf",
   "execution_count": 2
  },
  {
   "cell_type": "code",
   "outputs": [
    {
     "data": {
      "text/plain": "array([0, 1, 2, 3, 4, 5, 6, 7, 8, 9])"
     },
     "execution_count": 3,
     "metadata": {},
     "output_type": "execute_result"
    }
   ],
   "source": [
    "my_array = np.array(l)  # convert list to numpy array (ndarray)\n",
    "my_array"
   ],
   "metadata": {
    "collapsed": false,
    "ExecuteTime": {
     "end_time": "2024-04-05T19:30:34.647505900Z",
     "start_time": "2024-04-05T19:30:34.636818700Z"
    }
   },
   "id": "8ff5e009e44cea6",
   "execution_count": 3
  },
  {
   "cell_type": "code",
   "outputs": [
    {
     "name": "stdout",
     "output_type": "stream",
     "text": [
      "<class 'numpy.str_'>\n",
      "<class 'numpy.str_'>\n",
      "<class 'numpy.str_'>\n",
      "<class 'numpy.str_'>\n"
     ]
    }
   ],
   "source": [
    "list_rand = [1, 2.5, 'YES', True]\n",
    "np.array(list_rand)  # all elements are converted to string\n",
    "for i in np.array(list_rand):\n",
    "    print(type(i))"
   ],
   "metadata": {
    "collapsed": false,
    "ExecuteTime": {
     "end_time": "2024-04-05T19:33:13.802134900Z",
     "start_time": "2024-04-05T19:33:13.796656700Z"
    }
   },
   "id": "c48e1de1d4a8ceb5",
   "execution_count": 4
  },
  {
   "cell_type": "code",
   "outputs": [
    {
     "data": {
      "text/plain": "dtype('int32')"
     },
     "execution_count": 8,
     "metadata": {},
     "output_type": "execute_result"
    }
   ],
   "source": [
    "my_array.dtype"
   ],
   "metadata": {
    "collapsed": false,
    "ExecuteTime": {
     "end_time": "2024-04-05T19:36:54.668112600Z",
     "start_time": "2024-04-05T19:36:54.659129400Z"
    }
   },
   "id": "40f4def55077321e",
   "execution_count": 8
  },
  {
   "cell_type": "markdown",
   "source": [],
   "metadata": {
    "collapsed": false
   },
   "id": "f2fd70b4473adf0"
  },
  {
   "cell_type": "markdown",
   "source": [],
   "metadata": {
    "collapsed": false
   },
   "id": "218a8188b1f12e55"
  },
  {
   "cell_type": "markdown",
   "source": [
    "# Numpy Array (element-wise operations / vectorization)\n",
    "- In Numpy, operations are performed element-wise\n",
    "- In Numpy we have many functions that can be applied to the entire array, is perfect for numerical operations\n"
   ],
   "metadata": {
    "collapsed": false
   },
   "id": "510643598c10cda8"
  },
  {
   "cell_type": "code",
   "outputs": [],
   "source": [
    "l = [2, 4, 6, 8]\n",
    "array_list = np.arange(2, 10, 2)    # same as range() but returns ndarray"
   ],
   "metadata": {
    "collapsed": false,
    "ExecuteTime": {
     "end_time": "2024-04-05T19:49:13.046451800Z",
     "start_time": "2024-04-05T19:49:13.035841Z"
    }
   },
   "id": "56fd566d07a934d0",
   "execution_count": 12
  },
  {
   "cell_type": "code",
   "outputs": [
    {
     "data": {
      "text/plain": "[2, 4, 6, 8, 2, 4, 6, 8]"
     },
     "execution_count": 13,
     "metadata": {},
     "output_type": "execute_result"
    }
   ],
   "source": [
    "l * 2   "
   ],
   "metadata": {
    "collapsed": false,
    "ExecuteTime": {
     "end_time": "2024-04-05T19:49:25.210502700Z",
     "start_time": "2024-04-05T19:49:25.191443800Z"
    }
   },
   "id": "1b568c071a7eac3f",
   "execution_count": 13
  },
  {
   "cell_type": "code",
   "outputs": [
    {
     "data": {
      "text/plain": "array([ 4,  8, 12, 16])"
     },
     "execution_count": 14,
     "metadata": {},
     "output_type": "execute_result"
    }
   ],
   "source": [
    "array_list * 2"
   ],
   "metadata": {
    "collapsed": false,
    "ExecuteTime": {
     "end_time": "2024-04-05T19:49:36.449983200Z",
     "start_time": "2024-04-05T19:49:36.416667400Z"
    }
   },
   "id": "f325363df1650a1a",
   "execution_count": 14
  },
  {
   "cell_type": "code",
   "outputs": [
    {
     "ename": "TypeError",
     "evalue": "can only concatenate list (not \"int\") to list",
     "output_type": "error",
     "traceback": [
      "\u001B[1;31m---------------------------------------------------------------------------\u001B[0m",
      "\u001B[1;31mTypeError\u001B[0m                                 Traceback (most recent call last)",
      "Cell \u001B[1;32mIn[15], line 1\u001B[0m\n\u001B[1;32m----> 1\u001B[0m \u001B[43ml\u001B[49m\u001B[43m \u001B[49m\u001B[38;5;241;43m+\u001B[39;49m\u001B[43m \u001B[49m\u001B[38;5;241;43m2\u001B[39;49m\n",
      "\u001B[1;31mTypeError\u001B[0m: can only concatenate list (not \"int\") to list"
     ]
    }
   ],
   "source": [
    "l + 2   # in list not possible"
   ],
   "metadata": {
    "collapsed": false,
    "ExecuteTime": {
     "end_time": "2024-04-05T19:50:44.484922800Z",
     "start_time": "2024-04-05T19:50:44.462350400Z"
    }
   },
   "id": "4f8486e6b83a479e",
   "execution_count": 15
  },
  {
   "cell_type": "code",
   "outputs": [
    {
     "data": {
      "text/plain": "array([ 4,  6,  8, 10])"
     },
     "execution_count": 16,
     "metadata": {},
     "output_type": "execute_result"
    }
   ],
   "source": [
    "array_list + 2  # in ndarray possible to add scalar to each element"
   ],
   "metadata": {
    "collapsed": false,
    "ExecuteTime": {
     "end_time": "2024-04-05T19:50:46.509049300Z",
     "start_time": "2024-04-05T19:50:46.487170500Z"
    }
   },
   "id": "17468eab83cbce4c",
   "execution_count": 16
  },
  {
   "cell_type": "code",
   "outputs": [
    {
     "data": {
      "text/plain": "array([1.41421356, 2.        , 2.44948974, 2.82842712])"
     },
     "execution_count": 17,
     "metadata": {},
     "output_type": "execute_result"
    }
   ],
   "source": [
    "np.sqrt(array_list)  # element-wise square root\n"
   ],
   "metadata": {
    "collapsed": false,
    "ExecuteTime": {
     "end_time": "2024-04-05T19:53:54.292022400Z",
     "start_time": "2024-04-05T19:53:54.248660600Z"
    }
   },
   "id": "68b5b97deb7e34a0",
   "execution_count": 17
  },
  {
   "cell_type": "code",
   "outputs": [
    {
     "data": {
      "text/plain": "array([   7.3890561 ,   54.59815003,  403.42879349, 2980.95798704])"
     },
     "execution_count": 20,
     "metadata": {},
     "output_type": "execute_result"
    }
   ],
   "source": [
    "np.exp(array_list)  # element-wise exponential"
   ],
   "metadata": {
    "collapsed": false,
    "ExecuteTime": {
     "end_time": "2024-04-05T19:55:06.385369300Z",
     "start_time": "2024-04-05T19:55:06.347566100Z"
    }
   },
   "id": "fe3645377db15dc6",
   "execution_count": 20
  },
  {
   "cell_type": "code",
   "outputs": [
    {
     "data": {
      "text/plain": "array([0.69314718, 1.38629436, 1.79175947, 2.07944154])"
     },
     "execution_count": 21,
     "metadata": {},
     "output_type": "execute_result"
    }
   ],
   "source": [
    "np.log(array_list)  # element-wise natural logarithm"
   ],
   "metadata": {
    "collapsed": false,
    "ExecuteTime": {
     "end_time": "2024-04-05T19:55:10.626561300Z",
     "start_time": "2024-04-05T19:55:10.600357500Z"
    }
   },
   "id": "4a7839ec492d70e1",
   "execution_count": 21
  },
  {
   "cell_type": "code",
   "outputs": [
    {
     "data": {
      "text/plain": "array([ 0.90929743, -0.7568025 , -0.2794155 ,  0.98935825])"
     },
     "execution_count": 22,
     "metadata": {},
     "output_type": "execute_result"
    }
   ],
   "source": [
    "np.sin(array_list)  # element-wise sine"
   ],
   "metadata": {
    "collapsed": false,
    "ExecuteTime": {
     "end_time": "2024-04-05T19:55:25.874145200Z",
     "start_time": "2024-04-05T19:55:25.838653700Z"
    }
   },
   "id": "c6b223cd34505be4",
   "execution_count": 22
  },
  {
   "cell_type": "markdown",
   "source": [],
   "metadata": {
    "collapsed": false
   },
   "id": "ff141f969b7df075"
  },
  {
   "cell_type": "markdown",
   "source": [
    "# Numpy Array Indexing and Slicing\n",
    "- Numpy arrays can be indexed and sliced like Python lists\n"
   ],
   "metadata": {
    "collapsed": false
   },
   "id": "b2738a18f05a1e95"
  },
  {
   "cell_type": "code",
   "outputs": [
    {
     "data": {
      "text/plain": "array([2, 4, 6, 8])"
     },
     "execution_count": 25,
     "metadata": {},
     "output_type": "execute_result"
    }
   ],
   "source": [
    "array_list"
   ],
   "metadata": {
    "collapsed": false,
    "ExecuteTime": {
     "end_time": "2024-04-05T20:13:10.364393700Z",
     "start_time": "2024-04-05T20:13:10.338337500Z"
    }
   },
   "id": "ae041b3f6f00c964",
   "execution_count": 25
  },
  {
   "cell_type": "code",
   "outputs": [
    {
     "data": {
      "text/plain": "2"
     },
     "execution_count": 23,
     "metadata": {},
     "output_type": "execute_result"
    }
   ],
   "source": [
    "array_list[0]"
   ],
   "metadata": {
    "collapsed": false,
    "ExecuteTime": {
     "end_time": "2024-04-05T20:13:01.291206100Z",
     "start_time": "2024-04-05T20:13:01.237529100Z"
    }
   },
   "id": "33e83952f5cecb64",
   "execution_count": 23
  },
  {
   "cell_type": "code",
   "outputs": [
    {
     "data": {
      "text/plain": "8"
     },
     "execution_count": 24,
     "metadata": {},
     "output_type": "execute_result"
    }
   ],
   "source": [
    "array_list[-1]"
   ],
   "metadata": {
    "collapsed": false,
    "ExecuteTime": {
     "end_time": "2024-04-05T20:13:06.269616500Z",
     "start_time": "2024-04-05T20:13:06.230336600Z"
    }
   },
   "id": "dd2c1ac5acc6c027",
   "execution_count": 24
  },
  {
   "cell_type": "code",
   "outputs": [
    {
     "data": {
      "text/plain": "array([100,   4,   6,   8])"
     },
     "execution_count": 26,
     "metadata": {},
     "output_type": "execute_result"
    }
   ],
   "source": [
    "array_list[0] = 100\n",
    "array_list"
   ],
   "metadata": {
    "collapsed": false,
    "ExecuteTime": {
     "end_time": "2024-04-05T20:16:17.157481100Z",
     "start_time": "2024-04-05T20:16:17.112615400Z"
    }
   },
   "id": "8f3b2f6a963c5407",
   "execution_count": 26
  },
  {
   "cell_type": "code",
   "outputs": [
    {
     "data": {
      "text/plain": "array([100,  99,  99,   8])"
     },
     "execution_count": 30,
     "metadata": {},
     "output_type": "execute_result"
    }
   ],
   "source": [
    "array_list[1:3] = 99    # in numpy can assign a value to a slice\n",
    "array_list  # in numpy changes the original array, not a copy"
   ],
   "metadata": {
    "collapsed": false,
    "ExecuteTime": {
     "end_time": "2024-04-05T20:16:39.534415700Z",
     "start_time": "2024-04-05T20:16:39.524774100Z"
    }
   },
   "id": "437683a61ddb00f5",
   "execution_count": 30
  },
  {
   "cell_type": "code",
   "outputs": [
    {
     "ename": "TypeError",
     "evalue": "can only assign an iterable",
     "output_type": "error",
     "traceback": [
      "\u001B[1;31m---------------------------------------------------------------------------\u001B[0m",
      "\u001B[1;31mTypeError\u001B[0m                                 Traceback (most recent call last)",
      "Cell \u001B[1;32mIn[31], line 1\u001B[0m\n\u001B[1;32m----> 1\u001B[0m \u001B[43ml\u001B[49m\u001B[43m[\u001B[49m\u001B[38;5;241;43m1\u001B[39;49m\u001B[43m:\u001B[49m\u001B[38;5;241;43m3\u001B[39;49m\u001B[43m]\u001B[49m \u001B[38;5;241m=\u001B[39m \u001B[38;5;241m99\u001B[39m    \u001B[38;5;66;03m# in list not possible\u001B[39;00m\n",
      "\u001B[1;31mTypeError\u001B[0m: can only assign an iterable"
     ]
    }
   ],
   "source": [
    "l[1:3] = 99    # in list not possible"
   ],
   "metadata": {
    "collapsed": false,
    "ExecuteTime": {
     "end_time": "2024-04-05T20:17:38.802213600Z",
     "start_time": "2024-04-05T20:17:38.763899400Z"
    }
   },
   "id": "ea613fc4c52e773e",
   "execution_count": 31
  },
  {
   "cell_type": "markdown",
   "source": [],
   "metadata": {
    "collapsed": false
   },
   "id": "2e40ad4e37dd76f7"
  },
  {
   "cell_type": "markdown",
   "source": [],
   "metadata": {
    "collapsed": false
   },
   "id": "2e63fca35f3f0292"
  },
  {
   "cell_type": "markdown",
   "source": [
    "# Numpy array (Shape and multiple dimensions)"
   ],
   "metadata": {
    "collapsed": false
   },
   "id": "c9f03112d1eee540"
  },
  {
   "cell_type": "code",
   "outputs": [
    {
     "data": {
      "text/plain": "(4,)"
     },
     "execution_count": 38,
     "metadata": {},
     "output_type": "execute_result"
    }
   ],
   "source": [
    "array_list.shape   #  we have only one dimension (4 rows)"
   ],
   "metadata": {
    "collapsed": false,
    "ExecuteTime": {
     "end_time": "2024-04-05T20:29:57.705214300Z",
     "start_time": "2024-04-05T20:29:57.689717900Z"
    }
   },
   "id": "2fb6194495c8edb8",
   "execution_count": 38
  },
  {
   "cell_type": "code",
   "outputs": [
    {
     "data": {
      "text/plain": "array([100,  99,  99,   8])"
     },
     "execution_count": 39,
     "metadata": {},
     "output_type": "execute_result"
    }
   ],
   "source": [
    "array_list"
   ],
   "metadata": {
    "collapsed": false,
    "ExecuteTime": {
     "end_time": "2024-04-05T20:30:04.753098700Z",
     "start_time": "2024-04-05T20:30:04.724072100Z"
    }
   },
   "id": "b145a51dd07454f3",
   "execution_count": 39
  },
  {
   "cell_type": "code",
   "outputs": [
    {
     "data": {
      "text/plain": "array([[100,  99],\n       [ 99,   8]])"
     },
     "execution_count": 40,
     "metadata": {},
     "output_type": "execute_result"
    }
   ],
   "source": [
    "array_list = array_list.reshape(2, 2)   # reshape to 2 rows and 2 columns\n",
    "array_list"
   ],
   "metadata": {
    "collapsed": false,
    "ExecuteTime": {
     "end_time": "2024-04-05T20:30:12.093087800Z",
     "start_time": "2024-04-05T20:30:12.040776800Z"
    }
   },
   "id": "3a6ba39d71f39322",
   "execution_count": 40
  },
  {
   "cell_type": "code",
   "outputs": [
    {
     "data": {
      "text/plain": "(2, 2)"
     },
     "execution_count": 41,
     "metadata": {},
     "output_type": "execute_result"
    }
   ],
   "source": [
    "array_list.shape    # We have 2 dimensions (2 rows and 2 columns)"
   ],
   "metadata": {
    "collapsed": false,
    "ExecuteTime": {
     "end_time": "2024-04-05T20:30:15.399674700Z",
     "start_time": "2024-04-05T20:30:15.345907900Z"
    }
   },
   "id": "c565b780711525a7",
   "execution_count": 41
  },
  {
   "cell_type": "code",
   "outputs": [
    {
     "data": {
      "text/plain": "array([[  1,   2,   3,   4],\n       [  5,   6,   7,   8],\n       [  9,  10,  11,  12],\n       [ 13,  14,  15,  16],\n       [ 17,  18,  19,  20],\n       [ 21,  22,  23,  24],\n       [ 25,  26,  27,  28],\n       [ 29,  30,  31,  32],\n       [ 33,  34,  35,  36],\n       [ 37,  38,  39,  40],\n       [ 41,  42,  43,  44],\n       [ 45,  46,  47,  48],\n       [ 49,  50,  51,  52],\n       [ 53,  54,  55,  56],\n       [ 57,  58,  59,  60],\n       [ 61,  62,  63,  64],\n       [ 65,  66,  67,  68],\n       [ 69,  70,  71,  72],\n       [ 73,  74,  75,  76],\n       [ 77,  78,  79,  80],\n       [ 81,  82,  83,  84],\n       [ 85,  86,  87,  88],\n       [ 89,  90,  91,  92],\n       [ 93,  94,  95,  96],\n       [ 97,  98,  99, 100]])"
     },
     "execution_count": 47,
     "metadata": {},
     "output_type": "execute_result"
    }
   ],
   "source": [
    "b = np.arange(1, 101).reshape(25, 4)  # reshape to 25 rows and 4 columns\n",
    "b"
   ],
   "metadata": {
    "collapsed": false,
    "ExecuteTime": {
     "end_time": "2024-04-05T20:46:31.565320Z",
     "start_time": "2024-04-05T20:46:31.504684300Z"
    }
   },
   "id": "131a8a803114bb0b",
   "execution_count": 47
  },
  {
   "cell_type": "code",
   "outputs": [],
   "source": [],
   "metadata": {
    "collapsed": false
   },
   "id": "1f35515da488fe6a"
  }
 ],
 "metadata": {
  "kernelspec": {
   "display_name": "Python 3",
   "language": "python",
   "name": "python3"
  },
  "language_info": {
   "codemirror_mode": {
    "name": "ipython",
    "version": 2
   },
   "file_extension": ".py",
   "mimetype": "text/x-python",
   "name": "python",
   "nbconvert_exporter": "python",
   "pygments_lexer": "ipython2",
   "version": "2.7.6"
  }
 },
 "nbformat": 4,
 "nbformat_minor": 5
}
