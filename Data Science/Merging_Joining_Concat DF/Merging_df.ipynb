{
 "cells": [
  {
   "cell_type": "code",
   "execution_count": 2,
   "id": "initial_id",
   "metadata": {
    "collapsed": true,
    "ExecuteTime": {
     "end_time": "2024-03-18T20:49:50.962781100Z",
     "start_time": "2024-03-18T20:49:50.948265100Z"
    }
   },
   "outputs": [],
   "source": [
    "import pandas as pd"
   ]
  },
  {
   "cell_type": "code",
   "outputs": [],
   "source": [
    "men2004 = pd.read_csv('men2004.csv')"
   ],
   "metadata": {
    "collapsed": false,
    "ExecuteTime": {
     "end_time": "2024-03-18T20:51:19.287377900Z",
     "start_time": "2024-03-18T20:51:19.264633400Z"
    }
   },
   "id": "164b1e8538f6f76d",
   "execution_count": 8
  },
  {
   "cell_type": "code",
   "outputs": [],
   "source": [
    "men2008 = pd.read_csv('men2008.csv')"
   ],
   "metadata": {
    "collapsed": false,
    "ExecuteTime": {
     "end_time": "2024-03-18T20:51:20.957646300Z",
     "start_time": "2024-03-18T20:51:20.944919600Z"
    }
   },
   "id": "c013989fdc74e61d",
   "execution_count": 9
  },
  {
   "cell_type": "code",
   "outputs": [
    {
     "data": {
      "text/plain": "121"
     },
     "execution_count": 5,
     "metadata": {},
     "output_type": "execute_result"
    }
   ],
   "source": [
    "len(men2004) + len(men2008)"
   ],
   "metadata": {
    "collapsed": false,
    "ExecuteTime": {
     "end_time": "2024-03-18T20:50:25.223713700Z",
     "start_time": "2024-03-18T20:50:25.213916300Z"
    }
   },
   "id": "3efa7bb6f19b82f1",
   "execution_count": 5
  },
  {
   "cell_type": "markdown",
   "source": [
    "# Merge method in pandas\n",
    "## For merging two dataframes, we need to data existing in both dataframes.\n",
    "## For example, we can merge the two dataframes on the basis of the athlete name.(Athlete wins in 2004 and 2008)\n",
    "Parameter: \n",
    "### on = The column name on which we want to merge the dataframes. (means the column name which is common in both dataframes)\n",
    "### how = The type of merge we want to perform. (inner, outer, left, right)\n",
    "- inner: It will merge the dataframes on the basis of the common data in both dataframes.\n",
    "- outer: It will merge the dataframes on the basis of all the data in both dataframes.\n",
    "- left: It will merge the dataframes on the basis of the data in the left dataframe.\n",
    "- right: It will merge the dataframes on the basis of the data in the right dataframe.\n",
    "### suffixes = The suffixes we want to add to the column names of the dataframes. (If the column names are same in both dataframes)\n",
    "### indicator = It will add a column to the merged dataframe to indicate the source of the data. (from which dataframe the data is coming)\n"
   ],
   "metadata": {
    "collapsed": false
   },
   "id": "d8f41d3ac9784a43"
  },
  {
   "cell_type": "code",
   "outputs": [],
   "source": [
    "men0408 = men2004.merge(men2008, on='Athlete', how='outer', suffixes=('_2004', '_2008'), indicator=True)"
   ],
   "metadata": {
    "collapsed": false,
    "ExecuteTime": {
     "end_time": "2024-03-18T21:04:13.460840500Z",
     "start_time": "2024-03-18T21:04:13.453961800Z"
    }
   },
   "id": "d1e6cdd3a29f8d9a",
   "execution_count": 16
  },
  {
   "cell_type": "code",
   "outputs": [
    {
     "data": {
      "text/plain": "                 Athlete  Medals_2004  Medals_2008      _merge\n0         ADRIAN, Nathan          NaN          1.0  right_only\n1          BERENS, Ricky          NaN          1.0  right_only\n2         BERNARD, Alain          NaN          3.0  right_only\n3    BOUSQUET, Frederick          NaN          1.0  right_only\n4         BOVELL, George          1.0          NaN   left_only\n..                   ...          ...          ...         ...\n100       WOODWARD, Gabe          1.0          NaN   left_only\n101    YAMAMOTO, Takashi          2.0          NaN   left_only\n102       ZASTROW, Mitja          1.0          NaN   left_only\n103           ZHANG, Lin          NaN          1.0  right_only\n104  ZWERING, Klaas-Erik          1.0          NaN   left_only\n\n[105 rows x 4 columns]",
      "text/html": "<div>\n<style scoped>\n    .dataframe tbody tr th:only-of-type {\n        vertical-align: middle;\n    }\n\n    .dataframe tbody tr th {\n        vertical-align: top;\n    }\n\n    .dataframe thead th {\n        text-align: right;\n    }\n</style>\n<table border=\"1\" class=\"dataframe\">\n  <thead>\n    <tr style=\"text-align: right;\">\n      <th></th>\n      <th>Athlete</th>\n      <th>Medals_2004</th>\n      <th>Medals_2008</th>\n      <th>_merge</th>\n    </tr>\n  </thead>\n  <tbody>\n    <tr>\n      <th>0</th>\n      <td>ADRIAN, Nathan</td>\n      <td>NaN</td>\n      <td>1.0</td>\n      <td>right_only</td>\n    </tr>\n    <tr>\n      <th>1</th>\n      <td>BERENS, Ricky</td>\n      <td>NaN</td>\n      <td>1.0</td>\n      <td>right_only</td>\n    </tr>\n    <tr>\n      <th>2</th>\n      <td>BERNARD, Alain</td>\n      <td>NaN</td>\n      <td>3.0</td>\n      <td>right_only</td>\n    </tr>\n    <tr>\n      <th>3</th>\n      <td>BOUSQUET, Frederick</td>\n      <td>NaN</td>\n      <td>1.0</td>\n      <td>right_only</td>\n    </tr>\n    <tr>\n      <th>4</th>\n      <td>BOVELL, George</td>\n      <td>1.0</td>\n      <td>NaN</td>\n      <td>left_only</td>\n    </tr>\n    <tr>\n      <th>...</th>\n      <td>...</td>\n      <td>...</td>\n      <td>...</td>\n      <td>...</td>\n    </tr>\n    <tr>\n      <th>100</th>\n      <td>WOODWARD, Gabe</td>\n      <td>1.0</td>\n      <td>NaN</td>\n      <td>left_only</td>\n    </tr>\n    <tr>\n      <th>101</th>\n      <td>YAMAMOTO, Takashi</td>\n      <td>2.0</td>\n      <td>NaN</td>\n      <td>left_only</td>\n    </tr>\n    <tr>\n      <th>102</th>\n      <td>ZASTROW, Mitja</td>\n      <td>1.0</td>\n      <td>NaN</td>\n      <td>left_only</td>\n    </tr>\n    <tr>\n      <th>103</th>\n      <td>ZHANG, Lin</td>\n      <td>NaN</td>\n      <td>1.0</td>\n      <td>right_only</td>\n    </tr>\n    <tr>\n      <th>104</th>\n      <td>ZWERING, Klaas-Erik</td>\n      <td>1.0</td>\n      <td>NaN</td>\n      <td>left_only</td>\n    </tr>\n  </tbody>\n</table>\n<p>105 rows × 4 columns</p>\n</div>"
     },
     "execution_count": 17,
     "metadata": {},
     "output_type": "execute_result"
    }
   ],
   "source": [
    "men0408"
   ],
   "metadata": {
    "collapsed": false,
    "ExecuteTime": {
     "end_time": "2024-03-18T21:04:15.858349500Z",
     "start_time": "2024-03-18T21:04:15.832344900Z"
    }
   },
   "id": "5ce30e73e263622e",
   "execution_count": 17
  },
  {
   "cell_type": "markdown",
   "source": [
    "#### The indicator column is showing the source of the data.\n",
    "#### 46 rows are coming from right dataframe\n",
    "#### 43 rows are coming from left dataframe\n",
    "#### 16 rows are coming from both dataframes"
   ],
   "metadata": {
    "collapsed": false
   },
   "id": "616e1e3df99d6387"
  },
  {
   "cell_type": "code",
   "outputs": [
    {
     "data": {
      "text/plain": "_merge\nright_only    46\nleft_only     43\nboth          16\nName: count, dtype: int64"
     },
     "execution_count": 19,
     "metadata": {},
     "output_type": "execute_result"
    }
   ],
   "source": [
    "men0408._merge.value_counts()"
   ],
   "metadata": {
    "collapsed": false,
    "ExecuteTime": {
     "end_time": "2024-03-18T21:04:36.016866200Z",
     "start_time": "2024-03-18T21:04:36.005607400Z"
    }
   },
   "id": "b7937a47086e216c",
   "execution_count": 19
  },
  {
   "cell_type": "code",
   "outputs": [],
   "source": [],
   "metadata": {
    "collapsed": false
   },
   "id": "6cc1bbc9054ab54d"
  }
 ],
 "metadata": {
  "kernelspec": {
   "display_name": "Python 3",
   "language": "python",
   "name": "python3"
  },
  "language_info": {
   "codemirror_mode": {
    "name": "ipython",
    "version": 2
   },
   "file_extension": ".py",
   "mimetype": "text/x-python",
   "name": "python",
   "nbconvert_exporter": "python",
   "pygments_lexer": "ipython2",
   "version": "2.7.6"
  }
 },
 "nbformat": 4,
 "nbformat_minor": 5
}
