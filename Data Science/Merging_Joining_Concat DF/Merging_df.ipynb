{
 "cells": [
  {
   "cell_type": "code",
   "execution_count": 1,
   "id": "initial_id",
   "metadata": {
    "collapsed": true,
    "ExecuteTime": {
     "end_time": "2024-03-20T09:52:53.787590400Z",
     "start_time": "2024-03-20T09:52:52.008145Z"
    }
   },
   "outputs": [],
   "source": [
    "import pandas as pd"
   ]
  },
  {
   "cell_type": "code",
   "outputs": [],
   "source": [
    "men2004 = pd.read_csv('men2004.csv')"
   ],
   "metadata": {
    "collapsed": false,
    "ExecuteTime": {
     "end_time": "2024-03-20T09:52:55.449835100Z",
     "start_time": "2024-03-20T09:52:55.424359700Z"
    }
   },
   "id": "164b1e8538f6f76d",
   "execution_count": 2
  },
  {
   "cell_type": "code",
   "outputs": [],
   "source": [
    "men2008 = pd.read_csv('men2008.csv')"
   ],
   "metadata": {
    "collapsed": false,
    "ExecuteTime": {
     "end_time": "2024-03-20T09:52:56.776876100Z",
     "start_time": "2024-03-20T09:52:56.756850400Z"
    }
   },
   "id": "c013989fdc74e61d",
   "execution_count": 3
  },
  {
   "cell_type": "code",
   "outputs": [
    {
     "data": {
      "text/plain": "121"
     },
     "execution_count": 4,
     "metadata": {},
     "output_type": "execute_result"
    }
   ],
   "source": [
    "len(men2004) + len(men2008)"
   ],
   "metadata": {
    "collapsed": false,
    "ExecuteTime": {
     "end_time": "2024-03-20T09:52:58.384889900Z",
     "start_time": "2024-03-20T09:52:58.358886100Z"
    }
   },
   "id": "3efa7bb6f19b82f1",
   "execution_count": 4
  },
  {
   "cell_type": "markdown",
   "source": [
    "# Merge method in pandas\n",
    "## For merging two dataframes, we need to data existing in both dataframes.\n",
    "## For example, we can merge the two dataframes on the basis of the athlete name.(Athlete wins in 2004 and 2008)\n",
    "Parameter: \n",
    "### on = The column name on which we want to merge the dataframes. (means the column name which is common in both dataframes)\n",
    "### how = The type of merge we want to perform. (inner, outer, left, right)\n",
    "- inner: It will merge the dataframes on the basis of the common data in both dataframes.\n",
    "- outer: It will merge the dataframes on the basis of all the data in both dataframes.\n",
    "- left: It will merge the dataframes on the basis of the data in the left dataframe.\n",
    "- right: It will merge the dataframes on the basis of the data in the right dataframe.\n",
    "### suffixes = The suffixes we want to add to the column names of the dataframes. (If the column names are same in both dataframes)\n",
    "### indicator = It will add a column to the merged dataframe to indicate the source of the data. (from which dataframe the data is coming)\n"
   ],
   "metadata": {
    "collapsed": false
   },
   "id": "d8f41d3ac9784a43"
  },
  {
   "cell_type": "markdown",
   "source": [],
   "metadata": {
    "collapsed": false
   },
   "id": "2536404b1647e846"
  },
  {
   "cell_type": "markdown",
   "source": [
    "# - Outer Join\n",
    "## It will merge the dataframes on the basis of all the data in both dataframes.\n",
    "## Include all the data from"
   ],
   "metadata": {
    "collapsed": false
   },
   "id": "fb4f9b7619f32afc"
  },
  {
   "cell_type": "code",
   "outputs": [],
   "source": [
    "men0408 = men2004.merge(men2008, on='Athlete', how='outer', suffixes=('_2004', '_2008'), indicator=True)"
   ],
   "metadata": {
    "collapsed": false,
    "ExecuteTime": {
     "end_time": "2024-03-20T09:53:02.816132300Z",
     "start_time": "2024-03-20T09:53:02.786743600Z"
    }
   },
   "id": "d1e6cdd3a29f8d9a",
   "execution_count": 5
  },
  {
   "cell_type": "code",
   "outputs": [
    {
     "data": {
      "text/plain": "                 Athlete  Medals_2004  Medals_2008      _merge\n0         ADRIAN, Nathan          NaN          1.0  right_only\n1          BERENS, Ricky          NaN          1.0  right_only\n2         BERNARD, Alain          NaN          3.0  right_only\n3    BOUSQUET, Frederick          NaN          1.0  right_only\n4         BOVELL, George          1.0          NaN   left_only\n..                   ...          ...          ...         ...\n100       WOODWARD, Gabe          1.0          NaN   left_only\n101    YAMAMOTO, Takashi          2.0          NaN   left_only\n102       ZASTROW, Mitja          1.0          NaN   left_only\n103           ZHANG, Lin          NaN          1.0  right_only\n104  ZWERING, Klaas-Erik          1.0          NaN   left_only\n\n[105 rows x 4 columns]",
      "text/html": "<div>\n<style scoped>\n    .dataframe tbody tr th:only-of-type {\n        vertical-align: middle;\n    }\n\n    .dataframe tbody tr th {\n        vertical-align: top;\n    }\n\n    .dataframe thead th {\n        text-align: right;\n    }\n</style>\n<table border=\"1\" class=\"dataframe\">\n  <thead>\n    <tr style=\"text-align: right;\">\n      <th></th>\n      <th>Athlete</th>\n      <th>Medals_2004</th>\n      <th>Medals_2008</th>\n      <th>_merge</th>\n    </tr>\n  </thead>\n  <tbody>\n    <tr>\n      <th>0</th>\n      <td>ADRIAN, Nathan</td>\n      <td>NaN</td>\n      <td>1.0</td>\n      <td>right_only</td>\n    </tr>\n    <tr>\n      <th>1</th>\n      <td>BERENS, Ricky</td>\n      <td>NaN</td>\n      <td>1.0</td>\n      <td>right_only</td>\n    </tr>\n    <tr>\n      <th>2</th>\n      <td>BERNARD, Alain</td>\n      <td>NaN</td>\n      <td>3.0</td>\n      <td>right_only</td>\n    </tr>\n    <tr>\n      <th>3</th>\n      <td>BOUSQUET, Frederick</td>\n      <td>NaN</td>\n      <td>1.0</td>\n      <td>right_only</td>\n    </tr>\n    <tr>\n      <th>4</th>\n      <td>BOVELL, George</td>\n      <td>1.0</td>\n      <td>NaN</td>\n      <td>left_only</td>\n    </tr>\n    <tr>\n      <th>...</th>\n      <td>...</td>\n      <td>...</td>\n      <td>...</td>\n      <td>...</td>\n    </tr>\n    <tr>\n      <th>100</th>\n      <td>WOODWARD, Gabe</td>\n      <td>1.0</td>\n      <td>NaN</td>\n      <td>left_only</td>\n    </tr>\n    <tr>\n      <th>101</th>\n      <td>YAMAMOTO, Takashi</td>\n      <td>2.0</td>\n      <td>NaN</td>\n      <td>left_only</td>\n    </tr>\n    <tr>\n      <th>102</th>\n      <td>ZASTROW, Mitja</td>\n      <td>1.0</td>\n      <td>NaN</td>\n      <td>left_only</td>\n    </tr>\n    <tr>\n      <th>103</th>\n      <td>ZHANG, Lin</td>\n      <td>NaN</td>\n      <td>1.0</td>\n      <td>right_only</td>\n    </tr>\n    <tr>\n      <th>104</th>\n      <td>ZWERING, Klaas-Erik</td>\n      <td>1.0</td>\n      <td>NaN</td>\n      <td>left_only</td>\n    </tr>\n  </tbody>\n</table>\n<p>105 rows × 4 columns</p>\n</div>"
     },
     "execution_count": 6,
     "metadata": {},
     "output_type": "execute_result"
    }
   ],
   "source": [
    "men0408"
   ],
   "metadata": {
    "collapsed": false,
    "ExecuteTime": {
     "end_time": "2024-03-20T09:53:04.046077700Z",
     "start_time": "2024-03-20T09:53:04.012208300Z"
    }
   },
   "id": "5ce30e73e263622e",
   "execution_count": 6
  },
  {
   "cell_type": "markdown",
   "source": [
    "#### The indicator column is showing the source of the data.\n",
    "#### 46 rows are coming from right dataframe\n",
    "#### 43 rows are coming from left dataframe\n",
    "#### 16 rows are coming from both dataframes"
   ],
   "metadata": {
    "collapsed": false
   },
   "id": "616e1e3df99d6387"
  },
  {
   "cell_type": "code",
   "outputs": [
    {
     "data": {
      "text/plain": "_merge\nright_only    46\nleft_only     43\nboth          16\nName: count, dtype: int64"
     },
     "execution_count": 7,
     "metadata": {},
     "output_type": "execute_result"
    }
   ],
   "source": [
    "men0408._merge.value_counts()"
   ],
   "metadata": {
    "collapsed": false,
    "ExecuteTime": {
     "end_time": "2024-03-20T09:53:07.179831200Z",
     "start_time": "2024-03-20T09:53:07.162190300Z"
    }
   },
   "id": "b7937a47086e216c",
   "execution_count": 7
  },
  {
   "cell_type": "markdown",
   "source": [],
   "metadata": {
    "collapsed": false
   },
   "id": "5f5b72f35218ef47"
  },
  {
   "cell_type": "markdown",
   "source": [
    "# - Outer Join without intersection\n",
    "## It will merge the dataframes on All Athletes , who were succesful in only one Edition !!! NOT IN BOTH !!!\n",
    "## Exclude the intersection of the dataframes."
   ],
   "metadata": {
    "collapsed": false
   },
   "id": "ae9f469e6f8149e0"
  },
  {
   "cell_type": "code",
   "outputs": [],
   "source": [
    "men0408 = men2004.merge(men2008, on='Athlete', how='outer', suffixes=('_2004', '_2008'), indicator=True)"
   ],
   "metadata": {
    "collapsed": false,
    "ExecuteTime": {
     "end_time": "2024-03-20T10:41:37.013911700Z",
     "start_time": "2024-03-20T10:41:36.991490700Z"
    }
   },
   "id": "97a05028405f602e",
   "execution_count": 25
  },
  {
   "cell_type": "markdown",
   "source": [
    "- Filter the data for obtaining the athletes who were successful in only one edition(Outer Join without intersection). Exclude 'both' -> intersection"
   ],
   "metadata": {
    "collapsed": false
   },
   "id": "fabd1e1f0947f07c"
  },
  {
   "cell_type": "code",
   "outputs": [
    {
     "data": {
      "text/plain": "                 Athlete  Medals_2004  Medals_2008      _merge\n0         ADRIAN, Nathan          NaN          1.0  right_only\n1          BERENS, Ricky          NaN          1.0  right_only\n2         BERNARD, Alain          NaN          3.0  right_only\n3    BOUSQUET, Frederick          NaN          1.0  right_only\n4         BOVELL, George          1.0          NaN   left_only\n..                   ...          ...          ...         ...\n100       WOODWARD, Gabe          1.0          NaN   left_only\n101    YAMAMOTO, Takashi          2.0          NaN   left_only\n102       ZASTROW, Mitja          1.0          NaN   left_only\n103           ZHANG, Lin          NaN          1.0  right_only\n104  ZWERING, Klaas-Erik          1.0          NaN   left_only\n\n[89 rows x 4 columns]",
      "text/html": "<div>\n<style scoped>\n    .dataframe tbody tr th:only-of-type {\n        vertical-align: middle;\n    }\n\n    .dataframe tbody tr th {\n        vertical-align: top;\n    }\n\n    .dataframe thead th {\n        text-align: right;\n    }\n</style>\n<table border=\"1\" class=\"dataframe\">\n  <thead>\n    <tr style=\"text-align: right;\">\n      <th></th>\n      <th>Athlete</th>\n      <th>Medals_2004</th>\n      <th>Medals_2008</th>\n      <th>_merge</th>\n    </tr>\n  </thead>\n  <tbody>\n    <tr>\n      <th>0</th>\n      <td>ADRIAN, Nathan</td>\n      <td>NaN</td>\n      <td>1.0</td>\n      <td>right_only</td>\n    </tr>\n    <tr>\n      <th>1</th>\n      <td>BERENS, Ricky</td>\n      <td>NaN</td>\n      <td>1.0</td>\n      <td>right_only</td>\n    </tr>\n    <tr>\n      <th>2</th>\n      <td>BERNARD, Alain</td>\n      <td>NaN</td>\n      <td>3.0</td>\n      <td>right_only</td>\n    </tr>\n    <tr>\n      <th>3</th>\n      <td>BOUSQUET, Frederick</td>\n      <td>NaN</td>\n      <td>1.0</td>\n      <td>right_only</td>\n    </tr>\n    <tr>\n      <th>4</th>\n      <td>BOVELL, George</td>\n      <td>1.0</td>\n      <td>NaN</td>\n      <td>left_only</td>\n    </tr>\n    <tr>\n      <th>...</th>\n      <td>...</td>\n      <td>...</td>\n      <td>...</td>\n      <td>...</td>\n    </tr>\n    <tr>\n      <th>100</th>\n      <td>WOODWARD, Gabe</td>\n      <td>1.0</td>\n      <td>NaN</td>\n      <td>left_only</td>\n    </tr>\n    <tr>\n      <th>101</th>\n      <td>YAMAMOTO, Takashi</td>\n      <td>2.0</td>\n      <td>NaN</td>\n      <td>left_only</td>\n    </tr>\n    <tr>\n      <th>102</th>\n      <td>ZASTROW, Mitja</td>\n      <td>1.0</td>\n      <td>NaN</td>\n      <td>left_only</td>\n    </tr>\n    <tr>\n      <th>103</th>\n      <td>ZHANG, Lin</td>\n      <td>NaN</td>\n      <td>1.0</td>\n      <td>right_only</td>\n    </tr>\n    <tr>\n      <th>104</th>\n      <td>ZWERING, Klaas-Erik</td>\n      <td>1.0</td>\n      <td>NaN</td>\n      <td>left_only</td>\n    </tr>\n  </tbody>\n</table>\n<p>89 rows × 4 columns</p>\n</div>"
     },
     "execution_count": 15,
     "metadata": {},
     "output_type": "execute_result"
    }
   ],
   "source": [
    "men0408.loc[men0408._merge != 'both']"
   ],
   "metadata": {
    "collapsed": false,
    "ExecuteTime": {
     "end_time": "2024-03-20T10:21:55.790835Z",
     "start_time": "2024-03-20T10:21:55.759266300Z"
    }
   },
   "id": "378024ace91e1c07",
   "execution_count": 15
  },
  {
   "cell_type": "markdown",
   "source": [],
   "metadata": {
    "collapsed": false
   },
   "id": "682518c99d89b2b0"
  },
  {
   "cell_type": "markdown",
   "source": [],
   "metadata": {
    "collapsed": false
   },
   "id": "29891ee7e3045aa4"
  },
  {
   "cell_type": "markdown",
   "source": [],
   "metadata": {
    "collapsed": false
   },
   "id": "af126fe03bc02ffd"
  },
  {
   "cell_type": "markdown",
   "source": [
    "# - Inner Join\n",
    "## It will merge the dataframes on the basis of the common data in both dataframes.\n",
    "## Include the intersection of the dataframes."
   ],
   "metadata": {
    "collapsed": false
   },
   "id": "f4fd566208c72a5e"
  },
  {
   "cell_type": "code",
   "outputs": [
    {
     "data": {
      "text/plain": "              Athlete  Medals_2004  Medals_2008 _merge\n0     PHELPS, Michael            8            8   both\n1      PEIRSOL, Aaron            3            3   both\n2        CROCKER, Ian            3            1   both\n3    KITAJIMA, Kosuke            3            3   both\n4     HANSEN, Brendan            3            1   both\n5      HACKETT, Grant            3            2   both\n6        LEZAK, Jason            2            3   both\n7       KELLER, Klete            2            1   both\n8        LOCHTE, Ryan            2            4   both\n9         VENDT, Erik            1            1   both\n10  VANDERKAAY, Peter            1            2   both\n11       CSEH, Laszlo            1            3   both\n12      DAVIES, David            1            1   both\n13    DUBOSCQ, Hugues            1            2   both\n14     GANGLOFF, Mark            1            1   both\n15     JENSEN, Larsen            1            1   both",
      "text/html": "<div>\n<style scoped>\n    .dataframe tbody tr th:only-of-type {\n        vertical-align: middle;\n    }\n\n    .dataframe tbody tr th {\n        vertical-align: top;\n    }\n\n    .dataframe thead th {\n        text-align: right;\n    }\n</style>\n<table border=\"1\" class=\"dataframe\">\n  <thead>\n    <tr style=\"text-align: right;\">\n      <th></th>\n      <th>Athlete</th>\n      <th>Medals_2004</th>\n      <th>Medals_2008</th>\n      <th>_merge</th>\n    </tr>\n  </thead>\n  <tbody>\n    <tr>\n      <th>0</th>\n      <td>PHELPS, Michael</td>\n      <td>8</td>\n      <td>8</td>\n      <td>both</td>\n    </tr>\n    <tr>\n      <th>1</th>\n      <td>PEIRSOL, Aaron</td>\n      <td>3</td>\n      <td>3</td>\n      <td>both</td>\n    </tr>\n    <tr>\n      <th>2</th>\n      <td>CROCKER, Ian</td>\n      <td>3</td>\n      <td>1</td>\n      <td>both</td>\n    </tr>\n    <tr>\n      <th>3</th>\n      <td>KITAJIMA, Kosuke</td>\n      <td>3</td>\n      <td>3</td>\n      <td>both</td>\n    </tr>\n    <tr>\n      <th>4</th>\n      <td>HANSEN, Brendan</td>\n      <td>3</td>\n      <td>1</td>\n      <td>both</td>\n    </tr>\n    <tr>\n      <th>5</th>\n      <td>HACKETT, Grant</td>\n      <td>3</td>\n      <td>2</td>\n      <td>both</td>\n    </tr>\n    <tr>\n      <th>6</th>\n      <td>LEZAK, Jason</td>\n      <td>2</td>\n      <td>3</td>\n      <td>both</td>\n    </tr>\n    <tr>\n      <th>7</th>\n      <td>KELLER, Klete</td>\n      <td>2</td>\n      <td>1</td>\n      <td>both</td>\n    </tr>\n    <tr>\n      <th>8</th>\n      <td>LOCHTE, Ryan</td>\n      <td>2</td>\n      <td>4</td>\n      <td>both</td>\n    </tr>\n    <tr>\n      <th>9</th>\n      <td>VENDT, Erik</td>\n      <td>1</td>\n      <td>1</td>\n      <td>both</td>\n    </tr>\n    <tr>\n      <th>10</th>\n      <td>VANDERKAAY, Peter</td>\n      <td>1</td>\n      <td>2</td>\n      <td>both</td>\n    </tr>\n    <tr>\n      <th>11</th>\n      <td>CSEH, Laszlo</td>\n      <td>1</td>\n      <td>3</td>\n      <td>both</td>\n    </tr>\n    <tr>\n      <th>12</th>\n      <td>DAVIES, David</td>\n      <td>1</td>\n      <td>1</td>\n      <td>both</td>\n    </tr>\n    <tr>\n      <th>13</th>\n      <td>DUBOSCQ, Hugues</td>\n      <td>1</td>\n      <td>2</td>\n      <td>both</td>\n    </tr>\n    <tr>\n      <th>14</th>\n      <td>GANGLOFF, Mark</td>\n      <td>1</td>\n      <td>1</td>\n      <td>both</td>\n    </tr>\n    <tr>\n      <th>15</th>\n      <td>JENSEN, Larsen</td>\n      <td>1</td>\n      <td>1</td>\n      <td>both</td>\n    </tr>\n  </tbody>\n</table>\n</div>"
     },
     "execution_count": 9,
     "metadata": {},
     "output_type": "execute_result"
    }
   ],
   "source": [
    "men2004.merge(men2008, on='Athlete', how='inner', suffixes=('_2004', '_2008'), indicator=True)"
   ],
   "metadata": {
    "collapsed": false,
    "ExecuteTime": {
     "end_time": "2024-03-20T09:55:58.521631Z",
     "start_time": "2024-03-20T09:55:58.472803Z"
    }
   },
   "id": "7b2d39db21d28d1e",
   "execution_count": 9
  },
  {
   "cell_type": "markdown",
   "source": [],
   "metadata": {
    "collapsed": false
   },
   "id": "3cd11373ff5bde32"
  },
  {
   "cell_type": "markdown",
   "source": [],
   "metadata": {
    "collapsed": false
   },
   "id": "8c4ecdd5608a0d55"
  },
  {
   "cell_type": "markdown",
   "source": [],
   "metadata": {
    "collapsed": false
   },
   "id": "9904cbc845776182"
  },
  {
   "cell_type": "markdown",
   "source": [
    "# - Left Join\n",
    "## It will merge the dataframes on the basis of the data in the left dataframe and intersection.\n",
    "## All Athlete, who were successful in Edition 2004(incl. 2008 Medals, Athlete who were successful in both Edition)"
   ],
   "metadata": {
    "collapsed": false
   },
   "id": "28547d14b78bfdac"
  },
  {
   "cell_type": "code",
   "outputs": [],
   "source": [
    "men_left = men2004.merge(men2008, on='Athlete', how='left', suffixes=('_2004', '_2008'), indicator=True)"
   ],
   "metadata": {
    "collapsed": false,
    "ExecuteTime": {
     "end_time": "2024-03-20T11:39:26.683869600Z",
     "start_time": "2024-03-20T11:39:26.668742500Z"
    }
   },
   "id": "cc5eb7ac5f1aa2d2",
   "execution_count": 29
  },
  {
   "cell_type": "code",
   "outputs": [
    {
     "data": {
      "text/plain": "                       Athlete  Medals_2004  Medals_2008     _merge\n0              PHELPS, Michael            8          8.0       both\n1                  THORPE, Ian            4          NaN  left_only\n2             SCHOEMAN, Roland            3          NaN  left_only\n3               PEIRSOL, Aaron            3          3.0       both\n4                 CROCKER, Ian            3          1.0       both\n5             KITAJIMA, Kosuke            3          3.0       both\n6              HANSEN, Brendan            3          1.0       both\n7   VAN DEN HOOGENBAND, Pieter            3          NaN  left_only\n8               HACKETT, Grant            3          2.0       both\n9               MORITA, Tomomi            2          NaN  left_only\n10                LEZAK, Jason            2          3.0       both\n11               ROGAN, Markus            2          NaN  left_only\n12               KELLER, Klete            2          1.0       both\n13              HALL, Gary Jr.            2          NaN  left_only\n14                LOCHTE, Ryan            2          4.0       both\n15                WALKER, Neil            2          NaN  left_only\n16           YAMAMOTO, Takashi            2          NaN  left_only\n17          SPRENGER, Nicholas            1          NaN  left_only\n18          OKUMURA, Yoshihiro            1          NaN  left_only\n19              PARRY, Stephen            1          NaN  left_only\n20               PEARSON, Todd            1          NaN  left_only\n21              ZASTROW, Mitja            1          NaN  left_only\n22          PELLICIARI, Matteo            1          NaN  left_only\n23              WOODWARD, Gabe            1          NaN  left_only\n24            SERDINOV, Andriy            1          NaN  left_only\n25                 VENDT, Erik            1          1.0       both\n26      ROSOLINO, Massimiliano            1          NaN  left_only\n27        VEENS, Mark Hermanus            1          NaN  left_only\n28            RUPPRATH, Thomas            1          NaN  left_only\n29           VANDERKAAY, Peter            1          2.0       both\n30            TOWNSEND, Darian            1          NaN  left_only\n31              STEVENS, Craig            1          NaN  left_only\n32              NEETHLING, Ryk            1          NaN  left_only\n33              BOVELL, George            1          NaN  left_only\n34                MEEUW, Helge            1          NaN  left_only\n35        FLOREA, Razvan Ionut            1          NaN  left_only\n36       CAPPELLAZZO, Federico            1          NaN  left_only\n37             CERCATO, Simone            1          NaN  left_only\n38                CONRAD, Lars            1          NaN  left_only\n39                CSEH, Laszlo            1          3.0       both\n40               DAVIES, David            1          1.0       both\n41              DRAGANJA, Duje            1          NaN  left_only\n42            DRIESEN, Steffen            1          NaN  left_only\n43             DUBOSCQ, Hugues            1          2.0       both\n44                DUSING, Nate            1          NaN  left_only\n45               FERNS, Lyndon            1          NaN  left_only\n46              GANGLOFF, Mark            1          1.0       both\n47           MATKOVICH, Antony            1          NaN  left_only\n48            GOLDBLATT, Scott            1          NaN  left_only\n49              GYURTA, Daniel            1          NaN  left_only\n50              JENSEN, Larsen            1          1.0       both\n51             KENKHUIS, Johan            1          NaN  left_only\n52                KETCHUM, Dan            1          NaN  left_only\n53               KLIM, Michael            1          NaN  left_only\n54          KRAYZELBURG, Lenny            1          NaN  left_only\n55                KRUPPA, Jens            1          NaN  left_only\n56         BREMBILLA, Emiliano            1          NaN  left_only\n57            MAGNINI, Filippo            1          NaN  left_only\n58         ZWERING, Klaas-Erik            1          NaN  left_only",
      "text/html": "<div>\n<style scoped>\n    .dataframe tbody tr th:only-of-type {\n        vertical-align: middle;\n    }\n\n    .dataframe tbody tr th {\n        vertical-align: top;\n    }\n\n    .dataframe thead th {\n        text-align: right;\n    }\n</style>\n<table border=\"1\" class=\"dataframe\">\n  <thead>\n    <tr style=\"text-align: right;\">\n      <th></th>\n      <th>Athlete</th>\n      <th>Medals_2004</th>\n      <th>Medals_2008</th>\n      <th>_merge</th>\n    </tr>\n  </thead>\n  <tbody>\n    <tr>\n      <th>0</th>\n      <td>PHELPS, Michael</td>\n      <td>8</td>\n      <td>8.0</td>\n      <td>both</td>\n    </tr>\n    <tr>\n      <th>1</th>\n      <td>THORPE, Ian</td>\n      <td>4</td>\n      <td>NaN</td>\n      <td>left_only</td>\n    </tr>\n    <tr>\n      <th>2</th>\n      <td>SCHOEMAN, Roland</td>\n      <td>3</td>\n      <td>NaN</td>\n      <td>left_only</td>\n    </tr>\n    <tr>\n      <th>3</th>\n      <td>PEIRSOL, Aaron</td>\n      <td>3</td>\n      <td>3.0</td>\n      <td>both</td>\n    </tr>\n    <tr>\n      <th>4</th>\n      <td>CROCKER, Ian</td>\n      <td>3</td>\n      <td>1.0</td>\n      <td>both</td>\n    </tr>\n    <tr>\n      <th>5</th>\n      <td>KITAJIMA, Kosuke</td>\n      <td>3</td>\n      <td>3.0</td>\n      <td>both</td>\n    </tr>\n    <tr>\n      <th>6</th>\n      <td>HANSEN, Brendan</td>\n      <td>3</td>\n      <td>1.0</td>\n      <td>both</td>\n    </tr>\n    <tr>\n      <th>7</th>\n      <td>VAN DEN HOOGENBAND, Pieter</td>\n      <td>3</td>\n      <td>NaN</td>\n      <td>left_only</td>\n    </tr>\n    <tr>\n      <th>8</th>\n      <td>HACKETT, Grant</td>\n      <td>3</td>\n      <td>2.0</td>\n      <td>both</td>\n    </tr>\n    <tr>\n      <th>9</th>\n      <td>MORITA, Tomomi</td>\n      <td>2</td>\n      <td>NaN</td>\n      <td>left_only</td>\n    </tr>\n    <tr>\n      <th>10</th>\n      <td>LEZAK, Jason</td>\n      <td>2</td>\n      <td>3.0</td>\n      <td>both</td>\n    </tr>\n    <tr>\n      <th>11</th>\n      <td>ROGAN, Markus</td>\n      <td>2</td>\n      <td>NaN</td>\n      <td>left_only</td>\n    </tr>\n    <tr>\n      <th>12</th>\n      <td>KELLER, Klete</td>\n      <td>2</td>\n      <td>1.0</td>\n      <td>both</td>\n    </tr>\n    <tr>\n      <th>13</th>\n      <td>HALL, Gary Jr.</td>\n      <td>2</td>\n      <td>NaN</td>\n      <td>left_only</td>\n    </tr>\n    <tr>\n      <th>14</th>\n      <td>LOCHTE, Ryan</td>\n      <td>2</td>\n      <td>4.0</td>\n      <td>both</td>\n    </tr>\n    <tr>\n      <th>15</th>\n      <td>WALKER, Neil</td>\n      <td>2</td>\n      <td>NaN</td>\n      <td>left_only</td>\n    </tr>\n    <tr>\n      <th>16</th>\n      <td>YAMAMOTO, Takashi</td>\n      <td>2</td>\n      <td>NaN</td>\n      <td>left_only</td>\n    </tr>\n    <tr>\n      <th>17</th>\n      <td>SPRENGER, Nicholas</td>\n      <td>1</td>\n      <td>NaN</td>\n      <td>left_only</td>\n    </tr>\n    <tr>\n      <th>18</th>\n      <td>OKUMURA, Yoshihiro</td>\n      <td>1</td>\n      <td>NaN</td>\n      <td>left_only</td>\n    </tr>\n    <tr>\n      <th>19</th>\n      <td>PARRY, Stephen</td>\n      <td>1</td>\n      <td>NaN</td>\n      <td>left_only</td>\n    </tr>\n    <tr>\n      <th>20</th>\n      <td>PEARSON, Todd</td>\n      <td>1</td>\n      <td>NaN</td>\n      <td>left_only</td>\n    </tr>\n    <tr>\n      <th>21</th>\n      <td>ZASTROW, Mitja</td>\n      <td>1</td>\n      <td>NaN</td>\n      <td>left_only</td>\n    </tr>\n    <tr>\n      <th>22</th>\n      <td>PELLICIARI, Matteo</td>\n      <td>1</td>\n      <td>NaN</td>\n      <td>left_only</td>\n    </tr>\n    <tr>\n      <th>23</th>\n      <td>WOODWARD, Gabe</td>\n      <td>1</td>\n      <td>NaN</td>\n      <td>left_only</td>\n    </tr>\n    <tr>\n      <th>24</th>\n      <td>SERDINOV, Andriy</td>\n      <td>1</td>\n      <td>NaN</td>\n      <td>left_only</td>\n    </tr>\n    <tr>\n      <th>25</th>\n      <td>VENDT, Erik</td>\n      <td>1</td>\n      <td>1.0</td>\n      <td>both</td>\n    </tr>\n    <tr>\n      <th>26</th>\n      <td>ROSOLINO, Massimiliano</td>\n      <td>1</td>\n      <td>NaN</td>\n      <td>left_only</td>\n    </tr>\n    <tr>\n      <th>27</th>\n      <td>VEENS, Mark Hermanus</td>\n      <td>1</td>\n      <td>NaN</td>\n      <td>left_only</td>\n    </tr>\n    <tr>\n      <th>28</th>\n      <td>RUPPRATH, Thomas</td>\n      <td>1</td>\n      <td>NaN</td>\n      <td>left_only</td>\n    </tr>\n    <tr>\n      <th>29</th>\n      <td>VANDERKAAY, Peter</td>\n      <td>1</td>\n      <td>2.0</td>\n      <td>both</td>\n    </tr>\n    <tr>\n      <th>30</th>\n      <td>TOWNSEND, Darian</td>\n      <td>1</td>\n      <td>NaN</td>\n      <td>left_only</td>\n    </tr>\n    <tr>\n      <th>31</th>\n      <td>STEVENS, Craig</td>\n      <td>1</td>\n      <td>NaN</td>\n      <td>left_only</td>\n    </tr>\n    <tr>\n      <th>32</th>\n      <td>NEETHLING, Ryk</td>\n      <td>1</td>\n      <td>NaN</td>\n      <td>left_only</td>\n    </tr>\n    <tr>\n      <th>33</th>\n      <td>BOVELL, George</td>\n      <td>1</td>\n      <td>NaN</td>\n      <td>left_only</td>\n    </tr>\n    <tr>\n      <th>34</th>\n      <td>MEEUW, Helge</td>\n      <td>1</td>\n      <td>NaN</td>\n      <td>left_only</td>\n    </tr>\n    <tr>\n      <th>35</th>\n      <td>FLOREA, Razvan Ionut</td>\n      <td>1</td>\n      <td>NaN</td>\n      <td>left_only</td>\n    </tr>\n    <tr>\n      <th>36</th>\n      <td>CAPPELLAZZO, Federico</td>\n      <td>1</td>\n      <td>NaN</td>\n      <td>left_only</td>\n    </tr>\n    <tr>\n      <th>37</th>\n      <td>CERCATO, Simone</td>\n      <td>1</td>\n      <td>NaN</td>\n      <td>left_only</td>\n    </tr>\n    <tr>\n      <th>38</th>\n      <td>CONRAD, Lars</td>\n      <td>1</td>\n      <td>NaN</td>\n      <td>left_only</td>\n    </tr>\n    <tr>\n      <th>39</th>\n      <td>CSEH, Laszlo</td>\n      <td>1</td>\n      <td>3.0</td>\n      <td>both</td>\n    </tr>\n    <tr>\n      <th>40</th>\n      <td>DAVIES, David</td>\n      <td>1</td>\n      <td>1.0</td>\n      <td>both</td>\n    </tr>\n    <tr>\n      <th>41</th>\n      <td>DRAGANJA, Duje</td>\n      <td>1</td>\n      <td>NaN</td>\n      <td>left_only</td>\n    </tr>\n    <tr>\n      <th>42</th>\n      <td>DRIESEN, Steffen</td>\n      <td>1</td>\n      <td>NaN</td>\n      <td>left_only</td>\n    </tr>\n    <tr>\n      <th>43</th>\n      <td>DUBOSCQ, Hugues</td>\n      <td>1</td>\n      <td>2.0</td>\n      <td>both</td>\n    </tr>\n    <tr>\n      <th>44</th>\n      <td>DUSING, Nate</td>\n      <td>1</td>\n      <td>NaN</td>\n      <td>left_only</td>\n    </tr>\n    <tr>\n      <th>45</th>\n      <td>FERNS, Lyndon</td>\n      <td>1</td>\n      <td>NaN</td>\n      <td>left_only</td>\n    </tr>\n    <tr>\n      <th>46</th>\n      <td>GANGLOFF, Mark</td>\n      <td>1</td>\n      <td>1.0</td>\n      <td>both</td>\n    </tr>\n    <tr>\n      <th>47</th>\n      <td>MATKOVICH, Antony</td>\n      <td>1</td>\n      <td>NaN</td>\n      <td>left_only</td>\n    </tr>\n    <tr>\n      <th>48</th>\n      <td>GOLDBLATT, Scott</td>\n      <td>1</td>\n      <td>NaN</td>\n      <td>left_only</td>\n    </tr>\n    <tr>\n      <th>49</th>\n      <td>GYURTA, Daniel</td>\n      <td>1</td>\n      <td>NaN</td>\n      <td>left_only</td>\n    </tr>\n    <tr>\n      <th>50</th>\n      <td>JENSEN, Larsen</td>\n      <td>1</td>\n      <td>1.0</td>\n      <td>both</td>\n    </tr>\n    <tr>\n      <th>51</th>\n      <td>KENKHUIS, Johan</td>\n      <td>1</td>\n      <td>NaN</td>\n      <td>left_only</td>\n    </tr>\n    <tr>\n      <th>52</th>\n      <td>KETCHUM, Dan</td>\n      <td>1</td>\n      <td>NaN</td>\n      <td>left_only</td>\n    </tr>\n    <tr>\n      <th>53</th>\n      <td>KLIM, Michael</td>\n      <td>1</td>\n      <td>NaN</td>\n      <td>left_only</td>\n    </tr>\n    <tr>\n      <th>54</th>\n      <td>KRAYZELBURG, Lenny</td>\n      <td>1</td>\n      <td>NaN</td>\n      <td>left_only</td>\n    </tr>\n    <tr>\n      <th>55</th>\n      <td>KRUPPA, Jens</td>\n      <td>1</td>\n      <td>NaN</td>\n      <td>left_only</td>\n    </tr>\n    <tr>\n      <th>56</th>\n      <td>BREMBILLA, Emiliano</td>\n      <td>1</td>\n      <td>NaN</td>\n      <td>left_only</td>\n    </tr>\n    <tr>\n      <th>57</th>\n      <td>MAGNINI, Filippo</td>\n      <td>1</td>\n      <td>NaN</td>\n      <td>left_only</td>\n    </tr>\n    <tr>\n      <th>58</th>\n      <td>ZWERING, Klaas-Erik</td>\n      <td>1</td>\n      <td>NaN</td>\n      <td>left_only</td>\n    </tr>\n  </tbody>\n</table>\n</div>"
     },
     "execution_count": 30,
     "metadata": {},
     "output_type": "execute_result"
    }
   ],
   "source": [
    "men_left"
   ],
   "metadata": {
    "collapsed": false,
    "ExecuteTime": {
     "end_time": "2024-03-20T11:39:44.551023700Z",
     "start_time": "2024-03-20T11:39:44.510734200Z"
    }
   },
   "id": "21185655a2ee33d7",
   "execution_count": 30
  },
  {
   "cell_type": "markdown",
   "source": [],
   "metadata": {
    "collapsed": false
   },
   "id": "df274ef02bd684ac"
  },
  {
   "cell_type": "markdown",
   "source": [
    "# - Left Join without intersection\n",
    "## It will merge the dataframes on the basis of the data in the left dataframe.\n",
    "## All Athlete, who were successful only in Edition 2004\n",
    "### Exclude the intersection and right side data"
   ],
   "metadata": {
    "collapsed": false
   },
   "id": "a2b29f102da7690b"
  },
  {
   "cell_type": "markdown",
   "source": [
    "- Filter the data for obtaining the athletes who were successful in only one edition(Left Join without intersection and right size)."
   ],
   "metadata": {
    "collapsed": false
   },
   "id": "6d1ec034650d651b"
  },
  {
   "cell_type": "code",
   "outputs": [
    {
     "data": {
      "text/plain": "                       Athlete  Medals     _merge\n1                  THORPE, Ian       4  left_only\n2             SCHOEMAN, Roland       3  left_only\n4                 CROCKER, Ian       3  left_only\n6              HANSEN, Brendan       3  left_only\n7   VAN DEN HOOGENBAND, Pieter       3  left_only\n8               HACKETT, Grant       3  left_only\n9               MORITA, Tomomi       2  left_only\n10                LEZAK, Jason       2  left_only\n11               ROGAN, Markus       2  left_only\n12               KELLER, Klete       2  left_only\n13              HALL, Gary Jr.       2  left_only\n14                LOCHTE, Ryan       2  left_only\n15                WALKER, Neil       2  left_only\n16           YAMAMOTO, Takashi       2  left_only\n17          SPRENGER, Nicholas       1  left_only\n18          OKUMURA, Yoshihiro       1  left_only\n19              PARRY, Stephen       1  left_only\n20               PEARSON, Todd       1  left_only\n21              ZASTROW, Mitja       1  left_only\n22          PELLICIARI, Matteo       1  left_only\n23              WOODWARD, Gabe       1  left_only\n24            SERDINOV, Andriy       1  left_only\n26      ROSOLINO, Massimiliano       1  left_only\n27        VEENS, Mark Hermanus       1  left_only\n28            RUPPRATH, Thomas       1  left_only\n29           VANDERKAAY, Peter       1  left_only\n30            TOWNSEND, Darian       1  left_only\n31              STEVENS, Craig       1  left_only\n32              NEETHLING, Ryk       1  left_only\n33              BOVELL, George       1  left_only\n34                MEEUW, Helge       1  left_only\n35        FLOREA, Razvan Ionut       1  left_only\n36       CAPPELLAZZO, Federico       1  left_only\n37             CERCATO, Simone       1  left_only\n38                CONRAD, Lars       1  left_only\n39                CSEH, Laszlo       1  left_only\n41              DRAGANJA, Duje       1  left_only\n42            DRIESEN, Steffen       1  left_only\n43             DUBOSCQ, Hugues       1  left_only\n44                DUSING, Nate       1  left_only\n45               FERNS, Lyndon       1  left_only\n47           MATKOVICH, Antony       1  left_only\n48            GOLDBLATT, Scott       1  left_only\n49              GYURTA, Daniel       1  left_only\n51             KENKHUIS, Johan       1  left_only\n52                KETCHUM, Dan       1  left_only\n53               KLIM, Michael       1  left_only\n54          KRAYZELBURG, Lenny       1  left_only\n55                KRUPPA, Jens       1  left_only\n56         BREMBILLA, Emiliano       1  left_only\n57            MAGNINI, Filippo       1  left_only\n58         ZWERING, Klaas-Erik       1  left_only",
      "text/html": "<div>\n<style scoped>\n    .dataframe tbody tr th:only-of-type {\n        vertical-align: middle;\n    }\n\n    .dataframe tbody tr th {\n        vertical-align: top;\n    }\n\n    .dataframe thead th {\n        text-align: right;\n    }\n</style>\n<table border=\"1\" class=\"dataframe\">\n  <thead>\n    <tr style=\"text-align: right;\">\n      <th></th>\n      <th>Athlete</th>\n      <th>Medals</th>\n      <th>_merge</th>\n    </tr>\n  </thead>\n  <tbody>\n    <tr>\n      <th>1</th>\n      <td>THORPE, Ian</td>\n      <td>4</td>\n      <td>left_only</td>\n    </tr>\n    <tr>\n      <th>2</th>\n      <td>SCHOEMAN, Roland</td>\n      <td>3</td>\n      <td>left_only</td>\n    </tr>\n    <tr>\n      <th>4</th>\n      <td>CROCKER, Ian</td>\n      <td>3</td>\n      <td>left_only</td>\n    </tr>\n    <tr>\n      <th>6</th>\n      <td>HANSEN, Brendan</td>\n      <td>3</td>\n      <td>left_only</td>\n    </tr>\n    <tr>\n      <th>7</th>\n      <td>VAN DEN HOOGENBAND, Pieter</td>\n      <td>3</td>\n      <td>left_only</td>\n    </tr>\n    <tr>\n      <th>8</th>\n      <td>HACKETT, Grant</td>\n      <td>3</td>\n      <td>left_only</td>\n    </tr>\n    <tr>\n      <th>9</th>\n      <td>MORITA, Tomomi</td>\n      <td>2</td>\n      <td>left_only</td>\n    </tr>\n    <tr>\n      <th>10</th>\n      <td>LEZAK, Jason</td>\n      <td>2</td>\n      <td>left_only</td>\n    </tr>\n    <tr>\n      <th>11</th>\n      <td>ROGAN, Markus</td>\n      <td>2</td>\n      <td>left_only</td>\n    </tr>\n    <tr>\n      <th>12</th>\n      <td>KELLER, Klete</td>\n      <td>2</td>\n      <td>left_only</td>\n    </tr>\n    <tr>\n      <th>13</th>\n      <td>HALL, Gary Jr.</td>\n      <td>2</td>\n      <td>left_only</td>\n    </tr>\n    <tr>\n      <th>14</th>\n      <td>LOCHTE, Ryan</td>\n      <td>2</td>\n      <td>left_only</td>\n    </tr>\n    <tr>\n      <th>15</th>\n      <td>WALKER, Neil</td>\n      <td>2</td>\n      <td>left_only</td>\n    </tr>\n    <tr>\n      <th>16</th>\n      <td>YAMAMOTO, Takashi</td>\n      <td>2</td>\n      <td>left_only</td>\n    </tr>\n    <tr>\n      <th>17</th>\n      <td>SPRENGER, Nicholas</td>\n      <td>1</td>\n      <td>left_only</td>\n    </tr>\n    <tr>\n      <th>18</th>\n      <td>OKUMURA, Yoshihiro</td>\n      <td>1</td>\n      <td>left_only</td>\n    </tr>\n    <tr>\n      <th>19</th>\n      <td>PARRY, Stephen</td>\n      <td>1</td>\n      <td>left_only</td>\n    </tr>\n    <tr>\n      <th>20</th>\n      <td>PEARSON, Todd</td>\n      <td>1</td>\n      <td>left_only</td>\n    </tr>\n    <tr>\n      <th>21</th>\n      <td>ZASTROW, Mitja</td>\n      <td>1</td>\n      <td>left_only</td>\n    </tr>\n    <tr>\n      <th>22</th>\n      <td>PELLICIARI, Matteo</td>\n      <td>1</td>\n      <td>left_only</td>\n    </tr>\n    <tr>\n      <th>23</th>\n      <td>WOODWARD, Gabe</td>\n      <td>1</td>\n      <td>left_only</td>\n    </tr>\n    <tr>\n      <th>24</th>\n      <td>SERDINOV, Andriy</td>\n      <td>1</td>\n      <td>left_only</td>\n    </tr>\n    <tr>\n      <th>26</th>\n      <td>ROSOLINO, Massimiliano</td>\n      <td>1</td>\n      <td>left_only</td>\n    </tr>\n    <tr>\n      <th>27</th>\n      <td>VEENS, Mark Hermanus</td>\n      <td>1</td>\n      <td>left_only</td>\n    </tr>\n    <tr>\n      <th>28</th>\n      <td>RUPPRATH, Thomas</td>\n      <td>1</td>\n      <td>left_only</td>\n    </tr>\n    <tr>\n      <th>29</th>\n      <td>VANDERKAAY, Peter</td>\n      <td>1</td>\n      <td>left_only</td>\n    </tr>\n    <tr>\n      <th>30</th>\n      <td>TOWNSEND, Darian</td>\n      <td>1</td>\n      <td>left_only</td>\n    </tr>\n    <tr>\n      <th>31</th>\n      <td>STEVENS, Craig</td>\n      <td>1</td>\n      <td>left_only</td>\n    </tr>\n    <tr>\n      <th>32</th>\n      <td>NEETHLING, Ryk</td>\n      <td>1</td>\n      <td>left_only</td>\n    </tr>\n    <tr>\n      <th>33</th>\n      <td>BOVELL, George</td>\n      <td>1</td>\n      <td>left_only</td>\n    </tr>\n    <tr>\n      <th>34</th>\n      <td>MEEUW, Helge</td>\n      <td>1</td>\n      <td>left_only</td>\n    </tr>\n    <tr>\n      <th>35</th>\n      <td>FLOREA, Razvan Ionut</td>\n      <td>1</td>\n      <td>left_only</td>\n    </tr>\n    <tr>\n      <th>36</th>\n      <td>CAPPELLAZZO, Federico</td>\n      <td>1</td>\n      <td>left_only</td>\n    </tr>\n    <tr>\n      <th>37</th>\n      <td>CERCATO, Simone</td>\n      <td>1</td>\n      <td>left_only</td>\n    </tr>\n    <tr>\n      <th>38</th>\n      <td>CONRAD, Lars</td>\n      <td>1</td>\n      <td>left_only</td>\n    </tr>\n    <tr>\n      <th>39</th>\n      <td>CSEH, Laszlo</td>\n      <td>1</td>\n      <td>left_only</td>\n    </tr>\n    <tr>\n      <th>41</th>\n      <td>DRAGANJA, Duje</td>\n      <td>1</td>\n      <td>left_only</td>\n    </tr>\n    <tr>\n      <th>42</th>\n      <td>DRIESEN, Steffen</td>\n      <td>1</td>\n      <td>left_only</td>\n    </tr>\n    <tr>\n      <th>43</th>\n      <td>DUBOSCQ, Hugues</td>\n      <td>1</td>\n      <td>left_only</td>\n    </tr>\n    <tr>\n      <th>44</th>\n      <td>DUSING, Nate</td>\n      <td>1</td>\n      <td>left_only</td>\n    </tr>\n    <tr>\n      <th>45</th>\n      <td>FERNS, Lyndon</td>\n      <td>1</td>\n      <td>left_only</td>\n    </tr>\n    <tr>\n      <th>47</th>\n      <td>MATKOVICH, Antony</td>\n      <td>1</td>\n      <td>left_only</td>\n    </tr>\n    <tr>\n      <th>48</th>\n      <td>GOLDBLATT, Scott</td>\n      <td>1</td>\n      <td>left_only</td>\n    </tr>\n    <tr>\n      <th>49</th>\n      <td>GYURTA, Daniel</td>\n      <td>1</td>\n      <td>left_only</td>\n    </tr>\n    <tr>\n      <th>51</th>\n      <td>KENKHUIS, Johan</td>\n      <td>1</td>\n      <td>left_only</td>\n    </tr>\n    <tr>\n      <th>52</th>\n      <td>KETCHUM, Dan</td>\n      <td>1</td>\n      <td>left_only</td>\n    </tr>\n    <tr>\n      <th>53</th>\n      <td>KLIM, Michael</td>\n      <td>1</td>\n      <td>left_only</td>\n    </tr>\n    <tr>\n      <th>54</th>\n      <td>KRAYZELBURG, Lenny</td>\n      <td>1</td>\n      <td>left_only</td>\n    </tr>\n    <tr>\n      <th>55</th>\n      <td>KRUPPA, Jens</td>\n      <td>1</td>\n      <td>left_only</td>\n    </tr>\n    <tr>\n      <th>56</th>\n      <td>BREMBILLA, Emiliano</td>\n      <td>1</td>\n      <td>left_only</td>\n    </tr>\n    <tr>\n      <th>57</th>\n      <td>MAGNINI, Filippo</td>\n      <td>1</td>\n      <td>left_only</td>\n    </tr>\n    <tr>\n      <th>58</th>\n      <td>ZWERING, Klaas-Erik</td>\n      <td>1</td>\n      <td>left_only</td>\n    </tr>\n  </tbody>\n</table>\n</div>"
     },
     "execution_count": 20,
     "metadata": {},
     "output_type": "execute_result"
    }
   ],
   "source": [
    "men0408.loc[men0408._merge == 'left_only']"
   ],
   "metadata": {
    "collapsed": false,
    "ExecuteTime": {
     "end_time": "2024-03-20T10:37:26.268960700Z",
     "start_time": "2024-03-20T10:37:26.223968100Z"
    }
   },
   "id": "99961c173f4c3e5b",
   "execution_count": 20
  },
  {
   "cell_type": "markdown",
   "source": [],
   "metadata": {
    "collapsed": false
   },
   "id": "49549066ae2aeb9e"
  },
  {
   "cell_type": "markdown",
   "source": [],
   "metadata": {
    "collapsed": false
   },
   "id": "85286828193e4409"
  },
  {
   "cell_type": "markdown",
   "source": [],
   "metadata": {
    "collapsed": false
   },
   "id": "59542ab55a968543"
  },
  {
   "cell_type": "markdown",
   "source": [
    "# - Right Join\n",
    "## It will merge the dataframes on the basis of the data in the right dataframe and intersection.\n",
    "## All Athlete, who were successful in Edition 2008(incl. 2004 Medals, Athlete who were successful in both Edition)"
   ],
   "metadata": {
    "collapsed": false
   },
   "id": "17099b7f4d0e4519"
  },
  {
   "cell_type": "code",
   "outputs": [],
   "source": [
    "men_right = men2004.merge(men2008, on='Athlete', how='right', suffixes=('_2004', '_2008'), indicator=True)"
   ],
   "metadata": {
    "collapsed": false,
    "ExecuteTime": {
     "end_time": "2024-03-20T11:43:34.734214500Z",
     "start_time": "2024-03-20T11:43:34.713285200Z"
    }
   },
   "id": "757c79b56fd30968",
   "execution_count": 31
  },
  {
   "cell_type": "code",
   "outputs": [
    {
     "data": {
      "text/plain": "                Athlete  Medals_2004  Medals_2008      _merge\n0       PHELPS, Michael          8.0            8        both\n1          LOCHTE, Ryan          2.0            4        both\n2        BERNARD, Alain          NaN            3  right_only\n3       SULLIVAN, Eamon          NaN            3  right_only\n4   LAUTERSTEIN, Andrew          NaN            3  right_only\n..                  ...          ...          ...         ...\n57     LAGUNOV, Evgeniy          NaN            1  right_only\n58        BERENS, Ricky          NaN            1  right_only\n59         LURZ, Thomas          NaN            1  right_only\n60      MALLET, Gregory          NaN            1  right_only\n61           ZHANG, Lin          NaN            1  right_only\n\n[62 rows x 4 columns]",
      "text/html": "<div>\n<style scoped>\n    .dataframe tbody tr th:only-of-type {\n        vertical-align: middle;\n    }\n\n    .dataframe tbody tr th {\n        vertical-align: top;\n    }\n\n    .dataframe thead th {\n        text-align: right;\n    }\n</style>\n<table border=\"1\" class=\"dataframe\">\n  <thead>\n    <tr style=\"text-align: right;\">\n      <th></th>\n      <th>Athlete</th>\n      <th>Medals_2004</th>\n      <th>Medals_2008</th>\n      <th>_merge</th>\n    </tr>\n  </thead>\n  <tbody>\n    <tr>\n      <th>0</th>\n      <td>PHELPS, Michael</td>\n      <td>8.0</td>\n      <td>8</td>\n      <td>both</td>\n    </tr>\n    <tr>\n      <th>1</th>\n      <td>LOCHTE, Ryan</td>\n      <td>2.0</td>\n      <td>4</td>\n      <td>both</td>\n    </tr>\n    <tr>\n      <th>2</th>\n      <td>BERNARD, Alain</td>\n      <td>NaN</td>\n      <td>3</td>\n      <td>right_only</td>\n    </tr>\n    <tr>\n      <th>3</th>\n      <td>SULLIVAN, Eamon</td>\n      <td>NaN</td>\n      <td>3</td>\n      <td>right_only</td>\n    </tr>\n    <tr>\n      <th>4</th>\n      <td>LAUTERSTEIN, Andrew</td>\n      <td>NaN</td>\n      <td>3</td>\n      <td>right_only</td>\n    </tr>\n    <tr>\n      <th>...</th>\n      <td>...</td>\n      <td>...</td>\n      <td>...</td>\n      <td>...</td>\n    </tr>\n    <tr>\n      <th>57</th>\n      <td>LAGUNOV, Evgeniy</td>\n      <td>NaN</td>\n      <td>1</td>\n      <td>right_only</td>\n    </tr>\n    <tr>\n      <th>58</th>\n      <td>BERENS, Ricky</td>\n      <td>NaN</td>\n      <td>1</td>\n      <td>right_only</td>\n    </tr>\n    <tr>\n      <th>59</th>\n      <td>LURZ, Thomas</td>\n      <td>NaN</td>\n      <td>1</td>\n      <td>right_only</td>\n    </tr>\n    <tr>\n      <th>60</th>\n      <td>MALLET, Gregory</td>\n      <td>NaN</td>\n      <td>1</td>\n      <td>right_only</td>\n    </tr>\n    <tr>\n      <th>61</th>\n      <td>ZHANG, Lin</td>\n      <td>NaN</td>\n      <td>1</td>\n      <td>right_only</td>\n    </tr>\n  </tbody>\n</table>\n<p>62 rows × 4 columns</p>\n</div>"
     },
     "execution_count": 33,
     "metadata": {},
     "output_type": "execute_result"
    }
   ],
   "source": [
    "men_right"
   ],
   "metadata": {
    "collapsed": false,
    "ExecuteTime": {
     "end_time": "2024-03-20T11:44:47.787371500Z",
     "start_time": "2024-03-20T11:44:47.752811900Z"
    }
   },
   "id": "b59a8371a6e10030",
   "execution_count": 33
  },
  {
   "cell_type": "markdown",
   "source": [],
   "metadata": {
    "collapsed": false
   },
   "id": "a9471224ff2fc334"
  },
  {
   "cell_type": "markdown",
   "source": [
    "# - Right Join without intersection\n",
    "## It will merge the dataframes on the basis of the data in the right dataframe.\n",
    "## All Athlete, who were successful only in Edition 2008"
   ],
   "metadata": {
    "collapsed": false
   },
   "id": "5ca21966e24686b1"
  },
  {
   "cell_type": "code",
   "outputs": [
    {
     "data": {
      "text/plain": "                      Athlete  Medals_2004  Medals_2008      _merge\n0              ADRIAN, Nathan          NaN          1.0  right_only\n1               BERENS, Ricky          NaN          1.0  right_only\n2              BERNARD, Alain          NaN          3.0  right_only\n3         BOUSQUET, Frederick          NaN          1.0  right_only\n6                BRITS, Grant          NaN          1.0  right_only\n7               BRODIE, Leith          NaN          2.0  right_only\n8              CALLUS, Ashley          NaN          1.0  right_only\n10             CAVIC, Milorad          NaN          1.0  right_only\n12         CIELO FILHO, Cesar          NaN          2.0  right_only\n13             COCHRANE, Ryan          NaN          1.0  right_only\n18            DELANEY, Ashley          NaN          1.0  right_only\n24               FFROST, Nick          NaN          1.0  right_only\n26              FUJII, Takuro          NaN          1.0  right_only\n28              GILOT, Fabien          NaN          1.0  right_only\n30              GREVERS, Matt          NaN          3.0  right_only\n35             IZOTOV, Danila          NaN          1.0  right_only\n37              JONES, Cullen          NaN          1.0  right_only\n45           LAGUNOV, Evgeniy          NaN          1.0  right_only\n46        LAUTERSTEIN, Andrew          NaN          3.0  right_only\n47            LEVEAUX, Amaury          NaN          2.0  right_only\n49          LOBINTSEV, Nikita          NaN          1.0  right_only\n51               LURZ, Thomas          NaN          1.0  right_only\n53            MALLET, Gregory          NaN          1.0  right_only\n55           MATSUDA, Takeshi          NaN          1.0  right_only\n57          MELLOULI, Oussama          NaN          1.0  right_only\n58         MIYASHITA, Junichi          NaN          1.0  right_only\n60            MURPHY, Patrick          NaN          2.0  right_only\n62        OEN, Alexander Dale          NaN          1.0  right_only\n64               PALMER, Kirk          NaN          1.0  right_only\n65              PARK, Taehwan          NaN          2.0  right_only\n71                 PINE, Adam          NaN          1.0  right_only\n72        POLISHCHUK, Mikhail          NaN          1.0  right_only\n73           RICKARD, Brenton          NaN          2.0  right_only\n77            SATO, Hisayoshi          NaN          1.0  right_only\n80        SPRENGER, Christian          NaN          1.0  right_only\n82            STEIMETZ, Boris          NaN          1.0  right_only\n84           STOECKEL, Hayden          NaN          2.0  right_only\n85      SUKHORUKOV, Alexander          NaN          1.0  right_only\n86            SULLIVAN, Eamon          NaN          3.0  right_only\n87              TARGETT, Matt          NaN          2.0  right_only\n91   VAN DER WEIJDEN, Maarten          NaN          1.0  right_only\n95         VYATCHANIN, Arkady          NaN          2.0  right_only\n97             WALTERS, David          NaN          1.0  right_only\n98        WEBER-GALE, Garrett          NaN          2.0  right_only\n99      WILDMAN-TOBRINER, Ben          NaN          1.0  right_only\n103                ZHANG, Lin          NaN          1.0  right_only",
      "text/html": "<div>\n<style scoped>\n    .dataframe tbody tr th:only-of-type {\n        vertical-align: middle;\n    }\n\n    .dataframe tbody tr th {\n        vertical-align: top;\n    }\n\n    .dataframe thead th {\n        text-align: right;\n    }\n</style>\n<table border=\"1\" class=\"dataframe\">\n  <thead>\n    <tr style=\"text-align: right;\">\n      <th></th>\n      <th>Athlete</th>\n      <th>Medals_2004</th>\n      <th>Medals_2008</th>\n      <th>_merge</th>\n    </tr>\n  </thead>\n  <tbody>\n    <tr>\n      <th>0</th>\n      <td>ADRIAN, Nathan</td>\n      <td>NaN</td>\n      <td>1.0</td>\n      <td>right_only</td>\n    </tr>\n    <tr>\n      <th>1</th>\n      <td>BERENS, Ricky</td>\n      <td>NaN</td>\n      <td>1.0</td>\n      <td>right_only</td>\n    </tr>\n    <tr>\n      <th>2</th>\n      <td>BERNARD, Alain</td>\n      <td>NaN</td>\n      <td>3.0</td>\n      <td>right_only</td>\n    </tr>\n    <tr>\n      <th>3</th>\n      <td>BOUSQUET, Frederick</td>\n      <td>NaN</td>\n      <td>1.0</td>\n      <td>right_only</td>\n    </tr>\n    <tr>\n      <th>6</th>\n      <td>BRITS, Grant</td>\n      <td>NaN</td>\n      <td>1.0</td>\n      <td>right_only</td>\n    </tr>\n    <tr>\n      <th>7</th>\n      <td>BRODIE, Leith</td>\n      <td>NaN</td>\n      <td>2.0</td>\n      <td>right_only</td>\n    </tr>\n    <tr>\n      <th>8</th>\n      <td>CALLUS, Ashley</td>\n      <td>NaN</td>\n      <td>1.0</td>\n      <td>right_only</td>\n    </tr>\n    <tr>\n      <th>10</th>\n      <td>CAVIC, Milorad</td>\n      <td>NaN</td>\n      <td>1.0</td>\n      <td>right_only</td>\n    </tr>\n    <tr>\n      <th>12</th>\n      <td>CIELO FILHO, Cesar</td>\n      <td>NaN</td>\n      <td>2.0</td>\n      <td>right_only</td>\n    </tr>\n    <tr>\n      <th>13</th>\n      <td>COCHRANE, Ryan</td>\n      <td>NaN</td>\n      <td>1.0</td>\n      <td>right_only</td>\n    </tr>\n    <tr>\n      <th>18</th>\n      <td>DELANEY, Ashley</td>\n      <td>NaN</td>\n      <td>1.0</td>\n      <td>right_only</td>\n    </tr>\n    <tr>\n      <th>24</th>\n      <td>FFROST, Nick</td>\n      <td>NaN</td>\n      <td>1.0</td>\n      <td>right_only</td>\n    </tr>\n    <tr>\n      <th>26</th>\n      <td>FUJII, Takuro</td>\n      <td>NaN</td>\n      <td>1.0</td>\n      <td>right_only</td>\n    </tr>\n    <tr>\n      <th>28</th>\n      <td>GILOT, Fabien</td>\n      <td>NaN</td>\n      <td>1.0</td>\n      <td>right_only</td>\n    </tr>\n    <tr>\n      <th>30</th>\n      <td>GREVERS, Matt</td>\n      <td>NaN</td>\n      <td>3.0</td>\n      <td>right_only</td>\n    </tr>\n    <tr>\n      <th>35</th>\n      <td>IZOTOV, Danila</td>\n      <td>NaN</td>\n      <td>1.0</td>\n      <td>right_only</td>\n    </tr>\n    <tr>\n      <th>37</th>\n      <td>JONES, Cullen</td>\n      <td>NaN</td>\n      <td>1.0</td>\n      <td>right_only</td>\n    </tr>\n    <tr>\n      <th>45</th>\n      <td>LAGUNOV, Evgeniy</td>\n      <td>NaN</td>\n      <td>1.0</td>\n      <td>right_only</td>\n    </tr>\n    <tr>\n      <th>46</th>\n      <td>LAUTERSTEIN, Andrew</td>\n      <td>NaN</td>\n      <td>3.0</td>\n      <td>right_only</td>\n    </tr>\n    <tr>\n      <th>47</th>\n      <td>LEVEAUX, Amaury</td>\n      <td>NaN</td>\n      <td>2.0</td>\n      <td>right_only</td>\n    </tr>\n    <tr>\n      <th>49</th>\n      <td>LOBINTSEV, Nikita</td>\n      <td>NaN</td>\n      <td>1.0</td>\n      <td>right_only</td>\n    </tr>\n    <tr>\n      <th>51</th>\n      <td>LURZ, Thomas</td>\n      <td>NaN</td>\n      <td>1.0</td>\n      <td>right_only</td>\n    </tr>\n    <tr>\n      <th>53</th>\n      <td>MALLET, Gregory</td>\n      <td>NaN</td>\n      <td>1.0</td>\n      <td>right_only</td>\n    </tr>\n    <tr>\n      <th>55</th>\n      <td>MATSUDA, Takeshi</td>\n      <td>NaN</td>\n      <td>1.0</td>\n      <td>right_only</td>\n    </tr>\n    <tr>\n      <th>57</th>\n      <td>MELLOULI, Oussama</td>\n      <td>NaN</td>\n      <td>1.0</td>\n      <td>right_only</td>\n    </tr>\n    <tr>\n      <th>58</th>\n      <td>MIYASHITA, Junichi</td>\n      <td>NaN</td>\n      <td>1.0</td>\n      <td>right_only</td>\n    </tr>\n    <tr>\n      <th>60</th>\n      <td>MURPHY, Patrick</td>\n      <td>NaN</td>\n      <td>2.0</td>\n      <td>right_only</td>\n    </tr>\n    <tr>\n      <th>62</th>\n      <td>OEN, Alexander Dale</td>\n      <td>NaN</td>\n      <td>1.0</td>\n      <td>right_only</td>\n    </tr>\n    <tr>\n      <th>64</th>\n      <td>PALMER, Kirk</td>\n      <td>NaN</td>\n      <td>1.0</td>\n      <td>right_only</td>\n    </tr>\n    <tr>\n      <th>65</th>\n      <td>PARK, Taehwan</td>\n      <td>NaN</td>\n      <td>2.0</td>\n      <td>right_only</td>\n    </tr>\n    <tr>\n      <th>71</th>\n      <td>PINE, Adam</td>\n      <td>NaN</td>\n      <td>1.0</td>\n      <td>right_only</td>\n    </tr>\n    <tr>\n      <th>72</th>\n      <td>POLISHCHUK, Mikhail</td>\n      <td>NaN</td>\n      <td>1.0</td>\n      <td>right_only</td>\n    </tr>\n    <tr>\n      <th>73</th>\n      <td>RICKARD, Brenton</td>\n      <td>NaN</td>\n      <td>2.0</td>\n      <td>right_only</td>\n    </tr>\n    <tr>\n      <th>77</th>\n      <td>SATO, Hisayoshi</td>\n      <td>NaN</td>\n      <td>1.0</td>\n      <td>right_only</td>\n    </tr>\n    <tr>\n      <th>80</th>\n      <td>SPRENGER, Christian</td>\n      <td>NaN</td>\n      <td>1.0</td>\n      <td>right_only</td>\n    </tr>\n    <tr>\n      <th>82</th>\n      <td>STEIMETZ, Boris</td>\n      <td>NaN</td>\n      <td>1.0</td>\n      <td>right_only</td>\n    </tr>\n    <tr>\n      <th>84</th>\n      <td>STOECKEL, Hayden</td>\n      <td>NaN</td>\n      <td>2.0</td>\n      <td>right_only</td>\n    </tr>\n    <tr>\n      <th>85</th>\n      <td>SUKHORUKOV, Alexander</td>\n      <td>NaN</td>\n      <td>1.0</td>\n      <td>right_only</td>\n    </tr>\n    <tr>\n      <th>86</th>\n      <td>SULLIVAN, Eamon</td>\n      <td>NaN</td>\n      <td>3.0</td>\n      <td>right_only</td>\n    </tr>\n    <tr>\n      <th>87</th>\n      <td>TARGETT, Matt</td>\n      <td>NaN</td>\n      <td>2.0</td>\n      <td>right_only</td>\n    </tr>\n    <tr>\n      <th>91</th>\n      <td>VAN DER WEIJDEN, Maarten</td>\n      <td>NaN</td>\n      <td>1.0</td>\n      <td>right_only</td>\n    </tr>\n    <tr>\n      <th>95</th>\n      <td>VYATCHANIN, Arkady</td>\n      <td>NaN</td>\n      <td>2.0</td>\n      <td>right_only</td>\n    </tr>\n    <tr>\n      <th>97</th>\n      <td>WALTERS, David</td>\n      <td>NaN</td>\n      <td>1.0</td>\n      <td>right_only</td>\n    </tr>\n    <tr>\n      <th>98</th>\n      <td>WEBER-GALE, Garrett</td>\n      <td>NaN</td>\n      <td>2.0</td>\n      <td>right_only</td>\n    </tr>\n    <tr>\n      <th>99</th>\n      <td>WILDMAN-TOBRINER, Ben</td>\n      <td>NaN</td>\n      <td>1.0</td>\n      <td>right_only</td>\n    </tr>\n    <tr>\n      <th>103</th>\n      <td>ZHANG, Lin</td>\n      <td>NaN</td>\n      <td>1.0</td>\n      <td>right_only</td>\n    </tr>\n  </tbody>\n</table>\n</div>"
     },
     "execution_count": 27,
     "metadata": {},
     "output_type": "execute_result"
    }
   ],
   "source": [
    "men0408.loc[men0408._merge == 'right_only']"
   ],
   "metadata": {
    "collapsed": false,
    "ExecuteTime": {
     "end_time": "2024-03-20T10:41:44.734230700Z",
     "start_time": "2024-03-20T10:41:44.710416Z"
    }
   },
   "id": "8e5fb2493e216adb",
   "execution_count": 27
  },
  {
   "cell_type": "code",
   "outputs": [],
   "source": [],
   "metadata": {
    "collapsed": false
   },
   "id": "67cbca253c30db4"
  }
 ],
 "metadata": {
  "kernelspec": {
   "display_name": "Python 3",
   "language": "python",
   "name": "python3"
  },
  "language_info": {
   "codemirror_mode": {
    "name": "ipython",
    "version": 2
   },
   "file_extension": ".py",
   "mimetype": "text/x-python",
   "name": "python",
   "nbconvert_exporter": "python",
   "pygments_lexer": "ipython2",
   "version": "2.7.6"
  }
 },
 "nbformat": 4,
 "nbformat_minor": 5
}
