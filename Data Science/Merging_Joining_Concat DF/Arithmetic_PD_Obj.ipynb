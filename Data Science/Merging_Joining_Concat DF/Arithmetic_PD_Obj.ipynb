{
 "cells": [
  {
   "cell_type": "code",
   "execution_count": 1,
   "id": "initial_id",
   "metadata": {
    "collapsed": true,
    "ExecuteTime": {
     "end_time": "2024-03-18T19:41:08.311569600Z",
     "start_time": "2024-03-18T19:41:07.728832300Z"
    }
   },
   "outputs": [],
   "source": [
    "import pandas as pd"
   ]
  },
  {
   "cell_type": "markdown",
   "source": [
    "# Arithmetic between Pandas Objects / Data Alignment"
   ],
   "metadata": {
    "collapsed": false
   },
   "id": "7fb7a6b99d3dbca6"
  },
  {
   "cell_type": "code",
   "outputs": [],
   "source": [
    "topfive_2004 = pd.read_csv(\"topfive_2004.csv\", index_col=\"Athlete\")"
   ],
   "metadata": {
    "collapsed": false,
    "ExecuteTime": {
     "end_time": "2024-03-18T19:53:26.929905800Z",
     "start_time": "2024-03-18T19:53:26.914402900Z"
    }
   },
   "id": "bbf0cc5e66bc199c",
   "execution_count": 2
  },
  {
   "cell_type": "code",
   "outputs": [],
   "source": [
    "topfive_2008 = pd.read_csv(\"topfive_2008.csv\", index_col=\"Athlete\")"
   ],
   "metadata": {
    "collapsed": false,
    "ExecuteTime": {
     "end_time": "2024-03-18T19:54:16.232058Z",
     "start_time": "2024-03-18T19:54:16.191083900Z"
    }
   },
   "id": "79fd2a6fb77e014c",
   "execution_count": 4
  },
  {
   "cell_type": "code",
   "outputs": [
    {
     "data": {
      "text/plain": "                  Gold  Silver  Bronze\nAthlete                               \nPHELPS, Michael    6.0     0.0     2.0\nPEIRSOL, Aaron     3.0     0.0     0.0\nTHORPE, Ian        2.0     1.0     1.0\nKITAJIMA, Kosuke   2.0     0.0     1.0\nHACKETT, Grant     1.0     2.0     0.0",
      "text/html": "<div>\n<style scoped>\n    .dataframe tbody tr th:only-of-type {\n        vertical-align: middle;\n    }\n\n    .dataframe tbody tr th {\n        vertical-align: top;\n    }\n\n    .dataframe thead th {\n        text-align: right;\n    }\n</style>\n<table border=\"1\" class=\"dataframe\">\n  <thead>\n    <tr style=\"text-align: right;\">\n      <th></th>\n      <th>Gold</th>\n      <th>Silver</th>\n      <th>Bronze</th>\n    </tr>\n    <tr>\n      <th>Athlete</th>\n      <th></th>\n      <th></th>\n      <th></th>\n    </tr>\n  </thead>\n  <tbody>\n    <tr>\n      <th>PHELPS, Michael</th>\n      <td>6.0</td>\n      <td>0.0</td>\n      <td>2.0</td>\n    </tr>\n    <tr>\n      <th>PEIRSOL, Aaron</th>\n      <td>3.0</td>\n      <td>0.0</td>\n      <td>0.0</td>\n    </tr>\n    <tr>\n      <th>THORPE, Ian</th>\n      <td>2.0</td>\n      <td>1.0</td>\n      <td>1.0</td>\n    </tr>\n    <tr>\n      <th>KITAJIMA, Kosuke</th>\n      <td>2.0</td>\n      <td>0.0</td>\n      <td>1.0</td>\n    </tr>\n    <tr>\n      <th>HACKETT, Grant</th>\n      <td>1.0</td>\n      <td>2.0</td>\n      <td>0.0</td>\n    </tr>\n  </tbody>\n</table>\n</div>"
     },
     "execution_count": 5,
     "metadata": {},
     "output_type": "execute_result"
    }
   ],
   "source": [
    "topfive_2004"
   ],
   "metadata": {
    "collapsed": false,
    "ExecuteTime": {
     "end_time": "2024-03-18T19:54:20.901011400Z",
     "start_time": "2024-03-18T19:54:20.882398400Z"
    }
   },
   "id": "f9dd503f1f6b5f7b",
   "execution_count": 5
  },
  {
   "cell_type": "markdown",
   "source": [
    " We have bronze column with lower case b"
   ],
   "metadata": {
    "collapsed": false
   },
   "id": "a09a92aa9f40b0e9"
  },
  {
   "cell_type": "code",
   "outputs": [
    {
     "data": {
      "text/plain": "                  Gold  Silver  bronze\nAthlete                               \nPHELPS, Michael    8.0     0.0     0.0\nGREVERS, Matt      2.0     1.0     0.0\nPEIRSOL, Aaron     2.0     1.0     0.0\nLOCHTE, Ryan       2.0     0.0     2.0\nKITAJIMA, Kosuke   2.0     0.0     1.0",
      "text/html": "<div>\n<style scoped>\n    .dataframe tbody tr th:only-of-type {\n        vertical-align: middle;\n    }\n\n    .dataframe tbody tr th {\n        vertical-align: top;\n    }\n\n    .dataframe thead th {\n        text-align: right;\n    }\n</style>\n<table border=\"1\" class=\"dataframe\">\n  <thead>\n    <tr style=\"text-align: right;\">\n      <th></th>\n      <th>Gold</th>\n      <th>Silver</th>\n      <th>bronze</th>\n    </tr>\n    <tr>\n      <th>Athlete</th>\n      <th></th>\n      <th></th>\n      <th></th>\n    </tr>\n  </thead>\n  <tbody>\n    <tr>\n      <th>PHELPS, Michael</th>\n      <td>8.0</td>\n      <td>0.0</td>\n      <td>0.0</td>\n    </tr>\n    <tr>\n      <th>GREVERS, Matt</th>\n      <td>2.0</td>\n      <td>1.0</td>\n      <td>0.0</td>\n    </tr>\n    <tr>\n      <th>PEIRSOL, Aaron</th>\n      <td>2.0</td>\n      <td>1.0</td>\n      <td>0.0</td>\n    </tr>\n    <tr>\n      <th>LOCHTE, Ryan</th>\n      <td>2.0</td>\n      <td>0.0</td>\n      <td>2.0</td>\n    </tr>\n    <tr>\n      <th>KITAJIMA, Kosuke</th>\n      <td>2.0</td>\n      <td>0.0</td>\n      <td>1.0</td>\n    </tr>\n  </tbody>\n</table>\n</div>"
     },
     "execution_count": 6,
     "metadata": {},
     "output_type": "execute_result"
    }
   ],
   "source": [
    "topfive_2008"
   ],
   "metadata": {
    "collapsed": false,
    "ExecuteTime": {
     "end_time": "2024-03-18T19:54:24.521089500Z",
     "start_time": "2024-03-18T19:54:24.493280500Z"
    }
   },
   "id": "9b02add1e158b5a9",
   "execution_count": 6
  },
  {
   "cell_type": "markdown",
   "source": [
    "# We can add 2 dataframes together, wirh add method\n",
    "## Parameters:\n",
    "### fill_value: fill missing values with this value\n",
    "### axis: 0 for rows, 1 for columns\n"
   ],
   "metadata": {
    "collapsed": false
   },
   "id": "ea6b13bf052988c7"
  },
  {
   "cell_type": "code",
   "outputs": [
    {
     "data": {
      "text/plain": "                  Bronze  Gold  Silver  bronze\nAthlete                                       \nGREVERS, Matt        NaN   2.0     1.0     0.0\nHACKETT, Grant       0.0   1.0     2.0     NaN\nKITAJIMA, Kosuke     1.0   4.0     0.0     1.0\nLOCHTE, Ryan         NaN   2.0     0.0     2.0\nPEIRSOL, Aaron       0.0   5.0     1.0     0.0\nPHELPS, Michael      2.0  14.0     0.0     0.0\nTHORPE, Ian          1.0   2.0     1.0     NaN",
      "text/html": "<div>\n<style scoped>\n    .dataframe tbody tr th:only-of-type {\n        vertical-align: middle;\n    }\n\n    .dataframe tbody tr th {\n        vertical-align: top;\n    }\n\n    .dataframe thead th {\n        text-align: right;\n    }\n</style>\n<table border=\"1\" class=\"dataframe\">\n  <thead>\n    <tr style=\"text-align: right;\">\n      <th></th>\n      <th>Bronze</th>\n      <th>Gold</th>\n      <th>Silver</th>\n      <th>bronze</th>\n    </tr>\n    <tr>\n      <th>Athlete</th>\n      <th></th>\n      <th></th>\n      <th></th>\n      <th></th>\n    </tr>\n  </thead>\n  <tbody>\n    <tr>\n      <th>GREVERS, Matt</th>\n      <td>NaN</td>\n      <td>2.0</td>\n      <td>1.0</td>\n      <td>0.0</td>\n    </tr>\n    <tr>\n      <th>HACKETT, Grant</th>\n      <td>0.0</td>\n      <td>1.0</td>\n      <td>2.0</td>\n      <td>NaN</td>\n    </tr>\n    <tr>\n      <th>KITAJIMA, Kosuke</th>\n      <td>1.0</td>\n      <td>4.0</td>\n      <td>0.0</td>\n      <td>1.0</td>\n    </tr>\n    <tr>\n      <th>LOCHTE, Ryan</th>\n      <td>NaN</td>\n      <td>2.0</td>\n      <td>0.0</td>\n      <td>2.0</td>\n    </tr>\n    <tr>\n      <th>PEIRSOL, Aaron</th>\n      <td>0.0</td>\n      <td>5.0</td>\n      <td>1.0</td>\n      <td>0.0</td>\n    </tr>\n    <tr>\n      <th>PHELPS, Michael</th>\n      <td>2.0</td>\n      <td>14.0</td>\n      <td>0.0</td>\n      <td>0.0</td>\n    </tr>\n    <tr>\n      <th>THORPE, Ian</th>\n      <td>1.0</td>\n      <td>2.0</td>\n      <td>1.0</td>\n      <td>NaN</td>\n    </tr>\n  </tbody>\n</table>\n</div>"
     },
     "execution_count": 13,
     "metadata": {},
     "output_type": "execute_result"
    }
   ],
   "source": [
    "topfive_2004.add(topfive_2008, fill_value=0, axis=0)"
   ],
   "metadata": {
    "collapsed": false,
    "ExecuteTime": {
     "end_time": "2024-03-18T19:59:58.872168500Z",
     "start_time": "2024-03-18T19:59:58.838099300Z"
    }
   },
   "id": "6c7277ad79d269f4",
   "execution_count": 13
  },
  {
   "cell_type": "markdown",
   "source": [
    "We have NaN values in the result, because we have missing values in both dataframes(bronze column and Bronze column)"
   ],
   "metadata": {
    "collapsed": false
   },
   "id": "55309d1da0091b57"
  },
  {
   "cell_type": "code",
   "outputs": [],
   "source": [],
   "metadata": {
    "collapsed": false
   },
   "id": "741e21e424663e3f"
  },
  {
   "cell_type": "markdown",
   "source": [
    "# We can subtract 2 dataframes together, with sub method.\n",
    "sub method is similar to add method."
   ],
   "metadata": {
    "collapsed": false
   },
   "id": "162670f9edaa1544"
  },
  {
   "cell_type": "code",
   "outputs": [
    {
     "data": {
      "text/plain": "                  Bronze  Gold  Silver  bronze\nAthlete                                       \nGREVERS, Matt        NaN  -2.0    -1.0     0.0\nHACKETT, Grant       0.0   1.0     2.0     NaN\nKITAJIMA, Kosuke     1.0   0.0     0.0    -1.0\nLOCHTE, Ryan         NaN  -2.0     0.0    -2.0\nPEIRSOL, Aaron       0.0   1.0    -1.0     0.0\nPHELPS, Michael      2.0  -2.0     0.0     0.0\nTHORPE, Ian          1.0   2.0     1.0     NaN",
      "text/html": "<div>\n<style scoped>\n    .dataframe tbody tr th:only-of-type {\n        vertical-align: middle;\n    }\n\n    .dataframe tbody tr th {\n        vertical-align: top;\n    }\n\n    .dataframe thead th {\n        text-align: right;\n    }\n</style>\n<table border=\"1\" class=\"dataframe\">\n  <thead>\n    <tr style=\"text-align: right;\">\n      <th></th>\n      <th>Bronze</th>\n      <th>Gold</th>\n      <th>Silver</th>\n      <th>bronze</th>\n    </tr>\n    <tr>\n      <th>Athlete</th>\n      <th></th>\n      <th></th>\n      <th></th>\n      <th></th>\n    </tr>\n  </thead>\n  <tbody>\n    <tr>\n      <th>GREVERS, Matt</th>\n      <td>NaN</td>\n      <td>-2.0</td>\n      <td>-1.0</td>\n      <td>0.0</td>\n    </tr>\n    <tr>\n      <th>HACKETT, Grant</th>\n      <td>0.0</td>\n      <td>1.0</td>\n      <td>2.0</td>\n      <td>NaN</td>\n    </tr>\n    <tr>\n      <th>KITAJIMA, Kosuke</th>\n      <td>1.0</td>\n      <td>0.0</td>\n      <td>0.0</td>\n      <td>-1.0</td>\n    </tr>\n    <tr>\n      <th>LOCHTE, Ryan</th>\n      <td>NaN</td>\n      <td>-2.0</td>\n      <td>0.0</td>\n      <td>-2.0</td>\n    </tr>\n    <tr>\n      <th>PEIRSOL, Aaron</th>\n      <td>0.0</td>\n      <td>1.0</td>\n      <td>-1.0</td>\n      <td>0.0</td>\n    </tr>\n    <tr>\n      <th>PHELPS, Michael</th>\n      <td>2.0</td>\n      <td>-2.0</td>\n      <td>0.0</td>\n      <td>0.0</td>\n    </tr>\n    <tr>\n      <th>THORPE, Ian</th>\n      <td>1.0</td>\n      <td>2.0</td>\n      <td>1.0</td>\n      <td>NaN</td>\n    </tr>\n  </tbody>\n</table>\n</div>"
     },
     "execution_count": 14,
     "metadata": {},
     "output_type": "execute_result"
    }
   ],
   "source": [
    "topfive_2004.sub(topfive_2008, fill_value=0, axis=0)"
   ],
   "metadata": {
    "collapsed": false,
    "ExecuteTime": {
     "end_time": "2024-03-18T20:11:48.583568500Z",
     "start_time": "2024-03-18T20:11:48.531203Z"
    }
   },
   "id": "8e75660fb3aa38dc",
   "execution_count": 14
  },
  {
   "cell_type": "code",
   "outputs": [],
   "source": [],
   "metadata": {
    "collapsed": false
   },
   "id": "a90acc45da71c2ad"
  }
 ],
 "metadata": {
  "kernelspec": {
   "display_name": "Python 3",
   "language": "python",
   "name": "python3"
  },
  "language_info": {
   "codemirror_mode": {
    "name": "ipython",
    "version": 2
   },
   "file_extension": ".py",
   "mimetype": "text/x-python",
   "name": "python",
   "nbconvert_exporter": "python",
   "pygments_lexer": "ipython2",
   "version": "2.7.6"
  }
 },
 "nbformat": 4,
 "nbformat_minor": 5
}
