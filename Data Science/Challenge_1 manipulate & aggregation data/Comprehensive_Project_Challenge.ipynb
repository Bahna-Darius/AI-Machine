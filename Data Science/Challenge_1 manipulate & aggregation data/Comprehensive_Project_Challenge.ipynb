{
 "cells": [
  {
   "cell_type": "markdown",
   "metadata": {},
   "source": [
    "# Comprehensive Project Challenge"
   ]
  },
  {
   "cell_type": "markdown",
   "metadata": {},
   "source": [
    "## Summer Olympic Games, Medal Tables 1896-2012"
   ]
  },
  {
   "cell_type": "markdown",
   "metadata": {},
   "source": [
    " "
   ]
  },
  {
   "cell_type": "markdown",
   "metadata": {},
   "source": [
    "### Welcome to the final coding challenge!"
   ]
  },
  {
   "cell_type": "markdown",
   "metadata": {},
   "source": [
    "This challenge requires you to __apply__ and __combine__ many concepts and methods that you have learned in this course."
   ]
  },
  {
   "cell_type": "markdown",
   "metadata": {},
   "source": [
    "It is frequently used in job application processes / assessment centers in Data Science to check the candidates´ abilities to work with, manipulate and aggregate data. Also experienced Data Scientists have difficulties to solve the problem. And the reason for this is not that the challenge is coding-wise extremely complex. But it requires a combination of <br>\n",
    "- __solid coding skills__, <br><br>\n",
    "and, even more important <br><br>\n",
    "   \n",
    "- the ability to __interpret__ and __understand__ the __underlying data__ and to __incorporate inputs__ from subject matter __experts__ (in this case Sports experts) <br> <br>\n",
    "__\"Thinking in Data Structures!\"__ -> requires some practise but also some talent. "
   ]
  },
  {
   "cell_type": "markdown",
   "metadata": {},
   "source": [
    "### The Case"
   ]
  },
  {
   "cell_type": "markdown",
   "metadata": {},
   "source": [
    "It´s your first day in a Data Science advisory firm and your boss asks you to produce the __official Summer Olympic Games Medal Tables for all Editions from 1896 to 2012__. <br><br>\n",
    "All you can use is a dataset with raw data containing over 31,000 medals (__summer.csv__) and the official Medal Tables for the Editions 1996 and 1976 from Wikipedia. (__wik_1996.csv__, __wik_1976.csv__). Use the two official Medal Tables as a __reference__ to check whether your code produces the correct output! <br><br>\n",
    "Your goal is to __minimize the divergence__ between your aggregated Medal Tables and the official Medal Tables. Let´s assume that the official number of Gold Medals for the United States in the Edition 1996 is 44 and your code produces 46. This is an absolute divergence of 2. <br> <br>\n",
    "__Calculate the total absolute divergence for the Editions 1996 and 1976 (the \"Score\")!__ The __optimal Score is 0__! "
   ]
  },
  {
   "cell_type": "markdown",
   "metadata": {},
   "source": [
    "### Naive approach"
   ]
  },
  {
   "cell_type": "code",
   "execution_count": 149,
   "metadata": {
    "ExecuteTime": {
     "end_time": "2024-04-26T15:43:57.138079800Z",
     "start_time": "2024-04-26T15:43:57.103976Z"
    }
   },
   "outputs": [],
   "source": [
    "import pandas as pd\n",
    "import numpy as np"
   ]
  },
  {
   "cell_type": "code",
   "execution_count": 2,
   "metadata": {
    "ExecuteTime": {
     "end_time": "2024-04-26T10:48:00.807305300Z",
     "start_time": "2024-04-26T10:48:00.733477700Z"
    }
   },
   "outputs": [],
   "source": [
    "summer = pd.read_csv(\"../summer.csv\")"
   ]
  },
  {
   "cell_type": "code",
   "execution_count": 3,
   "metadata": {
    "ExecuteTime": {
     "end_time": "2024-04-26T10:48:01.657248Z",
     "start_time": "2024-04-26T10:48:01.641037900Z"
    }
   },
   "outputs": [],
   "source": [
    "summer76 = summer.loc[summer.Year == 1976]"
   ]
  },
  {
   "cell_type": "code",
   "execution_count": 4,
   "metadata": {
    "ExecuteTime": {
     "end_time": "2024-04-26T10:48:03.739719800Z",
     "start_time": "2024-04-26T10:48:03.713771600Z"
    }
   },
   "outputs": [
    {
     "data": {
      "text/plain": "       Year      City     Sport Discipline                 Athlete Country  \\\n13900  1976  Montreal  Aquatics     Diving       ALEINIK, Vladimir     URS   \n13901  1976  Montreal  Aquatics     Diving          DIBIASI, Klaus     ITA   \n13902  1976  Montreal  Aquatics     Diving       LOUGANIS, Gregory     USA   \n13903  1976  Montreal  Aquatics     Diving  WILSON, Deborah Keplar     USA   \n13904  1976  Montreal  Aquatics     Diving  VAYTSEKHOVSKAYA, Elena     URS   \n\n      Gender         Event   Medal  \n13900    Men  10M Platform  Bronze  \n13901    Men  10M Platform    Gold  \n13902    Men  10M Platform  Silver  \n13903  Women  10M Platform  Bronze  \n13904  Women  10M Platform    Gold  ",
      "text/html": "<div>\n<style scoped>\n    .dataframe tbody tr th:only-of-type {\n        vertical-align: middle;\n    }\n\n    .dataframe tbody tr th {\n        vertical-align: top;\n    }\n\n    .dataframe thead th {\n        text-align: right;\n    }\n</style>\n<table border=\"1\" class=\"dataframe\">\n  <thead>\n    <tr style=\"text-align: right;\">\n      <th></th>\n      <th>Year</th>\n      <th>City</th>\n      <th>Sport</th>\n      <th>Discipline</th>\n      <th>Athlete</th>\n      <th>Country</th>\n      <th>Gender</th>\n      <th>Event</th>\n      <th>Medal</th>\n    </tr>\n  </thead>\n  <tbody>\n    <tr>\n      <th>13900</th>\n      <td>1976</td>\n      <td>Montreal</td>\n      <td>Aquatics</td>\n      <td>Diving</td>\n      <td>ALEINIK, Vladimir</td>\n      <td>URS</td>\n      <td>Men</td>\n      <td>10M Platform</td>\n      <td>Bronze</td>\n    </tr>\n    <tr>\n      <th>13901</th>\n      <td>1976</td>\n      <td>Montreal</td>\n      <td>Aquatics</td>\n      <td>Diving</td>\n      <td>DIBIASI, Klaus</td>\n      <td>ITA</td>\n      <td>Men</td>\n      <td>10M Platform</td>\n      <td>Gold</td>\n    </tr>\n    <tr>\n      <th>13902</th>\n      <td>1976</td>\n      <td>Montreal</td>\n      <td>Aquatics</td>\n      <td>Diving</td>\n      <td>LOUGANIS, Gregory</td>\n      <td>USA</td>\n      <td>Men</td>\n      <td>10M Platform</td>\n      <td>Silver</td>\n    </tr>\n    <tr>\n      <th>13903</th>\n      <td>1976</td>\n      <td>Montreal</td>\n      <td>Aquatics</td>\n      <td>Diving</td>\n      <td>WILSON, Deborah Keplar</td>\n      <td>USA</td>\n      <td>Women</td>\n      <td>10M Platform</td>\n      <td>Bronze</td>\n    </tr>\n    <tr>\n      <th>13904</th>\n      <td>1976</td>\n      <td>Montreal</td>\n      <td>Aquatics</td>\n      <td>Diving</td>\n      <td>VAYTSEKHOVSKAYA, Elena</td>\n      <td>URS</td>\n      <td>Women</td>\n      <td>10M Platform</td>\n      <td>Gold</td>\n    </tr>\n  </tbody>\n</table>\n</div>"
     },
     "execution_count": 4,
     "metadata": {},
     "output_type": "execute_result"
    }
   ],
   "source": [
    "summer76.head()"
   ]
  },
  {
   "cell_type": "code",
   "execution_count": 12,
   "metadata": {
    "scrolled": true,
    "ExecuteTime": {
     "end_time": "2024-04-26T11:05:42.864440400Z",
     "start_time": "2024-04-26T11:05:42.839945100Z"
    }
   },
   "outputs": [
    {
     "data": {
      "text/plain": "Medal    Bronze  Gold  Silver\nCountry                      \nAUS           8     0      16\nAUT           1     0       0\nBEL           6     0       3\nBER           1     0       0\nBRA           3     0       0",
      "text/html": "<div>\n<style scoped>\n    .dataframe tbody tr th:only-of-type {\n        vertical-align: middle;\n    }\n\n    .dataframe tbody tr th {\n        vertical-align: top;\n    }\n\n    .dataframe thead th {\n        text-align: right;\n    }\n</style>\n<table border=\"1\" class=\"dataframe\">\n  <thead>\n    <tr style=\"text-align: right;\">\n      <th>Medal</th>\n      <th>Bronze</th>\n      <th>Gold</th>\n      <th>Silver</th>\n    </tr>\n    <tr>\n      <th>Country</th>\n      <th></th>\n      <th></th>\n      <th></th>\n    </tr>\n  </thead>\n  <tbody>\n    <tr>\n      <th>AUS</th>\n      <td>8</td>\n      <td>0</td>\n      <td>16</td>\n    </tr>\n    <tr>\n      <th>AUT</th>\n      <td>1</td>\n      <td>0</td>\n      <td>0</td>\n    </tr>\n    <tr>\n      <th>BEL</th>\n      <td>6</td>\n      <td>0</td>\n      <td>3</td>\n    </tr>\n    <tr>\n      <th>BER</th>\n      <td>1</td>\n      <td>0</td>\n      <td>0</td>\n    </tr>\n    <tr>\n      <th>BRA</th>\n      <td>3</td>\n      <td>0</td>\n      <td>0</td>\n    </tr>\n  </tbody>\n</table>\n</div>"
     },
     "execution_count": 12,
     "metadata": {},
     "output_type": "execute_result"
    }
   ],
   "source": [
    "mt76 = summer76.groupby([\"Country\", \"Medal\"]).Medal.count().unstack(fill_value = 0)\n",
    "mt76.head()"
   ]
  },
  {
   "cell_type": "code",
   "execution_count": 6,
   "metadata": {
    "ExecuteTime": {
     "end_time": "2024-04-26T10:48:05.212311700Z",
     "start_time": "2024-04-26T10:48:05.199373100Z"
    }
   },
   "outputs": [
    {
     "data": {
      "text/plain": "Medal    Gold  Silver  Bronze\nCountry                      \nURS       113      93      79\nGDR        99      51      42\nUSA        63      56      36\nJPN        25       6      10\nFRG        21      24      30\nPOL        18      29      26\nNZL        17       1       9\nHUN        14       6      35\nSWE         9       1       0\nBUL         8      13      18",
      "text/html": "<div>\n<style scoped>\n    .dataframe tbody tr th:only-of-type {\n        vertical-align: middle;\n    }\n\n    .dataframe tbody tr th {\n        vertical-align: top;\n    }\n\n    .dataframe thead th {\n        text-align: right;\n    }\n</style>\n<table border=\"1\" class=\"dataframe\">\n  <thead>\n    <tr style=\"text-align: right;\">\n      <th>Medal</th>\n      <th>Gold</th>\n      <th>Silver</th>\n      <th>Bronze</th>\n    </tr>\n    <tr>\n      <th>Country</th>\n      <th></th>\n      <th></th>\n      <th></th>\n    </tr>\n  </thead>\n  <tbody>\n    <tr>\n      <th>URS</th>\n      <td>113</td>\n      <td>93</td>\n      <td>79</td>\n    </tr>\n    <tr>\n      <th>GDR</th>\n      <td>99</td>\n      <td>51</td>\n      <td>42</td>\n    </tr>\n    <tr>\n      <th>USA</th>\n      <td>63</td>\n      <td>56</td>\n      <td>36</td>\n    </tr>\n    <tr>\n      <th>JPN</th>\n      <td>25</td>\n      <td>6</td>\n      <td>10</td>\n    </tr>\n    <tr>\n      <th>FRG</th>\n      <td>21</td>\n      <td>24</td>\n      <td>30</td>\n    </tr>\n    <tr>\n      <th>POL</th>\n      <td>18</td>\n      <td>29</td>\n      <td>26</td>\n    </tr>\n    <tr>\n      <th>NZL</th>\n      <td>17</td>\n      <td>1</td>\n      <td>9</td>\n    </tr>\n    <tr>\n      <th>HUN</th>\n      <td>14</td>\n      <td>6</td>\n      <td>35</td>\n    </tr>\n    <tr>\n      <th>SWE</th>\n      <td>9</td>\n      <td>1</td>\n      <td>0</td>\n    </tr>\n    <tr>\n      <th>BUL</th>\n      <td>8</td>\n      <td>13</td>\n      <td>18</td>\n    </tr>\n  </tbody>\n</table>\n</div>"
     },
     "execution_count": 6,
     "metadata": {},
     "output_type": "execute_result"
    }
   ],
   "source": [
    "mt76 = mt76.sort_values([\"Gold\", \"Silver\", \"Bronze\"], ascending = False)[[\"Gold\", \"Silver\", \"Bronze\"]]  # sort the columns\n",
    "mt76.head(10)"
   ]
  },
  {
   "cell_type": "code",
   "execution_count": 8,
   "metadata": {
    "scrolled": true,
    "ExecuteTime": {
     "end_time": "2024-04-26T10:48:10.377041Z",
     "start_time": "2024-04-26T10:48:10.332061900Z"
    }
   },
   "outputs": [
    {
     "data": {
      "text/plain": "                Rank                        NOC  Gold  Silver  Bronze  Total\n0                  1         Soviet Union (URS)    49      41      35    125\n1                  2         East Germany (GDR)    40      25      25     90\n2                  3        United States (USA)    34      35      25     94\n3                  4         West Germany (FRG)    10      12      17     39\n4                  5                Japan (JPN)     9       6      10     25\n5                  6               Poland (POL)     7       6      13     26\n6                  7             Bulgaria (BUL)     6       9       7     22\n7                  8                 Cuba (CUB)     6       4       3     13\n8                  9              Romania (ROU)     4       9      14     27\n9                 10              Hungary (HUN)     4       5      13     22\n10                11              Finland (FIN)     4       2       0      6\n11                12               Sweden (SWE)     4       1       0      5\n12                13        Great Britain (GBR)     3       5       5     13\n13                14                Italy (ITA)     2       7       4     13\n14                15               France (FRA)     2       3       4      9\n15                16           Yugoslavia (YUG)     2       3       3      8\n16                17       Czechoslovakia (TCH)     2       2       4      8\n17                18          New Zealand (NZL)     2       1       1      4\n18                19          South Korea (KOR)     1       1       4      6\n19                20          Switzerland (SUI)     1       1       2      4\n20                21              Jamaica (JAM)     1       1       0      2\n21                21          North Korea (PRK)     1       1       0      2\n22                21               Norway (NOR)     1       1       0      2\n23                24              Denmark (DEN)     1       0       2      3\n24                25               Mexico (MEX)     1       0       1      2\n25                26  Trinidad and Tobago (TRI)     1       0       0      1\n26                27              Canada (CAN)*     0       5       6     11\n27                28              Belgium (BEL)     0       3       3      6\n28                29          Netherlands (NED)     0       2       3      5\n29                30             Portugal (POR)     0       2       0      2\n30                30                Spain (ESP)     0       2       0      2\n31                32            Australia (AUS)     0       1       4      5\n32                33                 Iran (IRI)     0       1       1      2\n33                34             Mongolia (MGL)     0       1       0      1\n34                34            Venezuela (VEN)     0       1       0      1\n35                36               Brazil (BRA)     0       0       2      2\n36                37              Austria (AUT)     0       0       1      1\n37                37              Bermuda (BER)     0       0       1      1\n38                37             Pakistan (PAK)     0       0       1      1\n39                37          Puerto Rico (PUR)     0       0       1      1\n40                37             Thailand (THA)     0       0       1      1\n41  Totals (41 NOCs)           Totals (41 NOCs)   198     199     216    613",
      "text/html": "<div>\n<style scoped>\n    .dataframe tbody tr th:only-of-type {\n        vertical-align: middle;\n    }\n\n    .dataframe tbody tr th {\n        vertical-align: top;\n    }\n\n    .dataframe thead th {\n        text-align: right;\n    }\n</style>\n<table border=\"1\" class=\"dataframe\">\n  <thead>\n    <tr style=\"text-align: right;\">\n      <th></th>\n      <th>Rank</th>\n      <th>NOC</th>\n      <th>Gold</th>\n      <th>Silver</th>\n      <th>Bronze</th>\n      <th>Total</th>\n    </tr>\n  </thead>\n  <tbody>\n    <tr>\n      <th>0</th>\n      <td>1</td>\n      <td>Soviet Union (URS)</td>\n      <td>49</td>\n      <td>41</td>\n      <td>35</td>\n      <td>125</td>\n    </tr>\n    <tr>\n      <th>1</th>\n      <td>2</td>\n      <td>East Germany (GDR)</td>\n      <td>40</td>\n      <td>25</td>\n      <td>25</td>\n      <td>90</td>\n    </tr>\n    <tr>\n      <th>2</th>\n      <td>3</td>\n      <td>United States (USA)</td>\n      <td>34</td>\n      <td>35</td>\n      <td>25</td>\n      <td>94</td>\n    </tr>\n    <tr>\n      <th>3</th>\n      <td>4</td>\n      <td>West Germany (FRG)</td>\n      <td>10</td>\n      <td>12</td>\n      <td>17</td>\n      <td>39</td>\n    </tr>\n    <tr>\n      <th>4</th>\n      <td>5</td>\n      <td>Japan (JPN)</td>\n      <td>9</td>\n      <td>6</td>\n      <td>10</td>\n      <td>25</td>\n    </tr>\n    <tr>\n      <th>5</th>\n      <td>6</td>\n      <td>Poland (POL)</td>\n      <td>7</td>\n      <td>6</td>\n      <td>13</td>\n      <td>26</td>\n    </tr>\n    <tr>\n      <th>6</th>\n      <td>7</td>\n      <td>Bulgaria (BUL)</td>\n      <td>6</td>\n      <td>9</td>\n      <td>7</td>\n      <td>22</td>\n    </tr>\n    <tr>\n      <th>7</th>\n      <td>8</td>\n      <td>Cuba (CUB)</td>\n      <td>6</td>\n      <td>4</td>\n      <td>3</td>\n      <td>13</td>\n    </tr>\n    <tr>\n      <th>8</th>\n      <td>9</td>\n      <td>Romania (ROU)</td>\n      <td>4</td>\n      <td>9</td>\n      <td>14</td>\n      <td>27</td>\n    </tr>\n    <tr>\n      <th>9</th>\n      <td>10</td>\n      <td>Hungary (HUN)</td>\n      <td>4</td>\n      <td>5</td>\n      <td>13</td>\n      <td>22</td>\n    </tr>\n    <tr>\n      <th>10</th>\n      <td>11</td>\n      <td>Finland (FIN)</td>\n      <td>4</td>\n      <td>2</td>\n      <td>0</td>\n      <td>6</td>\n    </tr>\n    <tr>\n      <th>11</th>\n      <td>12</td>\n      <td>Sweden (SWE)</td>\n      <td>4</td>\n      <td>1</td>\n      <td>0</td>\n      <td>5</td>\n    </tr>\n    <tr>\n      <th>12</th>\n      <td>13</td>\n      <td>Great Britain (GBR)</td>\n      <td>3</td>\n      <td>5</td>\n      <td>5</td>\n      <td>13</td>\n    </tr>\n    <tr>\n      <th>13</th>\n      <td>14</td>\n      <td>Italy (ITA)</td>\n      <td>2</td>\n      <td>7</td>\n      <td>4</td>\n      <td>13</td>\n    </tr>\n    <tr>\n      <th>14</th>\n      <td>15</td>\n      <td>France (FRA)</td>\n      <td>2</td>\n      <td>3</td>\n      <td>4</td>\n      <td>9</td>\n    </tr>\n    <tr>\n      <th>15</th>\n      <td>16</td>\n      <td>Yugoslavia (YUG)</td>\n      <td>2</td>\n      <td>3</td>\n      <td>3</td>\n      <td>8</td>\n    </tr>\n    <tr>\n      <th>16</th>\n      <td>17</td>\n      <td>Czechoslovakia (TCH)</td>\n      <td>2</td>\n      <td>2</td>\n      <td>4</td>\n      <td>8</td>\n    </tr>\n    <tr>\n      <th>17</th>\n      <td>18</td>\n      <td>New Zealand (NZL)</td>\n      <td>2</td>\n      <td>1</td>\n      <td>1</td>\n      <td>4</td>\n    </tr>\n    <tr>\n      <th>18</th>\n      <td>19</td>\n      <td>South Korea (KOR)</td>\n      <td>1</td>\n      <td>1</td>\n      <td>4</td>\n      <td>6</td>\n    </tr>\n    <tr>\n      <th>19</th>\n      <td>20</td>\n      <td>Switzerland (SUI)</td>\n      <td>1</td>\n      <td>1</td>\n      <td>2</td>\n      <td>4</td>\n    </tr>\n    <tr>\n      <th>20</th>\n      <td>21</td>\n      <td>Jamaica (JAM)</td>\n      <td>1</td>\n      <td>1</td>\n      <td>0</td>\n      <td>2</td>\n    </tr>\n    <tr>\n      <th>21</th>\n      <td>21</td>\n      <td>North Korea (PRK)</td>\n      <td>1</td>\n      <td>1</td>\n      <td>0</td>\n      <td>2</td>\n    </tr>\n    <tr>\n      <th>22</th>\n      <td>21</td>\n      <td>Norway (NOR)</td>\n      <td>1</td>\n      <td>1</td>\n      <td>0</td>\n      <td>2</td>\n    </tr>\n    <tr>\n      <th>23</th>\n      <td>24</td>\n      <td>Denmark (DEN)</td>\n      <td>1</td>\n      <td>0</td>\n      <td>2</td>\n      <td>3</td>\n    </tr>\n    <tr>\n      <th>24</th>\n      <td>25</td>\n      <td>Mexico (MEX)</td>\n      <td>1</td>\n      <td>0</td>\n      <td>1</td>\n      <td>2</td>\n    </tr>\n    <tr>\n      <th>25</th>\n      <td>26</td>\n      <td>Trinidad and Tobago (TRI)</td>\n      <td>1</td>\n      <td>0</td>\n      <td>0</td>\n      <td>1</td>\n    </tr>\n    <tr>\n      <th>26</th>\n      <td>27</td>\n      <td>Canada (CAN)*</td>\n      <td>0</td>\n      <td>5</td>\n      <td>6</td>\n      <td>11</td>\n    </tr>\n    <tr>\n      <th>27</th>\n      <td>28</td>\n      <td>Belgium (BEL)</td>\n      <td>0</td>\n      <td>3</td>\n      <td>3</td>\n      <td>6</td>\n    </tr>\n    <tr>\n      <th>28</th>\n      <td>29</td>\n      <td>Netherlands (NED)</td>\n      <td>0</td>\n      <td>2</td>\n      <td>3</td>\n      <td>5</td>\n    </tr>\n    <tr>\n      <th>29</th>\n      <td>30</td>\n      <td>Portugal (POR)</td>\n      <td>0</td>\n      <td>2</td>\n      <td>0</td>\n      <td>2</td>\n    </tr>\n    <tr>\n      <th>30</th>\n      <td>30</td>\n      <td>Spain (ESP)</td>\n      <td>0</td>\n      <td>2</td>\n      <td>0</td>\n      <td>2</td>\n    </tr>\n    <tr>\n      <th>31</th>\n      <td>32</td>\n      <td>Australia (AUS)</td>\n      <td>0</td>\n      <td>1</td>\n      <td>4</td>\n      <td>5</td>\n    </tr>\n    <tr>\n      <th>32</th>\n      <td>33</td>\n      <td>Iran (IRI)</td>\n      <td>0</td>\n      <td>1</td>\n      <td>1</td>\n      <td>2</td>\n    </tr>\n    <tr>\n      <th>33</th>\n      <td>34</td>\n      <td>Mongolia (MGL)</td>\n      <td>0</td>\n      <td>1</td>\n      <td>0</td>\n      <td>1</td>\n    </tr>\n    <tr>\n      <th>34</th>\n      <td>34</td>\n      <td>Venezuela (VEN)</td>\n      <td>0</td>\n      <td>1</td>\n      <td>0</td>\n      <td>1</td>\n    </tr>\n    <tr>\n      <th>35</th>\n      <td>36</td>\n      <td>Brazil (BRA)</td>\n      <td>0</td>\n      <td>0</td>\n      <td>2</td>\n      <td>2</td>\n    </tr>\n    <tr>\n      <th>36</th>\n      <td>37</td>\n      <td>Austria (AUT)</td>\n      <td>0</td>\n      <td>0</td>\n      <td>1</td>\n      <td>1</td>\n    </tr>\n    <tr>\n      <th>37</th>\n      <td>37</td>\n      <td>Bermuda (BER)</td>\n      <td>0</td>\n      <td>0</td>\n      <td>1</td>\n      <td>1</td>\n    </tr>\n    <tr>\n      <th>38</th>\n      <td>37</td>\n      <td>Pakistan (PAK)</td>\n      <td>0</td>\n      <td>0</td>\n      <td>1</td>\n      <td>1</td>\n    </tr>\n    <tr>\n      <th>39</th>\n      <td>37</td>\n      <td>Puerto Rico (PUR)</td>\n      <td>0</td>\n      <td>0</td>\n      <td>1</td>\n      <td>1</td>\n    </tr>\n    <tr>\n      <th>40</th>\n      <td>37</td>\n      <td>Thailand (THA)</td>\n      <td>0</td>\n      <td>0</td>\n      <td>1</td>\n      <td>1</td>\n    </tr>\n    <tr>\n      <th>41</th>\n      <td>Totals (41 NOCs)</td>\n      <td>Totals (41 NOCs)</td>\n      <td>198</td>\n      <td>199</td>\n      <td>216</td>\n      <td>613</td>\n    </tr>\n  </tbody>\n</table>\n</div>"
     },
     "execution_count": 8,
     "metadata": {},
     "output_type": "execute_result"
    }
   ],
   "source": [
    "pd.read_csv(\"../wik_1976.csv\")"
   ]
  },
  {
   "cell_type": "markdown",
   "metadata": {},
   "source": [
    "-> __Far away from the target!!!__"
   ]
  },
  {
   "cell_type": "markdown",
   "metadata": {},
   "source": [
    "#### Fortunately, you could manage to get some useful information from Sports experts: <br>\n",
    "\n",
    "Medals awarded in __Team Events__ (one medal for each member of the team) only count as __one Medal__. For example, the Basketball Team of the United States won the Gold Medal in the Edition 2012. In total __12 Basketball Athletes__ from the United States were awarded with a Gold Medal. For the official Medal Table 2012, this only counts as __one Gold Medal__ for the United States!<br> <br>\n",
    "All Events with __5 or less than 5 medals__ shall be deemed __Singles Events__. All Events with __more than 5 medals__ shall be deemed __Team Events__. It frequently happens that 2 or 3 Athletes share the Bronze medal. Therefore, in total 4 or 5 medals are awarded in these Singles Events. All of these medals count for the official Medal Table! It also happens in Team Events that two Teams share the Bronze medal. Also in this case, in total 4 medals count for the official Medal Table (1 Gold, 1 Silver, 2 Bronze).\n",
    "<br><br>\n",
    "To identify all unique Events, the __Event Gender matters__! There are __Men__ Events, __Women__ Events and __Mixed__ Events. Assume that the following medals have been awarded in __Mixed Events__:\n",
    "- the Event is marked with \"__mixed__\" or \"__pairs__\"\n",
    "- all \"__Equestrian__\" Events\n",
    "- all \"__Sailing__\" Events __before 1988__ (until and including 1984)\n",
    "- the following medals (index labels) were awarded in __Badminton mixed Double Events__: [21773, 21782, 21776, 21785, 21770, 21779, 23703, 23712, 23706, 23715, 23709, 23700, 25720, 25729, 25723, 25732, 25726, 25717, 27727, 27736, 27730, 27739, 27724, 27733, 29784, 29785, 29786, 29787, 29788, 29789]"
   ]
  },
  {
   "cell_type": "markdown",
   "metadata": {},
   "source": [
    "## Now it´s your turn to get the official Medal Tables 1896-2012!"
   ]
  },
  {
   "cell_type": "markdown",
   "metadata": {},
   "source": [
    "# STOP HERE, IF YOU WANT TO DO THE CHALLENGE ON YOUR OWN!"
   ]
  },
  {
   "cell_type": "markdown",
   "metadata": {},
   "source": [
    "++++++++++++++++++++++++++++++++++++++++++++++++++++++++++++++++++++++++++++++++++++++++++++++++++++++++++"
   ]
  },
  {
   "cell_type": "markdown",
   "metadata": {},
   "source": [
    "## Some Guidance and Hints"
   ]
  },
  {
   "cell_type": "markdown",
   "metadata": {},
   "source": [
    "### Step 1: Getting Started"
   ]
  },
  {
   "cell_type": "markdown",
   "metadata": {},
   "source": [
    "Inspect the three datasets and align wik_1996 and wik_1976 to the summer dataset! You will need this later when comparing your results with the official Medal Tables! "
   ]
  },
  {
   "cell_type": "code",
   "outputs": [],
   "source": [
    "summer = pd.read_csv('../summer.csv')\n",
    "wik_1996 = pd.read_csv('../wik_1996.csv')\n",
    "wik_1976 = pd.read_csv('../wik_1976.csv')"
   ],
   "metadata": {
    "collapsed": false,
    "ExecuteTime": {
     "end_time": "2024-04-26T12:04:57.016909300Z",
     "start_time": "2024-04-26T12:04:56.963864100Z"
    }
   },
   "execution_count": 13
  },
  {
   "cell_type": "code",
   "outputs": [
    {
     "data": {
      "text/plain": "       Year    City          Sport           Discipline          Athlete  \\\n29603  2012  London      Athletics            Athletics          Pending   \n31072  2012  London  Weightlifting        Weightlifting          Pending   \n31091  2012  London  Weightlifting        Weightlifting          Pending   \n31110  2012  London      Wrestling  Wrestling Freestyle  KUDUKHOV, Besik   \n\n      Country Gender     Event   Medal Event_Gender  \n29603     NaN  Women     1500M    Gold        Women  \n31072     NaN  Women      63KG    Gold        Women  \n31091     NaN    Men      94KG  Silver          Men  \n31110     NaN    Men  Wf 60 KG  Silver          Men  ",
      "text/html": "<div>\n<style scoped>\n    .dataframe tbody tr th:only-of-type {\n        vertical-align: middle;\n    }\n\n    .dataframe tbody tr th {\n        vertical-align: top;\n    }\n\n    .dataframe thead th {\n        text-align: right;\n    }\n</style>\n<table border=\"1\" class=\"dataframe\">\n  <thead>\n    <tr style=\"text-align: right;\">\n      <th></th>\n      <th>Year</th>\n      <th>City</th>\n      <th>Sport</th>\n      <th>Discipline</th>\n      <th>Athlete</th>\n      <th>Country</th>\n      <th>Gender</th>\n      <th>Event</th>\n      <th>Medal</th>\n      <th>Event_Gender</th>\n    </tr>\n  </thead>\n  <tbody>\n    <tr>\n      <th>29603</th>\n      <td>2012</td>\n      <td>London</td>\n      <td>Athletics</td>\n      <td>Athletics</td>\n      <td>Pending</td>\n      <td>NaN</td>\n      <td>Women</td>\n      <td>1500M</td>\n      <td>Gold</td>\n      <td>Women</td>\n    </tr>\n    <tr>\n      <th>31072</th>\n      <td>2012</td>\n      <td>London</td>\n      <td>Weightlifting</td>\n      <td>Weightlifting</td>\n      <td>Pending</td>\n      <td>NaN</td>\n      <td>Women</td>\n      <td>63KG</td>\n      <td>Gold</td>\n      <td>Women</td>\n    </tr>\n    <tr>\n      <th>31091</th>\n      <td>2012</td>\n      <td>London</td>\n      <td>Weightlifting</td>\n      <td>Weightlifting</td>\n      <td>Pending</td>\n      <td>NaN</td>\n      <td>Men</td>\n      <td>94KG</td>\n      <td>Silver</td>\n      <td>Men</td>\n    </tr>\n    <tr>\n      <th>31110</th>\n      <td>2012</td>\n      <td>London</td>\n      <td>Wrestling</td>\n      <td>Wrestling Freestyle</td>\n      <td>KUDUKHOV, Besik</td>\n      <td>NaN</td>\n      <td>Men</td>\n      <td>Wf 60 KG</td>\n      <td>Silver</td>\n      <td>Men</td>\n    </tr>\n  </tbody>\n</table>\n</div>"
     },
     "execution_count": 96,
     "metadata": {},
     "output_type": "execute_result"
    }
   ],
   "source": [
    "summer[summer.isna().any(axis=1)]   # find missing values"
   ],
   "metadata": {
    "collapsed": false,
    "ExecuteTime": {
     "end_time": "2024-04-26T13:01:45.870524100Z",
     "start_time": "2024-04-26T13:01:45.828341400Z"
    }
   },
   "execution_count": 96
  },
  {
   "cell_type": "code",
   "outputs": [],
   "source": [
    "summer.dropna(inplace=True)     # delete missing values"
   ],
   "metadata": {
    "collapsed": false,
    "ExecuteTime": {
     "end_time": "2024-04-26T13:02:11.901476800Z",
     "start_time": "2024-04-26T13:02:11.877107800Z"
    }
   },
   "execution_count": 98
  },
  {
   "cell_type": "markdown",
   "source": [
    "Now we will compare summer with wik_1996 and wik_1976. We will check the amount of medals for each country in each dataset."
   ],
   "metadata": {
    "collapsed": false
   }
  },
  {
   "cell_type": "code",
   "outputs": [
    {
     "data": {
      "text/plain": "                Rank                        NOC  Gold  Silver  Bronze  Total\n0                  1         Soviet Union (URS)    49      41      35    125\n1                  2         East Germany (GDR)    40      25      25     90\n2                  3        United States (USA)    34      35      25     94\n3                  4         West Germany (FRG)    10      12      17     39\n4                  5                Japan (JPN)     9       6      10     25\n5                  6               Poland (POL)     7       6      13     26\n6                  7             Bulgaria (BUL)     6       9       7     22\n7                  8                 Cuba (CUB)     6       4       3     13\n8                  9              Romania (ROU)     4       9      14     27\n9                 10              Hungary (HUN)     4       5      13     22\n10                11              Finland (FIN)     4       2       0      6\n11                12               Sweden (SWE)     4       1       0      5\n12                13        Great Britain (GBR)     3       5       5     13\n13                14                Italy (ITA)     2       7       4     13\n14                15               France (FRA)     2       3       4      9\n15                16           Yugoslavia (YUG)     2       3       3      8\n16                17       Czechoslovakia (TCH)     2       2       4      8\n17                18          New Zealand (NZL)     2       1       1      4\n18                19          South Korea (KOR)     1       1       4      6\n19                20          Switzerland (SUI)     1       1       2      4\n20                21              Jamaica (JAM)     1       1       0      2\n21                21          North Korea (PRK)     1       1       0      2\n22                21               Norway (NOR)     1       1       0      2\n23                24              Denmark (DEN)     1       0       2      3\n24                25               Mexico (MEX)     1       0       1      2\n25                26  Trinidad and Tobago (TRI)     1       0       0      1\n26                27              Canada (CAN)*     0       5       6     11\n27                28              Belgium (BEL)     0       3       3      6\n28                29          Netherlands (NED)     0       2       3      5\n29                30             Portugal (POR)     0       2       0      2\n30                30                Spain (ESP)     0       2       0      2\n31                32            Australia (AUS)     0       1       4      5\n32                33                 Iran (IRI)     0       1       1      2\n33                34             Mongolia (MGL)     0       1       0      1\n34                34            Venezuela (VEN)     0       1       0      1\n35                36               Brazil (BRA)     0       0       2      2\n36                37              Austria (AUT)     0       0       1      1\n37                37              Bermuda (BER)     0       0       1      1\n38                37             Pakistan (PAK)     0       0       1      1\n39                37          Puerto Rico (PUR)     0       0       1      1\n40                37             Thailand (THA)     0       0       1      1\n41  Totals (41 NOCs)           Totals (41 NOCs)   198     199     216    613",
      "text/html": "<div>\n<style scoped>\n    .dataframe tbody tr th:only-of-type {\n        vertical-align: middle;\n    }\n\n    .dataframe tbody tr th {\n        vertical-align: top;\n    }\n\n    .dataframe thead th {\n        text-align: right;\n    }\n</style>\n<table border=\"1\" class=\"dataframe\">\n  <thead>\n    <tr style=\"text-align: right;\">\n      <th></th>\n      <th>Rank</th>\n      <th>NOC</th>\n      <th>Gold</th>\n      <th>Silver</th>\n      <th>Bronze</th>\n      <th>Total</th>\n    </tr>\n  </thead>\n  <tbody>\n    <tr>\n      <th>0</th>\n      <td>1</td>\n      <td>Soviet Union (URS)</td>\n      <td>49</td>\n      <td>41</td>\n      <td>35</td>\n      <td>125</td>\n    </tr>\n    <tr>\n      <th>1</th>\n      <td>2</td>\n      <td>East Germany (GDR)</td>\n      <td>40</td>\n      <td>25</td>\n      <td>25</td>\n      <td>90</td>\n    </tr>\n    <tr>\n      <th>2</th>\n      <td>3</td>\n      <td>United States (USA)</td>\n      <td>34</td>\n      <td>35</td>\n      <td>25</td>\n      <td>94</td>\n    </tr>\n    <tr>\n      <th>3</th>\n      <td>4</td>\n      <td>West Germany (FRG)</td>\n      <td>10</td>\n      <td>12</td>\n      <td>17</td>\n      <td>39</td>\n    </tr>\n    <tr>\n      <th>4</th>\n      <td>5</td>\n      <td>Japan (JPN)</td>\n      <td>9</td>\n      <td>6</td>\n      <td>10</td>\n      <td>25</td>\n    </tr>\n    <tr>\n      <th>5</th>\n      <td>6</td>\n      <td>Poland (POL)</td>\n      <td>7</td>\n      <td>6</td>\n      <td>13</td>\n      <td>26</td>\n    </tr>\n    <tr>\n      <th>6</th>\n      <td>7</td>\n      <td>Bulgaria (BUL)</td>\n      <td>6</td>\n      <td>9</td>\n      <td>7</td>\n      <td>22</td>\n    </tr>\n    <tr>\n      <th>7</th>\n      <td>8</td>\n      <td>Cuba (CUB)</td>\n      <td>6</td>\n      <td>4</td>\n      <td>3</td>\n      <td>13</td>\n    </tr>\n    <tr>\n      <th>8</th>\n      <td>9</td>\n      <td>Romania (ROU)</td>\n      <td>4</td>\n      <td>9</td>\n      <td>14</td>\n      <td>27</td>\n    </tr>\n    <tr>\n      <th>9</th>\n      <td>10</td>\n      <td>Hungary (HUN)</td>\n      <td>4</td>\n      <td>5</td>\n      <td>13</td>\n      <td>22</td>\n    </tr>\n    <tr>\n      <th>10</th>\n      <td>11</td>\n      <td>Finland (FIN)</td>\n      <td>4</td>\n      <td>2</td>\n      <td>0</td>\n      <td>6</td>\n    </tr>\n    <tr>\n      <th>11</th>\n      <td>12</td>\n      <td>Sweden (SWE)</td>\n      <td>4</td>\n      <td>1</td>\n      <td>0</td>\n      <td>5</td>\n    </tr>\n    <tr>\n      <th>12</th>\n      <td>13</td>\n      <td>Great Britain (GBR)</td>\n      <td>3</td>\n      <td>5</td>\n      <td>5</td>\n      <td>13</td>\n    </tr>\n    <tr>\n      <th>13</th>\n      <td>14</td>\n      <td>Italy (ITA)</td>\n      <td>2</td>\n      <td>7</td>\n      <td>4</td>\n      <td>13</td>\n    </tr>\n    <tr>\n      <th>14</th>\n      <td>15</td>\n      <td>France (FRA)</td>\n      <td>2</td>\n      <td>3</td>\n      <td>4</td>\n      <td>9</td>\n    </tr>\n    <tr>\n      <th>15</th>\n      <td>16</td>\n      <td>Yugoslavia (YUG)</td>\n      <td>2</td>\n      <td>3</td>\n      <td>3</td>\n      <td>8</td>\n    </tr>\n    <tr>\n      <th>16</th>\n      <td>17</td>\n      <td>Czechoslovakia (TCH)</td>\n      <td>2</td>\n      <td>2</td>\n      <td>4</td>\n      <td>8</td>\n    </tr>\n    <tr>\n      <th>17</th>\n      <td>18</td>\n      <td>New Zealand (NZL)</td>\n      <td>2</td>\n      <td>1</td>\n      <td>1</td>\n      <td>4</td>\n    </tr>\n    <tr>\n      <th>18</th>\n      <td>19</td>\n      <td>South Korea (KOR)</td>\n      <td>1</td>\n      <td>1</td>\n      <td>4</td>\n      <td>6</td>\n    </tr>\n    <tr>\n      <th>19</th>\n      <td>20</td>\n      <td>Switzerland (SUI)</td>\n      <td>1</td>\n      <td>1</td>\n      <td>2</td>\n      <td>4</td>\n    </tr>\n    <tr>\n      <th>20</th>\n      <td>21</td>\n      <td>Jamaica (JAM)</td>\n      <td>1</td>\n      <td>1</td>\n      <td>0</td>\n      <td>2</td>\n    </tr>\n    <tr>\n      <th>21</th>\n      <td>21</td>\n      <td>North Korea (PRK)</td>\n      <td>1</td>\n      <td>1</td>\n      <td>0</td>\n      <td>2</td>\n    </tr>\n    <tr>\n      <th>22</th>\n      <td>21</td>\n      <td>Norway (NOR)</td>\n      <td>1</td>\n      <td>1</td>\n      <td>0</td>\n      <td>2</td>\n    </tr>\n    <tr>\n      <th>23</th>\n      <td>24</td>\n      <td>Denmark (DEN)</td>\n      <td>1</td>\n      <td>0</td>\n      <td>2</td>\n      <td>3</td>\n    </tr>\n    <tr>\n      <th>24</th>\n      <td>25</td>\n      <td>Mexico (MEX)</td>\n      <td>1</td>\n      <td>0</td>\n      <td>1</td>\n      <td>2</td>\n    </tr>\n    <tr>\n      <th>25</th>\n      <td>26</td>\n      <td>Trinidad and Tobago (TRI)</td>\n      <td>1</td>\n      <td>0</td>\n      <td>0</td>\n      <td>1</td>\n    </tr>\n    <tr>\n      <th>26</th>\n      <td>27</td>\n      <td>Canada (CAN)*</td>\n      <td>0</td>\n      <td>5</td>\n      <td>6</td>\n      <td>11</td>\n    </tr>\n    <tr>\n      <th>27</th>\n      <td>28</td>\n      <td>Belgium (BEL)</td>\n      <td>0</td>\n      <td>3</td>\n      <td>3</td>\n      <td>6</td>\n    </tr>\n    <tr>\n      <th>28</th>\n      <td>29</td>\n      <td>Netherlands (NED)</td>\n      <td>0</td>\n      <td>2</td>\n      <td>3</td>\n      <td>5</td>\n    </tr>\n    <tr>\n      <th>29</th>\n      <td>30</td>\n      <td>Portugal (POR)</td>\n      <td>0</td>\n      <td>2</td>\n      <td>0</td>\n      <td>2</td>\n    </tr>\n    <tr>\n      <th>30</th>\n      <td>30</td>\n      <td>Spain (ESP)</td>\n      <td>0</td>\n      <td>2</td>\n      <td>0</td>\n      <td>2</td>\n    </tr>\n    <tr>\n      <th>31</th>\n      <td>32</td>\n      <td>Australia (AUS)</td>\n      <td>0</td>\n      <td>1</td>\n      <td>4</td>\n      <td>5</td>\n    </tr>\n    <tr>\n      <th>32</th>\n      <td>33</td>\n      <td>Iran (IRI)</td>\n      <td>0</td>\n      <td>1</td>\n      <td>1</td>\n      <td>2</td>\n    </tr>\n    <tr>\n      <th>33</th>\n      <td>34</td>\n      <td>Mongolia (MGL)</td>\n      <td>0</td>\n      <td>1</td>\n      <td>0</td>\n      <td>1</td>\n    </tr>\n    <tr>\n      <th>34</th>\n      <td>34</td>\n      <td>Venezuela (VEN)</td>\n      <td>0</td>\n      <td>1</td>\n      <td>0</td>\n      <td>1</td>\n    </tr>\n    <tr>\n      <th>35</th>\n      <td>36</td>\n      <td>Brazil (BRA)</td>\n      <td>0</td>\n      <td>0</td>\n      <td>2</td>\n      <td>2</td>\n    </tr>\n    <tr>\n      <th>36</th>\n      <td>37</td>\n      <td>Austria (AUT)</td>\n      <td>0</td>\n      <td>0</td>\n      <td>1</td>\n      <td>1</td>\n    </tr>\n    <tr>\n      <th>37</th>\n      <td>37</td>\n      <td>Bermuda (BER)</td>\n      <td>0</td>\n      <td>0</td>\n      <td>1</td>\n      <td>1</td>\n    </tr>\n    <tr>\n      <th>38</th>\n      <td>37</td>\n      <td>Pakistan (PAK)</td>\n      <td>0</td>\n      <td>0</td>\n      <td>1</td>\n      <td>1</td>\n    </tr>\n    <tr>\n      <th>39</th>\n      <td>37</td>\n      <td>Puerto Rico (PUR)</td>\n      <td>0</td>\n      <td>0</td>\n      <td>1</td>\n      <td>1</td>\n    </tr>\n    <tr>\n      <th>40</th>\n      <td>37</td>\n      <td>Thailand (THA)</td>\n      <td>0</td>\n      <td>0</td>\n      <td>1</td>\n      <td>1</td>\n    </tr>\n    <tr>\n      <th>41</th>\n      <td>Totals (41 NOCs)</td>\n      <td>Totals (41 NOCs)</td>\n      <td>198</td>\n      <td>199</td>\n      <td>216</td>\n      <td>613</td>\n    </tr>\n  </tbody>\n</table>\n</div>"
     },
     "execution_count": 100,
     "metadata": {},
     "output_type": "execute_result"
    }
   ],
   "source": [
    "wik_1976"
   ],
   "metadata": {
    "collapsed": false,
    "ExecuteTime": {
     "end_time": "2024-04-26T14:10:05.264006100Z",
     "start_time": "2024-04-26T14:10:05.221858600Z"
    }
   },
   "execution_count": 100
  },
  {
   "cell_type": "code",
   "outputs": [
    {
     "data": {
      "text/plain": "0         URS\n1         GDR\n2         USA\n3         FRG\n4         JPN\n5         POL\n6         BUL\n7         CUB\n8         ROU\n9         HUN\n10        FIN\n11        SWE\n12        GBR\n13        ITA\n14        FRA\n15        YUG\n16        TCH\n17        NZL\n18        KOR\n19        SUI\n20        JAM\n21        PRK\n22        NOR\n23        DEN\n24        MEX\n25        TRI\n26        CAN\n27        BEL\n28        NED\n29        POR\n30        ESP\n31        AUS\n32        IRI\n33        MGL\n34        VEN\n35        BRA\n36        AUT\n37        BER\n38        PAK\n39        PUR\n40        THA\n41    41 NOCs\nName: 1, dtype: object"
     },
     "execution_count": 108,
     "metadata": {},
     "output_type": "execute_result"
    }
   ],
   "source": [
    "wik_1976.NOC.str.split('(', expand=True).iloc[:, 1].str.replace(')', '').str.replace('*', '')   # extract the country names "
   ],
   "metadata": {
    "collapsed": false,
    "ExecuteTime": {
     "end_time": "2024-04-26T14:16:20.151037600Z",
     "start_time": "2024-04-26T14:16:20.142844Z"
    }
   },
   "execution_count": 108
  },
  {
   "cell_type": "code",
   "outputs": [
    {
     "data": {
      "text/plain": "                Rank                        NOC  Gold  Silver  Bronze  Total  \\\n0                  1         Soviet Union (URS)    49      41      35    125   \n1                  2         East Germany (GDR)    40      25      25     90   \n2                  3        United States (USA)    34      35      25     94   \n3                  4         West Germany (FRG)    10      12      17     39   \n4                  5                Japan (JPN)     9       6      10     25   \n5                  6               Poland (POL)     7       6      13     26   \n6                  7             Bulgaria (BUL)     6       9       7     22   \n7                  8                 Cuba (CUB)     6       4       3     13   \n8                  9              Romania (ROU)     4       9      14     27   \n9                 10              Hungary (HUN)     4       5      13     22   \n10                11              Finland (FIN)     4       2       0      6   \n11                12               Sweden (SWE)     4       1       0      5   \n12                13        Great Britain (GBR)     3       5       5     13   \n13                14                Italy (ITA)     2       7       4     13   \n14                15               France (FRA)     2       3       4      9   \n15                16           Yugoslavia (YUG)     2       3       3      8   \n16                17       Czechoslovakia (TCH)     2       2       4      8   \n17                18          New Zealand (NZL)     2       1       1      4   \n18                19          South Korea (KOR)     1       1       4      6   \n19                20          Switzerland (SUI)     1       1       2      4   \n20                21              Jamaica (JAM)     1       1       0      2   \n21                21          North Korea (PRK)     1       1       0      2   \n22                21               Norway (NOR)     1       1       0      2   \n23                24              Denmark (DEN)     1       0       2      3   \n24                25               Mexico (MEX)     1       0       1      2   \n25                26  Trinidad and Tobago (TRI)     1       0       0      1   \n26                27              Canada (CAN)*     0       5       6     11   \n27                28              Belgium (BEL)     0       3       3      6   \n28                29          Netherlands (NED)     0       2       3      5   \n29                30             Portugal (POR)     0       2       0      2   \n30                30                Spain (ESP)     0       2       0      2   \n31                32            Australia (AUS)     0       1       4      5   \n32                33                 Iran (IRI)     0       1       1      2   \n33                34             Mongolia (MGL)     0       1       0      1   \n34                34            Venezuela (VEN)     0       1       0      1   \n35                36               Brazil (BRA)     0       0       2      2   \n36                37              Austria (AUT)     0       0       1      1   \n37                37              Bermuda (BER)     0       0       1      1   \n38                37             Pakistan (PAK)     0       0       1      1   \n39                37          Puerto Rico (PUR)     0       0       1      1   \n40                37             Thailand (THA)     0       0       1      1   \n41  Totals (41 NOCs)           Totals (41 NOCs)   198     199     216    613   \n\n    Country  \n0       URS  \n1       GDR  \n2       USA  \n3       FRG  \n4       JPN  \n5       POL  \n6       BUL  \n7       CUB  \n8       ROU  \n9       HUN  \n10      FIN  \n11      SWE  \n12      GBR  \n13      ITA  \n14      FRA  \n15      YUG  \n16      TCH  \n17      NZL  \n18      KOR  \n19      SUI  \n20      JAM  \n21      PRK  \n22      NOR  \n23      DEN  \n24      MEX  \n25      TRI  \n26      CAN  \n27      BEL  \n28      NED  \n29      POR  \n30      ESP  \n31      AUS  \n32      IRI  \n33      MGL  \n34      VEN  \n35      BRA  \n36      AUT  \n37      BER  \n38      PAK  \n39      PUR  \n40      THA  \n41  41 NOCs  ",
      "text/html": "<div>\n<style scoped>\n    .dataframe tbody tr th:only-of-type {\n        vertical-align: middle;\n    }\n\n    .dataframe tbody tr th {\n        vertical-align: top;\n    }\n\n    .dataframe thead th {\n        text-align: right;\n    }\n</style>\n<table border=\"1\" class=\"dataframe\">\n  <thead>\n    <tr style=\"text-align: right;\">\n      <th></th>\n      <th>Rank</th>\n      <th>NOC</th>\n      <th>Gold</th>\n      <th>Silver</th>\n      <th>Bronze</th>\n      <th>Total</th>\n      <th>Country</th>\n    </tr>\n  </thead>\n  <tbody>\n    <tr>\n      <th>0</th>\n      <td>1</td>\n      <td>Soviet Union (URS)</td>\n      <td>49</td>\n      <td>41</td>\n      <td>35</td>\n      <td>125</td>\n      <td>URS</td>\n    </tr>\n    <tr>\n      <th>1</th>\n      <td>2</td>\n      <td>East Germany (GDR)</td>\n      <td>40</td>\n      <td>25</td>\n      <td>25</td>\n      <td>90</td>\n      <td>GDR</td>\n    </tr>\n    <tr>\n      <th>2</th>\n      <td>3</td>\n      <td>United States (USA)</td>\n      <td>34</td>\n      <td>35</td>\n      <td>25</td>\n      <td>94</td>\n      <td>USA</td>\n    </tr>\n    <tr>\n      <th>3</th>\n      <td>4</td>\n      <td>West Germany (FRG)</td>\n      <td>10</td>\n      <td>12</td>\n      <td>17</td>\n      <td>39</td>\n      <td>FRG</td>\n    </tr>\n    <tr>\n      <th>4</th>\n      <td>5</td>\n      <td>Japan (JPN)</td>\n      <td>9</td>\n      <td>6</td>\n      <td>10</td>\n      <td>25</td>\n      <td>JPN</td>\n    </tr>\n    <tr>\n      <th>5</th>\n      <td>6</td>\n      <td>Poland (POL)</td>\n      <td>7</td>\n      <td>6</td>\n      <td>13</td>\n      <td>26</td>\n      <td>POL</td>\n    </tr>\n    <tr>\n      <th>6</th>\n      <td>7</td>\n      <td>Bulgaria (BUL)</td>\n      <td>6</td>\n      <td>9</td>\n      <td>7</td>\n      <td>22</td>\n      <td>BUL</td>\n    </tr>\n    <tr>\n      <th>7</th>\n      <td>8</td>\n      <td>Cuba (CUB)</td>\n      <td>6</td>\n      <td>4</td>\n      <td>3</td>\n      <td>13</td>\n      <td>CUB</td>\n    </tr>\n    <tr>\n      <th>8</th>\n      <td>9</td>\n      <td>Romania (ROU)</td>\n      <td>4</td>\n      <td>9</td>\n      <td>14</td>\n      <td>27</td>\n      <td>ROU</td>\n    </tr>\n    <tr>\n      <th>9</th>\n      <td>10</td>\n      <td>Hungary (HUN)</td>\n      <td>4</td>\n      <td>5</td>\n      <td>13</td>\n      <td>22</td>\n      <td>HUN</td>\n    </tr>\n    <tr>\n      <th>10</th>\n      <td>11</td>\n      <td>Finland (FIN)</td>\n      <td>4</td>\n      <td>2</td>\n      <td>0</td>\n      <td>6</td>\n      <td>FIN</td>\n    </tr>\n    <tr>\n      <th>11</th>\n      <td>12</td>\n      <td>Sweden (SWE)</td>\n      <td>4</td>\n      <td>1</td>\n      <td>0</td>\n      <td>5</td>\n      <td>SWE</td>\n    </tr>\n    <tr>\n      <th>12</th>\n      <td>13</td>\n      <td>Great Britain (GBR)</td>\n      <td>3</td>\n      <td>5</td>\n      <td>5</td>\n      <td>13</td>\n      <td>GBR</td>\n    </tr>\n    <tr>\n      <th>13</th>\n      <td>14</td>\n      <td>Italy (ITA)</td>\n      <td>2</td>\n      <td>7</td>\n      <td>4</td>\n      <td>13</td>\n      <td>ITA</td>\n    </tr>\n    <tr>\n      <th>14</th>\n      <td>15</td>\n      <td>France (FRA)</td>\n      <td>2</td>\n      <td>3</td>\n      <td>4</td>\n      <td>9</td>\n      <td>FRA</td>\n    </tr>\n    <tr>\n      <th>15</th>\n      <td>16</td>\n      <td>Yugoslavia (YUG)</td>\n      <td>2</td>\n      <td>3</td>\n      <td>3</td>\n      <td>8</td>\n      <td>YUG</td>\n    </tr>\n    <tr>\n      <th>16</th>\n      <td>17</td>\n      <td>Czechoslovakia (TCH)</td>\n      <td>2</td>\n      <td>2</td>\n      <td>4</td>\n      <td>8</td>\n      <td>TCH</td>\n    </tr>\n    <tr>\n      <th>17</th>\n      <td>18</td>\n      <td>New Zealand (NZL)</td>\n      <td>2</td>\n      <td>1</td>\n      <td>1</td>\n      <td>4</td>\n      <td>NZL</td>\n    </tr>\n    <tr>\n      <th>18</th>\n      <td>19</td>\n      <td>South Korea (KOR)</td>\n      <td>1</td>\n      <td>1</td>\n      <td>4</td>\n      <td>6</td>\n      <td>KOR</td>\n    </tr>\n    <tr>\n      <th>19</th>\n      <td>20</td>\n      <td>Switzerland (SUI)</td>\n      <td>1</td>\n      <td>1</td>\n      <td>2</td>\n      <td>4</td>\n      <td>SUI</td>\n    </tr>\n    <tr>\n      <th>20</th>\n      <td>21</td>\n      <td>Jamaica (JAM)</td>\n      <td>1</td>\n      <td>1</td>\n      <td>0</td>\n      <td>2</td>\n      <td>JAM</td>\n    </tr>\n    <tr>\n      <th>21</th>\n      <td>21</td>\n      <td>North Korea (PRK)</td>\n      <td>1</td>\n      <td>1</td>\n      <td>0</td>\n      <td>2</td>\n      <td>PRK</td>\n    </tr>\n    <tr>\n      <th>22</th>\n      <td>21</td>\n      <td>Norway (NOR)</td>\n      <td>1</td>\n      <td>1</td>\n      <td>0</td>\n      <td>2</td>\n      <td>NOR</td>\n    </tr>\n    <tr>\n      <th>23</th>\n      <td>24</td>\n      <td>Denmark (DEN)</td>\n      <td>1</td>\n      <td>0</td>\n      <td>2</td>\n      <td>3</td>\n      <td>DEN</td>\n    </tr>\n    <tr>\n      <th>24</th>\n      <td>25</td>\n      <td>Mexico (MEX)</td>\n      <td>1</td>\n      <td>0</td>\n      <td>1</td>\n      <td>2</td>\n      <td>MEX</td>\n    </tr>\n    <tr>\n      <th>25</th>\n      <td>26</td>\n      <td>Trinidad and Tobago (TRI)</td>\n      <td>1</td>\n      <td>0</td>\n      <td>0</td>\n      <td>1</td>\n      <td>TRI</td>\n    </tr>\n    <tr>\n      <th>26</th>\n      <td>27</td>\n      <td>Canada (CAN)*</td>\n      <td>0</td>\n      <td>5</td>\n      <td>6</td>\n      <td>11</td>\n      <td>CAN</td>\n    </tr>\n    <tr>\n      <th>27</th>\n      <td>28</td>\n      <td>Belgium (BEL)</td>\n      <td>0</td>\n      <td>3</td>\n      <td>3</td>\n      <td>6</td>\n      <td>BEL</td>\n    </tr>\n    <tr>\n      <th>28</th>\n      <td>29</td>\n      <td>Netherlands (NED)</td>\n      <td>0</td>\n      <td>2</td>\n      <td>3</td>\n      <td>5</td>\n      <td>NED</td>\n    </tr>\n    <tr>\n      <th>29</th>\n      <td>30</td>\n      <td>Portugal (POR)</td>\n      <td>0</td>\n      <td>2</td>\n      <td>0</td>\n      <td>2</td>\n      <td>POR</td>\n    </tr>\n    <tr>\n      <th>30</th>\n      <td>30</td>\n      <td>Spain (ESP)</td>\n      <td>0</td>\n      <td>2</td>\n      <td>0</td>\n      <td>2</td>\n      <td>ESP</td>\n    </tr>\n    <tr>\n      <th>31</th>\n      <td>32</td>\n      <td>Australia (AUS)</td>\n      <td>0</td>\n      <td>1</td>\n      <td>4</td>\n      <td>5</td>\n      <td>AUS</td>\n    </tr>\n    <tr>\n      <th>32</th>\n      <td>33</td>\n      <td>Iran (IRI)</td>\n      <td>0</td>\n      <td>1</td>\n      <td>1</td>\n      <td>2</td>\n      <td>IRI</td>\n    </tr>\n    <tr>\n      <th>33</th>\n      <td>34</td>\n      <td>Mongolia (MGL)</td>\n      <td>0</td>\n      <td>1</td>\n      <td>0</td>\n      <td>1</td>\n      <td>MGL</td>\n    </tr>\n    <tr>\n      <th>34</th>\n      <td>34</td>\n      <td>Venezuela (VEN)</td>\n      <td>0</td>\n      <td>1</td>\n      <td>0</td>\n      <td>1</td>\n      <td>VEN</td>\n    </tr>\n    <tr>\n      <th>35</th>\n      <td>36</td>\n      <td>Brazil (BRA)</td>\n      <td>0</td>\n      <td>0</td>\n      <td>2</td>\n      <td>2</td>\n      <td>BRA</td>\n    </tr>\n    <tr>\n      <th>36</th>\n      <td>37</td>\n      <td>Austria (AUT)</td>\n      <td>0</td>\n      <td>0</td>\n      <td>1</td>\n      <td>1</td>\n      <td>AUT</td>\n    </tr>\n    <tr>\n      <th>37</th>\n      <td>37</td>\n      <td>Bermuda (BER)</td>\n      <td>0</td>\n      <td>0</td>\n      <td>1</td>\n      <td>1</td>\n      <td>BER</td>\n    </tr>\n    <tr>\n      <th>38</th>\n      <td>37</td>\n      <td>Pakistan (PAK)</td>\n      <td>0</td>\n      <td>0</td>\n      <td>1</td>\n      <td>1</td>\n      <td>PAK</td>\n    </tr>\n    <tr>\n      <th>39</th>\n      <td>37</td>\n      <td>Puerto Rico (PUR)</td>\n      <td>0</td>\n      <td>0</td>\n      <td>1</td>\n      <td>1</td>\n      <td>PUR</td>\n    </tr>\n    <tr>\n      <th>40</th>\n      <td>37</td>\n      <td>Thailand (THA)</td>\n      <td>0</td>\n      <td>0</td>\n      <td>1</td>\n      <td>1</td>\n      <td>THA</td>\n    </tr>\n    <tr>\n      <th>41</th>\n      <td>Totals (41 NOCs)</td>\n      <td>Totals (41 NOCs)</td>\n      <td>198</td>\n      <td>199</td>\n      <td>216</td>\n      <td>613</td>\n      <td>41 NOCs</td>\n    </tr>\n  </tbody>\n</table>\n</div>"
     },
     "execution_count": 111,
     "metadata": {},
     "output_type": "execute_result"
    }
   ],
   "source": [
    "wik_1976[\"Country\"] = wik_1976.NOC.str.split('(', expand=True).iloc[:, 1].str.replace(')', '').str.replace('*', '')\n",
    "wik_1976    # create a new column \"Country\" with the country names "
   ],
   "metadata": {
    "collapsed": false,
    "ExecuteTime": {
     "end_time": "2024-04-26T14:16:47.943556900Z",
     "start_time": "2024-04-26T14:16:47.927586700Z"
    }
   },
   "execution_count": 111
  },
  {
   "cell_type": "code",
   "outputs": [
    {
     "ename": "KeyError",
     "evalue": "\"['Rank', 'NOC', 'Total'] not found in axis\"",
     "output_type": "error",
     "traceback": [
      "\u001B[1;31m---------------------------------------------------------------------------\u001B[0m",
      "\u001B[1;31mKeyError\u001B[0m                                  Traceback (most recent call last)",
      "Cell \u001B[1;32mIn[114], line 1\u001B[0m\n\u001B[1;32m----> 1\u001B[0m wik_1976 \u001B[38;5;241m=\u001B[39m \u001B[43mwik_1976\u001B[49m\u001B[38;5;241;43m.\u001B[39;49m\u001B[43mdrop\u001B[49m\u001B[43m(\u001B[49m\u001B[43mcolumns\u001B[49m\u001B[43m \u001B[49m\u001B[38;5;241;43m=\u001B[39;49m\u001B[43m[\u001B[49m\u001B[38;5;124;43m\"\u001B[39;49m\u001B[38;5;124;43mRank\u001B[39;49m\u001B[38;5;124;43m\"\u001B[39;49m\u001B[43m,\u001B[49m\u001B[43m \u001B[49m\u001B[38;5;124;43m\"\u001B[39;49m\u001B[38;5;124;43mNOC\u001B[39;49m\u001B[38;5;124;43m\"\u001B[39;49m\u001B[43m,\u001B[49m\u001B[43m \u001B[49m\u001B[38;5;124;43m\"\u001B[39;49m\u001B[38;5;124;43mTotal\u001B[39;49m\u001B[38;5;124;43m\"\u001B[39;49m\u001B[43m]\u001B[49m\u001B[43m)\u001B[49m\u001B[38;5;241m.\u001B[39mset_index(\u001B[38;5;124m\"\u001B[39m\u001B[38;5;124mCountry\u001B[39m\u001B[38;5;124m\"\u001B[39m)\n",
      "File \u001B[1;32m~\\PycharmProjects\\Machine learning AI\\.venv\\Lib\\site-packages\\pandas\\core\\frame.py:5568\u001B[0m, in \u001B[0;36mDataFrame.drop\u001B[1;34m(self, labels, axis, index, columns, level, inplace, errors)\u001B[0m\n\u001B[0;32m   5420\u001B[0m \u001B[38;5;28;01mdef\u001B[39;00m \u001B[38;5;21mdrop\u001B[39m(\n\u001B[0;32m   5421\u001B[0m     \u001B[38;5;28mself\u001B[39m,\n\u001B[0;32m   5422\u001B[0m     labels: IndexLabel \u001B[38;5;241m|\u001B[39m \u001B[38;5;28;01mNone\u001B[39;00m \u001B[38;5;241m=\u001B[39m \u001B[38;5;28;01mNone\u001B[39;00m,\n\u001B[1;32m   (...)\u001B[0m\n\u001B[0;32m   5429\u001B[0m     errors: IgnoreRaise \u001B[38;5;241m=\u001B[39m \u001B[38;5;124m\"\u001B[39m\u001B[38;5;124mraise\u001B[39m\u001B[38;5;124m\"\u001B[39m,\n\u001B[0;32m   5430\u001B[0m ) \u001B[38;5;241m-\u001B[39m\u001B[38;5;241m>\u001B[39m DataFrame \u001B[38;5;241m|\u001B[39m \u001B[38;5;28;01mNone\u001B[39;00m:\n\u001B[0;32m   5431\u001B[0m \u001B[38;5;250m    \u001B[39m\u001B[38;5;124;03m\"\"\"\u001B[39;00m\n\u001B[0;32m   5432\u001B[0m \u001B[38;5;124;03m    Drop specified labels from rows or columns.\u001B[39;00m\n\u001B[0;32m   5433\u001B[0m \n\u001B[1;32m   (...)\u001B[0m\n\u001B[0;32m   5566\u001B[0m \u001B[38;5;124;03m            weight  1.0     0.8\u001B[39;00m\n\u001B[0;32m   5567\u001B[0m \u001B[38;5;124;03m    \"\"\"\u001B[39;00m\n\u001B[1;32m-> 5568\u001B[0m     \u001B[38;5;28;01mreturn\u001B[39;00m \u001B[38;5;28;43msuper\u001B[39;49m\u001B[43m(\u001B[49m\u001B[43m)\u001B[49m\u001B[38;5;241;43m.\u001B[39;49m\u001B[43mdrop\u001B[49m\u001B[43m(\u001B[49m\n\u001B[0;32m   5569\u001B[0m \u001B[43m        \u001B[49m\u001B[43mlabels\u001B[49m\u001B[38;5;241;43m=\u001B[39;49m\u001B[43mlabels\u001B[49m\u001B[43m,\u001B[49m\n\u001B[0;32m   5570\u001B[0m \u001B[43m        \u001B[49m\u001B[43maxis\u001B[49m\u001B[38;5;241;43m=\u001B[39;49m\u001B[43maxis\u001B[49m\u001B[43m,\u001B[49m\n\u001B[0;32m   5571\u001B[0m \u001B[43m        \u001B[49m\u001B[43mindex\u001B[49m\u001B[38;5;241;43m=\u001B[39;49m\u001B[43mindex\u001B[49m\u001B[43m,\u001B[49m\n\u001B[0;32m   5572\u001B[0m \u001B[43m        \u001B[49m\u001B[43mcolumns\u001B[49m\u001B[38;5;241;43m=\u001B[39;49m\u001B[43mcolumns\u001B[49m\u001B[43m,\u001B[49m\n\u001B[0;32m   5573\u001B[0m \u001B[43m        \u001B[49m\u001B[43mlevel\u001B[49m\u001B[38;5;241;43m=\u001B[39;49m\u001B[43mlevel\u001B[49m\u001B[43m,\u001B[49m\n\u001B[0;32m   5574\u001B[0m \u001B[43m        \u001B[49m\u001B[43minplace\u001B[49m\u001B[38;5;241;43m=\u001B[39;49m\u001B[43minplace\u001B[49m\u001B[43m,\u001B[49m\n\u001B[0;32m   5575\u001B[0m \u001B[43m        \u001B[49m\u001B[43merrors\u001B[49m\u001B[38;5;241;43m=\u001B[39;49m\u001B[43merrors\u001B[49m\u001B[43m,\u001B[49m\n\u001B[0;32m   5576\u001B[0m \u001B[43m    \u001B[49m\u001B[43m)\u001B[49m\n",
      "File \u001B[1;32m~\\PycharmProjects\\Machine learning AI\\.venv\\Lib\\site-packages\\pandas\\core\\generic.py:4782\u001B[0m, in \u001B[0;36mNDFrame.drop\u001B[1;34m(self, labels, axis, index, columns, level, inplace, errors)\u001B[0m\n\u001B[0;32m   4780\u001B[0m \u001B[38;5;28;01mfor\u001B[39;00m axis, labels \u001B[38;5;129;01min\u001B[39;00m axes\u001B[38;5;241m.\u001B[39mitems():\n\u001B[0;32m   4781\u001B[0m     \u001B[38;5;28;01mif\u001B[39;00m labels \u001B[38;5;129;01mis\u001B[39;00m \u001B[38;5;129;01mnot\u001B[39;00m \u001B[38;5;28;01mNone\u001B[39;00m:\n\u001B[1;32m-> 4782\u001B[0m         obj \u001B[38;5;241m=\u001B[39m \u001B[43mobj\u001B[49m\u001B[38;5;241;43m.\u001B[39;49m\u001B[43m_drop_axis\u001B[49m\u001B[43m(\u001B[49m\u001B[43mlabels\u001B[49m\u001B[43m,\u001B[49m\u001B[43m \u001B[49m\u001B[43maxis\u001B[49m\u001B[43m,\u001B[49m\u001B[43m \u001B[49m\u001B[43mlevel\u001B[49m\u001B[38;5;241;43m=\u001B[39;49m\u001B[43mlevel\u001B[49m\u001B[43m,\u001B[49m\u001B[43m \u001B[49m\u001B[43merrors\u001B[49m\u001B[38;5;241;43m=\u001B[39;49m\u001B[43merrors\u001B[49m\u001B[43m)\u001B[49m\n\u001B[0;32m   4784\u001B[0m \u001B[38;5;28;01mif\u001B[39;00m inplace:\n\u001B[0;32m   4785\u001B[0m     \u001B[38;5;28mself\u001B[39m\u001B[38;5;241m.\u001B[39m_update_inplace(obj)\n",
      "File \u001B[1;32m~\\PycharmProjects\\Machine learning AI\\.venv\\Lib\\site-packages\\pandas\\core\\generic.py:4824\u001B[0m, in \u001B[0;36mNDFrame._drop_axis\u001B[1;34m(self, labels, axis, level, errors, only_slice)\u001B[0m\n\u001B[0;32m   4822\u001B[0m         new_axis \u001B[38;5;241m=\u001B[39m axis\u001B[38;5;241m.\u001B[39mdrop(labels, level\u001B[38;5;241m=\u001B[39mlevel, errors\u001B[38;5;241m=\u001B[39merrors)\n\u001B[0;32m   4823\u001B[0m     \u001B[38;5;28;01melse\u001B[39;00m:\n\u001B[1;32m-> 4824\u001B[0m         new_axis \u001B[38;5;241m=\u001B[39m \u001B[43maxis\u001B[49m\u001B[38;5;241;43m.\u001B[39;49m\u001B[43mdrop\u001B[49m\u001B[43m(\u001B[49m\u001B[43mlabels\u001B[49m\u001B[43m,\u001B[49m\u001B[43m \u001B[49m\u001B[43merrors\u001B[49m\u001B[38;5;241;43m=\u001B[39;49m\u001B[43merrors\u001B[49m\u001B[43m)\u001B[49m\n\u001B[0;32m   4825\u001B[0m     indexer \u001B[38;5;241m=\u001B[39m axis\u001B[38;5;241m.\u001B[39mget_indexer(new_axis)\n\u001B[0;32m   4827\u001B[0m \u001B[38;5;66;03m# Case for non-unique axis\u001B[39;00m\n\u001B[0;32m   4828\u001B[0m \u001B[38;5;28;01melse\u001B[39;00m:\n",
      "File \u001B[1;32m~\\PycharmProjects\\Machine learning AI\\.venv\\Lib\\site-packages\\pandas\\core\\indexes\\base.py:7069\u001B[0m, in \u001B[0;36mIndex.drop\u001B[1;34m(self, labels, errors)\u001B[0m\n\u001B[0;32m   7067\u001B[0m \u001B[38;5;28;01mif\u001B[39;00m mask\u001B[38;5;241m.\u001B[39many():\n\u001B[0;32m   7068\u001B[0m     \u001B[38;5;28;01mif\u001B[39;00m errors \u001B[38;5;241m!=\u001B[39m \u001B[38;5;124m\"\u001B[39m\u001B[38;5;124mignore\u001B[39m\u001B[38;5;124m\"\u001B[39m:\n\u001B[1;32m-> 7069\u001B[0m         \u001B[38;5;28;01mraise\u001B[39;00m \u001B[38;5;167;01mKeyError\u001B[39;00m(\u001B[38;5;124mf\u001B[39m\u001B[38;5;124m\"\u001B[39m\u001B[38;5;132;01m{\u001B[39;00mlabels[mask]\u001B[38;5;241m.\u001B[39mtolist()\u001B[38;5;132;01m}\u001B[39;00m\u001B[38;5;124m not found in axis\u001B[39m\u001B[38;5;124m\"\u001B[39m)\n\u001B[0;32m   7070\u001B[0m     indexer \u001B[38;5;241m=\u001B[39m indexer[\u001B[38;5;241m~\u001B[39mmask]\n\u001B[0;32m   7071\u001B[0m \u001B[38;5;28;01mreturn\u001B[39;00m \u001B[38;5;28mself\u001B[39m\u001B[38;5;241m.\u001B[39mdelete(indexer)\n",
      "\u001B[1;31mKeyError\u001B[0m: \"['Rank', 'NOC', 'Total'] not found in axis\""
     ]
    }
   ],
   "source": [
    "wik_1976 = wik_1976.drop(columns =[\"Rank\", \"NOC\", \"Total\"]).set_index(\"Country\")    # drop the columns because they are not needed"
   ],
   "metadata": {
    "collapsed": false,
    "ExecuteTime": {
     "end_time": "2024-04-26T14:22:56.706659700Z",
     "start_time": "2024-04-26T14:22:56.650060700Z"
    }
   },
   "execution_count": 114
  },
  {
   "cell_type": "markdown",
   "source": [
    "Same for wik_1996:"
   ],
   "metadata": {
    "collapsed": false
   }
  },
  {
   "cell_type": "code",
   "outputs": [],
   "source": [
    "wik_1996[\"Country\"] = wik_1996.Nation.str.split(\"(\", expand= True).iloc[:, 1].str.replace(\")\", \"\").str.replace(\"*\", \"\")\n"
   ],
   "metadata": {
    "collapsed": false,
    "ExecuteTime": {
     "end_time": "2024-04-26T14:24:02.632620200Z",
     "start_time": "2024-04-26T14:24:02.599665800Z"
    }
   },
   "execution_count": 116
  },
  {
   "cell_type": "code",
   "outputs": [],
   "source": [
    "wik_1996 = wik_1996.drop(columns =[\"Rank\", \"Nation\", \"Total\"]).set_index(\"Country\")"
   ],
   "metadata": {
    "collapsed": false,
    "ExecuteTime": {
     "end_time": "2024-04-26T14:24:21.063194600Z",
     "start_time": "2024-04-26T14:24:21.039425500Z"
    }
   },
   "execution_count": 117
  },
  {
   "cell_type": "markdown",
   "source": [
    "Now we will compare the amount of medals for each country in the summer dataset with the official Medal Tables."
   ],
   "metadata": {
    "collapsed": false
   }
  },
  {
   "cell_type": "code",
   "outputs": [
    {
     "data": {
      "text/plain": "            Gold  Silver  Bronze\nCountry                         \nUSA           44      32      25\nRUS           26      21      16\nGER           20      18      27\nCHN           16      22      12\nFRA           15       7      15\n...          ...     ...     ...\nMOZ            0       0       1\nPUR            0       0       1\nTUN            0       0       1\nUGA            0       0       1\n79 nations   271     273     298\n\n[80 rows x 3 columns]",
      "text/html": "<div>\n<style scoped>\n    .dataframe tbody tr th:only-of-type {\n        vertical-align: middle;\n    }\n\n    .dataframe tbody tr th {\n        vertical-align: top;\n    }\n\n    .dataframe thead th {\n        text-align: right;\n    }\n</style>\n<table border=\"1\" class=\"dataframe\">\n  <thead>\n    <tr style=\"text-align: right;\">\n      <th></th>\n      <th>Gold</th>\n      <th>Silver</th>\n      <th>Bronze</th>\n    </tr>\n    <tr>\n      <th>Country</th>\n      <th></th>\n      <th></th>\n      <th></th>\n    </tr>\n  </thead>\n  <tbody>\n    <tr>\n      <th>USA</th>\n      <td>44</td>\n      <td>32</td>\n      <td>25</td>\n    </tr>\n    <tr>\n      <th>RUS</th>\n      <td>26</td>\n      <td>21</td>\n      <td>16</td>\n    </tr>\n    <tr>\n      <th>GER</th>\n      <td>20</td>\n      <td>18</td>\n      <td>27</td>\n    </tr>\n    <tr>\n      <th>CHN</th>\n      <td>16</td>\n      <td>22</td>\n      <td>12</td>\n    </tr>\n    <tr>\n      <th>FRA</th>\n      <td>15</td>\n      <td>7</td>\n      <td>15</td>\n    </tr>\n    <tr>\n      <th>...</th>\n      <td>...</td>\n      <td>...</td>\n      <td>...</td>\n    </tr>\n    <tr>\n      <th>MOZ</th>\n      <td>0</td>\n      <td>0</td>\n      <td>1</td>\n    </tr>\n    <tr>\n      <th>PUR</th>\n      <td>0</td>\n      <td>0</td>\n      <td>1</td>\n    </tr>\n    <tr>\n      <th>TUN</th>\n      <td>0</td>\n      <td>0</td>\n      <td>1</td>\n    </tr>\n    <tr>\n      <th>UGA</th>\n      <td>0</td>\n      <td>0</td>\n      <td>1</td>\n    </tr>\n    <tr>\n      <th>79 nations</th>\n      <td>271</td>\n      <td>273</td>\n      <td>298</td>\n    </tr>\n  </tbody>\n</table>\n<p>80 rows × 3 columns</p>\n</div>"
     },
     "execution_count": 118,
     "metadata": {},
     "output_type": "execute_result"
    }
   ],
   "source": [
    "wik_1996"
   ],
   "metadata": {
    "collapsed": false,
    "ExecuteTime": {
     "end_time": "2024-04-26T14:24:29.771766300Z",
     "start_time": "2024-04-26T14:24:29.726229100Z"
    }
   },
   "execution_count": 118
  },
  {
   "cell_type": "code",
   "outputs": [
    {
     "data": {
      "text/plain": "         Gold  Silver  Bronze\nCountry                      \nURS        49      41      35\nGDR        40      25      25\nUSA        34      35      25\nFRG        10      12      17\nJPN         9       6      10\nPOL         7       6      13\nBUL         6       9       7\nCUB         6       4       3\nROU         4       9      14\nHUN         4       5      13\nFIN         4       2       0\nSWE         4       1       0\nGBR         3       5       5\nITA         2       7       4\nFRA         2       3       4\nYUG         2       3       3\nTCH         2       2       4\nNZL         2       1       1\nKOR         1       1       4\nSUI         1       1       2\nJAM         1       1       0\nPRK         1       1       0\nNOR         1       1       0\nDEN         1       0       2\nMEX         1       0       1\nTRI         1       0       0\nCAN         0       5       6\nBEL         0       3       3\nNED         0       2       3\nPOR         0       2       0\nESP         0       2       0\nAUS         0       1       4\nIRI         0       1       1\nMGL         0       1       0\nVEN         0       1       0\nBRA         0       0       2\nAUT         0       0       1\nBER         0       0       1\nPAK         0       0       1\nPUR         0       0       1\nTHA         0       0       1\n41 NOCs   198     199     216",
      "text/html": "<div>\n<style scoped>\n    .dataframe tbody tr th:only-of-type {\n        vertical-align: middle;\n    }\n\n    .dataframe tbody tr th {\n        vertical-align: top;\n    }\n\n    .dataframe thead th {\n        text-align: right;\n    }\n</style>\n<table border=\"1\" class=\"dataframe\">\n  <thead>\n    <tr style=\"text-align: right;\">\n      <th></th>\n      <th>Gold</th>\n      <th>Silver</th>\n      <th>Bronze</th>\n    </tr>\n    <tr>\n      <th>Country</th>\n      <th></th>\n      <th></th>\n      <th></th>\n    </tr>\n  </thead>\n  <tbody>\n    <tr>\n      <th>URS</th>\n      <td>49</td>\n      <td>41</td>\n      <td>35</td>\n    </tr>\n    <tr>\n      <th>GDR</th>\n      <td>40</td>\n      <td>25</td>\n      <td>25</td>\n    </tr>\n    <tr>\n      <th>USA</th>\n      <td>34</td>\n      <td>35</td>\n      <td>25</td>\n    </tr>\n    <tr>\n      <th>FRG</th>\n      <td>10</td>\n      <td>12</td>\n      <td>17</td>\n    </tr>\n    <tr>\n      <th>JPN</th>\n      <td>9</td>\n      <td>6</td>\n      <td>10</td>\n    </tr>\n    <tr>\n      <th>POL</th>\n      <td>7</td>\n      <td>6</td>\n      <td>13</td>\n    </tr>\n    <tr>\n      <th>BUL</th>\n      <td>6</td>\n      <td>9</td>\n      <td>7</td>\n    </tr>\n    <tr>\n      <th>CUB</th>\n      <td>6</td>\n      <td>4</td>\n      <td>3</td>\n    </tr>\n    <tr>\n      <th>ROU</th>\n      <td>4</td>\n      <td>9</td>\n      <td>14</td>\n    </tr>\n    <tr>\n      <th>HUN</th>\n      <td>4</td>\n      <td>5</td>\n      <td>13</td>\n    </tr>\n    <tr>\n      <th>FIN</th>\n      <td>4</td>\n      <td>2</td>\n      <td>0</td>\n    </tr>\n    <tr>\n      <th>SWE</th>\n      <td>4</td>\n      <td>1</td>\n      <td>0</td>\n    </tr>\n    <tr>\n      <th>GBR</th>\n      <td>3</td>\n      <td>5</td>\n      <td>5</td>\n    </tr>\n    <tr>\n      <th>ITA</th>\n      <td>2</td>\n      <td>7</td>\n      <td>4</td>\n    </tr>\n    <tr>\n      <th>FRA</th>\n      <td>2</td>\n      <td>3</td>\n      <td>4</td>\n    </tr>\n    <tr>\n      <th>YUG</th>\n      <td>2</td>\n      <td>3</td>\n      <td>3</td>\n    </tr>\n    <tr>\n      <th>TCH</th>\n      <td>2</td>\n      <td>2</td>\n      <td>4</td>\n    </tr>\n    <tr>\n      <th>NZL</th>\n      <td>2</td>\n      <td>1</td>\n      <td>1</td>\n    </tr>\n    <tr>\n      <th>KOR</th>\n      <td>1</td>\n      <td>1</td>\n      <td>4</td>\n    </tr>\n    <tr>\n      <th>SUI</th>\n      <td>1</td>\n      <td>1</td>\n      <td>2</td>\n    </tr>\n    <tr>\n      <th>JAM</th>\n      <td>1</td>\n      <td>1</td>\n      <td>0</td>\n    </tr>\n    <tr>\n      <th>PRK</th>\n      <td>1</td>\n      <td>1</td>\n      <td>0</td>\n    </tr>\n    <tr>\n      <th>NOR</th>\n      <td>1</td>\n      <td>1</td>\n      <td>0</td>\n    </tr>\n    <tr>\n      <th>DEN</th>\n      <td>1</td>\n      <td>0</td>\n      <td>2</td>\n    </tr>\n    <tr>\n      <th>MEX</th>\n      <td>1</td>\n      <td>0</td>\n      <td>1</td>\n    </tr>\n    <tr>\n      <th>TRI</th>\n      <td>1</td>\n      <td>0</td>\n      <td>0</td>\n    </tr>\n    <tr>\n      <th>CAN</th>\n      <td>0</td>\n      <td>5</td>\n      <td>6</td>\n    </tr>\n    <tr>\n      <th>BEL</th>\n      <td>0</td>\n      <td>3</td>\n      <td>3</td>\n    </tr>\n    <tr>\n      <th>NED</th>\n      <td>0</td>\n      <td>2</td>\n      <td>3</td>\n    </tr>\n    <tr>\n      <th>POR</th>\n      <td>0</td>\n      <td>2</td>\n      <td>0</td>\n    </tr>\n    <tr>\n      <th>ESP</th>\n      <td>0</td>\n      <td>2</td>\n      <td>0</td>\n    </tr>\n    <tr>\n      <th>AUS</th>\n      <td>0</td>\n      <td>1</td>\n      <td>4</td>\n    </tr>\n    <tr>\n      <th>IRI</th>\n      <td>0</td>\n      <td>1</td>\n      <td>1</td>\n    </tr>\n    <tr>\n      <th>MGL</th>\n      <td>0</td>\n      <td>1</td>\n      <td>0</td>\n    </tr>\n    <tr>\n      <th>VEN</th>\n      <td>0</td>\n      <td>1</td>\n      <td>0</td>\n    </tr>\n    <tr>\n      <th>BRA</th>\n      <td>0</td>\n      <td>0</td>\n      <td>2</td>\n    </tr>\n    <tr>\n      <th>AUT</th>\n      <td>0</td>\n      <td>0</td>\n      <td>1</td>\n    </tr>\n    <tr>\n      <th>BER</th>\n      <td>0</td>\n      <td>0</td>\n      <td>1</td>\n    </tr>\n    <tr>\n      <th>PAK</th>\n      <td>0</td>\n      <td>0</td>\n      <td>1</td>\n    </tr>\n    <tr>\n      <th>PUR</th>\n      <td>0</td>\n      <td>0</td>\n      <td>1</td>\n    </tr>\n    <tr>\n      <th>THA</th>\n      <td>0</td>\n      <td>0</td>\n      <td>1</td>\n    </tr>\n    <tr>\n      <th>41 NOCs</th>\n      <td>198</td>\n      <td>199</td>\n      <td>216</td>\n    </tr>\n  </tbody>\n</table>\n</div>"
     },
     "execution_count": 119,
     "metadata": {},
     "output_type": "execute_result"
    }
   ],
   "source": [
    "wik_1976"
   ],
   "metadata": {
    "collapsed": false,
    "ExecuteTime": {
     "end_time": "2024-04-26T14:24:46.770844800Z",
     "start_time": "2024-04-26T14:24:46.746659300Z"
    }
   },
   "execution_count": 119
  },
  {
   "cell_type": "markdown",
   "metadata": {},
   "source": [
    "### Step 2: Creating the Column Event_Gender"
   ]
  },
  {
   "cell_type": "markdown",
   "metadata": {},
   "source": [
    "In a first step, we need to determine for each row / medal, whether the medal was awarded in a Men, Women or Mixed Event. <br>\n",
    "The default assumption: The values in the new column Event_Gender are the same as in the column Gender (this is the Gender of the respective Athlete). Then, we need to identify Mixed Gender Events (inputs from the experts!)."
   ]
  },
  {
   "cell_type": "code",
   "outputs": [
    {
     "data": {
      "text/plain": "       Year    City      Sport           Discipline  \\\n0      1896  Athens   Aquatics             Swimming   \n1      1896  Athens   Aquatics             Swimming   \n2      1896  Athens   Aquatics             Swimming   \n3      1896  Athens   Aquatics             Swimming   \n4      1896  Athens   Aquatics             Swimming   \n...     ...     ...        ...                  ...   \n31160  2012  London  Wrestling  Wrestling Freestyle   \n31161  2012  London  Wrestling  Wrestling Freestyle   \n31162  2012  London  Wrestling  Wrestling Freestyle   \n31163  2012  London  Wrestling  Wrestling Freestyle   \n31164  2012  London  Wrestling  Wrestling Freestyle   \n\n                         Athlete Country Gender                       Event  \\\n0                  HAJOS, Alfred     HUN    Men              100M Freestyle   \n1               HERSCHMANN, Otto     AUT    Men              100M Freestyle   \n2              DRIVAS, Dimitrios     GRE    Men  100M Freestyle For Sailors   \n3             MALOKINIS, Ioannis     GRE    Men  100M Freestyle For Sailors   \n4             CHASAPIS, Spiridon     GRE    Men  100M Freestyle For Sailors   \n...                          ...     ...    ...                         ...   \n31160         JANIKOWSKI, Damian     POL    Men                    Wg 84 KG   \n31161  REZAEI, Ghasem Gholamreza     IRI    Men                    Wg 96 KG   \n31162             TOTROV, Rustam     RUS    Men                    Wg 96 KG   \n31163          ALEKSANYAN, Artur     ARM    Men                    Wg 96 KG   \n31164             LIDBERG, Jimmy     SWE    Men                    Wg 96 KG   \n\n        Medal Event_Gender  \n0        Gold          Men  \n1      Silver          Men  \n2      Bronze          Men  \n3        Gold          Men  \n4      Silver          Men  \n...       ...          ...  \n31160  Bronze          Men  \n31161    Gold          Men  \n31162  Silver          Men  \n31163  Bronze          Men  \n31164  Bronze          Men  \n\n[31165 rows x 10 columns]",
      "text/html": "<div>\n<style scoped>\n    .dataframe tbody tr th:only-of-type {\n        vertical-align: middle;\n    }\n\n    .dataframe tbody tr th {\n        vertical-align: top;\n    }\n\n    .dataframe thead th {\n        text-align: right;\n    }\n</style>\n<table border=\"1\" class=\"dataframe\">\n  <thead>\n    <tr style=\"text-align: right;\">\n      <th></th>\n      <th>Year</th>\n      <th>City</th>\n      <th>Sport</th>\n      <th>Discipline</th>\n      <th>Athlete</th>\n      <th>Country</th>\n      <th>Gender</th>\n      <th>Event</th>\n      <th>Medal</th>\n      <th>Event_Gender</th>\n    </tr>\n  </thead>\n  <tbody>\n    <tr>\n      <th>0</th>\n      <td>1896</td>\n      <td>Athens</td>\n      <td>Aquatics</td>\n      <td>Swimming</td>\n      <td>HAJOS, Alfred</td>\n      <td>HUN</td>\n      <td>Men</td>\n      <td>100M Freestyle</td>\n      <td>Gold</td>\n      <td>Men</td>\n    </tr>\n    <tr>\n      <th>1</th>\n      <td>1896</td>\n      <td>Athens</td>\n      <td>Aquatics</td>\n      <td>Swimming</td>\n      <td>HERSCHMANN, Otto</td>\n      <td>AUT</td>\n      <td>Men</td>\n      <td>100M Freestyle</td>\n      <td>Silver</td>\n      <td>Men</td>\n    </tr>\n    <tr>\n      <th>2</th>\n      <td>1896</td>\n      <td>Athens</td>\n      <td>Aquatics</td>\n      <td>Swimming</td>\n      <td>DRIVAS, Dimitrios</td>\n      <td>GRE</td>\n      <td>Men</td>\n      <td>100M Freestyle For Sailors</td>\n      <td>Bronze</td>\n      <td>Men</td>\n    </tr>\n    <tr>\n      <th>3</th>\n      <td>1896</td>\n      <td>Athens</td>\n      <td>Aquatics</td>\n      <td>Swimming</td>\n      <td>MALOKINIS, Ioannis</td>\n      <td>GRE</td>\n      <td>Men</td>\n      <td>100M Freestyle For Sailors</td>\n      <td>Gold</td>\n      <td>Men</td>\n    </tr>\n    <tr>\n      <th>4</th>\n      <td>1896</td>\n      <td>Athens</td>\n      <td>Aquatics</td>\n      <td>Swimming</td>\n      <td>CHASAPIS, Spiridon</td>\n      <td>GRE</td>\n      <td>Men</td>\n      <td>100M Freestyle For Sailors</td>\n      <td>Silver</td>\n      <td>Men</td>\n    </tr>\n    <tr>\n      <th>...</th>\n      <td>...</td>\n      <td>...</td>\n      <td>...</td>\n      <td>...</td>\n      <td>...</td>\n      <td>...</td>\n      <td>...</td>\n      <td>...</td>\n      <td>...</td>\n      <td>...</td>\n    </tr>\n    <tr>\n      <th>31160</th>\n      <td>2012</td>\n      <td>London</td>\n      <td>Wrestling</td>\n      <td>Wrestling Freestyle</td>\n      <td>JANIKOWSKI, Damian</td>\n      <td>POL</td>\n      <td>Men</td>\n      <td>Wg 84 KG</td>\n      <td>Bronze</td>\n      <td>Men</td>\n    </tr>\n    <tr>\n      <th>31161</th>\n      <td>2012</td>\n      <td>London</td>\n      <td>Wrestling</td>\n      <td>Wrestling Freestyle</td>\n      <td>REZAEI, Ghasem Gholamreza</td>\n      <td>IRI</td>\n      <td>Men</td>\n      <td>Wg 96 KG</td>\n      <td>Gold</td>\n      <td>Men</td>\n    </tr>\n    <tr>\n      <th>31162</th>\n      <td>2012</td>\n      <td>London</td>\n      <td>Wrestling</td>\n      <td>Wrestling Freestyle</td>\n      <td>TOTROV, Rustam</td>\n      <td>RUS</td>\n      <td>Men</td>\n      <td>Wg 96 KG</td>\n      <td>Silver</td>\n      <td>Men</td>\n    </tr>\n    <tr>\n      <th>31163</th>\n      <td>2012</td>\n      <td>London</td>\n      <td>Wrestling</td>\n      <td>Wrestling Freestyle</td>\n      <td>ALEKSANYAN, Artur</td>\n      <td>ARM</td>\n      <td>Men</td>\n      <td>Wg 96 KG</td>\n      <td>Bronze</td>\n      <td>Men</td>\n    </tr>\n    <tr>\n      <th>31164</th>\n      <td>2012</td>\n      <td>London</td>\n      <td>Wrestling</td>\n      <td>Wrestling Freestyle</td>\n      <td>LIDBERG, Jimmy</td>\n      <td>SWE</td>\n      <td>Men</td>\n      <td>Wg 96 KG</td>\n      <td>Bronze</td>\n      <td>Men</td>\n    </tr>\n  </tbody>\n</table>\n<p>31165 rows × 10 columns</p>\n</div>"
     },
     "execution_count": 32,
     "metadata": {},
     "output_type": "execute_result"
    }
   ],
   "source": [
    "summer['Event_Gender'] = summer.Gender\n",
    "summer"
   ],
   "metadata": {
    "collapsed": false,
    "ExecuteTime": {
     "end_time": "2024-04-26T12:25:40.275883900Z",
     "start_time": "2024-04-26T12:25:40.260316400Z"
    }
   },
   "execution_count": 32
  },
  {
   "cell_type": "markdown",
   "source": [
    "1. The Event Column contains the string \"mixed\"\n",
    "Method contains() returns a boolean Series showing whether each element in the Series contains the specified string."
   ],
   "metadata": {
    "collapsed": false
   }
  },
  {
   "cell_type": "code",
   "outputs": [
    {
     "data": {
      "text/plain": "38"
     },
     "execution_count": 129,
     "metadata": {},
     "output_type": "execute_result"
    }
   ],
   "source": [
    "summer.Event.str.lower().str.contains(\"mixed\").sum()    # count the amount of mixed events"
   ],
   "metadata": {
    "collapsed": false,
    "ExecuteTime": {
     "end_time": "2024-04-26T14:41:11.807255400Z",
     "start_time": "2024-04-26T14:41:11.772336200Z"
    }
   },
   "execution_count": 129
  },
  {
   "cell_type": "markdown",
   "source": [
    "2. The Event Column contains the string \"pairs\""
   ],
   "metadata": {
    "collapsed": false
   }
  },
  {
   "cell_type": "code",
   "outputs": [
    {
     "data": {
      "text/plain": "12"
     },
     "execution_count": 130,
     "metadata": {},
     "output_type": "execute_result"
    }
   ],
   "source": [
    "summer.Event.str.lower().str.contains(\"pairs\").sum()"
   ],
   "metadata": {
    "collapsed": false,
    "ExecuteTime": {
     "end_time": "2024-04-26T14:42:12.008821100Z",
     "start_time": "2024-04-26T14:42:11.961388600Z"
    }
   },
   "execution_count": 130
  },
  {
   "cell_type": "markdown",
   "source": [
    "3. The Event Column contains the string \"equestrian\""
   ],
   "metadata": {
    "collapsed": false
   }
  },
  {
   "cell_type": "code",
   "outputs": [
    {
     "data": {
      "text/plain": "939"
     },
     "execution_count": 132,
     "metadata": {},
     "output_type": "execute_result"
    }
   ],
   "source": [
    "summer.Sport.str.lower().str.contains(\"equestrian\").sum()"
   ],
   "metadata": {
    "collapsed": false,
    "ExecuteTime": {
     "end_time": "2024-04-26T14:54:36.991991Z",
     "start_time": "2024-04-26T14:54:36.976769700Z"
    }
   },
   "execution_count": 132
  },
  {
   "cell_type": "markdown",
   "source": [
    "4. All 'Sailing' Events before 1988 have been mixed Events"
   ],
   "metadata": {
    "collapsed": false
   }
  },
  {
   "cell_type": "code",
   "outputs": [
    {
     "data": {
      "text/plain": "755"
     },
     "execution_count": 135,
     "metadata": {},
     "output_type": "execute_result"
    }
   ],
   "source": [
    "((summer.Sport.str.lower().str.contains(\"sailing\")) & (summer.Year <= 1984)).sum()"
   ],
   "metadata": {
    "collapsed": false,
    "ExecuteTime": {
     "end_time": "2024-04-26T14:58:11.813488200Z",
     "start_time": "2024-04-26T14:58:11.759280200Z"
    }
   },
   "execution_count": 135
  },
  {
   "cell_type": "code",
   "outputs": [
    {
     "data": {
      "text/plain": "Event_Gender\nMen      21227\nWomen     8190\nX         1744\nName: count, dtype: int64"
     },
     "execution_count": 136,
     "metadata": {},
     "output_type": "execute_result"
    }
   ],
   "source": [
    "mask1 = summer.Event.str.lower().str.contains(\"mixed\")\n",
    "mask2 = summer.Event.str.lower().str.contains(\"pairs\")\n",
    "mask3 = summer.Sport.str.lower().str.contains(\"equestrian\")\n",
    "mask4 = ((summer.Sport.str.lower().str.contains(\"sailing\")) & (summer.Year < 1988))\n",
    "\n",
    "summer.loc[mask1 | mask2 | mask3| mask4, \"Event_Gender\"] = \"X\"  # mark the mixed events with \"X\"\n",
    "\n",
    "summer.Event_Gender.value_counts()"
   ],
   "metadata": {
    "collapsed": false,
    "ExecuteTime": {
     "end_time": "2024-04-26T15:07:28.512148200Z",
     "start_time": "2024-04-26T15:07:28.440417500Z"
    }
   },
   "execution_count": 136
  },
  {
   "cell_type": "markdown",
   "source": [
    "5. The following medals were awarded in Badminton mixed Double Events"
   ],
   "metadata": {
    "collapsed": false
   }
  },
  {
   "cell_type": "code",
   "outputs": [],
   "source": [
    "badm_mixed = [21773, 21782, 21776,21785, 21770, 21779,23703,23712,23706, 23715,23709,23700,25720,25729,25723,25732,25726,\n",
    "              25717,27727,27736, 27730,27739,27724,27733, 29784, 29785,29786,29787,29788,29789]\n",
    "\n",
    "summer.loc[badm_mixed, \"Event_Gender\"] = \"X\""
   ],
   "metadata": {
    "collapsed": false,
    "ExecuteTime": {
     "end_time": "2024-04-26T15:10:07.223656700Z",
     "start_time": "2024-04-26T15:10:07.179194200Z"
    }
   },
   "execution_count": 138
  },
  {
   "cell_type": "markdown",
   "metadata": {},
   "source": [
    "### Step 3: Identify all unique Events and count the amount of medals in each Event (new column Event_Medals)"
   ]
  },
  {
   "cell_type": "code",
   "outputs": [
    {
     "data": {
      "text/plain": "   Year    City     Sport Discipline             Athlete Country Gender  \\\n0  1896  Athens  Aquatics   Swimming       HAJOS, Alfred     HUN    Men   \n1  1896  Athens  Aquatics   Swimming    HERSCHMANN, Otto     AUT    Men   \n2  1896  Athens  Aquatics   Swimming   DRIVAS, Dimitrios     GRE    Men   \n3  1896  Athens  Aquatics   Swimming  MALOKINIS, Ioannis     GRE    Men   \n4  1896  Athens  Aquatics   Swimming  CHASAPIS, Spiridon     GRE    Men   \n\n                        Event   Medal Event_Gender  Event_Medals  \n0              100M Freestyle    Gold          Men             2  \n1              100M Freestyle  Silver          Men             2  \n2  100M Freestyle For Sailors  Bronze          Men             3  \n3  100M Freestyle For Sailors    Gold          Men             3  \n4  100M Freestyle For Sailors  Silver          Men             3  ",
      "text/html": "<div>\n<style scoped>\n    .dataframe tbody tr th:only-of-type {\n        vertical-align: middle;\n    }\n\n    .dataframe tbody tr th {\n        vertical-align: top;\n    }\n\n    .dataframe thead th {\n        text-align: right;\n    }\n</style>\n<table border=\"1\" class=\"dataframe\">\n  <thead>\n    <tr style=\"text-align: right;\">\n      <th></th>\n      <th>Year</th>\n      <th>City</th>\n      <th>Sport</th>\n      <th>Discipline</th>\n      <th>Athlete</th>\n      <th>Country</th>\n      <th>Gender</th>\n      <th>Event</th>\n      <th>Medal</th>\n      <th>Event_Gender</th>\n      <th>Event_Medals</th>\n    </tr>\n  </thead>\n  <tbody>\n    <tr>\n      <th>0</th>\n      <td>1896</td>\n      <td>Athens</td>\n      <td>Aquatics</td>\n      <td>Swimming</td>\n      <td>HAJOS, Alfred</td>\n      <td>HUN</td>\n      <td>Men</td>\n      <td>100M Freestyle</td>\n      <td>Gold</td>\n      <td>Men</td>\n      <td>2</td>\n    </tr>\n    <tr>\n      <th>1</th>\n      <td>1896</td>\n      <td>Athens</td>\n      <td>Aquatics</td>\n      <td>Swimming</td>\n      <td>HERSCHMANN, Otto</td>\n      <td>AUT</td>\n      <td>Men</td>\n      <td>100M Freestyle</td>\n      <td>Silver</td>\n      <td>Men</td>\n      <td>2</td>\n    </tr>\n    <tr>\n      <th>2</th>\n      <td>1896</td>\n      <td>Athens</td>\n      <td>Aquatics</td>\n      <td>Swimming</td>\n      <td>DRIVAS, Dimitrios</td>\n      <td>GRE</td>\n      <td>Men</td>\n      <td>100M Freestyle For Sailors</td>\n      <td>Bronze</td>\n      <td>Men</td>\n      <td>3</td>\n    </tr>\n    <tr>\n      <th>3</th>\n      <td>1896</td>\n      <td>Athens</td>\n      <td>Aquatics</td>\n      <td>Swimming</td>\n      <td>MALOKINIS, Ioannis</td>\n      <td>GRE</td>\n      <td>Men</td>\n      <td>100M Freestyle For Sailors</td>\n      <td>Gold</td>\n      <td>Men</td>\n      <td>3</td>\n    </tr>\n    <tr>\n      <th>4</th>\n      <td>1896</td>\n      <td>Athens</td>\n      <td>Aquatics</td>\n      <td>Swimming</td>\n      <td>CHASAPIS, Spiridon</td>\n      <td>GRE</td>\n      <td>Men</td>\n      <td>100M Freestyle For Sailors</td>\n      <td>Silver</td>\n      <td>Men</td>\n      <td>3</td>\n    </tr>\n  </tbody>\n</table>\n</div>"
     },
     "execution_count": 146,
     "metadata": {},
     "output_type": "execute_result"
    }
   ],
   "source": [
    "summer['Event_Medals'] = summer.groupby(by=['Year', 'Sport', 'Discipline', 'Event', 'Event_Gender']).Medal.transform('count')\n",
    "summer.head()"
   ],
   "metadata": {
    "collapsed": false,
    "ExecuteTime": {
     "end_time": "2024-04-26T15:16:45.529734500Z",
     "start_time": "2024-04-26T15:16:45.463170500Z"
    }
   },
   "execution_count": 146
  },
  {
   "cell_type": "markdown",
   "metadata": {},
   "source": [
    "Hint: The Columns \"Year\", \"Sport\", \"Discipline\", \"Event\", \"Event_Gender\" are relevant to group the summer DataFrame into unique events."
   ]
  },
  {
   "cell_type": "code",
   "outputs": [
    {
     "data": {
      "text/plain": "       Year         City       Sport   Discipline                     Athlete  \\\n1273   1908       London   Athletics    Athletics     ARCHIBALD, Edward Blake   \n1274   1908       London   Athletics    Athletics     JACOBS, Charles Sherman   \n1275   1908       London   Athletics    Athletics           SÖDERSTRÖM, Bruno   \n1276   1908       London   Athletics    Athletics        COOKE, Edward Tiffin   \n1277   1908       London   Athletics    Athletics    GILBERT, Alfred Carleten   \n7770   1948       London  Gymnastics  Artistic G.     MOGYOROSI-KLENCS, Janos   \n7771   1948       London  Gymnastics  Artistic G.              PATAKI, Ferenc   \n7772   1948       London  Gymnastics  Artistic G.               SOTORNIK, Leo   \n7773   1948       London  Gymnastics  Artistic G.    AALTONEN, Paavo Johannes   \n7774   1948       London  Gymnastics  Artistic G.          ROVE, Olavi Antero   \n15748  1980       Moscow  Equestrian     Eventing                     PINTSET   \n15749  1980       Moscow  Equestrian     Eventing              SALNIKOV, Yuri   \n15750  1980       Moscow  Equestrian     Eventing        ROMAN, Federico Euro   \n15751  1980       Moscow  Equestrian     Eventing           BLINOV, Aleksandr   \n15752  1980       Moscow  Equestrian     Eventing                      GALZUN   \n15976  1980       Moscow  Gymnastics  Artistic G.             FILATOVA, Maria   \n15977  1980       Moscow  Gymnastics  Artistic G.              KRÄKER, Steffi   \n15978  1980       Moscow  Gymnastics  Artistic G.                RÜHN, Melita   \n15979  1980       Moscow  Gymnastics  Artistic G.                GNAUCK, Maxi   \n15980  1980       Moscow  Gymnastics  Artistic G.              EBERLE, Emilia   \n17419  1984  Los Angeles  Gymnastics  Artistic G.                    LOU, Yun   \n17420  1984  Los Angeles  Gymnastics  Artistic G.       GAYLORD, Mitchell Jay   \n17421  1984  Los Angeles  Gymnastics  Artistic G.              GUSHIKEN, Koji   \n17422  1984  Los Angeles  Gymnastics  Artistic G.                    LI, Ning   \n17423  1984  Los Angeles  Gymnastics  Artistic G.             MORISUE, Shinji   \n19989  1992    Barcelona   Athletics    Athletics              CONWAY, Hollis   \n19990  1992    Barcelona   Athletics    Athletics            FORSYTH, Timothy   \n19991  1992    Barcelona   Athletics    Athletics              PARTYKA, Artur   \n19992  1992    Barcelona   Athletics    Athletics           SOTOMAYOR, Javier   \n19993  1992    Barcelona   Athletics    Athletics            SJÖBERG, Patrick   \n20525  1992    Barcelona  Gymnastics  Artistic G.            BONTAS, Cristina   \n20526  1992    Barcelona  Gymnastics  Artistic G.            GOUTSOU, Tatiana   \n20527  1992    Barcelona  Gymnastics  Artistic G.             MILLER, Shannon   \n20528  1992    Barcelona  Gymnastics  Artistic G.  MILOSOVICI, Lavinia Corina   \n20529  1992    Barcelona  Gymnastics  Artistic G.            ONODI, Henrietta   \n20539  1992    Barcelona  Gymnastics  Artistic G.                 GUO, Linyao   \n20540  1992    Barcelona  Gymnastics  Artistic G.          KOROBCHINSKI, Igor   \n20541  1992    Barcelona  Gymnastics  Artistic G.         MATSUNAGA, Masayuki   \n20542  1992    Barcelona  Gymnastics  Artistic G.             SCHERBO, Vitaly   \n20543  1992    Barcelona  Gymnastics  Artistic G.                    LI, Jing   \n22326  1996      Atlanta  Gymnastics  Artistic G.                    FAN, Bin   \n22327  1996      Atlanta  Gymnastics  Artistic G.               NEMOV, Alexei   \n22328  1996      Atlanta  Gymnastics  Artistic G.             SCHERBO, Vitaly   \n22329  1996      Atlanta  Gymnastics  Artistic G.             WECKER, Andreas   \n22330  1996      Atlanta  Gymnastics  Artistic G.  DOUNEV, Krassimir Nikolaev   \n29728  2012       London   Athletics    Athletics                 UKHOV, Ivan   \n29729  2012       London   Athletics    Athletics                KYNARD, Erik   \n29730  2012       London   Athletics    Athletics         BARSHIM, Mutaz Essa   \n29731  2012       London   Athletics    Athletics               DROUIN, Derek   \n29732  2012       London   Athletics    Athletics             GRABARZ, Robert   \n\n      Country Gender            Event   Medal Event_Gender  Event_Medals  \n1273      CAN    Men       Pole Vault  Bronze          Men             5  \n1274      USA    Men       Pole Vault  Bronze          Men             5  \n1275      SWE    Men       Pole Vault  Bronze          Men             5  \n1276      USA    Men       Pole Vault    Gold          Men             5  \n1277      USA    Men       Pole Vault    Gold          Men             5  \n7770      HUN    Men            Vault  Bronze          Men             5  \n7771      HUN    Men            Vault  Bronze          Men             5  \n7772      TCH    Men            Vault  Bronze          Men             5  \n7773      FIN    Men            Vault    Gold          Men             5  \n7774      FIN    Men            Vault  Silver          Men             5  \n15748     URS    Men       Individual  Bronze            X             5  \n15749     URS    Men       Individual  Bronze            X             5  \n15750     ITA    Men       Individual    Gold            X             5  \n15751     URS    Men       Individual  Silver            X             5  \n15752     URS    Men       Individual  Silver            X             5  \n15976     URS  Women      Uneven Bars  Bronze        Women             5  \n15977     GDR  Women      Uneven Bars  Bronze        Women             5  \n15978     ROU  Women      Uneven Bars  Bronze        Women             5  \n15979     GDR  Women      Uneven Bars    Gold        Women             5  \n15980     ROU  Women      Uneven Bars  Silver        Women             5  \n17419     CHN    Men            Vault    Gold          Men             5  \n17420     USA    Men            Vault  Silver          Men             5  \n17421     JPN    Men            Vault  Silver          Men             5  \n17422     CHN    Men            Vault  Silver          Men             5  \n17423     JPN    Men            Vault  Silver          Men             5  \n19989     USA    Men        High Jump  Bronze          Men             5  \n19990     AUS    Men        High Jump  Bronze          Men             5  \n19991     POL    Men        High Jump  Bronze          Men             5  \n19992     CUB    Men        High Jump    Gold          Men             5  \n19993     SWE    Men        High Jump  Silver          Men             5  \n20525     ROU  Women  Floor Exercises  Bronze        Women             5  \n20526     EUN  Women  Floor Exercises  Bronze        Women             5  \n20527     USA  Women  Floor Exercises  Bronze        Women             5  \n20528     ROU  Women  Floor Exercises    Gold        Women             5  \n20529     HUN  Women  Floor Exercises  Silver        Women             5  \n20539     CHN    Men    Parallel Bars  Bronze          Men             5  \n20540     EUN    Men    Parallel Bars  Bronze          Men             5  \n20541     JPN    Men    Parallel Bars  Bronze          Men             5  \n20542     EUN    Men    Parallel Bars    Gold          Men             5  \n20543     CHN    Men    Parallel Bars  Silver          Men             5  \n22326     CHN    Men   Horizontal Bar  Bronze          Men             5  \n22327     RUS    Men   Horizontal Bar  Bronze          Men             5  \n22328     BLR    Men   Horizontal Bar  Bronze          Men             5  \n22329     GER    Men   Horizontal Bar    Gold          Men             5  \n22330     BUL    Men   Horizontal Bar  Silver          Men             5  \n29728     RUS    Men        High Jump    Gold          Men             5  \n29729     USA    Men        High Jump  Silver          Men             5  \n29730     QAT    Men        High Jump  Bronze          Men             5  \n29731     CAN    Men        High Jump  Bronze          Men             5  \n29732     GBR    Men        High Jump  Bronze          Men             5  ",
      "text/html": "<div>\n<style scoped>\n    .dataframe tbody tr th:only-of-type {\n        vertical-align: middle;\n    }\n\n    .dataframe tbody tr th {\n        vertical-align: top;\n    }\n\n    .dataframe thead th {\n        text-align: right;\n    }\n</style>\n<table border=\"1\" class=\"dataframe\">\n  <thead>\n    <tr style=\"text-align: right;\">\n      <th></th>\n      <th>Year</th>\n      <th>City</th>\n      <th>Sport</th>\n      <th>Discipline</th>\n      <th>Athlete</th>\n      <th>Country</th>\n      <th>Gender</th>\n      <th>Event</th>\n      <th>Medal</th>\n      <th>Event_Gender</th>\n      <th>Event_Medals</th>\n    </tr>\n  </thead>\n  <tbody>\n    <tr>\n      <th>1273</th>\n      <td>1908</td>\n      <td>London</td>\n      <td>Athletics</td>\n      <td>Athletics</td>\n      <td>ARCHIBALD, Edward Blake</td>\n      <td>CAN</td>\n      <td>Men</td>\n      <td>Pole Vault</td>\n      <td>Bronze</td>\n      <td>Men</td>\n      <td>5</td>\n    </tr>\n    <tr>\n      <th>1274</th>\n      <td>1908</td>\n      <td>London</td>\n      <td>Athletics</td>\n      <td>Athletics</td>\n      <td>JACOBS, Charles Sherman</td>\n      <td>USA</td>\n      <td>Men</td>\n      <td>Pole Vault</td>\n      <td>Bronze</td>\n      <td>Men</td>\n      <td>5</td>\n    </tr>\n    <tr>\n      <th>1275</th>\n      <td>1908</td>\n      <td>London</td>\n      <td>Athletics</td>\n      <td>Athletics</td>\n      <td>SÖDERSTRÖM, Bruno</td>\n      <td>SWE</td>\n      <td>Men</td>\n      <td>Pole Vault</td>\n      <td>Bronze</td>\n      <td>Men</td>\n      <td>5</td>\n    </tr>\n    <tr>\n      <th>1276</th>\n      <td>1908</td>\n      <td>London</td>\n      <td>Athletics</td>\n      <td>Athletics</td>\n      <td>COOKE, Edward Tiffin</td>\n      <td>USA</td>\n      <td>Men</td>\n      <td>Pole Vault</td>\n      <td>Gold</td>\n      <td>Men</td>\n      <td>5</td>\n    </tr>\n    <tr>\n      <th>1277</th>\n      <td>1908</td>\n      <td>London</td>\n      <td>Athletics</td>\n      <td>Athletics</td>\n      <td>GILBERT, Alfred Carleten</td>\n      <td>USA</td>\n      <td>Men</td>\n      <td>Pole Vault</td>\n      <td>Gold</td>\n      <td>Men</td>\n      <td>5</td>\n    </tr>\n    <tr>\n      <th>7770</th>\n      <td>1948</td>\n      <td>London</td>\n      <td>Gymnastics</td>\n      <td>Artistic G.</td>\n      <td>MOGYOROSI-KLENCS, Janos</td>\n      <td>HUN</td>\n      <td>Men</td>\n      <td>Vault</td>\n      <td>Bronze</td>\n      <td>Men</td>\n      <td>5</td>\n    </tr>\n    <tr>\n      <th>7771</th>\n      <td>1948</td>\n      <td>London</td>\n      <td>Gymnastics</td>\n      <td>Artistic G.</td>\n      <td>PATAKI, Ferenc</td>\n      <td>HUN</td>\n      <td>Men</td>\n      <td>Vault</td>\n      <td>Bronze</td>\n      <td>Men</td>\n      <td>5</td>\n    </tr>\n    <tr>\n      <th>7772</th>\n      <td>1948</td>\n      <td>London</td>\n      <td>Gymnastics</td>\n      <td>Artistic G.</td>\n      <td>SOTORNIK, Leo</td>\n      <td>TCH</td>\n      <td>Men</td>\n      <td>Vault</td>\n      <td>Bronze</td>\n      <td>Men</td>\n      <td>5</td>\n    </tr>\n    <tr>\n      <th>7773</th>\n      <td>1948</td>\n      <td>London</td>\n      <td>Gymnastics</td>\n      <td>Artistic G.</td>\n      <td>AALTONEN, Paavo Johannes</td>\n      <td>FIN</td>\n      <td>Men</td>\n      <td>Vault</td>\n      <td>Gold</td>\n      <td>Men</td>\n      <td>5</td>\n    </tr>\n    <tr>\n      <th>7774</th>\n      <td>1948</td>\n      <td>London</td>\n      <td>Gymnastics</td>\n      <td>Artistic G.</td>\n      <td>ROVE, Olavi Antero</td>\n      <td>FIN</td>\n      <td>Men</td>\n      <td>Vault</td>\n      <td>Silver</td>\n      <td>Men</td>\n      <td>5</td>\n    </tr>\n    <tr>\n      <th>15748</th>\n      <td>1980</td>\n      <td>Moscow</td>\n      <td>Equestrian</td>\n      <td>Eventing</td>\n      <td>PINTSET</td>\n      <td>URS</td>\n      <td>Men</td>\n      <td>Individual</td>\n      <td>Bronze</td>\n      <td>X</td>\n      <td>5</td>\n    </tr>\n    <tr>\n      <th>15749</th>\n      <td>1980</td>\n      <td>Moscow</td>\n      <td>Equestrian</td>\n      <td>Eventing</td>\n      <td>SALNIKOV, Yuri</td>\n      <td>URS</td>\n      <td>Men</td>\n      <td>Individual</td>\n      <td>Bronze</td>\n      <td>X</td>\n      <td>5</td>\n    </tr>\n    <tr>\n      <th>15750</th>\n      <td>1980</td>\n      <td>Moscow</td>\n      <td>Equestrian</td>\n      <td>Eventing</td>\n      <td>ROMAN, Federico Euro</td>\n      <td>ITA</td>\n      <td>Men</td>\n      <td>Individual</td>\n      <td>Gold</td>\n      <td>X</td>\n      <td>5</td>\n    </tr>\n    <tr>\n      <th>15751</th>\n      <td>1980</td>\n      <td>Moscow</td>\n      <td>Equestrian</td>\n      <td>Eventing</td>\n      <td>BLINOV, Aleksandr</td>\n      <td>URS</td>\n      <td>Men</td>\n      <td>Individual</td>\n      <td>Silver</td>\n      <td>X</td>\n      <td>5</td>\n    </tr>\n    <tr>\n      <th>15752</th>\n      <td>1980</td>\n      <td>Moscow</td>\n      <td>Equestrian</td>\n      <td>Eventing</td>\n      <td>GALZUN</td>\n      <td>URS</td>\n      <td>Men</td>\n      <td>Individual</td>\n      <td>Silver</td>\n      <td>X</td>\n      <td>5</td>\n    </tr>\n    <tr>\n      <th>15976</th>\n      <td>1980</td>\n      <td>Moscow</td>\n      <td>Gymnastics</td>\n      <td>Artistic G.</td>\n      <td>FILATOVA, Maria</td>\n      <td>URS</td>\n      <td>Women</td>\n      <td>Uneven Bars</td>\n      <td>Bronze</td>\n      <td>Women</td>\n      <td>5</td>\n    </tr>\n    <tr>\n      <th>15977</th>\n      <td>1980</td>\n      <td>Moscow</td>\n      <td>Gymnastics</td>\n      <td>Artistic G.</td>\n      <td>KRÄKER, Steffi</td>\n      <td>GDR</td>\n      <td>Women</td>\n      <td>Uneven Bars</td>\n      <td>Bronze</td>\n      <td>Women</td>\n      <td>5</td>\n    </tr>\n    <tr>\n      <th>15978</th>\n      <td>1980</td>\n      <td>Moscow</td>\n      <td>Gymnastics</td>\n      <td>Artistic G.</td>\n      <td>RÜHN, Melita</td>\n      <td>ROU</td>\n      <td>Women</td>\n      <td>Uneven Bars</td>\n      <td>Bronze</td>\n      <td>Women</td>\n      <td>5</td>\n    </tr>\n    <tr>\n      <th>15979</th>\n      <td>1980</td>\n      <td>Moscow</td>\n      <td>Gymnastics</td>\n      <td>Artistic G.</td>\n      <td>GNAUCK, Maxi</td>\n      <td>GDR</td>\n      <td>Women</td>\n      <td>Uneven Bars</td>\n      <td>Gold</td>\n      <td>Women</td>\n      <td>5</td>\n    </tr>\n    <tr>\n      <th>15980</th>\n      <td>1980</td>\n      <td>Moscow</td>\n      <td>Gymnastics</td>\n      <td>Artistic G.</td>\n      <td>EBERLE, Emilia</td>\n      <td>ROU</td>\n      <td>Women</td>\n      <td>Uneven Bars</td>\n      <td>Silver</td>\n      <td>Women</td>\n      <td>5</td>\n    </tr>\n    <tr>\n      <th>17419</th>\n      <td>1984</td>\n      <td>Los Angeles</td>\n      <td>Gymnastics</td>\n      <td>Artistic G.</td>\n      <td>LOU, Yun</td>\n      <td>CHN</td>\n      <td>Men</td>\n      <td>Vault</td>\n      <td>Gold</td>\n      <td>Men</td>\n      <td>5</td>\n    </tr>\n    <tr>\n      <th>17420</th>\n      <td>1984</td>\n      <td>Los Angeles</td>\n      <td>Gymnastics</td>\n      <td>Artistic G.</td>\n      <td>GAYLORD, Mitchell Jay</td>\n      <td>USA</td>\n      <td>Men</td>\n      <td>Vault</td>\n      <td>Silver</td>\n      <td>Men</td>\n      <td>5</td>\n    </tr>\n    <tr>\n      <th>17421</th>\n      <td>1984</td>\n      <td>Los Angeles</td>\n      <td>Gymnastics</td>\n      <td>Artistic G.</td>\n      <td>GUSHIKEN, Koji</td>\n      <td>JPN</td>\n      <td>Men</td>\n      <td>Vault</td>\n      <td>Silver</td>\n      <td>Men</td>\n      <td>5</td>\n    </tr>\n    <tr>\n      <th>17422</th>\n      <td>1984</td>\n      <td>Los Angeles</td>\n      <td>Gymnastics</td>\n      <td>Artistic G.</td>\n      <td>LI, Ning</td>\n      <td>CHN</td>\n      <td>Men</td>\n      <td>Vault</td>\n      <td>Silver</td>\n      <td>Men</td>\n      <td>5</td>\n    </tr>\n    <tr>\n      <th>17423</th>\n      <td>1984</td>\n      <td>Los Angeles</td>\n      <td>Gymnastics</td>\n      <td>Artistic G.</td>\n      <td>MORISUE, Shinji</td>\n      <td>JPN</td>\n      <td>Men</td>\n      <td>Vault</td>\n      <td>Silver</td>\n      <td>Men</td>\n      <td>5</td>\n    </tr>\n    <tr>\n      <th>19989</th>\n      <td>1992</td>\n      <td>Barcelona</td>\n      <td>Athletics</td>\n      <td>Athletics</td>\n      <td>CONWAY, Hollis</td>\n      <td>USA</td>\n      <td>Men</td>\n      <td>High Jump</td>\n      <td>Bronze</td>\n      <td>Men</td>\n      <td>5</td>\n    </tr>\n    <tr>\n      <th>19990</th>\n      <td>1992</td>\n      <td>Barcelona</td>\n      <td>Athletics</td>\n      <td>Athletics</td>\n      <td>FORSYTH, Timothy</td>\n      <td>AUS</td>\n      <td>Men</td>\n      <td>High Jump</td>\n      <td>Bronze</td>\n      <td>Men</td>\n      <td>5</td>\n    </tr>\n    <tr>\n      <th>19991</th>\n      <td>1992</td>\n      <td>Barcelona</td>\n      <td>Athletics</td>\n      <td>Athletics</td>\n      <td>PARTYKA, Artur</td>\n      <td>POL</td>\n      <td>Men</td>\n      <td>High Jump</td>\n      <td>Bronze</td>\n      <td>Men</td>\n      <td>5</td>\n    </tr>\n    <tr>\n      <th>19992</th>\n      <td>1992</td>\n      <td>Barcelona</td>\n      <td>Athletics</td>\n      <td>Athletics</td>\n      <td>SOTOMAYOR, Javier</td>\n      <td>CUB</td>\n      <td>Men</td>\n      <td>High Jump</td>\n      <td>Gold</td>\n      <td>Men</td>\n      <td>5</td>\n    </tr>\n    <tr>\n      <th>19993</th>\n      <td>1992</td>\n      <td>Barcelona</td>\n      <td>Athletics</td>\n      <td>Athletics</td>\n      <td>SJÖBERG, Patrick</td>\n      <td>SWE</td>\n      <td>Men</td>\n      <td>High Jump</td>\n      <td>Silver</td>\n      <td>Men</td>\n      <td>5</td>\n    </tr>\n    <tr>\n      <th>20525</th>\n      <td>1992</td>\n      <td>Barcelona</td>\n      <td>Gymnastics</td>\n      <td>Artistic G.</td>\n      <td>BONTAS, Cristina</td>\n      <td>ROU</td>\n      <td>Women</td>\n      <td>Floor Exercises</td>\n      <td>Bronze</td>\n      <td>Women</td>\n      <td>5</td>\n    </tr>\n    <tr>\n      <th>20526</th>\n      <td>1992</td>\n      <td>Barcelona</td>\n      <td>Gymnastics</td>\n      <td>Artistic G.</td>\n      <td>GOUTSOU, Tatiana</td>\n      <td>EUN</td>\n      <td>Women</td>\n      <td>Floor Exercises</td>\n      <td>Bronze</td>\n      <td>Women</td>\n      <td>5</td>\n    </tr>\n    <tr>\n      <th>20527</th>\n      <td>1992</td>\n      <td>Barcelona</td>\n      <td>Gymnastics</td>\n      <td>Artistic G.</td>\n      <td>MILLER, Shannon</td>\n      <td>USA</td>\n      <td>Women</td>\n      <td>Floor Exercises</td>\n      <td>Bronze</td>\n      <td>Women</td>\n      <td>5</td>\n    </tr>\n    <tr>\n      <th>20528</th>\n      <td>1992</td>\n      <td>Barcelona</td>\n      <td>Gymnastics</td>\n      <td>Artistic G.</td>\n      <td>MILOSOVICI, Lavinia Corina</td>\n      <td>ROU</td>\n      <td>Women</td>\n      <td>Floor Exercises</td>\n      <td>Gold</td>\n      <td>Women</td>\n      <td>5</td>\n    </tr>\n    <tr>\n      <th>20529</th>\n      <td>1992</td>\n      <td>Barcelona</td>\n      <td>Gymnastics</td>\n      <td>Artistic G.</td>\n      <td>ONODI, Henrietta</td>\n      <td>HUN</td>\n      <td>Women</td>\n      <td>Floor Exercises</td>\n      <td>Silver</td>\n      <td>Women</td>\n      <td>5</td>\n    </tr>\n    <tr>\n      <th>20539</th>\n      <td>1992</td>\n      <td>Barcelona</td>\n      <td>Gymnastics</td>\n      <td>Artistic G.</td>\n      <td>GUO, Linyao</td>\n      <td>CHN</td>\n      <td>Men</td>\n      <td>Parallel Bars</td>\n      <td>Bronze</td>\n      <td>Men</td>\n      <td>5</td>\n    </tr>\n    <tr>\n      <th>20540</th>\n      <td>1992</td>\n      <td>Barcelona</td>\n      <td>Gymnastics</td>\n      <td>Artistic G.</td>\n      <td>KOROBCHINSKI, Igor</td>\n      <td>EUN</td>\n      <td>Men</td>\n      <td>Parallel Bars</td>\n      <td>Bronze</td>\n      <td>Men</td>\n      <td>5</td>\n    </tr>\n    <tr>\n      <th>20541</th>\n      <td>1992</td>\n      <td>Barcelona</td>\n      <td>Gymnastics</td>\n      <td>Artistic G.</td>\n      <td>MATSUNAGA, Masayuki</td>\n      <td>JPN</td>\n      <td>Men</td>\n      <td>Parallel Bars</td>\n      <td>Bronze</td>\n      <td>Men</td>\n      <td>5</td>\n    </tr>\n    <tr>\n      <th>20542</th>\n      <td>1992</td>\n      <td>Barcelona</td>\n      <td>Gymnastics</td>\n      <td>Artistic G.</td>\n      <td>SCHERBO, Vitaly</td>\n      <td>EUN</td>\n      <td>Men</td>\n      <td>Parallel Bars</td>\n      <td>Gold</td>\n      <td>Men</td>\n      <td>5</td>\n    </tr>\n    <tr>\n      <th>20543</th>\n      <td>1992</td>\n      <td>Barcelona</td>\n      <td>Gymnastics</td>\n      <td>Artistic G.</td>\n      <td>LI, Jing</td>\n      <td>CHN</td>\n      <td>Men</td>\n      <td>Parallel Bars</td>\n      <td>Silver</td>\n      <td>Men</td>\n      <td>5</td>\n    </tr>\n    <tr>\n      <th>22326</th>\n      <td>1996</td>\n      <td>Atlanta</td>\n      <td>Gymnastics</td>\n      <td>Artistic G.</td>\n      <td>FAN, Bin</td>\n      <td>CHN</td>\n      <td>Men</td>\n      <td>Horizontal Bar</td>\n      <td>Bronze</td>\n      <td>Men</td>\n      <td>5</td>\n    </tr>\n    <tr>\n      <th>22327</th>\n      <td>1996</td>\n      <td>Atlanta</td>\n      <td>Gymnastics</td>\n      <td>Artistic G.</td>\n      <td>NEMOV, Alexei</td>\n      <td>RUS</td>\n      <td>Men</td>\n      <td>Horizontal Bar</td>\n      <td>Bronze</td>\n      <td>Men</td>\n      <td>5</td>\n    </tr>\n    <tr>\n      <th>22328</th>\n      <td>1996</td>\n      <td>Atlanta</td>\n      <td>Gymnastics</td>\n      <td>Artistic G.</td>\n      <td>SCHERBO, Vitaly</td>\n      <td>BLR</td>\n      <td>Men</td>\n      <td>Horizontal Bar</td>\n      <td>Bronze</td>\n      <td>Men</td>\n      <td>5</td>\n    </tr>\n    <tr>\n      <th>22329</th>\n      <td>1996</td>\n      <td>Atlanta</td>\n      <td>Gymnastics</td>\n      <td>Artistic G.</td>\n      <td>WECKER, Andreas</td>\n      <td>GER</td>\n      <td>Men</td>\n      <td>Horizontal Bar</td>\n      <td>Gold</td>\n      <td>Men</td>\n      <td>5</td>\n    </tr>\n    <tr>\n      <th>22330</th>\n      <td>1996</td>\n      <td>Atlanta</td>\n      <td>Gymnastics</td>\n      <td>Artistic G.</td>\n      <td>DOUNEV, Krassimir Nikolaev</td>\n      <td>BUL</td>\n      <td>Men</td>\n      <td>Horizontal Bar</td>\n      <td>Silver</td>\n      <td>Men</td>\n      <td>5</td>\n    </tr>\n    <tr>\n      <th>29728</th>\n      <td>2012</td>\n      <td>London</td>\n      <td>Athletics</td>\n      <td>Athletics</td>\n      <td>UKHOV, Ivan</td>\n      <td>RUS</td>\n      <td>Men</td>\n      <td>High Jump</td>\n      <td>Gold</td>\n      <td>Men</td>\n      <td>5</td>\n    </tr>\n    <tr>\n      <th>29729</th>\n      <td>2012</td>\n      <td>London</td>\n      <td>Athletics</td>\n      <td>Athletics</td>\n      <td>KYNARD, Erik</td>\n      <td>USA</td>\n      <td>Men</td>\n      <td>High Jump</td>\n      <td>Silver</td>\n      <td>Men</td>\n      <td>5</td>\n    </tr>\n    <tr>\n      <th>29730</th>\n      <td>2012</td>\n      <td>London</td>\n      <td>Athletics</td>\n      <td>Athletics</td>\n      <td>BARSHIM, Mutaz Essa</td>\n      <td>QAT</td>\n      <td>Men</td>\n      <td>High Jump</td>\n      <td>Bronze</td>\n      <td>Men</td>\n      <td>5</td>\n    </tr>\n    <tr>\n      <th>29731</th>\n      <td>2012</td>\n      <td>London</td>\n      <td>Athletics</td>\n      <td>Athletics</td>\n      <td>DROUIN, Derek</td>\n      <td>CAN</td>\n      <td>Men</td>\n      <td>High Jump</td>\n      <td>Bronze</td>\n      <td>Men</td>\n      <td>5</td>\n    </tr>\n    <tr>\n      <th>29732</th>\n      <td>2012</td>\n      <td>London</td>\n      <td>Athletics</td>\n      <td>Athletics</td>\n      <td>GRABARZ, Robert</td>\n      <td>GBR</td>\n      <td>Men</td>\n      <td>High Jump</td>\n      <td>Bronze</td>\n      <td>Men</td>\n      <td>5</td>\n    </tr>\n  </tbody>\n</table>\n</div>"
     },
     "execution_count": 147,
     "metadata": {},
     "output_type": "execute_result"
    }
   ],
   "source": [
    "summer.loc[summer.Event_Medals == 5]"
   ],
   "metadata": {
    "collapsed": false,
    "ExecuteTime": {
     "end_time": "2024-04-26T15:20:15.199744300Z",
     "start_time": "2024-04-26T15:20:15.156188500Z"
    }
   },
   "execution_count": 147
  },
  {
   "cell_type": "markdown",
   "metadata": {},
   "source": [
    "### Step 4: Identifying Team Events"
   ]
  },
  {
   "cell_type": "markdown",
   "metadata": {},
   "source": [
    "All medals / rows, that were awarded in Events with more than 5 medals, shall be deemed Team Event Medals. (new column \"Team\")"
   ]
  },
  {
   "cell_type": "code",
   "outputs": [],
   "source": [
    "summer[\"Team\"] = pd.Series(np.where(summer.Event_Medals > 5, \"Yes\", \"No\"))"
   ],
   "metadata": {
    "collapsed": false,
    "ExecuteTime": {
     "end_time": "2024-04-26T15:44:12.677720500Z",
     "start_time": "2024-04-26T15:44:12.645542500Z"
    }
   },
   "execution_count": 150
  },
  {
   "cell_type": "code",
   "outputs": [
    {
     "data": {
      "text/plain": "   Year    City     Sport Discipline             Athlete Country Gender  \\\n0  1896  Athens  Aquatics   Swimming       HAJOS, Alfred     HUN    Men   \n1  1896  Athens  Aquatics   Swimming    HERSCHMANN, Otto     AUT    Men   \n2  1896  Athens  Aquatics   Swimming   DRIVAS, Dimitrios     GRE    Men   \n3  1896  Athens  Aquatics   Swimming  MALOKINIS, Ioannis     GRE    Men   \n4  1896  Athens  Aquatics   Swimming  CHASAPIS, Spiridon     GRE    Men   \n\n                        Event   Medal Event_Gender  Event_Medals Team  \n0              100M Freestyle    Gold          Men             2   No  \n1              100M Freestyle  Silver          Men             2   No  \n2  100M Freestyle For Sailors  Bronze          Men             3   No  \n3  100M Freestyle For Sailors    Gold          Men             3   No  \n4  100M Freestyle For Sailors  Silver          Men             3   No  ",
      "text/html": "<div>\n<style scoped>\n    .dataframe tbody tr th:only-of-type {\n        vertical-align: middle;\n    }\n\n    .dataframe tbody tr th {\n        vertical-align: top;\n    }\n\n    .dataframe thead th {\n        text-align: right;\n    }\n</style>\n<table border=\"1\" class=\"dataframe\">\n  <thead>\n    <tr style=\"text-align: right;\">\n      <th></th>\n      <th>Year</th>\n      <th>City</th>\n      <th>Sport</th>\n      <th>Discipline</th>\n      <th>Athlete</th>\n      <th>Country</th>\n      <th>Gender</th>\n      <th>Event</th>\n      <th>Medal</th>\n      <th>Event_Gender</th>\n      <th>Event_Medals</th>\n      <th>Team</th>\n    </tr>\n  </thead>\n  <tbody>\n    <tr>\n      <th>0</th>\n      <td>1896</td>\n      <td>Athens</td>\n      <td>Aquatics</td>\n      <td>Swimming</td>\n      <td>HAJOS, Alfred</td>\n      <td>HUN</td>\n      <td>Men</td>\n      <td>100M Freestyle</td>\n      <td>Gold</td>\n      <td>Men</td>\n      <td>2</td>\n      <td>No</td>\n    </tr>\n    <tr>\n      <th>1</th>\n      <td>1896</td>\n      <td>Athens</td>\n      <td>Aquatics</td>\n      <td>Swimming</td>\n      <td>HERSCHMANN, Otto</td>\n      <td>AUT</td>\n      <td>Men</td>\n      <td>100M Freestyle</td>\n      <td>Silver</td>\n      <td>Men</td>\n      <td>2</td>\n      <td>No</td>\n    </tr>\n    <tr>\n      <th>2</th>\n      <td>1896</td>\n      <td>Athens</td>\n      <td>Aquatics</td>\n      <td>Swimming</td>\n      <td>DRIVAS, Dimitrios</td>\n      <td>GRE</td>\n      <td>Men</td>\n      <td>100M Freestyle For Sailors</td>\n      <td>Bronze</td>\n      <td>Men</td>\n      <td>3</td>\n      <td>No</td>\n    </tr>\n    <tr>\n      <th>3</th>\n      <td>1896</td>\n      <td>Athens</td>\n      <td>Aquatics</td>\n      <td>Swimming</td>\n      <td>MALOKINIS, Ioannis</td>\n      <td>GRE</td>\n      <td>Men</td>\n      <td>100M Freestyle For Sailors</td>\n      <td>Gold</td>\n      <td>Men</td>\n      <td>3</td>\n      <td>No</td>\n    </tr>\n    <tr>\n      <th>4</th>\n      <td>1896</td>\n      <td>Athens</td>\n      <td>Aquatics</td>\n      <td>Swimming</td>\n      <td>CHASAPIS, Spiridon</td>\n      <td>GRE</td>\n      <td>Men</td>\n      <td>100M Freestyle For Sailors</td>\n      <td>Silver</td>\n      <td>Men</td>\n      <td>3</td>\n      <td>No</td>\n    </tr>\n  </tbody>\n</table>\n</div>"
     },
     "execution_count": 152,
     "metadata": {},
     "output_type": "execute_result"
    }
   ],
   "source": [
    "summer.head()"
   ],
   "metadata": {
    "collapsed": false,
    "ExecuteTime": {
     "end_time": "2024-04-26T15:44:21.788961200Z",
     "start_time": "2024-04-26T15:44:21.748329Z"
    }
   },
   "execution_count": 152
  },
  {
   "cell_type": "code",
   "outputs": [
    {
     "data": {
      "text/plain": "Team\nYes    20140\nNo     11017\nName: count, dtype: int64"
     },
     "execution_count": 154,
     "metadata": {},
     "output_type": "execute_result"
    }
   ],
   "source": [
    "summer.Team.value_counts()"
   ],
   "metadata": {
    "collapsed": false,
    "ExecuteTime": {
     "end_time": "2024-04-26T15:44:51.247748100Z",
     "start_time": "2024-04-26T15:44:51.216290900Z"
    }
   },
   "execution_count": 154
  },
  {
   "cell_type": "markdown",
   "metadata": {},
   "source": [
    "### Step 5: Removing Duplicated Medals in Team Events "
   ]
  },
  {
   "cell_type": "code",
   "outputs": [
    {
     "data": {
      "text/plain": "(11017, 13)"
     },
     "execution_count": 155,
     "metadata": {},
     "output_type": "execute_result"
    }
   ],
   "source": [
    "summer.reset_index(inplace=True)\n",
    "singles = summer.loc[summer.Team == \"No\"].copy()\n",
    "singles.shape"
   ],
   "metadata": {
    "collapsed": false,
    "ExecuteTime": {
     "end_time": "2024-04-26T15:51:07.492401400Z",
     "start_time": "2024-04-26T15:51:07.467759700Z"
    }
   },
   "execution_count": 155
  },
  {
   "cell_type": "code",
   "outputs": [
    {
     "data": {
      "text/plain": "(20140, 13)"
     },
     "execution_count": 156,
     "metadata": {},
     "output_type": "execute_result"
    }
   ],
   "source": [
    "team = summer.loc[summer.Team == \"Yes\"].copy()\n",
    "team.shape"
   ],
   "metadata": {
    "collapsed": false,
    "ExecuteTime": {
     "end_time": "2024-04-26T15:51:13.680649500Z",
     "start_time": "2024-04-26T15:51:13.639781800Z"
    }
   },
   "execution_count": 156
  },
  {
   "cell_type": "code",
   "outputs": [
    {
     "data": {
      "text/plain": "(3701, 13)"
     },
     "execution_count": 158,
     "metadata": {},
     "output_type": "execute_result"
    }
   ],
   "source": [
    "team.drop_duplicates(subset = [\"Year\", \"Sport\", \"Discipline\", \"Country\", \"Event\", \"Event_Gender\", \"Medal\"], inplace = True)\n",
    "team.shape"
   ],
   "metadata": {
    "collapsed": false,
    "ExecuteTime": {
     "end_time": "2024-04-26T15:51:26.287200400Z",
     "start_time": "2024-04-26T15:51:26.267353700Z"
    }
   },
   "execution_count": 158
  },
  {
   "cell_type": "code",
   "outputs": [],
   "source": [
    "pd.concat([singles, team]).shape\n",
    "summer_new = pd.concat([singles, team])\n",
    "summer_new.set_index(\"index\", inplace= True)"
   ],
   "metadata": {
    "collapsed": false,
    "ExecuteTime": {
     "end_time": "2024-04-26T15:52:04.161258800Z",
     "start_time": "2024-04-26T15:52:04.122350300Z"
    }
   },
   "execution_count": 161
  },
  {
   "cell_type": "code",
   "outputs": [
    {
     "data": {
      "text/plain": "       Year    City     Sport Discipline             Athlete Country Gender  \\\nindex                                                                         \n0      1896  Athens  Aquatics   Swimming       HAJOS, Alfred     HUN    Men   \n1      1896  Athens  Aquatics   Swimming    HERSCHMANN, Otto     AUT    Men   \n2      1896  Athens  Aquatics   Swimming   DRIVAS, Dimitrios     GRE    Men   \n3      1896  Athens  Aquatics   Swimming  MALOKINIS, Ioannis     GRE    Men   \n4      1896  Athens  Aquatics   Swimming  CHASAPIS, Spiridon     GRE    Men   \n\n                            Event   Medal Event_Gender  Event_Medals Team  \nindex                                                                      \n0                  100M Freestyle    Gold          Men             2   No  \n1                  100M Freestyle  Silver          Men             2   No  \n2      100M Freestyle For Sailors  Bronze          Men             3   No  \n3      100M Freestyle For Sailors    Gold          Men             3   No  \n4      100M Freestyle For Sailors  Silver          Men             3   No  ",
      "text/html": "<div>\n<style scoped>\n    .dataframe tbody tr th:only-of-type {\n        vertical-align: middle;\n    }\n\n    .dataframe tbody tr th {\n        vertical-align: top;\n    }\n\n    .dataframe thead th {\n        text-align: right;\n    }\n</style>\n<table border=\"1\" class=\"dataframe\">\n  <thead>\n    <tr style=\"text-align: right;\">\n      <th></th>\n      <th>Year</th>\n      <th>City</th>\n      <th>Sport</th>\n      <th>Discipline</th>\n      <th>Athlete</th>\n      <th>Country</th>\n      <th>Gender</th>\n      <th>Event</th>\n      <th>Medal</th>\n      <th>Event_Gender</th>\n      <th>Event_Medals</th>\n      <th>Team</th>\n    </tr>\n    <tr>\n      <th>index</th>\n      <th></th>\n      <th></th>\n      <th></th>\n      <th></th>\n      <th></th>\n      <th></th>\n      <th></th>\n      <th></th>\n      <th></th>\n      <th></th>\n      <th></th>\n      <th></th>\n    </tr>\n  </thead>\n  <tbody>\n    <tr>\n      <th>0</th>\n      <td>1896</td>\n      <td>Athens</td>\n      <td>Aquatics</td>\n      <td>Swimming</td>\n      <td>HAJOS, Alfred</td>\n      <td>HUN</td>\n      <td>Men</td>\n      <td>100M Freestyle</td>\n      <td>Gold</td>\n      <td>Men</td>\n      <td>2</td>\n      <td>No</td>\n    </tr>\n    <tr>\n      <th>1</th>\n      <td>1896</td>\n      <td>Athens</td>\n      <td>Aquatics</td>\n      <td>Swimming</td>\n      <td>HERSCHMANN, Otto</td>\n      <td>AUT</td>\n      <td>Men</td>\n      <td>100M Freestyle</td>\n      <td>Silver</td>\n      <td>Men</td>\n      <td>2</td>\n      <td>No</td>\n    </tr>\n    <tr>\n      <th>2</th>\n      <td>1896</td>\n      <td>Athens</td>\n      <td>Aquatics</td>\n      <td>Swimming</td>\n      <td>DRIVAS, Dimitrios</td>\n      <td>GRE</td>\n      <td>Men</td>\n      <td>100M Freestyle For Sailors</td>\n      <td>Bronze</td>\n      <td>Men</td>\n      <td>3</td>\n      <td>No</td>\n    </tr>\n    <tr>\n      <th>3</th>\n      <td>1896</td>\n      <td>Athens</td>\n      <td>Aquatics</td>\n      <td>Swimming</td>\n      <td>MALOKINIS, Ioannis</td>\n      <td>GRE</td>\n      <td>Men</td>\n      <td>100M Freestyle For Sailors</td>\n      <td>Gold</td>\n      <td>Men</td>\n      <td>3</td>\n      <td>No</td>\n    </tr>\n    <tr>\n      <th>4</th>\n      <td>1896</td>\n      <td>Athens</td>\n      <td>Aquatics</td>\n      <td>Swimming</td>\n      <td>CHASAPIS, Spiridon</td>\n      <td>GRE</td>\n      <td>Men</td>\n      <td>100M Freestyle For Sailors</td>\n      <td>Silver</td>\n      <td>Men</td>\n      <td>3</td>\n      <td>No</td>\n    </tr>\n  </tbody>\n</table>\n</div>"
     },
     "execution_count": 163,
     "metadata": {},
     "output_type": "execute_result"
    }
   ],
   "source": [
    "summer_new.head()"
   ],
   "metadata": {
    "collapsed": false,
    "ExecuteTime": {
     "end_time": "2024-04-26T15:52:20.636106600Z",
     "start_time": "2024-04-26T15:52:20.619660600Z"
    }
   },
   "execution_count": 163
  },
  {
   "cell_type": "code",
   "outputs": [
    {
     "name": "stdout",
     "output_type": "stream",
     "text": [
      "<class 'pandas.core.frame.DataFrame'>\n",
      "Index: 14718 entries, 0 to 31036\n",
      "Data columns (total 12 columns):\n",
      " #   Column        Non-Null Count  Dtype \n",
      "---  ------        --------------  ----- \n",
      " 0   Year          14718 non-null  int64 \n",
      " 1   City          14718 non-null  object\n",
      " 2   Sport         14718 non-null  object\n",
      " 3   Discipline    14718 non-null  object\n",
      " 4   Athlete       14718 non-null  object\n",
      " 5   Country       14718 non-null  object\n",
      " 6   Gender        14718 non-null  object\n",
      " 7   Event         14718 non-null  object\n",
      " 8   Medal         14718 non-null  object\n",
      " 9   Event_Gender  14718 non-null  object\n",
      " 10  Event_Medals  14718 non-null  int64 \n",
      " 11  Team          14718 non-null  object\n",
      "dtypes: int64(2), object(10)\n",
      "memory usage: 1.5+ MB\n"
     ]
    }
   ],
   "source": [
    "summer_new.info()"
   ],
   "metadata": {
    "collapsed": false,
    "ExecuteTime": {
     "end_time": "2024-04-26T15:52:18.946270800Z",
     "start_time": "2024-04-26T15:52:18.919435400Z"
    }
   },
   "execution_count": 162
  },
  {
   "cell_type": "markdown",
   "metadata": {},
   "source": [
    "The subset for determining Duplicates shall be formed by the Columns \"Year\", \"Sport\", \"Discipline\", \"Country\", \"Event\", \"Event_Gender\", \"Medal\". Keep one Medal!"
   ]
  },
  {
   "cell_type": "markdown",
   "metadata": {},
   "source": [
    "### Step 6: Creating the official Medal Table for all Editions"
   ]
  },
  {
   "cell_type": "code",
   "outputs": [
    {
     "data": {
      "text/plain": "Medal         Gold  Silver  Bronze\nYear Country                      \n1896 AUS         2       0       0\n     AUT         2       1       2\n     DEN         1       2       3\n     FRA         5       4       2\n     GBR         2       3       2\n...            ...     ...     ...\n2012 UGA         1       0       0\n     UKR         6       4       9\n     USA        46      28      32\n     UZB         1       0       2\n     VEN         1       0       0\n\n[1157 rows x 3 columns]",
      "text/html": "<div>\n<style scoped>\n    .dataframe tbody tr th:only-of-type {\n        vertical-align: middle;\n    }\n\n    .dataframe tbody tr th {\n        vertical-align: top;\n    }\n\n    .dataframe thead th {\n        text-align: right;\n    }\n</style>\n<table border=\"1\" class=\"dataframe\">\n  <thead>\n    <tr style=\"text-align: right;\">\n      <th></th>\n      <th>Medal</th>\n      <th>Gold</th>\n      <th>Silver</th>\n      <th>Bronze</th>\n    </tr>\n    <tr>\n      <th>Year</th>\n      <th>Country</th>\n      <th></th>\n      <th></th>\n      <th></th>\n    </tr>\n  </thead>\n  <tbody>\n    <tr>\n      <th rowspan=\"5\" valign=\"top\">1896</th>\n      <th>AUS</th>\n      <td>2</td>\n      <td>0</td>\n      <td>0</td>\n    </tr>\n    <tr>\n      <th>AUT</th>\n      <td>2</td>\n      <td>1</td>\n      <td>2</td>\n    </tr>\n    <tr>\n      <th>DEN</th>\n      <td>1</td>\n      <td>2</td>\n      <td>3</td>\n    </tr>\n    <tr>\n      <th>FRA</th>\n      <td>5</td>\n      <td>4</td>\n      <td>2</td>\n    </tr>\n    <tr>\n      <th>GBR</th>\n      <td>2</td>\n      <td>3</td>\n      <td>2</td>\n    </tr>\n    <tr>\n      <th>...</th>\n      <th>...</th>\n      <td>...</td>\n      <td>...</td>\n      <td>...</td>\n    </tr>\n    <tr>\n      <th rowspan=\"5\" valign=\"top\">2012</th>\n      <th>UGA</th>\n      <td>1</td>\n      <td>0</td>\n      <td>0</td>\n    </tr>\n    <tr>\n      <th>UKR</th>\n      <td>6</td>\n      <td>4</td>\n      <td>9</td>\n    </tr>\n    <tr>\n      <th>USA</th>\n      <td>46</td>\n      <td>28</td>\n      <td>32</td>\n    </tr>\n    <tr>\n      <th>UZB</th>\n      <td>1</td>\n      <td>0</td>\n      <td>2</td>\n    </tr>\n    <tr>\n      <th>VEN</th>\n      <td>1</td>\n      <td>0</td>\n      <td>0</td>\n    </tr>\n  </tbody>\n</table>\n<p>1157 rows × 3 columns</p>\n</div>"
     },
     "execution_count": 164,
     "metadata": {},
     "output_type": "execute_result"
    }
   ],
   "source": [
    "medal_tables = summer_new.groupby([\"Year\", \"Country\", \"Medal\"]).Medal.count().unstack(fill_value = 0)[[\"Gold\", \"Silver\", \"Bronze\"]]\n",
    "medal_tables"
   ],
   "metadata": {
    "collapsed": false,
    "ExecuteTime": {
     "end_time": "2024-04-26T15:53:31.604582800Z",
     "start_time": "2024-04-26T15:53:31.564365600Z"
    }
   },
   "execution_count": 164
  },
  {
   "cell_type": "markdown",
   "metadata": {},
   "source": [
    "### Step 7: Comparison with Wikipedia Medal Tables"
   ]
  },
  {
   "cell_type": "code",
   "outputs": [],
   "source": [
    "agg_1976 = medal_tables.loc[1976].sort_values([\"Gold\", \"Silver\", \"Bronze\"], ascending = False).copy()"
   ],
   "metadata": {
    "collapsed": false,
    "ExecuteTime": {
     "end_time": "2024-04-26T16:01:22.353816900Z",
     "start_time": "2024-04-26T16:01:22.229052600Z"
    }
   },
   "execution_count": 165
  },
  {
   "cell_type": "markdown",
   "source": [
    "Compare the aggregated Medal Table for the Edition 1976 with the official Medal Table from Wikipedia (wik_1976). Calculate the absolute divergence for the Edition 1976!"
   ],
   "metadata": {
    "collapsed": false
   }
  },
  {
   "cell_type": "code",
   "outputs": [
    {
     "data": {
      "text/plain": "Medal    Gold  Silver  Bronze\nCountry                      \nURS        49      41      35\nGDR        40      25      25\nUSA        34      35      25\nFRG        10      12      17\nJPN         9       6      10",
      "text/html": "<div>\n<style scoped>\n    .dataframe tbody tr th:only-of-type {\n        vertical-align: middle;\n    }\n\n    .dataframe tbody tr th {\n        vertical-align: top;\n    }\n\n    .dataframe thead th {\n        text-align: right;\n    }\n</style>\n<table border=\"1\" class=\"dataframe\">\n  <thead>\n    <tr style=\"text-align: right;\">\n      <th>Medal</th>\n      <th>Gold</th>\n      <th>Silver</th>\n      <th>Bronze</th>\n    </tr>\n    <tr>\n      <th>Country</th>\n      <th></th>\n      <th></th>\n      <th></th>\n    </tr>\n  </thead>\n  <tbody>\n    <tr>\n      <th>URS</th>\n      <td>49</td>\n      <td>41</td>\n      <td>35</td>\n    </tr>\n    <tr>\n      <th>GDR</th>\n      <td>40</td>\n      <td>25</td>\n      <td>25</td>\n    </tr>\n    <tr>\n      <th>USA</th>\n      <td>34</td>\n      <td>35</td>\n      <td>25</td>\n    </tr>\n    <tr>\n      <th>FRG</th>\n      <td>10</td>\n      <td>12</td>\n      <td>17</td>\n    </tr>\n    <tr>\n      <th>JPN</th>\n      <td>9</td>\n      <td>6</td>\n      <td>10</td>\n    </tr>\n  </tbody>\n</table>\n</div>"
     },
     "execution_count": 166,
     "metadata": {},
     "output_type": "execute_result"
    }
   ],
   "source": [
    "agg_1976.head()"
   ],
   "metadata": {
    "collapsed": false,
    "ExecuteTime": {
     "end_time": "2024-04-26T16:01:22.687114600Z",
     "start_time": "2024-04-26T16:01:22.633088200Z"
    }
   },
   "execution_count": 166
  },
  {
   "cell_type": "code",
   "outputs": [
    {
     "data": {
      "text/plain": "         Gold  Silver  Bronze\nCountry                      \nURS        49      41      35\nGDR        40      25      25\nUSA        34      35      25\nFRG        10      12      17\nJPN         9       6      10",
      "text/html": "<div>\n<style scoped>\n    .dataframe tbody tr th:only-of-type {\n        vertical-align: middle;\n    }\n\n    .dataframe tbody tr th {\n        vertical-align: top;\n    }\n\n    .dataframe thead th {\n        text-align: right;\n    }\n</style>\n<table border=\"1\" class=\"dataframe\">\n  <thead>\n    <tr style=\"text-align: right;\">\n      <th></th>\n      <th>Gold</th>\n      <th>Silver</th>\n      <th>Bronze</th>\n    </tr>\n    <tr>\n      <th>Country</th>\n      <th></th>\n      <th></th>\n      <th></th>\n    </tr>\n  </thead>\n  <tbody>\n    <tr>\n      <th>URS</th>\n      <td>49</td>\n      <td>41</td>\n      <td>35</td>\n    </tr>\n    <tr>\n      <th>GDR</th>\n      <td>40</td>\n      <td>25</td>\n      <td>25</td>\n    </tr>\n    <tr>\n      <th>USA</th>\n      <td>34</td>\n      <td>35</td>\n      <td>25</td>\n    </tr>\n    <tr>\n      <th>FRG</th>\n      <td>10</td>\n      <td>12</td>\n      <td>17</td>\n    </tr>\n    <tr>\n      <th>JPN</th>\n      <td>9</td>\n      <td>6</td>\n      <td>10</td>\n    </tr>\n  </tbody>\n</table>\n</div>"
     },
     "execution_count": 167,
     "metadata": {},
     "output_type": "execute_result"
    }
   ],
   "source": [
    "wik_1976.head()"
   ],
   "metadata": {
    "collapsed": false,
    "ExecuteTime": {
     "end_time": "2024-04-26T16:01:23.101963200Z",
     "start_time": "2024-04-26T16:01:23.044957100Z"
    }
   },
   "execution_count": 167
  },
  {
   "cell_type": "markdown",
   "source": [],
   "metadata": {
    "collapsed": false
   }
  },
  {
   "cell_type": "code",
   "outputs": [
    {
     "data": {
      "text/plain": "Medal    Gold  Silver  Bronze\nCountry                      \nAUS       0.0     0.0     0.0\nAUT       0.0     0.0     0.0\nBEL       0.0     0.0     0.0\nBER       0.0     0.0     0.0\nBRA       0.0     0.0     0.0\nBUL       0.0     0.0     0.0\nCAN       0.0     0.0     0.0\nCUB       0.0     0.0     0.0\nDEN       0.0     0.0     0.0\nESP       0.0     0.0     0.0\nFIN       0.0     0.0     0.0\nFRA       0.0     0.0     0.0\nFRG       0.0     0.0     0.0\nGBR       0.0     0.0     0.0\nGDR       0.0     0.0     0.0\nHUN       0.0     0.0     0.0\nIRI       0.0     0.0     0.0\nITA       0.0     0.0     0.0\nJAM       0.0     0.0     0.0\nJPN       0.0     0.0     0.0\nKOR       0.0     0.0     0.0\nMEX       0.0     0.0     0.0\nMGL       0.0     0.0     0.0\nNED       0.0     0.0     0.0\nNOR       0.0     0.0     0.0\nNZL       0.0     0.0     0.0\nPAK       0.0     0.0     0.0\nPOL       0.0     0.0     0.0\nPOR       0.0     0.0     0.0\nPRK       0.0     0.0     0.0\nPUR       0.0     0.0     0.0\nROU       0.0     0.0     0.0\nSUI       0.0     0.0     0.0\nSWE       0.0     0.0     0.0\nTCH       0.0     0.0     0.0\nTHA       0.0     0.0     0.0\nTRI       0.0     0.0     0.0\nURS       0.0     0.0     0.0\nUSA       0.0     0.0     0.0\nVEN       0.0     0.0     0.0\nYUG       0.0     0.0     0.0",
      "text/html": "<div>\n<style scoped>\n    .dataframe tbody tr th:only-of-type {\n        vertical-align: middle;\n    }\n\n    .dataframe tbody tr th {\n        vertical-align: top;\n    }\n\n    .dataframe thead th {\n        text-align: right;\n    }\n</style>\n<table border=\"1\" class=\"dataframe\">\n  <thead>\n    <tr style=\"text-align: right;\">\n      <th>Medal</th>\n      <th>Gold</th>\n      <th>Silver</th>\n      <th>Bronze</th>\n    </tr>\n    <tr>\n      <th>Country</th>\n      <th></th>\n      <th></th>\n      <th></th>\n    </tr>\n  </thead>\n  <tbody>\n    <tr>\n      <th>AUS</th>\n      <td>0.0</td>\n      <td>0.0</td>\n      <td>0.0</td>\n    </tr>\n    <tr>\n      <th>AUT</th>\n      <td>0.0</td>\n      <td>0.0</td>\n      <td>0.0</td>\n    </tr>\n    <tr>\n      <th>BEL</th>\n      <td>0.0</td>\n      <td>0.0</td>\n      <td>0.0</td>\n    </tr>\n    <tr>\n      <th>BER</th>\n      <td>0.0</td>\n      <td>0.0</td>\n      <td>0.0</td>\n    </tr>\n    <tr>\n      <th>BRA</th>\n      <td>0.0</td>\n      <td>0.0</td>\n      <td>0.0</td>\n    </tr>\n    <tr>\n      <th>BUL</th>\n      <td>0.0</td>\n      <td>0.0</td>\n      <td>0.0</td>\n    </tr>\n    <tr>\n      <th>CAN</th>\n      <td>0.0</td>\n      <td>0.0</td>\n      <td>0.0</td>\n    </tr>\n    <tr>\n      <th>CUB</th>\n      <td>0.0</td>\n      <td>0.0</td>\n      <td>0.0</td>\n    </tr>\n    <tr>\n      <th>DEN</th>\n      <td>0.0</td>\n      <td>0.0</td>\n      <td>0.0</td>\n    </tr>\n    <tr>\n      <th>ESP</th>\n      <td>0.0</td>\n      <td>0.0</td>\n      <td>0.0</td>\n    </tr>\n    <tr>\n      <th>FIN</th>\n      <td>0.0</td>\n      <td>0.0</td>\n      <td>0.0</td>\n    </tr>\n    <tr>\n      <th>FRA</th>\n      <td>0.0</td>\n      <td>0.0</td>\n      <td>0.0</td>\n    </tr>\n    <tr>\n      <th>FRG</th>\n      <td>0.0</td>\n      <td>0.0</td>\n      <td>0.0</td>\n    </tr>\n    <tr>\n      <th>GBR</th>\n      <td>0.0</td>\n      <td>0.0</td>\n      <td>0.0</td>\n    </tr>\n    <tr>\n      <th>GDR</th>\n      <td>0.0</td>\n      <td>0.0</td>\n      <td>0.0</td>\n    </tr>\n    <tr>\n      <th>HUN</th>\n      <td>0.0</td>\n      <td>0.0</td>\n      <td>0.0</td>\n    </tr>\n    <tr>\n      <th>IRI</th>\n      <td>0.0</td>\n      <td>0.0</td>\n      <td>0.0</td>\n    </tr>\n    <tr>\n      <th>ITA</th>\n      <td>0.0</td>\n      <td>0.0</td>\n      <td>0.0</td>\n    </tr>\n    <tr>\n      <th>JAM</th>\n      <td>0.0</td>\n      <td>0.0</td>\n      <td>0.0</td>\n    </tr>\n    <tr>\n      <th>JPN</th>\n      <td>0.0</td>\n      <td>0.0</td>\n      <td>0.0</td>\n    </tr>\n    <tr>\n      <th>KOR</th>\n      <td>0.0</td>\n      <td>0.0</td>\n      <td>0.0</td>\n    </tr>\n    <tr>\n      <th>MEX</th>\n      <td>0.0</td>\n      <td>0.0</td>\n      <td>0.0</td>\n    </tr>\n    <tr>\n      <th>MGL</th>\n      <td>0.0</td>\n      <td>0.0</td>\n      <td>0.0</td>\n    </tr>\n    <tr>\n      <th>NED</th>\n      <td>0.0</td>\n      <td>0.0</td>\n      <td>0.0</td>\n    </tr>\n    <tr>\n      <th>NOR</th>\n      <td>0.0</td>\n      <td>0.0</td>\n      <td>0.0</td>\n    </tr>\n    <tr>\n      <th>NZL</th>\n      <td>0.0</td>\n      <td>0.0</td>\n      <td>0.0</td>\n    </tr>\n    <tr>\n      <th>PAK</th>\n      <td>0.0</td>\n      <td>0.0</td>\n      <td>0.0</td>\n    </tr>\n    <tr>\n      <th>POL</th>\n      <td>0.0</td>\n      <td>0.0</td>\n      <td>0.0</td>\n    </tr>\n    <tr>\n      <th>POR</th>\n      <td>0.0</td>\n      <td>0.0</td>\n      <td>0.0</td>\n    </tr>\n    <tr>\n      <th>PRK</th>\n      <td>0.0</td>\n      <td>0.0</td>\n      <td>0.0</td>\n    </tr>\n    <tr>\n      <th>PUR</th>\n      <td>0.0</td>\n      <td>0.0</td>\n      <td>0.0</td>\n    </tr>\n    <tr>\n      <th>ROU</th>\n      <td>0.0</td>\n      <td>0.0</td>\n      <td>0.0</td>\n    </tr>\n    <tr>\n      <th>SUI</th>\n      <td>0.0</td>\n      <td>0.0</td>\n      <td>0.0</td>\n    </tr>\n    <tr>\n      <th>SWE</th>\n      <td>0.0</td>\n      <td>0.0</td>\n      <td>0.0</td>\n    </tr>\n    <tr>\n      <th>TCH</th>\n      <td>0.0</td>\n      <td>0.0</td>\n      <td>0.0</td>\n    </tr>\n    <tr>\n      <th>THA</th>\n      <td>0.0</td>\n      <td>0.0</td>\n      <td>0.0</td>\n    </tr>\n    <tr>\n      <th>TRI</th>\n      <td>0.0</td>\n      <td>0.0</td>\n      <td>0.0</td>\n    </tr>\n    <tr>\n      <th>URS</th>\n      <td>0.0</td>\n      <td>0.0</td>\n      <td>0.0</td>\n    </tr>\n    <tr>\n      <th>USA</th>\n      <td>0.0</td>\n      <td>0.0</td>\n      <td>0.0</td>\n    </tr>\n    <tr>\n      <th>VEN</th>\n      <td>0.0</td>\n      <td>0.0</td>\n      <td>0.0</td>\n    </tr>\n    <tr>\n      <th>YUG</th>\n      <td>0.0</td>\n      <td>0.0</td>\n      <td>0.0</td>\n    </tr>\n  </tbody>\n</table>\n</div>"
     },
     "execution_count": 168,
     "metadata": {},
     "output_type": "execute_result"
    }
   ],
   "source": [
    "div_76 = agg_1976.sub(wik_1976).abs().dropna()\n",
    "div_76"
   ],
   "metadata": {
    "collapsed": false,
    "ExecuteTime": {
     "end_time": "2024-04-26T16:02:06.007840400Z",
     "start_time": "2024-04-26T16:02:05.973340900Z"
    }
   },
   "execution_count": 168
  },
  {
   "cell_type": "markdown",
   "source": [
    "0.0 means the code have 100% accuracy. The lower the score, the better the code."
   ],
   "metadata": {
    "collapsed": false
   }
  },
  {
   "cell_type": "code",
   "outputs": [
    {
     "data": {
      "text/plain": "0.0"
     },
     "execution_count": 169,
     "metadata": {},
     "output_type": "execute_result"
    }
   ],
   "source": [
    "score_76 = div_76.sum().sum()   # calculate the total absolute divergence for the Edition 1976\n",
    "score_76"
   ],
   "metadata": {
    "collapsed": false,
    "ExecuteTime": {
     "end_time": "2024-04-26T16:02:12.993854800Z",
     "start_time": "2024-04-26T16:02:12.965039200Z"
    }
   },
   "execution_count": 169
  },
  {
   "cell_type": "markdown",
   "source": [],
   "metadata": {
    "collapsed": false
   }
  },
  {
   "cell_type": "markdown",
   "source": [],
   "metadata": {
    "collapsed": false
   }
  },
  {
   "cell_type": "code",
   "outputs": [],
   "source": [
    "agg_1996 = medal_tables.loc[1996].sort_values([\"Gold\", \"Silver\", \"Bronze\"], ascending = False).copy()"
   ],
   "metadata": {
    "collapsed": false,
    "ExecuteTime": {
     "end_time": "2024-04-26T16:03:20.914222200Z",
     "start_time": "2024-04-26T16:03:20.845480400Z"
    }
   },
   "execution_count": 173
  },
  {
   "cell_type": "markdown",
   "source": [
    "Compare the aggregated Medal Table for the Edition 1996 with the official Medal Table from Wikipedia (wik_1996). Calculate the absolute divergence for the Edition 1996!"
   ],
   "metadata": {
    "collapsed": false
   }
  },
  {
   "cell_type": "code",
   "outputs": [
    {
     "data": {
      "text/plain": "Medal    Gold  Silver  Bronze\nCountry                      \nUSA        44      32      25\nRUS        26      21      16\nGER        20      18      27\nCHN        16      22      12\nFRA        15       7      15",
      "text/html": "<div>\n<style scoped>\n    .dataframe tbody tr th:only-of-type {\n        vertical-align: middle;\n    }\n\n    .dataframe tbody tr th {\n        vertical-align: top;\n    }\n\n    .dataframe thead th {\n        text-align: right;\n    }\n</style>\n<table border=\"1\" class=\"dataframe\">\n  <thead>\n    <tr style=\"text-align: right;\">\n      <th>Medal</th>\n      <th>Gold</th>\n      <th>Silver</th>\n      <th>Bronze</th>\n    </tr>\n    <tr>\n      <th>Country</th>\n      <th></th>\n      <th></th>\n      <th></th>\n    </tr>\n  </thead>\n  <tbody>\n    <tr>\n      <th>USA</th>\n      <td>44</td>\n      <td>32</td>\n      <td>25</td>\n    </tr>\n    <tr>\n      <th>RUS</th>\n      <td>26</td>\n      <td>21</td>\n      <td>16</td>\n    </tr>\n    <tr>\n      <th>GER</th>\n      <td>20</td>\n      <td>18</td>\n      <td>27</td>\n    </tr>\n    <tr>\n      <th>CHN</th>\n      <td>16</td>\n      <td>22</td>\n      <td>12</td>\n    </tr>\n    <tr>\n      <th>FRA</th>\n      <td>15</td>\n      <td>7</td>\n      <td>15</td>\n    </tr>\n  </tbody>\n</table>\n</div>"
     },
     "execution_count": 174,
     "metadata": {},
     "output_type": "execute_result"
    }
   ],
   "source": [
    "agg_1996.head()"
   ],
   "metadata": {
    "collapsed": false,
    "ExecuteTime": {
     "end_time": "2024-04-26T16:03:22.004378Z",
     "start_time": "2024-04-26T16:03:21.940316700Z"
    }
   },
   "execution_count": 174
  },
  {
   "cell_type": "code",
   "outputs": [
    {
     "data": {
      "text/plain": "         Gold  Silver  Bronze\nCountry                      \nUSA        44      32      25\nRUS        26      21      16\nGER        20      18      27\nCHN        16      22      12\nFRA        15       7      15",
      "text/html": "<div>\n<style scoped>\n    .dataframe tbody tr th:only-of-type {\n        vertical-align: middle;\n    }\n\n    .dataframe tbody tr th {\n        vertical-align: top;\n    }\n\n    .dataframe thead th {\n        text-align: right;\n    }\n</style>\n<table border=\"1\" class=\"dataframe\">\n  <thead>\n    <tr style=\"text-align: right;\">\n      <th></th>\n      <th>Gold</th>\n      <th>Silver</th>\n      <th>Bronze</th>\n    </tr>\n    <tr>\n      <th>Country</th>\n      <th></th>\n      <th></th>\n      <th></th>\n    </tr>\n  </thead>\n  <tbody>\n    <tr>\n      <th>USA</th>\n      <td>44</td>\n      <td>32</td>\n      <td>25</td>\n    </tr>\n    <tr>\n      <th>RUS</th>\n      <td>26</td>\n      <td>21</td>\n      <td>16</td>\n    </tr>\n    <tr>\n      <th>GER</th>\n      <td>20</td>\n      <td>18</td>\n      <td>27</td>\n    </tr>\n    <tr>\n      <th>CHN</th>\n      <td>16</td>\n      <td>22</td>\n      <td>12</td>\n    </tr>\n    <tr>\n      <th>FRA</th>\n      <td>15</td>\n      <td>7</td>\n      <td>15</td>\n    </tr>\n  </tbody>\n</table>\n</div>"
     },
     "execution_count": 175,
     "metadata": {},
     "output_type": "execute_result"
    }
   ],
   "source": [
    "wik_1996.head()"
   ],
   "metadata": {
    "collapsed": false,
    "ExecuteTime": {
     "end_time": "2024-04-26T16:03:22.890287300Z",
     "start_time": "2024-04-26T16:03:22.813429400Z"
    }
   },
   "execution_count": 175
  },
  {
   "cell_type": "code",
   "outputs": [
    {
     "data": {
      "text/plain": "Medal    Gold  Silver  Bronze\nCountry                      \nALG       0.0     0.0     0.0\nARG       0.0     0.0     0.0\nARM       0.0     0.0     0.0\nAUS       0.0     0.0     0.0\nAUT       0.0     0.0     0.0\n...       ...     ...     ...\nUKR       0.0     0.0     0.0\nUSA       0.0     0.0     0.0\nUZB       0.0     0.0     0.0\nYUG       0.0     0.0     0.0\nZAM       0.0     0.0     0.0\n\n[79 rows x 3 columns]",
      "text/html": "<div>\n<style scoped>\n    .dataframe tbody tr th:only-of-type {\n        vertical-align: middle;\n    }\n\n    .dataframe tbody tr th {\n        vertical-align: top;\n    }\n\n    .dataframe thead th {\n        text-align: right;\n    }\n</style>\n<table border=\"1\" class=\"dataframe\">\n  <thead>\n    <tr style=\"text-align: right;\">\n      <th>Medal</th>\n      <th>Gold</th>\n      <th>Silver</th>\n      <th>Bronze</th>\n    </tr>\n    <tr>\n      <th>Country</th>\n      <th></th>\n      <th></th>\n      <th></th>\n    </tr>\n  </thead>\n  <tbody>\n    <tr>\n      <th>ALG</th>\n      <td>0.0</td>\n      <td>0.0</td>\n      <td>0.0</td>\n    </tr>\n    <tr>\n      <th>ARG</th>\n      <td>0.0</td>\n      <td>0.0</td>\n      <td>0.0</td>\n    </tr>\n    <tr>\n      <th>ARM</th>\n      <td>0.0</td>\n      <td>0.0</td>\n      <td>0.0</td>\n    </tr>\n    <tr>\n      <th>AUS</th>\n      <td>0.0</td>\n      <td>0.0</td>\n      <td>0.0</td>\n    </tr>\n    <tr>\n      <th>AUT</th>\n      <td>0.0</td>\n      <td>0.0</td>\n      <td>0.0</td>\n    </tr>\n    <tr>\n      <th>...</th>\n      <td>...</td>\n      <td>...</td>\n      <td>...</td>\n    </tr>\n    <tr>\n      <th>UKR</th>\n      <td>0.0</td>\n      <td>0.0</td>\n      <td>0.0</td>\n    </tr>\n    <tr>\n      <th>USA</th>\n      <td>0.0</td>\n      <td>0.0</td>\n      <td>0.0</td>\n    </tr>\n    <tr>\n      <th>UZB</th>\n      <td>0.0</td>\n      <td>0.0</td>\n      <td>0.0</td>\n    </tr>\n    <tr>\n      <th>YUG</th>\n      <td>0.0</td>\n      <td>0.0</td>\n      <td>0.0</td>\n    </tr>\n    <tr>\n      <th>ZAM</th>\n      <td>0.0</td>\n      <td>0.0</td>\n      <td>0.0</td>\n    </tr>\n  </tbody>\n</table>\n<p>79 rows × 3 columns</p>\n</div>"
     },
     "execution_count": 176,
     "metadata": {},
     "output_type": "execute_result"
    }
   ],
   "source": [
    "div_96 = agg_1996.sub(wik_1996).abs().dropna()\n",
    "div_96"
   ],
   "metadata": {
    "collapsed": false,
    "ExecuteTime": {
     "end_time": "2024-04-26T16:03:29.423936400Z",
     "start_time": "2024-04-26T16:03:29.374702300Z"
    }
   },
   "execution_count": 176
  },
  {
   "cell_type": "code",
   "outputs": [
    {
     "data": {
      "text/plain": "0.0"
     },
     "execution_count": 177,
     "metadata": {},
     "output_type": "execute_result"
    }
   ],
   "source": [
    "score_96 = div_96.sum().sum()\n",
    "score_96"
   ],
   "metadata": {
    "collapsed": false,
    "ExecuteTime": {
     "end_time": "2024-04-26T16:03:34.583687Z",
     "start_time": "2024-04-26T16:03:34.498257300Z"
    }
   },
   "execution_count": 177
  },
  {
   "cell_type": "code",
   "outputs": [
    {
     "name": "stdout",
     "output_type": "stream",
     "text": [
      "0.0 0.0\n"
     ]
    }
   ],
   "source": [
    "print(score_76, score_96)"
   ],
   "metadata": {
    "collapsed": false,
    "ExecuteTime": {
     "end_time": "2024-04-26T16:03:40.360980700Z",
     "start_time": "2024-04-26T16:03:40.301114400Z"
    }
   },
   "execution_count": 178
  },
  {
   "cell_type": "code",
   "outputs": [],
   "source": [],
   "metadata": {
    "collapsed": false
   }
  }
 ],
 "metadata": {
  "kernelspec": {
   "display_name": "Python 3",
   "language": "python",
   "name": "python3"
  },
  "language_info": {
   "codemirror_mode": {
    "name": "ipython",
    "version": 3
   },
   "file_extension": ".py",
   "mimetype": "text/x-python",
   "name": "python",
   "nbconvert_exporter": "python",
   "pygments_lexer": "ipython3",
   "version": "3.7.6"
  }
 },
 "nbformat": 4,
 "nbformat_minor": 2
}
