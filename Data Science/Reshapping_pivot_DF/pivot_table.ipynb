{
 "cells": [
  {
   "cell_type": "code",
   "execution_count": 1,
   "id": "initial_id",
   "metadata": {
    "collapsed": true,
    "ExecuteTime": {
     "end_time": "2024-03-27T18:39:07.170326900Z",
     "start_time": "2024-03-27T18:39:06.664020500Z"
    }
   },
   "outputs": [],
   "source": [
    "import pandas as pd"
   ]
  },
  {
   "cell_type": "code",
   "outputs": [],
   "source": [
    "table2 = pd.read_csv('../table2.csv')"
   ],
   "metadata": {
    "collapsed": false,
    "ExecuteTime": {
     "end_time": "2024-03-27T18:39:23.348248200Z",
     "start_time": "2024-03-27T18:39:23.338920400Z"
    }
   },
   "id": "47b5e8130f23faeb",
   "execution_count": 2
  },
  {
   "cell_type": "code",
   "outputs": [
    {
     "data": {
      "text/plain": "  Country  Year   Medal  Count\n0     AFG  2008  Bronze      1\n1     AFG  2012  Bronze      1\n2     AHO  1988  Silver      1\n3     ALG  1984  Bronze      2\n4     ALG  1992  Bronze      1",
      "text/html": "<div>\n<style scoped>\n    .dataframe tbody tr th:only-of-type {\n        vertical-align: middle;\n    }\n\n    .dataframe tbody tr th {\n        vertical-align: top;\n    }\n\n    .dataframe thead th {\n        text-align: right;\n    }\n</style>\n<table border=\"1\" class=\"dataframe\">\n  <thead>\n    <tr style=\"text-align: right;\">\n      <th></th>\n      <th>Country</th>\n      <th>Year</th>\n      <th>Medal</th>\n      <th>Count</th>\n    </tr>\n  </thead>\n  <tbody>\n    <tr>\n      <th>0</th>\n      <td>AFG</td>\n      <td>2008</td>\n      <td>Bronze</td>\n      <td>1</td>\n    </tr>\n    <tr>\n      <th>1</th>\n      <td>AFG</td>\n      <td>2012</td>\n      <td>Bronze</td>\n      <td>1</td>\n    </tr>\n    <tr>\n      <th>2</th>\n      <td>AHO</td>\n      <td>1988</td>\n      <td>Silver</td>\n      <td>1</td>\n    </tr>\n    <tr>\n      <th>3</th>\n      <td>ALG</td>\n      <td>1984</td>\n      <td>Bronze</td>\n      <td>2</td>\n    </tr>\n    <tr>\n      <th>4</th>\n      <td>ALG</td>\n      <td>1992</td>\n      <td>Bronze</td>\n      <td>1</td>\n    </tr>\n  </tbody>\n</table>\n</div>"
     },
     "execution_count": 3,
     "metadata": {},
     "output_type": "execute_result"
    }
   ],
   "source": [
    "table2.head()"
   ],
   "metadata": {
    "collapsed": false,
    "ExecuteTime": {
     "end_time": "2024-03-27T18:39:26.401791200Z",
     "start_time": "2024-03-27T18:39:26.386069600Z"
    }
   },
   "id": "750516ace966050a",
   "execution_count": 3
  },
  {
   "cell_type": "markdown",
   "source": [
    "# Pivot() and pivot_table() is same as groupby + unstack()\n",
    "## But in pivot_table() we can specify the aggfunc and fill_value and margins\n",
    "### Parameters: -aggfunc: function to apply, default is mean, -fill_value: replace NaN with this value, -margins: add all and row/column totals"
   ],
   "metadata": {
    "collapsed": false
   },
   "id": "aed57aeb210064b8"
  },
  {
   "cell_type": "code",
   "outputs": [
    {
     "data": {
      "text/plain": "Medal      Bronze   Gold  Silver  sum_medal\nCountry                                    \nAFG             2      0       0          2\nAHO             0      0       1          1\nALG             8      5       2         15\nANZ             5     20       4         29\nARG            91     69      99        259\n...           ...    ...     ...        ...\nYUG           118    143     174        435\nZAM             1      0       1          2\nZIM             1     18       4         23\nZZX            10     23      15         48\nsum_medal   10369  10484   10308      31161\n\n[148 rows x 4 columns]",
      "text/html": "<div>\n<style scoped>\n    .dataframe tbody tr th:only-of-type {\n        vertical-align: middle;\n    }\n\n    .dataframe tbody tr th {\n        vertical-align: top;\n    }\n\n    .dataframe thead th {\n        text-align: right;\n    }\n</style>\n<table border=\"1\" class=\"dataframe\">\n  <thead>\n    <tr style=\"text-align: right;\">\n      <th>Medal</th>\n      <th>Bronze</th>\n      <th>Gold</th>\n      <th>Silver</th>\n      <th>sum_medal</th>\n    </tr>\n    <tr>\n      <th>Country</th>\n      <th></th>\n      <th></th>\n      <th></th>\n      <th></th>\n    </tr>\n  </thead>\n  <tbody>\n    <tr>\n      <th>AFG</th>\n      <td>2</td>\n      <td>0</td>\n      <td>0</td>\n      <td>2</td>\n    </tr>\n    <tr>\n      <th>AHO</th>\n      <td>0</td>\n      <td>0</td>\n      <td>1</td>\n      <td>1</td>\n    </tr>\n    <tr>\n      <th>ALG</th>\n      <td>8</td>\n      <td>5</td>\n      <td>2</td>\n      <td>15</td>\n    </tr>\n    <tr>\n      <th>ANZ</th>\n      <td>5</td>\n      <td>20</td>\n      <td>4</td>\n      <td>29</td>\n    </tr>\n    <tr>\n      <th>ARG</th>\n      <td>91</td>\n      <td>69</td>\n      <td>99</td>\n      <td>259</td>\n    </tr>\n    <tr>\n      <th>...</th>\n      <td>...</td>\n      <td>...</td>\n      <td>...</td>\n      <td>...</td>\n    </tr>\n    <tr>\n      <th>YUG</th>\n      <td>118</td>\n      <td>143</td>\n      <td>174</td>\n      <td>435</td>\n    </tr>\n    <tr>\n      <th>ZAM</th>\n      <td>1</td>\n      <td>0</td>\n      <td>1</td>\n      <td>2</td>\n    </tr>\n    <tr>\n      <th>ZIM</th>\n      <td>1</td>\n      <td>18</td>\n      <td>4</td>\n      <td>23</td>\n    </tr>\n    <tr>\n      <th>ZZX</th>\n      <td>10</td>\n      <td>23</td>\n      <td>15</td>\n      <td>48</td>\n    </tr>\n    <tr>\n      <th>sum_medal</th>\n      <td>10369</td>\n      <td>10484</td>\n      <td>10308</td>\n      <td>31161</td>\n    </tr>\n  </tbody>\n</table>\n<p>148 rows × 4 columns</p>\n</div>"
     },
     "execution_count": 17,
     "metadata": {},
     "output_type": "execute_result"
    }
   ],
   "source": [
    "table2.pivot_table(index='Country', columns='Medal', values='Count', aggfunc='sum', fill_value=0, margins=True, \n",
    "                   margins_name='sum_medal')"
   ],
   "metadata": {
    "collapsed": false,
    "ExecuteTime": {
     "end_time": "2024-03-27T19:04:25.167614800Z",
     "start_time": "2024-03-27T19:04:25.124331600Z"
    }
   },
   "id": "609dde09391f304b",
   "execution_count": 17
  },
  {
   "cell_type": "markdown",
   "source": [
    "## Groupby + unstack()"
   ],
   "metadata": {
    "collapsed": false
   },
   "id": "1c8c449f86870831"
  },
  {
   "cell_type": "code",
   "outputs": [],
   "source": [
    "agg = table2.groupby(['Country', 'Medal'])['Count'].sum().unstack(fill_value=0)"
   ],
   "metadata": {
    "collapsed": false,
    "ExecuteTime": {
     "end_time": "2024-03-27T19:00:14.217641900Z",
     "start_time": "2024-03-27T19:00:14.200008Z"
    }
   },
   "id": "64c641d286a693a2",
   "execution_count": 9
  },
  {
   "cell_type": "code",
   "outputs": [
    {
     "data": {
      "text/plain": "Medal    Bronze  Gold  Silver\nCountry                      \nAFG           2     0       0\nAHO           0     0       1\nALG           8     5       2\nANZ           5    20       4\nARG          91    69      99\n...         ...   ...     ...\nVIE           0     0       2\nYUG         118   143     174\nZAM           1     0       1\nZIM           1    18       4\nZZX          10    23      15\n\n[147 rows x 3 columns]",
      "text/html": "<div>\n<style scoped>\n    .dataframe tbody tr th:only-of-type {\n        vertical-align: middle;\n    }\n\n    .dataframe tbody tr th {\n        vertical-align: top;\n    }\n\n    .dataframe thead th {\n        text-align: right;\n    }\n</style>\n<table border=\"1\" class=\"dataframe\">\n  <thead>\n    <tr style=\"text-align: right;\">\n      <th>Medal</th>\n      <th>Bronze</th>\n      <th>Gold</th>\n      <th>Silver</th>\n    </tr>\n    <tr>\n      <th>Country</th>\n      <th></th>\n      <th></th>\n      <th></th>\n    </tr>\n  </thead>\n  <tbody>\n    <tr>\n      <th>AFG</th>\n      <td>2</td>\n      <td>0</td>\n      <td>0</td>\n    </tr>\n    <tr>\n      <th>AHO</th>\n      <td>0</td>\n      <td>0</td>\n      <td>1</td>\n    </tr>\n    <tr>\n      <th>ALG</th>\n      <td>8</td>\n      <td>5</td>\n      <td>2</td>\n    </tr>\n    <tr>\n      <th>ANZ</th>\n      <td>5</td>\n      <td>20</td>\n      <td>4</td>\n    </tr>\n    <tr>\n      <th>ARG</th>\n      <td>91</td>\n      <td>69</td>\n      <td>99</td>\n    </tr>\n    <tr>\n      <th>...</th>\n      <td>...</td>\n      <td>...</td>\n      <td>...</td>\n    </tr>\n    <tr>\n      <th>VIE</th>\n      <td>0</td>\n      <td>0</td>\n      <td>2</td>\n    </tr>\n    <tr>\n      <th>YUG</th>\n      <td>118</td>\n      <td>143</td>\n      <td>174</td>\n    </tr>\n    <tr>\n      <th>ZAM</th>\n      <td>1</td>\n      <td>0</td>\n      <td>1</td>\n    </tr>\n    <tr>\n      <th>ZIM</th>\n      <td>1</td>\n      <td>18</td>\n      <td>4</td>\n    </tr>\n    <tr>\n      <th>ZZX</th>\n      <td>10</td>\n      <td>23</td>\n      <td>15</td>\n    </tr>\n  </tbody>\n</table>\n<p>147 rows × 3 columns</p>\n</div>"
     },
     "execution_count": 10,
     "metadata": {},
     "output_type": "execute_result"
    }
   ],
   "source": [
    "agg"
   ],
   "metadata": {
    "collapsed": false,
    "ExecuteTime": {
     "end_time": "2024-03-27T19:00:19.319909200Z",
     "start_time": "2024-03-27T19:00:19.308916300Z"
    }
   },
   "id": "23e03dcff452b46f",
   "execution_count": 10
  },
  {
   "cell_type": "markdown",
   "source": [
    "# We can maanual add the margins"
   ],
   "metadata": {
    "collapsed": false
   },
   "id": "2afb9de9b48aca49"
  },
  {
   "cell_type": "code",
   "outputs": [],
   "source": [
    "agg['All'] = agg.sum(axis=1)"
   ],
   "metadata": {
    "collapsed": false,
    "ExecuteTime": {
     "end_time": "2024-03-27T19:00:24.624855700Z",
     "start_time": "2024-03-27T19:00:24.613848900Z"
    }
   },
   "id": "1f83429bc8cb5b19",
   "execution_count": 11
  },
  {
   "cell_type": "code",
   "outputs": [],
   "source": [
    "agg.loc['All'] = agg.sum()"
   ],
   "metadata": {
    "collapsed": false,
    "ExecuteTime": {
     "end_time": "2024-03-27T19:00:38.622674500Z",
     "start_time": "2024-03-27T19:00:38.612907300Z"
    }
   },
   "id": "61128902d848ac30",
   "execution_count": 12
  },
  {
   "cell_type": "code",
   "outputs": [
    {
     "data": {
      "text/plain": "Medal    Bronze   Gold  Silver    All\nCountry                              \nAFG           2      0       0      2\nAHO           0      0       1      1\nALG           8      5       2     15\nANZ           5     20       4     29\nARG          91     69      99    259\n...         ...    ...     ...    ...\nYUG         118    143     174    435\nZAM           1      0       1      2\nZIM           1     18       4     23\nZZX          10     23      15     48\nAll       10369  10484   10308  31161\n\n[148 rows x 4 columns]",
      "text/html": "<div>\n<style scoped>\n    .dataframe tbody tr th:only-of-type {\n        vertical-align: middle;\n    }\n\n    .dataframe tbody tr th {\n        vertical-align: top;\n    }\n\n    .dataframe thead th {\n        text-align: right;\n    }\n</style>\n<table border=\"1\" class=\"dataframe\">\n  <thead>\n    <tr style=\"text-align: right;\">\n      <th>Medal</th>\n      <th>Bronze</th>\n      <th>Gold</th>\n      <th>Silver</th>\n      <th>All</th>\n    </tr>\n    <tr>\n      <th>Country</th>\n      <th></th>\n      <th></th>\n      <th></th>\n      <th></th>\n    </tr>\n  </thead>\n  <tbody>\n    <tr>\n      <th>AFG</th>\n      <td>2</td>\n      <td>0</td>\n      <td>0</td>\n      <td>2</td>\n    </tr>\n    <tr>\n      <th>AHO</th>\n      <td>0</td>\n      <td>0</td>\n      <td>1</td>\n      <td>1</td>\n    </tr>\n    <tr>\n      <th>ALG</th>\n      <td>8</td>\n      <td>5</td>\n      <td>2</td>\n      <td>15</td>\n    </tr>\n    <tr>\n      <th>ANZ</th>\n      <td>5</td>\n      <td>20</td>\n      <td>4</td>\n      <td>29</td>\n    </tr>\n    <tr>\n      <th>ARG</th>\n      <td>91</td>\n      <td>69</td>\n      <td>99</td>\n      <td>259</td>\n    </tr>\n    <tr>\n      <th>...</th>\n      <td>...</td>\n      <td>...</td>\n      <td>...</td>\n      <td>...</td>\n    </tr>\n    <tr>\n      <th>YUG</th>\n      <td>118</td>\n      <td>143</td>\n      <td>174</td>\n      <td>435</td>\n    </tr>\n    <tr>\n      <th>ZAM</th>\n      <td>1</td>\n      <td>0</td>\n      <td>1</td>\n      <td>2</td>\n    </tr>\n    <tr>\n      <th>ZIM</th>\n      <td>1</td>\n      <td>18</td>\n      <td>4</td>\n      <td>23</td>\n    </tr>\n    <tr>\n      <th>ZZX</th>\n      <td>10</td>\n      <td>23</td>\n      <td>15</td>\n      <td>48</td>\n    </tr>\n    <tr>\n      <th>All</th>\n      <td>10369</td>\n      <td>10484</td>\n      <td>10308</td>\n      <td>31161</td>\n    </tr>\n  </tbody>\n</table>\n<p>148 rows × 4 columns</p>\n</div>"
     },
     "execution_count": 14,
     "metadata": {},
     "output_type": "execute_result"
    }
   ],
   "source": [
    "agg"
   ],
   "metadata": {
    "collapsed": false,
    "ExecuteTime": {
     "end_time": "2024-03-27T19:00:44.177973400Z",
     "start_time": "2024-03-27T19:00:44.162895700Z"
    }
   },
   "id": "30da798959d624a2",
   "execution_count": 14
  },
  {
   "cell_type": "code",
   "outputs": [],
   "source": [],
   "metadata": {
    "collapsed": false
   },
   "id": "f3f042c981a7c1fc"
  }
 ],
 "metadata": {
  "kernelspec": {
   "display_name": "Python 3",
   "language": "python",
   "name": "python3"
  },
  "language_info": {
   "codemirror_mode": {
    "name": "ipython",
    "version": 2
   },
   "file_extension": ".py",
   "mimetype": "text/x-python",
   "name": "python",
   "nbconvert_exporter": "python",
   "pygments_lexer": "ipython2",
   "version": "2.7.6"
  }
 },
 "nbformat": 4,
 "nbformat_minor": 5
}
