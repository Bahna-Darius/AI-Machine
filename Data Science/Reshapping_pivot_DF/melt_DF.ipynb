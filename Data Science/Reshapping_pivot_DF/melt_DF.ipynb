{
 "cells": [
  {
   "cell_type": "code",
   "execution_count": 1,
   "id": "initial_id",
   "metadata": {
    "collapsed": true,
    "ExecuteTime": {
     "end_time": "2024-03-27T19:57:58.688562600Z",
     "start_time": "2024-03-27T19:57:58.227336600Z"
    }
   },
   "outputs": [],
   "source": [
    "import pandas as pd"
   ]
  },
  {
   "cell_type": "code",
   "outputs": [],
   "source": [
    "table_2012 = pd.read_csv('../table_2012.csv')"
   ],
   "metadata": {
    "collapsed": false,
    "ExecuteTime": {
     "end_time": "2024-03-27T20:07:41.228171400Z",
     "start_time": "2024-03-27T20:07:41.218766400Z"
    }
   },
   "id": "4bfad23b39ae4888",
   "execution_count": 9
  },
  {
   "cell_type": "code",
   "outputs": [
    {
     "data": {
      "text/plain": "  Country  Gold  Silver  Bronze\n0     USA   147      57      46\n1     CHN    56      44      28\n2     GBR    48      30      48\n3     RUS    47      32      51\n4     GER    45      28      21",
      "text/html": "<div>\n<style scoped>\n    .dataframe tbody tr th:only-of-type {\n        vertical-align: middle;\n    }\n\n    .dataframe tbody tr th {\n        vertical-align: top;\n    }\n\n    .dataframe thead th {\n        text-align: right;\n    }\n</style>\n<table border=\"1\" class=\"dataframe\">\n  <thead>\n    <tr style=\"text-align: right;\">\n      <th></th>\n      <th>Country</th>\n      <th>Gold</th>\n      <th>Silver</th>\n      <th>Bronze</th>\n    </tr>\n  </thead>\n  <tbody>\n    <tr>\n      <th>0</th>\n      <td>USA</td>\n      <td>147</td>\n      <td>57</td>\n      <td>46</td>\n    </tr>\n    <tr>\n      <th>1</th>\n      <td>CHN</td>\n      <td>56</td>\n      <td>44</td>\n      <td>28</td>\n    </tr>\n    <tr>\n      <th>2</th>\n      <td>GBR</td>\n      <td>48</td>\n      <td>30</td>\n      <td>48</td>\n    </tr>\n    <tr>\n      <th>3</th>\n      <td>RUS</td>\n      <td>47</td>\n      <td>32</td>\n      <td>51</td>\n    </tr>\n    <tr>\n      <th>4</th>\n      <td>GER</td>\n      <td>45</td>\n      <td>28</td>\n      <td>21</td>\n    </tr>\n  </tbody>\n</table>\n</div>"
     },
     "execution_count": 10,
     "metadata": {},
     "output_type": "execute_result"
    }
   ],
   "source": [
    "table_2012.head()"
   ],
   "metadata": {
    "collapsed": false,
    "ExecuteTime": {
     "end_time": "2024-03-27T20:07:46.184617100Z",
     "start_time": "2024-03-27T20:07:46.175096200Z"
    }
   },
   "id": "a507aa9b7a941906",
   "execution_count": 10
  },
  {
   "cell_type": "code",
   "outputs": [
    {
     "data": {
      "text/plain": "(20, 4)"
     },
     "execution_count": 11,
     "metadata": {},
     "output_type": "execute_result"
    }
   ],
   "source": [
    "table_2012.shape"
   ],
   "metadata": {
    "collapsed": false,
    "ExecuteTime": {
     "end_time": "2024-03-27T20:07:49.473292200Z",
     "start_time": "2024-03-27T20:07:49.449718300Z"
    }
   },
   "id": "f7fdaefa0fc9bdb",
   "execution_count": 11
  },
  {
   "cell_type": "markdown",
   "source": [
    "# Mel method is used to transform the table from wide to long format. \n",
    "## id_vars: columns that will be kept as is\n",
    "## value_vars: columns that will be transformed to rows\n",
    "## var_name: name of the new column that will contain the columns in value_vars\n",
    "## value_name: name of the new column that will contain the values of the columns in value_vars\n"
   ],
   "metadata": {
    "collapsed": false
   },
   "id": "c49d033817ce9207"
  },
  {
   "cell_type": "code",
   "outputs": [],
   "source": [
    "melt_2012 = table_2012.melt(id_vars='Country', value_vars=['Gold', 'Silver', 'Bronze'], var_name='Medal', value_name='Count')"
   ],
   "metadata": {
    "collapsed": false,
    "ExecuteTime": {
     "end_time": "2024-03-27T20:14:18.508672200Z",
     "start_time": "2024-03-27T20:14:18.496627100Z"
    }
   },
   "id": "bce4cb65fb53bc63",
   "execution_count": 14
  },
  {
   "cell_type": "code",
   "outputs": [
    {
     "data": {
      "text/plain": "   Country   Medal  Count\n0      USA    Gold    147\n1      CHN    Gold     56\n2      GBR    Gold     48\n3      RUS    Gold     47\n4      GER    Gold     45\n5      FRA    Gold     30\n6      NED    Gold     21\n7      AUS    Gold     19\n8      KOR    Gold     18\n9      MEX    Gold     18\n10     ITA    Gold     16\n11     NOR    Gold     15\n12     CRO    Gold     15\n13     BRA    Gold     14\n14     HUN    Gold     12\n15     NZL    Gold      9\n16     UKR    Gold      9\n17     JAM    Gold      8\n18     JPN    Gold      7\n19     RSA    Gold      6\n20     USA  Silver     57\n21     CHN  Silver     44\n22     GBR  Silver     30\n23     RUS  Silver     32\n24     GER  Silver     28\n25     FRA  Silver     30\n26     NED  Silver     29\n27     AUS  Silver     36\n28     KOR  Silver     13\n29     MEX  Silver      5\n30     ITA  Silver     22\n31     NOR  Silver      1\n32     CRO  Silver      4\n33     BRA  Silver     34\n34     HUN  Silver      8\n35     NZL  Silver      3\n36     UKR  Silver      4\n37     JAM  Silver      9\n38     JPN  Silver     44\n39     RSA  Silver      2\n40     USA  Bronze     46\n41     CHN  Bronze     28\n42     GBR  Bronze     48\n43     RUS  Bronze     51\n44     GER  Bronze     21\n45     FRA  Bronze     22\n46     NED  Bronze     19\n47     AUS  Bronze     59\n48     KOR  Bronze     32\n49     MEX  Bronze      3\n50     ITA  Bronze     30\n51     NOR  Bronze      1\n52     CRO  Bronze     16\n53     BRA  Bronze     11\n54     HUN  Bronze      6\n55     NZL  Bronze     14\n56     UKR  Bronze     12\n57     JAM  Bronze      8\n58     JPN  Bronze     33\n59     RSA  Bronze      1",
      "text/html": "<div>\n<style scoped>\n    .dataframe tbody tr th:only-of-type {\n        vertical-align: middle;\n    }\n\n    .dataframe tbody tr th {\n        vertical-align: top;\n    }\n\n    .dataframe thead th {\n        text-align: right;\n    }\n</style>\n<table border=\"1\" class=\"dataframe\">\n  <thead>\n    <tr style=\"text-align: right;\">\n      <th></th>\n      <th>Country</th>\n      <th>Medal</th>\n      <th>Count</th>\n    </tr>\n  </thead>\n  <tbody>\n    <tr>\n      <th>0</th>\n      <td>USA</td>\n      <td>Gold</td>\n      <td>147</td>\n    </tr>\n    <tr>\n      <th>1</th>\n      <td>CHN</td>\n      <td>Gold</td>\n      <td>56</td>\n    </tr>\n    <tr>\n      <th>2</th>\n      <td>GBR</td>\n      <td>Gold</td>\n      <td>48</td>\n    </tr>\n    <tr>\n      <th>3</th>\n      <td>RUS</td>\n      <td>Gold</td>\n      <td>47</td>\n    </tr>\n    <tr>\n      <th>4</th>\n      <td>GER</td>\n      <td>Gold</td>\n      <td>45</td>\n    </tr>\n    <tr>\n      <th>5</th>\n      <td>FRA</td>\n      <td>Gold</td>\n      <td>30</td>\n    </tr>\n    <tr>\n      <th>6</th>\n      <td>NED</td>\n      <td>Gold</td>\n      <td>21</td>\n    </tr>\n    <tr>\n      <th>7</th>\n      <td>AUS</td>\n      <td>Gold</td>\n      <td>19</td>\n    </tr>\n    <tr>\n      <th>8</th>\n      <td>KOR</td>\n      <td>Gold</td>\n      <td>18</td>\n    </tr>\n    <tr>\n      <th>9</th>\n      <td>MEX</td>\n      <td>Gold</td>\n      <td>18</td>\n    </tr>\n    <tr>\n      <th>10</th>\n      <td>ITA</td>\n      <td>Gold</td>\n      <td>16</td>\n    </tr>\n    <tr>\n      <th>11</th>\n      <td>NOR</td>\n      <td>Gold</td>\n      <td>15</td>\n    </tr>\n    <tr>\n      <th>12</th>\n      <td>CRO</td>\n      <td>Gold</td>\n      <td>15</td>\n    </tr>\n    <tr>\n      <th>13</th>\n      <td>BRA</td>\n      <td>Gold</td>\n      <td>14</td>\n    </tr>\n    <tr>\n      <th>14</th>\n      <td>HUN</td>\n      <td>Gold</td>\n      <td>12</td>\n    </tr>\n    <tr>\n      <th>15</th>\n      <td>NZL</td>\n      <td>Gold</td>\n      <td>9</td>\n    </tr>\n    <tr>\n      <th>16</th>\n      <td>UKR</td>\n      <td>Gold</td>\n      <td>9</td>\n    </tr>\n    <tr>\n      <th>17</th>\n      <td>JAM</td>\n      <td>Gold</td>\n      <td>8</td>\n    </tr>\n    <tr>\n      <th>18</th>\n      <td>JPN</td>\n      <td>Gold</td>\n      <td>7</td>\n    </tr>\n    <tr>\n      <th>19</th>\n      <td>RSA</td>\n      <td>Gold</td>\n      <td>6</td>\n    </tr>\n    <tr>\n      <th>20</th>\n      <td>USA</td>\n      <td>Silver</td>\n      <td>57</td>\n    </tr>\n    <tr>\n      <th>21</th>\n      <td>CHN</td>\n      <td>Silver</td>\n      <td>44</td>\n    </tr>\n    <tr>\n      <th>22</th>\n      <td>GBR</td>\n      <td>Silver</td>\n      <td>30</td>\n    </tr>\n    <tr>\n      <th>23</th>\n      <td>RUS</td>\n      <td>Silver</td>\n      <td>32</td>\n    </tr>\n    <tr>\n      <th>24</th>\n      <td>GER</td>\n      <td>Silver</td>\n      <td>28</td>\n    </tr>\n    <tr>\n      <th>25</th>\n      <td>FRA</td>\n      <td>Silver</td>\n      <td>30</td>\n    </tr>\n    <tr>\n      <th>26</th>\n      <td>NED</td>\n      <td>Silver</td>\n      <td>29</td>\n    </tr>\n    <tr>\n      <th>27</th>\n      <td>AUS</td>\n      <td>Silver</td>\n      <td>36</td>\n    </tr>\n    <tr>\n      <th>28</th>\n      <td>KOR</td>\n      <td>Silver</td>\n      <td>13</td>\n    </tr>\n    <tr>\n      <th>29</th>\n      <td>MEX</td>\n      <td>Silver</td>\n      <td>5</td>\n    </tr>\n    <tr>\n      <th>30</th>\n      <td>ITA</td>\n      <td>Silver</td>\n      <td>22</td>\n    </tr>\n    <tr>\n      <th>31</th>\n      <td>NOR</td>\n      <td>Silver</td>\n      <td>1</td>\n    </tr>\n    <tr>\n      <th>32</th>\n      <td>CRO</td>\n      <td>Silver</td>\n      <td>4</td>\n    </tr>\n    <tr>\n      <th>33</th>\n      <td>BRA</td>\n      <td>Silver</td>\n      <td>34</td>\n    </tr>\n    <tr>\n      <th>34</th>\n      <td>HUN</td>\n      <td>Silver</td>\n      <td>8</td>\n    </tr>\n    <tr>\n      <th>35</th>\n      <td>NZL</td>\n      <td>Silver</td>\n      <td>3</td>\n    </tr>\n    <tr>\n      <th>36</th>\n      <td>UKR</td>\n      <td>Silver</td>\n      <td>4</td>\n    </tr>\n    <tr>\n      <th>37</th>\n      <td>JAM</td>\n      <td>Silver</td>\n      <td>9</td>\n    </tr>\n    <tr>\n      <th>38</th>\n      <td>JPN</td>\n      <td>Silver</td>\n      <td>44</td>\n    </tr>\n    <tr>\n      <th>39</th>\n      <td>RSA</td>\n      <td>Silver</td>\n      <td>2</td>\n    </tr>\n    <tr>\n      <th>40</th>\n      <td>USA</td>\n      <td>Bronze</td>\n      <td>46</td>\n    </tr>\n    <tr>\n      <th>41</th>\n      <td>CHN</td>\n      <td>Bronze</td>\n      <td>28</td>\n    </tr>\n    <tr>\n      <th>42</th>\n      <td>GBR</td>\n      <td>Bronze</td>\n      <td>48</td>\n    </tr>\n    <tr>\n      <th>43</th>\n      <td>RUS</td>\n      <td>Bronze</td>\n      <td>51</td>\n    </tr>\n    <tr>\n      <th>44</th>\n      <td>GER</td>\n      <td>Bronze</td>\n      <td>21</td>\n    </tr>\n    <tr>\n      <th>45</th>\n      <td>FRA</td>\n      <td>Bronze</td>\n      <td>22</td>\n    </tr>\n    <tr>\n      <th>46</th>\n      <td>NED</td>\n      <td>Bronze</td>\n      <td>19</td>\n    </tr>\n    <tr>\n      <th>47</th>\n      <td>AUS</td>\n      <td>Bronze</td>\n      <td>59</td>\n    </tr>\n    <tr>\n      <th>48</th>\n      <td>KOR</td>\n      <td>Bronze</td>\n      <td>32</td>\n    </tr>\n    <tr>\n      <th>49</th>\n      <td>MEX</td>\n      <td>Bronze</td>\n      <td>3</td>\n    </tr>\n    <tr>\n      <th>50</th>\n      <td>ITA</td>\n      <td>Bronze</td>\n      <td>30</td>\n    </tr>\n    <tr>\n      <th>51</th>\n      <td>NOR</td>\n      <td>Bronze</td>\n      <td>1</td>\n    </tr>\n    <tr>\n      <th>52</th>\n      <td>CRO</td>\n      <td>Bronze</td>\n      <td>16</td>\n    </tr>\n    <tr>\n      <th>53</th>\n      <td>BRA</td>\n      <td>Bronze</td>\n      <td>11</td>\n    </tr>\n    <tr>\n      <th>54</th>\n      <td>HUN</td>\n      <td>Bronze</td>\n      <td>6</td>\n    </tr>\n    <tr>\n      <th>55</th>\n      <td>NZL</td>\n      <td>Bronze</td>\n      <td>14</td>\n    </tr>\n    <tr>\n      <th>56</th>\n      <td>UKR</td>\n      <td>Bronze</td>\n      <td>12</td>\n    </tr>\n    <tr>\n      <th>57</th>\n      <td>JAM</td>\n      <td>Bronze</td>\n      <td>8</td>\n    </tr>\n    <tr>\n      <th>58</th>\n      <td>JPN</td>\n      <td>Bronze</td>\n      <td>33</td>\n    </tr>\n    <tr>\n      <th>59</th>\n      <td>RSA</td>\n      <td>Bronze</td>\n      <td>1</td>\n    </tr>\n  </tbody>\n</table>\n</div>"
     },
     "execution_count": 15,
     "metadata": {},
     "output_type": "execute_result"
    }
   ],
   "source": [
    "melt_2012"
   ],
   "metadata": {
    "collapsed": false,
    "ExecuteTime": {
     "end_time": "2024-03-27T20:14:21.822386Z",
     "start_time": "2024-03-27T20:14:21.807608500Z"
    }
   },
   "id": "9e31dd182ef35093",
   "execution_count": 15
  },
  {
   "cell_type": "code",
   "outputs": [
    {
     "data": {
      "text/plain": "(60, 3)"
     },
     "execution_count": 16,
     "metadata": {},
     "output_type": "execute_result"
    }
   ],
   "source": [
    "melt_2012.shape"
   ],
   "metadata": {
    "collapsed": false,
    "ExecuteTime": {
     "end_time": "2024-03-27T20:14:33.018501100Z",
     "start_time": "2024-03-27T20:14:33.005345600Z"
    }
   },
   "id": "8f040428bc0820d3",
   "execution_count": 16
  },
  {
   "cell_type": "markdown",
   "source": [
    "# The pivot method is used to transform the table from long to wide format. AND pivot method is used to transform the table from long to wide format. IS THE INVERSE OF MELT METHOD"
   ],
   "metadata": {
    "collapsed": false
   },
   "id": "cb66320f12f1e464"
  },
  {
   "cell_type": "code",
   "outputs": [
    {
     "data": {
      "text/plain": "Medal    Bronze  Gold  Silver\nCountry                      \nUSA          46   147      57\nCHN          28    56      44\nGBR          48    48      30\nRUS          51    47      32\nGER          21    45      28\nFRA          22    30      30\nNED          19    21      29\nAUS          59    19      36\nKOR          32    18      13\nMEX           3    18       5\nITA          30    16      22\nNOR           1    15       1\nCRO          16    15       4\nBRA          11    14      34\nHUN           6    12       8\nNZL          14     9       3\nUKR          12     9       4\nJAM           8     8       9\nJPN          33     7      44\nRSA           1     6       2",
      "text/html": "<div>\n<style scoped>\n    .dataframe tbody tr th:only-of-type {\n        vertical-align: middle;\n    }\n\n    .dataframe tbody tr th {\n        vertical-align: top;\n    }\n\n    .dataframe thead th {\n        text-align: right;\n    }\n</style>\n<table border=\"1\" class=\"dataframe\">\n  <thead>\n    <tr style=\"text-align: right;\">\n      <th>Medal</th>\n      <th>Bronze</th>\n      <th>Gold</th>\n      <th>Silver</th>\n    </tr>\n    <tr>\n      <th>Country</th>\n      <th></th>\n      <th></th>\n      <th></th>\n    </tr>\n  </thead>\n  <tbody>\n    <tr>\n      <th>USA</th>\n      <td>46</td>\n      <td>147</td>\n      <td>57</td>\n    </tr>\n    <tr>\n      <th>CHN</th>\n      <td>28</td>\n      <td>56</td>\n      <td>44</td>\n    </tr>\n    <tr>\n      <th>GBR</th>\n      <td>48</td>\n      <td>48</td>\n      <td>30</td>\n    </tr>\n    <tr>\n      <th>RUS</th>\n      <td>51</td>\n      <td>47</td>\n      <td>32</td>\n    </tr>\n    <tr>\n      <th>GER</th>\n      <td>21</td>\n      <td>45</td>\n      <td>28</td>\n    </tr>\n    <tr>\n      <th>FRA</th>\n      <td>22</td>\n      <td>30</td>\n      <td>30</td>\n    </tr>\n    <tr>\n      <th>NED</th>\n      <td>19</td>\n      <td>21</td>\n      <td>29</td>\n    </tr>\n    <tr>\n      <th>AUS</th>\n      <td>59</td>\n      <td>19</td>\n      <td>36</td>\n    </tr>\n    <tr>\n      <th>KOR</th>\n      <td>32</td>\n      <td>18</td>\n      <td>13</td>\n    </tr>\n    <tr>\n      <th>MEX</th>\n      <td>3</td>\n      <td>18</td>\n      <td>5</td>\n    </tr>\n    <tr>\n      <th>ITA</th>\n      <td>30</td>\n      <td>16</td>\n      <td>22</td>\n    </tr>\n    <tr>\n      <th>NOR</th>\n      <td>1</td>\n      <td>15</td>\n      <td>1</td>\n    </tr>\n    <tr>\n      <th>CRO</th>\n      <td>16</td>\n      <td>15</td>\n      <td>4</td>\n    </tr>\n    <tr>\n      <th>BRA</th>\n      <td>11</td>\n      <td>14</td>\n      <td>34</td>\n    </tr>\n    <tr>\n      <th>HUN</th>\n      <td>6</td>\n      <td>12</td>\n      <td>8</td>\n    </tr>\n    <tr>\n      <th>NZL</th>\n      <td>14</td>\n      <td>9</td>\n      <td>3</td>\n    </tr>\n    <tr>\n      <th>UKR</th>\n      <td>12</td>\n      <td>9</td>\n      <td>4</td>\n    </tr>\n    <tr>\n      <th>JAM</th>\n      <td>8</td>\n      <td>8</td>\n      <td>9</td>\n    </tr>\n    <tr>\n      <th>JPN</th>\n      <td>33</td>\n      <td>7</td>\n      <td>44</td>\n    </tr>\n    <tr>\n      <th>RSA</th>\n      <td>1</td>\n      <td>6</td>\n      <td>2</td>\n    </tr>\n  </tbody>\n</table>\n</div>"
     },
     "execution_count": 17,
     "metadata": {},
     "output_type": "execute_result"
    }
   ],
   "source": [
    "melt_2012.pivot(index='Country', columns='Medal', values='Count').sort_values('Gold', ascending=False)"
   ],
   "metadata": {
    "collapsed": false,
    "ExecuteTime": {
     "end_time": "2024-03-27T20:15:00.201498200Z",
     "start_time": "2024-03-27T20:15:00.185472900Z"
    }
   },
   "id": "55b8d0c29dd341ac",
   "execution_count": 17
  },
  {
   "cell_type": "code",
   "outputs": [],
   "source": [],
   "metadata": {
    "collapsed": false
   },
   "id": "2a5eb4c864b8c0f1"
  }
 ],
 "metadata": {
  "kernelspec": {
   "display_name": "Python 3",
   "language": "python",
   "name": "python3"
  },
  "language_info": {
   "codemirror_mode": {
    "name": "ipython",
    "version": 2
   },
   "file_extension": ".py",
   "mimetype": "text/x-python",
   "name": "python",
   "nbconvert_exporter": "python",
   "pygments_lexer": "ipython2",
   "version": "2.7.6"
  }
 },
 "nbformat": 4,
 "nbformat_minor": 5
}
