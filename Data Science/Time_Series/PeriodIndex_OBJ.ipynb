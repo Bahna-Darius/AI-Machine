{
 "cells": [
  {
   "cell_type": "code",
   "execution_count": 1,
   "id": "initial_id",
   "metadata": {
    "collapsed": true,
    "ExecuteTime": {
     "end_time": "2024-04-26T08:41:25.381782100Z",
     "start_time": "2024-04-26T08:41:24.643363900Z"
    }
   },
   "outputs": [],
   "source": [
    "import pandas as pd"
   ]
  },
  {
   "cell_type": "code",
   "outputs": [
    {
     "data": {
      "text/plain": "                       LA   NY\ndatetime                      \n2013-01-01 00:00:00  11.7 -1.1\n2013-01-01 01:00:00  10.7 -1.7\n2013-01-01 02:00:00   9.9 -2.0\n2013-01-01 03:00:00   9.3 -2.1\n2013-01-01 04:00:00   8.8 -2.3\n...                   ...  ...\n2016-12-31 19:00:00  13.5  4.6\n2016-12-31 20:00:00  13.2  5.7\n2016-12-31 21:00:00  12.8  5.8\n2016-12-31 22:00:00  12.3  5.7\n2016-12-31 23:00:00  11.9  5.5\n\n[35064 rows x 2 columns]",
      "text/html": "<div>\n<style scoped>\n    .dataframe tbody tr th:only-of-type {\n        vertical-align: middle;\n    }\n\n    .dataframe tbody tr th {\n        vertical-align: top;\n    }\n\n    .dataframe thead th {\n        text-align: right;\n    }\n</style>\n<table border=\"1\" class=\"dataframe\">\n  <thead>\n    <tr style=\"text-align: right;\">\n      <th></th>\n      <th>LA</th>\n      <th>NY</th>\n    </tr>\n    <tr>\n      <th>datetime</th>\n      <th></th>\n      <th></th>\n    </tr>\n  </thead>\n  <tbody>\n    <tr>\n      <th>2013-01-01 00:00:00</th>\n      <td>11.7</td>\n      <td>-1.1</td>\n    </tr>\n    <tr>\n      <th>2013-01-01 01:00:00</th>\n      <td>10.7</td>\n      <td>-1.7</td>\n    </tr>\n    <tr>\n      <th>2013-01-01 02:00:00</th>\n      <td>9.9</td>\n      <td>-2.0</td>\n    </tr>\n    <tr>\n      <th>2013-01-01 03:00:00</th>\n      <td>9.3</td>\n      <td>-2.1</td>\n    </tr>\n    <tr>\n      <th>2013-01-01 04:00:00</th>\n      <td>8.8</td>\n      <td>-2.3</td>\n    </tr>\n    <tr>\n      <th>...</th>\n      <td>...</td>\n      <td>...</td>\n    </tr>\n    <tr>\n      <th>2016-12-31 19:00:00</th>\n      <td>13.5</td>\n      <td>4.6</td>\n    </tr>\n    <tr>\n      <th>2016-12-31 20:00:00</th>\n      <td>13.2</td>\n      <td>5.7</td>\n    </tr>\n    <tr>\n      <th>2016-12-31 21:00:00</th>\n      <td>12.8</td>\n      <td>5.8</td>\n    </tr>\n    <tr>\n      <th>2016-12-31 22:00:00</th>\n      <td>12.3</td>\n      <td>5.7</td>\n    </tr>\n    <tr>\n      <th>2016-12-31 23:00:00</th>\n      <td>11.9</td>\n      <td>5.5</td>\n    </tr>\n  </tbody>\n</table>\n<p>35064 rows × 2 columns</p>\n</div>"
     },
     "execution_count": 2,
     "metadata": {},
     "output_type": "execute_result"
    }
   ],
   "source": [
    "temp = pd.read_csv('../temp.csv', parse_dates=['datetime'], index_col='datetime')\n",
    "temp"
   ],
   "metadata": {
    "collapsed": false,
    "ExecuteTime": {
     "end_time": "2024-04-26T08:41:57.205404500Z",
     "start_time": "2024-04-26T08:41:57.113549300Z"
    }
   },
   "id": "f17e567ea0f01bcd",
   "execution_count": 2
  },
  {
   "cell_type": "code",
   "outputs": [
    {
     "name": "stderr",
     "output_type": "stream",
     "text": [
      "C:\\Users\\Darius\\AppData\\Local\\Temp\\ipykernel_19624\\2654596750.py:1: FutureWarning: The 'kind' keyword in DataFrame.resample is deprecated and will be removed in a future version. Explicitly cast the index to the desired type instead\n",
      "  temp.resample('ME', kind='period').mean()  # ME: month end\n"
     ]
    },
    {
     "data": {
      "text/plain": "                 LA         NY\ndatetime                      \n2013-01   11.596237   1.129570\n2013-02   12.587202   0.617857\n2013-03   15.069946   3.719220\n2013-04   16.487361  10.699306\n2013-05   19.005780  15.824328\n2013-06   19.905417  22.225694\n2013-07   22.093952  26.329704\n2013-08   21.513172  22.480376\n2013-09   22.404861  18.291806\n2013-10   16.620430  14.335215\n2013-11   15.107917   7.111944\n2013-12   13.416935   2.776210\n2014-01   16.247715  -2.210349\n2014-02   14.326637  -1.596280\n2014-03   15.836156   1.994758\n2014-04   16.783472  10.128611\n2014-05   20.041398  16.829167\n2014-06   19.810556  21.784861\n2014-07   23.056183  24.019624\n2014-08   22.146102  21.848387\n2014-09   21.620278  19.267222\n2014-10   16.968280  14.265860\n2014-11   11.322083   5.719167\n2014-12    8.523925   3.513844\n2015-01    9.527016  -4.179301\n2015-02   11.587649  -7.239732\n2015-03   14.465995   1.020161\n2015-04   13.527917  10.180417\n2015-05   14.540054  18.731586\n2015-06   20.995000  20.347500\n2015-07   22.899059  24.252151\n2015-08   24.846909  24.046774\n2015-09   24.586250  21.589861\n2015-10   21.785753  12.656452\n2015-11   15.255278  10.117500\n2015-12   11.919758   8.662500\n2016-01   12.509274   0.168952\n2016-02   16.600431   2.069971\n2016-03   15.686425   8.070430\n2016-04   17.726111  10.535556\n2016-05   17.375403  15.874462\n2016-06   22.536111  21.462639\n2016-07   24.541532  24.767608\n2016-08   23.983199  25.351882\n2016-09   22.379306  21.032778\n2016-10   16.137903  14.321640\n2016-11   17.196111   8.539722\n2016-12   13.390457   2.327285",
      "text/html": "<div>\n<style scoped>\n    .dataframe tbody tr th:only-of-type {\n        vertical-align: middle;\n    }\n\n    .dataframe tbody tr th {\n        vertical-align: top;\n    }\n\n    .dataframe thead th {\n        text-align: right;\n    }\n</style>\n<table border=\"1\" class=\"dataframe\">\n  <thead>\n    <tr style=\"text-align: right;\">\n      <th></th>\n      <th>LA</th>\n      <th>NY</th>\n    </tr>\n    <tr>\n      <th>datetime</th>\n      <th></th>\n      <th></th>\n    </tr>\n  </thead>\n  <tbody>\n    <tr>\n      <th>2013-01</th>\n      <td>11.596237</td>\n      <td>1.129570</td>\n    </tr>\n    <tr>\n      <th>2013-02</th>\n      <td>12.587202</td>\n      <td>0.617857</td>\n    </tr>\n    <tr>\n      <th>2013-03</th>\n      <td>15.069946</td>\n      <td>3.719220</td>\n    </tr>\n    <tr>\n      <th>2013-04</th>\n      <td>16.487361</td>\n      <td>10.699306</td>\n    </tr>\n    <tr>\n      <th>2013-05</th>\n      <td>19.005780</td>\n      <td>15.824328</td>\n    </tr>\n    <tr>\n      <th>2013-06</th>\n      <td>19.905417</td>\n      <td>22.225694</td>\n    </tr>\n    <tr>\n      <th>2013-07</th>\n      <td>22.093952</td>\n      <td>26.329704</td>\n    </tr>\n    <tr>\n      <th>2013-08</th>\n      <td>21.513172</td>\n      <td>22.480376</td>\n    </tr>\n    <tr>\n      <th>2013-09</th>\n      <td>22.404861</td>\n      <td>18.291806</td>\n    </tr>\n    <tr>\n      <th>2013-10</th>\n      <td>16.620430</td>\n      <td>14.335215</td>\n    </tr>\n    <tr>\n      <th>2013-11</th>\n      <td>15.107917</td>\n      <td>7.111944</td>\n    </tr>\n    <tr>\n      <th>2013-12</th>\n      <td>13.416935</td>\n      <td>2.776210</td>\n    </tr>\n    <tr>\n      <th>2014-01</th>\n      <td>16.247715</td>\n      <td>-2.210349</td>\n    </tr>\n    <tr>\n      <th>2014-02</th>\n      <td>14.326637</td>\n      <td>-1.596280</td>\n    </tr>\n    <tr>\n      <th>2014-03</th>\n      <td>15.836156</td>\n      <td>1.994758</td>\n    </tr>\n    <tr>\n      <th>2014-04</th>\n      <td>16.783472</td>\n      <td>10.128611</td>\n    </tr>\n    <tr>\n      <th>2014-05</th>\n      <td>20.041398</td>\n      <td>16.829167</td>\n    </tr>\n    <tr>\n      <th>2014-06</th>\n      <td>19.810556</td>\n      <td>21.784861</td>\n    </tr>\n    <tr>\n      <th>2014-07</th>\n      <td>23.056183</td>\n      <td>24.019624</td>\n    </tr>\n    <tr>\n      <th>2014-08</th>\n      <td>22.146102</td>\n      <td>21.848387</td>\n    </tr>\n    <tr>\n      <th>2014-09</th>\n      <td>21.620278</td>\n      <td>19.267222</td>\n    </tr>\n    <tr>\n      <th>2014-10</th>\n      <td>16.968280</td>\n      <td>14.265860</td>\n    </tr>\n    <tr>\n      <th>2014-11</th>\n      <td>11.322083</td>\n      <td>5.719167</td>\n    </tr>\n    <tr>\n      <th>2014-12</th>\n      <td>8.523925</td>\n      <td>3.513844</td>\n    </tr>\n    <tr>\n      <th>2015-01</th>\n      <td>9.527016</td>\n      <td>-4.179301</td>\n    </tr>\n    <tr>\n      <th>2015-02</th>\n      <td>11.587649</td>\n      <td>-7.239732</td>\n    </tr>\n    <tr>\n      <th>2015-03</th>\n      <td>14.465995</td>\n      <td>1.020161</td>\n    </tr>\n    <tr>\n      <th>2015-04</th>\n      <td>13.527917</td>\n      <td>10.180417</td>\n    </tr>\n    <tr>\n      <th>2015-05</th>\n      <td>14.540054</td>\n      <td>18.731586</td>\n    </tr>\n    <tr>\n      <th>2015-06</th>\n      <td>20.995000</td>\n      <td>20.347500</td>\n    </tr>\n    <tr>\n      <th>2015-07</th>\n      <td>22.899059</td>\n      <td>24.252151</td>\n    </tr>\n    <tr>\n      <th>2015-08</th>\n      <td>24.846909</td>\n      <td>24.046774</td>\n    </tr>\n    <tr>\n      <th>2015-09</th>\n      <td>24.586250</td>\n      <td>21.589861</td>\n    </tr>\n    <tr>\n      <th>2015-10</th>\n      <td>21.785753</td>\n      <td>12.656452</td>\n    </tr>\n    <tr>\n      <th>2015-11</th>\n      <td>15.255278</td>\n      <td>10.117500</td>\n    </tr>\n    <tr>\n      <th>2015-12</th>\n      <td>11.919758</td>\n      <td>8.662500</td>\n    </tr>\n    <tr>\n      <th>2016-01</th>\n      <td>12.509274</td>\n      <td>0.168952</td>\n    </tr>\n    <tr>\n      <th>2016-02</th>\n      <td>16.600431</td>\n      <td>2.069971</td>\n    </tr>\n    <tr>\n      <th>2016-03</th>\n      <td>15.686425</td>\n      <td>8.070430</td>\n    </tr>\n    <tr>\n      <th>2016-04</th>\n      <td>17.726111</td>\n      <td>10.535556</td>\n    </tr>\n    <tr>\n      <th>2016-05</th>\n      <td>17.375403</td>\n      <td>15.874462</td>\n    </tr>\n    <tr>\n      <th>2016-06</th>\n      <td>22.536111</td>\n      <td>21.462639</td>\n    </tr>\n    <tr>\n      <th>2016-07</th>\n      <td>24.541532</td>\n      <td>24.767608</td>\n    </tr>\n    <tr>\n      <th>2016-08</th>\n      <td>23.983199</td>\n      <td>25.351882</td>\n    </tr>\n    <tr>\n      <th>2016-09</th>\n      <td>22.379306</td>\n      <td>21.032778</td>\n    </tr>\n    <tr>\n      <th>2016-10</th>\n      <td>16.137903</td>\n      <td>14.321640</td>\n    </tr>\n    <tr>\n      <th>2016-11</th>\n      <td>17.196111</td>\n      <td>8.539722</td>\n    </tr>\n    <tr>\n      <th>2016-12</th>\n      <td>13.390457</td>\n      <td>2.327285</td>\n    </tr>\n  </tbody>\n</table>\n</div>"
     },
     "execution_count": 5,
     "metadata": {},
     "output_type": "execute_result"
    }
   ],
   "source": [
    "temp.resample('ME', kind='period').mean()  # ME: month end"
   ],
   "metadata": {
    "collapsed": false,
    "ExecuteTime": {
     "end_time": "2024-04-26T08:47:57.978658600Z",
     "start_time": "2024-04-26T08:47:57.953242800Z"
    }
   },
   "id": "975afa0671a77ad",
   "execution_count": 5
  },
  {
   "cell_type": "code",
   "outputs": [],
   "source": [],
   "metadata": {
    "collapsed": false
   },
   "id": "1a04258a201e37d8"
  }
 ],
 "metadata": {
  "kernelspec": {
   "display_name": "Python 3",
   "language": "python",
   "name": "python3"
  },
  "language_info": {
   "codemirror_mode": {
    "name": "ipython",
    "version": 2
   },
   "file_extension": ".py",
   "mimetype": "text/x-python",
   "name": "python",
   "nbconvert_exporter": "python",
   "pygments_lexer": "ipython2",
   "version": "2.7.6"
  }
 },
 "nbformat": 4,
 "nbformat_minor": 5
}
