{
 "cells": [
  {
   "cell_type": "code",
   "execution_count": 1,
   "id": "initial_id",
   "metadata": {
    "collapsed": true,
    "ExecuteTime": {
     "end_time": "2024-04-25T13:24:52.237903400Z",
     "start_time": "2024-04-25T13:24:49.150471800Z"
    }
   },
   "outputs": [],
   "source": [
    "import pandas as pd"
   ]
  },
  {
   "cell_type": "code",
   "outputs": [
    {
     "data": {
      "text/plain": "                       LA   NY\ndatetime                      \n2013-01-01 00:00:00  11.7 -1.1\n2013-01-01 01:00:00  10.7 -1.7\n2013-01-01 02:00:00   9.9 -2.0\n2013-01-01 03:00:00   9.3 -2.1\n2013-01-01 04:00:00   8.8 -2.3\n...                   ...  ...\n2016-12-31 19:00:00  13.5  4.6\n2016-12-31 20:00:00  13.2  5.7\n2016-12-31 21:00:00  12.8  5.8\n2016-12-31 22:00:00  12.3  5.7\n2016-12-31 23:00:00  11.9  5.5\n\n[35064 rows x 2 columns]",
      "text/html": "<div>\n<style scoped>\n    .dataframe tbody tr th:only-of-type {\n        vertical-align: middle;\n    }\n\n    .dataframe tbody tr th {\n        vertical-align: top;\n    }\n\n    .dataframe thead th {\n        text-align: right;\n    }\n</style>\n<table border=\"1\" class=\"dataframe\">\n  <thead>\n    <tr style=\"text-align: right;\">\n      <th></th>\n      <th>LA</th>\n      <th>NY</th>\n    </tr>\n    <tr>\n      <th>datetime</th>\n      <th></th>\n      <th></th>\n    </tr>\n  </thead>\n  <tbody>\n    <tr>\n      <th>2013-01-01 00:00:00</th>\n      <td>11.7</td>\n      <td>-1.1</td>\n    </tr>\n    <tr>\n      <th>2013-01-01 01:00:00</th>\n      <td>10.7</td>\n      <td>-1.7</td>\n    </tr>\n    <tr>\n      <th>2013-01-01 02:00:00</th>\n      <td>9.9</td>\n      <td>-2.0</td>\n    </tr>\n    <tr>\n      <th>2013-01-01 03:00:00</th>\n      <td>9.3</td>\n      <td>-2.1</td>\n    </tr>\n    <tr>\n      <th>2013-01-01 04:00:00</th>\n      <td>8.8</td>\n      <td>-2.3</td>\n    </tr>\n    <tr>\n      <th>...</th>\n      <td>...</td>\n      <td>...</td>\n    </tr>\n    <tr>\n      <th>2016-12-31 19:00:00</th>\n      <td>13.5</td>\n      <td>4.6</td>\n    </tr>\n    <tr>\n      <th>2016-12-31 20:00:00</th>\n      <td>13.2</td>\n      <td>5.7</td>\n    </tr>\n    <tr>\n      <th>2016-12-31 21:00:00</th>\n      <td>12.8</td>\n      <td>5.8</td>\n    </tr>\n    <tr>\n      <th>2016-12-31 22:00:00</th>\n      <td>12.3</td>\n      <td>5.7</td>\n    </tr>\n    <tr>\n      <th>2016-12-31 23:00:00</th>\n      <td>11.9</td>\n      <td>5.5</td>\n    </tr>\n  </tbody>\n</table>\n<p>35064 rows × 2 columns</p>\n</div>"
     },
     "execution_count": 2,
     "metadata": {},
     "output_type": "execute_result"
    }
   ],
   "source": [
    "temp = pd.read_csv('../temp.csv', parse_dates=['datetime'], index_col='datetime')\n",
    "temp"
   ],
   "metadata": {
    "collapsed": false,
    "ExecuteTime": {
     "end_time": "2024-04-25T13:26:36.183785Z",
     "start_time": "2024-04-25T13:26:36.047574800Z"
    }
   },
   "id": "5ff5761fa61f7645",
   "execution_count": 2
  },
  {
   "cell_type": "code",
   "outputs": [
    {
     "data": {
      "text/plain": "LA    10.7\nNY    -1.7\nName: 2013-01-01 01:00:00, dtype: float64"
     },
     "execution_count": 3,
     "metadata": {},
     "output_type": "execute_result"
    }
   ],
   "source": [
    "temp.loc['2013-01-01 01:00:00']"
   ],
   "metadata": {
    "collapsed": false,
    "ExecuteTime": {
     "end_time": "2024-04-25T13:27:36.361089200Z",
     "start_time": "2024-04-25T13:27:36.315861300Z"
    }
   },
   "id": "99872e8c076154dd",
   "execution_count": 3
  },
  {
   "cell_type": "code",
   "outputs": [
    {
     "data": {
      "text/plain": "                       LA   NY\ndatetime                      \n2015-01-01 00:00:00   3.8 -5.1\n2015-01-01 01:00:00   4.4 -5.1\n2015-01-01 02:00:00   3.2 -6.0\n2015-01-01 03:00:00   1.2 -6.0\n2015-01-01 04:00:00   0.2 -6.0\n...                   ...  ...\n2015-12-31 19:00:00  16.0  8.1\n2015-12-31 20:00:00  16.0  8.1\n2015-12-31 21:00:00  16.4  7.9\n2015-12-31 22:00:00  16.6  7.2\n2015-12-31 23:00:00  16.8  6.2\n\n[8760 rows x 2 columns]",
      "text/html": "<div>\n<style scoped>\n    .dataframe tbody tr th:only-of-type {\n        vertical-align: middle;\n    }\n\n    .dataframe tbody tr th {\n        vertical-align: top;\n    }\n\n    .dataframe thead th {\n        text-align: right;\n    }\n</style>\n<table border=\"1\" class=\"dataframe\">\n  <thead>\n    <tr style=\"text-align: right;\">\n      <th></th>\n      <th>LA</th>\n      <th>NY</th>\n    </tr>\n    <tr>\n      <th>datetime</th>\n      <th></th>\n      <th></th>\n    </tr>\n  </thead>\n  <tbody>\n    <tr>\n      <th>2015-01-01 00:00:00</th>\n      <td>3.8</td>\n      <td>-5.1</td>\n    </tr>\n    <tr>\n      <th>2015-01-01 01:00:00</th>\n      <td>4.4</td>\n      <td>-5.1</td>\n    </tr>\n    <tr>\n      <th>2015-01-01 02:00:00</th>\n      <td>3.2</td>\n      <td>-6.0</td>\n    </tr>\n    <tr>\n      <th>2015-01-01 03:00:00</th>\n      <td>1.2</td>\n      <td>-6.0</td>\n    </tr>\n    <tr>\n      <th>2015-01-01 04:00:00</th>\n      <td>0.2</td>\n      <td>-6.0</td>\n    </tr>\n    <tr>\n      <th>...</th>\n      <td>...</td>\n      <td>...</td>\n    </tr>\n    <tr>\n      <th>2015-12-31 19:00:00</th>\n      <td>16.0</td>\n      <td>8.1</td>\n    </tr>\n    <tr>\n      <th>2015-12-31 20:00:00</th>\n      <td>16.0</td>\n      <td>8.1</td>\n    </tr>\n    <tr>\n      <th>2015-12-31 21:00:00</th>\n      <td>16.4</td>\n      <td>7.9</td>\n    </tr>\n    <tr>\n      <th>2015-12-31 22:00:00</th>\n      <td>16.6</td>\n      <td>7.2</td>\n    </tr>\n    <tr>\n      <th>2015-12-31 23:00:00</th>\n      <td>16.8</td>\n      <td>6.2</td>\n    </tr>\n  </tbody>\n</table>\n<p>8760 rows × 2 columns</p>\n</div>"
     },
     "execution_count": 4,
     "metadata": {},
     "output_type": "execute_result"
    }
   ],
   "source": [
    "temp.loc[\"2015\"]"
   ],
   "metadata": {
    "collapsed": false,
    "ExecuteTime": {
     "end_time": "2024-04-25T14:00:00.857916700Z",
     "start_time": "2024-04-25T14:00:00.823525300Z"
    }
   },
   "id": "d188f6dca48d993e",
   "execution_count": 4
  },
  {
   "cell_type": "code",
   "outputs": [
    {
     "data": {
      "text/plain": "LA   -5.5\nNY   -6.6\nName: 2015-01-01 10:00:00, dtype: float64"
     },
     "execution_count": 6,
     "metadata": {},
     "output_type": "execute_result"
    }
   ],
   "source": [
    "temp.loc[\"2015-01-01 10:00:00\"]"
   ],
   "metadata": {
    "collapsed": false,
    "ExecuteTime": {
     "end_time": "2024-04-25T14:02:35.619625900Z",
     "start_time": "2024-04-25T14:02:35.590617500Z"
    }
   },
   "id": "ba0c85eb35484436",
   "execution_count": 6
  },
  {
   "cell_type": "markdown",
   "source": [
    "Slice data"
   ],
   "metadata": {
    "collapsed": false
   },
   "id": "6632a041e298a8c2"
  },
  {
   "cell_type": "code",
   "outputs": [
    {
     "data": {
      "text/plain": "                       LA   NY\ndatetime                      \n2015-01-01 00:00:00   3.8 -5.1\n2015-01-01 01:00:00   4.4 -5.1\n2015-01-01 02:00:00   3.2 -6.0\n2015-01-01 03:00:00   1.2 -6.0\n2015-01-01 04:00:00   0.2 -6.0\n...                   ...  ...\n2015-03-31 19:00:00  23.1  8.2\n2015-03-31 20:00:00  24.1  8.4\n2015-03-31 21:00:00  23.1  7.2\n2015-03-31 22:00:00  24.7  7.9\n2015-03-31 23:00:00  24.3  7.2\n\n[2160 rows x 2 columns]",
      "text/html": "<div>\n<style scoped>\n    .dataframe tbody tr th:only-of-type {\n        vertical-align: middle;\n    }\n\n    .dataframe tbody tr th {\n        vertical-align: top;\n    }\n\n    .dataframe thead th {\n        text-align: right;\n    }\n</style>\n<table border=\"1\" class=\"dataframe\">\n  <thead>\n    <tr style=\"text-align: right;\">\n      <th></th>\n      <th>LA</th>\n      <th>NY</th>\n    </tr>\n    <tr>\n      <th>datetime</th>\n      <th></th>\n      <th></th>\n    </tr>\n  </thead>\n  <tbody>\n    <tr>\n      <th>2015-01-01 00:00:00</th>\n      <td>3.8</td>\n      <td>-5.1</td>\n    </tr>\n    <tr>\n      <th>2015-01-01 01:00:00</th>\n      <td>4.4</td>\n      <td>-5.1</td>\n    </tr>\n    <tr>\n      <th>2015-01-01 02:00:00</th>\n      <td>3.2</td>\n      <td>-6.0</td>\n    </tr>\n    <tr>\n      <th>2015-01-01 03:00:00</th>\n      <td>1.2</td>\n      <td>-6.0</td>\n    </tr>\n    <tr>\n      <th>2015-01-01 04:00:00</th>\n      <td>0.2</td>\n      <td>-6.0</td>\n    </tr>\n    <tr>\n      <th>...</th>\n      <td>...</td>\n      <td>...</td>\n    </tr>\n    <tr>\n      <th>2015-03-31 19:00:00</th>\n      <td>23.1</td>\n      <td>8.2</td>\n    </tr>\n    <tr>\n      <th>2015-03-31 20:00:00</th>\n      <td>24.1</td>\n      <td>8.4</td>\n    </tr>\n    <tr>\n      <th>2015-03-31 21:00:00</th>\n      <td>23.1</td>\n      <td>7.2</td>\n    </tr>\n    <tr>\n      <th>2015-03-31 22:00:00</th>\n      <td>24.7</td>\n      <td>7.9</td>\n    </tr>\n    <tr>\n      <th>2015-03-31 23:00:00</th>\n      <td>24.3</td>\n      <td>7.2</td>\n    </tr>\n  </tbody>\n</table>\n<p>2160 rows × 2 columns</p>\n</div>"
     },
     "execution_count": 8,
     "metadata": {},
     "output_type": "execute_result"
    }
   ],
   "source": [
    "temp.loc[\"2015-01\" : \"2015-03\"]  # all data from January to March"
   ],
   "metadata": {
    "collapsed": false,
    "ExecuteTime": {
     "end_time": "2024-04-25T14:04:18.230425600Z",
     "start_time": "2024-04-25T14:04:18.201318100Z"
    }
   },
   "id": "f2e073e0294ea482",
   "execution_count": 8
  },
  {
   "cell_type": "code",
   "outputs": [
    {
     "data": {
      "text/plain": "                       LA    NY\ndatetime                       \n2015-01-05 00:00:00  10.5   9.6\n2015-01-05 01:00:00  11.9   9.9\n2015-01-05 02:00:00   8.4   9.7\n2015-01-05 03:00:00   8.1  10.2\n2015-01-05 04:00:00   3.5   9.8\n...                   ...   ...\n2015-03-05 19:00:00  17.4  -5.3\n2015-03-05 20:00:00  18.8  -5.5\n2015-03-05 21:00:00  18.3  -6.1\n2015-03-05 22:00:00  20.2  -6.4\n2015-03-05 23:00:00  20.3  -6.5\n\n[1440 rows x 2 columns]",
      "text/html": "<div>\n<style scoped>\n    .dataframe tbody tr th:only-of-type {\n        vertical-align: middle;\n    }\n\n    .dataframe tbody tr th {\n        vertical-align: top;\n    }\n\n    .dataframe thead th {\n        text-align: right;\n    }\n</style>\n<table border=\"1\" class=\"dataframe\">\n  <thead>\n    <tr style=\"text-align: right;\">\n      <th></th>\n      <th>LA</th>\n      <th>NY</th>\n    </tr>\n    <tr>\n      <th>datetime</th>\n      <th></th>\n      <th></th>\n    </tr>\n  </thead>\n  <tbody>\n    <tr>\n      <th>2015-01-05 00:00:00</th>\n      <td>10.5</td>\n      <td>9.6</td>\n    </tr>\n    <tr>\n      <th>2015-01-05 01:00:00</th>\n      <td>11.9</td>\n      <td>9.9</td>\n    </tr>\n    <tr>\n      <th>2015-01-05 02:00:00</th>\n      <td>8.4</td>\n      <td>9.7</td>\n    </tr>\n    <tr>\n      <th>2015-01-05 03:00:00</th>\n      <td>8.1</td>\n      <td>10.2</td>\n    </tr>\n    <tr>\n      <th>2015-01-05 04:00:00</th>\n      <td>3.5</td>\n      <td>9.8</td>\n    </tr>\n    <tr>\n      <th>...</th>\n      <td>...</td>\n      <td>...</td>\n    </tr>\n    <tr>\n      <th>2015-03-05 19:00:00</th>\n      <td>17.4</td>\n      <td>-5.3</td>\n    </tr>\n    <tr>\n      <th>2015-03-05 20:00:00</th>\n      <td>18.8</td>\n      <td>-5.5</td>\n    </tr>\n    <tr>\n      <th>2015-03-05 21:00:00</th>\n      <td>18.3</td>\n      <td>-6.1</td>\n    </tr>\n    <tr>\n      <th>2015-03-05 22:00:00</th>\n      <td>20.2</td>\n      <td>-6.4</td>\n    </tr>\n    <tr>\n      <th>2015-03-05 23:00:00</th>\n      <td>20.3</td>\n      <td>-6.5</td>\n    </tr>\n  </tbody>\n</table>\n<p>1440 rows × 2 columns</p>\n</div>"
     },
     "execution_count": 9,
     "metadata": {},
     "output_type": "execute_result"
    }
   ],
   "source": [
    "temp.loc[\"2015-01-05\" : \"2015-03-05\"]  # for 05 January to 05 March"
   ],
   "metadata": {
    "collapsed": false,
    "ExecuteTime": {
     "end_time": "2024-04-25T14:04:49.240846600Z",
     "start_time": "2024-04-25T14:04:49.216356600Z"
    }
   },
   "id": "40a1064805bb7e7f",
   "execution_count": 9
  },
  {
   "cell_type": "code",
   "outputs": [
    {
     "data": {
      "text/plain": "                       LA    NY\ndatetime                       \n2015-01-05 00:00:00  10.5   9.6\n2015-01-05 01:00:00  11.9   9.9\n2015-01-05 02:00:00   8.4   9.7\n2015-01-05 03:00:00   8.1  10.2\n2015-01-05 04:00:00   3.5   9.8\n...                   ...   ...\n2016-12-31 19:00:00  13.5   4.6\n2016-12-31 20:00:00  13.2   5.7\n2016-12-31 21:00:00  12.8   5.8\n2016-12-31 22:00:00  12.3   5.7\n2016-12-31 23:00:00  11.9   5.5\n\n[17448 rows x 2 columns]",
      "text/html": "<div>\n<style scoped>\n    .dataframe tbody tr th:only-of-type {\n        vertical-align: middle;\n    }\n\n    .dataframe tbody tr th {\n        vertical-align: top;\n    }\n\n    .dataframe thead th {\n        text-align: right;\n    }\n</style>\n<table border=\"1\" class=\"dataframe\">\n  <thead>\n    <tr style=\"text-align: right;\">\n      <th></th>\n      <th>LA</th>\n      <th>NY</th>\n    </tr>\n    <tr>\n      <th>datetime</th>\n      <th></th>\n      <th></th>\n    </tr>\n  </thead>\n  <tbody>\n    <tr>\n      <th>2015-01-05 00:00:00</th>\n      <td>10.5</td>\n      <td>9.6</td>\n    </tr>\n    <tr>\n      <th>2015-01-05 01:00:00</th>\n      <td>11.9</td>\n      <td>9.9</td>\n    </tr>\n    <tr>\n      <th>2015-01-05 02:00:00</th>\n      <td>8.4</td>\n      <td>9.7</td>\n    </tr>\n    <tr>\n      <th>2015-01-05 03:00:00</th>\n      <td>8.1</td>\n      <td>10.2</td>\n    </tr>\n    <tr>\n      <th>2015-01-05 04:00:00</th>\n      <td>3.5</td>\n      <td>9.8</td>\n    </tr>\n    <tr>\n      <th>...</th>\n      <td>...</td>\n      <td>...</td>\n    </tr>\n    <tr>\n      <th>2016-12-31 19:00:00</th>\n      <td>13.5</td>\n      <td>4.6</td>\n    </tr>\n    <tr>\n      <th>2016-12-31 20:00:00</th>\n      <td>13.2</td>\n      <td>5.7</td>\n    </tr>\n    <tr>\n      <th>2016-12-31 21:00:00</th>\n      <td>12.8</td>\n      <td>5.8</td>\n    </tr>\n    <tr>\n      <th>2016-12-31 22:00:00</th>\n      <td>12.3</td>\n      <td>5.7</td>\n    </tr>\n    <tr>\n      <th>2016-12-31 23:00:00</th>\n      <td>11.9</td>\n      <td>5.5</td>\n    </tr>\n  </tbody>\n</table>\n<p>17448 rows × 2 columns</p>\n</div>"
     },
     "execution_count": 10,
     "metadata": {},
     "output_type": "execute_result"
    }
   ],
   "source": [
    "temp.loc[\"2015-01-05\" : ]  # for 05 January to end"
   ],
   "metadata": {
    "collapsed": false,
    "ExecuteTime": {
     "end_time": "2024-04-25T14:06:05.458766700Z",
     "start_time": "2024-04-25T14:06:05.415990300Z"
    }
   },
   "id": "7383b63cb42e6cbf",
   "execution_count": 10
  },
  {
   "cell_type": "code",
   "outputs": [
    {
     "data": {
      "text/plain": "                       LA   NY\ndatetime                      \n2013-01-01 00:00:00  11.7 -1.1\n2013-01-01 01:00:00  10.7 -1.7\n2013-01-01 02:00:00   9.9 -2.0\n2013-01-01 03:00:00   9.3 -2.1\n2013-01-01 04:00:00   8.8 -2.3\n...                   ...  ...\n2015-01-05 19:00:00  12.7  1.7\n2015-01-05 20:00:00  15.3  0.6\n2015-01-05 21:00:00  13.6 -0.5\n2015-01-05 22:00:00  17.5 -1.3\n2015-01-05 23:00:00  17.2 -2.2\n\n[17640 rows x 2 columns]",
      "text/html": "<div>\n<style scoped>\n    .dataframe tbody tr th:only-of-type {\n        vertical-align: middle;\n    }\n\n    .dataframe tbody tr th {\n        vertical-align: top;\n    }\n\n    .dataframe thead th {\n        text-align: right;\n    }\n</style>\n<table border=\"1\" class=\"dataframe\">\n  <thead>\n    <tr style=\"text-align: right;\">\n      <th></th>\n      <th>LA</th>\n      <th>NY</th>\n    </tr>\n    <tr>\n      <th>datetime</th>\n      <th></th>\n      <th></th>\n    </tr>\n  </thead>\n  <tbody>\n    <tr>\n      <th>2013-01-01 00:00:00</th>\n      <td>11.7</td>\n      <td>-1.1</td>\n    </tr>\n    <tr>\n      <th>2013-01-01 01:00:00</th>\n      <td>10.7</td>\n      <td>-1.7</td>\n    </tr>\n    <tr>\n      <th>2013-01-01 02:00:00</th>\n      <td>9.9</td>\n      <td>-2.0</td>\n    </tr>\n    <tr>\n      <th>2013-01-01 03:00:00</th>\n      <td>9.3</td>\n      <td>-2.1</td>\n    </tr>\n    <tr>\n      <th>2013-01-01 04:00:00</th>\n      <td>8.8</td>\n      <td>-2.3</td>\n    </tr>\n    <tr>\n      <th>...</th>\n      <td>...</td>\n      <td>...</td>\n    </tr>\n    <tr>\n      <th>2015-01-05 19:00:00</th>\n      <td>12.7</td>\n      <td>1.7</td>\n    </tr>\n    <tr>\n      <th>2015-01-05 20:00:00</th>\n      <td>15.3</td>\n      <td>0.6</td>\n    </tr>\n    <tr>\n      <th>2015-01-05 21:00:00</th>\n      <td>13.6</td>\n      <td>-0.5</td>\n    </tr>\n    <tr>\n      <th>2015-01-05 22:00:00</th>\n      <td>17.5</td>\n      <td>-1.3</td>\n    </tr>\n    <tr>\n      <th>2015-01-05 23:00:00</th>\n      <td>17.2</td>\n      <td>-2.2</td>\n    </tr>\n  </tbody>\n</table>\n<p>17640 rows × 2 columns</p>\n</div>"
     },
     "execution_count": 11,
     "metadata": {},
     "output_type": "execute_result"
    }
   ],
   "source": [
    "temp.loc[:\"2015-01-05\"]  # for start to 05 January"
   ],
   "metadata": {
    "collapsed": false,
    "ExecuteTime": {
     "end_time": "2024-04-25T14:06:35.941735200Z",
     "start_time": "2024-04-25T14:06:35.890417600Z"
    }
   },
   "id": "720959957345e595",
   "execution_count": 11
  },
  {
   "cell_type": "code",
   "outputs": [],
   "source": [],
   "metadata": {
    "collapsed": false
   },
   "id": "c57c39975fea5e64"
  }
 ],
 "metadata": {
  "kernelspec": {
   "display_name": "Python 3",
   "language": "python",
   "name": "python3"
  },
  "language_info": {
   "codemirror_mode": {
    "name": "ipython",
    "version": 2
   },
   "file_extension": ".py",
   "mimetype": "text/x-python",
   "name": "python",
   "nbconvert_exporter": "python",
   "pygments_lexer": "ipython2",
   "version": "2.7.6"
  }
 },
 "nbformat": 4,
 "nbformat_minor": 5
}
