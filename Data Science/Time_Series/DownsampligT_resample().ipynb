{
 "cells": [
  {
   "cell_type": "code",
   "execution_count": 1,
   "id": "initial_id",
   "metadata": {
    "collapsed": true,
    "ExecuteTime": {
     "end_time": "2024-04-26T08:35:01.990599900Z",
     "start_time": "2024-04-26T08:34:59.520010500Z"
    }
   },
   "outputs": [],
   "source": [
    "import pandas as pd"
   ]
  },
  {
   "cell_type": "code",
   "outputs": [
    {
     "data": {
      "text/plain": "                       LA   NY\ndatetime                      \n2013-01-01 00:00:00  11.7 -1.1\n2013-01-01 01:00:00  10.7 -1.7\n2013-01-01 02:00:00   9.9 -2.0\n2013-01-01 03:00:00   9.3 -2.1\n2013-01-01 04:00:00   8.8 -2.3\n...                   ...  ...\n2016-12-31 19:00:00  13.5  4.6\n2016-12-31 20:00:00  13.2  5.7\n2016-12-31 21:00:00  12.8  5.8\n2016-12-31 22:00:00  12.3  5.7\n2016-12-31 23:00:00  11.9  5.5\n\n[35064 rows x 2 columns]",
      "text/html": "<div>\n<style scoped>\n    .dataframe tbody tr th:only-of-type {\n        vertical-align: middle;\n    }\n\n    .dataframe tbody tr th {\n        vertical-align: top;\n    }\n\n    .dataframe thead th {\n        text-align: right;\n    }\n</style>\n<table border=\"1\" class=\"dataframe\">\n  <thead>\n    <tr style=\"text-align: right;\">\n      <th></th>\n      <th>LA</th>\n      <th>NY</th>\n    </tr>\n    <tr>\n      <th>datetime</th>\n      <th></th>\n      <th></th>\n    </tr>\n  </thead>\n  <tbody>\n    <tr>\n      <th>2013-01-01 00:00:00</th>\n      <td>11.7</td>\n      <td>-1.1</td>\n    </tr>\n    <tr>\n      <th>2013-01-01 01:00:00</th>\n      <td>10.7</td>\n      <td>-1.7</td>\n    </tr>\n    <tr>\n      <th>2013-01-01 02:00:00</th>\n      <td>9.9</td>\n      <td>-2.0</td>\n    </tr>\n    <tr>\n      <th>2013-01-01 03:00:00</th>\n      <td>9.3</td>\n      <td>-2.1</td>\n    </tr>\n    <tr>\n      <th>2013-01-01 04:00:00</th>\n      <td>8.8</td>\n      <td>-2.3</td>\n    </tr>\n    <tr>\n      <th>...</th>\n      <td>...</td>\n      <td>...</td>\n    </tr>\n    <tr>\n      <th>2016-12-31 19:00:00</th>\n      <td>13.5</td>\n      <td>4.6</td>\n    </tr>\n    <tr>\n      <th>2016-12-31 20:00:00</th>\n      <td>13.2</td>\n      <td>5.7</td>\n    </tr>\n    <tr>\n      <th>2016-12-31 21:00:00</th>\n      <td>12.8</td>\n      <td>5.8</td>\n    </tr>\n    <tr>\n      <th>2016-12-31 22:00:00</th>\n      <td>12.3</td>\n      <td>5.7</td>\n    </tr>\n    <tr>\n      <th>2016-12-31 23:00:00</th>\n      <td>11.9</td>\n      <td>5.5</td>\n    </tr>\n  </tbody>\n</table>\n<p>35064 rows × 2 columns</p>\n</div>"
     },
     "execution_count": 2,
     "metadata": {},
     "output_type": "execute_result"
    }
   ],
   "source": [
    "temp = pd.read_csv('../temp.csv', parse_dates=['datetime'], index_col='datetime')\n",
    "temp"
   ],
   "metadata": {
    "collapsed": false,
    "ExecuteTime": {
     "end_time": "2024-04-26T08:35:02.099463700Z",
     "start_time": "2024-04-26T08:35:01.991596600Z"
    }
   },
   "id": "208cd299d73c2dd4",
   "execution_count": 2
  },
  {
   "cell_type": "markdown",
   "source": [
    "# Method resample of pandas is same as groupby , but it is used for time series data!"
   ],
   "metadata": {
    "collapsed": false
   },
   "id": "b7a12d0c9a787bce"
  },
  {
   "cell_type": "code",
   "outputs": [
    {
     "data": {
      "text/plain": "<pandas.core.resample.DatetimeIndexResampler object at 0x00000268EED259D0>"
     },
     "execution_count": 3,
     "metadata": {},
     "output_type": "execute_result"
    }
   ],
   "source": [
    "temp.resample('D')"
   ],
   "metadata": {
    "collapsed": false,
    "ExecuteTime": {
     "end_time": "2024-04-26T08:35:02.123777300Z",
     "start_time": "2024-04-26T08:35:02.103464Z"
    }
   },
   "id": "38f69a4987e4778c",
   "execution_count": 3
  },
  {
   "cell_type": "code",
   "outputs": [
    {
     "data": {
      "text/plain": "                       LA   NY\ndatetime                      \n2013-01-01 00:00:00  11.7 -1.1\n2013-01-01 01:00:00  10.7 -1.7\n2013-01-01 02:00:00   9.9 -2.0\n2013-01-01 03:00:00   9.3 -2.1\n2013-01-01 04:00:00   8.8 -2.3\n2013-01-01 05:00:00   8.7 -2.5\n2013-01-01 06:00:00   6.9 -3.2\n2013-01-01 07:00:00   7.8 -3.4\n2013-01-01 08:00:00   6.7 -3.0\n2013-01-01 09:00:00   6.6 -1.8\n2013-01-01 10:00:00   6.1 -1.4\n2013-01-01 11:00:00   5.6 -1.8\n2013-01-01 12:00:00   5.1 -1.7\n2013-01-01 13:00:00   5.2 -1.5\n2013-01-01 14:00:00   4.6 -1.0\n2013-01-01 15:00:00   5.1 -0.0\n2013-01-01 16:00:00   6.2  1.2\n2013-01-01 17:00:00   9.3  2.2\n2013-01-01 18:00:00  11.4  3.3\n2013-01-01 19:00:00  12.0  3.5\n2013-01-01 20:00:00  12.9  3.1\n2013-01-01 21:00:00  13.9  2.4\n2013-01-01 22:00:00  14.1  2.4\n2013-01-01 23:00:00  14.0  2.7",
      "text/html": "<div>\n<style scoped>\n    .dataframe tbody tr th:only-of-type {\n        vertical-align: middle;\n    }\n\n    .dataframe tbody tr th {\n        vertical-align: top;\n    }\n\n    .dataframe thead th {\n        text-align: right;\n    }\n</style>\n<table border=\"1\" class=\"dataframe\">\n  <thead>\n    <tr style=\"text-align: right;\">\n      <th></th>\n      <th>LA</th>\n      <th>NY</th>\n    </tr>\n    <tr>\n      <th>datetime</th>\n      <th></th>\n      <th></th>\n    </tr>\n  </thead>\n  <tbody>\n    <tr>\n      <th>2013-01-01 00:00:00</th>\n      <td>11.7</td>\n      <td>-1.1</td>\n    </tr>\n    <tr>\n      <th>2013-01-01 01:00:00</th>\n      <td>10.7</td>\n      <td>-1.7</td>\n    </tr>\n    <tr>\n      <th>2013-01-01 02:00:00</th>\n      <td>9.9</td>\n      <td>-2.0</td>\n    </tr>\n    <tr>\n      <th>2013-01-01 03:00:00</th>\n      <td>9.3</td>\n      <td>-2.1</td>\n    </tr>\n    <tr>\n      <th>2013-01-01 04:00:00</th>\n      <td>8.8</td>\n      <td>-2.3</td>\n    </tr>\n    <tr>\n      <th>2013-01-01 05:00:00</th>\n      <td>8.7</td>\n      <td>-2.5</td>\n    </tr>\n    <tr>\n      <th>2013-01-01 06:00:00</th>\n      <td>6.9</td>\n      <td>-3.2</td>\n    </tr>\n    <tr>\n      <th>2013-01-01 07:00:00</th>\n      <td>7.8</td>\n      <td>-3.4</td>\n    </tr>\n    <tr>\n      <th>2013-01-01 08:00:00</th>\n      <td>6.7</td>\n      <td>-3.0</td>\n    </tr>\n    <tr>\n      <th>2013-01-01 09:00:00</th>\n      <td>6.6</td>\n      <td>-1.8</td>\n    </tr>\n    <tr>\n      <th>2013-01-01 10:00:00</th>\n      <td>6.1</td>\n      <td>-1.4</td>\n    </tr>\n    <tr>\n      <th>2013-01-01 11:00:00</th>\n      <td>5.6</td>\n      <td>-1.8</td>\n    </tr>\n    <tr>\n      <th>2013-01-01 12:00:00</th>\n      <td>5.1</td>\n      <td>-1.7</td>\n    </tr>\n    <tr>\n      <th>2013-01-01 13:00:00</th>\n      <td>5.2</td>\n      <td>-1.5</td>\n    </tr>\n    <tr>\n      <th>2013-01-01 14:00:00</th>\n      <td>4.6</td>\n      <td>-1.0</td>\n    </tr>\n    <tr>\n      <th>2013-01-01 15:00:00</th>\n      <td>5.1</td>\n      <td>-0.0</td>\n    </tr>\n    <tr>\n      <th>2013-01-01 16:00:00</th>\n      <td>6.2</td>\n      <td>1.2</td>\n    </tr>\n    <tr>\n      <th>2013-01-01 17:00:00</th>\n      <td>9.3</td>\n      <td>2.2</td>\n    </tr>\n    <tr>\n      <th>2013-01-01 18:00:00</th>\n      <td>11.4</td>\n      <td>3.3</td>\n    </tr>\n    <tr>\n      <th>2013-01-01 19:00:00</th>\n      <td>12.0</td>\n      <td>3.5</td>\n    </tr>\n    <tr>\n      <th>2013-01-01 20:00:00</th>\n      <td>12.9</td>\n      <td>3.1</td>\n    </tr>\n    <tr>\n      <th>2013-01-01 21:00:00</th>\n      <td>13.9</td>\n      <td>2.4</td>\n    </tr>\n    <tr>\n      <th>2013-01-01 22:00:00</th>\n      <td>14.1</td>\n      <td>2.4</td>\n    </tr>\n    <tr>\n      <th>2013-01-01 23:00:00</th>\n      <td>14.0</td>\n      <td>2.7</td>\n    </tr>\n  </tbody>\n</table>\n</div>"
     },
     "execution_count": 4,
     "metadata": {},
     "output_type": "execute_result"
    }
   ],
   "source": [
    "list(temp.resample('D'))[0][1]"
   ],
   "metadata": {
    "collapsed": false,
    "ExecuteTime": {
     "end_time": "2024-04-26T08:35:02.256929800Z",
     "start_time": "2024-04-26T08:35:02.112764200Z"
    }
   },
   "id": "55b0af6b65b439a8",
   "execution_count": 4
  },
  {
   "cell_type": "code",
   "outputs": [
    {
     "data": {
      "text/plain": "              LA    NY\ndatetime              \n2013-01-01  11.7  -1.1\n2013-01-02  13.2   2.6\n2013-01-03  15.1   0.3\n2013-01-04  16.3  -1.2\n2013-01-05  18.1  -1.2\n...          ...   ...\n2016-12-27  15.1   4.1\n2016-12-28  19.9  11.2\n2016-12-29  23.3   2.1\n2016-12-30  25.5   3.0\n2016-12-31  15.7   0.8\n\n[1461 rows x 2 columns]",
      "text/html": "<div>\n<style scoped>\n    .dataframe tbody tr th:only-of-type {\n        vertical-align: middle;\n    }\n\n    .dataframe tbody tr th {\n        vertical-align: top;\n    }\n\n    .dataframe thead th {\n        text-align: right;\n    }\n</style>\n<table border=\"1\" class=\"dataframe\">\n  <thead>\n    <tr style=\"text-align: right;\">\n      <th></th>\n      <th>LA</th>\n      <th>NY</th>\n    </tr>\n    <tr>\n      <th>datetime</th>\n      <th></th>\n      <th></th>\n    </tr>\n  </thead>\n  <tbody>\n    <tr>\n      <th>2013-01-01</th>\n      <td>11.7</td>\n      <td>-1.1</td>\n    </tr>\n    <tr>\n      <th>2013-01-02</th>\n      <td>13.2</td>\n      <td>2.6</td>\n    </tr>\n    <tr>\n      <th>2013-01-03</th>\n      <td>15.1</td>\n      <td>0.3</td>\n    </tr>\n    <tr>\n      <th>2013-01-04</th>\n      <td>16.3</td>\n      <td>-1.2</td>\n    </tr>\n    <tr>\n      <th>2013-01-05</th>\n      <td>18.1</td>\n      <td>-1.2</td>\n    </tr>\n    <tr>\n      <th>...</th>\n      <td>...</td>\n      <td>...</td>\n    </tr>\n    <tr>\n      <th>2016-12-27</th>\n      <td>15.1</td>\n      <td>4.1</td>\n    </tr>\n    <tr>\n      <th>2016-12-28</th>\n      <td>19.9</td>\n      <td>11.2</td>\n    </tr>\n    <tr>\n      <th>2016-12-29</th>\n      <td>23.3</td>\n      <td>2.1</td>\n    </tr>\n    <tr>\n      <th>2016-12-30</th>\n      <td>25.5</td>\n      <td>3.0</td>\n    </tr>\n    <tr>\n      <th>2016-12-31</th>\n      <td>15.7</td>\n      <td>0.8</td>\n    </tr>\n  </tbody>\n</table>\n<p>1461 rows × 2 columns</p>\n</div>"
     },
     "execution_count": 5,
     "metadata": {},
     "output_type": "execute_result"
    }
   ],
   "source": [
    "temp.resample('D').first()  # first value of the day for LA and NY  "
   ],
   "metadata": {
    "collapsed": false,
    "ExecuteTime": {
     "end_time": "2024-04-26T08:35:02.384799800Z",
     "start_time": "2024-04-26T08:35:02.213770600Z"
    }
   },
   "id": "dde25f67ff34f874",
   "execution_count": 5
  },
  {
   "cell_type": "code",
   "outputs": [
    {
     "data": {
      "text/plain": "               LA     NY\ndatetime                \n2013-01-01  212.6   -9.7\n2013-01-02  222.8   77.0\n2013-01-03  247.3  -58.2\n2013-01-04  276.3  -49.7\n2013-01-05  266.0   19.6\n...           ...    ...\n2016-12-27  291.7  253.9\n2016-12-28  346.4   96.4\n2016-12-29  385.1   31.5\n2016-12-30  382.4   52.9\n2016-12-31  318.6   28.9\n\n[1461 rows x 2 columns]",
      "text/html": "<div>\n<style scoped>\n    .dataframe tbody tr th:only-of-type {\n        vertical-align: middle;\n    }\n\n    .dataframe tbody tr th {\n        vertical-align: top;\n    }\n\n    .dataframe thead th {\n        text-align: right;\n    }\n</style>\n<table border=\"1\" class=\"dataframe\">\n  <thead>\n    <tr style=\"text-align: right;\">\n      <th></th>\n      <th>LA</th>\n      <th>NY</th>\n    </tr>\n    <tr>\n      <th>datetime</th>\n      <th></th>\n      <th></th>\n    </tr>\n  </thead>\n  <tbody>\n    <tr>\n      <th>2013-01-01</th>\n      <td>212.6</td>\n      <td>-9.7</td>\n    </tr>\n    <tr>\n      <th>2013-01-02</th>\n      <td>222.8</td>\n      <td>77.0</td>\n    </tr>\n    <tr>\n      <th>2013-01-03</th>\n      <td>247.3</td>\n      <td>-58.2</td>\n    </tr>\n    <tr>\n      <th>2013-01-04</th>\n      <td>276.3</td>\n      <td>-49.7</td>\n    </tr>\n    <tr>\n      <th>2013-01-05</th>\n      <td>266.0</td>\n      <td>19.6</td>\n    </tr>\n    <tr>\n      <th>...</th>\n      <td>...</td>\n      <td>...</td>\n    </tr>\n    <tr>\n      <th>2016-12-27</th>\n      <td>291.7</td>\n      <td>253.9</td>\n    </tr>\n    <tr>\n      <th>2016-12-28</th>\n      <td>346.4</td>\n      <td>96.4</td>\n    </tr>\n    <tr>\n      <th>2016-12-29</th>\n      <td>385.1</td>\n      <td>31.5</td>\n    </tr>\n    <tr>\n      <th>2016-12-30</th>\n      <td>382.4</td>\n      <td>52.9</td>\n    </tr>\n    <tr>\n      <th>2016-12-31</th>\n      <td>318.6</td>\n      <td>28.9</td>\n    </tr>\n  </tbody>\n</table>\n<p>1461 rows × 2 columns</p>\n</div>"
     },
     "execution_count": 6,
     "metadata": {},
     "output_type": "execute_result"
    }
   ],
   "source": [
    "temp.resample('D').sum()"
   ],
   "metadata": {
    "collapsed": false,
    "ExecuteTime": {
     "end_time": "2024-04-26T08:35:02.489317Z",
     "start_time": "2024-04-26T08:35:02.233270Z"
    }
   },
   "id": "3d1e1233af2cf707",
   "execution_count": 6
  },
  {
   "cell_type": "code",
   "outputs": [
    {
     "data": {
      "text/plain": "              LA    NY\ndatetime              \n2013-01-01  14.0   2.7\n2013-01-02  15.1   1.2\n2013-01-03  16.6  -1.5\n2013-01-04  20.0  -1.2\n2013-01-05  17.8   2.0\n...          ...   ...\n2016-12-27  20.1  12.9\n2016-12-28  24.3   2.6\n2016-12-29  25.6   4.2\n2016-12-30  15.9   1.2\n2016-12-31  11.9   5.5\n\n[1461 rows x 2 columns]",
      "text/html": "<div>\n<style scoped>\n    .dataframe tbody tr th:only-of-type {\n        vertical-align: middle;\n    }\n\n    .dataframe tbody tr th {\n        vertical-align: top;\n    }\n\n    .dataframe thead th {\n        text-align: right;\n    }\n</style>\n<table border=\"1\" class=\"dataframe\">\n  <thead>\n    <tr style=\"text-align: right;\">\n      <th></th>\n      <th>LA</th>\n      <th>NY</th>\n    </tr>\n    <tr>\n      <th>datetime</th>\n      <th></th>\n      <th></th>\n    </tr>\n  </thead>\n  <tbody>\n    <tr>\n      <th>2013-01-01</th>\n      <td>14.0</td>\n      <td>2.7</td>\n    </tr>\n    <tr>\n      <th>2013-01-02</th>\n      <td>15.1</td>\n      <td>1.2</td>\n    </tr>\n    <tr>\n      <th>2013-01-03</th>\n      <td>16.6</td>\n      <td>-1.5</td>\n    </tr>\n    <tr>\n      <th>2013-01-04</th>\n      <td>20.0</td>\n      <td>-1.2</td>\n    </tr>\n    <tr>\n      <th>2013-01-05</th>\n      <td>17.8</td>\n      <td>2.0</td>\n    </tr>\n    <tr>\n      <th>...</th>\n      <td>...</td>\n      <td>...</td>\n    </tr>\n    <tr>\n      <th>2016-12-27</th>\n      <td>20.1</td>\n      <td>12.9</td>\n    </tr>\n    <tr>\n      <th>2016-12-28</th>\n      <td>24.3</td>\n      <td>2.6</td>\n    </tr>\n    <tr>\n      <th>2016-12-29</th>\n      <td>25.6</td>\n      <td>4.2</td>\n    </tr>\n    <tr>\n      <th>2016-12-30</th>\n      <td>15.9</td>\n      <td>1.2</td>\n    </tr>\n    <tr>\n      <th>2016-12-31</th>\n      <td>11.9</td>\n      <td>5.5</td>\n    </tr>\n  </tbody>\n</table>\n<p>1461 rows × 2 columns</p>\n</div>"
     },
     "execution_count": 7,
     "metadata": {},
     "output_type": "execute_result"
    }
   ],
   "source": [
    "temp.resample('D').last()   # last value of the day"
   ],
   "metadata": {
    "collapsed": false,
    "ExecuteTime": {
     "end_time": "2024-04-26T08:35:02.492319100Z",
     "start_time": "2024-04-26T08:35:02.251928400Z"
    }
   },
   "id": "f767765d142965f6",
   "execution_count": 7
  },
  {
   "cell_type": "code",
   "outputs": [
    {
     "data": {
      "text/plain": "                   LA         NY\ndatetime                        \n2013-01-01   8.858333  -0.404167\n2013-01-02   9.283333   3.208333\n2013-01-03  10.304167  -2.425000\n2013-01-04  11.512500  -2.070833\n2013-01-05  11.083333   0.816667\n...               ...        ...\n2016-12-27  12.154167  10.579167\n2016-12-28  14.433333   4.016667\n2016-12-29  16.045833   1.312500\n2016-12-30  15.933333   2.204167\n2016-12-31  13.275000   1.204167\n\n[1461 rows x 2 columns]",
      "text/html": "<div>\n<style scoped>\n    .dataframe tbody tr th:only-of-type {\n        vertical-align: middle;\n    }\n\n    .dataframe tbody tr th {\n        vertical-align: top;\n    }\n\n    .dataframe thead th {\n        text-align: right;\n    }\n</style>\n<table border=\"1\" class=\"dataframe\">\n  <thead>\n    <tr style=\"text-align: right;\">\n      <th></th>\n      <th>LA</th>\n      <th>NY</th>\n    </tr>\n    <tr>\n      <th>datetime</th>\n      <th></th>\n      <th></th>\n    </tr>\n  </thead>\n  <tbody>\n    <tr>\n      <th>2013-01-01</th>\n      <td>8.858333</td>\n      <td>-0.404167</td>\n    </tr>\n    <tr>\n      <th>2013-01-02</th>\n      <td>9.283333</td>\n      <td>3.208333</td>\n    </tr>\n    <tr>\n      <th>2013-01-03</th>\n      <td>10.304167</td>\n      <td>-2.425000</td>\n    </tr>\n    <tr>\n      <th>2013-01-04</th>\n      <td>11.512500</td>\n      <td>-2.070833</td>\n    </tr>\n    <tr>\n      <th>2013-01-05</th>\n      <td>11.083333</td>\n      <td>0.816667</td>\n    </tr>\n    <tr>\n      <th>...</th>\n      <td>...</td>\n      <td>...</td>\n    </tr>\n    <tr>\n      <th>2016-12-27</th>\n      <td>12.154167</td>\n      <td>10.579167</td>\n    </tr>\n    <tr>\n      <th>2016-12-28</th>\n      <td>14.433333</td>\n      <td>4.016667</td>\n    </tr>\n    <tr>\n      <th>2016-12-29</th>\n      <td>16.045833</td>\n      <td>1.312500</td>\n    </tr>\n    <tr>\n      <th>2016-12-30</th>\n      <td>15.933333</td>\n      <td>2.204167</td>\n    </tr>\n    <tr>\n      <th>2016-12-31</th>\n      <td>13.275000</td>\n      <td>1.204167</td>\n    </tr>\n  </tbody>\n</table>\n<p>1461 rows × 2 columns</p>\n</div>"
     },
     "execution_count": 8,
     "metadata": {},
     "output_type": "execute_result"
    }
   ],
   "source": [
    "temp.resample('D').mean()   # mean value of the day"
   ],
   "metadata": {
    "collapsed": false,
    "ExecuteTime": {
     "end_time": "2024-04-26T08:35:02.553833800Z",
     "start_time": "2024-04-26T08:35:02.269174100Z"
    }
   },
   "id": "51361d1368f2eb51",
   "execution_count": 8
  },
  {
   "cell_type": "code",
   "outputs": [
    {
     "data": {
      "text/plain": "              LA    NY\ndatetime              \n2013-01-01  14.1   3.5\n2013-01-02  15.1   4.0\n2013-01-03  18.1   0.8\n2013-01-04  20.7   1.1\n2013-01-05  18.5   3.5\n...          ...   ...\n2016-12-27  20.1  15.6\n2016-12-28  24.3  11.2\n2016-12-29  25.6   6.3\n2016-12-30  25.5   3.8\n2016-12-31  15.7   5.8\n\n[1461 rows x 2 columns]",
      "text/html": "<div>\n<style scoped>\n    .dataframe tbody tr th:only-of-type {\n        vertical-align: middle;\n    }\n\n    .dataframe tbody tr th {\n        vertical-align: top;\n    }\n\n    .dataframe thead th {\n        text-align: right;\n    }\n</style>\n<table border=\"1\" class=\"dataframe\">\n  <thead>\n    <tr style=\"text-align: right;\">\n      <th></th>\n      <th>LA</th>\n      <th>NY</th>\n    </tr>\n    <tr>\n      <th>datetime</th>\n      <th></th>\n      <th></th>\n    </tr>\n  </thead>\n  <tbody>\n    <tr>\n      <th>2013-01-01</th>\n      <td>14.1</td>\n      <td>3.5</td>\n    </tr>\n    <tr>\n      <th>2013-01-02</th>\n      <td>15.1</td>\n      <td>4.0</td>\n    </tr>\n    <tr>\n      <th>2013-01-03</th>\n      <td>18.1</td>\n      <td>0.8</td>\n    </tr>\n    <tr>\n      <th>2013-01-04</th>\n      <td>20.7</td>\n      <td>1.1</td>\n    </tr>\n    <tr>\n      <th>2013-01-05</th>\n      <td>18.5</td>\n      <td>3.5</td>\n    </tr>\n    <tr>\n      <th>...</th>\n      <td>...</td>\n      <td>...</td>\n    </tr>\n    <tr>\n      <th>2016-12-27</th>\n      <td>20.1</td>\n      <td>15.6</td>\n    </tr>\n    <tr>\n      <th>2016-12-28</th>\n      <td>24.3</td>\n      <td>11.2</td>\n    </tr>\n    <tr>\n      <th>2016-12-29</th>\n      <td>25.6</td>\n      <td>6.3</td>\n    </tr>\n    <tr>\n      <th>2016-12-30</th>\n      <td>25.5</td>\n      <td>3.8</td>\n    </tr>\n    <tr>\n      <th>2016-12-31</th>\n      <td>15.7</td>\n      <td>5.8</td>\n    </tr>\n  </tbody>\n</table>\n<p>1461 rows × 2 columns</p>\n</div>"
     },
     "execution_count": 9,
     "metadata": {},
     "output_type": "execute_result"
    }
   ],
   "source": [
    "temp.resample('D').max()   # max value of the day"
   ],
   "metadata": {
    "collapsed": false,
    "ExecuteTime": {
     "end_time": "2024-04-26T08:35:02.557830100Z",
     "start_time": "2024-04-26T08:35:02.284825400Z"
    }
   },
   "id": "2905c1c457a48c5d",
   "execution_count": 9
  },
  {
   "cell_type": "code",
   "outputs": [
    {
     "data": {
      "text/plain": "              LA   NY\ndatetime             \n2013-01-01   4.6 -3.4\n2013-01-02   5.6  1.2\n2013-01-03   2.4 -5.1\n2013-01-04   5.1 -4.6\n2013-01-05   1.7 -1.2\n...          ...  ...\n2016-12-27   7.4  4.1\n2016-12-28   9.2  1.6\n2016-12-29  10.2 -2.4\n2016-12-30  12.4  0.5\n2016-12-31  11.9 -1.8\n\n[1461 rows x 2 columns]",
      "text/html": "<div>\n<style scoped>\n    .dataframe tbody tr th:only-of-type {\n        vertical-align: middle;\n    }\n\n    .dataframe tbody tr th {\n        vertical-align: top;\n    }\n\n    .dataframe thead th {\n        text-align: right;\n    }\n</style>\n<table border=\"1\" class=\"dataframe\">\n  <thead>\n    <tr style=\"text-align: right;\">\n      <th></th>\n      <th>LA</th>\n      <th>NY</th>\n    </tr>\n    <tr>\n      <th>datetime</th>\n      <th></th>\n      <th></th>\n    </tr>\n  </thead>\n  <tbody>\n    <tr>\n      <th>2013-01-01</th>\n      <td>4.6</td>\n      <td>-3.4</td>\n    </tr>\n    <tr>\n      <th>2013-01-02</th>\n      <td>5.6</td>\n      <td>1.2</td>\n    </tr>\n    <tr>\n      <th>2013-01-03</th>\n      <td>2.4</td>\n      <td>-5.1</td>\n    </tr>\n    <tr>\n      <th>2013-01-04</th>\n      <td>5.1</td>\n      <td>-4.6</td>\n    </tr>\n    <tr>\n      <th>2013-01-05</th>\n      <td>1.7</td>\n      <td>-1.2</td>\n    </tr>\n    <tr>\n      <th>...</th>\n      <td>...</td>\n      <td>...</td>\n    </tr>\n    <tr>\n      <th>2016-12-27</th>\n      <td>7.4</td>\n      <td>4.1</td>\n    </tr>\n    <tr>\n      <th>2016-12-28</th>\n      <td>9.2</td>\n      <td>1.6</td>\n    </tr>\n    <tr>\n      <th>2016-12-29</th>\n      <td>10.2</td>\n      <td>-2.4</td>\n    </tr>\n    <tr>\n      <th>2016-12-30</th>\n      <td>12.4</td>\n      <td>0.5</td>\n    </tr>\n    <tr>\n      <th>2016-12-31</th>\n      <td>11.9</td>\n      <td>-1.8</td>\n    </tr>\n  </tbody>\n</table>\n<p>1461 rows × 2 columns</p>\n</div>"
     },
     "execution_count": 10,
     "metadata": {},
     "output_type": "execute_result"
    }
   ],
   "source": [
    "temp.resample('D').min()   # min value of the day"
   ],
   "metadata": {
    "collapsed": false,
    "ExecuteTime": {
     "end_time": "2024-04-26T08:35:02.603363200Z",
     "start_time": "2024-04-26T08:35:02.307986400Z"
    }
   },
   "id": "a9e850c44d1993c2",
   "execution_count": 10
  },
  {
   "cell_type": "code",
   "outputs": [
    {
     "name": "stderr",
     "output_type": "stream",
     "text": [
      "C:\\Users\\Darius\\AppData\\Local\\Temp\\ipykernel_11596\\2922530615.py:1: FutureWarning: The 'kind' keyword in DataFrame.resample is deprecated and will be removed in a future version. Explicitly cast the index to the desired type instead\n",
      "  temp.resample('W', kind='period').mean()   # mean value of the week\n"
     ]
    },
    {
     "data": {
      "text/plain": "                              LA        NY\ndatetime                                  \n2012-12-31/2013-01-06  10.214583  0.222917\n2013-01-07/2013-01-13  10.494048  4.245238\n2013-01-14/2013-01-20  11.119643  3.924405\n2013-01-21/2013-01-27  15.586905 -4.660714\n2013-01-28/2013-02-03  11.569643  1.502381\n...                          ...       ...\n2016-11-28/2016-12-04  12.975595  8.024405\n2016-12-05/2016-12-11  13.738095  1.922619\n2016-12-12/2016-12-18  13.466667  0.052381\n2016-12-19/2016-12-25  13.007143  1.149405\n2016-12-26/2017-01-01  13.511806  3.479861\n\n[209 rows x 2 columns]",
      "text/html": "<div>\n<style scoped>\n    .dataframe tbody tr th:only-of-type {\n        vertical-align: middle;\n    }\n\n    .dataframe tbody tr th {\n        vertical-align: top;\n    }\n\n    .dataframe thead th {\n        text-align: right;\n    }\n</style>\n<table border=\"1\" class=\"dataframe\">\n  <thead>\n    <tr style=\"text-align: right;\">\n      <th></th>\n      <th>LA</th>\n      <th>NY</th>\n    </tr>\n    <tr>\n      <th>datetime</th>\n      <th></th>\n      <th></th>\n    </tr>\n  </thead>\n  <tbody>\n    <tr>\n      <th>2012-12-31/2013-01-06</th>\n      <td>10.214583</td>\n      <td>0.222917</td>\n    </tr>\n    <tr>\n      <th>2013-01-07/2013-01-13</th>\n      <td>10.494048</td>\n      <td>4.245238</td>\n    </tr>\n    <tr>\n      <th>2013-01-14/2013-01-20</th>\n      <td>11.119643</td>\n      <td>3.924405</td>\n    </tr>\n    <tr>\n      <th>2013-01-21/2013-01-27</th>\n      <td>15.586905</td>\n      <td>-4.660714</td>\n    </tr>\n    <tr>\n      <th>2013-01-28/2013-02-03</th>\n      <td>11.569643</td>\n      <td>1.502381</td>\n    </tr>\n    <tr>\n      <th>...</th>\n      <td>...</td>\n      <td>...</td>\n    </tr>\n    <tr>\n      <th>2016-11-28/2016-12-04</th>\n      <td>12.975595</td>\n      <td>8.024405</td>\n    </tr>\n    <tr>\n      <th>2016-12-05/2016-12-11</th>\n      <td>13.738095</td>\n      <td>1.922619</td>\n    </tr>\n    <tr>\n      <th>2016-12-12/2016-12-18</th>\n      <td>13.466667</td>\n      <td>0.052381</td>\n    </tr>\n    <tr>\n      <th>2016-12-19/2016-12-25</th>\n      <td>13.007143</td>\n      <td>1.149405</td>\n    </tr>\n    <tr>\n      <th>2016-12-26/2017-01-01</th>\n      <td>13.511806</td>\n      <td>3.479861</td>\n    </tr>\n  </tbody>\n</table>\n<p>209 rows × 2 columns</p>\n</div>"
     },
     "execution_count": 11,
     "metadata": {},
     "output_type": "execute_result"
    }
   ],
   "source": [
    "temp.resample('W', kind='period').mean()   # mean value of the week"
   ],
   "metadata": {
    "collapsed": false,
    "ExecuteTime": {
     "end_time": "2024-04-26T08:35:37.369222500Z",
     "start_time": "2024-04-26T08:35:37.288553200Z"
    }
   },
   "id": "2a2a8c5196c12250",
   "execution_count": 11
  },
  {
   "cell_type": "code",
   "outputs": [],
   "source": [],
   "metadata": {
    "collapsed": false
   },
   "id": "78179ade5549f884"
  }
 ],
 "metadata": {
  "kernelspec": {
   "display_name": "Python 3",
   "language": "python",
   "name": "python3"
  },
  "language_info": {
   "codemirror_mode": {
    "name": "ipython",
    "version": 2
   },
   "file_extension": ".py",
   "mimetype": "text/x-python",
   "name": "python",
   "nbconvert_exporter": "python",
   "pygments_lexer": "ipython2",
   "version": "2.7.6"
  }
 },
 "nbformat": 4,
 "nbformat_minor": 5
}
