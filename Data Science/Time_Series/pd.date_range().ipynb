{
 "cells": [
  {
   "cell_type": "code",
   "execution_count": 1,
   "id": "initial_id",
   "metadata": {
    "collapsed": true,
    "ExecuteTime": {
     "end_time": "2024-04-25T17:33:46.644676100Z",
     "start_time": "2024-04-25T17:33:45.819827800Z"
    }
   },
   "outputs": [],
   "source": [
    "import pandas as pd"
   ]
  },
  {
   "cell_type": "code",
   "outputs": [
    {
     "data": {
      "text/plain": "DatetimeIndex(['2015-01-05', '2018-05-09'], dtype='datetime64[ns]', freq=None)"
     },
     "execution_count": 2,
     "metadata": {},
     "output_type": "execute_result"
    }
   ],
   "source": [
    "pd.to_datetime(['2015-01-05', '2018-05-09'])"
   ],
   "metadata": {
    "collapsed": false,
    "ExecuteTime": {
     "end_time": "2024-04-25T17:35:34.546257800Z",
     "start_time": "2024-04-25T17:35:34.526716Z"
    }
   },
   "id": "80193eeb298fd852",
   "execution_count": 2
  },
  {
   "cell_type": "code",
   "outputs": [
    {
     "data": {
      "text/plain": "DatetimeIndex(['2023-07-01', '2023-07-02', '2023-07-03', '2023-07-04',\n               '2023-07-05', '2023-07-06', '2023-07-07', '2023-07-08',\n               '2023-07-09', '2023-07-10', '2023-07-11', '2023-07-12',\n               '2023-07-13', '2023-07-14', '2023-07-15', '2023-07-16',\n               '2023-07-17', '2023-07-18', '2023-07-19', '2023-07-20',\n               '2023-07-21', '2023-07-22', '2023-07-23', '2023-07-24',\n               '2023-07-25', '2023-07-26', '2023-07-27', '2023-07-28',\n               '2023-07-29', '2023-07-30', '2023-07-31'],\n              dtype='datetime64[ns]', freq='D')"
     },
     "execution_count": 6,
     "metadata": {},
     "output_type": "execute_result"
    }
   ],
   "source": [
    "pd.date_range(start='2023-07-01', end='2023-07-31', freq='D')"
   ],
   "metadata": {
    "collapsed": false,
    "ExecuteTime": {
     "end_time": "2024-04-25T17:42:36.851518900Z",
     "start_time": "2024-04-25T17:42:36.794759600Z"
    }
   },
   "id": "3ef18fd6f4079ad1",
   "execution_count": 6
  },
  {
   "cell_type": "markdown",
   "source": [
    "Same as above"
   ],
   "metadata": {
    "collapsed": false
   },
   "id": "52058cdc16851354"
  },
  {
   "cell_type": "code",
   "outputs": [
    {
     "data": {
      "text/plain": "DatetimeIndex(['2023-07-01', '2023-07-02', '2023-07-03', '2023-07-04',\n               '2023-07-05', '2023-07-06', '2023-07-07', '2023-07-08',\n               '2023-07-09', '2023-07-10', '2023-07-11', '2023-07-12',\n               '2023-07-13', '2023-07-14', '2023-07-15', '2023-07-16',\n               '2023-07-17', '2023-07-18', '2023-07-19', '2023-07-20',\n               '2023-07-21', '2023-07-22', '2023-07-23', '2023-07-24',\n               '2023-07-25', '2023-07-26', '2023-07-27', '2023-07-28',\n               '2023-07-29', '2023-07-30', '2023-07-31'],\n              dtype='datetime64[ns]', freq='D')"
     },
     "execution_count": 7,
     "metadata": {},
     "output_type": "execute_result"
    }
   ],
   "source": [
    "pd.date_range(start='2023-07-01', periods=31, freq='D')"
   ],
   "metadata": {
    "collapsed": false,
    "ExecuteTime": {
     "end_time": "2024-04-25T17:44:21.520068900Z",
     "start_time": "2024-04-25T17:44:21.488553600Z"
    }
   },
   "id": "60792513ba279249",
   "execution_count": 7
  },
  {
   "cell_type": "code",
   "outputs": [
    {
     "data": {
      "text/plain": "DatetimeIndex(['2023-07-01', '2023-07-04', '2023-07-07', '2023-07-10',\n               '2023-07-13', '2023-07-16', '2023-07-19', '2023-07-22',\n               '2023-07-25', '2023-07-28', '2023-07-31', '2023-08-03',\n               '2023-08-06', '2023-08-09', '2023-08-12', '2023-08-15',\n               '2023-08-18', '2023-08-21', '2023-08-24', '2023-08-27',\n               '2023-08-30', '2023-09-02', '2023-09-05', '2023-09-08',\n               '2023-09-11', '2023-09-14', '2023-09-17', '2023-09-20',\n               '2023-09-23', '2023-09-26', '2023-09-29'],\n              dtype='datetime64[ns]', freq='3D')"
     },
     "execution_count": 20,
     "metadata": {},
     "output_type": "execute_result"
    }
   ],
   "source": [
    "pd.date_range(start='2023-07-01', periods=31, freq='3D')  # 3D is for every 3 days"
   ],
   "metadata": {
    "collapsed": false,
    "ExecuteTime": {
     "end_time": "2024-04-25T18:07:08.142507300Z",
     "start_time": "2024-04-25T18:07:08.116260200Z"
    }
   },
   "id": "da5fb12d2338f916",
   "execution_count": 20
  },
  {
   "cell_type": "code",
   "outputs": [
    {
     "data": {
      "text/plain": "DatetimeIndex(['2023-07-01 00:00:00', '2023-07-04 08:00:00',\n               '2023-07-07 16:00:00', '2023-07-11 00:00:00',\n               '2023-07-14 08:00:00', '2023-07-17 16:00:00',\n               '2023-07-21 00:00:00', '2023-07-24 08:00:00',\n               '2023-07-27 16:00:00', '2023-07-31 00:00:00',\n               '2023-08-03 08:00:00', '2023-08-06 16:00:00',\n               '2023-08-10 00:00:00', '2023-08-13 08:00:00',\n               '2023-08-16 16:00:00', '2023-08-20 00:00:00',\n               '2023-08-23 08:00:00', '2023-08-26 16:00:00',\n               '2023-08-30 00:00:00', '2023-09-02 08:00:00',\n               '2023-09-05 16:00:00', '2023-09-09 00:00:00',\n               '2023-09-12 08:00:00', '2023-09-15 16:00:00',\n               '2023-09-19 00:00:00', '2023-09-22 08:00:00',\n               '2023-09-25 16:00:00', '2023-09-29 00:00:00',\n               '2023-10-02 08:00:00', '2023-10-05 16:00:00',\n               '2023-10-09 00:00:00'],\n              dtype='datetime64[ns]', freq='80h')"
     },
     "execution_count": 21,
     "metadata": {},
     "output_type": "execute_result"
    }
   ],
   "source": [
    "pd.date_range(start='2023-07-01', periods=31, freq='3D8h')  # 3D8h is for every 3 days and 8 hours"
   ],
   "metadata": {
    "collapsed": false,
    "ExecuteTime": {
     "end_time": "2024-04-25T18:07:50.278754700Z",
     "start_time": "2024-04-25T18:07:50.241127200Z"
    }
   },
   "id": "4d9db4825c43f37",
   "execution_count": 21
  },
  {
   "cell_type": "code",
   "outputs": [
    {
     "data": {
      "text/plain": "DatetimeIndex(['2023-07-03', '2023-07-04', '2023-07-05', '2023-07-06',\n               '2023-07-07', '2023-07-10', '2023-07-11', '2023-07-12',\n               '2023-07-13', '2023-07-14', '2023-07-17', '2023-07-18',\n               '2023-07-19', '2023-07-20', '2023-07-21', '2023-07-24',\n               '2023-07-25', '2023-07-26', '2023-07-27', '2023-07-28',\n               '2023-07-31', '2023-08-01', '2023-08-02', '2023-08-03',\n               '2023-08-04', '2023-08-07', '2023-08-08', '2023-08-09',\n               '2023-08-10', '2023-08-11', '2023-08-14'],\n              dtype='datetime64[ns]', freq='B')"
     },
     "execution_count": 8,
     "metadata": {},
     "output_type": "execute_result"
    }
   ],
   "source": [
    "pd.date_range(start='2023-07-01', periods=31, freq='B')  # B is for business days"
   ],
   "metadata": {
    "collapsed": false,
    "ExecuteTime": {
     "end_time": "2024-04-25T17:56:29.036739500Z",
     "start_time": "2024-04-25T17:56:28.976728300Z"
    }
   },
   "id": "ed463fcfafc8314f",
   "execution_count": 8
  },
  {
   "cell_type": "code",
   "outputs": [
    {
     "data": {
      "text/plain": "DatetimeIndex(['2023-07-02', '2023-07-09', '2023-07-16', '2023-07-23',\n               '2023-07-30', '2023-08-06', '2023-08-13', '2023-08-20',\n               '2023-08-27', '2023-09-03', '2023-09-10', '2023-09-17',\n               '2023-09-24', '2023-10-01', '2023-10-08', '2023-10-15',\n               '2023-10-22', '2023-10-29', '2023-11-05', '2023-11-12',\n               '2023-11-19', '2023-11-26', '2023-12-03', '2023-12-10',\n               '2023-12-17', '2023-12-24', '2023-12-31', '2024-01-07',\n               '2024-01-14', '2024-01-21', '2024-01-28'],\n              dtype='datetime64[ns]', freq='W-SUN')"
     },
     "execution_count": 9,
     "metadata": {},
     "output_type": "execute_result"
    }
   ],
   "source": [
    "pd.date_range(start='2023-07-01', periods=31, freq='W')  # W is for weeks"
   ],
   "metadata": {
    "collapsed": false,
    "ExecuteTime": {
     "end_time": "2024-04-25T17:57:24.664210900Z",
     "start_time": "2024-04-25T17:57:24.652687200Z"
    }
   },
   "id": "a54ffd39dd2dbd5",
   "execution_count": 9
  },
  {
   "cell_type": "code",
   "outputs": [
    {
     "data": {
      "text/plain": "DatetimeIndex(['2023-07-01 00:00:00', '2023-07-01 01:00:00',\n               '2023-07-01 02:00:00', '2023-07-01 03:00:00',\n               '2023-07-01 04:00:00', '2023-07-01 05:00:00',\n               '2023-07-01 06:00:00', '2023-07-01 07:00:00',\n               '2023-07-01 08:00:00', '2023-07-01 09:00:00'],\n              dtype='datetime64[ns]', freq='h')"
     },
     "execution_count": 12,
     "metadata": {},
     "output_type": "execute_result"
    }
   ],
   "source": [
    "pd.date_range(start='2023-07-01', periods=10, freq='h')  # h is for hours"
   ],
   "metadata": {
    "collapsed": false,
    "ExecuteTime": {
     "end_time": "2024-04-25T17:58:31.217836200Z",
     "start_time": "2024-04-25T17:58:31.203829Z"
    }
   },
   "id": "4bf985ee26a19473",
   "execution_count": 12
  },
  {
   "cell_type": "code",
   "outputs": [
    {
     "data": {
      "text/plain": "DatetimeIndex(['2023-07-01 00:00:00', '2023-07-01 02:00:00',\n               '2023-07-01 04:00:00', '2023-07-01 06:00:00',\n               '2023-07-01 08:00:00', '2023-07-01 10:00:00',\n               '2023-07-01 12:00:00', '2023-07-01 14:00:00',\n               '2023-07-01 16:00:00', '2023-07-01 18:00:00'],\n              dtype='datetime64[ns]', freq='2h')"
     },
     "execution_count": 19,
     "metadata": {},
     "output_type": "execute_result"
    }
   ],
   "source": [
    "pd.date_range(start='2023-07-01', periods=10, freq='2h')  # 2h is for every 2 hours"
   ],
   "metadata": {
    "collapsed": false,
    "ExecuteTime": {
     "end_time": "2024-04-25T18:06:36.819952600Z",
     "start_time": "2024-04-25T18:06:36.799271500Z"
    }
   },
   "id": "75d93949c88f645a",
   "execution_count": 19
  },
  {
   "cell_type": "code",
   "outputs": [
    {
     "data": {
      "text/plain": "DatetimeIndex(['2023-07-02', '2023-07-09', '2023-07-16', '2023-07-23',\n               '2023-07-30', '2023-08-06', '2023-08-13', '2023-08-20',\n               '2023-08-27', '2023-09-03'],\n              dtype='datetime64[ns]', freq='W-SUN')"
     },
     "execution_count": 13,
     "metadata": {},
     "output_type": "execute_result"
    }
   ],
   "source": [
    "pd.date_range(start='2023-07-01', periods=10, freq='W')  # W is for weeks"
   ],
   "metadata": {
    "collapsed": false,
    "ExecuteTime": {
     "end_time": "2024-04-25T17:59:32.801711800Z",
     "start_time": "2024-04-25T17:59:32.732554500Z"
    }
   },
   "id": "78a4269f0e5cbcab",
   "execution_count": 13
  },
  {
   "cell_type": "code",
   "outputs": [
    {
     "data": {
      "text/plain": "DatetimeIndex(['2023-07-02', '2023-07-09', '2023-07-16', '2023-07-23',\n               '2023-07-30', '2023-08-06', '2023-08-13', '2023-08-20',\n               '2023-08-27', '2023-09-03'],\n              dtype='datetime64[ns]', freq='W-SUN')"
     },
     "execution_count": 14,
     "metadata": {},
     "output_type": "execute_result"
    }
   ],
   "source": [
    "pd.date_range(start='2023-07-01', periods=10, freq='W-SUN')  # W-SUN is for weeks starting on Sunday"
   ],
   "metadata": {
    "collapsed": false,
    "ExecuteTime": {
     "end_time": "2024-04-25T18:00:22.331407100Z",
     "start_time": "2024-04-25T18:00:22.308383600Z"
    }
   },
   "id": "2ee483f75d850880",
   "execution_count": 14
  },
  {
   "cell_type": "code",
   "outputs": [
    {
     "data": {
      "text/plain": "DatetimeIndex(['2023-07-01', '2023-08-01', '2023-09-01', '2023-10-01',\n               '2023-11-01', '2023-12-01', '2024-01-01', '2024-02-01',\n               '2024-03-01', '2024-04-01'],\n              dtype='datetime64[ns]', freq='MS')"
     },
     "execution_count": 15,
     "metadata": {},
     "output_type": "execute_result"
    }
   ],
   "source": [
    "pd.date_range(start='2023-07-01', periods=10, freq='MS')  # MS is for month start"
   ],
   "metadata": {
    "collapsed": false,
    "ExecuteTime": {
     "end_time": "2024-04-25T18:02:44.705290Z",
     "start_time": "2024-04-25T18:02:44.675281900Z"
    }
   },
   "id": "90fab0f5521e56a5",
   "execution_count": 15
  },
  {
   "cell_type": "code",
   "outputs": [
    {
     "data": {
      "text/plain": "DatetimeIndex(['2023-07-01', '2023-10-01', '2024-01-01', '2024-04-01',\n               '2024-07-01', '2024-10-01', '2025-01-01', '2025-04-01',\n               '2025-07-01', '2025-10-01'],\n              dtype='datetime64[ns]', freq='QS-JAN')"
     },
     "execution_count": 16,
     "metadata": {},
     "output_type": "execute_result"
    }
   ],
   "source": [
    "pd.date_range(start='2023-07-01', periods=10, freq='QS')  # QS is for quarter start"
   ],
   "metadata": {
    "collapsed": false,
    "ExecuteTime": {
     "end_time": "2024-04-25T18:03:51.606315900Z",
     "start_time": "2024-04-25T18:03:51.571750700Z"
    }
   },
   "id": "b487a1793ad0cd2e",
   "execution_count": 16
  },
  {
   "cell_type": "code",
   "outputs": [
    {
     "data": {
      "text/plain": "DatetimeIndex(['2024-01-01', '2025-01-01', '2026-01-01', '2027-01-01',\n               '2028-01-01', '2029-01-01', '2030-01-01', '2031-01-01',\n               '2032-01-01', '2033-01-01'],\n              dtype='datetime64[ns]', freq='YS-JAN')"
     },
     "execution_count": 18,
     "metadata": {},
     "output_type": "execute_result"
    }
   ],
   "source": [
    "pd.date_range(start='2023-07-01', periods=10, freq='YS')  # YS is for year start"
   ],
   "metadata": {
    "collapsed": false,
    "ExecuteTime": {
     "end_time": "2024-04-25T18:04:07.380585Z",
     "start_time": "2024-04-25T18:04:07.364906300Z"
    }
   },
   "id": "db71a07718f17a12",
   "execution_count": 18
  },
  {
   "cell_type": "code",
   "outputs": [],
   "source": [],
   "metadata": {
    "collapsed": false
   },
   "id": "c26489d7d5bf6b8f"
  }
 ],
 "metadata": {
  "kernelspec": {
   "display_name": "Python 3",
   "language": "python",
   "name": "python3"
  },
  "language_info": {
   "codemirror_mode": {
    "name": "ipython",
    "version": 2
   },
   "file_extension": ".py",
   "mimetype": "text/x-python",
   "name": "python",
   "nbconvert_exporter": "python",
   "pygments_lexer": "ipython2",
   "version": "2.7.6"
  }
 },
 "nbformat": 4,
 "nbformat_minor": 5
}
