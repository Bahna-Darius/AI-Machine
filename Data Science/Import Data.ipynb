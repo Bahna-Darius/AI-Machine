{
 "cells": [
  {
   "cell_type": "code",
   "execution_count": 4,
   "id": "initial_id",
   "metadata": {
    "collapsed": true,
    "ExecuteTime": {
     "end_time": "2024-03-10T20:46:28.149858100Z",
     "start_time": "2024-03-10T20:46:25.465072300Z"
    }
   },
   "outputs": [],
   "source": [
    "import pandas as pd"
   ]
  },
  {
   "cell_type": "markdown",
   "source": [
    "## Parameter header is for the row number to use as the column names\n",
    "We need wen not set columns names in the file and index set"
   ],
   "metadata": {
    "collapsed": false
   },
   "id": "4edc75b983834bf1"
  },
  {
   "cell_type": "code",
   "outputs": [
    {
     "data": {
      "text/plain": "     0  3    male  22.0  1  0.1     7.25  S Unnamed: 8\n0    1  1  female  38.0  1    0  71.2833  C          C\n1    1  3  female  26.0  0    0   7.9250  S        NaN\n2    1  1  female  35.0  1    0  53.1000  S          C\n3    0  3    male  35.0  0    0   8.0500  S        NaN\n4    0  3    male   NaN  0    0   8.4583  Q        NaN\n..  .. ..     ...   ... ..  ...      ... ..        ...\n885  0  2    male  27.0  0    0  13.0000  S        NaN\n886  1  1  female  19.0  0    0  30.0000  S          B\n887  0  3  female   NaN  1    2  23.4500  S        NaN\n888  1  1    male  26.0  0    0  30.0000  C          C\n889  0  3    male  32.0  0    0   7.7500  Q        NaN\n\n[890 rows x 9 columns]",
      "text/html": "<div>\n<style scoped>\n    .dataframe tbody tr th:only-of-type {\n        vertical-align: middle;\n    }\n\n    .dataframe tbody tr th {\n        vertical-align: top;\n    }\n\n    .dataframe thead th {\n        text-align: right;\n    }\n</style>\n<table border=\"1\" class=\"dataframe\">\n  <thead>\n    <tr style=\"text-align: right;\">\n      <th></th>\n      <th>0</th>\n      <th>3</th>\n      <th>male</th>\n      <th>22.0</th>\n      <th>1</th>\n      <th>0.1</th>\n      <th>7.25</th>\n      <th>S</th>\n      <th>Unnamed: 8</th>\n    </tr>\n  </thead>\n  <tbody>\n    <tr>\n      <th>0</th>\n      <td>1</td>\n      <td>1</td>\n      <td>female</td>\n      <td>38.0</td>\n      <td>1</td>\n      <td>0</td>\n      <td>71.2833</td>\n      <td>C</td>\n      <td>C</td>\n    </tr>\n    <tr>\n      <th>1</th>\n      <td>1</td>\n      <td>3</td>\n      <td>female</td>\n      <td>26.0</td>\n      <td>0</td>\n      <td>0</td>\n      <td>7.9250</td>\n      <td>S</td>\n      <td>NaN</td>\n    </tr>\n    <tr>\n      <th>2</th>\n      <td>1</td>\n      <td>1</td>\n      <td>female</td>\n      <td>35.0</td>\n      <td>1</td>\n      <td>0</td>\n      <td>53.1000</td>\n      <td>S</td>\n      <td>C</td>\n    </tr>\n    <tr>\n      <th>3</th>\n      <td>0</td>\n      <td>3</td>\n      <td>male</td>\n      <td>35.0</td>\n      <td>0</td>\n      <td>0</td>\n      <td>8.0500</td>\n      <td>S</td>\n      <td>NaN</td>\n    </tr>\n    <tr>\n      <th>4</th>\n      <td>0</td>\n      <td>3</td>\n      <td>male</td>\n      <td>NaN</td>\n      <td>0</td>\n      <td>0</td>\n      <td>8.4583</td>\n      <td>Q</td>\n      <td>NaN</td>\n    </tr>\n    <tr>\n      <th>...</th>\n      <td>...</td>\n      <td>...</td>\n      <td>...</td>\n      <td>...</td>\n      <td>...</td>\n      <td>...</td>\n      <td>...</td>\n      <td>...</td>\n      <td>...</td>\n    </tr>\n    <tr>\n      <th>885</th>\n      <td>0</td>\n      <td>2</td>\n      <td>male</td>\n      <td>27.0</td>\n      <td>0</td>\n      <td>0</td>\n      <td>13.0000</td>\n      <td>S</td>\n      <td>NaN</td>\n    </tr>\n    <tr>\n      <th>886</th>\n      <td>1</td>\n      <td>1</td>\n      <td>female</td>\n      <td>19.0</td>\n      <td>0</td>\n      <td>0</td>\n      <td>30.0000</td>\n      <td>S</td>\n      <td>B</td>\n    </tr>\n    <tr>\n      <th>887</th>\n      <td>0</td>\n      <td>3</td>\n      <td>female</td>\n      <td>NaN</td>\n      <td>1</td>\n      <td>2</td>\n      <td>23.4500</td>\n      <td>S</td>\n      <td>NaN</td>\n    </tr>\n    <tr>\n      <th>888</th>\n      <td>1</td>\n      <td>1</td>\n      <td>male</td>\n      <td>26.0</td>\n      <td>0</td>\n      <td>0</td>\n      <td>30.0000</td>\n      <td>C</td>\n      <td>C</td>\n    </tr>\n    <tr>\n      <th>889</th>\n      <td>0</td>\n      <td>3</td>\n      <td>male</td>\n      <td>32.0</td>\n      <td>0</td>\n      <td>0</td>\n      <td>7.7500</td>\n      <td>Q</td>\n      <td>NaN</td>\n    </tr>\n  </tbody>\n</table>\n<p>890 rows × 9 columns</p>\n</div>"
     },
     "execution_count": 9,
     "metadata": {},
     "output_type": "execute_result"
    }
   ],
   "source": [
    "pd.read_csv('titanic.csv', header=1)"
   ],
   "metadata": {
    "collapsed": false,
    "ExecuteTime": {
     "end_time": "2024-03-07T19:46:35.048331400Z",
     "start_time": "2024-03-07T19:46:35.018776800Z"
    }
   },
   "id": "f96cb2c6abac1c61",
   "execution_count": 9
  },
  {
   "cell_type": "code",
   "outputs": [
    {
     "data": {
      "text/plain": "            0       1       2     3      4      5        6         7     8\n0    survived  pclass     sex   age  sibsp  parch     fare  embarked  deck\n1           0       3    male  22.0      1      0     7.25         S   NaN\n2           1       1  female  38.0      1      0  71.2833         C     C\n3           1       3  female  26.0      0      0    7.925         S   NaN\n4           1       1  female  35.0      1      0     53.1         S     C\n..        ...     ...     ...   ...    ...    ...      ...       ...   ...\n887         0       2    male  27.0      0      0     13.0         S   NaN\n888         1       1  female  19.0      0      0     30.0         S     B\n889         0       3  female   NaN      1      2    23.45         S   NaN\n890         1       1    male  26.0      0      0     30.0         C     C\n891         0       3    male  32.0      0      0     7.75         Q   NaN\n\n[892 rows x 9 columns]",
      "text/html": "<div>\n<style scoped>\n    .dataframe tbody tr th:only-of-type {\n        vertical-align: middle;\n    }\n\n    .dataframe tbody tr th {\n        vertical-align: top;\n    }\n\n    .dataframe thead th {\n        text-align: right;\n    }\n</style>\n<table border=\"1\" class=\"dataframe\">\n  <thead>\n    <tr style=\"text-align: right;\">\n      <th></th>\n      <th>0</th>\n      <th>1</th>\n      <th>2</th>\n      <th>3</th>\n      <th>4</th>\n      <th>5</th>\n      <th>6</th>\n      <th>7</th>\n      <th>8</th>\n    </tr>\n  </thead>\n  <tbody>\n    <tr>\n      <th>0</th>\n      <td>survived</td>\n      <td>pclass</td>\n      <td>sex</td>\n      <td>age</td>\n      <td>sibsp</td>\n      <td>parch</td>\n      <td>fare</td>\n      <td>embarked</td>\n      <td>deck</td>\n    </tr>\n    <tr>\n      <th>1</th>\n      <td>0</td>\n      <td>3</td>\n      <td>male</td>\n      <td>22.0</td>\n      <td>1</td>\n      <td>0</td>\n      <td>7.25</td>\n      <td>S</td>\n      <td>NaN</td>\n    </tr>\n    <tr>\n      <th>2</th>\n      <td>1</td>\n      <td>1</td>\n      <td>female</td>\n      <td>38.0</td>\n      <td>1</td>\n      <td>0</td>\n      <td>71.2833</td>\n      <td>C</td>\n      <td>C</td>\n    </tr>\n    <tr>\n      <th>3</th>\n      <td>1</td>\n      <td>3</td>\n      <td>female</td>\n      <td>26.0</td>\n      <td>0</td>\n      <td>0</td>\n      <td>7.925</td>\n      <td>S</td>\n      <td>NaN</td>\n    </tr>\n    <tr>\n      <th>4</th>\n      <td>1</td>\n      <td>1</td>\n      <td>female</td>\n      <td>35.0</td>\n      <td>1</td>\n      <td>0</td>\n      <td>53.1</td>\n      <td>S</td>\n      <td>C</td>\n    </tr>\n    <tr>\n      <th>...</th>\n      <td>...</td>\n      <td>...</td>\n      <td>...</td>\n      <td>...</td>\n      <td>...</td>\n      <td>...</td>\n      <td>...</td>\n      <td>...</td>\n      <td>...</td>\n    </tr>\n    <tr>\n      <th>887</th>\n      <td>0</td>\n      <td>2</td>\n      <td>male</td>\n      <td>27.0</td>\n      <td>0</td>\n      <td>0</td>\n      <td>13.0</td>\n      <td>S</td>\n      <td>NaN</td>\n    </tr>\n    <tr>\n      <th>888</th>\n      <td>1</td>\n      <td>1</td>\n      <td>female</td>\n      <td>19.0</td>\n      <td>0</td>\n      <td>0</td>\n      <td>30.0</td>\n      <td>S</td>\n      <td>B</td>\n    </tr>\n    <tr>\n      <th>889</th>\n      <td>0</td>\n      <td>3</td>\n      <td>female</td>\n      <td>NaN</td>\n      <td>1</td>\n      <td>2</td>\n      <td>23.45</td>\n      <td>S</td>\n      <td>NaN</td>\n    </tr>\n    <tr>\n      <th>890</th>\n      <td>1</td>\n      <td>1</td>\n      <td>male</td>\n      <td>26.0</td>\n      <td>0</td>\n      <td>0</td>\n      <td>30.0</td>\n      <td>C</td>\n      <td>C</td>\n    </tr>\n    <tr>\n      <th>891</th>\n      <td>0</td>\n      <td>3</td>\n      <td>male</td>\n      <td>32.0</td>\n      <td>0</td>\n      <td>0</td>\n      <td>7.75</td>\n      <td>Q</td>\n      <td>NaN</td>\n    </tr>\n  </tbody>\n</table>\n<p>892 rows × 9 columns</p>\n</div>"
     },
     "execution_count": 10,
     "metadata": {},
     "output_type": "execute_result"
    }
   ],
   "source": [
    "pd.read_csv('titanic.csv', header=None)"
   ],
   "metadata": {
    "collapsed": false,
    "ExecuteTime": {
     "end_time": "2024-03-07T19:46:44.530216400Z",
     "start_time": "2024-03-07T19:46:44.487063Z"
    }
   },
   "id": "ec81ba53f667e0da",
   "execution_count": 10
  },
  {
   "cell_type": "markdown",
   "source": [
    "## Parameter names is for the column names to use"
   ],
   "metadata": {
    "collapsed": false
   },
   "id": "9d42814ed1d0544a"
  },
  {
   "cell_type": "code",
   "outputs": [
    {
     "data": {
      "text/plain": "        alive   class  gender   age sibsps  parch    price       emb  deck\n0    survived  pclass     sex   age  sibsp  parch     fare  embarked  deck\n1           0       3    male  22.0      1      0     7.25         S   NaN\n2           1       1  female  38.0      1      0  71.2833         C     C\n3           1       3  female  26.0      0      0    7.925         S   NaN\n4           1       1  female  35.0      1      0     53.1         S     C\n..        ...     ...     ...   ...    ...    ...      ...       ...   ...\n887         0       2    male  27.0      0      0     13.0         S   NaN\n888         1       1  female  19.0      0      0     30.0         S     B\n889         0       3  female   NaN      1      2    23.45         S   NaN\n890         1       1    male  26.0      0      0     30.0         C     C\n891         0       3    male  32.0      0      0     7.75         Q   NaN\n\n[892 rows x 9 columns]",
      "text/html": "<div>\n<style scoped>\n    .dataframe tbody tr th:only-of-type {\n        vertical-align: middle;\n    }\n\n    .dataframe tbody tr th {\n        vertical-align: top;\n    }\n\n    .dataframe thead th {\n        text-align: right;\n    }\n</style>\n<table border=\"1\" class=\"dataframe\">\n  <thead>\n    <tr style=\"text-align: right;\">\n      <th></th>\n      <th>alive</th>\n      <th>class</th>\n      <th>gender</th>\n      <th>age</th>\n      <th>sibsps</th>\n      <th>parch</th>\n      <th>price</th>\n      <th>emb</th>\n      <th>deck</th>\n    </tr>\n  </thead>\n  <tbody>\n    <tr>\n      <th>0</th>\n      <td>survived</td>\n      <td>pclass</td>\n      <td>sex</td>\n      <td>age</td>\n      <td>sibsp</td>\n      <td>parch</td>\n      <td>fare</td>\n      <td>embarked</td>\n      <td>deck</td>\n    </tr>\n    <tr>\n      <th>1</th>\n      <td>0</td>\n      <td>3</td>\n      <td>male</td>\n      <td>22.0</td>\n      <td>1</td>\n      <td>0</td>\n      <td>7.25</td>\n      <td>S</td>\n      <td>NaN</td>\n    </tr>\n    <tr>\n      <th>2</th>\n      <td>1</td>\n      <td>1</td>\n      <td>female</td>\n      <td>38.0</td>\n      <td>1</td>\n      <td>0</td>\n      <td>71.2833</td>\n      <td>C</td>\n      <td>C</td>\n    </tr>\n    <tr>\n      <th>3</th>\n      <td>1</td>\n      <td>3</td>\n      <td>female</td>\n      <td>26.0</td>\n      <td>0</td>\n      <td>0</td>\n      <td>7.925</td>\n      <td>S</td>\n      <td>NaN</td>\n    </tr>\n    <tr>\n      <th>4</th>\n      <td>1</td>\n      <td>1</td>\n      <td>female</td>\n      <td>35.0</td>\n      <td>1</td>\n      <td>0</td>\n      <td>53.1</td>\n      <td>S</td>\n      <td>C</td>\n    </tr>\n    <tr>\n      <th>...</th>\n      <td>...</td>\n      <td>...</td>\n      <td>...</td>\n      <td>...</td>\n      <td>...</td>\n      <td>...</td>\n      <td>...</td>\n      <td>...</td>\n      <td>...</td>\n    </tr>\n    <tr>\n      <th>887</th>\n      <td>0</td>\n      <td>2</td>\n      <td>male</td>\n      <td>27.0</td>\n      <td>0</td>\n      <td>0</td>\n      <td>13.0</td>\n      <td>S</td>\n      <td>NaN</td>\n    </tr>\n    <tr>\n      <th>888</th>\n      <td>1</td>\n      <td>1</td>\n      <td>female</td>\n      <td>19.0</td>\n      <td>0</td>\n      <td>0</td>\n      <td>30.0</td>\n      <td>S</td>\n      <td>B</td>\n    </tr>\n    <tr>\n      <th>889</th>\n      <td>0</td>\n      <td>3</td>\n      <td>female</td>\n      <td>NaN</td>\n      <td>1</td>\n      <td>2</td>\n      <td>23.45</td>\n      <td>S</td>\n      <td>NaN</td>\n    </tr>\n    <tr>\n      <th>890</th>\n      <td>1</td>\n      <td>1</td>\n      <td>male</td>\n      <td>26.0</td>\n      <td>0</td>\n      <td>0</td>\n      <td>30.0</td>\n      <td>C</td>\n      <td>C</td>\n    </tr>\n    <tr>\n      <th>891</th>\n      <td>0</td>\n      <td>3</td>\n      <td>male</td>\n      <td>32.0</td>\n      <td>0</td>\n      <td>0</td>\n      <td>7.75</td>\n      <td>Q</td>\n      <td>NaN</td>\n    </tr>\n  </tbody>\n</table>\n<p>892 rows × 9 columns</p>\n</div>"
     },
     "execution_count": 13,
     "metadata": {},
     "output_type": "execute_result"
    }
   ],
   "source": [
    "pd.read_csv(\"titanic.csv\",\n",
    "            names=[\"alive\", \"class\", \"gender\", \"age\", \"sibsps\", \"parch\", \"price\" , \"emb\", \"deck\"]\n",
    ")"
   ],
   "metadata": {
    "collapsed": false,
    "ExecuteTime": {
     "end_time": "2024-03-07T19:51:28.024515900Z",
     "start_time": "2024-03-07T19:51:27.993013300Z"
    }
   },
   "id": "32838142fe683747",
   "execution_count": 13
  },
  {
   "cell_type": "markdown",
   "source": [
    "## Parameter usecols is for  what the columns to use"
   ],
   "metadata": {
    "collapsed": false
   },
   "id": "7553efbdb9f48aa7"
  },
  {
   "cell_type": "code",
   "outputs": [
    {
     "data": {
      "text/plain": "          pclass     sex   age\nsurvived                      \n0              3    male  22.0\n1              1  female  38.0\n1              3  female  26.0\n1              1  female  35.0\n0              3    male  35.0",
      "text/html": "<div>\n<style scoped>\n    .dataframe tbody tr th:only-of-type {\n        vertical-align: middle;\n    }\n\n    .dataframe tbody tr th {\n        vertical-align: top;\n    }\n\n    .dataframe thead th {\n        text-align: right;\n    }\n</style>\n<table border=\"1\" class=\"dataframe\">\n  <thead>\n    <tr style=\"text-align: right;\">\n      <th></th>\n      <th>pclass</th>\n      <th>sex</th>\n      <th>age</th>\n    </tr>\n    <tr>\n      <th>survived</th>\n      <th></th>\n      <th></th>\n      <th></th>\n    </tr>\n  </thead>\n  <tbody>\n    <tr>\n      <th>0</th>\n      <td>3</td>\n      <td>male</td>\n      <td>22.0</td>\n    </tr>\n    <tr>\n      <th>1</th>\n      <td>1</td>\n      <td>female</td>\n      <td>38.0</td>\n    </tr>\n    <tr>\n      <th>1</th>\n      <td>3</td>\n      <td>female</td>\n      <td>26.0</td>\n    </tr>\n    <tr>\n      <th>1</th>\n      <td>1</td>\n      <td>female</td>\n      <td>35.0</td>\n    </tr>\n    <tr>\n      <th>0</th>\n      <td>3</td>\n      <td>male</td>\n      <td>35.0</td>\n    </tr>\n  </tbody>\n</table>\n</div>"
     },
     "execution_count": 18,
     "metadata": {},
     "output_type": "execute_result"
    }
   ],
   "source": [
    "v1 = pd.read_csv(\"titanic.csv\",\n",
    "            usecols=[\"survived\", \"pclass\", \"sex\", \"age\"],\n",
    "            index_col=\"survived\"\n",
    ")\n",
    "v1.head()"
   ],
   "metadata": {
    "collapsed": false,
    "ExecuteTime": {
     "end_time": "2024-03-07T19:58:00.687899Z",
     "start_time": "2024-03-07T19:58:00.659136700Z"
    }
   },
   "id": "de14aed2765433b",
   "execution_count": 18
  },
  {
   "cell_type": "markdown",
   "source": [
    "## Rename the columns !"
   ],
   "metadata": {
    "collapsed": false
   },
   "id": "4235b9748fbb5da1"
  },
  {
   "cell_type": "code",
   "outputs": [
    {
     "data": {
      "text/plain": "       C  gender  Years\nAlive                  \n0      3    male   22.0\n1      1  female   38.0\n1      3  female   26.0\n1      1  female   35.0\n0      3    male   35.0",
      "text/html": "<div>\n<style scoped>\n    .dataframe tbody tr th:only-of-type {\n        vertical-align: middle;\n    }\n\n    .dataframe tbody tr th {\n        vertical-align: top;\n    }\n\n    .dataframe thead th {\n        text-align: right;\n    }\n</style>\n<table border=\"1\" class=\"dataframe\">\n  <thead>\n    <tr style=\"text-align: right;\">\n      <th></th>\n      <th>C</th>\n      <th>gender</th>\n      <th>Years</th>\n    </tr>\n    <tr>\n      <th>Alive</th>\n      <th></th>\n      <th></th>\n      <th></th>\n    </tr>\n  </thead>\n  <tbody>\n    <tr>\n      <th>0</th>\n      <td>3</td>\n      <td>male</td>\n      <td>22.0</td>\n    </tr>\n    <tr>\n      <th>1</th>\n      <td>1</td>\n      <td>female</td>\n      <td>38.0</td>\n    </tr>\n    <tr>\n      <th>1</th>\n      <td>3</td>\n      <td>female</td>\n      <td>26.0</td>\n    </tr>\n    <tr>\n      <th>1</th>\n      <td>1</td>\n      <td>female</td>\n      <td>35.0</td>\n    </tr>\n    <tr>\n      <th>0</th>\n      <td>3</td>\n      <td>male</td>\n      <td>35.0</td>\n    </tr>\n  </tbody>\n</table>\n</div>"
     },
     "execution_count": 25,
     "metadata": {},
     "output_type": "execute_result"
    }
   ],
   "source": [
    "v1.columns = [\"C\", \"gender\", \"Years\"]\n",
    "v1.head()"
   ],
   "metadata": {
    "collapsed": false,
    "ExecuteTime": {
     "end_time": "2024-03-07T20:05:58.141526400Z",
     "start_time": "2024-03-07T20:05:58.111461500Z"
    }
   },
   "id": "44543bcd26b00986",
   "execution_count": 25
  },
  {
   "cell_type": "markdown",
   "source": [
    "# Rename the index_set"
   ],
   "metadata": {
    "collapsed": false
   },
   "id": "6b35e3aa9a9f21a0"
  },
  {
   "cell_type": "code",
   "outputs": [
    {
     "data": {
      "text/plain": "       C  gender  Years\nAlive                  \n0      3    male   22.0\n1      1  female   38.0\n1      3  female   26.0\n1      1  female   35.0\n0      3    male   35.0",
      "text/html": "<div>\n<style scoped>\n    .dataframe tbody tr th:only-of-type {\n        vertical-align: middle;\n    }\n\n    .dataframe tbody tr th {\n        vertical-align: top;\n    }\n\n    .dataframe thead th {\n        text-align: right;\n    }\n</style>\n<table border=\"1\" class=\"dataframe\">\n  <thead>\n    <tr style=\"text-align: right;\">\n      <th></th>\n      <th>C</th>\n      <th>gender</th>\n      <th>Years</th>\n    </tr>\n    <tr>\n      <th>Alive</th>\n      <th></th>\n      <th></th>\n      <th></th>\n    </tr>\n  </thead>\n  <tbody>\n    <tr>\n      <th>0</th>\n      <td>3</td>\n      <td>male</td>\n      <td>22.0</td>\n    </tr>\n    <tr>\n      <th>1</th>\n      <td>1</td>\n      <td>female</td>\n      <td>38.0</td>\n    </tr>\n    <tr>\n      <th>1</th>\n      <td>3</td>\n      <td>female</td>\n      <td>26.0</td>\n    </tr>\n    <tr>\n      <th>1</th>\n      <td>1</td>\n      <td>female</td>\n      <td>35.0</td>\n    </tr>\n    <tr>\n      <th>0</th>\n      <td>3</td>\n      <td>male</td>\n      <td>35.0</td>\n    </tr>\n  </tbody>\n</table>\n</div>"
     },
     "execution_count": 26,
     "metadata": {},
     "output_type": "execute_result"
    }
   ],
   "source": [
    "v1.index.name = \"Alive\"\n",
    "v1.head()"
   ],
   "metadata": {
    "collapsed": false,
    "ExecuteTime": {
     "end_time": "2024-03-07T20:05:59.343082100Z",
     "start_time": "2024-03-07T20:05:59.329102Z"
    }
   },
   "id": "8db128a277f8025c",
   "execution_count": 26
  },
  {
   "cell_type": "markdown",
   "source": [
    "#  Clean data\n",
    "## First read the data, the first rows are not correct\n"
   ],
   "metadata": {
    "collapsed": false
   },
   "id": "6d6cfee7156a97a2"
  },
  {
   "cell_type": "code",
   "outputs": [
    {
     "data": {
      "text/plain": "                                            This       is       the   Titanic  \\\nIt   contains  all       passengers  that   were   aboard       the   titanic   \nthe  tragic    disaster  occured     in      the     year        19         1   \n0   0         3         male        22.0       1        0     $7.25         S   \n1   1         1         female      38.0       1        0  $71.2833         C   \n2   1         3         female      26.0       0        0    $7.925         S   \n\n                                           Dataset.  \nIt   contains  all       passengers  that      when  \nthe  tragic    disaster  occured     in           2  \n0   0         3         male        22.0        NaN  \n1   1         1         female      38.0          C  \n2   1         3         female      26.0        NaN  ",
      "text/html": "<div>\n<style scoped>\n    .dataframe tbody tr th:only-of-type {\n        vertical-align: middle;\n    }\n\n    .dataframe tbody tr th {\n        vertical-align: top;\n    }\n\n    .dataframe thead th {\n        text-align: right;\n    }\n</style>\n<table border=\"1\" class=\"dataframe\">\n  <thead>\n    <tr style=\"text-align: right;\">\n      <th></th>\n      <th></th>\n      <th></th>\n      <th></th>\n      <th></th>\n      <th>This</th>\n      <th>is</th>\n      <th>the</th>\n      <th>Titanic</th>\n      <th>Dataset.</th>\n    </tr>\n  </thead>\n  <tbody>\n    <tr>\n      <th>It</th>\n      <th>contains</th>\n      <th>all</th>\n      <th>passengers</th>\n      <th>that</th>\n      <td>were</td>\n      <td>aboard</td>\n      <td>the</td>\n      <td>titanic</td>\n      <td>when</td>\n    </tr>\n    <tr>\n      <th>the</th>\n      <th>tragic</th>\n      <th>disaster</th>\n      <th>occured</th>\n      <th>in</th>\n      <td>the</td>\n      <td>year</td>\n      <td>19</td>\n      <td>1</td>\n      <td>2</td>\n    </tr>\n    <tr>\n      <th>0</th>\n      <th>0</th>\n      <th>3</th>\n      <th>male</th>\n      <th>22.0</th>\n      <td>1</td>\n      <td>0</td>\n      <td>$7.25</td>\n      <td>S</td>\n      <td>NaN</td>\n    </tr>\n    <tr>\n      <th>1</th>\n      <th>1</th>\n      <th>1</th>\n      <th>female</th>\n      <th>38.0</th>\n      <td>1</td>\n      <td>0</td>\n      <td>$71.2833</td>\n      <td>C</td>\n      <td>C</td>\n    </tr>\n    <tr>\n      <th>2</th>\n      <th>1</th>\n      <th>3</th>\n      <th>female</th>\n      <th>26.0</th>\n      <td>0</td>\n      <td>0</td>\n      <td>$7.925</td>\n      <td>S</td>\n      <td>NaN</td>\n    </tr>\n  </tbody>\n</table>\n</div>"
     },
     "execution_count": 78,
     "metadata": {},
     "output_type": "execute_result"
    }
   ],
   "source": [
    "dirty_data = pd.read_csv(\"titanic_raw.csv\")\n",
    "dirty_data.head()"
   ],
   "metadata": {
    "collapsed": false,
    "ExecuteTime": {
     "end_time": "2024-03-07T20:48:50.683593800Z",
     "start_time": "2024-03-07T20:48:50.645539400Z"
    }
   },
   "id": "f0e7da298c59dc93",
   "execution_count": 78
  },
  {
   "cell_type": "markdown",
   "source": [
    "## Last 2 rows are not correct"
   ],
   "metadata": {
    "collapsed": false
   },
   "id": "dad77e737423eef5"
  },
  {
   "cell_type": "code",
   "outputs": [
    {
     "data": {
      "text/plain": "                                     This    is      the  Titanic  Dataset.\n891 0     2         male     24.0       0     0    $10.5        S       NaN\n892 0     3         male     34.0       1     1    $14.4        S       NaN\n893 0     3         male     36.0       0     0  $7.8958        S       NaN\nEnd  of    the       Dataset                         NaN      NaN       NaN\nGet  more  Datasets  on       Kaggle    .   com      NaN      NaN       NaN",
      "text/html": "<div>\n<style scoped>\n    .dataframe tbody tr th:only-of-type {\n        vertical-align: middle;\n    }\n\n    .dataframe tbody tr th {\n        vertical-align: top;\n    }\n\n    .dataframe thead th {\n        text-align: right;\n    }\n</style>\n<table border=\"1\" class=\"dataframe\">\n  <thead>\n    <tr style=\"text-align: right;\">\n      <th></th>\n      <th></th>\n      <th></th>\n      <th></th>\n      <th></th>\n      <th>This</th>\n      <th>is</th>\n      <th>the</th>\n      <th>Titanic</th>\n      <th>Dataset.</th>\n    </tr>\n  </thead>\n  <tbody>\n    <tr>\n      <th>891</th>\n      <th>0</th>\n      <th>2</th>\n      <th>male</th>\n      <th>24.0</th>\n      <td>0</td>\n      <td>0</td>\n      <td>$10.5</td>\n      <td>S</td>\n      <td>NaN</td>\n    </tr>\n    <tr>\n      <th>892</th>\n      <th>0</th>\n      <th>3</th>\n      <th>male</th>\n      <th>34.0</th>\n      <td>1</td>\n      <td>1</td>\n      <td>$14.4</td>\n      <td>S</td>\n      <td>NaN</td>\n    </tr>\n    <tr>\n      <th>893</th>\n      <th>0</th>\n      <th>3</th>\n      <th>male</th>\n      <th>36.0</th>\n      <td>0</td>\n      <td>0</td>\n      <td>$7.8958</td>\n      <td>S</td>\n      <td>NaN</td>\n    </tr>\n    <tr>\n      <th>End</th>\n      <th>of</th>\n      <th>the</th>\n      <th>Dataset</th>\n      <th></th>\n      <td></td>\n      <td></td>\n      <td>NaN</td>\n      <td>NaN</td>\n      <td>NaN</td>\n    </tr>\n    <tr>\n      <th>Get</th>\n      <th>more</th>\n      <th>Datasets</th>\n      <th>on</th>\n      <th>Kaggle</th>\n      <td>.</td>\n      <td>com</td>\n      <td>NaN</td>\n      <td>NaN</td>\n      <td>NaN</td>\n    </tr>\n  </tbody>\n</table>\n</div>"
     },
     "execution_count": 79,
     "metadata": {},
     "output_type": "execute_result"
    }
   ],
   "source": [
    "dirty_data.tail()"
   ],
   "metadata": {
    "collapsed": false,
    "ExecuteTime": {
     "end_time": "2024-03-07T20:48:51.101870800Z",
     "start_time": "2024-03-07T20:48:51.029219800Z"
    }
   },
   "id": "e8a82b777137b6a1",
   "execution_count": 79
  },
  {
   "cell_type": "markdown",
   "source": [
    "## First we delete third row and set header to None ( we will set the columns names later, none means no header)"
   ],
   "metadata": {
    "collapsed": false
   },
   "id": "a072d9ac765fe774"
  },
  {
   "cell_type": "code",
   "outputs": [
    {
     "data": {
      "text/plain": "   0  1  2       3     4  5  6         7  8    9\n0  0  0  3    male  22.0  1  0     $7.25  S  NaN\n1  1  1  1  female  38.0  1  0  $71.2833  C    C\n2  2  1  3  female  26.0  0  0    $7.925  S  NaN\n3  3  1  1  female  35.0  1  0     $53.1  S    C\n4  4  0  3    male  35.0  0  0     $8.05  S  NaN",
      "text/html": "<div>\n<style scoped>\n    .dataframe tbody tr th:only-of-type {\n        vertical-align: middle;\n    }\n\n    .dataframe tbody tr th {\n        vertical-align: top;\n    }\n\n    .dataframe thead th {\n        text-align: right;\n    }\n</style>\n<table border=\"1\" class=\"dataframe\">\n  <thead>\n    <tr style=\"text-align: right;\">\n      <th></th>\n      <th>0</th>\n      <th>1</th>\n      <th>2</th>\n      <th>3</th>\n      <th>4</th>\n      <th>5</th>\n      <th>6</th>\n      <th>7</th>\n      <th>8</th>\n      <th>9</th>\n    </tr>\n  </thead>\n  <tbody>\n    <tr>\n      <th>0</th>\n      <td>0</td>\n      <td>0</td>\n      <td>3</td>\n      <td>male</td>\n      <td>22.0</td>\n      <td>1</td>\n      <td>0</td>\n      <td>$7.25</td>\n      <td>S</td>\n      <td>NaN</td>\n    </tr>\n    <tr>\n      <th>1</th>\n      <td>1</td>\n      <td>1</td>\n      <td>1</td>\n      <td>female</td>\n      <td>38.0</td>\n      <td>1</td>\n      <td>0</td>\n      <td>$71.2833</td>\n      <td>C</td>\n      <td>C</td>\n    </tr>\n    <tr>\n      <th>2</th>\n      <td>2</td>\n      <td>1</td>\n      <td>3</td>\n      <td>female</td>\n      <td>26.0</td>\n      <td>0</td>\n      <td>0</td>\n      <td>$7.925</td>\n      <td>S</td>\n      <td>NaN</td>\n    </tr>\n    <tr>\n      <th>3</th>\n      <td>3</td>\n      <td>1</td>\n      <td>1</td>\n      <td>female</td>\n      <td>35.0</td>\n      <td>1</td>\n      <td>0</td>\n      <td>$53.1</td>\n      <td>S</td>\n      <td>C</td>\n    </tr>\n    <tr>\n      <th>4</th>\n      <td>4</td>\n      <td>0</td>\n      <td>3</td>\n      <td>male</td>\n      <td>35.0</td>\n      <td>0</td>\n      <td>0</td>\n      <td>$8.05</td>\n      <td>S</td>\n      <td>NaN</td>\n    </tr>\n  </tbody>\n</table>\n</div>"
     },
     "execution_count": 94,
     "metadata": {},
     "output_type": "execute_result"
    }
   ],
   "source": [
    "dirty_data = pd.read_csv(\"titanic_raw.csv\", skiprows=[0,1,2], header=None)\n",
    "dirty_data.head()"
   ],
   "metadata": {
    "collapsed": false,
    "ExecuteTime": {
     "end_time": "2024-03-07T20:55:25.154664900Z",
     "start_time": "2024-03-07T20:55:25.115989300Z"
    }
   },
   "id": "85efdf467bb5c12d",
   "execution_count": 94
  },
  {
   "cell_type": "markdown",
   "source": [
    "## Need the last 2 rows deleted"
   ],
   "metadata": {
    "collapsed": false
   },
   "id": "e48b09439a428ff6"
  },
  {
   "cell_type": "code",
   "outputs": [
    {
     "data": {
      "text/plain": "       0      1          2         3        4   5     6        7    8    9\n891  891      0          2      male     24.0   0     0    $10.5    S  NaN\n892  892      0          3      male     34.0   1     1    $14.4    S  NaN\n893  893      0          3      male     36.0   0     0  $7.8958    S  NaN\n894  End     of       the    Dataset                         NaN  NaN  NaN\n895  Get   more   Datasets        on   Kaggle   .   com      NaN  NaN  NaN",
      "text/html": "<div>\n<style scoped>\n    .dataframe tbody tr th:only-of-type {\n        vertical-align: middle;\n    }\n\n    .dataframe tbody tr th {\n        vertical-align: top;\n    }\n\n    .dataframe thead th {\n        text-align: right;\n    }\n</style>\n<table border=\"1\" class=\"dataframe\">\n  <thead>\n    <tr style=\"text-align: right;\">\n      <th></th>\n      <th>0</th>\n      <th>1</th>\n      <th>2</th>\n      <th>3</th>\n      <th>4</th>\n      <th>5</th>\n      <th>6</th>\n      <th>7</th>\n      <th>8</th>\n      <th>9</th>\n    </tr>\n  </thead>\n  <tbody>\n    <tr>\n      <th>891</th>\n      <td>891</td>\n      <td>0</td>\n      <td>2</td>\n      <td>male</td>\n      <td>24.0</td>\n      <td>0</td>\n      <td>0</td>\n      <td>$10.5</td>\n      <td>S</td>\n      <td>NaN</td>\n    </tr>\n    <tr>\n      <th>892</th>\n      <td>892</td>\n      <td>0</td>\n      <td>3</td>\n      <td>male</td>\n      <td>34.0</td>\n      <td>1</td>\n      <td>1</td>\n      <td>$14.4</td>\n      <td>S</td>\n      <td>NaN</td>\n    </tr>\n    <tr>\n      <th>893</th>\n      <td>893</td>\n      <td>0</td>\n      <td>3</td>\n      <td>male</td>\n      <td>36.0</td>\n      <td>0</td>\n      <td>0</td>\n      <td>$7.8958</td>\n      <td>S</td>\n      <td>NaN</td>\n    </tr>\n    <tr>\n      <th>894</th>\n      <td>End</td>\n      <td>of</td>\n      <td>the</td>\n      <td>Dataset</td>\n      <td></td>\n      <td></td>\n      <td></td>\n      <td>NaN</td>\n      <td>NaN</td>\n      <td>NaN</td>\n    </tr>\n    <tr>\n      <th>895</th>\n      <td>Get</td>\n      <td>more</td>\n      <td>Datasets</td>\n      <td>on</td>\n      <td>Kaggle</td>\n      <td>.</td>\n      <td>com</td>\n      <td>NaN</td>\n      <td>NaN</td>\n      <td>NaN</td>\n    </tr>\n  </tbody>\n</table>\n</div>"
     },
     "execution_count": 82,
     "metadata": {},
     "output_type": "execute_result"
    }
   ],
   "source": [
    "dirty_data.tail()"
   ],
   "metadata": {
    "collapsed": false,
    "ExecuteTime": {
     "end_time": "2024-03-07T20:48:52.197210900Z",
     "start_time": "2024-03-07T20:48:52.177850600Z"
    }
   },
   "id": "1cadbe2fa393c1a2",
   "execution_count": 82
  },
  {
   "cell_type": "markdown",
   "source": [
    "## Delete the last 2 rows. With drop method and tail method + index ( index because we want to delete the last 2 rows)"
   ],
   "metadata": {
    "collapsed": false
   },
   "id": "9a062ade103d6de2"
  },
  {
   "cell_type": "code",
   "outputs": [],
   "source": [
    "dirty_data.drop(dirty_data.tail(2).index, inplace=True)"
   ],
   "metadata": {
    "collapsed": false,
    "ExecuteTime": {
     "end_time": "2024-03-07T20:59:41.090268600Z",
     "start_time": "2024-03-07T20:59:41.045832800Z"
    }
   },
   "id": "1d064542b3926ccf",
   "execution_count": 96
  },
  {
   "cell_type": "code",
   "outputs": [
    {
     "data": {
      "text/plain": "       0  1  2     3     4  5  6        7  8    9\n889  889  1  1  male  26.0  0  0    $30.0  C    C\n890  890  0  3  male  32.0  0  0    $7.75  Q  NaN\n891  891  0  2  male  24.0  0  0    $10.5  S  NaN\n892  892  0  3  male  34.0  1  1    $14.4  S  NaN\n893  893  0  3  male  36.0  0  0  $7.8958  S  NaN",
      "text/html": "<div>\n<style scoped>\n    .dataframe tbody tr th:only-of-type {\n        vertical-align: middle;\n    }\n\n    .dataframe tbody tr th {\n        vertical-align: top;\n    }\n\n    .dataframe thead th {\n        text-align: right;\n    }\n</style>\n<table border=\"1\" class=\"dataframe\">\n  <thead>\n    <tr style=\"text-align: right;\">\n      <th></th>\n      <th>0</th>\n      <th>1</th>\n      <th>2</th>\n      <th>3</th>\n      <th>4</th>\n      <th>5</th>\n      <th>6</th>\n      <th>7</th>\n      <th>8</th>\n      <th>9</th>\n    </tr>\n  </thead>\n  <tbody>\n    <tr>\n      <th>889</th>\n      <td>889</td>\n      <td>1</td>\n      <td>1</td>\n      <td>male</td>\n      <td>26.0</td>\n      <td>0</td>\n      <td>0</td>\n      <td>$30.0</td>\n      <td>C</td>\n      <td>C</td>\n    </tr>\n    <tr>\n      <th>890</th>\n      <td>890</td>\n      <td>0</td>\n      <td>3</td>\n      <td>male</td>\n      <td>32.0</td>\n      <td>0</td>\n      <td>0</td>\n      <td>$7.75</td>\n      <td>Q</td>\n      <td>NaN</td>\n    </tr>\n    <tr>\n      <th>891</th>\n      <td>891</td>\n      <td>0</td>\n      <td>2</td>\n      <td>male</td>\n      <td>24.0</td>\n      <td>0</td>\n      <td>0</td>\n      <td>$10.5</td>\n      <td>S</td>\n      <td>NaN</td>\n    </tr>\n    <tr>\n      <th>892</th>\n      <td>892</td>\n      <td>0</td>\n      <td>3</td>\n      <td>male</td>\n      <td>34.0</td>\n      <td>1</td>\n      <td>1</td>\n      <td>$14.4</td>\n      <td>S</td>\n      <td>NaN</td>\n    </tr>\n    <tr>\n      <th>893</th>\n      <td>893</td>\n      <td>0</td>\n      <td>3</td>\n      <td>male</td>\n      <td>36.0</td>\n      <td>0</td>\n      <td>0</td>\n      <td>$7.8958</td>\n      <td>S</td>\n      <td>NaN</td>\n    </tr>\n  </tbody>\n</table>\n</div>"
     },
     "execution_count": 97,
     "metadata": {},
     "output_type": "execute_result"
    }
   ],
   "source": [
    "dirty_data.tail()"
   ],
   "metadata": {
    "collapsed": false,
    "ExecuteTime": {
     "end_time": "2024-03-07T20:59:43.901978800Z",
     "start_time": "2024-03-07T20:59:43.888527Z"
    }
   },
   "id": "c33c242d91a6b515",
   "execution_count": 97
  },
  {
   "cell_type": "markdown",
   "source": [
    "## Set the columns names and all params "
   ],
   "metadata": {
    "collapsed": false
   },
   "id": "169895a459885936"
  },
  {
   "cell_type": "code",
   "outputs": [
    {
     "data": {
      "text/plain": "  alive class gender     age sibsps parch price       emb deck test\n0     0     0      3    male   22.0     1     0     $7.25    S  NaN\n1     1     1      1  female   38.0     1     0  $71.2833    C    C\n2     2     1      3  female   26.0     0     0    $7.925    S  NaN\n3     3     1      1  female   35.0     1     0     $53.1    S    C\n4     4     0      3    male   35.0     0     0     $8.05    S  NaN",
      "text/html": "<div>\n<style scoped>\n    .dataframe tbody tr th:only-of-type {\n        vertical-align: middle;\n    }\n\n    .dataframe tbody tr th {\n        vertical-align: top;\n    }\n\n    .dataframe thead th {\n        text-align: right;\n    }\n</style>\n<table border=\"1\" class=\"dataframe\">\n  <thead>\n    <tr style=\"text-align: right;\">\n      <th></th>\n      <th>alive</th>\n      <th>class</th>\n      <th>gender</th>\n      <th>age</th>\n      <th>sibsps</th>\n      <th>parch</th>\n      <th>price</th>\n      <th>emb</th>\n      <th>deck</th>\n      <th>test</th>\n    </tr>\n  </thead>\n  <tbody>\n    <tr>\n      <th>0</th>\n      <td>0</td>\n      <td>0</td>\n      <td>3</td>\n      <td>male</td>\n      <td>22.0</td>\n      <td>1</td>\n      <td>0</td>\n      <td>$7.25</td>\n      <td>S</td>\n      <td>NaN</td>\n    </tr>\n    <tr>\n      <th>1</th>\n      <td>1</td>\n      <td>1</td>\n      <td>1</td>\n      <td>female</td>\n      <td>38.0</td>\n      <td>1</td>\n      <td>0</td>\n      <td>$71.2833</td>\n      <td>C</td>\n      <td>C</td>\n    </tr>\n    <tr>\n      <th>2</th>\n      <td>2</td>\n      <td>1</td>\n      <td>3</td>\n      <td>female</td>\n      <td>26.0</td>\n      <td>0</td>\n      <td>0</td>\n      <td>$7.925</td>\n      <td>S</td>\n      <td>NaN</td>\n    </tr>\n    <tr>\n      <th>3</th>\n      <td>3</td>\n      <td>1</td>\n      <td>1</td>\n      <td>female</td>\n      <td>35.0</td>\n      <td>1</td>\n      <td>0</td>\n      <td>$53.1</td>\n      <td>S</td>\n      <td>C</td>\n    </tr>\n    <tr>\n      <th>4</th>\n      <td>4</td>\n      <td>0</td>\n      <td>3</td>\n      <td>male</td>\n      <td>35.0</td>\n      <td>0</td>\n      <td>0</td>\n      <td>$8.05</td>\n      <td>S</td>\n      <td>NaN</td>\n    </tr>\n  </tbody>\n</table>\n</div>"
     },
     "execution_count": 90,
     "metadata": {},
     "output_type": "execute_result"
    }
   ],
   "source": [
    "dirty_data = pd.read_csv(\"titanic_raw.csv\", \n",
    "                         skiprows=[0,1,2], \n",
    "                         header=None, \n",
    "                         names=[\"alive\", \"class\", \"gender\", \"age\", \"sibsps\", \"parch\", \"price\" , \"emb\", \"deck\", \"test\"]\n",
    ")\n",
    "dirty_data.head()"
   ],
   "metadata": {
    "collapsed": false,
    "ExecuteTime": {
     "end_time": "2024-03-07T20:52:59.908398500Z",
     "start_time": "2024-03-07T20:52:59.878266Z"
    }
   },
   "id": "73161ff64db369b",
   "execution_count": 90
  },
  {
   "cell_type": "code",
   "outputs": [
    {
     "data": {
      "text/plain": "       0  1  2     3     4  5  6        7  8    9\n889  889  1  1  male  26.0  0  0    $30.0  C    C\n890  890  0  3  male  32.0  0  0    $7.75  Q  NaN\n891  891  0  2  male  24.0  0  0    $10.5  S  NaN\n892  892  0  3  male  34.0  1  1    $14.4  S  NaN\n893  893  0  3  male  36.0  0  0  $7.8958  S  NaN",
      "text/html": "<div>\n<style scoped>\n    .dataframe tbody tr th:only-of-type {\n        vertical-align: middle;\n    }\n\n    .dataframe tbody tr th {\n        vertical-align: top;\n    }\n\n    .dataframe thead th {\n        text-align: right;\n    }\n</style>\n<table border=\"1\" class=\"dataframe\">\n  <thead>\n    <tr style=\"text-align: right;\">\n      <th></th>\n      <th>0</th>\n      <th>1</th>\n      <th>2</th>\n      <th>3</th>\n      <th>4</th>\n      <th>5</th>\n      <th>6</th>\n      <th>7</th>\n      <th>8</th>\n      <th>9</th>\n    </tr>\n  </thead>\n  <tbody>\n    <tr>\n      <th>889</th>\n      <td>889</td>\n      <td>1</td>\n      <td>1</td>\n      <td>male</td>\n      <td>26.0</td>\n      <td>0</td>\n      <td>0</td>\n      <td>$30.0</td>\n      <td>C</td>\n      <td>C</td>\n    </tr>\n    <tr>\n      <th>890</th>\n      <td>890</td>\n      <td>0</td>\n      <td>3</td>\n      <td>male</td>\n      <td>32.0</td>\n      <td>0</td>\n      <td>0</td>\n      <td>$7.75</td>\n      <td>Q</td>\n      <td>NaN</td>\n    </tr>\n    <tr>\n      <th>891</th>\n      <td>891</td>\n      <td>0</td>\n      <td>2</td>\n      <td>male</td>\n      <td>24.0</td>\n      <td>0</td>\n      <td>0</td>\n      <td>$10.5</td>\n      <td>S</td>\n      <td>NaN</td>\n    </tr>\n    <tr>\n      <th>892</th>\n      <td>892</td>\n      <td>0</td>\n      <td>3</td>\n      <td>male</td>\n      <td>34.0</td>\n      <td>1</td>\n      <td>1</td>\n      <td>$14.4</td>\n      <td>S</td>\n      <td>NaN</td>\n    </tr>\n    <tr>\n      <th>893</th>\n      <td>893</td>\n      <td>0</td>\n      <td>3</td>\n      <td>male</td>\n      <td>36.0</td>\n      <td>0</td>\n      <td>0</td>\n      <td>$7.8958</td>\n      <td>S</td>\n      <td>NaN</td>\n    </tr>\n  </tbody>\n</table>\n</div>"
     },
     "execution_count": 98,
     "metadata": {},
     "output_type": "execute_result"
    }
   ],
   "source": [
    "dirty_data.tail()"
   ],
   "metadata": {
    "collapsed": false,
    "ExecuteTime": {
     "end_time": "2024-03-07T20:59:49.155088400Z",
     "start_time": "2024-03-07T20:59:49.121052Z"
    }
   },
   "id": "c30ae89fadf66138",
   "execution_count": 98
  },
  {
   "cell_type": "code",
   "outputs": [],
   "source": [
    "dirty_data.to_csv(\"titanic_clean.csv\")"
   ],
   "metadata": {
    "collapsed": false
   },
   "id": "f60e285778979652"
  },
  {
   "cell_type": "markdown",
   "source": [
    "## Now data is clean and we can save it to a new file"
   ],
   "metadata": {
    "collapsed": false
   },
   "id": "4e531d326feff6b1"
  },
  {
   "cell_type": "code",
   "outputs": [],
   "source": [],
   "metadata": {
    "collapsed": false
   },
   "id": "771c2e28b6f1d6a"
  },
  {
   "cell_type": "markdown",
   "source": [
    "# Import Table Data to HTML \n",
    "## First we need to install lxml"
   ],
   "metadata": {
    "collapsed": false
   },
   "id": "e94fc7cf5163f371"
  },
  {
   "cell_type": "code",
   "outputs": [],
   "source": [
    "url = \"https://en.wikipedia.org/wiki/1976_Summer_Olympics_medal_table\""
   ],
   "metadata": {
    "collapsed": false,
    "ExecuteTime": {
     "end_time": "2024-03-10T20:46:03.865125900Z",
     "start_time": "2024-03-10T20:46:03.856607400Z"
    }
   },
   "id": "38ceb18b9c433138",
   "execution_count": 2
  },
  {
   "cell_type": "markdown",
   "source": [
    "## Verify len  because this method take all the tables in the pageq"
   ],
   "metadata": {
    "collapsed": false
   },
   "id": "fdc60fe5a40b01ba"
  },
  {
   "cell_type": "code",
   "outputs": [
    {
     "data": {
      "text/plain": "7"
     },
     "execution_count": 7,
     "metadata": {},
     "output_type": "execute_result"
    }
   ],
   "source": [
    "len(pd.read_html(url))"
   ],
   "metadata": {
    "collapsed": false,
    "ExecuteTime": {
     "end_time": "2024-03-10T20:48:43.091842300Z",
     "start_time": "2024-03-10T20:48:42.621294200Z"
    }
   },
   "id": "ec99987f7433859b",
   "execution_count": 7
  },
  {
   "cell_type": "code",
   "outputs": [
    {
     "data": {
      "text/plain": "  Rank            NOC  Gold  Silver  Bronze  Total\n0    1   Soviet Union    49      41      35    125\n1    2   East Germany    40      25      25     90\n2    3  United States    34      35      25     94\n3    4   West Germany    10      12      17     39\n4    5          Japan     9       6      10     25",
      "text/html": "<div>\n<style scoped>\n    .dataframe tbody tr th:only-of-type {\n        vertical-align: middle;\n    }\n\n    .dataframe tbody tr th {\n        vertical-align: top;\n    }\n\n    .dataframe thead th {\n        text-align: right;\n    }\n</style>\n<table border=\"1\" class=\"dataframe\">\n  <thead>\n    <tr style=\"text-align: right;\">\n      <th></th>\n      <th>Rank</th>\n      <th>NOC</th>\n      <th>Gold</th>\n      <th>Silver</th>\n      <th>Bronze</th>\n      <th>Total</th>\n    </tr>\n  </thead>\n  <tbody>\n    <tr>\n      <th>0</th>\n      <td>1</td>\n      <td>Soviet Union</td>\n      <td>49</td>\n      <td>41</td>\n      <td>35</td>\n      <td>125</td>\n    </tr>\n    <tr>\n      <th>1</th>\n      <td>2</td>\n      <td>East Germany</td>\n      <td>40</td>\n      <td>25</td>\n      <td>25</td>\n      <td>90</td>\n    </tr>\n    <tr>\n      <th>2</th>\n      <td>3</td>\n      <td>United States</td>\n      <td>34</td>\n      <td>35</td>\n      <td>25</td>\n      <td>94</td>\n    </tr>\n    <tr>\n      <th>3</th>\n      <td>4</td>\n      <td>West Germany</td>\n      <td>10</td>\n      <td>12</td>\n      <td>17</td>\n      <td>39</td>\n    </tr>\n    <tr>\n      <th>4</th>\n      <td>5</td>\n      <td>Japan</td>\n      <td>9</td>\n      <td>6</td>\n      <td>10</td>\n      <td>25</td>\n    </tr>\n  </tbody>\n</table>\n</div>"
     },
     "execution_count": 22,
     "metadata": {},
     "output_type": "execute_result"
    }
   ],
   "source": [
    "summer_html = pd.read_html(url)[3]\n",
    "summer_html.head()"
   ],
   "metadata": {
    "collapsed": false,
    "ExecuteTime": {
     "end_time": "2024-03-10T20:52:09.134252600Z",
     "start_time": "2024-03-10T20:52:08.691232900Z"
    }
   },
   "id": "3996872c7e4a04f3",
   "execution_count": 22
  },
  {
   "cell_type": "markdown",
   "source": [
    "## Index False because we don't want the index column"
   ],
   "metadata": {
    "collapsed": false
   },
   "id": "1def062ac45a58d0"
  },
  {
   "cell_type": "code",
   "outputs": [],
   "source": [
    "summer_html.to_csv(\"summer_1976_html.csv\", index=False)"
   ],
   "metadata": {
    "collapsed": false,
    "ExecuteTime": {
     "end_time": "2024-03-10T20:52:19.374273300Z",
     "start_time": "2024-03-10T20:52:19.353777900Z"
    }
   },
   "id": "e34e1c7ef71c989a",
   "execution_count": 24
  },
  {
   "cell_type": "code",
   "outputs": [],
   "source": [],
   "metadata": {
    "collapsed": false
   },
   "id": "64f0368ceb24405c"
  }
 ],
 "metadata": {
  "kernelspec": {
   "display_name": "Python 3",
   "language": "python",
   "name": "python3"
  },
  "language_info": {
   "codemirror_mode": {
    "name": "ipython",
    "version": 2
   },
   "file_extension": ".py",
   "mimetype": "text/x-python",
   "name": "python",
   "nbconvert_exporter": "python",
   "pygments_lexer": "ipython2",
   "version": "2.7.6"
  }
 },
 "nbformat": 4,
 "nbformat_minor": 5
}
