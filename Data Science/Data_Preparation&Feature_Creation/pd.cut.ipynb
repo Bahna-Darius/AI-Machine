{
 "cells": [
  {
   "cell_type": "markdown",
   "source": [
    "# Discretization and Binning with pd.cut() and pd.qcut()"
   ],
   "metadata": {
    "collapsed": false
   },
   "id": "ee59582b78382589"
  },
  {
   "cell_type": "code",
   "outputs": [],
   "source": [
    "import pandas as pd"
   ],
   "metadata": {
    "collapsed": false,
    "ExecuteTime": {
     "end_time": "2024-03-29T16:43:46.542813400Z",
     "start_time": "2024-03-29T16:43:46.538298500Z"
    }
   },
   "id": "3b14605c807d8bda",
   "execution_count": 2
  },
  {
   "cell_type": "code",
   "outputs": [],
   "source": [
    "titanic = pd.read_csv('../titanic.csv')"
   ],
   "metadata": {
    "collapsed": false,
    "ExecuteTime": {
     "end_time": "2024-03-29T16:43:56.615431200Z",
     "start_time": "2024-03-29T16:43:56.595869Z"
    }
   },
   "id": "99d531a4aa3739e1",
   "execution_count": 3
  },
  {
   "cell_type": "code",
   "outputs": [],
   "source": [
    "category_age = [0, 18, 30, 50, 100]"
   ],
   "metadata": {
    "collapsed": false,
    "ExecuteTime": {
     "end_time": "2024-03-29T17:08:24.988337100Z",
     "start_time": "2024-03-29T17:08:24.976765500Z"
    }
   },
   "id": "e9f0117709ef99da",
   "execution_count": 7
  },
  {
   "cell_type": "markdown",
   "source": [
    "# cut() function is used to segment and sort data values into bins.\n",
    "## Parameters: x = means the data values to be binned, bins = the number of bins to be used and right = whether the bins are right-closed or not."
   ],
   "metadata": {
    "collapsed": false
   },
   "id": "5c56ac1054078769"
  },
  {
   "cell_type": "code",
   "outputs": [
    {
     "data": {
      "text/plain": "0      [18.0, 30.0)\n1      [30.0, 50.0)\n2      [18.0, 30.0)\n3      [30.0, 50.0)\n4      [30.0, 50.0)\n           ...     \n886    [18.0, 30.0)\n887    [18.0, 30.0)\n888             NaN\n889    [18.0, 30.0)\n890    [30.0, 50.0)\nName: age, Length: 891, dtype: category\nCategories (4, interval[int64, left]): [[0, 18) < [18, 30) < [30, 50) < [50, 100)]"
     },
     "execution_count": 10,
     "metadata": {},
     "output_type": "execute_result"
    }
   ],
   "source": [
    "category = pd.cut(x=titanic.age, bins=category_age, right=False)\n",
    "category"
   ],
   "metadata": {
    "collapsed": false,
    "ExecuteTime": {
     "end_time": "2024-03-29T17:08:39.090778600Z",
     "start_time": "2024-03-29T17:08:39.078250800Z"
    }
   },
   "id": "b8d4fa08c1457743",
   "execution_count": 10
  },
  {
   "cell_type": "markdown",
   "source": [
    "## Now we can count the number of passengers in each category."
   ],
   "metadata": {
    "collapsed": false
   },
   "id": "fe41735411ec43a5"
  },
  {
   "cell_type": "code",
   "outputs": [
    {
     "data": {
      "text/plain": "age\n[18, 30)     271\n[30, 50)     256\n[0, 18)      113\n[50, 100)     74\nName: count, dtype: int64"
     },
     "execution_count": 11,
     "metadata": {},
     "output_type": "execute_result"
    }
   ],
   "source": [
    "category.value_counts()"
   ],
   "metadata": {
    "collapsed": false,
    "ExecuteTime": {
     "end_time": "2024-03-29T17:08:58.358349200Z",
     "start_time": "2024-03-29T17:08:58.346357400Z"
    }
   },
   "id": "c4f957829c7346e0",
   "execution_count": 11
  },
  {
   "cell_type": "code",
   "outputs": [],
   "source": [
    "titanic['age_category'] = category"
   ],
   "metadata": {
    "collapsed": false,
    "ExecuteTime": {
     "end_time": "2024-03-29T17:11:50.164344600Z",
     "start_time": "2024-03-29T17:11:50.147823500Z"
    }
   },
   "id": "72da30e123553e67",
   "execution_count": 12
  },
  {
   "cell_type": "code",
   "outputs": [
    {
     "data": {
      "text/plain": "   survived  pclass     sex   age  sibsp  parch     fare embarked deck  \\\n0         0       3    male  22.0      1      0   7.2500        S  NaN   \n1         1       1  female  38.0      1      0  71.2833        C    C   \n2         1       3  female  26.0      0      0   7.9250        S  NaN   \n3         1       1  female  35.0      1      0  53.1000        S    C   \n4         0       3    male  35.0      0      0   8.0500        S  NaN   \n\n  age_category  \n0     [18, 30)  \n1     [30, 50)  \n2     [18, 30)  \n3     [30, 50)  \n4     [30, 50)  ",
      "text/html": "<div>\n<style scoped>\n    .dataframe tbody tr th:only-of-type {\n        vertical-align: middle;\n    }\n\n    .dataframe tbody tr th {\n        vertical-align: top;\n    }\n\n    .dataframe thead th {\n        text-align: right;\n    }\n</style>\n<table border=\"1\" class=\"dataframe\">\n  <thead>\n    <tr style=\"text-align: right;\">\n      <th></th>\n      <th>survived</th>\n      <th>pclass</th>\n      <th>sex</th>\n      <th>age</th>\n      <th>sibsp</th>\n      <th>parch</th>\n      <th>fare</th>\n      <th>embarked</th>\n      <th>deck</th>\n      <th>age_category</th>\n    </tr>\n  </thead>\n  <tbody>\n    <tr>\n      <th>0</th>\n      <td>0</td>\n      <td>3</td>\n      <td>male</td>\n      <td>22.0</td>\n      <td>1</td>\n      <td>0</td>\n      <td>7.2500</td>\n      <td>S</td>\n      <td>NaN</td>\n      <td>[18, 30)</td>\n    </tr>\n    <tr>\n      <th>1</th>\n      <td>1</td>\n      <td>1</td>\n      <td>female</td>\n      <td>38.0</td>\n      <td>1</td>\n      <td>0</td>\n      <td>71.2833</td>\n      <td>C</td>\n      <td>C</td>\n      <td>[30, 50)</td>\n    </tr>\n    <tr>\n      <th>2</th>\n      <td>1</td>\n      <td>3</td>\n      <td>female</td>\n      <td>26.0</td>\n      <td>0</td>\n      <td>0</td>\n      <td>7.9250</td>\n      <td>S</td>\n      <td>NaN</td>\n      <td>[18, 30)</td>\n    </tr>\n    <tr>\n      <th>3</th>\n      <td>1</td>\n      <td>1</td>\n      <td>female</td>\n      <td>35.0</td>\n      <td>1</td>\n      <td>0</td>\n      <td>53.1000</td>\n      <td>S</td>\n      <td>C</td>\n      <td>[30, 50)</td>\n    </tr>\n    <tr>\n      <th>4</th>\n      <td>0</td>\n      <td>3</td>\n      <td>male</td>\n      <td>35.0</td>\n      <td>0</td>\n      <td>0</td>\n      <td>8.0500</td>\n      <td>S</td>\n      <td>NaN</td>\n      <td>[30, 50)</td>\n    </tr>\n  </tbody>\n</table>\n</div>"
     },
     "execution_count": 13,
     "metadata": {},
     "output_type": "execute_result"
    }
   ],
   "source": [
    "titanic.head()"
   ],
   "metadata": {
    "collapsed": false,
    "ExecuteTime": {
     "end_time": "2024-03-29T17:11:53.570359400Z",
     "start_time": "2024-03-29T17:11:53.563846600Z"
    }
   },
   "id": "6e3c785b11c9564",
   "execution_count": 13
  },
  {
   "cell_type": "code",
   "outputs": [
    {
     "name": "stderr",
     "output_type": "stream",
     "text": [
      "C:\\Users\\Darius\\AppData\\Local\\Temp\\ipykernel_5000\\4191036536.py:1: FutureWarning: The default of observed=False is deprecated and will be changed to True in a future version of pandas. Pass observed=False to retain current behavior or observed=True to adopt the future default and silence this warning.\n",
      "  titanic.groupby(by='age_category').survived.mean()\n"
     ]
    },
    {
     "data": {
      "text/plain": "age_category\n[0, 18)      0.539823\n[18, 30)     0.350554\n[30, 50)     0.417969\n[50, 100)    0.364865\nName: survived, dtype: float64"
     },
     "execution_count": 14,
     "metadata": {},
     "output_type": "execute_result"
    }
   ],
   "source": [
    "titanic.groupby(by='age_category').survived.mean()"
   ],
   "metadata": {
    "collapsed": false,
    "ExecuteTime": {
     "end_time": "2024-03-29T17:14:16.452280700Z",
     "start_time": "2024-03-29T17:14:16.433523700Z"
    }
   },
   "id": "970d1e73934d804b",
   "execution_count": 14
  },
  {
   "cell_type": "code",
   "outputs": [],
   "source": [
    "group_name =  ['child', 'young', 'middle', 'old']"
   ],
   "metadata": {
    "collapsed": false,
    "ExecuteTime": {
     "end_time": "2024-03-29T17:16:08.762652600Z",
     "start_time": "2024-03-29T17:16:08.741264800Z"
    }
   },
   "id": "6eeebf32e9cee867",
   "execution_count": 15
  },
  {
   "cell_type": "code",
   "outputs": [],
   "source": [
    "titanic['age_category'] = pd.cut(x=titanic.age, bins=category_age, right=False, labels=group_name)"
   ],
   "metadata": {
    "collapsed": false,
    "ExecuteTime": {
     "end_time": "2024-03-29T17:16:15.646107600Z",
     "start_time": "2024-03-29T17:16:15.628647900Z"
    }
   },
   "id": "8cddf89c2591b470",
   "execution_count": 16
  },
  {
   "cell_type": "code",
   "outputs": [
    {
     "data": {
      "text/plain": "   survived  pclass     sex   age  sibsp  parch     fare embarked deck  \\\n0         0       3    male  22.0      1      0   7.2500        S  NaN   \n1         1       1  female  38.0      1      0  71.2833        C    C   \n2         1       3  female  26.0      0      0   7.9250        S  NaN   \n3         1       1  female  35.0      1      0  53.1000        S    C   \n4         0       3    male  35.0      0      0   8.0500        S  NaN   \n\n  age_category  \n0        young  \n1       middle  \n2        young  \n3       middle  \n4       middle  ",
      "text/html": "<div>\n<style scoped>\n    .dataframe tbody tr th:only-of-type {\n        vertical-align: middle;\n    }\n\n    .dataframe tbody tr th {\n        vertical-align: top;\n    }\n\n    .dataframe thead th {\n        text-align: right;\n    }\n</style>\n<table border=\"1\" class=\"dataframe\">\n  <thead>\n    <tr style=\"text-align: right;\">\n      <th></th>\n      <th>survived</th>\n      <th>pclass</th>\n      <th>sex</th>\n      <th>age</th>\n      <th>sibsp</th>\n      <th>parch</th>\n      <th>fare</th>\n      <th>embarked</th>\n      <th>deck</th>\n      <th>age_category</th>\n    </tr>\n  </thead>\n  <tbody>\n    <tr>\n      <th>0</th>\n      <td>0</td>\n      <td>3</td>\n      <td>male</td>\n      <td>22.0</td>\n      <td>1</td>\n      <td>0</td>\n      <td>7.2500</td>\n      <td>S</td>\n      <td>NaN</td>\n      <td>young</td>\n    </tr>\n    <tr>\n      <th>1</th>\n      <td>1</td>\n      <td>1</td>\n      <td>female</td>\n      <td>38.0</td>\n      <td>1</td>\n      <td>0</td>\n      <td>71.2833</td>\n      <td>C</td>\n      <td>C</td>\n      <td>middle</td>\n    </tr>\n    <tr>\n      <th>2</th>\n      <td>1</td>\n      <td>3</td>\n      <td>female</td>\n      <td>26.0</td>\n      <td>0</td>\n      <td>0</td>\n      <td>7.9250</td>\n      <td>S</td>\n      <td>NaN</td>\n      <td>young</td>\n    </tr>\n    <tr>\n      <th>3</th>\n      <td>1</td>\n      <td>1</td>\n      <td>female</td>\n      <td>35.0</td>\n      <td>1</td>\n      <td>0</td>\n      <td>53.1000</td>\n      <td>S</td>\n      <td>C</td>\n      <td>middle</td>\n    </tr>\n    <tr>\n      <th>4</th>\n      <td>0</td>\n      <td>3</td>\n      <td>male</td>\n      <td>35.0</td>\n      <td>0</td>\n      <td>0</td>\n      <td>8.0500</td>\n      <td>S</td>\n      <td>NaN</td>\n      <td>middle</td>\n    </tr>\n  </tbody>\n</table>\n</div>"
     },
     "execution_count": 17,
     "metadata": {},
     "output_type": "execute_result"
    }
   ],
   "source": [
    "titanic.head()"
   ],
   "metadata": {
    "collapsed": false,
    "ExecuteTime": {
     "end_time": "2024-03-29T17:16:17.455791300Z",
     "start_time": "2024-03-29T17:16:17.408271600Z"
    }
   },
   "id": "f2df893d21ffa8f9",
   "execution_count": 17
  },
  {
   "cell_type": "code",
   "outputs": [],
   "source": [],
   "metadata": {
    "collapsed": false
   },
   "id": "6ea390d6d194722e"
  }
 ],
 "metadata": {
  "kernelspec": {
   "display_name": "Python 3",
   "language": "python",
   "name": "python3"
  },
  "language_info": {
   "codemirror_mode": {
    "name": "ipython",
    "version": 2
   },
   "file_extension": ".py",
   "mimetype": "text/x-python",
   "name": "python",
   "nbconvert_exporter": "python",
   "pygments_lexer": "ipython2",
   "version": "2.7.6"
  }
 },
 "nbformat": 4,
 "nbformat_minor": 5
}
