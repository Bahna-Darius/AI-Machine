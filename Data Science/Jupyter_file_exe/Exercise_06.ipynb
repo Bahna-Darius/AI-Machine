{
 "cells": [
  {
   "cell_type": "markdown",
   "metadata": {},
   "source": [
    "# Coding Exercises (Part 1)"
   ]
  },
  {
   "cell_type": "markdown",
   "metadata": {},
   "source": [
    "Now, you will have the opportunity to analyze your own dataset. <br>\n",
    "__Follow the instructions__ and insert your code! You are either requested to \n",
    "- Complete the Code and __Fill in the gaps__. Gaps are marked with \"__---__\" and are __placeholders__ for your code fragment. \n",
    "- Write Code completely __on your own__ "
   ]
  },
  {
   "cell_type": "markdown",
   "metadata": {},
   "source": [
    "In some exercises, you will find questions that can only be answered, if your code is correct and returns the right output! The correct answer is provided below your coding cell. There you can check whether your code is correct."
   ]
  },
  {
   "cell_type": "markdown",
   "metadata": {},
   "source": [
    "If you need a hint, check the __Hints Section__ at the end of this Notebook. Exercises and Hints are numerated accordingly."
   ]
  },
  {
   "cell_type": "markdown",
   "metadata": {},
   "source": [
    "If you need some further help or if you want to check your code, you can also watch the __solutions videos__ or check the __solutions notebook__."
   ]
  },
  {
   "cell_type": "markdown",
   "metadata": {},
   "source": [
    "### Have Fun!"
   ]
  },
  {
   "cell_type": "markdown",
   "metadata": {},
   "source": [
    "--------------------------------------------------------------------------------------------------------------"
   ]
  },
  {
   "cell_type": "markdown",
   "metadata": {},
   "source": [
    "## Manipulating elements in a DataFrame / Slice"
   ]
  },
  {
   "cell_type": "markdown",
   "metadata": {},
   "source": [
    "### Exercise 6: Manipulating elements in a DataFrame / Slice "
   ]
  },
  {
   "cell_type": "code",
   "execution_count": 1,
   "metadata": {
    "ExecuteTime": {
     "end_time": "2024-02-28T20:43:56.765256200Z",
     "start_time": "2024-02-28T20:43:56.280764Z"
    }
   },
   "outputs": [],
   "source": [
    "# run the cell!\n",
    "import pandas as pd"
   ]
  },
  {
   "cell_type": "code",
   "execution_count": 2,
   "metadata": {
    "ExecuteTime": {
     "end_time": "2024-02-28T20:44:00.179646300Z",
     "start_time": "2024-02-28T20:44:00.160838100Z"
    }
   },
   "outputs": [],
   "source": [
    "# run the cell!\n",
    "cars = pd.read_csv(\"cars.csv\")"
   ]
  },
  {
   "cell_type": "code",
   "execution_count": 3,
   "metadata": {
    "ExecuteTime": {
     "end_time": "2024-02-28T20:44:07.841457500Z",
     "start_time": "2024-02-28T20:44:07.798869200Z"
    }
   },
   "outputs": [
    {
     "data": {
      "text/plain": "    mpg  cylinders  displacement  horsepower  weight  acceleration  \\\n0  18.0          8         307.0       130.0    3504          12.0   \n1  15.0          8         350.0       165.0    3693          11.5   \n2  18.0          8         318.0       150.0    3436          11.0   \n3  16.0          8         304.0       150.0    3433          12.0   \n4  17.0          8         302.0       140.0    3449          10.5   \n\n   model_year origin                       name  \n0          70    usa  chevrolet chevelle malibu  \n1          70    usa          buick skylark 320  \n2          70    usa         plymouth satellite  \n3          70    usa              amc rebel sst  \n4          70    usa                ford torino  ",
      "text/html": "<div>\n<style scoped>\n    .dataframe tbody tr th:only-of-type {\n        vertical-align: middle;\n    }\n\n    .dataframe tbody tr th {\n        vertical-align: top;\n    }\n\n    .dataframe thead th {\n        text-align: right;\n    }\n</style>\n<table border=\"1\" class=\"dataframe\">\n  <thead>\n    <tr style=\"text-align: right;\">\n      <th></th>\n      <th>mpg</th>\n      <th>cylinders</th>\n      <th>displacement</th>\n      <th>horsepower</th>\n      <th>weight</th>\n      <th>acceleration</th>\n      <th>model_year</th>\n      <th>origin</th>\n      <th>name</th>\n    </tr>\n  </thead>\n  <tbody>\n    <tr>\n      <th>0</th>\n      <td>18.0</td>\n      <td>8</td>\n      <td>307.0</td>\n      <td>130.0</td>\n      <td>3504</td>\n      <td>12.0</td>\n      <td>70</td>\n      <td>usa</td>\n      <td>chevrolet chevelle malibu</td>\n    </tr>\n    <tr>\n      <th>1</th>\n      <td>15.0</td>\n      <td>8</td>\n      <td>350.0</td>\n      <td>165.0</td>\n      <td>3693</td>\n      <td>11.5</td>\n      <td>70</td>\n      <td>usa</td>\n      <td>buick skylark 320</td>\n    </tr>\n    <tr>\n      <th>2</th>\n      <td>18.0</td>\n      <td>8</td>\n      <td>318.0</td>\n      <td>150.0</td>\n      <td>3436</td>\n      <td>11.0</td>\n      <td>70</td>\n      <td>usa</td>\n      <td>plymouth satellite</td>\n    </tr>\n    <tr>\n      <th>3</th>\n      <td>16.0</td>\n      <td>8</td>\n      <td>304.0</td>\n      <td>150.0</td>\n      <td>3433</td>\n      <td>12.0</td>\n      <td>70</td>\n      <td>usa</td>\n      <td>amc rebel sst</td>\n    </tr>\n    <tr>\n      <th>4</th>\n      <td>17.0</td>\n      <td>8</td>\n      <td>302.0</td>\n      <td>140.0</td>\n      <td>3449</td>\n      <td>10.5</td>\n      <td>70</td>\n      <td>usa</td>\n      <td>ford torino</td>\n    </tr>\n  </tbody>\n</table>\n</div>"
     },
     "execution_count": 3,
     "metadata": {},
     "output_type": "execute_result"
    }
   ],
   "source": [
    "# run the cell!\n",
    "cars.head()"
   ]
  },
  {
   "cell_type": "markdown",
   "metadata": {},
   "source": [
    "50. __Create a subset__ of the DataFrame __cars__ with all cars having an __mpg higher than 40__! __Save__ the subset in the variable __high_eff__!<br>\n",
    "__high_eff__ should be a new and __independent__ DataFrame. Any changes in high_eff shall __not influence__ the original DataFrame __cars__!\n"
   ]
  },
  {
   "cell_type": "code",
   "execution_count": 5,
   "metadata": {
    "ExecuteTime": {
     "end_time": "2024-02-28T20:45:48.520045300Z",
     "start_time": "2024-02-28T20:45:48.492641600Z"
    }
   },
   "outputs": [
    {
     "data": {
      "text/plain": "      mpg  cylinders  displacement  horsepower  weight  acceleration  \\\n244  43.1          4          90.0        48.0    1985          21.5   \n309  41.5          4          98.0        76.0    2144          14.7   \n322  46.6          4          86.0        65.0    2110          17.9   \n324  40.8          4          85.0        65.0    2110          19.2   \n325  44.3          4          90.0        48.0    2085          21.7   \n326  43.4          4          90.0        48.0    2335          23.7   \n329  44.6          4          91.0        67.0    1850          13.8   \n330  40.9          4          85.0         NaN    1835          17.3   \n394  44.0          4          97.0        52.0    2130          24.6   \n\n     model_year  origin                     name  \n244          78  europe  vw rabbit custom diesel  \n309          80  europe                vw rabbit  \n322          80   japan                mazda glc  \n324          80   japan               datsun 210  \n325          80  europe     vw rabbit c (diesel)  \n326          80  europe       vw dasher (diesel)  \n329          80   japan      honda civic 1500 gl  \n330          80  europe     renault lecar deluxe  \n394          82  europe                vw pickup  ",
      "text/html": "<div>\n<style scoped>\n    .dataframe tbody tr th:only-of-type {\n        vertical-align: middle;\n    }\n\n    .dataframe tbody tr th {\n        vertical-align: top;\n    }\n\n    .dataframe thead th {\n        text-align: right;\n    }\n</style>\n<table border=\"1\" class=\"dataframe\">\n  <thead>\n    <tr style=\"text-align: right;\">\n      <th></th>\n      <th>mpg</th>\n      <th>cylinders</th>\n      <th>displacement</th>\n      <th>horsepower</th>\n      <th>weight</th>\n      <th>acceleration</th>\n      <th>model_year</th>\n      <th>origin</th>\n      <th>name</th>\n    </tr>\n  </thead>\n  <tbody>\n    <tr>\n      <th>244</th>\n      <td>43.1</td>\n      <td>4</td>\n      <td>90.0</td>\n      <td>48.0</td>\n      <td>1985</td>\n      <td>21.5</td>\n      <td>78</td>\n      <td>europe</td>\n      <td>vw rabbit custom diesel</td>\n    </tr>\n    <tr>\n      <th>309</th>\n      <td>41.5</td>\n      <td>4</td>\n      <td>98.0</td>\n      <td>76.0</td>\n      <td>2144</td>\n      <td>14.7</td>\n      <td>80</td>\n      <td>europe</td>\n      <td>vw rabbit</td>\n    </tr>\n    <tr>\n      <th>322</th>\n      <td>46.6</td>\n      <td>4</td>\n      <td>86.0</td>\n      <td>65.0</td>\n      <td>2110</td>\n      <td>17.9</td>\n      <td>80</td>\n      <td>japan</td>\n      <td>mazda glc</td>\n    </tr>\n    <tr>\n      <th>324</th>\n      <td>40.8</td>\n      <td>4</td>\n      <td>85.0</td>\n      <td>65.0</td>\n      <td>2110</td>\n      <td>19.2</td>\n      <td>80</td>\n      <td>japan</td>\n      <td>datsun 210</td>\n    </tr>\n    <tr>\n      <th>325</th>\n      <td>44.3</td>\n      <td>4</td>\n      <td>90.0</td>\n      <td>48.0</td>\n      <td>2085</td>\n      <td>21.7</td>\n      <td>80</td>\n      <td>europe</td>\n      <td>vw rabbit c (diesel)</td>\n    </tr>\n    <tr>\n      <th>326</th>\n      <td>43.4</td>\n      <td>4</td>\n      <td>90.0</td>\n      <td>48.0</td>\n      <td>2335</td>\n      <td>23.7</td>\n      <td>80</td>\n      <td>europe</td>\n      <td>vw dasher (diesel)</td>\n    </tr>\n    <tr>\n      <th>329</th>\n      <td>44.6</td>\n      <td>4</td>\n      <td>91.0</td>\n      <td>67.0</td>\n      <td>1850</td>\n      <td>13.8</td>\n      <td>80</td>\n      <td>japan</td>\n      <td>honda civic 1500 gl</td>\n    </tr>\n    <tr>\n      <th>330</th>\n      <td>40.9</td>\n      <td>4</td>\n      <td>85.0</td>\n      <td>NaN</td>\n      <td>1835</td>\n      <td>17.3</td>\n      <td>80</td>\n      <td>europe</td>\n      <td>renault lecar deluxe</td>\n    </tr>\n    <tr>\n      <th>394</th>\n      <td>44.0</td>\n      <td>4</td>\n      <td>97.0</td>\n      <td>52.0</td>\n      <td>2130</td>\n      <td>24.6</td>\n      <td>82</td>\n      <td>europe</td>\n      <td>vw pickup</td>\n    </tr>\n  </tbody>\n</table>\n</div>"
     },
     "execution_count": 5,
     "metadata": {},
     "output_type": "execute_result"
    }
   ],
   "source": [
    "high_eff = cars.loc[cars.mpg > 40].copy()\n",
    "high_eff"
   ]
  },
  {
   "cell_type": "markdown",
   "metadata": {},
   "source": [
    "51. __Cap__ the __mpg__ for all cars in __high_eff__ to __40__ (Overwrite the mpg values)! Your code should not cause any warning message!"
   ]
  },
  {
   "cell_type": "code",
   "execution_count": 7,
   "metadata": {
    "ExecuteTime": {
     "end_time": "2024-02-28T20:49:08.143268700Z",
     "start_time": "2024-02-28T20:49:08.124079200Z"
    }
   },
   "outputs": [],
   "source": [
    "high_eff.mpg = 40"
   ]
  },
  {
   "cell_type": "markdown",
   "metadata": {},
   "source": [
    "__Inspect__ high_eff! In the column __\"mpg\"__, all values should be __40__!"
   ]
  },
  {
   "cell_type": "code",
   "execution_count": 8,
   "metadata": {
    "ExecuteTime": {
     "end_time": "2024-02-28T20:49:13.229523600Z",
     "start_time": "2024-02-28T20:49:13.206820100Z"
    }
   },
   "outputs": [
    {
     "data": {
      "text/plain": "     mpg  cylinders  displacement  horsepower  weight  acceleration  \\\n244   40          4          90.0        48.0    1985          21.5   \n309   40          4          98.0        76.0    2144          14.7   \n322   40          4          86.0        65.0    2110          17.9   \n324   40          4          85.0        65.0    2110          19.2   \n325   40          4          90.0        48.0    2085          21.7   \n326   40          4          90.0        48.0    2335          23.7   \n329   40          4          91.0        67.0    1850          13.8   \n330   40          4          85.0         NaN    1835          17.3   \n394   40          4          97.0        52.0    2130          24.6   \n\n     model_year  origin                     name  \n244          78  europe  vw rabbit custom diesel  \n309          80  europe                vw rabbit  \n322          80   japan                mazda glc  \n324          80   japan               datsun 210  \n325          80  europe     vw rabbit c (diesel)  \n326          80  europe       vw dasher (diesel)  \n329          80   japan      honda civic 1500 gl  \n330          80  europe     renault lecar deluxe  \n394          82  europe                vw pickup  ",
      "text/html": "<div>\n<style scoped>\n    .dataframe tbody tr th:only-of-type {\n        vertical-align: middle;\n    }\n\n    .dataframe tbody tr th {\n        vertical-align: top;\n    }\n\n    .dataframe thead th {\n        text-align: right;\n    }\n</style>\n<table border=\"1\" class=\"dataframe\">\n  <thead>\n    <tr style=\"text-align: right;\">\n      <th></th>\n      <th>mpg</th>\n      <th>cylinders</th>\n      <th>displacement</th>\n      <th>horsepower</th>\n      <th>weight</th>\n      <th>acceleration</th>\n      <th>model_year</th>\n      <th>origin</th>\n      <th>name</th>\n    </tr>\n  </thead>\n  <tbody>\n    <tr>\n      <th>244</th>\n      <td>40</td>\n      <td>4</td>\n      <td>90.0</td>\n      <td>48.0</td>\n      <td>1985</td>\n      <td>21.5</td>\n      <td>78</td>\n      <td>europe</td>\n      <td>vw rabbit custom diesel</td>\n    </tr>\n    <tr>\n      <th>309</th>\n      <td>40</td>\n      <td>4</td>\n      <td>98.0</td>\n      <td>76.0</td>\n      <td>2144</td>\n      <td>14.7</td>\n      <td>80</td>\n      <td>europe</td>\n      <td>vw rabbit</td>\n    </tr>\n    <tr>\n      <th>322</th>\n      <td>40</td>\n      <td>4</td>\n      <td>86.0</td>\n      <td>65.0</td>\n      <td>2110</td>\n      <td>17.9</td>\n      <td>80</td>\n      <td>japan</td>\n      <td>mazda glc</td>\n    </tr>\n    <tr>\n      <th>324</th>\n      <td>40</td>\n      <td>4</td>\n      <td>85.0</td>\n      <td>65.0</td>\n      <td>2110</td>\n      <td>19.2</td>\n      <td>80</td>\n      <td>japan</td>\n      <td>datsun 210</td>\n    </tr>\n    <tr>\n      <th>325</th>\n      <td>40</td>\n      <td>4</td>\n      <td>90.0</td>\n      <td>48.0</td>\n      <td>2085</td>\n      <td>21.7</td>\n      <td>80</td>\n      <td>europe</td>\n      <td>vw rabbit c (diesel)</td>\n    </tr>\n    <tr>\n      <th>326</th>\n      <td>40</td>\n      <td>4</td>\n      <td>90.0</td>\n      <td>48.0</td>\n      <td>2335</td>\n      <td>23.7</td>\n      <td>80</td>\n      <td>europe</td>\n      <td>vw dasher (diesel)</td>\n    </tr>\n    <tr>\n      <th>329</th>\n      <td>40</td>\n      <td>4</td>\n      <td>91.0</td>\n      <td>67.0</td>\n      <td>1850</td>\n      <td>13.8</td>\n      <td>80</td>\n      <td>japan</td>\n      <td>honda civic 1500 gl</td>\n    </tr>\n    <tr>\n      <th>330</th>\n      <td>40</td>\n      <td>4</td>\n      <td>85.0</td>\n      <td>NaN</td>\n      <td>1835</td>\n      <td>17.3</td>\n      <td>80</td>\n      <td>europe</td>\n      <td>renault lecar deluxe</td>\n    </tr>\n    <tr>\n      <th>394</th>\n      <td>40</td>\n      <td>4</td>\n      <td>97.0</td>\n      <td>52.0</td>\n      <td>2130</td>\n      <td>24.6</td>\n      <td>82</td>\n      <td>europe</td>\n      <td>vw pickup</td>\n    </tr>\n  </tbody>\n</table>\n</div>"
     },
     "execution_count": 8,
     "metadata": {},
     "output_type": "execute_result"
    }
   ],
   "source": [
    "# run the cell!\n",
    "high_eff"
   ]
  },
  {
   "cell_type": "markdown",
   "metadata": {},
   "source": [
    "__Check__ in the original __cars__ Dataframe, whether there are still __values greater than 40__ in the __\"mpg\"__ column! <br>\n",
    "If so, your code is correct!"
   ]
  },
  {
   "cell_type": "code",
   "execution_count": 9,
   "metadata": {
    "scrolled": true,
    "ExecuteTime": {
     "end_time": "2024-02-28T20:50:12.489409Z",
     "start_time": "2024-02-28T20:50:12.474063800Z"
    }
   },
   "outputs": [
    {
     "data": {
      "text/plain": "46.6"
     },
     "execution_count": 9,
     "metadata": {},
     "output_type": "execute_result"
    }
   ],
   "source": [
    "# run the cell!\n",
    "cars.mpg.max()"
   ]
  },
  {
   "cell_type": "markdown",
   "metadata": {},
   "source": [
    "52. Now, we want to __manipulate the original__ DataFrame __cars__. __Cap__ all mpg values __greater than 40__ to 40! Your code should not cause any warning message!"
   ]
  },
  {
   "cell_type": "code",
   "execution_count": 16,
   "metadata": {
    "ExecuteTime": {
     "end_time": "2024-02-28T20:56:32.072548800Z",
     "start_time": "2024-02-28T20:56:32.027551800Z"
    }
   },
   "outputs": [
    {
     "data": {
      "text/plain": "   mpg  cylinders  displacement  horsepower  weight  acceleration  model_year  \\\n0   40          8         307.0       130.0    3504          12.0          70   \n1   40          8         350.0       165.0    3693          11.5          70   \n2   40          8         318.0       150.0    3436          11.0          70   \n3   40          8         304.0       150.0    3433          12.0          70   \n4   40          8         302.0       140.0    3449          10.5          70   \n\n  origin                       name  18.0  ...  30.7  24.2  22.4  34.0  34.0  \\\n0    usa  chevrolet chevelle malibu    40  ...    40    40    40    40    40   \n1    usa          buick skylark 320    40  ...    40    40    40    40    40   \n2    usa         plymouth satellite    40  ...    40    40    40    40    40   \n3    usa              amc rebel sst    40  ...    40    40    40    40    40   \n4    usa                ford torino    40  ...    40    40    40    40    40   \n\n   38.0  38.0  38.0  38.0  44.0  \n0    40    40    40    40    40  \n1    40    40    40    40    40  \n2    40    40    40    40    40  \n3    40    40    40    40    40  \n4    40    40    40    40    40  \n\n[5 rows x 407 columns]",
      "text/html": "<div>\n<style scoped>\n    .dataframe tbody tr th:only-of-type {\n        vertical-align: middle;\n    }\n\n    .dataframe tbody tr th {\n        vertical-align: top;\n    }\n\n    .dataframe thead th {\n        text-align: right;\n    }\n</style>\n<table border=\"1\" class=\"dataframe\">\n  <thead>\n    <tr style=\"text-align: right;\">\n      <th></th>\n      <th>mpg</th>\n      <th>cylinders</th>\n      <th>displacement</th>\n      <th>horsepower</th>\n      <th>weight</th>\n      <th>acceleration</th>\n      <th>model_year</th>\n      <th>origin</th>\n      <th>name</th>\n      <th>18.0</th>\n      <th>...</th>\n      <th>30.7</th>\n      <th>24.2</th>\n      <th>22.4</th>\n      <th>34.0</th>\n      <th>34.0</th>\n      <th>38.0</th>\n      <th>38.0</th>\n      <th>38.0</th>\n      <th>38.0</th>\n      <th>44.0</th>\n    </tr>\n  </thead>\n  <tbody>\n    <tr>\n      <th>0</th>\n      <td>40</td>\n      <td>8</td>\n      <td>307.0</td>\n      <td>130.0</td>\n      <td>3504</td>\n      <td>12.0</td>\n      <td>70</td>\n      <td>usa</td>\n      <td>chevrolet chevelle malibu</td>\n      <td>40</td>\n      <td>...</td>\n      <td>40</td>\n      <td>40</td>\n      <td>40</td>\n      <td>40</td>\n      <td>40</td>\n      <td>40</td>\n      <td>40</td>\n      <td>40</td>\n      <td>40</td>\n      <td>40</td>\n    </tr>\n    <tr>\n      <th>1</th>\n      <td>40</td>\n      <td>8</td>\n      <td>350.0</td>\n      <td>165.0</td>\n      <td>3693</td>\n      <td>11.5</td>\n      <td>70</td>\n      <td>usa</td>\n      <td>buick skylark 320</td>\n      <td>40</td>\n      <td>...</td>\n      <td>40</td>\n      <td>40</td>\n      <td>40</td>\n      <td>40</td>\n      <td>40</td>\n      <td>40</td>\n      <td>40</td>\n      <td>40</td>\n      <td>40</td>\n      <td>40</td>\n    </tr>\n    <tr>\n      <th>2</th>\n      <td>40</td>\n      <td>8</td>\n      <td>318.0</td>\n      <td>150.0</td>\n      <td>3436</td>\n      <td>11.0</td>\n      <td>70</td>\n      <td>usa</td>\n      <td>plymouth satellite</td>\n      <td>40</td>\n      <td>...</td>\n      <td>40</td>\n      <td>40</td>\n      <td>40</td>\n      <td>40</td>\n      <td>40</td>\n      <td>40</td>\n      <td>40</td>\n      <td>40</td>\n      <td>40</td>\n      <td>40</td>\n    </tr>\n    <tr>\n      <th>3</th>\n      <td>40</td>\n      <td>8</td>\n      <td>304.0</td>\n      <td>150.0</td>\n      <td>3433</td>\n      <td>12.0</td>\n      <td>70</td>\n      <td>usa</td>\n      <td>amc rebel sst</td>\n      <td>40</td>\n      <td>...</td>\n      <td>40</td>\n      <td>40</td>\n      <td>40</td>\n      <td>40</td>\n      <td>40</td>\n      <td>40</td>\n      <td>40</td>\n      <td>40</td>\n      <td>40</td>\n      <td>40</td>\n    </tr>\n    <tr>\n      <th>4</th>\n      <td>40</td>\n      <td>8</td>\n      <td>302.0</td>\n      <td>140.0</td>\n      <td>3449</td>\n      <td>10.5</td>\n      <td>70</td>\n      <td>usa</td>\n      <td>ford torino</td>\n      <td>40</td>\n      <td>...</td>\n      <td>40</td>\n      <td>40</td>\n      <td>40</td>\n      <td>40</td>\n      <td>40</td>\n      <td>40</td>\n      <td>40</td>\n      <td>40</td>\n      <td>40</td>\n      <td>40</td>\n    </tr>\n  </tbody>\n</table>\n<p>5 rows × 407 columns</p>\n</div>"
     },
     "execution_count": 16,
     "metadata": {},
     "output_type": "execute_result"
    }
   ],
   "source": [
    "cars.loc[cars.mpg > 40, \"mpg\"] = 40\n",
    "cars.head()"
   ]
  },
  {
   "cell_type": "markdown",
   "metadata": {},
   "source": [
    "__Check__, whether there are any values __greater than 40__ in the __\"mpg\"__ column of the __cars__ DataFrame. If so, your code was incorrect!"
   ]
  },
  {
   "cell_type": "code",
   "execution_count": 15,
   "metadata": {
    "scrolled": true,
    "ExecuteTime": {
     "end_time": "2024-02-28T20:56:21.763198Z",
     "start_time": "2024-02-28T20:56:21.745710500Z"
    }
   },
   "outputs": [
    {
     "data": {
      "text/plain": "40"
     },
     "execution_count": 15,
     "metadata": {},
     "output_type": "execute_result"
    }
   ],
   "source": [
    "# run the cell!\n",
    "cars.mpg.max()"
   ]
  },
  {
   "cell_type": "markdown",
   "metadata": {},
   "source": [
    "# Well Done!"
   ]
  },
  {
   "cell_type": "markdown",
   "metadata": {},
   "source": [
    "-------------------------"
   ]
  },
  {
   "cell_type": "markdown",
   "metadata": {},
   "source": [
    "# Hints (Spoiler!)"
   ]
  },
  {
   "cell_type": "markdown",
   "metadata": {},
   "source": [
    "50. cars.loc[ --- ].copy()"
   ]
  },
  {
   "cell_type": "markdown",
   "metadata": {},
   "source": [
    "51. --- = 40"
   ]
  },
  {
   "cell_type": "markdown",
   "metadata": {},
   "source": [
    "52. no chained indexing, no copy() method"
   ]
  },
  {
   "cell_type": "code",
   "execution_count": null,
   "metadata": {},
   "outputs": [],
   "source": []
  }
 ],
 "metadata": {
  "kernelspec": {
   "display_name": "Python 3",
   "language": "python",
   "name": "python3"
  },
  "language_info": {
   "codemirror_mode": {
    "name": "ipython",
    "version": 3
   },
   "file_extension": ".py",
   "mimetype": "text/x-python",
   "name": "python",
   "nbconvert_exporter": "python",
   "pygments_lexer": "ipython3",
   "version": "3.7.6"
  }
 },
 "nbformat": 4,
 "nbformat_minor": 2
}
